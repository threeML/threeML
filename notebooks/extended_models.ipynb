{
 "cells": [
  {
   "cell_type": "markdown",
   "id": "1abf8016",
   "metadata": {},
   "source": [
    "## Extended models\n",
    "\n",
    "Coming soon! But checkout the existing [documentation](http://astromodels.readthedocs.io/en/latest/Extended_sources_tutorial.html) in astromodels."
   ]
  },
  {
   "cell_type": "code",
   "execution_count": null,
   "id": "70ae8ad6",
   "metadata": {},
   "outputs": [],
   "source": []
  }
 ],
 "metadata": {
  "jupytext": {
   "formats": "ipynb,md"
  },
  "kernelspec": {
   "display_name": "Python 3",
   "language": "python",
   "name": "python3"
  },
  "language_info": {
   "codemirror_mode": {
    "name": "ipython",
    "version": 3
   },
   "file_extension": ".py",
   "mimetype": "text/x-python",
   "name": "python",
   "nbconvert_exporter": "python",
   "pygments_lexer": "ipython3",
   "version": "3.9.21"
  }
 },
 "nbformat": 4,
 "nbformat_minor": 5
}
