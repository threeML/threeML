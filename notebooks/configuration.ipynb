{
 "cells": [
  {
   "cell_type": "markdown",
   "id": "11b3cee5",
   "metadata": {},
   "source": [
    "# Configuration\n",
    "\n",
    "The 3ML configuration sets up defaults that are read in at runtime and is a session wide state that the user can modify at any point during an analysis to alter behavior throughout 3ML.\n",
    "\n",
    "The configuration is a hierarchical you can import and modify.\n"
   ]
  },
  {
   "cell_type": "code",
   "execution_count": 1,
   "id": "11969828",
   "metadata": {
    "execution": {
     "iopub.execute_input": "2024-06-07T06:26:14.643244Z",
     "iopub.status.busy": "2024-06-07T06:26:14.643056Z",
     "iopub.status.idle": "2024-06-07T06:26:14.701321Z",
     "shell.execute_reply": "2024-06-07T06:26:14.700711Z"
    },
    "lines_to_next_cell": 2
   },
   "outputs": [
    {
     "data": {
      "text/plain": [
       "{'divide': 'warn', 'over': 'warn', 'under': 'ignore', 'invalid': 'warn'}"
      ]
     },
     "execution_count": 1,
     "metadata": {},
     "output_type": "execute_result"
    }
   ],
   "source": [
    "import warnings\n",
    "\n",
    "warnings.simplefilter(\"ignore\")\n",
    "import numpy as np\n",
    "\n",
    "np.seterr(all=\"ignore\")"
   ]
  },
  {
   "cell_type": "code",
   "execution_count": 2,
   "id": "f9716627",
   "metadata": {
    "execution": {
     "iopub.execute_input": "2024-06-07T06:26:14.703830Z",
     "iopub.status.busy": "2024-06-07T06:26:14.703440Z",
     "iopub.status.idle": "2024-06-07T06:26:17.700063Z",
     "shell.execute_reply": "2024-06-07T06:26:17.699343Z"
    }
   },
   "outputs": [],
   "source": [
    "%%capture\n",
    "from threeML import threeML_config, show_configuration\n",
    "\n",
    "show_configuration()"
   ]
  },
  {
   "cell_type": "markdown",
   "id": "8b49c7bf",
   "metadata": {},
   "source": [
    "## Local configuration"
   ]
  },
  {
   "cell_type": "markdown",
   "id": "5aa078ad",
   "metadata": {},
   "source": [
    "You can store a local configuration read in at the beginning of every session. By default, 3ML looking in ``` ~/.config/threeml/*.yml``` for configuration files.\n",
    "\n",
    "* You can set your own location with the environment variable ```THREEML_CONFIG```\n",
    "* All YAML files in this directiory are considered to be configuration files.\n",
    "\n",
    "Multiple configuration files can be added allowing you to have readable seperation between different topics.\n",
    "\n",
    "E.g, here are two configuration files that modify some plotting defaults and logging defaults in separate files.\n",
    "\n",
    "```~/.config/threeml/plotting.yml```\n",
    "```yaml\n",
    "plugins:\n",
    "  ogip:\n",
    "    fit_plot:\n",
    "      model_cmap: Spectral\n",
    "      data_color: grey\n",
    "      background_color: k\n",
    "      background_mpl_kwargs:\n",
    "        lw: .8\n",
    "        ls: \"-\"\n",
    "\n",
    "\n",
    "```\n",
    "\n",
    "```~/.config/threeml/logging.yml```\n",
    "```yaml\n",
    "logging:\n",
    "  developer: on\n",
    "  startup_warnings: off\n",
    "```"
   ]
  },
  {
   "cell_type": "code",
   "execution_count": 3,
   "id": "f59f4cc7",
   "metadata": {
    "execution": {
     "iopub.execute_input": "2024-06-07T06:26:17.702994Z",
     "iopub.status.busy": "2024-06-07T06:26:17.702657Z",
     "iopub.status.idle": "2024-06-07T06:26:17.716861Z",
     "shell.execute_reply": "2024-06-07T06:26:17.716251Z"
    }
   },
   "outputs": [
    {
     "data": {
      "text/html": [
       "<pre style=\"white-space:pre;overflow-x:auto;line-height:normal;font-family:Menlo,'DejaVu Sans Mono',consolas,'Courier New',monospace\"><span style=\"color: #af5fd7; text-decoration-color: #af5fd7; font-weight: bold\">config</span>\n",
       "<span style=\"color: #af5fd7; text-decoration-color: #af5fd7\">┣━━ </span><span style=\"color: #af5fd7; text-decoration-color: #af5fd7; font-weight: bold\">ogip</span>\n",
       "<span style=\"color: #af5fd7; text-decoration-color: #af5fd7\">┃   ┣━━ </span><span style=\"color: #af5fd7; text-decoration-color: #af5fd7; font-weight: bold\">fit_plot</span>\n",
       "<span style=\"color: #af5fd7; text-decoration-color: #af5fd7\">┃   ┃   ┣━━ </span><span style=\"color: #00ffaf; text-decoration-color: #00ffaf; font-weight: bold\">data_cmap: </span><span style=\"color: #5f87ff; text-decoration-color: #5f87ff; font-weight: bold\">MPLCmap.Set1</span>\n",
       "<span style=\"color: #af5fd7; text-decoration-color: #af5fd7\">┃   ┃   ┣━━ </span><span style=\"color: #00ffaf; text-decoration-color: #00ffaf; font-weight: bold\">model_cmap: </span><span style=\"color: #5f87ff; text-decoration-color: #5f87ff; font-weight: bold\">MPLCmap.Set1</span>\n",
       "<span style=\"color: #af5fd7; text-decoration-color: #af5fd7\">┃   ┃   ┣━━ </span><span style=\"color: #00ffaf; text-decoration-color: #00ffaf; font-weight: bold\">background_cmap: </span><span style=\"color: #5f87ff; text-decoration-color: #5f87ff; font-weight: bold\">MPLCmap.Set1</span>\n",
       "<span style=\"color: #af5fd7; text-decoration-color: #af5fd7\">┃   ┃   ┣━━ </span><span style=\"color: #00ffaf; text-decoration-color: #00ffaf; font-weight: bold\">n_colors: </span><span style=\"color: #5f87ff; text-decoration-color: #5f87ff; font-weight: bold\">5</span>\n",
       "<span style=\"color: #af5fd7; text-decoration-color: #af5fd7\">┃   ┃   ┣━━ </span><span style=\"color: #00ffaf; text-decoration-color: #00ffaf; font-weight: bold\">step: </span><span style=\"color: #5f87ff; text-decoration-color: #5f87ff; font-weight: bold\">False</span>\n",
       "<span style=\"color: #af5fd7; text-decoration-color: #af5fd7\">┃   ┃   ┣━━ </span><span style=\"color: #00ffaf; text-decoration-color: #00ffaf; font-weight: bold\">show_legend: </span><span style=\"color: #5f87ff; text-decoration-color: #5f87ff; font-weight: bold\">True</span>\n",
       "<span style=\"color: #af5fd7; text-decoration-color: #af5fd7\">┃   ┃   ┣━━ </span><span style=\"color: #00ffaf; text-decoration-color: #00ffaf; font-weight: bold\">show_residuals: </span><span style=\"color: #5f87ff; text-decoration-color: #5f87ff; font-weight: bold\">True</span>\n",
       "<span style=\"color: #af5fd7; text-decoration-color: #af5fd7\">┃   ┃   ┣━━ </span><span style=\"color: #00ffaf; text-decoration-color: #00ffaf; font-weight: bold\">data_color: </span><span style=\"color: #5f87ff; text-decoration-color: #5f87ff; font-weight: bold\">None</span>\n",
       "<span style=\"color: #af5fd7; text-decoration-color: #af5fd7\">┃   ┃   ┣━━ </span><span style=\"color: #00ffaf; text-decoration-color: #00ffaf; font-weight: bold\">model_color: </span><span style=\"color: #5f87ff; text-decoration-color: #5f87ff; font-weight: bold\">None</span>\n",
       "<span style=\"color: #af5fd7; text-decoration-color: #af5fd7\">┃   ┃   ┣━━ </span><span style=\"color: #00ffaf; text-decoration-color: #00ffaf; font-weight: bold\">background_color: </span><span style=\"color: #5f87ff; text-decoration-color: #5f87ff; font-weight: bold\">None</span>\n",
       "<span style=\"color: #af5fd7; text-decoration-color: #af5fd7\">┃   ┃   ┣━━ </span><span style=\"color: #00ffaf; text-decoration-color: #00ffaf; font-weight: bold\">show_background: </span><span style=\"color: #5f87ff; text-decoration-color: #5f87ff; font-weight: bold\">False</span>\n",
       "<span style=\"color: #af5fd7; text-decoration-color: #af5fd7\">┃   ┃   ┣━━ </span><span style=\"color: #00ffaf; text-decoration-color: #00ffaf; font-weight: bold\">data_mpl_kwargs: </span><span style=\"color: #5f87ff; text-decoration-color: #5f87ff; font-weight: bold\">None</span>\n",
       "<span style=\"color: #af5fd7; text-decoration-color: #af5fd7\">┃   ┃   ┣━━ </span><span style=\"color: #00ffaf; text-decoration-color: #00ffaf; font-weight: bold\">model_mpl_kwargs: </span><span style=\"color: #5f87ff; text-decoration-color: #5f87ff; font-weight: bold\">None</span>\n",
       "<span style=\"color: #af5fd7; text-decoration-color: #af5fd7\">┃   ┃   ┗━━ </span><span style=\"color: #00ffaf; text-decoration-color: #00ffaf; font-weight: bold\">background_mpl_kwargs: </span><span style=\"color: #5f87ff; text-decoration-color: #5f87ff; font-weight: bold\">None</span>\n",
       "<span style=\"color: #af5fd7; text-decoration-color: #af5fd7\">┃   ┣━━ </span><span style=\"color: #af5fd7; text-decoration-color: #af5fd7; font-weight: bold\">data_plot</span>\n",
       "<span style=\"color: #af5fd7; text-decoration-color: #af5fd7\">┃   ┃   ┣━━ </span><span style=\"color: #00ffaf; text-decoration-color: #00ffaf; font-weight: bold\">counts_color: </span><span style=\"color: #5f87ff; text-decoration-color: #5f87ff; font-weight: bold\">#500472</span>\n",
       "<span style=\"color: #af5fd7; text-decoration-color: #af5fd7\">┃   ┃   ┣━━ </span><span style=\"color: #00ffaf; text-decoration-color: #00ffaf; font-weight: bold\">background_color: </span><span style=\"color: #5f87ff; text-decoration-color: #5f87ff; font-weight: bold\">#79cbb8</span>\n",
       "<span style=\"color: #af5fd7; text-decoration-color: #af5fd7\">┃   ┃   ┣━━ </span><span style=\"color: #00ffaf; text-decoration-color: #00ffaf; font-weight: bold\">warn_channels_color: </span><span style=\"color: #5f87ff; text-decoration-color: #5f87ff; font-weight: bold\">#C79BFE</span>\n",
       "<span style=\"color: #af5fd7; text-decoration-color: #af5fd7\">┃   ┃   ┣━━ </span><span style=\"color: #00ffaf; text-decoration-color: #00ffaf; font-weight: bold\">bad_channels_color: </span><span style=\"color: #5f87ff; text-decoration-color: #5f87ff; font-weight: bold\">#FE3131</span>\n",
       "<span style=\"color: #af5fd7; text-decoration-color: #af5fd7\">┃   ┃   ┗━━ </span><span style=\"color: #00ffaf; text-decoration-color: #00ffaf; font-weight: bold\">masked_channels_color: </span><span style=\"color: #5f87ff; text-decoration-color: #5f87ff; font-weight: bold\">#566573</span>\n",
       "<span style=\"color: #af5fd7; text-decoration-color: #af5fd7\">┃   ┣━━ </span><span style=\"color: #00ffaf; text-decoration-color: #00ffaf; font-weight: bold\">response_cmap: </span><span style=\"color: #5f87ff; text-decoration-color: #5f87ff; font-weight: bold\">MPLCmap.viridis</span>\n",
       "<span style=\"color: #af5fd7; text-decoration-color: #af5fd7\">┃   ┗━━ </span><span style=\"color: #00ffaf; text-decoration-color: #00ffaf; font-weight: bold\">response_zero_color: </span><span style=\"color: #5f87ff; text-decoration-color: #5f87ff; font-weight: bold\">k</span>\n",
       "<span style=\"color: #af5fd7; text-decoration-color: #af5fd7\">┣━━ </span><span style=\"color: #af5fd7; text-decoration-color: #af5fd7; font-weight: bold\">photo</span>\n",
       "<span style=\"color: #af5fd7; text-decoration-color: #af5fd7\">┃   ┗━━ </span><span style=\"color: #af5fd7; text-decoration-color: #af5fd7; font-weight: bold\">fit_plot</span>\n",
       "<span style=\"color: #af5fd7; text-decoration-color: #af5fd7\">┃       ┣━━ </span><span style=\"color: #00ffaf; text-decoration-color: #00ffaf; font-weight: bold\">data_cmap: </span><span style=\"color: #5f87ff; text-decoration-color: #5f87ff; font-weight: bold\">MPLCmap.Set1</span>\n",
       "<span style=\"color: #af5fd7; text-decoration-color: #af5fd7\">┃       ┣━━ </span><span style=\"color: #00ffaf; text-decoration-color: #00ffaf; font-weight: bold\">model_cmap: </span><span style=\"color: #5f87ff; text-decoration-color: #5f87ff; font-weight: bold\">MPLCmap.Set1</span>\n",
       "<span style=\"color: #af5fd7; text-decoration-color: #af5fd7\">┃       ┣━━ </span><span style=\"color: #00ffaf; text-decoration-color: #00ffaf; font-weight: bold\">background_cmap: </span><span style=\"color: #5f87ff; text-decoration-color: #5f87ff; font-weight: bold\">MPLCmap.Set1</span>\n",
       "<span style=\"color: #af5fd7; text-decoration-color: #af5fd7\">┃       ┣━━ </span><span style=\"color: #00ffaf; text-decoration-color: #00ffaf; font-weight: bold\">n_colors: </span><span style=\"color: #5f87ff; text-decoration-color: #5f87ff; font-weight: bold\">5</span>\n",
       "<span style=\"color: #af5fd7; text-decoration-color: #af5fd7\">┃       ┣━━ </span><span style=\"color: #00ffaf; text-decoration-color: #00ffaf; font-weight: bold\">step: </span><span style=\"color: #5f87ff; text-decoration-color: #5f87ff; font-weight: bold\">False</span>\n",
       "<span style=\"color: #af5fd7; text-decoration-color: #af5fd7\">┃       ┣━━ </span><span style=\"color: #00ffaf; text-decoration-color: #00ffaf; font-weight: bold\">show_legend: </span><span style=\"color: #5f87ff; text-decoration-color: #5f87ff; font-weight: bold\">True</span>\n",
       "<span style=\"color: #af5fd7; text-decoration-color: #af5fd7\">┃       ┣━━ </span><span style=\"color: #00ffaf; text-decoration-color: #00ffaf; font-weight: bold\">show_residuals: </span><span style=\"color: #5f87ff; text-decoration-color: #5f87ff; font-weight: bold\">True</span>\n",
       "<span style=\"color: #af5fd7; text-decoration-color: #af5fd7\">┃       ┣━━ </span><span style=\"color: #00ffaf; text-decoration-color: #00ffaf; font-weight: bold\">data_color: </span><span style=\"color: #5f87ff; text-decoration-color: #5f87ff; font-weight: bold\">None</span>\n",
       "<span style=\"color: #af5fd7; text-decoration-color: #af5fd7\">┃       ┣━━ </span><span style=\"color: #00ffaf; text-decoration-color: #00ffaf; font-weight: bold\">model_color: </span><span style=\"color: #5f87ff; text-decoration-color: #5f87ff; font-weight: bold\">None</span>\n",
       "<span style=\"color: #af5fd7; text-decoration-color: #af5fd7\">┃       ┣━━ </span><span style=\"color: #00ffaf; text-decoration-color: #00ffaf; font-weight: bold\">background_color: </span><span style=\"color: #5f87ff; text-decoration-color: #5f87ff; font-weight: bold\">None</span>\n",
       "<span style=\"color: #af5fd7; text-decoration-color: #af5fd7\">┃       ┣━━ </span><span style=\"color: #00ffaf; text-decoration-color: #00ffaf; font-weight: bold\">show_background: </span><span style=\"color: #5f87ff; text-decoration-color: #5f87ff; font-weight: bold\">False</span>\n",
       "<span style=\"color: #af5fd7; text-decoration-color: #af5fd7\">┃       ┣━━ </span><span style=\"color: #00ffaf; text-decoration-color: #00ffaf; font-weight: bold\">data_mpl_kwargs: </span><span style=\"color: #5f87ff; text-decoration-color: #5f87ff; font-weight: bold\">None</span>\n",
       "<span style=\"color: #af5fd7; text-decoration-color: #af5fd7\">┃       ┣━━ </span><span style=\"color: #00ffaf; text-decoration-color: #00ffaf; font-weight: bold\">model_mpl_kwargs: </span><span style=\"color: #5f87ff; text-decoration-color: #5f87ff; font-weight: bold\">None</span>\n",
       "<span style=\"color: #af5fd7; text-decoration-color: #af5fd7\">┃       ┗━━ </span><span style=\"color: #00ffaf; text-decoration-color: #00ffaf; font-weight: bold\">background_mpl_kwargs: </span><span style=\"color: #5f87ff; text-decoration-color: #5f87ff; font-weight: bold\">None</span>\n",
       "<span style=\"color: #af5fd7; text-decoration-color: #af5fd7\">┗━━ </span><span style=\"color: #af5fd7; text-decoration-color: #af5fd7; font-weight: bold\">fermipy</span>\n",
       "<span style=\"color: #af5fd7; text-decoration-color: #af5fd7\">    ┗━━ </span><span style=\"color: #af5fd7; text-decoration-color: #af5fd7; font-weight: bold\">fit_plot</span>\n",
       "<span style=\"color: #af5fd7; text-decoration-color: #af5fd7\">        ┣━━ </span><span style=\"color: #00ffaf; text-decoration-color: #00ffaf; font-weight: bold\">total_model_color: </span><span style=\"color: #5f87ff; text-decoration-color: #5f87ff; font-weight: bold\">k</span>\n",
       "<span style=\"color: #af5fd7; text-decoration-color: #af5fd7\">        ┣━━ </span><span style=\"color: #00ffaf; text-decoration-color: #00ffaf; font-weight: bold\">show_background_sources: </span><span style=\"color: #5f87ff; text-decoration-color: #5f87ff; font-weight: bold\">True</span>\n",
       "<span style=\"color: #af5fd7; text-decoration-color: #af5fd7\">        ┣━━ </span><span style=\"color: #00ffaf; text-decoration-color: #00ffaf; font-weight: bold\">shade_fixed_sources: </span><span style=\"color: #5f87ff; text-decoration-color: #5f87ff; font-weight: bold\">True</span>\n",
       "<span style=\"color: #af5fd7; text-decoration-color: #af5fd7\">        ┣━━ </span><span style=\"color: #00ffaf; text-decoration-color: #00ffaf; font-weight: bold\">shade_secondary_sources: </span><span style=\"color: #5f87ff; text-decoration-color: #5f87ff; font-weight: bold\">False</span>\n",
       "<span style=\"color: #af5fd7; text-decoration-color: #af5fd7\">        ┣━━ </span><span style=\"color: #00ffaf; text-decoration-color: #00ffaf; font-weight: bold\">fixed_sources_color: </span><span style=\"color: #5f87ff; text-decoration-color: #5f87ff; font-weight: bold\">grey</span>\n",
       "<span style=\"color: #af5fd7; text-decoration-color: #af5fd7\">        ┣━━ </span><span style=\"color: #00ffaf; text-decoration-color: #00ffaf; font-weight: bold\">secondary_sources_color: </span><span style=\"color: #5f87ff; text-decoration-color: #5f87ff; font-weight: bold\">k</span>\n",
       "<span style=\"color: #af5fd7; text-decoration-color: #af5fd7\">        ┣━━ </span><span style=\"color: #00ffaf; text-decoration-color: #00ffaf; font-weight: bold\">data_cmap: </span><span style=\"color: #5f87ff; text-decoration-color: #5f87ff; font-weight: bold\">MPLCmap.Set1</span>\n",
       "<span style=\"color: #af5fd7; text-decoration-color: #af5fd7\">        ┣━━ </span><span style=\"color: #00ffaf; text-decoration-color: #00ffaf; font-weight: bold\">model_cmap: </span><span style=\"color: #5f87ff; text-decoration-color: #5f87ff; font-weight: bold\">MPLCmap.Set1</span>\n",
       "<span style=\"color: #af5fd7; text-decoration-color: #af5fd7\">        ┣━━ </span><span style=\"color: #00ffaf; text-decoration-color: #00ffaf; font-weight: bold\">background_cmap: </span><span style=\"color: #5f87ff; text-decoration-color: #5f87ff; font-weight: bold\">MPLCmap.Set1</span>\n",
       "<span style=\"color: #af5fd7; text-decoration-color: #af5fd7\">        ┣━━ </span><span style=\"color: #00ffaf; text-decoration-color: #00ffaf; font-weight: bold\">step: </span><span style=\"color: #5f87ff; text-decoration-color: #5f87ff; font-weight: bold\">False</span>\n",
       "<span style=\"color: #af5fd7; text-decoration-color: #af5fd7\">        ┣━━ </span><span style=\"color: #00ffaf; text-decoration-color: #00ffaf; font-weight: bold\">show_legend: </span><span style=\"color: #5f87ff; text-decoration-color: #5f87ff; font-weight: bold\">True</span>\n",
       "<span style=\"color: #af5fd7; text-decoration-color: #af5fd7\">        ┣━━ </span><span style=\"color: #00ffaf; text-decoration-color: #00ffaf; font-weight: bold\">show_residuals: </span><span style=\"color: #5f87ff; text-decoration-color: #5f87ff; font-weight: bold\">True</span>\n",
       "<span style=\"color: #af5fd7; text-decoration-color: #af5fd7\">        ┣━━ </span><span style=\"color: #00ffaf; text-decoration-color: #00ffaf; font-weight: bold\">data_color: </span><span style=\"color: #5f87ff; text-decoration-color: #5f87ff; font-weight: bold\">None</span>\n",
       "<span style=\"color: #af5fd7; text-decoration-color: #af5fd7\">        ┣━━ </span><span style=\"color: #00ffaf; text-decoration-color: #00ffaf; font-weight: bold\">model_color: </span><span style=\"color: #5f87ff; text-decoration-color: #5f87ff; font-weight: bold\">None</span>\n",
       "<span style=\"color: #af5fd7; text-decoration-color: #af5fd7\">        ┣━━ </span><span style=\"color: #00ffaf; text-decoration-color: #00ffaf; font-weight: bold\">background_color: </span><span style=\"color: #5f87ff; text-decoration-color: #5f87ff; font-weight: bold\">None</span>\n",
       "<span style=\"color: #af5fd7; text-decoration-color: #af5fd7\">        ┣━━ </span><span style=\"color: #00ffaf; text-decoration-color: #00ffaf; font-weight: bold\">data_mpl_kwargs: </span><span style=\"color: #5f87ff; text-decoration-color: #5f87ff; font-weight: bold\">None</span>\n",
       "<span style=\"color: #af5fd7; text-decoration-color: #af5fd7\">        ┣━━ </span><span style=\"color: #00ffaf; text-decoration-color: #00ffaf; font-weight: bold\">model_mpl_kwargs: </span><span style=\"color: #5f87ff; text-decoration-color: #5f87ff; font-weight: bold\">None</span>\n",
       "<span style=\"color: #af5fd7; text-decoration-color: #af5fd7\">        ┗━━ </span><span style=\"color: #00ffaf; text-decoration-color: #00ffaf; font-weight: bold\">background_mpl_kwargs: </span><span style=\"color: #5f87ff; text-decoration-color: #5f87ff; font-weight: bold\">None</span>\n",
       "</pre>\n"
      ],
      "text/plain": [
       "\u001b[1;38;5;134mconfig\u001b[0m\n",
       "\u001b[38;5;134m┣━━ \u001b[0m\u001b[1;38;5;134mogip\u001b[0m\n",
       "\u001b[38;5;134m┃   \u001b[0m\u001b[38;5;134m┣━━ \u001b[0m\u001b[1;38;5;134mfit_plot\u001b[0m\n",
       "\u001b[38;5;134m┃   \u001b[0m\u001b[38;5;134m┃   \u001b[0m\u001b[38;5;134m┣━━ \u001b[0m\u001b[1;38;5;49mdata_cmap: \u001b[0m\u001b[1;5;38;5;69mMPLCmap.Set1\u001b[0m\n",
       "\u001b[38;5;134m┃   \u001b[0m\u001b[38;5;134m┃   \u001b[0m\u001b[38;5;134m┣━━ \u001b[0m\u001b[1;38;5;49mmodel_cmap: \u001b[0m\u001b[1;5;38;5;69mMPLCmap.Set1\u001b[0m\n",
       "\u001b[38;5;134m┃   \u001b[0m\u001b[38;5;134m┃   \u001b[0m\u001b[38;5;134m┣━━ \u001b[0m\u001b[1;38;5;49mbackground_cmap: \u001b[0m\u001b[1;5;38;5;69mMPLCmap.Set1\u001b[0m\n",
       "\u001b[38;5;134m┃   \u001b[0m\u001b[38;5;134m┃   \u001b[0m\u001b[38;5;134m┣━━ \u001b[0m\u001b[1;38;5;49mn_colors: \u001b[0m\u001b[1;5;38;5;69m5\u001b[0m\n",
       "\u001b[38;5;134m┃   \u001b[0m\u001b[38;5;134m┃   \u001b[0m\u001b[38;5;134m┣━━ \u001b[0m\u001b[1;38;5;49mstep: \u001b[0m\u001b[1;5;38;5;69mFalse\u001b[0m\n",
       "\u001b[38;5;134m┃   \u001b[0m\u001b[38;5;134m┃   \u001b[0m\u001b[38;5;134m┣━━ \u001b[0m\u001b[1;38;5;49mshow_legend: \u001b[0m\u001b[1;5;38;5;69mTrue\u001b[0m\n",
       "\u001b[38;5;134m┃   \u001b[0m\u001b[38;5;134m┃   \u001b[0m\u001b[38;5;134m┣━━ \u001b[0m\u001b[1;38;5;49mshow_residuals: \u001b[0m\u001b[1;5;38;5;69mTrue\u001b[0m\n",
       "\u001b[38;5;134m┃   \u001b[0m\u001b[38;5;134m┃   \u001b[0m\u001b[38;5;134m┣━━ \u001b[0m\u001b[1;38;5;49mdata_color: \u001b[0m\u001b[1;5;38;5;69mNone\u001b[0m\n",
       "\u001b[38;5;134m┃   \u001b[0m\u001b[38;5;134m┃   \u001b[0m\u001b[38;5;134m┣━━ \u001b[0m\u001b[1;38;5;49mmodel_color: \u001b[0m\u001b[1;5;38;5;69mNone\u001b[0m\n",
       "\u001b[38;5;134m┃   \u001b[0m\u001b[38;5;134m┃   \u001b[0m\u001b[38;5;134m┣━━ \u001b[0m\u001b[1;38;5;49mbackground_color: \u001b[0m\u001b[1;5;38;5;69mNone\u001b[0m\n",
       "\u001b[38;5;134m┃   \u001b[0m\u001b[38;5;134m┃   \u001b[0m\u001b[38;5;134m┣━━ \u001b[0m\u001b[1;38;5;49mshow_background: \u001b[0m\u001b[1;5;38;5;69mFalse\u001b[0m\n",
       "\u001b[38;5;134m┃   \u001b[0m\u001b[38;5;134m┃   \u001b[0m\u001b[38;5;134m┣━━ \u001b[0m\u001b[1;38;5;49mdata_mpl_kwargs: \u001b[0m\u001b[1;5;38;5;69mNone\u001b[0m\n",
       "\u001b[38;5;134m┃   \u001b[0m\u001b[38;5;134m┃   \u001b[0m\u001b[38;5;134m┣━━ \u001b[0m\u001b[1;38;5;49mmodel_mpl_kwargs: \u001b[0m\u001b[1;5;38;5;69mNone\u001b[0m\n",
       "\u001b[38;5;134m┃   \u001b[0m\u001b[38;5;134m┃   \u001b[0m\u001b[38;5;134m┗━━ \u001b[0m\u001b[1;38;5;49mbackground_mpl_kwargs: \u001b[0m\u001b[1;5;38;5;69mNone\u001b[0m\n",
       "\u001b[38;5;134m┃   \u001b[0m\u001b[38;5;134m┣━━ \u001b[0m\u001b[1;38;5;134mdata_plot\u001b[0m\n",
       "\u001b[38;5;134m┃   \u001b[0m\u001b[38;5;134m┃   \u001b[0m\u001b[38;5;134m┣━━ \u001b[0m\u001b[1;38;5;49mcounts_color: \u001b[0m\u001b[1;5;38;5;69m#500472\u001b[0m\n",
       "\u001b[38;5;134m┃   \u001b[0m\u001b[38;5;134m┃   \u001b[0m\u001b[38;5;134m┣━━ \u001b[0m\u001b[1;38;5;49mbackground_color: \u001b[0m\u001b[1;5;38;5;69m#79cbb8\u001b[0m\n",
       "\u001b[38;5;134m┃   \u001b[0m\u001b[38;5;134m┃   \u001b[0m\u001b[38;5;134m┣━━ \u001b[0m\u001b[1;38;5;49mwarn_channels_color: \u001b[0m\u001b[1;5;38;5;69m#C79BFE\u001b[0m\n",
       "\u001b[38;5;134m┃   \u001b[0m\u001b[38;5;134m┃   \u001b[0m\u001b[38;5;134m┣━━ \u001b[0m\u001b[1;38;5;49mbad_channels_color: \u001b[0m\u001b[1;5;38;5;69m#FE3131\u001b[0m\n",
       "\u001b[38;5;134m┃   \u001b[0m\u001b[38;5;134m┃   \u001b[0m\u001b[38;5;134m┗━━ \u001b[0m\u001b[1;38;5;49mmasked_channels_color: \u001b[0m\u001b[1;5;38;5;69m#566573\u001b[0m\n",
       "\u001b[38;5;134m┃   \u001b[0m\u001b[38;5;134m┣━━ \u001b[0m\u001b[1;38;5;49mresponse_cmap: \u001b[0m\u001b[1;5;38;5;69mMPLCmap.viridis\u001b[0m\n",
       "\u001b[38;5;134m┃   \u001b[0m\u001b[38;5;134m┗━━ \u001b[0m\u001b[1;38;5;49mresponse_zero_color: \u001b[0m\u001b[1;5;38;5;69mk\u001b[0m\n",
       "\u001b[38;5;134m┣━━ \u001b[0m\u001b[1;38;5;134mphoto\u001b[0m\n",
       "\u001b[38;5;134m┃   \u001b[0m\u001b[38;5;134m┗━━ \u001b[0m\u001b[1;38;5;134mfit_plot\u001b[0m\n",
       "\u001b[38;5;134m┃   \u001b[0m\u001b[38;5;134m    \u001b[0m\u001b[38;5;134m┣━━ \u001b[0m\u001b[1;38;5;49mdata_cmap: \u001b[0m\u001b[1;5;38;5;69mMPLCmap.Set1\u001b[0m\n",
       "\u001b[38;5;134m┃   \u001b[0m\u001b[38;5;134m    \u001b[0m\u001b[38;5;134m┣━━ \u001b[0m\u001b[1;38;5;49mmodel_cmap: \u001b[0m\u001b[1;5;38;5;69mMPLCmap.Set1\u001b[0m\n",
       "\u001b[38;5;134m┃   \u001b[0m\u001b[38;5;134m    \u001b[0m\u001b[38;5;134m┣━━ \u001b[0m\u001b[1;38;5;49mbackground_cmap: \u001b[0m\u001b[1;5;38;5;69mMPLCmap.Set1\u001b[0m\n",
       "\u001b[38;5;134m┃   \u001b[0m\u001b[38;5;134m    \u001b[0m\u001b[38;5;134m┣━━ \u001b[0m\u001b[1;38;5;49mn_colors: \u001b[0m\u001b[1;5;38;5;69m5\u001b[0m\n",
       "\u001b[38;5;134m┃   \u001b[0m\u001b[38;5;134m    \u001b[0m\u001b[38;5;134m┣━━ \u001b[0m\u001b[1;38;5;49mstep: \u001b[0m\u001b[1;5;38;5;69mFalse\u001b[0m\n",
       "\u001b[38;5;134m┃   \u001b[0m\u001b[38;5;134m    \u001b[0m\u001b[38;5;134m┣━━ \u001b[0m\u001b[1;38;5;49mshow_legend: \u001b[0m\u001b[1;5;38;5;69mTrue\u001b[0m\n",
       "\u001b[38;5;134m┃   \u001b[0m\u001b[38;5;134m    \u001b[0m\u001b[38;5;134m┣━━ \u001b[0m\u001b[1;38;5;49mshow_residuals: \u001b[0m\u001b[1;5;38;5;69mTrue\u001b[0m\n",
       "\u001b[38;5;134m┃   \u001b[0m\u001b[38;5;134m    \u001b[0m\u001b[38;5;134m┣━━ \u001b[0m\u001b[1;38;5;49mdata_color: \u001b[0m\u001b[1;5;38;5;69mNone\u001b[0m\n",
       "\u001b[38;5;134m┃   \u001b[0m\u001b[38;5;134m    \u001b[0m\u001b[38;5;134m┣━━ \u001b[0m\u001b[1;38;5;49mmodel_color: \u001b[0m\u001b[1;5;38;5;69mNone\u001b[0m\n",
       "\u001b[38;5;134m┃   \u001b[0m\u001b[38;5;134m    \u001b[0m\u001b[38;5;134m┣━━ \u001b[0m\u001b[1;38;5;49mbackground_color: \u001b[0m\u001b[1;5;38;5;69mNone\u001b[0m\n",
       "\u001b[38;5;134m┃   \u001b[0m\u001b[38;5;134m    \u001b[0m\u001b[38;5;134m┣━━ \u001b[0m\u001b[1;38;5;49mshow_background: \u001b[0m\u001b[1;5;38;5;69mFalse\u001b[0m\n",
       "\u001b[38;5;134m┃   \u001b[0m\u001b[38;5;134m    \u001b[0m\u001b[38;5;134m┣━━ \u001b[0m\u001b[1;38;5;49mdata_mpl_kwargs: \u001b[0m\u001b[1;5;38;5;69mNone\u001b[0m\n",
       "\u001b[38;5;134m┃   \u001b[0m\u001b[38;5;134m    \u001b[0m\u001b[38;5;134m┣━━ \u001b[0m\u001b[1;38;5;49mmodel_mpl_kwargs: \u001b[0m\u001b[1;5;38;5;69mNone\u001b[0m\n",
       "\u001b[38;5;134m┃   \u001b[0m\u001b[38;5;134m    \u001b[0m\u001b[38;5;134m┗━━ \u001b[0m\u001b[1;38;5;49mbackground_mpl_kwargs: \u001b[0m\u001b[1;5;38;5;69mNone\u001b[0m\n",
       "\u001b[38;5;134m┗━━ \u001b[0m\u001b[1;38;5;134mfermipy\u001b[0m\n",
       "\u001b[38;5;134m    \u001b[0m\u001b[38;5;134m┗━━ \u001b[0m\u001b[1;38;5;134mfit_plot\u001b[0m\n",
       "\u001b[38;5;134m    \u001b[0m\u001b[38;5;134m    \u001b[0m\u001b[38;5;134m┣━━ \u001b[0m\u001b[1;38;5;49mtotal_model_color: \u001b[0m\u001b[1;5;38;5;69mk\u001b[0m\n",
       "\u001b[38;5;134m    \u001b[0m\u001b[38;5;134m    \u001b[0m\u001b[38;5;134m┣━━ \u001b[0m\u001b[1;38;5;49mshow_background_sources: \u001b[0m\u001b[1;5;38;5;69mTrue\u001b[0m\n",
       "\u001b[38;5;134m    \u001b[0m\u001b[38;5;134m    \u001b[0m\u001b[38;5;134m┣━━ \u001b[0m\u001b[1;38;5;49mshade_fixed_sources: \u001b[0m\u001b[1;5;38;5;69mTrue\u001b[0m\n",
       "\u001b[38;5;134m    \u001b[0m\u001b[38;5;134m    \u001b[0m\u001b[38;5;134m┣━━ \u001b[0m\u001b[1;38;5;49mshade_secondary_sources: \u001b[0m\u001b[1;5;38;5;69mFalse\u001b[0m\n",
       "\u001b[38;5;134m    \u001b[0m\u001b[38;5;134m    \u001b[0m\u001b[38;5;134m┣━━ \u001b[0m\u001b[1;38;5;49mfixed_sources_color: \u001b[0m\u001b[1;5;38;5;69mgrey\u001b[0m\n",
       "\u001b[38;5;134m    \u001b[0m\u001b[38;5;134m    \u001b[0m\u001b[38;5;134m┣━━ \u001b[0m\u001b[1;38;5;49msecondary_sources_color: \u001b[0m\u001b[1;5;38;5;69mk\u001b[0m\n",
       "\u001b[38;5;134m    \u001b[0m\u001b[38;5;134m    \u001b[0m\u001b[38;5;134m┣━━ \u001b[0m\u001b[1;38;5;49mdata_cmap: \u001b[0m\u001b[1;5;38;5;69mMPLCmap.Set1\u001b[0m\n",
       "\u001b[38;5;134m    \u001b[0m\u001b[38;5;134m    \u001b[0m\u001b[38;5;134m┣━━ \u001b[0m\u001b[1;38;5;49mmodel_cmap: \u001b[0m\u001b[1;5;38;5;69mMPLCmap.Set1\u001b[0m\n",
       "\u001b[38;5;134m    \u001b[0m\u001b[38;5;134m    \u001b[0m\u001b[38;5;134m┣━━ \u001b[0m\u001b[1;38;5;49mbackground_cmap: \u001b[0m\u001b[1;5;38;5;69mMPLCmap.Set1\u001b[0m\n",
       "\u001b[38;5;134m    \u001b[0m\u001b[38;5;134m    \u001b[0m\u001b[38;5;134m┣━━ \u001b[0m\u001b[1;38;5;49mstep: \u001b[0m\u001b[1;5;38;5;69mFalse\u001b[0m\n",
       "\u001b[38;5;134m    \u001b[0m\u001b[38;5;134m    \u001b[0m\u001b[38;5;134m┣━━ \u001b[0m\u001b[1;38;5;49mshow_legend: \u001b[0m\u001b[1;5;38;5;69mTrue\u001b[0m\n",
       "\u001b[38;5;134m    \u001b[0m\u001b[38;5;134m    \u001b[0m\u001b[38;5;134m┣━━ \u001b[0m\u001b[1;38;5;49mshow_residuals: \u001b[0m\u001b[1;5;38;5;69mTrue\u001b[0m\n",
       "\u001b[38;5;134m    \u001b[0m\u001b[38;5;134m    \u001b[0m\u001b[38;5;134m┣━━ \u001b[0m\u001b[1;38;5;49mdata_color: \u001b[0m\u001b[1;5;38;5;69mNone\u001b[0m\n",
       "\u001b[38;5;134m    \u001b[0m\u001b[38;5;134m    \u001b[0m\u001b[38;5;134m┣━━ \u001b[0m\u001b[1;38;5;49mmodel_color: \u001b[0m\u001b[1;5;38;5;69mNone\u001b[0m\n",
       "\u001b[38;5;134m    \u001b[0m\u001b[38;5;134m    \u001b[0m\u001b[38;5;134m┣━━ \u001b[0m\u001b[1;38;5;49mbackground_color: \u001b[0m\u001b[1;5;38;5;69mNone\u001b[0m\n",
       "\u001b[38;5;134m    \u001b[0m\u001b[38;5;134m    \u001b[0m\u001b[38;5;134m┣━━ \u001b[0m\u001b[1;38;5;49mdata_mpl_kwargs: \u001b[0m\u001b[1;5;38;5;69mNone\u001b[0m\n",
       "\u001b[38;5;134m    \u001b[0m\u001b[38;5;134m    \u001b[0m\u001b[38;5;134m┣━━ \u001b[0m\u001b[1;38;5;49mmodel_mpl_kwargs: \u001b[0m\u001b[1;5;38;5;69mNone\u001b[0m\n",
       "\u001b[38;5;134m    \u001b[0m\u001b[38;5;134m    \u001b[0m\u001b[38;5;134m┗━━ \u001b[0m\u001b[1;38;5;49mbackground_mpl_kwargs: \u001b[0m\u001b[1;5;38;5;69mNone\u001b[0m\n"
      ]
     },
     "execution_count": 3,
     "metadata": {},
     "output_type": "execute_result"
    }
   ],
   "source": [
    "show_configuration(\"plugins\")"
   ]
  },
  {
   "cell_type": "markdown",
   "id": "202b8226",
   "metadata": {},
   "source": [
    "The configuration now includes the values from the files.\n",
    "\n",
    "### Environment variables\n",
    "\n",
    "It is possible to set configuration values from environment variables. For example, if you are working in a HPC cluster environment and need to log to w write-safe directory:\n",
    "```~/.config/threeml/cluster_logging.yml```\n",
    "```yaml\n",
    "logging:\n",
    "  path: ${env:USER_LOG_DIR}\n",
    "  developer: off\n",
    "  console: off\n",
    "  startup_warnings: off\n",
    "```\n",
    "\n",
    "where ```USER_LOG_DIR``` could be a directory where you are allowed to write to disk. At run time, we convert this variable to a path. However, any value can be set. Thus, you can make an adaptable configuration that mutates based on your local workstation.\n"
   ]
  },
  {
   "cell_type": "markdown",
   "id": "09e39d08",
   "metadata": {},
   "source": [
    "## Run-time configuration changes"
   ]
  },
  {
   "cell_type": "markdown",
   "id": "643e5f7f",
   "metadata": {},
   "source": [
    "But perhaps you want to change a parameter in the middle of a session? The configuration behaves like a nested dictionary but it has both *dot* and key access. Let's take a look at what we can configure:"
   ]
  },
  {
   "cell_type": "markdown",
   "id": "027ade75",
   "metadata": {},
   "source": [
    "Perhaps we want the default colors for light curves to be altered for this session:"
   ]
  },
  {
   "cell_type": "code",
   "execution_count": 4,
   "id": "31181c59",
   "metadata": {
    "execution": {
     "iopub.execute_input": "2024-06-07T06:26:17.719157Z",
     "iopub.status.busy": "2024-06-07T06:26:17.718804Z",
     "iopub.status.idle": "2024-06-07T06:26:17.722877Z",
     "shell.execute_reply": "2024-06-07T06:26:17.722261Z"
    }
   },
   "outputs": [
    {
     "data": {
      "text/plain": [
       "'#C0392B'"
      ]
     },
     "execution_count": 4,
     "metadata": {},
     "output_type": "execute_result"
    }
   ],
   "source": [
    "threeML_config.time_series.background_color"
   ]
  },
  {
   "cell_type": "code",
   "execution_count": 5,
   "id": "b758c010",
   "metadata": {
    "execution": {
     "iopub.execute_input": "2024-06-07T06:26:17.725074Z",
     "iopub.status.busy": "2024-06-07T06:26:17.724723Z",
     "iopub.status.idle": "2024-06-07T06:26:17.728708Z",
     "shell.execute_reply": "2024-06-07T06:26:17.728138Z"
    }
   },
   "outputs": [
    {
     "data": {
      "text/plain": [
       "'#C0392B'"
      ]
     },
     "execution_count": 5,
     "metadata": {},
     "output_type": "execute_result"
    }
   ],
   "source": [
    "threeML_config[\"time_series\"][\"background_color\"]"
   ]
  },
  {
   "cell_type": "code",
   "execution_count": 6,
   "id": "6bcc3653",
   "metadata": {
    "execution": {
     "iopub.execute_input": "2024-06-07T06:26:17.730905Z",
     "iopub.status.busy": "2024-06-07T06:26:17.730557Z",
     "iopub.status.idle": "2024-06-07T06:26:17.736243Z",
     "shell.execute_reply": "2024-06-07T06:26:17.735645Z"
    }
   },
   "outputs": [
    {
     "data": {
      "text/html": [
       "<pre style=\"white-space:pre;overflow-x:auto;line-height:normal;font-family:Menlo,'DejaVu Sans Mono',consolas,'Courier New',monospace\"><span style=\"color: #af5fd7; text-decoration-color: #af5fd7; font-weight: bold\">config</span>\n",
       "<span style=\"color: #af5fd7; text-decoration-color: #af5fd7\">┣━━ </span><span style=\"color: #00ffaf; text-decoration-color: #00ffaf; font-weight: bold\">light_curve_color: </span><span style=\"color: #5f87ff; text-decoration-color: #5f87ff; font-weight: bold\">#05716c</span>\n",
       "<span style=\"color: #af5fd7; text-decoration-color: #af5fd7\">┣━━ </span><span style=\"color: #00ffaf; text-decoration-color: #00ffaf; font-weight: bold\">selection_color: </span><span style=\"color: #5f87ff; text-decoration-color: #5f87ff; font-weight: bold\">#1fbfb8</span>\n",
       "<span style=\"color: #af5fd7; text-decoration-color: #af5fd7\">┣━━ </span><span style=\"color: #00ffaf; text-decoration-color: #00ffaf; font-weight: bold\">background_color: </span><span style=\"color: #5f87ff; text-decoration-color: #5f87ff; font-weight: bold\">green</span>\n",
       "<span style=\"color: #af5fd7; text-decoration-color: #af5fd7\">┣━━ </span><span style=\"color: #00ffaf; text-decoration-color: #00ffaf; font-weight: bold\">background_selection_color: </span><span style=\"color: #5f87ff; text-decoration-color: #5f87ff; font-weight: bold\">#E74C3C</span>\n",
       "<span style=\"color: #af5fd7; text-decoration-color: #af5fd7\">┗━━ </span><span style=\"color: #af5fd7; text-decoration-color: #af5fd7; font-weight: bold\">fit</span>\n",
       "<span style=\"color: #af5fd7; text-decoration-color: #af5fd7\">    ┣━━ </span><span style=\"color: #00ffaf; text-decoration-color: #00ffaf; font-weight: bold\">fit_poly: </span><span style=\"color: #5f87ff; text-decoration-color: #5f87ff; font-weight: bold\">True</span>\n",
       "<span style=\"color: #af5fd7; text-decoration-color: #af5fd7\">    ┣━━ </span><span style=\"color: #00ffaf; text-decoration-color: #00ffaf; font-weight: bold\">unbinned: </span><span style=\"color: #5f87ff; text-decoration-color: #5f87ff; font-weight: bold\">False</span>\n",
       "<span style=\"color: #af5fd7; text-decoration-color: #af5fd7\">    ┗━━ </span><span style=\"color: #00ffaf; text-decoration-color: #00ffaf; font-weight: bold\">bayes: </span><span style=\"color: #5f87ff; text-decoration-color: #5f87ff; font-weight: bold\">False</span>\n",
       "</pre>\n"
      ],
      "text/plain": [
       "\u001b[1;38;5;134mconfig\u001b[0m\n",
       "\u001b[38;5;134m┣━━ \u001b[0m\u001b[1;38;5;49mlight_curve_color: \u001b[0m\u001b[1;5;38;5;69m#05716c\u001b[0m\n",
       "\u001b[38;5;134m┣━━ \u001b[0m\u001b[1;38;5;49mselection_color: \u001b[0m\u001b[1;5;38;5;69m#1fbfb8\u001b[0m\n",
       "\u001b[38;5;134m┣━━ \u001b[0m\u001b[1;38;5;49mbackground_color: \u001b[0m\u001b[1;5;38;5;69mgreen\u001b[0m\n",
       "\u001b[38;5;134m┣━━ \u001b[0m\u001b[1;38;5;49mbackground_selection_color: \u001b[0m\u001b[1;5;38;5;69m#E74C3C\u001b[0m\n",
       "\u001b[38;5;134m┗━━ \u001b[0m\u001b[1;38;5;134mfit\u001b[0m\n",
       "\u001b[38;5;134m    \u001b[0m\u001b[38;5;134m┣━━ \u001b[0m\u001b[1;38;5;49mfit_poly: \u001b[0m\u001b[1;5;38;5;69mTrue\u001b[0m\n",
       "\u001b[38;5;134m    \u001b[0m\u001b[38;5;134m┣━━ \u001b[0m\u001b[1;38;5;49munbinned: \u001b[0m\u001b[1;5;38;5;69mFalse\u001b[0m\n",
       "\u001b[38;5;134m    \u001b[0m\u001b[38;5;134m┗━━ \u001b[0m\u001b[1;38;5;49mbayes: \u001b[0m\u001b[1;5;38;5;69mFalse\u001b[0m\n"
      ]
     },
     "execution_count": 6,
     "metadata": {},
     "output_type": "execute_result"
    }
   ],
   "source": [
    "threeML_config.time_series.background_color = \"green\"\n",
    "show_configuration(\"time_series\")"
   ]
  },
  {
   "cell_type": "markdown",
   "id": "8e0abb2a",
   "metadata": {},
   "source": [
    "From this point on in this session, fitting LLE backgrounds will be unbinned. When we close python, the next time we start 3ML, the values set in the configuration file be loaded.\n",
    "\n",
    "Do not worry about entering incorrect values in the file as 3ML checks both the structure and types of the parameters.\n",
    "\n",
    "\n",
    "If you modify your configuration at run time and want to save it to a file (**in your configration directory**) try this:"
   ]
  },
  {
   "cell_type": "code",
   "execution_count": 7,
   "id": "7163e82e",
   "metadata": {
    "execution": {
     "iopub.execute_input": "2024-06-07T06:26:17.738269Z",
     "iopub.status.busy": "2024-06-07T06:26:17.738081Z",
     "iopub.status.idle": "2024-06-07T06:26:17.769417Z",
     "shell.execute_reply": "2024-06-07T06:26:17.768931Z"
    }
   },
   "outputs": [],
   "source": [
    "from threeML import get_current_configuration_copy\n",
    "\n",
    "get_current_configuration_copy(\"my_config.yml\", overwrite=True)"
   ]
  },
  {
   "cell_type": "markdown",
   "id": "09e49617",
   "metadata": {},
   "source": [
    "If you have a default configuration you would like to add, consider opening a pull request. We would love to hear your ideas."
   ]
  }
 ],
 "metadata": {
  "jupytext": {
   "formats": "ipynb,md"
  },
  "kernelspec": {
   "display_name": "Python 3",
   "language": "python",
   "name": "python3"
  },
  "language_info": {
   "codemirror_mode": {
    "name": "ipython",
    "version": 3
   },
   "file_extension": ".py",
   "mimetype": "text/x-python",
   "name": "python",
   "nbconvert_exporter": "python",
   "pygments_lexer": "ipython3",
   "version": "3.9.19"
  }
 },
 "nbformat": 4,
 "nbformat_minor": 5
}
