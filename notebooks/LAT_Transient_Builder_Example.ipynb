{
 "cells": [
  {
   "cell_type": "markdown",
   "id": "c88386ae",
   "metadata": {},
   "source": [
    "# Analysis of GRB 190114C with Fermi-LAT"
   ]
  },
  {
   "cell_type": "code",
   "execution_count": 1,
   "id": "26a9f7c6",
   "metadata": {
    "execution": {
     "iopub.execute_input": "2024-09-11T22:50:50.288250Z",
     "iopub.status.busy": "2024-09-11T22:50:50.287932Z",
     "iopub.status.idle": "2024-09-11T22:50:55.000272Z",
     "shell.execute_reply": "2024-09-11T22:50:54.997372Z"
    },
    "lines_to_next_cell": 2
   },
   "outputs": [
    {
     "data": {
      "text/html": [
       "<pre style=\"white-space:pre;overflow-x:auto;line-height:normal;font-family:Menlo,'DejaVu Sans Mono',consolas,'Courier New',monospace\"><span style=\"color: #00ff00; text-decoration-color: #00ff00\">22:50:52 </span><span style=\"color: #af5fd7; text-decoration-color: #af5fd7\">WARNING </span> <span style=\"color: #c6c6c6; text-decoration-color: #c6c6c6; font-weight: bold\"> The naima package is not available. Models that depend on it will not be         </span><a href=\"file:///usr/local/miniconda/envs/test_env/lib/python3.9/site-packages/astromodels/functions/functions_1D/functions.py\" target=\"_blank\"><span style=\"color: #7f7f7f; text-decoration-color: #7f7f7f\">functions.py</span></a><span style=\"color: #7f7f7f; text-decoration-color: #7f7f7f\">:</span><a href=\"file:///usr/local/miniconda/envs/test_env/lib/python3.9/site-packages/astromodels/functions/functions_1D/functions.py#48\" target=\"_blank\"><span style=\"color: #7f7f7f; text-decoration-color: #7f7f7f\">48</span></a>\n",
       "<span style=\"color: #00ff00; text-decoration-color: #00ff00\">         </span>         <span style=\"color: #c6c6c6; text-decoration-color: #c6c6c6; font-weight: bold\">available                                                                         </span><span style=\"color: #7f7f7f; text-decoration-color: #7f7f7f\">               </span>\n",
       "</pre>\n"
      ],
      "text/plain": [
       "\u001b[38;5;46m22:50:52\u001b[0m\u001b[38;5;46m \u001b[0m\u001b[38;5;134mWARNING \u001b[0m \u001b[1;38;5;251m The naima package is not available. Models that depend on it will not be        \u001b[0m\u001b[1;38;5;251m \u001b[0m\u001b]8;id=800486;file:///usr/local/miniconda/envs/test_env/lib/python3.9/site-packages/astromodels/functions/functions_1D/functions.py\u001b\\\u001b[2mfunctions.py\u001b[0m\u001b]8;;\u001b\\\u001b[2m:\u001b[0m\u001b]8;id=319773;file:///usr/local/miniconda/envs/test_env/lib/python3.9/site-packages/astromodels/functions/functions_1D/functions.py#48\u001b\\\u001b[2m48\u001b[0m\u001b]8;;\u001b\\\n",
       "\u001b[38;5;46m         \u001b[0m         \u001b[1;38;5;251mavailable                                                                        \u001b[0m\u001b[1;38;5;251m \u001b[0m\u001b[2m               \u001b[0m\n"
      ]
     },
     "metadata": {},
     "output_type": "display_data"
    },
    {
     "data": {
      "text/html": [
       "<pre style=\"white-space:pre;overflow-x:auto;line-height:normal;font-family:Menlo,'DejaVu Sans Mono',consolas,'Courier New',monospace\"><span style=\"color: #00ff00; text-decoration-color: #00ff00\">         </span><span style=\"color: #af5fd7; text-decoration-color: #af5fd7\">WARNING </span> <span style=\"color: #c6c6c6; text-decoration-color: #c6c6c6; font-weight: bold\"> The GSL library or the pygsl wrapper cannot be loaded. Models that depend on it  </span><a href=\"file:///usr/local/miniconda/envs/test_env/lib/python3.9/site-packages/astromodels/functions/functions_1D/functions.py\" target=\"_blank\"><span style=\"color: #7f7f7f; text-decoration-color: #7f7f7f\">functions.py</span></a><span style=\"color: #7f7f7f; text-decoration-color: #7f7f7f\">:</span><a href=\"file:///usr/local/miniconda/envs/test_env/lib/python3.9/site-packages/astromodels/functions/functions_1D/functions.py#69\" target=\"_blank\"><span style=\"color: #7f7f7f; text-decoration-color: #7f7f7f\">69</span></a>\n",
       "<span style=\"color: #00ff00; text-decoration-color: #00ff00\">         </span>         <span style=\"color: #c6c6c6; text-decoration-color: #c6c6c6; font-weight: bold\">will not be available.                                                            </span><span style=\"color: #7f7f7f; text-decoration-color: #7f7f7f\">               </span>\n",
       "</pre>\n"
      ],
      "text/plain": [
       "\u001b[38;5;46m        \u001b[0m\u001b[38;5;46m \u001b[0m\u001b[38;5;134mWARNING \u001b[0m \u001b[1;38;5;251m The GSL library or the pygsl wrapper cannot be loaded. Models that depend on it \u001b[0m\u001b[1;38;5;251m \u001b[0m\u001b]8;id=725185;file:///usr/local/miniconda/envs/test_env/lib/python3.9/site-packages/astromodels/functions/functions_1D/functions.py\u001b\\\u001b[2mfunctions.py\u001b[0m\u001b]8;;\u001b\\\u001b[2m:\u001b[0m\u001b]8;id=678996;file:///usr/local/miniconda/envs/test_env/lib/python3.9/site-packages/astromodels/functions/functions_1D/functions.py#69\u001b\\\u001b[2m69\u001b[0m\u001b]8;;\u001b\\\n",
       "\u001b[38;5;46m         \u001b[0m         \u001b[1;38;5;251mwill not be available.                                                           \u001b[0m\u001b[1;38;5;251m \u001b[0m\u001b[2m               \u001b[0m\n"
      ]
     },
     "metadata": {},
     "output_type": "display_data"
    },
    {
     "data": {
      "text/html": [
       "<pre style=\"white-space:pre;overflow-x:auto;line-height:normal;font-family:Menlo,'DejaVu Sans Mono',consolas,'Courier New',monospace\"><span style=\"color: #00ff00; text-decoration-color: #00ff00\">         </span><span style=\"color: #af5fd7; text-decoration-color: #af5fd7\">WARNING </span> <span style=\"color: #c6c6c6; text-decoration-color: #c6c6c6; font-weight: bold\"> The ebltable package is not available. Models that depend on it will not be     </span><a href=\"file:///usr/local/miniconda/envs/test_env/lib/python3.9/site-packages/astromodels/functions/functions_1D/absorption.py\" target=\"_blank\"><span style=\"color: #7f7f7f; text-decoration-color: #7f7f7f\">absorption.py</span></a><span style=\"color: #7f7f7f; text-decoration-color: #7f7f7f\">:</span><a href=\"file:///usr/local/miniconda/envs/test_env/lib/python3.9/site-packages/astromodels/functions/functions_1D/absorption.py#33\" target=\"_blank\"><span style=\"color: #7f7f7f; text-decoration-color: #7f7f7f\">33</span></a>\n",
       "<span style=\"color: #00ff00; text-decoration-color: #00ff00\">         </span>         <span style=\"color: #c6c6c6; text-decoration-color: #c6c6c6; font-weight: bold\">available                                                                        </span><span style=\"color: #7f7f7f; text-decoration-color: #7f7f7f\">                </span>\n",
       "</pre>\n"
      ],
      "text/plain": [
       "\u001b[38;5;46m        \u001b[0m\u001b[38;5;46m \u001b[0m\u001b[38;5;134mWARNING \u001b[0m \u001b[1;38;5;251m The ebltable package is not available. Models that depend on it will not be    \u001b[0m\u001b[1;38;5;251m \u001b[0m\u001b]8;id=576258;file:///usr/local/miniconda/envs/test_env/lib/python3.9/site-packages/astromodels/functions/functions_1D/absorption.py\u001b\\\u001b[2mabsorption.py\u001b[0m\u001b]8;;\u001b\\\u001b[2m:\u001b[0m\u001b]8;id=689785;file:///usr/local/miniconda/envs/test_env/lib/python3.9/site-packages/astromodels/functions/functions_1D/absorption.py#33\u001b\\\u001b[2m33\u001b[0m\u001b]8;;\u001b\\\n",
       "\u001b[38;5;46m         \u001b[0m         \u001b[1;38;5;251mavailable                                                                       \u001b[0m\u001b[1;38;5;251m \u001b[0m\u001b[2m                \u001b[0m\n"
      ]
     },
     "metadata": {},
     "output_type": "display_data"
    },
    {
     "data": {
      "text/html": [
       "<pre style=\"white-space:pre;overflow-x:auto;line-height:normal;font-family:Menlo,'DejaVu Sans Mono',consolas,'Courier New',monospace\"><span style=\"color: #00ff00; text-decoration-color: #00ff00\">22:50:54 </span><span style=\"color: #ff0000; text-decoration-color: #ff0000; font-weight: bold\">ERROR   </span> <span style=\"color: #c6c6c6; text-decoration-color: #c6c6c6; font-weight: bold\"> error                                                                           </span><a href=\"file:///var/folders/q8/68hhzv8d7tq6gcjbsy0347_r0000gn/T/ipykernel_15648/3699701126.py\" target=\"_blank\"><span style=\"color: #7f7f7f; text-decoration-color: #7f7f7f\">3699701126.py</span></a><span style=\"color: #7f7f7f; text-decoration-color: #7f7f7f\">:</span><a href=\"file:///var/folders/q8/68hhzv8d7tq6gcjbsy0347_r0000gn/T/ipykernel_15648/3699701126.py#29\" target=\"_blank\"><span style=\"color: #7f7f7f; text-decoration-color: #7f7f7f\">29</span></a>\n",
       "</pre>\n"
      ],
      "text/plain": [
       "\u001b[38;5;46m22:50:54\u001b[0m\u001b[38;5;46m \u001b[0m\u001b[1;5;91mERROR   \u001b[0m \u001b[1;38;5;251m error                                                                          \u001b[0m\u001b[1;38;5;251m \u001b[0m\u001b]8;id=275409;file:///var/folders/q8/68hhzv8d7tq6gcjbsy0347_r0000gn/T/ipykernel_15648/3699701126.py\u001b\\\u001b[2m3699701126.py\u001b[0m\u001b]8;;\u001b\\\u001b[2m:\u001b[0m\u001b]8;id=887971;file:///var/folders/q8/68hhzv8d7tq6gcjbsy0347_r0000gn/T/ipykernel_15648/3699701126.py#29\u001b\\\u001b[2m29\u001b[0m\u001b]8;;\u001b\\\n"
      ]
     },
     "metadata": {},
     "output_type": "display_data"
    },
    {
     "data": {
      "text/html": [
       "<pre style=\"white-space:pre;overflow-x:auto;line-height:normal;font-family:Menlo,'DejaVu Sans Mono',consolas,'Courier New',monospace\"><span style=\"color: #00ff00; text-decoration-color: #00ff00\">         </span><span style=\"color: #00ffaf; text-decoration-color: #00ffaf\">INFO    </span> <span style=\"color: #c6c6c6; text-decoration-color: #c6c6c6; font-weight: bold\"> info                                                                            </span><a href=\"file:///var/folders/q8/68hhzv8d7tq6gcjbsy0347_r0000gn/T/ipykernel_15648/3699701126.py\" target=\"_blank\"><span style=\"color: #7f7f7f; text-decoration-color: #7f7f7f\">3699701126.py</span></a><span style=\"color: #7f7f7f; text-decoration-color: #7f7f7f\">:</span><a href=\"file:///var/folders/q8/68hhzv8d7tq6gcjbsy0347_r0000gn/T/ipykernel_15648/3699701126.py#30\" target=\"_blank\"><span style=\"color: #7f7f7f; text-decoration-color: #7f7f7f\">30</span></a>\n",
       "</pre>\n"
      ],
      "text/plain": [
       "\u001b[38;5;46m        \u001b[0m\u001b[38;5;46m \u001b[0m\u001b[38;5;49mINFO    \u001b[0m \u001b[1;38;5;251m info                                                                           \u001b[0m\u001b[1;38;5;251m \u001b[0m\u001b]8;id=386850;file:///var/folders/q8/68hhzv8d7tq6gcjbsy0347_r0000gn/T/ipykernel_15648/3699701126.py\u001b\\\u001b[2m3699701126.py\u001b[0m\u001b]8;;\u001b\\\u001b[2m:\u001b[0m\u001b]8;id=613246;file:///var/folders/q8/68hhzv8d7tq6gcjbsy0347_r0000gn/T/ipykernel_15648/3699701126.py#30\u001b\\\u001b[2m30\u001b[0m\u001b]8;;\u001b\\\n"
      ]
     },
     "metadata": {},
     "output_type": "display_data"
    }
   ],
   "source": [
    "import matplotlib.pyplot as plt\n",
    "\n",
    "import numpy as np\n",
    "import scipy as sp\n",
    "\n",
    "np.seterr(all=\"ignore\")\n",
    "\n",
    "from threeML import *\n",
    "from threeML.io.package_data import get_path_of_data_file\n",
    "from threeML.io import update_logging_level\n",
    "from threeML.utils.data_download.Fermi_LAT.download_LAT_data import LAT_dataset\n",
    "from astropy.io import fits as pyfits\n",
    "\n",
    "SMALL_SIZE = 15\n",
    "MEDIUM_SIZE = 15\n",
    "BIGGER_SIZE = 20\n",
    "\n",
    "plt.rc(\"font\", size=SMALL_SIZE)  # controls default text sizes\n",
    "plt.rc(\"axes\", titlesize=SMALL_SIZE)  # fontsize of the axes title\n",
    "plt.rc(\"axes\", labelsize=MEDIUM_SIZE)  # fontsize of the x and y labels\n",
    "plt.rc(\"xtick\", labelsize=SMALL_SIZE)  # fontsize of the tick labels\n",
    "plt.rc(\"ytick\", labelsize=SMALL_SIZE)  # fontsize of the tick labels\n",
    "plt.rc(\"legend\", fontsize=SMALL_SIZE)  # legend fontsize\n",
    "plt.rc(\"figure\", titlesize=BIGGER_SIZE)  # fontsize of the figure title\n",
    "\n",
    "\n",
    "# This if you want to toggle different type of logging level.\n",
    "update_logging_level(\"INFO\")\n",
    "log.error(\"error\")\n",
    "log.info(\"info\")\n",
    "log.debug(\"debug\")"
   ]
  },
  {
   "cell_type": "markdown",
   "id": "6b8c76b3",
   "metadata": {},
   "source": [
    "## GtBurst\n",
    "Gtburst contains all the classes and methods to perform Fermi LAT data. It internally uses the official fermitools software. Here an example to list the IRFS available:\n"
   ]
  },
  {
   "cell_type": "code",
   "execution_count": 2,
   "id": "a18bf5d1",
   "metadata": {
    "execution": {
     "iopub.execute_input": "2024-09-11T22:50:55.007396Z",
     "iopub.status.busy": "2024-09-11T22:50:55.006180Z",
     "iopub.status.idle": "2024-09-11T22:50:55.017030Z",
     "shell.execute_reply": "2024-09-11T22:50:55.015800Z"
    }
   },
   "outputs": [
    {
     "name": "stdout",
     "output_type": "stream",
     "text": [
      "odict_keys(['p7rep_transient', 'p7rep_source', 'p7rep_clean', 'p7rep_ultraclean', 'p8r2_transient100e', 'p8r2_transient100', 'p8r2_transient020e', 'p8r2_transient020', 'p8r2_transient010e', 'p8r2_transient010', 'p8r2_source', 'p8r2_clean', 'p8r2_ultraclean', 'p8r2_ultracleanveto', 'p8r2_transient100s', 'p8r2_transient015s', 'p8_transient100e', 'p8_transient100', 'p8_transient020e', 'p8_transient020', 'p8_transient010e', 'p8_transient010', 'p8_source', 'p8_clean', 'p8_ultraclean', 'p8_ultracleanveto', 'p8_sourceveto', 'p8_transient100s', 'p8_transient015s'])\n"
     ]
    }
   ],
   "source": [
    "from GtBurst import IRFS\n",
    "\n",
    "irfs = IRFS.IRFS.keys()\n",
    "print(irfs)"
   ]
  },
  {
   "cell_type": "markdown",
   "id": "ca989293",
   "metadata": {},
   "source": [
    "## The LAT Transient Builder\n",
    "Let's see how to make a plug in for the unbinned analysis of Fermi LAT data. First we use the information form a triggered GRB to obtain MET, RA and DEC, that are needed for the analysis.\n"
   ]
  },
  {
   "cell_type": "code",
   "execution_count": 3,
   "id": "463c13d8",
   "metadata": {
    "execution": {
     "iopub.execute_input": "2024-09-11T22:50:55.022514Z",
     "iopub.status.busy": "2024-09-11T22:50:55.022212Z",
     "iopub.status.idle": "2024-09-11T22:50:55.046752Z",
     "shell.execute_reply": "2024-09-11T22:50:55.045272Z"
    }
   },
   "outputs": [],
   "source": [
    "from GtBurst.TriggerSelector import TriggerSelector\n",
    "\n",
    "myFavoriteGRB = \"bn190114873\"\n",
    "\n",
    "\n",
    "def findGRB(grb_name):\n",
    "    a = TriggerSelector()\n",
    "    a.downloadList()\n",
    "    myGRB = {}\n",
    "    for x in a.data:\n",
    "        if x[0] == myFavoriteGRB:\n",
    "            myGRB[\"MET\"] = float(x[1])\n",
    "            myGRB[\"RA\"] = float(x[3])\n",
    "            myGRB[\"DEC\"] = float(x[4])\n",
    "            myGRB[\"ERR\"] = float(x[5])\n",
    "            return myGRB\n",
    "            pass\n",
    "    return None"
   ]
  },
  {
   "cell_type": "code",
   "execution_count": 4,
   "id": "2b9e4ed2",
   "metadata": {
    "execution": {
     "iopub.execute_input": "2024-09-11T22:50:55.051944Z",
     "iopub.status.busy": "2024-09-11T22:50:55.051658Z",
     "iopub.status.idle": "2024-09-11T22:51:20.531020Z",
     "shell.execute_reply": "2024-09-11T22:51:20.529474Z"
    }
   },
   "outputs": [
    {
     "name": "stdout",
     "output_type": "stream",
     "text": [
      "{'MET': 569192227.626, 'RA': 54.51, 'DEC': -26.939, 'ERR': 0.05}\n"
     ]
    }
   ],
   "source": [
    "myGRB = findGRB(myFavoriteGRB)\n",
    "print(myGRB)"
   ]
  },
  {
   "cell_type": "markdown",
   "id": "ab1eb64b",
   "metadata": {},
   "source": [
    "Then, we download LAT data and we build the transient builder, we want to analyze 1000 seconds since the trigger. Let's start download the data:\n"
   ]
  },
  {
   "cell_type": "code",
   "execution_count": 5,
   "id": "ebf05e20",
   "metadata": {
    "execution": {
     "iopub.execute_input": "2024-09-11T22:51:20.536506Z",
     "iopub.status.busy": "2024-09-11T22:51:20.536124Z",
     "iopub.status.idle": "2024-09-11T22:51:20.545633Z",
     "shell.execute_reply": "2024-09-11T22:51:20.543606Z"
    },
    "lines_to_next_cell": 2
   },
   "outputs": [],
   "source": [
    "tstart = 0\n",
    "tstop = 1000"
   ]
  },
  {
   "cell_type": "code",
   "execution_count": 6,
   "id": "5d033ffc",
   "metadata": {
    "execution": {
     "iopub.execute_input": "2024-09-11T22:51:20.551379Z",
     "iopub.status.busy": "2024-09-11T22:51:20.551094Z",
     "iopub.status.idle": "2024-09-11T22:51:41.666018Z",
     "shell.execute_reply": "2024-09-11T22:51:41.664664Z"
    }
   },
   "outputs": [
    {
     "data": {
      "text/html": [
       "<pre style=\"white-space:pre;overflow-x:auto;line-height:normal;font-family:Menlo,'DejaVu Sans Mono',consolas,'Courier New',monospace\"><span style=\"color: #00ff00; text-decoration-color: #00ff00\">22:51:20 </span><span style=\"color: #00ffaf; text-decoration-color: #00ffaf\">INFO    </span> <span style=\"color: #c6c6c6; text-decoration-color: #c6c6c6; font-weight: bold\"> Query parameters:                                                       </span><a href=\"file:///Users/runner/work/threeML/threeML/threeML/utils/data_download/Fermi_LAT/download_LAT_data.py\" target=\"_blank\"><span style=\"color: #7f7f7f; text-decoration-color: #7f7f7f\">download_LAT_data.py</span></a><span style=\"color: #7f7f7f; text-decoration-color: #7f7f7f\">:</span><a href=\"file:///Users/runner/work/threeML/threeML/threeML/utils/data_download/Fermi_LAT/download_LAT_data.py#262\" target=\"_blank\"><span style=\"color: #7f7f7f; text-decoration-color: #7f7f7f\">262</span></a>\n",
       "</pre>\n"
      ],
      "text/plain": [
       "\u001b[38;5;46m22:51:20\u001b[0m\u001b[38;5;46m \u001b[0m\u001b[38;5;49mINFO    \u001b[0m \u001b[1;38;5;251m Query parameters:                                                      \u001b[0m\u001b[1;38;5;251m \u001b[0m\u001b]8;id=492105;file:///Users/runner/work/threeML/threeML/threeML/utils/data_download/Fermi_LAT/download_LAT_data.py\u001b\\\u001b[2mdownload_LAT_data.py\u001b[0m\u001b]8;;\u001b\\\u001b[2m:\u001b[0m\u001b]8;id=978319;file:///Users/runner/work/threeML/threeML/threeML/utils/data_download/Fermi_LAT/download_LAT_data.py#262\u001b\\\u001b[2m262\u001b[0m\u001b]8;;\u001b\\\n"
      ]
     },
     "metadata": {},
     "output_type": "display_data"
    },
    {
     "data": {
      "text/html": [
       "<pre style=\"white-space:pre;overflow-x:auto;line-height:normal;font-family:Menlo,'DejaVu Sans Mono',consolas,'Courier New',monospace\"><span style=\"color: #00ff00; text-decoration-color: #00ff00\">         </span><span style=\"color: #00ffaf; text-decoration-color: #00ffaf\">INFO    </span> <span style=\"color: #c6c6c6; text-decoration-color: #c6c6c6; font-weight: bold\">                     coordfield = </span><span style=\"color: #c0c0c0; text-decoration-color: #c0c0c0; font-weight: bold\">54.5100</span><span style=\"color: #c6c6c6; text-decoration-color: #c6c6c6; font-weight: bold\">,</span><span style=\"color: #c0c0c0; text-decoration-color: #c0c0c0; font-weight: bold\">-26.9390</span><span style=\"color: #c6c6c6; text-decoration-color: #c6c6c6; font-weight: bold\">                       </span><a href=\"file:///Users/runner/work/threeML/threeML/threeML/utils/data_download/Fermi_LAT/download_LAT_data.py\" target=\"_blank\"><span style=\"color: #7f7f7f; text-decoration-color: #7f7f7f\">download_LAT_data.py</span></a><span style=\"color: #7f7f7f; text-decoration-color: #7f7f7f\">:</span><a href=\"file:///Users/runner/work/threeML/threeML/threeML/utils/data_download/Fermi_LAT/download_LAT_data.py#266\" target=\"_blank\"><span style=\"color: #7f7f7f; text-decoration-color: #7f7f7f\">266</span></a>\n",
       "</pre>\n"
      ],
      "text/plain": [
       "\u001b[38;5;46m        \u001b[0m\u001b[38;5;46m \u001b[0m\u001b[38;5;49mINFO    \u001b[0m \u001b[1;38;5;251m                     coordfield = \u001b[0m\u001b[1;37m54.5100\u001b[0m\u001b[1;38;5;251m,\u001b[0m\u001b[1;37m-26.9390\u001b[0m\u001b[1;38;5;251m                      \u001b[0m\u001b[1;38;5;251m \u001b[0m\u001b]8;id=342202;file:///Users/runner/work/threeML/threeML/threeML/utils/data_download/Fermi_LAT/download_LAT_data.py\u001b\\\u001b[2mdownload_LAT_data.py\u001b[0m\u001b]8;;\u001b\\\u001b[2m:\u001b[0m\u001b]8;id=511433;file:///Users/runner/work/threeML/threeML/threeML/utils/data_download/Fermi_LAT/download_LAT_data.py#266\u001b\\\u001b[2m266\u001b[0m\u001b]8;;\u001b\\\n"
      ]
     },
     "metadata": {},
     "output_type": "display_data"
    },
    {
     "data": {
      "text/html": [
       "<pre style=\"white-space:pre;overflow-x:auto;line-height:normal;font-family:Menlo,'DejaVu Sans Mono',consolas,'Courier New',monospace\"><span style=\"color: #00ff00; text-decoration-color: #00ff00\">         </span><span style=\"color: #00ffaf; text-decoration-color: #00ffaf\">INFO    </span> <span style=\"color: #c6c6c6; text-decoration-color: #c6c6c6; font-weight: bold\">                    coordsystem = J2000                                  </span><a href=\"file:///Users/runner/work/threeML/threeML/threeML/utils/data_download/Fermi_LAT/download_LAT_data.py\" target=\"_blank\"><span style=\"color: #7f7f7f; text-decoration-color: #7f7f7f\">download_LAT_data.py</span></a><span style=\"color: #7f7f7f; text-decoration-color: #7f7f7f\">:</span><a href=\"file:///Users/runner/work/threeML/threeML/threeML/utils/data_download/Fermi_LAT/download_LAT_data.py#266\" target=\"_blank\"><span style=\"color: #7f7f7f; text-decoration-color: #7f7f7f\">266</span></a>\n",
       "</pre>\n"
      ],
      "text/plain": [
       "\u001b[38;5;46m        \u001b[0m\u001b[38;5;46m \u001b[0m\u001b[38;5;49mINFO    \u001b[0m \u001b[1;38;5;251m                    coordsystem = J2000                                 \u001b[0m\u001b[1;38;5;251m \u001b[0m\u001b]8;id=551928;file:///Users/runner/work/threeML/threeML/threeML/utils/data_download/Fermi_LAT/download_LAT_data.py\u001b\\\u001b[2mdownload_LAT_data.py\u001b[0m\u001b]8;;\u001b\\\u001b[2m:\u001b[0m\u001b]8;id=888303;file:///Users/runner/work/threeML/threeML/threeML/utils/data_download/Fermi_LAT/download_LAT_data.py#266\u001b\\\u001b[2m266\u001b[0m\u001b]8;;\u001b\\\n"
      ]
     },
     "metadata": {},
     "output_type": "display_data"
    },
    {
     "data": {
      "text/html": [
       "<pre style=\"white-space:pre;overflow-x:auto;line-height:normal;font-family:Menlo,'DejaVu Sans Mono',consolas,'Courier New',monospace\"><span style=\"color: #00ff00; text-decoration-color: #00ff00\">         </span><span style=\"color: #00ffaf; text-decoration-color: #00ffaf\">INFO    </span> <span style=\"color: #c6c6c6; text-decoration-color: #c6c6c6; font-weight: bold\">                     shapefield = </span><span style=\"color: #c0c0c0; text-decoration-color: #c0c0c0; font-weight: bold\">12</span><span style=\"color: #c6c6c6; text-decoration-color: #c6c6c6; font-weight: bold\">                                     </span><a href=\"file:///Users/runner/work/threeML/threeML/threeML/utils/data_download/Fermi_LAT/download_LAT_data.py\" target=\"_blank\"><span style=\"color: #7f7f7f; text-decoration-color: #7f7f7f\">download_LAT_data.py</span></a><span style=\"color: #7f7f7f; text-decoration-color: #7f7f7f\">:</span><a href=\"file:///Users/runner/work/threeML/threeML/threeML/utils/data_download/Fermi_LAT/download_LAT_data.py#266\" target=\"_blank\"><span style=\"color: #7f7f7f; text-decoration-color: #7f7f7f\">266</span></a>\n",
       "</pre>\n"
      ],
      "text/plain": [
       "\u001b[38;5;46m        \u001b[0m\u001b[38;5;46m \u001b[0m\u001b[38;5;49mINFO    \u001b[0m \u001b[1;38;5;251m                     shapefield = \u001b[0m\u001b[1;37m12\u001b[0m\u001b[1;38;5;251m                                    \u001b[0m\u001b[1;38;5;251m \u001b[0m\u001b]8;id=101501;file:///Users/runner/work/threeML/threeML/threeML/utils/data_download/Fermi_LAT/download_LAT_data.py\u001b\\\u001b[2mdownload_LAT_data.py\u001b[0m\u001b]8;;\u001b\\\u001b[2m:\u001b[0m\u001b]8;id=528229;file:///Users/runner/work/threeML/threeML/threeML/utils/data_download/Fermi_LAT/download_LAT_data.py#266\u001b\\\u001b[2m266\u001b[0m\u001b]8;;\u001b\\\n"
      ]
     },
     "metadata": {},
     "output_type": "display_data"
    },
    {
     "data": {
      "text/html": [
       "<pre style=\"white-space:pre;overflow-x:auto;line-height:normal;font-family:Menlo,'DejaVu Sans Mono',consolas,'Courier New',monospace\"><span style=\"color: #00ff00; text-decoration-color: #00ff00\">         </span><span style=\"color: #00ffaf; text-decoration-color: #00ffaf\">INFO    </span> <span style=\"color: #c6c6c6; text-decoration-color: #c6c6c6; font-weight: bold\">                      timefield = </span><span style=\"color: #c0c0c0; text-decoration-color: #c0c0c0; font-weight: bold\">569192227.626</span><span style=\"color: #c6c6c6; text-decoration-color: #c6c6c6; font-weight: bold\">,</span><span style=\"color: #c0c0c0; text-decoration-color: #c0c0c0; font-weight: bold\">569193227.626</span><span style=\"color: #c6c6c6; text-decoration-color: #c6c6c6; font-weight: bold\">            </span><a href=\"file:///Users/runner/work/threeML/threeML/threeML/utils/data_download/Fermi_LAT/download_LAT_data.py\" target=\"_blank\"><span style=\"color: #7f7f7f; text-decoration-color: #7f7f7f\">download_LAT_data.py</span></a><span style=\"color: #7f7f7f; text-decoration-color: #7f7f7f\">:</span><a href=\"file:///Users/runner/work/threeML/threeML/threeML/utils/data_download/Fermi_LAT/download_LAT_data.py#266\" target=\"_blank\"><span style=\"color: #7f7f7f; text-decoration-color: #7f7f7f\">266</span></a>\n",
       "</pre>\n"
      ],
      "text/plain": [
       "\u001b[38;5;46m        \u001b[0m\u001b[38;5;46m \u001b[0m\u001b[38;5;49mINFO    \u001b[0m \u001b[1;38;5;251m                      timefield = \u001b[0m\u001b[1;37m569192227.626\u001b[0m\u001b[1;38;5;251m,\u001b[0m\u001b[1;37m569193227.626\u001b[0m\u001b[1;38;5;251m           \u001b[0m\u001b[1;38;5;251m \u001b[0m\u001b]8;id=617751;file:///Users/runner/work/threeML/threeML/threeML/utils/data_download/Fermi_LAT/download_LAT_data.py\u001b\\\u001b[2mdownload_LAT_data.py\u001b[0m\u001b]8;;\u001b\\\u001b[2m:\u001b[0m\u001b]8;id=548544;file:///Users/runner/work/threeML/threeML/threeML/utils/data_download/Fermi_LAT/download_LAT_data.py#266\u001b\\\u001b[2m266\u001b[0m\u001b]8;;\u001b\\\n"
      ]
     },
     "metadata": {},
     "output_type": "display_data"
    },
    {
     "data": {
      "text/html": [
       "<pre style=\"white-space:pre;overflow-x:auto;line-height:normal;font-family:Menlo,'DejaVu Sans Mono',consolas,'Courier New',monospace\"><span style=\"color: #00ff00; text-decoration-color: #00ff00\">         </span><span style=\"color: #00ffaf; text-decoration-color: #00ffaf\">INFO    </span> <span style=\"color: #c6c6c6; text-decoration-color: #c6c6c6; font-weight: bold\">                       timetype = MET                                    </span><a href=\"file:///Users/runner/work/threeML/threeML/threeML/utils/data_download/Fermi_LAT/download_LAT_data.py\" target=\"_blank\"><span style=\"color: #7f7f7f; text-decoration-color: #7f7f7f\">download_LAT_data.py</span></a><span style=\"color: #7f7f7f; text-decoration-color: #7f7f7f\">:</span><a href=\"file:///Users/runner/work/threeML/threeML/threeML/utils/data_download/Fermi_LAT/download_LAT_data.py#266\" target=\"_blank\"><span style=\"color: #7f7f7f; text-decoration-color: #7f7f7f\">266</span></a>\n",
       "</pre>\n"
      ],
      "text/plain": [
       "\u001b[38;5;46m        \u001b[0m\u001b[38;5;46m \u001b[0m\u001b[38;5;49mINFO    \u001b[0m \u001b[1;38;5;251m                       timetype = MET                                   \u001b[0m\u001b[1;38;5;251m \u001b[0m\u001b]8;id=388042;file:///Users/runner/work/threeML/threeML/threeML/utils/data_download/Fermi_LAT/download_LAT_data.py\u001b\\\u001b[2mdownload_LAT_data.py\u001b[0m\u001b]8;;\u001b\\\u001b[2m:\u001b[0m\u001b]8;id=966577;file:///Users/runner/work/threeML/threeML/threeML/utils/data_download/Fermi_LAT/download_LAT_data.py#266\u001b\\\u001b[2m266\u001b[0m\u001b]8;;\u001b\\\n"
      ]
     },
     "metadata": {},
     "output_type": "display_data"
    },
    {
     "data": {
      "text/html": [
       "<pre style=\"white-space:pre;overflow-x:auto;line-height:normal;font-family:Menlo,'DejaVu Sans Mono',consolas,'Courier New',monospace\"><span style=\"color: #00ff00; text-decoration-color: #00ff00\">         </span><span style=\"color: #00ffaf; text-decoration-color: #00ffaf\">INFO    </span> <span style=\"color: #c6c6c6; text-decoration-color: #c6c6c6; font-weight: bold\">                    energyfield = </span><span style=\"color: #c0c0c0; text-decoration-color: #c0c0c0; font-weight: bold\">100.000</span><span style=\"color: #c6c6c6; text-decoration-color: #c6c6c6; font-weight: bold\">,</span><span style=\"color: #c0c0c0; text-decoration-color: #c0c0c0; font-weight: bold\">10000.000</span><span style=\"color: #c6c6c6; text-decoration-color: #c6c6c6; font-weight: bold\">                      </span><a href=\"file:///Users/runner/work/threeML/threeML/threeML/utils/data_download/Fermi_LAT/download_LAT_data.py\" target=\"_blank\"><span style=\"color: #7f7f7f; text-decoration-color: #7f7f7f\">download_LAT_data.py</span></a><span style=\"color: #7f7f7f; text-decoration-color: #7f7f7f\">:</span><a href=\"file:///Users/runner/work/threeML/threeML/threeML/utils/data_download/Fermi_LAT/download_LAT_data.py#266\" target=\"_blank\"><span style=\"color: #7f7f7f; text-decoration-color: #7f7f7f\">266</span></a>\n",
       "</pre>\n"
      ],
      "text/plain": [
       "\u001b[38;5;46m        \u001b[0m\u001b[38;5;46m \u001b[0m\u001b[38;5;49mINFO    \u001b[0m \u001b[1;38;5;251m                    energyfield = \u001b[0m\u001b[1;37m100.000\u001b[0m\u001b[1;38;5;251m,\u001b[0m\u001b[1;37m10000.000\u001b[0m\u001b[1;38;5;251m                     \u001b[0m\u001b[1;38;5;251m \u001b[0m\u001b]8;id=494229;file:///Users/runner/work/threeML/threeML/threeML/utils/data_download/Fermi_LAT/download_LAT_data.py\u001b\\\u001b[2mdownload_LAT_data.py\u001b[0m\u001b]8;;\u001b\\\u001b[2m:\u001b[0m\u001b]8;id=845012;file:///Users/runner/work/threeML/threeML/threeML/utils/data_download/Fermi_LAT/download_LAT_data.py#266\u001b\\\u001b[2m266\u001b[0m\u001b]8;;\u001b\\\n"
      ]
     },
     "metadata": {},
     "output_type": "display_data"
    },
    {
     "data": {
      "text/html": [
       "<pre style=\"white-space:pre;overflow-x:auto;line-height:normal;font-family:Menlo,'DejaVu Sans Mono',consolas,'Courier New',monospace\"><span style=\"color: #00ff00; text-decoration-color: #00ff00\">         </span><span style=\"color: #00ffaf; text-decoration-color: #00ffaf\">INFO    </span> <span style=\"color: #c6c6c6; text-decoration-color: #c6c6c6; font-weight: bold\">         photonOrExtendedOrNone = Extended                               </span><a href=\"file:///Users/runner/work/threeML/threeML/threeML/utils/data_download/Fermi_LAT/download_LAT_data.py\" target=\"_blank\"><span style=\"color: #7f7f7f; text-decoration-color: #7f7f7f\">download_LAT_data.py</span></a><span style=\"color: #7f7f7f; text-decoration-color: #7f7f7f\">:</span><a href=\"file:///Users/runner/work/threeML/threeML/threeML/utils/data_download/Fermi_LAT/download_LAT_data.py#266\" target=\"_blank\"><span style=\"color: #7f7f7f; text-decoration-color: #7f7f7f\">266</span></a>\n",
       "</pre>\n"
      ],
      "text/plain": [
       "\u001b[38;5;46m        \u001b[0m\u001b[38;5;46m \u001b[0m\u001b[38;5;49mINFO    \u001b[0m \u001b[1;38;5;251m         photonOrExtendedOrNone = Extended                              \u001b[0m\u001b[1;38;5;251m \u001b[0m\u001b]8;id=624636;file:///Users/runner/work/threeML/threeML/threeML/utils/data_download/Fermi_LAT/download_LAT_data.py\u001b\\\u001b[2mdownload_LAT_data.py\u001b[0m\u001b]8;;\u001b\\\u001b[2m:\u001b[0m\u001b]8;id=475768;file:///Users/runner/work/threeML/threeML/threeML/utils/data_download/Fermi_LAT/download_LAT_data.py#266\u001b\\\u001b[2m266\u001b[0m\u001b]8;;\u001b\\\n"
      ]
     },
     "metadata": {},
     "output_type": "display_data"
    },
    {
     "data": {
      "text/html": [
       "<pre style=\"white-space:pre;overflow-x:auto;line-height:normal;font-family:Menlo,'DejaVu Sans Mono',consolas,'Courier New',monospace\"><span style=\"color: #00ff00; text-decoration-color: #00ff00\">         </span><span style=\"color: #00ffaf; text-decoration-color: #00ffaf\">INFO    </span> <span style=\"color: #c6c6c6; text-decoration-color: #c6c6c6; font-weight: bold\">                    destination = query                                  </span><a href=\"file:///Users/runner/work/threeML/threeML/threeML/utils/data_download/Fermi_LAT/download_LAT_data.py\" target=\"_blank\"><span style=\"color: #7f7f7f; text-decoration-color: #7f7f7f\">download_LAT_data.py</span></a><span style=\"color: #7f7f7f; text-decoration-color: #7f7f7f\">:</span><a href=\"file:///Users/runner/work/threeML/threeML/threeML/utils/data_download/Fermi_LAT/download_LAT_data.py#266\" target=\"_blank\"><span style=\"color: #7f7f7f; text-decoration-color: #7f7f7f\">266</span></a>\n",
       "</pre>\n"
      ],
      "text/plain": [
       "\u001b[38;5;46m        \u001b[0m\u001b[38;5;46m \u001b[0m\u001b[38;5;49mINFO    \u001b[0m \u001b[1;38;5;251m                    destination = query                                 \u001b[0m\u001b[1;38;5;251m \u001b[0m\u001b]8;id=771992;file:///Users/runner/work/threeML/threeML/threeML/utils/data_download/Fermi_LAT/download_LAT_data.py\u001b\\\u001b[2mdownload_LAT_data.py\u001b[0m\u001b]8;;\u001b\\\u001b[2m:\u001b[0m\u001b]8;id=326383;file:///Users/runner/work/threeML/threeML/threeML/utils/data_download/Fermi_LAT/download_LAT_data.py#266\u001b\\\u001b[2m266\u001b[0m\u001b]8;;\u001b\\\n"
      ]
     },
     "metadata": {},
     "output_type": "display_data"
    },
    {
     "data": {
      "text/html": [
       "<pre style=\"white-space:pre;overflow-x:auto;line-height:normal;font-family:Menlo,'DejaVu Sans Mono',consolas,'Courier New',monospace\"><span style=\"color: #00ff00; text-decoration-color: #00ff00\">         </span><span style=\"color: #00ffaf; text-decoration-color: #00ffaf\">INFO    </span> <span style=\"color: #c6c6c6; text-decoration-color: #c6c6c6; font-weight: bold\">                     spacecraft = checked                                </span><a href=\"file:///Users/runner/work/threeML/threeML/threeML/utils/data_download/Fermi_LAT/download_LAT_data.py\" target=\"_blank\"><span style=\"color: #7f7f7f; text-decoration-color: #7f7f7f\">download_LAT_data.py</span></a><span style=\"color: #7f7f7f; text-decoration-color: #7f7f7f\">:</span><a href=\"file:///Users/runner/work/threeML/threeML/threeML/utils/data_download/Fermi_LAT/download_LAT_data.py#266\" target=\"_blank\"><span style=\"color: #7f7f7f; text-decoration-color: #7f7f7f\">266</span></a>\n",
       "</pre>\n"
      ],
      "text/plain": [
       "\u001b[38;5;46m        \u001b[0m\u001b[38;5;46m \u001b[0m\u001b[38;5;49mINFO    \u001b[0m \u001b[1;38;5;251m                     spacecraft = checked                               \u001b[0m\u001b[1;38;5;251m \u001b[0m\u001b]8;id=772678;file:///Users/runner/work/threeML/threeML/threeML/utils/data_download/Fermi_LAT/download_LAT_data.py\u001b\\\u001b[2mdownload_LAT_data.py\u001b[0m\u001b]8;;\u001b\\\u001b[2m:\u001b[0m\u001b]8;id=333170;file:///Users/runner/work/threeML/threeML/threeML/utils/data_download/Fermi_LAT/download_LAT_data.py#266\u001b\\\u001b[2m266\u001b[0m\u001b]8;;\u001b\\\n"
      ]
     },
     "metadata": {},
     "output_type": "display_data"
    },
    {
     "data": {
      "text/html": [
       "<pre style=\"white-space:pre;overflow-x:auto;line-height:normal;font-family:Menlo,'DejaVu Sans Mono',consolas,'Courier New',monospace\"><span style=\"color: #00ff00; text-decoration-color: #00ff00\">         </span><span style=\"color: #00ffaf; text-decoration-color: #00ffaf\">INFO    </span> <span style=\"color: #c6c6c6; text-decoration-color: #c6c6c6; font-weight: bold\"> Query ID: 86ad4d2b3b3e5065f0f0a976e6fc8315                              </span><a href=\"file:///Users/runner/work/threeML/threeML/threeML/utils/data_download/Fermi_LAT/download_LAT_data.py\" target=\"_blank\"><span style=\"color: #7f7f7f; text-decoration-color: #7f7f7f\">download_LAT_data.py</span></a><span style=\"color: #7f7f7f; text-decoration-color: #7f7f7f\">:</span><a href=\"file:///Users/runner/work/threeML/threeML/threeML/utils/data_download/Fermi_LAT/download_LAT_data.py#271\" target=\"_blank\"><span style=\"color: #7f7f7f; text-decoration-color: #7f7f7f\">271</span></a>\n",
       "</pre>\n"
      ],
      "text/plain": [
       "\u001b[38;5;46m        \u001b[0m\u001b[38;5;46m \u001b[0m\u001b[38;5;49mINFO    \u001b[0m \u001b[1;38;5;251m Query ID: 86ad4d2b3b3e5065f0f0a976e6fc8315                             \u001b[0m\u001b[1;38;5;251m \u001b[0m\u001b]8;id=475476;file:///Users/runner/work/threeML/threeML/threeML/utils/data_download/Fermi_LAT/download_LAT_data.py\u001b\\\u001b[2mdownload_LAT_data.py\u001b[0m\u001b]8;;\u001b\\\u001b[2m:\u001b[0m\u001b]8;id=867030;file:///Users/runner/work/threeML/threeML/threeML/utils/data_download/Fermi_LAT/download_LAT_data.py#271\u001b\\\u001b[2m271\u001b[0m\u001b]8;;\u001b\\\n"
      ]
     },
     "metadata": {},
     "output_type": "display_data"
    },
    {
     "data": {
      "text/html": [
       "<pre style=\"white-space:pre;overflow-x:auto;line-height:normal;font-family:Menlo,'DejaVu Sans Mono',consolas,'Courier New',monospace\"><span style=\"color: #00ff00; text-decoration-color: #00ff00\">22:51:21 </span><span style=\"color: #00ffaf; text-decoration-color: #00ffaf\">INFO    </span> <span style=\"color: #c6c6c6; text-decoration-color: #c6c6c6; font-weight: bold\"> Estimated complete time for your query: </span><span style=\"color: #c0c0c0; text-decoration-color: #c0c0c0; font-weight: bold\">15</span><span style=\"color: #c6c6c6; text-decoration-color: #c6c6c6; font-weight: bold\"> seconds                      </span><a href=\"file:///Users/runner/work/threeML/threeML/threeML/utils/data_download/Fermi_LAT/download_LAT_data.py\" target=\"_blank\"><span style=\"color: #7f7f7f; text-decoration-color: #7f7f7f\">download_LAT_data.py</span></a><span style=\"color: #7f7f7f; text-decoration-color: #7f7f7f\">:</span><a href=\"file:///Users/runner/work/threeML/threeML/threeML/utils/data_download/Fermi_LAT/download_LAT_data.py#428\" target=\"_blank\"><span style=\"color: #7f7f7f; text-decoration-color: #7f7f7f\">428</span></a>\n",
       "</pre>\n"
      ],
      "text/plain": [
       "\u001b[38;5;46m22:51:21\u001b[0m\u001b[38;5;46m \u001b[0m\u001b[38;5;49mINFO    \u001b[0m \u001b[1;38;5;251m Estimated complete time for your query: \u001b[0m\u001b[1;37m15\u001b[0m\u001b[1;38;5;251m seconds                     \u001b[0m\u001b[1;38;5;251m \u001b[0m\u001b]8;id=587730;file:///Users/runner/work/threeML/threeML/threeML/utils/data_download/Fermi_LAT/download_LAT_data.py\u001b\\\u001b[2mdownload_LAT_data.py\u001b[0m\u001b]8;;\u001b\\\u001b[2m:\u001b[0m\u001b]8;id=728727;file:///Users/runner/work/threeML/threeML/threeML/utils/data_download/Fermi_LAT/download_LAT_data.py#428\u001b\\\u001b[2m428\u001b[0m\u001b]8;;\u001b\\\n"
      ]
     },
     "metadata": {},
     "output_type": "display_data"
    },
    {
     "data": {
      "text/html": [
       "<pre style=\"white-space:pre;overflow-x:auto;line-height:normal;font-family:Menlo,'DejaVu Sans Mono',consolas,'Courier New',monospace\"><span style=\"color: #00ff00; text-decoration-color: #00ff00\">         </span><span style=\"color: #00ffaf; text-decoration-color: #00ffaf\">INFO    </span> <span style=\"color: #c6c6c6; text-decoration-color: #c6c6c6; font-weight: bold\"> If this download fails, you can find your data at                       </span><a href=\"file:///Users/runner/work/threeML/threeML/threeML/utils/data_download/Fermi_LAT/download_LAT_data.py\" target=\"_blank\"><span style=\"color: #7f7f7f; text-decoration-color: #7f7f7f\">download_LAT_data.py</span></a><span style=\"color: #7f7f7f; text-decoration-color: #7f7f7f\">:</span><a href=\"file:///Users/runner/work/threeML/threeML/threeML/utils/data_download/Fermi_LAT/download_LAT_data.py#437\" target=\"_blank\"><span style=\"color: #7f7f7f; text-decoration-color: #7f7f7f\">437</span></a>\n",
       "<span style=\"color: #00ff00; text-decoration-color: #00ff00\">         </span>         <span style=\"color: #d7d7d7; text-decoration-color: #d7d7d7; text-decoration: underline\">https://fermi.gsfc.nasa.gov/cgi-bin/ssc/LAT/QueryResults.cgi?id=L2409111</span><span style=\"color: #c6c6c6; text-decoration-color: #c6c6c6; font-weight: bold\"> </span><span style=\"color: #7f7f7f; text-decoration-color: #7f7f7f\">                        </span>\n",
       "<span style=\"color: #00ff00; text-decoration-color: #00ff00\">         </span>         <span style=\"color: #d7d7d7; text-decoration-color: #d7d7d7; text-decoration: underline\">85122D8968AF218</span><span style=\"color: #c6c6c6; text-decoration-color: #c6c6c6; font-weight: bold\"> (when ready)                                             </span><span style=\"color: #7f7f7f; text-decoration-color: #7f7f7f\">                        </span>\n",
       "</pre>\n"
      ],
      "text/plain": [
       "\u001b[38;5;46m        \u001b[0m\u001b[38;5;46m \u001b[0m\u001b[38;5;49mINFO    \u001b[0m \u001b[1;38;5;251m If this download fails, you can find your data at                      \u001b[0m\u001b[1;38;5;251m \u001b[0m\u001b]8;id=170786;file:///Users/runner/work/threeML/threeML/threeML/utils/data_download/Fermi_LAT/download_LAT_data.py\u001b\\\u001b[2mdownload_LAT_data.py\u001b[0m\u001b]8;;\u001b\\\u001b[2m:\u001b[0m\u001b]8;id=463685;file:///Users/runner/work/threeML/threeML/threeML/utils/data_download/Fermi_LAT/download_LAT_data.py#437\u001b\\\u001b[2m437\u001b[0m\u001b]8;;\u001b\\\n",
       "\u001b[38;5;46m         \u001b[0m         \u001b[4;38;5;188mhttps://fermi.gsfc.nasa.gov/cgi-bin/ssc/LAT/QueryResults.cgi?\u001b[0m\u001b[4;38;5;188mid\u001b[0m\u001b[4;38;5;188m=\u001b[0m\u001b[4;38;5;188mL2409111\u001b[0m\u001b[1;38;5;251m \u001b[0m\u001b[2m                        \u001b[0m\n",
       "\u001b[38;5;46m         \u001b[0m         \u001b[4;38;5;188m85122D8968AF218\u001b[0m\u001b[1;38;5;251m \u001b[0m\u001b[1;38;5;251m(\u001b[0m\u001b[1;38;5;251mwhen ready\u001b[0m\u001b[1;38;5;251m)\u001b[0m\u001b[1;38;5;251m                                            \u001b[0m\u001b[1;38;5;251m \u001b[0m\u001b[2m                        \u001b[0m\n"
      ]
     },
     "metadata": {},
     "output_type": "display_data"
    },
    {
     "data": {
      "text/html": [
       "<pre style=\"white-space:pre;overflow-x:auto;line-height:normal;font-family:Menlo,'DejaVu Sans Mono',consolas,'Courier New',monospace\"><span style=\"color: #00ff00; text-decoration-color: #00ff00\">22:51:33 </span><span style=\"color: #00ffaf; text-decoration-color: #00ffaf\">INFO    </span> <span style=\"color: #c6c6c6; text-decoration-color: #c6c6c6; font-weight: bold\"> Downloading FT1 and FT2 files</span><span style=\"color: #808000; text-decoration-color: #808000; font-weight: bold\">...</span><span style=\"color: #c6c6c6; text-decoration-color: #c6c6c6; font-weight: bold\">                                        </span><a href=\"file:///Users/runner/work/threeML/threeML/threeML/utils/data_download/Fermi_LAT/download_LAT_data.py\" target=\"_blank\"><span style=\"color: #7f7f7f; text-decoration-color: #7f7f7f\">download_LAT_data.py</span></a><span style=\"color: #7f7f7f; text-decoration-color: #7f7f7f\">:</span><a href=\"file:///Users/runner/work/threeML/threeML/threeML/utils/data_download/Fermi_LAT/download_LAT_data.py#527\" target=\"_blank\"><span style=\"color: #7f7f7f; text-decoration-color: #7f7f7f\">527</span></a>\n",
       "</pre>\n"
      ],
      "text/plain": [
       "\u001b[38;5;46m22:51:33\u001b[0m\u001b[38;5;46m \u001b[0m\u001b[38;5;49mINFO    \u001b[0m \u001b[1;38;5;251m Downloading FT1 and FT2 files\u001b[0m\u001b[1;33m...\u001b[0m\u001b[1;38;5;251m                                       \u001b[0m\u001b[1;38;5;251m \u001b[0m\u001b]8;id=421801;file:///Users/runner/work/threeML/threeML/threeML/utils/data_download/Fermi_LAT/download_LAT_data.py\u001b\\\u001b[2mdownload_LAT_data.py\u001b[0m\u001b]8;;\u001b\\\u001b[2m:\u001b[0m\u001b]8;id=588834;file:///Users/runner/work/threeML/threeML/threeML/utils/data_download/Fermi_LAT/download_LAT_data.py#527\u001b\\\u001b[2m527\u001b[0m\u001b]8;;\u001b\\\n"
      ]
     },
     "metadata": {},
     "output_type": "display_data"
    },
    {
     "data": {
      "application/vnd.jupyter.widget-view+json": {
       "model_id": "edef5a17492d4e459d821c97e19f96b9",
       "version_major": 2,
       "version_minor": 0
      },
      "text/plain": [
       "Downloading L240911185122D8968AF218_EV00.fits:   0%|          | 0.00/98.4k [00:00<?, ?B/s]"
      ]
     },
     "metadata": {},
     "output_type": "display_data"
    },
    {
     "data": {
      "application/vnd.jupyter.widget-view+json": {
       "model_id": "e906a46330114d6c89c0432d6869069a",
       "version_major": 2,
       "version_minor": 0
      },
      "text/plain": [
       "Downloading L240911185122D8968AF218_SC00.fits:   0%|          | 0.00/22.5k [00:00<?, ?B/s]"
      ]
     },
     "metadata": {},
     "output_type": "display_data"
    },
    {
     "data": {
      "text/html": [
       "<pre style=\"white-space:pre;overflow-x:auto;line-height:normal;font-family:Menlo,'DejaVu Sans Mono',consolas,'Courier New',monospace\"><span style=\"color: #00ff00; text-decoration-color: #00ff00\">22:51:38 </span><span style=\"color: #af5fd7; text-decoration-color: #af5fd7\">WARNING </span> <span style=\"color: #c6c6c6; text-decoration-color: #c6c6c6; font-weight: bold\"> Only one FT1 file provided. Skipping the merge</span><span style=\"color: #808000; text-decoration-color: #808000; font-weight: bold\">...</span><span style=\"color: #c6c6c6; text-decoration-color: #c6c6c6; font-weight: bold\">                        </span><a href=\"file:///Users/runner/work/threeML/threeML/threeML/utils/data_download/Fermi_LAT/download_LAT_data.py\" target=\"_blank\"><span style=\"color: #7f7f7f; text-decoration-color: #7f7f7f\">download_LAT_data.py</span></a><span style=\"color: #7f7f7f; text-decoration-color: #7f7f7f\">:</span><a href=\"file:///Users/runner/work/threeML/threeML/threeML/utils/data_download/Fermi_LAT/download_LAT_data.py#98\" target=\"_blank\"><span style=\"color: #7f7f7f; text-decoration-color: #7f7f7f\">98</span></a>\n",
       "</pre>\n"
      ],
      "text/plain": [
       "\u001b[38;5;46m22:51:38\u001b[0m\u001b[38;5;46m \u001b[0m\u001b[38;5;134mWARNING \u001b[0m \u001b[1;38;5;251m Only one FT1 file provided. Skipping the merge\u001b[0m\u001b[1;33m...\u001b[0m\u001b[1;38;5;251m                       \u001b[0m\u001b[1;38;5;251m \u001b[0m\u001b]8;id=444253;file:///Users/runner/work/threeML/threeML/threeML/utils/data_download/Fermi_LAT/download_LAT_data.py\u001b\\\u001b[2mdownload_LAT_data.py\u001b[0m\u001b]8;;\u001b\\\u001b[2m:\u001b[0m\u001b]8;id=906404;file:///Users/runner/work/threeML/threeML/threeML/utils/data_download/Fermi_LAT/download_LAT_data.py#98\u001b\\\u001b[2m98\u001b[0m\u001b]8;;\u001b\\\n"
      ]
     },
     "metadata": {},
     "output_type": "display_data"
    },
    {
     "name": "stdout",
     "output_type": "stream",
     "text": [
      "Writing ./bn190114873/gll_cspec_tr_bn190114873_v00.rsp...\n",
      "time -p gtselect infile=./bn190114873/gll_ft1_tr_bn190114873_v00.fit outfile=__temp_ft1.fits ra=54.51 dec=-26.939 rad=15.0 tmin=569192226.626 tmax=569193228.626 emin=10.0 emax=300000.0 zmin=0.0 zmax=110.0 evclass=\"INDEF\" evtype=\"INDEF\" convtype=-1 phasemin=0.0 phasemax=1.0 evtable=\"EVENTS\" chatter=2 clobber=yes debug=no gui=no mode=\"ql\"\n",
      "Done.\n",
      "real 0.13\n",
      "user 0.09\n",
      "sys 0.02\n",
      "Writing ./bn190114873/gll_cspec_tr_bn190114873_v00.pha...\n",
      " *  Get energy binning from the response matrix...\n",
      "\n",
      "    done.\n",
      "\n",
      " *  Run gtbindef and gtbin and bin in energy and time...\n",
      "\n",
      "time -p gtbindef bintype=\"E\" binfile=__ebins.txt outfile=__energyBins.fits energyunits=\"keV\" chatter=2 clobber=yes debug=no gui=no mode=\"ql\"\n"
     ]
    },
    {
     "name": "stdout",
     "output_type": "stream",
     "text": [
      "This is gtbindef version HEAD\n",
      "real 0.05\n",
      "user 0.02\n",
      "sys 0.01\n",
      "time -p gtbin evfile=/Users/runner/work/threeML/threeML/docs/md_docs/slow_execute/__temp_ft1.fits scfile=/Users/runner/work/threeML/threeML/docs/md_docs/slow_execute/bn190114873/gll_ft2_tr_bn190114873_v00.fit outfile=__gtllebin__pha2.pha algorithm=\"PHA2\" ebinalg=\"FILE\" emin=30.0 emax=200000.0 ebinfile=__energyBins.fits tbinalg=\"LIN\" tstart=569192227.626 tstop=569193227.626 dtime=4.096 tbinfile=NONE coordsys=\"CEL\" axisrot=0.0 rafield=\"RA\" decfield=\"DEC\" proj=\"AIT\" hpx_ordering_scheme=\"RING\" hpx_order=3 hpx_ebin=yes hpx_region=\"\" evtable=\"EVENTS\" sctable=\"SC_DATA\" efield=\"ENERGY\" tfield=\"TIME\" chatter=1 clobber=yes debug=no gui=no mode=\"ql\"\n",
      "This is gtbin version HEAD\n"
     ]
    },
    {
     "name": "stdout",
     "output_type": "stream",
     "text": [
      "real 2.39\n",
      "user 2.23\n",
      "sys 0.14\n",
      "\n",
      "    done.\n",
      "\n",
      " *  Transform gtbin output in CSPEC format...\n",
      "\n",
      "    done.\n",
      "\n",
      " *  Updating keywords in the headers of the CSPEC file...\n",
      "\n",
      "    done.\n",
      "\n",
      "gtllebin done!\n"
     ]
    },
    {
     "name": "stderr",
     "output_type": "stream",
     "text": [
      "WARNING: VerifyWarning: Card is too long, comment will be truncated. [astropy.io.fits.card]\n"
     ]
    }
   ],
   "source": [
    "myLATdataset = LAT_dataset()\n",
    "\n",
    "myLATdataset.make_LAT_dataset(\n",
    "    ra=myGRB[\"RA\"],\n",
    "    dec=myGRB[\"DEC\"],\n",
    "    radius=12,\n",
    "    trigger_time=myGRB[\"MET\"],\n",
    "    tstart=tstart,\n",
    "    tstop=tstop,\n",
    "    data_type=\"Extended\",\n",
    "    destination_directory=\".\",\n",
    "    Emin=100.0,\n",
    "    Emax=10000.0,\n",
    ")  # Energies are MeV (this is from 100 MeV to 10 GeV)"
   ]
  },
  {
   "cell_type": "markdown",
   "id": "40fcb241",
   "metadata": {},
   "source": [
    "We want perform a time resolved analysis. So, first we look at the data. We can play with the ROI selection and the cut.\n"
   ]
  },
  {
   "cell_type": "code",
   "execution_count": 7,
   "id": "f4bfce19",
   "metadata": {
    "execution": {
     "iopub.execute_input": "2024-09-11T22:51:41.672399Z",
     "iopub.status.busy": "2024-09-11T22:51:41.672034Z",
     "iopub.status.idle": "2024-09-11T22:51:42.009608Z",
     "shell.execute_reply": "2024-09-11T22:51:42.006724Z"
    }
   },
   "outputs": [
    {
     "name": "stdout",
     "output_type": "stream",
     "text": [
      "time -p gtmktime scfile=/Users/runner/work/threeML/threeML/docs/md_docs/slow_execute/bn190114873/gll_ft2_tr_bn190114873_v00.fit sctable=\"SC_DATA\" filter=\"(DATA_QUAL>0 || DATA_QUAL==-1) && LAT_CONFIG==1 && IN_SAA!=T && LIVETIME>0 && (ANGSEP(RA_ZENITH,DEC_ZENITH,54.51,-26.939)<=(110.0-10))\" roicut=no evfile=/Users/runner/work/threeML/threeML/docs/md_docs/slow_execute/bn190114873/gll_ft1_tr_bn190114873_v00.fit evtable=\"EVENTS\" outfile=\"gll_ft1_tr_bn190114873_v00_mkt.fit\" apply_filter=yes overwrite=no header_obstimes=yes tstart=569192227.626 tstop=569193227.626 gtifile=\"default\" chatter=2 clobber=yes debug=no gui=no mode=\"ql\""
     ]
    },
    {
     "name": "stdout",
     "output_type": "stream",
     "text": [
      "\n",
      "real 0.09\n",
      "user 0.06\n",
      "sys 0.02\n",
      "\n",
      "Using 305 data\n",
      "\n",
      "time -p gtselect infile=gll_ft1_tr_bn190114873_v00_mkt.fit outfile=gll_ft1_tr_bn190114873_v00_filt.fit ra=54.51 dec=-26.939 rad=10.0 tmin=569192227.626 tmax=569193227.626 emin=100.0 emax=10000.0 zmin=0.0 zmax=110.0 evclass=8 evtype=3 convtype=-1 phasemin=0.0 phasemax=1.0 evtable=\"EVENTS\" chatter=2 clobber=yes debug=no gui=no mode=\"ql\"\n"
     ]
    },
    {
     "name": "stdout",
     "output_type": "stream",
     "text": [
      "Done.\n",
      "real 0.11\n",
      "user 0.09\n",
      "sys 0.01\n",
      "\n",
      "Selected 251 events.\n"
     ]
    },
    {
     "data": {
      "text/html": [
       "<pre style=\"white-space:pre;overflow-x:auto;line-height:normal;font-family:Menlo,'DejaVu Sans Mono',consolas,'Courier New',monospace\"><span style=\"color: #00ff00; text-decoration-color: #00ff00\">22:51:41 </span><span style=\"color: #00ffaf; text-decoration-color: #00ffaf\">INFO    </span> <span style=\"color: #c6c6c6; text-decoration-color: #c6c6c6; font-weight: bold\"> Extracted </span><span style=\"color: #c0c0c0; text-decoration-color: #c0c0c0; font-weight: bold\">251</span><span style=\"color: #c6c6c6; text-decoration-color: #c6c6c6; font-weight: bold\"> events                                                    </span><a href=\"file:///Users/runner/work/threeML/threeML/threeML/utils/data_download/Fermi_LAT/download_LAT_data.py\" target=\"_blank\"><span style=\"color: #7f7f7f; text-decoration-color: #7f7f7f\">download_LAT_data.py</span></a><span style=\"color: #7f7f7f; text-decoration-color: #7f7f7f\">:</span><a href=\"file:///Users/runner/work/threeML/threeML/threeML/utils/data_download/Fermi_LAT/download_LAT_data.py#670\" target=\"_blank\"><span style=\"color: #7f7f7f; text-decoration-color: #7f7f7f\">670</span></a>\n",
       "</pre>\n"
      ],
      "text/plain": [
       "\u001b[38;5;46m22:51:41\u001b[0m\u001b[38;5;46m \u001b[0m\u001b[38;5;49mINFO    \u001b[0m \u001b[1;38;5;251m Extracted \u001b[0m\u001b[1;37m251\u001b[0m\u001b[1;38;5;251m events                                                   \u001b[0m\u001b[1;38;5;251m \u001b[0m\u001b]8;id=722001;file:///Users/runner/work/threeML/threeML/threeML/utils/data_download/Fermi_LAT/download_LAT_data.py\u001b\\\u001b[2mdownload_LAT_data.py\u001b[0m\u001b]8;;\u001b\\\u001b[2m:\u001b[0m\u001b]8;id=389067;file:///Users/runner/work/threeML/threeML/threeML/utils/data_download/Fermi_LAT/download_LAT_data.py#670\u001b\\\u001b[2m670\u001b[0m\u001b]8;;\u001b\\\n"
      ]
     },
     "metadata": {},
     "output_type": "display_data"
    }
   ],
   "source": [
    "roi = 10\n",
    "zmax = 110.0\n",
    "thetamax = 180.0\n",
    "irfs = \"p8_transient020e\"\n",
    "strategy = \"time\"\n",
    "myLATdataset.extract_events(roi, zmax, irfs, thetamax, strategy=strategy)"
   ]
  },
  {
   "cell_type": "code",
   "execution_count": 8,
   "id": "c450ba36",
   "metadata": {
    "execution": {
     "iopub.execute_input": "2024-09-11T22:51:42.015954Z",
     "iopub.status.busy": "2024-09-11T22:51:42.015563Z",
     "iopub.status.idle": "2024-09-11T22:51:42.527419Z",
     "shell.execute_reply": "2024-09-11T22:51:42.526237Z"
    }
   },
   "outputs": [
    {
     "data": {
      "image/png": "[encoded data removed]",
      "text/plain": [
       "<Figure size 640x480 with 2 Axes>"
      ]
     },
     "metadata": {},
     "output_type": "display_data"
    }
   ],
   "source": [
    "%matplotlib inline\n",
    "with pyfits.open(myLATdataset.filt_file) as event_file:\n",
    "    lat_events = event_file[\"EVENTS\"].data\n",
    "event_times = lat_events[\"TIME\"] - myGRB[\"MET\"]\n",
    "\n",
    "intervals = [0, 10, 30, 80, 180]\n",
    "fig, axs = plt.subplots(2, 1, sharex=True)\n",
    "plt.sca(axs[0])\n",
    "plt.hist(event_times)\n",
    "plt.hist(event_times, intervals, histtype=\"step\")\n",
    "plt.ylabel(\"Events\")\n",
    "plt.sca(axs[1])\n",
    "plt.scatter(\n",
    "    event_times,\n",
    "    lat_events[\"ENERGY\"],\n",
    "    marker=\"o\",\n",
    "    c=lat_events[\"ENERGY\"],\n",
    "    norm=\"log\",\n",
    "    alpha=0.5,\n",
    "    zorder=20,\n",
    ")\n",
    "plt.yscale(\"log\")\n",
    "plt.ylabel(\"Energy [MeV]\")\n",
    "plt.xlabel(\"Time - T0 [s]\")\n",
    "plt.grid(True)"
   ]
  },
  {
   "cell_type": "markdown",
   "id": "920161de",
   "metadata": {},
   "source": [
    "tstarts and tstops are defined as strings, with somma separated values for the starts and the ends of the time bins: For example tsrats=\"0,1,10\" and tstops=\"1,10,20\". To convert arrays in string we use these few lines of code:\n"
   ]
  },
  {
   "cell_type": "code",
   "execution_count": 9,
   "id": "331ea4b9",
   "metadata": {
    "execution": {
     "iopub.execute_input": "2024-09-11T22:51:42.532796Z",
     "iopub.status.busy": "2024-09-11T22:51:42.532412Z",
     "iopub.status.idle": "2024-09-11T22:51:42.539353Z",
     "shell.execute_reply": "2024-09-11T22:51:42.537984Z"
    }
   },
   "outputs": [
    {
     "name": "stdout",
     "output_type": "stream",
     "text": [
      "0.0000,10.0000,30.0000,80.0000\n",
      "10.0000,30.0000,80.0000,180.0000\n"
     ]
    }
   ],
   "source": [
    "tstarts = tstops = \"\"\n",
    "for t0, t1 in zip(intervals[:-1], intervals[1:]):\n",
    "    tstarts += \"%.4f,\" % t0\n",
    "    tstops += \"%.4f,\" % t1\n",
    "    pass\n",
    "tstarts = tstarts[:-1].replace(\"-\", \"\\\\-\")\n",
    "print(tstarts)\n",
    "tstops = tstops[:-1].replace(\"-\", \"\\\\-\")\n",
    "print(tstops)"
   ]
  },
  {
   "cell_type": "markdown",
   "id": "b97dd0ea",
   "metadata": {},
   "source": [
    "We can now make an instance the LAT transient builder\n"
   ]
  },
  {
   "cell_type": "code",
   "execution_count": 10,
   "id": "3535f19b",
   "metadata": {
    "execution": {
     "iopub.execute_input": "2024-09-11T22:51:42.545182Z",
     "iopub.status.busy": "2024-09-11T22:51:42.544862Z",
     "iopub.status.idle": "2024-09-11T22:51:42.556113Z",
     "shell.execute_reply": "2024-09-11T22:51:42.554864Z"
    }
   },
   "outputs": [
    {
     "name": "stdout",
     "output_type": "stream",
     "text": [
      "outfile                                      190114873\n",
      "roi                                                 10\n",
      "tstarts                 0.0000,10.0000,30.0000,80.0000\n",
      "tstops                10.0000,30.0000,80.0000,180.0000\n",
      "zmax                                             110.0\n",
      "emin                                             100.0\n",
      "emax                                          100000.0\n",
      "irf                                   p8_transient020e\n",
      "galactic_model                                template\n",
      "particle_model                          isotr template\n",
      "source_model                                 PowerLaw2\n",
      "tsmin                                             20.0\n",
      "strategy                                          time\n",
      "thetamax                                         180.0\n",
      "spectralfiles                                       no\n",
      "liketype                                      unbinned\n",
      "optimizeposition                                    no\n",
      "datarepository                                       .\n",
      "ltcube                                                \n",
      "expomap                                               \n",
      "ulphindex                                           -2\n",
      "flemin                                             100\n",
      "flemax                                           10000\n",
      "fgl_mode                                          fast\n",
      "filter_GTI                                       False\n",
      "likelihood_profile                               False\n",
      "remove_fits_files                                False\n",
      "dtype: object\n"
     ]
    }
   ],
   "source": [
    "analysis_builder = TransientLATDataBuilder(\n",
    "    myLATdataset.grb_name,\n",
    "    outfile=myLATdataset.grb_name,\n",
    "    roi=roi,\n",
    "    tstarts=tstarts,\n",
    "    tstops=tstops,\n",
    "    irf=irfs,\n",
    "    zmax=zmax,\n",
    "    galactic_model=\"template\",\n",
    "    particle_model=\"isotr template\",\n",
    "    datarepository=\".\",\n",
    ")\n",
    "df = analysis_builder.display(get=True)"
   ]
  },
  {
   "cell_type": "markdown",
   "id": "cafb785f",
   "metadata": {},
   "source": [
    "The run method will run (using gtburst) all the fermitools needed to obtain the needed file for the likelihood analysis (livetimecubes, exposure maps. It will also perfom a simple likelihood analysis with the standard likelihood of the fermitools (pylikelihood). The dataproducts created here will be used by threeML to make the fit.\n"
   ]
  },
  {
   "cell_type": "code",
   "execution_count": 11,
   "id": "5bf75d49",
   "metadata": {
    "execution": {
     "iopub.execute_input": "2024-09-11T22:51:42.561682Z",
     "iopub.status.busy": "2024-09-11T22:51:42.561269Z",
     "iopub.status.idle": "2024-09-11T22:54:04.289968Z",
     "shell.execute_reply": "2024-09-11T22:54:04.288294Z"
    }
   },
   "outputs": [
    {
     "data": {
      "text/html": [
       "<pre style=\"white-space:pre;overflow-x:auto;line-height:normal;font-family:Menlo,'DejaVu Sans Mono',consolas,'Courier New',monospace\"><span style=\"color: #00ff00; text-decoration-color: #00ff00\">22:51:42 </span><span style=\"color: #00ffaf; text-decoration-color: #00ffaf\">INFO    </span> <span style=\"color: #c6c6c6; text-decoration-color: #c6c6c6; font-weight: bold\"> Changing permission to                                              </span><a href=\"file:///Users/runner/work/threeML/threeML/threeML/utils/data_builders/fermi/lat_transient_builder.py\" target=\"_blank\"><span style=\"color: #7f7f7f; text-decoration-color: #7f7f7f\">lat_transient_builder.py</span></a><span style=\"color: #7f7f7f; text-decoration-color: #7f7f7f\">:</span><a href=\"file:///Users/runner/work/threeML/threeML/threeML/utils/data_builders/fermi/lat_transient_builder.py#635\" target=\"_blank\"><span style=\"color: #7f7f7f; text-decoration-color: #7f7f7f\">635</span></a>\n",
       "<span style=\"color: #00ff00; text-decoration-color: #00ff00\">         </span>         <span style=\"color: #5f5f5f; text-decoration-color: #5f5f5f; font-weight: bold\">/usr/local/miniconda/envs/test_env/lib/python3.9/site-packages/fermi</span><span style=\"color: #c6c6c6; text-decoration-color: #c6c6c6; font-weight: bold\"> </span><span style=\"color: #7f7f7f; text-decoration-color: #7f7f7f\">                            </span>\n",
       "<span style=\"color: #00ff00; text-decoration-color: #00ff00\">         </span>         <span style=\"color: #5f5f5f; text-decoration-color: #5f5f5f; font-weight: bold\">tools/GtBurst/scripts/</span><span style=\"color: #000080; text-decoration-color: #000080; font-weight: bold\">doTimeResolvedLike.py</span><span style=\"color: #c6c6c6; text-decoration-color: #c6c6c6; font-weight: bold\">                          </span><span style=\"color: #7f7f7f; text-decoration-color: #7f7f7f\">                            </span>\n",
       "</pre>\n"
      ],
      "text/plain": [
       "\u001b[38;5;46m22:51:42\u001b[0m\u001b[38;5;46m \u001b[0m\u001b[38;5;49mINFO    \u001b[0m \u001b[1;38;5;251m Changing permission to                                             \u001b[0m\u001b[1;38;5;251m \u001b[0m\u001b]8;id=761814;file:///Users/runner/work/threeML/threeML/threeML/utils/data_builders/fermi/lat_transient_builder.py\u001b\\\u001b[2mlat_transient_builder.py\u001b[0m\u001b]8;;\u001b\\\u001b[2m:\u001b[0m\u001b]8;id=847243;file:///Users/runner/work/threeML/threeML/threeML/utils/data_builders/fermi/lat_transient_builder.py#635\u001b\\\u001b[2m635\u001b[0m\u001b]8;;\u001b\\\n",
       "\u001b[38;5;46m         \u001b[0m         \u001b[1;38;5;59m/usr/local/miniconda/envs/test_env/lib/python3.9/site-packages/fermi\u001b[0m\u001b[1;38;5;251m \u001b[0m\u001b[2m                            \u001b[0m\n",
       "\u001b[38;5;46m         \u001b[0m         \u001b[1;38;5;59mtools/GtBurst/scripts/\u001b[0m\u001b[1;34mdoTimeResolvedLike.py\u001b[0m\u001b[1;38;5;251m                         \u001b[0m\u001b[1;38;5;251m \u001b[0m\u001b[2m                            \u001b[0m\n"
      ]
     },
     "metadata": {},
     "output_type": "display_data"
    },
    {
     "data": {
      "text/html": [
       "<pre style=\"white-space:pre;overflow-x:auto;line-height:normal;font-family:Menlo,'DejaVu Sans Mono',consolas,'Courier New',monospace\"><span style=\"color: #00ff00; text-decoration-color: #00ff00\">         </span><span style=\"color: #00ffaf; text-decoration-color: #00ffaf\">INFO    </span> <span style=\"color: #c6c6c6; text-decoration-color: #c6c6c6; font-weight: bold\"> Changing permission to                                              </span><a href=\"file:///Users/runner/work/threeML/threeML/threeML/utils/data_builders/fermi/lat_transient_builder.py\" target=\"_blank\"><span style=\"color: #7f7f7f; text-decoration-color: #7f7f7f\">lat_transient_builder.py</span></a><span style=\"color: #7f7f7f; text-decoration-color: #7f7f7f\">:</span><a href=\"file:///Users/runner/work/threeML/threeML/threeML/utils/data_builders/fermi/lat_transient_builder.py#635\" target=\"_blank\"><span style=\"color: #7f7f7f; text-decoration-color: #7f7f7f\">635</span></a>\n",
       "<span style=\"color: #00ff00; text-decoration-color: #00ff00\">         </span>         <span style=\"color: #5f5f5f; text-decoration-color: #5f5f5f; font-weight: bold\">/usr/local/miniconda/envs/test_env/lib/python3.9/site-packages/fermi</span><span style=\"color: #c6c6c6; text-decoration-color: #c6c6c6; font-weight: bold\"> </span><span style=\"color: #7f7f7f; text-decoration-color: #7f7f7f\">                            </span>\n",
       "<span style=\"color: #00ff00; text-decoration-color: #00ff00\">         </span>         <span style=\"color: #5f5f5f; text-decoration-color: #5f5f5f; font-weight: bold\">tools/GtBurst/gtapps_mp/</span><span style=\"color: #000080; text-decoration-color: #000080; font-weight: bold\">gtdiffrsp_mp.py</span><span style=\"color: #c6c6c6; text-decoration-color: #c6c6c6; font-weight: bold\">                              </span><span style=\"color: #7f7f7f; text-decoration-color: #7f7f7f\">                            </span>\n",
       "</pre>\n"
      ],
      "text/plain": [
       "\u001b[38;5;46m        \u001b[0m\u001b[38;5;46m \u001b[0m\u001b[38;5;49mINFO    \u001b[0m \u001b[1;38;5;251m Changing permission to                                             \u001b[0m\u001b[1;38;5;251m \u001b[0m\u001b]8;id=182396;file:///Users/runner/work/threeML/threeML/threeML/utils/data_builders/fermi/lat_transient_builder.py\u001b\\\u001b[2mlat_transient_builder.py\u001b[0m\u001b]8;;\u001b\\\u001b[2m:\u001b[0m\u001b]8;id=347545;file:///Users/runner/work/threeML/threeML/threeML/utils/data_builders/fermi/lat_transient_builder.py#635\u001b\\\u001b[2m635\u001b[0m\u001b]8;;\u001b\\\n",
       "\u001b[38;5;46m         \u001b[0m         \u001b[1;38;5;59m/usr/local/miniconda/envs/test_env/lib/python3.9/site-packages/fermi\u001b[0m\u001b[1;38;5;251m \u001b[0m\u001b[2m                            \u001b[0m\n",
       "\u001b[38;5;46m         \u001b[0m         \u001b[1;38;5;59mtools/GtBurst/gtapps_mp/\u001b[0m\u001b[1;34mgtdiffrsp_mp.py\u001b[0m\u001b[1;38;5;251m                             \u001b[0m\u001b[1;38;5;251m \u001b[0m\u001b[2m                            \u001b[0m\n"
      ]
     },
     "metadata": {},
     "output_type": "display_data"
    },
    {
     "data": {
      "text/html": [
       "<pre style=\"white-space:pre;overflow-x:auto;line-height:normal;font-family:Menlo,'DejaVu Sans Mono',consolas,'Courier New',monospace\"><span style=\"color: #00ff00; text-decoration-color: #00ff00\">         </span><span style=\"color: #00ffaf; text-decoration-color: #00ffaf\">INFO    </span> <span style=\"color: #c6c6c6; text-decoration-color: #c6c6c6; font-weight: bold\"> Changing permission to                                              </span><a href=\"file:///Users/runner/work/threeML/threeML/threeML/utils/data_builders/fermi/lat_transient_builder.py\" target=\"_blank\"><span style=\"color: #7f7f7f; text-decoration-color: #7f7f7f\">lat_transient_builder.py</span></a><span style=\"color: #7f7f7f; text-decoration-color: #7f7f7f\">:</span><a href=\"file:///Users/runner/work/threeML/threeML/threeML/utils/data_builders/fermi/lat_transient_builder.py#635\" target=\"_blank\"><span style=\"color: #7f7f7f; text-decoration-color: #7f7f7f\">635</span></a>\n",
       "<span style=\"color: #00ff00; text-decoration-color: #00ff00\">         </span>         <span style=\"color: #5f5f5f; text-decoration-color: #5f5f5f; font-weight: bold\">/usr/local/miniconda/envs/test_env/lib/python3.9/site-packages/fermi</span><span style=\"color: #c6c6c6; text-decoration-color: #c6c6c6; font-weight: bold\"> </span><span style=\"color: #7f7f7f; text-decoration-color: #7f7f7f\">                            </span>\n",
       "<span style=\"color: #00ff00; text-decoration-color: #00ff00\">         </span>         <span style=\"color: #5f5f5f; text-decoration-color: #5f5f5f; font-weight: bold\">tools/GtBurst/gtapps_mp/</span><span style=\"color: #000080; text-decoration-color: #000080; font-weight: bold\">gtexpmap_mp.py</span><span style=\"color: #c6c6c6; text-decoration-color: #c6c6c6; font-weight: bold\">                               </span><span style=\"color: #7f7f7f; text-decoration-color: #7f7f7f\">                            </span>\n",
       "</pre>\n"
      ],
      "text/plain": [
       "\u001b[38;5;46m        \u001b[0m\u001b[38;5;46m \u001b[0m\u001b[38;5;49mINFO    \u001b[0m \u001b[1;38;5;251m Changing permission to                                             \u001b[0m\u001b[1;38;5;251m \u001b[0m\u001b]8;id=446868;file:///Users/runner/work/threeML/threeML/threeML/utils/data_builders/fermi/lat_transient_builder.py\u001b\\\u001b[2mlat_transient_builder.py\u001b[0m\u001b]8;;\u001b\\\u001b[2m:\u001b[0m\u001b]8;id=823398;file:///Users/runner/work/threeML/threeML/threeML/utils/data_builders/fermi/lat_transient_builder.py#635\u001b\\\u001b[2m635\u001b[0m\u001b]8;;\u001b\\\n",
       "\u001b[38;5;46m         \u001b[0m         \u001b[1;38;5;59m/usr/local/miniconda/envs/test_env/lib/python3.9/site-packages/fermi\u001b[0m\u001b[1;38;5;251m \u001b[0m\u001b[2m                            \u001b[0m\n",
       "\u001b[38;5;46m         \u001b[0m         \u001b[1;38;5;59mtools/GtBurst/gtapps_mp/\u001b[0m\u001b[1;34mgtexpmap_mp.py\u001b[0m\u001b[1;38;5;251m                              \u001b[0m\u001b[1;38;5;251m \u001b[0m\u001b[2m                            \u001b[0m\n"
      ]
     },
     "metadata": {},
     "output_type": "display_data"
    },
    {
     "data": {
      "text/html": [
       "<pre style=\"white-space:pre;overflow-x:auto;line-height:normal;font-family:Menlo,'DejaVu Sans Mono',consolas,'Courier New',monospace\"><span style=\"color: #00ff00; text-decoration-color: #00ff00\">         </span><span style=\"color: #00ffaf; text-decoration-color: #00ffaf\">INFO    </span> <span style=\"color: #c6c6c6; text-decoration-color: #c6c6c6; font-weight: bold\"> Changing permission to                                              </span><a href=\"file:///Users/runner/work/threeML/threeML/threeML/utils/data_builders/fermi/lat_transient_builder.py\" target=\"_blank\"><span style=\"color: #7f7f7f; text-decoration-color: #7f7f7f\">lat_transient_builder.py</span></a><span style=\"color: #7f7f7f; text-decoration-color: #7f7f7f\">:</span><a href=\"file:///Users/runner/work/threeML/threeML/threeML/utils/data_builders/fermi/lat_transient_builder.py#635\" target=\"_blank\"><span style=\"color: #7f7f7f; text-decoration-color: #7f7f7f\">635</span></a>\n",
       "<span style=\"color: #00ff00; text-decoration-color: #00ff00\">         </span>         <span style=\"color: #5f5f5f; text-decoration-color: #5f5f5f; font-weight: bold\">/usr/local/miniconda/envs/test_env/lib/python3.9/site-packages/fermi</span><span style=\"color: #c6c6c6; text-decoration-color: #c6c6c6; font-weight: bold\"> </span><span style=\"color: #7f7f7f; text-decoration-color: #7f7f7f\">                            </span>\n",
       "<span style=\"color: #00ff00; text-decoration-color: #00ff00\">         </span>         <span style=\"color: #5f5f5f; text-decoration-color: #5f5f5f; font-weight: bold\">tools/GtBurst/gtapps_mp/</span><span style=\"color: #000080; text-decoration-color: #000080; font-weight: bold\">gtltcube_mp.py</span><span style=\"color: #c6c6c6; text-decoration-color: #c6c6c6; font-weight: bold\">                               </span><span style=\"color: #7f7f7f; text-decoration-color: #7f7f7f\">                            </span>\n",
       "</pre>\n"
      ],
      "text/plain": [
       "\u001b[38;5;46m        \u001b[0m\u001b[38;5;46m \u001b[0m\u001b[38;5;49mINFO    \u001b[0m \u001b[1;38;5;251m Changing permission to                                             \u001b[0m\u001b[1;38;5;251m \u001b[0m\u001b]8;id=672074;file:///Users/runner/work/threeML/threeML/threeML/utils/data_builders/fermi/lat_transient_builder.py\u001b\\\u001b[2mlat_transient_builder.py\u001b[0m\u001b]8;;\u001b\\\u001b[2m:\u001b[0m\u001b]8;id=174332;file:///Users/runner/work/threeML/threeML/threeML/utils/data_builders/fermi/lat_transient_builder.py#635\u001b\\\u001b[2m635\u001b[0m\u001b]8;;\u001b\\\n",
       "\u001b[38;5;46m         \u001b[0m         \u001b[1;38;5;59m/usr/local/miniconda/envs/test_env/lib/python3.9/site-packages/fermi\u001b[0m\u001b[1;38;5;251m \u001b[0m\u001b[2m                            \u001b[0m\n",
       "\u001b[38;5;46m         \u001b[0m         \u001b[1;38;5;59mtools/GtBurst/gtapps_mp/\u001b[0m\u001b[1;34mgtltcube_mp.py\u001b[0m\u001b[1;38;5;251m                              \u001b[0m\u001b[1;38;5;251m \u001b[0m\u001b[2m                            \u001b[0m\n"
      ]
     },
     "metadata": {},
     "output_type": "display_data"
    },
    {
     "data": {
      "text/html": [
       "<pre style=\"white-space:pre;overflow-x:auto;line-height:normal;font-family:Menlo,'DejaVu Sans Mono',consolas,'Courier New',monospace\"><span style=\"color: #00ff00; text-decoration-color: #00ff00\">         </span><span style=\"color: #00ffaf; text-decoration-color: #00ffaf\">INFO    </span> <span style=\"color: #c6c6c6; text-decoration-color: #c6c6c6; font-weight: bold\"> Changing permission to                                              </span><a href=\"file:///Users/runner/work/threeML/threeML/threeML/utils/data_builders/fermi/lat_transient_builder.py\" target=\"_blank\"><span style=\"color: #7f7f7f; text-decoration-color: #7f7f7f\">lat_transient_builder.py</span></a><span style=\"color: #7f7f7f; text-decoration-color: #7f7f7f\">:</span><a href=\"file:///Users/runner/work/threeML/threeML/threeML/utils/data_builders/fermi/lat_transient_builder.py#635\" target=\"_blank\"><span style=\"color: #7f7f7f; text-decoration-color: #7f7f7f\">635</span></a>\n",
       "<span style=\"color: #00ff00; text-decoration-color: #00ff00\">         </span>         <span style=\"color: #5f5f5f; text-decoration-color: #5f5f5f; font-weight: bold\">/usr/local/miniconda/envs/test_env/lib/python3.9/site-packages/fermi</span><span style=\"color: #c6c6c6; text-decoration-color: #c6c6c6; font-weight: bold\"> </span><span style=\"color: #7f7f7f; text-decoration-color: #7f7f7f\">                            </span>\n",
       "<span style=\"color: #00ff00; text-decoration-color: #00ff00\">         </span>         <span style=\"color: #5f5f5f; text-decoration-color: #5f5f5f; font-weight: bold\">tools/GtBurst/gtapps_mp/</span><span style=\"color: #000080; text-decoration-color: #000080; font-weight: bold\">gttsmap_mp.py</span><span style=\"color: #c6c6c6; text-decoration-color: #c6c6c6; font-weight: bold\">                                </span><span style=\"color: #7f7f7f; text-decoration-color: #7f7f7f\">                            </span>\n",
       "</pre>\n"
      ],
      "text/plain": [
       "\u001b[38;5;46m        \u001b[0m\u001b[38;5;46m \u001b[0m\u001b[38;5;49mINFO    \u001b[0m \u001b[1;38;5;251m Changing permission to                                             \u001b[0m\u001b[1;38;5;251m \u001b[0m\u001b]8;id=129371;file:///Users/runner/work/threeML/threeML/threeML/utils/data_builders/fermi/lat_transient_builder.py\u001b\\\u001b[2mlat_transient_builder.py\u001b[0m\u001b]8;;\u001b\\\u001b[2m:\u001b[0m\u001b]8;id=519016;file:///Users/runner/work/threeML/threeML/threeML/utils/data_builders/fermi/lat_transient_builder.py#635\u001b\\\u001b[2m635\u001b[0m\u001b]8;;\u001b\\\n",
       "\u001b[38;5;46m         \u001b[0m         \u001b[1;38;5;59m/usr/local/miniconda/envs/test_env/lib/python3.9/site-packages/fermi\u001b[0m\u001b[1;38;5;251m \u001b[0m\u001b[2m                            \u001b[0m\n",
       "\u001b[38;5;46m         \u001b[0m         \u001b[1;38;5;59mtools/GtBurst/gtapps_mp/\u001b[0m\u001b[1;34mgttsmap_mp.py\u001b[0m\u001b[1;38;5;251m                               \u001b[0m\u001b[1;38;5;251m \u001b[0m\u001b[2m                            \u001b[0m\n"
      ]
     },
     "metadata": {},
     "output_type": "display_data"
    },
    {
     "data": {
      "text/html": [
       "<pre style=\"white-space:pre;overflow-x:auto;line-height:normal;font-family:Menlo,'DejaVu Sans Mono',consolas,'Courier New',monospace\"><span style=\"color: #00ff00; text-decoration-color: #00ff00\">         </span><span style=\"color: #00ffaf; text-decoration-color: #00ffaf\">INFO    </span> <span style=\"color: #c6c6c6; text-decoration-color: #c6c6c6; font-weight: bold\"> About to run the following command:                                 </span><a href=\"file:///Users/runner/work/threeML/threeML/threeML/utils/data_builders/fermi/lat_transient_builder.py\" target=\"_blank\"><span style=\"color: #7f7f7f; text-decoration-color: #7f7f7f\">lat_transient_builder.py</span></a><span style=\"color: #7f7f7f; text-decoration-color: #7f7f7f\">:</span><a href=\"file:///Users/runner/work/threeML/threeML/threeML/utils/data_builders/fermi/lat_transient_builder.py#640\" target=\"_blank\"><span style=\"color: #7f7f7f; text-decoration-color: #7f7f7f\">640</span></a>\n",
       "<span style=\"color: #00ff00; text-decoration-color: #00ff00\">         </span>         <span style=\"color: #5f5f5f; text-decoration-color: #5f5f5f; font-weight: bold\">/usr/local/miniconda/envs/test_env/lib/python3.9/site-packages/fermi</span><span style=\"color: #c6c6c6; text-decoration-color: #c6c6c6; font-weight: bold\"> </span><span style=\"color: #7f7f7f; text-decoration-color: #7f7f7f\">                            </span>\n",
       "<span style=\"color: #00ff00; text-decoration-color: #00ff00\">         </span>         <span style=\"color: #5f5f5f; text-decoration-color: #5f5f5f; font-weight: bold\">tools/GtBurst/scripts/</span><span style=\"color: #000080; text-decoration-color: #000080; font-weight: bold\">doTimeResolvedLike.py</span><span style=\"color: #c6c6c6; text-decoration-color: #c6c6c6; font-weight: bold\"> </span><span style=\"color: #c0c0c0; text-decoration-color: #c0c0c0; font-weight: bold\">190114873</span><span style=\"color: #c6c6c6; text-decoration-color: #c6c6c6; font-weight: bold\"> --outfile      </span><span style=\"color: #7f7f7f; text-decoration-color: #7f7f7f\">                            </span>\n",
       "<span style=\"color: #00ff00; text-decoration-color: #00ff00\">         </span>         <span style=\"color: #5f5f5f; text-decoration-color: #5f5f5f; font-weight: bold\">'190114873'</span><span style=\"color: #c6c6c6; text-decoration-color: #c6c6c6; font-weight: bold\"> --roi </span><span style=\"color: #c0c0c0; text-decoration-color: #c0c0c0; font-weight: bold\">10.000000</span><span style=\"color: #c6c6c6; text-decoration-color: #c6c6c6; font-weight: bold\"> --tstarts                                </span><span style=\"color: #7f7f7f; text-decoration-color: #7f7f7f\">                            </span>\n",
       "<span style=\"color: #00ff00; text-decoration-color: #00ff00\">         </span>         <span style=\"color: #5f5f5f; text-decoration-color: #5f5f5f; font-weight: bold\">'0.0000,10.0000,30.0000,80.0000'</span><span style=\"color: #c6c6c6; text-decoration-color: #c6c6c6; font-weight: bold\"> --tstops                            </span><span style=\"color: #7f7f7f; text-decoration-color: #7f7f7f\">                            </span>\n",
       "<span style=\"color: #00ff00; text-decoration-color: #00ff00\">         </span>         <span style=\"color: #5f5f5f; text-decoration-color: #5f5f5f; font-weight: bold\">'10.0000,30.0000,80.0000,180.0000'</span><span style=\"color: #c6c6c6; text-decoration-color: #c6c6c6; font-weight: bold\"> --zmax </span><span style=\"color: #c0c0c0; text-decoration-color: #c0c0c0; font-weight: bold\">110.000000</span><span style=\"color: #c6c6c6; text-decoration-color: #c6c6c6; font-weight: bold\"> --emin          </span><span style=\"color: #7f7f7f; text-decoration-color: #7f7f7f\">                            </span>\n",
       "<span style=\"color: #00ff00; text-decoration-color: #00ff00\">         </span>         <span style=\"color: #c0c0c0; text-decoration-color: #c0c0c0; font-weight: bold\">100.000000</span><span style=\"color: #c6c6c6; text-decoration-color: #c6c6c6; font-weight: bold\"> --emax </span><span style=\"color: #c0c0c0; text-decoration-color: #c0c0c0; font-weight: bold\">100000.000000</span><span style=\"color: #c6c6c6; text-decoration-color: #c6c6c6; font-weight: bold\"> --irf </span><span style=\"color: #5f5f5f; text-decoration-color: #5f5f5f; font-weight: bold\">'p8_transient020e'</span><span style=\"color: #c6c6c6; text-decoration-color: #c6c6c6; font-weight: bold\">             </span><span style=\"color: #7f7f7f; text-decoration-color: #7f7f7f\">                            </span>\n",
       "<span style=\"color: #00ff00; text-decoration-color: #00ff00\">         </span>         <span style=\"color: #c6c6c6; text-decoration-color: #c6c6c6; font-weight: bold\">--galactic_model </span><span style=\"color: #5f5f5f; text-decoration-color: #5f5f5f; font-weight: bold\">'template'</span><span style=\"color: #c6c6c6; text-decoration-color: #c6c6c6; font-weight: bold\"> --particle_model </span><span style=\"color: #5f5f5f; text-decoration-color: #5f5f5f; font-weight: bold\">'isotr template'</span><span style=\"color: #c6c6c6; text-decoration-color: #c6c6c6; font-weight: bold\">        </span><span style=\"color: #7f7f7f; text-decoration-color: #7f7f7f\">                            </span>\n",
       "<span style=\"color: #00ff00; text-decoration-color: #00ff00\">         </span>         <span style=\"color: #c6c6c6; text-decoration-color: #c6c6c6; font-weight: bold\">--source_model </span><span style=\"color: #5f5f5f; text-decoration-color: #5f5f5f; font-weight: bold\">'PowerLaw2'</span><span style=\"color: #c6c6c6; text-decoration-color: #c6c6c6; font-weight: bold\"> --tsmin </span><span style=\"color: #c0c0c0; text-decoration-color: #c0c0c0; font-weight: bold\">20.000000</span><span style=\"color: #c6c6c6; text-decoration-color: #c6c6c6; font-weight: bold\"> --strategy </span><span style=\"color: #5f5f5f; text-decoration-color: #5f5f5f; font-weight: bold\">'time'</span><span style=\"color: #c6c6c6; text-decoration-color: #c6c6c6; font-weight: bold\">       </span><span style=\"color: #7f7f7f; text-decoration-color: #7f7f7f\">                            </span>\n",
       "<span style=\"color: #00ff00; text-decoration-color: #00ff00\">         </span>         <span style=\"color: #c6c6c6; text-decoration-color: #c6c6c6; font-weight: bold\">--thetamax </span><span style=\"color: #c0c0c0; text-decoration-color: #c0c0c0; font-weight: bold\">180.000000</span><span style=\"color: #c6c6c6; text-decoration-color: #c6c6c6; font-weight: bold\"> --spectralfiles </span><span style=\"color: #5f5f5f; text-decoration-color: #5f5f5f; font-weight: bold\">'no'</span><span style=\"color: #c6c6c6; text-decoration-color: #c6c6c6; font-weight: bold\"> --liketype </span><span style=\"color: #5f5f5f; text-decoration-color: #5f5f5f; font-weight: bold\">'unbinned'</span><span style=\"color: #c6c6c6; text-decoration-color: #c6c6c6; font-weight: bold\">     </span><span style=\"color: #7f7f7f; text-decoration-color: #7f7f7f\">                            </span>\n",
       "<span style=\"color: #00ff00; text-decoration-color: #00ff00\">         </span>         <span style=\"color: #c6c6c6; text-decoration-color: #c6c6c6; font-weight: bold\">--optimizeposition </span><span style=\"color: #5f5f5f; text-decoration-color: #5f5f5f; font-weight: bold\">'no'</span><span style=\"color: #c6c6c6; text-decoration-color: #c6c6c6; font-weight: bold\"> --datarepository </span><span style=\"color: #5f5f5f; text-decoration-color: #5f5f5f; font-weight: bold\">'.'</span><span style=\"color: #c6c6c6; text-decoration-color: #c6c6c6; font-weight: bold\"> --ltcube </span><span style=\"color: #5f5f5f; text-decoration-color: #5f5f5f; font-weight: bold\">''</span><span style=\"color: #c6c6c6; text-decoration-color: #c6c6c6; font-weight: bold\"> --expomap   </span><span style=\"color: #7f7f7f; text-decoration-color: #7f7f7f\">                            </span>\n",
       "<span style=\"color: #00ff00; text-decoration-color: #00ff00\">         </span>         <span style=\"color: #5f5f5f; text-decoration-color: #5f5f5f; font-weight: bold\">''</span><span style=\"color: #c6c6c6; text-decoration-color: #c6c6c6; font-weight: bold\"> --ulphindex </span><span style=\"color: #c0c0c0; text-decoration-color: #c0c0c0; font-weight: bold\">-2.000000</span><span style=\"color: #c6c6c6; text-decoration-color: #c6c6c6; font-weight: bold\"> --flemin </span><span style=\"color: #c0c0c0; text-decoration-color: #c0c0c0; font-weight: bold\">100.000000</span><span style=\"color: #c6c6c6; text-decoration-color: #c6c6c6; font-weight: bold\"> --flemax </span><span style=\"color: #c0c0c0; text-decoration-color: #c0c0c0; font-weight: bold\">10000.000000</span><span style=\"color: #c6c6c6; text-decoration-color: #c6c6c6; font-weight: bold\">   </span><span style=\"color: #7f7f7f; text-decoration-color: #7f7f7f\">                            </span>\n",
       "<span style=\"color: #00ff00; text-decoration-color: #00ff00\">         </span>         <span style=\"color: #c6c6c6; text-decoration-color: #c6c6c6; font-weight: bold\">--fgl_mode </span><span style=\"color: #5f5f5f; text-decoration-color: #5f5f5f; font-weight: bold\">'fast'</span><span style=\"color: #c6c6c6; text-decoration-color: #c6c6c6; font-weight: bold\">                                                    </span><span style=\"color: #7f7f7f; text-decoration-color: #7f7f7f\">                            </span>\n",
       "</pre>\n"
      ],
      "text/plain": [
       "\u001b[38;5;46m        \u001b[0m\u001b[38;5;46m \u001b[0m\u001b[38;5;49mINFO    \u001b[0m \u001b[1;38;5;251m About to run the following command:                                \u001b[0m\u001b[1;38;5;251m \u001b[0m\u001b]8;id=456111;file:///Users/runner/work/threeML/threeML/threeML/utils/data_builders/fermi/lat_transient_builder.py\u001b\\\u001b[2mlat_transient_builder.py\u001b[0m\u001b]8;;\u001b\\\u001b[2m:\u001b[0m\u001b]8;id=116373;file:///Users/runner/work/threeML/threeML/threeML/utils/data_builders/fermi/lat_transient_builder.py#640\u001b\\\u001b[2m640\u001b[0m\u001b]8;;\u001b\\\n",
       "\u001b[38;5;46m         \u001b[0m         \u001b[1;38;5;59m/usr/local/miniconda/envs/test_env/lib/python3.9/site-packages/fermi\u001b[0m\u001b[1;38;5;251m \u001b[0m\u001b[2m                            \u001b[0m\n",
       "\u001b[38;5;46m         \u001b[0m         \u001b[1;38;5;59mtools/GtBurst/scripts/\u001b[0m\u001b[1;34mdoTimeResolvedLike.py\u001b[0m\u001b[1;38;5;251m \u001b[0m\u001b[1;37m190114873\u001b[0m\u001b[1;38;5;251m --outfile     \u001b[0m\u001b[1;38;5;251m \u001b[0m\u001b[2m                            \u001b[0m\n",
       "\u001b[38;5;46m         \u001b[0m         \u001b[1;38;5;59m'190114873'\u001b[0m\u001b[1;38;5;251m --roi \u001b[0m\u001b[1;37m10.000000\u001b[0m\u001b[1;38;5;251m --tstarts                               \u001b[0m\u001b[1;38;5;251m \u001b[0m\u001b[2m                            \u001b[0m\n",
       "\u001b[38;5;46m         \u001b[0m         \u001b[1;38;5;59m'0.0000,10.0000,30.0000,80.0000'\u001b[0m\u001b[1;38;5;251m --tstops                           \u001b[0m\u001b[1;38;5;251m \u001b[0m\u001b[2m                            \u001b[0m\n",
       "\u001b[38;5;46m         \u001b[0m         \u001b[1;38;5;59m'10.0000,30.0000,80.0000,180.0000'\u001b[0m\u001b[1;38;5;251m --zmax \u001b[0m\u001b[1;37m110.000000\u001b[0m\u001b[1;38;5;251m --emin         \u001b[0m\u001b[1;38;5;251m \u001b[0m\u001b[2m                            \u001b[0m\n",
       "\u001b[38;5;46m         \u001b[0m         \u001b[1;37m100.000000\u001b[0m\u001b[1;38;5;251m --emax \u001b[0m\u001b[1;37m100000.000000\u001b[0m\u001b[1;38;5;251m --irf \u001b[0m\u001b[1;38;5;59m'p8_transient020e'\u001b[0m\u001b[1;38;5;251m            \u001b[0m\u001b[1;38;5;251m \u001b[0m\u001b[2m                            \u001b[0m\n",
       "\u001b[38;5;46m         \u001b[0m         \u001b[1;38;5;251m--galactic_model \u001b[0m\u001b[1;38;5;59m'template'\u001b[0m\u001b[1;38;5;251m --particle_model \u001b[0m\u001b[1;38;5;59m'isotr template'\u001b[0m\u001b[1;38;5;251m       \u001b[0m\u001b[1;38;5;251m \u001b[0m\u001b[2m                            \u001b[0m\n",
       "\u001b[38;5;46m         \u001b[0m         \u001b[1;38;5;251m--source_model \u001b[0m\u001b[1;38;5;59m'PowerLaw2'\u001b[0m\u001b[1;38;5;251m --tsmin \u001b[0m\u001b[1;37m20.000000\u001b[0m\u001b[1;38;5;251m --strategy \u001b[0m\u001b[1;38;5;59m'time'\u001b[0m\u001b[1;38;5;251m      \u001b[0m\u001b[1;38;5;251m \u001b[0m\u001b[2m                            \u001b[0m\n",
       "\u001b[38;5;46m         \u001b[0m         \u001b[1;38;5;251m--thetamax \u001b[0m\u001b[1;37m180.000000\u001b[0m\u001b[1;38;5;251m --spectralfiles \u001b[0m\u001b[1;38;5;59m'no'\u001b[0m\u001b[1;38;5;251m --liketype \u001b[0m\u001b[1;38;5;59m'unbinned'\u001b[0m\u001b[1;38;5;251m    \u001b[0m\u001b[1;38;5;251m \u001b[0m\u001b[2m                            \u001b[0m\n",
       "\u001b[38;5;46m         \u001b[0m         \u001b[1;38;5;251m--optimizeposition \u001b[0m\u001b[1;38;5;59m'no'\u001b[0m\u001b[1;38;5;251m --datarepository \u001b[0m\u001b[1;38;5;59m'.'\u001b[0m\u001b[1;38;5;251m --ltcube \u001b[0m\u001b[1;38;5;59m''\u001b[0m\u001b[1;38;5;251m --expomap  \u001b[0m\u001b[1;38;5;251m \u001b[0m\u001b[2m                            \u001b[0m\n",
       "\u001b[38;5;46m         \u001b[0m         \u001b[1;38;5;59m''\u001b[0m\u001b[1;38;5;251m --ulphindex \u001b[0m\u001b[1;37m-2.000000\u001b[0m\u001b[1;38;5;251m --flemin \u001b[0m\u001b[1;37m100.000000\u001b[0m\u001b[1;38;5;251m --flemax \u001b[0m\u001b[1;37m10000.000000\u001b[0m\u001b[1;38;5;251m  \u001b[0m\u001b[1;38;5;251m \u001b[0m\u001b[2m                            \u001b[0m\n",
       "\u001b[38;5;46m         \u001b[0m         \u001b[1;38;5;251m--fgl_mode \u001b[0m\u001b[1;38;5;59m'fast'\u001b[0m\u001b[1;38;5;251m                                                   \u001b[0m\u001b[1;38;5;251m \u001b[0m\u001b[2m                            \u001b[0m\n"
      ]
     },
     "metadata": {},
     "output_type": "display_data"
    },
    {
     "name": "stdout",
     "output_type": "stream",
     "text": [
      " **********\n",
      " **    1 **SET PRINT     .000    \n",
      " **********\n",
      " **********\n",
      " **    2 **SET NOWARN \n",
      " **********\n",
      "\n",
      " PARAMETER DEFINITIONS:\n",
      "    NO.   NAME         VALUE      STEP SIZE      LIMITS\n",
      "     1 'Integral  '    .10000E-01   1.0000         .10000E-04   1000.0    \n",
      "     2 'Index     '   -2.0000       1.0000        -6.0000       .10000E-01\n",
      "     3 'Value     '    1.0000       1.0000         .70000       1.3000    \n",
      "     4 'Normalizat'    1.0000       1.0000         .10000       10.000    \n",
      " **********\n",
      " **    3 **SET ERR    .5000    \n",
      " **********\n",
      " **********\n",
      " **    4 **SET GRAD    1.000    \n",
      " **********\n",
      " **********\n",
      " **    5 **MINIMIZE    900.0       2.000    \n",
      " **********\n",
      "\n",
      " MIGRAD MINIMIZATION HAS CONVERGED.\n",
      "\n",
      " MIGRAD WILL VERIFY CONVERGENCE AND ERROR MATRIX.\n",
      "\n",
      " MIGRAD MINIMIZATION HAS CONVERGED.\n",
      "\n",
      " FCN=   271.7361     FROM MIGRAD    STATUS=CONVERGED     68 CALLS       69 TOTAL\n",
      "                     EDM=   .61E-05  STRATEGY=1  ERROR MATRIX UNCERTAINTY=  7.4%\n",
      "\n",
      "  EXT PARAMETER                                   STEP         FIRST   \n",
      "  NO.   NAME        VALUE          ERROR          SIZE      DERIVATIVE \n",
      "   1  Integral      11.142        .94341       -.98937E-04   -.15807    \n",
      "   2  Index        -2.2206        .95319E-01    .15877E-03    .25128E-01\n",
      "   3  Value         1.0001        .14439        .16780E-02   -.16718E-02\n",
      "   4  Normalizat    9.9985        6.1108        .92305        .20096E-03\n",
      "                               ERR DEF=  .500    \n",
      "Final values: \n",
      "  Integral   = 11.1422\n",
      "  Index      = -2.22061\n",
      "  Value      = 1.0001\n",
      "  Normalizat = 9.99854\n",
      " **********\n",
      " **    6 **HESSE \n",
      " **********\n",
      "\n",
      " FCN=   271.7361     FROM HESSE     STATUS=OK            25 CALLS       94 TOTAL\n",
      "                     EDM=   .87E-05    STRATEGY= 1      ERROR MATRIX ACCURATE \n",
      "\n",
      "  EXT PARAMETER                                INTERNAL      INTERNAL  \n",
      "  NO.   NAME        VALUE          ERROR       STEP SIZE       VALUE   \n",
      "   1  Integral      11.142        .94266        .13811E-04   -1.3593    \n",
      "   2  Index        -2.2206        .95216E-01    .50468E-04    .26064    \n",
      "   3  Value         1.0001        .14383        .40448E-02    3.1413    \n",
      "   4  Normalizat    9.9985        7.2798        .50000        1.5951    \n",
      "                               ERR DEF=  .500    \n",
      "Minuit fit quality: 3   estimated distance: 8.70708e-06\n",
      "Minuit parameter uncertainties:\n",
      "  1  0.942672\n",
      "  2  0.0952335\n",
      "  3  0.15\n",
      "  4  1.33203\n"
     ]
    },
    {
     "name": "stderr",
     "output_type": "stream",
     "text": [
      "/usr/local/miniconda/envs/test_env/lib/python3.9/site-packages/fermitools/MPLPlot.py:54: UserWarning: Matplotlib is currently using agg, which is a non-GUI backend, so cannot show the figure.\n",
      "  self.fig.show()\n",
      "/usr/local/miniconda/envs/test_env/lib/python3.9/site-packages/fermitools/MPLPlot.py:65: UserWarning: Matplotlib is currently using agg, which is a non-GUI backend, so cannot show the figure.\n",
      "  self.fig.show()\n"
     ]
    },
    {
     "name": "stdout",
     "output_type": "stream",
     "text": [
      " **********\n",
      " **    1 **SET PRINT     .000    \n",
      " **********\n",
      " **********\n",
      " **    2 **SET NOWARN \n",
      " **********\n",
      "\n",
      " PARAMETER DEFINITIONS:\n",
      "    NO.   NAME         VALUE      STEP SIZE      LIMITS\n",
      "     1 'Integral  '    .10000E-01   1.0000         .10000E-04   1000.0    \n",
      "     2 'Index     '   -2.0000       1.0000        -6.0000       .10000E-01\n",
      "     3 'Value     '    1.0000       1.0000         .70000       1.3000    \n",
      "     4 'Normalizat'    1.0000       1.0000         .10000       10.000    \n",
      " **********\n",
      " **    3 **SET ERR    .5000    \n",
      " **********\n",
      " **********\n",
      " **    4 **SET GRAD    1.000    \n",
      " **********\n",
      " **********\n",
      " **    5 **MINIMIZE    900.0       2.000    \n",
      " **********\n",
      "\n",
      " MIGRAD MINIMIZATION HAS CONVERGED.\n",
      "\n",
      " MIGRAD WILL VERIFY CONVERGENCE AND ERROR MATRIX.\n",
      "\n",
      " FCN=   204.5496     FROM MIGRAD    STATUS=CONVERGED     73 CALLS       74 TOTAL\n",
      "                     EDM=   .29E-06    STRATEGY= 1      ERROR MATRIX ACCURATE \n",
      "\n",
      "  EXT PARAMETER                                   STEP         FIRST   \n",
      "  NO.   NAME        VALUE          ERROR          SIZE      DERIVATIVE \n",
      "   1  Integral      1.7650        .24371        .18035E-02    .51152E-01\n",
      "   2  Index        -1.7297        .12792        .14601E-01    .93571E-02\n",
      "   3  Value         1.0002        .14437        .15688       -.32336E-03\n",
      "   4  Normalizat   10.0000        9.7741        .45249    ** at limit **\n",
      "                               ERR DEF=  .500    \n",
      "Final values: \n",
      "  Integral   = 1.76499\n",
      "  Index      = -1.72966\n",
      "  Value      = 1.00022\n",
      "  Normalizat = 10\n",
      " **********\n",
      " **    6 **HESSE \n",
      " **********\n",
      "\n",
      " FCN=   204.5496     FROM HESSE     STATUS=OK            23 CALLS       97 TOTAL\n",
      "                     EDM=   .29E-06    STRATEGY= 1      ERROR MATRIX ACCURATE \n",
      "\n",
      "  EXT PARAMETER                                INTERNAL      INTERNAL  \n",
      "  NO.   NAME        VALUE          ERROR       STEP SIZE       VALUE   \n",
      "   1  Integral      1.7650        .24392        .79710E-05   -1.4867    \n",
      "   2  Index        -1.7297        .12804        .64475E-04    .43463    \n",
      "   3  Value         1.0002        .14383        .70207E-03    .73696E-03\n",
      "   4  Normalizat   10.0000        9.7676        .19711E-01    1.5703    \n",
      "                                 WARNING -   - ABOVE PARAMETER IS AT LIMIT.\n",
      "                               ERR DEF=  .500    \n",
      "Minuit fit quality: 3   estimated distance: 2.93007e-07\n",
      "Minuit parameter uncertainties:\n",
      "  1  0.243918\n",
      "  2  0.128087\n",
      "  3  0.149999\n",
      "  4  0.00742061\n"
     ]
    },
    {
     "name": "stdout",
     "output_type": "stream",
     "text": [
      "\n",
      "Requested intervals:\n",
      "------------------------------------------------------\n",
      "0.0                  - 10.0\n",
      "10.0                 - 30.0\n",
      "30.0                 - 80.0\n",
      "80.0                 - 180.0\n",
      "\n",
      "Data files:\n",
      "-----------\n",
      "eventfile            /Users/runner/work/threeML/threeML/docs/md_docs/slow_execute/bn190114873/gll_ft1_tr_bn190114873_v00.fit\n",
      "ft2file              /Users/runner/work/threeML/threeML/docs/md_docs/slow_execute/bn190114873/gll_ft2_tr_bn190114873_v00.fit\n",
      "rspfile              /Users/runner/work/threeML/threeML/docs/md_docs/slow_execute/bn190114873/gll_cspec_tr_bn190114873_v00.rsp\n",
      "cspecfile            /Users/runner/work/threeML/threeML/docs/md_docs/slow_execute/bn190114873/gll_cspec_tr_bn190114873_v00.pha\n",
      "\n",
      "ROI:\n",
      "-----\n",
      "R.A.                 54.51\n",
      "Dec.                 -26.939\n",
      "Radius               10.0\n",
      "\n",
      "Interval # 1 (0.0-10.0):\n",
      "-----------------------\n",
      "\n",
      "-> gtdocountsmap.py rad='10.0' eventfile='/Users/runner/work/threeML/threeML/docs/md_docs/slow_execute/bn190114873/gll_ft1_tr_bn190114873_v00.fit' zmax='110.0' thetamax='180.0' emin='100.0' emax='100000.0' skymap='190114873_LAT_skymap_0.0-10.0.fit' rspfile='/Users/runner/work/threeML/threeML/docs/md_docs/slow_execute/bn190114873/gll_cspec_tr_bn190114873_v00.rsp' strategy='time' ft2file='/Users/runner/work/threeML/threeML/docs/md_docs/slow_execute/bn190114873/gll_ft2_tr_bn190114873_v00.fit' tstart='0.0' tstop='10.0' ra='54.51' dec='-26.939' irf='p8_transient020e' allowEmpty='no'\n",
      "time -p gtmktime scfile=/Users/runner/work/threeML/threeML/docs/md_docs/slow_execute/bn190114873/gll_ft2_tr_bn190114873_v00.fit sctable=\"SC_DATA\" filter=\"(DATA_QUAL>0 || DATA_QUAL==-1) && LAT_CONFIG==1 && IN_SAA!=T && LIVETIME>0 && (ANGSEP(RA_ZENITH,DEC_ZENITH,54.51,-26.939)<=(110.0-10.0))\" roicut=no evfile=/Users/runner/work/threeML/threeML/docs/md_docs/slow_execute/bn190114873/gll_ft1_tr_bn190114873_v00.fit evtable=\"EVENTS\" outfile=\"gll_ft1_tr_bn190114873_v00_mkt.fit\" apply_filter=yes overwrite=no header_obstimes=yes tstart=569192227.626 tstop=569192237.626 gtifile=\"default\" chatter=2 clobber=yes debug=no gui=no mode=\"ql\"\n",
      "real 0.09\n",
      "user 0.06\n",
      "sys 0.02\n",
      "\n",
      "Using 305 data\n",
      "\n",
      "time -p gtselect infile=gll_ft1_tr_bn190114873_v00_mkt.fit outfile=gll_ft1_tr_bn190114873_v00_filt.fit ra=54.51 dec=-26.939 rad=10.0 tmin=569192227.626 tmax=569192237.626 emin=100.0 emax=100000.0 zmin=0.0 zmax=110.0 evclass=8 evtype=3 convtype=-1 phasemin=0.0 phasemax=1.0 evtable=\"EVENTS\" chatter=2 clobber=yes debug=no gui=no mode=\"ql\"\n",
      "Done.\n",
      "real 0.11\n",
      "user 0.09\n",
      "sys 0.01\n",
      "\n",
      "Selected 154 events.\n",
      "time -p gtbin evfile=gll_ft1_tr_bn190114873_v00_filt.fit scfile=/Users/runner/work/threeML/threeML/docs/md_docs/slow_execute/bn190114873/gll_ft2_tr_bn190114873_v00.fit outfile=190114873_LAT_skymap_0.0-10.0.fit algorithm=\"CMAP\" ebinalg=\"LOG\" emin=30.0 emax=200000.0 ebinfile=NONE tbinalg=\"LIN\" tbinfile=NONE nxpix=101 nypix=101 binsz=0.2 coordsys=\"CEL\" xref=54.51 yref=-26.939 axisrot=0.0 rafield=\"RA\" decfield=\"DEC\" proj=\"AIT\" hpx_ordering_scheme=\"RING\" hpx_order=3 hpx_ebin=yes hpx_region=\"\" evtable=\"EVENTS\" sctable=\"SC_DATA\" efield=\"ENERGY\" tfield=\"TIME\" chatter=2 clobber=yes debug=no gui=no mode=\"ql\"\n",
      "This is gtbin version HEAD\n",
      "real 0.15\n",
      "user 0.13\n",
      "sys 0.02\n",
      "\n",
      "Total number of events in the counts map: 154\n",
      "Total time in Good Time Intervals:        10.0\n",
      "-> gtbuildxmlmodel xmlmodel='190114873_LAT_xmlmodel_0.0-10.0.xml' filteredeventfile='gll_ft1_tr_bn190114873_v00_filt.fit' galactic_model='template' particle_model='isotr template' ra='54.51' dec='-26.939' fgl_mode='fast' ft2file='/Users/runner/work/threeML/threeML/docs/md_docs/slow_execute/bn190114873/gll_ft2_tr_bn190114873_v00.fit' source_model='PowerLaw2'\n",
      "\n",
      "Found Isotropic template for irf P8R3_TRANSIENT020E_V3: /usr/local/miniconda/envs/test_env/share/fermitools/refdata/fermi/galdiffuse/iso_P8R3_TRANSIENT020E_V3_v1.txt\n",
      "\n",
      "Found Galactic template for IRF. P8R3_TRANSIENT020E_V3: /usr/local/miniconda/envs/test_env/share/fermitools/refdata/fermi/galdiffuse/gll_iem_v07.fits\n",
      "\n",
      "Cutting the template around the ROI: \n",
      "\n",
      "addFGLsources( 54.51 -26.939 18.0 190114873_LAT_xmlmodel_0.0-10.0.xml 10.0 )\n",
      "('SpatialMap', True)\n",
      "Keeping diffuse source 4FGL J0322.6-3712e (10.77 deg away) using template /usr/local/miniconda/envs/test_env/share/fermitools/data/pyBurstAnalysisGUI/templates/FornaxA.fits...\n",
      "Keeping diffuse source 4FGL J0322.6-3712e (10.77 deg away) using spatial model SpatialMap...\n",
      "Kept 1 point sources from the FGL catalog\n",
      "-> gtdolike.py spectralfiles='no' xmlmodel='190114873_LAT_xmlmodel_0.0-10.0.xml' liketype='unbinned' filteredeventfile='gll_ft1_tr_bn190114873_v00_filt.fit' rspfile='/Users/runner/work/threeML/threeML/docs/md_docs/slow_execute/bn190114873/gll_cspec_tr_bn190114873_v00.rsp' showmodelimage='no' tsmin='20.0' optimizeposition='no' ft2file='/Users/runner/work/threeML/threeML/docs/md_docs/slow_execute/bn190114873/gll_ft2_tr_bn190114873_v00.fit' skymap='190114873_LAT_skymap_0.0-10.0.fit' flemin='100.000000' flemax='10000.000000'\n",
      "time -p gtltcube evfile=\"/Users/runner/work/threeML/threeML/docs/md_docs/slow_execute/interval0.0-10.0/gll_ft1_tr_bn190114873_v00_filt.fit\" evtable=\"EVENTS\" scfile=__ft2temp.fits sctable=\"SC_DATA\" outfile=gll_ft1_tr_bn190114873_v00_filt_ltcube.fit dcostheta=0.025 binsz=1.0 phibins=1 tmin=0.0 tmax=0.0 file_version=\"1\" zmin=0.0 zmax=180.0 chatter=2 clobber=yes debug=no gui=no mode=\"ql\"\n",
      "Working on file __ft2temp.fits\n",
      "..!\n",
      "real 0.70\n",
      "user 0.30\n",
      "sys 0.38\n",
      "/usr/local/miniconda/envs/test_env/lib/python3.9/site-packages/fermitools/GtBurst/gtapps_mp/gtexpmap_mp.py 40 40 2 2 /Users/runner/work/threeML/threeML/docs/md_docs/slow_execute/bn190114873/gll_ft2_tr_bn190114873_v00.fit /Users/runner/work/threeML/threeML/docs/md_docs/slow_execute/interval0.0-10.0/gll_ft1_tr_bn190114873_v00_filt.fit gll_ft1_tr_bn190114873_v00_filt_ltcube.fit P8R3_TRANSIENT020E_V3 20.0 20 gll_ft1_tr_bn190114873_v00_filt_expomap.fit\n",
      "Starting calculation of region 0.0,20.0 to 20.0,40.0\n",
      "\n",
      "Completed calculation of region 0.0,20.0 to 20.0,40.0\n",
      "\n",
      "Starting calculation of region 20.0,0.0 to 40.0,20.0\n",
      "\n",
      "Completed calculation of region 20.0,0.0 to 40.0,20.0\n",
      "\n",
      "Starting calculation of region 20.0,20.0 to 40.0,40.0\n",
      "\n",
      "Completed calculation of region 20.0,20.0 to 40.0,40.0\n",
      "\n",
      "Starting calculation of region 0.0,0.0 to 20.0,20.0\n",
      "\n",
      "Completed calculation of region 0.0,0.0 to 20.0,20.0\n",
      "\n",
      "Spawning 4 jobs...\n",
      "\n",
      "Combining temporary files...\n",
      "\n",
      "Deleting temporary files...\n",
      "\n",
      "\n",
      "\n",
      "time -p gtdiffrsp evfile=/Users/runner/work/threeML/threeML/docs/md_docs/slow_execute/interval0.0-10.0/gll_ft1_tr_bn190114873_v00_filt.fit evtable=\"EVENTS\" scfile=/Users/runner/work/threeML/threeML/docs/md_docs/slow_execute/bn190114873/gll_ft2_tr_bn190114873_v00.fit sctable=\"SC_DATA\" srcmdl=190114873_LAT_xmlmodel_0.0-10.0.xml irfs=\"P8R3_TRANSIENT020E_V3\" evclsmin=\"INDEF\" evclass=\"INDEF\" evtype=\"INDEF\" convert=no chatter=2 clobber=yes debug=no gui=no mode=\"ql\"\n",
      "adding source 4FGL J0322.6-3712e\n",
      "adding source GalacticTemplate\n",
      "adding source IsotropicTemplate\n",
      "Working on...\n",
      "/Users/runner/work/threeML/threeML/docs/md_docs/slow_execute/interval0.0-10.0/gll_ft1_tr_bn190114873_v00_filt.fit......................!\n",
      "real 18.71\n",
      "user 18.14\n",
      "sys 0.54\n",
      "Loading python Likelihood interface...\n",
      "\n",
      "Applying a Gaussian prior with sigma 0.15 on the normalization of the Galactic Template\n",
      "{'Norm': 1.0, 'Mean': 1.0, 'Sigma': 0.15, 'Offset': 0.0}\n",
      "\n",
      "Likelihood settings:\n",
      "\n",
      "Event file(s): /Users/runner/work/threeML/threeML/docs/md_docs/slow_execute/interval0.0-10.0/gll_ft1_tr_bn190114873_v00_filt.fit\n",
      "Spacecraft file(s): /Users/runner/work/threeML/threeML/docs/md_docs/slow_execute/bn190114873/gll_ft2_tr_bn190114873_v00.fit\n",
      "Exposure map: gll_ft1_tr_bn190114873_v00_filt_expomap.fit\n",
      "Exposure cube: gll_ft1_tr_bn190114873_v00_filt_ltcube.fit\n",
      "IRFs: P8R3_TRANSIENT020E_V3\n",
      "Source model file: 190114873_LAT_xmlmodel_0.0-10.0.xml\n",
      "Optimizer: Minuit\n",
      "\n",
      "Performing likelihood fit...\n",
      "Data  154.0\n",
      "srcName  2.752536817872419e-05\n",
      "srcName  153.6695256964082\n",
      "srcName  0.012114556040442377\n",
      "srcName  0.28959458185225645\n",
      "Resid  154.0 153.97126235966903 1.4893784459209356\n",
      "plotting GRB spectrum\n",
      "srcName  153.6695256964082\n",
      "|--------------------|---------------|----------|  ----------|----------|------|\n",
      "|         Source name|      Par. Name|     Value|       Error|     Units|    TS|\n",
      "|--------------------|---------------|----------|------------|----------|------|\n",
      "|GRB                 |               |          |            |          |  2040|\n",
      "|                    |       Integral|    0.0111|    0.000943| ph./cm2/s|      |\n",
      "|                    |          Index|     -2.22|      0.0952|         -|      |\n",
      "|                    |     LowerLimit|       100|n.a. (fixed)|       MeV|      |\n",
      "|                    |     UpperLimit|     1e+05|n.a. (fixed)|       MeV|      |\n",
      "|                    |    Energy flux|   6.3e-06|    7.16e-07| erg/cm2/s|      |\n",
      "|                    |    Photon flux|    0.0111|    0.000944| ph./cm2/s|      |\n",
      "|GalacticTemplate    |               |          |            |          |     0|\n",
      "|                    |          Value|         1|        0.15|         -|      |\n",
      "|                    |    Energy flux|  3.76e-07|    5.64e-08| erg/cm2/s|      |\n",
      "|                    |    Photon flux|   0.00052|    7.79e-05| ph./cm2/s|      |\n",
      "|IsotropicTemplate   |               |          |            |          |     1|\n",
      "|                    |  Normalization|        10|        1.33|         -|      |\n",
      "|                    |    Energy flux|  1.19e-06|    1.58e-07| erg/cm2/s|      |\n",
      "|                    |    Photon flux|   0.00258|    0.000343| ph./cm2/s|      |\n",
      "--------------------------------------------------------------------------------\n",
      "\n",
      "*** plus 1 FGL sources with TS<1 (not printed to save space)\n",
      "*** All fluxes and upper limits have been computed in the 100.0 - 10000.0 energy range.\n",
      "*** Upper limits (if any) are computed assuming a photon index of -2.0, with the 95.0 % c.l.\n",
      "\n",
      "Log(likelihood) = 271.7361141926039\n",
      "time -p gtsrcprob evfile=/Users/runner/work/threeML/threeML/docs/md_docs/slow_execute/interval0.0-10.0/gll_ft1_tr_bn190114873_v00_filt.fit evtable=\"EVENTS\" scfile=/Users/runner/work/threeML/threeML/docs/md_docs/slow_execute/bn190114873/gll_ft2_tr_bn190114873_v00.fit sctable=\"SC_DATA\" outfile=/Users/runner/work/threeML/threeML/docs/md_docs/slow_execute/interval0.0-10.0/gll_ft1_tr_bn190114873_v00_filt_prob.fit srcmdl=gll_ft1_tr_bn190114873_v00_filt_likeRes.xml irfs=\"CALDB\" evtype=\"INDEF\" srclist= chatter=2 clobber=yes debug=no gui=no mode=\"ql\"\n",
      "real 9.38\n",
      "user 5.27\n",
      "sys 4.07\n",
      "\n",
      "\n",
      "Interval # 2 (10.0-30.0):\n",
      "-----------------------\n",
      "\n",
      "-> gtdocountsmap.py rad='10.0' eventfile='/Users/runner/work/threeML/threeML/docs/md_docs/slow_execute/bn190114873/gll_ft1_tr_bn190114873_v00.fit' zmax='110.0' thetamax='180.0' emin='100.0' emax='100000.0' skymap='190114873_LAT_skymap_10.0-30.0.fit' rspfile='/Users/runner/work/threeML/threeML/docs/md_docs/slow_execute/bn190114873/gll_cspec_tr_bn190114873_v00.rsp' strategy='time' ft2file='/Users/runner/work/threeML/threeML/docs/md_docs/slow_execute/bn190114873/gll_ft2_tr_bn190114873_v00.fit' tstart='10.0' tstop='30.0' ra='54.51' dec='-26.939' irf='p8_transient020e' allowEmpty='no'\n",
      "time -p gtmktime scfile=/Users/runner/work/threeML/threeML/docs/md_docs/slow_execute/bn190114873/gll_ft2_tr_bn190114873_v00.fit sctable=\"SC_DATA\" filter=\"(DATA_QUAL>0 || DATA_QUAL==-1) && LAT_CONFIG==1 && IN_SAA!=T && LIVETIME>0 && (ANGSEP(RA_ZENITH,DEC_ZENITH,54.51,-26.939)<=(110.0-10.0))\" roicut=no evfile=/Users/runner/work/threeML/threeML/docs/md_docs/slow_execute/bn190114873/gll_ft1_tr_bn190114873_v00.fit evtable=\"EVENTS\" outfile=\"gll_ft1_tr_bn190114873_v00_mkt.fit\" apply_filter=yes overwrite=no header_obstimes=yes tstart=569192237.626 tstop=569192257.626 gtifile=\"default\" chatter=2 clobber=yes debug=no gui=no mode=\"ql\"\n",
      "real 0.09\n",
      "user 0.06\n",
      "sys 0.02\n",
      "\n",
      "Using 305 data\n",
      "\n",
      "time -p gtselect infile=gll_ft1_tr_bn190114873_v00_mkt.fit outfile=gll_ft1_tr_bn190114873_v00_filt.fit ra=54.51 dec=-26.939 rad=10.0 tmin=569192237.626 tmax=569192257.626 emin=100.0 emax=100000.0 zmin=0.0 zmax=110.0 evclass=8 evtype=3 convtype=-1 phasemin=0.0 phasemax=1.0 evtable=\"EVENTS\" chatter=2 clobber=yes debug=no gui=no mode=\"ql\"\n",
      "Done.\n",
      "real 0.11\n",
      "user 0.09\n",
      "sys 0.01\n",
      "\n",
      "Selected 56 events.\n",
      "time -p gtbin evfile=gll_ft1_tr_bn190114873_v00_filt.fit scfile=/Users/runner/work/threeML/threeML/docs/md_docs/slow_execute/bn190114873/gll_ft2_tr_bn190114873_v00.fit outfile=190114873_LAT_skymap_10.0-30.0.fit algorithm=\"CMAP\" ebinalg=\"LOG\" emin=30.0 emax=200000.0 ebinfile=NONE tbinalg=\"LIN\" tbinfile=NONE nxpix=101 nypix=101 binsz=0.2 coordsys=\"CEL\" xref=54.51 yref=-26.939 axisrot=0.0 rafield=\"RA\" decfield=\"DEC\" proj=\"AIT\" hpx_ordering_scheme=\"RING\" hpx_order=3 hpx_ebin=yes hpx_region=\"\" evtable=\"EVENTS\" sctable=\"SC_DATA\" efield=\"ENERGY\" tfield=\"TIME\" chatter=2 clobber=yes debug=no gui=no mode=\"ql\"\n",
      "This is gtbin version HEAD\n",
      "real 0.15\n",
      "user 0.13\n",
      "sys 0.01\n",
      "\n",
      "Total number of events in the counts map: 56\n",
      "Total time in Good Time Intervals:        20.0\n",
      "-> gtbuildxmlmodel xmlmodel='190114873_LAT_xmlmodel_10.0-30.0.xml' filteredeventfile='gll_ft1_tr_bn190114873_v00_filt.fit' galactic_model='template' particle_model='isotr template' ra='54.51' dec='-26.939' fgl_mode='fast' ft2file='/Users/runner/work/threeML/threeML/docs/md_docs/slow_execute/bn190114873/gll_ft2_tr_bn190114873_v00.fit' source_model='PowerLaw2'\n",
      "\n",
      "Found Isotropic template for irf P8R3_TRANSIENT020E_V3: /usr/local/miniconda/envs/test_env/share/fermitools/refdata/fermi/galdiffuse/iso_P8R3_TRANSIENT020E_V3_v1.txt\n",
      "\n",
      "Found Galactic template for IRF. P8R3_TRANSIENT020E_V3: /usr/local/miniconda/envs/test_env/share/fermitools/refdata/fermi/galdiffuse/gll_iem_v07.fits\n",
      "\n",
      "Cutting the template around the ROI: \n",
      "\n",
      "addFGLsources( 54.51 -26.939 18.0 190114873_LAT_xmlmodel_10.0-30.0.xml 20.0 )\n",
      "('SpatialMap', True)\n",
      "Keeping diffuse source 4FGL J0322.6-3712e (10.77 deg away) using template /usr/local/miniconda/envs/test_env/share/fermitools/data/pyBurstAnalysisGUI/templates/FornaxA.fits...\n",
      "Keeping diffuse source 4FGL J0322.6-3712e (10.77 deg away) using spatial model SpatialMap...\n",
      "Kept 1 point sources from the FGL catalog\n",
      "-> gtdolike.py spectralfiles='no' xmlmodel='190114873_LAT_xmlmodel_10.0-30.0.xml' liketype='unbinned' filteredeventfile='gll_ft1_tr_bn190114873_v00_filt.fit' rspfile='/Users/runner/work/threeML/threeML/docs/md_docs/slow_execute/bn190114873/gll_cspec_tr_bn190114873_v00.rsp' showmodelimage='no' tsmin='20.0' optimizeposition='no' ft2file='/Users/runner/work/threeML/threeML/docs/md_docs/slow_execute/bn190114873/gll_ft2_tr_bn190114873_v00.fit' skymap='190114873_LAT_skymap_10.0-30.0.fit' flemin='100.000000' flemax='10000.000000'\n",
      "time -p gtltcube evfile=\"/Users/runner/work/threeML/threeML/docs/md_docs/slow_execute/interval10.0-30.0/gll_ft1_tr_bn190114873_v00_filt.fit\" evtable=\"EVENTS\" scfile=__ft2temp.fits sctable=\"SC_DATA\" outfile=gll_ft1_tr_bn190114873_v00_filt_ltcube.fit dcostheta=0.025 binsz=1.0 phibins=1 tmin=0.0 tmax=0.0 file_version=\"1\" zmin=0.0 zmax=180.0 chatter=2 clobber=yes debug=no gui=no mode=\"ql\"\n",
      "Working on file __ft2temp.fits\n",
      "...!\n",
      "real 0.59\n",
      "user 0.29\n",
      "sys 0.27\n",
      "/usr/local/miniconda/envs/test_env/lib/python3.9/site-packages/fermitools/GtBurst/gtapps_mp/gtexpmap_mp.py 40 40 2 2 /Users/runner/work/threeML/threeML/docs/md_docs/slow_execute/bn190114873/gll_ft2_tr_bn190114873_v00.fit /Users/runner/work/threeML/threeML/docs/md_docs/slow_execute/interval10.0-30.0/gll_ft1_tr_bn190114873_v00_filt.fit gll_ft1_tr_bn190114873_v00_filt_ltcube.fit P8R3_TRANSIENT020E_V3 20.0 20 gll_ft1_tr_bn190114873_v00_filt_expomap.fit\n",
      "Starting calculation of region 0.0,0.0 to 20.0,20.0\n",
      "\n",
      "Completed calculation of region 0.0,0.0 to 20.0,20.0\n",
      "\n",
      "Starting calculation of region 0.0,20.0 to 20.0,40.0\n",
      "\n",
      "Completed calculation of region 0.0,20.0 to 20.0,40.0\n",
      "\n",
      "Starting calculation of region 20.0,20.0 to 40.0,40.0\n",
      "\n",
      "Completed calculation of region 20.0,20.0 to 40.0,40.0\n",
      "\n",
      "Starting calculation of region 20.0,0.0 to 40.0,20.0\n",
      "\n",
      "Completed calculation of region 20.0,0.0 to 40.0,20.0\n",
      "\n",
      "Spawning 4 jobs...\n",
      "\n",
      "Combining temporary files...\n",
      "\n",
      "Deleting temporary files...\n",
      "\n",
      "\n",
      "\n"
     ]
    },
    {
     "name": "stdout",
     "output_type": "stream",
     "text": [
      " **********\n",
      " **    1 **SET PRINT     .000    \n",
      " **********\n",
      " **********\n",
      " **    2 **SET NOWARN \n",
      " **********\n",
      "\n",
      " PARAMETER DEFINITIONS:\n",
      "    NO.   NAME         VALUE      STEP SIZE      LIMITS\n",
      "     1 'Integral  '    .10000E-01   1.0000         .10000E-04   1000.0    \n",
      "     2 'Index     '   -2.0000       1.0000        -6.0000       .10000E-01\n",
      "     3 'Value     '    1.0000       1.0000         .70000       1.3000    \n",
      "     4 'Normalizat'    1.0000       1.0000         .10000       10.000    \n",
      " **********\n",
      " **    3 **SET ERR    .5000    \n",
      " **********\n",
      " **********\n",
      " **    4 **SET GRAD    1.000    \n",
      " **********\n",
      " **********\n",
      " **    5 **MINIMIZE    900.0       2.000    \n",
      " **********\n",
      "\n",
      " MIGRAD MINIMIZATION HAS CONVERGED.\n",
      "\n",
      " MIGRAD WILL VERIFY CONVERGENCE AND ERROR MATRIX.\n",
      "\n",
      " FCN=   144.6357     FROM MIGRAD    STATUS=CONVERGED     68 CALLS       69 TOTAL\n",
      "                     EDM=   .83E-05    STRATEGY= 1      ERROR MATRIX ACCURATE \n",
      "\n",
      "  EXT PARAMETER                                   STEP         FIRST   \n",
      "  NO.   NAME        VALUE          ERROR          SIZE      DERIVATIVE \n",
      "   1  Integral      .45427        .79159E-01    .98788E-03    .99854E-02\n",
      "   2  Index        -1.5114        .15387        .15675E-01    .80168E-02\n",
      "   3  Value         .99916        .14437        .15688        .43175E-04\n",
      "   4  Normalizat    .10005        7.4302        .41707        .17970E-02\n",
      "                               ERR DEF=  .500    \n",
      "Final values: \n",
      "  Integral   = 0.454273\n",
      "  Index      = -1.51137\n",
      "  Value      = 0.999163\n",
      "  Normalizat = 0.100048\n",
      " **********\n",
      " **    6 **HESSE \n",
      " **********\n",
      "\n",
      " FCN=   144.6357     FROM HESSE     STATUS=OK            23 CALLS       92 TOTAL\n",
      "                     EDM=   .81E-05    STRATEGY= 1      ERROR MATRIX ACCURATE \n",
      "\n",
      "  EXT PARAMETER                                INTERNAL      INTERNAL  \n",
      "  NO.   NAME        VALUE          ERROR       STEP SIZE       VALUE   \n",
      "   1  Integral      .45427        .79219E-01    .43684E-05   -1.5282    \n",
      "   2  Index        -1.5114        .15398        .69279E-04    .51636    \n",
      "   3  Value         .99916        .14383        .59067E-03   -.27884E-02\n",
      "   4  Normalizat    .10005        7.4036        .92771E-02   -1.5664    \n",
      "                               ERR DEF=  .500    \n",
      "Minuit fit quality: 3   estimated distance: 8.14995e-06\n",
      "Minuit parameter uncertainties:\n",
      "  1  0.0792191\n",
      "  2  0.154065\n",
      "  3  0.15\n",
      "  4  0.0341981\n"
     ]
    },
    {
     "name": "stdout",
     "output_type": "stream",
     "text": [
      " **********\n",
      " **    1 **SET PRINT     .000    \n",
      " **********\n",
      " **********\n",
      " **    2 **SET NOWARN \n",
      " **********\n",
      "\n",
      " PARAMETER DEFINITIONS:\n",
      "    NO.   NAME         VALUE      STEP SIZE      LIMITS\n",
      "     1 'Integral  '    .10000E-01   1.0000         .10000E-04   1000.0    \n",
      "     2 'Index     '   -2.0000       1.0000        -6.0000       .10000E-01\n",
      "     3 'Value     '    1.0000       1.0000         .70000       1.3000    \n",
      "     4 'Normalizat'    1.0000       1.0000         .10000       10.000    \n",
      " **********\n",
      " **    3 **SET ERR    .5000    \n",
      " **********\n",
      " **********\n",
      " **    4 **SET GRAD    1.000    \n",
      " **********\n",
      " **********\n",
      " **    5 **MINIMIZE    900.0       2.000    \n",
      " **********\n",
      "\n",
      " MIGRAD MINIMIZATION HAS CONVERGED.\n",
      "\n",
      " MIGRAD WILL VERIFY CONVERGENCE AND ERROR MATRIX.\n",
      "\n",
      " FCN=   62.16513     FROM MIGRAD    STATUS=CONVERGED     73 CALLS       74 TOTAL\n",
      "                     EDM=   .68E-05    STRATEGY= 1      ERROR MATRIX ACCURATE \n",
      "\n",
      "  EXT PARAMETER                                   STEP         FIRST   \n",
      "  NO.   NAME        VALUE          ERROR          SIZE      DERIVATIVE \n",
      "   1  Integral      .59027E-01    .28568E-01    .61794E-03    .27050    \n",
      "   2  Index        -1.6518        .40776        .25489E-01    .96930E-02\n",
      "   3  Value         1.0007        .14399        .87820E-01    .34290E-02\n",
      "   4  Normalizat   10.0000        8.9675        .39847       -.56334E-03\n",
      "                               ERR DEF=  .500    \n",
      "Final values: \n",
      "  Integral   = 0.0590268\n",
      "  Index      = -1.65182\n",
      "  Value      = 1.00065\n",
      "  Normalizat = 9.99998\n",
      " **********\n",
      " **    6 **HESSE \n",
      " **********\n",
      "\n",
      " FCN=   62.16513     FROM HESSE     STATUS=OK            23 CALLS       97 TOTAL\n",
      "                     EDM=   .69E-05    STRATEGY= 1      ERROR MATRIX ACCURATE \n",
      "\n",
      "  EXT PARAMETER                                INTERNAL      INTERNAL  \n",
      "  NO.   NAME        VALUE          ERROR       STEP SIZE       VALUE   \n",
      "   1  Integral      .59027E-01    .28513E-01    .27388E-05   -1.5554    \n",
      "   2  Index        -1.6518        .40805        .11255E-03    .46339    \n",
      "   3  Value         1.0007        .14383        .19351E-02    .21694E-02\n",
      "   4  Normalizat   10.0000        9.0398        .17208E-02    1.5679    \n",
      "                               ERR DEF=  .500    \n",
      "Minuit fit quality: 3   estimated distance: 6.89272e-06\n",
      "Minuit parameter uncertainties:\n",
      "  1  0.028513\n",
      "  2  0.409636\n",
      "  3  0.149997\n",
      "  4  0.0329943\n"
     ]
    },
    {
     "name": "stdout",
     "output_type": "stream",
     "text": [
      "time -p gtdiffrsp evfile=/Users/runner/work/threeML/threeML/docs/md_docs/slow_execute/interval10.0-30.0/gll_ft1_tr_bn190114873_v00_filt.fit evtable=\"EVENTS\" scfile=/Users/runner/work/threeML/threeML/docs/md_docs/slow_execute/bn190114873/gll_ft2_tr_bn190114873_v00.fit sctable=\"SC_DATA\" srcmdl=190114873_LAT_xmlmodel_10.0-30.0.xml irfs=\"P8R3_TRANSIENT020E_V3\" evclsmin=\"INDEF\" evclass=\"INDEF\" evtype=\"INDEF\" convert=no chatter=2 clobber=yes debug=no gui=no mode=\"ql\"\n",
      "adding source 4FGL J0322.6-3712e\n",
      "adding source GalacticTemplate\n",
      "adding source IsotropicTemplate\n",
      "Working on...\n",
      "/Users/runner/work/threeML/threeML/docs/md_docs/slow_execute/interval10.0-30.0/gll_ft1_tr_bn190114873_v00_filt.fit............................!\n",
      "real 9.91\n",
      "user 9.35\n",
      "sys 0.54\n",
      "Loading python Likelihood interface...\n",
      "\n",
      "Applying a Gaussian prior with sigma 0.15 on the normalization of the Galactic Template\n",
      "{'Norm': 1.0, 'Mean': 1.0, 'Sigma': 0.15, 'Offset': 0.0}\n",
      "\n",
      "Likelihood settings:\n",
      "\n",
      "Event file(s): /Users/runner/work/threeML/threeML/docs/md_docs/slow_execute/interval10.0-30.0/gll_ft1_tr_bn190114873_v00_filt.fit\n",
      "Spacecraft file(s): /Users/runner/work/threeML/threeML/docs/md_docs/slow_execute/bn190114873/gll_ft2_tr_bn190114873_v00.fit\n",
      "Exposure map: gll_ft1_tr_bn190114873_v00_filt_expomap.fit\n",
      "Exposure cube: gll_ft1_tr_bn190114873_v00_filt_ltcube.fit\n",
      "IRFs: P8R3_TRANSIENT020E_V3\n",
      "Source model file: 190114873_LAT_xmlmodel_10.0-30.0.xml\n",
      "Optimizer: Minuit\n",
      "\n",
      "Performing likelihood fit...\n",
      "Data  56.0\n",
      "srcName  2.752536817872419e-05\n",
      "srcName  55.13887147698296\n",
      "srcName  0.024028877866810905\n",
      "srcName  0.5742465656691031\n",
      "Resid  56.0 55.73717444588704 -0.6693942200355198\n",
      "plotting GRB spectrum\n",
      "srcName  55.13887147698296\n",
      "|--------------------|---------------|----------|  ----------|----------|------|\n",
      "|         Source name|      Par. Name|     Value|       Error|     Units|    TS|\n",
      "|--------------------|---------------|----------|------------|----------|------|\n",
      "|GRB                 |               |          |            |          |   631|\n",
      "|                    |       Integral|   0.00176|    0.000244| ph./cm2/s|      |\n",
      "|                    |          Index|     -1.73|       0.128|         -|      |\n",
      "|                    |     LowerLimit|       100|n.a. (fixed)|       MeV|      |\n",
      "|                    |     UpperLimit|     1e+05|n.a. (fixed)|       MeV|      |\n",
      "|                    |    Energy flux|   1.9e-06|    3.95e-07| erg/cm2/s|      |\n",
      "|                    |    Photon flux|   0.00171|    0.000244| ph./cm2/s|      |\n",
      "|GalacticTemplate    |               |          |            |          |     1|\n",
      "|                    |          Value|         1|        0.15|         -|      |\n",
      "|                    |    Energy flux|  3.76e-07|    5.64e-08| erg/cm2/s|      |\n",
      "|                    |    Photon flux|   0.00052|    7.79e-05| ph./cm2/s|      |\n",
      "|IsotropicTemplate   |               |          |            |          |     1|\n",
      "|                    |  Normalization|        10|     0.00742|         -|      |\n",
      "|                    |    Energy flux|  1.19e-06|     8.8e-10| erg/cm2/s|      |\n",
      "|                    |    Photon flux|   0.00258|    1.91e-06| ph./cm2/s|      |\n",
      "--------------------------------------------------------------------------------\n",
      "\n",
      "*** plus 1 FGL sources with TS<1 (not printed to save space)\n",
      "*** All fluxes and upper limits have been computed in the 100.0 - 10000.0 energy range.\n",
      "*** Upper limits (if any) are computed assuming a photon index of -2.0, with the 95.0 % c.l.\n",
      "\n",
      "Log(likelihood) = 204.54960186957717\n",
      "time -p gtsrcprob evfile=/Users/runner/work/threeML/threeML/docs/md_docs/slow_execute/interval10.0-30.0/gll_ft1_tr_bn190114873_v00_filt.fit evtable=\"EVENTS\" scfile=/Users/runner/work/threeML/threeML/docs/md_docs/slow_execute/bn190114873/gll_ft2_tr_bn190114873_v00.fit sctable=\"SC_DATA\" outfile=/Users/runner/work/threeML/threeML/docs/md_docs/slow_execute/interval10.0-30.0/gll_ft1_tr_bn190114873_v00_filt_prob.fit srcmdl=gll_ft1_tr_bn190114873_v00_filt_likeRes.xml irfs=\"CALDB\" evtype=\"INDEF\" srclist= chatter=2 clobber=yes debug=no gui=no mode=\"ql\"\n",
      "real 5.77\n",
      "user 5.06\n",
      "sys 0.69\n",
      "\n",
      "\n",
      "Interval # 3 (30.0-80.0):\n",
      "-----------------------\n",
      "\n",
      "-> gtdocountsmap.py rad='10.0' eventfile='/Users/runner/work/threeML/threeML/docs/md_docs/slow_execute/bn190114873/gll_ft1_tr_bn190114873_v00.fit' zmax='110.0' thetamax='180.0' emin='100.0' emax='100000.0' skymap='190114873_LAT_skymap_30.0-80.0.fit' rspfile='/Users/runner/work/threeML/threeML/docs/md_docs/slow_execute/bn190114873/gll_cspec_tr_bn190114873_v00.rsp' strategy='time' ft2file='/Users/runner/work/threeML/threeML/docs/md_docs/slow_execute/bn190114873/gll_ft2_tr_bn190114873_v00.fit' tstart='30.0' tstop='80.0' ra='54.51' dec='-26.939' irf='p8_transient020e' allowEmpty='no'\n",
      "time -p gtmktime scfile=/Users/runner/work/threeML/threeML/docs/md_docs/slow_execute/bn190114873/gll_ft2_tr_bn190114873_v00.fit sctable=\"SC_DATA\" filter=\"(DATA_QUAL>0 || DATA_QUAL==-1) && LAT_CONFIG==1 && IN_SAA!=T && LIVETIME>0 && (ANGSEP(RA_ZENITH,DEC_ZENITH,54.51,-26.939)<=(110.0-10.0))\" roicut=no evfile=/Users/runner/work/threeML/threeML/docs/md_docs/slow_execute/bn190114873/gll_ft1_tr_bn190114873_v00.fit evtable=\"EVENTS\" outfile=\"gll_ft1_tr_bn190114873_v00_mkt.fit\" apply_filter=yes overwrite=no header_obstimes=yes tstart=569192257.626 tstop=569192307.626 gtifile=\"default\" chatter=2 clobber=yes debug=no gui=no mode=\"ql\"\n",
      "real 0.09\n",
      "user 0.06\n",
      "sys 0.02\n",
      "\n",
      "Using 305 data\n",
      "\n",
      "time -p gtselect infile=gll_ft1_tr_bn190114873_v00_mkt.fit outfile=gll_ft1_tr_bn190114873_v00_filt.fit ra=54.51 dec=-26.939 rad=10.0 tmin=569192257.626 tmax=569192307.626 emin=100.0 emax=100000.0 zmin=0.0 zmax=110.0 evclass=8 evtype=3 convtype=-1 phasemin=0.0 phasemax=1.0 evtable=\"EVENTS\" chatter=2 clobber=yes debug=no gui=no mode=\"ql\"\n",
      "Done.\n",
      "real 0.12\n",
      "user 0.09\n",
      "sys 0.02\n",
      "\n",
      "Selected 33 events.\n",
      "time -p gtbin evfile=gll_ft1_tr_bn190114873_v00_filt.fit scfile=/Users/runner/work/threeML/threeML/docs/md_docs/slow_execute/bn190114873/gll_ft2_tr_bn190114873_v00.fit outfile=190114873_LAT_skymap_30.0-80.0.fit algorithm=\"CMAP\" ebinalg=\"LOG\" emin=30.0 emax=200000.0 ebinfile=NONE tbinalg=\"LIN\" tbinfile=NONE nxpix=101 nypix=101 binsz=0.2 coordsys=\"CEL\" xref=54.51 yref=-26.939 axisrot=0.0 rafield=\"RA\" decfield=\"DEC\" proj=\"AIT\" hpx_ordering_scheme=\"RING\" hpx_order=3 hpx_ebin=yes hpx_region=\"\" evtable=\"EVENTS\" sctable=\"SC_DATA\" efield=\"ENERGY\" tfield=\"TIME\" chatter=2 clobber=yes debug=no gui=no mode=\"ql\"\n",
      "This is gtbin version HEAD\n",
      "real 0.16\n",
      "user 0.13\n",
      "sys 0.02\n",
      "\n",
      "Total number of events in the counts map: 33\n",
      "Total time in Good Time Intervals:        50.0\n",
      "-> gtbuildxmlmodel xmlmodel='190114873_LAT_xmlmodel_30.0-80.0.xml' filteredeventfile='gll_ft1_tr_bn190114873_v00_filt.fit' galactic_model='template' particle_model='isotr template' ra='54.51' dec='-26.939' fgl_mode='fast' ft2file='/Users/runner/work/threeML/threeML/docs/md_docs/slow_execute/bn190114873/gll_ft2_tr_bn190114873_v00.fit' source_model='PowerLaw2'\n",
      "\n",
      "Found Isotropic template for irf P8R3_TRANSIENT020E_V3: /usr/local/miniconda/envs/test_env/share/fermitools/refdata/fermi/galdiffuse/iso_P8R3_TRANSIENT020E_V3_v1.txt\n",
      "\n",
      "Found Galactic template for IRF. P8R3_TRANSIENT020E_V3: /usr/local/miniconda/envs/test_env/share/fermitools/refdata/fermi/galdiffuse/gll_iem_v07.fits\n",
      "\n",
      "Cutting the template around the ROI: \n",
      "\n",
      "addFGLsources( 54.51 -26.939 18.0 190114873_LAT_xmlmodel_30.0-80.0.xml 50.0 )\n",
      "('SpatialMap', True)\n",
      "Keeping diffuse source 4FGL J0322.6-3712e (10.77 deg away) using template /usr/local/miniconda/envs/test_env/share/fermitools/data/pyBurstAnalysisGUI/templates/FornaxA.fits...\n",
      "Keeping diffuse source 4FGL J0322.6-3712e (10.77 deg away) using spatial model SpatialMap...\n",
      "Kept 1 point sources from the FGL catalog\n",
      "-> gtdolike.py spectralfiles='no' xmlmodel='190114873_LAT_xmlmodel_30.0-80.0.xml' liketype='unbinned' filteredeventfile='gll_ft1_tr_bn190114873_v00_filt.fit' rspfile='/Users/runner/work/threeML/threeML/docs/md_docs/slow_execute/bn190114873/gll_cspec_tr_bn190114873_v00.rsp' showmodelimage='no' tsmin='20.0' optimizeposition='no' ft2file='/Users/runner/work/threeML/threeML/docs/md_docs/slow_execute/bn190114873/gll_ft2_tr_bn190114873_v00.fit' skymap='190114873_LAT_skymap_30.0-80.0.fit' flemin='100.000000' flemax='10000.000000'\n",
      "time -p gtltcube evfile=\"/Users/runner/work/threeML/threeML/docs/md_docs/slow_execute/interval30.0-80.0/gll_ft1_tr_bn190114873_v00_filt.fit\" evtable=\"EVENTS\" scfile=__ft2temp.fits sctable=\"SC_DATA\" outfile=gll_ft1_tr_bn190114873_v00_filt_ltcube.fit dcostheta=0.025 binsz=1.0 phibins=1 tmin=0.0 tmax=0.0 file_version=\"1\" zmin=0.0 zmax=180.0 chatter=2 clobber=yes debug=no gui=no mode=\"ql\"\n",
      "Working on file __ft2temp.fits\n",
      "...!\n",
      "real 0.76\n",
      "user 0.35\n",
      "sys 0.39\n",
      "/usr/local/miniconda/envs/test_env/lib/python3.9/site-packages/fermitools/GtBurst/gtapps_mp/gtexpmap_mp.py 40 40 2 2 /Users/runner/work/threeML/threeML/docs/md_docs/slow_execute/bn190114873/gll_ft2_tr_bn190114873_v00.fit /Users/runner/work/threeML/threeML/docs/md_docs/slow_execute/interval30.0-80.0/gll_ft1_tr_bn190114873_v00_filt.fit gll_ft1_tr_bn190114873_v00_filt_ltcube.fit P8R3_TRANSIENT020E_V3 20.0 20 gll_ft1_tr_bn190114873_v00_filt_expomap.fit\n",
      "Starting calculation of region 0.0,0.0 to 20.0,20.0\n",
      "\n",
      "Completed calculation of region 0.0,0.0 to 20.0,20.0\n",
      "\n",
      "Starting calculation of region 0.0,20.0 to 20.0,40.0\n",
      "\n",
      "Completed calculation of region 0.0,20.0 to 20.0,40.0\n",
      "\n",
      "Starting calculation of region 20.0,20.0 to 40.0,40.0\n",
      "\n",
      "Completed calculation of region 20.0,20.0 to 40.0,40.0\n",
      "\n",
      "Starting calculation of region 20.0,0.0 to 40.0,20.0\n",
      "\n",
      "Completed calculation of region 20.0,0.0 to 40.0,20.0\n",
      "\n",
      "Spawning 4 jobs...\n",
      "\n",
      "Combining temporary files...\n",
      "\n",
      "Deleting temporary files...\n",
      "\n",
      "\n",
      "\n",
      "time -p gtdiffrsp evfile=/Users/runner/work/threeML/threeML/docs/md_docs/slow_execute/interval30.0-80.0/gll_ft1_tr_bn190114873_v00_filt.fit evtable=\"EVENTS\" scfile=/Users/runner/work/threeML/threeML/docs/md_docs/slow_execute/bn190114873/gll_ft2_tr_bn190114873_v00.fit sctable=\"SC_DATA\" srcmdl=190114873_LAT_xmlmodel_30.0-80.0.xml irfs=\"P8R3_TRANSIENT020E_V3\" evclsmin=\"INDEF\" evclass=\"INDEF\" evtype=\"INDEF\" convert=no chatter=2 clobber=yes debug=no gui=no mode=\"ql\"\n",
      "adding source 4FGL J0322.6-3712e\n",
      "adding source GalacticTemplate\n",
      "adding source IsotropicTemplate\n",
      "Working on...\n",
      "/Users/runner/work/threeML/threeML/docs/md_docs/slow_execute/interval30.0-80.0/gll_ft1_tr_bn190114873_v00_filt.fit.................................!\n",
      "real 7.73\n",
      "user 7.23\n",
      "sys 0.49\n",
      "Loading python Likelihood interface...\n",
      "\n",
      "Applying a Gaussian prior with sigma 0.15 on the normalization of the Galactic Template\n",
      "{'Norm': 1.0, 'Mean': 1.0, 'Sigma': 0.15, 'Offset': 0.0}\n",
      "\n",
      "Likelihood settings:\n",
      "\n",
      "Event file(s): /Users/runner/work/threeML/threeML/docs/md_docs/slow_execute/interval30.0-80.0/gll_ft1_tr_bn190114873_v00_filt.fit\n",
      "Spacecraft file(s): /Users/runner/work/threeML/threeML/docs/md_docs/slow_execute/bn190114873/gll_ft2_tr_bn190114873_v00.fit\n",
      "Exposure map: gll_ft1_tr_bn190114873_v00_filt_expomap.fit\n",
      "Exposure cube: gll_ft1_tr_bn190114873_v00_filt_ltcube.fit\n",
      "IRFs: P8R3_TRANSIENT020E_V3\n",
      "Source model file: 190114873_LAT_xmlmodel_30.0-80.0.xml\n",
      "Optimizer: Minuit\n",
      "\n",
      "Performing likelihood fit...\n",
      "Data  33.0\n",
      "srcName  2.752536817872419e-05\n",
      "srcName  32.980999132579235\n",
      "srcName  0.0528562848327645\n",
      "srcName  0.012592011927504101\n",
      "Resid  33.0 33.046474954707676 -1.549122811565773\n",
      "plotting GRB spectrum\n",
      "srcName  32.980999132579235\n",
      "|--------------------|---------------|----------|  ----------|----------|------|\n",
      "|         Source name|      Par. Name|     Value|       Error|     Units|    TS|\n",
      "|--------------------|---------------|----------|------------|----------|------|\n",
      "|GRB                 |               |          |            |          |   389|\n",
      "|                    |       Integral|  0.000454|    7.92e-05| ph./cm2/s|      |\n",
      "|                    |          Index|     -1.51|       0.154|         -|      |\n",
      "|                    |     LowerLimit|       100|n.a. (fixed)|       MeV|      |\n",
      "|                    |     UpperLimit|     1e+05|n.a. (fixed)|       MeV|      |\n",
      "|                    |    Energy flux|  6.66e-07|    1.77e-07| erg/cm2/s|      |\n",
      "|                    |    Photon flux|  0.000424|    7.68e-05| ph./cm2/s|      |\n",
      "|GalacticTemplate    |               |          |            |          |     0|\n",
      "|                    |          Value|     0.999|        0.15|         -|      |\n",
      "|                    |    Energy flux|  3.76e-07|    5.64e-08| erg/cm2/s|      |\n",
      "|                    |    Photon flux|  0.000519|    7.79e-05| ph./cm2/s|      |\n",
      "|IsotropicTemplate   |               |          |            |          |     0|\n",
      "|                    |  Normalization|       0.1|      0.0342|         -|      |\n",
      "|                    |    Energy flux|  1.19e-08|    4.05e-09| erg/cm2/s|      |\n",
      "|                    |    Photon flux|  2.58e-05|    8.82e-06| ph./cm2/s|      |\n",
      "--------------------------------------------------------------------------------\n",
      "\n",
      "*** plus 1 FGL sources with TS<1 (not printed to save space)\n",
      "*** All fluxes and upper limits have been computed in the 100.0 - 10000.0 energy range.\n",
      "*** Upper limits (if any) are computed assuming a photon index of -2.0, with the 95.0 % c.l.\n",
      "\n",
      "Log(likelihood) = 144.63571671945422\n",
      "time -p gtsrcprob evfile=/Users/runner/work/threeML/threeML/docs/md_docs/slow_execute/interval30.0-80.0/gll_ft1_tr_bn190114873_v00_filt.fit evtable=\"EVENTS\" scfile=/Users/runner/work/threeML/threeML/docs/md_docs/slow_execute/bn190114873/gll_ft2_tr_bn190114873_v00.fit sctable=\"SC_DATA\" outfile=/Users/runner/work/threeML/threeML/docs/md_docs/slow_execute/interval30.0-80.0/gll_ft1_tr_bn190114873_v00_filt_prob.fit srcmdl=gll_ft1_tr_bn190114873_v00_filt_likeRes.xml irfs=\"CALDB\" evtype=\"INDEF\" srclist= chatter=2 clobber=yes debug=no gui=no mode=\"ql\"\n",
      "real 5.36\n",
      "user 4.83\n",
      "sys 0.50\n",
      "\n",
      "\n",
      "Interval # 4 (80.0-180.0):\n",
      "-----------------------\n",
      "\n",
      "-> gtdocountsmap.py rad='10.0' eventfile='/Users/runner/work/threeML/threeML/docs/md_docs/slow_execute/bn190114873/gll_ft1_tr_bn190114873_v00.fit' zmax='110.0' thetamax='180.0' emin='100.0' emax='100000.0' skymap='190114873_LAT_skymap_80.0-180.0.fit' rspfile='/Users/runner/work/threeML/threeML/docs/md_docs/slow_execute/bn190114873/gll_cspec_tr_bn190114873_v00.rsp' strategy='time' ft2file='/Users/runner/work/threeML/threeML/docs/md_docs/slow_execute/bn190114873/gll_ft2_tr_bn190114873_v00.fit' tstart='80.0' tstop='180.0' ra='54.51' dec='-26.939' irf='p8_transient020e' allowEmpty='no'\n",
      "time -p gtmktime scfile=/Users/runner/work/threeML/threeML/docs/md_docs/slow_execute/bn190114873/gll_ft2_tr_bn190114873_v00.fit sctable=\"SC_DATA\" filter=\"(DATA_QUAL>0 || DATA_QUAL==-1) && LAT_CONFIG==1 && IN_SAA!=T && LIVETIME>0 && (ANGSEP(RA_ZENITH,DEC_ZENITH,54.51,-26.939)<=(110.0-10.0))\" roicut=no evfile=/Users/runner/work/threeML/threeML/docs/md_docs/slow_execute/bn190114873/gll_ft1_tr_bn190114873_v00.fit evtable=\"EVENTS\" outfile=\"gll_ft1_tr_bn190114873_v00_mkt.fit\" apply_filter=yes overwrite=no header_obstimes=yes tstart=569192307.626 tstop=569192407.626 gtifile=\"default\" chatter=2 clobber=yes debug=no gui=no mode=\"ql\"\n",
      "real 0.08\n",
      "user 0.06\n",
      "sys 0.02\n",
      "\n",
      "Using 305 data\n",
      "\n",
      "time -p gtselect infile=gll_ft1_tr_bn190114873_v00_mkt.fit outfile=gll_ft1_tr_bn190114873_v00_filt.fit ra=54.51 dec=-26.939 rad=10.0 tmin=569192307.626 tmax=569192407.626 emin=100.0 emax=100000.0 zmin=0.0 zmax=110.0 evclass=8 evtype=3 convtype=-1 phasemin=0.0 phasemax=1.0 evtable=\"EVENTS\" chatter=2 clobber=yes debug=no gui=no mode=\"ql\"\n",
      "Done.\n",
      "real 0.11\n",
      "user 0.09\n",
      "sys 0.01\n",
      "\n",
      "Selected 8 events.\n",
      "time -p gtbin evfile=gll_ft1_tr_bn190114873_v00_filt.fit scfile=/Users/runner/work/threeML/threeML/docs/md_docs/slow_execute/bn190114873/gll_ft2_tr_bn190114873_v00.fit outfile=190114873_LAT_skymap_80.0-180.0.fit algorithm=\"CMAP\" ebinalg=\"LOG\" emin=30.0 emax=200000.0 ebinfile=NONE tbinalg=\"LIN\" tbinfile=NONE nxpix=101 nypix=101 binsz=0.2 coordsys=\"CEL\" xref=54.51 yref=-26.939 axisrot=0.0 rafield=\"RA\" decfield=\"DEC\" proj=\"AIT\" hpx_ordering_scheme=\"RING\" hpx_order=3 hpx_ebin=yes hpx_region=\"\" evtable=\"EVENTS\" sctable=\"SC_DATA\" efield=\"ENERGY\" tfield=\"TIME\" chatter=2 clobber=yes debug=no gui=no mode=\"ql\"\n",
      "This is gtbin version HEAD\n",
      "real 0.15\n",
      "user 0.13\n",
      "sys 0.01\n",
      "\n",
      "Total number of events in the counts map: 8\n",
      "Total time in Good Time Intervals:        97.97399997711182\n",
      "-> gtbuildxmlmodel xmlmodel='190114873_LAT_xmlmodel_80.0-180.0.xml' filteredeventfile='gll_ft1_tr_bn190114873_v00_filt.fit' galactic_model='template' particle_model='isotr template' ra='54.51' dec='-26.939' fgl_mode='fast' ft2file='/Users/runner/work/threeML/threeML/docs/md_docs/slow_execute/bn190114873/gll_ft2_tr_bn190114873_v00.fit' source_model='PowerLaw2'\n",
      "\n",
      "Found Isotropic template for irf P8R3_TRANSIENT020E_V3: /usr/local/miniconda/envs/test_env/share/fermitools/refdata/fermi/galdiffuse/iso_P8R3_TRANSIENT020E_V3_v1.txt\n",
      "\n",
      "Found Galactic template for IRF. P8R3_TRANSIENT020E_V3: /usr/local/miniconda/envs/test_env/share/fermitools/refdata/fermi/galdiffuse/gll_iem_v07.fits\n",
      "\n",
      "Cutting the template around the ROI: \n",
      "\n",
      "addFGLsources( 54.51 -26.939 18.0 190114873_LAT_xmlmodel_80.0-180.0.xml 97.97399997711182 )\n",
      "('SpatialMap', True)\n",
      "Keeping diffuse source 4FGL J0322.6-3712e (10.77 deg away) using template /usr/local/miniconda/envs/test_env/share/fermitools/data/pyBurstAnalysisGUI/templates/FornaxA.fits...\n",
      "Keeping diffuse source 4FGL J0322.6-3712e (10.77 deg away) using spatial model SpatialMap...\n",
      "Kept 1 point sources from the FGL catalog\n",
      "-> gtdolike.py spectralfiles='no' xmlmodel='190114873_LAT_xmlmodel_80.0-180.0.xml' liketype='unbinned' filteredeventfile='gll_ft1_tr_bn190114873_v00_filt.fit' rspfile='/Users/runner/work/threeML/threeML/docs/md_docs/slow_execute/bn190114873/gll_cspec_tr_bn190114873_v00.rsp' showmodelimage='no' tsmin='20.0' optimizeposition='no' ft2file='/Users/runner/work/threeML/threeML/docs/md_docs/slow_execute/bn190114873/gll_ft2_tr_bn190114873_v00.fit' skymap='190114873_LAT_skymap_80.0-180.0.fit' flemin='100.000000' flemax='10000.000000'\n",
      "time -p gtltcube evfile=\"/Users/runner/work/threeML/threeML/docs/md_docs/slow_execute/interval80.0-180.0/gll_ft1_tr_bn190114873_v00_filt.fit\" evtable=\"EVENTS\" scfile=__ft2temp.fits sctable=\"SC_DATA\" outfile=gll_ft1_tr_bn190114873_v00_filt_ltcube.fit dcostheta=0.025 binsz=1.0 phibins=1 tmin=0.0 tmax=0.0 file_version=\"1\" zmin=0.0 zmax=180.0 chatter=2 clobber=yes debug=no gui=no mode=\"ql\"\n",
      "Working on file __ft2temp.fits\n",
      ".....!\n",
      "real 0.60\n",
      "user 0.30\n",
      "sys 0.28\n",
      "/usr/local/miniconda/envs/test_env/lib/python3.9/site-packages/fermitools/GtBurst/gtapps_mp/gtexpmap_mp.py 40 40 2 2 /Users/runner/work/threeML/threeML/docs/md_docs/slow_execute/bn190114873/gll_ft2_tr_bn190114873_v00.fit /Users/runner/work/threeML/threeML/docs/md_docs/slow_execute/interval80.0-180.0/gll_ft1_tr_bn190114873_v00_filt.fit gll_ft1_tr_bn190114873_v00_filt_ltcube.fit P8R3_TRANSIENT020E_V3 20.0 20 gll_ft1_tr_bn190114873_v00_filt_expomap.fit\n",
      "Starting calculation of region 20.0,0.0 to 40.0,20.0\n",
      "\n",
      "Completed calculation of region 20.0,0.0 to 40.0,20.0\n",
      "\n",
      "Starting calculation of region 0.0,0.0 to 20.0,20.0\n",
      "\n",
      "Completed calculation of region 0.0,0.0 to 20.0,20.0\n",
      "\n",
      "Starting calculation of region 0.0,20.0 to 20.0,40.0\n",
      "\n",
      "Completed calculation of region 0.0,20.0 to 20.0,40.0\n",
      "\n",
      "Starting calculation of region 20.0,20.0 to 40.0,40.0\n",
      "\n",
      "Completed calculation of region 20.0,20.0 to 40.0,40.0\n",
      "\n",
      "Spawning 4 jobs...\n",
      "\n",
      "Combining temporary files...\n",
      "\n",
      "Deleting temporary files...\n",
      "\n",
      "\n",
      "\n",
      "time -p gtdiffrsp evfile=/Users/runner/work/threeML/threeML/docs/md_docs/slow_execute/interval80.0-180.0/gll_ft1_tr_bn190114873_v00_filt.fit evtable=\"EVENTS\" scfile=/Users/runner/work/threeML/threeML/docs/md_docs/slow_execute/bn190114873/gll_ft2_tr_bn190114873_v00.fit sctable=\"SC_DATA\" srcmdl=190114873_LAT_xmlmodel_80.0-180.0.xml irfs=\"P8R3_TRANSIENT020E_V3\" evclsmin=\"INDEF\" evclass=\"INDEF\" evtype=\"INDEF\" convert=no chatter=2 clobber=yes debug=no gui=no mode=\"ql\"\n",
      "adding source 4FGL J0322.6-3712e\n",
      "adding source GalacticTemplate\n",
      "adding source IsotropicTemplate\n",
      "Working on...\n",
      "/Users/runner/work/threeML/threeML/docs/md_docs/slow_execute/interval80.0-180.0/gll_ft1_tr_bn190114873_v00_filt.fit........!\n",
      "real 5.95\n",
      "user 5.39\n",
      "sys 0.54\n",
      "Loading python Likelihood interface...\n",
      "\n",
      "Applying a Gaussian prior with sigma 0.15 on the normalization of the Galactic Template\n",
      "{'Norm': 1.0, 'Mean': 1.0, 'Sigma': 0.15, 'Offset': 0.0}\n",
      "\n",
      "Likelihood settings:\n",
      "\n",
      "Event file(s): /Users/runner/work/threeML/threeML/docs/md_docs/slow_execute/interval80.0-180.0/gll_ft1_tr_bn190114873_v00_filt.fit\n",
      "Spacecraft file(s): /Users/runner/work/threeML/threeML/docs/md_docs/slow_execute/bn190114873/gll_ft2_tr_bn190114873_v00.fit\n",
      "Exposure map: gll_ft1_tr_bn190114873_v00_filt_expomap.fit\n",
      "Exposure cube: gll_ft1_tr_bn190114873_v00_filt_ltcube.fit\n",
      "IRFs: P8R3_TRANSIENT020E_V3\n",
      "Source model file: 190114873_LAT_xmlmodel_80.0-180.0.xml\n",
      "Optimizer: Minuit\n",
      "\n",
      "Performing likelihood fit...\n",
      "Data  8.0\n",
      "srcName  2.752536817872419e-05\n",
      "srcName  5.6866707104226135\n",
      "srcName  0.07756617718825597\n",
      "srcName  1.8293567276841616\n",
      "Resid  8.0 7.593621140663209 -2.600263598960609\n",
      "plotting GRB spectrum\n",
      "srcName  5.6866707104226135\n",
      "|--------------------|---------------|----------|  ----------|----------|------|\n",
      "|         Source name|      Par. Name|     Value|       Error|     Units|    TS|\n",
      "|--------------------|---------------|----------|------------|----------|------|\n",
      "|GRB                 |               |          |            |          |    34|\n",
      "|                    |       Integral|   5.9e-05|    2.85e-05| ph./cm2/s|      |\n",
      "|                    |          Index|     -1.65|        0.41|         -|      |\n",
      "|                    |     LowerLimit|       100|n.a. (fixed)|       MeV|      |\n",
      "|                    |     UpperLimit|     1e+05|n.a. (fixed)|       MeV|      |\n",
      "|                    |    Energy flux|  7.11e-08|    4.55e-08| erg/cm2/s|      |\n",
      "|                    |    Photon flux|  5.67e-05|    2.88e-05| ph./cm2/s|      |\n",
      "|GalacticTemplate    |               |          |            |          |     1|\n",
      "|                    |          Value|         1|        0.15|         -|      |\n",
      "|                    |    Energy flux|  3.76e-07|    5.64e-08| erg/cm2/s|      |\n",
      "|                    |    Photon flux|   0.00052|    7.79e-05| ph./cm2/s|      |\n",
      "|IsotropicTemplate   |               |          |            |          |     3|\n",
      "|                    |  Normalization|        10|       0.033|         -|      |\n",
      "|                    |    Energy flux|  1.19e-06|    3.91e-09| erg/cm2/s|      |\n",
      "|                    |    Photon flux|   0.00258|    8.51e-06| ph./cm2/s|      |\n",
      "--------------------------------------------------------------------------------\n",
      "\n",
      "*** plus 1 FGL sources with TS<1 (not printed to save space)\n",
      "*** All fluxes and upper limits have been computed in the 100.0 - 10000.0 energy range.\n",
      "*** Upper limits (if any) are computed assuming a photon index of -2.0, with the 95.0 % c.l.\n",
      "\n",
      "Log(likelihood) = 62.165128100867115\n",
      "time -p gtsrcprob evfile=/Users/runner/work/threeML/threeML/docs/md_docs/slow_execute/interval80.0-180.0/gll_ft1_tr_bn190114873_v00_filt.fit evtable=\"EVENTS\" scfile=/Users/runner/work/threeML/threeML/docs/md_docs/slow_execute/bn190114873/gll_ft2_tr_bn190114873_v00.fit sctable=\"SC_DATA\" outfile=/Users/runner/work/threeML/threeML/docs/md_docs/slow_execute/interval80.0-180.0/gll_ft1_tr_bn190114873_v00_filt_prob.fit srcmdl=gll_ft1_tr_bn190114873_v00_filt_likeRes.xml irfs=\"CALDB\" evtype=\"INDEF\" srclist= chatter=2 clobber=yes debug=no gui=no mode=\"ql\"\n",
      "real 5.28\n",
      "user 4.78\n",
      "sys 0.47\n",
      "\n"
     ]
    },
    {
     "data": {
      "text/html": [
       "<pre style=\"white-space:pre;overflow-x:auto;line-height:normal;font-family:Menlo,'DejaVu Sans Mono',consolas,'Courier New',monospace\"><span style=\"color: #00ff00; text-decoration-color: #00ff00\">22:54:04 </span><span style=\"color: #00ffaf; text-decoration-color: #00ffaf\">INFO    </span> <span style=\"color: #c6c6c6; text-decoration-color: #c6c6c6; font-weight: bold\"> The ft2 file does not exist. Please examine!                        </span><a href=\"file:///Users/runner/work/threeML/threeML/threeML/utils/data_builders/fermi/lat_transient_builder.py\" target=\"_blank\"><span style=\"color: #7f7f7f; text-decoration-color: #7f7f7f\">lat_transient_builder.py</span></a><span style=\"color: #7f7f7f; text-decoration-color: #7f7f7f\">:</span><a href=\"file:///Users/runner/work/threeML/threeML/threeML/utils/data_builders/fermi/lat_transient_builder.py#726\" target=\"_blank\"><span style=\"color: #7f7f7f; text-decoration-color: #7f7f7f\">726</span></a>\n",
       "</pre>\n"
      ],
      "text/plain": [
       "\u001b[38;5;46m22:54:04\u001b[0m\u001b[38;5;46m \u001b[0m\u001b[38;5;49mINFO    \u001b[0m \u001b[1;38;5;251m The ft2 file does not exist. Please examine!                       \u001b[0m\u001b[1;38;5;251m \u001b[0m\u001b]8;id=893930;file:///Users/runner/work/threeML/threeML/threeML/utils/data_builders/fermi/lat_transient_builder.py\u001b\\\u001b[2mlat_transient_builder.py\u001b[0m\u001b]8;;\u001b\\\u001b[2m:\u001b[0m\u001b]8;id=818444;file:///Users/runner/work/threeML/threeML/threeML/utils/data_builders/fermi/lat_transient_builder.py#726\u001b\\\u001b[2m726\u001b[0m\u001b]8;;\u001b\\\n"
      ]
     },
     "metadata": {},
     "output_type": "display_data"
    },
    {
     "data": {
      "text/html": [
       "<pre style=\"white-space:pre;overflow-x:auto;line-height:normal;font-family:Menlo,'DejaVu Sans Mono',consolas,'Courier New',monospace\"><span style=\"color: #00ff00; text-decoration-color: #00ff00\">         </span><span style=\"color: #00ffaf; text-decoration-color: #00ffaf\">INFO    </span> <span style=\"color: #c6c6c6; text-decoration-color: #c6c6c6; font-weight: bold\"> we will grab the data file for you.                                 </span><a href=\"file:///Users/runner/work/threeML/threeML/threeML/utils/data_builders/fermi/lat_transient_builder.py\" target=\"_blank\"><span style=\"color: #7f7f7f; text-decoration-color: #7f7f7f\">lat_transient_builder.py</span></a><span style=\"color: #7f7f7f; text-decoration-color: #7f7f7f\">:</span><a href=\"file:///Users/runner/work/threeML/threeML/threeML/utils/data_builders/fermi/lat_transient_builder.py#727\" target=\"_blank\"><span style=\"color: #7f7f7f; text-decoration-color: #7f7f7f\">727</span></a>\n",
       "</pre>\n"
      ],
      "text/plain": [
       "\u001b[38;5;46m        \u001b[0m\u001b[38;5;46m \u001b[0m\u001b[38;5;49mINFO    \u001b[0m \u001b[1;38;5;251m we will grab the data file for you.                                \u001b[0m\u001b[1;38;5;251m \u001b[0m\u001b]8;id=385769;file:///Users/runner/work/threeML/threeML/threeML/utils/data_builders/fermi/lat_transient_builder.py\u001b\\\u001b[2mlat_transient_builder.py\u001b[0m\u001b]8;;\u001b\\\u001b[2m:\u001b[0m\u001b]8;id=172213;file:///Users/runner/work/threeML/threeML/threeML/utils/data_builders/fermi/lat_transient_builder.py#727\u001b\\\u001b[2m727\u001b[0m\u001b]8;;\u001b\\\n"
      ]
     },
     "metadata": {},
     "output_type": "display_data"
    },
    {
     "data": {
      "text/html": [
       "<pre style=\"white-space:pre;overflow-x:auto;line-height:normal;font-family:Menlo,'DejaVu Sans Mono',consolas,'Courier New',monospace\"><span style=\"color: #00ff00; text-decoration-color: #00ff00\">         </span><span style=\"color: #00ffaf; text-decoration-color: #00ffaf\">INFO    </span> <span style=\"color: #c6c6c6; text-decoration-color: #c6c6c6; font-weight: bold\"> copied .</span><span style=\"color: #5f5f5f; text-decoration-color: #5f5f5f; font-weight: bold\">/bn190114873/</span><span style=\"color: #000080; text-decoration-color: #000080; font-weight: bold\">gll_ft2_tr_bn190114873_v00.fit</span><span style=\"color: #c6c6c6; text-decoration-color: #c6c6c6; font-weight: bold\"> to              </span><a href=\"file:///Users/runner/work/threeML/threeML/threeML/utils/data_builders/fermi/lat_transient_builder.py\" target=\"_blank\"><span style=\"color: #7f7f7f; text-decoration-color: #7f7f7f\">lat_transient_builder.py</span></a><span style=\"color: #7f7f7f; text-decoration-color: #7f7f7f\">:</span><a href=\"file:///Users/runner/work/threeML/threeML/threeML/utils/data_builders/fermi/lat_transient_builder.py#743\" target=\"_blank\"><span style=\"color: #7f7f7f; text-decoration-color: #7f7f7f\">743</span></a>\n",
       "<span style=\"color: #00ff00; text-decoration-color: #00ff00\">         </span>         <span style=\"color: #c6c6c6; text-decoration-color: #c6c6c6; font-weight: bold\">interval0.</span><span style=\"color: #c0c0c0; text-decoration-color: #c0c0c0; font-weight: bold\">0</span><span style=\"color: #c6c6c6; text-decoration-color: #c6c6c6; font-weight: bold\">-</span><span style=\"color: #c0c0c0; text-decoration-color: #c0c0c0; font-weight: bold\">10.0</span><span style=\"color: #c6c6c6; text-decoration-color: #c6c6c6; font-weight: bold\">/gll_ft2_tr_bn190114873_v00.fit                      </span><span style=\"color: #7f7f7f; text-decoration-color: #7f7f7f\">                            </span>\n",
       "</pre>\n"
      ],
      "text/plain": [
       "\u001b[38;5;46m        \u001b[0m\u001b[38;5;46m \u001b[0m\u001b[38;5;49mINFO    \u001b[0m \u001b[1;38;5;251m copied .\u001b[0m\u001b[1;38;5;59m/bn190114873/\u001b[0m\u001b[1;34mgll_ft2_tr_bn190114873_v00.fit\u001b[0m\u001b[1;38;5;251m to             \u001b[0m\u001b[1;38;5;251m \u001b[0m\u001b]8;id=932833;file:///Users/runner/work/threeML/threeML/threeML/utils/data_builders/fermi/lat_transient_builder.py\u001b\\\u001b[2mlat_transient_builder.py\u001b[0m\u001b]8;;\u001b\\\u001b[2m:\u001b[0m\u001b]8;id=566878;file:///Users/runner/work/threeML/threeML/threeML/utils/data_builders/fermi/lat_transient_builder.py#743\u001b\\\u001b[2m743\u001b[0m\u001b]8;;\u001b\\\n",
       "\u001b[38;5;46m         \u001b[0m         \u001b[1;38;5;251minterval0.\u001b[0m\u001b[1;37m0\u001b[0m\u001b[1;38;5;251m-\u001b[0m\u001b[1;37m10.0\u001b[0m\u001b[1;38;5;251m/gll_ft2_tr_bn190114873_v00.fit                     \u001b[0m\u001b[1;38;5;251m \u001b[0m\u001b[2m                            \u001b[0m\n"
      ]
     },
     "metadata": {},
     "output_type": "display_data"
    },
    {
     "data": {
      "text/html": [
       "<pre style=\"white-space:pre;overflow-x:auto;line-height:normal;font-family:Menlo,'DejaVu Sans Mono',consolas,'Courier New',monospace\"><span style=\"color: #00ff00; text-decoration-color: #00ff00\">         </span><span style=\"color: #00ffaf; text-decoration-color: #00ffaf\">INFO    </span> <span style=\"color: #c6c6c6; text-decoration-color: #c6c6c6; font-weight: bold\"> The ft2 file does not exist. Please examine!                        </span><a href=\"file:///Users/runner/work/threeML/threeML/threeML/utils/data_builders/fermi/lat_transient_builder.py\" target=\"_blank\"><span style=\"color: #7f7f7f; text-decoration-color: #7f7f7f\">lat_transient_builder.py</span></a><span style=\"color: #7f7f7f; text-decoration-color: #7f7f7f\">:</span><a href=\"file:///Users/runner/work/threeML/threeML/threeML/utils/data_builders/fermi/lat_transient_builder.py#726\" target=\"_blank\"><span style=\"color: #7f7f7f; text-decoration-color: #7f7f7f\">726</span></a>\n",
       "</pre>\n"
      ],
      "text/plain": [
       "\u001b[38;5;46m        \u001b[0m\u001b[38;5;46m \u001b[0m\u001b[38;5;49mINFO    \u001b[0m \u001b[1;38;5;251m The ft2 file does not exist. Please examine!                       \u001b[0m\u001b[1;38;5;251m \u001b[0m\u001b]8;id=721891;file:///Users/runner/work/threeML/threeML/threeML/utils/data_builders/fermi/lat_transient_builder.py\u001b\\\u001b[2mlat_transient_builder.py\u001b[0m\u001b]8;;\u001b\\\u001b[2m:\u001b[0m\u001b]8;id=830079;file:///Users/runner/work/threeML/threeML/threeML/utils/data_builders/fermi/lat_transient_builder.py#726\u001b\\\u001b[2m726\u001b[0m\u001b]8;;\u001b\\\n"
      ]
     },
     "metadata": {},
     "output_type": "display_data"
    },
    {
     "data": {
      "text/html": [
       "<pre style=\"white-space:pre;overflow-x:auto;line-height:normal;font-family:Menlo,'DejaVu Sans Mono',consolas,'Courier New',monospace\"><span style=\"color: #00ff00; text-decoration-color: #00ff00\">         </span><span style=\"color: #00ffaf; text-decoration-color: #00ffaf\">INFO    </span> <span style=\"color: #c6c6c6; text-decoration-color: #c6c6c6; font-weight: bold\"> we will grab the data file for you.                                 </span><a href=\"file:///Users/runner/work/threeML/threeML/threeML/utils/data_builders/fermi/lat_transient_builder.py\" target=\"_blank\"><span style=\"color: #7f7f7f; text-decoration-color: #7f7f7f\">lat_transient_builder.py</span></a><span style=\"color: #7f7f7f; text-decoration-color: #7f7f7f\">:</span><a href=\"file:///Users/runner/work/threeML/threeML/threeML/utils/data_builders/fermi/lat_transient_builder.py#727\" target=\"_blank\"><span style=\"color: #7f7f7f; text-decoration-color: #7f7f7f\">727</span></a>\n",
       "</pre>\n"
      ],
      "text/plain": [
       "\u001b[38;5;46m        \u001b[0m\u001b[38;5;46m \u001b[0m\u001b[38;5;49mINFO    \u001b[0m \u001b[1;38;5;251m we will grab the data file for you.                                \u001b[0m\u001b[1;38;5;251m \u001b[0m\u001b]8;id=497237;file:///Users/runner/work/threeML/threeML/threeML/utils/data_builders/fermi/lat_transient_builder.py\u001b\\\u001b[2mlat_transient_builder.py\u001b[0m\u001b]8;;\u001b\\\u001b[2m:\u001b[0m\u001b]8;id=311872;file:///Users/runner/work/threeML/threeML/threeML/utils/data_builders/fermi/lat_transient_builder.py#727\u001b\\\u001b[2m727\u001b[0m\u001b]8;;\u001b\\\n"
      ]
     },
     "metadata": {},
     "output_type": "display_data"
    },
    {
     "data": {
      "text/html": [
       "<pre style=\"white-space:pre;overflow-x:auto;line-height:normal;font-family:Menlo,'DejaVu Sans Mono',consolas,'Courier New',monospace\"><span style=\"color: #00ff00; text-decoration-color: #00ff00\">         </span><span style=\"color: #00ffaf; text-decoration-color: #00ffaf\">INFO    </span> <span style=\"color: #c6c6c6; text-decoration-color: #c6c6c6; font-weight: bold\"> copied .</span><span style=\"color: #5f5f5f; text-decoration-color: #5f5f5f; font-weight: bold\">/bn190114873/</span><span style=\"color: #000080; text-decoration-color: #000080; font-weight: bold\">gll_ft2_tr_bn190114873_v00.fit</span><span style=\"color: #c6c6c6; text-decoration-color: #c6c6c6; font-weight: bold\"> to              </span><a href=\"file:///Users/runner/work/threeML/threeML/threeML/utils/data_builders/fermi/lat_transient_builder.py\" target=\"_blank\"><span style=\"color: #7f7f7f; text-decoration-color: #7f7f7f\">lat_transient_builder.py</span></a><span style=\"color: #7f7f7f; text-decoration-color: #7f7f7f\">:</span><a href=\"file:///Users/runner/work/threeML/threeML/threeML/utils/data_builders/fermi/lat_transient_builder.py#743\" target=\"_blank\"><span style=\"color: #7f7f7f; text-decoration-color: #7f7f7f\">743</span></a>\n",
       "<span style=\"color: #00ff00; text-decoration-color: #00ff00\">         </span>         <span style=\"color: #c6c6c6; text-decoration-color: #c6c6c6; font-weight: bold\">interval10.</span><span style=\"color: #c0c0c0; text-decoration-color: #c0c0c0; font-weight: bold\">0</span><span style=\"color: #c6c6c6; text-decoration-color: #c6c6c6; font-weight: bold\">-</span><span style=\"color: #c0c0c0; text-decoration-color: #c0c0c0; font-weight: bold\">30.0</span><span style=\"color: #c6c6c6; text-decoration-color: #c6c6c6; font-weight: bold\">/gll_ft2_tr_bn190114873_v00.fit                     </span><span style=\"color: #7f7f7f; text-decoration-color: #7f7f7f\">                            </span>\n",
       "</pre>\n"
      ],
      "text/plain": [
       "\u001b[38;5;46m        \u001b[0m\u001b[38;5;46m \u001b[0m\u001b[38;5;49mINFO    \u001b[0m \u001b[1;38;5;251m copied .\u001b[0m\u001b[1;38;5;59m/bn190114873/\u001b[0m\u001b[1;34mgll_ft2_tr_bn190114873_v00.fit\u001b[0m\u001b[1;38;5;251m to             \u001b[0m\u001b[1;38;5;251m \u001b[0m\u001b]8;id=237907;file:///Users/runner/work/threeML/threeML/threeML/utils/data_builders/fermi/lat_transient_builder.py\u001b\\\u001b[2mlat_transient_builder.py\u001b[0m\u001b]8;;\u001b\\\u001b[2m:\u001b[0m\u001b]8;id=776791;file:///Users/runner/work/threeML/threeML/threeML/utils/data_builders/fermi/lat_transient_builder.py#743\u001b\\\u001b[2m743\u001b[0m\u001b]8;;\u001b\\\n",
       "\u001b[38;5;46m         \u001b[0m         \u001b[1;38;5;251minterval10.\u001b[0m\u001b[1;37m0\u001b[0m\u001b[1;38;5;251m-\u001b[0m\u001b[1;37m30.0\u001b[0m\u001b[1;38;5;251m/gll_ft2_tr_bn190114873_v00.fit                    \u001b[0m\u001b[1;38;5;251m \u001b[0m\u001b[2m                            \u001b[0m\n"
      ]
     },
     "metadata": {},
     "output_type": "display_data"
    },
    {
     "data": {
      "text/html": [
       "<pre style=\"white-space:pre;overflow-x:auto;line-height:normal;font-family:Menlo,'DejaVu Sans Mono',consolas,'Courier New',monospace\"><span style=\"color: #00ff00; text-decoration-color: #00ff00\">         </span><span style=\"color: #00ffaf; text-decoration-color: #00ffaf\">INFO    </span> <span style=\"color: #c6c6c6; text-decoration-color: #c6c6c6; font-weight: bold\"> The ft2 file does not exist. Please examine!                        </span><a href=\"file:///Users/runner/work/threeML/threeML/threeML/utils/data_builders/fermi/lat_transient_builder.py\" target=\"_blank\"><span style=\"color: #7f7f7f; text-decoration-color: #7f7f7f\">lat_transient_builder.py</span></a><span style=\"color: #7f7f7f; text-decoration-color: #7f7f7f\">:</span><a href=\"file:///Users/runner/work/threeML/threeML/threeML/utils/data_builders/fermi/lat_transient_builder.py#726\" target=\"_blank\"><span style=\"color: #7f7f7f; text-decoration-color: #7f7f7f\">726</span></a>\n",
       "</pre>\n"
      ],
      "text/plain": [
       "\u001b[38;5;46m        \u001b[0m\u001b[38;5;46m \u001b[0m\u001b[38;5;49mINFO    \u001b[0m \u001b[1;38;5;251m The ft2 file does not exist. Please examine!                       \u001b[0m\u001b[1;38;5;251m \u001b[0m\u001b]8;id=494983;file:///Users/runner/work/threeML/threeML/threeML/utils/data_builders/fermi/lat_transient_builder.py\u001b\\\u001b[2mlat_transient_builder.py\u001b[0m\u001b]8;;\u001b\\\u001b[2m:\u001b[0m\u001b]8;id=88050;file:///Users/runner/work/threeML/threeML/threeML/utils/data_builders/fermi/lat_transient_builder.py#726\u001b\\\u001b[2m726\u001b[0m\u001b]8;;\u001b\\\n"
      ]
     },
     "metadata": {},
     "output_type": "display_data"
    },
    {
     "data": {
      "text/html": [
       "<pre style=\"white-space:pre;overflow-x:auto;line-height:normal;font-family:Menlo,'DejaVu Sans Mono',consolas,'Courier New',monospace\"><span style=\"color: #00ff00; text-decoration-color: #00ff00\">         </span><span style=\"color: #00ffaf; text-decoration-color: #00ffaf\">INFO    </span> <span style=\"color: #c6c6c6; text-decoration-color: #c6c6c6; font-weight: bold\"> we will grab the data file for you.                                 </span><a href=\"file:///Users/runner/work/threeML/threeML/threeML/utils/data_builders/fermi/lat_transient_builder.py\" target=\"_blank\"><span style=\"color: #7f7f7f; text-decoration-color: #7f7f7f\">lat_transient_builder.py</span></a><span style=\"color: #7f7f7f; text-decoration-color: #7f7f7f\">:</span><a href=\"file:///Users/runner/work/threeML/threeML/threeML/utils/data_builders/fermi/lat_transient_builder.py#727\" target=\"_blank\"><span style=\"color: #7f7f7f; text-decoration-color: #7f7f7f\">727</span></a>\n",
       "</pre>\n"
      ],
      "text/plain": [
       "\u001b[38;5;46m        \u001b[0m\u001b[38;5;46m \u001b[0m\u001b[38;5;49mINFO    \u001b[0m \u001b[1;38;5;251m we will grab the data file for you.                                \u001b[0m\u001b[1;38;5;251m \u001b[0m\u001b]8;id=78518;file:///Users/runner/work/threeML/threeML/threeML/utils/data_builders/fermi/lat_transient_builder.py\u001b\\\u001b[2mlat_transient_builder.py\u001b[0m\u001b]8;;\u001b\\\u001b[2m:\u001b[0m\u001b]8;id=790723;file:///Users/runner/work/threeML/threeML/threeML/utils/data_builders/fermi/lat_transient_builder.py#727\u001b\\\u001b[2m727\u001b[0m\u001b]8;;\u001b\\\n"
      ]
     },
     "metadata": {},
     "output_type": "display_data"
    },
    {
     "data": {
      "text/html": [
       "<pre style=\"white-space:pre;overflow-x:auto;line-height:normal;font-family:Menlo,'DejaVu Sans Mono',consolas,'Courier New',monospace\"><span style=\"color: #00ff00; text-decoration-color: #00ff00\">         </span><span style=\"color: #00ffaf; text-decoration-color: #00ffaf\">INFO    </span> <span style=\"color: #c6c6c6; text-decoration-color: #c6c6c6; font-weight: bold\"> copied .</span><span style=\"color: #5f5f5f; text-decoration-color: #5f5f5f; font-weight: bold\">/bn190114873/</span><span style=\"color: #000080; text-decoration-color: #000080; font-weight: bold\">gll_ft2_tr_bn190114873_v00.fit</span><span style=\"color: #c6c6c6; text-decoration-color: #c6c6c6; font-weight: bold\"> to              </span><a href=\"file:///Users/runner/work/threeML/threeML/threeML/utils/data_builders/fermi/lat_transient_builder.py\" target=\"_blank\"><span style=\"color: #7f7f7f; text-decoration-color: #7f7f7f\">lat_transient_builder.py</span></a><span style=\"color: #7f7f7f; text-decoration-color: #7f7f7f\">:</span><a href=\"file:///Users/runner/work/threeML/threeML/threeML/utils/data_builders/fermi/lat_transient_builder.py#743\" target=\"_blank\"><span style=\"color: #7f7f7f; text-decoration-color: #7f7f7f\">743</span></a>\n",
       "<span style=\"color: #00ff00; text-decoration-color: #00ff00\">         </span>         <span style=\"color: #c6c6c6; text-decoration-color: #c6c6c6; font-weight: bold\">interval30.</span><span style=\"color: #c0c0c0; text-decoration-color: #c0c0c0; font-weight: bold\">0</span><span style=\"color: #c6c6c6; text-decoration-color: #c6c6c6; font-weight: bold\">-</span><span style=\"color: #c0c0c0; text-decoration-color: #c0c0c0; font-weight: bold\">80.0</span><span style=\"color: #c6c6c6; text-decoration-color: #c6c6c6; font-weight: bold\">/gll_ft2_tr_bn190114873_v00.fit                     </span><span style=\"color: #7f7f7f; text-decoration-color: #7f7f7f\">                            </span>\n",
       "</pre>\n"
      ],
      "text/plain": [
       "\u001b[38;5;46m        \u001b[0m\u001b[38;5;46m \u001b[0m\u001b[38;5;49mINFO    \u001b[0m \u001b[1;38;5;251m copied .\u001b[0m\u001b[1;38;5;59m/bn190114873/\u001b[0m\u001b[1;34mgll_ft2_tr_bn190114873_v00.fit\u001b[0m\u001b[1;38;5;251m to             \u001b[0m\u001b[1;38;5;251m \u001b[0m\u001b]8;id=36970;file:///Users/runner/work/threeML/threeML/threeML/utils/data_builders/fermi/lat_transient_builder.py\u001b\\\u001b[2mlat_transient_builder.py\u001b[0m\u001b]8;;\u001b\\\u001b[2m:\u001b[0m\u001b]8;id=294454;file:///Users/runner/work/threeML/threeML/threeML/utils/data_builders/fermi/lat_transient_builder.py#743\u001b\\\u001b[2m743\u001b[0m\u001b]8;;\u001b\\\n",
       "\u001b[38;5;46m         \u001b[0m         \u001b[1;38;5;251minterval30.\u001b[0m\u001b[1;37m0\u001b[0m\u001b[1;38;5;251m-\u001b[0m\u001b[1;37m80.0\u001b[0m\u001b[1;38;5;251m/gll_ft2_tr_bn190114873_v00.fit                    \u001b[0m\u001b[1;38;5;251m \u001b[0m\u001b[2m                            \u001b[0m\n"
      ]
     },
     "metadata": {},
     "output_type": "display_data"
    },
    {
     "data": {
      "text/html": [
       "<pre style=\"white-space:pre;overflow-x:auto;line-height:normal;font-family:Menlo,'DejaVu Sans Mono',consolas,'Courier New',monospace\"><span style=\"color: #00ff00; text-decoration-color: #00ff00\">         </span><span style=\"color: #00ffaf; text-decoration-color: #00ffaf\">INFO    </span> <span style=\"color: #c6c6c6; text-decoration-color: #c6c6c6; font-weight: bold\"> The ft2 file does not exist. Please examine!                        </span><a href=\"file:///Users/runner/work/threeML/threeML/threeML/utils/data_builders/fermi/lat_transient_builder.py\" target=\"_blank\"><span style=\"color: #7f7f7f; text-decoration-color: #7f7f7f\">lat_transient_builder.py</span></a><span style=\"color: #7f7f7f; text-decoration-color: #7f7f7f\">:</span><a href=\"file:///Users/runner/work/threeML/threeML/threeML/utils/data_builders/fermi/lat_transient_builder.py#726\" target=\"_blank\"><span style=\"color: #7f7f7f; text-decoration-color: #7f7f7f\">726</span></a>\n",
       "</pre>\n"
      ],
      "text/plain": [
       "\u001b[38;5;46m        \u001b[0m\u001b[38;5;46m \u001b[0m\u001b[38;5;49mINFO    \u001b[0m \u001b[1;38;5;251m The ft2 file does not exist. Please examine!                       \u001b[0m\u001b[1;38;5;251m \u001b[0m\u001b]8;id=795508;file:///Users/runner/work/threeML/threeML/threeML/utils/data_builders/fermi/lat_transient_builder.py\u001b\\\u001b[2mlat_transient_builder.py\u001b[0m\u001b]8;;\u001b\\\u001b[2m:\u001b[0m\u001b]8;id=615542;file:///Users/runner/work/threeML/threeML/threeML/utils/data_builders/fermi/lat_transient_builder.py#726\u001b\\\u001b[2m726\u001b[0m\u001b]8;;\u001b\\\n"
      ]
     },
     "metadata": {},
     "output_type": "display_data"
    },
    {
     "data": {
      "text/html": [
       "<pre style=\"white-space:pre;overflow-x:auto;line-height:normal;font-family:Menlo,'DejaVu Sans Mono',consolas,'Courier New',monospace\"><span style=\"color: #00ff00; text-decoration-color: #00ff00\">         </span><span style=\"color: #00ffaf; text-decoration-color: #00ffaf\">INFO    </span> <span style=\"color: #c6c6c6; text-decoration-color: #c6c6c6; font-weight: bold\"> we will grab the data file for you.                                 </span><a href=\"file:///Users/runner/work/threeML/threeML/threeML/utils/data_builders/fermi/lat_transient_builder.py\" target=\"_blank\"><span style=\"color: #7f7f7f; text-decoration-color: #7f7f7f\">lat_transient_builder.py</span></a><span style=\"color: #7f7f7f; text-decoration-color: #7f7f7f\">:</span><a href=\"file:///Users/runner/work/threeML/threeML/threeML/utils/data_builders/fermi/lat_transient_builder.py#727\" target=\"_blank\"><span style=\"color: #7f7f7f; text-decoration-color: #7f7f7f\">727</span></a>\n",
       "</pre>\n"
      ],
      "text/plain": [
       "\u001b[38;5;46m        \u001b[0m\u001b[38;5;46m \u001b[0m\u001b[38;5;49mINFO    \u001b[0m \u001b[1;38;5;251m we will grab the data file for you.                                \u001b[0m\u001b[1;38;5;251m \u001b[0m\u001b]8;id=772317;file:///Users/runner/work/threeML/threeML/threeML/utils/data_builders/fermi/lat_transient_builder.py\u001b\\\u001b[2mlat_transient_builder.py\u001b[0m\u001b]8;;\u001b\\\u001b[2m:\u001b[0m\u001b]8;id=821238;file:///Users/runner/work/threeML/threeML/threeML/utils/data_builders/fermi/lat_transient_builder.py#727\u001b\\\u001b[2m727\u001b[0m\u001b]8;;\u001b\\\n"
      ]
     },
     "metadata": {},
     "output_type": "display_data"
    },
    {
     "data": {
      "text/html": [
       "<pre style=\"white-space:pre;overflow-x:auto;line-height:normal;font-family:Menlo,'DejaVu Sans Mono',consolas,'Courier New',monospace\"><span style=\"color: #00ff00; text-decoration-color: #00ff00\">         </span><span style=\"color: #00ffaf; text-decoration-color: #00ffaf\">INFO    </span> <span style=\"color: #c6c6c6; text-decoration-color: #c6c6c6; font-weight: bold\"> copied .</span><span style=\"color: #5f5f5f; text-decoration-color: #5f5f5f; font-weight: bold\">/bn190114873/</span><span style=\"color: #000080; text-decoration-color: #000080; font-weight: bold\">gll_ft2_tr_bn190114873_v00.fit</span><span style=\"color: #c6c6c6; text-decoration-color: #c6c6c6; font-weight: bold\"> to              </span><a href=\"file:///Users/runner/work/threeML/threeML/threeML/utils/data_builders/fermi/lat_transient_builder.py\" target=\"_blank\"><span style=\"color: #7f7f7f; text-decoration-color: #7f7f7f\">lat_transient_builder.py</span></a><span style=\"color: #7f7f7f; text-decoration-color: #7f7f7f\">:</span><a href=\"file:///Users/runner/work/threeML/threeML/threeML/utils/data_builders/fermi/lat_transient_builder.py#743\" target=\"_blank\"><span style=\"color: #7f7f7f; text-decoration-color: #7f7f7f\">743</span></a>\n",
       "<span style=\"color: #00ff00; text-decoration-color: #00ff00\">         </span>         <span style=\"color: #c6c6c6; text-decoration-color: #c6c6c6; font-weight: bold\">interval80.</span><span style=\"color: #c0c0c0; text-decoration-color: #c0c0c0; font-weight: bold\">0</span><span style=\"color: #c6c6c6; text-decoration-color: #c6c6c6; font-weight: bold\">-</span><span style=\"color: #c0c0c0; text-decoration-color: #c0c0c0; font-weight: bold\">180.0</span><span style=\"color: #c6c6c6; text-decoration-color: #c6c6c6; font-weight: bold\">/gll_ft2_tr_bn190114873_v00.fit                    </span><span style=\"color: #7f7f7f; text-decoration-color: #7f7f7f\">                            </span>\n",
       "</pre>\n"
      ],
      "text/plain": [
       "\u001b[38;5;46m        \u001b[0m\u001b[38;5;46m \u001b[0m\u001b[38;5;49mINFO    \u001b[0m \u001b[1;38;5;251m copied .\u001b[0m\u001b[1;38;5;59m/bn190114873/\u001b[0m\u001b[1;34mgll_ft2_tr_bn190114873_v00.fit\u001b[0m\u001b[1;38;5;251m to             \u001b[0m\u001b[1;38;5;251m \u001b[0m\u001b]8;id=435820;file:///Users/runner/work/threeML/threeML/threeML/utils/data_builders/fermi/lat_transient_builder.py\u001b\\\u001b[2mlat_transient_builder.py\u001b[0m\u001b]8;;\u001b\\\u001b[2m:\u001b[0m\u001b]8;id=273745;file:///Users/runner/work/threeML/threeML/threeML/utils/data_builders/fermi/lat_transient_builder.py#743\u001b\\\u001b[2m743\u001b[0m\u001b]8;;\u001b\\\n",
       "\u001b[38;5;46m         \u001b[0m         \u001b[1;38;5;251minterval80.\u001b[0m\u001b[1;37m0\u001b[0m\u001b[1;38;5;251m-\u001b[0m\u001b[1;37m180.0\u001b[0m\u001b[1;38;5;251m/gll_ft2_tr_bn190114873_v00.fit                   \u001b[0m\u001b[1;38;5;251m \u001b[0m\u001b[2m                            \u001b[0m\n"
      ]
     },
     "metadata": {},
     "output_type": "display_data"
    }
   ],
   "source": [
    "LAT_observations = analysis_builder.run(include_previous_intervals=True)"
   ]
  },
  {
   "cell_type": "markdown",
   "id": "d4fea624",
   "metadata": {},
   "source": [
    " At this point we can create the FermiLATLike plugins from each of the observation:"
   ]
  },
  {
   "cell_type": "code",
   "execution_count": 12,
   "id": "25d10cc6",
   "metadata": {
    "execution": {
     "iopub.execute_input": "2024-09-11T22:54:04.297498Z",
     "iopub.status.busy": "2024-09-11T22:54:04.297076Z",
     "iopub.status.idle": "2024-09-11T22:54:05.579088Z",
     "shell.execute_reply": "2024-09-11T22:54:05.577644Z"
    }
   },
   "outputs": [
    {
     "name": "stdout",
     "output_type": "stream",
     "text": [
      "FermiLATLike - GTI SUM =  10.0\n",
      "FermiLATLike - GTI SUM =  20.0\n"
     ]
    },
    {
     "name": "stdout",
     "output_type": "stream",
     "text": [
      "FermiLATLike - GTI SUM =  50.0\n",
      "FermiLATLike - GTI SUM =  97.97399997711182\n"
     ]
    }
   ],
   "source": [
    "LAT_plugins = {}\n",
    "for l in LAT_observations:\n",
    "    LAT_name = \"LAT_%06.3f-%06.3f\" % (float(l.tstart), float(l.tstop))\n",
    "    LAT_plugins[LAT_name] = l.to_LATLike()\n",
    "    pass"
   ]
  },
  {
   "cell_type": "markdown",
   "id": "9cf5a596",
   "metadata": {},
   "source": [
    "For reference, these are the keys save in the dictionary.\n"
   ]
  },
  {
   "cell_type": "code",
   "execution_count": 13,
   "id": "03bf86b9",
   "metadata": {
    "execution": {
     "iopub.execute_input": "2024-09-11T22:54:05.584467Z",
     "iopub.status.busy": "2024-09-11T22:54:05.584171Z",
     "iopub.status.idle": "2024-09-11T22:54:05.592596Z",
     "shell.execute_reply": "2024-09-11T22:54:05.590316Z"
    },
    "lines_to_next_cell": 0
   },
   "outputs": [
    {
     "data": {
      "text/plain": [
       "dict_keys(['LAT_00.000-10.000', 'LAT_10.000-30.000', 'LAT_30.000-80.000', 'LAT_80.000-180.000'])"
      ]
     },
     "execution_count": 13,
     "metadata": {},
     "output_type": "execute_result"
    }
   ],
   "source": [
    "LAT_plugins.keys()"
   ]
  },
  {
   "cell_type": "markdown",
   "id": "70a564fb",
   "metadata": {},
   "source": [
    "Now we can perform the fit in each bin. Note that we set the model, and we set some initial values. All the resulting joint likelihood objects are stored in a dictioonary to be used later for plotting.\n"
   ]
  },
  {
   "cell_type": "code",
   "execution_count": 14,
   "id": "1a713fa6",
   "metadata": {
    "execution": {
     "iopub.execute_input": "2024-09-11T22:54:05.597931Z",
     "iopub.status.busy": "2024-09-11T22:54:05.597641Z",
     "iopub.status.idle": "2024-09-11T22:54:35.682780Z",
     "shell.execute_reply": "2024-09-11T22:54:35.681434Z"
    }
   },
   "outputs": [
    {
     "data": {
      "text/html": [
       "<pre style=\"white-space:pre;overflow-x:auto;line-height:normal;font-family:Menlo,'DejaVu Sans Mono',consolas,'Courier New',monospace\"><span style=\"color: #00ff00; text-decoration-color: #00ff00\">22:54:05 </span><span style=\"color: #af5fd7; text-decoration-color: #af5fd7\">WARNING </span> <span style=\"color: #c6c6c6; text-decoration-color: #c6c6c6; font-weight: bold\"> We have set the min_value of GRB.spectrum.main.Powerlaw_flux.F to </span><span style=\"color: #c0c0c0; text-decoration-color: #c0c0c0; font-weight: bold\">1e-99</span><span style=\"color: #c6c6c6; text-decoration-color: #c6c6c6; font-weight: bold\"> because </span><a href=\"file:///usr/local/miniconda/envs/test_env/lib/python3.9/site-packages/astromodels/core/parameter.py\" target=\"_blank\"><span style=\"color: #7f7f7f; text-decoration-color: #7f7f7f\">parameter.py</span></a><span style=\"color: #7f7f7f; text-decoration-color: #7f7f7f\">:</span><a href=\"file:///usr/local/miniconda/envs/test_env/lib/python3.9/site-packages/astromodels/core/parameter.py#704\" target=\"_blank\"><span style=\"color: #7f7f7f; text-decoration-color: #7f7f7f\">704</span></a>\n",
       "<span style=\"color: #00ff00; text-decoration-color: #00ff00\">         </span>         <span style=\"color: #c6c6c6; text-decoration-color: #c6c6c6; font-weight: bold\">there was a postive transform                                                    </span><span style=\"color: #7f7f7f; text-decoration-color: #7f7f7f\">                </span>\n",
       "</pre>\n"
      ],
      "text/plain": [
       "\u001b[38;5;46m22:54:05\u001b[0m\u001b[38;5;46m \u001b[0m\u001b[38;5;134mWARNING \u001b[0m \u001b[1;38;5;251m We have set the min_value of GRB.spectrum.main.Powerlaw_flux.F to \u001b[0m\u001b[1;37m1e-99\u001b[0m\u001b[1;38;5;251m because\u001b[0m\u001b[1;38;5;251m \u001b[0m\u001b]8;id=250114;file:///usr/local/miniconda/envs/test_env/lib/python3.9/site-packages/astromodels/core/parameter.py\u001b\\\u001b[2mparameter.py\u001b[0m\u001b]8;;\u001b\\\u001b[2m:\u001b[0m\u001b]8;id=515541;file:///usr/local/miniconda/envs/test_env/lib/python3.9/site-packages/astromodels/core/parameter.py#704\u001b\\\u001b[2m704\u001b[0m\u001b]8;;\u001b\\\n",
       "\u001b[38;5;46m         \u001b[0m         \u001b[1;38;5;251mthere was a postive transform                                                   \u001b[0m\u001b[1;38;5;251m \u001b[0m\u001b[2m                \u001b[0m\n"
      ]
     },
     "metadata": {},
     "output_type": "display_data"
    },
    {
     "name": "stdout",
     "output_type": "stream",
     "text": [
      "\n",
      "Found Isotropic template for irf P8R3_TRANSIENT020E_V3: /usr/local/miniconda/envs/test_env/share/fermitools/refdata/fermi/galdiffuse/iso_P8R3_TRANSIENT020E_V3_v1.txt\n",
      "\n",
      "Found Galactic template for IRF. P8R3_TRANSIENT020E_V3: /usr/local/miniconda/envs/test_env/share/fermitools/refdata/fermi/galdiffuse/gll_iem_v07.fits\n",
      "\n",
      "Cutting the template around the ROI: \n",
      "\n"
     ]
    },
    {
     "data": {
      "text/html": [
       "<pre style=\"white-space:pre;overflow-x:auto;line-height:normal;font-family:Menlo,'DejaVu Sans Mono',consolas,'Courier New',monospace\"><span style=\"color: #00ff00; text-decoration-color: #00ff00\">22:54:13 </span><span style=\"color: #00ffaf; text-decoration-color: #00ffaf\">INFO    </span> <span style=\"color: #c6c6c6; text-decoration-color: #c6c6c6; font-weight: bold\"> set the minimizer to minuit                                             </span><a href=\"file:///Users/runner/work/threeML/threeML/threeML/classicMLE/joint_likelihood.py\" target=\"_blank\"><span style=\"color: #7f7f7f; text-decoration-color: #7f7f7f\">joint_likelihood.py</span></a><span style=\"color: #7f7f7f; text-decoration-color: #7f7f7f\">:</span><a href=\"file:///Users/runner/work/threeML/threeML/threeML/classicMLE/joint_likelihood.py#1046\" target=\"_blank\"><span style=\"color: #7f7f7f; text-decoration-color: #7f7f7f\">1046</span></a>\n",
       "</pre>\n"
      ],
      "text/plain": [
       "\u001b[38;5;46m22:54:13\u001b[0m\u001b[38;5;46m \u001b[0m\u001b[38;5;49mINFO    \u001b[0m \u001b[1;38;5;251m set the minimizer to minuit                                            \u001b[0m\u001b[1;38;5;251m \u001b[0m\u001b]8;id=546487;file:///Users/runner/work/threeML/threeML/threeML/classicMLE/joint_likelihood.py\u001b\\\u001b[2mjoint_likelihood.py\u001b[0m\u001b]8;;\u001b\\\u001b[2m:\u001b[0m\u001b]8;id=771447;file:///Users/runner/work/threeML/threeML/threeML/classicMLE/joint_likelihood.py#1046\u001b\\\u001b[2m1046\u001b[0m\u001b]8;;\u001b\\\n"
      ]
     },
     "metadata": {},
     "output_type": "display_data"
    },
    {
     "data": {
      "text/html": [
       "<pre style=\"white-space:pre;overflow-x:auto;line-height:normal;font-family:Menlo,'DejaVu Sans Mono',consolas,'Courier New',monospace\"><span style=\"color: #00ff00; text-decoration-color: #00ff00\">         </span><span style=\"color: #00ffaf; text-decoration-color: #00ffaf\">INFO    </span> <span style=\"color: #c6c6c6; text-decoration-color: #c6c6c6; font-weight: bold\"> set the minimizer to MINUIT                                             </span><a href=\"file:///Users/runner/work/threeML/threeML/threeML/classicMLE/joint_likelihood.py\" target=\"_blank\"><span style=\"color: #7f7f7f; text-decoration-color: #7f7f7f\">joint_likelihood.py</span></a><span style=\"color: #7f7f7f; text-decoration-color: #7f7f7f\">:</span><a href=\"file:///Users/runner/work/threeML/threeML/threeML/classicMLE/joint_likelihood.py#1063\" target=\"_blank\"><span style=\"color: #7f7f7f; text-decoration-color: #7f7f7f\">1063</span></a>\n",
       "</pre>\n"
      ],
      "text/plain": [
       "\u001b[38;5;46m        \u001b[0m\u001b[38;5;46m \u001b[0m\u001b[38;5;49mINFO    \u001b[0m \u001b[1;38;5;251m set the minimizer to MINUIT                                            \u001b[0m\u001b[1;38;5;251m \u001b[0m\u001b]8;id=850773;file:///Users/runner/work/threeML/threeML/threeML/classicMLE/joint_likelihood.py\u001b\\\u001b[2mjoint_likelihood.py\u001b[0m\u001b]8;;\u001b\\\u001b[2m:\u001b[0m\u001b]8;id=927103;file:///Users/runner/work/threeML/threeML/threeML/classicMLE/joint_likelihood.py#1063\u001b\\\u001b[2m1063\u001b[0m\u001b]8;;\u001b\\\n"
      ]
     },
     "metadata": {},
     "output_type": "display_data"
    },
    {
     "data": {
      "text/html": [
       "<pre style=\"white-space:pre;overflow-x:auto;line-height:normal;font-family:Menlo,'DejaVu Sans Mono',consolas,'Courier New',monospace\"><span style=\"color: #00ff00; text-decoration-color: #00ff00\">         </span><span style=\"color: #af5fd7; text-decoration-color: #af5fd7\">WARNING </span> <span style=\"color: #c6c6c6; text-decoration-color: #c6c6c6; font-weight: bold\"> </span><span style=\"color: #c0c0c0; text-decoration-color: #c0c0c0; font-weight: bold\">49.8</span><span style=\"color: #c6c6c6; text-decoration-color: #c6c6c6; font-weight: bold\"> percent of samples have been thrown away because they failed the   </span><a href=\"file:///Users/runner/work/threeML/threeML/threeML/analysis_results.py\" target=\"_blank\"><span style=\"color: #7f7f7f; text-decoration-color: #7f7f7f\">analysis_results.py</span></a><span style=\"color: #7f7f7f; text-decoration-color: #7f7f7f\">:</span><a href=\"file:///Users/runner/work/threeML/threeML/threeML/analysis_results.py#1739\" target=\"_blank\"><span style=\"color: #7f7f7f; text-decoration-color: #7f7f7f\">1739</span></a>\n",
       "<span style=\"color: #00ff00; text-decoration-color: #00ff00\">         </span>         <span style=\"color: #c6c6c6; text-decoration-color: #c6c6c6; font-weight: bold\">constraints on the parameters. This results might not be suitable for    </span><span style=\"color: #7f7f7f; text-decoration-color: #7f7f7f\">                        </span>\n",
       "<span style=\"color: #00ff00; text-decoration-color: #00ff00\">         </span>         <span style=\"color: #c6c6c6; text-decoration-color: #c6c6c6; font-weight: bold\">error propagation. Enlarge the boundaries until you loose less than </span><span style=\"color: #c0c0c0; text-decoration-color: #c0c0c0; font-weight: bold\">1</span><span style=\"color: #c6c6c6; text-decoration-color: #c6c6c6; font-weight: bold\">    </span><span style=\"color: #7f7f7f; text-decoration-color: #7f7f7f\">                        </span>\n",
       "<span style=\"color: #00ff00; text-decoration-color: #00ff00\">         </span>         <span style=\"color: #c6c6c6; text-decoration-color: #c6c6c6; font-weight: bold\">percent of the samples.                                                  </span><span style=\"color: #7f7f7f; text-decoration-color: #7f7f7f\">                        </span>\n",
       "</pre>\n"
      ],
      "text/plain": [
       "\u001b[38;5;46m        \u001b[0m\u001b[38;5;46m \u001b[0m\u001b[38;5;134mWARNING \u001b[0m \u001b[1;38;5;251m \u001b[0m\u001b[1;37m49.8\u001b[0m\u001b[1;38;5;251m percent of samples have been thrown away because they failed the  \u001b[0m\u001b[1;38;5;251m \u001b[0m\u001b]8;id=211207;file:///Users/runner/work/threeML/threeML/threeML/analysis_results.py\u001b\\\u001b[2manalysis_results.py\u001b[0m\u001b]8;;\u001b\\\u001b[2m:\u001b[0m\u001b]8;id=636916;file:///Users/runner/work/threeML/threeML/threeML/analysis_results.py#1739\u001b\\\u001b[2m1739\u001b[0m\u001b]8;;\u001b\\\n",
       "\u001b[38;5;46m         \u001b[0m         \u001b[1;38;5;251mconstraints on the parameters. This results might not be suitable for   \u001b[0m\u001b[1;38;5;251m \u001b[0m\u001b[2m                        \u001b[0m\n",
       "\u001b[38;5;46m         \u001b[0m         \u001b[1;38;5;251merror propagation. Enlarge the boundaries until you loose less than \u001b[0m\u001b[1;37m1\u001b[0m\u001b[1;38;5;251m   \u001b[0m\u001b[1;38;5;251m \u001b[0m\u001b[2m                        \u001b[0m\n",
       "\u001b[38;5;46m         \u001b[0m         \u001b[1;38;5;251mpercent of the samples.                                                 \u001b[0m\u001b[1;38;5;251m \u001b[0m\u001b[2m                        \u001b[0m\n"
      ]
     },
     "metadata": {},
     "output_type": "display_data"
    },
    {
     "data": {
      "text/html": [
       "<pre style=\"white-space:pre;overflow-x:auto;line-height:normal;font-family:Menlo,'DejaVu Sans Mono',consolas,'Courier New',monospace\"><span style=\"color: #00ffaf; text-decoration-color: #00ffaf; font-weight: bold; text-decoration: underline\">Best fit values:</span>\n",
       "\n",
       "</pre>\n"
      ],
      "text/plain": [
       "\u001b[1;4;38;5;49mBest fit values:\u001b[0m\n",
       "\n"
      ]
     },
     "metadata": {},
     "output_type": "display_data"
    },
    {
     "data": {
      "text/html": [
       "<div>\n",
       "<style scoped>\n",
       "    .dataframe tbody tr th:only-of-type {\n",
       "        vertical-align: middle;\n",
       "    }\n",
       "\n",
       "    .dataframe tbody tr th {\n",
       "        vertical-align: top;\n",
       "    }\n",
       "\n",
       "    .dataframe thead th {\n",
       "        text-align: right;\n",
       "    }\n",
       "</style>\n",
       "<table border=\"1\" class=\"dataframe\">\n",
       "  <thead>\n",
       "    <tr style=\"text-align: right;\">\n",
       "      <th></th>\n",
       "      <th>result</th>\n",
       "      <th>unit</th>\n",
       "    </tr>\n",
       "    <tr>\n",
       "      <th>parameter</th>\n",
       "      <th></th>\n",
       "      <th></th>\n",
       "    </tr>\n",
       "  </thead>\n",
       "  <tbody>\n",
       "    <tr>\n",
       "      <th>GRB.spectrum.main.Powerlaw_flux.F</th>\n",
       "      <td>(1.11 -0.09 +0.10) x 10^-2</td>\n",
       "      <td>1 / (cm2 s)</td>\n",
       "    </tr>\n",
       "    <tr>\n",
       "      <th>GRB.spectrum.main.Powerlaw_flux.index</th>\n",
       "      <td>-2.22 +/- 0.10</td>\n",
       "      <td></td>\n",
       "    </tr>\n",
       "    <tr>\n",
       "      <th>LAT0X10_IsotropicTemplate_Normalization</th>\n",
       "      <td>5.00 +/- 0.08</td>\n",
       "      <td></td>\n",
       "    </tr>\n",
       "  </tbody>\n",
       "</table>\n",
       "</div>"
      ],
      "text/plain": [
       "                                                             result  \\\n",
       "parameter                                                             \n",
       "GRB.spectrum.main.Powerlaw_flux.F        (1.11 -0.09 +0.10) x 10^-2   \n",
       "GRB.spectrum.main.Powerlaw_flux.index                -2.22 +/- 0.10   \n",
       "LAT0X10_IsotropicTemplate_Normalization               5.00 +/- 0.08   \n",
       "\n",
       "                                                unit  \n",
       "parameter                                             \n",
       "GRB.spectrum.main.Powerlaw_flux.F        1 / (cm2 s)  \n",
       "GRB.spectrum.main.Powerlaw_flux.index                 \n",
       "LAT0X10_IsotropicTemplate_Normalization               "
      ]
     },
     "metadata": {},
     "output_type": "display_data"
    },
    {
     "data": {
      "text/html": [
       "<pre style=\"white-space:pre;overflow-x:auto;line-height:normal;font-family:Menlo,'DejaVu Sans Mono',consolas,'Courier New',monospace\">\n",
       "<span style=\"color: #00ffaf; text-decoration-color: #00ffaf; font-weight: bold; text-decoration: underline\">Correlation matrix:</span>\n",
       "\n",
       "</pre>\n"
      ],
      "text/plain": [
       "\n",
       "\u001b[1;4;38;5;49mCorrelation matrix:\u001b[0m\n",
       "\n"
      ]
     },
     "metadata": {},
     "output_type": "display_data"
    },
    {
     "data": {
      "text/html": [
       "<div><table id=\"table5272380320\">\n",
       "<tr><td>1.00</td><td>-0.31</td><td>-0.00</td></tr>\n",
       "<tr><td>-0.31</td><td>1.00</td><td>0.00</td></tr>\n",
       "<tr><td>-0.00</td><td>0.00</td><td>1.00</td></tr>\n",
       "</table></div>"
      ],
      "text/plain": [
       " 1.00 -0.31 -0.00\n",
       "-0.31  1.00  0.00\n",
       "-0.00  0.00  1.00"
      ]
     },
     "metadata": {},
     "output_type": "display_data"
    },
    {
     "data": {
      "text/html": [
       "<pre style=\"white-space:pre;overflow-x:auto;line-height:normal;font-family:Menlo,'DejaVu Sans Mono',consolas,'Courier New',monospace\">\n",
       "<span style=\"color: #00ffaf; text-decoration-color: #00ffaf; font-weight: bold; text-decoration: underline\">Values of -log(likelihood) at the minimum:</span>\n",
       "\n",
       "</pre>\n"
      ],
      "text/plain": [
       "\n",
       "\u001b[1;4;38;5;49mValues of -\u001b[0m\u001b[1;4;38;5;49mlog\u001b[0m\u001b[1;4;38;5;49m(\u001b[0m\u001b[1;4;38;5;49mlikelihood\u001b[0m\u001b[1;4;38;5;49m)\u001b[0m\u001b[1;4;38;5;49m at the minimum:\u001b[0m\n",
       "\n"
      ]
     },
     "metadata": {},
     "output_type": "display_data"
    },
    {
     "data": {
      "text/html": [
       "<div>\n",
       "<style scoped>\n",
       "    .dataframe tbody tr th:only-of-type {\n",
       "        vertical-align: middle;\n",
       "    }\n",
       "\n",
       "    .dataframe tbody tr th {\n",
       "        vertical-align: top;\n",
       "    }\n",
       "\n",
       "    .dataframe thead th {\n",
       "        text-align: right;\n",
       "    }\n",
       "</style>\n",
       "<table border=\"1\" class=\"dataframe\">\n",
       "  <thead>\n",
       "    <tr style=\"text-align: right;\">\n",
       "      <th></th>\n",
       "      <th>-log(likelihood)</th>\n",
       "    </tr>\n",
       "  </thead>\n",
       "  <tbody>\n",
       "    <tr>\n",
       "      <th>LAT0X10</th>\n",
       "      <td>896.873532</td>\n",
       "    </tr>\n",
       "    <tr>\n",
       "      <th>total</th>\n",
       "      <td>896.873532</td>\n",
       "    </tr>\n",
       "  </tbody>\n",
       "</table>\n",
       "</div>"
      ],
      "text/plain": [
       "         -log(likelihood)\n",
       "LAT0X10        896.873532\n",
       "total          896.873532"
      ]
     },
     "metadata": {},
     "output_type": "display_data"
    },
    {
     "data": {
      "text/html": [
       "<pre style=\"white-space:pre;overflow-x:auto;line-height:normal;font-family:Menlo,'DejaVu Sans Mono',consolas,'Courier New',monospace\">\n",
       "<span style=\"color: #00ffaf; text-decoration-color: #00ffaf; font-weight: bold; text-decoration: underline\">Values of statistical measures:</span>\n",
       "\n",
       "</pre>\n"
      ],
      "text/plain": [
       "\n",
       "\u001b[1;4;38;5;49mValues of statistical measures:\u001b[0m\n",
       "\n"
      ]
     },
     "metadata": {},
     "output_type": "display_data"
    },
    {
     "data": {
      "text/html": [
       "<div>\n",
       "<style scoped>\n",
       "    .dataframe tbody tr th:only-of-type {\n",
       "        vertical-align: middle;\n",
       "    }\n",
       "\n",
       "    .dataframe tbody tr th {\n",
       "        vertical-align: top;\n",
       "    }\n",
       "\n",
       "    .dataframe thead th {\n",
       "        text-align: right;\n",
       "    }\n",
       "</style>\n",
       "<table border=\"1\" class=\"dataframe\">\n",
       "  <thead>\n",
       "    <tr style=\"text-align: right;\">\n",
       "      <th></th>\n",
       "      <th>statistical measures</th>\n",
       "    </tr>\n",
       "  </thead>\n",
       "  <tbody>\n",
       "    <tr>\n",
       "      <th>AIC</th>\n",
       "      <td>1799.907064</td>\n",
       "    </tr>\n",
       "    <tr>\n",
       "      <th>BIC</th>\n",
       "      <td>1808.857922</td>\n",
       "    </tr>\n",
       "  </tbody>\n",
       "</table>\n",
       "</div>"
      ],
      "text/plain": [
       "     statistical measures\n",
       "AIC           1799.907064\n",
       "BIC           1808.857922"
      ]
     },
     "metadata": {},
     "output_type": "display_data"
    },
    {
     "data": {
      "text/html": [
       "<pre style=\"white-space:pre;overflow-x:auto;line-height:normal;font-family:Menlo,'DejaVu Sans Mono',consolas,'Courier New',monospace\"><span style=\"color: #00ff00; text-decoration-color: #00ff00\">22:54:13 </span><span style=\"color: #af5fd7; text-decoration-color: #af5fd7\">WARNING </span> <span style=\"color: #c6c6c6; text-decoration-color: #c6c6c6; font-weight: bold\"> We have set the min_value of GRB.spectrum.main.Powerlaw_flux.F to </span><span style=\"color: #c0c0c0; text-decoration-color: #c0c0c0; font-weight: bold\">1e-99</span><span style=\"color: #c6c6c6; text-decoration-color: #c6c6c6; font-weight: bold\"> because </span><a href=\"file:///usr/local/miniconda/envs/test_env/lib/python3.9/site-packages/astromodels/core/parameter.py\" target=\"_blank\"><span style=\"color: #7f7f7f; text-decoration-color: #7f7f7f\">parameter.py</span></a><span style=\"color: #7f7f7f; text-decoration-color: #7f7f7f\">:</span><a href=\"file:///usr/local/miniconda/envs/test_env/lib/python3.9/site-packages/astromodels/core/parameter.py#704\" target=\"_blank\"><span style=\"color: #7f7f7f; text-decoration-color: #7f7f7f\">704</span></a>\n",
       "<span style=\"color: #00ff00; text-decoration-color: #00ff00\">         </span>         <span style=\"color: #c6c6c6; text-decoration-color: #c6c6c6; font-weight: bold\">there was a postive transform                                                    </span><span style=\"color: #7f7f7f; text-decoration-color: #7f7f7f\">                </span>\n",
       "</pre>\n"
      ],
      "text/plain": [
       "\u001b[38;5;46m22:54:13\u001b[0m\u001b[38;5;46m \u001b[0m\u001b[38;5;134mWARNING \u001b[0m \u001b[1;38;5;251m We have set the min_value of GRB.spectrum.main.Powerlaw_flux.F to \u001b[0m\u001b[1;37m1e-99\u001b[0m\u001b[1;38;5;251m because\u001b[0m\u001b[1;38;5;251m \u001b[0m\u001b]8;id=924813;file:///usr/local/miniconda/envs/test_env/lib/python3.9/site-packages/astromodels/core/parameter.py\u001b\\\u001b[2mparameter.py\u001b[0m\u001b]8;;\u001b\\\u001b[2m:\u001b[0m\u001b]8;id=948641;file:///usr/local/miniconda/envs/test_env/lib/python3.9/site-packages/astromodels/core/parameter.py#704\u001b\\\u001b[2m704\u001b[0m\u001b]8;;\u001b\\\n",
       "\u001b[38;5;46m         \u001b[0m         \u001b[1;38;5;251mthere was a postive transform                                                   \u001b[0m\u001b[1;38;5;251m \u001b[0m\u001b[2m                \u001b[0m\n"
      ]
     },
     "metadata": {},
     "output_type": "display_data"
    },
    {
     "name": "stdout",
     "output_type": "stream",
     "text": [
      "\n",
      "Found Isotropic template for irf P8R3_TRANSIENT020E_V3: /usr/local/miniconda/envs/test_env/share/fermitools/refdata/fermi/galdiffuse/iso_P8R3_TRANSIENT020E_V3_v1.txt\n",
      "\n",
      "Found Galactic template for IRF. P8R3_TRANSIENT020E_V3: /usr/local/miniconda/envs/test_env/share/fermitools/refdata/fermi/galdiffuse/gll_iem_v07.fits\n",
      "\n",
      "Cutting the template around the ROI: \n",
      "\n"
     ]
    },
    {
     "data": {
      "text/html": [
       "<pre style=\"white-space:pre;overflow-x:auto;line-height:normal;font-family:Menlo,'DejaVu Sans Mono',consolas,'Courier New',monospace\"><span style=\"color: #00ff00; text-decoration-color: #00ff00\">22:54:20 </span><span style=\"color: #00ffaf; text-decoration-color: #00ffaf\">INFO    </span> <span style=\"color: #c6c6c6; text-decoration-color: #c6c6c6; font-weight: bold\"> set the minimizer to minuit                                             </span><a href=\"file:///Users/runner/work/threeML/threeML/threeML/classicMLE/joint_likelihood.py\" target=\"_blank\"><span style=\"color: #7f7f7f; text-decoration-color: #7f7f7f\">joint_likelihood.py</span></a><span style=\"color: #7f7f7f; text-decoration-color: #7f7f7f\">:</span><a href=\"file:///Users/runner/work/threeML/threeML/threeML/classicMLE/joint_likelihood.py#1046\" target=\"_blank\"><span style=\"color: #7f7f7f; text-decoration-color: #7f7f7f\">1046</span></a>\n",
       "</pre>\n"
      ],
      "text/plain": [
       "\u001b[38;5;46m22:54:20\u001b[0m\u001b[38;5;46m \u001b[0m\u001b[38;5;49mINFO    \u001b[0m \u001b[1;38;5;251m set the minimizer to minuit                                            \u001b[0m\u001b[1;38;5;251m \u001b[0m\u001b]8;id=693326;file:///Users/runner/work/threeML/threeML/threeML/classicMLE/joint_likelihood.py\u001b\\\u001b[2mjoint_likelihood.py\u001b[0m\u001b]8;;\u001b\\\u001b[2m:\u001b[0m\u001b]8;id=2165;file:///Users/runner/work/threeML/threeML/threeML/classicMLE/joint_likelihood.py#1046\u001b\\\u001b[2m1046\u001b[0m\u001b]8;;\u001b\\\n"
      ]
     },
     "metadata": {},
     "output_type": "display_data"
    },
    {
     "data": {
      "text/html": [
       "<pre style=\"white-space:pre;overflow-x:auto;line-height:normal;font-family:Menlo,'DejaVu Sans Mono',consolas,'Courier New',monospace\"><span style=\"color: #00ff00; text-decoration-color: #00ff00\">         </span><span style=\"color: #00ffaf; text-decoration-color: #00ffaf\">INFO    </span> <span style=\"color: #c6c6c6; text-decoration-color: #c6c6c6; font-weight: bold\"> set the minimizer to MINUIT                                             </span><a href=\"file:///Users/runner/work/threeML/threeML/threeML/classicMLE/joint_likelihood.py\" target=\"_blank\"><span style=\"color: #7f7f7f; text-decoration-color: #7f7f7f\">joint_likelihood.py</span></a><span style=\"color: #7f7f7f; text-decoration-color: #7f7f7f\">:</span><a href=\"file:///Users/runner/work/threeML/threeML/threeML/classicMLE/joint_likelihood.py#1063\" target=\"_blank\"><span style=\"color: #7f7f7f; text-decoration-color: #7f7f7f\">1063</span></a>\n",
       "</pre>\n"
      ],
      "text/plain": [
       "\u001b[38;5;46m        \u001b[0m\u001b[38;5;46m \u001b[0m\u001b[38;5;49mINFO    \u001b[0m \u001b[1;38;5;251m set the minimizer to MINUIT                                            \u001b[0m\u001b[1;38;5;251m \u001b[0m\u001b]8;id=299651;file:///Users/runner/work/threeML/threeML/threeML/classicMLE/joint_likelihood.py\u001b\\\u001b[2mjoint_likelihood.py\u001b[0m\u001b]8;;\u001b\\\u001b[2m:\u001b[0m\u001b]8;id=617869;file:///Users/runner/work/threeML/threeML/threeML/classicMLE/joint_likelihood.py#1063\u001b\\\u001b[2m1063\u001b[0m\u001b]8;;\u001b\\\n"
      ]
     },
     "metadata": {},
     "output_type": "display_data"
    },
    {
     "data": {
      "text/html": [
       "<pre style=\"white-space:pre;overflow-x:auto;line-height:normal;font-family:Menlo,'DejaVu Sans Mono',consolas,'Courier New',monospace\"><span style=\"color: #00ff00; text-decoration-color: #00ff00\">         </span><span style=\"color: #af5fd7; text-decoration-color: #af5fd7\">WARNING </span> <span style=\"color: #c6c6c6; text-decoration-color: #c6c6c6; font-weight: bold\"> </span><span style=\"color: #c0c0c0; text-decoration-color: #c0c0c0; font-weight: bold\">50.18</span><span style=\"color: #c6c6c6; text-decoration-color: #c6c6c6; font-weight: bold\"> percent of samples have been thrown away because they failed the  </span><a href=\"file:///Users/runner/work/threeML/threeML/threeML/analysis_results.py\" target=\"_blank\"><span style=\"color: #7f7f7f; text-decoration-color: #7f7f7f\">analysis_results.py</span></a><span style=\"color: #7f7f7f; text-decoration-color: #7f7f7f\">:</span><a href=\"file:///Users/runner/work/threeML/threeML/threeML/analysis_results.py#1739\" target=\"_blank\"><span style=\"color: #7f7f7f; text-decoration-color: #7f7f7f\">1739</span></a>\n",
       "<span style=\"color: #00ff00; text-decoration-color: #00ff00\">         </span>         <span style=\"color: #c6c6c6; text-decoration-color: #c6c6c6; font-weight: bold\">constraints on the parameters. This results might not be suitable for    </span><span style=\"color: #7f7f7f; text-decoration-color: #7f7f7f\">                        </span>\n",
       "<span style=\"color: #00ff00; text-decoration-color: #00ff00\">         </span>         <span style=\"color: #c6c6c6; text-decoration-color: #c6c6c6; font-weight: bold\">error propagation. Enlarge the boundaries until you loose less than </span><span style=\"color: #c0c0c0; text-decoration-color: #c0c0c0; font-weight: bold\">1</span><span style=\"color: #c6c6c6; text-decoration-color: #c6c6c6; font-weight: bold\">    </span><span style=\"color: #7f7f7f; text-decoration-color: #7f7f7f\">                        </span>\n",
       "<span style=\"color: #00ff00; text-decoration-color: #00ff00\">         </span>         <span style=\"color: #c6c6c6; text-decoration-color: #c6c6c6; font-weight: bold\">percent of the samples.                                                  </span><span style=\"color: #7f7f7f; text-decoration-color: #7f7f7f\">                        </span>\n",
       "</pre>\n"
      ],
      "text/plain": [
       "\u001b[38;5;46m        \u001b[0m\u001b[38;5;46m \u001b[0m\u001b[38;5;134mWARNING \u001b[0m \u001b[1;38;5;251m \u001b[0m\u001b[1;37m50.18\u001b[0m\u001b[1;38;5;251m percent of samples have been thrown away because they failed the \u001b[0m\u001b[1;38;5;251m \u001b[0m\u001b]8;id=610118;file:///Users/runner/work/threeML/threeML/threeML/analysis_results.py\u001b\\\u001b[2manalysis_results.py\u001b[0m\u001b]8;;\u001b\\\u001b[2m:\u001b[0m\u001b]8;id=953231;file:///Users/runner/work/threeML/threeML/threeML/analysis_results.py#1739\u001b\\\u001b[2m1739\u001b[0m\u001b]8;;\u001b\\\n",
       "\u001b[38;5;46m         \u001b[0m         \u001b[1;38;5;251mconstraints on the parameters. This results might not be suitable for   \u001b[0m\u001b[1;38;5;251m \u001b[0m\u001b[2m                        \u001b[0m\n",
       "\u001b[38;5;46m         \u001b[0m         \u001b[1;38;5;251merror propagation. Enlarge the boundaries until you loose less than \u001b[0m\u001b[1;37m1\u001b[0m\u001b[1;38;5;251m   \u001b[0m\u001b[1;38;5;251m \u001b[0m\u001b[2m                        \u001b[0m\n",
       "\u001b[38;5;46m         \u001b[0m         \u001b[1;38;5;251mpercent of the samples.                                                 \u001b[0m\u001b[1;38;5;251m \u001b[0m\u001b[2m                        \u001b[0m\n"
      ]
     },
     "metadata": {},
     "output_type": "display_data"
    },
    {
     "data": {
      "text/html": [
       "<pre style=\"white-space:pre;overflow-x:auto;line-height:normal;font-family:Menlo,'DejaVu Sans Mono',consolas,'Courier New',monospace\"><span style=\"color: #00ffaf; text-decoration-color: #00ffaf; font-weight: bold; text-decoration: underline\">Best fit values:</span>\n",
       "\n",
       "</pre>\n"
      ],
      "text/plain": [
       "\u001b[1;4;38;5;49mBest fit values:\u001b[0m\n",
       "\n"
      ]
     },
     "metadata": {},
     "output_type": "display_data"
    },
    {
     "data": {
      "text/html": [
       "<div>\n",
       "<style scoped>\n",
       "    .dataframe tbody tr th:only-of-type {\n",
       "        vertical-align: middle;\n",
       "    }\n",
       "\n",
       "    .dataframe tbody tr th {\n",
       "        vertical-align: top;\n",
       "    }\n",
       "\n",
       "    .dataframe thead th {\n",
       "        text-align: right;\n",
       "    }\n",
       "</style>\n",
       "<table border=\"1\" class=\"dataframe\">\n",
       "  <thead>\n",
       "    <tr style=\"text-align: right;\">\n",
       "      <th></th>\n",
       "      <th>result</th>\n",
       "      <th>unit</th>\n",
       "    </tr>\n",
       "    <tr>\n",
       "      <th>parameter</th>\n",
       "      <th></th>\n",
       "      <th></th>\n",
       "    </tr>\n",
       "  </thead>\n",
       "  <tbody>\n",
       "    <tr>\n",
       "      <th>GRB.spectrum.main.Powerlaw_flux.F</th>\n",
       "      <td>(1.73 -0.23 +0.26) x 10^-3</td>\n",
       "      <td>1 / (cm2 s)</td>\n",
       "    </tr>\n",
       "    <tr>\n",
       "      <th>GRB.spectrum.main.Powerlaw_flux.index</th>\n",
       "      <td>-1.73 +/- 0.13</td>\n",
       "      <td></td>\n",
       "    </tr>\n",
       "    <tr>\n",
       "      <th>LAT10X30_IsotropicTemplate_Normalization</th>\n",
       "      <td>5.000 +/- 0.006</td>\n",
       "      <td></td>\n",
       "    </tr>\n",
       "  </tbody>\n",
       "</table>\n",
       "</div>"
      ],
      "text/plain": [
       "                                                              result  \\\n",
       "parameter                                                              \n",
       "GRB.spectrum.main.Powerlaw_flux.F         (1.73 -0.23 +0.26) x 10^-3   \n",
       "GRB.spectrum.main.Powerlaw_flux.index                 -1.73 +/- 0.13   \n",
       "LAT10X30_IsotropicTemplate_Normalization             5.000 +/- 0.006   \n",
       "\n",
       "                                                 unit  \n",
       "parameter                                              \n",
       "GRB.spectrum.main.Powerlaw_flux.F         1 / (cm2 s)  \n",
       "GRB.spectrum.main.Powerlaw_flux.index                  \n",
       "LAT10X30_IsotropicTemplate_Normalization               "
      ]
     },
     "metadata": {},
     "output_type": "display_data"
    },
    {
     "data": {
      "text/html": [
       "<pre style=\"white-space:pre;overflow-x:auto;line-height:normal;font-family:Menlo,'DejaVu Sans Mono',consolas,'Courier New',monospace\">\n",
       "<span style=\"color: #00ffaf; text-decoration-color: #00ffaf; font-weight: bold; text-decoration: underline\">Correlation matrix:</span>\n",
       "\n",
       "</pre>\n"
      ],
      "text/plain": [
       "\n",
       "\u001b[1;4;38;5;49mCorrelation matrix:\u001b[0m\n",
       "\n"
      ]
     },
     "metadata": {},
     "output_type": "display_data"
    },
    {
     "data": {
      "text/html": [
       "<div><table id=\"table5281347568\">\n",
       "<tr><td>1.00</td><td>-0.30</td><td>-0.00</td></tr>\n",
       "<tr><td>-0.30</td><td>1.00</td><td>0.00</td></tr>\n",
       "<tr><td>-0.00</td><td>0.00</td><td>1.00</td></tr>\n",
       "</table></div>"
      ],
      "text/plain": [
       " 1.00 -0.30 -0.00\n",
       "-0.30  1.00  0.00\n",
       "-0.00  0.00  1.00"
      ]
     },
     "metadata": {},
     "output_type": "display_data"
    },
    {
     "data": {
      "text/html": [
       "<pre style=\"white-space:pre;overflow-x:auto;line-height:normal;font-family:Menlo,'DejaVu Sans Mono',consolas,'Courier New',monospace\">\n",
       "<span style=\"color: #00ffaf; text-decoration-color: #00ffaf; font-weight: bold; text-decoration: underline\">Values of -log(likelihood) at the minimum:</span>\n",
       "\n",
       "</pre>\n"
      ],
      "text/plain": [
       "\n",
       "\u001b[1;4;38;5;49mValues of -\u001b[0m\u001b[1;4;38;5;49mlog\u001b[0m\u001b[1;4;38;5;49m(\u001b[0m\u001b[1;4;38;5;49mlikelihood\u001b[0m\u001b[1;4;38;5;49m)\u001b[0m\u001b[1;4;38;5;49m at the minimum:\u001b[0m\n",
       "\n"
      ]
     },
     "metadata": {},
     "output_type": "display_data"
    },
    {
     "data": {
      "text/html": [
       "<div>\n",
       "<style scoped>\n",
       "    .dataframe tbody tr th:only-of-type {\n",
       "        vertical-align: middle;\n",
       "    }\n",
       "\n",
       "    .dataframe tbody tr th {\n",
       "        vertical-align: top;\n",
       "    }\n",
       "\n",
       "    .dataframe thead th {\n",
       "        text-align: right;\n",
       "    }\n",
       "</style>\n",
       "<table border=\"1\" class=\"dataframe\">\n",
       "  <thead>\n",
       "    <tr style=\"text-align: right;\">\n",
       "      <th></th>\n",
       "      <th>-log(likelihood)</th>\n",
       "    </tr>\n",
       "  </thead>\n",
       "  <tbody>\n",
       "    <tr>\n",
       "      <th>LAT10X30</th>\n",
       "      <td>377.045804</td>\n",
       "    </tr>\n",
       "    <tr>\n",
       "      <th>total</th>\n",
       "      <td>377.045804</td>\n",
       "    </tr>\n",
       "  </tbody>\n",
       "</table>\n",
       "</div>"
      ],
      "text/plain": [
       "          -log(likelihood)\n",
       "LAT10X30        377.045804\n",
       "total           377.045804"
      ]
     },
     "metadata": {},
     "output_type": "display_data"
    },
    {
     "data": {
      "text/html": [
       "<pre style=\"white-space:pre;overflow-x:auto;line-height:normal;font-family:Menlo,'DejaVu Sans Mono',consolas,'Courier New',monospace\">\n",
       "<span style=\"color: #00ffaf; text-decoration-color: #00ffaf; font-weight: bold; text-decoration: underline\">Values of statistical measures:</span>\n",
       "\n",
       "</pre>\n"
      ],
      "text/plain": [
       "\n",
       "\u001b[1;4;38;5;49mValues of statistical measures:\u001b[0m\n",
       "\n"
      ]
     },
     "metadata": {},
     "output_type": "display_data"
    },
    {
     "data": {
      "text/html": [
       "<div>\n",
       "<style scoped>\n",
       "    .dataframe tbody tr th:only-of-type {\n",
       "        vertical-align: middle;\n",
       "    }\n",
       "\n",
       "    .dataframe tbody tr th {\n",
       "        vertical-align: top;\n",
       "    }\n",
       "\n",
       "    .dataframe thead th {\n",
       "        text-align: right;\n",
       "    }\n",
       "</style>\n",
       "<table border=\"1\" class=\"dataframe\">\n",
       "  <thead>\n",
       "    <tr style=\"text-align: right;\">\n",
       "      <th></th>\n",
       "      <th>statistical measures</th>\n",
       "    </tr>\n",
       "  </thead>\n",
       "  <tbody>\n",
       "    <tr>\n",
       "      <th>AIC</th>\n",
       "      <td>760.553147</td>\n",
       "    </tr>\n",
       "    <tr>\n",
       "      <th>BIC</th>\n",
       "      <td>766.167663</td>\n",
       "    </tr>\n",
       "  </tbody>\n",
       "</table>\n",
       "</div>"
      ],
      "text/plain": [
       "     statistical measures\n",
       "AIC            760.553147\n",
       "BIC            766.167663"
      ]
     },
     "metadata": {},
     "output_type": "display_data"
    },
    {
     "data": {
      "text/html": [
       "<pre style=\"white-space:pre;overflow-x:auto;line-height:normal;font-family:Menlo,'DejaVu Sans Mono',consolas,'Courier New',monospace\"><span style=\"color: #00ff00; text-decoration-color: #00ff00\">22:54:20 </span><span style=\"color: #af5fd7; text-decoration-color: #af5fd7\">WARNING </span> <span style=\"color: #c6c6c6; text-decoration-color: #c6c6c6; font-weight: bold\"> We have set the min_value of GRB.spectrum.main.Powerlaw_flux.F to </span><span style=\"color: #c0c0c0; text-decoration-color: #c0c0c0; font-weight: bold\">1e-99</span><span style=\"color: #c6c6c6; text-decoration-color: #c6c6c6; font-weight: bold\"> because </span><a href=\"file:///usr/local/miniconda/envs/test_env/lib/python3.9/site-packages/astromodels/core/parameter.py\" target=\"_blank\"><span style=\"color: #7f7f7f; text-decoration-color: #7f7f7f\">parameter.py</span></a><span style=\"color: #7f7f7f; text-decoration-color: #7f7f7f\">:</span><a href=\"file:///usr/local/miniconda/envs/test_env/lib/python3.9/site-packages/astromodels/core/parameter.py#704\" target=\"_blank\"><span style=\"color: #7f7f7f; text-decoration-color: #7f7f7f\">704</span></a>\n",
       "<span style=\"color: #00ff00; text-decoration-color: #00ff00\">         </span>         <span style=\"color: #c6c6c6; text-decoration-color: #c6c6c6; font-weight: bold\">there was a postive transform                                                    </span><span style=\"color: #7f7f7f; text-decoration-color: #7f7f7f\">                </span>\n",
       "</pre>\n"
      ],
      "text/plain": [
       "\u001b[38;5;46m22:54:20\u001b[0m\u001b[38;5;46m \u001b[0m\u001b[38;5;134mWARNING \u001b[0m \u001b[1;38;5;251m We have set the min_value of GRB.spectrum.main.Powerlaw_flux.F to \u001b[0m\u001b[1;37m1e-99\u001b[0m\u001b[1;38;5;251m because\u001b[0m\u001b[1;38;5;251m \u001b[0m\u001b]8;id=404850;file:///usr/local/miniconda/envs/test_env/lib/python3.9/site-packages/astromodels/core/parameter.py\u001b\\\u001b[2mparameter.py\u001b[0m\u001b]8;;\u001b\\\u001b[2m:\u001b[0m\u001b]8;id=970745;file:///usr/local/miniconda/envs/test_env/lib/python3.9/site-packages/astromodels/core/parameter.py#704\u001b\\\u001b[2m704\u001b[0m\u001b]8;;\u001b\\\n",
       "\u001b[38;5;46m         \u001b[0m         \u001b[1;38;5;251mthere was a postive transform                                                   \u001b[0m\u001b[1;38;5;251m \u001b[0m\u001b[2m                \u001b[0m\n"
      ]
     },
     "metadata": {},
     "output_type": "display_data"
    },
    {
     "name": "stdout",
     "output_type": "stream",
     "text": [
      "\n",
      "Found Isotropic template for irf P8R3_TRANSIENT020E_V3: /usr/local/miniconda/envs/test_env/share/fermitools/refdata/fermi/galdiffuse/iso_P8R3_TRANSIENT020E_V3_v1.txt\n",
      "\n",
      "Found Galactic template for IRF. P8R3_TRANSIENT020E_V3: /usr/local/miniconda/envs/test_env/share/fermitools/refdata/fermi/galdiffuse/gll_iem_v07.fits\n",
      "\n",
      "Cutting the template around the ROI: \n",
      "\n"
     ]
    },
    {
     "data": {
      "text/html": [
       "<pre style=\"white-space:pre;overflow-x:auto;line-height:normal;font-family:Menlo,'DejaVu Sans Mono',consolas,'Courier New',monospace\"><span style=\"color: #00ff00; text-decoration-color: #00ff00\">22:54:28 </span><span style=\"color: #00ffaf; text-decoration-color: #00ffaf\">INFO    </span> <span style=\"color: #c6c6c6; text-decoration-color: #c6c6c6; font-weight: bold\"> set the minimizer to minuit                                             </span><a href=\"file:///Users/runner/work/threeML/threeML/threeML/classicMLE/joint_likelihood.py\" target=\"_blank\"><span style=\"color: #7f7f7f; text-decoration-color: #7f7f7f\">joint_likelihood.py</span></a><span style=\"color: #7f7f7f; text-decoration-color: #7f7f7f\">:</span><a href=\"file:///Users/runner/work/threeML/threeML/threeML/classicMLE/joint_likelihood.py#1046\" target=\"_blank\"><span style=\"color: #7f7f7f; text-decoration-color: #7f7f7f\">1046</span></a>\n",
       "</pre>\n"
      ],
      "text/plain": [
       "\u001b[38;5;46m22:54:28\u001b[0m\u001b[38;5;46m \u001b[0m\u001b[38;5;49mINFO    \u001b[0m \u001b[1;38;5;251m set the minimizer to minuit                                            \u001b[0m\u001b[1;38;5;251m \u001b[0m\u001b]8;id=998986;file:///Users/runner/work/threeML/threeML/threeML/classicMLE/joint_likelihood.py\u001b\\\u001b[2mjoint_likelihood.py\u001b[0m\u001b]8;;\u001b\\\u001b[2m:\u001b[0m\u001b]8;id=738266;file:///Users/runner/work/threeML/threeML/threeML/classicMLE/joint_likelihood.py#1046\u001b\\\u001b[2m1046\u001b[0m\u001b]8;;\u001b\\\n"
      ]
     },
     "metadata": {},
     "output_type": "display_data"
    },
    {
     "data": {
      "text/html": [
       "<pre style=\"white-space:pre;overflow-x:auto;line-height:normal;font-family:Menlo,'DejaVu Sans Mono',consolas,'Courier New',monospace\"><span style=\"color: #00ff00; text-decoration-color: #00ff00\">         </span><span style=\"color: #00ffaf; text-decoration-color: #00ffaf\">INFO    </span> <span style=\"color: #c6c6c6; text-decoration-color: #c6c6c6; font-weight: bold\"> set the minimizer to MINUIT                                             </span><a href=\"file:///Users/runner/work/threeML/threeML/threeML/classicMLE/joint_likelihood.py\" target=\"_blank\"><span style=\"color: #7f7f7f; text-decoration-color: #7f7f7f\">joint_likelihood.py</span></a><span style=\"color: #7f7f7f; text-decoration-color: #7f7f7f\">:</span><a href=\"file:///Users/runner/work/threeML/threeML/threeML/classicMLE/joint_likelihood.py#1063\" target=\"_blank\"><span style=\"color: #7f7f7f; text-decoration-color: #7f7f7f\">1063</span></a>\n",
       "</pre>\n"
      ],
      "text/plain": [
       "\u001b[38;5;46m        \u001b[0m\u001b[38;5;46m \u001b[0m\u001b[38;5;49mINFO    \u001b[0m \u001b[1;38;5;251m set the minimizer to MINUIT                                            \u001b[0m\u001b[1;38;5;251m \u001b[0m\u001b]8;id=347074;file:///Users/runner/work/threeML/threeML/threeML/classicMLE/joint_likelihood.py\u001b\\\u001b[2mjoint_likelihood.py\u001b[0m\u001b]8;;\u001b\\\u001b[2m:\u001b[0m\u001b]8;id=43517;file:///Users/runner/work/threeML/threeML/threeML/classicMLE/joint_likelihood.py#1063\u001b\\\u001b[2m1063\u001b[0m\u001b]8;;\u001b\\\n"
      ]
     },
     "metadata": {},
     "output_type": "display_data"
    },
    {
     "data": {
      "text/html": [
       "<pre style=\"white-space:pre;overflow-x:auto;line-height:normal;font-family:Menlo,'DejaVu Sans Mono',consolas,'Courier New',monospace\"><span style=\"color: #00ff00; text-decoration-color: #00ff00\">         </span><span style=\"color: #af5fd7; text-decoration-color: #af5fd7\">WARNING </span> <span style=\"color: #c6c6c6; text-decoration-color: #c6c6c6; font-weight: bold\"> </span><span style=\"color: #c0c0c0; text-decoration-color: #c0c0c0; font-weight: bold\">47.96</span><span style=\"color: #c6c6c6; text-decoration-color: #c6c6c6; font-weight: bold\"> percent of samples have been thrown away because they failed the  </span><a href=\"file:///Users/runner/work/threeML/threeML/threeML/analysis_results.py\" target=\"_blank\"><span style=\"color: #7f7f7f; text-decoration-color: #7f7f7f\">analysis_results.py</span></a><span style=\"color: #7f7f7f; text-decoration-color: #7f7f7f\">:</span><a href=\"file:///Users/runner/work/threeML/threeML/threeML/analysis_results.py#1739\" target=\"_blank\"><span style=\"color: #7f7f7f; text-decoration-color: #7f7f7f\">1739</span></a>\n",
       "<span style=\"color: #00ff00; text-decoration-color: #00ff00\">         </span>         <span style=\"color: #c6c6c6; text-decoration-color: #c6c6c6; font-weight: bold\">constraints on the parameters. This results might not be suitable for    </span><span style=\"color: #7f7f7f; text-decoration-color: #7f7f7f\">                        </span>\n",
       "<span style=\"color: #00ff00; text-decoration-color: #00ff00\">         </span>         <span style=\"color: #c6c6c6; text-decoration-color: #c6c6c6; font-weight: bold\">error propagation. Enlarge the boundaries until you loose less than </span><span style=\"color: #c0c0c0; text-decoration-color: #c0c0c0; font-weight: bold\">1</span><span style=\"color: #c6c6c6; text-decoration-color: #c6c6c6; font-weight: bold\">    </span><span style=\"color: #7f7f7f; text-decoration-color: #7f7f7f\">                        </span>\n",
       "<span style=\"color: #00ff00; text-decoration-color: #00ff00\">         </span>         <span style=\"color: #c6c6c6; text-decoration-color: #c6c6c6; font-weight: bold\">percent of the samples.                                                  </span><span style=\"color: #7f7f7f; text-decoration-color: #7f7f7f\">                        </span>\n",
       "</pre>\n"
      ],
      "text/plain": [
       "\u001b[38;5;46m        \u001b[0m\u001b[38;5;46m \u001b[0m\u001b[38;5;134mWARNING \u001b[0m \u001b[1;38;5;251m \u001b[0m\u001b[1;37m47.96\u001b[0m\u001b[1;38;5;251m percent of samples have been thrown away because they failed the \u001b[0m\u001b[1;38;5;251m \u001b[0m\u001b]8;id=45678;file:///Users/runner/work/threeML/threeML/threeML/analysis_results.py\u001b\\\u001b[2manalysis_results.py\u001b[0m\u001b]8;;\u001b\\\u001b[2m:\u001b[0m\u001b]8;id=619961;file:///Users/runner/work/threeML/threeML/threeML/analysis_results.py#1739\u001b\\\u001b[2m1739\u001b[0m\u001b]8;;\u001b\\\n",
       "\u001b[38;5;46m         \u001b[0m         \u001b[1;38;5;251mconstraints on the parameters. This results might not be suitable for   \u001b[0m\u001b[1;38;5;251m \u001b[0m\u001b[2m                        \u001b[0m\n",
       "\u001b[38;5;46m         \u001b[0m         \u001b[1;38;5;251merror propagation. Enlarge the boundaries until you loose less than \u001b[0m\u001b[1;37m1\u001b[0m\u001b[1;38;5;251m   \u001b[0m\u001b[1;38;5;251m \u001b[0m\u001b[2m                        \u001b[0m\n",
       "\u001b[38;5;46m         \u001b[0m         \u001b[1;38;5;251mpercent of the samples.                                                 \u001b[0m\u001b[1;38;5;251m \u001b[0m\u001b[2m                        \u001b[0m\n"
      ]
     },
     "metadata": {},
     "output_type": "display_data"
    },
    {
     "data": {
      "text/html": [
       "<pre style=\"white-space:pre;overflow-x:auto;line-height:normal;font-family:Menlo,'DejaVu Sans Mono',consolas,'Courier New',monospace\"><span style=\"color: #00ffaf; text-decoration-color: #00ffaf; font-weight: bold; text-decoration: underline\">Best fit values:</span>\n",
       "\n",
       "</pre>\n"
      ],
      "text/plain": [
       "\u001b[1;4;38;5;49mBest fit values:\u001b[0m\n",
       "\n"
      ]
     },
     "metadata": {},
     "output_type": "display_data"
    },
    {
     "data": {
      "text/html": [
       "<div>\n",
       "<style scoped>\n",
       "    .dataframe tbody tr th:only-of-type {\n",
       "        vertical-align: middle;\n",
       "    }\n",
       "\n",
       "    .dataframe tbody tr th {\n",
       "        vertical-align: top;\n",
       "    }\n",
       "\n",
       "    .dataframe thead th {\n",
       "        text-align: right;\n",
       "    }\n",
       "</style>\n",
       "<table border=\"1\" class=\"dataframe\">\n",
       "  <thead>\n",
       "    <tr style=\"text-align: right;\">\n",
       "      <th></th>\n",
       "      <th>result</th>\n",
       "      <th>unit</th>\n",
       "    </tr>\n",
       "    <tr>\n",
       "      <th>parameter</th>\n",
       "      <th></th>\n",
       "      <th></th>\n",
       "    </tr>\n",
       "  </thead>\n",
       "  <tbody>\n",
       "    <tr>\n",
       "      <th>GRB.spectrum.main.Powerlaw_flux.F</th>\n",
       "      <td>(4.2 -0.7 +0.8) x 10^-4</td>\n",
       "      <td>1 / (cm2 s)</td>\n",
       "    </tr>\n",
       "    <tr>\n",
       "      <th>GRB.spectrum.main.Powerlaw_flux.index</th>\n",
       "      <td>-1.51 +/- 0.15</td>\n",
       "      <td></td>\n",
       "    </tr>\n",
       "    <tr>\n",
       "      <th>LAT30X80_IsotropicTemplate_Normalization</th>\n",
       "      <td>(1.0 +/- 1.0) x 10^-1</td>\n",
       "      <td></td>\n",
       "    </tr>\n",
       "  </tbody>\n",
       "</table>\n",
       "</div>"
      ],
      "text/plain": [
       "                                                           result         unit\n",
       "parameter                                                                     \n",
       "GRB.spectrum.main.Powerlaw_flux.F         (4.2 -0.7 +0.8) x 10^-4  1 / (cm2 s)\n",
       "GRB.spectrum.main.Powerlaw_flux.index              -1.51 +/- 0.15             \n",
       "LAT30X80_IsotropicTemplate_Normalization    (1.0 +/- 1.0) x 10^-1             "
      ]
     },
     "metadata": {},
     "output_type": "display_data"
    },
    {
     "data": {
      "text/html": [
       "<pre style=\"white-space:pre;overflow-x:auto;line-height:normal;font-family:Menlo,'DejaVu Sans Mono',consolas,'Courier New',monospace\">\n",
       "<span style=\"color: #00ffaf; text-decoration-color: #00ffaf; font-weight: bold; text-decoration: underline\">Correlation matrix:</span>\n",
       "\n",
       "</pre>\n"
      ],
      "text/plain": [
       "\n",
       "\u001b[1;4;38;5;49mCorrelation matrix:\u001b[0m\n",
       "\n"
      ]
     },
     "metadata": {},
     "output_type": "display_data"
    },
    {
     "data": {
      "text/html": [
       "<div><table id=\"table5273242784\">\n",
       "<tr><td>1.00</td><td>-0.28</td><td>-0.00</td></tr>\n",
       "<tr><td>-0.28</td><td>1.00</td><td>0.00</td></tr>\n",
       "<tr><td>-0.00</td><td>0.00</td><td>1.00</td></tr>\n",
       "</table></div>"
      ],
      "text/plain": [
       " 1.00 -0.28 -0.00\n",
       "-0.28  1.00  0.00\n",
       "-0.00  0.00  1.00"
      ]
     },
     "metadata": {},
     "output_type": "display_data"
    },
    {
     "data": {
      "text/html": [
       "<pre style=\"white-space:pre;overflow-x:auto;line-height:normal;font-family:Menlo,'DejaVu Sans Mono',consolas,'Courier New',monospace\">\n",
       "<span style=\"color: #00ffaf; text-decoration-color: #00ffaf; font-weight: bold; text-decoration: underline\">Values of -log(likelihood) at the minimum:</span>\n",
       "\n",
       "</pre>\n"
      ],
      "text/plain": [
       "\n",
       "\u001b[1;4;38;5;49mValues of -\u001b[0m\u001b[1;4;38;5;49mlog\u001b[0m\u001b[1;4;38;5;49m(\u001b[0m\u001b[1;4;38;5;49mlikelihood\u001b[0m\u001b[1;4;38;5;49m)\u001b[0m\u001b[1;4;38;5;49m at the minimum:\u001b[0m\n",
       "\n"
      ]
     },
     "metadata": {},
     "output_type": "display_data"
    },
    {
     "data": {
      "text/html": [
       "<div>\n",
       "<style scoped>\n",
       "    .dataframe tbody tr th:only-of-type {\n",
       "        vertical-align: middle;\n",
       "    }\n",
       "\n",
       "    .dataframe tbody tr th {\n",
       "        vertical-align: top;\n",
       "    }\n",
       "\n",
       "    .dataframe thead th {\n",
       "        text-align: right;\n",
       "    }\n",
       "</style>\n",
       "<table border=\"1\" class=\"dataframe\">\n",
       "  <thead>\n",
       "    <tr style=\"text-align: right;\">\n",
       "      <th></th>\n",
       "      <th>-log(likelihood)</th>\n",
       "    </tr>\n",
       "  </thead>\n",
       "  <tbody>\n",
       "    <tr>\n",
       "      <th>LAT30X80</th>\n",
       "      <td>229.690242</td>\n",
       "    </tr>\n",
       "    <tr>\n",
       "      <th>total</th>\n",
       "      <td>229.690242</td>\n",
       "    </tr>\n",
       "  </tbody>\n",
       "</table>\n",
       "</div>"
      ],
      "text/plain": [
       "          -log(likelihood)\n",
       "LAT30X80        229.690242\n",
       "total           229.690242"
      ]
     },
     "metadata": {},
     "output_type": "display_data"
    },
    {
     "data": {
      "text/html": [
       "<pre style=\"white-space:pre;overflow-x:auto;line-height:normal;font-family:Menlo,'DejaVu Sans Mono',consolas,'Courier New',monospace\">\n",
       "<span style=\"color: #00ffaf; text-decoration-color: #00ffaf; font-weight: bold; text-decoration: underline\">Values of statistical measures:</span>\n",
       "\n",
       "</pre>\n"
      ],
      "text/plain": [
       "\n",
       "\u001b[1;4;38;5;49mValues of statistical measures:\u001b[0m\n",
       "\n"
      ]
     },
     "metadata": {},
     "output_type": "display_data"
    },
    {
     "data": {
      "text/html": [
       "<div>\n",
       "<style scoped>\n",
       "    .dataframe tbody tr th:only-of-type {\n",
       "        vertical-align: middle;\n",
       "    }\n",
       "\n",
       "    .dataframe tbody tr th {\n",
       "        vertical-align: top;\n",
       "    }\n",
       "\n",
       "    .dataframe thead th {\n",
       "        text-align: right;\n",
       "    }\n",
       "</style>\n",
       "<table border=\"1\" class=\"dataframe\">\n",
       "  <thead>\n",
       "    <tr style=\"text-align: right;\">\n",
       "      <th></th>\n",
       "      <th>statistical measures</th>\n",
       "    </tr>\n",
       "  </thead>\n",
       "  <tbody>\n",
       "    <tr>\n",
       "      <th>AIC</th>\n",
       "      <td>466.208071</td>\n",
       "    </tr>\n",
       "    <tr>\n",
       "      <th>BIC</th>\n",
       "      <td>469.870007</td>\n",
       "    </tr>\n",
       "  </tbody>\n",
       "</table>\n",
       "</div>"
      ],
      "text/plain": [
       "     statistical measures\n",
       "AIC            466.208071\n",
       "BIC            469.870007"
      ]
     },
     "metadata": {},
     "output_type": "display_data"
    },
    {
     "data": {
      "text/html": [
       "<pre style=\"white-space:pre;overflow-x:auto;line-height:normal;font-family:Menlo,'DejaVu Sans Mono',consolas,'Courier New',monospace\"><span style=\"color: #00ff00; text-decoration-color: #00ff00\">22:54:28 </span><span style=\"color: #af5fd7; text-decoration-color: #af5fd7\">WARNING </span> <span style=\"color: #c6c6c6; text-decoration-color: #c6c6c6; font-weight: bold\"> We have set the min_value of GRB.spectrum.main.Powerlaw_flux.F to </span><span style=\"color: #c0c0c0; text-decoration-color: #c0c0c0; font-weight: bold\">1e-99</span><span style=\"color: #c6c6c6; text-decoration-color: #c6c6c6; font-weight: bold\"> because </span><a href=\"file:///usr/local/miniconda/envs/test_env/lib/python3.9/site-packages/astromodels/core/parameter.py\" target=\"_blank\"><span style=\"color: #7f7f7f; text-decoration-color: #7f7f7f\">parameter.py</span></a><span style=\"color: #7f7f7f; text-decoration-color: #7f7f7f\">:</span><a href=\"file:///usr/local/miniconda/envs/test_env/lib/python3.9/site-packages/astromodels/core/parameter.py#704\" target=\"_blank\"><span style=\"color: #7f7f7f; text-decoration-color: #7f7f7f\">704</span></a>\n",
       "<span style=\"color: #00ff00; text-decoration-color: #00ff00\">         </span>         <span style=\"color: #c6c6c6; text-decoration-color: #c6c6c6; font-weight: bold\">there was a postive transform                                                    </span><span style=\"color: #7f7f7f; text-decoration-color: #7f7f7f\">                </span>\n",
       "</pre>\n"
      ],
      "text/plain": [
       "\u001b[38;5;46m22:54:28\u001b[0m\u001b[38;5;46m \u001b[0m\u001b[38;5;134mWARNING \u001b[0m \u001b[1;38;5;251m We have set the min_value of GRB.spectrum.main.Powerlaw_flux.F to \u001b[0m\u001b[1;37m1e-99\u001b[0m\u001b[1;38;5;251m because\u001b[0m\u001b[1;38;5;251m \u001b[0m\u001b]8;id=595215;file:///usr/local/miniconda/envs/test_env/lib/python3.9/site-packages/astromodels/core/parameter.py\u001b\\\u001b[2mparameter.py\u001b[0m\u001b]8;;\u001b\\\u001b[2m:\u001b[0m\u001b]8;id=883498;file:///usr/local/miniconda/envs/test_env/lib/python3.9/site-packages/astromodels/core/parameter.py#704\u001b\\\u001b[2m704\u001b[0m\u001b]8;;\u001b\\\n",
       "\u001b[38;5;46m         \u001b[0m         \u001b[1;38;5;251mthere was a postive transform                                                   \u001b[0m\u001b[1;38;5;251m \u001b[0m\u001b[2m                \u001b[0m\n"
      ]
     },
     "metadata": {},
     "output_type": "display_data"
    },
    {
     "name": "stdout",
     "output_type": "stream",
     "text": [
      "\n",
      "Found Isotropic template for irf P8R3_TRANSIENT020E_V3: /usr/local/miniconda/envs/test_env/share/fermitools/refdata/fermi/galdiffuse/iso_P8R3_TRANSIENT020E_V3_v1.txt\n",
      "\n",
      "Found Galactic template for IRF. P8R3_TRANSIENT020E_V3: /usr/local/miniconda/envs/test_env/share/fermitools/refdata/fermi/galdiffuse/gll_iem_v07.fits\n",
      "\n",
      "Cutting the template around the ROI: \n",
      "\n"
     ]
    },
    {
     "data": {
      "text/html": [
       "<pre style=\"white-space:pre;overflow-x:auto;line-height:normal;font-family:Menlo,'DejaVu Sans Mono',consolas,'Courier New',monospace\"><span style=\"color: #00ff00; text-decoration-color: #00ff00\">22:54:35 </span><span style=\"color: #00ffaf; text-decoration-color: #00ffaf\">INFO    </span> <span style=\"color: #c6c6c6; text-decoration-color: #c6c6c6; font-weight: bold\"> set the minimizer to minuit                                             </span><a href=\"file:///Users/runner/work/threeML/threeML/threeML/classicMLE/joint_likelihood.py\" target=\"_blank\"><span style=\"color: #7f7f7f; text-decoration-color: #7f7f7f\">joint_likelihood.py</span></a><span style=\"color: #7f7f7f; text-decoration-color: #7f7f7f\">:</span><a href=\"file:///Users/runner/work/threeML/threeML/threeML/classicMLE/joint_likelihood.py#1046\" target=\"_blank\"><span style=\"color: #7f7f7f; text-decoration-color: #7f7f7f\">1046</span></a>\n",
       "</pre>\n"
      ],
      "text/plain": [
       "\u001b[38;5;46m22:54:35\u001b[0m\u001b[38;5;46m \u001b[0m\u001b[38;5;49mINFO    \u001b[0m \u001b[1;38;5;251m set the minimizer to minuit                                            \u001b[0m\u001b[1;38;5;251m \u001b[0m\u001b]8;id=800465;file:///Users/runner/work/threeML/threeML/threeML/classicMLE/joint_likelihood.py\u001b\\\u001b[2mjoint_likelihood.py\u001b[0m\u001b]8;;\u001b\\\u001b[2m:\u001b[0m\u001b]8;id=189430;file:///Users/runner/work/threeML/threeML/threeML/classicMLE/joint_likelihood.py#1046\u001b\\\u001b[2m1046\u001b[0m\u001b]8;;\u001b\\\n"
      ]
     },
     "metadata": {},
     "output_type": "display_data"
    },
    {
     "data": {
      "text/html": [
       "<pre style=\"white-space:pre;overflow-x:auto;line-height:normal;font-family:Menlo,'DejaVu Sans Mono',consolas,'Courier New',monospace\"><span style=\"color: #00ff00; text-decoration-color: #00ff00\">         </span><span style=\"color: #00ffaf; text-decoration-color: #00ffaf\">INFO    </span> <span style=\"color: #c6c6c6; text-decoration-color: #c6c6c6; font-weight: bold\"> set the minimizer to MINUIT                                             </span><a href=\"file:///Users/runner/work/threeML/threeML/threeML/classicMLE/joint_likelihood.py\" target=\"_blank\"><span style=\"color: #7f7f7f; text-decoration-color: #7f7f7f\">joint_likelihood.py</span></a><span style=\"color: #7f7f7f; text-decoration-color: #7f7f7f\">:</span><a href=\"file:///Users/runner/work/threeML/threeML/threeML/classicMLE/joint_likelihood.py#1063\" target=\"_blank\"><span style=\"color: #7f7f7f; text-decoration-color: #7f7f7f\">1063</span></a>\n",
       "</pre>\n"
      ],
      "text/plain": [
       "\u001b[38;5;46m        \u001b[0m\u001b[38;5;46m \u001b[0m\u001b[38;5;49mINFO    \u001b[0m \u001b[1;38;5;251m set the minimizer to MINUIT                                            \u001b[0m\u001b[1;38;5;251m \u001b[0m\u001b]8;id=643390;file:///Users/runner/work/threeML/threeML/threeML/classicMLE/joint_likelihood.py\u001b\\\u001b[2mjoint_likelihood.py\u001b[0m\u001b]8;;\u001b\\\u001b[2m:\u001b[0m\u001b]8;id=112484;file:///Users/runner/work/threeML/threeML/threeML/classicMLE/joint_likelihood.py#1063\u001b\\\u001b[2m1063\u001b[0m\u001b]8;;\u001b\\\n"
      ]
     },
     "metadata": {},
     "output_type": "display_data"
    },
    {
     "data": {
      "text/html": [
       "<pre style=\"white-space:pre;overflow-x:auto;line-height:normal;font-family:Menlo,'DejaVu Sans Mono',consolas,'Courier New',monospace\"><span style=\"color: #00ff00; text-decoration-color: #00ff00\">         </span><span style=\"color: #af5fd7; text-decoration-color: #af5fd7\">WARNING </span> <span style=\"color: #c6c6c6; text-decoration-color: #c6c6c6; font-weight: bold\"> </span><span style=\"color: #c0c0c0; text-decoration-color: #c0c0c0; font-weight: bold\">49.32</span><span style=\"color: #c6c6c6; text-decoration-color: #c6c6c6; font-weight: bold\"> percent of samples have been thrown away because they failed the  </span><a href=\"file:///Users/runner/work/threeML/threeML/threeML/analysis_results.py\" target=\"_blank\"><span style=\"color: #7f7f7f; text-decoration-color: #7f7f7f\">analysis_results.py</span></a><span style=\"color: #7f7f7f; text-decoration-color: #7f7f7f\">:</span><a href=\"file:///Users/runner/work/threeML/threeML/threeML/analysis_results.py#1739\" target=\"_blank\"><span style=\"color: #7f7f7f; text-decoration-color: #7f7f7f\">1739</span></a>\n",
       "<span style=\"color: #00ff00; text-decoration-color: #00ff00\">         </span>         <span style=\"color: #c6c6c6; text-decoration-color: #c6c6c6; font-weight: bold\">constraints on the parameters. This results might not be suitable for    </span><span style=\"color: #7f7f7f; text-decoration-color: #7f7f7f\">                        </span>\n",
       "<span style=\"color: #00ff00; text-decoration-color: #00ff00\">         </span>         <span style=\"color: #c6c6c6; text-decoration-color: #c6c6c6; font-weight: bold\">error propagation. Enlarge the boundaries until you loose less than </span><span style=\"color: #c0c0c0; text-decoration-color: #c0c0c0; font-weight: bold\">1</span><span style=\"color: #c6c6c6; text-decoration-color: #c6c6c6; font-weight: bold\">    </span><span style=\"color: #7f7f7f; text-decoration-color: #7f7f7f\">                        </span>\n",
       "<span style=\"color: #00ff00; text-decoration-color: #00ff00\">         </span>         <span style=\"color: #c6c6c6; text-decoration-color: #c6c6c6; font-weight: bold\">percent of the samples.                                                  </span><span style=\"color: #7f7f7f; text-decoration-color: #7f7f7f\">                        </span>\n",
       "</pre>\n"
      ],
      "text/plain": [
       "\u001b[38;5;46m        \u001b[0m\u001b[38;5;46m \u001b[0m\u001b[38;5;134mWARNING \u001b[0m \u001b[1;38;5;251m \u001b[0m\u001b[1;37m49.32\u001b[0m\u001b[1;38;5;251m percent of samples have been thrown away because they failed the \u001b[0m\u001b[1;38;5;251m \u001b[0m\u001b]8;id=481776;file:///Users/runner/work/threeML/threeML/threeML/analysis_results.py\u001b\\\u001b[2manalysis_results.py\u001b[0m\u001b]8;;\u001b\\\u001b[2m:\u001b[0m\u001b]8;id=434614;file:///Users/runner/work/threeML/threeML/threeML/analysis_results.py#1739\u001b\\\u001b[2m1739\u001b[0m\u001b]8;;\u001b\\\n",
       "\u001b[38;5;46m         \u001b[0m         \u001b[1;38;5;251mconstraints on the parameters. This results might not be suitable for   \u001b[0m\u001b[1;38;5;251m \u001b[0m\u001b[2m                        \u001b[0m\n",
       "\u001b[38;5;46m         \u001b[0m         \u001b[1;38;5;251merror propagation. Enlarge the boundaries until you loose less than \u001b[0m\u001b[1;37m1\u001b[0m\u001b[1;38;5;251m   \u001b[0m\u001b[1;38;5;251m \u001b[0m\u001b[2m                        \u001b[0m\n",
       "\u001b[38;5;46m         \u001b[0m         \u001b[1;38;5;251mpercent of the samples.                                                 \u001b[0m\u001b[1;38;5;251m \u001b[0m\u001b[2m                        \u001b[0m\n"
      ]
     },
     "metadata": {},
     "output_type": "display_data"
    },
    {
     "data": {
      "text/html": [
       "<pre style=\"white-space:pre;overflow-x:auto;line-height:normal;font-family:Menlo,'DejaVu Sans Mono',consolas,'Courier New',monospace\"><span style=\"color: #00ffaf; text-decoration-color: #00ffaf; font-weight: bold; text-decoration: underline\">Best fit values:</span>\n",
       "\n",
       "</pre>\n"
      ],
      "text/plain": [
       "\u001b[1;4;38;5;49mBest fit values:\u001b[0m\n",
       "\n"
      ]
     },
     "metadata": {},
     "output_type": "display_data"
    },
    {
     "data": {
      "text/html": [
       "<div>\n",
       "<style scoped>\n",
       "    .dataframe tbody tr th:only-of-type {\n",
       "        vertical-align: middle;\n",
       "    }\n",
       "\n",
       "    .dataframe tbody tr th {\n",
       "        vertical-align: top;\n",
       "    }\n",
       "\n",
       "    .dataframe thead th {\n",
       "        text-align: right;\n",
       "    }\n",
       "</style>\n",
       "<table border=\"1\" class=\"dataframe\">\n",
       "  <thead>\n",
       "    <tr style=\"text-align: right;\">\n",
       "      <th></th>\n",
       "      <th>result</th>\n",
       "      <th>unit</th>\n",
       "    </tr>\n",
       "    <tr>\n",
       "      <th>parameter</th>\n",
       "      <th></th>\n",
       "      <th></th>\n",
       "    </tr>\n",
       "  </thead>\n",
       "  <tbody>\n",
       "    <tr>\n",
       "      <th>GRB.spectrum.main.Powerlaw_flux.F</th>\n",
       "      <td>(6.7 -2.5 +4) x 10^-5</td>\n",
       "      <td>1 / (cm2 s)</td>\n",
       "    </tr>\n",
       "    <tr>\n",
       "      <th>GRB.spectrum.main.Powerlaw_flux.index</th>\n",
       "      <td>-1.7 +/- 0.4</td>\n",
       "      <td></td>\n",
       "    </tr>\n",
       "    <tr>\n",
       "      <th>LAT80X180_IsotropicTemplate_Normalization</th>\n",
       "      <td>5.00 +/- 0.05</td>\n",
       "      <td></td>\n",
       "    </tr>\n",
       "  </tbody>\n",
       "</table>\n",
       "</div>"
      ],
      "text/plain": [
       "                                                          result         unit\n",
       "parameter                                                                    \n",
       "GRB.spectrum.main.Powerlaw_flux.F          (6.7 -2.5 +4) x 10^-5  1 / (cm2 s)\n",
       "GRB.spectrum.main.Powerlaw_flux.index               -1.7 +/- 0.4             \n",
       "LAT80X180_IsotropicTemplate_Normalization          5.00 +/- 0.05             "
      ]
     },
     "metadata": {},
     "output_type": "display_data"
    },
    {
     "data": {
      "text/html": [
       "<pre style=\"white-space:pre;overflow-x:auto;line-height:normal;font-family:Menlo,'DejaVu Sans Mono',consolas,'Courier New',monospace\">\n",
       "<span style=\"color: #00ffaf; text-decoration-color: #00ffaf; font-weight: bold; text-decoration: underline\">Correlation matrix:</span>\n",
       "\n",
       "</pre>\n"
      ],
      "text/plain": [
       "\n",
       "\u001b[1;4;38;5;49mCorrelation matrix:\u001b[0m\n",
       "\n"
      ]
     },
     "metadata": {},
     "output_type": "display_data"
    },
    {
     "data": {
      "text/html": [
       "<div><table id=\"table5277401440\">\n",
       "<tr><td>1.00</td><td>-0.40</td><td>-0.00</td></tr>\n",
       "<tr><td>-0.40</td><td>1.00</td><td>0.00</td></tr>\n",
       "<tr><td>-0.00</td><td>0.00</td><td>1.00</td></tr>\n",
       "</table></div>"
      ],
      "text/plain": [
       " 1.00 -0.40 -0.00\n",
       "-0.40  1.00  0.00\n",
       "-0.00  0.00  1.00"
      ]
     },
     "metadata": {},
     "output_type": "display_data"
    },
    {
     "data": {
      "text/html": [
       "<pre style=\"white-space:pre;overflow-x:auto;line-height:normal;font-family:Menlo,'DejaVu Sans Mono',consolas,'Courier New',monospace\">\n",
       "<span style=\"color: #00ffaf; text-decoration-color: #00ffaf; font-weight: bold; text-decoration: underline\">Values of -log(likelihood) at the minimum:</span>\n",
       "\n",
       "</pre>\n"
      ],
      "text/plain": [
       "\n",
       "\u001b[1;4;38;5;49mValues of -\u001b[0m\u001b[1;4;38;5;49mlog\u001b[0m\u001b[1;4;38;5;49m(\u001b[0m\u001b[1;4;38;5;49mlikelihood\u001b[0m\u001b[1;4;38;5;49m)\u001b[0m\u001b[1;4;38;5;49m at the minimum:\u001b[0m\n",
       "\n"
      ]
     },
     "metadata": {},
     "output_type": "display_data"
    },
    {
     "data": {
      "text/html": [
       "<div>\n",
       "<style scoped>\n",
       "    .dataframe tbody tr th:only-of-type {\n",
       "        vertical-align: middle;\n",
       "    }\n",
       "\n",
       "    .dataframe tbody tr th {\n",
       "        vertical-align: top;\n",
       "    }\n",
       "\n",
       "    .dataframe thead th {\n",
       "        text-align: right;\n",
       "    }\n",
       "</style>\n",
       "<table border=\"1\" class=\"dataframe\">\n",
       "  <thead>\n",
       "    <tr style=\"text-align: right;\">\n",
       "      <th></th>\n",
       "      <th>-log(likelihood)</th>\n",
       "    </tr>\n",
       "  </thead>\n",
       "  <tbody>\n",
       "    <tr>\n",
       "      <th>LAT80X180</th>\n",
       "      <td>73.102184</td>\n",
       "    </tr>\n",
       "    <tr>\n",
       "      <th>total</th>\n",
       "      <td>73.102184</td>\n",
       "    </tr>\n",
       "  </tbody>\n",
       "</table>\n",
       "</div>"
      ],
      "text/plain": [
       "           -log(likelihood)\n",
       "LAT80X180         73.102184\n",
       "total             73.102184"
      ]
     },
     "metadata": {},
     "output_type": "display_data"
    },
    {
     "data": {
      "text/html": [
       "<pre style=\"white-space:pre;overflow-x:auto;line-height:normal;font-family:Menlo,'DejaVu Sans Mono',consolas,'Courier New',monospace\">\n",
       "<span style=\"color: #00ffaf; text-decoration-color: #00ffaf; font-weight: bold; text-decoration: underline\">Values of statistical measures:</span>\n",
       "\n",
       "</pre>\n"
      ],
      "text/plain": [
       "\n",
       "\u001b[1;4;38;5;49mValues of statistical measures:\u001b[0m\n",
       "\n"
      ]
     },
     "metadata": {},
     "output_type": "display_data"
    },
    {
     "data": {
      "text/html": [
       "<div>\n",
       "<style scoped>\n",
       "    .dataframe tbody tr th:only-of-type {\n",
       "        vertical-align: middle;\n",
       "    }\n",
       "\n",
       "    .dataframe tbody tr th {\n",
       "        vertical-align: top;\n",
       "    }\n",
       "\n",
       "    .dataframe thead th {\n",
       "        text-align: right;\n",
       "    }\n",
       "</style>\n",
       "<table border=\"1\" class=\"dataframe\">\n",
       "  <thead>\n",
       "    <tr style=\"text-align: right;\">\n",
       "      <th></th>\n",
       "      <th>statistical measures</th>\n",
       "    </tr>\n",
       "  </thead>\n",
       "  <tbody>\n",
       "    <tr>\n",
       "      <th>AIC</th>\n",
       "      <td>158.204369</td>\n",
       "    </tr>\n",
       "    <tr>\n",
       "      <th>BIC</th>\n",
       "      <td>152.442693</td>\n",
       "    </tr>\n",
       "  </tbody>\n",
       "</table>\n",
       "</div>"
      ],
      "text/plain": [
       "     statistical measures\n",
       "AIC            158.204369\n",
       "BIC            152.442693"
      ]
     },
     "metadata": {},
     "output_type": "display_data"
    }
   ],
   "source": [
    "results = {}\n",
    "# update_logging_level(\"DEBUG\")\n",
    "\n",
    "for T0, T1 in zip(intervals[:-1], intervals[1:]):\n",
    "    GRB = PointSource(\n",
    "        \"GRB\", ra=myGRB[\"RA\"], dec=myGRB[\"DEC\"], spectral_shape=Powerlaw_flux()\n",
    "    )\n",
    "    model = Model(GRB)\n",
    "    model.GRB.spectrum.main.Powerlaw_flux.a = 100.0 * u.MeV\n",
    "    model.GRB.spectrum.main.Powerlaw_flux.b = 10000.0 * u.MeV\n",
    "    model.GRB.spectrum.main.Powerlaw_flux.F = 1.0\n",
    "    LAT_name = \"LAT_%06.3f-%06.3f\" % (T0, T1)\n",
    "    LAT_model_name = (\"LAT%dX%d\" % (T0, T1)).replace(\"-\", \"n\")\n",
    "    datalist = DataList(LAT_plugins[LAT_name])\n",
    "    model[\"GRB.spectrum.main.Powerlaw_flux.F\"].bounds = (1e-6, 1e6)\n",
    "    model[\"GRB.spectrum.main.Powerlaw_flux.F\"].value = 1e-2\n",
    "    model[\"GRB.spectrum.main.Powerlaw_flux.index\"].value = -2.2\n",
    "    model[\"GRB.spectrum.main.Powerlaw_flux.index\"].bounds = (-3, 0)\n",
    "    jl = JointLikelihood(model, datalist, verbose=False)\n",
    "    model[LAT_model_name + \"_GalacticTemplate_Value\"].value = 1.0\n",
    "    model[LAT_model_name + \"_GalacticTemplate_Value\"].fix = True\n",
    "    model[LAT_model_name + \"_GalacticTemplate_Value\"].fix = True\n",
    "    # model.display( complete=True )\n",
    "    jl.set_minimizer(\"minuit\")\n",
    "    jl.fit(compute_covariance=True)\n",
    "    results[LAT_name] = jl\n",
    "    pass"
   ]
  },
  {
   "cell_type": "markdown",
   "id": "50e026cc",
   "metadata": {},
   "source": [
    "You can usethis function to graphically display the results of your fit (folded model, data and residuals)\n"
   ]
  },
  {
   "cell_type": "code",
   "execution_count": 15,
   "id": "29ac9e1e",
   "metadata": {
    "execution": {
     "iopub.execute_input": "2024-09-11T22:54:35.688141Z",
     "iopub.status.busy": "2024-09-11T22:54:35.687842Z",
     "iopub.status.idle": "2024-09-11T22:54:36.796210Z",
     "shell.execute_reply": "2024-09-11T22:54:36.794629Z"
    },
    "tags": [
     "nbsphinx-thumbnail"
    ]
   },
   "outputs": [
    {
     "data": {
      "text/html": [
       "<pre style=\"white-space:pre;overflow-x:auto;line-height:normal;font-family:Menlo,'DejaVu Sans Mono',consolas,'Courier New',monospace\"><span style=\"color: #00ffaf; text-decoration-color: #00ffaf; font-weight: bold; text-decoration: underline\">Best fit values:</span>\n",
       "\n",
       "</pre>\n"
      ],
      "text/plain": [
       "\u001b[1;4;38;5;49mBest fit values:\u001b[0m\n",
       "\n"
      ]
     },
     "metadata": {},
     "output_type": "display_data"
    },
    {
     "data": {
      "text/html": [
       "<div>\n",
       "<style scoped>\n",
       "    .dataframe tbody tr th:only-of-type {\n",
       "        vertical-align: middle;\n",
       "    }\n",
       "\n",
       "    .dataframe tbody tr th {\n",
       "        vertical-align: top;\n",
       "    }\n",
       "\n",
       "    .dataframe thead th {\n",
       "        text-align: right;\n",
       "    }\n",
       "</style>\n",
       "<table border=\"1\" class=\"dataframe\">\n",
       "  <thead>\n",
       "    <tr style=\"text-align: right;\">\n",
       "      <th></th>\n",
       "      <th>result</th>\n",
       "      <th>unit</th>\n",
       "    </tr>\n",
       "    <tr>\n",
       "      <th>parameter</th>\n",
       "      <th></th>\n",
       "      <th></th>\n",
       "    </tr>\n",
       "  </thead>\n",
       "  <tbody>\n",
       "    <tr>\n",
       "      <th>GRB.spectrum.main.Powerlaw_flux.F</th>\n",
       "      <td>(1.11 -0.09 +0.10) x 10^-2</td>\n",
       "      <td>1 / (cm2 s)</td>\n",
       "    </tr>\n",
       "    <tr>\n",
       "      <th>GRB.spectrum.main.Powerlaw_flux.index</th>\n",
       "      <td>-2.22 +/- 0.10</td>\n",
       "      <td></td>\n",
       "    </tr>\n",
       "    <tr>\n",
       "      <th>LAT0X10_IsotropicTemplate_Normalization</th>\n",
       "      <td>5.00 +/- 0.08</td>\n",
       "      <td></td>\n",
       "    </tr>\n",
       "  </tbody>\n",
       "</table>\n",
       "</div>"
      ],
      "text/plain": [
       "                                                             result  \\\n",
       "parameter                                                             \n",
       "GRB.spectrum.main.Powerlaw_flux.F        (1.11 -0.09 +0.10) x 10^-2   \n",
       "GRB.spectrum.main.Powerlaw_flux.index                -2.22 +/- 0.10   \n",
       "LAT0X10_IsotropicTemplate_Normalization               5.00 +/- 0.08   \n",
       "\n",
       "                                                unit  \n",
       "parameter                                             \n",
       "GRB.spectrum.main.Powerlaw_flux.F        1 / (cm2 s)  \n",
       "GRB.spectrum.main.Powerlaw_flux.index                 \n",
       "LAT0X10_IsotropicTemplate_Normalization               "
      ]
     },
     "metadata": {},
     "output_type": "display_data"
    },
    {
     "data": {
      "text/html": [
       "<pre style=\"white-space:pre;overflow-x:auto;line-height:normal;font-family:Menlo,'DejaVu Sans Mono',consolas,'Courier New',monospace\">\n",
       "<span style=\"color: #00ffaf; text-decoration-color: #00ffaf; font-weight: bold; text-decoration: underline\">Correlation matrix:</span>\n",
       "\n",
       "</pre>\n"
      ],
      "text/plain": [
       "\n",
       "\u001b[1;4;38;5;49mCorrelation matrix:\u001b[0m\n",
       "\n"
      ]
     },
     "metadata": {},
     "output_type": "display_data"
    },
    {
     "data": {
      "text/html": [
       "<div><table id=\"table5270986704\">\n",
       "<tr><td>1.00</td><td>-0.31</td><td>-0.00</td></tr>\n",
       "<tr><td>-0.31</td><td>1.00</td><td>0.00</td></tr>\n",
       "<tr><td>-0.00</td><td>0.00</td><td>1.00</td></tr>\n",
       "</table></div>"
      ],
      "text/plain": [
       " 1.00 -0.31 -0.00\n",
       "-0.31  1.00  0.00\n",
       "-0.00  0.00  1.00"
      ]
     },
     "metadata": {},
     "output_type": "display_data"
    },
    {
     "data": {
      "text/html": [
       "<pre style=\"white-space:pre;overflow-x:auto;line-height:normal;font-family:Menlo,'DejaVu Sans Mono',consolas,'Courier New',monospace\">\n",
       "<span style=\"color: #00ffaf; text-decoration-color: #00ffaf; font-weight: bold; text-decoration: underline\">Values of -log(likelihood) at the minimum:</span>\n",
       "\n",
       "</pre>\n"
      ],
      "text/plain": [
       "\n",
       "\u001b[1;4;38;5;49mValues of -\u001b[0m\u001b[1;4;38;5;49mlog\u001b[0m\u001b[1;4;38;5;49m(\u001b[0m\u001b[1;4;38;5;49mlikelihood\u001b[0m\u001b[1;4;38;5;49m)\u001b[0m\u001b[1;4;38;5;49m at the minimum:\u001b[0m\n",
       "\n"
      ]
     },
     "metadata": {},
     "output_type": "display_data"
    },
    {
     "data": {
      "text/html": [
       "<div>\n",
       "<style scoped>\n",
       "    .dataframe tbody tr th:only-of-type {\n",
       "        vertical-align: middle;\n",
       "    }\n",
       "\n",
       "    .dataframe tbody tr th {\n",
       "        vertical-align: top;\n",
       "    }\n",
       "\n",
       "    .dataframe thead th {\n",
       "        text-align: right;\n",
       "    }\n",
       "</style>\n",
       "<table border=\"1\" class=\"dataframe\">\n",
       "  <thead>\n",
       "    <tr style=\"text-align: right;\">\n",
       "      <th></th>\n",
       "      <th>-log(likelihood)</th>\n",
       "    </tr>\n",
       "  </thead>\n",
       "  <tbody>\n",
       "    <tr>\n",
       "      <th>LAT0X10</th>\n",
       "      <td>896.873532</td>\n",
       "    </tr>\n",
       "    <tr>\n",
       "      <th>total</th>\n",
       "      <td>896.873532</td>\n",
       "    </tr>\n",
       "  </tbody>\n",
       "</table>\n",
       "</div>"
      ],
      "text/plain": [
       "         -log(likelihood)\n",
       "LAT0X10        896.873532\n",
       "total          896.873532"
      ]
     },
     "metadata": {},
     "output_type": "display_data"
    },
    {
     "data": {
      "text/html": [
       "<pre style=\"white-space:pre;overflow-x:auto;line-height:normal;font-family:Menlo,'DejaVu Sans Mono',consolas,'Courier New',monospace\">\n",
       "<span style=\"color: #00ffaf; text-decoration-color: #00ffaf; font-weight: bold; text-decoration: underline\">Values of statistical measures:</span>\n",
       "\n",
       "</pre>\n"
      ],
      "text/plain": [
       "\n",
       "\u001b[1;4;38;5;49mValues of statistical measures:\u001b[0m\n",
       "\n"
      ]
     },
     "metadata": {},
     "output_type": "display_data"
    },
    {
     "data": {
      "text/html": [
       "<div>\n",
       "<style scoped>\n",
       "    .dataframe tbody tr th:only-of-type {\n",
       "        vertical-align: middle;\n",
       "    }\n",
       "\n",
       "    .dataframe tbody tr th {\n",
       "        vertical-align: top;\n",
       "    }\n",
       "\n",
       "    .dataframe thead th {\n",
       "        text-align: right;\n",
       "    }\n",
       "</style>\n",
       "<table border=\"1\" class=\"dataframe\">\n",
       "  <thead>\n",
       "    <tr style=\"text-align: right;\">\n",
       "      <th></th>\n",
       "      <th>statistical measures</th>\n",
       "    </tr>\n",
       "  </thead>\n",
       "  <tbody>\n",
       "    <tr>\n",
       "      <th>AIC</th>\n",
       "      <td>1799.907064</td>\n",
       "    </tr>\n",
       "    <tr>\n",
       "      <th>BIC</th>\n",
       "      <td>1808.857922</td>\n",
       "    </tr>\n",
       "  </tbody>\n",
       "</table>\n",
       "</div>"
      ],
      "text/plain": [
       "     statistical measures\n",
       "AIC           1799.907064\n",
       "BIC           1808.857922"
      ]
     },
     "metadata": {},
     "output_type": "display_data"
    },
    {
     "data": {
      "image/png": "[encoded data removed]",
      "text/plain": [
       "<Figure size 1000x800 with 2 Axes>"
      ]
     },
     "execution_count": 15,
     "metadata": {},
     "output_type": "execute_result"
    },
    {
     "data": {
      "image/png": "[encoded data removed]",
      "text/plain": [
       "<Figure size 1000x800 with 2 Axes>"
      ]
     },
     "metadata": {},
     "output_type": "display_data"
    }
   ],
   "source": [
    "i = 0\n",
    "T0, T1 = intervals[i], intervals[i + 1]\n",
    "LAT_name = \"LAT_%06.3f-%06.3f\" % (T0, T1)\n",
    "jl = results[LAT_name]\n",
    "jl.results.display()\n",
    "display_spectrum_model_counts(jl, figsize=(10, 8))"
   ]
  },
  {
   "cell_type": "markdown",
   "id": "e63cbf3a",
   "metadata": {},
   "source": [
    "We can see the evolution of the spectrum with time (not all the bins are diplayed):\n"
   ]
  },
  {
   "cell_type": "code",
   "execution_count": 16,
   "id": "b75d8085",
   "metadata": {
    "execution": {
     "iopub.execute_input": "2024-09-11T22:54:36.803317Z",
     "iopub.status.busy": "2024-09-11T22:54:36.802820Z",
     "iopub.status.idle": "2024-09-11T22:55:19.036751Z",
     "shell.execute_reply": "2024-09-11T22:55:19.035398Z"
    },
    "lines_to_next_cell": 2
   },
   "outputs": [
    {
     "data": {
      "application/vnd.jupyter.widget-view+json": {
       "model_id": "abacda7f074c4b978102d6c360428d2e",
       "version_major": 2,
       "version_minor": 0
      },
      "text/plain": [
       "processing MLE analyses:   0%|          | 0/4 [00:00<?, ?it/s]"
      ]
     },
     "metadata": {},
     "output_type": "display_data"
    },
    {
     "data": {
      "application/vnd.jupyter.widget-view+json": {
       "model_id": "f1a35851ed43466cb2fced24bc0f1dc6",
       "version_major": 2,
       "version_minor": 0
      },
      "text/plain": [
       "Propagating errors:   0%|          | 0/100 [00:00<?, ?it/s]"
      ]
     },
     "metadata": {},
     "output_type": "display_data"
    },
    {
     "data": {
      "application/vnd.jupyter.widget-view+json": {
       "model_id": "0fbf324d37924b9da8b1cb5af71fe6af",
       "version_major": 2,
       "version_minor": 0
      },
      "text/plain": [
       "Propagating errors:   0%|          | 0/100 [00:00<?, ?it/s]"
      ]
     },
     "metadata": {},
     "output_type": "display_data"
    },
    {
     "data": {
      "application/vnd.jupyter.widget-view+json": {
       "model_id": "46b02c84f41f473681f02e6f9e392b50",
       "version_major": 2,
       "version_minor": 0
      },
      "text/plain": [
       "Propagating errors:   0%|          | 0/100 [00:00<?, ?it/s]"
      ]
     },
     "metadata": {},
     "output_type": "display_data"
    },
    {
     "data": {
      "application/vnd.jupyter.widget-view+json": {
       "model_id": "f818459f496f41ae8b863950bde64c4f",
       "version_major": 2,
       "version_minor": 0
      },
      "text/plain": [
       "Propagating errors:   0%|          | 0/100 [00:00<?, ?it/s]"
      ]
     },
     "metadata": {},
     "output_type": "display_data"
    },
    {
     "data": {
      "image/png": "[encoded data removed]",
      "text/plain": [
       "<Figure size 1000x800 with 1 Axes>"
      ]
     },
     "metadata": {},
     "output_type": "display_data"
    }
   ],
   "source": [
    "fig = plot_spectra(\n",
    "    *[a.results for a in results.values()],\n",
    "    ene_min=100 * u.MeV,\n",
    "    ene_max=10 * u.GeV,\n",
    "    flux_unit=\"erg2/(cm2 s MeV)\",\n",
    "    energy_unit=\"MeV\",\n",
    "    fit_cmap=\"viridis\",\n",
    "    contour_cmap=\"viridis\",\n",
    "    contour_style_kwargs=dict(alpha=0.1)\n",
    ")\n",
    "fig.set_size_inches(10, 8)"
   ]
  },
  {
   "cell_type": "markdown",
   "id": "346e674b",
   "metadata": {},
   "source": [
    "Finally, we can display flux lightcurves and index evolution with time.\n"
   ]
  },
  {
   "cell_type": "code",
   "execution_count": 17,
   "id": "a08f6acb",
   "metadata": {
    "execution": {
     "iopub.execute_input": "2024-09-11T22:55:19.043402Z",
     "iopub.status.busy": "2024-09-11T22:55:19.042931Z",
     "iopub.status.idle": "2024-09-11T22:55:19.543307Z",
     "shell.execute_reply": "2024-09-11T22:55:19.541871Z"
    }
   },
   "outputs": [
    {
     "data": {
      "image/png": "[encoded data removed]",
      "text/plain": [
       "<Figure size 800x1200 with 2 Axes>"
      ]
     },
     "metadata": {},
     "output_type": "display_data"
    }
   ],
   "source": [
    "variates = [\"F\", \"index\"]\n",
    "y = {}\n",
    "for n in variates:\n",
    "    y[n] = []\n",
    "    y[n + \"_p\"] = []\n",
    "    y[n + \"_n\"] = []\n",
    "x = []\n",
    "dx = []\n",
    "\n",
    "for T0, T1 in zip(intervals[:-1], intervals[1:]):\n",
    "    LAT_name = \"LAT_%06.3f-%06.3f\" % (T0, T1)\n",
    "    x.append((T1 + T0) / 2)\n",
    "    dx.append((T1 - T0) / 2)\n",
    "    jl = results[LAT_name]\n",
    "    res = jl.results\n",
    "    mod = res.optimized_model\n",
    "    ps = mod.point_sources\n",
    "\n",
    "    for n in variates:\n",
    "        my_variate = res.get_variates(\"GRB.spectrum.main.Powerlaw_flux.%s\" % n)\n",
    "        y[n].append(my_variate.median)\n",
    "        y[n + \"_p\"].append(my_variate.equal_tail_interval()[1] - my_variate.median)\n",
    "        y[n + \"_n\"].append(my_variate.median - my_variate.equal_tail_interval()[0])\n",
    "\n",
    "fig = plt.figure(figsize=(8, 12))\n",
    "colors = [\"r\", \"b\"]\n",
    "ylabels = [\"Flux [100MeV - 10GeV] \\n $\\gamma$ cm$^{-2}$ s$^{-1}$\", \"index\"]\n",
    "for i, n in enumerate(variates):\n",
    "    plt.subplot(len(variates) + 1, 1, i + 1)\n",
    "    plt.errorbar(x, y[n], xerr=dx, yerr=(y[n + \"_n\"], y[n + \"_p\"]), ls=\"\", c=colors[i])\n",
    "    if i == 0:\n",
    "        plt.yscale(\"log\")\n",
    "    plt.ylabel(ylabels[i])"
   ]
  }
 ],
 "metadata": {
  "jupytext": {
   "cell_metadata_filter": "tags,-all"
  },
  "kernelspec": {
   "display_name": "Python 3 (ipykernel)",
   "language": "python",
   "name": "python3"
  },
  "language_info": {
   "codemirror_mode": {
    "name": "ipython",
    "version": 3
   },
   "file_extension": ".py",
   "mimetype": "text/x-python",
   "name": "python",
   "nbconvert_exporter": "python",
   "pygments_lexer": "ipython3",
   "version": "3.9.13"
  },
  "widgets": {
   "application/vnd.jupyter.widget-state+json": {
    "state": {
     "026df8d83bbd47c5ac34bc0eb3852a60": {
      "model_module": "@jupyter-widgets/controls",
      "model_module_version": "2.0.0",
      "model_name": "FloatProgressModel",
      "state": {
       "_dom_classes": [],
       "_model_module": "@jupyter-widgets/controls",
       "_model_module_version": "2.0.0",
       "_model_name": "FloatProgressModel",
       "_view_count": null,
       "_view_module": "@jupyter-widgets/controls",
       "_view_module_version": "2.0.0",
       "_view_name": "ProgressView",
       "bar_style": "success",
       "description": "",
       "description_allow_html": false,
       "layout": "IPY_MODEL_d2488bac34f6478aa9d47ebb7d736c30",
       "max": 100.0,
       "min": 0.0,
       "orientation": "horizontal",
       "style": "IPY_MODEL_24df31ba3b0844bcaff8303174d0d4c1",
       "tabbable": null,
       "tooltip": null,
       "value": 100.0
      }
     },
     "038ab2929dd54491babd885edea48f70": {
      "model_module": "@jupyter-widgets/base",
      "model_module_version": "2.0.0",
      "model_name": "LayoutModel",
      "state": {
       "_model_module": "@jupyter-widgets/base",
       "_model_module_version": "2.0.0",
       "_model_name": "LayoutModel",
       "_view_count": null,
       "_view_module": "@jupyter-widgets/base",
       "_view_module_version": "2.0.0",
       "_view_name": "LayoutView",
       "align_content": null,
       "align_items": null,
       "align_self": null,
       "border_bottom": null,
       "border_left": null,
       "border_right": null,
       "border_top": null,
       "bottom": null,
       "display": "inline-flex",
       "flex": null,
       "flex_flow": "row wrap",
       "grid_area": null,
       "grid_auto_columns": null,
       "grid_auto_flow": null,
       "grid_auto_rows": null,
       "grid_column": null,
       "grid_gap": null,
       "grid_row": null,
       "grid_template_areas": null,
       "grid_template_columns": null,
       "grid_template_rows": null,
       "height": null,
       "justify_content": null,
       "justify_items": null,
       "left": null,
       "margin": null,
       "max_height": null,
       "max_width": null,
       "min_height": null,
       "min_width": null,
       "object_fit": null,
       "object_position": null,
       "order": null,
       "overflow": null,
       "padding": null,
       "right": null,
       "top": null,
       "visibility": null,
       "width": "100%"
      }
     },
     "038f54b9b26d476f91d88dbe9e40615a": {
      "model_module": "@jupyter-widgets/controls",
      "model_module_version": "2.0.0",
      "model_name": "FloatProgressModel",
      "state": {
       "_dom_classes": [],
       "_model_module": "@jupyter-widgets/controls",
       "_model_module_version": "2.0.0",
       "_model_name": "FloatProgressModel",
       "_view_count": null,
       "_view_module": "@jupyter-widgets/controls",
       "_view_module_version": "2.0.0",
       "_view_name": "ProgressView",
       "bar_style": "success",
       "description": "",
       "description_allow_html": false,
       "layout": "IPY_MODEL_1897467d428147a09c3920a6fdf23b53",
       "max": 100.0,
       "min": 0.0,
       "orientation": "horizontal",
       "style": "IPY_MODEL_5179e423f539405a84ae2dfdcf4f0a87",
       "tabbable": null,
       "tooltip": null,
       "value": 100.0
      }
     },
     "05fbeebdff4645638f7fe8f603b4bba9": {
      "model_module": "@jupyter-widgets/controls",
      "model_module_version": "2.0.0",
      "model_name": "HTMLStyleModel",
      "state": {
       "_model_module": "@jupyter-widgets/controls",
       "_model_module_version": "2.0.0",
       "_model_name": "HTMLStyleModel",
       "_view_count": null,
       "_view_module": "@jupyter-widgets/base",
       "_view_module_version": "2.0.0",
       "_view_name": "StyleView",
       "background": null,
       "description_width": "",
       "font_size": null,
       "text_color": null
      }
     },
     "09a38ec7888d4004b56af40e58c0d78d": {
      "model_module": "@jupyter-widgets/controls",
      "model_module_version": "2.0.0",
      "model_name": "HTMLStyleModel",
      "state": {
       "_model_module": "@jupyter-widgets/controls",
       "_model_module_version": "2.0.0",
       "_model_name": "HTMLStyleModel",
       "_view_count": null,
       "_view_module": "@jupyter-widgets/base",
       "_view_module_version": "2.0.0",
       "_view_name": "StyleView",
       "background": null,
       "description_width": "",
       "font_size": null,
       "text_color": null
      }
     },
     "0bab2e444e364b44af913625a7cdeb3a": {
      "model_module": "@jupyter-widgets/controls",
      "model_module_version": "2.0.0",
      "model_name": "HTMLStyleModel",
      "state": {
       "_model_module": "@jupyter-widgets/controls",
       "_model_module_version": "2.0.0",
       "_model_name": "HTMLStyleModel",
       "_view_count": null,
       "_view_module": "@jupyter-widgets/base",
       "_view_module_version": "2.0.0",
       "_view_name": "StyleView",
       "background": null,
       "description_width": "",
       "font_size": null,
       "text_color": null
      }
     },
     "0fbf324d37924b9da8b1cb5af71fe6af": {
      "model_module": "@jupyter-widgets/controls",
      "model_module_version": "2.0.0",
      "model_name": "HBoxModel",
      "state": {
       "_dom_classes": [],
       "_model_module": "@jupyter-widgets/controls",
       "_model_module_version": "2.0.0",
       "_model_name": "HBoxModel",
       "_view_count": null,
       "_view_module": "@jupyter-widgets/controls",
       "_view_module_version": "2.0.0",
       "_view_name": "HBoxView",
       "box_style": "",
       "children": [
        "IPY_MODEL_75d52bd67ee54980aed47a5918dec9d9",
        "IPY_MODEL_a38ed61c8b8c49a79c9fec408d21cb75",
        "IPY_MODEL_1fd0aa2c26e6445ea86f89c757d4346b"
       ],
       "layout": "IPY_MODEL_6c88dfd60d8249bda60b40302a2cdfb8",
       "tabbable": null,
       "tooltip": null
      }
     },
     "1029fb0786644d2bae500872b5bdb271": {
      "model_module": "@jupyter-widgets/controls",
      "model_module_version": "2.0.0",
      "model_name": "ProgressStyleModel",
      "state": {
       "_model_module": "@jupyter-widgets/controls",
       "_model_module_version": "2.0.0",
       "_model_name": "ProgressStyleModel",
       "_view_count": null,
       "_view_module": "@jupyter-widgets/base",
       "_view_module_version": "2.0.0",
       "_view_name": "StyleView",
       "bar_color": "#440154",
       "description_width": ""
      }
     },
     "16390e4cad3448ce8ea4b03025bf3a80": {
      "model_module": "@jupyter-widgets/base",
      "model_module_version": "2.0.0",
      "model_name": "LayoutModel",
      "state": {
       "_model_module": "@jupyter-widgets/base",
       "_model_module_version": "2.0.0",
       "_model_name": "LayoutModel",
       "_view_count": null,
       "_view_module": "@jupyter-widgets/base",
       "_view_module_version": "2.0.0",
       "_view_name": "LayoutView",
       "align_content": null,
       "align_items": null,
       "align_self": null,
       "border_bottom": null,
       "border_left": null,
       "border_right": null,
       "border_top": null,
       "bottom": null,
       "display": "inline-flex",
       "flex": null,
       "flex_flow": "row wrap",
       "grid_area": null,
       "grid_auto_columns": null,
       "grid_auto_flow": null,
       "grid_auto_rows": null,
       "grid_column": null,
       "grid_gap": null,
       "grid_row": null,
       "grid_template_areas": null,
       "grid_template_columns": null,
       "grid_template_rows": null,
       "height": null,
       "justify_content": null,
       "justify_items": null,
       "left": null,
       "margin": null,
       "max_height": null,
       "max_width": null,
       "min_height": null,
       "min_width": null,
       "object_fit": null,
       "object_position": null,
       "order": null,
       "overflow": null,
       "padding": null,
       "right": null,
       "top": null,
       "visibility": null,
       "width": "100%"
      }
     },
     "1744ba597dc244908652cc079a8a17bb": {
      "model_module": "@jupyter-widgets/base",
      "model_module_version": "2.0.0",
      "model_name": "LayoutModel",
      "state": {
       "_model_module": "@jupyter-widgets/base",
       "_model_module_version": "2.0.0",
       "_model_name": "LayoutModel",
       "_view_count": null,
       "_view_module": "@jupyter-widgets/base",
       "_view_module_version": "2.0.0",
       "_view_name": "LayoutView",
       "align_content": null,
       "align_items": null,
       "align_self": null,
       "border_bottom": null,
       "border_left": null,
       "border_right": null,
       "border_top": null,
       "bottom": null,
       "display": null,
       "flex": null,
       "flex_flow": null,
       "grid_area": null,
       "grid_auto_columns": null,
       "grid_auto_flow": null,
       "grid_auto_rows": null,
       "grid_column": null,
       "grid_gap": null,
       "grid_row": null,
       "grid_template_areas": null,
       "grid_template_columns": null,
       "grid_template_rows": null,
       "height": null,
       "justify_content": null,
       "justify_items": null,
       "left": null,
       "margin": null,
       "max_height": null,
       "max_width": null,
       "min_height": null,
       "min_width": null,
       "object_fit": null,
       "object_position": null,
       "order": null,
       "overflow": null,
       "padding": null,
       "right": null,
       "top": null,
       "visibility": null,
       "width": null
      }
     },
     "1897467d428147a09c3920a6fdf23b53": {
      "model_module": "@jupyter-widgets/base",
      "model_module_version": "2.0.0",
      "model_name": "LayoutModel",
      "state": {
       "_model_module": "@jupyter-widgets/base",
       "_model_module_version": "2.0.0",
       "_model_name": "LayoutModel",
       "_view_count": null,
       "_view_module": "@jupyter-widgets/base",
       "_view_module_version": "2.0.0",
       "_view_name": "LayoutView",
       "align_content": null,
       "align_items": null,
       "align_self": null,
       "border_bottom": null,
       "border_left": null,
       "border_right": null,
       "border_top": null,
       "bottom": null,
       "display": null,
       "flex": "2",
       "flex_flow": null,
       "grid_area": null,
       "grid_auto_columns": null,
       "grid_auto_flow": null,
       "grid_auto_rows": null,
       "grid_column": null,
       "grid_gap": null,
       "grid_row": null,
       "grid_template_areas": null,
       "grid_template_columns": null,
       "grid_template_rows": null,
       "height": null,
       "justify_content": null,
       "justify_items": null,
       "left": null,
       "margin": null,
       "max_height": null,
       "max_width": null,
       "min_height": null,
       "min_width": null,
       "object_fit": null,
       "object_position": null,
       "order": null,
       "overflow": null,
       "padding": null,
       "right": null,
       "top": null,
       "visibility": null,
       "width": null
      }
     },
     "1c9156bd9c24458f8e60076357667344": {
      "model_module": "@jupyter-widgets/controls",
      "model_module_version": "2.0.0",
      "model_name": "HTMLStyleModel",
      "state": {
       "_model_module": "@jupyter-widgets/controls",
       "_model_module_version": "2.0.0",
       "_model_name": "HTMLStyleModel",
       "_view_count": null,
       "_view_module": "@jupyter-widgets/base",
       "_view_module_version": "2.0.0",
       "_view_name": "StyleView",
       "background": null,
       "description_width": "",
       "font_size": null,
       "text_color": null
      }
     },
     "1d159fbc4f554b7aa47eb49895599375": {
      "model_module": "@jupyter-widgets/base",
      "model_module_version": "2.0.0",
      "model_name": "LayoutModel",
      "state": {
       "_model_module": "@jupyter-widgets/base",
       "_model_module_version": "2.0.0",
       "_model_name": "LayoutModel",
       "_view_count": null,
       "_view_module": "@jupyter-widgets/base",
       "_view_module_version": "2.0.0",
       "_view_name": "LayoutView",
       "align_content": null,
       "align_items": null,
       "align_self": null,
       "border_bottom": null,
       "border_left": null,
       "border_right": null,
       "border_top": null,
       "bottom": null,
       "display": null,
       "flex": null,
       "flex_flow": null,
       "grid_area": null,
       "grid_auto_columns": null,
       "grid_auto_flow": null,
       "grid_auto_rows": null,
       "grid_column": null,
       "grid_gap": null,
       "grid_row": null,
       "grid_template_areas": null,
       "grid_template_columns": null,
       "grid_template_rows": null,
       "height": null,
       "justify_content": null,
       "justify_items": null,
       "left": null,
       "margin": null,
       "max_height": null,
       "max_width": null,
       "min_height": null,
       "min_width": null,
       "object_fit": null,
       "object_position": null,
       "order": null,
       "overflow": null,
       "padding": null,
       "right": null,
       "top": null,
       "visibility": null,
       "width": null
      }
     },
     "1fa794e46bf64f26911cafa0e40d903c": {
      "model_module": "@jupyter-widgets/controls",
      "model_module_version": "2.0.0",
      "model_name": "HTMLModel",
      "state": {
       "_dom_classes": [],
       "_model_module": "@jupyter-widgets/controls",
       "_model_module_version": "2.0.0",
       "_model_name": "HTMLModel",
       "_view_count": null,
       "_view_module": "@jupyter-widgets/controls",
       "_view_module_version": "2.0.0",
       "_view_name": "HTMLView",
       "description": "",
       "description_allow_html": false,
       "layout": "IPY_MODEL_5a8cfdeaad2c4b5ea396102e29577f79",
       "placeholder": "​",
       "style": "IPY_MODEL_05fbeebdff4645638f7fe8f603b4bba9",
       "tabbable": null,
       "tooltip": null,
       "value": "Propagating errors: 100%"
      }
     },
     "1fd0aa2c26e6445ea86f89c757d4346b": {
      "model_module": "@jupyter-widgets/controls",
      "model_module_version": "2.0.0",
      "model_name": "HTMLModel",
      "state": {
       "_dom_classes": [],
       "_model_module": "@jupyter-widgets/controls",
       "_model_module_version": "2.0.0",
       "_model_name": "HTMLModel",
       "_view_count": null,
       "_view_module": "@jupyter-widgets/controls",
       "_view_module_version": "2.0.0",
       "_view_name": "HTMLView",
       "description": "",
       "description_allow_html": false,
       "layout": "IPY_MODEL_1744ba597dc244908652cc079a8a17bb",
       "placeholder": "​",
       "style": "IPY_MODEL_8c9ea72eb6db4bc8978422fccbae5cf7",
       "tabbable": null,
       "tooltip": null,
       "value": " 100/100 [00:10&lt;00:00,  9.97it/s]"
      }
     },
     "23079b660a124271a2aba063762bce3e": {
      "model_module": "@jupyter-widgets/controls",
      "model_module_version": "2.0.0",
      "model_name": "HTMLModel",
      "state": {
       "_dom_classes": [],
       "_model_module": "@jupyter-widgets/controls",
       "_model_module_version": "2.0.0",
       "_model_name": "HTMLModel",
       "_view_count": null,
       "_view_module": "@jupyter-widgets/controls",
       "_view_module_version": "2.0.0",
       "_view_name": "HTMLView",
       "description": "",
       "description_allow_html": false,
       "layout": "IPY_MODEL_c990c351558a44feaa0bb2f748204f0f",
       "placeholder": "​",
       "style": "IPY_MODEL_f3234b69a6f34a3e8765283eeba4b007",
       "tabbable": null,
       "tooltip": null,
       "value": " 100/100 [00:10&lt;00:00,  9.84it/s]"
      }
     },
     "23466d0669d8409180d82c13c30a5f41": {
      "model_module": "@jupyter-widgets/controls",
      "model_module_version": "2.0.0",
      "model_name": "FloatProgressModel",
      "state": {
       "_dom_classes": [],
       "_model_module": "@jupyter-widgets/controls",
       "_model_module_version": "2.0.0",
       "_model_name": "FloatProgressModel",
       "_view_count": null,
       "_view_module": "@jupyter-widgets/controls",
       "_view_module_version": "2.0.0",
       "_view_name": "ProgressView",
       "bar_style": "success",
       "description": "",
       "description_allow_html": false,
       "layout": "IPY_MODEL_7b5c5e5b744949698eeaa6d050f2b974",
       "max": 100800.0,
       "min": 0.0,
       "orientation": "horizontal",
       "style": "IPY_MODEL_1029fb0786644d2bae500872b5bdb271",
       "tabbable": null,
       "tooltip": null,
       "value": 100800.0
      }
     },
     "24df31ba3b0844bcaff8303174d0d4c1": {
      "model_module": "@jupyter-widgets/controls",
      "model_module_version": "2.0.0",
      "model_name": "ProgressStyleModel",
      "state": {
       "_model_module": "@jupyter-widgets/controls",
       "_model_module_version": "2.0.0",
       "_model_name": "ProgressStyleModel",
       "_view_count": null,
       "_view_module": "@jupyter-widgets/base",
       "_view_module_version": "2.0.0",
       "_view_name": "StyleView",
       "bar_color": "#277f8e",
       "description_width": ""
      }
     },
     "2709b47ac5674a55a460c841874c29b6": {
      "model_module": "@jupyter-widgets/base",
      "model_module_version": "2.0.0",
      "model_name": "LayoutModel",
      "state": {
       "_model_module": "@jupyter-widgets/base",
       "_model_module_version": "2.0.0",
       "_model_name": "LayoutModel",
       "_view_count": null,
       "_view_module": "@jupyter-widgets/base",
       "_view_module_version": "2.0.0",
       "_view_name": "LayoutView",
       "align_content": null,
       "align_items": null,
       "align_self": null,
       "border_bottom": null,
       "border_left": null,
       "border_right": null,
       "border_top": null,
       "bottom": null,
       "display": null,
       "flex": null,
       "flex_flow": null,
       "grid_area": null,
       "grid_auto_columns": null,
       "grid_auto_flow": null,
       "grid_auto_rows": null,
       "grid_column": null,
       "grid_gap": null,
       "grid_row": null,
       "grid_template_areas": null,
       "grid_template_columns": null,
       "grid_template_rows": null,
       "height": null,
       "justify_content": null,
       "justify_items": null,
       "left": null,
       "margin": null,
       "max_height": null,
       "max_width": null,
       "min_height": null,
       "min_width": null,
       "object_fit": null,
       "object_position": null,
       "order": null,
       "overflow": null,
       "padding": null,
       "right": null,
       "top": null,
       "visibility": null,
       "width": null
      }
     },
     "2ab1e2ef8b2f4a0184acd66ada40316c": {
      "model_module": "@jupyter-widgets/controls",
      "model_module_version": "2.0.0",
      "model_name": "HTMLStyleModel",
      "state": {
       "_model_module": "@jupyter-widgets/controls",
       "_model_module_version": "2.0.0",
       "_model_name": "HTMLStyleModel",
       "_view_count": null,
       "_view_module": "@jupyter-widgets/base",
       "_view_module_version": "2.0.0",
       "_view_name": "StyleView",
       "background": null,
       "description_width": "",
       "font_size": null,
       "text_color": null
      }
     },
     "33e1c0f7da70406189ce1eefbcbfe689": {
      "model_module": "@jupyter-widgets/controls",
      "model_module_version": "2.0.0",
      "model_name": "FloatProgressModel",
      "state": {
       "_dom_classes": [],
       "_model_module": "@jupyter-widgets/controls",
       "_model_module_version": "2.0.0",
       "_model_name": "FloatProgressModel",
       "_view_count": null,
       "_view_module": "@jupyter-widgets/controls",
       "_view_module_version": "2.0.0",
       "_view_name": "ProgressView",
       "bar_style": "success",
       "description": "",
       "description_allow_html": false,
       "layout": "IPY_MODEL_45798f0f98114457911970908e845376",
       "max": 4.0,
       "min": 0.0,
       "orientation": "horizontal",
       "style": "IPY_MODEL_5ad0145dbd05497abfe5eb4d90f42960",
       "tabbable": null,
       "tooltip": null,
       "value": 4.0
      }
     },
     "39a0e9f50ae740d6a1d5844d939f59e2": {
      "model_module": "@jupyter-widgets/base",
      "model_module_version": "2.0.0",
      "model_name": "LayoutModel",
      "state": {
       "_model_module": "@jupyter-widgets/base",
       "_model_module_version": "2.0.0",
       "_model_name": "LayoutModel",
       "_view_count": null,
       "_view_module": "@jupyter-widgets/base",
       "_view_module_version": "2.0.0",
       "_view_name": "LayoutView",
       "align_content": null,
       "align_items": null,
       "align_self": null,
       "border_bottom": null,
       "border_left": null,
       "border_right": null,
       "border_top": null,
       "bottom": null,
       "display": null,
       "flex": null,
       "flex_flow": null,
       "grid_area": null,
       "grid_auto_columns": null,
       "grid_auto_flow": null,
       "grid_auto_rows": null,
       "grid_column": null,
       "grid_gap": null,
       "grid_row": null,
       "grid_template_areas": null,
       "grid_template_columns": null,
       "grid_template_rows": null,
       "height": null,
       "justify_content": null,
       "justify_items": null,
       "left": null,
       "margin": null,
       "max_height": null,
       "max_width": null,
       "min_height": null,
       "min_width": null,
       "object_fit": null,
       "object_position": null,
       "order": null,
       "overflow": null,
       "padding": null,
       "right": null,
       "top": null,
       "visibility": null,
       "width": null
      }
     },
     "40ef456d3b4a443b9d1940fe1664d3c7": {
      "model_module": "@jupyter-widgets/controls",
      "model_module_version": "2.0.0",
      "model_name": "HTMLModel",
      "state": {
       "_dom_classes": [],
       "_model_module": "@jupyter-widgets/controls",
       "_model_module_version": "2.0.0",
       "_model_name": "HTMLModel",
       "_view_count": null,
       "_view_module": "@jupyter-widgets/controls",
       "_view_module_version": "2.0.0",
       "_view_name": "HTMLView",
       "description": "",
       "description_allow_html": false,
       "layout": "IPY_MODEL_1d159fbc4f554b7aa47eb49895599375",
       "placeholder": "​",
       "style": "IPY_MODEL_2ab1e2ef8b2f4a0184acd66ada40316c",
       "tabbable": null,
       "tooltip": null,
       "value": " 22.5k/22.5k [00:00&lt;00:00, 859kB/s]"
      }
     },
     "4228edb1bf9d405c865bb6f506847b5f": {
      "model_module": "@jupyter-widgets/controls",
      "model_module_version": "2.0.0",
      "model_name": "HTMLStyleModel",
      "state": {
       "_model_module": "@jupyter-widgets/controls",
       "_model_module_version": "2.0.0",
       "_model_name": "HTMLStyleModel",
       "_view_count": null,
       "_view_module": "@jupyter-widgets/base",
       "_view_module_version": "2.0.0",
       "_view_name": "StyleView",
       "background": null,
       "description_width": "",
       "font_size": null,
       "text_color": null
      }
     },
     "45798f0f98114457911970908e845376": {
      "model_module": "@jupyter-widgets/base",
      "model_module_version": "2.0.0",
      "model_name": "LayoutModel",
      "state": {
       "_model_module": "@jupyter-widgets/base",
       "_model_module_version": "2.0.0",
       "_model_name": "LayoutModel",
       "_view_count": null,
       "_view_module": "@jupyter-widgets/base",
       "_view_module_version": "2.0.0",
       "_view_name": "LayoutView",
       "align_content": null,
       "align_items": null,
       "align_self": null,
       "border_bottom": null,
       "border_left": null,
       "border_right": null,
       "border_top": null,
       "bottom": null,
       "display": null,
       "flex": "2",
       "flex_flow": null,
       "grid_area": null,
       "grid_auto_columns": null,
       "grid_auto_flow": null,
       "grid_auto_rows": null,
       "grid_column": null,
       "grid_gap": null,
       "grid_row": null,
       "grid_template_areas": null,
       "grid_template_columns": null,
       "grid_template_rows": null,
       "height": null,
       "justify_content": null,
       "justify_items": null,
       "left": null,
       "margin": null,
       "max_height": null,
       "max_width": null,
       "min_height": null,
       "min_width": null,
       "object_fit": null,
       "object_position": null,
       "order": null,
       "overflow": null,
       "padding": null,
       "right": null,
       "top": null,
       "visibility": null,
       "width": null
      }
     },
     "46b02c84f41f473681f02e6f9e392b50": {
      "model_module": "@jupyter-widgets/controls",
      "model_module_version": "2.0.0",
      "model_name": "HBoxModel",
      "state": {
       "_dom_classes": [],
       "_model_module": "@jupyter-widgets/controls",
       "_model_module_version": "2.0.0",
       "_model_name": "HBoxModel",
       "_view_count": null,
       "_view_module": "@jupyter-widgets/controls",
       "_view_module_version": "2.0.0",
       "_view_name": "HBoxView",
       "box_style": "",
       "children": [
        "IPY_MODEL_1fa794e46bf64f26911cafa0e40d903c",
        "IPY_MODEL_61b5162c2f5b4ac8aa2a9644c3dcf7e6",
        "IPY_MODEL_949821681c604d17b1696e0851c65265"
       ],
       "layout": "IPY_MODEL_6912f44ec98741edb6bf82302e4b794d",
       "tabbable": null,
       "tooltip": null
      }
     },
     "47fb1ad0cae440509c4569a0eec3e0b2": {
      "model_module": "@jupyter-widgets/controls",
      "model_module_version": "2.0.0",
      "model_name": "HTMLStyleModel",
      "state": {
       "_model_module": "@jupyter-widgets/controls",
       "_model_module_version": "2.0.0",
       "_model_name": "HTMLStyleModel",
       "_view_count": null,
       "_view_module": "@jupyter-widgets/base",
       "_view_module_version": "2.0.0",
       "_view_name": "StyleView",
       "background": null,
       "description_width": "",
       "font_size": null,
       "text_color": null
      }
     },
     "4bca84ad93754a6999b3dee0025b94fb": {
      "model_module": "@jupyter-widgets/base",
      "model_module_version": "2.0.0",
      "model_name": "LayoutModel",
      "state": {
       "_model_module": "@jupyter-widgets/base",
       "_model_module_version": "2.0.0",
       "_model_name": "LayoutModel",
       "_view_count": null,
       "_view_module": "@jupyter-widgets/base",
       "_view_module_version": "2.0.0",
       "_view_name": "LayoutView",
       "align_content": null,
       "align_items": null,
       "align_self": null,
       "border_bottom": null,
       "border_left": null,
       "border_right": null,
       "border_top": null,
       "bottom": null,
       "display": null,
       "flex": "2",
       "flex_flow": null,
       "grid_area": null,
       "grid_auto_columns": null,
       "grid_auto_flow": null,
       "grid_auto_rows": null,
       "grid_column": null,
       "grid_gap": null,
       "grid_row": null,
       "grid_template_areas": null,
       "grid_template_columns": null,
       "grid_template_rows": null,
       "height": null,
       "justify_content": null,
       "justify_items": null,
       "left": null,
       "margin": null,
       "max_height": null,
       "max_width": null,
       "min_height": null,
       "min_width": null,
       "object_fit": null,
       "object_position": null,
       "order": null,
       "overflow": null,
       "padding": null,
       "right": null,
       "top": null,
       "visibility": null,
       "width": null
      }
     },
     "4e4de57116fa461e84142cbb9ba327f9": {
      "model_module": "@jupyter-widgets/base",
      "model_module_version": "2.0.0",
      "model_name": "LayoutModel",
      "state": {
       "_model_module": "@jupyter-widgets/base",
       "_model_module_version": "2.0.0",
       "_model_name": "LayoutModel",
       "_view_count": null,
       "_view_module": "@jupyter-widgets/base",
       "_view_module_version": "2.0.0",
       "_view_name": "LayoutView",
       "align_content": null,
       "align_items": null,
       "align_self": null,
       "border_bottom": null,
       "border_left": null,
       "border_right": null,
       "border_top": null,
       "bottom": null,
       "display": null,
       "flex": null,
       "flex_flow": null,
       "grid_area": null,
       "grid_auto_columns": null,
       "grid_auto_flow": null,
       "grid_auto_rows": null,
       "grid_column": null,
       "grid_gap": null,
       "grid_row": null,
       "grid_template_areas": null,
       "grid_template_columns": null,
       "grid_template_rows": null,
       "height": null,
       "justify_content": null,
       "justify_items": null,
       "left": null,
       "margin": null,
       "max_height": null,
       "max_width": null,
       "min_height": null,
       "min_width": null,
       "object_fit": null,
       "object_position": null,
       "order": null,
       "overflow": null,
       "padding": null,
       "right": null,
       "top": null,
       "visibility": null,
       "width": null
      }
     },
     "5179e423f539405a84ae2dfdcf4f0a87": {
      "model_module": "@jupyter-widgets/controls",
      "model_module_version": "2.0.0",
      "model_name": "ProgressStyleModel",
      "state": {
       "_model_module": "@jupyter-widgets/controls",
       "_model_module_version": "2.0.0",
       "_model_name": "ProgressStyleModel",
       "_view_count": null,
       "_view_module": "@jupyter-widgets/base",
       "_view_module_version": "2.0.0",
       "_view_name": "StyleView",
       "bar_color": "#a0da39",
       "description_width": ""
      }
     },
     "5a8cfdeaad2c4b5ea396102e29577f79": {
      "model_module": "@jupyter-widgets/base",
      "model_module_version": "2.0.0",
      "model_name": "LayoutModel",
      "state": {
       "_model_module": "@jupyter-widgets/base",
       "_model_module_version": "2.0.0",
       "_model_name": "LayoutModel",
       "_view_count": null,
       "_view_module": "@jupyter-widgets/base",
       "_view_module_version": "2.0.0",
       "_view_name": "LayoutView",
       "align_content": null,
       "align_items": null,
       "align_self": null,
       "border_bottom": null,
       "border_left": null,
       "border_right": null,
       "border_top": null,
       "bottom": null,
       "display": null,
       "flex": null,
       "flex_flow": null,
       "grid_area": null,
       "grid_auto_columns": null,
       "grid_auto_flow": null,
       "grid_auto_rows": null,
       "grid_column": null,
       "grid_gap": null,
       "grid_row": null,
       "grid_template_areas": null,
       "grid_template_columns": null,
       "grid_template_rows": null,
       "height": null,
       "justify_content": null,
       "justify_items": null,
       "left": null,
       "margin": null,
       "max_height": null,
       "max_width": null,
       "min_height": null,
       "min_width": null,
       "object_fit": null,
       "object_position": null,
       "order": null,
       "overflow": null,
       "padding": null,
       "right": null,
       "top": null,
       "visibility": null,
       "width": null
      }
     },
     "5ad0145dbd05497abfe5eb4d90f42960": {
      "model_module": "@jupyter-widgets/controls",
      "model_module_version": "2.0.0",
      "model_name": "ProgressStyleModel",
      "state": {
       "_model_module": "@jupyter-widgets/controls",
       "_model_module_version": "2.0.0",
       "_model_name": "ProgressStyleModel",
       "_view_count": null,
       "_view_module": "@jupyter-widgets/base",
       "_view_module_version": "2.0.0",
       "_view_name": "StyleView",
       "bar_color": "#365c8d",
       "description_width": ""
      }
     },
     "61b5162c2f5b4ac8aa2a9644c3dcf7e6": {
      "model_module": "@jupyter-widgets/controls",
      "model_module_version": "2.0.0",
      "model_name": "FloatProgressModel",
      "state": {
       "_dom_classes": [],
       "_model_module": "@jupyter-widgets/controls",
       "_model_module_version": "2.0.0",
       "_model_name": "FloatProgressModel",
       "_view_count": null,
       "_view_module": "@jupyter-widgets/controls",
       "_view_module_version": "2.0.0",
       "_view_name": "ProgressView",
       "bar_style": "success",
       "description": "",
       "description_allow_html": false,
       "layout": "IPY_MODEL_de1cd41bb7e540fd92c645d8295477af",
       "max": 100.0,
       "min": 0.0,
       "orientation": "horizontal",
       "style": "IPY_MODEL_86ab42fa64c9413c88d90fa22ea92b3d",
       "tabbable": null,
       "tooltip": null,
       "value": 100.0
      }
     },
     "637bb14f50cf4cf298b72fca5dc2d4f2": {
      "model_module": "@jupyter-widgets/controls",
      "model_module_version": "2.0.0",
      "model_name": "HTMLModel",
      "state": {
       "_dom_classes": [],
       "_model_module": "@jupyter-widgets/controls",
       "_model_module_version": "2.0.0",
       "_model_name": "HTMLModel",
       "_view_count": null,
       "_view_module": "@jupyter-widgets/controls",
       "_view_module_version": "2.0.0",
       "_view_name": "HTMLView",
       "description": "",
       "description_allow_html": false,
       "layout": "IPY_MODEL_4e4de57116fa461e84142cbb9ba327f9",
       "placeholder": "​",
       "style": "IPY_MODEL_0bab2e444e364b44af913625a7cdeb3a",
       "tabbable": null,
       "tooltip": null,
       "value": " 100/100 [00:10&lt;00:00,  9.69it/s]"
      }
     },
     "66f254a4c4494384a2f3e9805d9cdbb3": {
      "model_module": "@jupyter-widgets/base",
      "model_module_version": "2.0.0",
      "model_name": "LayoutModel",
      "state": {
       "_model_module": "@jupyter-widgets/base",
       "_model_module_version": "2.0.0",
       "_model_name": "LayoutModel",
       "_view_count": null,
       "_view_module": "@jupyter-widgets/base",
       "_view_module_version": "2.0.0",
       "_view_name": "LayoutView",
       "align_content": null,
       "align_items": null,
       "align_self": null,
       "border_bottom": null,
       "border_left": null,
       "border_right": null,
       "border_top": null,
       "bottom": null,
       "display": null,
       "flex": null,
       "flex_flow": null,
       "grid_area": null,
       "grid_auto_columns": null,
       "grid_auto_flow": null,
       "grid_auto_rows": null,
       "grid_column": null,
       "grid_gap": null,
       "grid_row": null,
       "grid_template_areas": null,
       "grid_template_columns": null,
       "grid_template_rows": null,
       "height": null,
       "justify_content": null,
       "justify_items": null,
       "left": null,
       "margin": null,
       "max_height": null,
       "max_width": null,
       "min_height": null,
       "min_width": null,
       "object_fit": null,
       "object_position": null,
       "order": null,
       "overflow": null,
       "padding": null,
       "right": null,
       "top": null,
       "visibility": null,
       "width": null
      }
     },
     "6724ddda87a14493a6d01d6912083a84": {
      "model_module": "@jupyter-widgets/controls",
      "model_module_version": "2.0.0",
      "model_name": "HTMLModel",
      "state": {
       "_dom_classes": [],
       "_model_module": "@jupyter-widgets/controls",
       "_model_module_version": "2.0.0",
       "_model_name": "HTMLModel",
       "_view_count": null,
       "_view_module": "@jupyter-widgets/controls",
       "_view_module_version": "2.0.0",
       "_view_name": "HTMLView",
       "description": "",
       "description_allow_html": false,
       "layout": "IPY_MODEL_66f254a4c4494384a2f3e9805d9cdbb3",
       "placeholder": "​",
       "style": "IPY_MODEL_4228edb1bf9d405c865bb6f506847b5f",
       "tabbable": null,
       "tooltip": null,
       "value": " 98.4k/98.4k [00:00&lt;00:00, 1.97MB/s]"
      }
     },
     "6912f44ec98741edb6bf82302e4b794d": {
      "model_module": "@jupyter-widgets/base",
      "model_module_version": "2.0.0",
      "model_name": "LayoutModel",
      "state": {
       "_model_module": "@jupyter-widgets/base",
       "_model_module_version": "2.0.0",
       "_model_name": "LayoutModel",
       "_view_count": null,
       "_view_module": "@jupyter-widgets/base",
       "_view_module_version": "2.0.0",
       "_view_name": "LayoutView",
       "align_content": null,
       "align_items": null,
       "align_self": null,
       "border_bottom": null,
       "border_left": null,
       "border_right": null,
       "border_top": null,
       "bottom": null,
       "display": "inline-flex",
       "flex": null,
       "flex_flow": "row wrap",
       "grid_area": null,
       "grid_auto_columns": null,
       "grid_auto_flow": null,
       "grid_auto_rows": null,
       "grid_column": null,
       "grid_gap": null,
       "grid_row": null,
       "grid_template_areas": null,
       "grid_template_columns": null,
       "grid_template_rows": null,
       "height": null,
       "justify_content": null,
       "justify_items": null,
       "left": null,
       "margin": null,
       "max_height": null,
       "max_width": null,
       "min_height": null,
       "min_width": null,
       "object_fit": null,
       "object_position": null,
       "order": null,
       "overflow": null,
       "padding": null,
       "right": null,
       "top": null,
       "visibility": null,
       "width": "100%"
      }
     },
     "6c88dfd60d8249bda60b40302a2cdfb8": {
      "model_module": "@jupyter-widgets/base",
      "model_module_version": "2.0.0",
      "model_name": "LayoutModel",
      "state": {
       "_model_module": "@jupyter-widgets/base",
       "_model_module_version": "2.0.0",
       "_model_name": "LayoutModel",
       "_view_count": null,
       "_view_module": "@jupyter-widgets/base",
       "_view_module_version": "2.0.0",
       "_view_name": "LayoutView",
       "align_content": null,
       "align_items": null,
       "align_self": null,
       "border_bottom": null,
       "border_left": null,
       "border_right": null,
       "border_top": null,
       "bottom": null,
       "display": "inline-flex",
       "flex": null,
       "flex_flow": "row wrap",
       "grid_area": null,
       "grid_auto_columns": null,
       "grid_auto_flow": null,
       "grid_auto_rows": null,
       "grid_column": null,
       "grid_gap": null,
       "grid_row": null,
       "grid_template_areas": null,
       "grid_template_columns": null,
       "grid_template_rows": null,
       "height": null,
       "justify_content": null,
       "justify_items": null,
       "left": null,
       "margin": null,
       "max_height": null,
       "max_width": null,
       "min_height": null,
       "min_width": null,
       "object_fit": null,
       "object_position": null,
       "order": null,
       "overflow": null,
       "padding": null,
       "right": null,
       "top": null,
       "visibility": null,
       "width": "100%"
      }
     },
     "6f778b90174e4f869fc7dfb692416806": {
      "model_module": "@jupyter-widgets/controls",
      "model_module_version": "2.0.0",
      "model_name": "HTMLStyleModel",
      "state": {
       "_model_module": "@jupyter-widgets/controls",
       "_model_module_version": "2.0.0",
       "_model_name": "HTMLStyleModel",
       "_view_count": null,
       "_view_module": "@jupyter-widgets/base",
       "_view_module_version": "2.0.0",
       "_view_name": "StyleView",
       "background": null,
       "description_width": "",
       "font_size": null,
       "text_color": null
      }
     },
     "75d52bd67ee54980aed47a5918dec9d9": {
      "model_module": "@jupyter-widgets/controls",
      "model_module_version": "2.0.0",
      "model_name": "HTMLModel",
      "state": {
       "_dom_classes": [],
       "_model_module": "@jupyter-widgets/controls",
       "_model_module_version": "2.0.0",
       "_model_name": "HTMLModel",
       "_view_count": null,
       "_view_module": "@jupyter-widgets/controls",
       "_view_module_version": "2.0.0",
       "_view_name": "HTMLView",
       "description": "",
       "description_allow_html": false,
       "layout": "IPY_MODEL_cc9802c461b848e2aa2faa49a81122b0",
       "placeholder": "​",
       "style": "IPY_MODEL_09a38ec7888d4004b56af40e58c0d78d",
       "tabbable": null,
       "tooltip": null,
       "value": "Propagating errors: 100%"
      }
     },
     "7b03bb5b335846b68b300cb3c2d37a8a": {
      "model_module": "@jupyter-widgets/controls",
      "model_module_version": "2.0.0",
      "model_name": "ProgressStyleModel",
      "state": {
       "_model_module": "@jupyter-widgets/controls",
       "_model_module_version": "2.0.0",
       "_model_name": "ProgressStyleModel",
       "_view_count": null,
       "_view_module": "@jupyter-widgets/base",
       "_view_module_version": "2.0.0",
       "_view_name": "StyleView",
       "bar_color": "#1fa187",
       "description_width": ""
      }
     },
     "7b5c5e5b744949698eeaa6d050f2b974": {
      "model_module": "@jupyter-widgets/base",
      "model_module_version": "2.0.0",
      "model_name": "LayoutModel",
      "state": {
       "_model_module": "@jupyter-widgets/base",
       "_model_module_version": "2.0.0",
       "_model_name": "LayoutModel",
       "_view_count": null,
       "_view_module": "@jupyter-widgets/base",
       "_view_module_version": "2.0.0",
       "_view_name": "LayoutView",
       "align_content": null,
       "align_items": null,
       "align_self": null,
       "border_bottom": null,
       "border_left": null,
       "border_right": null,
       "border_top": null,
       "bottom": null,
       "display": null,
       "flex": "2",
       "flex_flow": null,
       "grid_area": null,
       "grid_auto_columns": null,
       "grid_auto_flow": null,
       "grid_auto_rows": null,
       "grid_column": null,
       "grid_gap": null,
       "grid_row": null,
       "grid_template_areas": null,
       "grid_template_columns": null,
       "grid_template_rows": null,
       "height": null,
       "justify_content": null,
       "justify_items": null,
       "left": null,
       "margin": null,
       "max_height": null,
       "max_width": null,
       "min_height": null,
       "min_width": null,
       "object_fit": null,
       "object_position": null,
       "order": null,
       "overflow": null,
       "padding": null,
       "right": null,
       "top": null,
       "visibility": null,
       "width": null
      }
     },
     "86954f877d2b4f92982598103e86bcaa": {
      "model_module": "@jupyter-widgets/controls",
      "model_module_version": "2.0.0",
      "model_name": "HTMLModel",
      "state": {
       "_dom_classes": [],
       "_model_module": "@jupyter-widgets/controls",
       "_model_module_version": "2.0.0",
       "_model_name": "HTMLModel",
       "_view_count": null,
       "_view_module": "@jupyter-widgets/controls",
       "_view_module_version": "2.0.0",
       "_view_name": "HTMLView",
       "description": "",
       "description_allow_html": false,
       "layout": "IPY_MODEL_a4494feaf0a949428470b6ff1d2b1674",
       "placeholder": "​",
       "style": "IPY_MODEL_47fb1ad0cae440509c4569a0eec3e0b2",
       "tabbable": null,
       "tooltip": null,
       "value": " 4/4 [00:41&lt;00:00, 10.46s/it]"
      }
     },
     "86ab42fa64c9413c88d90fa22ea92b3d": {
      "model_module": "@jupyter-widgets/controls",
      "model_module_version": "2.0.0",
      "model_name": "ProgressStyleModel",
      "state": {
       "_model_module": "@jupyter-widgets/controls",
       "_model_module_version": "2.0.0",
       "_model_name": "ProgressStyleModel",
       "_view_count": null,
       "_view_module": "@jupyter-widgets/base",
       "_view_module_version": "2.0.0",
       "_view_name": "StyleView",
       "bar_color": "#4ac16d",
       "description_width": ""
      }
     },
     "880a76d09a7d44f3b82c82922bea1018": {
      "model_module": "@jupyter-widgets/base",
      "model_module_version": "2.0.0",
      "model_name": "LayoutModel",
      "state": {
       "_model_module": "@jupyter-widgets/base",
       "_model_module_version": "2.0.0",
       "_model_name": "LayoutModel",
       "_view_count": null,
       "_view_module": "@jupyter-widgets/base",
       "_view_module_version": "2.0.0",
       "_view_name": "LayoutView",
       "align_content": null,
       "align_items": null,
       "align_self": null,
       "border_bottom": null,
       "border_left": null,
       "border_right": null,
       "border_top": null,
       "bottom": null,
       "display": null,
       "flex": null,
       "flex_flow": null,
       "grid_area": null,
       "grid_auto_columns": null,
       "grid_auto_flow": null,
       "grid_auto_rows": null,
       "grid_column": null,
       "grid_gap": null,
       "grid_row": null,
       "grid_template_areas": null,
       "grid_template_columns": null,
       "grid_template_rows": null,
       "height": null,
       "justify_content": null,
       "justify_items": null,
       "left": null,
       "margin": null,
       "max_height": null,
       "max_width": null,
       "min_height": null,
       "min_width": null,
       "object_fit": null,
       "object_position": null,
       "order": null,
       "overflow": null,
       "padding": null,
       "right": null,
       "top": null,
       "visibility": null,
       "width": null
      }
     },
     "88322be78adf473aa7e54756afd5a6fa": {
      "model_module": "@jupyter-widgets/controls",
      "model_module_version": "2.0.0",
      "model_name": "HTMLModel",
      "state": {
       "_dom_classes": [],
       "_model_module": "@jupyter-widgets/controls",
       "_model_module_version": "2.0.0",
       "_model_name": "HTMLModel",
       "_view_count": null,
       "_view_module": "@jupyter-widgets/controls",
       "_view_module_version": "2.0.0",
       "_view_name": "HTMLView",
       "description": "",
       "description_allow_html": false,
       "layout": "IPY_MODEL_bf89bfed68bc45c6a75780c241e5075c",
       "placeholder": "​",
       "style": "IPY_MODEL_1c9156bd9c24458f8e60076357667344",
       "tabbable": null,
       "tooltip": null,
       "value": "Downloading L240911185122D8968AF218_SC00.fits: 100%"
      }
     },
     "8c9ea72eb6db4bc8978422fccbae5cf7": {
      "model_module": "@jupyter-widgets/controls",
      "model_module_version": "2.0.0",
      "model_name": "HTMLStyleModel",
      "state": {
       "_model_module": "@jupyter-widgets/controls",
       "_model_module_version": "2.0.0",
       "_model_name": "HTMLStyleModel",
       "_view_count": null,
       "_view_module": "@jupyter-widgets/base",
       "_view_module_version": "2.0.0",
       "_view_name": "StyleView",
       "background": null,
       "description_width": "",
       "font_size": null,
       "text_color": null
      }
     },
     "8e6d16d3bab64ea6aaa876c4dab762da": {
      "model_module": "@jupyter-widgets/controls",
      "model_module_version": "2.0.0",
      "model_name": "HTMLModel",
      "state": {
       "_dom_classes": [],
       "_model_module": "@jupyter-widgets/controls",
       "_model_module_version": "2.0.0",
       "_model_name": "HTMLModel",
       "_view_count": null,
       "_view_module": "@jupyter-widgets/controls",
       "_view_module_version": "2.0.0",
       "_view_name": "HTMLView",
       "description": "",
       "description_allow_html": false,
       "layout": "IPY_MODEL_880a76d09a7d44f3b82c82922bea1018",
       "placeholder": "​",
       "style": "IPY_MODEL_e4540a5b59024c9fa4b76c83f515ac25",
       "tabbable": null,
       "tooltip": null,
       "value": "Downloading L240911185122D8968AF218_EV00.fits: 100%"
      }
     },
     "9197e1dfe69d448b9d633be951d07afc": {
      "model_module": "@jupyter-widgets/controls",
      "model_module_version": "2.0.0",
      "model_name": "HTMLModel",
      "state": {
       "_dom_classes": [],
       "_model_module": "@jupyter-widgets/controls",
       "_model_module_version": "2.0.0",
       "_model_name": "HTMLModel",
       "_view_count": null,
       "_view_module": "@jupyter-widgets/controls",
       "_view_module_version": "2.0.0",
       "_view_name": "HTMLView",
       "description": "",
       "description_allow_html": false,
       "layout": "IPY_MODEL_ce4e0cebc0964632b8c9f87a533c6500",
       "placeholder": "​",
       "style": "IPY_MODEL_b412eded43d94e63bb05c63459e9a6db",
       "tabbable": null,
       "tooltip": null,
       "value": "processing MLE analyses: 100%"
      }
     },
     "949821681c604d17b1696e0851c65265": {
      "model_module": "@jupyter-widgets/controls",
      "model_module_version": "2.0.0",
      "model_name": "HTMLModel",
      "state": {
       "_dom_classes": [],
       "_model_module": "@jupyter-widgets/controls",
       "_model_module_version": "2.0.0",
       "_model_name": "HTMLModel",
       "_view_count": null,
       "_view_module": "@jupyter-widgets/controls",
       "_view_module_version": "2.0.0",
       "_view_name": "HTMLView",
       "description": "",
       "description_allow_html": false,
       "layout": "IPY_MODEL_39a0e9f50ae740d6a1d5844d939f59e2",
       "placeholder": "​",
       "style": "IPY_MODEL_fecf151580374d6d98dacfb78d3a1080",
       "tabbable": null,
       "tooltip": null,
       "value": " 100/100 [00:10&lt;00:00,  9.48it/s]"
      }
     },
     "9dccbbe239f345a2aba3ab703129c6c0": {
      "model_module": "@jupyter-widgets/base",
      "model_module_version": "2.0.0",
      "model_name": "LayoutModel",
      "state": {
       "_model_module": "@jupyter-widgets/base",
       "_model_module_version": "2.0.0",
       "_model_name": "LayoutModel",
       "_view_count": null,
       "_view_module": "@jupyter-widgets/base",
       "_view_module_version": "2.0.0",
       "_view_name": "LayoutView",
       "align_content": null,
       "align_items": null,
       "align_self": null,
       "border_bottom": null,
       "border_left": null,
       "border_right": null,
       "border_top": null,
       "bottom": null,
       "display": null,
       "flex": "2",
       "flex_flow": null,
       "grid_area": null,
       "grid_auto_columns": null,
       "grid_auto_flow": null,
       "grid_auto_rows": null,
       "grid_column": null,
       "grid_gap": null,
       "grid_row": null,
       "grid_template_areas": null,
       "grid_template_columns": null,
       "grid_template_rows": null,
       "height": null,
       "justify_content": null,
       "justify_items": null,
       "left": null,
       "margin": null,
       "max_height": null,
       "max_width": null,
       "min_height": null,
       "min_width": null,
       "object_fit": null,
       "object_position": null,
       "order": null,
       "overflow": null,
       "padding": null,
       "right": null,
       "top": null,
       "visibility": null,
       "width": null
      }
     },
     "a38ed61c8b8c49a79c9fec408d21cb75": {
      "model_module": "@jupyter-widgets/controls",
      "model_module_version": "2.0.0",
      "model_name": "FloatProgressModel",
      "state": {
       "_dom_classes": [],
       "_model_module": "@jupyter-widgets/controls",
       "_model_module_version": "2.0.0",
       "_model_name": "FloatProgressModel",
       "_view_count": null,
       "_view_module": "@jupyter-widgets/controls",
       "_view_module_version": "2.0.0",
       "_view_name": "ProgressView",
       "bar_style": "success",
       "description": "",
       "description_allow_html": false,
       "layout": "IPY_MODEL_9dccbbe239f345a2aba3ab703129c6c0",
       "max": 100.0,
       "min": 0.0,
       "orientation": "horizontal",
       "style": "IPY_MODEL_7b03bb5b335846b68b300cb3c2d37a8a",
       "tabbable": null,
       "tooltip": null,
       "value": 100.0
      }
     },
     "a4494feaf0a949428470b6ff1d2b1674": {
      "model_module": "@jupyter-widgets/base",
      "model_module_version": "2.0.0",
      "model_name": "LayoutModel",
      "state": {
       "_model_module": "@jupyter-widgets/base",
       "_model_module_version": "2.0.0",
       "_model_name": "LayoutModel",
       "_view_count": null,
       "_view_module": "@jupyter-widgets/base",
       "_view_module_version": "2.0.0",
       "_view_name": "LayoutView",
       "align_content": null,
       "align_items": null,
       "align_self": null,
       "border_bottom": null,
       "border_left": null,
       "border_right": null,
       "border_top": null,
       "bottom": null,
       "display": null,
       "flex": null,
       "flex_flow": null,
       "grid_area": null,
       "grid_auto_columns": null,
       "grid_auto_flow": null,
       "grid_auto_rows": null,
       "grid_column": null,
       "grid_gap": null,
       "grid_row": null,
       "grid_template_areas": null,
       "grid_template_columns": null,
       "grid_template_rows": null,
       "height": null,
       "justify_content": null,
       "justify_items": null,
       "left": null,
       "margin": null,
       "max_height": null,
       "max_width": null,
       "min_height": null,
       "min_width": null,
       "object_fit": null,
       "object_position": null,
       "order": null,
       "overflow": null,
       "padding": null,
       "right": null,
       "top": null,
       "visibility": null,
       "width": null
      }
     },
     "abacda7f074c4b978102d6c360428d2e": {
      "model_module": "@jupyter-widgets/controls",
      "model_module_version": "2.0.0",
      "model_name": "HBoxModel",
      "state": {
       "_dom_classes": [],
       "_model_module": "@jupyter-widgets/controls",
       "_model_module_version": "2.0.0",
       "_model_name": "HBoxModel",
       "_view_count": null,
       "_view_module": "@jupyter-widgets/controls",
       "_view_module_version": "2.0.0",
       "_view_name": "HBoxView",
       "box_style": "",
       "children": [
        "IPY_MODEL_9197e1dfe69d448b9d633be951d07afc",
        "IPY_MODEL_33e1c0f7da70406189ce1eefbcbfe689",
        "IPY_MODEL_86954f877d2b4f92982598103e86bcaa"
       ],
       "layout": "IPY_MODEL_f1578d620c6947b4a65ab0afa1d26fe5",
       "tabbable": null,
       "tooltip": null
      }
     },
     "af09222a8f5c4a5586be124ca7c3326d": {
      "model_module": "@jupyter-widgets/controls",
      "model_module_version": "2.0.0",
      "model_name": "ProgressStyleModel",
      "state": {
       "_model_module": "@jupyter-widgets/controls",
       "_model_module_version": "2.0.0",
       "_model_name": "ProgressStyleModel",
       "_view_count": null,
       "_view_module": "@jupyter-widgets/base",
       "_view_module_version": "2.0.0",
       "_view_name": "StyleView",
       "bar_color": "#46327e",
       "description_width": ""
      }
     },
     "b412eded43d94e63bb05c63459e9a6db": {
      "model_module": "@jupyter-widgets/controls",
      "model_module_version": "2.0.0",
      "model_name": "HTMLStyleModel",
      "state": {
       "_model_module": "@jupyter-widgets/controls",
       "_model_module_version": "2.0.0",
       "_model_name": "HTMLStyleModel",
       "_view_count": null,
       "_view_module": "@jupyter-widgets/base",
       "_view_module_version": "2.0.0",
       "_view_name": "StyleView",
       "background": null,
       "description_width": "",
       "font_size": null,
       "text_color": null
      }
     },
     "bf89bfed68bc45c6a75780c241e5075c": {
      "model_module": "@jupyter-widgets/base",
      "model_module_version": "2.0.0",
      "model_name": "LayoutModel",
      "state": {
       "_model_module": "@jupyter-widgets/base",
       "_model_module_version": "2.0.0",
       "_model_name": "LayoutModel",
       "_view_count": null,
       "_view_module": "@jupyter-widgets/base",
       "_view_module_version": "2.0.0",
       "_view_name": "LayoutView",
       "align_content": null,
       "align_items": null,
       "align_self": null,
       "border_bottom": null,
       "border_left": null,
       "border_right": null,
       "border_top": null,
       "bottom": null,
       "display": null,
       "flex": null,
       "flex_flow": null,
       "grid_area": null,
       "grid_auto_columns": null,
       "grid_auto_flow": null,
       "grid_auto_rows": null,
       "grid_column": null,
       "grid_gap": null,
       "grid_row": null,
       "grid_template_areas": null,
       "grid_template_columns": null,
       "grid_template_rows": null,
       "height": null,
       "justify_content": null,
       "justify_items": null,
       "left": null,
       "margin": null,
       "max_height": null,
       "max_width": null,
       "min_height": null,
       "min_width": null,
       "object_fit": null,
       "object_position": null,
       "order": null,
       "overflow": null,
       "padding": null,
       "right": null,
       "top": null,
       "visibility": null,
       "width": null
      }
     },
     "c6f999471d7e4defa40ea65f1b6d071d": {
      "model_module": "@jupyter-widgets/controls",
      "model_module_version": "2.0.0",
      "model_name": "HTMLModel",
      "state": {
       "_dom_classes": [],
       "_model_module": "@jupyter-widgets/controls",
       "_model_module_version": "2.0.0",
       "_model_name": "HTMLModel",
       "_view_count": null,
       "_view_module": "@jupyter-widgets/controls",
       "_view_module_version": "2.0.0",
       "_view_name": "HTMLView",
       "description": "",
       "description_allow_html": false,
       "layout": "IPY_MODEL_2709b47ac5674a55a460c841874c29b6",
       "placeholder": "​",
       "style": "IPY_MODEL_6f778b90174e4f869fc7dfb692416806",
       "tabbable": null,
       "tooltip": null,
       "value": "Propagating errors: 100%"
      }
     },
     "c990c351558a44feaa0bb2f748204f0f": {
      "model_module": "@jupyter-widgets/base",
      "model_module_version": "2.0.0",
      "model_name": "LayoutModel",
      "state": {
       "_model_module": "@jupyter-widgets/base",
       "_model_module_version": "2.0.0",
       "_model_name": "LayoutModel",
       "_view_count": null,
       "_view_module": "@jupyter-widgets/base",
       "_view_module_version": "2.0.0",
       "_view_name": "LayoutView",
       "align_content": null,
       "align_items": null,
       "align_self": null,
       "border_bottom": null,
       "border_left": null,
       "border_right": null,
       "border_top": null,
       "bottom": null,
       "display": null,
       "flex": null,
       "flex_flow": null,
       "grid_area": null,
       "grid_auto_columns": null,
       "grid_auto_flow": null,
       "grid_auto_rows": null,
       "grid_column": null,
       "grid_gap": null,
       "grid_row": null,
       "grid_template_areas": null,
       "grid_template_columns": null,
       "grid_template_rows": null,
       "height": null,
       "justify_content": null,
       "justify_items": null,
       "left": null,
       "margin": null,
       "max_height": null,
       "max_width": null,
       "min_height": null,
       "min_width": null,
       "object_fit": null,
       "object_position": null,
       "order": null,
       "overflow": null,
       "padding": null,
       "right": null,
       "top": null,
       "visibility": null,
       "width": null
      }
     },
     "cc9802c461b848e2aa2faa49a81122b0": {
      "model_module": "@jupyter-widgets/base",
      "model_module_version": "2.0.0",
      "model_name": "LayoutModel",
      "state": {
       "_model_module": "@jupyter-widgets/base",
       "_model_module_version": "2.0.0",
       "_model_name": "LayoutModel",
       "_view_count": null,
       "_view_module": "@jupyter-widgets/base",
       "_view_module_version": "2.0.0",
       "_view_name": "LayoutView",
       "align_content": null,
       "align_items": null,
       "align_self": null,
       "border_bottom": null,
       "border_left": null,
       "border_right": null,
       "border_top": null,
       "bottom": null,
       "display": null,
       "flex": null,
       "flex_flow": null,
       "grid_area": null,
       "grid_auto_columns": null,
       "grid_auto_flow": null,
       "grid_auto_rows": null,
       "grid_column": null,
       "grid_gap": null,
       "grid_row": null,
       "grid_template_areas": null,
       "grid_template_columns": null,
       "grid_template_rows": null,
       "height": null,
       "justify_content": null,
       "justify_items": null,
       "left": null,
       "margin": null,
       "max_height": null,
       "max_width": null,
       "min_height": null,
       "min_width": null,
       "object_fit": null,
       "object_position": null,
       "order": null,
       "overflow": null,
       "padding": null,
       "right": null,
       "top": null,
       "visibility": null,
       "width": null
      }
     },
     "ce4e0cebc0964632b8c9f87a533c6500": {
      "model_module": "@jupyter-widgets/base",
      "model_module_version": "2.0.0",
      "model_name": "LayoutModel",
      "state": {
       "_model_module": "@jupyter-widgets/base",
       "_model_module_version": "2.0.0",
       "_model_name": "LayoutModel",
       "_view_count": null,
       "_view_module": "@jupyter-widgets/base",
       "_view_module_version": "2.0.0",
       "_view_name": "LayoutView",
       "align_content": null,
       "align_items": null,
       "align_self": null,
       "border_bottom": null,
       "border_left": null,
       "border_right": null,
       "border_top": null,
       "bottom": null,
       "display": null,
       "flex": null,
       "flex_flow": null,
       "grid_area": null,
       "grid_auto_columns": null,
       "grid_auto_flow": null,
       "grid_auto_rows": null,
       "grid_column": null,
       "grid_gap": null,
       "grid_row": null,
       "grid_template_areas": null,
       "grid_template_columns": null,
       "grid_template_rows": null,
       "height": null,
       "justify_content": null,
       "justify_items": null,
       "left": null,
       "margin": null,
       "max_height": null,
       "max_width": null,
       "min_height": null,
       "min_width": null,
       "object_fit": null,
       "object_position": null,
       "order": null,
       "overflow": null,
       "padding": null,
       "right": null,
       "top": null,
       "visibility": null,
       "width": null
      }
     },
     "d2488bac34f6478aa9d47ebb7d736c30": {
      "model_module": "@jupyter-widgets/base",
      "model_module_version": "2.0.0",
      "model_name": "LayoutModel",
      "state": {
       "_model_module": "@jupyter-widgets/base",
       "_model_module_version": "2.0.0",
       "_model_name": "LayoutModel",
       "_view_count": null,
       "_view_module": "@jupyter-widgets/base",
       "_view_module_version": "2.0.0",
       "_view_name": "LayoutView",
       "align_content": null,
       "align_items": null,
       "align_self": null,
       "border_bottom": null,
       "border_left": null,
       "border_right": null,
       "border_top": null,
       "bottom": null,
       "display": null,
       "flex": "2",
       "flex_flow": null,
       "grid_area": null,
       "grid_auto_columns": null,
       "grid_auto_flow": null,
       "grid_auto_rows": null,
       "grid_column": null,
       "grid_gap": null,
       "grid_row": null,
       "grid_template_areas": null,
       "grid_template_columns": null,
       "grid_template_rows": null,
       "height": null,
       "justify_content": null,
       "justify_items": null,
       "left": null,
       "margin": null,
       "max_height": null,
       "max_width": null,
       "min_height": null,
       "min_width": null,
       "object_fit": null,
       "object_position": null,
       "order": null,
       "overflow": null,
       "padding": null,
       "right": null,
       "top": null,
       "visibility": null,
       "width": null
      }
     },
     "de1cd41bb7e540fd92c645d8295477af": {
      "model_module": "@jupyter-widgets/base",
      "model_module_version": "2.0.0",
      "model_name": "LayoutModel",
      "state": {
       "_model_module": "@jupyter-widgets/base",
       "_model_module_version": "2.0.0",
       "_model_name": "LayoutModel",
       "_view_count": null,
       "_view_module": "@jupyter-widgets/base",
       "_view_module_version": "2.0.0",
       "_view_name": "LayoutView",
       "align_content": null,
       "align_items": null,
       "align_self": null,
       "border_bottom": null,
       "border_left": null,
       "border_right": null,
       "border_top": null,
       "bottom": null,
       "display": null,
       "flex": "2",
       "flex_flow": null,
       "grid_area": null,
       "grid_auto_columns": null,
       "grid_auto_flow": null,
       "grid_auto_rows": null,
       "grid_column": null,
       "grid_gap": null,
       "grid_row": null,
       "grid_template_areas": null,
       "grid_template_columns": null,
       "grid_template_rows": null,
       "height": null,
       "justify_content": null,
       "justify_items": null,
       "left": null,
       "margin": null,
       "max_height": null,
       "max_width": null,
       "min_height": null,
       "min_width": null,
       "object_fit": null,
       "object_position": null,
       "order": null,
       "overflow": null,
       "padding": null,
       "right": null,
       "top": null,
       "visibility": null,
       "width": null
      }
     },
     "e0321315e5fc4ae7add2e9d50f094f99": {
      "model_module": "@jupyter-widgets/base",
      "model_module_version": "2.0.0",
      "model_name": "LayoutModel",
      "state": {
       "_model_module": "@jupyter-widgets/base",
       "_model_module_version": "2.0.0",
       "_model_name": "LayoutModel",
       "_view_count": null,
       "_view_module": "@jupyter-widgets/base",
       "_view_module_version": "2.0.0",
       "_view_name": "LayoutView",
       "align_content": null,
       "align_items": null,
       "align_self": null,
       "border_bottom": null,
       "border_left": null,
       "border_right": null,
       "border_top": null,
       "bottom": null,
       "display": "inline-flex",
       "flex": null,
       "flex_flow": "row wrap",
       "grid_area": null,
       "grid_auto_columns": null,
       "grid_auto_flow": null,
       "grid_auto_rows": null,
       "grid_column": null,
       "grid_gap": null,
       "grid_row": null,
       "grid_template_areas": null,
       "grid_template_columns": null,
       "grid_template_rows": null,
       "height": null,
       "justify_content": null,
       "justify_items": null,
       "left": null,
       "margin": null,
       "max_height": null,
       "max_width": null,
       "min_height": null,
       "min_width": null,
       "object_fit": null,
       "object_position": null,
       "order": null,
       "overflow": null,
       "padding": null,
       "right": null,
       "top": null,
       "visibility": null,
       "width": "100%"
      }
     },
     "e4540a5b59024c9fa4b76c83f515ac25": {
      "model_module": "@jupyter-widgets/controls",
      "model_module_version": "2.0.0",
      "model_name": "HTMLStyleModel",
      "state": {
       "_model_module": "@jupyter-widgets/controls",
       "_model_module_version": "2.0.0",
       "_model_name": "HTMLStyleModel",
       "_view_count": null,
       "_view_module": "@jupyter-widgets/base",
       "_view_module_version": "2.0.0",
       "_view_name": "StyleView",
       "background": null,
       "description_width": "",
       "font_size": null,
       "text_color": null
      }
     },
     "e5ddbf95e78e45f3b8444330bc85184d": {
      "model_module": "@jupyter-widgets/controls",
      "model_module_version": "2.0.0",
      "model_name": "HTMLStyleModel",
      "state": {
       "_model_module": "@jupyter-widgets/controls",
       "_model_module_version": "2.0.0",
       "_model_name": "HTMLStyleModel",
       "_view_count": null,
       "_view_module": "@jupyter-widgets/base",
       "_view_module_version": "2.0.0",
       "_view_name": "StyleView",
       "background": null,
       "description_width": "",
       "font_size": null,
       "text_color": null
      }
     },
     "e906a46330114d6c89c0432d6869069a": {
      "model_module": "@jupyter-widgets/controls",
      "model_module_version": "2.0.0",
      "model_name": "HBoxModel",
      "state": {
       "_dom_classes": [],
       "_model_module": "@jupyter-widgets/controls",
       "_model_module_version": "2.0.0",
       "_model_name": "HBoxModel",
       "_view_count": null,
       "_view_module": "@jupyter-widgets/controls",
       "_view_module_version": "2.0.0",
       "_view_name": "HBoxView",
       "box_style": "",
       "children": [
        "IPY_MODEL_88322be78adf473aa7e54756afd5a6fa",
        "IPY_MODEL_ebf337b78d624c7bbbddefbf0145bf88",
        "IPY_MODEL_40ef456d3b4a443b9d1940fe1664d3c7"
       ],
       "layout": "IPY_MODEL_16390e4cad3448ce8ea4b03025bf3a80",
       "tabbable": null,
       "tooltip": null
      }
     },
     "ebf337b78d624c7bbbddefbf0145bf88": {
      "model_module": "@jupyter-widgets/controls",
      "model_module_version": "2.0.0",
      "model_name": "FloatProgressModel",
      "state": {
       "_dom_classes": [],
       "_model_module": "@jupyter-widgets/controls",
       "_model_module_version": "2.0.0",
       "_model_name": "FloatProgressModel",
       "_view_count": null,
       "_view_module": "@jupyter-widgets/controls",
       "_view_module_version": "2.0.0",
       "_view_name": "ProgressView",
       "bar_style": "success",
       "description": "",
       "description_allow_html": false,
       "layout": "IPY_MODEL_4bca84ad93754a6999b3dee0025b94fb",
       "max": 23040.0,
       "min": 0.0,
       "orientation": "horizontal",
       "style": "IPY_MODEL_af09222a8f5c4a5586be124ca7c3326d",
       "tabbable": null,
       "tooltip": null,
       "value": 23040.0
      }
     },
     "edef5a17492d4e459d821c97e19f96b9": {
      "model_module": "@jupyter-widgets/controls",
      "model_module_version": "2.0.0",
      "model_name": "HBoxModel",
      "state": {
       "_dom_classes": [],
       "_model_module": "@jupyter-widgets/controls",
       "_model_module_version": "2.0.0",
       "_model_name": "HBoxModel",
       "_view_count": null,
       "_view_module": "@jupyter-widgets/controls",
       "_view_module_version": "2.0.0",
       "_view_name": "HBoxView",
       "box_style": "",
       "children": [
        "IPY_MODEL_8e6d16d3bab64ea6aaa876c4dab762da",
        "IPY_MODEL_23466d0669d8409180d82c13c30a5f41",
        "IPY_MODEL_6724ddda87a14493a6d01d6912083a84"
       ],
       "layout": "IPY_MODEL_038ab2929dd54491babd885edea48f70",
       "tabbable": null,
       "tooltip": null
      }
     },
     "f1578d620c6947b4a65ab0afa1d26fe5": {
      "model_module": "@jupyter-widgets/base",
      "model_module_version": "2.0.0",
      "model_name": "LayoutModel",
      "state": {
       "_model_module": "@jupyter-widgets/base",
       "_model_module_version": "2.0.0",
       "_model_name": "LayoutModel",
       "_view_count": null,
       "_view_module": "@jupyter-widgets/base",
       "_view_module_version": "2.0.0",
       "_view_name": "LayoutView",
       "align_content": null,
       "align_items": null,
       "align_self": null,
       "border_bottom": null,
       "border_left": null,
       "border_right": null,
       "border_top": null,
       "bottom": null,
       "display": "inline-flex",
       "flex": null,
       "flex_flow": "row wrap",
       "grid_area": null,
       "grid_auto_columns": null,
       "grid_auto_flow": null,
       "grid_auto_rows": null,
       "grid_column": null,
       "grid_gap": null,
       "grid_row": null,
       "grid_template_areas": null,
       "grid_template_columns": null,
       "grid_template_rows": null,
       "height": null,
       "justify_content": null,
       "justify_items": null,
       "left": null,
       "margin": null,
       "max_height": null,
       "max_width": null,
       "min_height": null,
       "min_width": null,
       "object_fit": null,
       "object_position": null,
       "order": null,
       "overflow": null,
       "padding": null,
       "right": null,
       "top": null,
       "visibility": null,
       "width": "100%"
      }
     },
     "f1a35851ed43466cb2fced24bc0f1dc6": {
      "model_module": "@jupyter-widgets/controls",
      "model_module_version": "2.0.0",
      "model_name": "HBoxModel",
      "state": {
       "_dom_classes": [],
       "_model_module": "@jupyter-widgets/controls",
       "_model_module_version": "2.0.0",
       "_model_name": "HBoxModel",
       "_view_count": null,
       "_view_module": "@jupyter-widgets/controls",
       "_view_module_version": "2.0.0",
       "_view_name": "HBoxView",
       "box_style": "",
       "children": [
        "IPY_MODEL_f545841742d84412bbd514c3ff203592",
        "IPY_MODEL_026df8d83bbd47c5ac34bc0eb3852a60",
        "IPY_MODEL_23079b660a124271a2aba063762bce3e"
       ],
       "layout": "IPY_MODEL_e0321315e5fc4ae7add2e9d50f094f99",
       "tabbable": null,
       "tooltip": null
      }
     },
     "f3234b69a6f34a3e8765283eeba4b007": {
      "model_module": "@jupyter-widgets/controls",
      "model_module_version": "2.0.0",
      "model_name": "HTMLStyleModel",
      "state": {
       "_model_module": "@jupyter-widgets/controls",
       "_model_module_version": "2.0.0",
       "_model_name": "HTMLStyleModel",
       "_view_count": null,
       "_view_module": "@jupyter-widgets/base",
       "_view_module_version": "2.0.0",
       "_view_name": "StyleView",
       "background": null,
       "description_width": "",
       "font_size": null,
       "text_color": null
      }
     },
     "f545841742d84412bbd514c3ff203592": {
      "model_module": "@jupyter-widgets/controls",
      "model_module_version": "2.0.0",
      "model_name": "HTMLModel",
      "state": {
       "_dom_classes": [],
       "_model_module": "@jupyter-widgets/controls",
       "_model_module_version": "2.0.0",
       "_model_name": "HTMLModel",
       "_view_count": null,
       "_view_module": "@jupyter-widgets/controls",
       "_view_module_version": "2.0.0",
       "_view_name": "HTMLView",
       "description": "",
       "description_allow_html": false,
       "layout": "IPY_MODEL_f6c3077769f0496f860f453931ad49b0",
       "placeholder": "​",
       "style": "IPY_MODEL_e5ddbf95e78e45f3b8444330bc85184d",
       "tabbable": null,
       "tooltip": null,
       "value": "Propagating errors: 100%"
      }
     },
     "f6c3077769f0496f860f453931ad49b0": {
      "model_module": "@jupyter-widgets/base",
      "model_module_version": "2.0.0",
      "model_name": "LayoutModel",
      "state": {
       "_model_module": "@jupyter-widgets/base",
       "_model_module_version": "2.0.0",
       "_model_name": "LayoutModel",
       "_view_count": null,
       "_view_module": "@jupyter-widgets/base",
       "_view_module_version": "2.0.0",
       "_view_name": "LayoutView",
       "align_content": null,
       "align_items": null,
       "align_self": null,
       "border_bottom": null,
       "border_left": null,
       "border_right": null,
       "border_top": null,
       "bottom": null,
       "display": null,
       "flex": null,
       "flex_flow": null,
       "grid_area": null,
       "grid_auto_columns": null,
       "grid_auto_flow": null,
       "grid_auto_rows": null,
       "grid_column": null,
       "grid_gap": null,
       "grid_row": null,
       "grid_template_areas": null,
       "grid_template_columns": null,
       "grid_template_rows": null,
       "height": null,
       "justify_content": null,
       "justify_items": null,
       "left": null,
       "margin": null,
       "max_height": null,
       "max_width": null,
       "min_height": null,
       "min_width": null,
       "object_fit": null,
       "object_position": null,
       "order": null,
       "overflow": null,
       "padding": null,
       "right": null,
       "top": null,
       "visibility": null,
       "width": null
      }
     },
     "f818459f496f41ae8b863950bde64c4f": {
      "model_module": "@jupyter-widgets/controls",
      "model_module_version": "2.0.0",
      "model_name": "HBoxModel",
      "state": {
       "_dom_classes": [],
       "_model_module": "@jupyter-widgets/controls",
       "_model_module_version": "2.0.0",
       "_model_name": "HBoxModel",
       "_view_count": null,
       "_view_module": "@jupyter-widgets/controls",
       "_view_module_version": "2.0.0",
       "_view_name": "HBoxView",
       "box_style": "",
       "children": [
        "IPY_MODEL_c6f999471d7e4defa40ea65f1b6d071d",
        "IPY_MODEL_038f54b9b26d476f91d88dbe9e40615a",
        "IPY_MODEL_637bb14f50cf4cf298b72fca5dc2d4f2"
       ],
       "layout": "IPY_MODEL_fa52aff6d26a4dd2bc11df62a9b0e9c8",
       "tabbable": null,
       "tooltip": null
      }
     },
     "fa52aff6d26a4dd2bc11df62a9b0e9c8": {
      "model_module": "@jupyter-widgets/base",
      "model_module_version": "2.0.0",
      "model_name": "LayoutModel",
      "state": {
       "_model_module": "@jupyter-widgets/base",
       "_model_module_version": "2.0.0",
       "_model_name": "LayoutModel",
       "_view_count": null,
       "_view_module": "@jupyter-widgets/base",
       "_view_module_version": "2.0.0",
       "_view_name": "LayoutView",
       "align_content": null,
       "align_items": null,
       "align_self": null,
       "border_bottom": null,
       "border_left": null,
       "border_right": null,
       "border_top": null,
       "bottom": null,
       "display": "inline-flex",
       "flex": null,
       "flex_flow": "row wrap",
       "grid_area": null,
       "grid_auto_columns": null,
       "grid_auto_flow": null,
       "grid_auto_rows": null,
       "grid_column": null,
       "grid_gap": null,
       "grid_row": null,
       "grid_template_areas": null,
       "grid_template_columns": null,
       "grid_template_rows": null,
       "height": null,
       "justify_content": null,
       "justify_items": null,
       "left": null,
       "margin": null,
       "max_height": null,
       "max_width": null,
       "min_height": null,
       "min_width": null,
       "object_fit": null,
       "object_position": null,
       "order": null,
       "overflow": null,
       "padding": null,
       "right": null,
       "top": null,
       "visibility": null,
       "width": "100%"
      }
     },
     "fecf151580374d6d98dacfb78d3a1080": {
      "model_module": "@jupyter-widgets/controls",
      "model_module_version": "2.0.0",
      "model_name": "HTMLStyleModel",
      "state": {
       "_model_module": "@jupyter-widgets/controls",
       "_model_module_version": "2.0.0",
       "_model_name": "HTMLStyleModel",
       "_view_count": null,
       "_view_module": "@jupyter-widgets/base",
       "_view_module_version": "2.0.0",
       "_view_name": "StyleView",
       "background": null,
       "description_width": "",
       "font_size": null,
       "text_color": null
      }
     }
    },
    "version_major": 2,
    "version_minor": 0
   }
  }
 },
 "nbformat": 4,
 "nbformat_minor": 5
}
