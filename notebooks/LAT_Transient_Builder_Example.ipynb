{
 "cells": [
  {
   "cell_type": "markdown",
   "id": "aff8764f",
   "metadata": {},
   "source": [
    "# Analysis of GRB 190114C with Fermi-LAT"
   ]
  },
  {
   "cell_type": "code",
   "execution_count": 1,
   "id": "d4e9bb75",
   "metadata": {
    "execution": {
     "iopub.execute_input": "2024-06-01T00:10:29.514483Z",
     "iopub.status.busy": "2024-06-01T00:10:29.514148Z",
     "iopub.status.idle": "2024-06-01T00:10:34.011665Z",
     "shell.execute_reply": "2024-06-01T00:10:34.009848Z"
    },
    "lines_to_next_cell": 2
   },
   "outputs": [
    {
     "data": {
      "text/html": [
       "<pre style=\"white-space:pre;overflow-x:auto;line-height:normal;font-family:Menlo,'DejaVu Sans Mono',consolas,'Courier New',monospace\"><span style=\"color: #00ff00; text-decoration-color: #00ff00\">00:10:31 </span><span style=\"color: #af5fd7; text-decoration-color: #af5fd7\">WARNING </span> <span style=\"color: #c6c6c6; text-decoration-color: #c6c6c6; font-weight: bold\"> The naima package is not available. Models that depend on it will not be         </span><a href=\"file:///usr/local/miniconda/envs/test_env/lib/python3.9/site-packages/astromodels/functions/functions_1D/functions.py\" target=\"_blank\"><span style=\"color: #7f7f7f; text-decoration-color: #7f7f7f\">functions.py</span></a><span style=\"color: #7f7f7f; text-decoration-color: #7f7f7f\">:</span><a href=\"file:///usr/local/miniconda/envs/test_env/lib/python3.9/site-packages/astromodels/functions/functions_1D/functions.py#48\" target=\"_blank\"><span style=\"color: #7f7f7f; text-decoration-color: #7f7f7f\">48</span></a>\n",
       "<span style=\"color: #00ff00; text-decoration-color: #00ff00\">         </span>         <span style=\"color: #c6c6c6; text-decoration-color: #c6c6c6; font-weight: bold\">available                                                                         </span><span style=\"color: #7f7f7f; text-decoration-color: #7f7f7f\">               </span>\n",
       "</pre>\n"
      ],
      "text/plain": [
       "\u001b[38;5;46m00:10:31\u001b[0m\u001b[38;5;46m \u001b[0m\u001b[38;5;134mWARNING \u001b[0m \u001b[1;38;5;251m The naima package is not available. Models that depend on it will not be        \u001b[0m\u001b[1;38;5;251m \u001b[0m\u001b]8;id=130591;file:///usr/local/miniconda/envs/test_env/lib/python3.9/site-packages/astromodels/functions/functions_1D/functions.py\u001b\\\u001b[2mfunctions.py\u001b[0m\u001b]8;;\u001b\\\u001b[2m:\u001b[0m\u001b]8;id=962386;file:///usr/local/miniconda/envs/test_env/lib/python3.9/site-packages/astromodels/functions/functions_1D/functions.py#48\u001b\\\u001b[2m48\u001b[0m\u001b]8;;\u001b\\\n",
       "\u001b[38;5;46m         \u001b[0m         \u001b[1;38;5;251mavailable                                                                        \u001b[0m\u001b[1;38;5;251m \u001b[0m\u001b[2m               \u001b[0m\n"
      ]
     },
     "metadata": {},
     "output_type": "display_data"
    },
    {
     "data": {
      "text/html": [
       "<pre style=\"white-space:pre;overflow-x:auto;line-height:normal;font-family:Menlo,'DejaVu Sans Mono',consolas,'Courier New',monospace\"><span style=\"color: #00ff00; text-decoration-color: #00ff00\">         </span><span style=\"color: #af5fd7; text-decoration-color: #af5fd7\">WARNING </span> <span style=\"color: #c6c6c6; text-decoration-color: #c6c6c6; font-weight: bold\"> The GSL library or the pygsl wrapper cannot be loaded. Models that depend on it  </span><a href=\"file:///usr/local/miniconda/envs/test_env/lib/python3.9/site-packages/astromodels/functions/functions_1D/functions.py\" target=\"_blank\"><span style=\"color: #7f7f7f; text-decoration-color: #7f7f7f\">functions.py</span></a><span style=\"color: #7f7f7f; text-decoration-color: #7f7f7f\">:</span><a href=\"file:///usr/local/miniconda/envs/test_env/lib/python3.9/site-packages/astromodels/functions/functions_1D/functions.py#69\" target=\"_blank\"><span style=\"color: #7f7f7f; text-decoration-color: #7f7f7f\">69</span></a>\n",
       "<span style=\"color: #00ff00; text-decoration-color: #00ff00\">         </span>         <span style=\"color: #c6c6c6; text-decoration-color: #c6c6c6; font-weight: bold\">will not be available.                                                            </span><span style=\"color: #7f7f7f; text-decoration-color: #7f7f7f\">               </span>\n",
       "</pre>\n"
      ],
      "text/plain": [
       "\u001b[38;5;46m        \u001b[0m\u001b[38;5;46m \u001b[0m\u001b[38;5;134mWARNING \u001b[0m \u001b[1;38;5;251m The GSL library or the pygsl wrapper cannot be loaded. Models that depend on it \u001b[0m\u001b[1;38;5;251m \u001b[0m\u001b]8;id=113442;file:///usr/local/miniconda/envs/test_env/lib/python3.9/site-packages/astromodels/functions/functions_1D/functions.py\u001b\\\u001b[2mfunctions.py\u001b[0m\u001b]8;;\u001b\\\u001b[2m:\u001b[0m\u001b]8;id=170325;file:///usr/local/miniconda/envs/test_env/lib/python3.9/site-packages/astromodels/functions/functions_1D/functions.py#69\u001b\\\u001b[2m69\u001b[0m\u001b]8;;\u001b\\\n",
       "\u001b[38;5;46m         \u001b[0m         \u001b[1;38;5;251mwill not be available.                                                           \u001b[0m\u001b[1;38;5;251m \u001b[0m\u001b[2m               \u001b[0m\n"
      ]
     },
     "metadata": {},
     "output_type": "display_data"
    },
    {
     "data": {
      "text/html": [
       "<pre style=\"white-space:pre;overflow-x:auto;line-height:normal;font-family:Menlo,'DejaVu Sans Mono',consolas,'Courier New',monospace\"><span style=\"color: #00ff00; text-decoration-color: #00ff00\">00:10:32 </span><span style=\"color: #af5fd7; text-decoration-color: #af5fd7\">WARNING </span> <span style=\"color: #c6c6c6; text-decoration-color: #c6c6c6; font-weight: bold\"> The ebltable package is not available. Models that depend on it will not be     </span><a href=\"file:///usr/local/miniconda/envs/test_env/lib/python3.9/site-packages/astromodels/functions/functions_1D/absorption.py\" target=\"_blank\"><span style=\"color: #7f7f7f; text-decoration-color: #7f7f7f\">absorption.py</span></a><span style=\"color: #7f7f7f; text-decoration-color: #7f7f7f\">:</span><a href=\"file:///usr/local/miniconda/envs/test_env/lib/python3.9/site-packages/astromodels/functions/functions_1D/absorption.py#33\" target=\"_blank\"><span style=\"color: #7f7f7f; text-decoration-color: #7f7f7f\">33</span></a>\n",
       "<span style=\"color: #00ff00; text-decoration-color: #00ff00\">         </span>         <span style=\"color: #c6c6c6; text-decoration-color: #c6c6c6; font-weight: bold\">available                                                                        </span><span style=\"color: #7f7f7f; text-decoration-color: #7f7f7f\">                </span>\n",
       "</pre>\n"
      ],
      "text/plain": [
       "\u001b[38;5;46m00:10:32\u001b[0m\u001b[38;5;46m \u001b[0m\u001b[38;5;134mWARNING \u001b[0m \u001b[1;38;5;251m The ebltable package is not available. Models that depend on it will not be    \u001b[0m\u001b[1;38;5;251m \u001b[0m\u001b]8;id=921729;file:///usr/local/miniconda/envs/test_env/lib/python3.9/site-packages/astromodels/functions/functions_1D/absorption.py\u001b\\\u001b[2mabsorption.py\u001b[0m\u001b]8;;\u001b\\\u001b[2m:\u001b[0m\u001b]8;id=814928;file:///usr/local/miniconda/envs/test_env/lib/python3.9/site-packages/astromodels/functions/functions_1D/absorption.py#33\u001b\\\u001b[2m33\u001b[0m\u001b]8;;\u001b\\\n",
       "\u001b[38;5;46m         \u001b[0m         \u001b[1;38;5;251mavailable                                                                       \u001b[0m\u001b[1;38;5;251m \u001b[0m\u001b[2m                \u001b[0m\n"
      ]
     },
     "metadata": {},
     "output_type": "display_data"
    },
    {
     "data": {
      "text/html": [
       "<pre style=\"white-space:pre;overflow-x:auto;line-height:normal;font-family:Menlo,'DejaVu Sans Mono',consolas,'Courier New',monospace\"><span style=\"color: #00ff00; text-decoration-color: #00ff00\">00:10:33 </span><span style=\"color: #ff0000; text-decoration-color: #ff0000; font-weight: bold\">ERROR   </span> <span style=\"color: #c6c6c6; text-decoration-color: #c6c6c6; font-weight: bold\"> error                                                                           </span><a href=\"file:///var/folders/dg/ntz3m8yx7nz375nbbkd59r3c0000gn/T/ipykernel_48795/3699701126.py\" target=\"_blank\"><span style=\"color: #7f7f7f; text-decoration-color: #7f7f7f\">3699701126.py</span></a><span style=\"color: #7f7f7f; text-decoration-color: #7f7f7f\">:</span><a href=\"file:///var/folders/dg/ntz3m8yx7nz375nbbkd59r3c0000gn/T/ipykernel_48795/3699701126.py#29\" target=\"_blank\"><span style=\"color: #7f7f7f; text-decoration-color: #7f7f7f\">29</span></a>\n",
       "</pre>\n"
      ],
      "text/plain": [
       "\u001b[38;5;46m00:10:33\u001b[0m\u001b[38;5;46m \u001b[0m\u001b[1;5;91mERROR   \u001b[0m \u001b[1;38;5;251m error                                                                          \u001b[0m\u001b[1;38;5;251m \u001b[0m\u001b]8;id=542055;file:///var/folders/dg/ntz3m8yx7nz375nbbkd59r3c0000gn/T/ipykernel_48795/3699701126.py\u001b\\\u001b[2m3699701126.py\u001b[0m\u001b]8;;\u001b\\\u001b[2m:\u001b[0m\u001b]8;id=823658;file:///var/folders/dg/ntz3m8yx7nz375nbbkd59r3c0000gn/T/ipykernel_48795/3699701126.py#29\u001b\\\u001b[2m29\u001b[0m\u001b]8;;\u001b\\\n"
      ]
     },
     "metadata": {},
     "output_type": "display_data"
    },
    {
     "data": {
      "text/html": [
       "<pre style=\"white-space:pre;overflow-x:auto;line-height:normal;font-family:Menlo,'DejaVu Sans Mono',consolas,'Courier New',monospace\"><span style=\"color: #00ff00; text-decoration-color: #00ff00\">00:10:34 </span><span style=\"color: #00ffaf; text-decoration-color: #00ffaf\">INFO    </span> <span style=\"color: #c6c6c6; text-decoration-color: #c6c6c6; font-weight: bold\"> info                                                                            </span><a href=\"file:///var/folders/dg/ntz3m8yx7nz375nbbkd59r3c0000gn/T/ipykernel_48795/3699701126.py\" target=\"_blank\"><span style=\"color: #7f7f7f; text-decoration-color: #7f7f7f\">3699701126.py</span></a><span style=\"color: #7f7f7f; text-decoration-color: #7f7f7f\">:</span><a href=\"file:///var/folders/dg/ntz3m8yx7nz375nbbkd59r3c0000gn/T/ipykernel_48795/3699701126.py#30\" target=\"_blank\"><span style=\"color: #7f7f7f; text-decoration-color: #7f7f7f\">30</span></a>\n",
       "</pre>\n"
      ],
      "text/plain": [
       "\u001b[38;5;46m00:10:34\u001b[0m\u001b[38;5;46m \u001b[0m\u001b[38;5;49mINFO    \u001b[0m \u001b[1;38;5;251m info                                                                           \u001b[0m\u001b[1;38;5;251m \u001b[0m\u001b]8;id=627527;file:///var/folders/dg/ntz3m8yx7nz375nbbkd59r3c0000gn/T/ipykernel_48795/3699701126.py\u001b\\\u001b[2m3699701126.py\u001b[0m\u001b]8;;\u001b\\\u001b[2m:\u001b[0m\u001b]8;id=741760;file:///var/folders/dg/ntz3m8yx7nz375nbbkd59r3c0000gn/T/ipykernel_48795/3699701126.py#30\u001b\\\u001b[2m30\u001b[0m\u001b]8;;\u001b\\\n"
      ]
     },
     "metadata": {},
     "output_type": "display_data"
    }
   ],
   "source": [
    "import matplotlib.pyplot as plt\n",
    "\n",
    "import numpy as np\n",
    "import scipy as sp\n",
    "\n",
    "np.seterr(all=\"ignore\")\n",
    "\n",
    "from threeML import *\n",
    "from threeML.io.package_data import get_path_of_data_file\n",
    "from threeML.io import update_logging_level\n",
    "from threeML.utils.data_download.Fermi_LAT.download_LAT_data import LAT_dataset\n",
    "from astropy.io import fits as pyfits\n",
    "\n",
    "SMALL_SIZE = 15\n",
    "MEDIUM_SIZE = 15\n",
    "BIGGER_SIZE = 20\n",
    "\n",
    "plt.rc(\"font\", size=SMALL_SIZE)  # controls default text sizes\n",
    "plt.rc(\"axes\", titlesize=SMALL_SIZE)  # fontsize of the axes title\n",
    "plt.rc(\"axes\", labelsize=MEDIUM_SIZE)  # fontsize of the x and y labels\n",
    "plt.rc(\"xtick\", labelsize=SMALL_SIZE)  # fontsize of the tick labels\n",
    "plt.rc(\"ytick\", labelsize=SMALL_SIZE)  # fontsize of the tick labels\n",
    "plt.rc(\"legend\", fontsize=SMALL_SIZE)  # legend fontsize\n",
    "plt.rc(\"figure\", titlesize=BIGGER_SIZE)  # fontsize of the figure title\n",
    "\n",
    "\n",
    "# This if you want to toggle different type of logging level.\n",
    "update_logging_level(\"INFO\")\n",
    "log.error(\"error\")\n",
    "log.info(\"info\")\n",
    "log.debug(\"debug\")"
   ]
  },
  {
   "cell_type": "markdown",
   "id": "fa8365d1",
   "metadata": {},
   "source": [
    "## GtBurst\n",
    "Gtburst contains all the classes and methods to perform Fermi LAT data. It internally uses the official fermitools software. Here an example to list the IRFS available:\n"
   ]
  },
  {
   "cell_type": "code",
   "execution_count": 2,
   "id": "27f0ffbd",
   "metadata": {
    "execution": {
     "iopub.execute_input": "2024-06-01T00:10:34.019988Z",
     "iopub.status.busy": "2024-06-01T00:10:34.018483Z",
     "iopub.status.idle": "2024-06-01T00:10:34.026651Z",
     "shell.execute_reply": "2024-06-01T00:10:34.025233Z"
    }
   },
   "outputs": [
    {
     "name": "stdout",
     "output_type": "stream",
     "text": [
      "odict_keys(['p7rep_transient', 'p7rep_source', 'p7rep_clean', 'p7rep_ultraclean', 'p8r2_transient100e', 'p8r2_transient100', 'p8r2_transient020e', 'p8r2_transient020', 'p8r2_transient010e', 'p8r2_transient010', 'p8r2_source', 'p8r2_clean', 'p8r2_ultraclean', 'p8r2_ultracleanveto', 'p8r2_transient100s', 'p8r2_transient015s', 'p8_transient100e', 'p8_transient100', 'p8_transient020e', 'p8_transient020', 'p8_transient010e', 'p8_transient010', 'p8_source', 'p8_clean', 'p8_ultraclean', 'p8_ultracleanveto', 'p8_sourceveto', 'p8_transient100s', 'p8_transient015s'])\n"
     ]
    }
   ],
   "source": [
    "from GtBurst import IRFS\n",
    "\n",
    "irfs = IRFS.IRFS.keys()\n",
    "print(irfs)"
   ]
  },
  {
   "cell_type": "markdown",
   "id": "caea09ff",
   "metadata": {},
   "source": [
    "## The LAT Transient Builder\n",
    "Let's see how to make a plug in for the unbinned analysis of Fermi LAT data. First we use the information form a triggered GRB to obtain MET, RA and DEC, that are needed for the analysis.\n"
   ]
  },
  {
   "cell_type": "code",
   "execution_count": 3,
   "id": "183863dc",
   "metadata": {
    "execution": {
     "iopub.execute_input": "2024-06-01T00:10:34.031941Z",
     "iopub.status.busy": "2024-06-01T00:10:34.031539Z",
     "iopub.status.idle": "2024-06-01T00:10:34.053020Z",
     "shell.execute_reply": "2024-06-01T00:10:34.051669Z"
    }
   },
   "outputs": [],
   "source": [
    "from GtBurst.TriggerSelector import TriggerSelector\n",
    "\n",
    "myFavoriteGRB = \"bn190114873\"\n",
    "\n",
    "\n",
    "def findGRB(grb_name):\n",
    "    a = TriggerSelector()\n",
    "    a.downloadList()\n",
    "    myGRB = {}\n",
    "    for x in a.data:\n",
    "        if x[0] == myFavoriteGRB:\n",
    "            myGRB[\"MET\"] = float(x[1])\n",
    "            myGRB[\"RA\"] = float(x[3])\n",
    "            myGRB[\"DEC\"] = float(x[4])\n",
    "            myGRB[\"ERR\"] = float(x[5])\n",
    "            return myGRB\n",
    "            pass\n",
    "    return None"
   ]
  },
  {
   "cell_type": "code",
   "execution_count": 4,
   "id": "fb2f9856",
   "metadata": {
    "execution": {
     "iopub.execute_input": "2024-06-01T00:10:34.058611Z",
     "iopub.status.busy": "2024-06-01T00:10:34.058320Z",
     "iopub.status.idle": "2024-06-01T00:10:49.610154Z",
     "shell.execute_reply": "2024-06-01T00:10:49.607421Z"
    }
   },
   "outputs": [
    {
     "name": "stdout",
     "output_type": "stream",
     "text": [
      "{'MET': 569192227.626, 'RA': 54.51, 'DEC': -26.939, 'ERR': 0.05}\n"
     ]
    }
   ],
   "source": [
    "myGRB = findGRB(myFavoriteGRB)\n",
    "print(myGRB)"
   ]
  },
  {
   "cell_type": "markdown",
   "id": "16b38a41",
   "metadata": {},
   "source": [
    "Then, we download LAT data and we build the transient builder, we want to analyze 1000 seconds since the trigger. Let's start download the data:\n"
   ]
  },
  {
   "cell_type": "code",
   "execution_count": 5,
   "id": "4c2e6844",
   "metadata": {
    "execution": {
     "iopub.execute_input": "2024-06-01T00:10:49.616010Z",
     "iopub.status.busy": "2024-06-01T00:10:49.615690Z",
     "iopub.status.idle": "2024-06-01T00:10:49.620923Z",
     "shell.execute_reply": "2024-06-01T00:10:49.619811Z"
    },
    "lines_to_next_cell": 2
   },
   "outputs": [],
   "source": [
    "tstart = 0\n",
    "tstop = 1000"
   ]
  },
  {
   "cell_type": "code",
   "execution_count": 6,
   "id": "96039006",
   "metadata": {
    "execution": {
     "iopub.execute_input": "2024-06-01T00:10:49.626212Z",
     "iopub.status.busy": "2024-06-01T00:10:49.625930Z",
     "iopub.status.idle": "2024-06-01T00:11:04.983191Z",
     "shell.execute_reply": "2024-06-01T00:11:04.981597Z"
    }
   },
   "outputs": [
    {
     "data": {
      "text/html": [
       "<pre style=\"white-space:pre;overflow-x:auto;line-height:normal;font-family:Menlo,'DejaVu Sans Mono',consolas,'Courier New',monospace\"><span style=\"color: #00ff00; text-decoration-color: #00ff00\">00:10:49 </span><span style=\"color: #00ffaf; text-decoration-color: #00ffaf\">INFO    </span> <span style=\"color: #c6c6c6; text-decoration-color: #c6c6c6; font-weight: bold\"> Query parameters:                                                       </span><a href=\"file:///Users/runner/work/threeML/threeML/threeML/utils/data_download/Fermi_LAT/download_LAT_data.py\" target=\"_blank\"><span style=\"color: #7f7f7f; text-decoration-color: #7f7f7f\">download_LAT_data.py</span></a><span style=\"color: #7f7f7f; text-decoration-color: #7f7f7f\">:</span><a href=\"file:///Users/runner/work/threeML/threeML/threeML/utils/data_download/Fermi_LAT/download_LAT_data.py#262\" target=\"_blank\"><span style=\"color: #7f7f7f; text-decoration-color: #7f7f7f\">262</span></a>\n",
       "</pre>\n"
      ],
      "text/plain": [
       "\u001b[38;5;46m00:10:49\u001b[0m\u001b[38;5;46m \u001b[0m\u001b[38;5;49mINFO    \u001b[0m \u001b[1;38;5;251m Query parameters:                                                      \u001b[0m\u001b[1;38;5;251m \u001b[0m\u001b]8;id=711487;file:///Users/runner/work/threeML/threeML/threeML/utils/data_download/Fermi_LAT/download_LAT_data.py\u001b\\\u001b[2mdownload_LAT_data.py\u001b[0m\u001b]8;;\u001b\\\u001b[2m:\u001b[0m\u001b]8;id=797026;file:///Users/runner/work/threeML/threeML/threeML/utils/data_download/Fermi_LAT/download_LAT_data.py#262\u001b\\\u001b[2m262\u001b[0m\u001b]8;;\u001b\\\n"
      ]
     },
     "metadata": {},
     "output_type": "display_data"
    },
    {
     "data": {
      "text/html": [
       "<pre style=\"white-space:pre;overflow-x:auto;line-height:normal;font-family:Menlo,'DejaVu Sans Mono',consolas,'Courier New',monospace\"><span style=\"color: #00ff00; text-decoration-color: #00ff00\">         </span><span style=\"color: #00ffaf; text-decoration-color: #00ffaf\">INFO    </span> <span style=\"color: #c6c6c6; text-decoration-color: #c6c6c6; font-weight: bold\">                     coordfield = </span><span style=\"color: #c0c0c0; text-decoration-color: #c0c0c0; font-weight: bold\">54.5100</span><span style=\"color: #c6c6c6; text-decoration-color: #c6c6c6; font-weight: bold\">,</span><span style=\"color: #c0c0c0; text-decoration-color: #c0c0c0; font-weight: bold\">-26.9390</span><span style=\"color: #c6c6c6; text-decoration-color: #c6c6c6; font-weight: bold\">                       </span><a href=\"file:///Users/runner/work/threeML/threeML/threeML/utils/data_download/Fermi_LAT/download_LAT_data.py\" target=\"_blank\"><span style=\"color: #7f7f7f; text-decoration-color: #7f7f7f\">download_LAT_data.py</span></a><span style=\"color: #7f7f7f; text-decoration-color: #7f7f7f\">:</span><a href=\"file:///Users/runner/work/threeML/threeML/threeML/utils/data_download/Fermi_LAT/download_LAT_data.py#266\" target=\"_blank\"><span style=\"color: #7f7f7f; text-decoration-color: #7f7f7f\">266</span></a>\n",
       "</pre>\n"
      ],
      "text/plain": [
       "\u001b[38;5;46m        \u001b[0m\u001b[38;5;46m \u001b[0m\u001b[38;5;49mINFO    \u001b[0m \u001b[1;38;5;251m                     coordfield = \u001b[0m\u001b[1;37m54.5100\u001b[0m\u001b[1;38;5;251m,\u001b[0m\u001b[1;37m-26.9390\u001b[0m\u001b[1;38;5;251m                      \u001b[0m\u001b[1;38;5;251m \u001b[0m\u001b]8;id=293020;file:///Users/runner/work/threeML/threeML/threeML/utils/data_download/Fermi_LAT/download_LAT_data.py\u001b\\\u001b[2mdownload_LAT_data.py\u001b[0m\u001b]8;;\u001b\\\u001b[2m:\u001b[0m\u001b]8;id=104954;file:///Users/runner/work/threeML/threeML/threeML/utils/data_download/Fermi_LAT/download_LAT_data.py#266\u001b\\\u001b[2m266\u001b[0m\u001b]8;;\u001b\\\n"
      ]
     },
     "metadata": {},
     "output_type": "display_data"
    },
    {
     "data": {
      "text/html": [
       "<pre style=\"white-space:pre;overflow-x:auto;line-height:normal;font-family:Menlo,'DejaVu Sans Mono',consolas,'Courier New',monospace\"><span style=\"color: #00ff00; text-decoration-color: #00ff00\">         </span><span style=\"color: #00ffaf; text-decoration-color: #00ffaf\">INFO    </span> <span style=\"color: #c6c6c6; text-decoration-color: #c6c6c6; font-weight: bold\">                    coordsystem = J2000                                  </span><a href=\"file:///Users/runner/work/threeML/threeML/threeML/utils/data_download/Fermi_LAT/download_LAT_data.py\" target=\"_blank\"><span style=\"color: #7f7f7f; text-decoration-color: #7f7f7f\">download_LAT_data.py</span></a><span style=\"color: #7f7f7f; text-decoration-color: #7f7f7f\">:</span><a href=\"file:///Users/runner/work/threeML/threeML/threeML/utils/data_download/Fermi_LAT/download_LAT_data.py#266\" target=\"_blank\"><span style=\"color: #7f7f7f; text-decoration-color: #7f7f7f\">266</span></a>\n",
       "</pre>\n"
      ],
      "text/plain": [
       "\u001b[38;5;46m        \u001b[0m\u001b[38;5;46m \u001b[0m\u001b[38;5;49mINFO    \u001b[0m \u001b[1;38;5;251m                    coordsystem = J2000                                 \u001b[0m\u001b[1;38;5;251m \u001b[0m\u001b]8;id=787155;file:///Users/runner/work/threeML/threeML/threeML/utils/data_download/Fermi_LAT/download_LAT_data.py\u001b\\\u001b[2mdownload_LAT_data.py\u001b[0m\u001b]8;;\u001b\\\u001b[2m:\u001b[0m\u001b]8;id=898521;file:///Users/runner/work/threeML/threeML/threeML/utils/data_download/Fermi_LAT/download_LAT_data.py#266\u001b\\\u001b[2m266\u001b[0m\u001b]8;;\u001b\\\n"
      ]
     },
     "metadata": {},
     "output_type": "display_data"
    },
    {
     "data": {
      "text/html": [
       "<pre style=\"white-space:pre;overflow-x:auto;line-height:normal;font-family:Menlo,'DejaVu Sans Mono',consolas,'Courier New',monospace\"><span style=\"color: #00ff00; text-decoration-color: #00ff00\">         </span><span style=\"color: #00ffaf; text-decoration-color: #00ffaf\">INFO    </span> <span style=\"color: #c6c6c6; text-decoration-color: #c6c6c6; font-weight: bold\">                     shapefield = </span><span style=\"color: #c0c0c0; text-decoration-color: #c0c0c0; font-weight: bold\">12</span><span style=\"color: #c6c6c6; text-decoration-color: #c6c6c6; font-weight: bold\">                                     </span><a href=\"file:///Users/runner/work/threeML/threeML/threeML/utils/data_download/Fermi_LAT/download_LAT_data.py\" target=\"_blank\"><span style=\"color: #7f7f7f; text-decoration-color: #7f7f7f\">download_LAT_data.py</span></a><span style=\"color: #7f7f7f; text-decoration-color: #7f7f7f\">:</span><a href=\"file:///Users/runner/work/threeML/threeML/threeML/utils/data_download/Fermi_LAT/download_LAT_data.py#266\" target=\"_blank\"><span style=\"color: #7f7f7f; text-decoration-color: #7f7f7f\">266</span></a>\n",
       "</pre>\n"
      ],
      "text/plain": [
       "\u001b[38;5;46m        \u001b[0m\u001b[38;5;46m \u001b[0m\u001b[38;5;49mINFO    \u001b[0m \u001b[1;38;5;251m                     shapefield = \u001b[0m\u001b[1;37m12\u001b[0m\u001b[1;38;5;251m                                    \u001b[0m\u001b[1;38;5;251m \u001b[0m\u001b]8;id=67599;file:///Users/runner/work/threeML/threeML/threeML/utils/data_download/Fermi_LAT/download_LAT_data.py\u001b\\\u001b[2mdownload_LAT_data.py\u001b[0m\u001b]8;;\u001b\\\u001b[2m:\u001b[0m\u001b]8;id=923327;file:///Users/runner/work/threeML/threeML/threeML/utils/data_download/Fermi_LAT/download_LAT_data.py#266\u001b\\\u001b[2m266\u001b[0m\u001b]8;;\u001b\\\n"
      ]
     },
     "metadata": {},
     "output_type": "display_data"
    },
    {
     "data": {
      "text/html": [
       "<pre style=\"white-space:pre;overflow-x:auto;line-height:normal;font-family:Menlo,'DejaVu Sans Mono',consolas,'Courier New',monospace\"><span style=\"color: #00ff00; text-decoration-color: #00ff00\">         </span><span style=\"color: #00ffaf; text-decoration-color: #00ffaf\">INFO    </span> <span style=\"color: #c6c6c6; text-decoration-color: #c6c6c6; font-weight: bold\">                      timefield = </span><span style=\"color: #c0c0c0; text-decoration-color: #c0c0c0; font-weight: bold\">569192227.626</span><span style=\"color: #c6c6c6; text-decoration-color: #c6c6c6; font-weight: bold\">,</span><span style=\"color: #c0c0c0; text-decoration-color: #c0c0c0; font-weight: bold\">569193227.626</span><span style=\"color: #c6c6c6; text-decoration-color: #c6c6c6; font-weight: bold\">            </span><a href=\"file:///Users/runner/work/threeML/threeML/threeML/utils/data_download/Fermi_LAT/download_LAT_data.py\" target=\"_blank\"><span style=\"color: #7f7f7f; text-decoration-color: #7f7f7f\">download_LAT_data.py</span></a><span style=\"color: #7f7f7f; text-decoration-color: #7f7f7f\">:</span><a href=\"file:///Users/runner/work/threeML/threeML/threeML/utils/data_download/Fermi_LAT/download_LAT_data.py#266\" target=\"_blank\"><span style=\"color: #7f7f7f; text-decoration-color: #7f7f7f\">266</span></a>\n",
       "</pre>\n"
      ],
      "text/plain": [
       "\u001b[38;5;46m        \u001b[0m\u001b[38;5;46m \u001b[0m\u001b[38;5;49mINFO    \u001b[0m \u001b[1;38;5;251m                      timefield = \u001b[0m\u001b[1;37m569192227.626\u001b[0m\u001b[1;38;5;251m,\u001b[0m\u001b[1;37m569193227.626\u001b[0m\u001b[1;38;5;251m           \u001b[0m\u001b[1;38;5;251m \u001b[0m\u001b]8;id=771640;file:///Users/runner/work/threeML/threeML/threeML/utils/data_download/Fermi_LAT/download_LAT_data.py\u001b\\\u001b[2mdownload_LAT_data.py\u001b[0m\u001b]8;;\u001b\\\u001b[2m:\u001b[0m\u001b]8;id=56370;file:///Users/runner/work/threeML/threeML/threeML/utils/data_download/Fermi_LAT/download_LAT_data.py#266\u001b\\\u001b[2m266\u001b[0m\u001b]8;;\u001b\\\n"
      ]
     },
     "metadata": {},
     "output_type": "display_data"
    },
    {
     "data": {
      "text/html": [
       "<pre style=\"white-space:pre;overflow-x:auto;line-height:normal;font-family:Menlo,'DejaVu Sans Mono',consolas,'Courier New',monospace\"><span style=\"color: #00ff00; text-decoration-color: #00ff00\">         </span><span style=\"color: #00ffaf; text-decoration-color: #00ffaf\">INFO    </span> <span style=\"color: #c6c6c6; text-decoration-color: #c6c6c6; font-weight: bold\">                       timetype = MET                                    </span><a href=\"file:///Users/runner/work/threeML/threeML/threeML/utils/data_download/Fermi_LAT/download_LAT_data.py\" target=\"_blank\"><span style=\"color: #7f7f7f; text-decoration-color: #7f7f7f\">download_LAT_data.py</span></a><span style=\"color: #7f7f7f; text-decoration-color: #7f7f7f\">:</span><a href=\"file:///Users/runner/work/threeML/threeML/threeML/utils/data_download/Fermi_LAT/download_LAT_data.py#266\" target=\"_blank\"><span style=\"color: #7f7f7f; text-decoration-color: #7f7f7f\">266</span></a>\n",
       "</pre>\n"
      ],
      "text/plain": [
       "\u001b[38;5;46m        \u001b[0m\u001b[38;5;46m \u001b[0m\u001b[38;5;49mINFO    \u001b[0m \u001b[1;38;5;251m                       timetype = MET                                   \u001b[0m\u001b[1;38;5;251m \u001b[0m\u001b]8;id=478906;file:///Users/runner/work/threeML/threeML/threeML/utils/data_download/Fermi_LAT/download_LAT_data.py\u001b\\\u001b[2mdownload_LAT_data.py\u001b[0m\u001b]8;;\u001b\\\u001b[2m:\u001b[0m\u001b]8;id=443899;file:///Users/runner/work/threeML/threeML/threeML/utils/data_download/Fermi_LAT/download_LAT_data.py#266\u001b\\\u001b[2m266\u001b[0m\u001b]8;;\u001b\\\n"
      ]
     },
     "metadata": {},
     "output_type": "display_data"
    },
    {
     "data": {
      "text/html": [
       "<pre style=\"white-space:pre;overflow-x:auto;line-height:normal;font-family:Menlo,'DejaVu Sans Mono',consolas,'Courier New',monospace\"><span style=\"color: #00ff00; text-decoration-color: #00ff00\">         </span><span style=\"color: #00ffaf; text-decoration-color: #00ffaf\">INFO    </span> <span style=\"color: #c6c6c6; text-decoration-color: #c6c6c6; font-weight: bold\">                    energyfield = </span><span style=\"color: #c0c0c0; text-decoration-color: #c0c0c0; font-weight: bold\">100.000</span><span style=\"color: #c6c6c6; text-decoration-color: #c6c6c6; font-weight: bold\">,</span><span style=\"color: #c0c0c0; text-decoration-color: #c0c0c0; font-weight: bold\">10000.000</span><span style=\"color: #c6c6c6; text-decoration-color: #c6c6c6; font-weight: bold\">                      </span><a href=\"file:///Users/runner/work/threeML/threeML/threeML/utils/data_download/Fermi_LAT/download_LAT_data.py\" target=\"_blank\"><span style=\"color: #7f7f7f; text-decoration-color: #7f7f7f\">download_LAT_data.py</span></a><span style=\"color: #7f7f7f; text-decoration-color: #7f7f7f\">:</span><a href=\"file:///Users/runner/work/threeML/threeML/threeML/utils/data_download/Fermi_LAT/download_LAT_data.py#266\" target=\"_blank\"><span style=\"color: #7f7f7f; text-decoration-color: #7f7f7f\">266</span></a>\n",
       "</pre>\n"
      ],
      "text/plain": [
       "\u001b[38;5;46m        \u001b[0m\u001b[38;5;46m \u001b[0m\u001b[38;5;49mINFO    \u001b[0m \u001b[1;38;5;251m                    energyfield = \u001b[0m\u001b[1;37m100.000\u001b[0m\u001b[1;38;5;251m,\u001b[0m\u001b[1;37m10000.000\u001b[0m\u001b[1;38;5;251m                     \u001b[0m\u001b[1;38;5;251m \u001b[0m\u001b]8;id=214403;file:///Users/runner/work/threeML/threeML/threeML/utils/data_download/Fermi_LAT/download_LAT_data.py\u001b\\\u001b[2mdownload_LAT_data.py\u001b[0m\u001b]8;;\u001b\\\u001b[2m:\u001b[0m\u001b]8;id=108427;file:///Users/runner/work/threeML/threeML/threeML/utils/data_download/Fermi_LAT/download_LAT_data.py#266\u001b\\\u001b[2m266\u001b[0m\u001b]8;;\u001b\\\n"
      ]
     },
     "metadata": {},
     "output_type": "display_data"
    },
    {
     "data": {
      "text/html": [
       "<pre style=\"white-space:pre;overflow-x:auto;line-height:normal;font-family:Menlo,'DejaVu Sans Mono',consolas,'Courier New',monospace\"><span style=\"color: #00ff00; text-decoration-color: #00ff00\">         </span><span style=\"color: #00ffaf; text-decoration-color: #00ffaf\">INFO    </span> <span style=\"color: #c6c6c6; text-decoration-color: #c6c6c6; font-weight: bold\">         photonOrExtendedOrNone = Extended                               </span><a href=\"file:///Users/runner/work/threeML/threeML/threeML/utils/data_download/Fermi_LAT/download_LAT_data.py\" target=\"_blank\"><span style=\"color: #7f7f7f; text-decoration-color: #7f7f7f\">download_LAT_data.py</span></a><span style=\"color: #7f7f7f; text-decoration-color: #7f7f7f\">:</span><a href=\"file:///Users/runner/work/threeML/threeML/threeML/utils/data_download/Fermi_LAT/download_LAT_data.py#266\" target=\"_blank\"><span style=\"color: #7f7f7f; text-decoration-color: #7f7f7f\">266</span></a>\n",
       "</pre>\n"
      ],
      "text/plain": [
       "\u001b[38;5;46m        \u001b[0m\u001b[38;5;46m \u001b[0m\u001b[38;5;49mINFO    \u001b[0m \u001b[1;38;5;251m         photonOrExtendedOrNone = Extended                              \u001b[0m\u001b[1;38;5;251m \u001b[0m\u001b]8;id=979359;file:///Users/runner/work/threeML/threeML/threeML/utils/data_download/Fermi_LAT/download_LAT_data.py\u001b\\\u001b[2mdownload_LAT_data.py\u001b[0m\u001b]8;;\u001b\\\u001b[2m:\u001b[0m\u001b]8;id=801679;file:///Users/runner/work/threeML/threeML/threeML/utils/data_download/Fermi_LAT/download_LAT_data.py#266\u001b\\\u001b[2m266\u001b[0m\u001b]8;;\u001b\\\n"
      ]
     },
     "metadata": {},
     "output_type": "display_data"
    },
    {
     "data": {
      "text/html": [
       "<pre style=\"white-space:pre;overflow-x:auto;line-height:normal;font-family:Menlo,'DejaVu Sans Mono',consolas,'Courier New',monospace\"><span style=\"color: #00ff00; text-decoration-color: #00ff00\">         </span><span style=\"color: #00ffaf; text-decoration-color: #00ffaf\">INFO    </span> <span style=\"color: #c6c6c6; text-decoration-color: #c6c6c6; font-weight: bold\">                    destination = query                                  </span><a href=\"file:///Users/runner/work/threeML/threeML/threeML/utils/data_download/Fermi_LAT/download_LAT_data.py\" target=\"_blank\"><span style=\"color: #7f7f7f; text-decoration-color: #7f7f7f\">download_LAT_data.py</span></a><span style=\"color: #7f7f7f; text-decoration-color: #7f7f7f\">:</span><a href=\"file:///Users/runner/work/threeML/threeML/threeML/utils/data_download/Fermi_LAT/download_LAT_data.py#266\" target=\"_blank\"><span style=\"color: #7f7f7f; text-decoration-color: #7f7f7f\">266</span></a>\n",
       "</pre>\n"
      ],
      "text/plain": [
       "\u001b[38;5;46m        \u001b[0m\u001b[38;5;46m \u001b[0m\u001b[38;5;49mINFO    \u001b[0m \u001b[1;38;5;251m                    destination = query                                 \u001b[0m\u001b[1;38;5;251m \u001b[0m\u001b]8;id=46200;file:///Users/runner/work/threeML/threeML/threeML/utils/data_download/Fermi_LAT/download_LAT_data.py\u001b\\\u001b[2mdownload_LAT_data.py\u001b[0m\u001b]8;;\u001b\\\u001b[2m:\u001b[0m\u001b]8;id=891460;file:///Users/runner/work/threeML/threeML/threeML/utils/data_download/Fermi_LAT/download_LAT_data.py#266\u001b\\\u001b[2m266\u001b[0m\u001b]8;;\u001b\\\n"
      ]
     },
     "metadata": {},
     "output_type": "display_data"
    },
    {
     "data": {
      "text/html": [
       "<pre style=\"white-space:pre;overflow-x:auto;line-height:normal;font-family:Menlo,'DejaVu Sans Mono',consolas,'Courier New',monospace\"><span style=\"color: #00ff00; text-decoration-color: #00ff00\">         </span><span style=\"color: #00ffaf; text-decoration-color: #00ffaf\">INFO    </span> <span style=\"color: #c6c6c6; text-decoration-color: #c6c6c6; font-weight: bold\">                     spacecraft = checked                                </span><a href=\"file:///Users/runner/work/threeML/threeML/threeML/utils/data_download/Fermi_LAT/download_LAT_data.py\" target=\"_blank\"><span style=\"color: #7f7f7f; text-decoration-color: #7f7f7f\">download_LAT_data.py</span></a><span style=\"color: #7f7f7f; text-decoration-color: #7f7f7f\">:</span><a href=\"file:///Users/runner/work/threeML/threeML/threeML/utils/data_download/Fermi_LAT/download_LAT_data.py#266\" target=\"_blank\"><span style=\"color: #7f7f7f; text-decoration-color: #7f7f7f\">266</span></a>\n",
       "</pre>\n"
      ],
      "text/plain": [
       "\u001b[38;5;46m        \u001b[0m\u001b[38;5;46m \u001b[0m\u001b[38;5;49mINFO    \u001b[0m \u001b[1;38;5;251m                     spacecraft = checked                               \u001b[0m\u001b[1;38;5;251m \u001b[0m\u001b]8;id=58179;file:///Users/runner/work/threeML/threeML/threeML/utils/data_download/Fermi_LAT/download_LAT_data.py\u001b\\\u001b[2mdownload_LAT_data.py\u001b[0m\u001b]8;;\u001b\\\u001b[2m:\u001b[0m\u001b]8;id=387833;file:///Users/runner/work/threeML/threeML/threeML/utils/data_download/Fermi_LAT/download_LAT_data.py#266\u001b\\\u001b[2m266\u001b[0m\u001b]8;;\u001b\\\n"
      ]
     },
     "metadata": {},
     "output_type": "display_data"
    },
    {
     "data": {
      "text/html": [
       "<pre style=\"white-space:pre;overflow-x:auto;line-height:normal;font-family:Menlo,'DejaVu Sans Mono',consolas,'Courier New',monospace\"><span style=\"color: #00ff00; text-decoration-color: #00ff00\">         </span><span style=\"color: #00ffaf; text-decoration-color: #00ffaf\">INFO    </span> <span style=\"color: #c6c6c6; text-decoration-color: #c6c6c6; font-weight: bold\"> Query ID: 86ad4d2b3b3e5065f0f0a976e6fc8315                              </span><a href=\"file:///Users/runner/work/threeML/threeML/threeML/utils/data_download/Fermi_LAT/download_LAT_data.py\" target=\"_blank\"><span style=\"color: #7f7f7f; text-decoration-color: #7f7f7f\">download_LAT_data.py</span></a><span style=\"color: #7f7f7f; text-decoration-color: #7f7f7f\">:</span><a href=\"file:///Users/runner/work/threeML/threeML/threeML/utils/data_download/Fermi_LAT/download_LAT_data.py#271\" target=\"_blank\"><span style=\"color: #7f7f7f; text-decoration-color: #7f7f7f\">271</span></a>\n",
       "</pre>\n"
      ],
      "text/plain": [
       "\u001b[38;5;46m        \u001b[0m\u001b[38;5;46m \u001b[0m\u001b[38;5;49mINFO    \u001b[0m \u001b[1;38;5;251m Query ID: 86ad4d2b3b3e5065f0f0a976e6fc8315                             \u001b[0m\u001b[1;38;5;251m \u001b[0m\u001b]8;id=474894;file:///Users/runner/work/threeML/threeML/threeML/utils/data_download/Fermi_LAT/download_LAT_data.py\u001b\\\u001b[2mdownload_LAT_data.py\u001b[0m\u001b]8;;\u001b\\\u001b[2m:\u001b[0m\u001b]8;id=324556;file:///Users/runner/work/threeML/threeML/threeML/utils/data_download/Fermi_LAT/download_LAT_data.py#271\u001b\\\u001b[2m271\u001b[0m\u001b]8;;\u001b\\\n"
      ]
     },
     "metadata": {},
     "output_type": "display_data"
    },
    {
     "data": {
      "text/html": [
       "<pre style=\"white-space:pre;overflow-x:auto;line-height:normal;font-family:Menlo,'DejaVu Sans Mono',consolas,'Courier New',monospace\"><span style=\"color: #00ff00; text-decoration-color: #00ff00\">00:10:50 </span><span style=\"color: #00ffaf; text-decoration-color: #00ffaf\">INFO    </span> <span style=\"color: #c6c6c6; text-decoration-color: #c6c6c6; font-weight: bold\"> Estimated complete time for your query: </span><span style=\"color: #c0c0c0; text-decoration-color: #c0c0c0; font-weight: bold\">15</span><span style=\"color: #c6c6c6; text-decoration-color: #c6c6c6; font-weight: bold\"> seconds                      </span><a href=\"file:///Users/runner/work/threeML/threeML/threeML/utils/data_download/Fermi_LAT/download_LAT_data.py\" target=\"_blank\"><span style=\"color: #7f7f7f; text-decoration-color: #7f7f7f\">download_LAT_data.py</span></a><span style=\"color: #7f7f7f; text-decoration-color: #7f7f7f\">:</span><a href=\"file:///Users/runner/work/threeML/threeML/threeML/utils/data_download/Fermi_LAT/download_LAT_data.py#428\" target=\"_blank\"><span style=\"color: #7f7f7f; text-decoration-color: #7f7f7f\">428</span></a>\n",
       "</pre>\n"
      ],
      "text/plain": [
       "\u001b[38;5;46m00:10:50\u001b[0m\u001b[38;5;46m \u001b[0m\u001b[38;5;49mINFO    \u001b[0m \u001b[1;38;5;251m Estimated complete time for your query: \u001b[0m\u001b[1;37m15\u001b[0m\u001b[1;38;5;251m seconds                     \u001b[0m\u001b[1;38;5;251m \u001b[0m\u001b]8;id=906038;file:///Users/runner/work/threeML/threeML/threeML/utils/data_download/Fermi_LAT/download_LAT_data.py\u001b\\\u001b[2mdownload_LAT_data.py\u001b[0m\u001b]8;;\u001b\\\u001b[2m:\u001b[0m\u001b]8;id=613086;file:///Users/runner/work/threeML/threeML/threeML/utils/data_download/Fermi_LAT/download_LAT_data.py#428\u001b\\\u001b[2m428\u001b[0m\u001b]8;;\u001b\\\n"
      ]
     },
     "metadata": {},
     "output_type": "display_data"
    },
    {
     "data": {
      "text/html": [
       "<pre style=\"white-space:pre;overflow-x:auto;line-height:normal;font-family:Menlo,'DejaVu Sans Mono',consolas,'Courier New',monospace\"><span style=\"color: #00ff00; text-decoration-color: #00ff00\">         </span><span style=\"color: #00ffaf; text-decoration-color: #00ffaf\">INFO    </span> <span style=\"color: #c6c6c6; text-decoration-color: #c6c6c6; font-weight: bold\"> If this download fails, you can find your data at                       </span><a href=\"file:///Users/runner/work/threeML/threeML/threeML/utils/data_download/Fermi_LAT/download_LAT_data.py\" target=\"_blank\"><span style=\"color: #7f7f7f; text-decoration-color: #7f7f7f\">download_LAT_data.py</span></a><span style=\"color: #7f7f7f; text-decoration-color: #7f7f7f\">:</span><a href=\"file:///Users/runner/work/threeML/threeML/threeML/utils/data_download/Fermi_LAT/download_LAT_data.py#437\" target=\"_blank\"><span style=\"color: #7f7f7f; text-decoration-color: #7f7f7f\">437</span></a>\n",
       "<span style=\"color: #00ff00; text-decoration-color: #00ff00\">         </span>         <span style=\"color: #d7d7d7; text-decoration-color: #d7d7d7; text-decoration: underline\">https://fermi.gsfc.nasa.gov/cgi-bin/ssc/LAT/QueryResults.cgi?id=L2405312</span><span style=\"color: #c6c6c6; text-decoration-color: #c6c6c6; font-weight: bold\"> </span><span style=\"color: #7f7f7f; text-decoration-color: #7f7f7f\">                        </span>\n",
       "<span style=\"color: #00ff00; text-decoration-color: #00ff00\">         </span>         <span style=\"color: #d7d7d7; text-decoration-color: #d7d7d7; text-decoration: underline\">01051BD968AF249</span><span style=\"color: #c6c6c6; text-decoration-color: #c6c6c6; font-weight: bold\"> (when ready)                                             </span><span style=\"color: #7f7f7f; text-decoration-color: #7f7f7f\">                        </span>\n",
       "</pre>\n"
      ],
      "text/plain": [
       "\u001b[38;5;46m        \u001b[0m\u001b[38;5;46m \u001b[0m\u001b[38;5;49mINFO    \u001b[0m \u001b[1;38;5;251m If this download fails, you can find your data at                      \u001b[0m\u001b[1;38;5;251m \u001b[0m\u001b]8;id=144459;file:///Users/runner/work/threeML/threeML/threeML/utils/data_download/Fermi_LAT/download_LAT_data.py\u001b\\\u001b[2mdownload_LAT_data.py\u001b[0m\u001b]8;;\u001b\\\u001b[2m:\u001b[0m\u001b]8;id=484825;file:///Users/runner/work/threeML/threeML/threeML/utils/data_download/Fermi_LAT/download_LAT_data.py#437\u001b\\\u001b[2m437\u001b[0m\u001b]8;;\u001b\\\n",
       "\u001b[38;5;46m         \u001b[0m         \u001b[4;38;5;188mhttps://fermi.gsfc.nasa.gov/cgi-bin/ssc/LAT/QueryResults.cgi?\u001b[0m\u001b[4;38;5;188mid\u001b[0m\u001b[4;38;5;188m=\u001b[0m\u001b[4;38;5;188mL2405312\u001b[0m\u001b[1;38;5;251m \u001b[0m\u001b[2m                        \u001b[0m\n",
       "\u001b[38;5;46m         \u001b[0m         \u001b[4;38;5;188m01051BD968AF249\u001b[0m\u001b[1;38;5;251m \u001b[0m\u001b[1;38;5;251m(\u001b[0m\u001b[1;38;5;251mwhen ready\u001b[0m\u001b[1;38;5;251m)\u001b[0m\u001b[1;38;5;251m                                            \u001b[0m\u001b[1;38;5;251m \u001b[0m\u001b[2m                        \u001b[0m\n"
      ]
     },
     "metadata": {},
     "output_type": "display_data"
    },
    {
     "data": {
      "text/html": [
       "<pre style=\"white-space:pre;overflow-x:auto;line-height:normal;font-family:Menlo,'DejaVu Sans Mono',consolas,'Courier New',monospace\"><span style=\"color: #00ff00; text-decoration-color: #00ff00\">00:10:56 </span><span style=\"color: #00ffaf; text-decoration-color: #00ffaf\">INFO    </span> <span style=\"color: #c6c6c6; text-decoration-color: #c6c6c6; font-weight: bold\"> Downloading FT1 and FT2 files</span><span style=\"color: #808000; text-decoration-color: #808000; font-weight: bold\">...</span><span style=\"color: #c6c6c6; text-decoration-color: #c6c6c6; font-weight: bold\">                                        </span><a href=\"file:///Users/runner/work/threeML/threeML/threeML/utils/data_download/Fermi_LAT/download_LAT_data.py\" target=\"_blank\"><span style=\"color: #7f7f7f; text-decoration-color: #7f7f7f\">download_LAT_data.py</span></a><span style=\"color: #7f7f7f; text-decoration-color: #7f7f7f\">:</span><a href=\"file:///Users/runner/work/threeML/threeML/threeML/utils/data_download/Fermi_LAT/download_LAT_data.py#527\" target=\"_blank\"><span style=\"color: #7f7f7f; text-decoration-color: #7f7f7f\">527</span></a>\n",
       "</pre>\n"
      ],
      "text/plain": [
       "\u001b[38;5;46m00:10:56\u001b[0m\u001b[38;5;46m \u001b[0m\u001b[38;5;49mINFO    \u001b[0m \u001b[1;38;5;251m Downloading FT1 and FT2 files\u001b[0m\u001b[1;33m...\u001b[0m\u001b[1;38;5;251m                                       \u001b[0m\u001b[1;38;5;251m \u001b[0m\u001b]8;id=834523;file:///Users/runner/work/threeML/threeML/threeML/utils/data_download/Fermi_LAT/download_LAT_data.py\u001b\\\u001b[2mdownload_LAT_data.py\u001b[0m\u001b]8;;\u001b\\\u001b[2m:\u001b[0m\u001b]8;id=115088;file:///Users/runner/work/threeML/threeML/threeML/utils/data_download/Fermi_LAT/download_LAT_data.py#527\u001b\\\u001b[2m527\u001b[0m\u001b]8;;\u001b\\\n"
      ]
     },
     "metadata": {},
     "output_type": "display_data"
    },
    {
     "data": {
      "application/vnd.jupyter.widget-view+json": {
       "model_id": "5386ca6150e04785bf0356655c8d737d",
       "version_major": 2,
       "version_minor": 0
      },
      "text/plain": [
       "Downloading L240531201051BD968AF249_EV00.fits:   0%|          | 0.00/98.4k [00:00<?, ?B/s]"
      ]
     },
     "metadata": {},
     "output_type": "display_data"
    },
    {
     "data": {
      "application/vnd.jupyter.widget-view+json": {
       "model_id": "1b0062a642cb404db3e7194fa7c3ce1b",
       "version_major": 2,
       "version_minor": 0
      },
      "text/plain": [
       "Downloading L240531201051BD968AF249_SC00.fits:   0%|          | 0.00/22.5k [00:00<?, ?B/s]"
      ]
     },
     "metadata": {},
     "output_type": "display_data"
    },
    {
     "data": {
      "text/html": [
       "<pre style=\"white-space:pre;overflow-x:auto;line-height:normal;font-family:Menlo,'DejaVu Sans Mono',consolas,'Courier New',monospace\"><span style=\"color: #00ff00; text-decoration-color: #00ff00\">00:11:02 </span><span style=\"color: #af5fd7; text-decoration-color: #af5fd7\">WARNING </span> <span style=\"color: #c6c6c6; text-decoration-color: #c6c6c6; font-weight: bold\"> Only one FT1 file provided. Skipping the merge</span><span style=\"color: #808000; text-decoration-color: #808000; font-weight: bold\">...</span><span style=\"color: #c6c6c6; text-decoration-color: #c6c6c6; font-weight: bold\">                        </span><a href=\"file:///Users/runner/work/threeML/threeML/threeML/utils/data_download/Fermi_LAT/download_LAT_data.py\" target=\"_blank\"><span style=\"color: #7f7f7f; text-decoration-color: #7f7f7f\">download_LAT_data.py</span></a><span style=\"color: #7f7f7f; text-decoration-color: #7f7f7f\">:</span><a href=\"file:///Users/runner/work/threeML/threeML/threeML/utils/data_download/Fermi_LAT/download_LAT_data.py#98\" target=\"_blank\"><span style=\"color: #7f7f7f; text-decoration-color: #7f7f7f\">98</span></a>\n",
       "</pre>\n"
      ],
      "text/plain": [
       "\u001b[38;5;46m00:11:02\u001b[0m\u001b[38;5;46m \u001b[0m\u001b[38;5;134mWARNING \u001b[0m \u001b[1;38;5;251m Only one FT1 file provided. Skipping the merge\u001b[0m\u001b[1;33m...\u001b[0m\u001b[1;38;5;251m                       \u001b[0m\u001b[1;38;5;251m \u001b[0m\u001b]8;id=89302;file:///Users/runner/work/threeML/threeML/threeML/utils/data_download/Fermi_LAT/download_LAT_data.py\u001b\\\u001b[2mdownload_LAT_data.py\u001b[0m\u001b]8;;\u001b\\\u001b[2m:\u001b[0m\u001b]8;id=379949;file:///Users/runner/work/threeML/threeML/threeML/utils/data_download/Fermi_LAT/download_LAT_data.py#98\u001b\\\u001b[2m98\u001b[0m\u001b]8;;\u001b\\\n"
      ]
     },
     "metadata": {},
     "output_type": "display_data"
    },
    {
     "name": "stdout",
     "output_type": "stream",
     "text": [
      "Writing ./bn190114873/gll_cspec_tr_bn190114873_v00.rsp...\n",
      "time -p gtselect infile=./bn190114873/gll_ft1_tr_bn190114873_v00.fit outfile=__temp_ft1.fits ra=54.51 dec=-26.939 rad=15.0 tmin=569192226.626 tmax=569193228.626 emin=10.0 emax=300000.0 zmin=0.0 zmax=110.0 evclass=\"INDEF\" evtype=\"INDEF\" convtype=-1 phasemin=0.0 phasemax=1.0 evtable=\"EVENTS\" chatter=2 clobber=yes debug=no gui=no mode=\"ql\"\n",
      "Done.\n",
      "real 0.12\n",
      "user 0.09\n",
      "sys 0.02\n",
      "Writing ./bn190114873/gll_cspec_tr_bn190114873_v00.pha...\n",
      " *  Get energy binning from the response matrix...\n",
      "\n",
      "    done.\n",
      "\n",
      " *  Run gtbindef and gtbin and bin in energy and time...\n",
      "\n",
      "time -p gtbindef bintype=\"E\" binfile=__ebins.txt outfile=__energyBins.fits energyunits=\"keV\" chatter=2 clobber=yes debug=no gui=no mode=\"ql\"\n"
     ]
    },
    {
     "name": "stdout",
     "output_type": "stream",
     "text": [
      "This is gtbindef version HEAD\n",
      "real 0.05\n",
      "user 0.02\n",
      "sys 0.01\n",
      "time -p gtbin evfile=/Users/runner/work/threeML/threeML/docs/md_docs/slow_execute/__temp_ft1.fits scfile=/Users/runner/work/threeML/threeML/docs/md_docs/slow_execute/bn190114873/gll_ft2_tr_bn190114873_v00.fit outfile=__gtllebin__pha2.pha algorithm=\"PHA2\" ebinalg=\"FILE\" emin=30.0 emax=200000.0 ebinfile=__energyBins.fits tbinalg=\"LIN\" tstart=569192227.626 tstop=569193227.626 dtime=4.096 tbinfile=NONE coordsys=\"CEL\" axisrot=0.0 rafield=\"RA\" decfield=\"DEC\" proj=\"AIT\" hpx_ordering_scheme=\"RING\" hpx_order=3 hpx_ebin=yes hpx_region=\"\" evtable=\"EVENTS\" sctable=\"SC_DATA\" efield=\"ENERGY\" tfield=\"TIME\" chatter=1 clobber=yes debug=no gui=no mode=\"ql\"\n",
      "This is gtbin version HEAD\n"
     ]
    },
    {
     "name": "stdout",
     "output_type": "stream",
     "text": [
      "real 2.39\n",
      "user 2.24\n",
      "sys 0.14\n",
      "\n",
      "    done.\n",
      "\n",
      " *  Transform gtbin output in CSPEC format...\n",
      "\n",
      "    done.\n",
      "\n",
      " *  Updating keywords in the headers of the CSPEC file...\n",
      "\n",
      "    done.\n",
      "\n",
      "gtllebin done!\n"
     ]
    },
    {
     "name": "stderr",
     "output_type": "stream",
     "text": [
      "WARNING: VerifyWarning: Card is too long, comment will be truncated. [astropy.io.fits.card]\n"
     ]
    }
   ],
   "source": [
    "myLATdataset = LAT_dataset()\n",
    "\n",
    "myLATdataset.make_LAT_dataset(\n",
    "    ra=myGRB[\"RA\"],\n",
    "    dec=myGRB[\"DEC\"],\n",
    "    radius=12,\n",
    "    trigger_time=myGRB[\"MET\"],\n",
    "    tstart=tstart,\n",
    "    tstop=tstop,\n",
    "    data_type=\"Extended\",\n",
    "    destination_directory=\".\",\n",
    "    Emin=100.0,\n",
    "    Emax=10000.0,\n",
    ")  # Energies are MeV (this is from 100 MeV to 10 GeV)"
   ]
  },
  {
   "cell_type": "markdown",
   "id": "1c30eb74",
   "metadata": {},
   "source": [
    "We want perform a time resolved analysis. So, first we look at the data. We can play with the ROI selection and the cut.\n"
   ]
  },
  {
   "cell_type": "code",
   "execution_count": 7,
   "id": "de7badd1",
   "metadata": {
    "execution": {
     "iopub.execute_input": "2024-06-01T00:11:04.988938Z",
     "iopub.status.busy": "2024-06-01T00:11:04.988632Z",
     "iopub.status.idle": "2024-06-01T00:11:05.314579Z",
     "shell.execute_reply": "2024-06-01T00:11:05.311625Z"
    }
   },
   "outputs": [
    {
     "name": "stdout",
     "output_type": "stream",
     "text": [
      "time -p gtmktime scfile=/Users/runner/work/threeML/threeML/docs/md_docs/slow_execute/bn190114873/gll_ft2_tr_bn190114873_v00.fit sctable=\"SC_DATA\" filter=\"(DATA_QUAL>0 || DATA_QUAL==-1) && LAT_CONFIG==1 && IN_SAA!=T && LIVETIME>0 && (ANGSEP(RA_ZENITH,DEC_ZENITH,54.51,-26.939)<=(110.0-10))\" roicut=no evfile=/Users/runner/work/threeML/threeML/docs/md_docs/slow_execute/bn190114873/gll_ft1_tr_bn190114873_v00.fit evtable=\"EVENTS\" outfile=\"gll_ft1_tr_bn190114873_v00_mkt.fit\" apply_filter=yes overwrite=no header_obstimes=yes tstart=569192227.626 tstop=569193227.626 gtifile=\"default\" chatter=2 clobber=yes debug=no gui=no mode=\"ql\"\n"
     ]
    },
    {
     "name": "stdout",
     "output_type": "stream",
     "text": [
      "real 0.09\n",
      "user 0.06\n",
      "sys 0.02\n",
      "\n",
      "Using 305 data\n",
      "\n",
      "time -p gtselect infile=gll_ft1_tr_bn190114873_v00_mkt.fit outfile=gll_ft1_tr_bn190114873_v00_filt.fit ra=54.51 dec=-26.939 rad=10.0 tmin=569192227.626 tmax=569193227.626 emin=100.0 emax=10000.0 zmin=0.0 zmax=110.0 evclass=8 evtype=3 convtype=-1 phasemin=0.0 phasemax=1.0 evtable=\"EVENTS\" chatter=2 clobber=yes debug=no gui=no mode=\"ql\"\n"
     ]
    },
    {
     "name": "stdout",
     "output_type": "stream",
     "text": [
      "Done.\n",
      "real 0.11\n",
      "user 0.09\n",
      "sys 0.01\n",
      "\n",
      "Selected 251 events.\n"
     ]
    },
    {
     "data": {
      "text/html": [
       "<pre style=\"white-space:pre;overflow-x:auto;line-height:normal;font-family:Menlo,'DejaVu Sans Mono',consolas,'Courier New',monospace\"><span style=\"color: #00ff00; text-decoration-color: #00ff00\">00:11:05 </span><span style=\"color: #00ffaf; text-decoration-color: #00ffaf\">INFO    </span> <span style=\"color: #c6c6c6; text-decoration-color: #c6c6c6; font-weight: bold\"> Extracted </span><span style=\"color: #c0c0c0; text-decoration-color: #c0c0c0; font-weight: bold\">251</span><span style=\"color: #c6c6c6; text-decoration-color: #c6c6c6; font-weight: bold\"> events                                                    </span><a href=\"file:///Users/runner/work/threeML/threeML/threeML/utils/data_download/Fermi_LAT/download_LAT_data.py\" target=\"_blank\"><span style=\"color: #7f7f7f; text-decoration-color: #7f7f7f\">download_LAT_data.py</span></a><span style=\"color: #7f7f7f; text-decoration-color: #7f7f7f\">:</span><a href=\"file:///Users/runner/work/threeML/threeML/threeML/utils/data_download/Fermi_LAT/download_LAT_data.py#670\" target=\"_blank\"><span style=\"color: #7f7f7f; text-decoration-color: #7f7f7f\">670</span></a>\n",
       "</pre>\n"
      ],
      "text/plain": [
       "\u001b[38;5;46m00:11:05\u001b[0m\u001b[38;5;46m \u001b[0m\u001b[38;5;49mINFO    \u001b[0m \u001b[1;38;5;251m Extracted \u001b[0m\u001b[1;37m251\u001b[0m\u001b[1;38;5;251m events                                                   \u001b[0m\u001b[1;38;5;251m \u001b[0m\u001b]8;id=454031;file:///Users/runner/work/threeML/threeML/threeML/utils/data_download/Fermi_LAT/download_LAT_data.py\u001b\\\u001b[2mdownload_LAT_data.py\u001b[0m\u001b]8;;\u001b\\\u001b[2m:\u001b[0m\u001b]8;id=262021;file:///Users/runner/work/threeML/threeML/threeML/utils/data_download/Fermi_LAT/download_LAT_data.py#670\u001b\\\u001b[2m670\u001b[0m\u001b]8;;\u001b\\\n"
      ]
     },
     "metadata": {},
     "output_type": "display_data"
    }
   ],
   "source": [
    "roi = 10\n",
    "zmax = 110.0\n",
    "thetamax = 180.0\n",
    "irfs = \"p8_transient020e\"\n",
    "strategy = \"time\"\n",
    "myLATdataset.extract_events(roi, zmax, irfs, thetamax, strategy=strategy)"
   ]
  },
  {
   "cell_type": "code",
   "execution_count": 8,
   "id": "aa35989c",
   "metadata": {
    "execution": {
     "iopub.execute_input": "2024-06-01T00:11:05.321351Z",
     "iopub.status.busy": "2024-06-01T00:11:05.320890Z",
     "iopub.status.idle": "2024-06-01T00:11:05.825960Z",
     "shell.execute_reply": "2024-06-01T00:11:05.824809Z"
    }
   },
   "outputs": [
    {
     "data": {
      "image/png": "[encoded data removed]",
      "text/plain": [
       "<Figure size 640x480 with 2 Axes>"
      ]
     },
     "metadata": {},
     "output_type": "display_data"
    }
   ],
   "source": [
    "%matplotlib inline\n",
    "with pyfits.open(myLATdataset.filt_file) as event_file:\n",
    "    lat_events = event_file[\"EVENTS\"].data\n",
    "event_times = lat_events[\"TIME\"] - myGRB[\"MET\"]\n",
    "\n",
    "intervals = [0, 10, 30, 80, 180]\n",
    "fig, axs = plt.subplots(2, 1, sharex=True)\n",
    "plt.sca(axs[0])\n",
    "plt.hist(event_times)\n",
    "plt.hist(event_times, intervals, histtype=\"step\")\n",
    "plt.ylabel(\"Events\")\n",
    "plt.sca(axs[1])\n",
    "plt.scatter(\n",
    "    event_times,\n",
    "    lat_events[\"ENERGY\"],\n",
    "    marker=\"o\",\n",
    "    c=lat_events[\"ENERGY\"],\n",
    "    norm=\"log\",\n",
    "    alpha=0.5,\n",
    "    zorder=20,\n",
    ")\n",
    "plt.yscale(\"log\")\n",
    "plt.ylabel(\"Energy [MeV]\")\n",
    "plt.xlabel(\"Time - T0 [s]\")\n",
    "plt.grid(True)"
   ]
  },
  {
   "cell_type": "markdown",
   "id": "12f3ba3a",
   "metadata": {},
   "source": [
    "tstarts and tstops are defined as strings, with somma separated values for the starts and the ends of the time bins: For example tsrats=\"0,1,10\" and tstops=\"1,10,20\". To convert arrays in string we use these few lines of code:\n"
   ]
  },
  {
   "cell_type": "code",
   "execution_count": 9,
   "id": "de3b3e54",
   "metadata": {
    "execution": {
     "iopub.execute_input": "2024-06-01T00:11:05.831325Z",
     "iopub.status.busy": "2024-06-01T00:11:05.831024Z",
     "iopub.status.idle": "2024-06-01T00:11:05.840779Z",
     "shell.execute_reply": "2024-06-01T00:11:05.839473Z"
    }
   },
   "outputs": [
    {
     "name": "stdout",
     "output_type": "stream",
     "text": [
      "0.0000,10.0000,30.0000,80.0000\n",
      "10.0000,30.0000,80.0000,180.0000\n"
     ]
    }
   ],
   "source": [
    "tstarts = tstops = \"\"\n",
    "for t0, t1 in zip(intervals[:-1], intervals[1:]):\n",
    "    tstarts += \"%.4f,\" % t0\n",
    "    tstops += \"%.4f,\" % t1\n",
    "    pass\n",
    "tstarts = tstarts[:-1].replace(\"-\", \"\\\\-\")\n",
    "print(tstarts)\n",
    "tstops = tstops[:-1].replace(\"-\", \"\\\\-\")\n",
    "print(tstops)"
   ]
  },
  {
   "cell_type": "markdown",
   "id": "a3d9f047",
   "metadata": {},
   "source": [
    "We can now make an instance the LAT transient builder\n"
   ]
  },
  {
   "cell_type": "code",
   "execution_count": 10,
   "id": "434f98eb",
   "metadata": {
    "execution": {
     "iopub.execute_input": "2024-06-01T00:11:05.846129Z",
     "iopub.status.busy": "2024-06-01T00:11:05.845848Z",
     "iopub.status.idle": "2024-06-01T00:11:05.854410Z",
     "shell.execute_reply": "2024-06-01T00:11:05.853030Z"
    }
   },
   "outputs": [
    {
     "name": "stdout",
     "output_type": "stream",
     "text": [
      "outfile                                      190114873\n",
      "roi                                                 10\n",
      "tstarts                 0.0000,10.0000,30.0000,80.0000\n",
      "tstops                10.0000,30.0000,80.0000,180.0000\n",
      "zmax                                             110.0\n",
      "emin                                             100.0\n",
      "emax                                          100000.0\n",
      "irf                                   p8_transient020e\n",
      "galactic_model                                template\n",
      "particle_model                          isotr template\n",
      "source_model                                 PowerLaw2\n",
      "tsmin                                             20.0\n",
      "strategy                                          time\n",
      "thetamax                                         180.0\n",
      "spectralfiles                                       no\n",
      "liketype                                      unbinned\n",
      "optimizeposition                                    no\n",
      "datarepository                                       .\n",
      "ltcube                                                \n",
      "expomap                                               \n",
      "ulphindex                                           -2\n",
      "flemin                                             100\n",
      "flemax                                           10000\n",
      "fgl_mode                                          fast\n",
      "filter_GTI                                       False\n",
      "likelihood_profile                               False\n",
      "remove_fits_files                                False\n",
      "dtype: object\n"
     ]
    }
   ],
   "source": [
    "analysis_builder = TransientLATDataBuilder(\n",
    "    myLATdataset.grb_name,\n",
    "    outfile=myLATdataset.grb_name,\n",
    "    roi=roi,\n",
    "    tstarts=tstarts,\n",
    "    tstops=tstops,\n",
    "    irf=irfs,\n",
    "    zmax=zmax,\n",
    "    galactic_model=\"template\",\n",
    "    particle_model=\"isotr template\",\n",
    "    datarepository=\".\",\n",
    ")\n",
    "df = analysis_builder.display(get=True)"
   ]
  },
  {
   "cell_type": "markdown",
   "id": "b22b0ceb",
   "metadata": {},
   "source": [
    "The run method will run (using gtburst) all the fermitools needed to obtain the needed file for the likelihood analysis (livetimecubes, exposure maps. It will also perfom a simple likelihood analysis with the standard likelihood of the fermitools (pylikelihood). The dataproducts created here will be used by threeML to make the fit.\n"
   ]
  },
  {
   "cell_type": "code",
   "execution_count": 11,
   "id": "f7d06cda",
   "metadata": {
    "execution": {
     "iopub.execute_input": "2024-06-01T00:11:05.859886Z",
     "iopub.status.busy": "2024-06-01T00:11:05.859609Z",
     "iopub.status.idle": "2024-06-01T00:13:21.643984Z",
     "shell.execute_reply": "2024-06-01T00:13:21.642186Z"
    }
   },
   "outputs": [
    {
     "data": {
      "text/html": [
       "<pre style=\"white-space:pre;overflow-x:auto;line-height:normal;font-family:Menlo,'DejaVu Sans Mono',consolas,'Courier New',monospace\"><span style=\"color: #00ff00; text-decoration-color: #00ff00\">         </span><span style=\"color: #00ffaf; text-decoration-color: #00ffaf\">INFO    </span> <span style=\"color: #c6c6c6; text-decoration-color: #c6c6c6; font-weight: bold\"> Changing permission to                                              </span><a href=\"file:///Users/runner/work/threeML/threeML/threeML/utils/data_builders/fermi/lat_transient_builder.py\" target=\"_blank\"><span style=\"color: #7f7f7f; text-decoration-color: #7f7f7f\">lat_transient_builder.py</span></a><span style=\"color: #7f7f7f; text-decoration-color: #7f7f7f\">:</span><a href=\"file:///Users/runner/work/threeML/threeML/threeML/utils/data_builders/fermi/lat_transient_builder.py#635\" target=\"_blank\"><span style=\"color: #7f7f7f; text-decoration-color: #7f7f7f\">635</span></a>\n",
       "<span style=\"color: #00ff00; text-decoration-color: #00ff00\">         </span>         <span style=\"color: #5f5f5f; text-decoration-color: #5f5f5f; font-weight: bold\">/usr/local/miniconda/envs/test_env/lib/python3.9/site-packages/fermi</span><span style=\"color: #c6c6c6; text-decoration-color: #c6c6c6; font-weight: bold\"> </span><span style=\"color: #7f7f7f; text-decoration-color: #7f7f7f\">                            </span>\n",
       "<span style=\"color: #00ff00; text-decoration-color: #00ff00\">         </span>         <span style=\"color: #5f5f5f; text-decoration-color: #5f5f5f; font-weight: bold\">tools/GtBurst/scripts/</span><span style=\"color: #000080; text-decoration-color: #000080; font-weight: bold\">doTimeResolvedLike.py</span><span style=\"color: #c6c6c6; text-decoration-color: #c6c6c6; font-weight: bold\">                          </span><span style=\"color: #7f7f7f; text-decoration-color: #7f7f7f\">                            </span>\n",
       "</pre>\n"
      ],
      "text/plain": [
       "\u001b[38;5;46m        \u001b[0m\u001b[38;5;46m \u001b[0m\u001b[38;5;49mINFO    \u001b[0m \u001b[1;38;5;251m Changing permission to                                             \u001b[0m\u001b[1;38;5;251m \u001b[0m\u001b]8;id=789313;file:///Users/runner/work/threeML/threeML/threeML/utils/data_builders/fermi/lat_transient_builder.py\u001b\\\u001b[2mlat_transient_builder.py\u001b[0m\u001b]8;;\u001b\\\u001b[2m:\u001b[0m\u001b]8;id=374608;file:///Users/runner/work/threeML/threeML/threeML/utils/data_builders/fermi/lat_transient_builder.py#635\u001b\\\u001b[2m635\u001b[0m\u001b]8;;\u001b\\\n",
       "\u001b[38;5;46m         \u001b[0m         \u001b[1;38;5;59m/usr/local/miniconda/envs/test_env/lib/python3.9/site-packages/fermi\u001b[0m\u001b[1;38;5;251m \u001b[0m\u001b[2m                            \u001b[0m\n",
       "\u001b[38;5;46m         \u001b[0m         \u001b[1;38;5;59mtools/GtBurst/scripts/\u001b[0m\u001b[1;34mdoTimeResolvedLike.py\u001b[0m\u001b[1;38;5;251m                         \u001b[0m\u001b[1;38;5;251m \u001b[0m\u001b[2m                            \u001b[0m\n"
      ]
     },
     "metadata": {},
     "output_type": "display_data"
    },
    {
     "data": {
      "text/html": [
       "<pre style=\"white-space:pre;overflow-x:auto;line-height:normal;font-family:Menlo,'DejaVu Sans Mono',consolas,'Courier New',monospace\"><span style=\"color: #00ff00; text-decoration-color: #00ff00\">         </span><span style=\"color: #00ffaf; text-decoration-color: #00ffaf\">INFO    </span> <span style=\"color: #c6c6c6; text-decoration-color: #c6c6c6; font-weight: bold\"> Changing permission to                                              </span><a href=\"file:///Users/runner/work/threeML/threeML/threeML/utils/data_builders/fermi/lat_transient_builder.py\" target=\"_blank\"><span style=\"color: #7f7f7f; text-decoration-color: #7f7f7f\">lat_transient_builder.py</span></a><span style=\"color: #7f7f7f; text-decoration-color: #7f7f7f\">:</span><a href=\"file:///Users/runner/work/threeML/threeML/threeML/utils/data_builders/fermi/lat_transient_builder.py#635\" target=\"_blank\"><span style=\"color: #7f7f7f; text-decoration-color: #7f7f7f\">635</span></a>\n",
       "<span style=\"color: #00ff00; text-decoration-color: #00ff00\">         </span>         <span style=\"color: #5f5f5f; text-decoration-color: #5f5f5f; font-weight: bold\">/usr/local/miniconda/envs/test_env/lib/python3.9/site-packages/fermi</span><span style=\"color: #c6c6c6; text-decoration-color: #c6c6c6; font-weight: bold\"> </span><span style=\"color: #7f7f7f; text-decoration-color: #7f7f7f\">                            </span>\n",
       "<span style=\"color: #00ff00; text-decoration-color: #00ff00\">         </span>         <span style=\"color: #5f5f5f; text-decoration-color: #5f5f5f; font-weight: bold\">tools/GtBurst/gtapps_mp/</span><span style=\"color: #000080; text-decoration-color: #000080; font-weight: bold\">gtdiffrsp_mp.py</span><span style=\"color: #c6c6c6; text-decoration-color: #c6c6c6; font-weight: bold\">                              </span><span style=\"color: #7f7f7f; text-decoration-color: #7f7f7f\">                            </span>\n",
       "</pre>\n"
      ],
      "text/plain": [
       "\u001b[38;5;46m        \u001b[0m\u001b[38;5;46m \u001b[0m\u001b[38;5;49mINFO    \u001b[0m \u001b[1;38;5;251m Changing permission to                                             \u001b[0m\u001b[1;38;5;251m \u001b[0m\u001b]8;id=620080;file:///Users/runner/work/threeML/threeML/threeML/utils/data_builders/fermi/lat_transient_builder.py\u001b\\\u001b[2mlat_transient_builder.py\u001b[0m\u001b]8;;\u001b\\\u001b[2m:\u001b[0m\u001b]8;id=950895;file:///Users/runner/work/threeML/threeML/threeML/utils/data_builders/fermi/lat_transient_builder.py#635\u001b\\\u001b[2m635\u001b[0m\u001b]8;;\u001b\\\n",
       "\u001b[38;5;46m         \u001b[0m         \u001b[1;38;5;59m/usr/local/miniconda/envs/test_env/lib/python3.9/site-packages/fermi\u001b[0m\u001b[1;38;5;251m \u001b[0m\u001b[2m                            \u001b[0m\n",
       "\u001b[38;5;46m         \u001b[0m         \u001b[1;38;5;59mtools/GtBurst/gtapps_mp/\u001b[0m\u001b[1;34mgtdiffrsp_mp.py\u001b[0m\u001b[1;38;5;251m                             \u001b[0m\u001b[1;38;5;251m \u001b[0m\u001b[2m                            \u001b[0m\n"
      ]
     },
     "metadata": {},
     "output_type": "display_data"
    },
    {
     "data": {
      "text/html": [
       "<pre style=\"white-space:pre;overflow-x:auto;line-height:normal;font-family:Menlo,'DejaVu Sans Mono',consolas,'Courier New',monospace\"><span style=\"color: #00ff00; text-decoration-color: #00ff00\">         </span><span style=\"color: #00ffaf; text-decoration-color: #00ffaf\">INFO    </span> <span style=\"color: #c6c6c6; text-decoration-color: #c6c6c6; font-weight: bold\"> Changing permission to                                              </span><a href=\"file:///Users/runner/work/threeML/threeML/threeML/utils/data_builders/fermi/lat_transient_builder.py\" target=\"_blank\"><span style=\"color: #7f7f7f; text-decoration-color: #7f7f7f\">lat_transient_builder.py</span></a><span style=\"color: #7f7f7f; text-decoration-color: #7f7f7f\">:</span><a href=\"file:///Users/runner/work/threeML/threeML/threeML/utils/data_builders/fermi/lat_transient_builder.py#635\" target=\"_blank\"><span style=\"color: #7f7f7f; text-decoration-color: #7f7f7f\">635</span></a>\n",
       "<span style=\"color: #00ff00; text-decoration-color: #00ff00\">         </span>         <span style=\"color: #5f5f5f; text-decoration-color: #5f5f5f; font-weight: bold\">/usr/local/miniconda/envs/test_env/lib/python3.9/site-packages/fermi</span><span style=\"color: #c6c6c6; text-decoration-color: #c6c6c6; font-weight: bold\"> </span><span style=\"color: #7f7f7f; text-decoration-color: #7f7f7f\">                            </span>\n",
       "<span style=\"color: #00ff00; text-decoration-color: #00ff00\">         </span>         <span style=\"color: #5f5f5f; text-decoration-color: #5f5f5f; font-weight: bold\">tools/GtBurst/gtapps_mp/</span><span style=\"color: #000080; text-decoration-color: #000080; font-weight: bold\">gtexpmap_mp.py</span><span style=\"color: #c6c6c6; text-decoration-color: #c6c6c6; font-weight: bold\">                               </span><span style=\"color: #7f7f7f; text-decoration-color: #7f7f7f\">                            </span>\n",
       "</pre>\n"
      ],
      "text/plain": [
       "\u001b[38;5;46m        \u001b[0m\u001b[38;5;46m \u001b[0m\u001b[38;5;49mINFO    \u001b[0m \u001b[1;38;5;251m Changing permission to                                             \u001b[0m\u001b[1;38;5;251m \u001b[0m\u001b]8;id=674095;file:///Users/runner/work/threeML/threeML/threeML/utils/data_builders/fermi/lat_transient_builder.py\u001b\\\u001b[2mlat_transient_builder.py\u001b[0m\u001b]8;;\u001b\\\u001b[2m:\u001b[0m\u001b]8;id=189765;file:///Users/runner/work/threeML/threeML/threeML/utils/data_builders/fermi/lat_transient_builder.py#635\u001b\\\u001b[2m635\u001b[0m\u001b]8;;\u001b\\\n",
       "\u001b[38;5;46m         \u001b[0m         \u001b[1;38;5;59m/usr/local/miniconda/envs/test_env/lib/python3.9/site-packages/fermi\u001b[0m\u001b[1;38;5;251m \u001b[0m\u001b[2m                            \u001b[0m\n",
       "\u001b[38;5;46m         \u001b[0m         \u001b[1;38;5;59mtools/GtBurst/gtapps_mp/\u001b[0m\u001b[1;34mgtexpmap_mp.py\u001b[0m\u001b[1;38;5;251m                              \u001b[0m\u001b[1;38;5;251m \u001b[0m\u001b[2m                            \u001b[0m\n"
      ]
     },
     "metadata": {},
     "output_type": "display_data"
    },
    {
     "data": {
      "text/html": [
       "<pre style=\"white-space:pre;overflow-x:auto;line-height:normal;font-family:Menlo,'DejaVu Sans Mono',consolas,'Courier New',monospace\"><span style=\"color: #00ff00; text-decoration-color: #00ff00\">         </span><span style=\"color: #00ffaf; text-decoration-color: #00ffaf\">INFO    </span> <span style=\"color: #c6c6c6; text-decoration-color: #c6c6c6; font-weight: bold\"> Changing permission to                                              </span><a href=\"file:///Users/runner/work/threeML/threeML/threeML/utils/data_builders/fermi/lat_transient_builder.py\" target=\"_blank\"><span style=\"color: #7f7f7f; text-decoration-color: #7f7f7f\">lat_transient_builder.py</span></a><span style=\"color: #7f7f7f; text-decoration-color: #7f7f7f\">:</span><a href=\"file:///Users/runner/work/threeML/threeML/threeML/utils/data_builders/fermi/lat_transient_builder.py#635\" target=\"_blank\"><span style=\"color: #7f7f7f; text-decoration-color: #7f7f7f\">635</span></a>\n",
       "<span style=\"color: #00ff00; text-decoration-color: #00ff00\">         </span>         <span style=\"color: #5f5f5f; text-decoration-color: #5f5f5f; font-weight: bold\">/usr/local/miniconda/envs/test_env/lib/python3.9/site-packages/fermi</span><span style=\"color: #c6c6c6; text-decoration-color: #c6c6c6; font-weight: bold\"> </span><span style=\"color: #7f7f7f; text-decoration-color: #7f7f7f\">                            </span>\n",
       "<span style=\"color: #00ff00; text-decoration-color: #00ff00\">         </span>         <span style=\"color: #5f5f5f; text-decoration-color: #5f5f5f; font-weight: bold\">tools/GtBurst/gtapps_mp/</span><span style=\"color: #000080; text-decoration-color: #000080; font-weight: bold\">gtltcube_mp.py</span><span style=\"color: #c6c6c6; text-decoration-color: #c6c6c6; font-weight: bold\">                               </span><span style=\"color: #7f7f7f; text-decoration-color: #7f7f7f\">                            </span>\n",
       "</pre>\n"
      ],
      "text/plain": [
       "\u001b[38;5;46m        \u001b[0m\u001b[38;5;46m \u001b[0m\u001b[38;5;49mINFO    \u001b[0m \u001b[1;38;5;251m Changing permission to                                             \u001b[0m\u001b[1;38;5;251m \u001b[0m\u001b]8;id=841773;file:///Users/runner/work/threeML/threeML/threeML/utils/data_builders/fermi/lat_transient_builder.py\u001b\\\u001b[2mlat_transient_builder.py\u001b[0m\u001b]8;;\u001b\\\u001b[2m:\u001b[0m\u001b]8;id=992697;file:///Users/runner/work/threeML/threeML/threeML/utils/data_builders/fermi/lat_transient_builder.py#635\u001b\\\u001b[2m635\u001b[0m\u001b]8;;\u001b\\\n",
       "\u001b[38;5;46m         \u001b[0m         \u001b[1;38;5;59m/usr/local/miniconda/envs/test_env/lib/python3.9/site-packages/fermi\u001b[0m\u001b[1;38;5;251m \u001b[0m\u001b[2m                            \u001b[0m\n",
       "\u001b[38;5;46m         \u001b[0m         \u001b[1;38;5;59mtools/GtBurst/gtapps_mp/\u001b[0m\u001b[1;34mgtltcube_mp.py\u001b[0m\u001b[1;38;5;251m                              \u001b[0m\u001b[1;38;5;251m \u001b[0m\u001b[2m                            \u001b[0m\n"
      ]
     },
     "metadata": {},
     "output_type": "display_data"
    },
    {
     "data": {
      "text/html": [
       "<pre style=\"white-space:pre;overflow-x:auto;line-height:normal;font-family:Menlo,'DejaVu Sans Mono',consolas,'Courier New',monospace\"><span style=\"color: #00ff00; text-decoration-color: #00ff00\">         </span><span style=\"color: #00ffaf; text-decoration-color: #00ffaf\">INFO    </span> <span style=\"color: #c6c6c6; text-decoration-color: #c6c6c6; font-weight: bold\"> Changing permission to                                              </span><a href=\"file:///Users/runner/work/threeML/threeML/threeML/utils/data_builders/fermi/lat_transient_builder.py\" target=\"_blank\"><span style=\"color: #7f7f7f; text-decoration-color: #7f7f7f\">lat_transient_builder.py</span></a><span style=\"color: #7f7f7f; text-decoration-color: #7f7f7f\">:</span><a href=\"file:///Users/runner/work/threeML/threeML/threeML/utils/data_builders/fermi/lat_transient_builder.py#635\" target=\"_blank\"><span style=\"color: #7f7f7f; text-decoration-color: #7f7f7f\">635</span></a>\n",
       "<span style=\"color: #00ff00; text-decoration-color: #00ff00\">         </span>         <span style=\"color: #5f5f5f; text-decoration-color: #5f5f5f; font-weight: bold\">/usr/local/miniconda/envs/test_env/lib/python3.9/site-packages/fermi</span><span style=\"color: #c6c6c6; text-decoration-color: #c6c6c6; font-weight: bold\"> </span><span style=\"color: #7f7f7f; text-decoration-color: #7f7f7f\">                            </span>\n",
       "<span style=\"color: #00ff00; text-decoration-color: #00ff00\">         </span>         <span style=\"color: #5f5f5f; text-decoration-color: #5f5f5f; font-weight: bold\">tools/GtBurst/gtapps_mp/</span><span style=\"color: #000080; text-decoration-color: #000080; font-weight: bold\">gttsmap_mp.py</span><span style=\"color: #c6c6c6; text-decoration-color: #c6c6c6; font-weight: bold\">                                </span><span style=\"color: #7f7f7f; text-decoration-color: #7f7f7f\">                            </span>\n",
       "</pre>\n"
      ],
      "text/plain": [
       "\u001b[38;5;46m        \u001b[0m\u001b[38;5;46m \u001b[0m\u001b[38;5;49mINFO    \u001b[0m \u001b[1;38;5;251m Changing permission to                                             \u001b[0m\u001b[1;38;5;251m \u001b[0m\u001b]8;id=953174;file:///Users/runner/work/threeML/threeML/threeML/utils/data_builders/fermi/lat_transient_builder.py\u001b\\\u001b[2mlat_transient_builder.py\u001b[0m\u001b]8;;\u001b\\\u001b[2m:\u001b[0m\u001b]8;id=432543;file:///Users/runner/work/threeML/threeML/threeML/utils/data_builders/fermi/lat_transient_builder.py#635\u001b\\\u001b[2m635\u001b[0m\u001b]8;;\u001b\\\n",
       "\u001b[38;5;46m         \u001b[0m         \u001b[1;38;5;59m/usr/local/miniconda/envs/test_env/lib/python3.9/site-packages/fermi\u001b[0m\u001b[1;38;5;251m \u001b[0m\u001b[2m                            \u001b[0m\n",
       "\u001b[38;5;46m         \u001b[0m         \u001b[1;38;5;59mtools/GtBurst/gtapps_mp/\u001b[0m\u001b[1;34mgttsmap_mp.py\u001b[0m\u001b[1;38;5;251m                               \u001b[0m\u001b[1;38;5;251m \u001b[0m\u001b[2m                            \u001b[0m\n"
      ]
     },
     "metadata": {},
     "output_type": "display_data"
    },
    {
     "data": {
      "text/html": [
       "<pre style=\"white-space:pre;overflow-x:auto;line-height:normal;font-family:Menlo,'DejaVu Sans Mono',consolas,'Courier New',monospace\"><span style=\"color: #00ff00; text-decoration-color: #00ff00\">         </span><span style=\"color: #00ffaf; text-decoration-color: #00ffaf\">INFO    </span> <span style=\"color: #c6c6c6; text-decoration-color: #c6c6c6; font-weight: bold\"> About to run the following command:                                 </span><a href=\"file:///Users/runner/work/threeML/threeML/threeML/utils/data_builders/fermi/lat_transient_builder.py\" target=\"_blank\"><span style=\"color: #7f7f7f; text-decoration-color: #7f7f7f\">lat_transient_builder.py</span></a><span style=\"color: #7f7f7f; text-decoration-color: #7f7f7f\">:</span><a href=\"file:///Users/runner/work/threeML/threeML/threeML/utils/data_builders/fermi/lat_transient_builder.py#640\" target=\"_blank\"><span style=\"color: #7f7f7f; text-decoration-color: #7f7f7f\">640</span></a>\n",
       "<span style=\"color: #00ff00; text-decoration-color: #00ff00\">         </span>         <span style=\"color: #5f5f5f; text-decoration-color: #5f5f5f; font-weight: bold\">/usr/local/miniconda/envs/test_env/lib/python3.9/site-packages/fermi</span><span style=\"color: #c6c6c6; text-decoration-color: #c6c6c6; font-weight: bold\"> </span><span style=\"color: #7f7f7f; text-decoration-color: #7f7f7f\">                            </span>\n",
       "<span style=\"color: #00ff00; text-decoration-color: #00ff00\">         </span>         <span style=\"color: #5f5f5f; text-decoration-color: #5f5f5f; font-weight: bold\">tools/GtBurst/scripts/</span><span style=\"color: #000080; text-decoration-color: #000080; font-weight: bold\">doTimeResolvedLike.py</span><span style=\"color: #c6c6c6; text-decoration-color: #c6c6c6; font-weight: bold\"> </span><span style=\"color: #c0c0c0; text-decoration-color: #c0c0c0; font-weight: bold\">190114873</span><span style=\"color: #c6c6c6; text-decoration-color: #c6c6c6; font-weight: bold\"> --outfile      </span><span style=\"color: #7f7f7f; text-decoration-color: #7f7f7f\">                            </span>\n",
       "<span style=\"color: #00ff00; text-decoration-color: #00ff00\">         </span>         <span style=\"color: #5f5f5f; text-decoration-color: #5f5f5f; font-weight: bold\">'190114873'</span><span style=\"color: #c6c6c6; text-decoration-color: #c6c6c6; font-weight: bold\"> --roi </span><span style=\"color: #c0c0c0; text-decoration-color: #c0c0c0; font-weight: bold\">10.000000</span><span style=\"color: #c6c6c6; text-decoration-color: #c6c6c6; font-weight: bold\"> --tstarts                                </span><span style=\"color: #7f7f7f; text-decoration-color: #7f7f7f\">                            </span>\n",
       "<span style=\"color: #00ff00; text-decoration-color: #00ff00\">         </span>         <span style=\"color: #5f5f5f; text-decoration-color: #5f5f5f; font-weight: bold\">'0.0000,10.0000,30.0000,80.0000'</span><span style=\"color: #c6c6c6; text-decoration-color: #c6c6c6; font-weight: bold\"> --tstops                            </span><span style=\"color: #7f7f7f; text-decoration-color: #7f7f7f\">                            </span>\n",
       "<span style=\"color: #00ff00; text-decoration-color: #00ff00\">         </span>         <span style=\"color: #5f5f5f; text-decoration-color: #5f5f5f; font-weight: bold\">'10.0000,30.0000,80.0000,180.0000'</span><span style=\"color: #c6c6c6; text-decoration-color: #c6c6c6; font-weight: bold\"> --zmax </span><span style=\"color: #c0c0c0; text-decoration-color: #c0c0c0; font-weight: bold\">110.000000</span><span style=\"color: #c6c6c6; text-decoration-color: #c6c6c6; font-weight: bold\"> --emin          </span><span style=\"color: #7f7f7f; text-decoration-color: #7f7f7f\">                            </span>\n",
       "<span style=\"color: #00ff00; text-decoration-color: #00ff00\">         </span>         <span style=\"color: #c0c0c0; text-decoration-color: #c0c0c0; font-weight: bold\">100.000000</span><span style=\"color: #c6c6c6; text-decoration-color: #c6c6c6; font-weight: bold\"> --emax </span><span style=\"color: #c0c0c0; text-decoration-color: #c0c0c0; font-weight: bold\">100000.000000</span><span style=\"color: #c6c6c6; text-decoration-color: #c6c6c6; font-weight: bold\"> --irf </span><span style=\"color: #5f5f5f; text-decoration-color: #5f5f5f; font-weight: bold\">'p8_transient020e'</span><span style=\"color: #c6c6c6; text-decoration-color: #c6c6c6; font-weight: bold\">             </span><span style=\"color: #7f7f7f; text-decoration-color: #7f7f7f\">                            </span>\n",
       "<span style=\"color: #00ff00; text-decoration-color: #00ff00\">         </span>         <span style=\"color: #c6c6c6; text-decoration-color: #c6c6c6; font-weight: bold\">--galactic_model </span><span style=\"color: #5f5f5f; text-decoration-color: #5f5f5f; font-weight: bold\">'template'</span><span style=\"color: #c6c6c6; text-decoration-color: #c6c6c6; font-weight: bold\"> --particle_model </span><span style=\"color: #5f5f5f; text-decoration-color: #5f5f5f; font-weight: bold\">'isotr template'</span><span style=\"color: #c6c6c6; text-decoration-color: #c6c6c6; font-weight: bold\">        </span><span style=\"color: #7f7f7f; text-decoration-color: #7f7f7f\">                            </span>\n",
       "<span style=\"color: #00ff00; text-decoration-color: #00ff00\">         </span>         <span style=\"color: #c6c6c6; text-decoration-color: #c6c6c6; font-weight: bold\">--source_model </span><span style=\"color: #5f5f5f; text-decoration-color: #5f5f5f; font-weight: bold\">'PowerLaw2'</span><span style=\"color: #c6c6c6; text-decoration-color: #c6c6c6; font-weight: bold\"> --tsmin </span><span style=\"color: #c0c0c0; text-decoration-color: #c0c0c0; font-weight: bold\">20.000000</span><span style=\"color: #c6c6c6; text-decoration-color: #c6c6c6; font-weight: bold\"> --strategy </span><span style=\"color: #5f5f5f; text-decoration-color: #5f5f5f; font-weight: bold\">'time'</span><span style=\"color: #c6c6c6; text-decoration-color: #c6c6c6; font-weight: bold\">       </span><span style=\"color: #7f7f7f; text-decoration-color: #7f7f7f\">                            </span>\n",
       "<span style=\"color: #00ff00; text-decoration-color: #00ff00\">         </span>         <span style=\"color: #c6c6c6; text-decoration-color: #c6c6c6; font-weight: bold\">--thetamax </span><span style=\"color: #c0c0c0; text-decoration-color: #c0c0c0; font-weight: bold\">180.000000</span><span style=\"color: #c6c6c6; text-decoration-color: #c6c6c6; font-weight: bold\"> --spectralfiles </span><span style=\"color: #5f5f5f; text-decoration-color: #5f5f5f; font-weight: bold\">'no'</span><span style=\"color: #c6c6c6; text-decoration-color: #c6c6c6; font-weight: bold\"> --liketype </span><span style=\"color: #5f5f5f; text-decoration-color: #5f5f5f; font-weight: bold\">'unbinned'</span><span style=\"color: #c6c6c6; text-decoration-color: #c6c6c6; font-weight: bold\">     </span><span style=\"color: #7f7f7f; text-decoration-color: #7f7f7f\">                            </span>\n",
       "<span style=\"color: #00ff00; text-decoration-color: #00ff00\">         </span>         <span style=\"color: #c6c6c6; text-decoration-color: #c6c6c6; font-weight: bold\">--optimizeposition </span><span style=\"color: #5f5f5f; text-decoration-color: #5f5f5f; font-weight: bold\">'no'</span><span style=\"color: #c6c6c6; text-decoration-color: #c6c6c6; font-weight: bold\"> --datarepository </span><span style=\"color: #5f5f5f; text-decoration-color: #5f5f5f; font-weight: bold\">'.'</span><span style=\"color: #c6c6c6; text-decoration-color: #c6c6c6; font-weight: bold\"> --ltcube </span><span style=\"color: #5f5f5f; text-decoration-color: #5f5f5f; font-weight: bold\">''</span><span style=\"color: #c6c6c6; text-decoration-color: #c6c6c6; font-weight: bold\"> --expomap   </span><span style=\"color: #7f7f7f; text-decoration-color: #7f7f7f\">                            </span>\n",
       "<span style=\"color: #00ff00; text-decoration-color: #00ff00\">         </span>         <span style=\"color: #5f5f5f; text-decoration-color: #5f5f5f; font-weight: bold\">''</span><span style=\"color: #c6c6c6; text-decoration-color: #c6c6c6; font-weight: bold\"> --ulphindex </span><span style=\"color: #c0c0c0; text-decoration-color: #c0c0c0; font-weight: bold\">-2.000000</span><span style=\"color: #c6c6c6; text-decoration-color: #c6c6c6; font-weight: bold\"> --flemin </span><span style=\"color: #c0c0c0; text-decoration-color: #c0c0c0; font-weight: bold\">100.000000</span><span style=\"color: #c6c6c6; text-decoration-color: #c6c6c6; font-weight: bold\"> --flemax </span><span style=\"color: #c0c0c0; text-decoration-color: #c0c0c0; font-weight: bold\">10000.000000</span><span style=\"color: #c6c6c6; text-decoration-color: #c6c6c6; font-weight: bold\">   </span><span style=\"color: #7f7f7f; text-decoration-color: #7f7f7f\">                            </span>\n",
       "<span style=\"color: #00ff00; text-decoration-color: #00ff00\">         </span>         <span style=\"color: #c6c6c6; text-decoration-color: #c6c6c6; font-weight: bold\">--fgl_mode </span><span style=\"color: #5f5f5f; text-decoration-color: #5f5f5f; font-weight: bold\">'fast'</span><span style=\"color: #c6c6c6; text-decoration-color: #c6c6c6; font-weight: bold\">                                                    </span><span style=\"color: #7f7f7f; text-decoration-color: #7f7f7f\">                            </span>\n",
       "</pre>\n"
      ],
      "text/plain": [
       "\u001b[38;5;46m        \u001b[0m\u001b[38;5;46m \u001b[0m\u001b[38;5;49mINFO    \u001b[0m \u001b[1;38;5;251m About to run the following command:                                \u001b[0m\u001b[1;38;5;251m \u001b[0m\u001b]8;id=773133;file:///Users/runner/work/threeML/threeML/threeML/utils/data_builders/fermi/lat_transient_builder.py\u001b\\\u001b[2mlat_transient_builder.py\u001b[0m\u001b]8;;\u001b\\\u001b[2m:\u001b[0m\u001b]8;id=18882;file:///Users/runner/work/threeML/threeML/threeML/utils/data_builders/fermi/lat_transient_builder.py#640\u001b\\\u001b[2m640\u001b[0m\u001b]8;;\u001b\\\n",
       "\u001b[38;5;46m         \u001b[0m         \u001b[1;38;5;59m/usr/local/miniconda/envs/test_env/lib/python3.9/site-packages/fermi\u001b[0m\u001b[1;38;5;251m \u001b[0m\u001b[2m                            \u001b[0m\n",
       "\u001b[38;5;46m         \u001b[0m         \u001b[1;38;5;59mtools/GtBurst/scripts/\u001b[0m\u001b[1;34mdoTimeResolvedLike.py\u001b[0m\u001b[1;38;5;251m \u001b[0m\u001b[1;37m190114873\u001b[0m\u001b[1;38;5;251m --outfile     \u001b[0m\u001b[1;38;5;251m \u001b[0m\u001b[2m                            \u001b[0m\n",
       "\u001b[38;5;46m         \u001b[0m         \u001b[1;38;5;59m'190114873'\u001b[0m\u001b[1;38;5;251m --roi \u001b[0m\u001b[1;37m10.000000\u001b[0m\u001b[1;38;5;251m --tstarts                               \u001b[0m\u001b[1;38;5;251m \u001b[0m\u001b[2m                            \u001b[0m\n",
       "\u001b[38;5;46m         \u001b[0m         \u001b[1;38;5;59m'0.0000,10.0000,30.0000,80.0000'\u001b[0m\u001b[1;38;5;251m --tstops                           \u001b[0m\u001b[1;38;5;251m \u001b[0m\u001b[2m                            \u001b[0m\n",
       "\u001b[38;5;46m         \u001b[0m         \u001b[1;38;5;59m'10.0000,30.0000,80.0000,180.0000'\u001b[0m\u001b[1;38;5;251m --zmax \u001b[0m\u001b[1;37m110.000000\u001b[0m\u001b[1;38;5;251m --emin         \u001b[0m\u001b[1;38;5;251m \u001b[0m\u001b[2m                            \u001b[0m\n",
       "\u001b[38;5;46m         \u001b[0m         \u001b[1;37m100.000000\u001b[0m\u001b[1;38;5;251m --emax \u001b[0m\u001b[1;37m100000.000000\u001b[0m\u001b[1;38;5;251m --irf \u001b[0m\u001b[1;38;5;59m'p8_transient020e'\u001b[0m\u001b[1;38;5;251m            \u001b[0m\u001b[1;38;5;251m \u001b[0m\u001b[2m                            \u001b[0m\n",
       "\u001b[38;5;46m         \u001b[0m         \u001b[1;38;5;251m--galactic_model \u001b[0m\u001b[1;38;5;59m'template'\u001b[0m\u001b[1;38;5;251m --particle_model \u001b[0m\u001b[1;38;5;59m'isotr template'\u001b[0m\u001b[1;38;5;251m       \u001b[0m\u001b[1;38;5;251m \u001b[0m\u001b[2m                            \u001b[0m\n",
       "\u001b[38;5;46m         \u001b[0m         \u001b[1;38;5;251m--source_model \u001b[0m\u001b[1;38;5;59m'PowerLaw2'\u001b[0m\u001b[1;38;5;251m --tsmin \u001b[0m\u001b[1;37m20.000000\u001b[0m\u001b[1;38;5;251m --strategy \u001b[0m\u001b[1;38;5;59m'time'\u001b[0m\u001b[1;38;5;251m      \u001b[0m\u001b[1;38;5;251m \u001b[0m\u001b[2m                            \u001b[0m\n",
       "\u001b[38;5;46m         \u001b[0m         \u001b[1;38;5;251m--thetamax \u001b[0m\u001b[1;37m180.000000\u001b[0m\u001b[1;38;5;251m --spectralfiles \u001b[0m\u001b[1;38;5;59m'no'\u001b[0m\u001b[1;38;5;251m --liketype \u001b[0m\u001b[1;38;5;59m'unbinned'\u001b[0m\u001b[1;38;5;251m    \u001b[0m\u001b[1;38;5;251m \u001b[0m\u001b[2m                            \u001b[0m\n",
       "\u001b[38;5;46m         \u001b[0m         \u001b[1;38;5;251m--optimizeposition \u001b[0m\u001b[1;38;5;59m'no'\u001b[0m\u001b[1;38;5;251m --datarepository \u001b[0m\u001b[1;38;5;59m'.'\u001b[0m\u001b[1;38;5;251m --ltcube \u001b[0m\u001b[1;38;5;59m''\u001b[0m\u001b[1;38;5;251m --expomap  \u001b[0m\u001b[1;38;5;251m \u001b[0m\u001b[2m                            \u001b[0m\n",
       "\u001b[38;5;46m         \u001b[0m         \u001b[1;38;5;59m''\u001b[0m\u001b[1;38;5;251m --ulphindex \u001b[0m\u001b[1;37m-2.000000\u001b[0m\u001b[1;38;5;251m --flemin \u001b[0m\u001b[1;37m100.000000\u001b[0m\u001b[1;38;5;251m --flemax \u001b[0m\u001b[1;37m10000.000000\u001b[0m\u001b[1;38;5;251m  \u001b[0m\u001b[1;38;5;251m \u001b[0m\u001b[2m                            \u001b[0m\n",
       "\u001b[38;5;46m         \u001b[0m         \u001b[1;38;5;251m--fgl_mode \u001b[0m\u001b[1;38;5;59m'fast'\u001b[0m\u001b[1;38;5;251m                                                   \u001b[0m\u001b[1;38;5;251m \u001b[0m\u001b[2m                            \u001b[0m\n"
      ]
     },
     "metadata": {},
     "output_type": "display_data"
    },
    {
     "name": "stdout",
     "output_type": "stream",
     "text": [
      " **********\n",
      " **    1 **SET PRINT     .000    \n",
      " **********\n",
      " **********\n",
      " **    2 **SET NOWARN \n",
      " **********\n",
      "\n",
      " PARAMETER DEFINITIONS:\n",
      "    NO.   NAME         VALUE      STEP SIZE      LIMITS\n",
      "     1 'Integral  '    .10000E-01   1.0000         .10000E-04   1000.0    \n",
      "     2 'Index     '   -2.0000       1.0000        -6.0000       .10000E-01\n",
      "     3 'Value     '    1.0000       1.0000         .70000       1.3000    \n",
      "     4 'Normalizat'    1.0000       1.0000         .10000       10.000    \n",
      " **********\n",
      " **    3 **SET ERR    .5000    \n",
      " **********\n",
      " **********\n",
      " **    4 **SET GRAD    1.000    \n",
      " **********\n",
      " **********\n",
      " **    5 **MINIMIZE    900.0       2.000    \n",
      " **********\n",
      "\n",
      " MIGRAD MINIMIZATION HAS CONVERGED.\n",
      "\n",
      " MIGRAD WILL VERIFY CONVERGENCE AND ERROR MATRIX.\n",
      "\n",
      " MIGRAD MINIMIZATION HAS CONVERGED.\n",
      "\n",
      " FCN=   271.7361     FROM MIGRAD    STATUS=CONVERGED     68 CALLS       69 TOTAL\n",
      "                     EDM=   .61E-05  STRATEGY=1  ERROR MATRIX UNCERTAINTY=  7.4%\n",
      "\n",
      "  EXT PARAMETER                                   STEP         FIRST   \n",
      "  NO.   NAME        VALUE          ERROR          SIZE      DERIVATIVE \n",
      "   1  Integral      11.142        .94341       -.98937E-04   -.15807    \n",
      "   2  Index        -2.2206        .95319E-01    .15877E-03    .25128E-01\n",
      "   3  Value         1.0001        .14439        .16780E-02   -.16718E-02\n",
      "   4  Normalizat    9.9985        6.1108        .92305        .20096E-03\n",
      "                               ERR DEF=  .500    \n",
      "Final values: \n",
      "  Integral   = 11.1422\n",
      "  Index      = -2.22061\n",
      "  Value      = 1.0001\n",
      "  Normalizat = 9.99854\n",
      " **********\n",
      " **    6 **HESSE \n",
      " **********\n",
      "\n",
      " FCN=   271.7361     FROM HESSE     STATUS=OK            25 CALLS       94 TOTAL\n",
      "                     EDM=   .87E-05    STRATEGY= 1      ERROR MATRIX ACCURATE \n",
      "\n",
      "  EXT PARAMETER                                INTERNAL      INTERNAL  \n",
      "  NO.   NAME        VALUE          ERROR       STEP SIZE       VALUE   \n",
      "   1  Integral      11.142        .94266        .13811E-04   -1.3593    \n",
      "   2  Index        -2.2206        .95216E-01    .50468E-04    .26064    \n",
      "   3  Value         1.0001        .14383        .40448E-02    3.1413    \n",
      "   4  Normalizat    9.9985        7.2798        .50000        1.5951    \n",
      "                               ERR DEF=  .500    \n",
      "Minuit fit quality: 3   estimated distance: 8.70708e-06\n",
      "Minuit parameter uncertainties:\n",
      "  1  0.942672\n",
      "  2  0.0952335\n",
      "  3  0.15\n",
      "  4  1.33203\n"
     ]
    },
    {
     "name": "stderr",
     "output_type": "stream",
     "text": [
      "/usr/local/miniconda/envs/test_env/lib/python3.9/site-packages/fermitools/MPLPlot.py:54: UserWarning: Matplotlib is currently using agg, which is a non-GUI backend, so cannot show the figure.\n",
      "  self.fig.show()\n",
      "/usr/local/miniconda/envs/test_env/lib/python3.9/site-packages/fermitools/MPLPlot.py:65: UserWarning: Matplotlib is currently using agg, which is a non-GUI backend, so cannot show the figure.\n",
      "  self.fig.show()\n"
     ]
    },
    {
     "name": "stdout",
     "output_type": "stream",
     "text": [
      " **********\n",
      " **    1 **SET PRINT     .000    \n",
      " **********\n",
      " **********\n",
      " **    2 **SET NOWARN \n",
      " **********\n",
      "\n",
      " PARAMETER DEFINITIONS:\n",
      "    NO.   NAME         VALUE      STEP SIZE      LIMITS\n",
      "     1 'Integral  '    .10000E-01   1.0000         .10000E-04   1000.0    \n",
      "     2 'Index     '   -2.0000       1.0000        -6.0000       .10000E-01\n",
      "     3 'Value     '    1.0000       1.0000         .70000       1.3000    \n",
      "     4 'Normalizat'    1.0000       1.0000         .10000       10.000    \n",
      " **********\n",
      " **    3 **SET ERR    .5000    \n",
      " **********\n",
      " **********\n",
      " **    4 **SET GRAD    1.000    \n",
      " **********\n",
      " **********\n",
      " **    5 **MINIMIZE    900.0       2.000    \n",
      " **********\n",
      "\n",
      " MIGRAD MINIMIZATION HAS CONVERGED.\n",
      "\n",
      " MIGRAD WILL VERIFY CONVERGENCE AND ERROR MATRIX.\n",
      "\n",
      " FCN=   204.5496     FROM MIGRAD    STATUS=CONVERGED     73 CALLS       74 TOTAL\n",
      "                     EDM=   .29E-06    STRATEGY= 1      ERROR MATRIX ACCURATE \n",
      "\n",
      "  EXT PARAMETER                                   STEP         FIRST   \n",
      "  NO.   NAME        VALUE          ERROR          SIZE      DERIVATIVE \n",
      "   1  Integral      1.7650        .24371        .18035E-02    .51152E-01\n",
      "   2  Index        -1.7297        .12792        .14601E-01    .93571E-02\n",
      "   3  Value         1.0002        .14437        .15688       -.32336E-03\n",
      "   4  Normalizat   10.0000        9.7741        .45249    ** at limit **\n",
      "                               ERR DEF=  .500    \n",
      "Final values: \n",
      "  Integral   = 1.76499\n",
      "  Index      = -1.72966\n",
      "  Value      = 1.00022\n",
      "  Normalizat = 10\n",
      " **********\n",
      " **    6 **HESSE \n",
      " **********\n",
      "\n",
      " FCN=   204.5496     FROM HESSE     STATUS=OK            23 CALLS       97 TOTAL\n",
      "                     EDM=   .29E-06    STRATEGY= 1      ERROR MATRIX ACCURATE \n",
      "\n",
      "  EXT PARAMETER                                INTERNAL      INTERNAL  \n",
      "  NO.   NAME        VALUE          ERROR       STEP SIZE       VALUE   \n",
      "   1  Integral      1.7650        .24392        .79710E-05   -1.4867    \n",
      "   2  Index        -1.7297        .12804        .64475E-04    .43463    \n",
      "   3  Value         1.0002        .14383        .70207E-03    .73696E-03\n",
      "   4  Normalizat   10.0000        9.7676        .19711E-01    1.5703    \n",
      "                                 WARNING -   - ABOVE PARAMETER IS AT LIMIT.\n",
      "                               ERR DEF=  .500    \n",
      "Minuit fit quality: 3   estimated distance: 2.93007e-07\n",
      "Minuit parameter uncertainties:\n",
      "  1  0.243918\n",
      "  2  0.128087\n",
      "  3  0.149999\n",
      "  4  0.00742061\n"
     ]
    },
    {
     "name": "stdout",
     "output_type": "stream",
     "text": [
      "\n",
      "Requested intervals:\n",
      "------------------------------------------------------\n",
      "0.0                  - 10.0\n",
      "10.0                 - 30.0\n",
      "30.0                 - 80.0\n",
      "80.0                 - 180.0\n",
      "\n",
      "Data files:\n",
      "-----------\n",
      "eventfile            /Users/runner/work/threeML/threeML/docs/md_docs/slow_execute/bn190114873/gll_ft1_tr_bn190114873_v00.fit\n",
      "ft2file              /Users/runner/work/threeML/threeML/docs/md_docs/slow_execute/bn190114873/gll_ft2_tr_bn190114873_v00.fit\n",
      "rspfile              /Users/runner/work/threeML/threeML/docs/md_docs/slow_execute/bn190114873/gll_cspec_tr_bn190114873_v00.rsp\n",
      "cspecfile            /Users/runner/work/threeML/threeML/docs/md_docs/slow_execute/bn190114873/gll_cspec_tr_bn190114873_v00.pha\n",
      "\n",
      "ROI:\n",
      "-----\n",
      "R.A.                 54.51\n",
      "Dec.                 -26.939\n",
      "Radius               10.0\n",
      "\n",
      "Interval # 1 (0.0-10.0):\n",
      "-----------------------\n",
      "\n",
      "-> gtdocountsmap.py rad='10.0' eventfile='/Users/runner/work/threeML/threeML/docs/md_docs/slow_execute/bn190114873/gll_ft1_tr_bn190114873_v00.fit' zmax='110.0' thetamax='180.0' emin='100.0' emax='100000.0' skymap='190114873_LAT_skymap_0.0-10.0.fit' rspfile='/Users/runner/work/threeML/threeML/docs/md_docs/slow_execute/bn190114873/gll_cspec_tr_bn190114873_v00.rsp' strategy='time' ft2file='/Users/runner/work/threeML/threeML/docs/md_docs/slow_execute/bn190114873/gll_ft2_tr_bn190114873_v00.fit' tstart='0.0' tstop='10.0' ra='54.51' dec='-26.939' irf='p8_transient020e' allowEmpty='no'\n",
      "time -p gtmktime scfile=/Users/runner/work/threeML/threeML/docs/md_docs/slow_execute/bn190114873/gll_ft2_tr_bn190114873_v00.fit sctable=\"SC_DATA\" filter=\"(DATA_QUAL>0 || DATA_QUAL==-1) && LAT_CONFIG==1 && IN_SAA!=T && LIVETIME>0 && (ANGSEP(RA_ZENITH,DEC_ZENITH,54.51,-26.939)<=(110.0-10.0))\" roicut=no evfile=/Users/runner/work/threeML/threeML/docs/md_docs/slow_execute/bn190114873/gll_ft1_tr_bn190114873_v00.fit evtable=\"EVENTS\" outfile=\"gll_ft1_tr_bn190114873_v00_mkt.fit\" apply_filter=yes overwrite=no header_obstimes=yes tstart=569192227.626 tstop=569192237.626 gtifile=\"default\" chatter=2 clobber=yes debug=no gui=no mode=\"ql\"\n",
      "real 0.09\n",
      "user 0.06\n",
      "sys 0.02\n",
      "\n",
      "Using 305 data\n",
      "\n",
      "time -p gtselect infile=gll_ft1_tr_bn190114873_v00_mkt.fit outfile=gll_ft1_tr_bn190114873_v00_filt.fit ra=54.51 dec=-26.939 rad=10.0 tmin=569192227.626 tmax=569192237.626 emin=100.0 emax=100000.0 zmin=0.0 zmax=110.0 evclass=8 evtype=3 convtype=-1 phasemin=0.0 phasemax=1.0 evtable=\"EVENTS\" chatter=2 clobber=yes debug=no gui=no mode=\"ql\"\n",
      "Done.\n",
      "real 0.11\n",
      "user 0.09\n",
      "sys 0.01\n",
      "\n",
      "Selected 154 events.\n",
      "time -p gtbin evfile=gll_ft1_tr_bn190114873_v00_filt.fit scfile=/Users/runner/work/threeML/threeML/docs/md_docs/slow_execute/bn190114873/gll_ft2_tr_bn190114873_v00.fit outfile=190114873_LAT_skymap_0.0-10.0.fit algorithm=\"CMAP\" ebinalg=\"LOG\" emin=30.0 emax=200000.0 ebinfile=NONE tbinalg=\"LIN\" tbinfile=NONE nxpix=101 nypix=101 binsz=0.2 coordsys=\"CEL\" xref=54.51 yref=-26.939 axisrot=0.0 rafield=\"RA\" decfield=\"DEC\" proj=\"AIT\" hpx_ordering_scheme=\"RING\" hpx_order=3 hpx_ebin=yes hpx_region=\"\" evtable=\"EVENTS\" sctable=\"SC_DATA\" efield=\"ENERGY\" tfield=\"TIME\" chatter=2 clobber=yes debug=no gui=no mode=\"ql\"\n",
      "This is gtbin version HEAD\n",
      "real 0.15\n",
      "user 0.13\n",
      "sys 0.01\n",
      "\n",
      "Total number of events in the counts map: 154\n",
      "Total time in Good Time Intervals:        10.0\n",
      "-> gtbuildxmlmodel xmlmodel='190114873_LAT_xmlmodel_0.0-10.0.xml' filteredeventfile='gll_ft1_tr_bn190114873_v00_filt.fit' galactic_model='template' particle_model='isotr template' ra='54.51' dec='-26.939' fgl_mode='fast' ft2file='/Users/runner/work/threeML/threeML/docs/md_docs/slow_execute/bn190114873/gll_ft2_tr_bn190114873_v00.fit' source_model='PowerLaw2'\n",
      "\n",
      "Found Isotropic template for irf P8R3_TRANSIENT020E_V3: /usr/local/miniconda/envs/test_env/share/fermitools/refdata/fermi/galdiffuse/iso_P8R3_TRANSIENT020E_V3_v1.txt\n",
      "\n",
      "Found Galactic template for IRF. P8R3_TRANSIENT020E_V3: /usr/local/miniconda/envs/test_env/share/fermitools/refdata/fermi/galdiffuse/gll_iem_v07.fits\n",
      "\n",
      "Cutting the template around the ROI: \n",
      "\n",
      "addFGLsources( 54.51 -26.939 18.0 190114873_LAT_xmlmodel_0.0-10.0.xml 10.0 )\n",
      "('SpatialMap', True)\n",
      "Keeping diffuse source 4FGL J0322.6-3712e (10.77 deg away) using template /usr/local/miniconda/envs/test_env/share/fermitools/data/pyBurstAnalysisGUI/templates/FornaxA.fits...\n",
      "Keeping diffuse source 4FGL J0322.6-3712e (10.77 deg away) using spatial model SpatialMap...\n",
      "Kept 1 point sources from the FGL catalog\n",
      "-> gtdolike.py spectralfiles='no' xmlmodel='190114873_LAT_xmlmodel_0.0-10.0.xml' liketype='unbinned' filteredeventfile='gll_ft1_tr_bn190114873_v00_filt.fit' rspfile='/Users/runner/work/threeML/threeML/docs/md_docs/slow_execute/bn190114873/gll_cspec_tr_bn190114873_v00.rsp' showmodelimage='no' tsmin='20.0' optimizeposition='no' ft2file='/Users/runner/work/threeML/threeML/docs/md_docs/slow_execute/bn190114873/gll_ft2_tr_bn190114873_v00.fit' skymap='190114873_LAT_skymap_0.0-10.0.fit' flemin='100.000000' flemax='10000.000000'\n",
      "time -p gtltcube evfile=\"/Users/runner/work/threeML/threeML/docs/md_docs/slow_execute/interval0.0-10.0/gll_ft1_tr_bn190114873_v00_filt.fit\" evtable=\"EVENTS\" scfile=__ft2temp.fits sctable=\"SC_DATA\" outfile=gll_ft1_tr_bn190114873_v00_filt_ltcube.fit dcostheta=0.025 binsz=1.0 phibins=1 tmin=0.0 tmax=0.0 file_version=\"1\" zmin=0.0 zmax=180.0 chatter=2 clobber=yes debug=no gui=no mode=\"ql\"\n",
      "Working on file __ft2temp.fits\n",
      "..!\n",
      "real 0.65\n",
      "user 0.30\n",
      "sys 0.33\n",
      "/usr/local/miniconda/envs/test_env/lib/python3.9/site-packages/fermitools/GtBurst/gtapps_mp/gtexpmap_mp.py 40 40 2 2 /Users/runner/work/threeML/threeML/docs/md_docs/slow_execute/bn190114873/gll_ft2_tr_bn190114873_v00.fit /Users/runner/work/threeML/threeML/docs/md_docs/slow_execute/interval0.0-10.0/gll_ft1_tr_bn190114873_v00_filt.fit gll_ft1_tr_bn190114873_v00_filt_ltcube.fit P8R3_TRANSIENT020E_V3 20.0 20 gll_ft1_tr_bn190114873_v00_filt_expomap.fit\n",
      "Starting calculation of region 0.0,0.0 to 20.0,20.0\n",
      "\n",
      "Completed calculation of region 0.0,0.0 to 20.0,20.0\n",
      "\n",
      "Starting calculation of region 20.0,0.0 to 40.0,20.0\n",
      "\n",
      "Completed calculation of region 20.0,0.0 to 40.0,20.0\n",
      "\n",
      "Starting calculation of region 20.0,20.0 to 40.0,40.0\n",
      "\n",
      "Completed calculation of region 20.0,20.0 to 40.0,40.0\n",
      "\n",
      "Starting calculation of region 0.0,20.0 to 20.0,40.0\n",
      "\n",
      "Completed calculation of region 0.0,20.0 to 20.0,40.0\n",
      "\n",
      "Spawning 4 jobs...\n",
      "\n",
      "Combining temporary files...\n",
      "\n",
      "Deleting temporary files...\n",
      "\n",
      "\n",
      "\n",
      "time -p gtdiffrsp evfile=/Users/runner/work/threeML/threeML/docs/md_docs/slow_execute/interval0.0-10.0/gll_ft1_tr_bn190114873_v00_filt.fit evtable=\"EVENTS\" scfile=/Users/runner/work/threeML/threeML/docs/md_docs/slow_execute/bn190114873/gll_ft2_tr_bn190114873_v00.fit sctable=\"SC_DATA\" srcmdl=190114873_LAT_xmlmodel_0.0-10.0.xml irfs=\"P8R3_TRANSIENT020E_V3\" evclsmin=\"INDEF\" evclass=\"INDEF\" evtype=\"INDEF\" convert=no chatter=2 clobber=yes debug=no gui=no mode=\"ql\"\n",
      "adding source 4FGL J0322.6-3712e\n",
      "adding source GalacticTemplate\n",
      "adding source IsotropicTemplate\n",
      "Working on...\n",
      "/Users/runner/work/threeML/threeML/docs/md_docs/slow_execute/interval0.0-10.0/gll_ft1_tr_bn190114873_v00_filt.fit......................!\n",
      "real 18.77\n",
      "user 18.23\n",
      "sys 0.51\n",
      "Loading python Likelihood interface...\n",
      "\n",
      "Applying a Gaussian prior with sigma 0.15 on the normalization of the Galactic Template\n",
      "{'Norm': 1.0, 'Mean': 1.0, 'Sigma': 0.15, 'Offset': 0.0}\n",
      "\n",
      "Likelihood settings:\n",
      "\n",
      "Event file(s): /Users/runner/work/threeML/threeML/docs/md_docs/slow_execute/interval0.0-10.0/gll_ft1_tr_bn190114873_v00_filt.fit\n",
      "Spacecraft file(s): /Users/runner/work/threeML/threeML/docs/md_docs/slow_execute/bn190114873/gll_ft2_tr_bn190114873_v00.fit\n",
      "Exposure map: gll_ft1_tr_bn190114873_v00_filt_expomap.fit\n",
      "Exposure cube: gll_ft1_tr_bn190114873_v00_filt_ltcube.fit\n",
      "IRFs: P8R3_TRANSIENT020E_V3\n",
      "Source model file: 190114873_LAT_xmlmodel_0.0-10.0.xml\n",
      "Optimizer: Minuit\n",
      "\n",
      "Performing likelihood fit...\n",
      "Data  154.0\n",
      "srcName  2.752536817872419e-05\n",
      "srcName  153.6695256964082\n",
      "srcName  0.012114556040442377\n",
      "srcName  0.28959458185225645\n",
      "Resid  154.0 153.97126235966903 1.4893784459209356\n",
      "plotting GRB spectrum\n",
      "srcName  153.6695256964082\n",
      "|--------------------|---------------|----------|  ----------|----------|------|\n",
      "|         Source name|      Par. Name|     Value|       Error|     Units|    TS|\n",
      "|--------------------|---------------|----------|------------|----------|------|\n",
      "|GRB                 |               |          |            |          |  2040|\n",
      "|                    |       Integral|    0.0111|    0.000943| ph./cm2/s|      |\n",
      "|                    |          Index|     -2.22|      0.0952|         -|      |\n",
      "|                    |     LowerLimit|       100|n.a. (fixed)|       MeV|      |\n",
      "|                    |     UpperLimit|     1e+05|n.a. (fixed)|       MeV|      |\n",
      "|                    |    Energy flux|   6.3e-06|    7.16e-07| erg/cm2/s|      |\n",
      "|                    |    Photon flux|    0.0111|    0.000944| ph./cm2/s|      |\n",
      "|GalacticTemplate    |               |          |            |          |     0|\n",
      "|                    |          Value|         1|        0.15|         -|      |\n",
      "|                    |    Energy flux|  3.76e-07|    5.64e-08| erg/cm2/s|      |\n",
      "|                    |    Photon flux|   0.00052|    7.79e-05| ph./cm2/s|      |\n",
      "|IsotropicTemplate   |               |          |            |          |     1|\n",
      "|                    |  Normalization|        10|        1.33|         -|      |\n",
      "|                    |    Energy flux|  1.19e-06|    1.58e-07| erg/cm2/s|      |\n",
      "|                    |    Photon flux|   0.00258|    0.000343| ph./cm2/s|      |\n",
      "--------------------------------------------------------------------------------\n",
      "\n",
      "*** plus 1 FGL sources with TS<1 (not printed to save space)\n",
      "*** All fluxes and upper limits have been computed in the 100.0 - 10000.0 energy range.\n",
      "*** Upper limits (if any) are computed assuming a photon index of -2.0, with the 95.0 % c.l.\n",
      "\n",
      "Log(likelihood) = 271.7361141926039\n",
      "time -p gtsrcprob evfile=/Users/runner/work/threeML/threeML/docs/md_docs/slow_execute/interval0.0-10.0/gll_ft1_tr_bn190114873_v00_filt.fit evtable=\"EVENTS\" scfile=/Users/runner/work/threeML/threeML/docs/md_docs/slow_execute/bn190114873/gll_ft2_tr_bn190114873_v00.fit sctable=\"SC_DATA\" outfile=/Users/runner/work/threeML/threeML/docs/md_docs/slow_execute/interval0.0-10.0/gll_ft1_tr_bn190114873_v00_filt_prob.fit srcmdl=gll_ft1_tr_bn190114873_v00_filt_likeRes.xml irfs=\"CALDB\" evtype=\"INDEF\" srclist= chatter=2 clobber=yes debug=no gui=no mode=\"ql\"\n",
      "real 6.73\n",
      "user 5.19\n",
      "sys 1.50\n",
      "\n",
      "\n",
      "Interval # 2 (10.0-30.0):\n",
      "-----------------------\n",
      "\n",
      "-> gtdocountsmap.py rad='10.0' eventfile='/Users/runner/work/threeML/threeML/docs/md_docs/slow_execute/bn190114873/gll_ft1_tr_bn190114873_v00.fit' zmax='110.0' thetamax='180.0' emin='100.0' emax='100000.0' skymap='190114873_LAT_skymap_10.0-30.0.fit' rspfile='/Users/runner/work/threeML/threeML/docs/md_docs/slow_execute/bn190114873/gll_cspec_tr_bn190114873_v00.rsp' strategy='time' ft2file='/Users/runner/work/threeML/threeML/docs/md_docs/slow_execute/bn190114873/gll_ft2_tr_bn190114873_v00.fit' tstart='10.0' tstop='30.0' ra='54.51' dec='-26.939' irf='p8_transient020e' allowEmpty='no'\n",
      "time -p gtmktime scfile=/Users/runner/work/threeML/threeML/docs/md_docs/slow_execute/bn190114873/gll_ft2_tr_bn190114873_v00.fit sctable=\"SC_DATA\" filter=\"(DATA_QUAL>0 || DATA_QUAL==-1) && LAT_CONFIG==1 && IN_SAA!=T && LIVETIME>0 && (ANGSEP(RA_ZENITH,DEC_ZENITH,54.51,-26.939)<=(110.0-10.0))\" roicut=no evfile=/Users/runner/work/threeML/threeML/docs/md_docs/slow_execute/bn190114873/gll_ft1_tr_bn190114873_v00.fit evtable=\"EVENTS\" outfile=\"gll_ft1_tr_bn190114873_v00_mkt.fit\" apply_filter=yes overwrite=no header_obstimes=yes tstart=569192237.626 tstop=569192257.626 gtifile=\"default\" chatter=2 clobber=yes debug=no gui=no mode=\"ql\"\n",
      "real 0.09\n",
      "user 0.06\n",
      "sys 0.02\n",
      "\n",
      "Using 305 data\n",
      "\n",
      "time -p gtselect infile=gll_ft1_tr_bn190114873_v00_mkt.fit outfile=gll_ft1_tr_bn190114873_v00_filt.fit ra=54.51 dec=-26.939 rad=10.0 tmin=569192237.626 tmax=569192257.626 emin=100.0 emax=100000.0 zmin=0.0 zmax=110.0 evclass=8 evtype=3 convtype=-1 phasemin=0.0 phasemax=1.0 evtable=\"EVENTS\" chatter=2 clobber=yes debug=no gui=no mode=\"ql\"\n",
      "Done.\n",
      "real 0.11\n",
      "user 0.09\n",
      "sys 0.01\n",
      "\n",
      "Selected 56 events.\n",
      "time -p gtbin evfile=gll_ft1_tr_bn190114873_v00_filt.fit scfile=/Users/runner/work/threeML/threeML/docs/md_docs/slow_execute/bn190114873/gll_ft2_tr_bn190114873_v00.fit outfile=190114873_LAT_skymap_10.0-30.0.fit algorithm=\"CMAP\" ebinalg=\"LOG\" emin=30.0 emax=200000.0 ebinfile=NONE tbinalg=\"LIN\" tbinfile=NONE nxpix=101 nypix=101 binsz=0.2 coordsys=\"CEL\" xref=54.51 yref=-26.939 axisrot=0.0 rafield=\"RA\" decfield=\"DEC\" proj=\"AIT\" hpx_ordering_scheme=\"RING\" hpx_order=3 hpx_ebin=yes hpx_region=\"\" evtable=\"EVENTS\" sctable=\"SC_DATA\" efield=\"ENERGY\" tfield=\"TIME\" chatter=2 clobber=yes debug=no gui=no mode=\"ql\"\n",
      "This is gtbin version HEAD\n",
      "real 0.15\n",
      "user 0.13\n",
      "sys 0.02\n",
      "\n",
      "Total number of events in the counts map: 56\n",
      "Total time in Good Time Intervals:        20.0\n",
      "-> gtbuildxmlmodel xmlmodel='190114873_LAT_xmlmodel_10.0-30.0.xml' filteredeventfile='gll_ft1_tr_bn190114873_v00_filt.fit' galactic_model='template' particle_model='isotr template' ra='54.51' dec='-26.939' fgl_mode='fast' ft2file='/Users/runner/work/threeML/threeML/docs/md_docs/slow_execute/bn190114873/gll_ft2_tr_bn190114873_v00.fit' source_model='PowerLaw2'\n",
      "\n",
      "Found Isotropic template for irf P8R3_TRANSIENT020E_V3: /usr/local/miniconda/envs/test_env/share/fermitools/refdata/fermi/galdiffuse/iso_P8R3_TRANSIENT020E_V3_v1.txt\n",
      "\n",
      "Found Galactic template for IRF. P8R3_TRANSIENT020E_V3: /usr/local/miniconda/envs/test_env/share/fermitools/refdata/fermi/galdiffuse/gll_iem_v07.fits\n",
      "\n",
      "Cutting the template around the ROI: \n",
      "\n",
      "addFGLsources( 54.51 -26.939 18.0 190114873_LAT_xmlmodel_10.0-30.0.xml 20.0 )\n",
      "('SpatialMap', True)\n",
      "Keeping diffuse source 4FGL J0322.6-3712e (10.77 deg away) using template /usr/local/miniconda/envs/test_env/share/fermitools/data/pyBurstAnalysisGUI/templates/FornaxA.fits...\n",
      "Keeping diffuse source 4FGL J0322.6-3712e (10.77 deg away) using spatial model SpatialMap...\n",
      "Kept 1 point sources from the FGL catalog\n",
      "-> gtdolike.py spectralfiles='no' xmlmodel='190114873_LAT_xmlmodel_10.0-30.0.xml' liketype='unbinned' filteredeventfile='gll_ft1_tr_bn190114873_v00_filt.fit' rspfile='/Users/runner/work/threeML/threeML/docs/md_docs/slow_execute/bn190114873/gll_cspec_tr_bn190114873_v00.rsp' showmodelimage='no' tsmin='20.0' optimizeposition='no' ft2file='/Users/runner/work/threeML/threeML/docs/md_docs/slow_execute/bn190114873/gll_ft2_tr_bn190114873_v00.fit' skymap='190114873_LAT_skymap_10.0-30.0.fit' flemin='100.000000' flemax='10000.000000'\n",
      "time -p gtltcube evfile=\"/Users/runner/work/threeML/threeML/docs/md_docs/slow_execute/interval10.0-30.0/gll_ft1_tr_bn190114873_v00_filt.fit\" evtable=\"EVENTS\" scfile=__ft2temp.fits sctable=\"SC_DATA\" outfile=gll_ft1_tr_bn190114873_v00_filt_ltcube.fit dcostheta=0.025 binsz=1.0 phibins=1 tmin=0.0 tmax=0.0 file_version=\"1\" zmin=0.0 zmax=180.0 chatter=2 clobber=yes debug=no gui=no mode=\"ql\"\n",
      "Working on file __ft2temp.fits\n",
      "...!\n",
      "real 0.59\n",
      "user 0.30\n",
      "sys 0.27\n",
      "/usr/local/miniconda/envs/test_env/lib/python3.9/site-packages/fermitools/GtBurst/gtapps_mp/gtexpmap_mp.py 40 40 2 2 /Users/runner/work/threeML/threeML/docs/md_docs/slow_execute/bn190114873/gll_ft2_tr_bn190114873_v00.fit /Users/runner/work/threeML/threeML/docs/md_docs/slow_execute/interval10.0-30.0/gll_ft1_tr_bn190114873_v00_filt.fit gll_ft1_tr_bn190114873_v00_filt_ltcube.fit P8R3_TRANSIENT020E_V3 20.0 20 gll_ft1_tr_bn190114873_v00_filt_expomap.fit\n",
      "Starting calculation of region 0.0,20.0 to 20.0,40.0\n",
      "\n",
      "Completed calculation of region 0.0,20.0 to 20.0,40.0\n",
      "\n",
      "Starting calculation of region 20.0,0.0 to 40.0,20.0\n",
      "\n",
      "Completed calculation of region 20.0,0.0 to 40.0,20.0\n",
      "\n",
      "Starting calculation of region 0.0,0.0 to 20.0,20.0\n",
      "\n",
      "Completed calculation of region 0.0,0.0 to 20.0,20.0\n",
      "\n",
      "Starting calculation of region 20.0,20.0 to 40.0,40.0\n",
      "\n",
      "Completed calculation of region 20.0,20.0 to 40.0,40.0\n",
      "\n",
      "Spawning 4 jobs...\n",
      "\n",
      "Combining temporary files...\n",
      "\n",
      "Deleting temporary files...\n",
      "\n",
      "\n",
      "\n"
     ]
    },
    {
     "name": "stdout",
     "output_type": "stream",
     "text": [
      " **********\n",
      " **    1 **SET PRINT     .000    \n",
      " **********\n",
      " **********\n",
      " **    2 **SET NOWARN \n",
      " **********\n",
      "\n",
      " PARAMETER DEFINITIONS:\n",
      "    NO.   NAME         VALUE      STEP SIZE      LIMITS\n",
      "     1 'Integral  '    .10000E-01   1.0000         .10000E-04   1000.0    \n",
      "     2 'Index     '   -2.0000       1.0000        -6.0000       .10000E-01\n",
      "     3 'Value     '    1.0000       1.0000         .70000       1.3000    \n",
      "     4 'Normalizat'    1.0000       1.0000         .10000       10.000    \n",
      " **********\n",
      " **    3 **SET ERR    .5000    \n",
      " **********\n",
      " **********\n",
      " **    4 **SET GRAD    1.000    \n",
      " **********\n",
      " **********\n",
      " **    5 **MINIMIZE    900.0       2.000    \n",
      " **********\n",
      "\n",
      " MIGRAD MINIMIZATION HAS CONVERGED.\n",
      "\n",
      " MIGRAD WILL VERIFY CONVERGENCE AND ERROR MATRIX.\n",
      "\n",
      " FCN=   144.6357     FROM MIGRAD    STATUS=CONVERGED     68 CALLS       69 TOTAL\n",
      "                     EDM=   .83E-05    STRATEGY= 1      ERROR MATRIX ACCURATE \n",
      "\n",
      "  EXT PARAMETER                                   STEP         FIRST   \n",
      "  NO.   NAME        VALUE          ERROR          SIZE      DERIVATIVE \n",
      "   1  Integral      .45427        .79159E-01    .98788E-03    .99854E-02\n",
      "   2  Index        -1.5114        .15387        .15675E-01    .80168E-02\n",
      "   3  Value         .99916        .14437        .15688        .43175E-04\n",
      "   4  Normalizat    .10005        7.4302        .41707        .17970E-02\n",
      "                               ERR DEF=  .500    \n",
      "Final values: \n",
      "  Integral   = 0.454273\n",
      "  Index      = -1.51137\n",
      "  Value      = 0.999163\n",
      "  Normalizat = 0.100048\n",
      " **********\n",
      " **    6 **HESSE \n",
      " **********\n",
      "\n",
      " FCN=   144.6357     FROM HESSE     STATUS=OK            23 CALLS       92 TOTAL\n",
      "                     EDM=   .81E-05    STRATEGY= 1      ERROR MATRIX ACCURATE \n",
      "\n",
      "  EXT PARAMETER                                INTERNAL      INTERNAL  \n",
      "  NO.   NAME        VALUE          ERROR       STEP SIZE       VALUE   \n",
      "   1  Integral      .45427        .79219E-01    .43684E-05   -1.5282    \n",
      "   2  Index        -1.5114        .15398        .69279E-04    .51636    \n",
      "   3  Value         .99916        .14383        .59067E-03   -.27884E-02\n",
      "   4  Normalizat    .10005        7.4036        .92771E-02   -1.5664    \n",
      "                               ERR DEF=  .500    \n",
      "Minuit fit quality: 3   estimated distance: 8.14995e-06\n",
      "Minuit parameter uncertainties:\n",
      "  1  0.0792191\n",
      "  2  0.154065\n",
      "  3  0.15\n",
      "  4  0.0341981\n"
     ]
    },
    {
     "name": "stdout",
     "output_type": "stream",
     "text": [
      " **********\n",
      " **    1 **SET PRINT     .000    \n",
      " **********\n",
      " **********\n",
      " **    2 **SET NOWARN \n",
      " **********\n",
      "\n",
      " PARAMETER DEFINITIONS:\n",
      "    NO.   NAME         VALUE      STEP SIZE      LIMITS\n",
      "     1 'Integral  '    .10000E-01   1.0000         .10000E-04   1000.0    \n",
      "     2 'Index     '   -2.0000       1.0000        -6.0000       .10000E-01\n",
      "     3 'Value     '    1.0000       1.0000         .70000       1.3000    \n",
      "     4 'Normalizat'    1.0000       1.0000         .10000       10.000    \n",
      " **********\n",
      " **    3 **SET ERR    .5000    \n",
      " **********\n",
      " **********\n",
      " **    4 **SET GRAD    1.000    \n",
      " **********\n",
      " **********\n",
      " **    5 **MINIMIZE    900.0       2.000    \n",
      " **********\n",
      "\n",
      " MIGRAD MINIMIZATION HAS CONVERGED.\n",
      "\n",
      " MIGRAD WILL VERIFY CONVERGENCE AND ERROR MATRIX.\n",
      "\n",
      " FCN=   62.16513     FROM MIGRAD    STATUS=CONVERGED     73 CALLS       74 TOTAL\n",
      "                     EDM=   .68E-05    STRATEGY= 1      ERROR MATRIX ACCURATE \n",
      "\n",
      "  EXT PARAMETER                                   STEP         FIRST   \n",
      "  NO.   NAME        VALUE          ERROR          SIZE      DERIVATIVE \n",
      "   1  Integral      .59027E-01    .28568E-01    .61794E-03    .27050    \n",
      "   2  Index        -1.6518        .40776        .25489E-01    .96930E-02\n",
      "   3  Value         1.0007        .14399        .87820E-01    .34290E-02\n",
      "   4  Normalizat   10.0000        8.9675        .39847       -.56334E-03\n",
      "                               ERR DEF=  .500    \n",
      "Final values: \n",
      "  Integral   = 0.0590268\n",
      "  Index      = -1.65182\n",
      "  Value      = 1.00065\n",
      "  Normalizat = 9.99998\n",
      " **********\n",
      " **    6 **HESSE \n",
      " **********\n",
      "\n",
      " FCN=   62.16513     FROM HESSE     STATUS=OK            23 CALLS       97 TOTAL\n",
      "                     EDM=   .69E-05    STRATEGY= 1      ERROR MATRIX ACCURATE \n",
      "\n",
      "  EXT PARAMETER                                INTERNAL      INTERNAL  \n",
      "  NO.   NAME        VALUE          ERROR       STEP SIZE       VALUE   \n",
      "   1  Integral      .59027E-01    .28513E-01    .27388E-05   -1.5554    \n",
      "   2  Index        -1.6518        .40805        .11255E-03    .46339    \n",
      "   3  Value         1.0007        .14383        .19351E-02    .21694E-02\n",
      "   4  Normalizat   10.0000        9.0398        .17208E-02    1.5679    \n",
      "                               ERR DEF=  .500    \n",
      "Minuit fit quality: 3   estimated distance: 6.89272e-06\n",
      "Minuit parameter uncertainties:\n",
      "  1  0.028513\n",
      "  2  0.409636\n",
      "  3  0.149997\n",
      "  4  0.0329943\n"
     ]
    },
    {
     "name": "stdout",
     "output_type": "stream",
     "text": [
      "time -p gtdiffrsp evfile=/Users/runner/work/threeML/threeML/docs/md_docs/slow_execute/interval10.0-30.0/gll_ft1_tr_bn190114873_v00_filt.fit evtable=\"EVENTS\" scfile=/Users/runner/work/threeML/threeML/docs/md_docs/slow_execute/bn190114873/gll_ft2_tr_bn190114873_v00.fit sctable=\"SC_DATA\" srcmdl=190114873_LAT_xmlmodel_10.0-30.0.xml irfs=\"P8R3_TRANSIENT020E_V3\" evclsmin=\"INDEF\" evclass=\"INDEF\" evtype=\"INDEF\" convert=no chatter=2 clobber=yes debug=no gui=no mode=\"ql\"\n",
      "adding source 4FGL J0322.6-3712e\n",
      "adding source GalacticTemplate\n",
      "adding source IsotropicTemplate\n",
      "Working on...\n",
      "/Users/runner/work/threeML/threeML/docs/md_docs/slow_execute/interval10.0-30.0/gll_ft1_tr_bn190114873_v00_filt.fit............................!\n",
      "real 10.01\n",
      "user 9.49\n",
      "sys 0.50\n",
      "Loading python Likelihood interface...\n",
      "\n",
      "Applying a Gaussian prior with sigma 0.15 on the normalization of the Galactic Template\n",
      "{'Norm': 1.0, 'Mean': 1.0, 'Sigma': 0.15, 'Offset': 0.0}\n",
      "\n",
      "Likelihood settings:\n",
      "\n",
      "Event file(s): /Users/runner/work/threeML/threeML/docs/md_docs/slow_execute/interval10.0-30.0/gll_ft1_tr_bn190114873_v00_filt.fit\n",
      "Spacecraft file(s): /Users/runner/work/threeML/threeML/docs/md_docs/slow_execute/bn190114873/gll_ft2_tr_bn190114873_v00.fit\n",
      "Exposure map: gll_ft1_tr_bn190114873_v00_filt_expomap.fit\n",
      "Exposure cube: gll_ft1_tr_bn190114873_v00_filt_ltcube.fit\n",
      "IRFs: P8R3_TRANSIENT020E_V3\n",
      "Source model file: 190114873_LAT_xmlmodel_10.0-30.0.xml\n",
      "Optimizer: Minuit\n",
      "\n",
      "Performing likelihood fit...\n",
      "Data  56.0\n",
      "srcName  2.752536817872419e-05\n",
      "srcName  55.13887147698296\n",
      "srcName  0.024028877866810905\n",
      "srcName  0.5742465656691031\n",
      "Resid  56.0 55.73717444588704 -0.6693942200355198\n",
      "plotting GRB spectrum\n",
      "srcName  55.13887147698296\n",
      "|--------------------|---------------|----------|  ----------|----------|------|\n",
      "|         Source name|      Par. Name|     Value|       Error|     Units|    TS|\n",
      "|--------------------|---------------|----------|------------|----------|------|\n",
      "|GRB                 |               |          |            |          |   631|\n",
      "|                    |       Integral|   0.00176|    0.000244| ph./cm2/s|      |\n",
      "|                    |          Index|     -1.73|       0.128|         -|      |\n",
      "|                    |     LowerLimit|       100|n.a. (fixed)|       MeV|      |\n",
      "|                    |     UpperLimit|     1e+05|n.a. (fixed)|       MeV|      |\n",
      "|                    |    Energy flux|   1.9e-06|    3.95e-07| erg/cm2/s|      |\n",
      "|                    |    Photon flux|   0.00171|    0.000244| ph./cm2/s|      |\n",
      "|GalacticTemplate    |               |          |            |          |     1|\n",
      "|                    |          Value|         1|        0.15|         -|      |\n",
      "|                    |    Energy flux|  3.76e-07|    5.64e-08| erg/cm2/s|      |\n",
      "|                    |    Photon flux|   0.00052|    7.79e-05| ph./cm2/s|      |\n",
      "|IsotropicTemplate   |               |          |            |          |     1|\n",
      "|                    |  Normalization|        10|     0.00742|         -|      |\n",
      "|                    |    Energy flux|  1.19e-06|     8.8e-10| erg/cm2/s|      |\n",
      "|                    |    Photon flux|   0.00258|    1.91e-06| ph./cm2/s|      |\n",
      "--------------------------------------------------------------------------------\n",
      "\n",
      "*** plus 1 FGL sources with TS<1 (not printed to save space)\n",
      "*** All fluxes and upper limits have been computed in the 100.0 - 10000.0 energy range.\n",
      "*** Upper limits (if any) are computed assuming a photon index of -2.0, with the 95.0 % c.l.\n",
      "\n",
      "Log(likelihood) = 204.54960186957717\n",
      "time -p gtsrcprob evfile=/Users/runner/work/threeML/threeML/docs/md_docs/slow_execute/interval10.0-30.0/gll_ft1_tr_bn190114873_v00_filt.fit evtable=\"EVENTS\" scfile=/Users/runner/work/threeML/threeML/docs/md_docs/slow_execute/bn190114873/gll_ft2_tr_bn190114873_v00.fit sctable=\"SC_DATA\" outfile=/Users/runner/work/threeML/threeML/docs/md_docs/slow_execute/interval10.0-30.0/gll_ft1_tr_bn190114873_v00_filt_prob.fit srcmdl=gll_ft1_tr_bn190114873_v00_filt_likeRes.xml irfs=\"CALDB\" evtype=\"INDEF\" srclist= chatter=2 clobber=yes debug=no gui=no mode=\"ql\"\n",
      "real 5.62\n",
      "user 5.10\n",
      "sys 0.50\n",
      "\n",
      "\n",
      "Interval # 3 (30.0-80.0):\n",
      "-----------------------\n",
      "\n",
      "-> gtdocountsmap.py rad='10.0' eventfile='/Users/runner/work/threeML/threeML/docs/md_docs/slow_execute/bn190114873/gll_ft1_tr_bn190114873_v00.fit' zmax='110.0' thetamax='180.0' emin='100.0' emax='100000.0' skymap='190114873_LAT_skymap_30.0-80.0.fit' rspfile='/Users/runner/work/threeML/threeML/docs/md_docs/slow_execute/bn190114873/gll_cspec_tr_bn190114873_v00.rsp' strategy='time' ft2file='/Users/runner/work/threeML/threeML/docs/md_docs/slow_execute/bn190114873/gll_ft2_tr_bn190114873_v00.fit' tstart='30.0' tstop='80.0' ra='54.51' dec='-26.939' irf='p8_transient020e' allowEmpty='no'\n",
      "time -p gtmktime scfile=/Users/runner/work/threeML/threeML/docs/md_docs/slow_execute/bn190114873/gll_ft2_tr_bn190114873_v00.fit sctable=\"SC_DATA\" filter=\"(DATA_QUAL>0 || DATA_QUAL==-1) && LAT_CONFIG==1 && IN_SAA!=T && LIVETIME>0 && (ANGSEP(RA_ZENITH,DEC_ZENITH,54.51,-26.939)<=(110.0-10.0))\" roicut=no evfile=/Users/runner/work/threeML/threeML/docs/md_docs/slow_execute/bn190114873/gll_ft1_tr_bn190114873_v00.fit evtable=\"EVENTS\" outfile=\"gll_ft1_tr_bn190114873_v00_mkt.fit\" apply_filter=yes overwrite=no header_obstimes=yes tstart=569192257.626 tstop=569192307.626 gtifile=\"default\" chatter=2 clobber=yes debug=no gui=no mode=\"ql\"\n",
      "real 0.09\n",
      "user 0.06\n",
      "sys 0.02\n",
      "\n",
      "Using 305 data\n",
      "\n",
      "time -p gtselect infile=gll_ft1_tr_bn190114873_v00_mkt.fit outfile=gll_ft1_tr_bn190114873_v00_filt.fit ra=54.51 dec=-26.939 rad=10.0 tmin=569192257.626 tmax=569192307.626 emin=100.0 emax=100000.0 zmin=0.0 zmax=110.0 evclass=8 evtype=3 convtype=-1 phasemin=0.0 phasemax=1.0 evtable=\"EVENTS\" chatter=2 clobber=yes debug=no gui=no mode=\"ql\"\n",
      "Done.\n",
      "real 0.11\n",
      "user 0.09\n",
      "sys 0.01\n",
      "\n",
      "Selected 33 events.\n",
      "time -p gtbin evfile=gll_ft1_tr_bn190114873_v00_filt.fit scfile=/Users/runner/work/threeML/threeML/docs/md_docs/slow_execute/bn190114873/gll_ft2_tr_bn190114873_v00.fit outfile=190114873_LAT_skymap_30.0-80.0.fit algorithm=\"CMAP\" ebinalg=\"LOG\" emin=30.0 emax=200000.0 ebinfile=NONE tbinalg=\"LIN\" tbinfile=NONE nxpix=101 nypix=101 binsz=0.2 coordsys=\"CEL\" xref=54.51 yref=-26.939 axisrot=0.0 rafield=\"RA\" decfield=\"DEC\" proj=\"AIT\" hpx_ordering_scheme=\"RING\" hpx_order=3 hpx_ebin=yes hpx_region=\"\" evtable=\"EVENTS\" sctable=\"SC_DATA\" efield=\"ENERGY\" tfield=\"TIME\" chatter=2 clobber=yes debug=no gui=no mode=\"ql\"\n",
      "This is gtbin version HEAD\n",
      "real 0.16\n",
      "user 0.13\n",
      "sys 0.02\n",
      "\n",
      "Total number of events in the counts map: 33\n",
      "Total time in Good Time Intervals:        50.0\n",
      "-> gtbuildxmlmodel xmlmodel='190114873_LAT_xmlmodel_30.0-80.0.xml' filteredeventfile='gll_ft1_tr_bn190114873_v00_filt.fit' galactic_model='template' particle_model='isotr template' ra='54.51' dec='-26.939' fgl_mode='fast' ft2file='/Users/runner/work/threeML/threeML/docs/md_docs/slow_execute/bn190114873/gll_ft2_tr_bn190114873_v00.fit' source_model='PowerLaw2'\n",
      "\n",
      "Found Isotropic template for irf P8R3_TRANSIENT020E_V3: /usr/local/miniconda/envs/test_env/share/fermitools/refdata/fermi/galdiffuse/iso_P8R3_TRANSIENT020E_V3_v1.txt\n",
      "\n",
      "Found Galactic template for IRF. P8R3_TRANSIENT020E_V3: /usr/local/miniconda/envs/test_env/share/fermitools/refdata/fermi/galdiffuse/gll_iem_v07.fits\n",
      "\n",
      "Cutting the template around the ROI: \n",
      "\n",
      "addFGLsources( 54.51 -26.939 18.0 190114873_LAT_xmlmodel_30.0-80.0.xml 50.0 )\n",
      "('SpatialMap', True)\n",
      "Keeping diffuse source 4FGL J0322.6-3712e (10.77 deg away) using template /usr/local/miniconda/envs/test_env/share/fermitools/data/pyBurstAnalysisGUI/templates/FornaxA.fits...\n",
      "Keeping diffuse source 4FGL J0322.6-3712e (10.77 deg away) using spatial model SpatialMap...\n",
      "Kept 1 point sources from the FGL catalog\n",
      "-> gtdolike.py spectralfiles='no' xmlmodel='190114873_LAT_xmlmodel_30.0-80.0.xml' liketype='unbinned' filteredeventfile='gll_ft1_tr_bn190114873_v00_filt.fit' rspfile='/Users/runner/work/threeML/threeML/docs/md_docs/slow_execute/bn190114873/gll_cspec_tr_bn190114873_v00.rsp' showmodelimage='no' tsmin='20.0' optimizeposition='no' ft2file='/Users/runner/work/threeML/threeML/docs/md_docs/slow_execute/bn190114873/gll_ft2_tr_bn190114873_v00.fit' skymap='190114873_LAT_skymap_30.0-80.0.fit' flemin='100.000000' flemax='10000.000000'\n",
      "time -p gtltcube evfile=\"/Users/runner/work/threeML/threeML/docs/md_docs/slow_execute/interval30.0-80.0/gll_ft1_tr_bn190114873_v00_filt.fit\" evtable=\"EVENTS\" scfile=__ft2temp.fits sctable=\"SC_DATA\" outfile=gll_ft1_tr_bn190114873_v00_filt_ltcube.fit dcostheta=0.025 binsz=1.0 phibins=1 tmin=0.0 tmax=0.0 file_version=\"1\" zmin=0.0 zmax=180.0 chatter=2 clobber=yes debug=no gui=no mode=\"ql\"\n",
      "Working on file __ft2temp.fits\n",
      "...!\n",
      "real 0.59\n",
      "user 0.30\n",
      "sys 0.27\n",
      "/usr/local/miniconda/envs/test_env/lib/python3.9/site-packages/fermitools/GtBurst/gtapps_mp/gtexpmap_mp.py 40 40 2 2 /Users/runner/work/threeML/threeML/docs/md_docs/slow_execute/bn190114873/gll_ft2_tr_bn190114873_v00.fit /Users/runner/work/threeML/threeML/docs/md_docs/slow_execute/interval30.0-80.0/gll_ft1_tr_bn190114873_v00_filt.fit gll_ft1_tr_bn190114873_v00_filt_ltcube.fit P8R3_TRANSIENT020E_V3 20.0 20 gll_ft1_tr_bn190114873_v00_filt_expomap.fit\n",
      "Starting calculation of region 0.0,0.0 to 20.0,20.0\n",
      "\n",
      "Completed calculation of region 0.0,0.0 to 20.0,20.0\n",
      "\n",
      "Spawning 4 jobs...\n",
      "\n",
      "Combining temporary files...\n",
      "\n",
      "Deleting temporary files...\n",
      "\n",
      "\n",
      "\n",
      "time -p gtdiffrsp evfile=/Users/runner/work/threeML/threeML/docs/md_docs/slow_execute/interval30.0-80.0/gll_ft1_tr_bn190114873_v00_filt.fit evtable=\"EVENTS\" scfile=/Users/runner/work/threeML/threeML/docs/md_docs/slow_execute/bn190114873/gll_ft2_tr_bn190114873_v00.fit sctable=\"SC_DATA\" srcmdl=190114873_LAT_xmlmodel_30.0-80.0.xml irfs=\"P8R3_TRANSIENT020E_V3\" evclsmin=\"INDEF\" evclass=\"INDEF\" evtype=\"INDEF\" convert=no chatter=2 clobber=yes debug=no gui=no mode=\"ql\"\n",
      "adding source 4FGL J0322.6-3712e\n",
      "adding source GalacticTemplate\n",
      "adding source IsotropicTemplate\n",
      "Working on...\n",
      "/Users/runner/work/threeML/threeML/docs/md_docs/slow_execute/interval30.0-80.0/gll_ft1_tr_bn190114873_v00_filt.fit.................................!\n",
      "real 7.73\n",
      "user 7.23\n",
      "sys 0.49\n",
      "Loading python Likelihood interface...\n",
      "\n",
      "Applying a Gaussian prior with sigma 0.15 on the normalization of the Galactic Template\n",
      "{'Norm': 1.0, 'Mean': 1.0, 'Sigma': 0.15, 'Offset': 0.0}\n",
      "\n",
      "Likelihood settings:\n",
      "\n",
      "Event file(s): /Users/runner/work/threeML/threeML/docs/md_docs/slow_execute/interval30.0-80.0/gll_ft1_tr_bn190114873_v00_filt.fit\n",
      "Spacecraft file(s): /Users/runner/work/threeML/threeML/docs/md_docs/slow_execute/bn190114873/gll_ft2_tr_bn190114873_v00.fit\n",
      "Exposure map: gll_ft1_tr_bn190114873_v00_filt_expomap.fit\n",
      "Exposure cube: gll_ft1_tr_bn190114873_v00_filt_ltcube.fit\n",
      "IRFs: P8R3_TRANSIENT020E_V3\n",
      "Source model file: 190114873_LAT_xmlmodel_30.0-80.0.xml\n",
      "Optimizer: Minuit\n",
      "\n",
      "Performing likelihood fit...\n",
      "Data  33.0\n",
      "srcName  2.752536817872419e-05\n",
      "srcName  32.980999132579235\n",
      "srcName  0.0528562848327645\n",
      "srcName  0.012592011927504101\n",
      "Resid  33.0 33.046474954707676 -1.549122811565773\n",
      "plotting GRB spectrum\n",
      "srcName  32.980999132579235\n",
      "|--------------------|---------------|----------|  ----------|----------|------|\n",
      "|         Source name|      Par. Name|     Value|       Error|     Units|    TS|\n",
      "|--------------------|---------------|----------|------------|----------|------|\n",
      "|GRB                 |               |          |            |          |   389|\n",
      "|                    |       Integral|  0.000454|    7.92e-05| ph./cm2/s|      |\n",
      "|                    |          Index|     -1.51|       0.154|         -|      |\n",
      "|                    |     LowerLimit|       100|n.a. (fixed)|       MeV|      |\n",
      "|                    |     UpperLimit|     1e+05|n.a. (fixed)|       MeV|      |\n",
      "|                    |    Energy flux|  6.66e-07|    1.77e-07| erg/cm2/s|      |\n",
      "|                    |    Photon flux|  0.000424|    7.68e-05| ph./cm2/s|      |\n",
      "|GalacticTemplate    |               |          |            |          |     0|\n",
      "|                    |          Value|     0.999|        0.15|         -|      |\n",
      "|                    |    Energy flux|  3.76e-07|    5.64e-08| erg/cm2/s|      |\n",
      "|                    |    Photon flux|  0.000519|    7.79e-05| ph./cm2/s|      |\n",
      "|IsotropicTemplate   |               |          |            |          |     0|\n",
      "|                    |  Normalization|       0.1|      0.0342|         -|      |\n",
      "|                    |    Energy flux|  1.19e-08|    4.05e-09| erg/cm2/s|      |\n",
      "|                    |    Photon flux|  2.58e-05|    8.82e-06| ph./cm2/s|      |\n",
      "--------------------------------------------------------------------------------\n",
      "\n",
      "*** plus 1 FGL sources with TS<1 (not printed to save space)\n",
      "*** All fluxes and upper limits have been computed in the 100.0 - 10000.0 energy range.\n",
      "*** Upper limits (if any) are computed assuming a photon index of -2.0, with the 95.0 % c.l.\n",
      "\n",
      "Log(likelihood) = 144.63571671945422\n",
      "time -p gtsrcprob evfile=/Users/runner/work/threeML/threeML/docs/md_docs/slow_execute/interval30.0-80.0/gll_ft1_tr_bn190114873_v00_filt.fit evtable=\"EVENTS\" scfile=/Users/runner/work/threeML/threeML/docs/md_docs/slow_execute/bn190114873/gll_ft2_tr_bn190114873_v00.fit sctable=\"SC_DATA\" outfile=/Users/runner/work/threeML/threeML/docs/md_docs/slow_execute/interval30.0-80.0/gll_ft1_tr_bn190114873_v00_filt_prob.fit srcmdl=gll_ft1_tr_bn190114873_v00_filt_likeRes.xml irfs=\"CALDB\" evtype=\"INDEF\" srclist= chatter=2 clobber=yes debug=no gui=no mode=\"ql\"\n",
      "real 5.30\n",
      "user 4.81\n",
      "sys 0.47\n",
      "\n",
      "\n",
      "Interval # 4 (80.0-180.0):\n",
      "-----------------------\n",
      "\n",
      "-> gtdocountsmap.py rad='10.0' eventfile='/Users/runner/work/threeML/threeML/docs/md_docs/slow_execute/bn190114873/gll_ft1_tr_bn190114873_v00.fit' zmax='110.0' thetamax='180.0' emin='100.0' emax='100000.0' skymap='190114873_LAT_skymap_80.0-180.0.fit' rspfile='/Users/runner/work/threeML/threeML/docs/md_docs/slow_execute/bn190114873/gll_cspec_tr_bn190114873_v00.rsp' strategy='time' ft2file='/Users/runner/work/threeML/threeML/docs/md_docs/slow_execute/bn190114873/gll_ft2_tr_bn190114873_v00.fit' tstart='80.0' tstop='180.0' ra='54.51' dec='-26.939' irf='p8_transient020e' allowEmpty='no'\n",
      "time -p gtmktime scfile=/Users/runner/work/threeML/threeML/docs/md_docs/slow_execute/bn190114873/gll_ft2_tr_bn190114873_v00.fit sctable=\"SC_DATA\" filter=\"(DATA_QUAL>0 || DATA_QUAL==-1) && LAT_CONFIG==1 && IN_SAA!=T && LIVETIME>0 && (ANGSEP(RA_ZENITH,DEC_ZENITH,54.51,-26.939)<=(110.0-10.0))\" roicut=no evfile=/Users/runner/work/threeML/threeML/docs/md_docs/slow_execute/bn190114873/gll_ft1_tr_bn190114873_v00.fit evtable=\"EVENTS\" outfile=\"gll_ft1_tr_bn190114873_v00_mkt.fit\" apply_filter=yes overwrite=no header_obstimes=yes tstart=569192307.626 tstop=569192407.626 gtifile=\"default\" chatter=2 clobber=yes debug=no gui=no mode=\"ql\"\n",
      "real 0.09\n",
      "user 0.06\n",
      "sys 0.02\n",
      "\n",
      "Using 305 data\n",
      "\n",
      "time -p gtselect infile=gll_ft1_tr_bn190114873_v00_mkt.fit outfile=gll_ft1_tr_bn190114873_v00_filt.fit ra=54.51 dec=-26.939 rad=10.0 tmin=569192307.626 tmax=569192407.626 emin=100.0 emax=100000.0 zmin=0.0 zmax=110.0 evclass=8 evtype=3 convtype=-1 phasemin=0.0 phasemax=1.0 evtable=\"EVENTS\" chatter=2 clobber=yes debug=no gui=no mode=\"ql\"\n",
      "Done.\n",
      "real 0.12\n",
      "user 0.09\n",
      "sys 0.02\n",
      "\n",
      "Selected 8 events.\n",
      "time -p gtbin evfile=gll_ft1_tr_bn190114873_v00_filt.fit scfile=/Users/runner/work/threeML/threeML/docs/md_docs/slow_execute/bn190114873/gll_ft2_tr_bn190114873_v00.fit outfile=190114873_LAT_skymap_80.0-180.0.fit algorithm=\"CMAP\" ebinalg=\"LOG\" emin=30.0 emax=200000.0 ebinfile=NONE tbinalg=\"LIN\" tbinfile=NONE nxpix=101 nypix=101 binsz=0.2 coordsys=\"CEL\" xref=54.51 yref=-26.939 axisrot=0.0 rafield=\"RA\" decfield=\"DEC\" proj=\"AIT\" hpx_ordering_scheme=\"RING\" hpx_order=3 hpx_ebin=yes hpx_region=\"\" evtable=\"EVENTS\" sctable=\"SC_DATA\" efield=\"ENERGY\" tfield=\"TIME\" chatter=2 clobber=yes debug=no gui=no mode=\"ql\"\n",
      "This is gtbin version HEAD\n",
      "real 0.15\n",
      "user 0.13\n",
      "sys 0.01\n",
      "\n",
      "Total number of events in the counts map: 8\n",
      "Total time in Good Time Intervals:        97.97399997711182\n",
      "-> gtbuildxmlmodel xmlmodel='190114873_LAT_xmlmodel_80.0-180.0.xml' filteredeventfile='gll_ft1_tr_bn190114873_v00_filt.fit' galactic_model='template' particle_model='isotr template' ra='54.51' dec='-26.939' fgl_mode='fast' ft2file='/Users/runner/work/threeML/threeML/docs/md_docs/slow_execute/bn190114873/gll_ft2_tr_bn190114873_v00.fit' source_model='PowerLaw2'\n",
      "\n",
      "Found Isotropic template for irf P8R3_TRANSIENT020E_V3: /usr/local/miniconda/envs/test_env/share/fermitools/refdata/fermi/galdiffuse/iso_P8R3_TRANSIENT020E_V3_v1.txt\n",
      "\n",
      "Found Galactic template for IRF. P8R3_TRANSIENT020E_V3: /usr/local/miniconda/envs/test_env/share/fermitools/refdata/fermi/galdiffuse/gll_iem_v07.fits\n",
      "\n",
      "Cutting the template around the ROI: \n",
      "\n",
      "addFGLsources( 54.51 -26.939 18.0 190114873_LAT_xmlmodel_80.0-180.0.xml 97.97399997711182 )\n",
      "('SpatialMap', True)\n",
      "Keeping diffuse source 4FGL J0322.6-3712e (10.77 deg away) using template /usr/local/miniconda/envs/test_env/share/fermitools/data/pyBurstAnalysisGUI/templates/FornaxA.fits...\n",
      "Keeping diffuse source 4FGL J0322.6-3712e (10.77 deg away) using spatial model SpatialMap...\n",
      "Kept 1 point sources from the FGL catalog\n",
      "-> gtdolike.py spectralfiles='no' xmlmodel='190114873_LAT_xmlmodel_80.0-180.0.xml' liketype='unbinned' filteredeventfile='gll_ft1_tr_bn190114873_v00_filt.fit' rspfile='/Users/runner/work/threeML/threeML/docs/md_docs/slow_execute/bn190114873/gll_cspec_tr_bn190114873_v00.rsp' showmodelimage='no' tsmin='20.0' optimizeposition='no' ft2file='/Users/runner/work/threeML/threeML/docs/md_docs/slow_execute/bn190114873/gll_ft2_tr_bn190114873_v00.fit' skymap='190114873_LAT_skymap_80.0-180.0.fit' flemin='100.000000' flemax='10000.000000'\n",
      "time -p gtltcube evfile=\"/Users/runner/work/threeML/threeML/docs/md_docs/slow_execute/interval80.0-180.0/gll_ft1_tr_bn190114873_v00_filt.fit\" evtable=\"EVENTS\" scfile=__ft2temp.fits sctable=\"SC_DATA\" outfile=gll_ft1_tr_bn190114873_v00_filt_ltcube.fit dcostheta=0.025 binsz=1.0 phibins=1 tmin=0.0 tmax=0.0 file_version=\"1\" zmin=0.0 zmax=180.0 chatter=2 clobber=yes debug=no gui=no mode=\"ql\"\n",
      "Working on file __ft2temp.fits\n",
      ".....!\n",
      "real 0.78\n",
      "user 0.32\n",
      "sys 0.32\n",
      "/usr/local/miniconda/envs/test_env/lib/python3.9/site-packages/fermitools/GtBurst/gtapps_mp/gtexpmap_mp.py 40 40 2 2 /Users/runner/work/threeML/threeML/docs/md_docs/slow_execute/bn190114873/gll_ft2_tr_bn190114873_v00.fit /Users/runner/work/threeML/threeML/docs/md_docs/slow_execute/interval80.0-180.0/gll_ft1_tr_bn190114873_v00_filt.fit gll_ft1_tr_bn190114873_v00_filt_ltcube.fit P8R3_TRANSIENT020E_V3 20.0 20 gll_ft1_tr_bn190114873_v00_filt_expomap.fit\n",
      "Starting calculation of region 20.0,0.0 to 40.0,20.0\n",
      "\n",
      "Completed calculation of region 20.0,0.0 to 40.0,20.0\n",
      "\n",
      "Starting calculation of region 0.0,20.0 to 20.0,40.0\n",
      "\n",
      "Completed calculation of region 0.0,20.0 to 20.0,40.0\n",
      "\n",
      "Starting calculation of region 0.0,0.0 to 20.0,20.0\n",
      "\n",
      "Completed calculation of region 0.0,0.0 to 20.0,20.0\n",
      "\n",
      "Starting calculation of region 20.0,20.0 to 40.0,40.0\n",
      "\n",
      "Completed calculation of region 20.0,20.0 to 40.0,40.0\n",
      "\n",
      "Spawning 4 jobs...\n",
      "\n",
      "Combining temporary files...\n",
      "\n",
      "Deleting temporary files...\n",
      "\n",
      "\n",
      "\n",
      "time -p gtdiffrsp evfile=/Users/runner/work/threeML/threeML/docs/md_docs/slow_execute/interval80.0-180.0/gll_ft1_tr_bn190114873_v00_filt.fit evtable=\"EVENTS\" scfile=/Users/runner/work/threeML/threeML/docs/md_docs/slow_execute/bn190114873/gll_ft2_tr_bn190114873_v00.fit sctable=\"SC_DATA\" srcmdl=190114873_LAT_xmlmodel_80.0-180.0.xml irfs=\"P8R3_TRANSIENT020E_V3\" evclsmin=\"INDEF\" evclass=\"INDEF\" evtype=\"INDEF\" convert=no chatter=2 clobber=yes debug=no gui=no mode=\"ql\"\n",
      "adding source 4FGL J0322.6-3712e\n",
      "adding source GalacticTemplate\n",
      "adding source IsotropicTemplate\n",
      "Working on...\n",
      "/Users/runner/work/threeML/threeML/docs/md_docs/slow_execute/interval80.0-180.0/gll_ft1_tr_bn190114873_v00_filt.fit........!\n",
      "real 5.94\n",
      "user 5.47\n",
      "sys 0.46\n",
      "Loading python Likelihood interface...\n",
      "\n",
      "Applying a Gaussian prior with sigma 0.15 on the normalization of the Galactic Template\n",
      "{'Norm': 1.0, 'Mean': 1.0, 'Sigma': 0.15, 'Offset': 0.0}\n",
      "\n",
      "Likelihood settings:\n",
      "\n",
      "Event file(s): /Users/runner/work/threeML/threeML/docs/md_docs/slow_execute/interval80.0-180.0/gll_ft1_tr_bn190114873_v00_filt.fit\n",
      "Spacecraft file(s): /Users/runner/work/threeML/threeML/docs/md_docs/slow_execute/bn190114873/gll_ft2_tr_bn190114873_v00.fit\n",
      "Exposure map: gll_ft1_tr_bn190114873_v00_filt_expomap.fit\n",
      "Exposure cube: gll_ft1_tr_bn190114873_v00_filt_ltcube.fit\n",
      "IRFs: P8R3_TRANSIENT020E_V3\n",
      "Source model file: 190114873_LAT_xmlmodel_80.0-180.0.xml\n",
      "Optimizer: Minuit\n",
      "\n",
      "Performing likelihood fit...\n",
      "Data  8.0\n",
      "srcName  2.752536817872419e-05\n",
      "srcName  5.6866707104226135\n",
      "srcName  0.07756617718825597\n",
      "srcName  1.8293567276841616\n",
      "Resid  8.0 7.593621140663209 -2.600263598960609\n",
      "plotting GRB spectrum\n",
      "srcName  5.6866707104226135\n",
      "|--------------------|---------------|----------|  ----------|----------|------|\n",
      "|         Source name|      Par. Name|     Value|       Error|     Units|    TS|\n",
      "|--------------------|---------------|----------|------------|----------|------|\n",
      "|GRB                 |               |          |            |          |    34|\n",
      "|                    |       Integral|   5.9e-05|    2.85e-05| ph./cm2/s|      |\n",
      "|                    |          Index|     -1.65|        0.41|         -|      |\n",
      "|                    |     LowerLimit|       100|n.a. (fixed)|       MeV|      |\n",
      "|                    |     UpperLimit|     1e+05|n.a. (fixed)|       MeV|      |\n",
      "|                    |    Energy flux|  7.11e-08|    4.55e-08| erg/cm2/s|      |\n",
      "|                    |    Photon flux|  5.67e-05|    2.88e-05| ph./cm2/s|      |\n",
      "|GalacticTemplate    |               |          |            |          |     1|\n",
      "|                    |          Value|         1|        0.15|         -|      |\n",
      "|                    |    Energy flux|  3.76e-07|    5.64e-08| erg/cm2/s|      |\n",
      "|                    |    Photon flux|   0.00052|    7.79e-05| ph./cm2/s|      |\n",
      "|IsotropicTemplate   |               |          |            |          |     3|\n",
      "|                    |  Normalization|        10|       0.033|         -|      |\n",
      "|                    |    Energy flux|  1.19e-06|    3.91e-09| erg/cm2/s|      |\n",
      "|                    |    Photon flux|   0.00258|    8.51e-06| ph./cm2/s|      |\n",
      "--------------------------------------------------------------------------------\n",
      "\n",
      "*** plus 1 FGL sources with TS<1 (not printed to save space)\n",
      "*** All fluxes and upper limits have been computed in the 100.0 - 10000.0 energy range.\n",
      "*** Upper limits (if any) are computed assuming a photon index of -2.0, with the 95.0 % c.l.\n",
      "\n",
      "Log(likelihood) = 62.165128100867115\n",
      "time -p gtsrcprob evfile=/Users/runner/work/threeML/threeML/docs/md_docs/slow_execute/interval80.0-180.0/gll_ft1_tr_bn190114873_v00_filt.fit evtable=\"EVENTS\" scfile=/Users/runner/work/threeML/threeML/docs/md_docs/slow_execute/bn190114873/gll_ft2_tr_bn190114873_v00.fit sctable=\"SC_DATA\" outfile=/Users/runner/work/threeML/threeML/docs/md_docs/slow_execute/interval80.0-180.0/gll_ft1_tr_bn190114873_v00_filt_prob.fit srcmdl=gll_ft1_tr_bn190114873_v00_filt_likeRes.xml irfs=\"CALDB\" evtype=\"INDEF\" srclist= chatter=2 clobber=yes debug=no gui=no mode=\"ql\"\n",
      "real 5.60\n",
      "user 5.07\n",
      "sys 0.52\n",
      "\n"
     ]
    },
    {
     "data": {
      "text/html": [
       "<pre style=\"white-space:pre;overflow-x:auto;line-height:normal;font-family:Menlo,'DejaVu Sans Mono',consolas,'Courier New',monospace\"><span style=\"color: #00ff00; text-decoration-color: #00ff00\">00:13:21 </span><span style=\"color: #00ffaf; text-decoration-color: #00ffaf\">INFO    </span> <span style=\"color: #c6c6c6; text-decoration-color: #c6c6c6; font-weight: bold\"> The ft2 file does not exist. Please examine!                        </span><a href=\"file:///Users/runner/work/threeML/threeML/threeML/utils/data_builders/fermi/lat_transient_builder.py\" target=\"_blank\"><span style=\"color: #7f7f7f; text-decoration-color: #7f7f7f\">lat_transient_builder.py</span></a><span style=\"color: #7f7f7f; text-decoration-color: #7f7f7f\">:</span><a href=\"file:///Users/runner/work/threeML/threeML/threeML/utils/data_builders/fermi/lat_transient_builder.py#726\" target=\"_blank\"><span style=\"color: #7f7f7f; text-decoration-color: #7f7f7f\">726</span></a>\n",
       "</pre>\n"
      ],
      "text/plain": [
       "\u001b[38;5;46m00:13:21\u001b[0m\u001b[38;5;46m \u001b[0m\u001b[38;5;49mINFO    \u001b[0m \u001b[1;38;5;251m The ft2 file does not exist. Please examine!                       \u001b[0m\u001b[1;38;5;251m \u001b[0m\u001b]8;id=30677;file:///Users/runner/work/threeML/threeML/threeML/utils/data_builders/fermi/lat_transient_builder.py\u001b\\\u001b[2mlat_transient_builder.py\u001b[0m\u001b]8;;\u001b\\\u001b[2m:\u001b[0m\u001b]8;id=873367;file:///Users/runner/work/threeML/threeML/threeML/utils/data_builders/fermi/lat_transient_builder.py#726\u001b\\\u001b[2m726\u001b[0m\u001b]8;;\u001b\\\n"
      ]
     },
     "metadata": {},
     "output_type": "display_data"
    },
    {
     "data": {
      "text/html": [
       "<pre style=\"white-space:pre;overflow-x:auto;line-height:normal;font-family:Menlo,'DejaVu Sans Mono',consolas,'Courier New',monospace\"><span style=\"color: #00ff00; text-decoration-color: #00ff00\">         </span><span style=\"color: #00ffaf; text-decoration-color: #00ffaf\">INFO    </span> <span style=\"color: #c6c6c6; text-decoration-color: #c6c6c6; font-weight: bold\"> we will grab the data file for you.                                 </span><a href=\"file:///Users/runner/work/threeML/threeML/threeML/utils/data_builders/fermi/lat_transient_builder.py\" target=\"_blank\"><span style=\"color: #7f7f7f; text-decoration-color: #7f7f7f\">lat_transient_builder.py</span></a><span style=\"color: #7f7f7f; text-decoration-color: #7f7f7f\">:</span><a href=\"file:///Users/runner/work/threeML/threeML/threeML/utils/data_builders/fermi/lat_transient_builder.py#727\" target=\"_blank\"><span style=\"color: #7f7f7f; text-decoration-color: #7f7f7f\">727</span></a>\n",
       "</pre>\n"
      ],
      "text/plain": [
       "\u001b[38;5;46m        \u001b[0m\u001b[38;5;46m \u001b[0m\u001b[38;5;49mINFO    \u001b[0m \u001b[1;38;5;251m we will grab the data file for you.                                \u001b[0m\u001b[1;38;5;251m \u001b[0m\u001b]8;id=531430;file:///Users/runner/work/threeML/threeML/threeML/utils/data_builders/fermi/lat_transient_builder.py\u001b\\\u001b[2mlat_transient_builder.py\u001b[0m\u001b]8;;\u001b\\\u001b[2m:\u001b[0m\u001b]8;id=484957;file:///Users/runner/work/threeML/threeML/threeML/utils/data_builders/fermi/lat_transient_builder.py#727\u001b\\\u001b[2m727\u001b[0m\u001b]8;;\u001b\\\n"
      ]
     },
     "metadata": {},
     "output_type": "display_data"
    },
    {
     "data": {
      "text/html": [
       "<pre style=\"white-space:pre;overflow-x:auto;line-height:normal;font-family:Menlo,'DejaVu Sans Mono',consolas,'Courier New',monospace\"><span style=\"color: #00ff00; text-decoration-color: #00ff00\">         </span><span style=\"color: #00ffaf; text-decoration-color: #00ffaf\">INFO    </span> <span style=\"color: #c6c6c6; text-decoration-color: #c6c6c6; font-weight: bold\"> copied .</span><span style=\"color: #5f5f5f; text-decoration-color: #5f5f5f; font-weight: bold\">/bn190114873/</span><span style=\"color: #000080; text-decoration-color: #000080; font-weight: bold\">gll_ft2_tr_bn190114873_v00.fit</span><span style=\"color: #c6c6c6; text-decoration-color: #c6c6c6; font-weight: bold\"> to              </span><a href=\"file:///Users/runner/work/threeML/threeML/threeML/utils/data_builders/fermi/lat_transient_builder.py\" target=\"_blank\"><span style=\"color: #7f7f7f; text-decoration-color: #7f7f7f\">lat_transient_builder.py</span></a><span style=\"color: #7f7f7f; text-decoration-color: #7f7f7f\">:</span><a href=\"file:///Users/runner/work/threeML/threeML/threeML/utils/data_builders/fermi/lat_transient_builder.py#743\" target=\"_blank\"><span style=\"color: #7f7f7f; text-decoration-color: #7f7f7f\">743</span></a>\n",
       "<span style=\"color: #00ff00; text-decoration-color: #00ff00\">         </span>         <span style=\"color: #c6c6c6; text-decoration-color: #c6c6c6; font-weight: bold\">interval0.</span><span style=\"color: #c0c0c0; text-decoration-color: #c0c0c0; font-weight: bold\">0</span><span style=\"color: #c6c6c6; text-decoration-color: #c6c6c6; font-weight: bold\">-</span><span style=\"color: #c0c0c0; text-decoration-color: #c0c0c0; font-weight: bold\">10.0</span><span style=\"color: #c6c6c6; text-decoration-color: #c6c6c6; font-weight: bold\">/gll_ft2_tr_bn190114873_v00.fit                      </span><span style=\"color: #7f7f7f; text-decoration-color: #7f7f7f\">                            </span>\n",
       "</pre>\n"
      ],
      "text/plain": [
       "\u001b[38;5;46m        \u001b[0m\u001b[38;5;46m \u001b[0m\u001b[38;5;49mINFO    \u001b[0m \u001b[1;38;5;251m copied .\u001b[0m\u001b[1;38;5;59m/bn190114873/\u001b[0m\u001b[1;34mgll_ft2_tr_bn190114873_v00.fit\u001b[0m\u001b[1;38;5;251m to             \u001b[0m\u001b[1;38;5;251m \u001b[0m\u001b]8;id=121012;file:///Users/runner/work/threeML/threeML/threeML/utils/data_builders/fermi/lat_transient_builder.py\u001b\\\u001b[2mlat_transient_builder.py\u001b[0m\u001b]8;;\u001b\\\u001b[2m:\u001b[0m\u001b]8;id=907449;file:///Users/runner/work/threeML/threeML/threeML/utils/data_builders/fermi/lat_transient_builder.py#743\u001b\\\u001b[2m743\u001b[0m\u001b]8;;\u001b\\\n",
       "\u001b[38;5;46m         \u001b[0m         \u001b[1;38;5;251minterval0.\u001b[0m\u001b[1;37m0\u001b[0m\u001b[1;38;5;251m-\u001b[0m\u001b[1;37m10.0\u001b[0m\u001b[1;38;5;251m/gll_ft2_tr_bn190114873_v00.fit                     \u001b[0m\u001b[1;38;5;251m \u001b[0m\u001b[2m                            \u001b[0m\n"
      ]
     },
     "metadata": {},
     "output_type": "display_data"
    },
    {
     "data": {
      "text/html": [
       "<pre style=\"white-space:pre;overflow-x:auto;line-height:normal;font-family:Menlo,'DejaVu Sans Mono',consolas,'Courier New',monospace\"><span style=\"color: #00ff00; text-decoration-color: #00ff00\">         </span><span style=\"color: #00ffaf; text-decoration-color: #00ffaf\">INFO    </span> <span style=\"color: #c6c6c6; text-decoration-color: #c6c6c6; font-weight: bold\"> The ft2 file does not exist. Please examine!                        </span><a href=\"file:///Users/runner/work/threeML/threeML/threeML/utils/data_builders/fermi/lat_transient_builder.py\" target=\"_blank\"><span style=\"color: #7f7f7f; text-decoration-color: #7f7f7f\">lat_transient_builder.py</span></a><span style=\"color: #7f7f7f; text-decoration-color: #7f7f7f\">:</span><a href=\"file:///Users/runner/work/threeML/threeML/threeML/utils/data_builders/fermi/lat_transient_builder.py#726\" target=\"_blank\"><span style=\"color: #7f7f7f; text-decoration-color: #7f7f7f\">726</span></a>\n",
       "</pre>\n"
      ],
      "text/plain": [
       "\u001b[38;5;46m        \u001b[0m\u001b[38;5;46m \u001b[0m\u001b[38;5;49mINFO    \u001b[0m \u001b[1;38;5;251m The ft2 file does not exist. Please examine!                       \u001b[0m\u001b[1;38;5;251m \u001b[0m\u001b]8;id=147212;file:///Users/runner/work/threeML/threeML/threeML/utils/data_builders/fermi/lat_transient_builder.py\u001b\\\u001b[2mlat_transient_builder.py\u001b[0m\u001b]8;;\u001b\\\u001b[2m:\u001b[0m\u001b]8;id=483607;file:///Users/runner/work/threeML/threeML/threeML/utils/data_builders/fermi/lat_transient_builder.py#726\u001b\\\u001b[2m726\u001b[0m\u001b]8;;\u001b\\\n"
      ]
     },
     "metadata": {},
     "output_type": "display_data"
    },
    {
     "data": {
      "text/html": [
       "<pre style=\"white-space:pre;overflow-x:auto;line-height:normal;font-family:Menlo,'DejaVu Sans Mono',consolas,'Courier New',monospace\"><span style=\"color: #00ff00; text-decoration-color: #00ff00\">         </span><span style=\"color: #00ffaf; text-decoration-color: #00ffaf\">INFO    </span> <span style=\"color: #c6c6c6; text-decoration-color: #c6c6c6; font-weight: bold\"> we will grab the data file for you.                                 </span><a href=\"file:///Users/runner/work/threeML/threeML/threeML/utils/data_builders/fermi/lat_transient_builder.py\" target=\"_blank\"><span style=\"color: #7f7f7f; text-decoration-color: #7f7f7f\">lat_transient_builder.py</span></a><span style=\"color: #7f7f7f; text-decoration-color: #7f7f7f\">:</span><a href=\"file:///Users/runner/work/threeML/threeML/threeML/utils/data_builders/fermi/lat_transient_builder.py#727\" target=\"_blank\"><span style=\"color: #7f7f7f; text-decoration-color: #7f7f7f\">727</span></a>\n",
       "</pre>\n"
      ],
      "text/plain": [
       "\u001b[38;5;46m        \u001b[0m\u001b[38;5;46m \u001b[0m\u001b[38;5;49mINFO    \u001b[0m \u001b[1;38;5;251m we will grab the data file for you.                                \u001b[0m\u001b[1;38;5;251m \u001b[0m\u001b]8;id=79940;file:///Users/runner/work/threeML/threeML/threeML/utils/data_builders/fermi/lat_transient_builder.py\u001b\\\u001b[2mlat_transient_builder.py\u001b[0m\u001b]8;;\u001b\\\u001b[2m:\u001b[0m\u001b]8;id=323463;file:///Users/runner/work/threeML/threeML/threeML/utils/data_builders/fermi/lat_transient_builder.py#727\u001b\\\u001b[2m727\u001b[0m\u001b]8;;\u001b\\\n"
      ]
     },
     "metadata": {},
     "output_type": "display_data"
    },
    {
     "data": {
      "text/html": [
       "<pre style=\"white-space:pre;overflow-x:auto;line-height:normal;font-family:Menlo,'DejaVu Sans Mono',consolas,'Courier New',monospace\"><span style=\"color: #00ff00; text-decoration-color: #00ff00\">         </span><span style=\"color: #00ffaf; text-decoration-color: #00ffaf\">INFO    </span> <span style=\"color: #c6c6c6; text-decoration-color: #c6c6c6; font-weight: bold\"> copied .</span><span style=\"color: #5f5f5f; text-decoration-color: #5f5f5f; font-weight: bold\">/bn190114873/</span><span style=\"color: #000080; text-decoration-color: #000080; font-weight: bold\">gll_ft2_tr_bn190114873_v00.fit</span><span style=\"color: #c6c6c6; text-decoration-color: #c6c6c6; font-weight: bold\"> to              </span><a href=\"file:///Users/runner/work/threeML/threeML/threeML/utils/data_builders/fermi/lat_transient_builder.py\" target=\"_blank\"><span style=\"color: #7f7f7f; text-decoration-color: #7f7f7f\">lat_transient_builder.py</span></a><span style=\"color: #7f7f7f; text-decoration-color: #7f7f7f\">:</span><a href=\"file:///Users/runner/work/threeML/threeML/threeML/utils/data_builders/fermi/lat_transient_builder.py#743\" target=\"_blank\"><span style=\"color: #7f7f7f; text-decoration-color: #7f7f7f\">743</span></a>\n",
       "<span style=\"color: #00ff00; text-decoration-color: #00ff00\">         </span>         <span style=\"color: #c6c6c6; text-decoration-color: #c6c6c6; font-weight: bold\">interval10.</span><span style=\"color: #c0c0c0; text-decoration-color: #c0c0c0; font-weight: bold\">0</span><span style=\"color: #c6c6c6; text-decoration-color: #c6c6c6; font-weight: bold\">-</span><span style=\"color: #c0c0c0; text-decoration-color: #c0c0c0; font-weight: bold\">30.0</span><span style=\"color: #c6c6c6; text-decoration-color: #c6c6c6; font-weight: bold\">/gll_ft2_tr_bn190114873_v00.fit                     </span><span style=\"color: #7f7f7f; text-decoration-color: #7f7f7f\">                            </span>\n",
       "</pre>\n"
      ],
      "text/plain": [
       "\u001b[38;5;46m        \u001b[0m\u001b[38;5;46m \u001b[0m\u001b[38;5;49mINFO    \u001b[0m \u001b[1;38;5;251m copied .\u001b[0m\u001b[1;38;5;59m/bn190114873/\u001b[0m\u001b[1;34mgll_ft2_tr_bn190114873_v00.fit\u001b[0m\u001b[1;38;5;251m to             \u001b[0m\u001b[1;38;5;251m \u001b[0m\u001b]8;id=450581;file:///Users/runner/work/threeML/threeML/threeML/utils/data_builders/fermi/lat_transient_builder.py\u001b\\\u001b[2mlat_transient_builder.py\u001b[0m\u001b]8;;\u001b\\\u001b[2m:\u001b[0m\u001b]8;id=129418;file:///Users/runner/work/threeML/threeML/threeML/utils/data_builders/fermi/lat_transient_builder.py#743\u001b\\\u001b[2m743\u001b[0m\u001b]8;;\u001b\\\n",
       "\u001b[38;5;46m         \u001b[0m         \u001b[1;38;5;251minterval10.\u001b[0m\u001b[1;37m0\u001b[0m\u001b[1;38;5;251m-\u001b[0m\u001b[1;37m30.0\u001b[0m\u001b[1;38;5;251m/gll_ft2_tr_bn190114873_v00.fit                    \u001b[0m\u001b[1;38;5;251m \u001b[0m\u001b[2m                            \u001b[0m\n"
      ]
     },
     "metadata": {},
     "output_type": "display_data"
    },
    {
     "data": {
      "text/html": [
       "<pre style=\"white-space:pre;overflow-x:auto;line-height:normal;font-family:Menlo,'DejaVu Sans Mono',consolas,'Courier New',monospace\"><span style=\"color: #00ff00; text-decoration-color: #00ff00\">         </span><span style=\"color: #00ffaf; text-decoration-color: #00ffaf\">INFO    </span> <span style=\"color: #c6c6c6; text-decoration-color: #c6c6c6; font-weight: bold\"> The ft2 file does not exist. Please examine!                        </span><a href=\"file:///Users/runner/work/threeML/threeML/threeML/utils/data_builders/fermi/lat_transient_builder.py\" target=\"_blank\"><span style=\"color: #7f7f7f; text-decoration-color: #7f7f7f\">lat_transient_builder.py</span></a><span style=\"color: #7f7f7f; text-decoration-color: #7f7f7f\">:</span><a href=\"file:///Users/runner/work/threeML/threeML/threeML/utils/data_builders/fermi/lat_transient_builder.py#726\" target=\"_blank\"><span style=\"color: #7f7f7f; text-decoration-color: #7f7f7f\">726</span></a>\n",
       "</pre>\n"
      ],
      "text/plain": [
       "\u001b[38;5;46m        \u001b[0m\u001b[38;5;46m \u001b[0m\u001b[38;5;49mINFO    \u001b[0m \u001b[1;38;5;251m The ft2 file does not exist. Please examine!                       \u001b[0m\u001b[1;38;5;251m \u001b[0m\u001b]8;id=954175;file:///Users/runner/work/threeML/threeML/threeML/utils/data_builders/fermi/lat_transient_builder.py\u001b\\\u001b[2mlat_transient_builder.py\u001b[0m\u001b]8;;\u001b\\\u001b[2m:\u001b[0m\u001b]8;id=778637;file:///Users/runner/work/threeML/threeML/threeML/utils/data_builders/fermi/lat_transient_builder.py#726\u001b\\\u001b[2m726\u001b[0m\u001b]8;;\u001b\\\n"
      ]
     },
     "metadata": {},
     "output_type": "display_data"
    },
    {
     "data": {
      "text/html": [
       "<pre style=\"white-space:pre;overflow-x:auto;line-height:normal;font-family:Menlo,'DejaVu Sans Mono',consolas,'Courier New',monospace\"><span style=\"color: #00ff00; text-decoration-color: #00ff00\">         </span><span style=\"color: #00ffaf; text-decoration-color: #00ffaf\">INFO    </span> <span style=\"color: #c6c6c6; text-decoration-color: #c6c6c6; font-weight: bold\"> we will grab the data file for you.                                 </span><a href=\"file:///Users/runner/work/threeML/threeML/threeML/utils/data_builders/fermi/lat_transient_builder.py\" target=\"_blank\"><span style=\"color: #7f7f7f; text-decoration-color: #7f7f7f\">lat_transient_builder.py</span></a><span style=\"color: #7f7f7f; text-decoration-color: #7f7f7f\">:</span><a href=\"file:///Users/runner/work/threeML/threeML/threeML/utils/data_builders/fermi/lat_transient_builder.py#727\" target=\"_blank\"><span style=\"color: #7f7f7f; text-decoration-color: #7f7f7f\">727</span></a>\n",
       "</pre>\n"
      ],
      "text/plain": [
       "\u001b[38;5;46m        \u001b[0m\u001b[38;5;46m \u001b[0m\u001b[38;5;49mINFO    \u001b[0m \u001b[1;38;5;251m we will grab the data file for you.                                \u001b[0m\u001b[1;38;5;251m \u001b[0m\u001b]8;id=387191;file:///Users/runner/work/threeML/threeML/threeML/utils/data_builders/fermi/lat_transient_builder.py\u001b\\\u001b[2mlat_transient_builder.py\u001b[0m\u001b]8;;\u001b\\\u001b[2m:\u001b[0m\u001b]8;id=739153;file:///Users/runner/work/threeML/threeML/threeML/utils/data_builders/fermi/lat_transient_builder.py#727\u001b\\\u001b[2m727\u001b[0m\u001b]8;;\u001b\\\n"
      ]
     },
     "metadata": {},
     "output_type": "display_data"
    },
    {
     "data": {
      "text/html": [
       "<pre style=\"white-space:pre;overflow-x:auto;line-height:normal;font-family:Menlo,'DejaVu Sans Mono',consolas,'Courier New',monospace\"><span style=\"color: #00ff00; text-decoration-color: #00ff00\">         </span><span style=\"color: #00ffaf; text-decoration-color: #00ffaf\">INFO    </span> <span style=\"color: #c6c6c6; text-decoration-color: #c6c6c6; font-weight: bold\"> copied .</span><span style=\"color: #5f5f5f; text-decoration-color: #5f5f5f; font-weight: bold\">/bn190114873/</span><span style=\"color: #000080; text-decoration-color: #000080; font-weight: bold\">gll_ft2_tr_bn190114873_v00.fit</span><span style=\"color: #c6c6c6; text-decoration-color: #c6c6c6; font-weight: bold\"> to              </span><a href=\"file:///Users/runner/work/threeML/threeML/threeML/utils/data_builders/fermi/lat_transient_builder.py\" target=\"_blank\"><span style=\"color: #7f7f7f; text-decoration-color: #7f7f7f\">lat_transient_builder.py</span></a><span style=\"color: #7f7f7f; text-decoration-color: #7f7f7f\">:</span><a href=\"file:///Users/runner/work/threeML/threeML/threeML/utils/data_builders/fermi/lat_transient_builder.py#743\" target=\"_blank\"><span style=\"color: #7f7f7f; text-decoration-color: #7f7f7f\">743</span></a>\n",
       "<span style=\"color: #00ff00; text-decoration-color: #00ff00\">         </span>         <span style=\"color: #c6c6c6; text-decoration-color: #c6c6c6; font-weight: bold\">interval30.</span><span style=\"color: #c0c0c0; text-decoration-color: #c0c0c0; font-weight: bold\">0</span><span style=\"color: #c6c6c6; text-decoration-color: #c6c6c6; font-weight: bold\">-</span><span style=\"color: #c0c0c0; text-decoration-color: #c0c0c0; font-weight: bold\">80.0</span><span style=\"color: #c6c6c6; text-decoration-color: #c6c6c6; font-weight: bold\">/gll_ft2_tr_bn190114873_v00.fit                     </span><span style=\"color: #7f7f7f; text-decoration-color: #7f7f7f\">                            </span>\n",
       "</pre>\n"
      ],
      "text/plain": [
       "\u001b[38;5;46m        \u001b[0m\u001b[38;5;46m \u001b[0m\u001b[38;5;49mINFO    \u001b[0m \u001b[1;38;5;251m copied .\u001b[0m\u001b[1;38;5;59m/bn190114873/\u001b[0m\u001b[1;34mgll_ft2_tr_bn190114873_v00.fit\u001b[0m\u001b[1;38;5;251m to             \u001b[0m\u001b[1;38;5;251m \u001b[0m\u001b]8;id=957672;file:///Users/runner/work/threeML/threeML/threeML/utils/data_builders/fermi/lat_transient_builder.py\u001b\\\u001b[2mlat_transient_builder.py\u001b[0m\u001b]8;;\u001b\\\u001b[2m:\u001b[0m\u001b]8;id=207929;file:///Users/runner/work/threeML/threeML/threeML/utils/data_builders/fermi/lat_transient_builder.py#743\u001b\\\u001b[2m743\u001b[0m\u001b]8;;\u001b\\\n",
       "\u001b[38;5;46m         \u001b[0m         \u001b[1;38;5;251minterval30.\u001b[0m\u001b[1;37m0\u001b[0m\u001b[1;38;5;251m-\u001b[0m\u001b[1;37m80.0\u001b[0m\u001b[1;38;5;251m/gll_ft2_tr_bn190114873_v00.fit                    \u001b[0m\u001b[1;38;5;251m \u001b[0m\u001b[2m                            \u001b[0m\n"
      ]
     },
     "metadata": {},
     "output_type": "display_data"
    },
    {
     "data": {
      "text/html": [
       "<pre style=\"white-space:pre;overflow-x:auto;line-height:normal;font-family:Menlo,'DejaVu Sans Mono',consolas,'Courier New',monospace\"><span style=\"color: #00ff00; text-decoration-color: #00ff00\">         </span><span style=\"color: #00ffaf; text-decoration-color: #00ffaf\">INFO    </span> <span style=\"color: #c6c6c6; text-decoration-color: #c6c6c6; font-weight: bold\"> The ft2 file does not exist. Please examine!                        </span><a href=\"file:///Users/runner/work/threeML/threeML/threeML/utils/data_builders/fermi/lat_transient_builder.py\" target=\"_blank\"><span style=\"color: #7f7f7f; text-decoration-color: #7f7f7f\">lat_transient_builder.py</span></a><span style=\"color: #7f7f7f; text-decoration-color: #7f7f7f\">:</span><a href=\"file:///Users/runner/work/threeML/threeML/threeML/utils/data_builders/fermi/lat_transient_builder.py#726\" target=\"_blank\"><span style=\"color: #7f7f7f; text-decoration-color: #7f7f7f\">726</span></a>\n",
       "</pre>\n"
      ],
      "text/plain": [
       "\u001b[38;5;46m        \u001b[0m\u001b[38;5;46m \u001b[0m\u001b[38;5;49mINFO    \u001b[0m \u001b[1;38;5;251m The ft2 file does not exist. Please examine!                       \u001b[0m\u001b[1;38;5;251m \u001b[0m\u001b]8;id=57413;file:///Users/runner/work/threeML/threeML/threeML/utils/data_builders/fermi/lat_transient_builder.py\u001b\\\u001b[2mlat_transient_builder.py\u001b[0m\u001b]8;;\u001b\\\u001b[2m:\u001b[0m\u001b]8;id=741220;file:///Users/runner/work/threeML/threeML/threeML/utils/data_builders/fermi/lat_transient_builder.py#726\u001b\\\u001b[2m726\u001b[0m\u001b]8;;\u001b\\\n"
      ]
     },
     "metadata": {},
     "output_type": "display_data"
    },
    {
     "data": {
      "text/html": [
       "<pre style=\"white-space:pre;overflow-x:auto;line-height:normal;font-family:Menlo,'DejaVu Sans Mono',consolas,'Courier New',monospace\"><span style=\"color: #00ff00; text-decoration-color: #00ff00\">         </span><span style=\"color: #00ffaf; text-decoration-color: #00ffaf\">INFO    </span> <span style=\"color: #c6c6c6; text-decoration-color: #c6c6c6; font-weight: bold\"> we will grab the data file for you.                                 </span><a href=\"file:///Users/runner/work/threeML/threeML/threeML/utils/data_builders/fermi/lat_transient_builder.py\" target=\"_blank\"><span style=\"color: #7f7f7f; text-decoration-color: #7f7f7f\">lat_transient_builder.py</span></a><span style=\"color: #7f7f7f; text-decoration-color: #7f7f7f\">:</span><a href=\"file:///Users/runner/work/threeML/threeML/threeML/utils/data_builders/fermi/lat_transient_builder.py#727\" target=\"_blank\"><span style=\"color: #7f7f7f; text-decoration-color: #7f7f7f\">727</span></a>\n",
       "</pre>\n"
      ],
      "text/plain": [
       "\u001b[38;5;46m        \u001b[0m\u001b[38;5;46m \u001b[0m\u001b[38;5;49mINFO    \u001b[0m \u001b[1;38;5;251m we will grab the data file for you.                                \u001b[0m\u001b[1;38;5;251m \u001b[0m\u001b]8;id=137013;file:///Users/runner/work/threeML/threeML/threeML/utils/data_builders/fermi/lat_transient_builder.py\u001b\\\u001b[2mlat_transient_builder.py\u001b[0m\u001b]8;;\u001b\\\u001b[2m:\u001b[0m\u001b]8;id=847003;file:///Users/runner/work/threeML/threeML/threeML/utils/data_builders/fermi/lat_transient_builder.py#727\u001b\\\u001b[2m727\u001b[0m\u001b]8;;\u001b\\\n"
      ]
     },
     "metadata": {},
     "output_type": "display_data"
    },
    {
     "data": {
      "text/html": [
       "<pre style=\"white-space:pre;overflow-x:auto;line-height:normal;font-family:Menlo,'DejaVu Sans Mono',consolas,'Courier New',monospace\"><span style=\"color: #00ff00; text-decoration-color: #00ff00\">         </span><span style=\"color: #00ffaf; text-decoration-color: #00ffaf\">INFO    </span> <span style=\"color: #c6c6c6; text-decoration-color: #c6c6c6; font-weight: bold\"> copied .</span><span style=\"color: #5f5f5f; text-decoration-color: #5f5f5f; font-weight: bold\">/bn190114873/</span><span style=\"color: #000080; text-decoration-color: #000080; font-weight: bold\">gll_ft2_tr_bn190114873_v00.fit</span><span style=\"color: #c6c6c6; text-decoration-color: #c6c6c6; font-weight: bold\"> to              </span><a href=\"file:///Users/runner/work/threeML/threeML/threeML/utils/data_builders/fermi/lat_transient_builder.py\" target=\"_blank\"><span style=\"color: #7f7f7f; text-decoration-color: #7f7f7f\">lat_transient_builder.py</span></a><span style=\"color: #7f7f7f; text-decoration-color: #7f7f7f\">:</span><a href=\"file:///Users/runner/work/threeML/threeML/threeML/utils/data_builders/fermi/lat_transient_builder.py#743\" target=\"_blank\"><span style=\"color: #7f7f7f; text-decoration-color: #7f7f7f\">743</span></a>\n",
       "<span style=\"color: #00ff00; text-decoration-color: #00ff00\">         </span>         <span style=\"color: #c6c6c6; text-decoration-color: #c6c6c6; font-weight: bold\">interval80.</span><span style=\"color: #c0c0c0; text-decoration-color: #c0c0c0; font-weight: bold\">0</span><span style=\"color: #c6c6c6; text-decoration-color: #c6c6c6; font-weight: bold\">-</span><span style=\"color: #c0c0c0; text-decoration-color: #c0c0c0; font-weight: bold\">180.0</span><span style=\"color: #c6c6c6; text-decoration-color: #c6c6c6; font-weight: bold\">/gll_ft2_tr_bn190114873_v00.fit                    </span><span style=\"color: #7f7f7f; text-decoration-color: #7f7f7f\">                            </span>\n",
       "</pre>\n"
      ],
      "text/plain": [
       "\u001b[38;5;46m        \u001b[0m\u001b[38;5;46m \u001b[0m\u001b[38;5;49mINFO    \u001b[0m \u001b[1;38;5;251m copied .\u001b[0m\u001b[1;38;5;59m/bn190114873/\u001b[0m\u001b[1;34mgll_ft2_tr_bn190114873_v00.fit\u001b[0m\u001b[1;38;5;251m to             \u001b[0m\u001b[1;38;5;251m \u001b[0m\u001b]8;id=866507;file:///Users/runner/work/threeML/threeML/threeML/utils/data_builders/fermi/lat_transient_builder.py\u001b\\\u001b[2mlat_transient_builder.py\u001b[0m\u001b]8;;\u001b\\\u001b[2m:\u001b[0m\u001b]8;id=915411;file:///Users/runner/work/threeML/threeML/threeML/utils/data_builders/fermi/lat_transient_builder.py#743\u001b\\\u001b[2m743\u001b[0m\u001b]8;;\u001b\\\n",
       "\u001b[38;5;46m         \u001b[0m         \u001b[1;38;5;251minterval80.\u001b[0m\u001b[1;37m0\u001b[0m\u001b[1;38;5;251m-\u001b[0m\u001b[1;37m180.0\u001b[0m\u001b[1;38;5;251m/gll_ft2_tr_bn190114873_v00.fit                   \u001b[0m\u001b[1;38;5;251m \u001b[0m\u001b[2m                            \u001b[0m\n"
      ]
     },
     "metadata": {},
     "output_type": "display_data"
    }
   ],
   "source": [
    "LAT_observations = analysis_builder.run(include_previous_intervals=True)"
   ]
  },
  {
   "cell_type": "markdown",
   "id": "05048014",
   "metadata": {},
   "source": [
    " At this point we can create the FermiLATLike plugins from each of the observation:"
   ]
  },
  {
   "cell_type": "code",
   "execution_count": 12,
   "id": "20da6e65",
   "metadata": {
    "execution": {
     "iopub.execute_input": "2024-06-01T00:13:21.650529Z",
     "iopub.status.busy": "2024-06-01T00:13:21.650036Z",
     "iopub.status.idle": "2024-06-01T00:13:22.917026Z",
     "shell.execute_reply": "2024-06-01T00:13:22.915777Z"
    }
   },
   "outputs": [
    {
     "name": "stdout",
     "output_type": "stream",
     "text": [
      "FermiLATLike - GTI SUM =  10.0\n",
      "FermiLATLike - GTI SUM =  20.0\n",
      "FermiLATLike - GTI SUM =  50.0\n"
     ]
    },
    {
     "name": "stdout",
     "output_type": "stream",
     "text": [
      "FermiLATLike - GTI SUM =  97.97399997711182\n"
     ]
    }
   ],
   "source": [
    "LAT_plugins = {}\n",
    "for l in LAT_observations:\n",
    "    LAT_name = \"LAT_%06.3f-%06.3f\" % (float(l.tstart), float(l.tstop))\n",
    "    LAT_plugins[LAT_name] = l.to_LATLike()\n",
    "    pass"
   ]
  },
  {
   "cell_type": "markdown",
   "id": "c2b56b15",
   "metadata": {},
   "source": [
    "For reference, these are the keys save in the dictionary.\n"
   ]
  },
  {
   "cell_type": "code",
   "execution_count": 13,
   "id": "46483330",
   "metadata": {
    "execution": {
     "iopub.execute_input": "2024-06-01T00:13:22.923517Z",
     "iopub.status.busy": "2024-06-01T00:13:22.923036Z",
     "iopub.status.idle": "2024-06-01T00:13:22.930810Z",
     "shell.execute_reply": "2024-06-01T00:13:22.929482Z"
    },
    "lines_to_next_cell": 0
   },
   "outputs": [
    {
     "data": {
      "text/plain": [
       "dict_keys(['LAT_00.000-10.000', 'LAT_10.000-30.000', 'LAT_30.000-80.000', 'LAT_80.000-180.000'])"
      ]
     },
     "execution_count": 13,
     "metadata": {},
     "output_type": "execute_result"
    }
   ],
   "source": [
    "LAT_plugins.keys()"
   ]
  },
  {
   "cell_type": "markdown",
   "id": "0924abb9",
   "metadata": {},
   "source": [
    "Now we can perform the fit in each bin. Note that we set the model, and we set some initial values. All the resulting joint likelihood objects are stored in a dictioonary to be used later for plotting.\n"
   ]
  },
  {
   "cell_type": "code",
   "execution_count": 14,
   "id": "22bed6ff",
   "metadata": {
    "execution": {
     "iopub.execute_input": "2024-06-01T00:13:22.936619Z",
     "iopub.status.busy": "2024-06-01T00:13:22.936284Z",
     "iopub.status.idle": "2024-06-01T00:13:53.266573Z",
     "shell.execute_reply": "2024-06-01T00:13:53.265195Z"
    }
   },
   "outputs": [
    {
     "data": {
      "text/html": [
       "<pre style=\"white-space:pre;overflow-x:auto;line-height:normal;font-family:Menlo,'DejaVu Sans Mono',consolas,'Courier New',monospace\"><span style=\"color: #00ff00; text-decoration-color: #00ff00\">00:13:22 </span><span style=\"color: #af5fd7; text-decoration-color: #af5fd7\">WARNING </span> <span style=\"color: #c6c6c6; text-decoration-color: #c6c6c6; font-weight: bold\"> We have set the min_value of GRB.spectrum.main.Powerlaw_flux.F to </span><span style=\"color: #c0c0c0; text-decoration-color: #c0c0c0; font-weight: bold\">1e-99</span><span style=\"color: #c6c6c6; text-decoration-color: #c6c6c6; font-weight: bold\"> because </span><a href=\"file:///usr/local/miniconda/envs/test_env/lib/python3.9/site-packages/astromodels/core/parameter.py\" target=\"_blank\"><span style=\"color: #7f7f7f; text-decoration-color: #7f7f7f\">parameter.py</span></a><span style=\"color: #7f7f7f; text-decoration-color: #7f7f7f\">:</span><a href=\"file:///usr/local/miniconda/envs/test_env/lib/python3.9/site-packages/astromodels/core/parameter.py#704\" target=\"_blank\"><span style=\"color: #7f7f7f; text-decoration-color: #7f7f7f\">704</span></a>\n",
       "<span style=\"color: #00ff00; text-decoration-color: #00ff00\">         </span>         <span style=\"color: #c6c6c6; text-decoration-color: #c6c6c6; font-weight: bold\">there was a postive transform                                                    </span><span style=\"color: #7f7f7f; text-decoration-color: #7f7f7f\">                </span>\n",
       "</pre>\n"
      ],
      "text/plain": [
       "\u001b[38;5;46m00:13:22\u001b[0m\u001b[38;5;46m \u001b[0m\u001b[38;5;134mWARNING \u001b[0m \u001b[1;38;5;251m We have set the min_value of GRB.spectrum.main.Powerlaw_flux.F to \u001b[0m\u001b[1;37m1e-99\u001b[0m\u001b[1;38;5;251m because\u001b[0m\u001b[1;38;5;251m \u001b[0m\u001b]8;id=396226;file:///usr/local/miniconda/envs/test_env/lib/python3.9/site-packages/astromodels/core/parameter.py\u001b\\\u001b[2mparameter.py\u001b[0m\u001b]8;;\u001b\\\u001b[2m:\u001b[0m\u001b]8;id=763620;file:///usr/local/miniconda/envs/test_env/lib/python3.9/site-packages/astromodels/core/parameter.py#704\u001b\\\u001b[2m704\u001b[0m\u001b]8;;\u001b\\\n",
       "\u001b[38;5;46m         \u001b[0m         \u001b[1;38;5;251mthere was a postive transform                                                   \u001b[0m\u001b[1;38;5;251m \u001b[0m\u001b[2m                \u001b[0m\n"
      ]
     },
     "metadata": {},
     "output_type": "display_data"
    },
    {
     "name": "stdout",
     "output_type": "stream",
     "text": [
      "\n",
      "Found Isotropic template for irf P8R3_TRANSIENT020E_V3: /usr/local/miniconda/envs/test_env/share/fermitools/refdata/fermi/galdiffuse/iso_P8R3_TRANSIENT020E_V3_v1.txt\n",
      "\n",
      "Found Galactic template for IRF. P8R3_TRANSIENT020E_V3: /usr/local/miniconda/envs/test_env/share/fermitools/refdata/fermi/galdiffuse/gll_iem_v07.fits\n",
      "\n",
      "Cutting the template around the ROI: \n",
      "\n"
     ]
    },
    {
     "data": {
      "text/html": [
       "<pre style=\"white-space:pre;overflow-x:auto;line-height:normal;font-family:Menlo,'DejaVu Sans Mono',consolas,'Courier New',monospace\"><span style=\"color: #00ff00; text-decoration-color: #00ff00\">00:13:30 </span><span style=\"color: #00ffaf; text-decoration-color: #00ffaf\">INFO    </span> <span style=\"color: #c6c6c6; text-decoration-color: #c6c6c6; font-weight: bold\"> set the minimizer to minuit                                             </span><a href=\"file:///Users/runner/work/threeML/threeML/threeML/classicMLE/joint_likelihood.py\" target=\"_blank\"><span style=\"color: #7f7f7f; text-decoration-color: #7f7f7f\">joint_likelihood.py</span></a><span style=\"color: #7f7f7f; text-decoration-color: #7f7f7f\">:</span><a href=\"file:///Users/runner/work/threeML/threeML/threeML/classicMLE/joint_likelihood.py#1045\" target=\"_blank\"><span style=\"color: #7f7f7f; text-decoration-color: #7f7f7f\">1045</span></a>\n",
       "</pre>\n"
      ],
      "text/plain": [
       "\u001b[38;5;46m00:13:30\u001b[0m\u001b[38;5;46m \u001b[0m\u001b[38;5;49mINFO    \u001b[0m \u001b[1;38;5;251m set the minimizer to minuit                                            \u001b[0m\u001b[1;38;5;251m \u001b[0m\u001b]8;id=713650;file:///Users/runner/work/threeML/threeML/threeML/classicMLE/joint_likelihood.py\u001b\\\u001b[2mjoint_likelihood.py\u001b[0m\u001b]8;;\u001b\\\u001b[2m:\u001b[0m\u001b]8;id=317217;file:///Users/runner/work/threeML/threeML/threeML/classicMLE/joint_likelihood.py#1045\u001b\\\u001b[2m1045\u001b[0m\u001b]8;;\u001b\\\n"
      ]
     },
     "metadata": {},
     "output_type": "display_data"
    },
    {
     "data": {
      "text/html": [
       "<pre style=\"white-space:pre;overflow-x:auto;line-height:normal;font-family:Menlo,'DejaVu Sans Mono',consolas,'Courier New',monospace\"><span style=\"color: #00ff00; text-decoration-color: #00ff00\">         </span><span style=\"color: #00ffaf; text-decoration-color: #00ffaf\">INFO    </span> <span style=\"color: #c6c6c6; text-decoration-color: #c6c6c6; font-weight: bold\"> set the minimizer to MINUIT                                             </span><a href=\"file:///Users/runner/work/threeML/threeML/threeML/classicMLE/joint_likelihood.py\" target=\"_blank\"><span style=\"color: #7f7f7f; text-decoration-color: #7f7f7f\">joint_likelihood.py</span></a><span style=\"color: #7f7f7f; text-decoration-color: #7f7f7f\">:</span><a href=\"file:///Users/runner/work/threeML/threeML/threeML/classicMLE/joint_likelihood.py#1062\" target=\"_blank\"><span style=\"color: #7f7f7f; text-decoration-color: #7f7f7f\">1062</span></a>\n",
       "</pre>\n"
      ],
      "text/plain": [
       "\u001b[38;5;46m        \u001b[0m\u001b[38;5;46m \u001b[0m\u001b[38;5;49mINFO    \u001b[0m \u001b[1;38;5;251m set the minimizer to MINUIT                                            \u001b[0m\u001b[1;38;5;251m \u001b[0m\u001b]8;id=381152;file:///Users/runner/work/threeML/threeML/threeML/classicMLE/joint_likelihood.py\u001b\\\u001b[2mjoint_likelihood.py\u001b[0m\u001b]8;;\u001b\\\u001b[2m:\u001b[0m\u001b]8;id=651590;file:///Users/runner/work/threeML/threeML/threeML/classicMLE/joint_likelihood.py#1062\u001b\\\u001b[2m1062\u001b[0m\u001b]8;;\u001b\\\n"
      ]
     },
     "metadata": {},
     "output_type": "display_data"
    },
    {
     "data": {
      "text/html": [
       "<pre style=\"white-space:pre;overflow-x:auto;line-height:normal;font-family:Menlo,'DejaVu Sans Mono',consolas,'Courier New',monospace\"><span style=\"color: #00ff00; text-decoration-color: #00ff00\">00:13:31 </span><span style=\"color: #af5fd7; text-decoration-color: #af5fd7\">WARNING </span> <span style=\"color: #c6c6c6; text-decoration-color: #c6c6c6; font-weight: bold\"> </span><span style=\"color: #c0c0c0; text-decoration-color: #c0c0c0; font-weight: bold\">50.42</span><span style=\"color: #c6c6c6; text-decoration-color: #c6c6c6; font-weight: bold\"> percent of samples have been thrown away because they failed the  </span><a href=\"file:///Users/runner/work/threeML/threeML/threeML/analysis_results.py\" target=\"_blank\"><span style=\"color: #7f7f7f; text-decoration-color: #7f7f7f\">analysis_results.py</span></a><span style=\"color: #7f7f7f; text-decoration-color: #7f7f7f\">:</span><a href=\"file:///Users/runner/work/threeML/threeML/threeML/analysis_results.py#1740\" target=\"_blank\"><span style=\"color: #7f7f7f; text-decoration-color: #7f7f7f\">1740</span></a>\n",
       "<span style=\"color: #00ff00; text-decoration-color: #00ff00\">         </span>         <span style=\"color: #c6c6c6; text-decoration-color: #c6c6c6; font-weight: bold\">constraints on the parameters. This results might not be suitable for    </span><span style=\"color: #7f7f7f; text-decoration-color: #7f7f7f\">                        </span>\n",
       "<span style=\"color: #00ff00; text-decoration-color: #00ff00\">         </span>         <span style=\"color: #c6c6c6; text-decoration-color: #c6c6c6; font-weight: bold\">error propagation. Enlarge the boundaries until you loose less than </span><span style=\"color: #c0c0c0; text-decoration-color: #c0c0c0; font-weight: bold\">1</span><span style=\"color: #c6c6c6; text-decoration-color: #c6c6c6; font-weight: bold\">    </span><span style=\"color: #7f7f7f; text-decoration-color: #7f7f7f\">                        </span>\n",
       "<span style=\"color: #00ff00; text-decoration-color: #00ff00\">         </span>         <span style=\"color: #c6c6c6; text-decoration-color: #c6c6c6; font-weight: bold\">percent of the samples.                                                  </span><span style=\"color: #7f7f7f; text-decoration-color: #7f7f7f\">                        </span>\n",
       "</pre>\n"
      ],
      "text/plain": [
       "\u001b[38;5;46m00:13:31\u001b[0m\u001b[38;5;46m \u001b[0m\u001b[38;5;134mWARNING \u001b[0m \u001b[1;38;5;251m \u001b[0m\u001b[1;37m50.42\u001b[0m\u001b[1;38;5;251m percent of samples have been thrown away because they failed the \u001b[0m\u001b[1;38;5;251m \u001b[0m\u001b]8;id=978651;file:///Users/runner/work/threeML/threeML/threeML/analysis_results.py\u001b\\\u001b[2manalysis_results.py\u001b[0m\u001b]8;;\u001b\\\u001b[2m:\u001b[0m\u001b]8;id=368687;file:///Users/runner/work/threeML/threeML/threeML/analysis_results.py#1740\u001b\\\u001b[2m1740\u001b[0m\u001b]8;;\u001b\\\n",
       "\u001b[38;5;46m         \u001b[0m         \u001b[1;38;5;251mconstraints on the parameters. This results might not be suitable for   \u001b[0m\u001b[1;38;5;251m \u001b[0m\u001b[2m                        \u001b[0m\n",
       "\u001b[38;5;46m         \u001b[0m         \u001b[1;38;5;251merror propagation. Enlarge the boundaries until you loose less than \u001b[0m\u001b[1;37m1\u001b[0m\u001b[1;38;5;251m   \u001b[0m\u001b[1;38;5;251m \u001b[0m\u001b[2m                        \u001b[0m\n",
       "\u001b[38;5;46m         \u001b[0m         \u001b[1;38;5;251mpercent of the samples.                                                 \u001b[0m\u001b[1;38;5;251m \u001b[0m\u001b[2m                        \u001b[0m\n"
      ]
     },
     "metadata": {},
     "output_type": "display_data"
    },
    {
     "data": {
      "text/html": [
       "<pre style=\"white-space:pre;overflow-x:auto;line-height:normal;font-family:Menlo,'DejaVu Sans Mono',consolas,'Courier New',monospace\"><span style=\"color: #00ffaf; text-decoration-color: #00ffaf; font-weight: bold; text-decoration: underline\">Best fit values:</span>\n",
       "\n",
       "</pre>\n"
      ],
      "text/plain": [
       "\u001b[1;4;38;5;49mBest fit values:\u001b[0m\n",
       "\n"
      ]
     },
     "metadata": {},
     "output_type": "display_data"
    },
    {
     "data": {
      "text/html": [
       "<div>\n",
       "<style scoped>\n",
       "    .dataframe tbody tr th:only-of-type {\n",
       "        vertical-align: middle;\n",
       "    }\n",
       "\n",
       "    .dataframe tbody tr th {\n",
       "        vertical-align: top;\n",
       "    }\n",
       "\n",
       "    .dataframe thead th {\n",
       "        text-align: right;\n",
       "    }\n",
       "</style>\n",
       "<table border=\"1\" class=\"dataframe\">\n",
       "  <thead>\n",
       "    <tr style=\"text-align: right;\">\n",
       "      <th></th>\n",
       "      <th>result</th>\n",
       "      <th>unit</th>\n",
       "    </tr>\n",
       "    <tr>\n",
       "      <th>parameter</th>\n",
       "      <th></th>\n",
       "      <th></th>\n",
       "    </tr>\n",
       "  </thead>\n",
       "  <tbody>\n",
       "    <tr>\n",
       "      <th>GRB.spectrum.main.Powerlaw_flux.F</th>\n",
       "      <td>(1.11 -0.09 +0.10) x 10^-2</td>\n",
       "      <td>1 / (cm2 s)</td>\n",
       "    </tr>\n",
       "    <tr>\n",
       "      <th>GRB.spectrum.main.Powerlaw_flux.index</th>\n",
       "      <td>-2.22 +/- 0.10</td>\n",
       "      <td></td>\n",
       "    </tr>\n",
       "    <tr>\n",
       "      <th>LAT0X10_IsotropicTemplate_Normalization</th>\n",
       "      <td>5.00 +/- 0.08</td>\n",
       "      <td></td>\n",
       "    </tr>\n",
       "  </tbody>\n",
       "</table>\n",
       "</div>"
      ],
      "text/plain": [
       "                                                             result  \\\n",
       "parameter                                                             \n",
       "GRB.spectrum.main.Powerlaw_flux.F        (1.11 -0.09 +0.10) x 10^-2   \n",
       "GRB.spectrum.main.Powerlaw_flux.index                -2.22 +/- 0.10   \n",
       "LAT0X10_IsotropicTemplate_Normalization               5.00 +/- 0.08   \n",
       "\n",
       "                                                unit  \n",
       "parameter                                             \n",
       "GRB.spectrum.main.Powerlaw_flux.F        1 / (cm2 s)  \n",
       "GRB.spectrum.main.Powerlaw_flux.index                 \n",
       "LAT0X10_IsotropicTemplate_Normalization               "
      ]
     },
     "metadata": {},
     "output_type": "display_data"
    },
    {
     "data": {
      "text/html": [
       "<pre style=\"white-space:pre;overflow-x:auto;line-height:normal;font-family:Menlo,'DejaVu Sans Mono',consolas,'Courier New',monospace\">\n",
       "<span style=\"color: #00ffaf; text-decoration-color: #00ffaf; font-weight: bold; text-decoration: underline\">Correlation matrix:</span>\n",
       "\n",
       "</pre>\n"
      ],
      "text/plain": [
       "\n",
       "\u001b[1;4;38;5;49mCorrelation matrix:\u001b[0m\n",
       "\n"
      ]
     },
     "metadata": {},
     "output_type": "display_data"
    },
    {
     "data": {
      "text/html": [
       "<div><table id=\"table5335317856\">\n",
       "<tr><td>1.00</td><td>-0.31</td><td>-0.00</td></tr>\n",
       "<tr><td>-0.31</td><td>1.00</td><td>0.00</td></tr>\n",
       "<tr><td>-0.00</td><td>0.00</td><td>1.00</td></tr>\n",
       "</table></div>"
      ],
      "text/plain": [
       " 1.00 -0.31 -0.00\n",
       "-0.31  1.00  0.00\n",
       "-0.00  0.00  1.00"
      ]
     },
     "metadata": {},
     "output_type": "display_data"
    },
    {
     "data": {
      "text/html": [
       "<pre style=\"white-space:pre;overflow-x:auto;line-height:normal;font-family:Menlo,'DejaVu Sans Mono',consolas,'Courier New',monospace\">\n",
       "<span style=\"color: #00ffaf; text-decoration-color: #00ffaf; font-weight: bold; text-decoration: underline\">Values of -log(likelihood) at the minimum:</span>\n",
       "\n",
       "</pre>\n"
      ],
      "text/plain": [
       "\n",
       "\u001b[1;4;38;5;49mValues of -\u001b[0m\u001b[1;4;38;5;49mlog\u001b[0m\u001b[1;4;38;5;49m(\u001b[0m\u001b[1;4;38;5;49mlikelihood\u001b[0m\u001b[1;4;38;5;49m)\u001b[0m\u001b[1;4;38;5;49m at the minimum:\u001b[0m\n",
       "\n"
      ]
     },
     "metadata": {},
     "output_type": "display_data"
    },
    {
     "data": {
      "text/html": [
       "<div>\n",
       "<style scoped>\n",
       "    .dataframe tbody tr th:only-of-type {\n",
       "        vertical-align: middle;\n",
       "    }\n",
       "\n",
       "    .dataframe tbody tr th {\n",
       "        vertical-align: top;\n",
       "    }\n",
       "\n",
       "    .dataframe thead th {\n",
       "        text-align: right;\n",
       "    }\n",
       "</style>\n",
       "<table border=\"1\" class=\"dataframe\">\n",
       "  <thead>\n",
       "    <tr style=\"text-align: right;\">\n",
       "      <th></th>\n",
       "      <th>-log(likelihood)</th>\n",
       "    </tr>\n",
       "  </thead>\n",
       "  <tbody>\n",
       "    <tr>\n",
       "      <th>LAT0X10</th>\n",
       "      <td>896.873532</td>\n",
       "    </tr>\n",
       "    <tr>\n",
       "      <th>total</th>\n",
       "      <td>896.873532</td>\n",
       "    </tr>\n",
       "  </tbody>\n",
       "</table>\n",
       "</div>"
      ],
      "text/plain": [
       "         -log(likelihood)\n",
       "LAT0X10        896.873532\n",
       "total          896.873532"
      ]
     },
     "metadata": {},
     "output_type": "display_data"
    },
    {
     "data": {
      "text/html": [
       "<pre style=\"white-space:pre;overflow-x:auto;line-height:normal;font-family:Menlo,'DejaVu Sans Mono',consolas,'Courier New',monospace\">\n",
       "<span style=\"color: #00ffaf; text-decoration-color: #00ffaf; font-weight: bold; text-decoration: underline\">Values of statistical measures:</span>\n",
       "\n",
       "</pre>\n"
      ],
      "text/plain": [
       "\n",
       "\u001b[1;4;38;5;49mValues of statistical measures:\u001b[0m\n",
       "\n"
      ]
     },
     "metadata": {},
     "output_type": "display_data"
    },
    {
     "data": {
      "text/html": [
       "<div>\n",
       "<style scoped>\n",
       "    .dataframe tbody tr th:only-of-type {\n",
       "        vertical-align: middle;\n",
       "    }\n",
       "\n",
       "    .dataframe tbody tr th {\n",
       "        vertical-align: top;\n",
       "    }\n",
       "\n",
       "    .dataframe thead th {\n",
       "        text-align: right;\n",
       "    }\n",
       "</style>\n",
       "<table border=\"1\" class=\"dataframe\">\n",
       "  <thead>\n",
       "    <tr style=\"text-align: right;\">\n",
       "      <th></th>\n",
       "      <th>statistical measures</th>\n",
       "    </tr>\n",
       "  </thead>\n",
       "  <tbody>\n",
       "    <tr>\n",
       "      <th>AIC</th>\n",
       "      <td>1799.907064</td>\n",
       "    </tr>\n",
       "    <tr>\n",
       "      <th>BIC</th>\n",
       "      <td>1808.857922</td>\n",
       "    </tr>\n",
       "  </tbody>\n",
       "</table>\n",
       "</div>"
      ],
      "text/plain": [
       "     statistical measures\n",
       "AIC           1799.907064\n",
       "BIC           1808.857922"
      ]
     },
     "metadata": {},
     "output_type": "display_data"
    },
    {
     "data": {
      "text/html": [
       "<pre style=\"white-space:pre;overflow-x:auto;line-height:normal;font-family:Menlo,'DejaVu Sans Mono',consolas,'Courier New',monospace\"><span style=\"color: #00ff00; text-decoration-color: #00ff00\">00:13:31 </span><span style=\"color: #af5fd7; text-decoration-color: #af5fd7\">WARNING </span> <span style=\"color: #c6c6c6; text-decoration-color: #c6c6c6; font-weight: bold\"> We have set the min_value of GRB.spectrum.main.Powerlaw_flux.F to </span><span style=\"color: #c0c0c0; text-decoration-color: #c0c0c0; font-weight: bold\">1e-99</span><span style=\"color: #c6c6c6; text-decoration-color: #c6c6c6; font-weight: bold\"> because </span><a href=\"file:///usr/local/miniconda/envs/test_env/lib/python3.9/site-packages/astromodels/core/parameter.py\" target=\"_blank\"><span style=\"color: #7f7f7f; text-decoration-color: #7f7f7f\">parameter.py</span></a><span style=\"color: #7f7f7f; text-decoration-color: #7f7f7f\">:</span><a href=\"file:///usr/local/miniconda/envs/test_env/lib/python3.9/site-packages/astromodels/core/parameter.py#704\" target=\"_blank\"><span style=\"color: #7f7f7f; text-decoration-color: #7f7f7f\">704</span></a>\n",
       "<span style=\"color: #00ff00; text-decoration-color: #00ff00\">         </span>         <span style=\"color: #c6c6c6; text-decoration-color: #c6c6c6; font-weight: bold\">there was a postive transform                                                    </span><span style=\"color: #7f7f7f; text-decoration-color: #7f7f7f\">                </span>\n",
       "</pre>\n"
      ],
      "text/plain": [
       "\u001b[38;5;46m00:13:31\u001b[0m\u001b[38;5;46m \u001b[0m\u001b[38;5;134mWARNING \u001b[0m \u001b[1;38;5;251m We have set the min_value of GRB.spectrum.main.Powerlaw_flux.F to \u001b[0m\u001b[1;37m1e-99\u001b[0m\u001b[1;38;5;251m because\u001b[0m\u001b[1;38;5;251m \u001b[0m\u001b]8;id=299196;file:///usr/local/miniconda/envs/test_env/lib/python3.9/site-packages/astromodels/core/parameter.py\u001b\\\u001b[2mparameter.py\u001b[0m\u001b]8;;\u001b\\\u001b[2m:\u001b[0m\u001b]8;id=264770;file:///usr/local/miniconda/envs/test_env/lib/python3.9/site-packages/astromodels/core/parameter.py#704\u001b\\\u001b[2m704\u001b[0m\u001b]8;;\u001b\\\n",
       "\u001b[38;5;46m         \u001b[0m         \u001b[1;38;5;251mthere was a postive transform                                                   \u001b[0m\u001b[1;38;5;251m \u001b[0m\u001b[2m                \u001b[0m\n"
      ]
     },
     "metadata": {},
     "output_type": "display_data"
    },
    {
     "name": "stdout",
     "output_type": "stream",
     "text": [
      "\n",
      "Found Isotropic template for irf P8R3_TRANSIENT020E_V3: /usr/local/miniconda/envs/test_env/share/fermitools/refdata/fermi/galdiffuse/iso_P8R3_TRANSIENT020E_V3_v1.txt\n",
      "\n",
      "Found Galactic template for IRF. P8R3_TRANSIENT020E_V3: /usr/local/miniconda/envs/test_env/share/fermitools/refdata/fermi/galdiffuse/gll_iem_v07.fits\n",
      "\n",
      "Cutting the template around the ROI: \n",
      "\n"
     ]
    },
    {
     "data": {
      "text/html": [
       "<pre style=\"white-space:pre;overflow-x:auto;line-height:normal;font-family:Menlo,'DejaVu Sans Mono',consolas,'Courier New',monospace\"><span style=\"color: #00ff00; text-decoration-color: #00ff00\">00:13:37 </span><span style=\"color: #00ffaf; text-decoration-color: #00ffaf\">INFO    </span> <span style=\"color: #c6c6c6; text-decoration-color: #c6c6c6; font-weight: bold\"> set the minimizer to minuit                                             </span><a href=\"file:///Users/runner/work/threeML/threeML/threeML/classicMLE/joint_likelihood.py\" target=\"_blank\"><span style=\"color: #7f7f7f; text-decoration-color: #7f7f7f\">joint_likelihood.py</span></a><span style=\"color: #7f7f7f; text-decoration-color: #7f7f7f\">:</span><a href=\"file:///Users/runner/work/threeML/threeML/threeML/classicMLE/joint_likelihood.py#1045\" target=\"_blank\"><span style=\"color: #7f7f7f; text-decoration-color: #7f7f7f\">1045</span></a>\n",
       "</pre>\n"
      ],
      "text/plain": [
       "\u001b[38;5;46m00:13:37\u001b[0m\u001b[38;5;46m \u001b[0m\u001b[38;5;49mINFO    \u001b[0m \u001b[1;38;5;251m set the minimizer to minuit                                            \u001b[0m\u001b[1;38;5;251m \u001b[0m\u001b]8;id=171499;file:///Users/runner/work/threeML/threeML/threeML/classicMLE/joint_likelihood.py\u001b\\\u001b[2mjoint_likelihood.py\u001b[0m\u001b]8;;\u001b\\\u001b[2m:\u001b[0m\u001b]8;id=863159;file:///Users/runner/work/threeML/threeML/threeML/classicMLE/joint_likelihood.py#1045\u001b\\\u001b[2m1045\u001b[0m\u001b]8;;\u001b\\\n"
      ]
     },
     "metadata": {},
     "output_type": "display_data"
    },
    {
     "data": {
      "text/html": [
       "<pre style=\"white-space:pre;overflow-x:auto;line-height:normal;font-family:Menlo,'DejaVu Sans Mono',consolas,'Courier New',monospace\"><span style=\"color: #00ff00; text-decoration-color: #00ff00\">         </span><span style=\"color: #00ffaf; text-decoration-color: #00ffaf\">INFO    </span> <span style=\"color: #c6c6c6; text-decoration-color: #c6c6c6; font-weight: bold\"> set the minimizer to MINUIT                                             </span><a href=\"file:///Users/runner/work/threeML/threeML/threeML/classicMLE/joint_likelihood.py\" target=\"_blank\"><span style=\"color: #7f7f7f; text-decoration-color: #7f7f7f\">joint_likelihood.py</span></a><span style=\"color: #7f7f7f; text-decoration-color: #7f7f7f\">:</span><a href=\"file:///Users/runner/work/threeML/threeML/threeML/classicMLE/joint_likelihood.py#1062\" target=\"_blank\"><span style=\"color: #7f7f7f; text-decoration-color: #7f7f7f\">1062</span></a>\n",
       "</pre>\n"
      ],
      "text/plain": [
       "\u001b[38;5;46m        \u001b[0m\u001b[38;5;46m \u001b[0m\u001b[38;5;49mINFO    \u001b[0m \u001b[1;38;5;251m set the minimizer to MINUIT                                            \u001b[0m\u001b[1;38;5;251m \u001b[0m\u001b]8;id=522792;file:///Users/runner/work/threeML/threeML/threeML/classicMLE/joint_likelihood.py\u001b\\\u001b[2mjoint_likelihood.py\u001b[0m\u001b]8;;\u001b\\\u001b[2m:\u001b[0m\u001b]8;id=265525;file:///Users/runner/work/threeML/threeML/threeML/classicMLE/joint_likelihood.py#1062\u001b\\\u001b[2m1062\u001b[0m\u001b]8;;\u001b\\\n"
      ]
     },
     "metadata": {},
     "output_type": "display_data"
    },
    {
     "data": {
      "text/html": [
       "<pre style=\"white-space:pre;overflow-x:auto;line-height:normal;font-family:Menlo,'DejaVu Sans Mono',consolas,'Courier New',monospace\"><span style=\"color: #00ff00; text-decoration-color: #00ff00\">         </span><span style=\"color: #af5fd7; text-decoration-color: #af5fd7\">WARNING </span> <span style=\"color: #c6c6c6; text-decoration-color: #c6c6c6; font-weight: bold\"> </span><span style=\"color: #c0c0c0; text-decoration-color: #c0c0c0; font-weight: bold\">48.58</span><span style=\"color: #c6c6c6; text-decoration-color: #c6c6c6; font-weight: bold\"> percent of samples have been thrown away because they failed the  </span><a href=\"file:///Users/runner/work/threeML/threeML/threeML/analysis_results.py\" target=\"_blank\"><span style=\"color: #7f7f7f; text-decoration-color: #7f7f7f\">analysis_results.py</span></a><span style=\"color: #7f7f7f; text-decoration-color: #7f7f7f\">:</span><a href=\"file:///Users/runner/work/threeML/threeML/threeML/analysis_results.py#1740\" target=\"_blank\"><span style=\"color: #7f7f7f; text-decoration-color: #7f7f7f\">1740</span></a>\n",
       "<span style=\"color: #00ff00; text-decoration-color: #00ff00\">         </span>         <span style=\"color: #c6c6c6; text-decoration-color: #c6c6c6; font-weight: bold\">constraints on the parameters. This results might not be suitable for    </span><span style=\"color: #7f7f7f; text-decoration-color: #7f7f7f\">                        </span>\n",
       "<span style=\"color: #00ff00; text-decoration-color: #00ff00\">         </span>         <span style=\"color: #c6c6c6; text-decoration-color: #c6c6c6; font-weight: bold\">error propagation. Enlarge the boundaries until you loose less than </span><span style=\"color: #c0c0c0; text-decoration-color: #c0c0c0; font-weight: bold\">1</span><span style=\"color: #c6c6c6; text-decoration-color: #c6c6c6; font-weight: bold\">    </span><span style=\"color: #7f7f7f; text-decoration-color: #7f7f7f\">                        </span>\n",
       "<span style=\"color: #00ff00; text-decoration-color: #00ff00\">         </span>         <span style=\"color: #c6c6c6; text-decoration-color: #c6c6c6; font-weight: bold\">percent of the samples.                                                  </span><span style=\"color: #7f7f7f; text-decoration-color: #7f7f7f\">                        </span>\n",
       "</pre>\n"
      ],
      "text/plain": [
       "\u001b[38;5;46m        \u001b[0m\u001b[38;5;46m \u001b[0m\u001b[38;5;134mWARNING \u001b[0m \u001b[1;38;5;251m \u001b[0m\u001b[1;37m48.58\u001b[0m\u001b[1;38;5;251m percent of samples have been thrown away because they failed the \u001b[0m\u001b[1;38;5;251m \u001b[0m\u001b]8;id=181250;file:///Users/runner/work/threeML/threeML/threeML/analysis_results.py\u001b\\\u001b[2manalysis_results.py\u001b[0m\u001b]8;;\u001b\\\u001b[2m:\u001b[0m\u001b]8;id=902240;file:///Users/runner/work/threeML/threeML/threeML/analysis_results.py#1740\u001b\\\u001b[2m1740\u001b[0m\u001b]8;;\u001b\\\n",
       "\u001b[38;5;46m         \u001b[0m         \u001b[1;38;5;251mconstraints on the parameters. This results might not be suitable for   \u001b[0m\u001b[1;38;5;251m \u001b[0m\u001b[2m                        \u001b[0m\n",
       "\u001b[38;5;46m         \u001b[0m         \u001b[1;38;5;251merror propagation. Enlarge the boundaries until you loose less than \u001b[0m\u001b[1;37m1\u001b[0m\u001b[1;38;5;251m   \u001b[0m\u001b[1;38;5;251m \u001b[0m\u001b[2m                        \u001b[0m\n",
       "\u001b[38;5;46m         \u001b[0m         \u001b[1;38;5;251mpercent of the samples.                                                 \u001b[0m\u001b[1;38;5;251m \u001b[0m\u001b[2m                        \u001b[0m\n"
      ]
     },
     "metadata": {},
     "output_type": "display_data"
    },
    {
     "data": {
      "text/html": [
       "<pre style=\"white-space:pre;overflow-x:auto;line-height:normal;font-family:Menlo,'DejaVu Sans Mono',consolas,'Courier New',monospace\"><span style=\"color: #00ffaf; text-decoration-color: #00ffaf; font-weight: bold; text-decoration: underline\">Best fit values:</span>\n",
       "\n",
       "</pre>\n"
      ],
      "text/plain": [
       "\u001b[1;4;38;5;49mBest fit values:\u001b[0m\n",
       "\n"
      ]
     },
     "metadata": {},
     "output_type": "display_data"
    },
    {
     "data": {
      "text/html": [
       "<div>\n",
       "<style scoped>\n",
       "    .dataframe tbody tr th:only-of-type {\n",
       "        vertical-align: middle;\n",
       "    }\n",
       "\n",
       "    .dataframe tbody tr th {\n",
       "        vertical-align: top;\n",
       "    }\n",
       "\n",
       "    .dataframe thead th {\n",
       "        text-align: right;\n",
       "    }\n",
       "</style>\n",
       "<table border=\"1\" class=\"dataframe\">\n",
       "  <thead>\n",
       "    <tr style=\"text-align: right;\">\n",
       "      <th></th>\n",
       "      <th>result</th>\n",
       "      <th>unit</th>\n",
       "    </tr>\n",
       "    <tr>\n",
       "      <th>parameter</th>\n",
       "      <th></th>\n",
       "      <th></th>\n",
       "    </tr>\n",
       "  </thead>\n",
       "  <tbody>\n",
       "    <tr>\n",
       "      <th>GRB.spectrum.main.Powerlaw_flux.F</th>\n",
       "      <td>(1.73 -0.23 +0.26) x 10^-3</td>\n",
       "      <td>1 / (cm2 s)</td>\n",
       "    </tr>\n",
       "    <tr>\n",
       "      <th>GRB.spectrum.main.Powerlaw_flux.index</th>\n",
       "      <td>-1.73 +/- 0.13</td>\n",
       "      <td></td>\n",
       "    </tr>\n",
       "    <tr>\n",
       "      <th>LAT10X30_IsotropicTemplate_Normalization</th>\n",
       "      <td>5.000 +/- 0.006</td>\n",
       "      <td></td>\n",
       "    </tr>\n",
       "  </tbody>\n",
       "</table>\n",
       "</div>"
      ],
      "text/plain": [
       "                                                              result  \\\n",
       "parameter                                                              \n",
       "GRB.spectrum.main.Powerlaw_flux.F         (1.73 -0.23 +0.26) x 10^-3   \n",
       "GRB.spectrum.main.Powerlaw_flux.index                 -1.73 +/- 0.13   \n",
       "LAT10X30_IsotropicTemplate_Normalization             5.000 +/- 0.006   \n",
       "\n",
       "                                                 unit  \n",
       "parameter                                              \n",
       "GRB.spectrum.main.Powerlaw_flux.F         1 / (cm2 s)  \n",
       "GRB.spectrum.main.Powerlaw_flux.index                  \n",
       "LAT10X30_IsotropicTemplate_Normalization               "
      ]
     },
     "metadata": {},
     "output_type": "display_data"
    },
    {
     "data": {
      "text/html": [
       "<pre style=\"white-space:pre;overflow-x:auto;line-height:normal;font-family:Menlo,'DejaVu Sans Mono',consolas,'Courier New',monospace\">\n",
       "<span style=\"color: #00ffaf; text-decoration-color: #00ffaf; font-weight: bold; text-decoration: underline\">Correlation matrix:</span>\n",
       "\n",
       "</pre>\n"
      ],
      "text/plain": [
       "\n",
       "\u001b[1;4;38;5;49mCorrelation matrix:\u001b[0m\n",
       "\n"
      ]
     },
     "metadata": {},
     "output_type": "display_data"
    },
    {
     "data": {
      "text/html": [
       "<div><table id=\"table5335232816\">\n",
       "<tr><td>1.00</td><td>-0.30</td><td>-0.00</td></tr>\n",
       "<tr><td>-0.30</td><td>1.00</td><td>0.00</td></tr>\n",
       "<tr><td>-0.00</td><td>0.00</td><td>1.00</td></tr>\n",
       "</table></div>"
      ],
      "text/plain": [
       " 1.00 -0.30 -0.00\n",
       "-0.30  1.00  0.00\n",
       "-0.00  0.00  1.00"
      ]
     },
     "metadata": {},
     "output_type": "display_data"
    },
    {
     "data": {
      "text/html": [
       "<pre style=\"white-space:pre;overflow-x:auto;line-height:normal;font-family:Menlo,'DejaVu Sans Mono',consolas,'Courier New',monospace\">\n",
       "<span style=\"color: #00ffaf; text-decoration-color: #00ffaf; font-weight: bold; text-decoration: underline\">Values of -log(likelihood) at the minimum:</span>\n",
       "\n",
       "</pre>\n"
      ],
      "text/plain": [
       "\n",
       "\u001b[1;4;38;5;49mValues of -\u001b[0m\u001b[1;4;38;5;49mlog\u001b[0m\u001b[1;4;38;5;49m(\u001b[0m\u001b[1;4;38;5;49mlikelihood\u001b[0m\u001b[1;4;38;5;49m)\u001b[0m\u001b[1;4;38;5;49m at the minimum:\u001b[0m\n",
       "\n"
      ]
     },
     "metadata": {},
     "output_type": "display_data"
    },
    {
     "data": {
      "text/html": [
       "<div>\n",
       "<style scoped>\n",
       "    .dataframe tbody tr th:only-of-type {\n",
       "        vertical-align: middle;\n",
       "    }\n",
       "\n",
       "    .dataframe tbody tr th {\n",
       "        vertical-align: top;\n",
       "    }\n",
       "\n",
       "    .dataframe thead th {\n",
       "        text-align: right;\n",
       "    }\n",
       "</style>\n",
       "<table border=\"1\" class=\"dataframe\">\n",
       "  <thead>\n",
       "    <tr style=\"text-align: right;\">\n",
       "      <th></th>\n",
       "      <th>-log(likelihood)</th>\n",
       "    </tr>\n",
       "  </thead>\n",
       "  <tbody>\n",
       "    <tr>\n",
       "      <th>LAT10X30</th>\n",
       "      <td>377.045804</td>\n",
       "    </tr>\n",
       "    <tr>\n",
       "      <th>total</th>\n",
       "      <td>377.045804</td>\n",
       "    </tr>\n",
       "  </tbody>\n",
       "</table>\n",
       "</div>"
      ],
      "text/plain": [
       "          -log(likelihood)\n",
       "LAT10X30        377.045804\n",
       "total           377.045804"
      ]
     },
     "metadata": {},
     "output_type": "display_data"
    },
    {
     "data": {
      "text/html": [
       "<pre style=\"white-space:pre;overflow-x:auto;line-height:normal;font-family:Menlo,'DejaVu Sans Mono',consolas,'Courier New',monospace\">\n",
       "<span style=\"color: #00ffaf; text-decoration-color: #00ffaf; font-weight: bold; text-decoration: underline\">Values of statistical measures:</span>\n",
       "\n",
       "</pre>\n"
      ],
      "text/plain": [
       "\n",
       "\u001b[1;4;38;5;49mValues of statistical measures:\u001b[0m\n",
       "\n"
      ]
     },
     "metadata": {},
     "output_type": "display_data"
    },
    {
     "data": {
      "text/html": [
       "<div>\n",
       "<style scoped>\n",
       "    .dataframe tbody tr th:only-of-type {\n",
       "        vertical-align: middle;\n",
       "    }\n",
       "\n",
       "    .dataframe tbody tr th {\n",
       "        vertical-align: top;\n",
       "    }\n",
       "\n",
       "    .dataframe thead th {\n",
       "        text-align: right;\n",
       "    }\n",
       "</style>\n",
       "<table border=\"1\" class=\"dataframe\">\n",
       "  <thead>\n",
       "    <tr style=\"text-align: right;\">\n",
       "      <th></th>\n",
       "      <th>statistical measures</th>\n",
       "    </tr>\n",
       "  </thead>\n",
       "  <tbody>\n",
       "    <tr>\n",
       "      <th>AIC</th>\n",
       "      <td>760.553147</td>\n",
       "    </tr>\n",
       "    <tr>\n",
       "      <th>BIC</th>\n",
       "      <td>766.167663</td>\n",
       "    </tr>\n",
       "  </tbody>\n",
       "</table>\n",
       "</div>"
      ],
      "text/plain": [
       "     statistical measures\n",
       "AIC            760.553147\n",
       "BIC            766.167663"
      ]
     },
     "metadata": {},
     "output_type": "display_data"
    },
    {
     "data": {
      "text/html": [
       "<pre style=\"white-space:pre;overflow-x:auto;line-height:normal;font-family:Menlo,'DejaVu Sans Mono',consolas,'Courier New',monospace\"><span style=\"color: #00ff00; text-decoration-color: #00ff00\">00:13:37 </span><span style=\"color: #af5fd7; text-decoration-color: #af5fd7\">WARNING </span> <span style=\"color: #c6c6c6; text-decoration-color: #c6c6c6; font-weight: bold\"> We have set the min_value of GRB.spectrum.main.Powerlaw_flux.F to </span><span style=\"color: #c0c0c0; text-decoration-color: #c0c0c0; font-weight: bold\">1e-99</span><span style=\"color: #c6c6c6; text-decoration-color: #c6c6c6; font-weight: bold\"> because </span><a href=\"file:///usr/local/miniconda/envs/test_env/lib/python3.9/site-packages/astromodels/core/parameter.py\" target=\"_blank\"><span style=\"color: #7f7f7f; text-decoration-color: #7f7f7f\">parameter.py</span></a><span style=\"color: #7f7f7f; text-decoration-color: #7f7f7f\">:</span><a href=\"file:///usr/local/miniconda/envs/test_env/lib/python3.9/site-packages/astromodels/core/parameter.py#704\" target=\"_blank\"><span style=\"color: #7f7f7f; text-decoration-color: #7f7f7f\">704</span></a>\n",
       "<span style=\"color: #00ff00; text-decoration-color: #00ff00\">         </span>         <span style=\"color: #c6c6c6; text-decoration-color: #c6c6c6; font-weight: bold\">there was a postive transform                                                    </span><span style=\"color: #7f7f7f; text-decoration-color: #7f7f7f\">                </span>\n",
       "</pre>\n"
      ],
      "text/plain": [
       "\u001b[38;5;46m00:13:37\u001b[0m\u001b[38;5;46m \u001b[0m\u001b[38;5;134mWARNING \u001b[0m \u001b[1;38;5;251m We have set the min_value of GRB.spectrum.main.Powerlaw_flux.F to \u001b[0m\u001b[1;37m1e-99\u001b[0m\u001b[1;38;5;251m because\u001b[0m\u001b[1;38;5;251m \u001b[0m\u001b]8;id=645269;file:///usr/local/miniconda/envs/test_env/lib/python3.9/site-packages/astromodels/core/parameter.py\u001b\\\u001b[2mparameter.py\u001b[0m\u001b]8;;\u001b\\\u001b[2m:\u001b[0m\u001b]8;id=343880;file:///usr/local/miniconda/envs/test_env/lib/python3.9/site-packages/astromodels/core/parameter.py#704\u001b\\\u001b[2m704\u001b[0m\u001b]8;;\u001b\\\n",
       "\u001b[38;5;46m         \u001b[0m         \u001b[1;38;5;251mthere was a postive transform                                                   \u001b[0m\u001b[1;38;5;251m \u001b[0m\u001b[2m                \u001b[0m\n"
      ]
     },
     "metadata": {},
     "output_type": "display_data"
    },
    {
     "name": "stdout",
     "output_type": "stream",
     "text": [
      "\n",
      "Found Isotropic template for irf P8R3_TRANSIENT020E_V3: /usr/local/miniconda/envs/test_env/share/fermitools/refdata/fermi/galdiffuse/iso_P8R3_TRANSIENT020E_V3_v1.txt\n",
      "\n",
      "Found Galactic template for IRF. P8R3_TRANSIENT020E_V3: /usr/local/miniconda/envs/test_env/share/fermitools/refdata/fermi/galdiffuse/gll_iem_v07.fits\n",
      "\n",
      "Cutting the template around the ROI: \n",
      "\n"
     ]
    },
    {
     "data": {
      "text/html": [
       "<pre style=\"white-space:pre;overflow-x:auto;line-height:normal;font-family:Menlo,'DejaVu Sans Mono',consolas,'Courier New',monospace\"><span style=\"color: #00ff00; text-decoration-color: #00ff00\">00:13:44 </span><span style=\"color: #00ffaf; text-decoration-color: #00ffaf\">INFO    </span> <span style=\"color: #c6c6c6; text-decoration-color: #c6c6c6; font-weight: bold\"> set the minimizer to minuit                                             </span><a href=\"file:///Users/runner/work/threeML/threeML/threeML/classicMLE/joint_likelihood.py\" target=\"_blank\"><span style=\"color: #7f7f7f; text-decoration-color: #7f7f7f\">joint_likelihood.py</span></a><span style=\"color: #7f7f7f; text-decoration-color: #7f7f7f\">:</span><a href=\"file:///Users/runner/work/threeML/threeML/threeML/classicMLE/joint_likelihood.py#1045\" target=\"_blank\"><span style=\"color: #7f7f7f; text-decoration-color: #7f7f7f\">1045</span></a>\n",
       "</pre>\n"
      ],
      "text/plain": [
       "\u001b[38;5;46m00:13:44\u001b[0m\u001b[38;5;46m \u001b[0m\u001b[38;5;49mINFO    \u001b[0m \u001b[1;38;5;251m set the minimizer to minuit                                            \u001b[0m\u001b[1;38;5;251m \u001b[0m\u001b]8;id=44871;file:///Users/runner/work/threeML/threeML/threeML/classicMLE/joint_likelihood.py\u001b\\\u001b[2mjoint_likelihood.py\u001b[0m\u001b]8;;\u001b\\\u001b[2m:\u001b[0m\u001b]8;id=955180;file:///Users/runner/work/threeML/threeML/threeML/classicMLE/joint_likelihood.py#1045\u001b\\\u001b[2m1045\u001b[0m\u001b]8;;\u001b\\\n"
      ]
     },
     "metadata": {},
     "output_type": "display_data"
    },
    {
     "data": {
      "text/html": [
       "<pre style=\"white-space:pre;overflow-x:auto;line-height:normal;font-family:Menlo,'DejaVu Sans Mono',consolas,'Courier New',monospace\"><span style=\"color: #00ff00; text-decoration-color: #00ff00\">         </span><span style=\"color: #00ffaf; text-decoration-color: #00ffaf\">INFO    </span> <span style=\"color: #c6c6c6; text-decoration-color: #c6c6c6; font-weight: bold\"> set the minimizer to MINUIT                                             </span><a href=\"file:///Users/runner/work/threeML/threeML/threeML/classicMLE/joint_likelihood.py\" target=\"_blank\"><span style=\"color: #7f7f7f; text-decoration-color: #7f7f7f\">joint_likelihood.py</span></a><span style=\"color: #7f7f7f; text-decoration-color: #7f7f7f\">:</span><a href=\"file:///Users/runner/work/threeML/threeML/threeML/classicMLE/joint_likelihood.py#1062\" target=\"_blank\"><span style=\"color: #7f7f7f; text-decoration-color: #7f7f7f\">1062</span></a>\n",
       "</pre>\n"
      ],
      "text/plain": [
       "\u001b[38;5;46m        \u001b[0m\u001b[38;5;46m \u001b[0m\u001b[38;5;49mINFO    \u001b[0m \u001b[1;38;5;251m set the minimizer to MINUIT                                            \u001b[0m\u001b[1;38;5;251m \u001b[0m\u001b]8;id=847584;file:///Users/runner/work/threeML/threeML/threeML/classicMLE/joint_likelihood.py\u001b\\\u001b[2mjoint_likelihood.py\u001b[0m\u001b]8;;\u001b\\\u001b[2m:\u001b[0m\u001b]8;id=921179;file:///Users/runner/work/threeML/threeML/threeML/classicMLE/joint_likelihood.py#1062\u001b\\\u001b[2m1062\u001b[0m\u001b]8;;\u001b\\\n"
      ]
     },
     "metadata": {},
     "output_type": "display_data"
    },
    {
     "data": {
      "text/html": [
       "<pre style=\"white-space:pre;overflow-x:auto;line-height:normal;font-family:Menlo,'DejaVu Sans Mono',consolas,'Courier New',monospace\"><span style=\"color: #00ff00; text-decoration-color: #00ff00\">         </span><span style=\"color: #af5fd7; text-decoration-color: #af5fd7\">WARNING </span> <span style=\"color: #c6c6c6; text-decoration-color: #c6c6c6; font-weight: bold\"> </span><span style=\"color: #c0c0c0; text-decoration-color: #c0c0c0; font-weight: bold\">49.32</span><span style=\"color: #c6c6c6; text-decoration-color: #c6c6c6; font-weight: bold\"> percent of samples have been thrown away because they failed the  </span><a href=\"file:///Users/runner/work/threeML/threeML/threeML/analysis_results.py\" target=\"_blank\"><span style=\"color: #7f7f7f; text-decoration-color: #7f7f7f\">analysis_results.py</span></a><span style=\"color: #7f7f7f; text-decoration-color: #7f7f7f\">:</span><a href=\"file:///Users/runner/work/threeML/threeML/threeML/analysis_results.py#1740\" target=\"_blank\"><span style=\"color: #7f7f7f; text-decoration-color: #7f7f7f\">1740</span></a>\n",
       "<span style=\"color: #00ff00; text-decoration-color: #00ff00\">         </span>         <span style=\"color: #c6c6c6; text-decoration-color: #c6c6c6; font-weight: bold\">constraints on the parameters. This results might not be suitable for    </span><span style=\"color: #7f7f7f; text-decoration-color: #7f7f7f\">                        </span>\n",
       "<span style=\"color: #00ff00; text-decoration-color: #00ff00\">         </span>         <span style=\"color: #c6c6c6; text-decoration-color: #c6c6c6; font-weight: bold\">error propagation. Enlarge the boundaries until you loose less than </span><span style=\"color: #c0c0c0; text-decoration-color: #c0c0c0; font-weight: bold\">1</span><span style=\"color: #c6c6c6; text-decoration-color: #c6c6c6; font-weight: bold\">    </span><span style=\"color: #7f7f7f; text-decoration-color: #7f7f7f\">                        </span>\n",
       "<span style=\"color: #00ff00; text-decoration-color: #00ff00\">         </span>         <span style=\"color: #c6c6c6; text-decoration-color: #c6c6c6; font-weight: bold\">percent of the samples.                                                  </span><span style=\"color: #7f7f7f; text-decoration-color: #7f7f7f\">                        </span>\n",
       "</pre>\n"
      ],
      "text/plain": [
       "\u001b[38;5;46m        \u001b[0m\u001b[38;5;46m \u001b[0m\u001b[38;5;134mWARNING \u001b[0m \u001b[1;38;5;251m \u001b[0m\u001b[1;37m49.32\u001b[0m\u001b[1;38;5;251m percent of samples have been thrown away because they failed the \u001b[0m\u001b[1;38;5;251m \u001b[0m\u001b]8;id=253956;file:///Users/runner/work/threeML/threeML/threeML/analysis_results.py\u001b\\\u001b[2manalysis_results.py\u001b[0m\u001b]8;;\u001b\\\u001b[2m:\u001b[0m\u001b]8;id=143631;file:///Users/runner/work/threeML/threeML/threeML/analysis_results.py#1740\u001b\\\u001b[2m1740\u001b[0m\u001b]8;;\u001b\\\n",
       "\u001b[38;5;46m         \u001b[0m         \u001b[1;38;5;251mconstraints on the parameters. This results might not be suitable for   \u001b[0m\u001b[1;38;5;251m \u001b[0m\u001b[2m                        \u001b[0m\n",
       "\u001b[38;5;46m         \u001b[0m         \u001b[1;38;5;251merror propagation. Enlarge the boundaries until you loose less than \u001b[0m\u001b[1;37m1\u001b[0m\u001b[1;38;5;251m   \u001b[0m\u001b[1;38;5;251m \u001b[0m\u001b[2m                        \u001b[0m\n",
       "\u001b[38;5;46m         \u001b[0m         \u001b[1;38;5;251mpercent of the samples.                                                 \u001b[0m\u001b[1;38;5;251m \u001b[0m\u001b[2m                        \u001b[0m\n"
      ]
     },
     "metadata": {},
     "output_type": "display_data"
    },
    {
     "data": {
      "text/html": [
       "<pre style=\"white-space:pre;overflow-x:auto;line-height:normal;font-family:Menlo,'DejaVu Sans Mono',consolas,'Courier New',monospace\"><span style=\"color: #00ffaf; text-decoration-color: #00ffaf; font-weight: bold; text-decoration: underline\">Best fit values:</span>\n",
       "\n",
       "</pre>\n"
      ],
      "text/plain": [
       "\u001b[1;4;38;5;49mBest fit values:\u001b[0m\n",
       "\n"
      ]
     },
     "metadata": {},
     "output_type": "display_data"
    },
    {
     "data": {
      "text/html": [
       "<div>\n",
       "<style scoped>\n",
       "    .dataframe tbody tr th:only-of-type {\n",
       "        vertical-align: middle;\n",
       "    }\n",
       "\n",
       "    .dataframe tbody tr th {\n",
       "        vertical-align: top;\n",
       "    }\n",
       "\n",
       "    .dataframe thead th {\n",
       "        text-align: right;\n",
       "    }\n",
       "</style>\n",
       "<table border=\"1\" class=\"dataframe\">\n",
       "  <thead>\n",
       "    <tr style=\"text-align: right;\">\n",
       "      <th></th>\n",
       "      <th>result</th>\n",
       "      <th>unit</th>\n",
       "    </tr>\n",
       "    <tr>\n",
       "      <th>parameter</th>\n",
       "      <th></th>\n",
       "      <th></th>\n",
       "    </tr>\n",
       "  </thead>\n",
       "  <tbody>\n",
       "    <tr>\n",
       "      <th>GRB.spectrum.main.Powerlaw_flux.F</th>\n",
       "      <td>(4.2 -0.7 +0.8) x 10^-4</td>\n",
       "      <td>1 / (cm2 s)</td>\n",
       "    </tr>\n",
       "    <tr>\n",
       "      <th>GRB.spectrum.main.Powerlaw_flux.index</th>\n",
       "      <td>-1.51 +/- 0.15</td>\n",
       "      <td></td>\n",
       "    </tr>\n",
       "    <tr>\n",
       "      <th>LAT30X80_IsotropicTemplate_Normalization</th>\n",
       "      <td>(1.0 +/- 1.0) x 10^-1</td>\n",
       "      <td></td>\n",
       "    </tr>\n",
       "  </tbody>\n",
       "</table>\n",
       "</div>"
      ],
      "text/plain": [
       "                                                           result         unit\n",
       "parameter                                                                     \n",
       "GRB.spectrum.main.Powerlaw_flux.F         (4.2 -0.7 +0.8) x 10^-4  1 / (cm2 s)\n",
       "GRB.spectrum.main.Powerlaw_flux.index              -1.51 +/- 0.15             \n",
       "LAT30X80_IsotropicTemplate_Normalization    (1.0 +/- 1.0) x 10^-1             "
      ]
     },
     "metadata": {},
     "output_type": "display_data"
    },
    {
     "data": {
      "text/html": [
       "<pre style=\"white-space:pre;overflow-x:auto;line-height:normal;font-family:Menlo,'DejaVu Sans Mono',consolas,'Courier New',monospace\">\n",
       "<span style=\"color: #00ffaf; text-decoration-color: #00ffaf; font-weight: bold; text-decoration: underline\">Correlation matrix:</span>\n",
       "\n",
       "</pre>\n"
      ],
      "text/plain": [
       "\n",
       "\u001b[1;4;38;5;49mCorrelation matrix:\u001b[0m\n",
       "\n"
      ]
     },
     "metadata": {},
     "output_type": "display_data"
    },
    {
     "data": {
      "text/html": [
       "<div><table id=\"table5335136144\">\n",
       "<tr><td>1.00</td><td>-0.28</td><td>-0.00</td></tr>\n",
       "<tr><td>-0.28</td><td>1.00</td><td>0.00</td></tr>\n",
       "<tr><td>-0.00</td><td>0.00</td><td>1.00</td></tr>\n",
       "</table></div>"
      ],
      "text/plain": [
       " 1.00 -0.28 -0.00\n",
       "-0.28  1.00  0.00\n",
       "-0.00  0.00  1.00"
      ]
     },
     "metadata": {},
     "output_type": "display_data"
    },
    {
     "data": {
      "text/html": [
       "<pre style=\"white-space:pre;overflow-x:auto;line-height:normal;font-family:Menlo,'DejaVu Sans Mono',consolas,'Courier New',monospace\">\n",
       "<span style=\"color: #00ffaf; text-decoration-color: #00ffaf; font-weight: bold; text-decoration: underline\">Values of -log(likelihood) at the minimum:</span>\n",
       "\n",
       "</pre>\n"
      ],
      "text/plain": [
       "\n",
       "\u001b[1;4;38;5;49mValues of -\u001b[0m\u001b[1;4;38;5;49mlog\u001b[0m\u001b[1;4;38;5;49m(\u001b[0m\u001b[1;4;38;5;49mlikelihood\u001b[0m\u001b[1;4;38;5;49m)\u001b[0m\u001b[1;4;38;5;49m at the minimum:\u001b[0m\n",
       "\n"
      ]
     },
     "metadata": {},
     "output_type": "display_data"
    },
    {
     "data": {
      "text/html": [
       "<div>\n",
       "<style scoped>\n",
       "    .dataframe tbody tr th:only-of-type {\n",
       "        vertical-align: middle;\n",
       "    }\n",
       "\n",
       "    .dataframe tbody tr th {\n",
       "        vertical-align: top;\n",
       "    }\n",
       "\n",
       "    .dataframe thead th {\n",
       "        text-align: right;\n",
       "    }\n",
       "</style>\n",
       "<table border=\"1\" class=\"dataframe\">\n",
       "  <thead>\n",
       "    <tr style=\"text-align: right;\">\n",
       "      <th></th>\n",
       "      <th>-log(likelihood)</th>\n",
       "    </tr>\n",
       "  </thead>\n",
       "  <tbody>\n",
       "    <tr>\n",
       "      <th>LAT30X80</th>\n",
       "      <td>229.690242</td>\n",
       "    </tr>\n",
       "    <tr>\n",
       "      <th>total</th>\n",
       "      <td>229.690242</td>\n",
       "    </tr>\n",
       "  </tbody>\n",
       "</table>\n",
       "</div>"
      ],
      "text/plain": [
       "          -log(likelihood)\n",
       "LAT30X80        229.690242\n",
       "total           229.690242"
      ]
     },
     "metadata": {},
     "output_type": "display_data"
    },
    {
     "data": {
      "text/html": [
       "<pre style=\"white-space:pre;overflow-x:auto;line-height:normal;font-family:Menlo,'DejaVu Sans Mono',consolas,'Courier New',monospace\">\n",
       "<span style=\"color: #00ffaf; text-decoration-color: #00ffaf; font-weight: bold; text-decoration: underline\">Values of statistical measures:</span>\n",
       "\n",
       "</pre>\n"
      ],
      "text/plain": [
       "\n",
       "\u001b[1;4;38;5;49mValues of statistical measures:\u001b[0m\n",
       "\n"
      ]
     },
     "metadata": {},
     "output_type": "display_data"
    },
    {
     "data": {
      "text/html": [
       "<div>\n",
       "<style scoped>\n",
       "    .dataframe tbody tr th:only-of-type {\n",
       "        vertical-align: middle;\n",
       "    }\n",
       "\n",
       "    .dataframe tbody tr th {\n",
       "        vertical-align: top;\n",
       "    }\n",
       "\n",
       "    .dataframe thead th {\n",
       "        text-align: right;\n",
       "    }\n",
       "</style>\n",
       "<table border=\"1\" class=\"dataframe\">\n",
       "  <thead>\n",
       "    <tr style=\"text-align: right;\">\n",
       "      <th></th>\n",
       "      <th>statistical measures</th>\n",
       "    </tr>\n",
       "  </thead>\n",
       "  <tbody>\n",
       "    <tr>\n",
       "      <th>AIC</th>\n",
       "      <td>466.208071</td>\n",
       "    </tr>\n",
       "    <tr>\n",
       "      <th>BIC</th>\n",
       "      <td>469.870007</td>\n",
       "    </tr>\n",
       "  </tbody>\n",
       "</table>\n",
       "</div>"
      ],
      "text/plain": [
       "     statistical measures\n",
       "AIC            466.208071\n",
       "BIC            469.870007"
      ]
     },
     "metadata": {},
     "output_type": "display_data"
    },
    {
     "data": {
      "text/html": [
       "<pre style=\"white-space:pre;overflow-x:auto;line-height:normal;font-family:Menlo,'DejaVu Sans Mono',consolas,'Courier New',monospace\"><span style=\"color: #00ff00; text-decoration-color: #00ff00\">00:13:45 </span><span style=\"color: #af5fd7; text-decoration-color: #af5fd7\">WARNING </span> <span style=\"color: #c6c6c6; text-decoration-color: #c6c6c6; font-weight: bold\"> We have set the min_value of GRB.spectrum.main.Powerlaw_flux.F to </span><span style=\"color: #c0c0c0; text-decoration-color: #c0c0c0; font-weight: bold\">1e-99</span><span style=\"color: #c6c6c6; text-decoration-color: #c6c6c6; font-weight: bold\"> because </span><a href=\"file:///usr/local/miniconda/envs/test_env/lib/python3.9/site-packages/astromodels/core/parameter.py\" target=\"_blank\"><span style=\"color: #7f7f7f; text-decoration-color: #7f7f7f\">parameter.py</span></a><span style=\"color: #7f7f7f; text-decoration-color: #7f7f7f\">:</span><a href=\"file:///usr/local/miniconda/envs/test_env/lib/python3.9/site-packages/astromodels/core/parameter.py#704\" target=\"_blank\"><span style=\"color: #7f7f7f; text-decoration-color: #7f7f7f\">704</span></a>\n",
       "<span style=\"color: #00ff00; text-decoration-color: #00ff00\">         </span>         <span style=\"color: #c6c6c6; text-decoration-color: #c6c6c6; font-weight: bold\">there was a postive transform                                                    </span><span style=\"color: #7f7f7f; text-decoration-color: #7f7f7f\">                </span>\n",
       "</pre>\n"
      ],
      "text/plain": [
       "\u001b[38;5;46m00:13:45\u001b[0m\u001b[38;5;46m \u001b[0m\u001b[38;5;134mWARNING \u001b[0m \u001b[1;38;5;251m We have set the min_value of GRB.spectrum.main.Powerlaw_flux.F to \u001b[0m\u001b[1;37m1e-99\u001b[0m\u001b[1;38;5;251m because\u001b[0m\u001b[1;38;5;251m \u001b[0m\u001b]8;id=149748;file:///usr/local/miniconda/envs/test_env/lib/python3.9/site-packages/astromodels/core/parameter.py\u001b\\\u001b[2mparameter.py\u001b[0m\u001b]8;;\u001b\\\u001b[2m:\u001b[0m\u001b]8;id=399419;file:///usr/local/miniconda/envs/test_env/lib/python3.9/site-packages/astromodels/core/parameter.py#704\u001b\\\u001b[2m704\u001b[0m\u001b]8;;\u001b\\\n",
       "\u001b[38;5;46m         \u001b[0m         \u001b[1;38;5;251mthere was a postive transform                                                   \u001b[0m\u001b[1;38;5;251m \u001b[0m\u001b[2m                \u001b[0m\n"
      ]
     },
     "metadata": {},
     "output_type": "display_data"
    },
    {
     "name": "stdout",
     "output_type": "stream",
     "text": [
      "\n",
      "Found Isotropic template for irf P8R3_TRANSIENT020E_V3: /usr/local/miniconda/envs/test_env/share/fermitools/refdata/fermi/galdiffuse/iso_P8R3_TRANSIENT020E_V3_v1.txt\n",
      "\n",
      "Found Galactic template for IRF. P8R3_TRANSIENT020E_V3: /usr/local/miniconda/envs/test_env/share/fermitools/refdata/fermi/galdiffuse/gll_iem_v07.fits\n",
      "\n",
      "Cutting the template around the ROI: \n",
      "\n"
     ]
    },
    {
     "data": {
      "text/html": [
       "<pre style=\"white-space:pre;overflow-x:auto;line-height:normal;font-family:Menlo,'DejaVu Sans Mono',consolas,'Courier New',monospace\"><span style=\"color: #00ff00; text-decoration-color: #00ff00\">00:13:53 </span><span style=\"color: #00ffaf; text-decoration-color: #00ffaf\">INFO    </span> <span style=\"color: #c6c6c6; text-decoration-color: #c6c6c6; font-weight: bold\"> set the minimizer to minuit                                             </span><a href=\"file:///Users/runner/work/threeML/threeML/threeML/classicMLE/joint_likelihood.py\" target=\"_blank\"><span style=\"color: #7f7f7f; text-decoration-color: #7f7f7f\">joint_likelihood.py</span></a><span style=\"color: #7f7f7f; text-decoration-color: #7f7f7f\">:</span><a href=\"file:///Users/runner/work/threeML/threeML/threeML/classicMLE/joint_likelihood.py#1045\" target=\"_blank\"><span style=\"color: #7f7f7f; text-decoration-color: #7f7f7f\">1045</span></a>\n",
       "</pre>\n"
      ],
      "text/plain": [
       "\u001b[38;5;46m00:13:53\u001b[0m\u001b[38;5;46m \u001b[0m\u001b[38;5;49mINFO    \u001b[0m \u001b[1;38;5;251m set the minimizer to minuit                                            \u001b[0m\u001b[1;38;5;251m \u001b[0m\u001b]8;id=145233;file:///Users/runner/work/threeML/threeML/threeML/classicMLE/joint_likelihood.py\u001b\\\u001b[2mjoint_likelihood.py\u001b[0m\u001b]8;;\u001b\\\u001b[2m:\u001b[0m\u001b]8;id=195413;file:///Users/runner/work/threeML/threeML/threeML/classicMLE/joint_likelihood.py#1045\u001b\\\u001b[2m1045\u001b[0m\u001b]8;;\u001b\\\n"
      ]
     },
     "metadata": {},
     "output_type": "display_data"
    },
    {
     "data": {
      "text/html": [
       "<pre style=\"white-space:pre;overflow-x:auto;line-height:normal;font-family:Menlo,'DejaVu Sans Mono',consolas,'Courier New',monospace\"><span style=\"color: #00ff00; text-decoration-color: #00ff00\">         </span><span style=\"color: #00ffaf; text-decoration-color: #00ffaf\">INFO    </span> <span style=\"color: #c6c6c6; text-decoration-color: #c6c6c6; font-weight: bold\"> set the minimizer to MINUIT                                             </span><a href=\"file:///Users/runner/work/threeML/threeML/threeML/classicMLE/joint_likelihood.py\" target=\"_blank\"><span style=\"color: #7f7f7f; text-decoration-color: #7f7f7f\">joint_likelihood.py</span></a><span style=\"color: #7f7f7f; text-decoration-color: #7f7f7f\">:</span><a href=\"file:///Users/runner/work/threeML/threeML/threeML/classicMLE/joint_likelihood.py#1062\" target=\"_blank\"><span style=\"color: #7f7f7f; text-decoration-color: #7f7f7f\">1062</span></a>\n",
       "</pre>\n"
      ],
      "text/plain": [
       "\u001b[38;5;46m        \u001b[0m\u001b[38;5;46m \u001b[0m\u001b[38;5;49mINFO    \u001b[0m \u001b[1;38;5;251m set the minimizer to MINUIT                                            \u001b[0m\u001b[1;38;5;251m \u001b[0m\u001b]8;id=450971;file:///Users/runner/work/threeML/threeML/threeML/classicMLE/joint_likelihood.py\u001b\\\u001b[2mjoint_likelihood.py\u001b[0m\u001b]8;;\u001b\\\u001b[2m:\u001b[0m\u001b]8;id=79404;file:///Users/runner/work/threeML/threeML/threeML/classicMLE/joint_likelihood.py#1062\u001b\\\u001b[2m1062\u001b[0m\u001b]8;;\u001b\\\n"
      ]
     },
     "metadata": {},
     "output_type": "display_data"
    },
    {
     "data": {
      "text/html": [
       "<pre style=\"white-space:pre;overflow-x:auto;line-height:normal;font-family:Menlo,'DejaVu Sans Mono',consolas,'Courier New',monospace\"><span style=\"color: #00ff00; text-decoration-color: #00ff00\">         </span><span style=\"color: #af5fd7; text-decoration-color: #af5fd7\">WARNING </span> <span style=\"color: #c6c6c6; text-decoration-color: #c6c6c6; font-weight: bold\"> </span><span style=\"color: #c0c0c0; text-decoration-color: #c0c0c0; font-weight: bold\">50.22</span><span style=\"color: #c6c6c6; text-decoration-color: #c6c6c6; font-weight: bold\"> percent of samples have been thrown away because they failed the  </span><a href=\"file:///Users/runner/work/threeML/threeML/threeML/analysis_results.py\" target=\"_blank\"><span style=\"color: #7f7f7f; text-decoration-color: #7f7f7f\">analysis_results.py</span></a><span style=\"color: #7f7f7f; text-decoration-color: #7f7f7f\">:</span><a href=\"file:///Users/runner/work/threeML/threeML/threeML/analysis_results.py#1740\" target=\"_blank\"><span style=\"color: #7f7f7f; text-decoration-color: #7f7f7f\">1740</span></a>\n",
       "<span style=\"color: #00ff00; text-decoration-color: #00ff00\">         </span>         <span style=\"color: #c6c6c6; text-decoration-color: #c6c6c6; font-weight: bold\">constraints on the parameters. This results might not be suitable for    </span><span style=\"color: #7f7f7f; text-decoration-color: #7f7f7f\">                        </span>\n",
       "<span style=\"color: #00ff00; text-decoration-color: #00ff00\">         </span>         <span style=\"color: #c6c6c6; text-decoration-color: #c6c6c6; font-weight: bold\">error propagation. Enlarge the boundaries until you loose less than </span><span style=\"color: #c0c0c0; text-decoration-color: #c0c0c0; font-weight: bold\">1</span><span style=\"color: #c6c6c6; text-decoration-color: #c6c6c6; font-weight: bold\">    </span><span style=\"color: #7f7f7f; text-decoration-color: #7f7f7f\">                        </span>\n",
       "<span style=\"color: #00ff00; text-decoration-color: #00ff00\">         </span>         <span style=\"color: #c6c6c6; text-decoration-color: #c6c6c6; font-weight: bold\">percent of the samples.                                                  </span><span style=\"color: #7f7f7f; text-decoration-color: #7f7f7f\">                        </span>\n",
       "</pre>\n"
      ],
      "text/plain": [
       "\u001b[38;5;46m        \u001b[0m\u001b[38;5;46m \u001b[0m\u001b[38;5;134mWARNING \u001b[0m \u001b[1;38;5;251m \u001b[0m\u001b[1;37m50.22\u001b[0m\u001b[1;38;5;251m percent of samples have been thrown away because they failed the \u001b[0m\u001b[1;38;5;251m \u001b[0m\u001b]8;id=656215;file:///Users/runner/work/threeML/threeML/threeML/analysis_results.py\u001b\\\u001b[2manalysis_results.py\u001b[0m\u001b]8;;\u001b\\\u001b[2m:\u001b[0m\u001b]8;id=310200;file:///Users/runner/work/threeML/threeML/threeML/analysis_results.py#1740\u001b\\\u001b[2m1740\u001b[0m\u001b]8;;\u001b\\\n",
       "\u001b[38;5;46m         \u001b[0m         \u001b[1;38;5;251mconstraints on the parameters. This results might not be suitable for   \u001b[0m\u001b[1;38;5;251m \u001b[0m\u001b[2m                        \u001b[0m\n",
       "\u001b[38;5;46m         \u001b[0m         \u001b[1;38;5;251merror propagation. Enlarge the boundaries until you loose less than \u001b[0m\u001b[1;37m1\u001b[0m\u001b[1;38;5;251m   \u001b[0m\u001b[1;38;5;251m \u001b[0m\u001b[2m                        \u001b[0m\n",
       "\u001b[38;5;46m         \u001b[0m         \u001b[1;38;5;251mpercent of the samples.                                                 \u001b[0m\u001b[1;38;5;251m \u001b[0m\u001b[2m                        \u001b[0m\n"
      ]
     },
     "metadata": {},
     "output_type": "display_data"
    },
    {
     "data": {
      "text/html": [
       "<pre style=\"white-space:pre;overflow-x:auto;line-height:normal;font-family:Menlo,'DejaVu Sans Mono',consolas,'Courier New',monospace\"><span style=\"color: #00ffaf; text-decoration-color: #00ffaf; font-weight: bold; text-decoration: underline\">Best fit values:</span>\n",
       "\n",
       "</pre>\n"
      ],
      "text/plain": [
       "\u001b[1;4;38;5;49mBest fit values:\u001b[0m\n",
       "\n"
      ]
     },
     "metadata": {},
     "output_type": "display_data"
    },
    {
     "data": {
      "text/html": [
       "<div>\n",
       "<style scoped>\n",
       "    .dataframe tbody tr th:only-of-type {\n",
       "        vertical-align: middle;\n",
       "    }\n",
       "\n",
       "    .dataframe tbody tr th {\n",
       "        vertical-align: top;\n",
       "    }\n",
       "\n",
       "    .dataframe thead th {\n",
       "        text-align: right;\n",
       "    }\n",
       "</style>\n",
       "<table border=\"1\" class=\"dataframe\">\n",
       "  <thead>\n",
       "    <tr style=\"text-align: right;\">\n",
       "      <th></th>\n",
       "      <th>result</th>\n",
       "      <th>unit</th>\n",
       "    </tr>\n",
       "    <tr>\n",
       "      <th>parameter</th>\n",
       "      <th></th>\n",
       "      <th></th>\n",
       "    </tr>\n",
       "  </thead>\n",
       "  <tbody>\n",
       "    <tr>\n",
       "      <th>GRB.spectrum.main.Powerlaw_flux.F</th>\n",
       "      <td>(6.7 -2.5 +4) x 10^-5</td>\n",
       "      <td>1 / (cm2 s)</td>\n",
       "    </tr>\n",
       "    <tr>\n",
       "      <th>GRB.spectrum.main.Powerlaw_flux.index</th>\n",
       "      <td>-1.7 +/- 0.4</td>\n",
       "      <td></td>\n",
       "    </tr>\n",
       "    <tr>\n",
       "      <th>LAT80X180_IsotropicTemplate_Normalization</th>\n",
       "      <td>5.00 +/- 0.05</td>\n",
       "      <td></td>\n",
       "    </tr>\n",
       "  </tbody>\n",
       "</table>\n",
       "</div>"
      ],
      "text/plain": [
       "                                                          result         unit\n",
       "parameter                                                                    \n",
       "GRB.spectrum.main.Powerlaw_flux.F          (6.7 -2.5 +4) x 10^-5  1 / (cm2 s)\n",
       "GRB.spectrum.main.Powerlaw_flux.index               -1.7 +/- 0.4             \n",
       "LAT80X180_IsotropicTemplate_Normalization          5.00 +/- 0.05             "
      ]
     },
     "metadata": {},
     "output_type": "display_data"
    },
    {
     "data": {
      "text/html": [
       "<pre style=\"white-space:pre;overflow-x:auto;line-height:normal;font-family:Menlo,'DejaVu Sans Mono',consolas,'Courier New',monospace\">\n",
       "<span style=\"color: #00ffaf; text-decoration-color: #00ffaf; font-weight: bold; text-decoration: underline\">Correlation matrix:</span>\n",
       "\n",
       "</pre>\n"
      ],
      "text/plain": [
       "\n",
       "\u001b[1;4;38;5;49mCorrelation matrix:\u001b[0m\n",
       "\n"
      ]
     },
     "metadata": {},
     "output_type": "display_data"
    },
    {
     "data": {
      "text/html": [
       "<div><table id=\"table5332592960\">\n",
       "<tr><td>1.00</td><td>-0.40</td><td>-0.00</td></tr>\n",
       "<tr><td>-0.40</td><td>1.00</td><td>0.00</td></tr>\n",
       "<tr><td>-0.00</td><td>0.00</td><td>1.00</td></tr>\n",
       "</table></div>"
      ],
      "text/plain": [
       " 1.00 -0.40 -0.00\n",
       "-0.40  1.00  0.00\n",
       "-0.00  0.00  1.00"
      ]
     },
     "metadata": {},
     "output_type": "display_data"
    },
    {
     "data": {
      "text/html": [
       "<pre style=\"white-space:pre;overflow-x:auto;line-height:normal;font-family:Menlo,'DejaVu Sans Mono',consolas,'Courier New',monospace\">\n",
       "<span style=\"color: #00ffaf; text-decoration-color: #00ffaf; font-weight: bold; text-decoration: underline\">Values of -log(likelihood) at the minimum:</span>\n",
       "\n",
       "</pre>\n"
      ],
      "text/plain": [
       "\n",
       "\u001b[1;4;38;5;49mValues of -\u001b[0m\u001b[1;4;38;5;49mlog\u001b[0m\u001b[1;4;38;5;49m(\u001b[0m\u001b[1;4;38;5;49mlikelihood\u001b[0m\u001b[1;4;38;5;49m)\u001b[0m\u001b[1;4;38;5;49m at the minimum:\u001b[0m\n",
       "\n"
      ]
     },
     "metadata": {},
     "output_type": "display_data"
    },
    {
     "data": {
      "text/html": [
       "<div>\n",
       "<style scoped>\n",
       "    .dataframe tbody tr th:only-of-type {\n",
       "        vertical-align: middle;\n",
       "    }\n",
       "\n",
       "    .dataframe tbody tr th {\n",
       "        vertical-align: top;\n",
       "    }\n",
       "\n",
       "    .dataframe thead th {\n",
       "        text-align: right;\n",
       "    }\n",
       "</style>\n",
       "<table border=\"1\" class=\"dataframe\">\n",
       "  <thead>\n",
       "    <tr style=\"text-align: right;\">\n",
       "      <th></th>\n",
       "      <th>-log(likelihood)</th>\n",
       "    </tr>\n",
       "  </thead>\n",
       "  <tbody>\n",
       "    <tr>\n",
       "      <th>LAT80X180</th>\n",
       "      <td>73.102184</td>\n",
       "    </tr>\n",
       "    <tr>\n",
       "      <th>total</th>\n",
       "      <td>73.102184</td>\n",
       "    </tr>\n",
       "  </tbody>\n",
       "</table>\n",
       "</div>"
      ],
      "text/plain": [
       "           -log(likelihood)\n",
       "LAT80X180         73.102184\n",
       "total             73.102184"
      ]
     },
     "metadata": {},
     "output_type": "display_data"
    },
    {
     "data": {
      "text/html": [
       "<pre style=\"white-space:pre;overflow-x:auto;line-height:normal;font-family:Menlo,'DejaVu Sans Mono',consolas,'Courier New',monospace\">\n",
       "<span style=\"color: #00ffaf; text-decoration-color: #00ffaf; font-weight: bold; text-decoration: underline\">Values of statistical measures:</span>\n",
       "\n",
       "</pre>\n"
      ],
      "text/plain": [
       "\n",
       "\u001b[1;4;38;5;49mValues of statistical measures:\u001b[0m\n",
       "\n"
      ]
     },
     "metadata": {},
     "output_type": "display_data"
    },
    {
     "data": {
      "text/html": [
       "<div>\n",
       "<style scoped>\n",
       "    .dataframe tbody tr th:only-of-type {\n",
       "        vertical-align: middle;\n",
       "    }\n",
       "\n",
       "    .dataframe tbody tr th {\n",
       "        vertical-align: top;\n",
       "    }\n",
       "\n",
       "    .dataframe thead th {\n",
       "        text-align: right;\n",
       "    }\n",
       "</style>\n",
       "<table border=\"1\" class=\"dataframe\">\n",
       "  <thead>\n",
       "    <tr style=\"text-align: right;\">\n",
       "      <th></th>\n",
       "      <th>statistical measures</th>\n",
       "    </tr>\n",
       "  </thead>\n",
       "  <tbody>\n",
       "    <tr>\n",
       "      <th>AIC</th>\n",
       "      <td>158.204369</td>\n",
       "    </tr>\n",
       "    <tr>\n",
       "      <th>BIC</th>\n",
       "      <td>152.442693</td>\n",
       "    </tr>\n",
       "  </tbody>\n",
       "</table>\n",
       "</div>"
      ],
      "text/plain": [
       "     statistical measures\n",
       "AIC            158.204369\n",
       "BIC            152.442693"
      ]
     },
     "metadata": {},
     "output_type": "display_data"
    }
   ],
   "source": [
    "results = {}\n",
    "# update_logging_level(\"DEBUG\")\n",
    "\n",
    "for T0, T1 in zip(intervals[:-1], intervals[1:]):\n",
    "    GRB = PointSource(\n",
    "        \"GRB\", ra=myGRB[\"RA\"], dec=myGRB[\"DEC\"], spectral_shape=Powerlaw_flux()\n",
    "    )\n",
    "    model = Model(GRB)\n",
    "    model.GRB.spectrum.main.Powerlaw_flux.a = 100.0 * u.MeV\n",
    "    model.GRB.spectrum.main.Powerlaw_flux.b = 10000.0 * u.MeV\n",
    "    model.GRB.spectrum.main.Powerlaw_flux.F = 1.0\n",
    "    LAT_name = \"LAT_%06.3f-%06.3f\" % (T0, T1)\n",
    "    LAT_model_name = (\"LAT%dX%d\" % (T0, T1)).replace(\"-\", \"n\")\n",
    "    datalist = DataList(LAT_plugins[LAT_name])\n",
    "    model[\"GRB.spectrum.main.Powerlaw_flux.F\"].bounds = (1e-6, 1e6)\n",
    "    model[\"GRB.spectrum.main.Powerlaw_flux.F\"].value = 1e-2\n",
    "    model[\"GRB.spectrum.main.Powerlaw_flux.index\"].value = -2.2\n",
    "    model[\"GRB.spectrum.main.Powerlaw_flux.index\"].bounds = (-3, 0)\n",
    "    jl = JointLikelihood(model, datalist, verbose=False)\n",
    "    model[LAT_model_name + \"_GalacticTemplate_Value\"].value = 1.0\n",
    "    model[LAT_model_name + \"_GalacticTemplate_Value\"].fix = True\n",
    "    model[LAT_model_name + \"_GalacticTemplate_Value\"].fix = True\n",
    "    # model.display( complete=True )\n",
    "    jl.set_minimizer(\"minuit\")\n",
    "    jl.fit(compute_covariance=True)\n",
    "    results[LAT_name] = jl\n",
    "    pass"
   ]
  },
  {
   "cell_type": "markdown",
   "id": "8b201995",
   "metadata": {},
   "source": [
    "You can usethis function to graphically display the results of your fit (folded model, data and residuals)\n"
   ]
  },
  {
   "cell_type": "code",
   "execution_count": 15,
   "id": "de55bb8f",
   "metadata": {
    "execution": {
     "iopub.execute_input": "2024-06-01T00:13:53.273430Z",
     "iopub.status.busy": "2024-06-01T00:13:53.273054Z",
     "iopub.status.idle": "2024-06-01T00:13:54.389527Z",
     "shell.execute_reply": "2024-06-01T00:13:54.388362Z"
    },
    "tags": [
     "nbsphinx-thumbnail"
    ]
   },
   "outputs": [
    {
     "data": {
      "text/html": [
       "<pre style=\"white-space:pre;overflow-x:auto;line-height:normal;font-family:Menlo,'DejaVu Sans Mono',consolas,'Courier New',monospace\"><span style=\"color: #00ffaf; text-decoration-color: #00ffaf; font-weight: bold; text-decoration: underline\">Best fit values:</span>\n",
       "\n",
       "</pre>\n"
      ],
      "text/plain": [
       "\u001b[1;4;38;5;49mBest fit values:\u001b[0m\n",
       "\n"
      ]
     },
     "metadata": {},
     "output_type": "display_data"
    },
    {
     "data": {
      "text/html": [
       "<div>\n",
       "<style scoped>\n",
       "    .dataframe tbody tr th:only-of-type {\n",
       "        vertical-align: middle;\n",
       "    }\n",
       "\n",
       "    .dataframe tbody tr th {\n",
       "        vertical-align: top;\n",
       "    }\n",
       "\n",
       "    .dataframe thead th {\n",
       "        text-align: right;\n",
       "    }\n",
       "</style>\n",
       "<table border=\"1\" class=\"dataframe\">\n",
       "  <thead>\n",
       "    <tr style=\"text-align: right;\">\n",
       "      <th></th>\n",
       "      <th>result</th>\n",
       "      <th>unit</th>\n",
       "    </tr>\n",
       "    <tr>\n",
       "      <th>parameter</th>\n",
       "      <th></th>\n",
       "      <th></th>\n",
       "    </tr>\n",
       "  </thead>\n",
       "  <tbody>\n",
       "    <tr>\n",
       "      <th>GRB.spectrum.main.Powerlaw_flux.F</th>\n",
       "      <td>(1.11 -0.09 +0.10) x 10^-2</td>\n",
       "      <td>1 / (cm2 s)</td>\n",
       "    </tr>\n",
       "    <tr>\n",
       "      <th>GRB.spectrum.main.Powerlaw_flux.index</th>\n",
       "      <td>-2.22 +/- 0.10</td>\n",
       "      <td></td>\n",
       "    </tr>\n",
       "    <tr>\n",
       "      <th>LAT0X10_IsotropicTemplate_Normalization</th>\n",
       "      <td>5.00 +/- 0.08</td>\n",
       "      <td></td>\n",
       "    </tr>\n",
       "  </tbody>\n",
       "</table>\n",
       "</div>"
      ],
      "text/plain": [
       "                                                             result  \\\n",
       "parameter                                                             \n",
       "GRB.spectrum.main.Powerlaw_flux.F        (1.11 -0.09 +0.10) x 10^-2   \n",
       "GRB.spectrum.main.Powerlaw_flux.index                -2.22 +/- 0.10   \n",
       "LAT0X10_IsotropicTemplate_Normalization               5.00 +/- 0.08   \n",
       "\n",
       "                                                unit  \n",
       "parameter                                             \n",
       "GRB.spectrum.main.Powerlaw_flux.F        1 / (cm2 s)  \n",
       "GRB.spectrum.main.Powerlaw_flux.index                 \n",
       "LAT0X10_IsotropicTemplate_Normalization               "
      ]
     },
     "metadata": {},
     "output_type": "display_data"
    },
    {
     "data": {
      "text/html": [
       "<pre style=\"white-space:pre;overflow-x:auto;line-height:normal;font-family:Menlo,'DejaVu Sans Mono',consolas,'Courier New',monospace\">\n",
       "<span style=\"color: #00ffaf; text-decoration-color: #00ffaf; font-weight: bold; text-decoration: underline\">Correlation matrix:</span>\n",
       "\n",
       "</pre>\n"
      ],
      "text/plain": [
       "\n",
       "\u001b[1;4;38;5;49mCorrelation matrix:\u001b[0m\n",
       "\n"
      ]
     },
     "metadata": {},
     "output_type": "display_data"
    },
    {
     "data": {
      "text/html": [
       "<div><table id=\"table5327970208\">\n",
       "<tr><td>1.00</td><td>-0.31</td><td>-0.00</td></tr>\n",
       "<tr><td>-0.31</td><td>1.00</td><td>0.00</td></tr>\n",
       "<tr><td>-0.00</td><td>0.00</td><td>1.00</td></tr>\n",
       "</table></div>"
      ],
      "text/plain": [
       " 1.00 -0.31 -0.00\n",
       "-0.31  1.00  0.00\n",
       "-0.00  0.00  1.00"
      ]
     },
     "metadata": {},
     "output_type": "display_data"
    },
    {
     "data": {
      "text/html": [
       "<pre style=\"white-space:pre;overflow-x:auto;line-height:normal;font-family:Menlo,'DejaVu Sans Mono',consolas,'Courier New',monospace\">\n",
       "<span style=\"color: #00ffaf; text-decoration-color: #00ffaf; font-weight: bold; text-decoration: underline\">Values of -log(likelihood) at the minimum:</span>\n",
       "\n",
       "</pre>\n"
      ],
      "text/plain": [
       "\n",
       "\u001b[1;4;38;5;49mValues of -\u001b[0m\u001b[1;4;38;5;49mlog\u001b[0m\u001b[1;4;38;5;49m(\u001b[0m\u001b[1;4;38;5;49mlikelihood\u001b[0m\u001b[1;4;38;5;49m)\u001b[0m\u001b[1;4;38;5;49m at the minimum:\u001b[0m\n",
       "\n"
      ]
     },
     "metadata": {},
     "output_type": "display_data"
    },
    {
     "data": {
      "text/html": [
       "<div>\n",
       "<style scoped>\n",
       "    .dataframe tbody tr th:only-of-type {\n",
       "        vertical-align: middle;\n",
       "    }\n",
       "\n",
       "    .dataframe tbody tr th {\n",
       "        vertical-align: top;\n",
       "    }\n",
       "\n",
       "    .dataframe thead th {\n",
       "        text-align: right;\n",
       "    }\n",
       "</style>\n",
       "<table border=\"1\" class=\"dataframe\">\n",
       "  <thead>\n",
       "    <tr style=\"text-align: right;\">\n",
       "      <th></th>\n",
       "      <th>-log(likelihood)</th>\n",
       "    </tr>\n",
       "  </thead>\n",
       "  <tbody>\n",
       "    <tr>\n",
       "      <th>LAT0X10</th>\n",
       "      <td>896.873532</td>\n",
       "    </tr>\n",
       "    <tr>\n",
       "      <th>total</th>\n",
       "      <td>896.873532</td>\n",
       "    </tr>\n",
       "  </tbody>\n",
       "</table>\n",
       "</div>"
      ],
      "text/plain": [
       "         -log(likelihood)\n",
       "LAT0X10        896.873532\n",
       "total          896.873532"
      ]
     },
     "metadata": {},
     "output_type": "display_data"
    },
    {
     "data": {
      "text/html": [
       "<pre style=\"white-space:pre;overflow-x:auto;line-height:normal;font-family:Menlo,'DejaVu Sans Mono',consolas,'Courier New',monospace\">\n",
       "<span style=\"color: #00ffaf; text-decoration-color: #00ffaf; font-weight: bold; text-decoration: underline\">Values of statistical measures:</span>\n",
       "\n",
       "</pre>\n"
      ],
      "text/plain": [
       "\n",
       "\u001b[1;4;38;5;49mValues of statistical measures:\u001b[0m\n",
       "\n"
      ]
     },
     "metadata": {},
     "output_type": "display_data"
    },
    {
     "data": {
      "text/html": [
       "<div>\n",
       "<style scoped>\n",
       "    .dataframe tbody tr th:only-of-type {\n",
       "        vertical-align: middle;\n",
       "    }\n",
       "\n",
       "    .dataframe tbody tr th {\n",
       "        vertical-align: top;\n",
       "    }\n",
       "\n",
       "    .dataframe thead th {\n",
       "        text-align: right;\n",
       "    }\n",
       "</style>\n",
       "<table border=\"1\" class=\"dataframe\">\n",
       "  <thead>\n",
       "    <tr style=\"text-align: right;\">\n",
       "      <th></th>\n",
       "      <th>statistical measures</th>\n",
       "    </tr>\n",
       "  </thead>\n",
       "  <tbody>\n",
       "    <tr>\n",
       "      <th>AIC</th>\n",
       "      <td>1799.907064</td>\n",
       "    </tr>\n",
       "    <tr>\n",
       "      <th>BIC</th>\n",
       "      <td>1808.857922</td>\n",
       "    </tr>\n",
       "  </tbody>\n",
       "</table>\n",
       "</div>"
      ],
      "text/plain": [
       "     statistical measures\n",
       "AIC           1799.907064\n",
       "BIC           1808.857922"
      ]
     },
     "metadata": {},
     "output_type": "display_data"
    },
    {
     "data": {
      "image/png": "[encoded data removed]",
      "text/plain": [
       "<Figure size 1000x800 with 2 Axes>"
      ]
     },
     "execution_count": 15,
     "metadata": {},
     "output_type": "execute_result"
    },
    {
     "data": {
      "image/png": "[encoded data removed]",
      "text/plain": [
       "<Figure size 1000x800 with 2 Axes>"
      ]
     },
     "metadata": {},
     "output_type": "display_data"
    }
   ],
   "source": [
    "i = 0\n",
    "T0, T1 = intervals[i], intervals[i + 1]\n",
    "LAT_name = \"LAT_%06.3f-%06.3f\" % (T0, T1)\n",
    "jl = results[LAT_name]\n",
    "jl.results.display()\n",
    "display_spectrum_model_counts(jl, figsize=(10, 8))"
   ]
  },
  {
   "cell_type": "markdown",
   "id": "fad21d68",
   "metadata": {},
   "source": [
    "We can see the evolution of the spectrum with time (not all the bins are diplayed):\n"
   ]
  },
  {
   "cell_type": "code",
   "execution_count": 16,
   "id": "f1d431f9",
   "metadata": {
    "execution": {
     "iopub.execute_input": "2024-06-01T00:13:54.395723Z",
     "iopub.status.busy": "2024-06-01T00:13:54.394828Z",
     "iopub.status.idle": "2024-06-01T00:14:36.281366Z",
     "shell.execute_reply": "2024-06-01T00:14:36.280023Z"
    },
    "lines_to_next_cell": 2
   },
   "outputs": [
    {
     "data": {
      "application/vnd.jupyter.widget-view+json": {
       "model_id": "f140af38305f4913b6104250e98a539d",
       "version_major": 2,
       "version_minor": 0
      },
      "text/plain": [
       "processing MLE analyses:   0%|          | 0/4 [00:00<?, ?it/s]"
      ]
     },
     "metadata": {},
     "output_type": "display_data"
    },
    {
     "data": {
      "application/vnd.jupyter.widget-view+json": {
       "model_id": "3ac0a095ea6e4f7a81e5739b44087f23",
       "version_major": 2,
       "version_minor": 0
      },
      "text/plain": [
       "Propagating errors:   0%|          | 0/100 [00:00<?, ?it/s]"
      ]
     },
     "metadata": {},
     "output_type": "display_data"
    },
    {
     "data": {
      "application/vnd.jupyter.widget-view+json": {
       "model_id": "827514a732444a1e8a9b63b2b41f837b",
       "version_major": 2,
       "version_minor": 0
      },
      "text/plain": [
       "Propagating errors:   0%|          | 0/100 [00:00<?, ?it/s]"
      ]
     },
     "metadata": {},
     "output_type": "display_data"
    },
    {
     "data": {
      "application/vnd.jupyter.widget-view+json": {
       "model_id": "c77f6bd655fc47789eeaa6e23485395c",
       "version_major": 2,
       "version_minor": 0
      },
      "text/plain": [
       "Propagating errors:   0%|          | 0/100 [00:00<?, ?it/s]"
      ]
     },
     "metadata": {},
     "output_type": "display_data"
    },
    {
     "data": {
      "application/vnd.jupyter.widget-view+json": {
       "model_id": "11a7331fefb046989088485c32450689",
       "version_major": 2,
       "version_minor": 0
      },
      "text/plain": [
       "Propagating errors:   0%|          | 0/100 [00:00<?, ?it/s]"
      ]
     },
     "metadata": {},
     "output_type": "display_data"
    },
    {
     "data": {
      "image/png": "[encoded data removed]",
      "text/plain": [
       "<Figure size 1000x800 with 1 Axes>"
      ]
     },
     "metadata": {},
     "output_type": "display_data"
    }
   ],
   "source": [
    "fig = plot_spectra(\n",
    "    *[a.results for a in results.values()],\n",
    "    ene_min=100 * u.MeV,\n",
    "    ene_max=10 * u.GeV,\n",
    "    flux_unit=\"erg2/(cm2 s MeV)\",\n",
    "    energy_unit=\"MeV\",\n",
    "    fit_cmap=\"viridis\",\n",
    "    contour_cmap=\"viridis\",\n",
    "    contour_style_kwargs=dict(alpha=0.1)\n",
    ")\n",
    "fig.set_size_inches(10, 8)"
   ]
  },
  {
   "cell_type": "markdown",
   "id": "5f9ae500",
   "metadata": {},
   "source": [
    "Finally, we can display flux lightcurves and index evolution with time.\n"
   ]
  },
  {
   "cell_type": "code",
   "execution_count": 17,
   "id": "f8d99ce0",
   "metadata": {
    "execution": {
     "iopub.execute_input": "2024-06-01T00:14:36.287459Z",
     "iopub.status.busy": "2024-06-01T00:14:36.287051Z",
     "iopub.status.idle": "2024-06-01T00:14:36.815368Z",
     "shell.execute_reply": "2024-06-01T00:14:36.814089Z"
    }
   },
   "outputs": [
    {
     "data": {
      "image/png": "[encoded data removed]",
      "text/plain": [
       "<Figure size 800x1200 with 2 Axes>"
      ]
     },
     "metadata": {},
     "output_type": "display_data"
    }
   ],
   "source": [
    "variates = [\"F\", \"index\"]\n",
    "y = {}\n",
    "for n in variates:\n",
    "    y[n] = []\n",
    "    y[n + \"_p\"] = []\n",
    "    y[n + \"_n\"] = []\n",
    "x = []\n",
    "dx = []\n",
    "\n",
    "for T0, T1 in zip(intervals[:-1], intervals[1:]):\n",
    "    LAT_name = \"LAT_%06.3f-%06.3f\" % (T0, T1)\n",
    "    x.append((T1 + T0) / 2)\n",
    "    dx.append((T1 - T0) / 2)\n",
    "    jl = results[LAT_name]\n",
    "    res = jl.results\n",
    "    mod = res.optimized_model\n",
    "    ps = mod.point_sources\n",
    "\n",
    "    for n in variates:\n",
    "        my_variate = res.get_variates(\"GRB.spectrum.main.Powerlaw_flux.%s\" % n)\n",
    "        y[n].append(my_variate.median)\n",
    "        y[n + \"_p\"].append(my_variate.equal_tail_interval()[1] - my_variate.median)\n",
    "        y[n + \"_n\"].append(my_variate.median - my_variate.equal_tail_interval()[0])\n",
    "\n",
    "fig = plt.figure(figsize=(8, 12))\n",
    "colors = [\"r\", \"b\"]\n",
    "ylabels = [\"Flux [100MeV - 10GeV] \\n $\\gamma$ cm$^{-2}$ s$^{-1}$\", \"index\"]\n",
    "for i, n in enumerate(variates):\n",
    "    plt.subplot(len(variates) + 1, 1, i + 1)\n",
    "    plt.errorbar(x, y[n], xerr=dx, yerr=(y[n + \"_n\"], y[n + \"_p\"]), ls=\"\", c=colors[i])\n",
    "    if i == 0:\n",
    "        plt.yscale(\"log\")\n",
    "    plt.ylabel(ylabels[i])"
   ]
  }
 ],
 "metadata": {
  "jupytext": {
   "cell_metadata_filter": "tags,-all"
  },
  "kernelspec": {
   "display_name": "Python 3 (ipykernel)",
   "language": "python",
   "name": "python3"
  },
  "language_info": {
   "codemirror_mode": {
    "name": "ipython",
    "version": 3
   },
   "file_extension": ".py",
   "mimetype": "text/x-python",
   "name": "python",
   "nbconvert_exporter": "python",
   "pygments_lexer": "ipython3",
   "version": "3.9.13"
  },
  "widgets": {
   "application/vnd.jupyter.widget-state+json": {
    "state": {
     "053627d3c8a2480294daf264651bd137": {
      "model_module": "@jupyter-widgets/controls",
      "model_module_version": "2.0.0",
      "model_name": "FloatProgressModel",
      "state": {
       "_dom_classes": [],
       "_model_module": "@jupyter-widgets/controls",
       "_model_module_version": "2.0.0",
       "_model_name": "FloatProgressModel",
       "_view_count": null,
       "_view_module": "@jupyter-widgets/controls",
       "_view_module_version": "2.0.0",
       "_view_name": "ProgressView",
       "bar_style": "success",
       "description": "",
       "description_allow_html": false,
       "layout": "IPY_MODEL_b791568db1ea45a692148d9a8a299908",
       "max": 100.0,
       "min": 0.0,
       "orientation": "horizontal",
       "style": "IPY_MODEL_a58cc066e31a447482d5111e0311587d",
       "tabbable": null,
       "tooltip": null,
       "value": 100.0
      }
     },
     "09e1f363750e44f99dea9f0fa686a386": {
      "model_module": "@jupyter-widgets/controls",
      "model_module_version": "2.0.0",
      "model_name": "FloatProgressModel",
      "state": {
       "_dom_classes": [],
       "_model_module": "@jupyter-widgets/controls",
       "_model_module_version": "2.0.0",
       "_model_name": "FloatProgressModel",
       "_view_count": null,
       "_view_module": "@jupyter-widgets/controls",
       "_view_module_version": "2.0.0",
       "_view_name": "ProgressView",
       "bar_style": "success",
       "description": "",
       "description_allow_html": false,
       "layout": "IPY_MODEL_2e034342f4f54abfbef1b91cfa57dfd3",
       "max": 4.0,
       "min": 0.0,
       "orientation": "horizontal",
       "style": "IPY_MODEL_8f6acc38407d4d3ebb07edae76dd6199",
       "tabbable": null,
       "tooltip": null,
       "value": 4.0
      }
     },
     "0d7fa382db7d4b9aaf7554ac0ccb7ca3": {
      "model_module": "@jupyter-widgets/base",
      "model_module_version": "2.0.0",
      "model_name": "LayoutModel",
      "state": {
       "_model_module": "@jupyter-widgets/base",
       "_model_module_version": "2.0.0",
       "_model_name": "LayoutModel",
       "_view_count": null,
       "_view_module": "@jupyter-widgets/base",
       "_view_module_version": "2.0.0",
       "_view_name": "LayoutView",
       "align_content": null,
       "align_items": null,
       "align_self": null,
       "border_bottom": null,
       "border_left": null,
       "border_right": null,
       "border_top": null,
       "bottom": null,
       "display": null,
       "flex": null,
       "flex_flow": null,
       "grid_area": null,
       "grid_auto_columns": null,
       "grid_auto_flow": null,
       "grid_auto_rows": null,
       "grid_column": null,
       "grid_gap": null,
       "grid_row": null,
       "grid_template_areas": null,
       "grid_template_columns": null,
       "grid_template_rows": null,
       "height": null,
       "justify_content": null,
       "justify_items": null,
       "left": null,
       "margin": null,
       "max_height": null,
       "max_width": null,
       "min_height": null,
       "min_width": null,
       "object_fit": null,
       "object_position": null,
       "order": null,
       "overflow": null,
       "padding": null,
       "right": null,
       "top": null,
       "visibility": null,
       "width": null
      }
     },
     "0e68218605884fcea87d431439f431a1": {
      "model_module": "@jupyter-widgets/controls",
      "model_module_version": "2.0.0",
      "model_name": "HTMLStyleModel",
      "state": {
       "_model_module": "@jupyter-widgets/controls",
       "_model_module_version": "2.0.0",
       "_model_name": "HTMLStyleModel",
       "_view_count": null,
       "_view_module": "@jupyter-widgets/base",
       "_view_module_version": "2.0.0",
       "_view_name": "StyleView",
       "background": null,
       "description_width": "",
       "font_size": null,
       "text_color": null
      }
     },
     "110a16889ee0452f832b134c0d837d08": {
      "model_module": "@jupyter-widgets/controls",
      "model_module_version": "2.0.0",
      "model_name": "HTMLModel",
      "state": {
       "_dom_classes": [],
       "_model_module": "@jupyter-widgets/controls",
       "_model_module_version": "2.0.0",
       "_model_name": "HTMLModel",
       "_view_count": null,
       "_view_module": "@jupyter-widgets/controls",
       "_view_module_version": "2.0.0",
       "_view_name": "HTMLView",
       "description": "",
       "description_allow_html": false,
       "layout": "IPY_MODEL_0d7fa382db7d4b9aaf7554ac0ccb7ca3",
       "placeholder": "​",
       "style": "IPY_MODEL_ec919ac052ec40fd8262441237df6509",
       "tabbable": null,
       "tooltip": null,
       "value": " 100/100 [00:10&lt;00:00,  9.38it/s]"
      }
     },
     "11a7331fefb046989088485c32450689": {
      "model_module": "@jupyter-widgets/controls",
      "model_module_version": "2.0.0",
      "model_name": "HBoxModel",
      "state": {
       "_dom_classes": [],
       "_model_module": "@jupyter-widgets/controls",
       "_model_module_version": "2.0.0",
       "_model_name": "HBoxModel",
       "_view_count": null,
       "_view_module": "@jupyter-widgets/controls",
       "_view_module_version": "2.0.0",
       "_view_name": "HBoxView",
       "box_style": "",
       "children": [
        "IPY_MODEL_1532039f63614a6b99df0ec00858ef9c",
        "IPY_MODEL_053627d3c8a2480294daf264651bd137",
        "IPY_MODEL_110a16889ee0452f832b134c0d837d08"
       ],
       "layout": "IPY_MODEL_46cf9143cffe42e6971328b538b69b1d",
       "tabbable": null,
       "tooltip": null
      }
     },
     "12767326fa374c9aa9e4588a0b954252": {
      "model_module": "@jupyter-widgets/controls",
      "model_module_version": "2.0.0",
      "model_name": "HTMLModel",
      "state": {
       "_dom_classes": [],
       "_model_module": "@jupyter-widgets/controls",
       "_model_module_version": "2.0.0",
       "_model_name": "HTMLModel",
       "_view_count": null,
       "_view_module": "@jupyter-widgets/controls",
       "_view_module_version": "2.0.0",
       "_view_name": "HTMLView",
       "description": "",
       "description_allow_html": false,
       "layout": "IPY_MODEL_c1097017948a473c813cd43d9007a866",
       "placeholder": "​",
       "style": "IPY_MODEL_7bb801ba4c7e464dbc63fe8b6a7c1975",
       "tabbable": null,
       "tooltip": null,
       "value": " 100/100 [00:09&lt;00:00, 10.10it/s]"
      }
     },
     "13617e08f0e74782b0945b34ebb8272d": {
      "model_module": "@jupyter-widgets/controls",
      "model_module_version": "2.0.0",
      "model_name": "ProgressStyleModel",
      "state": {
       "_model_module": "@jupyter-widgets/controls",
       "_model_module_version": "2.0.0",
       "_model_name": "ProgressStyleModel",
       "_view_count": null,
       "_view_module": "@jupyter-widgets/base",
       "_view_module_version": "2.0.0",
       "_view_name": "StyleView",
       "bar_color": "#4ac16d",
       "description_width": ""
      }
     },
     "1532039f63614a6b99df0ec00858ef9c": {
      "model_module": "@jupyter-widgets/controls",
      "model_module_version": "2.0.0",
      "model_name": "HTMLModel",
      "state": {
       "_dom_classes": [],
       "_model_module": "@jupyter-widgets/controls",
       "_model_module_version": "2.0.0",
       "_model_name": "HTMLModel",
       "_view_count": null,
       "_view_module": "@jupyter-widgets/controls",
       "_view_module_version": "2.0.0",
       "_view_name": "HTMLView",
       "description": "",
       "description_allow_html": false,
       "layout": "IPY_MODEL_7116800653554075a083a7fd25df6a97",
       "placeholder": "​",
       "style": "IPY_MODEL_d87b1467b29e48128d28e401df6bc770",
       "tabbable": null,
       "tooltip": null,
       "value": "Propagating errors: 100%"
      }
     },
     "16c2dd6e7eb04da4af415696dac4b522": {
      "model_module": "@jupyter-widgets/base",
      "model_module_version": "2.0.0",
      "model_name": "LayoutModel",
      "state": {
       "_model_module": "@jupyter-widgets/base",
       "_model_module_version": "2.0.0",
       "_model_name": "LayoutModel",
       "_view_count": null,
       "_view_module": "@jupyter-widgets/base",
       "_view_module_version": "2.0.0",
       "_view_name": "LayoutView",
       "align_content": null,
       "align_items": null,
       "align_self": null,
       "border_bottom": null,
       "border_left": null,
       "border_right": null,
       "border_top": null,
       "bottom": null,
       "display": "inline-flex",
       "flex": null,
       "flex_flow": "row wrap",
       "grid_area": null,
       "grid_auto_columns": null,
       "grid_auto_flow": null,
       "grid_auto_rows": null,
       "grid_column": null,
       "grid_gap": null,
       "grid_row": null,
       "grid_template_areas": null,
       "grid_template_columns": null,
       "grid_template_rows": null,
       "height": null,
       "justify_content": null,
       "justify_items": null,
       "left": null,
       "margin": null,
       "max_height": null,
       "max_width": null,
       "min_height": null,
       "min_width": null,
       "object_fit": null,
       "object_position": null,
       "order": null,
       "overflow": null,
       "padding": null,
       "right": null,
       "top": null,
       "visibility": null,
       "width": "100%"
      }
     },
     "18a75ed1249348749783a27cfaf11b97": {
      "model_module": "@jupyter-widgets/base",
      "model_module_version": "2.0.0",
      "model_name": "LayoutModel",
      "state": {
       "_model_module": "@jupyter-widgets/base",
       "_model_module_version": "2.0.0",
       "_model_name": "LayoutModel",
       "_view_count": null,
       "_view_module": "@jupyter-widgets/base",
       "_view_module_version": "2.0.0",
       "_view_name": "LayoutView",
       "align_content": null,
       "align_items": null,
       "align_self": null,
       "border_bottom": null,
       "border_left": null,
       "border_right": null,
       "border_top": null,
       "bottom": null,
       "display": null,
       "flex": null,
       "flex_flow": null,
       "grid_area": null,
       "grid_auto_columns": null,
       "grid_auto_flow": null,
       "grid_auto_rows": null,
       "grid_column": null,
       "grid_gap": null,
       "grid_row": null,
       "grid_template_areas": null,
       "grid_template_columns": null,
       "grid_template_rows": null,
       "height": null,
       "justify_content": null,
       "justify_items": null,
       "left": null,
       "margin": null,
       "max_height": null,
       "max_width": null,
       "min_height": null,
       "min_width": null,
       "object_fit": null,
       "object_position": null,
       "order": null,
       "overflow": null,
       "padding": null,
       "right": null,
       "top": null,
       "visibility": null,
       "width": null
      }
     },
     "18fa6212737344c3ba2a2c8ca418b06b": {
      "model_module": "@jupyter-widgets/controls",
      "model_module_version": "2.0.0",
      "model_name": "HTMLStyleModel",
      "state": {
       "_model_module": "@jupyter-widgets/controls",
       "_model_module_version": "2.0.0",
       "_model_name": "HTMLStyleModel",
       "_view_count": null,
       "_view_module": "@jupyter-widgets/base",
       "_view_module_version": "2.0.0",
       "_view_name": "StyleView",
       "background": null,
       "description_width": "",
       "font_size": null,
       "text_color": null
      }
     },
     "1a318df434e04540a66b09ce4a6f6efe": {
      "model_module": "@jupyter-widgets/base",
      "model_module_version": "2.0.0",
      "model_name": "LayoutModel",
      "state": {
       "_model_module": "@jupyter-widgets/base",
       "_model_module_version": "2.0.0",
       "_model_name": "LayoutModel",
       "_view_count": null,
       "_view_module": "@jupyter-widgets/base",
       "_view_module_version": "2.0.0",
       "_view_name": "LayoutView",
       "align_content": null,
       "align_items": null,
       "align_self": null,
       "border_bottom": null,
       "border_left": null,
       "border_right": null,
       "border_top": null,
       "bottom": null,
       "display": null,
       "flex": "2",
       "flex_flow": null,
       "grid_area": null,
       "grid_auto_columns": null,
       "grid_auto_flow": null,
       "grid_auto_rows": null,
       "grid_column": null,
       "grid_gap": null,
       "grid_row": null,
       "grid_template_areas": null,
       "grid_template_columns": null,
       "grid_template_rows": null,
       "height": null,
       "justify_content": null,
       "justify_items": null,
       "left": null,
       "margin": null,
       "max_height": null,
       "max_width": null,
       "min_height": null,
       "min_width": null,
       "object_fit": null,
       "object_position": null,
       "order": null,
       "overflow": null,
       "padding": null,
       "right": null,
       "top": null,
       "visibility": null,
       "width": null
      }
     },
     "1b0062a642cb404db3e7194fa7c3ce1b": {
      "model_module": "@jupyter-widgets/controls",
      "model_module_version": "2.0.0",
      "model_name": "HBoxModel",
      "state": {
       "_dom_classes": [],
       "_model_module": "@jupyter-widgets/controls",
       "_model_module_version": "2.0.0",
       "_model_name": "HBoxModel",
       "_view_count": null,
       "_view_module": "@jupyter-widgets/controls",
       "_view_module_version": "2.0.0",
       "_view_name": "HBoxView",
       "box_style": "",
       "children": [
        "IPY_MODEL_6f4b7930074e47b0b5da01fa76cfaad0",
        "IPY_MODEL_d2af7d0a7fef4ec5bc69395facbbbd0c",
        "IPY_MODEL_f6f7351a0f794ccba608e283dc1951a4"
       ],
       "layout": "IPY_MODEL_a53875cdeb7844bda6df64ef15b20cff",
       "tabbable": null,
       "tooltip": null
      }
     },
     "1ee35d2f7acc4e488b3c0268f0453c6e": {
      "model_module": "@jupyter-widgets/controls",
      "model_module_version": "2.0.0",
      "model_name": "HTMLModel",
      "state": {
       "_dom_classes": [],
       "_model_module": "@jupyter-widgets/controls",
       "_model_module_version": "2.0.0",
       "_model_name": "HTMLModel",
       "_view_count": null,
       "_view_module": "@jupyter-widgets/controls",
       "_view_module_version": "2.0.0",
       "_view_name": "HTMLView",
       "description": "",
       "description_allow_html": false,
       "layout": "IPY_MODEL_18a75ed1249348749783a27cfaf11b97",
       "placeholder": "​",
       "style": "IPY_MODEL_18fa6212737344c3ba2a2c8ca418b06b",
       "tabbable": null,
       "tooltip": null,
       "value": "Downloading L240531201051BD968AF249_EV00.fits: 100%"
      }
     },
     "28d41c9d24314fdba2c696b02776387e": {
      "model_module": "@jupyter-widgets/base",
      "model_module_version": "2.0.0",
      "model_name": "LayoutModel",
      "state": {
       "_model_module": "@jupyter-widgets/base",
       "_model_module_version": "2.0.0",
       "_model_name": "LayoutModel",
       "_view_count": null,
       "_view_module": "@jupyter-widgets/base",
       "_view_module_version": "2.0.0",
       "_view_name": "LayoutView",
       "align_content": null,
       "align_items": null,
       "align_self": null,
       "border_bottom": null,
       "border_left": null,
       "border_right": null,
       "border_top": null,
       "bottom": null,
       "display": "inline-flex",
       "flex": null,
       "flex_flow": "row wrap",
       "grid_area": null,
       "grid_auto_columns": null,
       "grid_auto_flow": null,
       "grid_auto_rows": null,
       "grid_column": null,
       "grid_gap": null,
       "grid_row": null,
       "grid_template_areas": null,
       "grid_template_columns": null,
       "grid_template_rows": null,
       "height": null,
       "justify_content": null,
       "justify_items": null,
       "left": null,
       "margin": null,
       "max_height": null,
       "max_width": null,
       "min_height": null,
       "min_width": null,
       "object_fit": null,
       "object_position": null,
       "order": null,
       "overflow": null,
       "padding": null,
       "right": null,
       "top": null,
       "visibility": null,
       "width": "100%"
      }
     },
     "29487ebc6b2541abaf8ceb415fceb0ae": {
      "model_module": "@jupyter-widgets/base",
      "model_module_version": "2.0.0",
      "model_name": "LayoutModel",
      "state": {
       "_model_module": "@jupyter-widgets/base",
       "_model_module_version": "2.0.0",
       "_model_name": "LayoutModel",
       "_view_count": null,
       "_view_module": "@jupyter-widgets/base",
       "_view_module_version": "2.0.0",
       "_view_name": "LayoutView",
       "align_content": null,
       "align_items": null,
       "align_self": null,
       "border_bottom": null,
       "border_left": null,
       "border_right": null,
       "border_top": null,
       "bottom": null,
       "display": null,
       "flex": null,
       "flex_flow": null,
       "grid_area": null,
       "grid_auto_columns": null,
       "grid_auto_flow": null,
       "grid_auto_rows": null,
       "grid_column": null,
       "grid_gap": null,
       "grid_row": null,
       "grid_template_areas": null,
       "grid_template_columns": null,
       "grid_template_rows": null,
       "height": null,
       "justify_content": null,
       "justify_items": null,
       "left": null,
       "margin": null,
       "max_height": null,
       "max_width": null,
       "min_height": null,
       "min_width": null,
       "object_fit": null,
       "object_position": null,
       "order": null,
       "overflow": null,
       "padding": null,
       "right": null,
       "top": null,
       "visibility": null,
       "width": null
      }
     },
     "2a04a6f16368495680311312aef84437": {
      "model_module": "@jupyter-widgets/controls",
      "model_module_version": "2.0.0",
      "model_name": "HTMLStyleModel",
      "state": {
       "_model_module": "@jupyter-widgets/controls",
       "_model_module_version": "2.0.0",
       "_model_name": "HTMLStyleModel",
       "_view_count": null,
       "_view_module": "@jupyter-widgets/base",
       "_view_module_version": "2.0.0",
       "_view_name": "StyleView",
       "background": null,
       "description_width": "",
       "font_size": null,
       "text_color": null
      }
     },
     "2e034342f4f54abfbef1b91cfa57dfd3": {
      "model_module": "@jupyter-widgets/base",
      "model_module_version": "2.0.0",
      "model_name": "LayoutModel",
      "state": {
       "_model_module": "@jupyter-widgets/base",
       "_model_module_version": "2.0.0",
       "_model_name": "LayoutModel",
       "_view_count": null,
       "_view_module": "@jupyter-widgets/base",
       "_view_module_version": "2.0.0",
       "_view_name": "LayoutView",
       "align_content": null,
       "align_items": null,
       "align_self": null,
       "border_bottom": null,
       "border_left": null,
       "border_right": null,
       "border_top": null,
       "bottom": null,
       "display": null,
       "flex": "2",
       "flex_flow": null,
       "grid_area": null,
       "grid_auto_columns": null,
       "grid_auto_flow": null,
       "grid_auto_rows": null,
       "grid_column": null,
       "grid_gap": null,
       "grid_row": null,
       "grid_template_areas": null,
       "grid_template_columns": null,
       "grid_template_rows": null,
       "height": null,
       "justify_content": null,
       "justify_items": null,
       "left": null,
       "margin": null,
       "max_height": null,
       "max_width": null,
       "min_height": null,
       "min_width": null,
       "object_fit": null,
       "object_position": null,
       "order": null,
       "overflow": null,
       "padding": null,
       "right": null,
       "top": null,
       "visibility": null,
       "width": null
      }
     },
     "36dd196a2b0943f9b7fdd4a815b5a5c4": {
      "model_module": "@jupyter-widgets/controls",
      "model_module_version": "2.0.0",
      "model_name": "ProgressStyleModel",
      "state": {
       "_model_module": "@jupyter-widgets/controls",
       "_model_module_version": "2.0.0",
       "_model_name": "ProgressStyleModel",
       "_view_count": null,
       "_view_module": "@jupyter-widgets/base",
       "_view_module_version": "2.0.0",
       "_view_name": "StyleView",
       "bar_color": "#1fa187",
       "description_width": ""
      }
     },
     "3a0d4a8895f14c1991b82b7e569af582": {
      "model_module": "@jupyter-widgets/controls",
      "model_module_version": "2.0.0",
      "model_name": "ProgressStyleModel",
      "state": {
       "_model_module": "@jupyter-widgets/controls",
       "_model_module_version": "2.0.0",
       "_model_name": "ProgressStyleModel",
       "_view_count": null,
       "_view_module": "@jupyter-widgets/base",
       "_view_module_version": "2.0.0",
       "_view_name": "StyleView",
       "bar_color": "#277f8e",
       "description_width": ""
      }
     },
     "3ac0a095ea6e4f7a81e5739b44087f23": {
      "model_module": "@jupyter-widgets/controls",
      "model_module_version": "2.0.0",
      "model_name": "HBoxModel",
      "state": {
       "_dom_classes": [],
       "_model_module": "@jupyter-widgets/controls",
       "_model_module_version": "2.0.0",
       "_model_name": "HBoxModel",
       "_view_count": null,
       "_view_module": "@jupyter-widgets/controls",
       "_view_module_version": "2.0.0",
       "_view_name": "HBoxView",
       "box_style": "",
       "children": [
        "IPY_MODEL_3ebf9e3092e94c0d84a7fb4334cd119b",
        "IPY_MODEL_8a4d0b31f068443db9a760acb1983bfa",
        "IPY_MODEL_12767326fa374c9aa9e4588a0b954252"
       ],
       "layout": "IPY_MODEL_28d41c9d24314fdba2c696b02776387e",
       "tabbable": null,
       "tooltip": null
      }
     },
     "3ebf9e3092e94c0d84a7fb4334cd119b": {
      "model_module": "@jupyter-widgets/controls",
      "model_module_version": "2.0.0",
      "model_name": "HTMLModel",
      "state": {
       "_dom_classes": [],
       "_model_module": "@jupyter-widgets/controls",
       "_model_module_version": "2.0.0",
       "_model_name": "HTMLModel",
       "_view_count": null,
       "_view_module": "@jupyter-widgets/controls",
       "_view_module_version": "2.0.0",
       "_view_name": "HTMLView",
       "description": "",
       "description_allow_html": false,
       "layout": "IPY_MODEL_d84b75cc77244930a069f983583131fa",
       "placeholder": "​",
       "style": "IPY_MODEL_65796ac0116144ce8ad1da6869e65cc6",
       "tabbable": null,
       "tooltip": null,
       "value": "Propagating errors: 100%"
      }
     },
     "42e0ceb07962480fad4d95b73bc56e92": {
      "model_module": "@jupyter-widgets/controls",
      "model_module_version": "2.0.0",
      "model_name": "FloatProgressModel",
      "state": {
       "_dom_classes": [],
       "_model_module": "@jupyter-widgets/controls",
       "_model_module_version": "2.0.0",
       "_model_name": "FloatProgressModel",
       "_view_count": null,
       "_view_module": "@jupyter-widgets/controls",
       "_view_module_version": "2.0.0",
       "_view_name": "ProgressView",
       "bar_style": "success",
       "description": "",
       "description_allow_html": false,
       "layout": "IPY_MODEL_6c1030ddb87c49878d8acd548b3a2484",
       "max": 100800.0,
       "min": 0.0,
       "orientation": "horizontal",
       "style": "IPY_MODEL_a2be98b0f488427ba5d6817a2db23227",
       "tabbable": null,
       "tooltip": null,
       "value": 100800.0
      }
     },
     "461a24458b2c46eda7820a63922911cc": {
      "model_module": "@jupyter-widgets/controls",
      "model_module_version": "2.0.0",
      "model_name": "HTMLStyleModel",
      "state": {
       "_model_module": "@jupyter-widgets/controls",
       "_model_module_version": "2.0.0",
       "_model_name": "HTMLStyleModel",
       "_view_count": null,
       "_view_module": "@jupyter-widgets/base",
       "_view_module_version": "2.0.0",
       "_view_name": "StyleView",
       "background": null,
       "description_width": "",
       "font_size": null,
       "text_color": null
      }
     },
     "46cf9143cffe42e6971328b538b69b1d": {
      "model_module": "@jupyter-widgets/base",
      "model_module_version": "2.0.0",
      "model_name": "LayoutModel",
      "state": {
       "_model_module": "@jupyter-widgets/base",
       "_model_module_version": "2.0.0",
       "_model_name": "LayoutModel",
       "_view_count": null,
       "_view_module": "@jupyter-widgets/base",
       "_view_module_version": "2.0.0",
       "_view_name": "LayoutView",
       "align_content": null,
       "align_items": null,
       "align_self": null,
       "border_bottom": null,
       "border_left": null,
       "border_right": null,
       "border_top": null,
       "bottom": null,
       "display": "inline-flex",
       "flex": null,
       "flex_flow": "row wrap",
       "grid_area": null,
       "grid_auto_columns": null,
       "grid_auto_flow": null,
       "grid_auto_rows": null,
       "grid_column": null,
       "grid_gap": null,
       "grid_row": null,
       "grid_template_areas": null,
       "grid_template_columns": null,
       "grid_template_rows": null,
       "height": null,
       "justify_content": null,
       "justify_items": null,
       "left": null,
       "margin": null,
       "max_height": null,
       "max_width": null,
       "min_height": null,
       "min_width": null,
       "object_fit": null,
       "object_position": null,
       "order": null,
       "overflow": null,
       "padding": null,
       "right": null,
       "top": null,
       "visibility": null,
       "width": "100%"
      }
     },
     "4e4ddbde6d5a4830a0d53ddc51e162c4": {
      "model_module": "@jupyter-widgets/controls",
      "model_module_version": "2.0.0",
      "model_name": "HTMLModel",
      "state": {
       "_dom_classes": [],
       "_model_module": "@jupyter-widgets/controls",
       "_model_module_version": "2.0.0",
       "_model_name": "HTMLModel",
       "_view_count": null,
       "_view_module": "@jupyter-widgets/controls",
       "_view_module_version": "2.0.0",
       "_view_name": "HTMLView",
       "description": "",
       "description_allow_html": false,
       "layout": "IPY_MODEL_93e8ce1d73d549149dbb6484685984ae",
       "placeholder": "​",
       "style": "IPY_MODEL_7d181e7361874d3aac0ce0bb8bd982db",
       "tabbable": null,
       "tooltip": null,
       "value": "Propagating errors: 100%"
      }
     },
     "5386ca6150e04785bf0356655c8d737d": {
      "model_module": "@jupyter-widgets/controls",
      "model_module_version": "2.0.0",
      "model_name": "HBoxModel",
      "state": {
       "_dom_classes": [],
       "_model_module": "@jupyter-widgets/controls",
       "_model_module_version": "2.0.0",
       "_model_name": "HBoxModel",
       "_view_count": null,
       "_view_module": "@jupyter-widgets/controls",
       "_view_module_version": "2.0.0",
       "_view_name": "HBoxView",
       "box_style": "",
       "children": [
        "IPY_MODEL_1ee35d2f7acc4e488b3c0268f0453c6e",
        "IPY_MODEL_42e0ceb07962480fad4d95b73bc56e92",
        "IPY_MODEL_66d7dd17a2884193a4291ccefaf9ced0"
       ],
       "layout": "IPY_MODEL_b72b99e6e92843cd9285f1c8078919cb",
       "tabbable": null,
       "tooltip": null
      }
     },
     "591fd5547a4c4911a0280d2b9cd0c495": {
      "model_module": "@jupyter-widgets/base",
      "model_module_version": "2.0.0",
      "model_name": "LayoutModel",
      "state": {
       "_model_module": "@jupyter-widgets/base",
       "_model_module_version": "2.0.0",
       "_model_name": "LayoutModel",
       "_view_count": null,
       "_view_module": "@jupyter-widgets/base",
       "_view_module_version": "2.0.0",
       "_view_name": "LayoutView",
       "align_content": null,
       "align_items": null,
       "align_self": null,
       "border_bottom": null,
       "border_left": null,
       "border_right": null,
       "border_top": null,
       "bottom": null,
       "display": null,
       "flex": null,
       "flex_flow": null,
       "grid_area": null,
       "grid_auto_columns": null,
       "grid_auto_flow": null,
       "grid_auto_rows": null,
       "grid_column": null,
       "grid_gap": null,
       "grid_row": null,
       "grid_template_areas": null,
       "grid_template_columns": null,
       "grid_template_rows": null,
       "height": null,
       "justify_content": null,
       "justify_items": null,
       "left": null,
       "margin": null,
       "max_height": null,
       "max_width": null,
       "min_height": null,
       "min_width": null,
       "object_fit": null,
       "object_position": null,
       "order": null,
       "overflow": null,
       "padding": null,
       "right": null,
       "top": null,
       "visibility": null,
       "width": null
      }
     },
     "65796ac0116144ce8ad1da6869e65cc6": {
      "model_module": "@jupyter-widgets/controls",
      "model_module_version": "2.0.0",
      "model_name": "HTMLStyleModel",
      "state": {
       "_model_module": "@jupyter-widgets/controls",
       "_model_module_version": "2.0.0",
       "_model_name": "HTMLStyleModel",
       "_view_count": null,
       "_view_module": "@jupyter-widgets/base",
       "_view_module_version": "2.0.0",
       "_view_name": "StyleView",
       "background": null,
       "description_width": "",
       "font_size": null,
       "text_color": null
      }
     },
     "66d7dd17a2884193a4291ccefaf9ced0": {
      "model_module": "@jupyter-widgets/controls",
      "model_module_version": "2.0.0",
      "model_name": "HTMLModel",
      "state": {
       "_dom_classes": [],
       "_model_module": "@jupyter-widgets/controls",
       "_model_module_version": "2.0.0",
       "_model_name": "HTMLModel",
       "_view_count": null,
       "_view_module": "@jupyter-widgets/controls",
       "_view_module_version": "2.0.0",
       "_view_name": "HTMLView",
       "description": "",
       "description_allow_html": false,
       "layout": "IPY_MODEL_29487ebc6b2541abaf8ceb415fceb0ae",
       "placeholder": "​",
       "style": "IPY_MODEL_7be5fc433cfa4cf3afac2dca9d0c67ee",
       "tabbable": null,
       "tooltip": null,
       "value": " 98.4k/98.4k [00:00&lt;00:00, 1.71MB/s]"
      }
     },
     "6c1030ddb87c49878d8acd548b3a2484": {
      "model_module": "@jupyter-widgets/base",
      "model_module_version": "2.0.0",
      "model_name": "LayoutModel",
      "state": {
       "_model_module": "@jupyter-widgets/base",
       "_model_module_version": "2.0.0",
       "_model_name": "LayoutModel",
       "_view_count": null,
       "_view_module": "@jupyter-widgets/base",
       "_view_module_version": "2.0.0",
       "_view_name": "LayoutView",
       "align_content": null,
       "align_items": null,
       "align_self": null,
       "border_bottom": null,
       "border_left": null,
       "border_right": null,
       "border_top": null,
       "bottom": null,
       "display": null,
       "flex": "2",
       "flex_flow": null,
       "grid_area": null,
       "grid_auto_columns": null,
       "grid_auto_flow": null,
       "grid_auto_rows": null,
       "grid_column": null,
       "grid_gap": null,
       "grid_row": null,
       "grid_template_areas": null,
       "grid_template_columns": null,
       "grid_template_rows": null,
       "height": null,
       "justify_content": null,
       "justify_items": null,
       "left": null,
       "margin": null,
       "max_height": null,
       "max_width": null,
       "min_height": null,
       "min_width": null,
       "object_fit": null,
       "object_position": null,
       "order": null,
       "overflow": null,
       "padding": null,
       "right": null,
       "top": null,
       "visibility": null,
       "width": null
      }
     },
     "6f4b7930074e47b0b5da01fa76cfaad0": {
      "model_module": "@jupyter-widgets/controls",
      "model_module_version": "2.0.0",
      "model_name": "HTMLModel",
      "state": {
       "_dom_classes": [],
       "_model_module": "@jupyter-widgets/controls",
       "_model_module_version": "2.0.0",
       "_model_name": "HTMLModel",
       "_view_count": null,
       "_view_module": "@jupyter-widgets/controls",
       "_view_module_version": "2.0.0",
       "_view_name": "HTMLView",
       "description": "",
       "description_allow_html": false,
       "layout": "IPY_MODEL_757fa26a57e24fee97bba86d550cd708",
       "placeholder": "​",
       "style": "IPY_MODEL_2a04a6f16368495680311312aef84437",
       "tabbable": null,
       "tooltip": null,
       "value": "Downloading L240531201051BD968AF249_SC00.fits: 100%"
      }
     },
     "7116800653554075a083a7fd25df6a97": {
      "model_module": "@jupyter-widgets/base",
      "model_module_version": "2.0.0",
      "model_name": "LayoutModel",
      "state": {
       "_model_module": "@jupyter-widgets/base",
       "_model_module_version": "2.0.0",
       "_model_name": "LayoutModel",
       "_view_count": null,
       "_view_module": "@jupyter-widgets/base",
       "_view_module_version": "2.0.0",
       "_view_name": "LayoutView",
       "align_content": null,
       "align_items": null,
       "align_self": null,
       "border_bottom": null,
       "border_left": null,
       "border_right": null,
       "border_top": null,
       "bottom": null,
       "display": null,
       "flex": null,
       "flex_flow": null,
       "grid_area": null,
       "grid_auto_columns": null,
       "grid_auto_flow": null,
       "grid_auto_rows": null,
       "grid_column": null,
       "grid_gap": null,
       "grid_row": null,
       "grid_template_areas": null,
       "grid_template_columns": null,
       "grid_template_rows": null,
       "height": null,
       "justify_content": null,
       "justify_items": null,
       "left": null,
       "margin": null,
       "max_height": null,
       "max_width": null,
       "min_height": null,
       "min_width": null,
       "object_fit": null,
       "object_position": null,
       "order": null,
       "overflow": null,
       "padding": null,
       "right": null,
       "top": null,
       "visibility": null,
       "width": null
      }
     },
     "713164a8680541e48dd1f4003108b762": {
      "model_module": "@jupyter-widgets/base",
      "model_module_version": "2.0.0",
      "model_name": "LayoutModel",
      "state": {
       "_model_module": "@jupyter-widgets/base",
       "_model_module_version": "2.0.0",
       "_model_name": "LayoutModel",
       "_view_count": null,
       "_view_module": "@jupyter-widgets/base",
       "_view_module_version": "2.0.0",
       "_view_name": "LayoutView",
       "align_content": null,
       "align_items": null,
       "align_self": null,
       "border_bottom": null,
       "border_left": null,
       "border_right": null,
       "border_top": null,
       "bottom": null,
       "display": "inline-flex",
       "flex": null,
       "flex_flow": "row wrap",
       "grid_area": null,
       "grid_auto_columns": null,
       "grid_auto_flow": null,
       "grid_auto_rows": null,
       "grid_column": null,
       "grid_gap": null,
       "grid_row": null,
       "grid_template_areas": null,
       "grid_template_columns": null,
       "grid_template_rows": null,
       "height": null,
       "justify_content": null,
       "justify_items": null,
       "left": null,
       "margin": null,
       "max_height": null,
       "max_width": null,
       "min_height": null,
       "min_width": null,
       "object_fit": null,
       "object_position": null,
       "order": null,
       "overflow": null,
       "padding": null,
       "right": null,
       "top": null,
       "visibility": null,
       "width": "100%"
      }
     },
     "7362f703434a439095236a50b1edfbf3": {
      "model_module": "@jupyter-widgets/controls",
      "model_module_version": "2.0.0",
      "model_name": "HTMLModel",
      "state": {
       "_dom_classes": [],
       "_model_module": "@jupyter-widgets/controls",
       "_model_module_version": "2.0.0",
       "_model_name": "HTMLModel",
       "_view_count": null,
       "_view_module": "@jupyter-widgets/controls",
       "_view_module_version": "2.0.0",
       "_view_name": "HTMLView",
       "description": "",
       "description_allow_html": false,
       "layout": "IPY_MODEL_fa417920e17c4ce8a6eac20d4574de4f",
       "placeholder": "​",
       "style": "IPY_MODEL_0e68218605884fcea87d431439f431a1",
       "tabbable": null,
       "tooltip": null,
       "value": "processing MLE analyses: 100%"
      }
     },
     "757fa26a57e24fee97bba86d550cd708": {
      "model_module": "@jupyter-widgets/base",
      "model_module_version": "2.0.0",
      "model_name": "LayoutModel",
      "state": {
       "_model_module": "@jupyter-widgets/base",
       "_model_module_version": "2.0.0",
       "_model_name": "LayoutModel",
       "_view_count": null,
       "_view_module": "@jupyter-widgets/base",
       "_view_module_version": "2.0.0",
       "_view_name": "LayoutView",
       "align_content": null,
       "align_items": null,
       "align_self": null,
       "border_bottom": null,
       "border_left": null,
       "border_right": null,
       "border_top": null,
       "bottom": null,
       "display": null,
       "flex": null,
       "flex_flow": null,
       "grid_area": null,
       "grid_auto_columns": null,
       "grid_auto_flow": null,
       "grid_auto_rows": null,
       "grid_column": null,
       "grid_gap": null,
       "grid_row": null,
       "grid_template_areas": null,
       "grid_template_columns": null,
       "grid_template_rows": null,
       "height": null,
       "justify_content": null,
       "justify_items": null,
       "left": null,
       "margin": null,
       "max_height": null,
       "max_width": null,
       "min_height": null,
       "min_width": null,
       "object_fit": null,
       "object_position": null,
       "order": null,
       "overflow": null,
       "padding": null,
       "right": null,
       "top": null,
       "visibility": null,
       "width": null
      }
     },
     "7bb801ba4c7e464dbc63fe8b6a7c1975": {
      "model_module": "@jupyter-widgets/controls",
      "model_module_version": "2.0.0",
      "model_name": "HTMLStyleModel",
      "state": {
       "_model_module": "@jupyter-widgets/controls",
       "_model_module_version": "2.0.0",
       "_model_name": "HTMLStyleModel",
       "_view_count": null,
       "_view_module": "@jupyter-widgets/base",
       "_view_module_version": "2.0.0",
       "_view_name": "StyleView",
       "background": null,
       "description_width": "",
       "font_size": null,
       "text_color": null
      }
     },
     "7be5fc433cfa4cf3afac2dca9d0c67ee": {
      "model_module": "@jupyter-widgets/controls",
      "model_module_version": "2.0.0",
      "model_name": "HTMLStyleModel",
      "state": {
       "_model_module": "@jupyter-widgets/controls",
       "_model_module_version": "2.0.0",
       "_model_name": "HTMLStyleModel",
       "_view_count": null,
       "_view_module": "@jupyter-widgets/base",
       "_view_module_version": "2.0.0",
       "_view_name": "StyleView",
       "background": null,
       "description_width": "",
       "font_size": null,
       "text_color": null
      }
     },
     "7d181e7361874d3aac0ce0bb8bd982db": {
      "model_module": "@jupyter-widgets/controls",
      "model_module_version": "2.0.0",
      "model_name": "HTMLStyleModel",
      "state": {
       "_model_module": "@jupyter-widgets/controls",
       "_model_module_version": "2.0.0",
       "_model_name": "HTMLStyleModel",
       "_view_count": null,
       "_view_module": "@jupyter-widgets/base",
       "_view_module_version": "2.0.0",
       "_view_name": "StyleView",
       "background": null,
       "description_width": "",
       "font_size": null,
       "text_color": null
      }
     },
     "827514a732444a1e8a9b63b2b41f837b": {
      "model_module": "@jupyter-widgets/controls",
      "model_module_version": "2.0.0",
      "model_name": "HBoxModel",
      "state": {
       "_dom_classes": [],
       "_model_module": "@jupyter-widgets/controls",
       "_model_module_version": "2.0.0",
       "_model_name": "HBoxModel",
       "_view_count": null,
       "_view_module": "@jupyter-widgets/controls",
       "_view_module_version": "2.0.0",
       "_view_name": "HBoxView",
       "box_style": "",
       "children": [
        "IPY_MODEL_4e4ddbde6d5a4830a0d53ddc51e162c4",
        "IPY_MODEL_e4983e5533934380b108aff2bacda998",
        "IPY_MODEL_f98c10dace194830930f7c66d490edcb"
       ],
       "layout": "IPY_MODEL_b9a7c9e4c1564948bada375f434310c8",
       "tabbable": null,
       "tooltip": null
      }
     },
     "89d63511aaa4489ab0fb74260bfbad60": {
      "model_module": "@jupyter-widgets/controls",
      "model_module_version": "2.0.0",
      "model_name": "HTMLModel",
      "state": {
       "_dom_classes": [],
       "_model_module": "@jupyter-widgets/controls",
       "_model_module_version": "2.0.0",
       "_model_name": "HTMLModel",
       "_view_count": null,
       "_view_module": "@jupyter-widgets/controls",
       "_view_module_version": "2.0.0",
       "_view_name": "HTMLView",
       "description": "",
       "description_allow_html": false,
       "layout": "IPY_MODEL_e93855111fb046dba19cb56a667a971a",
       "placeholder": "​",
       "style": "IPY_MODEL_461a24458b2c46eda7820a63922911cc",
       "tabbable": null,
       "tooltip": null,
       "value": " 100/100 [00:10&lt;00:00,  9.75it/s]"
      }
     },
     "8a4d0b31f068443db9a760acb1983bfa": {
      "model_module": "@jupyter-widgets/controls",
      "model_module_version": "2.0.0",
      "model_name": "FloatProgressModel",
      "state": {
       "_dom_classes": [],
       "_model_module": "@jupyter-widgets/controls",
       "_model_module_version": "2.0.0",
       "_model_name": "FloatProgressModel",
       "_view_count": null,
       "_view_module": "@jupyter-widgets/controls",
       "_view_module_version": "2.0.0",
       "_view_name": "ProgressView",
       "bar_style": "success",
       "description": "",
       "description_allow_html": false,
       "layout": "IPY_MODEL_da01dbd1ccc04672b0c50572a6b6f679",
       "max": 100.0,
       "min": 0.0,
       "orientation": "horizontal",
       "style": "IPY_MODEL_3a0d4a8895f14c1991b82b7e569af582",
       "tabbable": null,
       "tooltip": null,
       "value": 100.0
      }
     },
     "8b0b3a0054bd475db1fb7db74d7aac1f": {
      "model_module": "@jupyter-widgets/base",
      "model_module_version": "2.0.0",
      "model_name": "LayoutModel",
      "state": {
       "_model_module": "@jupyter-widgets/base",
       "_model_module_version": "2.0.0",
       "_model_name": "LayoutModel",
       "_view_count": null,
       "_view_module": "@jupyter-widgets/base",
       "_view_module_version": "2.0.0",
       "_view_name": "LayoutView",
       "align_content": null,
       "align_items": null,
       "align_self": null,
       "border_bottom": null,
       "border_left": null,
       "border_right": null,
       "border_top": null,
       "bottom": null,
       "display": null,
       "flex": "2",
       "flex_flow": null,
       "grid_area": null,
       "grid_auto_columns": null,
       "grid_auto_flow": null,
       "grid_auto_rows": null,
       "grid_column": null,
       "grid_gap": null,
       "grid_row": null,
       "grid_template_areas": null,
       "grid_template_columns": null,
       "grid_template_rows": null,
       "height": null,
       "justify_content": null,
       "justify_items": null,
       "left": null,
       "margin": null,
       "max_height": null,
       "max_width": null,
       "min_height": null,
       "min_width": null,
       "object_fit": null,
       "object_position": null,
       "order": null,
       "overflow": null,
       "padding": null,
       "right": null,
       "top": null,
       "visibility": null,
       "width": null
      }
     },
     "8f6acc38407d4d3ebb07edae76dd6199": {
      "model_module": "@jupyter-widgets/controls",
      "model_module_version": "2.0.0",
      "model_name": "ProgressStyleModel",
      "state": {
       "_model_module": "@jupyter-widgets/controls",
       "_model_module_version": "2.0.0",
       "_model_name": "ProgressStyleModel",
       "_view_count": null,
       "_view_module": "@jupyter-widgets/base",
       "_view_module_version": "2.0.0",
       "_view_name": "StyleView",
       "bar_color": "#365c8d",
       "description_width": ""
      }
     },
     "93e8ce1d73d549149dbb6484685984ae": {
      "model_module": "@jupyter-widgets/base",
      "model_module_version": "2.0.0",
      "model_name": "LayoutModel",
      "state": {
       "_model_module": "@jupyter-widgets/base",
       "_model_module_version": "2.0.0",
       "_model_name": "LayoutModel",
       "_view_count": null,
       "_view_module": "@jupyter-widgets/base",
       "_view_module_version": "2.0.0",
       "_view_name": "LayoutView",
       "align_content": null,
       "align_items": null,
       "align_self": null,
       "border_bottom": null,
       "border_left": null,
       "border_right": null,
       "border_top": null,
       "bottom": null,
       "display": null,
       "flex": null,
       "flex_flow": null,
       "grid_area": null,
       "grid_auto_columns": null,
       "grid_auto_flow": null,
       "grid_auto_rows": null,
       "grid_column": null,
       "grid_gap": null,
       "grid_row": null,
       "grid_template_areas": null,
       "grid_template_columns": null,
       "grid_template_rows": null,
       "height": null,
       "justify_content": null,
       "justify_items": null,
       "left": null,
       "margin": null,
       "max_height": null,
       "max_width": null,
       "min_height": null,
       "min_width": null,
       "object_fit": null,
       "object_position": null,
       "order": null,
       "overflow": null,
       "padding": null,
       "right": null,
       "top": null,
       "visibility": null,
       "width": null
      }
     },
     "a2be98b0f488427ba5d6817a2db23227": {
      "model_module": "@jupyter-widgets/controls",
      "model_module_version": "2.0.0",
      "model_name": "ProgressStyleModel",
      "state": {
       "_model_module": "@jupyter-widgets/controls",
       "_model_module_version": "2.0.0",
       "_model_name": "ProgressStyleModel",
       "_view_count": null,
       "_view_module": "@jupyter-widgets/base",
       "_view_module_version": "2.0.0",
       "_view_name": "StyleView",
       "bar_color": "#440154",
       "description_width": ""
      }
     },
     "a53875cdeb7844bda6df64ef15b20cff": {
      "model_module": "@jupyter-widgets/base",
      "model_module_version": "2.0.0",
      "model_name": "LayoutModel",
      "state": {
       "_model_module": "@jupyter-widgets/base",
       "_model_module_version": "2.0.0",
       "_model_name": "LayoutModel",
       "_view_count": null,
       "_view_module": "@jupyter-widgets/base",
       "_view_module_version": "2.0.0",
       "_view_name": "LayoutView",
       "align_content": null,
       "align_items": null,
       "align_self": null,
       "border_bottom": null,
       "border_left": null,
       "border_right": null,
       "border_top": null,
       "bottom": null,
       "display": "inline-flex",
       "flex": null,
       "flex_flow": "row wrap",
       "grid_area": null,
       "grid_auto_columns": null,
       "grid_auto_flow": null,
       "grid_auto_rows": null,
       "grid_column": null,
       "grid_gap": null,
       "grid_row": null,
       "grid_template_areas": null,
       "grid_template_columns": null,
       "grid_template_rows": null,
       "height": null,
       "justify_content": null,
       "justify_items": null,
       "left": null,
       "margin": null,
       "max_height": null,
       "max_width": null,
       "min_height": null,
       "min_width": null,
       "object_fit": null,
       "object_position": null,
       "order": null,
       "overflow": null,
       "padding": null,
       "right": null,
       "top": null,
       "visibility": null,
       "width": "100%"
      }
     },
     "a58cc066e31a447482d5111e0311587d": {
      "model_module": "@jupyter-widgets/controls",
      "model_module_version": "2.0.0",
      "model_name": "ProgressStyleModel",
      "state": {
       "_model_module": "@jupyter-widgets/controls",
       "_model_module_version": "2.0.0",
       "_model_name": "ProgressStyleModel",
       "_view_count": null,
       "_view_module": "@jupyter-widgets/base",
       "_view_module_version": "2.0.0",
       "_view_name": "StyleView",
       "bar_color": "#a0da39",
       "description_width": ""
      }
     },
     "a5efb408583442118540155fe8257c2f": {
      "model_module": "@jupyter-widgets/controls",
      "model_module_version": "2.0.0",
      "model_name": "HTMLModel",
      "state": {
       "_dom_classes": [],
       "_model_module": "@jupyter-widgets/controls",
       "_model_module_version": "2.0.0",
       "_model_name": "HTMLModel",
       "_view_count": null,
       "_view_module": "@jupyter-widgets/controls",
       "_view_module_version": "2.0.0",
       "_view_name": "HTMLView",
       "description": "",
       "description_allow_html": false,
       "layout": "IPY_MODEL_b88f1f4cfc4b4694a0345c264142f8b8",
       "placeholder": "​",
       "style": "IPY_MODEL_f7fa9fd55e1f43088f22aa12701767fe",
       "tabbable": null,
       "tooltip": null,
       "value": " 4/4 [00:41&lt;00:00, 10.33s/it]"
      }
     },
     "b72b99e6e92843cd9285f1c8078919cb": {
      "model_module": "@jupyter-widgets/base",
      "model_module_version": "2.0.0",
      "model_name": "LayoutModel",
      "state": {
       "_model_module": "@jupyter-widgets/base",
       "_model_module_version": "2.0.0",
       "_model_name": "LayoutModel",
       "_view_count": null,
       "_view_module": "@jupyter-widgets/base",
       "_view_module_version": "2.0.0",
       "_view_name": "LayoutView",
       "align_content": null,
       "align_items": null,
       "align_self": null,
       "border_bottom": null,
       "border_left": null,
       "border_right": null,
       "border_top": null,
       "bottom": null,
       "display": "inline-flex",
       "flex": null,
       "flex_flow": "row wrap",
       "grid_area": null,
       "grid_auto_columns": null,
       "grid_auto_flow": null,
       "grid_auto_rows": null,
       "grid_column": null,
       "grid_gap": null,
       "grid_row": null,
       "grid_template_areas": null,
       "grid_template_columns": null,
       "grid_template_rows": null,
       "height": null,
       "justify_content": null,
       "justify_items": null,
       "left": null,
       "margin": null,
       "max_height": null,
       "max_width": null,
       "min_height": null,
       "min_width": null,
       "object_fit": null,
       "object_position": null,
       "order": null,
       "overflow": null,
       "padding": null,
       "right": null,
       "top": null,
       "visibility": null,
       "width": "100%"
      }
     },
     "b791568db1ea45a692148d9a8a299908": {
      "model_module": "@jupyter-widgets/base",
      "model_module_version": "2.0.0",
      "model_name": "LayoutModel",
      "state": {
       "_model_module": "@jupyter-widgets/base",
       "_model_module_version": "2.0.0",
       "_model_name": "LayoutModel",
       "_view_count": null,
       "_view_module": "@jupyter-widgets/base",
       "_view_module_version": "2.0.0",
       "_view_name": "LayoutView",
       "align_content": null,
       "align_items": null,
       "align_self": null,
       "border_bottom": null,
       "border_left": null,
       "border_right": null,
       "border_top": null,
       "bottom": null,
       "display": null,
       "flex": "2",
       "flex_flow": null,
       "grid_area": null,
       "grid_auto_columns": null,
       "grid_auto_flow": null,
       "grid_auto_rows": null,
       "grid_column": null,
       "grid_gap": null,
       "grid_row": null,
       "grid_template_areas": null,
       "grid_template_columns": null,
       "grid_template_rows": null,
       "height": null,
       "justify_content": null,
       "justify_items": null,
       "left": null,
       "margin": null,
       "max_height": null,
       "max_width": null,
       "min_height": null,
       "min_width": null,
       "object_fit": null,
       "object_position": null,
       "order": null,
       "overflow": null,
       "padding": null,
       "right": null,
       "top": null,
       "visibility": null,
       "width": null
      }
     },
     "b88f1f4cfc4b4694a0345c264142f8b8": {
      "model_module": "@jupyter-widgets/base",
      "model_module_version": "2.0.0",
      "model_name": "LayoutModel",
      "state": {
       "_model_module": "@jupyter-widgets/base",
       "_model_module_version": "2.0.0",
       "_model_name": "LayoutModel",
       "_view_count": null,
       "_view_module": "@jupyter-widgets/base",
       "_view_module_version": "2.0.0",
       "_view_name": "LayoutView",
       "align_content": null,
       "align_items": null,
       "align_self": null,
       "border_bottom": null,
       "border_left": null,
       "border_right": null,
       "border_top": null,
       "bottom": null,
       "display": null,
       "flex": null,
       "flex_flow": null,
       "grid_area": null,
       "grid_auto_columns": null,
       "grid_auto_flow": null,
       "grid_auto_rows": null,
       "grid_column": null,
       "grid_gap": null,
       "grid_row": null,
       "grid_template_areas": null,
       "grid_template_columns": null,
       "grid_template_rows": null,
       "height": null,
       "justify_content": null,
       "justify_items": null,
       "left": null,
       "margin": null,
       "max_height": null,
       "max_width": null,
       "min_height": null,
       "min_width": null,
       "object_fit": null,
       "object_position": null,
       "order": null,
       "overflow": null,
       "padding": null,
       "right": null,
       "top": null,
       "visibility": null,
       "width": null
      }
     },
     "b9a7c9e4c1564948bada375f434310c8": {
      "model_module": "@jupyter-widgets/base",
      "model_module_version": "2.0.0",
      "model_name": "LayoutModel",
      "state": {
       "_model_module": "@jupyter-widgets/base",
       "_model_module_version": "2.0.0",
       "_model_name": "LayoutModel",
       "_view_count": null,
       "_view_module": "@jupyter-widgets/base",
       "_view_module_version": "2.0.0",
       "_view_name": "LayoutView",
       "align_content": null,
       "align_items": null,
       "align_self": null,
       "border_bottom": null,
       "border_left": null,
       "border_right": null,
       "border_top": null,
       "bottom": null,
       "display": "inline-flex",
       "flex": null,
       "flex_flow": "row wrap",
       "grid_area": null,
       "grid_auto_columns": null,
       "grid_auto_flow": null,
       "grid_auto_rows": null,
       "grid_column": null,
       "grid_gap": null,
       "grid_row": null,
       "grid_template_areas": null,
       "grid_template_columns": null,
       "grid_template_rows": null,
       "height": null,
       "justify_content": null,
       "justify_items": null,
       "left": null,
       "margin": null,
       "max_height": null,
       "max_width": null,
       "min_height": null,
       "min_width": null,
       "object_fit": null,
       "object_position": null,
       "order": null,
       "overflow": null,
       "padding": null,
       "right": null,
       "top": null,
       "visibility": null,
       "width": "100%"
      }
     },
     "bc8a1c02b8e7432dba972e6474eeabd1": {
      "model_module": "@jupyter-widgets/controls",
      "model_module_version": "2.0.0",
      "model_name": "ProgressStyleModel",
      "state": {
       "_model_module": "@jupyter-widgets/controls",
       "_model_module_version": "2.0.0",
       "_model_name": "ProgressStyleModel",
       "_view_count": null,
       "_view_module": "@jupyter-widgets/base",
       "_view_module_version": "2.0.0",
       "_view_name": "StyleView",
       "bar_color": "#46327e",
       "description_width": ""
      }
     },
     "bff963ce8ae84ba0917c8cb657952bcd": {
      "model_module": "@jupyter-widgets/base",
      "model_module_version": "2.0.0",
      "model_name": "LayoutModel",
      "state": {
       "_model_module": "@jupyter-widgets/base",
       "_model_module_version": "2.0.0",
       "_model_name": "LayoutModel",
       "_view_count": null,
       "_view_module": "@jupyter-widgets/base",
       "_view_module_version": "2.0.0",
       "_view_name": "LayoutView",
       "align_content": null,
       "align_items": null,
       "align_self": null,
       "border_bottom": null,
       "border_left": null,
       "border_right": null,
       "border_top": null,
       "bottom": null,
       "display": null,
       "flex": null,
       "flex_flow": null,
       "grid_area": null,
       "grid_auto_columns": null,
       "grid_auto_flow": null,
       "grid_auto_rows": null,
       "grid_column": null,
       "grid_gap": null,
       "grid_row": null,
       "grid_template_areas": null,
       "grid_template_columns": null,
       "grid_template_rows": null,
       "height": null,
       "justify_content": null,
       "justify_items": null,
       "left": null,
       "margin": null,
       "max_height": null,
       "max_width": null,
       "min_height": null,
       "min_width": null,
       "object_fit": null,
       "object_position": null,
       "order": null,
       "overflow": null,
       "padding": null,
       "right": null,
       "top": null,
       "visibility": null,
       "width": null
      }
     },
     "c1097017948a473c813cd43d9007a866": {
      "model_module": "@jupyter-widgets/base",
      "model_module_version": "2.0.0",
      "model_name": "LayoutModel",
      "state": {
       "_model_module": "@jupyter-widgets/base",
       "_model_module_version": "2.0.0",
       "_model_name": "LayoutModel",
       "_view_count": null,
       "_view_module": "@jupyter-widgets/base",
       "_view_module_version": "2.0.0",
       "_view_name": "LayoutView",
       "align_content": null,
       "align_items": null,
       "align_self": null,
       "border_bottom": null,
       "border_left": null,
       "border_right": null,
       "border_top": null,
       "bottom": null,
       "display": null,
       "flex": null,
       "flex_flow": null,
       "grid_area": null,
       "grid_auto_columns": null,
       "grid_auto_flow": null,
       "grid_auto_rows": null,
       "grid_column": null,
       "grid_gap": null,
       "grid_row": null,
       "grid_template_areas": null,
       "grid_template_columns": null,
       "grid_template_rows": null,
       "height": null,
       "justify_content": null,
       "justify_items": null,
       "left": null,
       "margin": null,
       "max_height": null,
       "max_width": null,
       "min_height": null,
       "min_width": null,
       "object_fit": null,
       "object_position": null,
       "order": null,
       "overflow": null,
       "padding": null,
       "right": null,
       "top": null,
       "visibility": null,
       "width": null
      }
     },
     "c65ea01ceaf44de8a616a1bf4c1a9031": {
      "model_module": "@jupyter-widgets/controls",
      "model_module_version": "2.0.0",
      "model_name": "HTMLStyleModel",
      "state": {
       "_model_module": "@jupyter-widgets/controls",
       "_model_module_version": "2.0.0",
       "_model_name": "HTMLStyleModel",
       "_view_count": null,
       "_view_module": "@jupyter-widgets/base",
       "_view_module_version": "2.0.0",
       "_view_name": "StyleView",
       "background": null,
       "description_width": "",
       "font_size": null,
       "text_color": null
      }
     },
     "c77f6bd655fc47789eeaa6e23485395c": {
      "model_module": "@jupyter-widgets/controls",
      "model_module_version": "2.0.0",
      "model_name": "HBoxModel",
      "state": {
       "_dom_classes": [],
       "_model_module": "@jupyter-widgets/controls",
       "_model_module_version": "2.0.0",
       "_model_name": "HBoxModel",
       "_view_count": null,
       "_view_module": "@jupyter-widgets/controls",
       "_view_module_version": "2.0.0",
       "_view_name": "HBoxView",
       "box_style": "",
       "children": [
        "IPY_MODEL_e2eb9eb7b18642e2a1dc850379488ac3",
        "IPY_MODEL_f11da58bd05842c4a5c76928f6b9e63d",
        "IPY_MODEL_89d63511aaa4489ab0fb74260bfbad60"
       ],
       "layout": "IPY_MODEL_16c2dd6e7eb04da4af415696dac4b522",
       "tabbable": null,
       "tooltip": null
      }
     },
     "d2af7d0a7fef4ec5bc69395facbbbd0c": {
      "model_module": "@jupyter-widgets/controls",
      "model_module_version": "2.0.0",
      "model_name": "FloatProgressModel",
      "state": {
       "_dom_classes": [],
       "_model_module": "@jupyter-widgets/controls",
       "_model_module_version": "2.0.0",
       "_model_name": "FloatProgressModel",
       "_view_count": null,
       "_view_module": "@jupyter-widgets/controls",
       "_view_module_version": "2.0.0",
       "_view_name": "ProgressView",
       "bar_style": "success",
       "description": "",
       "description_allow_html": false,
       "layout": "IPY_MODEL_dca8eb13f55e48faba9600834539db19",
       "max": 23040.0,
       "min": 0.0,
       "orientation": "horizontal",
       "style": "IPY_MODEL_bc8a1c02b8e7432dba972e6474eeabd1",
       "tabbable": null,
       "tooltip": null,
       "value": 23040.0
      }
     },
     "d84b75cc77244930a069f983583131fa": {
      "model_module": "@jupyter-widgets/base",
      "model_module_version": "2.0.0",
      "model_name": "LayoutModel",
      "state": {
       "_model_module": "@jupyter-widgets/base",
       "_model_module_version": "2.0.0",
       "_model_name": "LayoutModel",
       "_view_count": null,
       "_view_module": "@jupyter-widgets/base",
       "_view_module_version": "2.0.0",
       "_view_name": "LayoutView",
       "align_content": null,
       "align_items": null,
       "align_self": null,
       "border_bottom": null,
       "border_left": null,
       "border_right": null,
       "border_top": null,
       "bottom": null,
       "display": null,
       "flex": null,
       "flex_flow": null,
       "grid_area": null,
       "grid_auto_columns": null,
       "grid_auto_flow": null,
       "grid_auto_rows": null,
       "grid_column": null,
       "grid_gap": null,
       "grid_row": null,
       "grid_template_areas": null,
       "grid_template_columns": null,
       "grid_template_rows": null,
       "height": null,
       "justify_content": null,
       "justify_items": null,
       "left": null,
       "margin": null,
       "max_height": null,
       "max_width": null,
       "min_height": null,
       "min_width": null,
       "object_fit": null,
       "object_position": null,
       "order": null,
       "overflow": null,
       "padding": null,
       "right": null,
       "top": null,
       "visibility": null,
       "width": null
      }
     },
     "d87b1467b29e48128d28e401df6bc770": {
      "model_module": "@jupyter-widgets/controls",
      "model_module_version": "2.0.0",
      "model_name": "HTMLStyleModel",
      "state": {
       "_model_module": "@jupyter-widgets/controls",
       "_model_module_version": "2.0.0",
       "_model_name": "HTMLStyleModel",
       "_view_count": null,
       "_view_module": "@jupyter-widgets/base",
       "_view_module_version": "2.0.0",
       "_view_name": "StyleView",
       "background": null,
       "description_width": "",
       "font_size": null,
       "text_color": null
      }
     },
     "da01dbd1ccc04672b0c50572a6b6f679": {
      "model_module": "@jupyter-widgets/base",
      "model_module_version": "2.0.0",
      "model_name": "LayoutModel",
      "state": {
       "_model_module": "@jupyter-widgets/base",
       "_model_module_version": "2.0.0",
       "_model_name": "LayoutModel",
       "_view_count": null,
       "_view_module": "@jupyter-widgets/base",
       "_view_module_version": "2.0.0",
       "_view_name": "LayoutView",
       "align_content": null,
       "align_items": null,
       "align_self": null,
       "border_bottom": null,
       "border_left": null,
       "border_right": null,
       "border_top": null,
       "bottom": null,
       "display": null,
       "flex": "2",
       "flex_flow": null,
       "grid_area": null,
       "grid_auto_columns": null,
       "grid_auto_flow": null,
       "grid_auto_rows": null,
       "grid_column": null,
       "grid_gap": null,
       "grid_row": null,
       "grid_template_areas": null,
       "grid_template_columns": null,
       "grid_template_rows": null,
       "height": null,
       "justify_content": null,
       "justify_items": null,
       "left": null,
       "margin": null,
       "max_height": null,
       "max_width": null,
       "min_height": null,
       "min_width": null,
       "object_fit": null,
       "object_position": null,
       "order": null,
       "overflow": null,
       "padding": null,
       "right": null,
       "top": null,
       "visibility": null,
       "width": null
      }
     },
     "dc64a31d7d8840a38cb603b90e69aea2": {
      "model_module": "@jupyter-widgets/base",
      "model_module_version": "2.0.0",
      "model_name": "LayoutModel",
      "state": {
       "_model_module": "@jupyter-widgets/base",
       "_model_module_version": "2.0.0",
       "_model_name": "LayoutModel",
       "_view_count": null,
       "_view_module": "@jupyter-widgets/base",
       "_view_module_version": "2.0.0",
       "_view_name": "LayoutView",
       "align_content": null,
       "align_items": null,
       "align_self": null,
       "border_bottom": null,
       "border_left": null,
       "border_right": null,
       "border_top": null,
       "bottom": null,
       "display": null,
       "flex": null,
       "flex_flow": null,
       "grid_area": null,
       "grid_auto_columns": null,
       "grid_auto_flow": null,
       "grid_auto_rows": null,
       "grid_column": null,
       "grid_gap": null,
       "grid_row": null,
       "grid_template_areas": null,
       "grid_template_columns": null,
       "grid_template_rows": null,
       "height": null,
       "justify_content": null,
       "justify_items": null,
       "left": null,
       "margin": null,
       "max_height": null,
       "max_width": null,
       "min_height": null,
       "min_width": null,
       "object_fit": null,
       "object_position": null,
       "order": null,
       "overflow": null,
       "padding": null,
       "right": null,
       "top": null,
       "visibility": null,
       "width": null
      }
     },
     "dca8eb13f55e48faba9600834539db19": {
      "model_module": "@jupyter-widgets/base",
      "model_module_version": "2.0.0",
      "model_name": "LayoutModel",
      "state": {
       "_model_module": "@jupyter-widgets/base",
       "_model_module_version": "2.0.0",
       "_model_name": "LayoutModel",
       "_view_count": null,
       "_view_module": "@jupyter-widgets/base",
       "_view_module_version": "2.0.0",
       "_view_name": "LayoutView",
       "align_content": null,
       "align_items": null,
       "align_self": null,
       "border_bottom": null,
       "border_left": null,
       "border_right": null,
       "border_top": null,
       "bottom": null,
       "display": null,
       "flex": "2",
       "flex_flow": null,
       "grid_area": null,
       "grid_auto_columns": null,
       "grid_auto_flow": null,
       "grid_auto_rows": null,
       "grid_column": null,
       "grid_gap": null,
       "grid_row": null,
       "grid_template_areas": null,
       "grid_template_columns": null,
       "grid_template_rows": null,
       "height": null,
       "justify_content": null,
       "justify_items": null,
       "left": null,
       "margin": null,
       "max_height": null,
       "max_width": null,
       "min_height": null,
       "min_width": null,
       "object_fit": null,
       "object_position": null,
       "order": null,
       "overflow": null,
       "padding": null,
       "right": null,
       "top": null,
       "visibility": null,
       "width": null
      }
     },
     "e2eb9eb7b18642e2a1dc850379488ac3": {
      "model_module": "@jupyter-widgets/controls",
      "model_module_version": "2.0.0",
      "model_name": "HTMLModel",
      "state": {
       "_dom_classes": [],
       "_model_module": "@jupyter-widgets/controls",
       "_model_module_version": "2.0.0",
       "_model_name": "HTMLModel",
       "_view_count": null,
       "_view_module": "@jupyter-widgets/controls",
       "_view_module_version": "2.0.0",
       "_view_name": "HTMLView",
       "description": "",
       "description_allow_html": false,
       "layout": "IPY_MODEL_591fd5547a4c4911a0280d2b9cd0c495",
       "placeholder": "​",
       "style": "IPY_MODEL_efcbfa4fbb6d44eab4c018648683a849",
       "tabbable": null,
       "tooltip": null,
       "value": "Propagating errors: 100%"
      }
     },
     "e4983e5533934380b108aff2bacda998": {
      "model_module": "@jupyter-widgets/controls",
      "model_module_version": "2.0.0",
      "model_name": "FloatProgressModel",
      "state": {
       "_dom_classes": [],
       "_model_module": "@jupyter-widgets/controls",
       "_model_module_version": "2.0.0",
       "_model_name": "FloatProgressModel",
       "_view_count": null,
       "_view_module": "@jupyter-widgets/controls",
       "_view_module_version": "2.0.0",
       "_view_name": "ProgressView",
       "bar_style": "success",
       "description": "",
       "description_allow_html": false,
       "layout": "IPY_MODEL_1a318df434e04540a66b09ce4a6f6efe",
       "max": 100.0,
       "min": 0.0,
       "orientation": "horizontal",
       "style": "IPY_MODEL_36dd196a2b0943f9b7fdd4a815b5a5c4",
       "tabbable": null,
       "tooltip": null,
       "value": 100.0
      }
     },
     "e93855111fb046dba19cb56a667a971a": {
      "model_module": "@jupyter-widgets/base",
      "model_module_version": "2.0.0",
      "model_name": "LayoutModel",
      "state": {
       "_model_module": "@jupyter-widgets/base",
       "_model_module_version": "2.0.0",
       "_model_name": "LayoutModel",
       "_view_count": null,
       "_view_module": "@jupyter-widgets/base",
       "_view_module_version": "2.0.0",
       "_view_name": "LayoutView",
       "align_content": null,
       "align_items": null,
       "align_self": null,
       "border_bottom": null,
       "border_left": null,
       "border_right": null,
       "border_top": null,
       "bottom": null,
       "display": null,
       "flex": null,
       "flex_flow": null,
       "grid_area": null,
       "grid_auto_columns": null,
       "grid_auto_flow": null,
       "grid_auto_rows": null,
       "grid_column": null,
       "grid_gap": null,
       "grid_row": null,
       "grid_template_areas": null,
       "grid_template_columns": null,
       "grid_template_rows": null,
       "height": null,
       "justify_content": null,
       "justify_items": null,
       "left": null,
       "margin": null,
       "max_height": null,
       "max_width": null,
       "min_height": null,
       "min_width": null,
       "object_fit": null,
       "object_position": null,
       "order": null,
       "overflow": null,
       "padding": null,
       "right": null,
       "top": null,
       "visibility": null,
       "width": null
      }
     },
     "ec919ac052ec40fd8262441237df6509": {
      "model_module": "@jupyter-widgets/controls",
      "model_module_version": "2.0.0",
      "model_name": "HTMLStyleModel",
      "state": {
       "_model_module": "@jupyter-widgets/controls",
       "_model_module_version": "2.0.0",
       "_model_name": "HTMLStyleModel",
       "_view_count": null,
       "_view_module": "@jupyter-widgets/base",
       "_view_module_version": "2.0.0",
       "_view_name": "StyleView",
       "background": null,
       "description_width": "",
       "font_size": null,
       "text_color": null
      }
     },
     "efcbfa4fbb6d44eab4c018648683a849": {
      "model_module": "@jupyter-widgets/controls",
      "model_module_version": "2.0.0",
      "model_name": "HTMLStyleModel",
      "state": {
       "_model_module": "@jupyter-widgets/controls",
       "_model_module_version": "2.0.0",
       "_model_name": "HTMLStyleModel",
       "_view_count": null,
       "_view_module": "@jupyter-widgets/base",
       "_view_module_version": "2.0.0",
       "_view_name": "StyleView",
       "background": null,
       "description_width": "",
       "font_size": null,
       "text_color": null
      }
     },
     "f11da58bd05842c4a5c76928f6b9e63d": {
      "model_module": "@jupyter-widgets/controls",
      "model_module_version": "2.0.0",
      "model_name": "FloatProgressModel",
      "state": {
       "_dom_classes": [],
       "_model_module": "@jupyter-widgets/controls",
       "_model_module_version": "2.0.0",
       "_model_name": "FloatProgressModel",
       "_view_count": null,
       "_view_module": "@jupyter-widgets/controls",
       "_view_module_version": "2.0.0",
       "_view_name": "ProgressView",
       "bar_style": "success",
       "description": "",
       "description_allow_html": false,
       "layout": "IPY_MODEL_8b0b3a0054bd475db1fb7db74d7aac1f",
       "max": 100.0,
       "min": 0.0,
       "orientation": "horizontal",
       "style": "IPY_MODEL_13617e08f0e74782b0945b34ebb8272d",
       "tabbable": null,
       "tooltip": null,
       "value": 100.0
      }
     },
     "f140af38305f4913b6104250e98a539d": {
      "model_module": "@jupyter-widgets/controls",
      "model_module_version": "2.0.0",
      "model_name": "HBoxModel",
      "state": {
       "_dom_classes": [],
       "_model_module": "@jupyter-widgets/controls",
       "_model_module_version": "2.0.0",
       "_model_name": "HBoxModel",
       "_view_count": null,
       "_view_module": "@jupyter-widgets/controls",
       "_view_module_version": "2.0.0",
       "_view_name": "HBoxView",
       "box_style": "",
       "children": [
        "IPY_MODEL_7362f703434a439095236a50b1edfbf3",
        "IPY_MODEL_09e1f363750e44f99dea9f0fa686a386",
        "IPY_MODEL_a5efb408583442118540155fe8257c2f"
       ],
       "layout": "IPY_MODEL_713164a8680541e48dd1f4003108b762",
       "tabbable": null,
       "tooltip": null
      }
     },
     "f6f7351a0f794ccba608e283dc1951a4": {
      "model_module": "@jupyter-widgets/controls",
      "model_module_version": "2.0.0",
      "model_name": "HTMLModel",
      "state": {
       "_dom_classes": [],
       "_model_module": "@jupyter-widgets/controls",
       "_model_module_version": "2.0.0",
       "_model_name": "HTMLModel",
       "_view_count": null,
       "_view_module": "@jupyter-widgets/controls",
       "_view_module_version": "2.0.0",
       "_view_name": "HTMLView",
       "description": "",
       "description_allow_html": false,
       "layout": "IPY_MODEL_bff963ce8ae84ba0917c8cb657952bcd",
       "placeholder": "​",
       "style": "IPY_MODEL_c65ea01ceaf44de8a616a1bf4c1a9031",
       "tabbable": null,
       "tooltip": null,
       "value": " 22.5k/22.5k [00:00&lt;00:00, 981kB/s]"
      }
     },
     "f7fa9fd55e1f43088f22aa12701767fe": {
      "model_module": "@jupyter-widgets/controls",
      "model_module_version": "2.0.0",
      "model_name": "HTMLStyleModel",
      "state": {
       "_model_module": "@jupyter-widgets/controls",
       "_model_module_version": "2.0.0",
       "_model_name": "HTMLStyleModel",
       "_view_count": null,
       "_view_module": "@jupyter-widgets/base",
       "_view_module_version": "2.0.0",
       "_view_name": "StyleView",
       "background": null,
       "description_width": "",
       "font_size": null,
       "text_color": null
      }
     },
     "f98c10dace194830930f7c66d490edcb": {
      "model_module": "@jupyter-widgets/controls",
      "model_module_version": "2.0.0",
      "model_name": "HTMLModel",
      "state": {
       "_dom_classes": [],
       "_model_module": "@jupyter-widgets/controls",
       "_model_module_version": "2.0.0",
       "_model_name": "HTMLModel",
       "_view_count": null,
       "_view_module": "@jupyter-widgets/controls",
       "_view_module_version": "2.0.0",
       "_view_name": "HTMLView",
       "description": "",
       "description_allow_html": false,
       "layout": "IPY_MODEL_dc64a31d7d8840a38cb603b90e69aea2",
       "placeholder": "​",
       "style": "IPY_MODEL_fe053881d3f1467b9b3c98e25bae14ef",
       "tabbable": null,
       "tooltip": null,
       "value": " 100/100 [00:10&lt;00:00,  9.67it/s]"
      }
     },
     "fa417920e17c4ce8a6eac20d4574de4f": {
      "model_module": "@jupyter-widgets/base",
      "model_module_version": "2.0.0",
      "model_name": "LayoutModel",
      "state": {
       "_model_module": "@jupyter-widgets/base",
       "_model_module_version": "2.0.0",
       "_model_name": "LayoutModel",
       "_view_count": null,
       "_view_module": "@jupyter-widgets/base",
       "_view_module_version": "2.0.0",
       "_view_name": "LayoutView",
       "align_content": null,
       "align_items": null,
       "align_self": null,
       "border_bottom": null,
       "border_left": null,
       "border_right": null,
       "border_top": null,
       "bottom": null,
       "display": null,
       "flex": null,
       "flex_flow": null,
       "grid_area": null,
       "grid_auto_columns": null,
       "grid_auto_flow": null,
       "grid_auto_rows": null,
       "grid_column": null,
       "grid_gap": null,
       "grid_row": null,
       "grid_template_areas": null,
       "grid_template_columns": null,
       "grid_template_rows": null,
       "height": null,
       "justify_content": null,
       "justify_items": null,
       "left": null,
       "margin": null,
       "max_height": null,
       "max_width": null,
       "min_height": null,
       "min_width": null,
       "object_fit": null,
       "object_position": null,
       "order": null,
       "overflow": null,
       "padding": null,
       "right": null,
       "top": null,
       "visibility": null,
       "width": null
      }
     },
     "fe053881d3f1467b9b3c98e25bae14ef": {
      "model_module": "@jupyter-widgets/controls",
      "model_module_version": "2.0.0",
      "model_name": "HTMLStyleModel",
      "state": {
       "_model_module": "@jupyter-widgets/controls",
       "_model_module_version": "2.0.0",
       "_model_name": "HTMLStyleModel",
       "_view_count": null,
       "_view_module": "@jupyter-widgets/base",
       "_view_module_version": "2.0.0",
       "_view_name": "StyleView",
       "background": null,
       "description_width": "",
       "font_size": null,
       "text_color": null
      }
     }
    },
    "version_major": 2,
    "version_minor": 0
   }
  }
 },
 "nbformat": 4,
 "nbformat_minor": 5
}
