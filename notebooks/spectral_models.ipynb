{
 "cells": [
  {
   "cell_type": "markdown",
   "id": "da53f14b",
   "metadata": {},
   "source": [
    "# Spectral Models\n",
    "\n",
    "Spectral models are provided via astromodels. For details, visit the astromodels [documentation](http://astromodels.readthedocs.io/en/latest/Model_tutorial.html).\n",
    "\n",
    "The important points are breifly covered below.\n",
    "\n"
   ]
  },
  {
   "cell_type": "markdown",
   "id": "9b7d2559",
   "metadata": {},
   "source": [
    "## Building Custom Models\n",
    "\n",
    "One of the most powerful aspects of astromodels and 3ML is the ability to quickly build custom models on the fly. The source code for a model can be pure python, FORTRAN linked via f2py, C++ linked via cython, etc. Anything that provides a python function can be used to fit data.\n",
    "\n",
    "To build a custom spectral model in 3ML, we need to import a few things that will allow astromodels to recognize your model."
   ]
  },
  {
   "cell_type": "code",
   "execution_count": 1,
   "id": "f728d6e6",
   "metadata": {
    "execution": {
     "iopub.execute_input": "2024-09-20T23:15:42.464723Z",
     "iopub.status.busy": "2024-09-20T23:15:42.464218Z",
     "iopub.status.idle": "2024-09-20T23:15:44.799625Z",
     "shell.execute_reply": "2024-09-20T23:15:44.798966Z"
    },
    "lines_to_next_cell": 2
   },
   "outputs": [
    {
     "data": {
      "text/html": [
       "<pre style=\"white-space:pre;overflow-x:auto;line-height:normal;font-family:Menlo,'DejaVu Sans Mono',consolas,'Courier New',monospace\"><span style=\"color: #00ff00; text-decoration-color: #00ff00\">23:15:43 </span><span style=\"color: #af5fd7; text-decoration-color: #af5fd7\">WARNING </span> <span style=\"color: #c6c6c6; text-decoration-color: #c6c6c6; font-weight: bold\"> The naima package is not available. Models that depend on it will not be         </span><a href=\"file:///opt/hostedtoolcache/Python/3.9.20/x64/lib/python3.9/site-packages/astromodels/functions/functions_1D/functions.py\" target=\"_blank\"><span style=\"color: #7f7f7f; text-decoration-color: #7f7f7f\">functions.py</span></a><span style=\"color: #7f7f7f; text-decoration-color: #7f7f7f\">:</span><a href=\"file:///opt/hostedtoolcache/Python/3.9.20/x64/lib/python3.9/site-packages/astromodels/functions/functions_1D/functions.py#48\" target=\"_blank\"><span style=\"color: #7f7f7f; text-decoration-color: #7f7f7f\">48</span></a>\n",
       "<span style=\"color: #00ff00; text-decoration-color: #00ff00\">         </span>         <span style=\"color: #c6c6c6; text-decoration-color: #c6c6c6; font-weight: bold\">available                                                                         </span><span style=\"color: #7f7f7f; text-decoration-color: #7f7f7f\">               </span>\n",
       "</pre>\n"
      ],
      "text/plain": [
       "\u001b[38;5;46m23:15:43\u001b[0m\u001b[38;5;46m \u001b[0m\u001b[38;5;134mWARNING \u001b[0m \u001b[1;38;5;251m The naima package is not available. Models that depend on it will not be        \u001b[0m\u001b[1;38;5;251m \u001b[0m\u001b]8;id=461311;file:///opt/hostedtoolcache/Python/3.9.20/x64/lib/python3.9/site-packages/astromodels/functions/functions_1D/functions.py\u001b\\\u001b[2mfunctions.py\u001b[0m\u001b]8;;\u001b\\\u001b[2m:\u001b[0m\u001b]8;id=477236;file:///opt/hostedtoolcache/Python/3.9.20/x64/lib/python3.9/site-packages/astromodels/functions/functions_1D/functions.py#48\u001b\\\u001b[2m48\u001b[0m\u001b]8;;\u001b\\\n",
       "\u001b[38;5;46m         \u001b[0m         \u001b[1;38;5;251mavailable                                                                        \u001b[0m\u001b[1;38;5;251m \u001b[0m\u001b[2m               \u001b[0m\n"
      ]
     },
     "metadata": {},
     "output_type": "display_data"
    },
    {
     "data": {
      "text/html": [
       "<pre style=\"white-space:pre;overflow-x:auto;line-height:normal;font-family:Menlo,'DejaVu Sans Mono',consolas,'Courier New',monospace\"><span style=\"color: #00ff00; text-decoration-color: #00ff00\">         </span><span style=\"color: #af5fd7; text-decoration-color: #af5fd7\">WARNING </span> <span style=\"color: #c6c6c6; text-decoration-color: #c6c6c6; font-weight: bold\"> The GSL library or the pygsl wrapper cannot be loaded. Models that depend on it  </span><a href=\"file:///opt/hostedtoolcache/Python/3.9.20/x64/lib/python3.9/site-packages/astromodels/functions/functions_1D/functions.py\" target=\"_blank\"><span style=\"color: #7f7f7f; text-decoration-color: #7f7f7f\">functions.py</span></a><span style=\"color: #7f7f7f; text-decoration-color: #7f7f7f\">:</span><a href=\"file:///opt/hostedtoolcache/Python/3.9.20/x64/lib/python3.9/site-packages/astromodels/functions/functions_1D/functions.py#69\" target=\"_blank\"><span style=\"color: #7f7f7f; text-decoration-color: #7f7f7f\">69</span></a>\n",
       "<span style=\"color: #00ff00; text-decoration-color: #00ff00\">         </span>         <span style=\"color: #c6c6c6; text-decoration-color: #c6c6c6; font-weight: bold\">will not be available.                                                            </span><span style=\"color: #7f7f7f; text-decoration-color: #7f7f7f\">               </span>\n",
       "</pre>\n"
      ],
      "text/plain": [
       "\u001b[38;5;46m        \u001b[0m\u001b[38;5;46m \u001b[0m\u001b[38;5;134mWARNING \u001b[0m \u001b[1;38;5;251m The GSL library or the pygsl wrapper cannot be loaded. Models that depend on it \u001b[0m\u001b[1;38;5;251m \u001b[0m\u001b]8;id=588967;file:///opt/hostedtoolcache/Python/3.9.20/x64/lib/python3.9/site-packages/astromodels/functions/functions_1D/functions.py\u001b\\\u001b[2mfunctions.py\u001b[0m\u001b]8;;\u001b\\\u001b[2m:\u001b[0m\u001b]8;id=187291;file:///opt/hostedtoolcache/Python/3.9.20/x64/lib/python3.9/site-packages/astromodels/functions/functions_1D/functions.py#69\u001b\\\u001b[2m69\u001b[0m\u001b]8;;\u001b\\\n",
       "\u001b[38;5;46m         \u001b[0m         \u001b[1;38;5;251mwill not be available.                                                           \u001b[0m\u001b[1;38;5;251m \u001b[0m\u001b[2m               \u001b[0m\n"
      ]
     },
     "metadata": {},
     "output_type": "display_data"
    },
    {
     "data": {
      "text/html": [
       "<pre style=\"white-space:pre;overflow-x:auto;line-height:normal;font-family:Menlo,'DejaVu Sans Mono',consolas,'Courier New',monospace\"><span style=\"color: #00ff00; text-decoration-color: #00ff00\">23:15:44 </span><span style=\"color: #af5fd7; text-decoration-color: #af5fd7\">WARNING </span> <span style=\"color: #c6c6c6; text-decoration-color: #c6c6c6; font-weight: bold\"> The ebltable package is not available. Models that depend on it will not be     </span><a href=\"file:///opt/hostedtoolcache/Python/3.9.20/x64/lib/python3.9/site-packages/astromodels/functions/functions_1D/absorption.py\" target=\"_blank\"><span style=\"color: #7f7f7f; text-decoration-color: #7f7f7f\">absorption.py</span></a><span style=\"color: #7f7f7f; text-decoration-color: #7f7f7f\">:</span><a href=\"file:///opt/hostedtoolcache/Python/3.9.20/x64/lib/python3.9/site-packages/astromodels/functions/functions_1D/absorption.py#33\" target=\"_blank\"><span style=\"color: #7f7f7f; text-decoration-color: #7f7f7f\">33</span></a>\n",
       "<span style=\"color: #00ff00; text-decoration-color: #00ff00\">         </span>         <span style=\"color: #c6c6c6; text-decoration-color: #c6c6c6; font-weight: bold\">available                                                                        </span><span style=\"color: #7f7f7f; text-decoration-color: #7f7f7f\">                </span>\n",
       "</pre>\n"
      ],
      "text/plain": [
       "\u001b[38;5;46m23:15:44\u001b[0m\u001b[38;5;46m \u001b[0m\u001b[38;5;134mWARNING \u001b[0m \u001b[1;38;5;251m The ebltable package is not available. Models that depend on it will not be    \u001b[0m\u001b[1;38;5;251m \u001b[0m\u001b]8;id=227954;file:///opt/hostedtoolcache/Python/3.9.20/x64/lib/python3.9/site-packages/astromodels/functions/functions_1D/absorption.py\u001b\\\u001b[2mabsorption.py\u001b[0m\u001b]8;;\u001b\\\u001b[2m:\u001b[0m\u001b]8;id=934597;file:///opt/hostedtoolcache/Python/3.9.20/x64/lib/python3.9/site-packages/astromodels/functions/functions_1D/absorption.py#33\u001b\\\u001b[2m33\u001b[0m\u001b]8;;\u001b\\\n",
       "\u001b[38;5;46m         \u001b[0m         \u001b[1;38;5;251mavailable                                                                       \u001b[0m\u001b[1;38;5;251m \u001b[0m\u001b[2m                \u001b[0m\n"
      ]
     },
     "metadata": {},
     "output_type": "display_data"
    }
   ],
   "source": [
    "from astromodels.functions.function import (\n",
    "    Function1D,\n",
    "    FunctionMeta,\n",
    "    ModelAssertionViolation,\n",
    ")"
   ]
  },
  {
   "cell_type": "markdown",
   "id": "6947dece",
   "metadata": {
    "lines_to_next_cell": 2
   },
   "source": [
    "Function1D is the base class for 1D spectral models and FunctionMeta is ABC class that ensures all the needed parts of a model are in the class as well as making the class function as it should.\n",
    "\n",
    "\n",
    "There are three basic parts to declaring a model:\n",
    "\n",
    "* the docstring\n",
    "* the units setter\n",
    "* the evaluate function\n",
    "\n",
    "Let's look at the simple case of the power law already define in astromodels.\n"
   ]
  },
  {
   "cell_type": "code",
   "execution_count": 2,
   "id": "fca324c4",
   "metadata": {
    "execution": {
     "iopub.execute_input": "2024-09-20T23:15:44.801891Z",
     "iopub.status.busy": "2024-09-20T23:15:44.801574Z",
     "iopub.status.idle": "2024-09-20T23:15:44.809291Z",
     "shell.execute_reply": "2024-09-20T23:15:44.808783Z"
    },
    "lines_to_next_cell": 2
   },
   "outputs": [],
   "source": [
    "class Powerlaw(Function1D, metaclass=FunctionMeta):\n",
    "    r\"\"\"\n",
    "    description :\n",
    "        A simple power-law\n",
    "    latex : $ K~\\frac{x}{piv}^{index} $\n",
    "    parameters :\n",
    "        K :\n",
    "            desc : Normalization (differential flux at the pivot value)\n",
    "            initial value : 1.0\n",
    "            is_normalization : True\n",
    "            transformation : log10\n",
    "            min : 1e-30\n",
    "            max : 1e3\n",
    "            delta : 0.1\n",
    "        piv :\n",
    "            desc : Pivot value\n",
    "            initial value : 1\n",
    "            fix : yes\n",
    "        index :\n",
    "            desc : Photon index\n",
    "            initial value : -2\n",
    "            min : -10\n",
    "            max : 10\n",
    "\n",
    "    \"\"\"\n",
    "\n",
    "    def _set_units(self, x_unit, y_unit):\n",
    "        # The index is always dimensionless\n",
    "        self.index.unit = astropy_units.dimensionless_unscaled\n",
    "\n",
    "        # The pivot energy has always the same dimension as the x variable\n",
    "        self.piv.unit = x_unit\n",
    "\n",
    "        # The normalization has the same units as the y\n",
    "\n",
    "        self.K.unit = y_unit\n",
    "\n",
    "    # noinspection PyPep8Naming\n",
    "    def evaluate(self, x, K, piv, index):\n",
    "        xx = np.divide(x, piv)\n",
    "\n",
    "        return K * np.power(xx, index)"
   ]
  },
  {
   "cell_type": "markdown",
   "id": "1118cfff",
   "metadata": {},
   "source": [
    "### The docstring\n",
    "\n",
    "We have used the docstring interface to provide a YAML description of the model. This sets up the important information used in the fitting process and record keeping. The docstring has three parts:\n",
    "\n",
    "- description\n",
    "    - The description is a text string that provides readable info about the model. Nothing fancy, but good descriptions help to inform the user.\n",
    "- latex\n",
    "    - If the model is analytic, a latex formula can be included\n",
    "- parameters\n",
    "    - For each parameter, a description and initial value must be included. Transformations for fitting, min/max values and fixing the parameter can also be described here.\n",
    "\n",
    "\n",
    "Keep in mind that this is in YAML format.\n",
    "\n",
    "### Set units\n",
    "\n",
    "3ML and astromodels keep track of units for you. However, a model must be set up to properly describe the units with astropy's unit system. Keep in mind that models are fit with a differential photon flux,\n",
    "\n",
    "$$\\frac{d N_p}{dA dt dE}$$\n",
    "\n",
    "so your units should reflect this convention. Therefore, proper normalizations should be taken into account.\n",
    "\n",
    "\n",
    "### Evaluate\n",
    "This is where the function is evaluated. The first argumument **must be called x** and the parameter names and ordering must reflect what is in the docstring. Any number of operations can take place inside the evaluate call, but remember that the return must be in the form of a differential photon flux.\n",
    "\n",
    "\n",
    "A model is defined in a python session. If you save the results of a fit to an AnalysisResults file and try to load this file without loading this model, you will get a error,\n",
    "\n",
    "\n",
    "## Custom models in other langauges\n",
    "\n",
    "What if your model is built from a C++ function and you want to fit that directly to the data? using Cython, pybind, f2py, etc, you can wrap these models and call them easily."
   ]
  },
  {
   "cell_type": "code",
   "execution_count": 3,
   "id": "8e9ea36b",
   "metadata": {
    "execution": {
     "iopub.execute_input": "2024-09-20T23:15:44.811398Z",
     "iopub.status.busy": "2024-09-20T23:15:44.810949Z",
     "iopub.status.idle": "2024-09-20T23:15:44.814061Z",
     "shell.execute_reply": "2024-09-20T23:15:44.813429Z"
    }
   },
   "outputs": [],
   "source": [
    "\n",
    "\n",
    "def cpp_function_wrapper(a):\n",
    "    # we could wrap a c++ function here\n",
    "    # with cython, pybind11, etc\n",
    "\n",
    "    return a"
   ]
  },
  {
   "cell_type": "code",
   "execution_count": 4,
   "id": "65a24009",
   "metadata": {
    "execution": {
     "iopub.execute_input": "2024-09-20T23:15:44.816119Z",
     "iopub.status.busy": "2024-09-20T23:15:44.815673Z",
     "iopub.status.idle": "2024-09-20T23:15:44.819945Z",
     "shell.execute_reply": "2024-09-20T23:15:44.819315Z"
    }
   },
   "outputs": [
    {
     "data": {
      "text/plain": [
       "2.0"
      ]
     },
     "execution_count": 4,
     "metadata": {},
     "output_type": "execute_result"
    }
   ],
   "source": [
    "cpp_function_wrapper(2.0)"
   ]
  },
  {
   "cell_type": "markdown",
   "id": "1e8950a5",
   "metadata": {},
   "source": [
    "Now we will define a spectral model that will handle both the unit and non-unit call."
   ]
  },
  {
   "cell_type": "code",
   "execution_count": 5,
   "id": "9b2a3233",
   "metadata": {
    "execution": {
     "iopub.execute_input": "2024-09-20T23:15:44.821992Z",
     "iopub.status.busy": "2024-09-20T23:15:44.821611Z",
     "iopub.status.idle": "2024-09-20T23:15:44.827470Z",
     "shell.execute_reply": "2024-09-20T23:15:44.826911Z"
    }
   },
   "outputs": [],
   "source": [
    "import astropy.units as astropy_units\n",
    "\n",
    "\n",
    "class CppModel(Function1D, metaclass=FunctionMeta):\n",
    "    r\"\"\"\n",
    "    description :\n",
    "        A spectral model wrapping a cython function\n",
    "    latex : $$\n",
    "    parameters :\n",
    "        a :\n",
    "            desc : Normalization (differential flux)\n",
    "            initial value : 1.0\n",
    "            is_normalization : True\n",
    "            min : 1e-30\n",
    "            max : 1e3\n",
    "            delta : 0.1\n",
    "    \"\"\"\n",
    "\n",
    "    def _set_units(self, x_unit, y_unit):\n",
    "        # The normalization has the same units as the y\n",
    "\n",
    "        self.a.unit = y_unit\n",
    "\n",
    "    def evaluate(self, x, a):\n",
    "        # check is the function is being called with units\n",
    "\n",
    "        if isinstance(a, astropy_units.Quantity):\n",
    "            # get the values\n",
    "            a_ = a.value\n",
    "\n",
    "            # save the unit\n",
    "            unit_ = self.y_unit\n",
    "\n",
    "        else:\n",
    "            # we do not need to do anything here\n",
    "            a_ = a\n",
    "\n",
    "            # this will basically be ignored\n",
    "            unit_ = 1.0\n",
    "\n",
    "        # call the cython function\n",
    "        flux = cpp_function_wrapper(a_)\n",
    "\n",
    "        # add back the unit if needed\n",
    "        return flux * unit_"
   ]
  },
  {
   "cell_type": "markdown",
   "id": "30f2efc8",
   "metadata": {},
   "source": [
    "We can check the unit and non-unit call by making a point source and evaluating it"
   ]
  },
  {
   "cell_type": "code",
   "execution_count": 6,
   "id": "ca0cc764",
   "metadata": {
    "execution": {
     "iopub.execute_input": "2024-09-20T23:15:44.829524Z",
     "iopub.status.busy": "2024-09-20T23:15:44.829134Z",
     "iopub.status.idle": "2024-09-20T23:15:45.666771Z",
     "shell.execute_reply": "2024-09-20T23:15:45.666197Z"
    }
   },
   "outputs": [
    {
     "name": "stdout",
     "output_type": "stream",
     "text": [
      "1.0\n"
     ]
    },
    {
     "data": {
      "text/latex": [
       "$1 \\; \\mathrm{\\frac{1}{keV\\,s\\,cm^{2}}}$"
      ],
      "text/plain": [
       "<Quantity 1. 1 / (keV s cm2)>"
      ]
     },
     "execution_count": 6,
     "metadata": {},
     "output_type": "execute_result"
    }
   ],
   "source": [
    "cpp_spectrum = CppModel()\n",
    "\n",
    "from astromodels import PointSource\n",
    "\n",
    "point_source = PointSource(\"ps\", 0, 0, spectral_shape=cpp_spectrum)\n",
    "\n",
    "print(point_source(10.0))\n",
    "point_source(10.0 * astropy_units.keV)"
   ]
  },
  {
   "cell_type": "markdown",
   "id": "695a5efa",
   "metadata": {},
   "source": [
    "## Template (Table) Models\n",
    "\n",
    "3ML (via astromodels) provides the ability to construct models in tabluated form. This is very useful for models that are from numerical simualtions. While in other software special care must be taken to construct table models into FITS files, in 3ML the construction of the table model is taken care of for you. Here is an example of how to build a template model from a pre-existing function.\n",
    "\n",
    "### Constructing a template\n",
    "First, we grab a function and make an energy grid."
   ]
  },
  {
   "cell_type": "code",
   "execution_count": 7,
   "id": "c150af6e",
   "metadata": {
    "execution": {
     "iopub.execute_input": "2024-09-20T23:15:45.668792Z",
     "iopub.status.busy": "2024-09-20T23:15:45.668594Z",
     "iopub.status.idle": "2024-09-20T23:15:45.672987Z",
     "shell.execute_reply": "2024-09-20T23:15:45.672338Z"
    }
   },
   "outputs": [],
   "source": [
    "from astromodels import Band\n",
    "import numpy as np\n",
    "\n",
    "model = Band()\n",
    "\n",
    "# we won't need to modify the normalization\n",
    "model.K = 1.0\n",
    "\n",
    "\n",
    "# if no units are provided for the energy grid, keV will be assumed!\n",
    "energies = np.logspace(1, 3, 50)"
   ]
  },
  {
   "cell_type": "markdown",
   "id": "687e5332",
   "metadata": {},
   "source": [
    "Now we define a template model factory. This takes a name, a description, the energy grid and an array of parameter names as input."
   ]
  },
  {
   "cell_type": "code",
   "execution_count": 8,
   "id": "9bc51aa9",
   "metadata": {
    "execution": {
     "iopub.execute_input": "2024-09-20T23:15:45.675022Z",
     "iopub.status.busy": "2024-09-20T23:15:45.674638Z",
     "iopub.status.idle": "2024-09-20T23:15:45.681038Z",
     "shell.execute_reply": "2024-09-20T23:15:45.680510Z"
    }
   },
   "outputs": [
    {
     "data": {
      "text/html": [
       "<pre style=\"white-space:pre;overflow-x:auto;line-height:normal;font-family:Menlo,'DejaVu Sans Mono',consolas,'Courier New',monospace\"><span style=\"color: #00ff00; text-decoration-color: #00ff00\">23:15:45 </span><span style=\"color: #af5fd7; text-decoration-color: #af5fd7\">WARNING </span> <span style=\"color: #c6c6c6; text-decoration-color: #c6c6c6; font-weight: bold\"> Energy unit is not a Quantity instance, so units has not been provided.    </span><a href=\"file:///opt/hostedtoolcache/Python/3.9.20/x64/lib/python3.9/site-packages/astromodels/functions/template_model.py\" target=\"_blank\"><span style=\"color: #7f7f7f; text-decoration-color: #7f7f7f\">template_model.py</span></a><span style=\"color: #7f7f7f; text-decoration-color: #7f7f7f\">:</span><a href=\"file:///opt/hostedtoolcache/Python/3.9.20/x64/lib/python3.9/site-packages/astromodels/functions/template_model.py#126\" target=\"_blank\"><span style=\"color: #7f7f7f; text-decoration-color: #7f7f7f\">126</span></a>\n",
       "<span style=\"color: #00ff00; text-decoration-color: #00ff00\">         </span>         <span style=\"color: #c6c6c6; text-decoration-color: #c6c6c6; font-weight: bold\">Using keV.                                                                  </span><span style=\"color: #7f7f7f; text-decoration-color: #7f7f7f\">                     </span>\n",
       "</pre>\n"
      ],
      "text/plain": [
       "\u001b[38;5;46m23:15:45\u001b[0m\u001b[38;5;46m \u001b[0m\u001b[38;5;134mWARNING \u001b[0m \u001b[1;38;5;251m Energy unit is not a Quantity instance, so units has not been provided.   \u001b[0m\u001b[1;38;5;251m \u001b[0m\u001b]8;id=96073;file:///opt/hostedtoolcache/Python/3.9.20/x64/lib/python3.9/site-packages/astromodels/functions/template_model.py\u001b\\\u001b[2mtemplate_model.py\u001b[0m\u001b]8;;\u001b\\\u001b[2m:\u001b[0m\u001b]8;id=225069;file:///opt/hostedtoolcache/Python/3.9.20/x64/lib/python3.9/site-packages/astromodels/functions/template_model.py#126\u001b\\\u001b[2m126\u001b[0m\u001b]8;;\u001b\\\n",
       "\u001b[38;5;46m         \u001b[0m         \u001b[1;38;5;251mUsing keV.                                                                 \u001b[0m\u001b[1;38;5;251m \u001b[0m\u001b[2m                     \u001b[0m\n"
      ]
     },
     "metadata": {},
     "output_type": "display_data"
    }
   ],
   "source": [
    "from astromodels import TemplateModelFactory\n",
    "\n",
    "tmf = TemplateModelFactory(\n",
    "    \"my_template\", \"A test template\", energies, [\"alpha\", \"xp\", \"beta\"]\n",
    ")"
   ]
  },
  {
   "cell_type": "markdown",
   "id": "17642836",
   "metadata": {},
   "source": [
    "Now, define our grid in parameter space. While we are using a function here, this grid could be from a text file, a database of simulations, etc. We then assign these grid points to the template model factory."
   ]
  },
  {
   "cell_type": "code",
   "execution_count": 9,
   "id": "6ce86832",
   "metadata": {
    "execution": {
     "iopub.execute_input": "2024-09-20T23:15:45.683144Z",
     "iopub.status.busy": "2024-09-20T23:15:45.682699Z",
     "iopub.status.idle": "2024-09-20T23:15:45.687038Z",
     "shell.execute_reply": "2024-09-20T23:15:45.686489Z"
    }
   },
   "outputs": [],
   "source": [
    "alpha_grid = np.linspace(-1.5, 1, 15)\n",
    "beta_grid = np.linspace(-3.5, -1.6, 15)\n",
    "xp_grid = np.logspace(1, 3, 20)\n",
    "\n",
    "\n",
    "tmf.define_parameter_grid(\"alpha\", alpha_grid)\n",
    "tmf.define_parameter_grid(\"beta\", beta_grid)\n",
    "tmf.define_parameter_grid(\"xp\", xp_grid)"
   ]
  },
  {
   "cell_type": "markdown",
   "id": "faba9c22",
   "metadata": {},
   "source": [
    "Finally, we loop over our grid and set the interpolation data to the template model factory. The units of the fluxes must be a differential photon flux!"
   ]
  },
  {
   "cell_type": "code",
   "execution_count": 10,
   "id": "1c24b9d2",
   "metadata": {
    "execution": {
     "iopub.execute_input": "2024-09-20T23:15:45.688814Z",
     "iopub.status.busy": "2024-09-20T23:15:45.688608Z",
     "iopub.status.idle": "2024-09-20T23:15:47.421018Z",
     "shell.execute_reply": "2024-09-20T23:15:47.420327Z"
    },
    "lines_to_next_cell": 2
   },
   "outputs": [],
   "source": [
    "for a in alpha_grid:\n",
    "    for b in beta_grid:\n",
    "        for xp in xp_grid:\n",
    "            # change our model parameters\n",
    "            model.alpha = a\n",
    "            model.beta = b\n",
    "            model.xp = xp\n",
    "\n",
    "            tmf.add_interpolation_data(model(energies), alpha=a, xp=xp, beta=b)"
   ]
  },
  {
   "cell_type": "markdown",
   "id": "195b5547",
   "metadata": {},
   "source": [
    "We can now save our model to disk. The formal is an HDF5 file which is saved to the astromodel data directory (~/.astromodels/data). The HDF5 file can easily be passed around to other users as all information defining the model is stored in the file. The other user would place the file in thier astromodels data directory."
   ]
  },
  {
   "cell_type": "code",
   "execution_count": 11,
   "id": "26f79cbd",
   "metadata": {
    "execution": {
     "iopub.execute_input": "2024-09-20T23:15:47.423611Z",
     "iopub.status.busy": "2024-09-20T23:15:47.423205Z",
     "iopub.status.idle": "2024-09-20T23:15:47.587009Z",
     "shell.execute_reply": "2024-09-20T23:15:47.586281Z"
    }
   },
   "outputs": [],
   "source": [
    "tmf.save_data(overwrite=True)\n",
    "\n",
    "from astromodels import TemplateModel\n",
    "\n",
    "reloaded_table_model = TemplateModel(\"my_template\")"
   ]
  },
  {
   "cell_type": "code",
   "execution_count": 12,
   "id": "744be83d",
   "metadata": {
    "execution": {
     "iopub.execute_input": "2024-09-20T23:15:47.589509Z",
     "iopub.status.busy": "2024-09-20T23:15:47.589096Z",
     "iopub.status.idle": "2024-09-20T23:15:49.321795Z",
     "shell.execute_reply": "2024-09-20T23:15:49.321071Z"
    }
   },
   "outputs": [
    {
     "data": {
      "text/plain": [
       "array([1.49086966e+00, 1.43117010e+00, 1.37151134e+00, 1.31187019e+00,\n",
       "       1.25223305e+00, 1.19259749e+00, 1.13297396e+00, 1.07338763e+00,\n",
       "       1.01388024e+00, 9.54512018e-01, 8.95363460e-01, 8.36537051e-01,\n",
       "       7.78158661e-01, 7.20378565e-01, 6.63371907e-01, 6.07338417e-01,\n",
       "       5.52501210e-01, 4.99104446e-01, 4.47409687e-01, 3.97690776e-01,\n",
       "       3.50227162e-01, 3.05295643e-01, 2.63160667e-01, 2.24063443e-01,\n",
       "       1.88210330e-01, 1.55761153e-01, 1.26818273e-01, 1.01829853e-01,\n",
       "       8.10538848e-02, 6.39354690e-02, 5.03106841e-02, 3.95893700e-02,\n",
       "       3.11527907e-02, 2.45140645e-02, 1.92900651e-02, 1.51793110e-02,\n",
       "       1.19445674e-02, 9.39915463e-03, 7.39617472e-03, 5.82003410e-03,\n",
       "       4.57977241e-03, 3.60381313e-03, 2.83583286e-03, 2.23151083e-03,\n",
       "       1.75597111e-03, 1.38176992e-03, 1.08731180e-03, 8.55603333e-04,\n",
       "       6.73272437e-04, 5.29796643e-04])"
      ]
     },
     "execution_count": 12,
     "metadata": {},
     "output_type": "execute_result"
    }
   ],
   "source": [
    "reloaded_table_model(energies)"
   ]
  },
  {
   "cell_type": "code",
   "execution_count": null,
   "id": "8cf5d96c",
   "metadata": {},
   "outputs": [],
   "source": []
  }
 ],
 "metadata": {
  "jupytext": {
   "formats": "ipynb,md"
  },
  "kernelspec": {
   "display_name": "Python 3",
   "language": "python",
   "name": "python3"
  },
  "language_info": {
   "codemirror_mode": {
    "name": "ipython",
    "version": 3
   },
   "file_extension": ".py",
   "mimetype": "text/x-python",
   "name": "python",
   "nbconvert_exporter": "python",
   "pygments_lexer": "ipython3",
   "version": "3.9.20"
  }
 },
 "nbformat": 4,
 "nbformat_minor": 5
}
