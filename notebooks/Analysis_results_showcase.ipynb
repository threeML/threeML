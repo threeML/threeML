{
 "cells": [
  {
   "cell_type": "markdown",
   "id": "50ed5bf4",
   "metadata": {},
   "source": [
    "# Analysis Results\n",
    "\n",
    "3ML stores the results of a fit in a container we call an \"Analysis Result\" (AR). The structure of this object is designed to be useable in a *live* sense within an *active* analysis (python script, ipython interactive shell, jupyter notebook) as well as storable as a FITS file for saving results for later.\n",
    "\n",
    "The structure is nearly the same between MLE and Bayesian analyses in order to make a seamless functionality between all analyses.\n"
   ]
  },
  {
   "cell_type": "code",
   "execution_count": 1,
   "id": "b5253332",
   "metadata": {
    "execution": {
     "iopub.execute_input": "2024-09-11T20:32:42.972479Z",
     "iopub.status.busy": "2024-09-11T20:32:42.971919Z",
     "iopub.status.idle": "2024-09-11T20:32:46.868305Z",
     "shell.execute_reply": "2024-09-11T20:32:46.867644Z"
    }
   },
   "outputs": [],
   "source": [
    "%%capture\n",
    "import numpy as np\n",
    "\n",
    "np.seterr(all=\"ignore\")\n",
    "from threeML import *\n",
    "from threeML.analysis_results import *\n",
    "import astropy.units as u"
   ]
  },
  {
   "cell_type": "code",
   "execution_count": 2,
   "id": "c7c89fab",
   "metadata": {
    "execution": {
     "iopub.execute_input": "2024-09-11T20:32:46.871202Z",
     "iopub.status.busy": "2024-09-11T20:32:46.870723Z",
     "iopub.status.idle": "2024-09-11T20:32:46.907426Z",
     "shell.execute_reply": "2024-09-11T20:32:46.906840Z"
    }
   },
   "outputs": [],
   "source": [
    "silence_logs()\n",
    "from tqdm.auto import tqdm\n",
    "from jupyterthemes import jtplot\n",
    "\n",
    "%matplotlib inline\n",
    "jtplot.style(context=\"talk\", fscale=1, ticks=True, grid=False)\n",
    "import matplotlib.pyplot as plt\n",
    "\n",
    "set_threeML_style()"
   ]
  },
  {
   "cell_type": "markdown",
   "id": "3142885a",
   "metadata": {},
   "source": [
    "Let's take a look at what we can do with an AR. First, we will simulate some data."
   ]
  },
  {
   "cell_type": "code",
   "execution_count": 3,
   "id": "4608b64c",
   "metadata": {
    "execution": {
     "iopub.execute_input": "2024-09-11T20:32:46.910004Z",
     "iopub.status.busy": "2024-09-11T20:32:46.909601Z",
     "iopub.status.idle": "2024-09-11T20:32:48.880746Z",
     "shell.execute_reply": "2024-09-11T20:32:48.880044Z"
    }
   },
   "outputs": [
    {
     "data": {
      "image/png": "[encoded data removed]",
      "text/plain": [
       "<Figure size 1040x910 with 1 Axes>"
      ]
     },
     "metadata": {},
     "output_type": "display_data"
    }
   ],
   "source": [
    "gen_function = Line(a=2, b=0) + Gaussian(F=30.0, mu=25.0, sigma=1)\n",
    "\n",
    "# Generate a dataset using the line and a gaussian.\n",
    "# constant 20% error\n",
    "\n",
    "x = np.linspace(0, 50, 50)\n",
    "\n",
    "xy = XYLike.from_function(\n",
    "    \"sim_data\", function=gen_function, x=x, yerr=0.2 * gen_function(x)\n",
    ")\n",
    "\n",
    "fig = xy.plot()"
   ]
  },
  {
   "cell_type": "markdown",
   "id": "c2a54d63",
   "metadata": {},
   "source": [
    "## MLE Results\n",
    "\n",
    "\n",
    "First we will demonstrate how AR's work for an MLE analysis on our synthetic data. As we will see, most of the functionality exists in the Bayesian AR's as well.\n",
    "\n",
    "Let's do a simple likelihood maximization of our data and model."
   ]
  },
  {
   "cell_type": "code",
   "execution_count": 4,
   "id": "446e1f81",
   "metadata": {
    "execution": {
     "iopub.execute_input": "2024-09-11T20:32:48.882991Z",
     "iopub.status.busy": "2024-09-11T20:32:48.882786Z",
     "iopub.status.idle": "2024-09-11T20:32:49.722448Z",
     "shell.execute_reply": "2024-09-11T20:32:49.721717Z"
    }
   },
   "outputs": [
    {
     "data": {
      "text/html": [
       "<pre style=\"white-space:pre;overflow-x:auto;line-height:normal;font-family:Menlo,'DejaVu Sans Mono',consolas,'Courier New',monospace\"><span style=\"color: #00ffaf; text-decoration-color: #00ffaf; font-weight: bold; text-decoration: underline\">Best fit values:</span>\n",
       "\n",
       "</pre>\n"
      ],
      "text/plain": [
       "\u001b[1;4;38;5;49mBest fit values:\u001b[0m\n",
       "\n"
      ]
     },
     "metadata": {},
     "output_type": "display_data"
    },
    {
     "data": {
      "text/html": [
       "<div>\n",
       "<style scoped>\n",
       "    .dataframe tbody tr th:only-of-type {\n",
       "        vertical-align: middle;\n",
       "    }\n",
       "\n",
       "    .dataframe tbody tr th {\n",
       "        vertical-align: top;\n",
       "    }\n",
       "\n",
       "    .dataframe thead th {\n",
       "        text-align: right;\n",
       "    }\n",
       "</style>\n",
       "<table border=\"1\" class=\"dataframe\">\n",
       "  <thead>\n",
       "    <tr style=\"text-align: right;\">\n",
       "      <th></th>\n",
       "      <th>result</th>\n",
       "      <th>unit</th>\n",
       "    </tr>\n",
       "    <tr>\n",
       "      <th>parameter</th>\n",
       "      <th></th>\n",
       "      <th></th>\n",
       "    </tr>\n",
       "  </thead>\n",
       "  <tbody>\n",
       "    <tr>\n",
       "      <th>fake.spectrum.main.composite.a_1</th>\n",
       "      <td>1.82 +/- 0.11</td>\n",
       "      <td>1 / (keV s cm2)</td>\n",
       "    </tr>\n",
       "    <tr>\n",
       "      <th>fake.spectrum.main.composite.b_1</th>\n",
       "      <td>(5 +/- 4) x 10^-3</td>\n",
       "      <td>1 / (s cm2 keV2)</td>\n",
       "    </tr>\n",
       "    <tr>\n",
       "      <th>fake.spectrum.main.composite.F_2</th>\n",
       "      <td>(2.5 +/- 0.4) x 10</td>\n",
       "      <td>1 / (s cm2)</td>\n",
       "    </tr>\n",
       "    <tr>\n",
       "      <th>fake.spectrum.main.composite.mu_2</th>\n",
       "      <td>(2.478 +/- 0.016) x 10</td>\n",
       "      <td>keV</td>\n",
       "    </tr>\n",
       "    <tr>\n",
       "      <th>fake.spectrum.main.composite.sigma_2</th>\n",
       "      <td>1.10 +/- 0.12</td>\n",
       "      <td>keV</td>\n",
       "    </tr>\n",
       "  </tbody>\n",
       "</table>\n",
       "</div>"
      ],
      "text/plain": [
       "                                                      result              unit\n",
       "parameter                                                                     \n",
       "fake.spectrum.main.composite.a_1               1.82 +/- 0.11   1 / (keV s cm2)\n",
       "fake.spectrum.main.composite.b_1           (5 +/- 4) x 10^-3  1 / (s cm2 keV2)\n",
       "fake.spectrum.main.composite.F_2          (2.5 +/- 0.4) x 10       1 / (s cm2)\n",
       "fake.spectrum.main.composite.mu_2     (2.478 +/- 0.016) x 10               keV\n",
       "fake.spectrum.main.composite.sigma_2           1.10 +/- 0.12               keV"
      ]
     },
     "metadata": {},
     "output_type": "display_data"
    },
    {
     "data": {
      "text/html": [
       "<pre style=\"white-space:pre;overflow-x:auto;line-height:normal;font-family:Menlo,'DejaVu Sans Mono',consolas,'Courier New',monospace\">\n",
       "<span style=\"color: #00ffaf; text-decoration-color: #00ffaf; font-weight: bold; text-decoration: underline\">Correlation matrix:</span>\n",
       "\n",
       "</pre>\n"
      ],
      "text/plain": [
       "\n",
       "\u001b[1;4;38;5;49mCorrelation matrix:\u001b[0m\n",
       "\n"
      ]
     },
     "metadata": {},
     "output_type": "display_data"
    },
    {
     "data": {
      "text/html": [
       "<div><table id=\"table139748796577344\">\n",
       "<tr><td>1.00</td><td>-0.85</td><td>-0.05</td><td>0.00</td><td>-0.09</td></tr>\n",
       "<tr><td>-0.85</td><td>1.00</td><td>-0.00</td><td>-0.02</td><td>0.00</td></tr>\n",
       "<tr><td>-0.05</td><td>-0.00</td><td>1.00</td><td>0.23</td><td>-0.12</td></tr>\n",
       "<tr><td>0.00</td><td>-0.02</td><td>0.23</td><td>1.00</td><td>0.30</td></tr>\n",
       "<tr><td>-0.09</td><td>0.00</td><td>-0.12</td><td>0.30</td><td>1.00</td></tr>\n",
       "</table></div>"
      ],
      "text/plain": [
       " 1.00 -0.85 -0.05  0.00 -0.09\n",
       "-0.85  1.00 -0.00 -0.02  0.00\n",
       "-0.05 -0.00  1.00  0.23 -0.12\n",
       " 0.00 -0.02  0.23  1.00  0.30\n",
       "-0.09  0.00 -0.12  0.30  1.00"
      ]
     },
     "metadata": {},
     "output_type": "display_data"
    },
    {
     "data": {
      "text/html": [
       "<pre style=\"white-space:pre;overflow-x:auto;line-height:normal;font-family:Menlo,'DejaVu Sans Mono',consolas,'Courier New',monospace\">\n",
       "<span style=\"color: #00ffaf; text-decoration-color: #00ffaf; font-weight: bold; text-decoration: underline\">Values of -log(likelihood) at the minimum:</span>\n",
       "\n",
       "</pre>\n"
      ],
      "text/plain": [
       "\n",
       "\u001b[1;4;38;5;49mValues of -\u001b[0m\u001b[1;4;38;5;49mlog\u001b[0m\u001b[1;4;38;5;49m(\u001b[0m\u001b[1;4;38;5;49mlikelihood\u001b[0m\u001b[1;4;38;5;49m)\u001b[0m\u001b[1;4;38;5;49m at the minimum:\u001b[0m\n",
       "\n"
      ]
     },
     "metadata": {},
     "output_type": "display_data"
    },
    {
     "data": {
      "text/html": [
       "<div>\n",
       "<style scoped>\n",
       "    .dataframe tbody tr th:only-of-type {\n",
       "        vertical-align: middle;\n",
       "    }\n",
       "\n",
       "    .dataframe tbody tr th {\n",
       "        vertical-align: top;\n",
       "    }\n",
       "\n",
       "    .dataframe thead th {\n",
       "        text-align: right;\n",
       "    }\n",
       "</style>\n",
       "<table border=\"1\" class=\"dataframe\">\n",
       "  <thead>\n",
       "    <tr style=\"text-align: right;\">\n",
       "      <th></th>\n",
       "      <th>-log(likelihood)</th>\n",
       "    </tr>\n",
       "  </thead>\n",
       "  <tbody>\n",
       "    <tr>\n",
       "      <th>sim_data</th>\n",
       "      <td>21.049186</td>\n",
       "    </tr>\n",
       "    <tr>\n",
       "      <th>total</th>\n",
       "      <td>21.049186</td>\n",
       "    </tr>\n",
       "  </tbody>\n",
       "</table>\n",
       "</div>"
      ],
      "text/plain": [
       "          -log(likelihood)\n",
       "sim_data         21.049186\n",
       "total            21.049186"
      ]
     },
     "metadata": {},
     "output_type": "display_data"
    },
    {
     "data": {
      "text/html": [
       "<pre style=\"white-space:pre;overflow-x:auto;line-height:normal;font-family:Menlo,'DejaVu Sans Mono',consolas,'Courier New',monospace\">\n",
       "<span style=\"color: #00ffaf; text-decoration-color: #00ffaf; font-weight: bold; text-decoration: underline\">Values of statistical measures:</span>\n",
       "\n",
       "</pre>\n"
      ],
      "text/plain": [
       "\n",
       "\u001b[1;4;38;5;49mValues of statistical measures:\u001b[0m\n",
       "\n"
      ]
     },
     "metadata": {},
     "output_type": "display_data"
    },
    {
     "data": {
      "text/html": [
       "<div>\n",
       "<style scoped>\n",
       "    .dataframe tbody tr th:only-of-type {\n",
       "        vertical-align: middle;\n",
       "    }\n",
       "\n",
       "    .dataframe tbody tr th {\n",
       "        vertical-align: top;\n",
       "    }\n",
       "\n",
       "    .dataframe thead th {\n",
       "        text-align: right;\n",
       "    }\n",
       "</style>\n",
       "<table border=\"1\" class=\"dataframe\">\n",
       "  <thead>\n",
       "    <tr style=\"text-align: right;\">\n",
       "      <th></th>\n",
       "      <th>statistical measures</th>\n",
       "    </tr>\n",
       "  </thead>\n",
       "  <tbody>\n",
       "    <tr>\n",
       "      <th>AIC</th>\n",
       "      <td>53.462009</td>\n",
       "    </tr>\n",
       "    <tr>\n",
       "      <th>BIC</th>\n",
       "      <td>61.658487</td>\n",
       "    </tr>\n",
       "  </tbody>\n",
       "</table>\n",
       "</div>"
      ],
      "text/plain": [
       "     statistical measures\n",
       "AIC             53.462009\n",
       "BIC             61.658487"
      ]
     },
     "metadata": {},
     "output_type": "display_data"
    }
   ],
   "source": [
    "fitfun = Line() + Gaussian()\n",
    "\n",
    "fitfun.b_1.bounds = (-10, 10.0)\n",
    "fitfun.a_1.bounds = (-100, 100.0)\n",
    "fitfun.F_2 = 25.0\n",
    "fitfun.F_2.bounds = (1e-3, 200.0)\n",
    "fitfun.mu_2 = 25.0\n",
    "fitfun.mu_2.bounds = (0.0, 100.0)\n",
    "fitfun.sigma_2.bounds = (1e-3, 10.0)\n",
    "\n",
    "model = Model(PointSource(\"fake\", 0.0, 0.0, fitfun))\n",
    "\n",
    "data = DataList(xy)\n",
    "\n",
    "jl = JointLikelihood(model, DataList(xy))\n",
    "_ = jl.fit()"
   ]
  },
  {
   "cell_type": "markdown",
   "id": "5b7aa0f4",
   "metadata": {},
   "source": [
    "We can get our errors as always, but the results cannot be propagated (error propagation assumes Gaussian errors, i.e., symmetric errors)\n",
    "In this case though errors are pretty symmetric, so we are likely in the case\n",
    "where the MLE is actually normally distributed."
   ]
  },
  {
   "cell_type": "code",
   "execution_count": 5,
   "id": "4a3562de",
   "metadata": {
    "execution": {
     "iopub.execute_input": "2024-09-11T20:32:49.725218Z",
     "iopub.status.busy": "2024-09-11T20:32:49.724812Z",
     "iopub.status.idle": "2024-09-11T20:32:49.787149Z",
     "shell.execute_reply": "2024-09-11T20:32:49.786465Z"
    }
   },
   "outputs": [
    {
     "data": {
      "text/html": [
       "<div>\n",
       "<style scoped>\n",
       "    .dataframe tbody tr th:only-of-type {\n",
       "        vertical-align: middle;\n",
       "    }\n",
       "\n",
       "    .dataframe tbody tr th {\n",
       "        vertical-align: top;\n",
       "    }\n",
       "\n",
       "    .dataframe thead th {\n",
       "        text-align: right;\n",
       "    }\n",
       "</style>\n",
       "<table border=\"1\" class=\"dataframe\">\n",
       "  <thead>\n",
       "    <tr style=\"text-align: right;\">\n",
       "      <th></th>\n",
       "      <th>result</th>\n",
       "      <th>unit</th>\n",
       "    </tr>\n",
       "    <tr>\n",
       "      <th>parameter</th>\n",
       "      <th></th>\n",
       "      <th></th>\n",
       "    </tr>\n",
       "  </thead>\n",
       "  <tbody>\n",
       "    <tr>\n",
       "      <th>fake.spectrum.main.composite.a_1</th>\n",
       "      <td>1.82 +/- 0.11</td>\n",
       "      <td>1 / (keV s cm2)</td>\n",
       "    </tr>\n",
       "    <tr>\n",
       "      <th>fake.spectrum.main.composite.b_1</th>\n",
       "      <td>(5 +/- 4) x 10^-3</td>\n",
       "      <td>1 / (s cm2 keV2)</td>\n",
       "    </tr>\n",
       "    <tr>\n",
       "      <th>fake.spectrum.main.composite.F_2</th>\n",
       "      <td>(2.5 +/- 0.4) x 10</td>\n",
       "      <td>1 / (s cm2)</td>\n",
       "    </tr>\n",
       "    <tr>\n",
       "      <th>fake.spectrum.main.composite.mu_2</th>\n",
       "      <td>(2.478 -0.016 +0.015) x 10</td>\n",
       "      <td>keV</td>\n",
       "    </tr>\n",
       "    <tr>\n",
       "      <th>fake.spectrum.main.composite.sigma_2</th>\n",
       "      <td>1.10 -0.12 +0.13</td>\n",
       "      <td>keV</td>\n",
       "    </tr>\n",
       "  </tbody>\n",
       "</table>\n",
       "</div>"
      ],
      "text/plain": [
       "                                                          result  \\\n",
       "parameter                                                          \n",
       "fake.spectrum.main.composite.a_1                   1.82 +/- 0.11   \n",
       "fake.spectrum.main.composite.b_1               (5 +/- 4) x 10^-3   \n",
       "fake.spectrum.main.composite.F_2              (2.5 +/- 0.4) x 10   \n",
       "fake.spectrum.main.composite.mu_2     (2.478 -0.016 +0.015) x 10   \n",
       "fake.spectrum.main.composite.sigma_2            1.10 -0.12 +0.13   \n",
       "\n",
       "                                                  unit  \n",
       "parameter                                               \n",
       "fake.spectrum.main.composite.a_1       1 / (keV s cm2)  \n",
       "fake.spectrum.main.composite.b_1      1 / (s cm2 keV2)  \n",
       "fake.spectrum.main.composite.F_2           1 / (s cm2)  \n",
       "fake.spectrum.main.composite.mu_2                  keV  \n",
       "fake.spectrum.main.composite.sigma_2               keV  "
      ]
     },
     "metadata": {},
     "output_type": "display_data"
    },
    {
     "data": {
      "text/html": [
       "<div>\n",
       "<style scoped>\n",
       "    .dataframe tbody tr th:only-of-type {\n",
       "        vertical-align: middle;\n",
       "    }\n",
       "\n",
       "    .dataframe tbody tr th {\n",
       "        vertical-align: top;\n",
       "    }\n",
       "\n",
       "    .dataframe thead th {\n",
       "        text-align: right;\n",
       "    }\n",
       "</style>\n",
       "<table border=\"1\" class=\"dataframe\">\n",
       "  <thead>\n",
       "    <tr style=\"text-align: right;\">\n",
       "      <th></th>\n",
       "      <th>value</th>\n",
       "      <th>negative_error</th>\n",
       "      <th>positive_error</th>\n",
       "      <th>error</th>\n",
       "      <th>unit</th>\n",
       "    </tr>\n",
       "  </thead>\n",
       "  <tbody>\n",
       "    <tr>\n",
       "      <th>fake.spectrum.main.composite.a_1</th>\n",
       "      <td>1.817760</td>\n",
       "      <td>-0.113508</td>\n",
       "      <td>0.113828</td>\n",
       "      <td>0.113668</td>\n",
       "      <td>1 / (keV s cm2)</td>\n",
       "    </tr>\n",
       "    <tr>\n",
       "      <th>fake.spectrum.main.composite.b_1</th>\n",
       "      <td>0.005249</td>\n",
       "      <td>-0.003849</td>\n",
       "      <td>0.003840</td>\n",
       "      <td>0.003845</td>\n",
       "      <td>1 / (s cm2 keV2)</td>\n",
       "    </tr>\n",
       "    <tr>\n",
       "      <th>fake.spectrum.main.composite.F_2</th>\n",
       "      <td>24.795811</td>\n",
       "      <td>-3.923037</td>\n",
       "      <td>3.914459</td>\n",
       "      <td>3.918748</td>\n",
       "      <td>1 / (s cm2)</td>\n",
       "    </tr>\n",
       "    <tr>\n",
       "      <th>fake.spectrum.main.composite.mu_2</th>\n",
       "      <td>24.776469</td>\n",
       "      <td>-0.164134</td>\n",
       "      <td>0.152218</td>\n",
       "      <td>0.158176</td>\n",
       "      <td>keV</td>\n",
       "    </tr>\n",
       "    <tr>\n",
       "      <th>fake.spectrum.main.composite.sigma_2</th>\n",
       "      <td>1.098428</td>\n",
       "      <td>-0.120857</td>\n",
       "      <td>0.126270</td>\n",
       "      <td>0.123563</td>\n",
       "      <td>keV</td>\n",
       "    </tr>\n",
       "  </tbody>\n",
       "</table>\n",
       "</div>"
      ],
      "text/plain": [
       "                                          value  negative_error  \\\n",
       "fake.spectrum.main.composite.a_1       1.817760       -0.113508   \n",
       "fake.spectrum.main.composite.b_1       0.005249       -0.003849   \n",
       "fake.spectrum.main.composite.F_2      24.795811       -3.923037   \n",
       "fake.spectrum.main.composite.mu_2     24.776469       -0.164134   \n",
       "fake.spectrum.main.composite.sigma_2   1.098428       -0.120857   \n",
       "\n",
       "                                      positive_error     error  \\\n",
       "fake.spectrum.main.composite.a_1            0.113828  0.113668   \n",
       "fake.spectrum.main.composite.b_1            0.003840  0.003845   \n",
       "fake.spectrum.main.composite.F_2            3.914459  3.918748   \n",
       "fake.spectrum.main.composite.mu_2           0.152218  0.158176   \n",
       "fake.spectrum.main.composite.sigma_2        0.126270  0.123563   \n",
       "\n",
       "                                                  unit  \n",
       "fake.spectrum.main.composite.a_1       1 / (keV s cm2)  \n",
       "fake.spectrum.main.composite.b_1      1 / (s cm2 keV2)  \n",
       "fake.spectrum.main.composite.F_2           1 / (s cm2)  \n",
       "fake.spectrum.main.composite.mu_2                  keV  \n",
       "fake.spectrum.main.composite.sigma_2               keV  "
      ]
     },
     "execution_count": 5,
     "metadata": {},
     "output_type": "execute_result"
    }
   ],
   "source": [
    "jl.get_errors()"
   ]
  },
  {
   "cell_type": "markdown",
   "id": "205557e4",
   "metadata": {},
   "source": [
    "We need to get the AnalysisResults object that is created after a fit is performed. The AR object is a member of the JointLikelihood object"
   ]
  },
  {
   "cell_type": "code",
   "execution_count": 6,
   "id": "d2471bf7",
   "metadata": {
    "execution": {
     "iopub.execute_input": "2024-09-11T20:32:49.789776Z",
     "iopub.status.busy": "2024-09-11T20:32:49.789369Z",
     "iopub.status.idle": "2024-09-11T20:32:49.792334Z",
     "shell.execute_reply": "2024-09-11T20:32:49.791742Z"
    }
   },
   "outputs": [],
   "source": [
    "ar = jl.results"
   ]
  },
  {
   "cell_type": "markdown",
   "id": "37eabcd8",
   "metadata": {},
   "source": [
    "We can display the results of the analysis. Note, when a fit is performed, the post display is actaully from the internal AR."
   ]
  },
  {
   "cell_type": "code",
   "execution_count": 7,
   "id": "3900a89e",
   "metadata": {
    "execution": {
     "iopub.execute_input": "2024-09-11T20:32:49.794719Z",
     "iopub.status.busy": "2024-09-11T20:32:49.794329Z",
     "iopub.status.idle": "2024-09-11T20:32:49.826684Z",
     "shell.execute_reply": "2024-09-11T20:32:49.825971Z"
    }
   },
   "outputs": [
    {
     "data": {
      "text/html": [
       "<pre style=\"white-space:pre;overflow-x:auto;line-height:normal;font-family:Menlo,'DejaVu Sans Mono',consolas,'Courier New',monospace\"><span style=\"color: #00ffaf; text-decoration-color: #00ffaf; font-weight: bold; text-decoration: underline\">Best fit values:</span>\n",
       "\n",
       "</pre>\n"
      ],
      "text/plain": [
       "\u001b[1;4;38;5;49mBest fit values:\u001b[0m\n",
       "\n"
      ]
     },
     "metadata": {},
     "output_type": "display_data"
    },
    {
     "data": {
      "text/html": [
       "<div>\n",
       "<style scoped>\n",
       "    .dataframe tbody tr th:only-of-type {\n",
       "        vertical-align: middle;\n",
       "    }\n",
       "\n",
       "    .dataframe tbody tr th {\n",
       "        vertical-align: top;\n",
       "    }\n",
       "\n",
       "    .dataframe thead th {\n",
       "        text-align: right;\n",
       "    }\n",
       "</style>\n",
       "<table border=\"1\" class=\"dataframe\">\n",
       "  <thead>\n",
       "    <tr style=\"text-align: right;\">\n",
       "      <th></th>\n",
       "      <th>result</th>\n",
       "      <th>unit</th>\n",
       "    </tr>\n",
       "    <tr>\n",
       "      <th>parameter</th>\n",
       "      <th></th>\n",
       "      <th></th>\n",
       "    </tr>\n",
       "  </thead>\n",
       "  <tbody>\n",
       "    <tr>\n",
       "      <th>fake.spectrum.main.composite.a_1</th>\n",
       "      <td>1.82 +/- 0.11</td>\n",
       "      <td>1 / (keV s cm2)</td>\n",
       "    </tr>\n",
       "    <tr>\n",
       "      <th>fake.spectrum.main.composite.b_1</th>\n",
       "      <td>(5 +/- 4) x 10^-3</td>\n",
       "      <td>1 / (s cm2 keV2)</td>\n",
       "    </tr>\n",
       "    <tr>\n",
       "      <th>fake.spectrum.main.composite.F_2</th>\n",
       "      <td>(2.5 +/- 0.4) x 10</td>\n",
       "      <td>1 / (s cm2)</td>\n",
       "    </tr>\n",
       "    <tr>\n",
       "      <th>fake.spectrum.main.composite.mu_2</th>\n",
       "      <td>(2.478 +/- 0.016) x 10</td>\n",
       "      <td>keV</td>\n",
       "    </tr>\n",
       "    <tr>\n",
       "      <th>fake.spectrum.main.composite.sigma_2</th>\n",
       "      <td>1.10 +/- 0.12</td>\n",
       "      <td>keV</td>\n",
       "    </tr>\n",
       "  </tbody>\n",
       "</table>\n",
       "</div>"
      ],
      "text/plain": [
       "                                                      result              unit\n",
       "parameter                                                                     \n",
       "fake.spectrum.main.composite.a_1               1.82 +/- 0.11   1 / (keV s cm2)\n",
       "fake.spectrum.main.composite.b_1           (5 +/- 4) x 10^-3  1 / (s cm2 keV2)\n",
       "fake.spectrum.main.composite.F_2          (2.5 +/- 0.4) x 10       1 / (s cm2)\n",
       "fake.spectrum.main.composite.mu_2     (2.478 +/- 0.016) x 10               keV\n",
       "fake.spectrum.main.composite.sigma_2           1.10 +/- 0.12               keV"
      ]
     },
     "metadata": {},
     "output_type": "display_data"
    },
    {
     "data": {
      "text/html": [
       "<pre style=\"white-space:pre;overflow-x:auto;line-height:normal;font-family:Menlo,'DejaVu Sans Mono',consolas,'Courier New',monospace\">\n",
       "<span style=\"color: #00ffaf; text-decoration-color: #00ffaf; font-weight: bold; text-decoration: underline\">Correlation matrix:</span>\n",
       "\n",
       "</pre>\n"
      ],
      "text/plain": [
       "\n",
       "\u001b[1;4;38;5;49mCorrelation matrix:\u001b[0m\n",
       "\n"
      ]
     },
     "metadata": {},
     "output_type": "display_data"
    },
    {
     "data": {
      "text/html": [
       "<div><table id=\"table139748807410640\">\n",
       "<tr><td>1.00</td><td>-0.85</td><td>-0.05</td><td>0.00</td><td>-0.09</td></tr>\n",
       "<tr><td>-0.85</td><td>1.00</td><td>-0.00</td><td>-0.02</td><td>0.00</td></tr>\n",
       "<tr><td>-0.05</td><td>-0.00</td><td>1.00</td><td>0.23</td><td>-0.12</td></tr>\n",
       "<tr><td>0.00</td><td>-0.02</td><td>0.23</td><td>1.00</td><td>0.30</td></tr>\n",
       "<tr><td>-0.09</td><td>0.00</td><td>-0.12</td><td>0.30</td><td>1.00</td></tr>\n",
       "</table></div>"
      ],
      "text/plain": [
       " 1.00 -0.85 -0.05  0.00 -0.09\n",
       "-0.85  1.00 -0.00 -0.02  0.00\n",
       "-0.05 -0.00  1.00  0.23 -0.12\n",
       " 0.00 -0.02  0.23  1.00  0.30\n",
       "-0.09  0.00 -0.12  0.30  1.00"
      ]
     },
     "metadata": {},
     "output_type": "display_data"
    },
    {
     "data": {
      "text/html": [
       "<pre style=\"white-space:pre;overflow-x:auto;line-height:normal;font-family:Menlo,'DejaVu Sans Mono',consolas,'Courier New',monospace\">\n",
       "<span style=\"color: #00ffaf; text-decoration-color: #00ffaf; font-weight: bold; text-decoration: underline\">Values of -log(likelihood) at the minimum:</span>\n",
       "\n",
       "</pre>\n"
      ],
      "text/plain": [
       "\n",
       "\u001b[1;4;38;5;49mValues of -\u001b[0m\u001b[1;4;38;5;49mlog\u001b[0m\u001b[1;4;38;5;49m(\u001b[0m\u001b[1;4;38;5;49mlikelihood\u001b[0m\u001b[1;4;38;5;49m)\u001b[0m\u001b[1;4;38;5;49m at the minimum:\u001b[0m\n",
       "\n"
      ]
     },
     "metadata": {},
     "output_type": "display_data"
    },
    {
     "data": {
      "text/html": [
       "<div>\n",
       "<style scoped>\n",
       "    .dataframe tbody tr th:only-of-type {\n",
       "        vertical-align: middle;\n",
       "    }\n",
       "\n",
       "    .dataframe tbody tr th {\n",
       "        vertical-align: top;\n",
       "    }\n",
       "\n",
       "    .dataframe thead th {\n",
       "        text-align: right;\n",
       "    }\n",
       "</style>\n",
       "<table border=\"1\" class=\"dataframe\">\n",
       "  <thead>\n",
       "    <tr style=\"text-align: right;\">\n",
       "      <th></th>\n",
       "      <th>-log(likelihood)</th>\n",
       "    </tr>\n",
       "  </thead>\n",
       "  <tbody>\n",
       "    <tr>\n",
       "      <th>sim_data</th>\n",
       "      <td>21.049186</td>\n",
       "    </tr>\n",
       "    <tr>\n",
       "      <th>total</th>\n",
       "      <td>21.049186</td>\n",
       "    </tr>\n",
       "  </tbody>\n",
       "</table>\n",
       "</div>"
      ],
      "text/plain": [
       "          -log(likelihood)\n",
       "sim_data         21.049186\n",
       "total            21.049186"
      ]
     },
     "metadata": {},
     "output_type": "display_data"
    },
    {
     "data": {
      "text/html": [
       "<pre style=\"white-space:pre;overflow-x:auto;line-height:normal;font-family:Menlo,'DejaVu Sans Mono',consolas,'Courier New',monospace\">\n",
       "<span style=\"color: #00ffaf; text-decoration-color: #00ffaf; font-weight: bold; text-decoration: underline\">Values of statistical measures:</span>\n",
       "\n",
       "</pre>\n"
      ],
      "text/plain": [
       "\n",
       "\u001b[1;4;38;5;49mValues of statistical measures:\u001b[0m\n",
       "\n"
      ]
     },
     "metadata": {},
     "output_type": "display_data"
    },
    {
     "data": {
      "text/html": [
       "<div>\n",
       "<style scoped>\n",
       "    .dataframe tbody tr th:only-of-type {\n",
       "        vertical-align: middle;\n",
       "    }\n",
       "\n",
       "    .dataframe tbody tr th {\n",
       "        vertical-align: top;\n",
       "    }\n",
       "\n",
       "    .dataframe thead th {\n",
       "        text-align: right;\n",
       "    }\n",
       "</style>\n",
       "<table border=\"1\" class=\"dataframe\">\n",
       "  <thead>\n",
       "    <tr style=\"text-align: right;\">\n",
       "      <th></th>\n",
       "      <th>statistical measures</th>\n",
       "    </tr>\n",
       "  </thead>\n",
       "  <tbody>\n",
       "    <tr>\n",
       "      <th>AIC</th>\n",
       "      <td>53.462009</td>\n",
       "    </tr>\n",
       "    <tr>\n",
       "      <th>BIC</th>\n",
       "      <td>61.658487</td>\n",
       "    </tr>\n",
       "  </tbody>\n",
       "</table>\n",
       "</div>"
      ],
      "text/plain": [
       "     statistical measures\n",
       "AIC             53.462009\n",
       "BIC             61.658487"
      ]
     },
     "metadata": {},
     "output_type": "display_data"
    }
   ],
   "source": [
    "ar.display()"
   ]
  },
  {
   "cell_type": "markdown",
   "id": "0c431306",
   "metadata": {},
   "source": [
    "By default, the equal tail intervals are displayed. We can instead display highest posterior densities (equal in the MLE case)"
   ]
  },
  {
   "cell_type": "code",
   "execution_count": 8,
   "id": "899fb9db",
   "metadata": {
    "execution": {
     "iopub.execute_input": "2024-09-11T20:32:49.829314Z",
     "iopub.status.busy": "2024-09-11T20:32:49.828900Z",
     "iopub.status.idle": "2024-09-11T20:32:49.861765Z",
     "shell.execute_reply": "2024-09-11T20:32:49.861074Z"
    }
   },
   "outputs": [
    {
     "data": {
      "text/html": [
       "<pre style=\"white-space:pre;overflow-x:auto;line-height:normal;font-family:Menlo,'DejaVu Sans Mono',consolas,'Courier New',monospace\"><span style=\"color: #00ffaf; text-decoration-color: #00ffaf; font-weight: bold; text-decoration: underline\">Best fit values:</span>\n",
       "\n",
       "</pre>\n"
      ],
      "text/plain": [
       "\u001b[1;4;38;5;49mBest fit values:\u001b[0m\n",
       "\n"
      ]
     },
     "metadata": {},
     "output_type": "display_data"
    },
    {
     "data": {
      "text/html": [
       "<div>\n",
       "<style scoped>\n",
       "    .dataframe tbody tr th:only-of-type {\n",
       "        vertical-align: middle;\n",
       "    }\n",
       "\n",
       "    .dataframe tbody tr th {\n",
       "        vertical-align: top;\n",
       "    }\n",
       "\n",
       "    .dataframe thead th {\n",
       "        text-align: right;\n",
       "    }\n",
       "</style>\n",
       "<table border=\"1\" class=\"dataframe\">\n",
       "  <thead>\n",
       "    <tr style=\"text-align: right;\">\n",
       "      <th></th>\n",
       "      <th>result</th>\n",
       "      <th>unit</th>\n",
       "    </tr>\n",
       "    <tr>\n",
       "      <th>parameter</th>\n",
       "      <th></th>\n",
       "      <th></th>\n",
       "    </tr>\n",
       "  </thead>\n",
       "  <tbody>\n",
       "    <tr>\n",
       "      <th>fake.spectrum.main.composite.a_1</th>\n",
       "      <td>1.82 +/- 0.11</td>\n",
       "      <td>1 / (keV s cm2)</td>\n",
       "    </tr>\n",
       "    <tr>\n",
       "      <th>fake.spectrum.main.composite.b_1</th>\n",
       "      <td>(5 +/- 4) x 10^-3</td>\n",
       "      <td>1 / (s cm2 keV2)</td>\n",
       "    </tr>\n",
       "    <tr>\n",
       "      <th>fake.spectrum.main.composite.F_2</th>\n",
       "      <td>(2.5 +/- 0.4) x 10</td>\n",
       "      <td>1 / (s cm2)</td>\n",
       "    </tr>\n",
       "    <tr>\n",
       "      <th>fake.spectrum.main.composite.mu_2</th>\n",
       "      <td>(2.478 +/- 0.016) x 10</td>\n",
       "      <td>keV</td>\n",
       "    </tr>\n",
       "    <tr>\n",
       "      <th>fake.spectrum.main.composite.sigma_2</th>\n",
       "      <td>1.10 +/- 0.12</td>\n",
       "      <td>keV</td>\n",
       "    </tr>\n",
       "  </tbody>\n",
       "</table>\n",
       "</div>"
      ],
      "text/plain": [
       "                                                      result              unit\n",
       "parameter                                                                     \n",
       "fake.spectrum.main.composite.a_1               1.82 +/- 0.11   1 / (keV s cm2)\n",
       "fake.spectrum.main.composite.b_1           (5 +/- 4) x 10^-3  1 / (s cm2 keV2)\n",
       "fake.spectrum.main.composite.F_2          (2.5 +/- 0.4) x 10       1 / (s cm2)\n",
       "fake.spectrum.main.composite.mu_2     (2.478 +/- 0.016) x 10               keV\n",
       "fake.spectrum.main.composite.sigma_2           1.10 +/- 0.12               keV"
      ]
     },
     "metadata": {},
     "output_type": "display_data"
    },
    {
     "data": {
      "text/html": [
       "<pre style=\"white-space:pre;overflow-x:auto;line-height:normal;font-family:Menlo,'DejaVu Sans Mono',consolas,'Courier New',monospace\">\n",
       "<span style=\"color: #00ffaf; text-decoration-color: #00ffaf; font-weight: bold; text-decoration: underline\">Correlation matrix:</span>\n",
       "\n",
       "</pre>\n"
      ],
      "text/plain": [
       "\n",
       "\u001b[1;4;38;5;49mCorrelation matrix:\u001b[0m\n",
       "\n"
      ]
     },
     "metadata": {},
     "output_type": "display_data"
    },
    {
     "data": {
      "text/html": [
       "<div><table id=\"table139749991024768\">\n",
       "<tr><td>1.00</td><td>-0.85</td><td>-0.05</td><td>0.00</td><td>-0.09</td></tr>\n",
       "<tr><td>-0.85</td><td>1.00</td><td>-0.00</td><td>-0.02</td><td>0.00</td></tr>\n",
       "<tr><td>-0.05</td><td>-0.00</td><td>1.00</td><td>0.23</td><td>-0.12</td></tr>\n",
       "<tr><td>0.00</td><td>-0.02</td><td>0.23</td><td>1.00</td><td>0.30</td></tr>\n",
       "<tr><td>-0.09</td><td>0.00</td><td>-0.12</td><td>0.30</td><td>1.00</td></tr>\n",
       "</table></div>"
      ],
      "text/plain": [
       " 1.00 -0.85 -0.05  0.00 -0.09\n",
       "-0.85  1.00 -0.00 -0.02  0.00\n",
       "-0.05 -0.00  1.00  0.23 -0.12\n",
       " 0.00 -0.02  0.23  1.00  0.30\n",
       "-0.09  0.00 -0.12  0.30  1.00"
      ]
     },
     "metadata": {},
     "output_type": "display_data"
    },
    {
     "data": {
      "text/html": [
       "<pre style=\"white-space:pre;overflow-x:auto;line-height:normal;font-family:Menlo,'DejaVu Sans Mono',consolas,'Courier New',monospace\">\n",
       "<span style=\"color: #00ffaf; text-decoration-color: #00ffaf; font-weight: bold; text-decoration: underline\">Values of -log(likelihood) at the minimum:</span>\n",
       "\n",
       "</pre>\n"
      ],
      "text/plain": [
       "\n",
       "\u001b[1;4;38;5;49mValues of -\u001b[0m\u001b[1;4;38;5;49mlog\u001b[0m\u001b[1;4;38;5;49m(\u001b[0m\u001b[1;4;38;5;49mlikelihood\u001b[0m\u001b[1;4;38;5;49m)\u001b[0m\u001b[1;4;38;5;49m at the minimum:\u001b[0m\n",
       "\n"
      ]
     },
     "metadata": {},
     "output_type": "display_data"
    },
    {
     "data": {
      "text/html": [
       "<div>\n",
       "<style scoped>\n",
       "    .dataframe tbody tr th:only-of-type {\n",
       "        vertical-align: middle;\n",
       "    }\n",
       "\n",
       "    .dataframe tbody tr th {\n",
       "        vertical-align: top;\n",
       "    }\n",
       "\n",
       "    .dataframe thead th {\n",
       "        text-align: right;\n",
       "    }\n",
       "</style>\n",
       "<table border=\"1\" class=\"dataframe\">\n",
       "  <thead>\n",
       "    <tr style=\"text-align: right;\">\n",
       "      <th></th>\n",
       "      <th>-log(likelihood)</th>\n",
       "    </tr>\n",
       "  </thead>\n",
       "  <tbody>\n",
       "    <tr>\n",
       "      <th>sim_data</th>\n",
       "      <td>21.049186</td>\n",
       "    </tr>\n",
       "    <tr>\n",
       "      <th>total</th>\n",
       "      <td>21.049186</td>\n",
       "    </tr>\n",
       "  </tbody>\n",
       "</table>\n",
       "</div>"
      ],
      "text/plain": [
       "          -log(likelihood)\n",
       "sim_data         21.049186\n",
       "total            21.049186"
      ]
     },
     "metadata": {},
     "output_type": "display_data"
    },
    {
     "data": {
      "text/html": [
       "<pre style=\"white-space:pre;overflow-x:auto;line-height:normal;font-family:Menlo,'DejaVu Sans Mono',consolas,'Courier New',monospace\">\n",
       "<span style=\"color: #00ffaf; text-decoration-color: #00ffaf; font-weight: bold; text-decoration: underline\">Values of statistical measures:</span>\n",
       "\n",
       "</pre>\n"
      ],
      "text/plain": [
       "\n",
       "\u001b[1;4;38;5;49mValues of statistical measures:\u001b[0m\n",
       "\n"
      ]
     },
     "metadata": {},
     "output_type": "display_data"
    },
    {
     "data": {
      "text/html": [
       "<div>\n",
       "<style scoped>\n",
       "    .dataframe tbody tr th:only-of-type {\n",
       "        vertical-align: middle;\n",
       "    }\n",
       "\n",
       "    .dataframe tbody tr th {\n",
       "        vertical-align: top;\n",
       "    }\n",
       "\n",
       "    .dataframe thead th {\n",
       "        text-align: right;\n",
       "    }\n",
       "</style>\n",
       "<table border=\"1\" class=\"dataframe\">\n",
       "  <thead>\n",
       "    <tr style=\"text-align: right;\">\n",
       "      <th></th>\n",
       "      <th>statistical measures</th>\n",
       "    </tr>\n",
       "  </thead>\n",
       "  <tbody>\n",
       "    <tr>\n",
       "      <th>AIC</th>\n",
       "      <td>53.462009</td>\n",
       "    </tr>\n",
       "    <tr>\n",
       "      <th>BIC</th>\n",
       "      <td>61.658487</td>\n",
       "    </tr>\n",
       "  </tbody>\n",
       "</table>\n",
       "</div>"
      ],
      "text/plain": [
       "     statistical measures\n",
       "AIC             53.462009\n",
       "BIC             61.658487"
      ]
     },
     "metadata": {},
     "output_type": "display_data"
    }
   ],
   "source": [
    "ar.display(\"hpd\")"
   ]
  },
  {
   "cell_type": "markdown",
   "id": "684296cf",
   "metadata": {},
   "source": [
    "The AR stores several properties from the analysis:"
   ]
  },
  {
   "cell_type": "code",
   "execution_count": 9,
   "id": "33ffc3e0",
   "metadata": {
    "execution": {
     "iopub.execute_input": "2024-09-11T20:32:49.864452Z",
     "iopub.status.busy": "2024-09-11T20:32:49.863991Z",
     "iopub.status.idle": "2024-09-11T20:32:49.868034Z",
     "shell.execute_reply": "2024-09-11T20:32:49.867412Z"
    }
   },
   "outputs": [
    {
     "data": {
      "text/plain": [
       "'MLE'"
      ]
     },
     "execution_count": 9,
     "metadata": {},
     "output_type": "execute_result"
    }
   ],
   "source": [
    "ar.analysis_type"
   ]
  },
  {
   "cell_type": "code",
   "execution_count": 10,
   "id": "ee49a03d",
   "metadata": {
    "execution": {
     "iopub.execute_input": "2024-09-11T20:32:49.870374Z",
     "iopub.status.busy": "2024-09-11T20:32:49.869989Z",
     "iopub.status.idle": "2024-09-11T20:32:49.874890Z",
     "shell.execute_reply": "2024-09-11T20:32:49.874230Z"
    }
   },
   "outputs": [
    {
     "data": {
      "text/plain": [
       "array([[ 1.29201828e-02, -3.69774153e-04, -2.15202352e-02,\n",
       "         8.42121959e-07, -1.24525092e-03],\n",
       "       [-3.69774153e-04,  1.47801711e-05, -2.06608366e-05,\n",
       "        -1.39785920e-05,  3.31932959e-07],\n",
       "       [-2.15202352e-02, -2.06608366e-05,  1.53546790e+01,\n",
       "         1.38624419e-01, -5.81133647e-02],\n",
       "       [ 8.42121959e-07, -1.39785920e-05,  1.38624419e-01,\n",
       "         2.42951394e-02,  5.66633458e-03],\n",
       "       [-1.24525092e-03,  3.31932959e-07, -5.81133647e-02,\n",
       "         5.66633458e-03,  1.49083818e-02]])"
      ]
     },
     "execution_count": 10,
     "metadata": {},
     "output_type": "execute_result"
    }
   ],
   "source": [
    "ar.covariance_matrix"
   ]
  },
  {
   "cell_type": "code",
   "execution_count": 11,
   "id": "77d501f9",
   "metadata": {
    "execution": {
     "iopub.execute_input": "2024-09-11T20:32:49.877497Z",
     "iopub.status.busy": "2024-09-11T20:32:49.877108Z",
     "iopub.status.idle": "2024-09-11T20:32:54.653240Z",
     "shell.execute_reply": "2024-09-11T20:32:54.652498Z"
    }
   },
   "outputs": [
    {
     "data": {
      "application/vnd.jupyter.widget-view+json": {
       "model_id": "639a224b9d934d048f96c6e70da26cdf",
       "version_major": 2,
       "version_minor": 0
      },
      "text/plain": [
       "processing MLE analyses:   0%|          | 0/1 [00:00<?, ?it/s]"
      ]
     },
     "metadata": {},
     "output_type": "display_data"
    },
    {
     "data": {
      "text/html": [
       "<div>\n",
       "<style scoped>\n",
       "    .dataframe tbody tr th:only-of-type {\n",
       "        vertical-align: middle;\n",
       "    }\n",
       "\n",
       "    .dataframe tbody tr th {\n",
       "        vertical-align: top;\n",
       "    }\n",
       "\n",
       "    .dataframe thead th {\n",
       "        text-align: right;\n",
       "    }\n",
       "</style>\n",
       "<table border=\"1\" class=\"dataframe\">\n",
       "  <thead>\n",
       "    <tr style=\"text-align: right;\">\n",
       "      <th></th>\n",
       "      <th>flux</th>\n",
       "      <th>low bound</th>\n",
       "      <th>hi bound</th>\n",
       "    </tr>\n",
       "  </thead>\n",
       "  <tbody>\n",
       "    <tr>\n",
       "      <th>fake: total</th>\n",
       "      <td>1.83715881647425e-05 erg / (s cm2)</td>\n",
       "      <td>1.7020846393959493e-05 erg / (s cm2)</td>\n",
       "      <td>1.974743827488701e-05 erg / (s cm2)</td>\n",
       "    </tr>\n",
       "  </tbody>\n",
       "</table>\n",
       "</div>"
      ],
      "text/plain": [
       "                                           flux  \\\n",
       "fake: total  1.83715881647425e-05 erg / (s cm2)   \n",
       "\n",
       "                                        low bound  \\\n",
       "fake: total  1.7020846393959493e-05 erg / (s cm2)   \n",
       "\n",
       "                                        hi bound  \n",
       "fake: total  1.974743827488701e-05 erg / (s cm2)  "
      ]
     },
     "execution_count": 11,
     "metadata": {},
     "output_type": "execute_result"
    }
   ],
   "source": [
    "ar.get_point_source_flux(1 * u.keV, 0.1 * u.MeV)"
   ]
  },
  {
   "cell_type": "code",
   "execution_count": 12,
   "id": "e7986fb7",
   "metadata": {
    "execution": {
     "iopub.execute_input": "2024-09-11T20:32:54.655797Z",
     "iopub.status.busy": "2024-09-11T20:32:54.655397Z",
     "iopub.status.idle": "2024-09-11T20:32:54.675645Z",
     "shell.execute_reply": "2024-09-11T20:32:54.674976Z"
    }
   },
   "outputs": [
    {
     "data": {
      "text/html": [
       "Model summary:<br><br><div>\n",
       "<style scoped>\n",
       "    .dataframe tbody tr th:only-of-type {\n",
       "        vertical-align: middle;\n",
       "    }\n",
       "\n",
       "    .dataframe tbody tr th {\n",
       "        vertical-align: top;\n",
       "    }\n",
       "\n",
       "    .dataframe thead th {\n",
       "        text-align: right;\n",
       "    }\n",
       "</style>\n",
       "<table border=\"1\" class=\"dataframe\">\n",
       "  <thead>\n",
       "    <tr style=\"text-align: right;\">\n",
       "      <th></th>\n",
       "      <th>N</th>\n",
       "    </tr>\n",
       "  </thead>\n",
       "  <tbody>\n",
       "    <tr>\n",
       "      <th>Point sources</th>\n",
       "      <td>1</td>\n",
       "    </tr>\n",
       "    <tr>\n",
       "      <th>Extended sources</th>\n",
       "      <td>0</td>\n",
       "    </tr>\n",
       "    <tr>\n",
       "      <th>Particle sources</th>\n",
       "      <td>0</td>\n",
       "    </tr>\n",
       "  </tbody>\n",
       "</table>\n",
       "</div><br><br>Free parameters (5):<br><br><div>\n",
       "<style scoped>\n",
       "    .dataframe tbody tr th:only-of-type {\n",
       "        vertical-align: middle;\n",
       "    }\n",
       "\n",
       "    .dataframe tbody tr th {\n",
       "        vertical-align: top;\n",
       "    }\n",
       "\n",
       "    .dataframe thead th {\n",
       "        text-align: right;\n",
       "    }\n",
       "</style>\n",
       "<table border=\"1\" class=\"dataframe\">\n",
       "  <thead>\n",
       "    <tr style=\"text-align: right;\">\n",
       "      <th></th>\n",
       "      <th>value</th>\n",
       "      <th>min_value</th>\n",
       "      <th>max_value</th>\n",
       "      <th>unit</th>\n",
       "    </tr>\n",
       "  </thead>\n",
       "  <tbody>\n",
       "    <tr>\n",
       "      <th>fake.spectrum.main.composite.a_1</th>\n",
       "      <td>1.81776</td>\n",
       "      <td>-100.0</td>\n",
       "      <td>100.0</td>\n",
       "      <td>keV-1 s-1 cm-2</td>\n",
       "    </tr>\n",
       "    <tr>\n",
       "      <th>fake.spectrum.main.composite.b_1</th>\n",
       "      <td>0.005249</td>\n",
       "      <td>-10.0</td>\n",
       "      <td>10.0</td>\n",
       "      <td>s-1 cm-2 keV-2</td>\n",
       "    </tr>\n",
       "    <tr>\n",
       "      <th>fake.spectrum.main.composite.F_2</th>\n",
       "      <td>24.795811</td>\n",
       "      <td>0.001</td>\n",
       "      <td>200.0</td>\n",
       "      <td>s-1 cm-2</td>\n",
       "    </tr>\n",
       "    <tr>\n",
       "      <th>fake.spectrum.main.composite.mu_2</th>\n",
       "      <td>24.776469</td>\n",
       "      <td>0.0</td>\n",
       "      <td>100.0</td>\n",
       "      <td>keV</td>\n",
       "    </tr>\n",
       "    <tr>\n",
       "      <th>fake.spectrum.main.composite.sigma_2</th>\n",
       "      <td>1.098428</td>\n",
       "      <td>0.001</td>\n",
       "      <td>10.0</td>\n",
       "      <td>keV</td>\n",
       "    </tr>\n",
       "  </tbody>\n",
       "</table>\n",
       "</div><br><br>Fixed parameters (2):<br>(abridged. Use complete=True to see all fixed parameters)<br><br><br>Properties (0):<br><br>(none)<br><br><br>Linked parameters (0):<br><br>(none)<br><br>Independent variables:<br><br>(none)<br><br>Linked functions (0):<br><br>(none)<br>"
      ],
      "text/plain": [
       "Model summary:\n",
       "==============\n",
       "\n",
       "                  N\n",
       "Point sources     1\n",
       "Extended sources  0\n",
       "Particle sources  0\n",
       "\n",
       "Free parameters (5):\n",
       "--------------------\n",
       "\n",
       "                                          value min_value max_value  \\\n",
       "fake.spectrum.main.composite.a_1        1.81776    -100.0     100.0   \n",
       "fake.spectrum.main.composite.b_1       0.005249     -10.0      10.0   \n",
       "fake.spectrum.main.composite.F_2      24.795811     0.001     200.0   \n",
       "fake.spectrum.main.composite.mu_2     24.776469       0.0     100.0   \n",
       "fake.spectrum.main.composite.sigma_2   1.098428     0.001      10.0   \n",
       "\n",
       "                                                unit  \n",
       "fake.spectrum.main.composite.a_1      keV-1 s-1 cm-2  \n",
       "fake.spectrum.main.composite.b_1      s-1 cm-2 keV-2  \n",
       "fake.spectrum.main.composite.F_2            s-1 cm-2  \n",
       "fake.spectrum.main.composite.mu_2                keV  \n",
       "fake.spectrum.main.composite.sigma_2             keV  \n",
       "\n",
       "Fixed parameters (2):\n",
       "(abridged. Use complete=True to see all fixed parameters)\n",
       "\n",
       "\n",
       "Properties (0):\n",
       "--------------------\n",
       "\n",
       "(none)\n",
       "\n",
       "\n",
       "Linked parameters (0):\n",
       "----------------------\n",
       "\n",
       "(none)\n",
       "\n",
       "Independent variables:\n",
       "----------------------\n",
       "\n",
       "(none)\n",
       "\n",
       "Linked functions (0):\n",
       "----------------------\n",
       "\n",
       "(none)"
      ]
     },
     "execution_count": 12,
     "metadata": {},
     "output_type": "execute_result"
    }
   ],
   "source": [
    "ar.optimized_model"
   ]
  },
  {
   "cell_type": "markdown",
   "id": "6aba1047",
   "metadata": {},
   "source": [
    "## Saving results to disk\n",
    "\n",
    "The beauty of the analysis result is that all of this information can be written to disk and restored at a later time. The statistical parameters, best-fit model, etc. can all be recovered.\n",
    "\n",
    "AR's are stored as a structured FITS file. We write the AR like this:"
   ]
  },
  {
   "cell_type": "code",
   "execution_count": 13,
   "id": "6903f2bb",
   "metadata": {
    "execution": {
     "iopub.execute_input": "2024-09-11T20:32:54.678177Z",
     "iopub.status.busy": "2024-09-11T20:32:54.677762Z",
     "iopub.status.idle": "2024-09-11T20:32:54.726227Z",
     "shell.execute_reply": "2024-09-11T20:32:54.725528Z"
    }
   },
   "outputs": [
    {
     "name": "stderr",
     "output_type": "stream",
     "text": [
      "WARNING: VerifyWarning: Card is too long, comment will be truncated. [astropy.io.fits.card]\n"
     ]
    }
   ],
   "source": [
    "ar.write_to(\"test_mle.fits\", overwrite=True)"
   ]
  },
  {
   "cell_type": "markdown",
   "id": "3c078330",
   "metadata": {},
   "source": [
    "The FITS file can be examines with any normal FITS reader."
   ]
  },
  {
   "cell_type": "code",
   "execution_count": 14,
   "id": "9eb44288",
   "metadata": {
    "execution": {
     "iopub.execute_input": "2024-09-11T20:32:54.728796Z",
     "iopub.status.busy": "2024-09-11T20:32:54.728407Z",
     "iopub.status.idle": "2024-09-11T20:32:54.731320Z",
     "shell.execute_reply": "2024-09-11T20:32:54.730773Z"
    }
   },
   "outputs": [],
   "source": [
    "import astropy.io.fits as fits"
   ]
  },
  {
   "cell_type": "code",
   "execution_count": 15,
   "id": "09b89f66",
   "metadata": {
    "execution": {
     "iopub.execute_input": "2024-09-11T20:32:54.733532Z",
     "iopub.status.busy": "2024-09-11T20:32:54.733235Z",
     "iopub.status.idle": "2024-09-11T20:32:54.738762Z",
     "shell.execute_reply": "2024-09-11T20:32:54.738242Z"
    }
   },
   "outputs": [
    {
     "name": "stdout",
     "output_type": "stream",
     "text": [
      "Filename: test_mle.fits\n",
      "No.    Name      Ver    Type      Cards   Dimensions   Format\n",
      "  0  PRIMARY       1 PrimaryHDU       6   ()      \n",
      "  1  ANALYSIS_RESULTS    1 BinTableHDU     38   5R x 9C   [36A, D, D, D, D, 16A, 5D, D, D]   \n"
     ]
    }
   ],
   "source": [
    "ar_fits = fits.open(\"test_mle.fits\")\n",
    "ar_fits.info()"
   ]
  },
  {
   "cell_type": "markdown",
   "id": "20594eea",
   "metadata": {},
   "source": [
    "However, to easily pull the results back into the 3ML framework, we use the ${\\tt load\\_analysis\\_results}$ function:"
   ]
  },
  {
   "cell_type": "code",
   "execution_count": 16,
   "id": "a2c4012f",
   "metadata": {
    "execution": {
     "iopub.execute_input": "2024-09-11T20:32:54.741142Z",
     "iopub.status.busy": "2024-09-11T20:32:54.740736Z",
     "iopub.status.idle": "2024-09-11T20:32:54.801371Z",
     "shell.execute_reply": "2024-09-11T20:32:54.800822Z"
    }
   },
   "outputs": [],
   "source": [
    "ar_reloaded = load_analysis_results(\"test_mle.fits\")"
   ]
  },
  {
   "cell_type": "code",
   "execution_count": 17,
   "id": "228f6c09",
   "metadata": {
    "execution": {
     "iopub.execute_input": "2024-09-11T20:32:54.804041Z",
     "iopub.status.busy": "2024-09-11T20:32:54.803646Z",
     "iopub.status.idle": "2024-09-11T20:32:54.810120Z",
     "shell.execute_reply": "2024-09-11T20:32:54.809475Z"
    }
   },
   "outputs": [
    {
     "data": {
      "text/html": [
       "<div>\n",
       "<style scoped>\n",
       "    .dataframe tbody tr th:only-of-type {\n",
       "        vertical-align: middle;\n",
       "    }\n",
       "\n",
       "    .dataframe tbody tr th {\n",
       "        vertical-align: top;\n",
       "    }\n",
       "\n",
       "    .dataframe thead th {\n",
       "        text-align: right;\n",
       "    }\n",
       "</style>\n",
       "<table border=\"1\" class=\"dataframe\">\n",
       "  <thead>\n",
       "    <tr style=\"text-align: right;\">\n",
       "      <th></th>\n",
       "      <th>-log(likelihood)</th>\n",
       "    </tr>\n",
       "  </thead>\n",
       "  <tbody>\n",
       "    <tr>\n",
       "      <th>sim_data</th>\n",
       "      <td>21.049186</td>\n",
       "    </tr>\n",
       "    <tr>\n",
       "      <th>total</th>\n",
       "      <td>21.049186</td>\n",
       "    </tr>\n",
       "  </tbody>\n",
       "</table>\n",
       "</div>"
      ],
      "text/plain": [
       "          -log(likelihood)\n",
       "sim_data         21.049186\n",
       "total            21.049186"
      ]
     },
     "execution_count": 17,
     "metadata": {},
     "output_type": "execute_result"
    }
   ],
   "source": [
    "ar_reloaded.get_statistic_frame()"
   ]
  },
  {
   "cell_type": "markdown",
   "id": "78dfdada",
   "metadata": {},
   "source": [
    "You can get a DataFrame with the saved results:"
   ]
  },
  {
   "cell_type": "code",
   "execution_count": 18,
   "id": "e3bdb9cf",
   "metadata": {
    "execution": {
     "iopub.execute_input": "2024-09-11T20:32:54.812635Z",
     "iopub.status.busy": "2024-09-11T20:32:54.812278Z",
     "iopub.status.idle": "2024-09-11T20:32:54.829955Z",
     "shell.execute_reply": "2024-09-11T20:32:54.829290Z"
    }
   },
   "outputs": [
    {
     "data": {
      "text/html": [
       "<div>\n",
       "<style scoped>\n",
       "    .dataframe tbody tr th:only-of-type {\n",
       "        vertical-align: middle;\n",
       "    }\n",
       "\n",
       "    .dataframe tbody tr th {\n",
       "        vertical-align: top;\n",
       "    }\n",
       "\n",
       "    .dataframe thead th {\n",
       "        text-align: right;\n",
       "    }\n",
       "</style>\n",
       "<table border=\"1\" class=\"dataframe\">\n",
       "  <thead>\n",
       "    <tr style=\"text-align: right;\">\n",
       "      <th></th>\n",
       "      <th>value</th>\n",
       "      <th>negative_error</th>\n",
       "      <th>positive_error</th>\n",
       "      <th>error</th>\n",
       "      <th>unit</th>\n",
       "    </tr>\n",
       "  </thead>\n",
       "  <tbody>\n",
       "    <tr>\n",
       "      <th>fake.spectrum.main.composite.a_1</th>\n",
       "      <td>1.817760</td>\n",
       "      <td>-0.114141</td>\n",
       "      <td>0.119812</td>\n",
       "      <td>0.116976</td>\n",
       "      <td>1 / (keV s cm2)</td>\n",
       "    </tr>\n",
       "    <tr>\n",
       "      <th>fake.spectrum.main.composite.b_1</th>\n",
       "      <td>0.005249</td>\n",
       "      <td>-0.003875</td>\n",
       "      <td>0.003877</td>\n",
       "      <td>0.003876</td>\n",
       "      <td>1 / (s cm2 keV2)</td>\n",
       "    </tr>\n",
       "    <tr>\n",
       "      <th>fake.spectrum.main.composite.F_2</th>\n",
       "      <td>24.795811</td>\n",
       "      <td>-3.821121</td>\n",
       "      <td>3.743990</td>\n",
       "      <td>3.782555</td>\n",
       "      <td>1 / (s cm2)</td>\n",
       "    </tr>\n",
       "    <tr>\n",
       "      <th>fake.spectrum.main.composite.mu_2</th>\n",
       "      <td>24.776469</td>\n",
       "      <td>-0.151749</td>\n",
       "      <td>0.157429</td>\n",
       "      <td>0.154589</td>\n",
       "      <td>keV</td>\n",
       "    </tr>\n",
       "    <tr>\n",
       "      <th>fake.spectrum.main.composite.sigma_2</th>\n",
       "      <td>1.098428</td>\n",
       "      <td>-0.118919</td>\n",
       "      <td>0.122503</td>\n",
       "      <td>0.120711</td>\n",
       "      <td>keV</td>\n",
       "    </tr>\n",
       "  </tbody>\n",
       "</table>\n",
       "</div>"
      ],
      "text/plain": [
       "                                          value  negative_error  \\\n",
       "fake.spectrum.main.composite.a_1       1.817760       -0.114141   \n",
       "fake.spectrum.main.composite.b_1       0.005249       -0.003875   \n",
       "fake.spectrum.main.composite.F_2      24.795811       -3.821121   \n",
       "fake.spectrum.main.composite.mu_2     24.776469       -0.151749   \n",
       "fake.spectrum.main.composite.sigma_2   1.098428       -0.118919   \n",
       "\n",
       "                                      positive_error     error  \\\n",
       "fake.spectrum.main.composite.a_1            0.119812  0.116976   \n",
       "fake.spectrum.main.composite.b_1            0.003877  0.003876   \n",
       "fake.spectrum.main.composite.F_2            3.743990  3.782555   \n",
       "fake.spectrum.main.composite.mu_2           0.157429  0.154589   \n",
       "fake.spectrum.main.composite.sigma_2        0.122503  0.120711   \n",
       "\n",
       "                                                  unit  \n",
       "fake.spectrum.main.composite.a_1       1 / (keV s cm2)  \n",
       "fake.spectrum.main.composite.b_1      1 / (s cm2 keV2)  \n",
       "fake.spectrum.main.composite.F_2           1 / (s cm2)  \n",
       "fake.spectrum.main.composite.mu_2                  keV  \n",
       "fake.spectrum.main.composite.sigma_2               keV  "
      ]
     },
     "execution_count": 18,
     "metadata": {},
     "output_type": "execute_result"
    }
   ],
   "source": [
    "ar_reloaded.get_data_frame()"
   ]
  },
  {
   "cell_type": "markdown",
   "id": "6d39a63c",
   "metadata": {},
   "source": [
    "## Analysis Result Sets"
   ]
  },
  {
   "cell_type": "markdown",
   "id": "451898bb",
   "metadata": {},
   "source": [
    "When doing time-resolved analysis or analysing a several objects, we can save several AR's is a set. This is achieved with the analysis result set. We can pass an array of AR's to the set and even set up descriptions for the different entries."
   ]
  },
  {
   "cell_type": "code",
   "execution_count": 19,
   "id": "2cb93f0b",
   "metadata": {
    "execution": {
     "iopub.execute_input": "2024-09-11T20:32:54.832500Z",
     "iopub.status.busy": "2024-09-11T20:32:54.831985Z",
     "iopub.status.idle": "2024-09-11T20:32:54.905851Z",
     "shell.execute_reply": "2024-09-11T20:32:54.905144Z"
    }
   },
   "outputs": [
    {
     "name": "stderr",
     "output_type": "stream",
     "text": [
      "WARNING: VerifyWarning: Card is too long, comment will be truncated. [astropy.io.fits.card]\n"
     ]
    }
   ],
   "source": [
    "from threeML.analysis_results import AnalysisResultsSet\n",
    "\n",
    "analysis_set = AnalysisResultsSet([ar, ar_reloaded])\n",
    "\n",
    "# index as time bins\n",
    "analysis_set.set_bins(\"testing\", [-1, 1], [3, 5], unit=\"s\")\n",
    "\n",
    "# write to disk\n",
    "analysis_set.write_to(\"analysis_set_test.fits\", overwrite=True)"
   ]
  },
  {
   "cell_type": "code",
   "execution_count": 20,
   "id": "49a5c5c5",
   "metadata": {
    "execution": {
     "iopub.execute_input": "2024-09-11T20:32:54.908523Z",
     "iopub.status.busy": "2024-09-11T20:32:54.908058Z",
     "iopub.status.idle": "2024-09-11T20:32:55.041320Z",
     "shell.execute_reply": "2024-09-11T20:32:55.040618Z"
    }
   },
   "outputs": [],
   "source": [
    "analysis_set = load_analysis_results(\"analysis_set_test.fits\")"
   ]
  },
  {
   "cell_type": "code",
   "execution_count": 21,
   "id": "b017b1a6",
   "metadata": {
    "execution": {
     "iopub.execute_input": "2024-09-11T20:32:55.044225Z",
     "iopub.status.busy": "2024-09-11T20:32:55.043740Z",
     "iopub.status.idle": "2024-09-11T20:32:55.077525Z",
     "shell.execute_reply": "2024-09-11T20:32:55.076884Z"
    }
   },
   "outputs": [
    {
     "data": {
      "text/html": [
       "<pre style=\"white-space:pre;overflow-x:auto;line-height:normal;font-family:Menlo,'DejaVu Sans Mono',consolas,'Courier New',monospace\"><span style=\"color: #00ffaf; text-decoration-color: #00ffaf; font-weight: bold; text-decoration: underline\">Best fit values:</span>\n",
       "\n",
       "</pre>\n"
      ],
      "text/plain": [
       "\u001b[1;4;38;5;49mBest fit values:\u001b[0m\n",
       "\n"
      ]
     },
     "metadata": {},
     "output_type": "display_data"
    },
    {
     "data": {
      "text/html": [
       "<div>\n",
       "<style scoped>\n",
       "    .dataframe tbody tr th:only-of-type {\n",
       "        vertical-align: middle;\n",
       "    }\n",
       "\n",
       "    .dataframe tbody tr th {\n",
       "        vertical-align: top;\n",
       "    }\n",
       "\n",
       "    .dataframe thead th {\n",
       "        text-align: right;\n",
       "    }\n",
       "</style>\n",
       "<table border=\"1\" class=\"dataframe\">\n",
       "  <thead>\n",
       "    <tr style=\"text-align: right;\">\n",
       "      <th></th>\n",
       "      <th>result</th>\n",
       "      <th>unit</th>\n",
       "    </tr>\n",
       "    <tr>\n",
       "      <th>parameter</th>\n",
       "      <th></th>\n",
       "      <th></th>\n",
       "    </tr>\n",
       "  </thead>\n",
       "  <tbody>\n",
       "    <tr>\n",
       "      <th>fake.spectrum.main.composite.a_1</th>\n",
       "      <td>1.82 +/- 0.11</td>\n",
       "      <td>1 / (keV s cm2)</td>\n",
       "    </tr>\n",
       "    <tr>\n",
       "      <th>fake.spectrum.main.composite.b_1</th>\n",
       "      <td>(5 +/- 4) x 10^-3</td>\n",
       "      <td>1 / (s cm2 keV2)</td>\n",
       "    </tr>\n",
       "    <tr>\n",
       "      <th>fake.spectrum.main.composite.F_2</th>\n",
       "      <td>(2.5 +/- 0.4) x 10</td>\n",
       "      <td>1 / (s cm2)</td>\n",
       "    </tr>\n",
       "    <tr>\n",
       "      <th>fake.spectrum.main.composite.mu_2</th>\n",
       "      <td>(2.478 +/- 0.016) x 10</td>\n",
       "      <td>keV</td>\n",
       "    </tr>\n",
       "    <tr>\n",
       "      <th>fake.spectrum.main.composite.sigma_2</th>\n",
       "      <td>1.10 +/- 0.12</td>\n",
       "      <td>keV</td>\n",
       "    </tr>\n",
       "  </tbody>\n",
       "</table>\n",
       "</div>"
      ],
      "text/plain": [
       "                                                      result              unit\n",
       "parameter                                                                     \n",
       "fake.spectrum.main.composite.a_1               1.82 +/- 0.11   1 / (keV s cm2)\n",
       "fake.spectrum.main.composite.b_1           (5 +/- 4) x 10^-3  1 / (s cm2 keV2)\n",
       "fake.spectrum.main.composite.F_2          (2.5 +/- 0.4) x 10       1 / (s cm2)\n",
       "fake.spectrum.main.composite.mu_2     (2.478 +/- 0.016) x 10               keV\n",
       "fake.spectrum.main.composite.sigma_2           1.10 +/- 0.12               keV"
      ]
     },
     "metadata": {},
     "output_type": "display_data"
    },
    {
     "data": {
      "text/html": [
       "<pre style=\"white-space:pre;overflow-x:auto;line-height:normal;font-family:Menlo,'DejaVu Sans Mono',consolas,'Courier New',monospace\">\n",
       "<span style=\"color: #00ffaf; text-decoration-color: #00ffaf; font-weight: bold; text-decoration: underline\">Correlation matrix:</span>\n",
       "\n",
       "</pre>\n"
      ],
      "text/plain": [
       "\n",
       "\u001b[1;4;38;5;49mCorrelation matrix:\u001b[0m\n",
       "\n"
      ]
     },
     "metadata": {},
     "output_type": "display_data"
    },
    {
     "data": {
      "text/html": [
       "<div><table id=\"table139748807127296\">\n",
       "<tr><td>1.00</td><td>-0.85</td><td>-0.05</td><td>0.00</td><td>-0.09</td></tr>\n",
       "<tr><td>-0.85</td><td>1.00</td><td>-0.00</td><td>-0.02</td><td>0.00</td></tr>\n",
       "<tr><td>-0.05</td><td>-0.00</td><td>1.00</td><td>0.23</td><td>-0.12</td></tr>\n",
       "<tr><td>0.00</td><td>-0.02</td><td>0.23</td><td>1.00</td><td>0.30</td></tr>\n",
       "<tr><td>-0.09</td><td>0.00</td><td>-0.12</td><td>0.30</td><td>1.00</td></tr>\n",
       "</table></div>"
      ],
      "text/plain": [
       " 1.00 -0.85 -0.05  0.00 -0.09\n",
       "-0.85  1.00 -0.00 -0.02  0.00\n",
       "-0.05 -0.00  1.00  0.23 -0.12\n",
       " 0.00 -0.02  0.23  1.00  0.30\n",
       "-0.09  0.00 -0.12  0.30  1.00"
      ]
     },
     "metadata": {},
     "output_type": "display_data"
    },
    {
     "data": {
      "text/html": [
       "<pre style=\"white-space:pre;overflow-x:auto;line-height:normal;font-family:Menlo,'DejaVu Sans Mono',consolas,'Courier New',monospace\">\n",
       "<span style=\"color: #00ffaf; text-decoration-color: #00ffaf; font-weight: bold; text-decoration: underline\">Values of -log(likelihood) at the minimum:</span>\n",
       "\n",
       "</pre>\n"
      ],
      "text/plain": [
       "\n",
       "\u001b[1;4;38;5;49mValues of -\u001b[0m\u001b[1;4;38;5;49mlog\u001b[0m\u001b[1;4;38;5;49m(\u001b[0m\u001b[1;4;38;5;49mlikelihood\u001b[0m\u001b[1;4;38;5;49m)\u001b[0m\u001b[1;4;38;5;49m at the minimum:\u001b[0m\n",
       "\n"
      ]
     },
     "metadata": {},
     "output_type": "display_data"
    },
    {
     "data": {
      "text/html": [
       "<div>\n",
       "<style scoped>\n",
       "    .dataframe tbody tr th:only-of-type {\n",
       "        vertical-align: middle;\n",
       "    }\n",
       "\n",
       "    .dataframe tbody tr th {\n",
       "        vertical-align: top;\n",
       "    }\n",
       "\n",
       "    .dataframe thead th {\n",
       "        text-align: right;\n",
       "    }\n",
       "</style>\n",
       "<table border=\"1\" class=\"dataframe\">\n",
       "  <thead>\n",
       "    <tr style=\"text-align: right;\">\n",
       "      <th></th>\n",
       "      <th>-log(likelihood)</th>\n",
       "    </tr>\n",
       "  </thead>\n",
       "  <tbody>\n",
       "    <tr>\n",
       "      <th>sim_data</th>\n",
       "      <td>21.049186</td>\n",
       "    </tr>\n",
       "    <tr>\n",
       "      <th>total</th>\n",
       "      <td>21.049186</td>\n",
       "    </tr>\n",
       "  </tbody>\n",
       "</table>\n",
       "</div>"
      ],
      "text/plain": [
       "          -log(likelihood)\n",
       "sim_data         21.049186\n",
       "total            21.049186"
      ]
     },
     "metadata": {},
     "output_type": "display_data"
    },
    {
     "data": {
      "text/html": [
       "<pre style=\"white-space:pre;overflow-x:auto;line-height:normal;font-family:Menlo,'DejaVu Sans Mono',consolas,'Courier New',monospace\">\n",
       "<span style=\"color: #00ffaf; text-decoration-color: #00ffaf; font-weight: bold; text-decoration: underline\">Values of statistical measures:</span>\n",
       "\n",
       "</pre>\n"
      ],
      "text/plain": [
       "\n",
       "\u001b[1;4;38;5;49mValues of statistical measures:\u001b[0m\n",
       "\n"
      ]
     },
     "metadata": {},
     "output_type": "display_data"
    },
    {
     "data": {
      "text/html": [
       "<div>\n",
       "<style scoped>\n",
       "    .dataframe tbody tr th:only-of-type {\n",
       "        vertical-align: middle;\n",
       "    }\n",
       "\n",
       "    .dataframe tbody tr th {\n",
       "        vertical-align: top;\n",
       "    }\n",
       "\n",
       "    .dataframe thead th {\n",
       "        text-align: right;\n",
       "    }\n",
       "</style>\n",
       "<table border=\"1\" class=\"dataframe\">\n",
       "  <thead>\n",
       "    <tr style=\"text-align: right;\">\n",
       "      <th></th>\n",
       "      <th>statistical measures</th>\n",
       "    </tr>\n",
       "  </thead>\n",
       "  <tbody>\n",
       "    <tr>\n",
       "      <th>AIC</th>\n",
       "      <td>53.462009</td>\n",
       "    </tr>\n",
       "    <tr>\n",
       "      <th>BIC</th>\n",
       "      <td>61.658487</td>\n",
       "    </tr>\n",
       "  </tbody>\n",
       "</table>\n",
       "</div>"
      ],
      "text/plain": [
       "     statistical measures\n",
       "AIC             53.462009\n",
       "BIC             61.658487"
      ]
     },
     "metadata": {},
     "output_type": "display_data"
    }
   ],
   "source": [
    "analysis_set[0].display()"
   ]
  },
  {
   "cell_type": "markdown",
   "id": "70c1b221",
   "metadata": {},
   "source": [
    "## Error propagation\n",
    "In 3ML, we propagate errors for MLE reults via sampling of the covariance matrix *instead* of Taylor exanding around the maximum of the likelihood and computing a jacobain. Thus, we can achieve non-linear error propagation.\n",
    "\n",
    "You can use the results for propagating errors non-linearly for analytical functions:\n"
   ]
  },
  {
   "cell_type": "code",
   "execution_count": 22,
   "id": "baafec4d",
   "metadata": {
    "execution": {
     "iopub.execute_input": "2024-09-11T20:32:55.080071Z",
     "iopub.status.busy": "2024-09-11T20:32:55.079617Z",
     "iopub.status.idle": "2024-09-11T20:32:55.087088Z",
     "shell.execute_reply": "2024-09-11T20:32:55.086436Z"
    }
   },
   "outputs": [
    {
     "name": "stdout",
     "output_type": "stream",
     "text": [
      "Propagating a+b, with a and b respectively:\n",
      "equal-tail: (5 +/- 4) x 10^-3, hpd: (5 +/- 4) x 10^-3\n",
      "equal-tail: 1.82 +/- 0.11, hpd: 1.82 -0.12 +0.10\n",
      "\n",
      "This is the result (with errors):\n",
      "equal-tail: 1.82 +/- 0.11, hpd: 1.82 -0.12 +0.10\n",
      "(1.7110318086744478, 1.9306446054187854)\n"
     ]
    }
   ],
   "source": [
    "p1 = ar.get_variates(\"fake.spectrum.main.composite.b_1\")\n",
    "p2 = ar.get_variates(\"fake.spectrum.main.composite.a_1\")\n",
    "\n",
    "print(\"Propagating a+b, with a and b respectively:\")\n",
    "print(p1)\n",
    "print(p2)\n",
    "\n",
    "print(\"\\nThis is the result (with errors):\")\n",
    "res = p1 + p2\n",
    "print(res)\n",
    "\n",
    "print(res.equal_tail_interval())"
   ]
  },
  {
   "cell_type": "markdown",
   "id": "21607a84",
   "metadata": {},
   "source": [
    "The propagation accounts for covariances. For example this\n",
    "has error of zero (of course) since there is perfect covariance."
   ]
  },
  {
   "cell_type": "code",
   "execution_count": 23,
   "id": "9b26b5bd",
   "metadata": {
    "execution": {
     "iopub.execute_input": "2024-09-11T20:32:55.089362Z",
     "iopub.status.busy": "2024-09-11T20:32:55.088982Z",
     "iopub.status.idle": "2024-09-11T20:32:55.093360Z",
     "shell.execute_reply": "2024-09-11T20:32:55.092848Z"
    }
   },
   "outputs": [
    {
     "name": "stdout",
     "output_type": "stream",
     "text": [
      "\n",
      "This is 50 * a/a:\n",
      "equal-tail: (5.0 +/- 0) x 10, hpd: (5.0 +/- 0) x 10\n"
     ]
    }
   ],
   "source": [
    "print(\"\\nThis is 50 * a/a:\")\n",
    "print(50 * p1 / p1)"
   ]
  },
  {
   "cell_type": "markdown",
   "id": "9a8d7369",
   "metadata": {},
   "source": [
    "You can use arbitrary (np) functions"
   ]
  },
  {
   "cell_type": "code",
   "execution_count": 24,
   "id": "37f86a26",
   "metadata": {
    "execution": {
     "iopub.execute_input": "2024-09-11T20:32:55.095733Z",
     "iopub.status.busy": "2024-09-11T20:32:55.095359Z",
     "iopub.status.idle": "2024-09-11T20:32:55.100470Z",
     "shell.execute_reply": "2024-09-11T20:32:55.099916Z"
    }
   },
   "outputs": [
    {
     "name": "stdout",
     "output_type": "stream",
     "text": [
      "\n",
      "This is arcsinh(b + 5*) / np.log10(b) (why not?)\n",
      "equal-tail: (1.12 -0.08 +0.11) x 10, hpd: (1.12 -0.10 +0.08) x 10\n"
     ]
    }
   ],
   "source": [
    "print(\"\\nThis is arcsinh(b + 5*) / np.log10(b) (why not?)\")\n",
    "print(np.arcsinh(p1 + 5 * p2) / np.log10(p2))"
   ]
  },
  {
   "cell_type": "markdown",
   "id": "15314100",
   "metadata": {},
   "source": [
    "Errors can become asymmetric. For example, the ratio of two gaussians is\n",
    "asymmetric notoriously:"
   ]
  },
  {
   "cell_type": "code",
   "execution_count": 25,
   "id": "ae56c461",
   "metadata": {
    "execution": {
     "iopub.execute_input": "2024-09-11T20:32:55.102645Z",
     "iopub.status.busy": "2024-09-11T20:32:55.102464Z",
     "iopub.status.idle": "2024-09-11T20:32:55.107018Z",
     "shell.execute_reply": "2024-09-11T20:32:55.106500Z"
    },
    "lines_to_next_cell": 2
   },
   "outputs": [
    {
     "name": "stdout",
     "output_type": "stream",
     "text": [
      "\n",
      "Ratio a/b:\n",
      "equal-tail: (2.9 -1.4 +4) x 10^2, hpd: (2.9 -1.8 +2.4) x 10^2\n"
     ]
    }
   ],
   "source": [
    "print(\"\\nRatio a/b:\")\n",
    "print(p2 / p1)"
   ]
  },
  {
   "cell_type": "markdown",
   "id": "96a3ffc9",
   "metadata": {
    "lines_to_next_cell": 2
   },
   "source": [
    "You can always use it with arbitrary functions:"
   ]
  },
  {
   "cell_type": "code",
   "execution_count": 26,
   "id": "dcb367b3",
   "metadata": {
    "execution": {
     "iopub.execute_input": "2024-09-11T20:32:55.109355Z",
     "iopub.status.busy": "2024-09-11T20:32:55.108982Z",
     "iopub.status.idle": "2024-09-11T20:32:55.113966Z",
     "shell.execute_reply": "2024-09-11T20:32:55.113448Z"
    },
    "lines_to_next_cell": 2
   },
   "outputs": [
    {
     "name": "stdout",
     "output_type": "stream",
     "text": [
      "\n",
      "Propagating using a custom function:\n",
      "equal-tail: 1.82 +/- 0.11, hpd: 1.82 -0.12 +0.10\n"
     ]
    }
   ],
   "source": [
    "def my_function(x, a, b):\n",
    "    return b * x**a\n",
    "\n",
    "\n",
    "print(\"\\nPropagating using a custom function:\")\n",
    "print(my_function(2.3, p1, p2))"
   ]
  },
  {
   "cell_type": "markdown",
   "id": "774f83d2",
   "metadata": {
    "lines_to_next_cell": 2
   },
   "source": [
    "This is an example of an error propagation to get the plot of the model with its errors\n",
    "(which are propagated without assuming linearity on parameters)"
   ]
  },
  {
   "cell_type": "code",
   "execution_count": 27,
   "id": "679879f4",
   "metadata": {
    "execution": {
     "iopub.execute_input": "2024-09-11T20:32:55.116231Z",
     "iopub.status.busy": "2024-09-11T20:32:55.115921Z",
     "iopub.status.idle": "2024-09-11T20:32:55.122768Z",
     "shell.execute_reply": "2024-09-11T20:32:55.122223Z"
    }
   },
   "outputs": [],
   "source": [
    "def go(fitfun, ar, model):\n",
    "    fig, ax = plt.subplots()\n",
    "\n",
    "    # Gather the parameter variates\n",
    "\n",
    "    arguments = {}\n",
    "\n",
    "    for par in fitfun.parameters.values():\n",
    "        if par.free:\n",
    "            this_name = par.name\n",
    "\n",
    "            this_variate = ar.get_variates(par.path)\n",
    "\n",
    "            # Do not use more than 1000 values (would make computation too slow for nothing)\n",
    "\n",
    "            if len(this_variate) > 1000:\n",
    "                this_variate = np.random.choice(this_variate, size=1000)\n",
    "\n",
    "            arguments[this_name] = this_variate\n",
    "\n",
    "    # Prepare the error propagator function\n",
    "\n",
    "    pp = ar.propagate(\n",
    "        ar.optimized_model.fake.spectrum.main.shape.evaluate_at, **arguments\n",
    "    )\n",
    "\n",
    "    # You can just use it as:\n",
    "\n",
    "    print(pp(5.0))\n",
    "\n",
    "    # Make the plot\n",
    "\n",
    "    energies = np.linspace(0, 50, 100)\n",
    "\n",
    "    low_curve = np.zeros_like(energies)\n",
    "    middle_curve = np.zeros_like(energies)\n",
    "    hi_curve = np.zeros_like(energies)\n",
    "\n",
    "    free_parameters = model.free_parameters\n",
    "\n",
    "    p = tqdm(total=len(energies), desc=\"Propagating errors\")\n",
    "\n",
    "    with use_astromodels_memoization(False):\n",
    "        for i, e in enumerate(energies):\n",
    "            this_flux = pp(e)\n",
    "\n",
    "            low_bound, hi_bound = this_flux.equal_tail_interval()\n",
    "\n",
    "            low_curve[i], middle_curve[i], hi_curve[i] = (\n",
    "                low_bound,\n",
    "                this_flux.median,\n",
    "                hi_bound,\n",
    "            )\n",
    "\n",
    "            p.update(1)\n",
    "\n",
    "    ax.plot(energies, middle_curve, \"--\", color=\"black\")\n",
    "    ax.fill_between(energies, low_curve, hi_curve, alpha=0.5, color=\"blue\")"
   ]
  },
  {
   "cell_type": "code",
   "execution_count": 28,
   "id": "47968f36",
   "metadata": {
    "execution": {
     "iopub.execute_input": "2024-09-11T20:32:55.124836Z",
     "iopub.status.busy": "2024-09-11T20:32:55.124647Z",
     "iopub.status.idle": "2024-09-11T20:32:59.034101Z",
     "shell.execute_reply": "2024-09-11T20:32:59.033380Z"
    },
    "tags": [
     "nbsphinx-thumbnail"
    ]
   },
   "outputs": [
    {
     "name": "stdout",
     "output_type": "stream",
     "text": [
      "equal-tail: 1.85 +/- 0.11, hpd: 1.85 -0.12 +0.10\n"
     ]
    },
    {
     "data": {
      "application/vnd.jupyter.widget-view+json": {
       "model_id": "8b249e047e1f48b0999d8894e8f0bfb6",
       "version_major": 2,
       "version_minor": 0
      },
      "text/plain": [
       "Propagating errors:   0%|          | 0/100 [00:00<?, ?it/s]"
      ]
     },
     "metadata": {},
     "output_type": "display_data"
    },
    {
     "data": {
      "image/png": "[encoded data removed]",
      "text/plain": [
       "<Figure size 1040x910 with 1 Axes>"
      ]
     },
     "metadata": {},
     "output_type": "display_data"
    }
   ],
   "source": [
    "go(fitfun, ar, model)"
   ]
  },
  {
   "cell_type": "markdown",
   "id": "57936713",
   "metadata": {},
   "source": [
    "## Bayesian Analysis Results\n",
    "Analysis Results work exactly the same under Bayesian analysis.\n",
    "\n",
    "Let's run the analysis first."
   ]
  },
  {
   "cell_type": "code",
   "execution_count": 29,
   "id": "08481a87",
   "metadata": {
    "execution": {
     "iopub.execute_input": "2024-09-11T20:32:59.036703Z",
     "iopub.status.busy": "2024-09-11T20:32:59.036296Z",
     "iopub.status.idle": "2024-09-11T20:33:04.836442Z",
     "shell.execute_reply": "2024-09-11T20:33:04.835890Z"
    }
   },
   "outputs": [
    {
     "data": {
      "application/vnd.jupyter.widget-view+json": {
       "model_id": "9aa60d742add4972b0da0eca1ed875ed",
       "version_major": 2,
       "version_minor": 0
      },
      "text/plain": [
       "  0%|          | 0/100 [00:00<?, ?it/s]"
      ]
     },
     "metadata": {},
     "output_type": "display_data"
    },
    {
     "data": {
      "application/vnd.jupyter.widget-view+json": {
       "model_id": "faed9e73d4894a2aa06d92de7547d19a",
       "version_major": 2,
       "version_minor": 0
      },
      "text/plain": [
       "  0%|          | 0/1000 [00:00<?, ?it/s]"
      ]
     },
     "metadata": {},
     "output_type": "display_data"
    },
    {
     "data": {
      "text/html": [
       "<pre style=\"white-space:pre;overflow-x:auto;line-height:normal;font-family:Menlo,'DejaVu Sans Mono',consolas,'Courier New',monospace\"><span style=\"color: #00ffaf; text-decoration-color: #00ffaf; font-weight: bold; text-decoration: underline\">Maximum a posteriori probability (MAP) point:</span>\n",
       "\n",
       "</pre>\n"
      ],
      "text/plain": [
       "\u001b[1;4;38;5;49mMaximum a posteriori probability \u001b[0m\u001b[1;4;38;5;49m(\u001b[0m\u001b[1;4;38;5;49mMAP\u001b[0m\u001b[1;4;38;5;49m)\u001b[0m\u001b[1;4;38;5;49m point:\u001b[0m\n",
       "\n"
      ]
     },
     "metadata": {},
     "output_type": "display_data"
    },
    {
     "data": {
      "text/html": [
       "<div>\n",
       "<style scoped>\n",
       "    .dataframe tbody tr th:only-of-type {\n",
       "        vertical-align: middle;\n",
       "    }\n",
       "\n",
       "    .dataframe tbody tr th {\n",
       "        vertical-align: top;\n",
       "    }\n",
       "\n",
       "    .dataframe thead th {\n",
       "        text-align: right;\n",
       "    }\n",
       "</style>\n",
       "<table border=\"1\" class=\"dataframe\">\n",
       "  <thead>\n",
       "    <tr style=\"text-align: right;\">\n",
       "      <th></th>\n",
       "      <th>result</th>\n",
       "      <th>unit</th>\n",
       "    </tr>\n",
       "    <tr>\n",
       "      <th>parameter</th>\n",
       "      <th></th>\n",
       "      <th></th>\n",
       "    </tr>\n",
       "  </thead>\n",
       "  <tbody>\n",
       "    <tr>\n",
       "      <th>fake.spectrum.main.composite.a_1</th>\n",
       "      <td>1.84 -0.14 +0.09</td>\n",
       "      <td>1 / (keV s cm2)</td>\n",
       "    </tr>\n",
       "    <tr>\n",
       "      <th>fake.spectrum.main.composite.b_1</th>\n",
       "      <td>(5.0 -3.4 +4) x 10^-3</td>\n",
       "      <td>1 / (s cm2 keV2)</td>\n",
       "    </tr>\n",
       "    <tr>\n",
       "      <th>fake.spectrum.main.composite.F_2</th>\n",
       "      <td>(2.38 -0.5 +0.30) x 10</td>\n",
       "      <td>1 / (s cm2)</td>\n",
       "    </tr>\n",
       "    <tr>\n",
       "      <th>fake.spectrum.main.composite.mu_2</th>\n",
       "      <td>(2.477 -0.019 +0.015) x 10</td>\n",
       "      <td>keV</td>\n",
       "    </tr>\n",
       "    <tr>\n",
       "      <th>fake.spectrum.main.composite.sigma_2</th>\n",
       "      <td>1.09 -0.14 +0.13</td>\n",
       "      <td>keV</td>\n",
       "    </tr>\n",
       "  </tbody>\n",
       "</table>\n",
       "</div>"
      ],
      "text/plain": [
       "                                                          result  \\\n",
       "parameter                                                          \n",
       "fake.spectrum.main.composite.a_1                1.84 -0.14 +0.09   \n",
       "fake.spectrum.main.composite.b_1           (5.0 -3.4 +4) x 10^-3   \n",
       "fake.spectrum.main.composite.F_2          (2.38 -0.5 +0.30) x 10   \n",
       "fake.spectrum.main.composite.mu_2     (2.477 -0.019 +0.015) x 10   \n",
       "fake.spectrum.main.composite.sigma_2            1.09 -0.14 +0.13   \n",
       "\n",
       "                                                  unit  \n",
       "parameter                                               \n",
       "fake.spectrum.main.composite.a_1       1 / (keV s cm2)  \n",
       "fake.spectrum.main.composite.b_1      1 / (s cm2 keV2)  \n",
       "fake.spectrum.main.composite.F_2           1 / (s cm2)  \n",
       "fake.spectrum.main.composite.mu_2                  keV  \n",
       "fake.spectrum.main.composite.sigma_2               keV  "
      ]
     },
     "metadata": {},
     "output_type": "display_data"
    },
    {
     "data": {
      "text/html": [
       "<pre style=\"white-space:pre;overflow-x:auto;line-height:normal;font-family:Menlo,'DejaVu Sans Mono',consolas,'Courier New',monospace\">\n",
       "<span style=\"color: #00ffaf; text-decoration-color: #00ffaf; font-weight: bold; text-decoration: underline\">Values of -log(posterior) at the minimum:</span>\n",
       "\n",
       "</pre>\n"
      ],
      "text/plain": [
       "\n",
       "\u001b[1;4;38;5;49mValues of -\u001b[0m\u001b[1;4;38;5;49mlog\u001b[0m\u001b[1;4;38;5;49m(\u001b[0m\u001b[1;4;38;5;49mposterior\u001b[0m\u001b[1;4;38;5;49m)\u001b[0m\u001b[1;4;38;5;49m at the minimum:\u001b[0m\n",
       "\n"
      ]
     },
     "metadata": {},
     "output_type": "display_data"
    },
    {
     "data": {
      "text/html": [
       "<div>\n",
       "<style scoped>\n",
       "    .dataframe tbody tr th:only-of-type {\n",
       "        vertical-align: middle;\n",
       "    }\n",
       "\n",
       "    .dataframe tbody tr th {\n",
       "        vertical-align: top;\n",
       "    }\n",
       "\n",
       "    .dataframe thead th {\n",
       "        text-align: right;\n",
       "    }\n",
       "</style>\n",
       "<table border=\"1\" class=\"dataframe\">\n",
       "  <thead>\n",
       "    <tr style=\"text-align: right;\">\n",
       "      <th></th>\n",
       "      <th>-log(posterior)</th>\n",
       "    </tr>\n",
       "  </thead>\n",
       "  <tbody>\n",
       "    <tr>\n",
       "      <th>sim_data</th>\n",
       "      <td>-24.358456</td>\n",
       "    </tr>\n",
       "    <tr>\n",
       "      <th>total</th>\n",
       "      <td>-24.358456</td>\n",
       "    </tr>\n",
       "  </tbody>\n",
       "</table>\n",
       "</div>"
      ],
      "text/plain": [
       "          -log(posterior)\n",
       "sim_data       -24.358456\n",
       "total          -24.358456"
      ]
     },
     "metadata": {},
     "output_type": "display_data"
    },
    {
     "data": {
      "text/html": [
       "<pre style=\"white-space:pre;overflow-x:auto;line-height:normal;font-family:Menlo,'DejaVu Sans Mono',consolas,'Courier New',monospace\">\n",
       "<span style=\"color: #00ffaf; text-decoration-color: #00ffaf; font-weight: bold; text-decoration: underline\">Values of statistical measures:</span>\n",
       "\n",
       "</pre>\n"
      ],
      "text/plain": [
       "\n",
       "\u001b[1;4;38;5;49mValues of statistical measures:\u001b[0m\n",
       "\n"
      ]
     },
     "metadata": {},
     "output_type": "display_data"
    },
    {
     "data": {
      "text/html": [
       "<div>\n",
       "<style scoped>\n",
       "    .dataframe tbody tr th:only-of-type {\n",
       "        vertical-align: middle;\n",
       "    }\n",
       "\n",
       "    .dataframe tbody tr th {\n",
       "        vertical-align: top;\n",
       "    }\n",
       "\n",
       "    .dataframe thead th {\n",
       "        text-align: right;\n",
       "    }\n",
       "</style>\n",
       "<table border=\"1\" class=\"dataframe\">\n",
       "  <thead>\n",
       "    <tr style=\"text-align: right;\">\n",
       "      <th></th>\n",
       "      <th>statistical measures</th>\n",
       "    </tr>\n",
       "  </thead>\n",
       "  <tbody>\n",
       "    <tr>\n",
       "      <th>AIC</th>\n",
       "      <td>60.080549</td>\n",
       "    </tr>\n",
       "    <tr>\n",
       "      <th>BIC</th>\n",
       "      <td>68.277028</td>\n",
       "    </tr>\n",
       "    <tr>\n",
       "      <th>DIC</th>\n",
       "      <td>58.900411</td>\n",
       "    </tr>\n",
       "    <tr>\n",
       "      <th>PDIC</th>\n",
       "      <td>5.046364</td>\n",
       "    </tr>\n",
       "  </tbody>\n",
       "</table>\n",
       "</div>"
      ],
      "text/plain": [
       "      statistical measures\n",
       "AIC              60.080549\n",
       "BIC              68.277028\n",
       "DIC              58.900411\n",
       "PDIC              5.046364"
      ]
     },
     "metadata": {},
     "output_type": "display_data"
    }
   ],
   "source": [
    "\n",
    "for parameter in ar.optimized_model:\n",
    "    model[parameter.path].value = parameter.value\n",
    "\n",
    "model.fake.spectrum.main.composite.a_1.set_uninformative_prior(Uniform_prior)\n",
    "model.fake.spectrum.main.composite.b_1.set_uninformative_prior(Uniform_prior)\n",
    "model.fake.spectrum.main.composite.F_2.set_uninformative_prior(Log_uniform_prior)\n",
    "model.fake.spectrum.main.composite.mu_2.set_uninformative_prior(Uniform_prior)\n",
    "model.fake.spectrum.main.composite.sigma_2.set_uninformative_prior(Log_uniform_prior)\n",
    "\n",
    "bs = BayesianAnalysis(model, data)\n",
    "bs.set_sampler(\"emcee\")\n",
    "bs.sampler.setup(n_iterations=1000, n_burn_in=100, n_walkers=20)\n",
    "samples = bs.sample()"
   ]
  },
  {
   "cell_type": "markdown",
   "id": "f77e6706",
   "metadata": {},
   "source": [
    "Again, we grab the results from the BayesianAnalysis object:"
   ]
  },
  {
   "cell_type": "code",
   "execution_count": 30,
   "id": "872b6cc0",
   "metadata": {
    "execution": {
     "iopub.execute_input": "2024-09-11T20:33:04.838653Z",
     "iopub.status.busy": "2024-09-11T20:33:04.838457Z",
     "iopub.status.idle": "2024-09-11T20:33:04.841563Z",
     "shell.execute_reply": "2024-09-11T20:33:04.840894Z"
    }
   },
   "outputs": [],
   "source": [
    "ar2 = bs.results"
   ]
  },
  {
   "cell_type": "markdown",
   "id": "7c023811",
   "metadata": {},
   "source": [
    "We can write and read the results to/from a file:"
   ]
  },
  {
   "cell_type": "code",
   "execution_count": 31,
   "id": "86961738",
   "metadata": {
    "execution": {
     "iopub.execute_input": "2024-09-11T20:33:04.843977Z",
     "iopub.status.busy": "2024-09-11T20:33:04.843624Z",
     "iopub.status.idle": "2024-09-11T20:33:04.904066Z",
     "shell.execute_reply": "2024-09-11T20:33:04.903393Z"
    }
   },
   "outputs": [
    {
     "name": "stderr",
     "output_type": "stream",
     "text": [
      "WARNING: VerifyWarning: Card is too long, comment will be truncated. [astropy.io.fits.card]\n"
     ]
    }
   ],
   "source": [
    "ar2.write_to(\"test_bayes.fits\", overwrite=True)"
   ]
  },
  {
   "cell_type": "code",
   "execution_count": 32,
   "id": "c9062dba",
   "metadata": {
    "execution": {
     "iopub.execute_input": "2024-09-11T20:33:04.906413Z",
     "iopub.status.busy": "2024-09-11T20:33:04.906207Z",
     "iopub.status.idle": "2024-09-11T20:33:04.955937Z",
     "shell.execute_reply": "2024-09-11T20:33:04.955371Z"
    }
   },
   "outputs": [],
   "source": [
    "ar2_reloaded = load_analysis_results(\"test_bayes.fits\")"
   ]
  },
  {
   "cell_type": "markdown",
   "id": "ec5a12c8",
   "metadata": {},
   "source": [
    "The AR holds the posterior samples from the analysis. We can see the saved and live reults are the same:"
   ]
  },
  {
   "cell_type": "code",
   "execution_count": 33,
   "id": "f27ddf7d",
   "metadata": {
    "execution": {
     "iopub.execute_input": "2024-09-11T20:33:04.958829Z",
     "iopub.status.busy": "2024-09-11T20:33:04.958214Z",
     "iopub.status.idle": "2024-09-11T20:33:04.991787Z",
     "shell.execute_reply": "2024-09-11T20:33:04.991096Z"
    }
   },
   "outputs": [
    {
     "data": {
      "text/plain": [
       "True"
      ]
     },
     "execution_count": 33,
     "metadata": {},
     "output_type": "execute_result"
    }
   ],
   "source": [
    "np.allclose(ar2_reloaded.samples, ar2.samples)"
   ]
  },
  {
   "cell_type": "markdown",
   "id": "14b9b33c",
   "metadata": {},
   "source": [
    "**NOTE:** *MLE AR's store samples as well. These are the samples from the covariance matrix*\n",
    "\n",
    "We can examine the marginal distributions of the parameters:"
   ]
  },
  {
   "cell_type": "code",
   "execution_count": 34,
   "id": "b6743500",
   "metadata": {
    "execution": {
     "iopub.execute_input": "2024-09-11T20:33:04.994123Z",
     "iopub.status.busy": "2024-09-11T20:33:04.993918Z",
     "iopub.status.idle": "2024-09-11T20:33:06.441021Z",
     "shell.execute_reply": "2024-09-11T20:33:06.440336Z"
    },
    "lines_to_next_cell": 2
   },
   "outputs": [
    {
     "data": {
      "image/png": "[encoded data removed]",
      "text/plain": [
       "<Figure size 1180x1180 with 25 Axes>"
      ]
     },
     "metadata": {},
     "output_type": "display_data"
    }
   ],
   "source": [
    "fig = ar2.corner_plot()"
   ]
  },
  {
   "cell_type": "markdown",
   "id": "8b0a2791",
   "metadata": {},
   "source": [
    "We can return pandas DataFrames with equal tail or HPD results."
   ]
  },
  {
   "cell_type": "code",
   "execution_count": 35,
   "id": "146f1db4",
   "metadata": {
    "execution": {
     "iopub.execute_input": "2024-09-11T20:33:06.444636Z",
     "iopub.status.busy": "2024-09-11T20:33:06.444232Z",
     "iopub.status.idle": "2024-09-11T20:33:06.464041Z",
     "shell.execute_reply": "2024-09-11T20:33:06.463436Z"
    }
   },
   "outputs": [
    {
     "data": {
      "text/html": [
       "<div>\n",
       "<style scoped>\n",
       "    .dataframe tbody tr th:only-of-type {\n",
       "        vertical-align: middle;\n",
       "    }\n",
       "\n",
       "    .dataframe tbody tr th {\n",
       "        vertical-align: top;\n",
       "    }\n",
       "\n",
       "    .dataframe thead th {\n",
       "        text-align: right;\n",
       "    }\n",
       "</style>\n",
       "<table border=\"1\" class=\"dataframe\">\n",
       "  <thead>\n",
       "    <tr style=\"text-align: right;\">\n",
       "      <th></th>\n",
       "      <th>value</th>\n",
       "      <th>negative_error</th>\n",
       "      <th>positive_error</th>\n",
       "      <th>error</th>\n",
       "      <th>unit</th>\n",
       "    </tr>\n",
       "  </thead>\n",
       "  <tbody>\n",
       "    <tr>\n",
       "      <th>fake.spectrum.main.composite.a_1</th>\n",
       "      <td>1.838043</td>\n",
       "      <td>-0.143804</td>\n",
       "      <td>0.093666</td>\n",
       "      <td>0.118735</td>\n",
       "      <td>1 / (keV s cm2)</td>\n",
       "    </tr>\n",
       "    <tr>\n",
       "      <th>fake.spectrum.main.composite.b_1</th>\n",
       "      <td>0.004950</td>\n",
       "      <td>-0.003429</td>\n",
       "      <td>0.004424</td>\n",
       "      <td>0.003927</td>\n",
       "      <td>1 / (s cm2 keV2)</td>\n",
       "    </tr>\n",
       "    <tr>\n",
       "      <th>fake.spectrum.main.composite.F_2</th>\n",
       "      <td>23.820457</td>\n",
       "      <td>-5.039141</td>\n",
       "      <td>3.029823</td>\n",
       "      <td>4.034482</td>\n",
       "      <td>1 / (s cm2)</td>\n",
       "    </tr>\n",
       "    <tr>\n",
       "      <th>fake.spectrum.main.composite.mu_2</th>\n",
       "      <td>24.765113</td>\n",
       "      <td>-0.190736</td>\n",
       "      <td>0.151163</td>\n",
       "      <td>0.170949</td>\n",
       "      <td>keV</td>\n",
       "    </tr>\n",
       "    <tr>\n",
       "      <th>fake.spectrum.main.composite.sigma_2</th>\n",
       "      <td>1.088494</td>\n",
       "      <td>-0.142212</td>\n",
       "      <td>0.132765</td>\n",
       "      <td>0.137488</td>\n",
       "      <td>keV</td>\n",
       "    </tr>\n",
       "  </tbody>\n",
       "</table>\n",
       "</div>"
      ],
      "text/plain": [
       "                                          value  negative_error  \\\n",
       "fake.spectrum.main.composite.a_1       1.838043       -0.143804   \n",
       "fake.spectrum.main.composite.b_1       0.004950       -0.003429   \n",
       "fake.spectrum.main.composite.F_2      23.820457       -5.039141   \n",
       "fake.spectrum.main.composite.mu_2     24.765113       -0.190736   \n",
       "fake.spectrum.main.composite.sigma_2   1.088494       -0.142212   \n",
       "\n",
       "                                      positive_error     error  \\\n",
       "fake.spectrum.main.composite.a_1            0.093666  0.118735   \n",
       "fake.spectrum.main.composite.b_1            0.004424  0.003927   \n",
       "fake.spectrum.main.composite.F_2            3.029823  4.034482   \n",
       "fake.spectrum.main.composite.mu_2           0.151163  0.170949   \n",
       "fake.spectrum.main.composite.sigma_2        0.132765  0.137488   \n",
       "\n",
       "                                                  unit  \n",
       "fake.spectrum.main.composite.a_1       1 / (keV s cm2)  \n",
       "fake.spectrum.main.composite.b_1      1 / (s cm2 keV2)  \n",
       "fake.spectrum.main.composite.F_2           1 / (s cm2)  \n",
       "fake.spectrum.main.composite.mu_2                  keV  \n",
       "fake.spectrum.main.composite.sigma_2               keV  "
      ]
     },
     "execution_count": 35,
     "metadata": {},
     "output_type": "execute_result"
    }
   ],
   "source": [
    "ar2.get_data_frame(\"equal tail\")"
   ]
  },
  {
   "cell_type": "code",
   "execution_count": 36,
   "id": "b9801d52",
   "metadata": {
    "execution": {
     "iopub.execute_input": "2024-09-11T20:33:06.466387Z",
     "iopub.status.busy": "2024-09-11T20:33:06.465939Z",
     "iopub.status.idle": "2024-09-11T20:33:06.489293Z",
     "shell.execute_reply": "2024-09-11T20:33:06.488732Z"
    }
   },
   "outputs": [
    {
     "data": {
      "text/html": [
       "<div>\n",
       "<style scoped>\n",
       "    .dataframe tbody tr th:only-of-type {\n",
       "        vertical-align: middle;\n",
       "    }\n",
       "\n",
       "    .dataframe tbody tr th {\n",
       "        vertical-align: top;\n",
       "    }\n",
       "\n",
       "    .dataframe thead th {\n",
       "        text-align: right;\n",
       "    }\n",
       "</style>\n",
       "<table border=\"1\" class=\"dataframe\">\n",
       "  <thead>\n",
       "    <tr style=\"text-align: right;\">\n",
       "      <th></th>\n",
       "      <th>value</th>\n",
       "      <th>negative_error</th>\n",
       "      <th>positive_error</th>\n",
       "      <th>error</th>\n",
       "      <th>unit</th>\n",
       "    </tr>\n",
       "  </thead>\n",
       "  <tbody>\n",
       "    <tr>\n",
       "      <th>fake.spectrum.main.composite.a_1</th>\n",
       "      <td>1.838043</td>\n",
       "      <td>-0.152427</td>\n",
       "      <td>0.083824</td>\n",
       "      <td>0.118125</td>\n",
       "      <td>1 / (keV s cm2)</td>\n",
       "    </tr>\n",
       "    <tr>\n",
       "      <th>fake.spectrum.main.composite.b_1</th>\n",
       "      <td>0.004950</td>\n",
       "      <td>-0.003487</td>\n",
       "      <td>0.004314</td>\n",
       "      <td>0.003901</td>\n",
       "      <td>1 / (s cm2 keV2)</td>\n",
       "    </tr>\n",
       "    <tr>\n",
       "      <th>fake.spectrum.main.composite.F_2</th>\n",
       "      <td>23.820457</td>\n",
       "      <td>-4.940820</td>\n",
       "      <td>3.090284</td>\n",
       "      <td>4.015552</td>\n",
       "      <td>1 / (s cm2)</td>\n",
       "    </tr>\n",
       "    <tr>\n",
       "      <th>fake.spectrum.main.composite.mu_2</th>\n",
       "      <td>24.765113</td>\n",
       "      <td>-0.172381</td>\n",
       "      <td>0.166911</td>\n",
       "      <td>0.169646</td>\n",
       "      <td>keV</td>\n",
       "    </tr>\n",
       "    <tr>\n",
       "      <th>fake.spectrum.main.composite.sigma_2</th>\n",
       "      <td>1.088494</td>\n",
       "      <td>-0.148100</td>\n",
       "      <td>0.125378</td>\n",
       "      <td>0.136739</td>\n",
       "      <td>keV</td>\n",
       "    </tr>\n",
       "  </tbody>\n",
       "</table>\n",
       "</div>"
      ],
      "text/plain": [
       "                                          value  negative_error  \\\n",
       "fake.spectrum.main.composite.a_1       1.838043       -0.152427   \n",
       "fake.spectrum.main.composite.b_1       0.004950       -0.003487   \n",
       "fake.spectrum.main.composite.F_2      23.820457       -4.940820   \n",
       "fake.spectrum.main.composite.mu_2     24.765113       -0.172381   \n",
       "fake.spectrum.main.composite.sigma_2   1.088494       -0.148100   \n",
       "\n",
       "                                      positive_error     error  \\\n",
       "fake.spectrum.main.composite.a_1            0.083824  0.118125   \n",
       "fake.spectrum.main.composite.b_1            0.004314  0.003901   \n",
       "fake.spectrum.main.composite.F_2            3.090284  4.015552   \n",
       "fake.spectrum.main.composite.mu_2           0.166911  0.169646   \n",
       "fake.spectrum.main.composite.sigma_2        0.125378  0.136739   \n",
       "\n",
       "                                                  unit  \n",
       "fake.spectrum.main.composite.a_1       1 / (keV s cm2)  \n",
       "fake.spectrum.main.composite.b_1      1 / (s cm2 keV2)  \n",
       "fake.spectrum.main.composite.F_2           1 / (s cm2)  \n",
       "fake.spectrum.main.composite.mu_2                  keV  \n",
       "fake.spectrum.main.composite.sigma_2               keV  "
      ]
     },
     "execution_count": 36,
     "metadata": {},
     "output_type": "execute_result"
    }
   ],
   "source": [
    "ar2.get_data_frame(\"hpd\")"
   ]
  },
  {
   "cell_type": "markdown",
   "id": "41d94d66",
   "metadata": {},
   "source": [
    "Error propagation operates the same way. Internally, the process is the same as the MLE results, however, the samples are those of the posterior rather than the (assumed) covariance matrix."
   ]
  },
  {
   "cell_type": "code",
   "execution_count": 37,
   "id": "f92f7b19",
   "metadata": {
    "execution": {
     "iopub.execute_input": "2024-09-11T20:33:06.491825Z",
     "iopub.status.busy": "2024-09-11T20:33:06.491320Z",
     "iopub.status.idle": "2024-09-11T20:33:06.503823Z",
     "shell.execute_reply": "2024-09-11T20:33:06.503256Z"
    },
    "lines_to_next_cell": 2
   },
   "outputs": [
    {
     "name": "stdout",
     "output_type": "stream",
     "text": [
      "equal-tail: (5 +/- 4) x 10^-3, hpd: (5 +/- 4) x 10^-3\n",
      "equal-tail: 1.82 -0.12 +0.11, hpd: 1.82 -0.13 +0.10\n",
      "equal-tail: 1.82 -0.12 +0.11, hpd: 1.82 -0.12 +0.11\n"
     ]
    }
   ],
   "source": [
    "p1 = ar2.get_variates(\"fake.spectrum.main.composite.b_1\")\n",
    "p2 = ar2.get_variates(\"fake.spectrum.main.composite.a_1\")\n",
    "\n",
    "print(p1)\n",
    "print(p2)\n",
    "\n",
    "res = p1 + p2\n",
    "\n",
    "print(res)"
   ]
  },
  {
   "cell_type": "markdown",
   "id": "186b0e6b",
   "metadata": {},
   "source": [
    "To demonstrate how the two objects (MLE and Bayes) are the same, we see that our plotting function written for the MLE result works on our Bayesian results seamlessly."
   ]
  },
  {
   "cell_type": "code",
   "execution_count": 38,
   "id": "0842a6ee",
   "metadata": {
    "execution": {
     "iopub.execute_input": "2024-09-11T20:33:06.506237Z",
     "iopub.status.busy": "2024-09-11T20:33:06.505789Z",
     "iopub.status.idle": "2024-09-11T20:33:10.442913Z",
     "shell.execute_reply": "2024-09-11T20:33:10.442184Z"
    }
   },
   "outputs": [
    {
     "name": "stdout",
     "output_type": "stream",
     "text": [
      "equal-tail: 1.85 -0.13 +0.12, hpd: 1.85 -0.14 +0.10\n"
     ]
    },
    {
     "data": {
      "application/vnd.jupyter.widget-view+json": {
       "model_id": "706d43042cf24529b3280a030cf3797b",
       "version_major": 2,
       "version_minor": 0
      },
      "text/plain": [
       "Propagating errors:   0%|          | 0/100 [00:00<?, ?it/s]"
      ]
     },
     "metadata": {},
     "output_type": "display_data"
    },
    {
     "data": {
      "image/png": "[encoded data removed]",
      "text/plain": [
       "<Figure size 1040x910 with 1 Axes>"
      ]
     },
     "metadata": {},
     "output_type": "display_data"
    }
   ],
   "source": [
    "go(fitfun, ar2, model)"
   ]
  },
  {
   "cell_type": "code",
   "execution_count": null,
   "id": "45ff1ddb",
   "metadata": {},
   "outputs": [],
   "source": []
  }
 ],
 "metadata": {
  "jupytext": {
   "formats": "ipynb,md"
  },
  "kernelspec": {
   "display_name": "Python 3",
   "language": "python",
   "name": "python3"
  },
  "language_info": {
   "codemirror_mode": {
    "name": "ipython",
    "version": 3
   },
   "file_extension": ".py",
   "mimetype": "text/x-python",
   "name": "python",
   "nbconvert_exporter": "python",
   "pygments_lexer": "ipython3",
   "version": "3.9.19"
  },
  "widgets": {
   "application/vnd.jupyter.widget-state+json": {
    "state": {
     "018f761173d84cecaae897c39417b45d": {
      "model_module": "@jupyter-widgets/controls",
      "model_module_version": "2.0.0",
      "model_name": "HTMLStyleModel",
      "state": {
       "_model_module": "@jupyter-widgets/controls",
       "_model_module_version": "2.0.0",
       "_model_name": "HTMLStyleModel",
       "_view_count": null,
       "_view_module": "@jupyter-widgets/base",
       "_view_module_version": "2.0.0",
       "_view_name": "StyleView",
       "background": null,
       "description_width": "",
       "font_size": null,
       "text_color": null
      }
     },
     "0d3f3d1c0e96478eac0bd18f229f4ee5": {
      "model_module": "@jupyter-widgets/base",
      "model_module_version": "2.0.0",
      "model_name": "LayoutModel",
      "state": {
       "_model_module": "@jupyter-widgets/base",
       "_model_module_version": "2.0.0",
       "_model_name": "LayoutModel",
       "_view_count": null,
       "_view_module": "@jupyter-widgets/base",
       "_view_module_version": "2.0.0",
       "_view_name": "LayoutView",
       "align_content": null,
       "align_items": null,
       "align_self": null,
       "border_bottom": null,
       "border_left": null,
       "border_right": null,
       "border_top": null,
       "bottom": null,
       "display": null,
       "flex": null,
       "flex_flow": null,
       "grid_area": null,
       "grid_auto_columns": null,
       "grid_auto_flow": null,
       "grid_auto_rows": null,
       "grid_column": null,
       "grid_gap": null,
       "grid_row": null,
       "grid_template_areas": null,
       "grid_template_columns": null,
       "grid_template_rows": null,
       "height": null,
       "justify_content": null,
       "justify_items": null,
       "left": null,
       "margin": null,
       "max_height": null,
       "max_width": null,
       "min_height": null,
       "min_width": null,
       "object_fit": null,
       "object_position": null,
       "order": null,
       "overflow": null,
       "padding": null,
       "right": null,
       "top": null,
       "visibility": null,
       "width": null
      }
     },
     "0d62165e8f2e4a9f95eec020ac77fd03": {
      "model_module": "@jupyter-widgets/controls",
      "model_module_version": "2.0.0",
      "model_name": "ProgressStyleModel",
      "state": {
       "_model_module": "@jupyter-widgets/controls",
       "_model_module_version": "2.0.0",
       "_model_name": "ProgressStyleModel",
       "_view_count": null,
       "_view_module": "@jupyter-widgets/base",
       "_view_module_version": "2.0.0",
       "_view_name": "StyleView",
       "bar_color": "#440154",
       "description_width": ""
      }
     },
     "11cbe89b782546fc91cb409b392d714f": {
      "model_module": "@jupyter-widgets/controls",
      "model_module_version": "2.0.0",
      "model_name": "HTMLStyleModel",
      "state": {
       "_model_module": "@jupyter-widgets/controls",
       "_model_module_version": "2.0.0",
       "_model_name": "HTMLStyleModel",
       "_view_count": null,
       "_view_module": "@jupyter-widgets/base",
       "_view_module_version": "2.0.0",
       "_view_name": "StyleView",
       "background": null,
       "description_width": "",
       "font_size": null,
       "text_color": null
      }
     },
     "13de30321b314d02a5126e39a6bdc721": {
      "model_module": "@jupyter-widgets/controls",
      "model_module_version": "2.0.0",
      "model_name": "HTMLStyleModel",
      "state": {
       "_model_module": "@jupyter-widgets/controls",
       "_model_module_version": "2.0.0",
       "_model_name": "HTMLStyleModel",
       "_view_count": null,
       "_view_module": "@jupyter-widgets/base",
       "_view_module_version": "2.0.0",
       "_view_name": "StyleView",
       "background": null,
       "description_width": "",
       "font_size": null,
       "text_color": null
      }
     },
     "17e1894e67e841e1b54b644cf14b3bac": {
      "model_module": "@jupyter-widgets/controls",
      "model_module_version": "2.0.0",
      "model_name": "ProgressStyleModel",
      "state": {
       "_model_module": "@jupyter-widgets/controls",
       "_model_module_version": "2.0.0",
       "_model_name": "ProgressStyleModel",
       "_view_count": null,
       "_view_module": "@jupyter-widgets/base",
       "_view_module_version": "2.0.0",
       "_view_name": "StyleView",
       "bar_color": null,
       "description_width": ""
      }
     },
     "21f5f18e1ec544259f91e30f785ca59d": {
      "model_module": "@jupyter-widgets/controls",
      "model_module_version": "2.0.0",
      "model_name": "HTMLModel",
      "state": {
       "_dom_classes": [],
       "_model_module": "@jupyter-widgets/controls",
       "_model_module_version": "2.0.0",
       "_model_name": "HTMLModel",
       "_view_count": null,
       "_view_module": "@jupyter-widgets/controls",
       "_view_module_version": "2.0.0",
       "_view_name": "HTMLView",
       "description": "",
       "description_allow_html": false,
       "layout": "IPY_MODEL_408e5e9e1e4845e3ae3d6e4f1af9dd42",
       "placeholder": "​",
       "style": "IPY_MODEL_7135ffea4cd24c31971af5ec315cca16",
       "tabbable": null,
       "tooltip": null,
       "value": "100%"
      }
     },
     "274701da64cb4cac9b0f1eecd4406823": {
      "model_module": "@jupyter-widgets/controls",
      "model_module_version": "2.0.0",
      "model_name": "HTMLModel",
      "state": {
       "_dom_classes": [],
       "_model_module": "@jupyter-widgets/controls",
       "_model_module_version": "2.0.0",
       "_model_name": "HTMLModel",
       "_view_count": null,
       "_view_module": "@jupyter-widgets/controls",
       "_view_module_version": "2.0.0",
       "_view_name": "HTMLView",
       "description": "",
       "description_allow_html": false,
       "layout": "IPY_MODEL_96fb94d804f74c31a7622ad12c02d58b",
       "placeholder": "​",
       "style": "IPY_MODEL_31e937737e3c49c2971bdb963c9926a1",
       "tabbable": null,
       "tooltip": null,
       "value": " 100/100 [00:03&lt;00:00, 26.84it/s]"
      }
     },
     "31e937737e3c49c2971bdb963c9926a1": {
      "model_module": "@jupyter-widgets/controls",
      "model_module_version": "2.0.0",
      "model_name": "HTMLStyleModel",
      "state": {
       "_model_module": "@jupyter-widgets/controls",
       "_model_module_version": "2.0.0",
       "_model_name": "HTMLStyleModel",
       "_view_count": null,
       "_view_module": "@jupyter-widgets/base",
       "_view_module_version": "2.0.0",
       "_view_name": "StyleView",
       "background": null,
       "description_width": "",
       "font_size": null,
       "text_color": null
      }
     },
     "333ad855ade84c7e881d82140f409627": {
      "model_module": "@jupyter-widgets/base",
      "model_module_version": "2.0.0",
      "model_name": "LayoutModel",
      "state": {
       "_model_module": "@jupyter-widgets/base",
       "_model_module_version": "2.0.0",
       "_model_name": "LayoutModel",
       "_view_count": null,
       "_view_module": "@jupyter-widgets/base",
       "_view_module_version": "2.0.0",
       "_view_name": "LayoutView",
       "align_content": null,
       "align_items": null,
       "align_self": null,
       "border_bottom": null,
       "border_left": null,
       "border_right": null,
       "border_top": null,
       "bottom": null,
       "display": null,
       "flex": null,
       "flex_flow": null,
       "grid_area": null,
       "grid_auto_columns": null,
       "grid_auto_flow": null,
       "grid_auto_rows": null,
       "grid_column": null,
       "grid_gap": null,
       "grid_row": null,
       "grid_template_areas": null,
       "grid_template_columns": null,
       "grid_template_rows": null,
       "height": null,
       "justify_content": null,
       "justify_items": null,
       "left": null,
       "margin": null,
       "max_height": null,
       "max_width": null,
       "min_height": null,
       "min_width": null,
       "object_fit": null,
       "object_position": null,
       "order": null,
       "overflow": null,
       "padding": null,
       "right": null,
       "top": null,
       "visibility": null,
       "width": null
      }
     },
     "334079b3de4a439d91ce8ba50325590e": {
      "model_module": "@jupyter-widgets/controls",
      "model_module_version": "2.0.0",
      "model_name": "HTMLModel",
      "state": {
       "_dom_classes": [],
       "_model_module": "@jupyter-widgets/controls",
       "_model_module_version": "2.0.0",
       "_model_name": "HTMLModel",
       "_view_count": null,
       "_view_module": "@jupyter-widgets/controls",
       "_view_module_version": "2.0.0",
       "_view_name": "HTMLView",
       "description": "",
       "description_allow_html": false,
       "layout": "IPY_MODEL_4769f32baeef4ed2a62d03cee34cc45c",
       "placeholder": "​",
       "style": "IPY_MODEL_e5cd8c06d20c4d7fb36f51a9956fff24",
       "tabbable": null,
       "tooltip": null,
       "value": "Propagating errors: 100%"
      }
     },
     "35cbcc9e7bc94b8bb6f7025767a5cdbf": {
      "model_module": "@jupyter-widgets/controls",
      "model_module_version": "2.0.0",
      "model_name": "ProgressStyleModel",
      "state": {
       "_model_module": "@jupyter-widgets/controls",
       "_model_module_version": "2.0.0",
       "_model_name": "ProgressStyleModel",
       "_view_count": null,
       "_view_module": "@jupyter-widgets/base",
       "_view_module_version": "2.0.0",
       "_view_name": "StyleView",
       "bar_color": null,
       "description_width": ""
      }
     },
     "388874d53eae499588a75aaf7b0d4200": {
      "model_module": "@jupyter-widgets/base",
      "model_module_version": "2.0.0",
      "model_name": "LayoutModel",
      "state": {
       "_model_module": "@jupyter-widgets/base",
       "_model_module_version": "2.0.0",
       "_model_name": "LayoutModel",
       "_view_count": null,
       "_view_module": "@jupyter-widgets/base",
       "_view_module_version": "2.0.0",
       "_view_name": "LayoutView",
       "align_content": null,
       "align_items": null,
       "align_self": null,
       "border_bottom": null,
       "border_left": null,
       "border_right": null,
       "border_top": null,
       "bottom": null,
       "display": null,
       "flex": null,
       "flex_flow": null,
       "grid_area": null,
       "grid_auto_columns": null,
       "grid_auto_flow": null,
       "grid_auto_rows": null,
       "grid_column": null,
       "grid_gap": null,
       "grid_row": null,
       "grid_template_areas": null,
       "grid_template_columns": null,
       "grid_template_rows": null,
       "height": null,
       "justify_content": null,
       "justify_items": null,
       "left": null,
       "margin": null,
       "max_height": null,
       "max_width": null,
       "min_height": null,
       "min_width": null,
       "object_fit": null,
       "object_position": null,
       "order": null,
       "overflow": null,
       "padding": null,
       "right": null,
       "top": null,
       "visibility": null,
       "width": null
      }
     },
     "3d8208263c254c1f90190e4e23fc5eba": {
      "model_module": "@jupyter-widgets/controls",
      "model_module_version": "2.0.0",
      "model_name": "HTMLStyleModel",
      "state": {
       "_model_module": "@jupyter-widgets/controls",
       "_model_module_version": "2.0.0",
       "_model_name": "HTMLStyleModel",
       "_view_count": null,
       "_view_module": "@jupyter-widgets/base",
       "_view_module_version": "2.0.0",
       "_view_name": "StyleView",
       "background": null,
       "description_width": "",
       "font_size": null,
       "text_color": null
      }
     },
     "3dfa6d027fcc4742aa5036934b839ba2": {
      "model_module": "@jupyter-widgets/controls",
      "model_module_version": "2.0.0",
      "model_name": "HTMLModel",
      "state": {
       "_dom_classes": [],
       "_model_module": "@jupyter-widgets/controls",
       "_model_module_version": "2.0.0",
       "_model_name": "HTMLModel",
       "_view_count": null,
       "_view_module": "@jupyter-widgets/controls",
       "_view_module_version": "2.0.0",
       "_view_name": "HTMLView",
       "description": "",
       "description_allow_html": false,
       "layout": "IPY_MODEL_874117fc61854b1d8fe191d60da726f3",
       "placeholder": "​",
       "style": "IPY_MODEL_a91588b658324ebb93b62310dcfc86e9",
       "tabbable": null,
       "tooltip": null,
       "value": "processing MLE analyses: 100%"
      }
     },
     "408e5e9e1e4845e3ae3d6e4f1af9dd42": {
      "model_module": "@jupyter-widgets/base",
      "model_module_version": "2.0.0",
      "model_name": "LayoutModel",
      "state": {
       "_model_module": "@jupyter-widgets/base",
       "_model_module_version": "2.0.0",
       "_model_name": "LayoutModel",
       "_view_count": null,
       "_view_module": "@jupyter-widgets/base",
       "_view_module_version": "2.0.0",
       "_view_name": "LayoutView",
       "align_content": null,
       "align_items": null,
       "align_self": null,
       "border_bottom": null,
       "border_left": null,
       "border_right": null,
       "border_top": null,
       "bottom": null,
       "display": null,
       "flex": null,
       "flex_flow": null,
       "grid_area": null,
       "grid_auto_columns": null,
       "grid_auto_flow": null,
       "grid_auto_rows": null,
       "grid_column": null,
       "grid_gap": null,
       "grid_row": null,
       "grid_template_areas": null,
       "grid_template_columns": null,
       "grid_template_rows": null,
       "height": null,
       "justify_content": null,
       "justify_items": null,
       "left": null,
       "margin": null,
       "max_height": null,
       "max_width": null,
       "min_height": null,
       "min_width": null,
       "object_fit": null,
       "object_position": null,
       "order": null,
       "overflow": null,
       "padding": null,
       "right": null,
       "top": null,
       "visibility": null,
       "width": null
      }
     },
     "4095211383a24fd5b3543cda0cceefb2": {
      "model_module": "@jupyter-widgets/controls",
      "model_module_version": "2.0.0",
      "model_name": "HTMLModel",
      "state": {
       "_dom_classes": [],
       "_model_module": "@jupyter-widgets/controls",
       "_model_module_version": "2.0.0",
       "_model_name": "HTMLModel",
       "_view_count": null,
       "_view_module": "@jupyter-widgets/controls",
       "_view_module_version": "2.0.0",
       "_view_name": "HTMLView",
       "description": "",
       "description_allow_html": false,
       "layout": "IPY_MODEL_faa6c50a10dd4236a9e845f31140facd",
       "placeholder": "​",
       "style": "IPY_MODEL_018f761173d84cecaae897c39417b45d",
       "tabbable": null,
       "tooltip": null,
       "value": " 100/100 [00:00&lt;00:00, 266.71it/s]"
      }
     },
     "412d527f6fbc40c19e92fdbdd0f528cd": {
      "model_module": "@jupyter-widgets/base",
      "model_module_version": "2.0.0",
      "model_name": "LayoutModel",
      "state": {
       "_model_module": "@jupyter-widgets/base",
       "_model_module_version": "2.0.0",
       "_model_name": "LayoutModel",
       "_view_count": null,
       "_view_module": "@jupyter-widgets/base",
       "_view_module_version": "2.0.0",
       "_view_name": "LayoutView",
       "align_content": null,
       "align_items": null,
       "align_self": null,
       "border_bottom": null,
       "border_left": null,
       "border_right": null,
       "border_top": null,
       "bottom": null,
       "display": null,
       "flex": null,
       "flex_flow": null,
       "grid_area": null,
       "grid_auto_columns": null,
       "grid_auto_flow": null,
       "grid_auto_rows": null,
       "grid_column": null,
       "grid_gap": null,
       "grid_row": null,
       "grid_template_areas": null,
       "grid_template_columns": null,
       "grid_template_rows": null,
       "height": null,
       "justify_content": null,
       "justify_items": null,
       "left": null,
       "margin": null,
       "max_height": null,
       "max_width": null,
       "min_height": null,
       "min_width": null,
       "object_fit": null,
       "object_position": null,
       "order": null,
       "overflow": null,
       "padding": null,
       "right": null,
       "top": null,
       "visibility": null,
       "width": null
      }
     },
     "4769f32baeef4ed2a62d03cee34cc45c": {
      "model_module": "@jupyter-widgets/base",
      "model_module_version": "2.0.0",
      "model_name": "LayoutModel",
      "state": {
       "_model_module": "@jupyter-widgets/base",
       "_model_module_version": "2.0.0",
       "_model_name": "LayoutModel",
       "_view_count": null,
       "_view_module": "@jupyter-widgets/base",
       "_view_module_version": "2.0.0",
       "_view_name": "LayoutView",
       "align_content": null,
       "align_items": null,
       "align_self": null,
       "border_bottom": null,
       "border_left": null,
       "border_right": null,
       "border_top": null,
       "bottom": null,
       "display": null,
       "flex": null,
       "flex_flow": null,
       "grid_area": null,
       "grid_auto_columns": null,
       "grid_auto_flow": null,
       "grid_auto_rows": null,
       "grid_column": null,
       "grid_gap": null,
       "grid_row": null,
       "grid_template_areas": null,
       "grid_template_columns": null,
       "grid_template_rows": null,
       "height": null,
       "justify_content": null,
       "justify_items": null,
       "left": null,
       "margin": null,
       "max_height": null,
       "max_width": null,
       "min_height": null,
       "min_width": null,
       "object_fit": null,
       "object_position": null,
       "order": null,
       "overflow": null,
       "padding": null,
       "right": null,
       "top": null,
       "visibility": null,
       "width": null
      }
     },
     "4995460e22f34dfe96a16399807bfc6e": {
      "model_module": "@jupyter-widgets/base",
      "model_module_version": "2.0.0",
      "model_name": "LayoutModel",
      "state": {
       "_model_module": "@jupyter-widgets/base",
       "_model_module_version": "2.0.0",
       "_model_name": "LayoutModel",
       "_view_count": null,
       "_view_module": "@jupyter-widgets/base",
       "_view_module_version": "2.0.0",
       "_view_name": "LayoutView",
       "align_content": null,
       "align_items": null,
       "align_self": null,
       "border_bottom": null,
       "border_left": null,
       "border_right": null,
       "border_top": null,
       "bottom": null,
       "display": null,
       "flex": null,
       "flex_flow": null,
       "grid_area": null,
       "grid_auto_columns": null,
       "grid_auto_flow": null,
       "grid_auto_rows": null,
       "grid_column": null,
       "grid_gap": null,
       "grid_row": null,
       "grid_template_areas": null,
       "grid_template_columns": null,
       "grid_template_rows": null,
       "height": null,
       "justify_content": null,
       "justify_items": null,
       "left": null,
       "margin": null,
       "max_height": null,
       "max_width": null,
       "min_height": null,
       "min_width": null,
       "object_fit": null,
       "object_position": null,
       "order": null,
       "overflow": null,
       "padding": null,
       "right": null,
       "top": null,
       "visibility": null,
       "width": null
      }
     },
     "57436441afd743f29c57dde93f478879": {
      "model_module": "@jupyter-widgets/base",
      "model_module_version": "2.0.0",
      "model_name": "LayoutModel",
      "state": {
       "_model_module": "@jupyter-widgets/base",
       "_model_module_version": "2.0.0",
       "_model_name": "LayoutModel",
       "_view_count": null,
       "_view_module": "@jupyter-widgets/base",
       "_view_module_version": "2.0.0",
       "_view_name": "LayoutView",
       "align_content": null,
       "align_items": null,
       "align_self": null,
       "border_bottom": null,
       "border_left": null,
       "border_right": null,
       "border_top": null,
       "bottom": null,
       "display": "inline-flex",
       "flex": null,
       "flex_flow": "row wrap",
       "grid_area": null,
       "grid_auto_columns": null,
       "grid_auto_flow": null,
       "grid_auto_rows": null,
       "grid_column": null,
       "grid_gap": null,
       "grid_row": null,
       "grid_template_areas": null,
       "grid_template_columns": null,
       "grid_template_rows": null,
       "height": null,
       "justify_content": null,
       "justify_items": null,
       "left": null,
       "margin": null,
       "max_height": null,
       "max_width": null,
       "min_height": null,
       "min_width": null,
       "object_fit": null,
       "object_position": null,
       "order": null,
       "overflow": null,
       "padding": null,
       "right": null,
       "top": null,
       "visibility": null,
       "width": "100%"
      }
     },
     "5f63807e8625473ba1b22e3a0f1089e0": {
      "model_module": "@jupyter-widgets/controls",
      "model_module_version": "2.0.0",
      "model_name": "HTMLModel",
      "state": {
       "_dom_classes": [],
       "_model_module": "@jupyter-widgets/controls",
       "_model_module_version": "2.0.0",
       "_model_name": "HTMLModel",
       "_view_count": null,
       "_view_module": "@jupyter-widgets/controls",
       "_view_module_version": "2.0.0",
       "_view_name": "HTMLView",
       "description": "",
       "description_allow_html": false,
       "layout": "IPY_MODEL_0d3f3d1c0e96478eac0bd18f229f4ee5",
       "placeholder": "​",
       "style": "IPY_MODEL_efac1a21750f496ba6a875e2f2407a66",
       "tabbable": null,
       "tooltip": null,
       "value": " 100/100 [00:03&lt;00:00, 26.42it/s]"
      }
     },
     "639a224b9d934d048f96c6e70da26cdf": {
      "model_module": "@jupyter-widgets/controls",
      "model_module_version": "2.0.0",
      "model_name": "HBoxModel",
      "state": {
       "_dom_classes": [],
       "_model_module": "@jupyter-widgets/controls",
       "_model_module_version": "2.0.0",
       "_model_name": "HBoxModel",
       "_view_count": null,
       "_view_module": "@jupyter-widgets/controls",
       "_view_module_version": "2.0.0",
       "_view_name": "HBoxView",
       "box_style": "",
       "children": [
        "IPY_MODEL_3dfa6d027fcc4742aa5036934b839ba2",
        "IPY_MODEL_f5eb11d7b84849be88aa9c814a1547f1",
        "IPY_MODEL_64d7cc003267463ebb251cafdfbd0ebb"
       ],
       "layout": "IPY_MODEL_57436441afd743f29c57dde93f478879",
       "tabbable": null,
       "tooltip": null
      }
     },
     "64d7cc003267463ebb251cafdfbd0ebb": {
      "model_module": "@jupyter-widgets/controls",
      "model_module_version": "2.0.0",
      "model_name": "HTMLModel",
      "state": {
       "_dom_classes": [],
       "_model_module": "@jupyter-widgets/controls",
       "_model_module_version": "2.0.0",
       "_model_name": "HTMLModel",
       "_view_count": null,
       "_view_module": "@jupyter-widgets/controls",
       "_view_module_version": "2.0.0",
       "_view_name": "HTMLView",
       "description": "",
       "description_allow_html": false,
       "layout": "IPY_MODEL_be96d6464e434dc48e95a30069526df3",
       "placeholder": "​",
       "style": "IPY_MODEL_d32516579c7b4ac3838a7e53450e35fa",
       "tabbable": null,
       "tooltip": null,
       "value": " 1/1 [00:04&lt;00:00,  4.76s/it]"
      }
     },
     "706d43042cf24529b3280a030cf3797b": {
      "model_module": "@jupyter-widgets/controls",
      "model_module_version": "2.0.0",
      "model_name": "HBoxModel",
      "state": {
       "_dom_classes": [],
       "_model_module": "@jupyter-widgets/controls",
       "_model_module_version": "2.0.0",
       "_model_name": "HBoxModel",
       "_view_count": null,
       "_view_module": "@jupyter-widgets/controls",
       "_view_module_version": "2.0.0",
       "_view_name": "HBoxView",
       "box_style": "",
       "children": [
        "IPY_MODEL_334079b3de4a439d91ce8ba50325590e",
        "IPY_MODEL_c5059715a1db41b3b4741aad77a38aba",
        "IPY_MODEL_5f63807e8625473ba1b22e3a0f1089e0"
       ],
       "layout": "IPY_MODEL_f8eaff81f82149c08c09df9e1bf13416",
       "tabbable": null,
       "tooltip": null
      }
     },
     "70832f98f0444b7fa1a0e9d29478e2d7": {
      "model_module": "@jupyter-widgets/controls",
      "model_module_version": "2.0.0",
      "model_name": "FloatProgressModel",
      "state": {
       "_dom_classes": [],
       "_model_module": "@jupyter-widgets/controls",
       "_model_module_version": "2.0.0",
       "_model_name": "FloatProgressModel",
       "_view_count": null,
       "_view_module": "@jupyter-widgets/controls",
       "_view_module_version": "2.0.0",
       "_view_name": "ProgressView",
       "bar_style": "success",
       "description": "",
       "description_allow_html": false,
       "layout": "IPY_MODEL_412d527f6fbc40c19e92fdbdd0f528cd",
       "max": 1000.0,
       "min": 0.0,
       "orientation": "horizontal",
       "style": "IPY_MODEL_fd8709162d674a8da7bb45d41cc4803b",
       "tabbable": null,
       "tooltip": null,
       "value": 1000.0
      }
     },
     "7135ffea4cd24c31971af5ec315cca16": {
      "model_module": "@jupyter-widgets/controls",
      "model_module_version": "2.0.0",
      "model_name": "HTMLStyleModel",
      "state": {
       "_model_module": "@jupyter-widgets/controls",
       "_model_module_version": "2.0.0",
       "_model_name": "HTMLStyleModel",
       "_view_count": null,
       "_view_module": "@jupyter-widgets/base",
       "_view_module_version": "2.0.0",
       "_view_name": "StyleView",
       "background": null,
       "description_width": "",
       "font_size": null,
       "text_color": null
      }
     },
     "734055637dd14f9aba012aed694f9a11": {
      "model_module": "@jupyter-widgets/base",
      "model_module_version": "2.0.0",
      "model_name": "LayoutModel",
      "state": {
       "_model_module": "@jupyter-widgets/base",
       "_model_module_version": "2.0.0",
       "_model_name": "LayoutModel",
       "_view_count": null,
       "_view_module": "@jupyter-widgets/base",
       "_view_module_version": "2.0.0",
       "_view_name": "LayoutView",
       "align_content": null,
       "align_items": null,
       "align_self": null,
       "border_bottom": null,
       "border_left": null,
       "border_right": null,
       "border_top": null,
       "bottom": null,
       "display": null,
       "flex": null,
       "flex_flow": null,
       "grid_area": null,
       "grid_auto_columns": null,
       "grid_auto_flow": null,
       "grid_auto_rows": null,
       "grid_column": null,
       "grid_gap": null,
       "grid_row": null,
       "grid_template_areas": null,
       "grid_template_columns": null,
       "grid_template_rows": null,
       "height": null,
       "justify_content": null,
       "justify_items": null,
       "left": null,
       "margin": null,
       "max_height": null,
       "max_width": null,
       "min_height": null,
       "min_width": null,
       "object_fit": null,
       "object_position": null,
       "order": null,
       "overflow": null,
       "padding": null,
       "right": null,
       "top": null,
       "visibility": null,
       "width": null
      }
     },
     "874117fc61854b1d8fe191d60da726f3": {
      "model_module": "@jupyter-widgets/base",
      "model_module_version": "2.0.0",
      "model_name": "LayoutModel",
      "state": {
       "_model_module": "@jupyter-widgets/base",
       "_model_module_version": "2.0.0",
       "_model_name": "LayoutModel",
       "_view_count": null,
       "_view_module": "@jupyter-widgets/base",
       "_view_module_version": "2.0.0",
       "_view_name": "LayoutView",
       "align_content": null,
       "align_items": null,
       "align_self": null,
       "border_bottom": null,
       "border_left": null,
       "border_right": null,
       "border_top": null,
       "bottom": null,
       "display": null,
       "flex": null,
       "flex_flow": null,
       "grid_area": null,
       "grid_auto_columns": null,
       "grid_auto_flow": null,
       "grid_auto_rows": null,
       "grid_column": null,
       "grid_gap": null,
       "grid_row": null,
       "grid_template_areas": null,
       "grid_template_columns": null,
       "grid_template_rows": null,
       "height": null,
       "justify_content": null,
       "justify_items": null,
       "left": null,
       "margin": null,
       "max_height": null,
       "max_width": null,
       "min_height": null,
       "min_width": null,
       "object_fit": null,
       "object_position": null,
       "order": null,
       "overflow": null,
       "padding": null,
       "right": null,
       "top": null,
       "visibility": null,
       "width": null
      }
     },
     "8b249e047e1f48b0999d8894e8f0bfb6": {
      "model_module": "@jupyter-widgets/controls",
      "model_module_version": "2.0.0",
      "model_name": "HBoxModel",
      "state": {
       "_dom_classes": [],
       "_model_module": "@jupyter-widgets/controls",
       "_model_module_version": "2.0.0",
       "_model_name": "HBoxModel",
       "_view_count": null,
       "_view_module": "@jupyter-widgets/controls",
       "_view_module_version": "2.0.0",
       "_view_name": "HBoxView",
       "box_style": "",
       "children": [
        "IPY_MODEL_ddc1aef4cf8f4d66bb15795be1f78cc1",
        "IPY_MODEL_c8d0ab69b8734f11beceba5b2246b216",
        "IPY_MODEL_274701da64cb4cac9b0f1eecd4406823"
       ],
       "layout": "IPY_MODEL_333ad855ade84c7e881d82140f409627",
       "tabbable": null,
       "tooltip": null
      }
     },
     "95619b96c99e4e2f81303b69299f7ef7": {
      "model_module": "@jupyter-widgets/controls",
      "model_module_version": "2.0.0",
      "model_name": "ProgressStyleModel",
      "state": {
       "_model_module": "@jupyter-widgets/controls",
       "_model_module_version": "2.0.0",
       "_model_name": "ProgressStyleModel",
       "_view_count": null,
       "_view_module": "@jupyter-widgets/base",
       "_view_module_version": "2.0.0",
       "_view_name": "StyleView",
       "bar_color": null,
       "description_width": ""
      }
     },
     "96fb94d804f74c31a7622ad12c02d58b": {
      "model_module": "@jupyter-widgets/base",
      "model_module_version": "2.0.0",
      "model_name": "LayoutModel",
      "state": {
       "_model_module": "@jupyter-widgets/base",
       "_model_module_version": "2.0.0",
       "_model_name": "LayoutModel",
       "_view_count": null,
       "_view_module": "@jupyter-widgets/base",
       "_view_module_version": "2.0.0",
       "_view_name": "LayoutView",
       "align_content": null,
       "align_items": null,
       "align_self": null,
       "border_bottom": null,
       "border_left": null,
       "border_right": null,
       "border_top": null,
       "bottom": null,
       "display": null,
       "flex": null,
       "flex_flow": null,
       "grid_area": null,
       "grid_auto_columns": null,
       "grid_auto_flow": null,
       "grid_auto_rows": null,
       "grid_column": null,
       "grid_gap": null,
       "grid_row": null,
       "grid_template_areas": null,
       "grid_template_columns": null,
       "grid_template_rows": null,
       "height": null,
       "justify_content": null,
       "justify_items": null,
       "left": null,
       "margin": null,
       "max_height": null,
       "max_width": null,
       "min_height": null,
       "min_width": null,
       "object_fit": null,
       "object_position": null,
       "order": null,
       "overflow": null,
       "padding": null,
       "right": null,
       "top": null,
       "visibility": null,
       "width": null
      }
     },
     "9aa60d742add4972b0da0eca1ed875ed": {
      "model_module": "@jupyter-widgets/controls",
      "model_module_version": "2.0.0",
      "model_name": "HBoxModel",
      "state": {
       "_dom_classes": [],
       "_model_module": "@jupyter-widgets/controls",
       "_model_module_version": "2.0.0",
       "_model_name": "HBoxModel",
       "_view_count": null,
       "_view_module": "@jupyter-widgets/controls",
       "_view_module_version": "2.0.0",
       "_view_name": "HBoxView",
       "box_style": "",
       "children": [
        "IPY_MODEL_21f5f18e1ec544259f91e30f785ca59d",
        "IPY_MODEL_a3dabae0b2154b258dfae37597305811",
        "IPY_MODEL_4095211383a24fd5b3543cda0cceefb2"
       ],
       "layout": "IPY_MODEL_a943cbfe91e24582a46a43338e7575cb",
       "tabbable": null,
       "tooltip": null
      }
     },
     "a3ad3141c4684dc1bcbd99fa77b6cc76": {
      "model_module": "@jupyter-widgets/controls",
      "model_module_version": "2.0.0",
      "model_name": "HTMLModel",
      "state": {
       "_dom_classes": [],
       "_model_module": "@jupyter-widgets/controls",
       "_model_module_version": "2.0.0",
       "_model_name": "HTMLModel",
       "_view_count": null,
       "_view_module": "@jupyter-widgets/controls",
       "_view_module_version": "2.0.0",
       "_view_name": "HTMLView",
       "description": "",
       "description_allow_html": false,
       "layout": "IPY_MODEL_eddc376811a94fcb8facdedb423482bd",
       "placeholder": "​",
       "style": "IPY_MODEL_11cbe89b782546fc91cb409b392d714f",
       "tabbable": null,
       "tooltip": null,
       "value": " 1000/1000 [00:03&lt;00:00, 258.62it/s]"
      }
     },
     "a3dabae0b2154b258dfae37597305811": {
      "model_module": "@jupyter-widgets/controls",
      "model_module_version": "2.0.0",
      "model_name": "FloatProgressModel",
      "state": {
       "_dom_classes": [],
       "_model_module": "@jupyter-widgets/controls",
       "_model_module_version": "2.0.0",
       "_model_name": "FloatProgressModel",
       "_view_count": null,
       "_view_module": "@jupyter-widgets/controls",
       "_view_module_version": "2.0.0",
       "_view_name": "ProgressView",
       "bar_style": "success",
       "description": "",
       "description_allow_html": false,
       "layout": "IPY_MODEL_734055637dd14f9aba012aed694f9a11",
       "max": 100.0,
       "min": 0.0,
       "orientation": "horizontal",
       "style": "IPY_MODEL_35cbcc9e7bc94b8bb6f7025767a5cdbf",
       "tabbable": null,
       "tooltip": null,
       "value": 100.0
      }
     },
     "a91588b658324ebb93b62310dcfc86e9": {
      "model_module": "@jupyter-widgets/controls",
      "model_module_version": "2.0.0",
      "model_name": "HTMLStyleModel",
      "state": {
       "_model_module": "@jupyter-widgets/controls",
       "_model_module_version": "2.0.0",
       "_model_name": "HTMLStyleModel",
       "_view_count": null,
       "_view_module": "@jupyter-widgets/base",
       "_view_module_version": "2.0.0",
       "_view_name": "StyleView",
       "background": null,
       "description_width": "",
       "font_size": null,
       "text_color": null
      }
     },
     "a943cbfe91e24582a46a43338e7575cb": {
      "model_module": "@jupyter-widgets/base",
      "model_module_version": "2.0.0",
      "model_name": "LayoutModel",
      "state": {
       "_model_module": "@jupyter-widgets/base",
       "_model_module_version": "2.0.0",
       "_model_name": "LayoutModel",
       "_view_count": null,
       "_view_module": "@jupyter-widgets/base",
       "_view_module_version": "2.0.0",
       "_view_name": "LayoutView",
       "align_content": null,
       "align_items": null,
       "align_self": null,
       "border_bottom": null,
       "border_left": null,
       "border_right": null,
       "border_top": null,
       "bottom": null,
       "display": null,
       "flex": null,
       "flex_flow": null,
       "grid_area": null,
       "grid_auto_columns": null,
       "grid_auto_flow": null,
       "grid_auto_rows": null,
       "grid_column": null,
       "grid_gap": null,
       "grid_row": null,
       "grid_template_areas": null,
       "grid_template_columns": null,
       "grid_template_rows": null,
       "height": null,
       "justify_content": null,
       "justify_items": null,
       "left": null,
       "margin": null,
       "max_height": null,
       "max_width": null,
       "min_height": null,
       "min_width": null,
       "object_fit": null,
       "object_position": null,
       "order": null,
       "overflow": null,
       "padding": null,
       "right": null,
       "top": null,
       "visibility": null,
       "width": null
      }
     },
     "b02ff013d15943d3ad0eaf352697a644": {
      "model_module": "@jupyter-widgets/base",
      "model_module_version": "2.0.0",
      "model_name": "LayoutModel",
      "state": {
       "_model_module": "@jupyter-widgets/base",
       "_model_module_version": "2.0.0",
       "_model_name": "LayoutModel",
       "_view_count": null,
       "_view_module": "@jupyter-widgets/base",
       "_view_module_version": "2.0.0",
       "_view_name": "LayoutView",
       "align_content": null,
       "align_items": null,
       "align_self": null,
       "border_bottom": null,
       "border_left": null,
       "border_right": null,
       "border_top": null,
       "bottom": null,
       "display": null,
       "flex": null,
       "flex_flow": null,
       "grid_area": null,
       "grid_auto_columns": null,
       "grid_auto_flow": null,
       "grid_auto_rows": null,
       "grid_column": null,
       "grid_gap": null,
       "grid_row": null,
       "grid_template_areas": null,
       "grid_template_columns": null,
       "grid_template_rows": null,
       "height": null,
       "justify_content": null,
       "justify_items": null,
       "left": null,
       "margin": null,
       "max_height": null,
       "max_width": null,
       "min_height": null,
       "min_width": null,
       "object_fit": null,
       "object_position": null,
       "order": null,
       "overflow": null,
       "padding": null,
       "right": null,
       "top": null,
       "visibility": null,
       "width": null
      }
     },
     "be96d6464e434dc48e95a30069526df3": {
      "model_module": "@jupyter-widgets/base",
      "model_module_version": "2.0.0",
      "model_name": "LayoutModel",
      "state": {
       "_model_module": "@jupyter-widgets/base",
       "_model_module_version": "2.0.0",
       "_model_name": "LayoutModel",
       "_view_count": null,
       "_view_module": "@jupyter-widgets/base",
       "_view_module_version": "2.0.0",
       "_view_name": "LayoutView",
       "align_content": null,
       "align_items": null,
       "align_self": null,
       "border_bottom": null,
       "border_left": null,
       "border_right": null,
       "border_top": null,
       "bottom": null,
       "display": null,
       "flex": null,
       "flex_flow": null,
       "grid_area": null,
       "grid_auto_columns": null,
       "grid_auto_flow": null,
       "grid_auto_rows": null,
       "grid_column": null,
       "grid_gap": null,
       "grid_row": null,
       "grid_template_areas": null,
       "grid_template_columns": null,
       "grid_template_rows": null,
       "height": null,
       "justify_content": null,
       "justify_items": null,
       "left": null,
       "margin": null,
       "max_height": null,
       "max_width": null,
       "min_height": null,
       "min_width": null,
       "object_fit": null,
       "object_position": null,
       "order": null,
       "overflow": null,
       "padding": null,
       "right": null,
       "top": null,
       "visibility": null,
       "width": null
      }
     },
     "c5059715a1db41b3b4741aad77a38aba": {
      "model_module": "@jupyter-widgets/controls",
      "model_module_version": "2.0.0",
      "model_name": "FloatProgressModel",
      "state": {
       "_dom_classes": [],
       "_model_module": "@jupyter-widgets/controls",
       "_model_module_version": "2.0.0",
       "_model_name": "FloatProgressModel",
       "_view_count": null,
       "_view_module": "@jupyter-widgets/controls",
       "_view_module_version": "2.0.0",
       "_view_name": "ProgressView",
       "bar_style": "success",
       "description": "",
       "description_allow_html": false,
       "layout": "IPY_MODEL_b02ff013d15943d3ad0eaf352697a644",
       "max": 100.0,
       "min": 0.0,
       "orientation": "horizontal",
       "style": "IPY_MODEL_17e1894e67e841e1b54b644cf14b3bac",
       "tabbable": null,
       "tooltip": null,
       "value": 100.0
      }
     },
     "c8d0ab69b8734f11beceba5b2246b216": {
      "model_module": "@jupyter-widgets/controls",
      "model_module_version": "2.0.0",
      "model_name": "FloatProgressModel",
      "state": {
       "_dom_classes": [],
       "_model_module": "@jupyter-widgets/controls",
       "_model_module_version": "2.0.0",
       "_model_name": "FloatProgressModel",
       "_view_count": null,
       "_view_module": "@jupyter-widgets/controls",
       "_view_module_version": "2.0.0",
       "_view_name": "ProgressView",
       "bar_style": "success",
       "description": "",
       "description_allow_html": false,
       "layout": "IPY_MODEL_388874d53eae499588a75aaf7b0d4200",
       "max": 100.0,
       "min": 0.0,
       "orientation": "horizontal",
       "style": "IPY_MODEL_95619b96c99e4e2f81303b69299f7ef7",
       "tabbable": null,
       "tooltip": null,
       "value": 100.0
      }
     },
     "ccc7b6ebd0cf4250a44432b522b97386": {
      "model_module": "@jupyter-widgets/controls",
      "model_module_version": "2.0.0",
      "model_name": "HTMLModel",
      "state": {
       "_dom_classes": [],
       "_model_module": "@jupyter-widgets/controls",
       "_model_module_version": "2.0.0",
       "_model_name": "HTMLModel",
       "_view_count": null,
       "_view_module": "@jupyter-widgets/controls",
       "_view_module_version": "2.0.0",
       "_view_name": "HTMLView",
       "description": "",
       "description_allow_html": false,
       "layout": "IPY_MODEL_e382b3c8a0174546880bd7d7b68f19b1",
       "placeholder": "​",
       "style": "IPY_MODEL_13de30321b314d02a5126e39a6bdc721",
       "tabbable": null,
       "tooltip": null,
       "value": "100%"
      }
     },
     "d32516579c7b4ac3838a7e53450e35fa": {
      "model_module": "@jupyter-widgets/controls",
      "model_module_version": "2.0.0",
      "model_name": "HTMLStyleModel",
      "state": {
       "_model_module": "@jupyter-widgets/controls",
       "_model_module_version": "2.0.0",
       "_model_name": "HTMLStyleModel",
       "_view_count": null,
       "_view_module": "@jupyter-widgets/base",
       "_view_module_version": "2.0.0",
       "_view_name": "StyleView",
       "background": null,
       "description_width": "",
       "font_size": null,
       "text_color": null
      }
     },
     "ddc1aef4cf8f4d66bb15795be1f78cc1": {
      "model_module": "@jupyter-widgets/controls",
      "model_module_version": "2.0.0",
      "model_name": "HTMLModel",
      "state": {
       "_dom_classes": [],
       "_model_module": "@jupyter-widgets/controls",
       "_model_module_version": "2.0.0",
       "_model_name": "HTMLModel",
       "_view_count": null,
       "_view_module": "@jupyter-widgets/controls",
       "_view_module_version": "2.0.0",
       "_view_name": "HTMLView",
       "description": "",
       "description_allow_html": false,
       "layout": "IPY_MODEL_4995460e22f34dfe96a16399807bfc6e",
       "placeholder": "​",
       "style": "IPY_MODEL_3d8208263c254c1f90190e4e23fc5eba",
       "tabbable": null,
       "tooltip": null,
       "value": "Propagating errors: 100%"
      }
     },
     "df06b933398e4d549948a7b946608870": {
      "model_module": "@jupyter-widgets/base",
      "model_module_version": "2.0.0",
      "model_name": "LayoutModel",
      "state": {
       "_model_module": "@jupyter-widgets/base",
       "_model_module_version": "2.0.0",
       "_model_name": "LayoutModel",
       "_view_count": null,
       "_view_module": "@jupyter-widgets/base",
       "_view_module_version": "2.0.0",
       "_view_name": "LayoutView",
       "align_content": null,
       "align_items": null,
       "align_self": null,
       "border_bottom": null,
       "border_left": null,
       "border_right": null,
       "border_top": null,
       "bottom": null,
       "display": null,
       "flex": null,
       "flex_flow": null,
       "grid_area": null,
       "grid_auto_columns": null,
       "grid_auto_flow": null,
       "grid_auto_rows": null,
       "grid_column": null,
       "grid_gap": null,
       "grid_row": null,
       "grid_template_areas": null,
       "grid_template_columns": null,
       "grid_template_rows": null,
       "height": null,
       "justify_content": null,
       "justify_items": null,
       "left": null,
       "margin": null,
       "max_height": null,
       "max_width": null,
       "min_height": null,
       "min_width": null,
       "object_fit": null,
       "object_position": null,
       "order": null,
       "overflow": null,
       "padding": null,
       "right": null,
       "top": null,
       "visibility": null,
       "width": null
      }
     },
     "e382b3c8a0174546880bd7d7b68f19b1": {
      "model_module": "@jupyter-widgets/base",
      "model_module_version": "2.0.0",
      "model_name": "LayoutModel",
      "state": {
       "_model_module": "@jupyter-widgets/base",
       "_model_module_version": "2.0.0",
       "_model_name": "LayoutModel",
       "_view_count": null,
       "_view_module": "@jupyter-widgets/base",
       "_view_module_version": "2.0.0",
       "_view_name": "LayoutView",
       "align_content": null,
       "align_items": null,
       "align_self": null,
       "border_bottom": null,
       "border_left": null,
       "border_right": null,
       "border_top": null,
       "bottom": null,
       "display": null,
       "flex": null,
       "flex_flow": null,
       "grid_area": null,
       "grid_auto_columns": null,
       "grid_auto_flow": null,
       "grid_auto_rows": null,
       "grid_column": null,
       "grid_gap": null,
       "grid_row": null,
       "grid_template_areas": null,
       "grid_template_columns": null,
       "grid_template_rows": null,
       "height": null,
       "justify_content": null,
       "justify_items": null,
       "left": null,
       "margin": null,
       "max_height": null,
       "max_width": null,
       "min_height": null,
       "min_width": null,
       "object_fit": null,
       "object_position": null,
       "order": null,
       "overflow": null,
       "padding": null,
       "right": null,
       "top": null,
       "visibility": null,
       "width": null
      }
     },
     "e3a47d6f2e0848e892514c660d123aa6": {
      "model_module": "@jupyter-widgets/base",
      "model_module_version": "2.0.0",
      "model_name": "LayoutModel",
      "state": {
       "_model_module": "@jupyter-widgets/base",
       "_model_module_version": "2.0.0",
       "_model_name": "LayoutModel",
       "_view_count": null,
       "_view_module": "@jupyter-widgets/base",
       "_view_module_version": "2.0.0",
       "_view_name": "LayoutView",
       "align_content": null,
       "align_items": null,
       "align_self": null,
       "border_bottom": null,
       "border_left": null,
       "border_right": null,
       "border_top": null,
       "bottom": null,
       "display": null,
       "flex": "2",
       "flex_flow": null,
       "grid_area": null,
       "grid_auto_columns": null,
       "grid_auto_flow": null,
       "grid_auto_rows": null,
       "grid_column": null,
       "grid_gap": null,
       "grid_row": null,
       "grid_template_areas": null,
       "grid_template_columns": null,
       "grid_template_rows": null,
       "height": null,
       "justify_content": null,
       "justify_items": null,
       "left": null,
       "margin": null,
       "max_height": null,
       "max_width": null,
       "min_height": null,
       "min_width": null,
       "object_fit": null,
       "object_position": null,
       "order": null,
       "overflow": null,
       "padding": null,
       "right": null,
       "top": null,
       "visibility": null,
       "width": null
      }
     },
     "e5cd8c06d20c4d7fb36f51a9956fff24": {
      "model_module": "@jupyter-widgets/controls",
      "model_module_version": "2.0.0",
      "model_name": "HTMLStyleModel",
      "state": {
       "_model_module": "@jupyter-widgets/controls",
       "_model_module_version": "2.0.0",
       "_model_name": "HTMLStyleModel",
       "_view_count": null,
       "_view_module": "@jupyter-widgets/base",
       "_view_module_version": "2.0.0",
       "_view_name": "StyleView",
       "background": null,
       "description_width": "",
       "font_size": null,
       "text_color": null
      }
     },
     "eddc376811a94fcb8facdedb423482bd": {
      "model_module": "@jupyter-widgets/base",
      "model_module_version": "2.0.0",
      "model_name": "LayoutModel",
      "state": {
       "_model_module": "@jupyter-widgets/base",
       "_model_module_version": "2.0.0",
       "_model_name": "LayoutModel",
       "_view_count": null,
       "_view_module": "@jupyter-widgets/base",
       "_view_module_version": "2.0.0",
       "_view_name": "LayoutView",
       "align_content": null,
       "align_items": null,
       "align_self": null,
       "border_bottom": null,
       "border_left": null,
       "border_right": null,
       "border_top": null,
       "bottom": null,
       "display": null,
       "flex": null,
       "flex_flow": null,
       "grid_area": null,
       "grid_auto_columns": null,
       "grid_auto_flow": null,
       "grid_auto_rows": null,
       "grid_column": null,
       "grid_gap": null,
       "grid_row": null,
       "grid_template_areas": null,
       "grid_template_columns": null,
       "grid_template_rows": null,
       "height": null,
       "justify_content": null,
       "justify_items": null,
       "left": null,
       "margin": null,
       "max_height": null,
       "max_width": null,
       "min_height": null,
       "min_width": null,
       "object_fit": null,
       "object_position": null,
       "order": null,
       "overflow": null,
       "padding": null,
       "right": null,
       "top": null,
       "visibility": null,
       "width": null
      }
     },
     "efac1a21750f496ba6a875e2f2407a66": {
      "model_module": "@jupyter-widgets/controls",
      "model_module_version": "2.0.0",
      "model_name": "HTMLStyleModel",
      "state": {
       "_model_module": "@jupyter-widgets/controls",
       "_model_module_version": "2.0.0",
       "_model_name": "HTMLStyleModel",
       "_view_count": null,
       "_view_module": "@jupyter-widgets/base",
       "_view_module_version": "2.0.0",
       "_view_name": "StyleView",
       "background": null,
       "description_width": "",
       "font_size": null,
       "text_color": null
      }
     },
     "f5eb11d7b84849be88aa9c814a1547f1": {
      "model_module": "@jupyter-widgets/controls",
      "model_module_version": "2.0.0",
      "model_name": "FloatProgressModel",
      "state": {
       "_dom_classes": [],
       "_model_module": "@jupyter-widgets/controls",
       "_model_module_version": "2.0.0",
       "_model_name": "FloatProgressModel",
       "_view_count": null,
       "_view_module": "@jupyter-widgets/controls",
       "_view_module_version": "2.0.0",
       "_view_name": "ProgressView",
       "bar_style": "success",
       "description": "",
       "description_allow_html": false,
       "layout": "IPY_MODEL_e3a47d6f2e0848e892514c660d123aa6",
       "max": 1.0,
       "min": 0.0,
       "orientation": "horizontal",
       "style": "IPY_MODEL_0d62165e8f2e4a9f95eec020ac77fd03",
       "tabbable": null,
       "tooltip": null,
       "value": 1.0
      }
     },
     "f8eaff81f82149c08c09df9e1bf13416": {
      "model_module": "@jupyter-widgets/base",
      "model_module_version": "2.0.0",
      "model_name": "LayoutModel",
      "state": {
       "_model_module": "@jupyter-widgets/base",
       "_model_module_version": "2.0.0",
       "_model_name": "LayoutModel",
       "_view_count": null,
       "_view_module": "@jupyter-widgets/base",
       "_view_module_version": "2.0.0",
       "_view_name": "LayoutView",
       "align_content": null,
       "align_items": null,
       "align_self": null,
       "border_bottom": null,
       "border_left": null,
       "border_right": null,
       "border_top": null,
       "bottom": null,
       "display": null,
       "flex": null,
       "flex_flow": null,
       "grid_area": null,
       "grid_auto_columns": null,
       "grid_auto_flow": null,
       "grid_auto_rows": null,
       "grid_column": null,
       "grid_gap": null,
       "grid_row": null,
       "grid_template_areas": null,
       "grid_template_columns": null,
       "grid_template_rows": null,
       "height": null,
       "justify_content": null,
       "justify_items": null,
       "left": null,
       "margin": null,
       "max_height": null,
       "max_width": null,
       "min_height": null,
       "min_width": null,
       "object_fit": null,
       "object_position": null,
       "order": null,
       "overflow": null,
       "padding": null,
       "right": null,
       "top": null,
       "visibility": null,
       "width": null
      }
     },
     "faa6c50a10dd4236a9e845f31140facd": {
      "model_module": "@jupyter-widgets/base",
      "model_module_version": "2.0.0",
      "model_name": "LayoutModel",
      "state": {
       "_model_module": "@jupyter-widgets/base",
       "_model_module_version": "2.0.0",
       "_model_name": "LayoutModel",
       "_view_count": null,
       "_view_module": "@jupyter-widgets/base",
       "_view_module_version": "2.0.0",
       "_view_name": "LayoutView",
       "align_content": null,
       "align_items": null,
       "align_self": null,
       "border_bottom": null,
       "border_left": null,
       "border_right": null,
       "border_top": null,
       "bottom": null,
       "display": null,
       "flex": null,
       "flex_flow": null,
       "grid_area": null,
       "grid_auto_columns": null,
       "grid_auto_flow": null,
       "grid_auto_rows": null,
       "grid_column": null,
       "grid_gap": null,
       "grid_row": null,
       "grid_template_areas": null,
       "grid_template_columns": null,
       "grid_template_rows": null,
       "height": null,
       "justify_content": null,
       "justify_items": null,
       "left": null,
       "margin": null,
       "max_height": null,
       "max_width": null,
       "min_height": null,
       "min_width": null,
       "object_fit": null,
       "object_position": null,
       "order": null,
       "overflow": null,
       "padding": null,
       "right": null,
       "top": null,
       "visibility": null,
       "width": null
      }
     },
     "faed9e73d4894a2aa06d92de7547d19a": {
      "model_module": "@jupyter-widgets/controls",
      "model_module_version": "2.0.0",
      "model_name": "HBoxModel",
      "state": {
       "_dom_classes": [],
       "_model_module": "@jupyter-widgets/controls",
       "_model_module_version": "2.0.0",
       "_model_name": "HBoxModel",
       "_view_count": null,
       "_view_module": "@jupyter-widgets/controls",
       "_view_module_version": "2.0.0",
       "_view_name": "HBoxView",
       "box_style": "",
       "children": [
        "IPY_MODEL_ccc7b6ebd0cf4250a44432b522b97386",
        "IPY_MODEL_70832f98f0444b7fa1a0e9d29478e2d7",
        "IPY_MODEL_a3ad3141c4684dc1bcbd99fa77b6cc76"
       ],
       "layout": "IPY_MODEL_df06b933398e4d549948a7b946608870",
       "tabbable": null,
       "tooltip": null
      }
     },
     "fd8709162d674a8da7bb45d41cc4803b": {
      "model_module": "@jupyter-widgets/controls",
      "model_module_version": "2.0.0",
      "model_name": "ProgressStyleModel",
      "state": {
       "_model_module": "@jupyter-widgets/controls",
       "_model_module_version": "2.0.0",
       "_model_name": "ProgressStyleModel",
       "_view_count": null,
       "_view_module": "@jupyter-widgets/base",
       "_view_module_version": "2.0.0",
       "_view_name": "StyleView",
       "bar_color": null,
       "description_width": ""
      }
     }
    },
    "version_major": 2,
    "version_minor": 0
   }
  }
 },
 "nbformat": 4,
 "nbformat_minor": 5
}
