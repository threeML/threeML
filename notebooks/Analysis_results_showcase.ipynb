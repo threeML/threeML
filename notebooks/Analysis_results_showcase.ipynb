{
 "cells": [
  {
   "cell_type": "markdown",
   "id": "0e517c5d",
   "metadata": {},
   "source": [
    "# Analysis Results\n",
    "\n",
    "3ML stores the results of a fit in a container we call an \"Analysis Result\" (AR). The structure of this object is designed to be useable in a *live* sense within an *active* analysis (python script, ipython interactive shell, jupyter notebook) as well as storable as a FITS file for saving results for later.\n",
    "\n",
    "The structure is nearly the same between MLE and Bayesian analyses in order to make a seamless functionality between all analyses.\n"
   ]
  },
  {
   "cell_type": "code",
   "execution_count": 1,
   "id": "0498e98d",
   "metadata": {
    "execution": {
     "iopub.execute_input": "2024-10-24T23:37:19.191630Z",
     "iopub.status.busy": "2024-10-24T23:37:19.191430Z",
     "iopub.status.idle": "2024-10-24T23:37:23.082688Z",
     "shell.execute_reply": "2024-10-24T23:37:23.081959Z"
    }
   },
   "outputs": [],
   "source": [
    "%%capture\n",
    "import numpy as np\n",
    "\n",
    "np.seterr(all=\"ignore\")\n",
    "from threeML import *\n",
    "from threeML.analysis_results import *\n",
    "import astropy.units as u"
   ]
  },
  {
   "cell_type": "code",
   "execution_count": 2,
   "id": "ea9bee5b",
   "metadata": {
    "execution": {
     "iopub.execute_input": "2024-10-24T23:37:23.085164Z",
     "iopub.status.busy": "2024-10-24T23:37:23.084809Z",
     "iopub.status.idle": "2024-10-24T23:37:23.164935Z",
     "shell.execute_reply": "2024-10-24T23:37:23.164288Z"
    }
   },
   "outputs": [],
   "source": [
    "silence_logs()\n",
    "from tqdm.auto import tqdm\n",
    "from jupyterthemes import jtplot\n",
    "\n",
    "%matplotlib inline\n",
    "jtplot.style(context=\"talk\", fscale=1, ticks=True, grid=False)\n",
    "import matplotlib.pyplot as plt\n",
    "\n",
    "set_threeML_style()"
   ]
  },
  {
   "cell_type": "markdown",
   "id": "fe81d20d",
   "metadata": {},
   "source": [
    "Let's take a look at what we can do with an AR. First, we will simulate some data."
   ]
  },
  {
   "cell_type": "code",
   "execution_count": 3,
   "id": "4e0166e1",
   "metadata": {
    "execution": {
     "iopub.execute_input": "2024-10-24T23:37:23.167170Z",
     "iopub.status.busy": "2024-10-24T23:37:23.166814Z",
     "iopub.status.idle": "2024-10-24T23:37:25.091851Z",
     "shell.execute_reply": "2024-10-24T23:37:25.091148Z"
    }
   },
   "outputs": [
    {
     "data": {
      "image/png": "[encoded data removed]",
      "text/plain": [
       "<Figure size 1040x910 with 1 Axes>"
      ]
     },
     "metadata": {},
     "output_type": "display_data"
    }
   ],
   "source": [
    "gen_function = Line(a=2, b=0) + Gaussian(F=30.0, mu=25.0, sigma=1)\n",
    "\n",
    "# Generate a dataset using the line and a gaussian.\n",
    "# constant 20% error\n",
    "\n",
    "x = np.linspace(0, 50, 50)\n",
    "\n",
    "xy = XYLike.from_function(\n",
    "    \"sim_data\", function=gen_function, x=x, yerr=0.2 * gen_function(x)\n",
    ")\n",
    "\n",
    "fig = xy.plot()"
   ]
  },
  {
   "cell_type": "markdown",
   "id": "fb64a1f7",
   "metadata": {},
   "source": [
    "## MLE Results\n",
    "\n",
    "\n",
    "First we will demonstrate how AR's work for an MLE analysis on our synthetic data. As we will see, most of the functionality exists in the Bayesian AR's as well.\n",
    "\n",
    "Let's do a simple likelihood maximization of our data and model."
   ]
  },
  {
   "cell_type": "code",
   "execution_count": 4,
   "id": "73fdefae",
   "metadata": {
    "execution": {
     "iopub.execute_input": "2024-10-24T23:37:25.094045Z",
     "iopub.status.busy": "2024-10-24T23:37:25.093602Z",
     "iopub.status.idle": "2024-10-24T23:37:25.911825Z",
     "shell.execute_reply": "2024-10-24T23:37:25.911303Z"
    }
   },
   "outputs": [
    {
     "data": {
      "text/html": [
       "<pre style=\"white-space:pre;overflow-x:auto;line-height:normal;font-family:Menlo,'DejaVu Sans Mono',consolas,'Courier New',monospace\"><span style=\"color: #00ffaf; text-decoration-color: #00ffaf; font-weight: bold; text-decoration: underline\">Best fit values:</span>\n",
       "\n",
       "</pre>\n"
      ],
      "text/plain": [
       "\u001b[1;4;38;5;49mBest fit values:\u001b[0m\n",
       "\n"
      ]
     },
     "metadata": {},
     "output_type": "display_data"
    },
    {
     "data": {
      "text/html": [
       "<div>\n",
       "<style scoped>\n",
       "    .dataframe tbody tr th:only-of-type {\n",
       "        vertical-align: middle;\n",
       "    }\n",
       "\n",
       "    .dataframe tbody tr th {\n",
       "        vertical-align: top;\n",
       "    }\n",
       "\n",
       "    .dataframe thead th {\n",
       "        text-align: right;\n",
       "    }\n",
       "</style>\n",
       "<table border=\"1\" class=\"dataframe\">\n",
       "  <thead>\n",
       "    <tr style=\"text-align: right;\">\n",
       "      <th></th>\n",
       "      <th>result</th>\n",
       "      <th>unit</th>\n",
       "    </tr>\n",
       "    <tr>\n",
       "      <th>parameter</th>\n",
       "      <th></th>\n",
       "      <th></th>\n",
       "    </tr>\n",
       "  </thead>\n",
       "  <tbody>\n",
       "    <tr>\n",
       "      <th>fake.spectrum.main.composite.a_1</th>\n",
       "      <td>1.90 +/- 0.11</td>\n",
       "      <td>1 / (keV s cm2)</td>\n",
       "    </tr>\n",
       "    <tr>\n",
       "      <th>fake.spectrum.main.composite.b_1</th>\n",
       "      <td>(5 +/- 4) x 10^-3</td>\n",
       "      <td>1 / (s cm2 keV2)</td>\n",
       "    </tr>\n",
       "    <tr>\n",
       "      <th>fake.spectrum.main.composite.F_2</th>\n",
       "      <td>(3.5 +/- 0.4) x 10</td>\n",
       "      <td>1 / (s cm2)</td>\n",
       "    </tr>\n",
       "    <tr>\n",
       "      <th>fake.spectrum.main.composite.mu_2</th>\n",
       "      <td>(2.494 +/- 0.011) x 10</td>\n",
       "      <td>keV</td>\n",
       "    </tr>\n",
       "    <tr>\n",
       "      <th>fake.spectrum.main.composite.sigma_2</th>\n",
       "      <td>(10.0 +/- 0.8) x 10^-1</td>\n",
       "      <td>keV</td>\n",
       "    </tr>\n",
       "  </tbody>\n",
       "</table>\n",
       "</div>"
      ],
      "text/plain": [
       "                                                      result              unit\n",
       "parameter                                                                     \n",
       "fake.spectrum.main.composite.a_1               1.90 +/- 0.11   1 / (keV s cm2)\n",
       "fake.spectrum.main.composite.b_1           (5 +/- 4) x 10^-3  1 / (s cm2 keV2)\n",
       "fake.spectrum.main.composite.F_2          (3.5 +/- 0.4) x 10       1 / (s cm2)\n",
       "fake.spectrum.main.composite.mu_2     (2.494 +/- 0.011) x 10               keV\n",
       "fake.spectrum.main.composite.sigma_2  (10.0 +/- 0.8) x 10^-1               keV"
      ]
     },
     "metadata": {},
     "output_type": "display_data"
    },
    {
     "data": {
      "text/html": [
       "<pre style=\"white-space:pre;overflow-x:auto;line-height:normal;font-family:Menlo,'DejaVu Sans Mono',consolas,'Courier New',monospace\">\n",
       "<span style=\"color: #00ffaf; text-decoration-color: #00ffaf; font-weight: bold; text-decoration: underline\">Correlation matrix:</span>\n",
       "\n",
       "</pre>\n"
      ],
      "text/plain": [
       "\n",
       "\u001b[1;4;38;5;49mCorrelation matrix:\u001b[0m\n",
       "\n"
      ]
     },
     "metadata": {},
     "output_type": "display_data"
    },
    {
     "data": {
      "text/html": [
       "<div><table id=\"table140550428221344\">\n",
       "<tr><td>1.00</td><td>-0.85</td><td>-0.04</td><td>-0.00</td><td>-0.08</td></tr>\n",
       "<tr><td>-0.85</td><td>1.00</td><td>0.00</td><td>-0.02</td><td>-0.00</td></tr>\n",
       "<tr><td>-0.04</td><td>0.00</td><td>1.00</td><td>0.05</td><td>-0.11</td></tr>\n",
       "<tr><td>-0.00</td><td>-0.02</td><td>0.05</td><td>1.00</td><td>0.27</td></tr>\n",
       "<tr><td>-0.08</td><td>-0.00</td><td>-0.11</td><td>0.27</td><td>1.00</td></tr>\n",
       "</table></div>"
      ],
      "text/plain": [
       " 1.00 -0.85 -0.04 -0.00 -0.08\n",
       "-0.85  1.00  0.00 -0.02 -0.00\n",
       "-0.04  0.00  1.00  0.05 -0.11\n",
       "-0.00 -0.02  0.05  1.00  0.27\n",
       "-0.08 -0.00 -0.11  0.27  1.00"
      ]
     },
     "metadata": {},
     "output_type": "display_data"
    },
    {
     "data": {
      "text/html": [
       "<pre style=\"white-space:pre;overflow-x:auto;line-height:normal;font-family:Menlo,'DejaVu Sans Mono',consolas,'Courier New',monospace\">\n",
       "<span style=\"color: #00ffaf; text-decoration-color: #00ffaf; font-weight: bold; text-decoration: underline\">Values of -log(likelihood) at the minimum:</span>\n",
       "\n",
       "</pre>\n"
      ],
      "text/plain": [
       "\n",
       "\u001b[1;4;38;5;49mValues of -\u001b[0m\u001b[1;4;38;5;49mlog\u001b[0m\u001b[1;4;38;5;49m(\u001b[0m\u001b[1;4;38;5;49mlikelihood\u001b[0m\u001b[1;4;38;5;49m)\u001b[0m\u001b[1;4;38;5;49m at the minimum:\u001b[0m\n",
       "\n"
      ]
     },
     "metadata": {},
     "output_type": "display_data"
    },
    {
     "data": {
      "text/html": [
       "<div>\n",
       "<style scoped>\n",
       "    .dataframe tbody tr th:only-of-type {\n",
       "        vertical-align: middle;\n",
       "    }\n",
       "\n",
       "    .dataframe tbody tr th {\n",
       "        vertical-align: top;\n",
       "    }\n",
       "\n",
       "    .dataframe thead th {\n",
       "        text-align: right;\n",
       "    }\n",
       "</style>\n",
       "<table border=\"1\" class=\"dataframe\">\n",
       "  <thead>\n",
       "    <tr style=\"text-align: right;\">\n",
       "      <th></th>\n",
       "      <th>-log(likelihood)</th>\n",
       "    </tr>\n",
       "  </thead>\n",
       "  <tbody>\n",
       "    <tr>\n",
       "      <th>sim_data</th>\n",
       "      <td>23.807392</td>\n",
       "    </tr>\n",
       "    <tr>\n",
       "      <th>total</th>\n",
       "      <td>23.807392</td>\n",
       "    </tr>\n",
       "  </tbody>\n",
       "</table>\n",
       "</div>"
      ],
      "text/plain": [
       "          -log(likelihood)\n",
       "sim_data         23.807392\n",
       "total            23.807392"
      ]
     },
     "metadata": {},
     "output_type": "display_data"
    },
    {
     "data": {
      "text/html": [
       "<pre style=\"white-space:pre;overflow-x:auto;line-height:normal;font-family:Menlo,'DejaVu Sans Mono',consolas,'Courier New',monospace\">\n",
       "<span style=\"color: #00ffaf; text-decoration-color: #00ffaf; font-weight: bold; text-decoration: underline\">Values of statistical measures:</span>\n",
       "\n",
       "</pre>\n"
      ],
      "text/plain": [
       "\n",
       "\u001b[1;4;38;5;49mValues of statistical measures:\u001b[0m\n",
       "\n"
      ]
     },
     "metadata": {},
     "output_type": "display_data"
    },
    {
     "data": {
      "text/html": [
       "<div>\n",
       "<style scoped>\n",
       "    .dataframe tbody tr th:only-of-type {\n",
       "        vertical-align: middle;\n",
       "    }\n",
       "\n",
       "    .dataframe tbody tr th {\n",
       "        vertical-align: top;\n",
       "    }\n",
       "\n",
       "    .dataframe thead th {\n",
       "        text-align: right;\n",
       "    }\n",
       "</style>\n",
       "<table border=\"1\" class=\"dataframe\">\n",
       "  <thead>\n",
       "    <tr style=\"text-align: right;\">\n",
       "      <th></th>\n",
       "      <th>statistical measures</th>\n",
       "    </tr>\n",
       "  </thead>\n",
       "  <tbody>\n",
       "    <tr>\n",
       "      <th>AIC</th>\n",
       "      <td>58.978420</td>\n",
       "    </tr>\n",
       "    <tr>\n",
       "      <th>BIC</th>\n",
       "      <td>67.174899</td>\n",
       "    </tr>\n",
       "  </tbody>\n",
       "</table>\n",
       "</div>"
      ],
      "text/plain": [
       "     statistical measures\n",
       "AIC             58.978420\n",
       "BIC             67.174899"
      ]
     },
     "metadata": {},
     "output_type": "display_data"
    }
   ],
   "source": [
    "fitfun = Line() + Gaussian()\n",
    "\n",
    "fitfun.b_1.bounds = (-10, 10.0)\n",
    "fitfun.a_1.bounds = (-100, 100.0)\n",
    "fitfun.F_2 = 25.0\n",
    "fitfun.F_2.bounds = (1e-3, 200.0)\n",
    "fitfun.mu_2 = 25.0\n",
    "fitfun.mu_2.bounds = (0.0, 100.0)\n",
    "fitfun.sigma_2.bounds = (1e-3, 10.0)\n",
    "\n",
    "model = Model(PointSource(\"fake\", 0.0, 0.0, fitfun))\n",
    "\n",
    "data = DataList(xy)\n",
    "\n",
    "jl = JointLikelihood(model, DataList(xy))\n",
    "_ = jl.fit()"
   ]
  },
  {
   "cell_type": "markdown",
   "id": "0cb5e774",
   "metadata": {},
   "source": [
    "We can get our errors as always, but the results cannot be propagated (error propagation assumes Gaussian errors, i.e., symmetric errors)\n",
    "In this case though errors are pretty symmetric, so we are likely in the case\n",
    "where the MLE is actually normally distributed."
   ]
  },
  {
   "cell_type": "code",
   "execution_count": 5,
   "id": "5eac51ef",
   "metadata": {
    "execution": {
     "iopub.execute_input": "2024-10-24T23:37:25.913887Z",
     "iopub.status.busy": "2024-10-24T23:37:25.913684Z",
     "iopub.status.idle": "2024-10-24T23:37:25.977274Z",
     "shell.execute_reply": "2024-10-24T23:37:25.976710Z"
    }
   },
   "outputs": [
    {
     "data": {
      "text/html": [
       "<div>\n",
       "<style scoped>\n",
       "    .dataframe tbody tr th:only-of-type {\n",
       "        vertical-align: middle;\n",
       "    }\n",
       "\n",
       "    .dataframe tbody tr th {\n",
       "        vertical-align: top;\n",
       "    }\n",
       "\n",
       "    .dataframe thead th {\n",
       "        text-align: right;\n",
       "    }\n",
       "</style>\n",
       "<table border=\"1\" class=\"dataframe\">\n",
       "  <thead>\n",
       "    <tr style=\"text-align: right;\">\n",
       "      <th></th>\n",
       "      <th>result</th>\n",
       "      <th>unit</th>\n",
       "    </tr>\n",
       "    <tr>\n",
       "      <th>parameter</th>\n",
       "      <th></th>\n",
       "      <th></th>\n",
       "    </tr>\n",
       "  </thead>\n",
       "  <tbody>\n",
       "    <tr>\n",
       "      <th>fake.spectrum.main.composite.a_1</th>\n",
       "      <td>1.90 +/- 0.11</td>\n",
       "      <td>1 / (keV s cm2)</td>\n",
       "    </tr>\n",
       "    <tr>\n",
       "      <th>fake.spectrum.main.composite.b_1</th>\n",
       "      <td>(5 +/- 4) x 10^-3</td>\n",
       "      <td>1 / (s cm2 keV2)</td>\n",
       "    </tr>\n",
       "    <tr>\n",
       "      <th>fake.spectrum.main.composite.F_2</th>\n",
       "      <td>(3.5 +/- 0.4) x 10</td>\n",
       "      <td>1 / (s cm2)</td>\n",
       "    </tr>\n",
       "    <tr>\n",
       "      <th>fake.spectrum.main.composite.mu_2</th>\n",
       "      <td>(2.494 +/- 0.011) x 10</td>\n",
       "      <td>keV</td>\n",
       "    </tr>\n",
       "    <tr>\n",
       "      <th>fake.spectrum.main.composite.sigma_2</th>\n",
       "      <td>(10.0 +/- 0.8) x 10^-1</td>\n",
       "      <td>keV</td>\n",
       "    </tr>\n",
       "  </tbody>\n",
       "</table>\n",
       "</div>"
      ],
      "text/plain": [
       "                                                      result              unit\n",
       "parameter                                                                     \n",
       "fake.spectrum.main.composite.a_1               1.90 +/- 0.11   1 / (keV s cm2)\n",
       "fake.spectrum.main.composite.b_1           (5 +/- 4) x 10^-3  1 / (s cm2 keV2)\n",
       "fake.spectrum.main.composite.F_2          (3.5 +/- 0.4) x 10       1 / (s cm2)\n",
       "fake.spectrum.main.composite.mu_2     (2.494 +/- 0.011) x 10               keV\n",
       "fake.spectrum.main.composite.sigma_2  (10.0 +/- 0.8) x 10^-1               keV"
      ]
     },
     "metadata": {},
     "output_type": "display_data"
    },
    {
     "data": {
      "text/html": [
       "<div>\n",
       "<style scoped>\n",
       "    .dataframe tbody tr th:only-of-type {\n",
       "        vertical-align: middle;\n",
       "    }\n",
       "\n",
       "    .dataframe tbody tr th {\n",
       "        vertical-align: top;\n",
       "    }\n",
       "\n",
       "    .dataframe thead th {\n",
       "        text-align: right;\n",
       "    }\n",
       "</style>\n",
       "<table border=\"1\" class=\"dataframe\">\n",
       "  <thead>\n",
       "    <tr style=\"text-align: right;\">\n",
       "      <th></th>\n",
       "      <th>value</th>\n",
       "      <th>negative_error</th>\n",
       "      <th>positive_error</th>\n",
       "      <th>error</th>\n",
       "      <th>unit</th>\n",
       "    </tr>\n",
       "  </thead>\n",
       "  <tbody>\n",
       "    <tr>\n",
       "      <th>fake.spectrum.main.composite.a_1</th>\n",
       "      <td>1.896995</td>\n",
       "      <td>-0.113565</td>\n",
       "      <td>0.113259</td>\n",
       "      <td>0.113412</td>\n",
       "      <td>1 / (keV s cm2)</td>\n",
       "    </tr>\n",
       "    <tr>\n",
       "      <th>fake.spectrum.main.composite.b_1</th>\n",
       "      <td>0.004700</td>\n",
       "      <td>-0.003839</td>\n",
       "      <td>0.003849</td>\n",
       "      <td>0.003844</td>\n",
       "      <td>1 / (s cm2 keV2)</td>\n",
       "    </tr>\n",
       "    <tr>\n",
       "      <th>fake.spectrum.main.composite.F_2</th>\n",
       "      <td>35.276719</td>\n",
       "      <td>-3.979134</td>\n",
       "      <td>3.984621</td>\n",
       "      <td>3.981878</td>\n",
       "      <td>1 / (s cm2)</td>\n",
       "    </tr>\n",
       "    <tr>\n",
       "      <th>fake.spectrum.main.composite.mu_2</th>\n",
       "      <td>24.936751</td>\n",
       "      <td>-0.106996</td>\n",
       "      <td>0.105382</td>\n",
       "      <td>0.106189</td>\n",
       "      <td>keV</td>\n",
       "    </tr>\n",
       "    <tr>\n",
       "      <th>fake.spectrum.main.composite.sigma_2</th>\n",
       "      <td>0.998998</td>\n",
       "      <td>-0.081674</td>\n",
       "      <td>0.084625</td>\n",
       "      <td>0.083150</td>\n",
       "      <td>keV</td>\n",
       "    </tr>\n",
       "  </tbody>\n",
       "</table>\n",
       "</div>"
      ],
      "text/plain": [
       "                                          value  negative_error  \\\n",
       "fake.spectrum.main.composite.a_1       1.896995       -0.113565   \n",
       "fake.spectrum.main.composite.b_1       0.004700       -0.003839   \n",
       "fake.spectrum.main.composite.F_2      35.276719       -3.979134   \n",
       "fake.spectrum.main.composite.mu_2     24.936751       -0.106996   \n",
       "fake.spectrum.main.composite.sigma_2   0.998998       -0.081674   \n",
       "\n",
       "                                      positive_error     error  \\\n",
       "fake.spectrum.main.composite.a_1            0.113259  0.113412   \n",
       "fake.spectrum.main.composite.b_1            0.003849  0.003844   \n",
       "fake.spectrum.main.composite.F_2            3.984621  3.981878   \n",
       "fake.spectrum.main.composite.mu_2           0.105382  0.106189   \n",
       "fake.spectrum.main.composite.sigma_2        0.084625  0.083150   \n",
       "\n",
       "                                                  unit  \n",
       "fake.spectrum.main.composite.a_1       1 / (keV s cm2)  \n",
       "fake.spectrum.main.composite.b_1      1 / (s cm2 keV2)  \n",
       "fake.spectrum.main.composite.F_2           1 / (s cm2)  \n",
       "fake.spectrum.main.composite.mu_2                  keV  \n",
       "fake.spectrum.main.composite.sigma_2               keV  "
      ]
     },
     "execution_count": 5,
     "metadata": {},
     "output_type": "execute_result"
    }
   ],
   "source": [
    "jl.get_errors()"
   ]
  },
  {
   "cell_type": "markdown",
   "id": "52a22622",
   "metadata": {},
   "source": [
    "We need to get the AnalysisResults object that is created after a fit is performed. The AR object is a member of the JointLikelihood object"
   ]
  },
  {
   "cell_type": "code",
   "execution_count": 6,
   "id": "c7fb5927",
   "metadata": {
    "execution": {
     "iopub.execute_input": "2024-10-24T23:37:25.978997Z",
     "iopub.status.busy": "2024-10-24T23:37:25.978799Z",
     "iopub.status.idle": "2024-10-24T23:37:25.981568Z",
     "shell.execute_reply": "2024-10-24T23:37:25.981023Z"
    }
   },
   "outputs": [],
   "source": [
    "ar = jl.results"
   ]
  },
  {
   "cell_type": "markdown",
   "id": "9dd7c503",
   "metadata": {},
   "source": [
    "We can display the results of the analysis. Note, when a fit is performed, the post display is actaully from the internal AR."
   ]
  },
  {
   "cell_type": "code",
   "execution_count": 7,
   "id": "0b6ee3bc",
   "metadata": {
    "execution": {
     "iopub.execute_input": "2024-10-24T23:37:25.983465Z",
     "iopub.status.busy": "2024-10-24T23:37:25.983271Z",
     "iopub.status.idle": "2024-10-24T23:37:26.013830Z",
     "shell.execute_reply": "2024-10-24T23:37:26.013297Z"
    }
   },
   "outputs": [
    {
     "data": {
      "text/html": [
       "<pre style=\"white-space:pre;overflow-x:auto;line-height:normal;font-family:Menlo,'DejaVu Sans Mono',consolas,'Courier New',monospace\"><span style=\"color: #00ffaf; text-decoration-color: #00ffaf; font-weight: bold; text-decoration: underline\">Best fit values:</span>\n",
       "\n",
       "</pre>\n"
      ],
      "text/plain": [
       "\u001b[1;4;38;5;49mBest fit values:\u001b[0m\n",
       "\n"
      ]
     },
     "metadata": {},
     "output_type": "display_data"
    },
    {
     "data": {
      "text/html": [
       "<div>\n",
       "<style scoped>\n",
       "    .dataframe tbody tr th:only-of-type {\n",
       "        vertical-align: middle;\n",
       "    }\n",
       "\n",
       "    .dataframe tbody tr th {\n",
       "        vertical-align: top;\n",
       "    }\n",
       "\n",
       "    .dataframe thead th {\n",
       "        text-align: right;\n",
       "    }\n",
       "</style>\n",
       "<table border=\"1\" class=\"dataframe\">\n",
       "  <thead>\n",
       "    <tr style=\"text-align: right;\">\n",
       "      <th></th>\n",
       "      <th>result</th>\n",
       "      <th>unit</th>\n",
       "    </tr>\n",
       "    <tr>\n",
       "      <th>parameter</th>\n",
       "      <th></th>\n",
       "      <th></th>\n",
       "    </tr>\n",
       "  </thead>\n",
       "  <tbody>\n",
       "    <tr>\n",
       "      <th>fake.spectrum.main.composite.a_1</th>\n",
       "      <td>1.90 +/- 0.11</td>\n",
       "      <td>1 / (keV s cm2)</td>\n",
       "    </tr>\n",
       "    <tr>\n",
       "      <th>fake.spectrum.main.composite.b_1</th>\n",
       "      <td>(5 +/- 4) x 10^-3</td>\n",
       "      <td>1 / (s cm2 keV2)</td>\n",
       "    </tr>\n",
       "    <tr>\n",
       "      <th>fake.spectrum.main.composite.F_2</th>\n",
       "      <td>(3.5 +/- 0.4) x 10</td>\n",
       "      <td>1 / (s cm2)</td>\n",
       "    </tr>\n",
       "    <tr>\n",
       "      <th>fake.spectrum.main.composite.mu_2</th>\n",
       "      <td>(2.494 +/- 0.011) x 10</td>\n",
       "      <td>keV</td>\n",
       "    </tr>\n",
       "    <tr>\n",
       "      <th>fake.spectrum.main.composite.sigma_2</th>\n",
       "      <td>(10.0 +/- 0.8) x 10^-1</td>\n",
       "      <td>keV</td>\n",
       "    </tr>\n",
       "  </tbody>\n",
       "</table>\n",
       "</div>"
      ],
      "text/plain": [
       "                                                      result              unit\n",
       "parameter                                                                     \n",
       "fake.spectrum.main.composite.a_1               1.90 +/- 0.11   1 / (keV s cm2)\n",
       "fake.spectrum.main.composite.b_1           (5 +/- 4) x 10^-3  1 / (s cm2 keV2)\n",
       "fake.spectrum.main.composite.F_2          (3.5 +/- 0.4) x 10       1 / (s cm2)\n",
       "fake.spectrum.main.composite.mu_2     (2.494 +/- 0.011) x 10               keV\n",
       "fake.spectrum.main.composite.sigma_2  (10.0 +/- 0.8) x 10^-1               keV"
      ]
     },
     "metadata": {},
     "output_type": "display_data"
    },
    {
     "data": {
      "text/html": [
       "<pre style=\"white-space:pre;overflow-x:auto;line-height:normal;font-family:Menlo,'DejaVu Sans Mono',consolas,'Courier New',monospace\">\n",
       "<span style=\"color: #00ffaf; text-decoration-color: #00ffaf; font-weight: bold; text-decoration: underline\">Correlation matrix:</span>\n",
       "\n",
       "</pre>\n"
      ],
      "text/plain": [
       "\n",
       "\u001b[1;4;38;5;49mCorrelation matrix:\u001b[0m\n",
       "\n"
      ]
     },
     "metadata": {},
     "output_type": "display_data"
    },
    {
     "data": {
      "text/html": [
       "<div><table id=\"table140550415725328\">\n",
       "<tr><td>1.00</td><td>-0.85</td><td>-0.04</td><td>-0.00</td><td>-0.08</td></tr>\n",
       "<tr><td>-0.85</td><td>1.00</td><td>0.00</td><td>-0.02</td><td>-0.00</td></tr>\n",
       "<tr><td>-0.04</td><td>0.00</td><td>1.00</td><td>0.05</td><td>-0.11</td></tr>\n",
       "<tr><td>-0.00</td><td>-0.02</td><td>0.05</td><td>1.00</td><td>0.27</td></tr>\n",
       "<tr><td>-0.08</td><td>-0.00</td><td>-0.11</td><td>0.27</td><td>1.00</td></tr>\n",
       "</table></div>"
      ],
      "text/plain": [
       " 1.00 -0.85 -0.04 -0.00 -0.08\n",
       "-0.85  1.00  0.00 -0.02 -0.00\n",
       "-0.04  0.00  1.00  0.05 -0.11\n",
       "-0.00 -0.02  0.05  1.00  0.27\n",
       "-0.08 -0.00 -0.11  0.27  1.00"
      ]
     },
     "metadata": {},
     "output_type": "display_data"
    },
    {
     "data": {
      "text/html": [
       "<pre style=\"white-space:pre;overflow-x:auto;line-height:normal;font-family:Menlo,'DejaVu Sans Mono',consolas,'Courier New',monospace\">\n",
       "<span style=\"color: #00ffaf; text-decoration-color: #00ffaf; font-weight: bold; text-decoration: underline\">Values of -log(likelihood) at the minimum:</span>\n",
       "\n",
       "</pre>\n"
      ],
      "text/plain": [
       "\n",
       "\u001b[1;4;38;5;49mValues of -\u001b[0m\u001b[1;4;38;5;49mlog\u001b[0m\u001b[1;4;38;5;49m(\u001b[0m\u001b[1;4;38;5;49mlikelihood\u001b[0m\u001b[1;4;38;5;49m)\u001b[0m\u001b[1;4;38;5;49m at the minimum:\u001b[0m\n",
       "\n"
      ]
     },
     "metadata": {},
     "output_type": "display_data"
    },
    {
     "data": {
      "text/html": [
       "<div>\n",
       "<style scoped>\n",
       "    .dataframe tbody tr th:only-of-type {\n",
       "        vertical-align: middle;\n",
       "    }\n",
       "\n",
       "    .dataframe tbody tr th {\n",
       "        vertical-align: top;\n",
       "    }\n",
       "\n",
       "    .dataframe thead th {\n",
       "        text-align: right;\n",
       "    }\n",
       "</style>\n",
       "<table border=\"1\" class=\"dataframe\">\n",
       "  <thead>\n",
       "    <tr style=\"text-align: right;\">\n",
       "      <th></th>\n",
       "      <th>-log(likelihood)</th>\n",
       "    </tr>\n",
       "  </thead>\n",
       "  <tbody>\n",
       "    <tr>\n",
       "      <th>sim_data</th>\n",
       "      <td>23.807392</td>\n",
       "    </tr>\n",
       "    <tr>\n",
       "      <th>total</th>\n",
       "      <td>23.807392</td>\n",
       "    </tr>\n",
       "  </tbody>\n",
       "</table>\n",
       "</div>"
      ],
      "text/plain": [
       "          -log(likelihood)\n",
       "sim_data         23.807392\n",
       "total            23.807392"
      ]
     },
     "metadata": {},
     "output_type": "display_data"
    },
    {
     "data": {
      "text/html": [
       "<pre style=\"white-space:pre;overflow-x:auto;line-height:normal;font-family:Menlo,'DejaVu Sans Mono',consolas,'Courier New',monospace\">\n",
       "<span style=\"color: #00ffaf; text-decoration-color: #00ffaf; font-weight: bold; text-decoration: underline\">Values of statistical measures:</span>\n",
       "\n",
       "</pre>\n"
      ],
      "text/plain": [
       "\n",
       "\u001b[1;4;38;5;49mValues of statistical measures:\u001b[0m\n",
       "\n"
      ]
     },
     "metadata": {},
     "output_type": "display_data"
    },
    {
     "data": {
      "text/html": [
       "<div>\n",
       "<style scoped>\n",
       "    .dataframe tbody tr th:only-of-type {\n",
       "        vertical-align: middle;\n",
       "    }\n",
       "\n",
       "    .dataframe tbody tr th {\n",
       "        vertical-align: top;\n",
       "    }\n",
       "\n",
       "    .dataframe thead th {\n",
       "        text-align: right;\n",
       "    }\n",
       "</style>\n",
       "<table border=\"1\" class=\"dataframe\">\n",
       "  <thead>\n",
       "    <tr style=\"text-align: right;\">\n",
       "      <th></th>\n",
       "      <th>statistical measures</th>\n",
       "    </tr>\n",
       "  </thead>\n",
       "  <tbody>\n",
       "    <tr>\n",
       "      <th>AIC</th>\n",
       "      <td>58.978420</td>\n",
       "    </tr>\n",
       "    <tr>\n",
       "      <th>BIC</th>\n",
       "      <td>67.174899</td>\n",
       "    </tr>\n",
       "  </tbody>\n",
       "</table>\n",
       "</div>"
      ],
      "text/plain": [
       "     statistical measures\n",
       "AIC             58.978420\n",
       "BIC             67.174899"
      ]
     },
     "metadata": {},
     "output_type": "display_data"
    }
   ],
   "source": [
    "ar.display()"
   ]
  },
  {
   "cell_type": "markdown",
   "id": "1eea8912",
   "metadata": {},
   "source": [
    "By default, the equal tail intervals are displayed. We can instead display highest posterior densities (equal in the MLE case)"
   ]
  },
  {
   "cell_type": "code",
   "execution_count": 8,
   "id": "4b317806",
   "metadata": {
    "execution": {
     "iopub.execute_input": "2024-10-24T23:37:26.015518Z",
     "iopub.status.busy": "2024-10-24T23:37:26.015329Z",
     "iopub.status.idle": "2024-10-24T23:37:26.045694Z",
     "shell.execute_reply": "2024-10-24T23:37:26.045158Z"
    }
   },
   "outputs": [
    {
     "data": {
      "text/html": [
       "<pre style=\"white-space:pre;overflow-x:auto;line-height:normal;font-family:Menlo,'DejaVu Sans Mono',consolas,'Courier New',monospace\"><span style=\"color: #00ffaf; text-decoration-color: #00ffaf; font-weight: bold; text-decoration: underline\">Best fit values:</span>\n",
       "\n",
       "</pre>\n"
      ],
      "text/plain": [
       "\u001b[1;4;38;5;49mBest fit values:\u001b[0m\n",
       "\n"
      ]
     },
     "metadata": {},
     "output_type": "display_data"
    },
    {
     "data": {
      "text/html": [
       "<div>\n",
       "<style scoped>\n",
       "    .dataframe tbody tr th:only-of-type {\n",
       "        vertical-align: middle;\n",
       "    }\n",
       "\n",
       "    .dataframe tbody tr th {\n",
       "        vertical-align: top;\n",
       "    }\n",
       "\n",
       "    .dataframe thead th {\n",
       "        text-align: right;\n",
       "    }\n",
       "</style>\n",
       "<table border=\"1\" class=\"dataframe\">\n",
       "  <thead>\n",
       "    <tr style=\"text-align: right;\">\n",
       "      <th></th>\n",
       "      <th>result</th>\n",
       "      <th>unit</th>\n",
       "    </tr>\n",
       "    <tr>\n",
       "      <th>parameter</th>\n",
       "      <th></th>\n",
       "      <th></th>\n",
       "    </tr>\n",
       "  </thead>\n",
       "  <tbody>\n",
       "    <tr>\n",
       "      <th>fake.spectrum.main.composite.a_1</th>\n",
       "      <td>1.90 +/- 0.11</td>\n",
       "      <td>1 / (keV s cm2)</td>\n",
       "    </tr>\n",
       "    <tr>\n",
       "      <th>fake.spectrum.main.composite.b_1</th>\n",
       "      <td>(5 +/- 4) x 10^-3</td>\n",
       "      <td>1 / (s cm2 keV2)</td>\n",
       "    </tr>\n",
       "    <tr>\n",
       "      <th>fake.spectrum.main.composite.F_2</th>\n",
       "      <td>(3.5 +/- 0.4) x 10</td>\n",
       "      <td>1 / (s cm2)</td>\n",
       "    </tr>\n",
       "    <tr>\n",
       "      <th>fake.spectrum.main.composite.mu_2</th>\n",
       "      <td>(2.494 +/- 0.011) x 10</td>\n",
       "      <td>keV</td>\n",
       "    </tr>\n",
       "    <tr>\n",
       "      <th>fake.spectrum.main.composite.sigma_2</th>\n",
       "      <td>(10.0 +/- 0.8) x 10^-1</td>\n",
       "      <td>keV</td>\n",
       "    </tr>\n",
       "  </tbody>\n",
       "</table>\n",
       "</div>"
      ],
      "text/plain": [
       "                                                      result              unit\n",
       "parameter                                                                     \n",
       "fake.spectrum.main.composite.a_1               1.90 +/- 0.11   1 / (keV s cm2)\n",
       "fake.spectrum.main.composite.b_1           (5 +/- 4) x 10^-3  1 / (s cm2 keV2)\n",
       "fake.spectrum.main.composite.F_2          (3.5 +/- 0.4) x 10       1 / (s cm2)\n",
       "fake.spectrum.main.composite.mu_2     (2.494 +/- 0.011) x 10               keV\n",
       "fake.spectrum.main.composite.sigma_2  (10.0 +/- 0.8) x 10^-1               keV"
      ]
     },
     "metadata": {},
     "output_type": "display_data"
    },
    {
     "data": {
      "text/html": [
       "<pre style=\"white-space:pre;overflow-x:auto;line-height:normal;font-family:Menlo,'DejaVu Sans Mono',consolas,'Courier New',monospace\">\n",
       "<span style=\"color: #00ffaf; text-decoration-color: #00ffaf; font-weight: bold; text-decoration: underline\">Correlation matrix:</span>\n",
       "\n",
       "</pre>\n"
      ],
      "text/plain": [
       "\n",
       "\u001b[1;4;38;5;49mCorrelation matrix:\u001b[0m\n",
       "\n"
      ]
     },
     "metadata": {},
     "output_type": "display_data"
    },
    {
     "data": {
      "text/html": [
       "<div><table id=\"table140550407129696\">\n",
       "<tr><td>1.00</td><td>-0.85</td><td>-0.04</td><td>-0.00</td><td>-0.08</td></tr>\n",
       "<tr><td>-0.85</td><td>1.00</td><td>0.00</td><td>-0.02</td><td>-0.00</td></tr>\n",
       "<tr><td>-0.04</td><td>0.00</td><td>1.00</td><td>0.05</td><td>-0.11</td></tr>\n",
       "<tr><td>-0.00</td><td>-0.02</td><td>0.05</td><td>1.00</td><td>0.27</td></tr>\n",
       "<tr><td>-0.08</td><td>-0.00</td><td>-0.11</td><td>0.27</td><td>1.00</td></tr>\n",
       "</table></div>"
      ],
      "text/plain": [
       " 1.00 -0.85 -0.04 -0.00 -0.08\n",
       "-0.85  1.00  0.00 -0.02 -0.00\n",
       "-0.04  0.00  1.00  0.05 -0.11\n",
       "-0.00 -0.02  0.05  1.00  0.27\n",
       "-0.08 -0.00 -0.11  0.27  1.00"
      ]
     },
     "metadata": {},
     "output_type": "display_data"
    },
    {
     "data": {
      "text/html": [
       "<pre style=\"white-space:pre;overflow-x:auto;line-height:normal;font-family:Menlo,'DejaVu Sans Mono',consolas,'Courier New',monospace\">\n",
       "<span style=\"color: #00ffaf; text-decoration-color: #00ffaf; font-weight: bold; text-decoration: underline\">Values of -log(likelihood) at the minimum:</span>\n",
       "\n",
       "</pre>\n"
      ],
      "text/plain": [
       "\n",
       "\u001b[1;4;38;5;49mValues of -\u001b[0m\u001b[1;4;38;5;49mlog\u001b[0m\u001b[1;4;38;5;49m(\u001b[0m\u001b[1;4;38;5;49mlikelihood\u001b[0m\u001b[1;4;38;5;49m)\u001b[0m\u001b[1;4;38;5;49m at the minimum:\u001b[0m\n",
       "\n"
      ]
     },
     "metadata": {},
     "output_type": "display_data"
    },
    {
     "data": {
      "text/html": [
       "<div>\n",
       "<style scoped>\n",
       "    .dataframe tbody tr th:only-of-type {\n",
       "        vertical-align: middle;\n",
       "    }\n",
       "\n",
       "    .dataframe tbody tr th {\n",
       "        vertical-align: top;\n",
       "    }\n",
       "\n",
       "    .dataframe thead th {\n",
       "        text-align: right;\n",
       "    }\n",
       "</style>\n",
       "<table border=\"1\" class=\"dataframe\">\n",
       "  <thead>\n",
       "    <tr style=\"text-align: right;\">\n",
       "      <th></th>\n",
       "      <th>-log(likelihood)</th>\n",
       "    </tr>\n",
       "  </thead>\n",
       "  <tbody>\n",
       "    <tr>\n",
       "      <th>sim_data</th>\n",
       "      <td>23.807392</td>\n",
       "    </tr>\n",
       "    <tr>\n",
       "      <th>total</th>\n",
       "      <td>23.807392</td>\n",
       "    </tr>\n",
       "  </tbody>\n",
       "</table>\n",
       "</div>"
      ],
      "text/plain": [
       "          -log(likelihood)\n",
       "sim_data         23.807392\n",
       "total            23.807392"
      ]
     },
     "metadata": {},
     "output_type": "display_data"
    },
    {
     "data": {
      "text/html": [
       "<pre style=\"white-space:pre;overflow-x:auto;line-height:normal;font-family:Menlo,'DejaVu Sans Mono',consolas,'Courier New',monospace\">\n",
       "<span style=\"color: #00ffaf; text-decoration-color: #00ffaf; font-weight: bold; text-decoration: underline\">Values of statistical measures:</span>\n",
       "\n",
       "</pre>\n"
      ],
      "text/plain": [
       "\n",
       "\u001b[1;4;38;5;49mValues of statistical measures:\u001b[0m\n",
       "\n"
      ]
     },
     "metadata": {},
     "output_type": "display_data"
    },
    {
     "data": {
      "text/html": [
       "<div>\n",
       "<style scoped>\n",
       "    .dataframe tbody tr th:only-of-type {\n",
       "        vertical-align: middle;\n",
       "    }\n",
       "\n",
       "    .dataframe tbody tr th {\n",
       "        vertical-align: top;\n",
       "    }\n",
       "\n",
       "    .dataframe thead th {\n",
       "        text-align: right;\n",
       "    }\n",
       "</style>\n",
       "<table border=\"1\" class=\"dataframe\">\n",
       "  <thead>\n",
       "    <tr style=\"text-align: right;\">\n",
       "      <th></th>\n",
       "      <th>statistical measures</th>\n",
       "    </tr>\n",
       "  </thead>\n",
       "  <tbody>\n",
       "    <tr>\n",
       "      <th>AIC</th>\n",
       "      <td>58.978420</td>\n",
       "    </tr>\n",
       "    <tr>\n",
       "      <th>BIC</th>\n",
       "      <td>67.174899</td>\n",
       "    </tr>\n",
       "  </tbody>\n",
       "</table>\n",
       "</div>"
      ],
      "text/plain": [
       "     statistical measures\n",
       "AIC             58.978420\n",
       "BIC             67.174899"
      ]
     },
     "metadata": {},
     "output_type": "display_data"
    }
   ],
   "source": [
    "ar.display(\"hpd\")"
   ]
  },
  {
   "cell_type": "markdown",
   "id": "f8c9eb1b",
   "metadata": {},
   "source": [
    "The AR stores several properties from the analysis:"
   ]
  },
  {
   "cell_type": "code",
   "execution_count": 9,
   "id": "e4d3033f",
   "metadata": {
    "execution": {
     "iopub.execute_input": "2024-10-24T23:37:26.047658Z",
     "iopub.status.busy": "2024-10-24T23:37:26.047300Z",
     "iopub.status.idle": "2024-10-24T23:37:26.051165Z",
     "shell.execute_reply": "2024-10-24T23:37:26.050649Z"
    }
   },
   "outputs": [
    {
     "data": {
      "text/plain": [
       "'MLE'"
      ]
     },
     "execution_count": 9,
     "metadata": {},
     "output_type": "execute_result"
    }
   ],
   "source": [
    "ar.analysis_type"
   ]
  },
  {
   "cell_type": "code",
   "execution_count": 10,
   "id": "3d2daf8d",
   "metadata": {
    "execution": {
     "iopub.execute_input": "2024-10-24T23:37:26.053021Z",
     "iopub.status.busy": "2024-10-24T23:37:26.052676Z",
     "iopub.status.idle": "2024-10-24T23:37:26.056795Z",
     "shell.execute_reply": "2024-10-24T23:37:26.056275Z"
    }
   },
   "outputs": [
    {
     "data": {
      "text/plain": [
       "array([[ 1.28620005e-02, -3.69357096e-04, -1.98307515e-02,\n",
       "        -3.02063123e-05, -7.23973285e-04],\n",
       "       [-3.69357096e-04,  1.47763755e-05,  2.00100929e-06,\n",
       "        -7.88188312e-06, -9.58255626e-07],\n",
       "       [-1.98307515e-02,  2.00100929e-06,  1.58567440e+01,\n",
       "         1.96296342e-02, -3.70372373e-02],\n",
       "       [-3.02063123e-05, -7.88188312e-06,  1.96296342e-02,\n",
       "         1.11202431e-02,  2.34026679e-03],\n",
       "       [-7.23973285e-04, -9.58255626e-07, -3.70372373e-02,\n",
       "         2.34026679e-03,  6.83544427e-03]])"
      ]
     },
     "execution_count": 10,
     "metadata": {},
     "output_type": "execute_result"
    }
   ],
   "source": [
    "ar.covariance_matrix"
   ]
  },
  {
   "cell_type": "code",
   "execution_count": 11,
   "id": "26b62464",
   "metadata": {
    "execution": {
     "iopub.execute_input": "2024-10-24T23:37:26.058517Z",
     "iopub.status.busy": "2024-10-24T23:37:26.058341Z",
     "iopub.status.idle": "2024-10-24T23:37:30.651074Z",
     "shell.execute_reply": "2024-10-24T23:37:30.650383Z"
    }
   },
   "outputs": [
    {
     "data": {
      "application/vnd.jupyter.widget-view+json": {
       "model_id": "e9d329e4330a4365820691f4a55e8140",
       "version_major": 2,
       "version_minor": 0
      },
      "text/plain": [
       "processing MLE analyses:   0%|          | 0/1 [00:00<?, ?it/s]"
      ]
     },
     "metadata": {},
     "output_type": "display_data"
    },
    {
     "data": {
      "text/html": [
       "<div>\n",
       "<style scoped>\n",
       "    .dataframe tbody tr th:only-of-type {\n",
       "        vertical-align: middle;\n",
       "    }\n",
       "\n",
       "    .dataframe tbody tr th {\n",
       "        vertical-align: top;\n",
       "    }\n",
       "\n",
       "    .dataframe thead th {\n",
       "        text-align: right;\n",
       "    }\n",
       "</style>\n",
       "<table border=\"1\" class=\"dataframe\">\n",
       "  <thead>\n",
       "    <tr style=\"text-align: right;\">\n",
       "      <th></th>\n",
       "      <th>flux</th>\n",
       "      <th>low bound</th>\n",
       "      <th>hi bound</th>\n",
       "    </tr>\n",
       "  </thead>\n",
       "  <tbody>\n",
       "    <tr>\n",
       "      <th>fake: total</th>\n",
       "      <td>1.909417045214318e-05 erg / (s cm2)</td>\n",
       "      <td>1.773379461697354e-05 erg / (s cm2)</td>\n",
       "      <td>2.047586635806562e-05 erg / (s cm2)</td>\n",
       "    </tr>\n",
       "  </tbody>\n",
       "</table>\n",
       "</div>"
      ],
      "text/plain": [
       "                                            flux  \\\n",
       "fake: total  1.909417045214318e-05 erg / (s cm2)   \n",
       "\n",
       "                                       low bound  \\\n",
       "fake: total  1.773379461697354e-05 erg / (s cm2)   \n",
       "\n",
       "                                        hi bound  \n",
       "fake: total  2.047586635806562e-05 erg / (s cm2)  "
      ]
     },
     "execution_count": 11,
     "metadata": {},
     "output_type": "execute_result"
    }
   ],
   "source": [
    "ar.get_point_source_flux(1 * u.keV, 0.1 * u.MeV)"
   ]
  },
  {
   "cell_type": "code",
   "execution_count": 12,
   "id": "303167ba",
   "metadata": {
    "execution": {
     "iopub.execute_input": "2024-10-24T23:37:30.653305Z",
     "iopub.status.busy": "2024-10-24T23:37:30.652888Z",
     "iopub.status.idle": "2024-10-24T23:37:30.671796Z",
     "shell.execute_reply": "2024-10-24T23:37:30.671171Z"
    }
   },
   "outputs": [
    {
     "data": {
      "text/html": [
       "Model summary:<br><br><div>\n",
       "<style scoped>\n",
       "    .dataframe tbody tr th:only-of-type {\n",
       "        vertical-align: middle;\n",
       "    }\n",
       "\n",
       "    .dataframe tbody tr th {\n",
       "        vertical-align: top;\n",
       "    }\n",
       "\n",
       "    .dataframe thead th {\n",
       "        text-align: right;\n",
       "    }\n",
       "</style>\n",
       "<table border=\"1\" class=\"dataframe\">\n",
       "  <thead>\n",
       "    <tr style=\"text-align: right;\">\n",
       "      <th></th>\n",
       "      <th>N</th>\n",
       "    </tr>\n",
       "  </thead>\n",
       "  <tbody>\n",
       "    <tr>\n",
       "      <th>Point sources</th>\n",
       "      <td>1</td>\n",
       "    </tr>\n",
       "    <tr>\n",
       "      <th>Extended sources</th>\n",
       "      <td>0</td>\n",
       "    </tr>\n",
       "    <tr>\n",
       "      <th>Particle sources</th>\n",
       "      <td>0</td>\n",
       "    </tr>\n",
       "  </tbody>\n",
       "</table>\n",
       "</div><br><br>Free parameters (5):<br><br><div>\n",
       "<style scoped>\n",
       "    .dataframe tbody tr th:only-of-type {\n",
       "        vertical-align: middle;\n",
       "    }\n",
       "\n",
       "    .dataframe tbody tr th {\n",
       "        vertical-align: top;\n",
       "    }\n",
       "\n",
       "    .dataframe thead th {\n",
       "        text-align: right;\n",
       "    }\n",
       "</style>\n",
       "<table border=\"1\" class=\"dataframe\">\n",
       "  <thead>\n",
       "    <tr style=\"text-align: right;\">\n",
       "      <th></th>\n",
       "      <th>value</th>\n",
       "      <th>min_value</th>\n",
       "      <th>max_value</th>\n",
       "      <th>unit</th>\n",
       "    </tr>\n",
       "  </thead>\n",
       "  <tbody>\n",
       "    <tr>\n",
       "      <th>fake.spectrum.main.composite.a_1</th>\n",
       "      <td>1.896995</td>\n",
       "      <td>-100.0</td>\n",
       "      <td>100.0</td>\n",
       "      <td>keV-1 s-1 cm-2</td>\n",
       "    </tr>\n",
       "    <tr>\n",
       "      <th>fake.spectrum.main.composite.b_1</th>\n",
       "      <td>0.0047</td>\n",
       "      <td>-10.0</td>\n",
       "      <td>10.0</td>\n",
       "      <td>s-1 cm-2 keV-2</td>\n",
       "    </tr>\n",
       "    <tr>\n",
       "      <th>fake.spectrum.main.composite.F_2</th>\n",
       "      <td>35.276719</td>\n",
       "      <td>0.001</td>\n",
       "      <td>200.0</td>\n",
       "      <td>s-1 cm-2</td>\n",
       "    </tr>\n",
       "    <tr>\n",
       "      <th>fake.spectrum.main.composite.mu_2</th>\n",
       "      <td>24.936751</td>\n",
       "      <td>0.0</td>\n",
       "      <td>100.0</td>\n",
       "      <td>keV</td>\n",
       "    </tr>\n",
       "    <tr>\n",
       "      <th>fake.spectrum.main.composite.sigma_2</th>\n",
       "      <td>0.998998</td>\n",
       "      <td>0.001</td>\n",
       "      <td>10.0</td>\n",
       "      <td>keV</td>\n",
       "    </tr>\n",
       "  </tbody>\n",
       "</table>\n",
       "</div><br><br>Fixed parameters (2):<br>(abridged. Use complete=True to see all fixed parameters)<br><br><br>Properties (0):<br><br>(none)<br><br><br>Linked parameters (0):<br><br>(none)<br><br>Independent variables:<br><br>(none)<br><br>Linked functions (0):<br><br>(none)<br>"
      ],
      "text/plain": [
       "Model summary:\n",
       "==============\n",
       "\n",
       "                  N\n",
       "Point sources     1\n",
       "Extended sources  0\n",
       "Particle sources  0\n",
       "\n",
       "Free parameters (5):\n",
       "--------------------\n",
       "\n",
       "                                          value min_value max_value  \\\n",
       "fake.spectrum.main.composite.a_1       1.896995    -100.0     100.0   \n",
       "fake.spectrum.main.composite.b_1         0.0047     -10.0      10.0   \n",
       "fake.spectrum.main.composite.F_2      35.276719     0.001     200.0   \n",
       "fake.spectrum.main.composite.mu_2     24.936751       0.0     100.0   \n",
       "fake.spectrum.main.composite.sigma_2   0.998998     0.001      10.0   \n",
       "\n",
       "                                                unit  \n",
       "fake.spectrum.main.composite.a_1      keV-1 s-1 cm-2  \n",
       "fake.spectrum.main.composite.b_1      s-1 cm-2 keV-2  \n",
       "fake.spectrum.main.composite.F_2            s-1 cm-2  \n",
       "fake.spectrum.main.composite.mu_2                keV  \n",
       "fake.spectrum.main.composite.sigma_2             keV  \n",
       "\n",
       "Fixed parameters (2):\n",
       "(abridged. Use complete=True to see all fixed parameters)\n",
       "\n",
       "\n",
       "Properties (0):\n",
       "--------------------\n",
       "\n",
       "(none)\n",
       "\n",
       "\n",
       "Linked parameters (0):\n",
       "----------------------\n",
       "\n",
       "(none)\n",
       "\n",
       "Independent variables:\n",
       "----------------------\n",
       "\n",
       "(none)\n",
       "\n",
       "Linked functions (0):\n",
       "----------------------\n",
       "\n",
       "(none)"
      ]
     },
     "execution_count": 12,
     "metadata": {},
     "output_type": "execute_result"
    }
   ],
   "source": [
    "ar.optimized_model"
   ]
  },
  {
   "cell_type": "markdown",
   "id": "849fb81c",
   "metadata": {},
   "source": [
    "## Saving results to disk\n",
    "\n",
    "The beauty of the analysis result is that all of this information can be written to disk and restored at a later time. The statistical parameters, best-fit model, etc. can all be recovered.\n",
    "\n",
    "AR's are stored as a structured FITS file. We write the AR like this:"
   ]
  },
  {
   "cell_type": "code",
   "execution_count": 13,
   "id": "97305399",
   "metadata": {
    "execution": {
     "iopub.execute_input": "2024-10-24T23:37:30.673957Z",
     "iopub.status.busy": "2024-10-24T23:37:30.673503Z",
     "iopub.status.idle": "2024-10-24T23:37:30.713650Z",
     "shell.execute_reply": "2024-10-24T23:37:30.712996Z"
    }
   },
   "outputs": [
    {
     "name": "stderr",
     "output_type": "stream",
     "text": [
      "WARNING: VerifyWarning: Card is too long, comment will be truncated. [astropy.io.fits.card]\n"
     ]
    }
   ],
   "source": [
    "ar.write_to(\"test_mle.fits\", overwrite=True)"
   ]
  },
  {
   "cell_type": "markdown",
   "id": "445ca5e5",
   "metadata": {},
   "source": [
    "The FITS file can be examines with any normal FITS reader."
   ]
  },
  {
   "cell_type": "code",
   "execution_count": 14,
   "id": "0e247ddc",
   "metadata": {
    "execution": {
     "iopub.execute_input": "2024-10-24T23:37:30.715631Z",
     "iopub.status.busy": "2024-10-24T23:37:30.715265Z",
     "iopub.status.idle": "2024-10-24T23:37:30.718068Z",
     "shell.execute_reply": "2024-10-24T23:37:30.717536Z"
    }
   },
   "outputs": [],
   "source": [
    "import astropy.io.fits as fits"
   ]
  },
  {
   "cell_type": "code",
   "execution_count": 15,
   "id": "b01e1a20",
   "metadata": {
    "execution": {
     "iopub.execute_input": "2024-10-24T23:37:30.719822Z",
     "iopub.status.busy": "2024-10-24T23:37:30.719632Z",
     "iopub.status.idle": "2024-10-24T23:37:30.725236Z",
     "shell.execute_reply": "2024-10-24T23:37:30.724684Z"
    }
   },
   "outputs": [
    {
     "name": "stdout",
     "output_type": "stream",
     "text": [
      "Filename: test_mle.fits\n",
      "No.    Name      Ver    Type      Cards   Dimensions   Format\n",
      "  0  PRIMARY       1 PrimaryHDU       6   ()      \n",
      "  1  ANALYSIS_RESULTS    1 BinTableHDU     38   5R x 9C   [36A, D, D, D, D, 16A, 5D, D, D]   \n"
     ]
    }
   ],
   "source": [
    "ar_fits = fits.open(\"test_mle.fits\")\n",
    "ar_fits.info()"
   ]
  },
  {
   "cell_type": "markdown",
   "id": "61059e69",
   "metadata": {},
   "source": [
    "However, to easily pull the results back into the 3ML framework, we use the ${\\tt load\\_analysis\\_results}$ function:"
   ]
  },
  {
   "cell_type": "code",
   "execution_count": 16,
   "id": "e341f761",
   "metadata": {
    "execution": {
     "iopub.execute_input": "2024-10-24T23:37:30.727177Z",
     "iopub.status.busy": "2024-10-24T23:37:30.726829Z",
     "iopub.status.idle": "2024-10-24T23:37:30.786629Z",
     "shell.execute_reply": "2024-10-24T23:37:30.786118Z"
    }
   },
   "outputs": [],
   "source": [
    "ar_reloaded = load_analysis_results(\"test_mle.fits\")"
   ]
  },
  {
   "cell_type": "code",
   "execution_count": 17,
   "id": "be000a60",
   "metadata": {
    "execution": {
     "iopub.execute_input": "2024-10-24T23:37:30.788389Z",
     "iopub.status.busy": "2024-10-24T23:37:30.788093Z",
     "iopub.status.idle": "2024-10-24T23:37:30.794018Z",
     "shell.execute_reply": "2024-10-24T23:37:30.793520Z"
    }
   },
   "outputs": [
    {
     "data": {
      "text/html": [
       "<div>\n",
       "<style scoped>\n",
       "    .dataframe tbody tr th:only-of-type {\n",
       "        vertical-align: middle;\n",
       "    }\n",
       "\n",
       "    .dataframe tbody tr th {\n",
       "        vertical-align: top;\n",
       "    }\n",
       "\n",
       "    .dataframe thead th {\n",
       "        text-align: right;\n",
       "    }\n",
       "</style>\n",
       "<table border=\"1\" class=\"dataframe\">\n",
       "  <thead>\n",
       "    <tr style=\"text-align: right;\">\n",
       "      <th></th>\n",
       "      <th>-log(likelihood)</th>\n",
       "    </tr>\n",
       "  </thead>\n",
       "  <tbody>\n",
       "    <tr>\n",
       "      <th>sim_data</th>\n",
       "      <td>23.807392</td>\n",
       "    </tr>\n",
       "    <tr>\n",
       "      <th>total</th>\n",
       "      <td>23.807392</td>\n",
       "    </tr>\n",
       "  </tbody>\n",
       "</table>\n",
       "</div>"
      ],
      "text/plain": [
       "          -log(likelihood)\n",
       "sim_data         23.807392\n",
       "total            23.807392"
      ]
     },
     "execution_count": 17,
     "metadata": {},
     "output_type": "execute_result"
    }
   ],
   "source": [
    "ar_reloaded.get_statistic_frame()"
   ]
  },
  {
   "cell_type": "markdown",
   "id": "930c10b1",
   "metadata": {},
   "source": [
    "You can get a DataFrame with the saved results:"
   ]
  },
  {
   "cell_type": "code",
   "execution_count": 18,
   "id": "62d2d8e9",
   "metadata": {
    "execution": {
     "iopub.execute_input": "2024-10-24T23:37:30.796026Z",
     "iopub.status.busy": "2024-10-24T23:37:30.795667Z",
     "iopub.status.idle": "2024-10-24T23:37:30.812988Z",
     "shell.execute_reply": "2024-10-24T23:37:30.812453Z"
    }
   },
   "outputs": [
    {
     "data": {
      "text/html": [
       "<div>\n",
       "<style scoped>\n",
       "    .dataframe tbody tr th:only-of-type {\n",
       "        vertical-align: middle;\n",
       "    }\n",
       "\n",
       "    .dataframe tbody tr th {\n",
       "        vertical-align: top;\n",
       "    }\n",
       "\n",
       "    .dataframe thead th {\n",
       "        text-align: right;\n",
       "    }\n",
       "</style>\n",
       "<table border=\"1\" class=\"dataframe\">\n",
       "  <thead>\n",
       "    <tr style=\"text-align: right;\">\n",
       "      <th></th>\n",
       "      <th>value</th>\n",
       "      <th>negative_error</th>\n",
       "      <th>positive_error</th>\n",
       "      <th>error</th>\n",
       "      <th>unit</th>\n",
       "    </tr>\n",
       "  </thead>\n",
       "  <tbody>\n",
       "    <tr>\n",
       "      <th>fake.spectrum.main.composite.a_1</th>\n",
       "      <td>1.896995</td>\n",
       "      <td>-0.119268</td>\n",
       "      <td>0.110435</td>\n",
       "      <td>0.114851</td>\n",
       "      <td>1 / (keV s cm2)</td>\n",
       "    </tr>\n",
       "    <tr>\n",
       "      <th>fake.spectrum.main.composite.b_1</th>\n",
       "      <td>0.004700</td>\n",
       "      <td>-0.003721</td>\n",
       "      <td>0.003993</td>\n",
       "      <td>0.003857</td>\n",
       "      <td>1 / (s cm2 keV2)</td>\n",
       "    </tr>\n",
       "    <tr>\n",
       "      <th>fake.spectrum.main.composite.F_2</th>\n",
       "      <td>35.276719</td>\n",
       "      <td>-4.012694</td>\n",
       "      <td>4.056738</td>\n",
       "      <td>4.034716</td>\n",
       "      <td>1 / (s cm2)</td>\n",
       "    </tr>\n",
       "    <tr>\n",
       "      <th>fake.spectrum.main.composite.mu_2</th>\n",
       "      <td>24.936751</td>\n",
       "      <td>-0.104484</td>\n",
       "      <td>0.107854</td>\n",
       "      <td>0.106169</td>\n",
       "      <td>keV</td>\n",
       "    </tr>\n",
       "    <tr>\n",
       "      <th>fake.spectrum.main.composite.sigma_2</th>\n",
       "      <td>0.998998</td>\n",
       "      <td>-0.080962</td>\n",
       "      <td>0.084351</td>\n",
       "      <td>0.082657</td>\n",
       "      <td>keV</td>\n",
       "    </tr>\n",
       "  </tbody>\n",
       "</table>\n",
       "</div>"
      ],
      "text/plain": [
       "                                          value  negative_error  \\\n",
       "fake.spectrum.main.composite.a_1       1.896995       -0.119268   \n",
       "fake.spectrum.main.composite.b_1       0.004700       -0.003721   \n",
       "fake.spectrum.main.composite.F_2      35.276719       -4.012694   \n",
       "fake.spectrum.main.composite.mu_2     24.936751       -0.104484   \n",
       "fake.spectrum.main.composite.sigma_2   0.998998       -0.080962   \n",
       "\n",
       "                                      positive_error     error  \\\n",
       "fake.spectrum.main.composite.a_1            0.110435  0.114851   \n",
       "fake.spectrum.main.composite.b_1            0.003993  0.003857   \n",
       "fake.spectrum.main.composite.F_2            4.056738  4.034716   \n",
       "fake.spectrum.main.composite.mu_2           0.107854  0.106169   \n",
       "fake.spectrum.main.composite.sigma_2        0.084351  0.082657   \n",
       "\n",
       "                                                  unit  \n",
       "fake.spectrum.main.composite.a_1       1 / (keV s cm2)  \n",
       "fake.spectrum.main.composite.b_1      1 / (s cm2 keV2)  \n",
       "fake.spectrum.main.composite.F_2           1 / (s cm2)  \n",
       "fake.spectrum.main.composite.mu_2                  keV  \n",
       "fake.spectrum.main.composite.sigma_2               keV  "
      ]
     },
     "execution_count": 18,
     "metadata": {},
     "output_type": "execute_result"
    }
   ],
   "source": [
    "ar_reloaded.get_data_frame()"
   ]
  },
  {
   "cell_type": "markdown",
   "id": "746d784d",
   "metadata": {},
   "source": [
    "## Analysis Result Sets"
   ]
  },
  {
   "cell_type": "markdown",
   "id": "1f3f905d",
   "metadata": {},
   "source": [
    "When doing time-resolved analysis or analysing a several objects, we can save several AR's is a set. This is achieved with the analysis result set. We can pass an array of AR's to the set and even set up descriptions for the different entries."
   ]
  },
  {
   "cell_type": "code",
   "execution_count": 19,
   "id": "d5fbc600",
   "metadata": {
    "execution": {
     "iopub.execute_input": "2024-10-24T23:37:30.814714Z",
     "iopub.status.busy": "2024-10-24T23:37:30.814537Z",
     "iopub.status.idle": "2024-10-24T23:37:30.886285Z",
     "shell.execute_reply": "2024-10-24T23:37:30.885721Z"
    }
   },
   "outputs": [
    {
     "name": "stderr",
     "output_type": "stream",
     "text": [
      "WARNING: VerifyWarning: Card is too long, comment will be truncated. [astropy.io.fits.card]\n"
     ]
    }
   ],
   "source": [
    "from threeML.analysis_results import AnalysisResultsSet\n",
    "\n",
    "analysis_set = AnalysisResultsSet([ar, ar_reloaded])\n",
    "\n",
    "# index as time bins\n",
    "analysis_set.set_bins(\"testing\", [-1, 1], [3, 5], unit=\"s\")\n",
    "\n",
    "# write to disk\n",
    "analysis_set.write_to(\"analysis_set_test.fits\", overwrite=True)"
   ]
  },
  {
   "cell_type": "code",
   "execution_count": 20,
   "id": "a1bbcd2d",
   "metadata": {
    "execution": {
     "iopub.execute_input": "2024-10-24T23:37:30.888119Z",
     "iopub.status.busy": "2024-10-24T23:37:30.887757Z",
     "iopub.status.idle": "2024-10-24T23:37:31.005069Z",
     "shell.execute_reply": "2024-10-24T23:37:31.004512Z"
    }
   },
   "outputs": [],
   "source": [
    "analysis_set = load_analysis_results(\"analysis_set_test.fits\")"
   ]
  },
  {
   "cell_type": "code",
   "execution_count": 21,
   "id": "dc80a28a",
   "metadata": {
    "execution": {
     "iopub.execute_input": "2024-10-24T23:37:31.007110Z",
     "iopub.status.busy": "2024-10-24T23:37:31.006671Z",
     "iopub.status.idle": "2024-10-24T23:37:31.037180Z",
     "shell.execute_reply": "2024-10-24T23:37:31.036632Z"
    }
   },
   "outputs": [
    {
     "data": {
      "text/html": [
       "<pre style=\"white-space:pre;overflow-x:auto;line-height:normal;font-family:Menlo,'DejaVu Sans Mono',consolas,'Courier New',monospace\"><span style=\"color: #00ffaf; text-decoration-color: #00ffaf; font-weight: bold; text-decoration: underline\">Best fit values:</span>\n",
       "\n",
       "</pre>\n"
      ],
      "text/plain": [
       "\u001b[1;4;38;5;49mBest fit values:\u001b[0m\n",
       "\n"
      ]
     },
     "metadata": {},
     "output_type": "display_data"
    },
    {
     "data": {
      "text/html": [
       "<div>\n",
       "<style scoped>\n",
       "    .dataframe tbody tr th:only-of-type {\n",
       "        vertical-align: middle;\n",
       "    }\n",
       "\n",
       "    .dataframe tbody tr th {\n",
       "        vertical-align: top;\n",
       "    }\n",
       "\n",
       "    .dataframe thead th {\n",
       "        text-align: right;\n",
       "    }\n",
       "</style>\n",
       "<table border=\"1\" class=\"dataframe\">\n",
       "  <thead>\n",
       "    <tr style=\"text-align: right;\">\n",
       "      <th></th>\n",
       "      <th>result</th>\n",
       "      <th>unit</th>\n",
       "    </tr>\n",
       "    <tr>\n",
       "      <th>parameter</th>\n",
       "      <th></th>\n",
       "      <th></th>\n",
       "    </tr>\n",
       "  </thead>\n",
       "  <tbody>\n",
       "    <tr>\n",
       "      <th>fake.spectrum.main.composite.a_1</th>\n",
       "      <td>1.90 +/- 0.11</td>\n",
       "      <td>1 / (keV s cm2)</td>\n",
       "    </tr>\n",
       "    <tr>\n",
       "      <th>fake.spectrum.main.composite.b_1</th>\n",
       "      <td>(5 +/- 4) x 10^-3</td>\n",
       "      <td>1 / (s cm2 keV2)</td>\n",
       "    </tr>\n",
       "    <tr>\n",
       "      <th>fake.spectrum.main.composite.F_2</th>\n",
       "      <td>(3.5 +/- 0.4) x 10</td>\n",
       "      <td>1 / (s cm2)</td>\n",
       "    </tr>\n",
       "    <tr>\n",
       "      <th>fake.spectrum.main.composite.mu_2</th>\n",
       "      <td>(2.494 +/- 0.011) x 10</td>\n",
       "      <td>keV</td>\n",
       "    </tr>\n",
       "    <tr>\n",
       "      <th>fake.spectrum.main.composite.sigma_2</th>\n",
       "      <td>(10.0 +/- 0.8) x 10^-1</td>\n",
       "      <td>keV</td>\n",
       "    </tr>\n",
       "  </tbody>\n",
       "</table>\n",
       "</div>"
      ],
      "text/plain": [
       "                                                      result              unit\n",
       "parameter                                                                     \n",
       "fake.spectrum.main.composite.a_1               1.90 +/- 0.11   1 / (keV s cm2)\n",
       "fake.spectrum.main.composite.b_1           (5 +/- 4) x 10^-3  1 / (s cm2 keV2)\n",
       "fake.spectrum.main.composite.F_2          (3.5 +/- 0.4) x 10       1 / (s cm2)\n",
       "fake.spectrum.main.composite.mu_2     (2.494 +/- 0.011) x 10               keV\n",
       "fake.spectrum.main.composite.sigma_2  (10.0 +/- 0.8) x 10^-1               keV"
      ]
     },
     "metadata": {},
     "output_type": "display_data"
    },
    {
     "data": {
      "text/html": [
       "<pre style=\"white-space:pre;overflow-x:auto;line-height:normal;font-family:Menlo,'DejaVu Sans Mono',consolas,'Courier New',monospace\">\n",
       "<span style=\"color: #00ffaf; text-decoration-color: #00ffaf; font-weight: bold; text-decoration: underline\">Correlation matrix:</span>\n",
       "\n",
       "</pre>\n"
      ],
      "text/plain": [
       "\n",
       "\u001b[1;4;38;5;49mCorrelation matrix:\u001b[0m\n",
       "\n"
      ]
     },
     "metadata": {},
     "output_type": "display_data"
    },
    {
     "data": {
      "text/html": [
       "<div><table id=\"table140550418830864\">\n",
       "<tr><td>1.00</td><td>-0.85</td><td>-0.04</td><td>-0.00</td><td>-0.08</td></tr>\n",
       "<tr><td>-0.85</td><td>1.00</td><td>0.00</td><td>-0.02</td><td>-0.00</td></tr>\n",
       "<tr><td>-0.04</td><td>0.00</td><td>1.00</td><td>0.05</td><td>-0.11</td></tr>\n",
       "<tr><td>-0.00</td><td>-0.02</td><td>0.05</td><td>1.00</td><td>0.27</td></tr>\n",
       "<tr><td>-0.08</td><td>-0.00</td><td>-0.11</td><td>0.27</td><td>1.00</td></tr>\n",
       "</table></div>"
      ],
      "text/plain": [
       " 1.00 -0.85 -0.04 -0.00 -0.08\n",
       "-0.85  1.00  0.00 -0.02 -0.00\n",
       "-0.04  0.00  1.00  0.05 -0.11\n",
       "-0.00 -0.02  0.05  1.00  0.27\n",
       "-0.08 -0.00 -0.11  0.27  1.00"
      ]
     },
     "metadata": {},
     "output_type": "display_data"
    },
    {
     "data": {
      "text/html": [
       "<pre style=\"white-space:pre;overflow-x:auto;line-height:normal;font-family:Menlo,'DejaVu Sans Mono',consolas,'Courier New',monospace\">\n",
       "<span style=\"color: #00ffaf; text-decoration-color: #00ffaf; font-weight: bold; text-decoration: underline\">Values of -log(likelihood) at the minimum:</span>\n",
       "\n",
       "</pre>\n"
      ],
      "text/plain": [
       "\n",
       "\u001b[1;4;38;5;49mValues of -\u001b[0m\u001b[1;4;38;5;49mlog\u001b[0m\u001b[1;4;38;5;49m(\u001b[0m\u001b[1;4;38;5;49mlikelihood\u001b[0m\u001b[1;4;38;5;49m)\u001b[0m\u001b[1;4;38;5;49m at the minimum:\u001b[0m\n",
       "\n"
      ]
     },
     "metadata": {},
     "output_type": "display_data"
    },
    {
     "data": {
      "text/html": [
       "<div>\n",
       "<style scoped>\n",
       "    .dataframe tbody tr th:only-of-type {\n",
       "        vertical-align: middle;\n",
       "    }\n",
       "\n",
       "    .dataframe tbody tr th {\n",
       "        vertical-align: top;\n",
       "    }\n",
       "\n",
       "    .dataframe thead th {\n",
       "        text-align: right;\n",
       "    }\n",
       "</style>\n",
       "<table border=\"1\" class=\"dataframe\">\n",
       "  <thead>\n",
       "    <tr style=\"text-align: right;\">\n",
       "      <th></th>\n",
       "      <th>-log(likelihood)</th>\n",
       "    </tr>\n",
       "  </thead>\n",
       "  <tbody>\n",
       "    <tr>\n",
       "      <th>sim_data</th>\n",
       "      <td>23.807392</td>\n",
       "    </tr>\n",
       "    <tr>\n",
       "      <th>total</th>\n",
       "      <td>23.807392</td>\n",
       "    </tr>\n",
       "  </tbody>\n",
       "</table>\n",
       "</div>"
      ],
      "text/plain": [
       "          -log(likelihood)\n",
       "sim_data         23.807392\n",
       "total            23.807392"
      ]
     },
     "metadata": {},
     "output_type": "display_data"
    },
    {
     "data": {
      "text/html": [
       "<pre style=\"white-space:pre;overflow-x:auto;line-height:normal;font-family:Menlo,'DejaVu Sans Mono',consolas,'Courier New',monospace\">\n",
       "<span style=\"color: #00ffaf; text-decoration-color: #00ffaf; font-weight: bold; text-decoration: underline\">Values of statistical measures:</span>\n",
       "\n",
       "</pre>\n"
      ],
      "text/plain": [
       "\n",
       "\u001b[1;4;38;5;49mValues of statistical measures:\u001b[0m\n",
       "\n"
      ]
     },
     "metadata": {},
     "output_type": "display_data"
    },
    {
     "data": {
      "text/html": [
       "<div>\n",
       "<style scoped>\n",
       "    .dataframe tbody tr th:only-of-type {\n",
       "        vertical-align: middle;\n",
       "    }\n",
       "\n",
       "    .dataframe tbody tr th {\n",
       "        vertical-align: top;\n",
       "    }\n",
       "\n",
       "    .dataframe thead th {\n",
       "        text-align: right;\n",
       "    }\n",
       "</style>\n",
       "<table border=\"1\" class=\"dataframe\">\n",
       "  <thead>\n",
       "    <tr style=\"text-align: right;\">\n",
       "      <th></th>\n",
       "      <th>statistical measures</th>\n",
       "    </tr>\n",
       "  </thead>\n",
       "  <tbody>\n",
       "    <tr>\n",
       "      <th>AIC</th>\n",
       "      <td>58.978420</td>\n",
       "    </tr>\n",
       "    <tr>\n",
       "      <th>BIC</th>\n",
       "      <td>67.174899</td>\n",
       "    </tr>\n",
       "  </tbody>\n",
       "</table>\n",
       "</div>"
      ],
      "text/plain": [
       "     statistical measures\n",
       "AIC             58.978420\n",
       "BIC             67.174899"
      ]
     },
     "metadata": {},
     "output_type": "display_data"
    }
   ],
   "source": [
    "analysis_set[0].display()"
   ]
  },
  {
   "cell_type": "markdown",
   "id": "ed50cf79",
   "metadata": {},
   "source": [
    "## Error propagation\n",
    "In 3ML, we propagate errors for MLE reults via sampling of the covariance matrix *instead* of Taylor exanding around the maximum of the likelihood and computing a jacobain. Thus, we can achieve non-linear error propagation.\n",
    "\n",
    "You can use the results for propagating errors non-linearly for analytical functions:\n"
   ]
  },
  {
   "cell_type": "code",
   "execution_count": 22,
   "id": "7a144f11",
   "metadata": {
    "execution": {
     "iopub.execute_input": "2024-10-24T23:37:31.038957Z",
     "iopub.status.busy": "2024-10-24T23:37:31.038771Z",
     "iopub.status.idle": "2024-10-24T23:37:31.046058Z",
     "shell.execute_reply": "2024-10-24T23:37:31.045529Z"
    }
   },
   "outputs": [
    {
     "name": "stdout",
     "output_type": "stream",
     "text": [
      "Propagating a+b, with a and b respectively:\n",
      "equal-tail: (5 +/- 4) x 10^-3, hpd: (4.6 -3.5 +4) x 10^-3\n",
      "equal-tail: 1.90 +/- 0.11, hpd: 1.90 +/- 0.11\n",
      "\n",
      "This is the result (with errors):\n",
      "equal-tail: 1.90 +/- 0.11, hpd: 1.90 +/- 0.11\n",
      "(1.7937809606605875, 2.0139946279354066)\n"
     ]
    }
   ],
   "source": [
    "p1 = ar.get_variates(\"fake.spectrum.main.composite.b_1\")\n",
    "p2 = ar.get_variates(\"fake.spectrum.main.composite.a_1\")\n",
    "\n",
    "print(\"Propagating a+b, with a and b respectively:\")\n",
    "print(p1)\n",
    "print(p2)\n",
    "\n",
    "print(\"\\nThis is the result (with errors):\")\n",
    "res = p1 + p2\n",
    "print(res)\n",
    "\n",
    "print(res.equal_tail_interval())"
   ]
  },
  {
   "cell_type": "markdown",
   "id": "05f6640e",
   "metadata": {},
   "source": [
    "The propagation accounts for covariances. For example this\n",
    "has error of zero (of course) since there is perfect covariance."
   ]
  },
  {
   "cell_type": "code",
   "execution_count": 23,
   "id": "99f1a12f",
   "metadata": {
    "execution": {
     "iopub.execute_input": "2024-10-24T23:37:31.047962Z",
     "iopub.status.busy": "2024-10-24T23:37:31.047775Z",
     "iopub.status.idle": "2024-10-24T23:37:31.051894Z",
     "shell.execute_reply": "2024-10-24T23:37:31.051405Z"
    }
   },
   "outputs": [
    {
     "name": "stdout",
     "output_type": "stream",
     "text": [
      "\n",
      "This is 50 * a/a:\n",
      "equal-tail: (5.0 +/- 0) x 10, hpd: (5.0 +/- 0) x 10\n"
     ]
    }
   ],
   "source": [
    "print(\"\\nThis is 50 * a/a:\")\n",
    "print(50 * p1 / p1)"
   ]
  },
  {
   "cell_type": "markdown",
   "id": "c644ca3f",
   "metadata": {},
   "source": [
    "You can use arbitrary (np) functions"
   ]
  },
  {
   "cell_type": "code",
   "execution_count": 24,
   "id": "f9ec5f20",
   "metadata": {
    "execution": {
     "iopub.execute_input": "2024-10-24T23:37:31.053599Z",
     "iopub.status.busy": "2024-10-24T23:37:31.053415Z",
     "iopub.status.idle": "2024-10-24T23:37:31.058639Z",
     "shell.execute_reply": "2024-10-24T23:37:31.058013Z"
    }
   },
   "outputs": [
    {
     "name": "stdout",
     "output_type": "stream",
     "text": [
      "\n",
      "This is arcsinh(b + 5*) / np.log10(b) (why not?)\n",
      "equal-tail: (1.06 -0.07 +0.09) x 10, hpd: (1.06 -0.09 +0.06) x 10\n"
     ]
    }
   ],
   "source": [
    "print(\"\\nThis is arcsinh(b + 5*) / np.log10(b) (why not?)\")\n",
    "print(np.arcsinh(p1 + 5 * p2) / np.log10(p2))"
   ]
  },
  {
   "cell_type": "markdown",
   "id": "006066c6",
   "metadata": {},
   "source": [
    "Errors can become asymmetric. For example, the ratio of two gaussians is\n",
    "asymmetric notoriously:"
   ]
  },
  {
   "cell_type": "code",
   "execution_count": 25,
   "id": "603b887f",
   "metadata": {
    "execution": {
     "iopub.execute_input": "2024-10-24T23:37:31.060674Z",
     "iopub.status.busy": "2024-10-24T23:37:31.060308Z",
     "iopub.status.idle": "2024-10-24T23:37:31.064511Z",
     "shell.execute_reply": "2024-10-24T23:37:31.063963Z"
    },
    "lines_to_next_cell": 2
   },
   "outputs": [
    {
     "name": "stdout",
     "output_type": "stream",
     "text": [
      "\n",
      "Ratio a/b:\n",
      "equal-tail: (3.3 -1.7 +5) x 10^2, hpd: (3.3 -2.1 +4) x 10^2\n"
     ]
    }
   ],
   "source": [
    "print(\"\\nRatio a/b:\")\n",
    "print(p2 / p1)"
   ]
  },
  {
   "cell_type": "markdown",
   "id": "1752e1da",
   "metadata": {
    "lines_to_next_cell": 2
   },
   "source": [
    "You can always use it with arbitrary functions:"
   ]
  },
  {
   "cell_type": "code",
   "execution_count": 26,
   "id": "7fb11972",
   "metadata": {
    "execution": {
     "iopub.execute_input": "2024-10-24T23:37:31.066442Z",
     "iopub.status.busy": "2024-10-24T23:37:31.066107Z",
     "iopub.status.idle": "2024-10-24T23:37:31.071093Z",
     "shell.execute_reply": "2024-10-24T23:37:31.070450Z"
    },
    "lines_to_next_cell": 2
   },
   "outputs": [
    {
     "name": "stdout",
     "output_type": "stream",
     "text": [
      "\n",
      "Propagating using a custom function:\n",
      "equal-tail: 1.91 +/- 0.11, hpd: 1.91 -0.10 +0.11\n"
     ]
    }
   ],
   "source": [
    "def my_function(x, a, b):\n",
    "    return b * x**a\n",
    "\n",
    "\n",
    "print(\"\\nPropagating using a custom function:\")\n",
    "print(my_function(2.3, p1, p2))"
   ]
  },
  {
   "cell_type": "markdown",
   "id": "9df8906c",
   "metadata": {
    "lines_to_next_cell": 2
   },
   "source": [
    "This is an example of an error propagation to get the plot of the model with its errors\n",
    "(which are propagated without assuming linearity on parameters)"
   ]
  },
  {
   "cell_type": "code",
   "execution_count": 27,
   "id": "09fae67b",
   "metadata": {
    "execution": {
     "iopub.execute_input": "2024-10-24T23:37:31.073315Z",
     "iopub.status.busy": "2024-10-24T23:37:31.072867Z",
     "iopub.status.idle": "2024-10-24T23:37:31.079510Z",
     "shell.execute_reply": "2024-10-24T23:37:31.079005Z"
    }
   },
   "outputs": [],
   "source": [
    "def go(fitfun, ar, model):\n",
    "    fig, ax = plt.subplots()\n",
    "\n",
    "    # Gather the parameter variates\n",
    "\n",
    "    arguments = {}\n",
    "\n",
    "    for par in fitfun.parameters.values():\n",
    "        if par.free:\n",
    "            this_name = par.name\n",
    "\n",
    "            this_variate = ar.get_variates(par.path)\n",
    "\n",
    "            # Do not use more than 1000 values (would make computation too slow for nothing)\n",
    "\n",
    "            if len(this_variate) > 1000:\n",
    "                this_variate = np.random.choice(this_variate, size=1000)\n",
    "\n",
    "            arguments[this_name] = this_variate\n",
    "\n",
    "    # Prepare the error propagator function\n",
    "\n",
    "    pp = ar.propagate(\n",
    "        ar.optimized_model.fake.spectrum.main.shape.evaluate_at, **arguments\n",
    "    )\n",
    "\n",
    "    # You can just use it as:\n",
    "\n",
    "    print(pp(5.0))\n",
    "\n",
    "    # Make the plot\n",
    "\n",
    "    energies = np.linspace(0, 50, 100)\n",
    "\n",
    "    low_curve = np.zeros_like(energies)\n",
    "    middle_curve = np.zeros_like(energies)\n",
    "    hi_curve = np.zeros_like(energies)\n",
    "\n",
    "    free_parameters = model.free_parameters\n",
    "\n",
    "    p = tqdm(total=len(energies), desc=\"Propagating errors\")\n",
    "\n",
    "    with use_astromodels_memoization(False):\n",
    "        for i, e in enumerate(energies):\n",
    "            this_flux = pp(e)\n",
    "\n",
    "            low_bound, hi_bound = this_flux.equal_tail_interval()\n",
    "\n",
    "            low_curve[i], middle_curve[i], hi_curve[i] = (\n",
    "                low_bound,\n",
    "                this_flux.median,\n",
    "                hi_bound,\n",
    "            )\n",
    "\n",
    "            p.update(1)\n",
    "\n",
    "    ax.plot(energies, middle_curve, \"--\", color=\"black\")\n",
    "    ax.fill_between(energies, low_curve, hi_curve, alpha=0.5, color=\"blue\")"
   ]
  },
  {
   "cell_type": "code",
   "execution_count": 28,
   "id": "3b0c7236",
   "metadata": {
    "execution": {
     "iopub.execute_input": "2024-10-24T23:37:31.081358Z",
     "iopub.status.busy": "2024-10-24T23:37:31.080966Z",
     "iopub.status.idle": "2024-10-24T23:37:34.999217Z",
     "shell.execute_reply": "2024-10-24T23:37:34.998507Z"
    },
    "tags": [
     "nbsphinx-thumbnail"
    ]
   },
   "outputs": [
    {
     "name": "stdout",
     "output_type": "stream",
     "text": [
      "equal-tail: 1.92 -0.12 +0.11, hpd: 1.92 -0.09 +0.13\n"
     ]
    },
    {
     "data": {
      "application/vnd.jupyter.widget-view+json": {
       "model_id": "a9cbcd43798049c2b644e1fe496547f6",
       "version_major": 2,
       "version_minor": 0
      },
      "text/plain": [
       "Propagating errors:   0%|          | 0/100 [00:00<?, ?it/s]"
      ]
     },
     "metadata": {},
     "output_type": "display_data"
    },
    {
     "data": {
      "image/png": "[encoded data removed]",
      "text/plain": [
       "<Figure size 1040x910 with 1 Axes>"
      ]
     },
     "metadata": {},
     "output_type": "display_data"
    }
   ],
   "source": [
    "go(fitfun, ar, model)"
   ]
  },
  {
   "cell_type": "markdown",
   "id": "5eec07d9",
   "metadata": {},
   "source": [
    "## Bayesian Analysis Results\n",
    "Analysis Results work exactly the same under Bayesian analysis.\n",
    "\n",
    "Let's run the analysis first."
   ]
  },
  {
   "cell_type": "code",
   "execution_count": 29,
   "id": "210d148f",
   "metadata": {
    "execution": {
     "iopub.execute_input": "2024-10-24T23:37:35.001304Z",
     "iopub.status.busy": "2024-10-24T23:37:35.001079Z",
     "iopub.status.idle": "2024-10-24T23:37:40.767251Z",
     "shell.execute_reply": "2024-10-24T23:37:40.766664Z"
    }
   },
   "outputs": [
    {
     "data": {
      "application/vnd.jupyter.widget-view+json": {
       "model_id": "4a7e9b030626436a81772c78586b2f9e",
       "version_major": 2,
       "version_minor": 0
      },
      "text/plain": [
       "  0%|          | 0/100 [00:00<?, ?it/s]"
      ]
     },
     "metadata": {},
     "output_type": "display_data"
    },
    {
     "data": {
      "application/vnd.jupyter.widget-view+json": {
       "model_id": "36678729ef124e3c864d645f866e3f81",
       "version_major": 2,
       "version_minor": 0
      },
      "text/plain": [
       "  0%|          | 0/1000 [00:00<?, ?it/s]"
      ]
     },
     "metadata": {},
     "output_type": "display_data"
    },
    {
     "data": {
      "text/html": [
       "<pre style=\"white-space:pre;overflow-x:auto;line-height:normal;font-family:Menlo,'DejaVu Sans Mono',consolas,'Courier New',monospace\"><span style=\"color: #00ffaf; text-decoration-color: #00ffaf; font-weight: bold; text-decoration: underline\">Maximum a posteriori probability (MAP) point:</span>\n",
       "\n",
       "</pre>\n"
      ],
      "text/plain": [
       "\u001b[1;4;38;5;49mMaximum a posteriori probability \u001b[0m\u001b[1;4;38;5;49m(\u001b[0m\u001b[1;4;38;5;49mMAP\u001b[0m\u001b[1;4;38;5;49m)\u001b[0m\u001b[1;4;38;5;49m point:\u001b[0m\n",
       "\n"
      ]
     },
     "metadata": {},
     "output_type": "display_data"
    },
    {
     "data": {
      "text/html": [
       "<div>\n",
       "<style scoped>\n",
       "    .dataframe tbody tr th:only-of-type {\n",
       "        vertical-align: middle;\n",
       "    }\n",
       "\n",
       "    .dataframe tbody tr th {\n",
       "        vertical-align: top;\n",
       "    }\n",
       "\n",
       "    .dataframe thead th {\n",
       "        text-align: right;\n",
       "    }\n",
       "</style>\n",
       "<table border=\"1\" class=\"dataframe\">\n",
       "  <thead>\n",
       "    <tr style=\"text-align: right;\">\n",
       "      <th></th>\n",
       "      <th>result</th>\n",
       "      <th>unit</th>\n",
       "    </tr>\n",
       "    <tr>\n",
       "      <th>parameter</th>\n",
       "      <th></th>\n",
       "      <th></th>\n",
       "    </tr>\n",
       "  </thead>\n",
       "  <tbody>\n",
       "    <tr>\n",
       "      <th>fake.spectrum.main.composite.a_1</th>\n",
       "      <td>1.89 -0.13 +0.11</td>\n",
       "      <td>1 / (keV s cm2)</td>\n",
       "    </tr>\n",
       "    <tr>\n",
       "      <th>fake.spectrum.main.composite.b_1</th>\n",
       "      <td>(5 +/- 4) x 10^-3</td>\n",
       "      <td>1 / (s cm2 keV2)</td>\n",
       "    </tr>\n",
       "    <tr>\n",
       "      <th>fake.spectrum.main.composite.F_2</th>\n",
       "      <td>(3.50 -0.6 +0.27) x 10</td>\n",
       "      <td>1 / (s cm2)</td>\n",
       "    </tr>\n",
       "    <tr>\n",
       "      <th>fake.spectrum.main.composite.mu_2</th>\n",
       "      <td>(2.493 -0.011 +0.014) x 10</td>\n",
       "      <td>keV</td>\n",
       "    </tr>\n",
       "    <tr>\n",
       "      <th>fake.spectrum.main.composite.sigma_2</th>\n",
       "      <td>(9.8 -0.7 +0.9) x 10^-1</td>\n",
       "      <td>keV</td>\n",
       "    </tr>\n",
       "  </tbody>\n",
       "</table>\n",
       "</div>"
      ],
      "text/plain": [
       "                                                          result  \\\n",
       "parameter                                                          \n",
       "fake.spectrum.main.composite.a_1                1.89 -0.13 +0.11   \n",
       "fake.spectrum.main.composite.b_1               (5 +/- 4) x 10^-3   \n",
       "fake.spectrum.main.composite.F_2          (3.50 -0.6 +0.27) x 10   \n",
       "fake.spectrum.main.composite.mu_2     (2.493 -0.011 +0.014) x 10   \n",
       "fake.spectrum.main.composite.sigma_2     (9.8 -0.7 +0.9) x 10^-1   \n",
       "\n",
       "                                                  unit  \n",
       "parameter                                               \n",
       "fake.spectrum.main.composite.a_1       1 / (keV s cm2)  \n",
       "fake.spectrum.main.composite.b_1      1 / (s cm2 keV2)  \n",
       "fake.spectrum.main.composite.F_2           1 / (s cm2)  \n",
       "fake.spectrum.main.composite.mu_2                  keV  \n",
       "fake.spectrum.main.composite.sigma_2               keV  "
      ]
     },
     "metadata": {},
     "output_type": "display_data"
    },
    {
     "data": {
      "text/html": [
       "<pre style=\"white-space:pre;overflow-x:auto;line-height:normal;font-family:Menlo,'DejaVu Sans Mono',consolas,'Courier New',monospace\">\n",
       "<span style=\"color: #00ffaf; text-decoration-color: #00ffaf; font-weight: bold; text-decoration: underline\">Values of -log(posterior) at the minimum:</span>\n",
       "\n",
       "</pre>\n"
      ],
      "text/plain": [
       "\n",
       "\u001b[1;4;38;5;49mValues of -\u001b[0m\u001b[1;4;38;5;49mlog\u001b[0m\u001b[1;4;38;5;49m(\u001b[0m\u001b[1;4;38;5;49mposterior\u001b[0m\u001b[1;4;38;5;49m)\u001b[0m\u001b[1;4;38;5;49m at the minimum:\u001b[0m\n",
       "\n"
      ]
     },
     "metadata": {},
     "output_type": "display_data"
    },
    {
     "data": {
      "text/html": [
       "<div>\n",
       "<style scoped>\n",
       "    .dataframe tbody tr th:only-of-type {\n",
       "        vertical-align: middle;\n",
       "    }\n",
       "\n",
       "    .dataframe tbody tr th {\n",
       "        vertical-align: top;\n",
       "    }\n",
       "\n",
       "    .dataframe thead th {\n",
       "        text-align: right;\n",
       "    }\n",
       "</style>\n",
       "<table border=\"1\" class=\"dataframe\">\n",
       "  <thead>\n",
       "    <tr style=\"text-align: right;\">\n",
       "      <th></th>\n",
       "      <th>-log(posterior)</th>\n",
       "    </tr>\n",
       "  </thead>\n",
       "  <tbody>\n",
       "    <tr>\n",
       "      <th>sim_data</th>\n",
       "      <td>-27.374474</td>\n",
       "    </tr>\n",
       "    <tr>\n",
       "      <th>total</th>\n",
       "      <td>-27.374474</td>\n",
       "    </tr>\n",
       "  </tbody>\n",
       "</table>\n",
       "</div>"
      ],
      "text/plain": [
       "          -log(posterior)\n",
       "sim_data       -27.374474\n",
       "total          -27.374474"
      ]
     },
     "metadata": {},
     "output_type": "display_data"
    },
    {
     "data": {
      "text/html": [
       "<pre style=\"white-space:pre;overflow-x:auto;line-height:normal;font-family:Menlo,'DejaVu Sans Mono',consolas,'Courier New',monospace\">\n",
       "<span style=\"color: #00ffaf; text-decoration-color: #00ffaf; font-weight: bold; text-decoration: underline\">Values of statistical measures:</span>\n",
       "\n",
       "</pre>\n"
      ],
      "text/plain": [
       "\n",
       "\u001b[1;4;38;5;49mValues of statistical measures:\u001b[0m\n",
       "\n"
      ]
     },
     "metadata": {},
     "output_type": "display_data"
    },
    {
     "data": {
      "text/html": [
       "<div>\n",
       "<style scoped>\n",
       "    .dataframe tbody tr th:only-of-type {\n",
       "        vertical-align: middle;\n",
       "    }\n",
       "\n",
       "    .dataframe tbody tr th {\n",
       "        vertical-align: top;\n",
       "    }\n",
       "\n",
       "    .dataframe thead th {\n",
       "        text-align: right;\n",
       "    }\n",
       "</style>\n",
       "<table border=\"1\" class=\"dataframe\">\n",
       "  <thead>\n",
       "    <tr style=\"text-align: right;\">\n",
       "      <th></th>\n",
       "      <th>statistical measures</th>\n",
       "    </tr>\n",
       "  </thead>\n",
       "  <tbody>\n",
       "    <tr>\n",
       "      <th>AIC</th>\n",
       "      <td>66.112584</td>\n",
       "    </tr>\n",
       "    <tr>\n",
       "      <th>BIC</th>\n",
       "      <td>74.309062</td>\n",
       "    </tr>\n",
       "    <tr>\n",
       "      <th>DIC</th>\n",
       "      <td>89.607727</td>\n",
       "    </tr>\n",
       "    <tr>\n",
       "      <th>PDIC</th>\n",
       "      <td>12.147197</td>\n",
       "    </tr>\n",
       "  </tbody>\n",
       "</table>\n",
       "</div>"
      ],
      "text/plain": [
       "      statistical measures\n",
       "AIC              66.112584\n",
       "BIC              74.309062\n",
       "DIC              89.607727\n",
       "PDIC             12.147197"
      ]
     },
     "metadata": {},
     "output_type": "display_data"
    }
   ],
   "source": [
    "\n",
    "for parameter in ar.optimized_model:\n",
    "    model[parameter.path].value = parameter.value\n",
    "\n",
    "model.fake.spectrum.main.composite.a_1.set_uninformative_prior(Uniform_prior)\n",
    "model.fake.spectrum.main.composite.b_1.set_uninformative_prior(Uniform_prior)\n",
    "model.fake.spectrum.main.composite.F_2.set_uninformative_prior(Log_uniform_prior)\n",
    "model.fake.spectrum.main.composite.mu_2.set_uninformative_prior(Uniform_prior)\n",
    "model.fake.spectrum.main.composite.sigma_2.set_uninformative_prior(Log_uniform_prior)\n",
    "\n",
    "bs = BayesianAnalysis(model, data)\n",
    "bs.set_sampler(\"emcee\")\n",
    "bs.sampler.setup(n_iterations=1000, n_burn_in=100, n_walkers=20)\n",
    "samples = bs.sample()"
   ]
  },
  {
   "cell_type": "markdown",
   "id": "59ef9d4a",
   "metadata": {},
   "source": [
    "Again, we grab the results from the BayesianAnalysis object:"
   ]
  },
  {
   "cell_type": "code",
   "execution_count": 30,
   "id": "cb34b21f",
   "metadata": {
    "execution": {
     "iopub.execute_input": "2024-10-24T23:37:40.773306Z",
     "iopub.status.busy": "2024-10-24T23:37:40.773030Z",
     "iopub.status.idle": "2024-10-24T23:37:40.776245Z",
     "shell.execute_reply": "2024-10-24T23:37:40.775708Z"
    }
   },
   "outputs": [],
   "source": [
    "ar2 = bs.results"
   ]
  },
  {
   "cell_type": "markdown",
   "id": "124cd6c2",
   "metadata": {},
   "source": [
    "We can write and read the results to/from a file:"
   ]
  },
  {
   "cell_type": "code",
   "execution_count": 31,
   "id": "0b3dd5c3",
   "metadata": {
    "execution": {
     "iopub.execute_input": "2024-10-24T23:37:40.778244Z",
     "iopub.status.busy": "2024-10-24T23:37:40.778039Z",
     "iopub.status.idle": "2024-10-24T23:37:40.842366Z",
     "shell.execute_reply": "2024-10-24T23:37:40.841601Z"
    }
   },
   "outputs": [
    {
     "name": "stderr",
     "output_type": "stream",
     "text": [
      "WARNING: VerifyWarning: Card is too long, comment will be truncated. [astropy.io.fits.card]\n"
     ]
    }
   ],
   "source": [
    "ar2.write_to(\"test_bayes.fits\", overwrite=True)"
   ]
  },
  {
   "cell_type": "code",
   "execution_count": 32,
   "id": "ffa639b6",
   "metadata": {
    "execution": {
     "iopub.execute_input": "2024-10-24T23:37:40.844764Z",
     "iopub.status.busy": "2024-10-24T23:37:40.844175Z",
     "iopub.status.idle": "2024-10-24T23:37:40.897180Z",
     "shell.execute_reply": "2024-10-24T23:37:40.896452Z"
    }
   },
   "outputs": [],
   "source": [
    "ar2_reloaded = load_analysis_results(\"test_bayes.fits\")"
   ]
  },
  {
   "cell_type": "markdown",
   "id": "525a6ffc",
   "metadata": {},
   "source": [
    "The AR holds the posterior samples from the analysis. We can see the saved and live reults are the same:"
   ]
  },
  {
   "cell_type": "code",
   "execution_count": 33,
   "id": "8553dac4",
   "metadata": {
    "execution": {
     "iopub.execute_input": "2024-10-24T23:37:40.900219Z",
     "iopub.status.busy": "2024-10-24T23:37:40.899679Z",
     "iopub.status.idle": "2024-10-24T23:37:40.939864Z",
     "shell.execute_reply": "2024-10-24T23:37:40.939137Z"
    }
   },
   "outputs": [
    {
     "data": {
      "text/plain": [
       "True"
      ]
     },
     "execution_count": 33,
     "metadata": {},
     "output_type": "execute_result"
    }
   ],
   "source": [
    "np.allclose(ar2_reloaded.samples, ar2.samples)"
   ]
  },
  {
   "cell_type": "markdown",
   "id": "d7f8b117",
   "metadata": {},
   "source": [
    "**NOTE:** *MLE AR's store samples as well. These are the samples from the covariance matrix*\n",
    "\n",
    "We can examine the marginal distributions of the parameters:"
   ]
  },
  {
   "cell_type": "code",
   "execution_count": 34,
   "id": "718d541f",
   "metadata": {
    "execution": {
     "iopub.execute_input": "2024-10-24T23:37:40.942015Z",
     "iopub.status.busy": "2024-10-24T23:37:40.941785Z",
     "iopub.status.idle": "2024-10-24T23:37:42.389712Z",
     "shell.execute_reply": "2024-10-24T23:37:42.388673Z"
    },
    "lines_to_next_cell": 2
   },
   "outputs": [
    {
     "data": {
      "image/png": "[encoded data removed]",
      "text/plain": [
       "<Figure size 1180x1180 with 25 Axes>"
      ]
     },
     "metadata": {},
     "output_type": "display_data"
    }
   ],
   "source": [
    "fig = ar2.corner_plot()"
   ]
  },
  {
   "cell_type": "markdown",
   "id": "31185403",
   "metadata": {},
   "source": [
    "We can return pandas DataFrames with equal tail or HPD results."
   ]
  },
  {
   "cell_type": "code",
   "execution_count": 35,
   "id": "b2aefc8e",
   "metadata": {
    "execution": {
     "iopub.execute_input": "2024-10-24T23:37:42.393024Z",
     "iopub.status.busy": "2024-10-24T23:37:42.392625Z",
     "iopub.status.idle": "2024-10-24T23:37:42.417533Z",
     "shell.execute_reply": "2024-10-24T23:37:42.416773Z"
    }
   },
   "outputs": [
    {
     "data": {
      "text/html": [
       "<div>\n",
       "<style scoped>\n",
       "    .dataframe tbody tr th:only-of-type {\n",
       "        vertical-align: middle;\n",
       "    }\n",
       "\n",
       "    .dataframe tbody tr th {\n",
       "        vertical-align: top;\n",
       "    }\n",
       "\n",
       "    .dataframe thead th {\n",
       "        text-align: right;\n",
       "    }\n",
       "</style>\n",
       "<table border=\"1\" class=\"dataframe\">\n",
       "  <thead>\n",
       "    <tr style=\"text-align: right;\">\n",
       "      <th></th>\n",
       "      <th>value</th>\n",
       "      <th>negative_error</th>\n",
       "      <th>positive_error</th>\n",
       "      <th>error</th>\n",
       "      <th>unit</th>\n",
       "    </tr>\n",
       "  </thead>\n",
       "  <tbody>\n",
       "    <tr>\n",
       "      <th>fake.spectrum.main.composite.a_1</th>\n",
       "      <td>1.892737</td>\n",
       "      <td>-0.128841</td>\n",
       "      <td>0.113420</td>\n",
       "      <td>0.121130</td>\n",
       "      <td>1 / (keV s cm2)</td>\n",
       "    </tr>\n",
       "    <tr>\n",
       "      <th>fake.spectrum.main.composite.b_1</th>\n",
       "      <td>0.005044</td>\n",
       "      <td>-0.003998</td>\n",
       "      <td>0.003583</td>\n",
       "      <td>0.003791</td>\n",
       "      <td>1 / (s cm2 keV2)</td>\n",
       "    </tr>\n",
       "    <tr>\n",
       "      <th>fake.spectrum.main.composite.F_2</th>\n",
       "      <td>34.981117</td>\n",
       "      <td>-5.678707</td>\n",
       "      <td>2.702302</td>\n",
       "      <td>4.190504</td>\n",
       "      <td>1 / (s cm2)</td>\n",
       "    </tr>\n",
       "    <tr>\n",
       "      <th>fake.spectrum.main.composite.mu_2</th>\n",
       "      <td>24.926604</td>\n",
       "      <td>-0.108494</td>\n",
       "      <td>0.140624</td>\n",
       "      <td>0.124559</td>\n",
       "      <td>keV</td>\n",
       "    </tr>\n",
       "    <tr>\n",
       "      <th>fake.spectrum.main.composite.sigma_2</th>\n",
       "      <td>0.982262</td>\n",
       "      <td>-0.074045</td>\n",
       "      <td>0.087072</td>\n",
       "      <td>0.080559</td>\n",
       "      <td>keV</td>\n",
       "    </tr>\n",
       "  </tbody>\n",
       "</table>\n",
       "</div>"
      ],
      "text/plain": [
       "                                          value  negative_error  \\\n",
       "fake.spectrum.main.composite.a_1       1.892737       -0.128841   \n",
       "fake.spectrum.main.composite.b_1       0.005044       -0.003998   \n",
       "fake.spectrum.main.composite.F_2      34.981117       -5.678707   \n",
       "fake.spectrum.main.composite.mu_2     24.926604       -0.108494   \n",
       "fake.spectrum.main.composite.sigma_2   0.982262       -0.074045   \n",
       "\n",
       "                                      positive_error     error  \\\n",
       "fake.spectrum.main.composite.a_1            0.113420  0.121130   \n",
       "fake.spectrum.main.composite.b_1            0.003583  0.003791   \n",
       "fake.spectrum.main.composite.F_2            2.702302  4.190504   \n",
       "fake.spectrum.main.composite.mu_2           0.140624  0.124559   \n",
       "fake.spectrum.main.composite.sigma_2        0.087072  0.080559   \n",
       "\n",
       "                                                  unit  \n",
       "fake.spectrum.main.composite.a_1       1 / (keV s cm2)  \n",
       "fake.spectrum.main.composite.b_1      1 / (s cm2 keV2)  \n",
       "fake.spectrum.main.composite.F_2           1 / (s cm2)  \n",
       "fake.spectrum.main.composite.mu_2                  keV  \n",
       "fake.spectrum.main.composite.sigma_2               keV  "
      ]
     },
     "execution_count": 35,
     "metadata": {},
     "output_type": "execute_result"
    }
   ],
   "source": [
    "ar2.get_data_frame(\"equal tail\")"
   ]
  },
  {
   "cell_type": "code",
   "execution_count": 36,
   "id": "39801b40",
   "metadata": {
    "execution": {
     "iopub.execute_input": "2024-10-24T23:37:42.419542Z",
     "iopub.status.busy": "2024-10-24T23:37:42.419313Z",
     "iopub.status.idle": "2024-10-24T23:37:42.445657Z",
     "shell.execute_reply": "2024-10-24T23:37:42.444852Z"
    }
   },
   "outputs": [
    {
     "data": {
      "text/html": [
       "<div>\n",
       "<style scoped>\n",
       "    .dataframe tbody tr th:only-of-type {\n",
       "        vertical-align: middle;\n",
       "    }\n",
       "\n",
       "    .dataframe tbody tr th {\n",
       "        vertical-align: top;\n",
       "    }\n",
       "\n",
       "    .dataframe thead th {\n",
       "        text-align: right;\n",
       "    }\n",
       "</style>\n",
       "<table border=\"1\" class=\"dataframe\">\n",
       "  <thead>\n",
       "    <tr style=\"text-align: right;\">\n",
       "      <th></th>\n",
       "      <th>value</th>\n",
       "      <th>negative_error</th>\n",
       "      <th>positive_error</th>\n",
       "      <th>error</th>\n",
       "      <th>unit</th>\n",
       "    </tr>\n",
       "  </thead>\n",
       "  <tbody>\n",
       "    <tr>\n",
       "      <th>fake.spectrum.main.composite.a_1</th>\n",
       "      <td>1.892737</td>\n",
       "      <td>-0.117369</td>\n",
       "      <td>0.122237</td>\n",
       "      <td>0.119803</td>\n",
       "      <td>1 / (keV s cm2)</td>\n",
       "    </tr>\n",
       "    <tr>\n",
       "      <th>fake.spectrum.main.composite.b_1</th>\n",
       "      <td>0.005044</td>\n",
       "      <td>-0.003531</td>\n",
       "      <td>0.004039</td>\n",
       "      <td>0.003785</td>\n",
       "      <td>1 / (s cm2 keV2)</td>\n",
       "    </tr>\n",
       "    <tr>\n",
       "      <th>fake.spectrum.main.composite.F_2</th>\n",
       "      <td>34.981117</td>\n",
       "      <td>-5.417603</td>\n",
       "      <td>2.891988</td>\n",
       "      <td>4.154796</td>\n",
       "      <td>1 / (s cm2)</td>\n",
       "    </tr>\n",
       "    <tr>\n",
       "      <th>fake.spectrum.main.composite.mu_2</th>\n",
       "      <td>24.926604</td>\n",
       "      <td>-0.114390</td>\n",
       "      <td>0.133157</td>\n",
       "      <td>0.123774</td>\n",
       "      <td>keV</td>\n",
       "    </tr>\n",
       "    <tr>\n",
       "      <th>fake.spectrum.main.composite.sigma_2</th>\n",
       "      <td>0.982262</td>\n",
       "      <td>-0.072267</td>\n",
       "      <td>0.088396</td>\n",
       "      <td>0.080331</td>\n",
       "      <td>keV</td>\n",
       "    </tr>\n",
       "  </tbody>\n",
       "</table>\n",
       "</div>"
      ],
      "text/plain": [
       "                                          value  negative_error  \\\n",
       "fake.spectrum.main.composite.a_1       1.892737       -0.117369   \n",
       "fake.spectrum.main.composite.b_1       0.005044       -0.003531   \n",
       "fake.spectrum.main.composite.F_2      34.981117       -5.417603   \n",
       "fake.spectrum.main.composite.mu_2     24.926604       -0.114390   \n",
       "fake.spectrum.main.composite.sigma_2   0.982262       -0.072267   \n",
       "\n",
       "                                      positive_error     error  \\\n",
       "fake.spectrum.main.composite.a_1            0.122237  0.119803   \n",
       "fake.spectrum.main.composite.b_1            0.004039  0.003785   \n",
       "fake.spectrum.main.composite.F_2            2.891988  4.154796   \n",
       "fake.spectrum.main.composite.mu_2           0.133157  0.123774   \n",
       "fake.spectrum.main.composite.sigma_2        0.088396  0.080331   \n",
       "\n",
       "                                                  unit  \n",
       "fake.spectrum.main.composite.a_1       1 / (keV s cm2)  \n",
       "fake.spectrum.main.composite.b_1      1 / (s cm2 keV2)  \n",
       "fake.spectrum.main.composite.F_2           1 / (s cm2)  \n",
       "fake.spectrum.main.composite.mu_2                  keV  \n",
       "fake.spectrum.main.composite.sigma_2               keV  "
      ]
     },
     "execution_count": 36,
     "metadata": {},
     "output_type": "execute_result"
    }
   ],
   "source": [
    "ar2.get_data_frame(\"hpd\")"
   ]
  },
  {
   "cell_type": "markdown",
   "id": "6e47f739",
   "metadata": {},
   "source": [
    "Error propagation operates the same way. Internally, the process is the same as the MLE results, however, the samples are those of the posterior rather than the (assumed) covariance matrix."
   ]
  },
  {
   "cell_type": "code",
   "execution_count": 37,
   "id": "b7b6efda",
   "metadata": {
    "execution": {
     "iopub.execute_input": "2024-10-24T23:37:42.447963Z",
     "iopub.status.busy": "2024-10-24T23:37:42.447707Z",
     "iopub.status.idle": "2024-10-24T23:37:42.462393Z",
     "shell.execute_reply": "2024-10-24T23:37:42.461542Z"
    },
    "lines_to_next_cell": 2
   },
   "outputs": [
    {
     "name": "stdout",
     "output_type": "stream",
     "text": [
      "equal-tail: (5.2 -4 +3.4) x 10^-3, hpd: (5 +/- 4) x 10^-3\n",
      "equal-tail: 1.89 +/- 0.12, hpd: 1.89 -0.11 +0.13\n",
      "equal-tail: 1.89 -0.12 +0.11, hpd: 1.89 -0.11 +0.12\n"
     ]
    }
   ],
   "source": [
    "p1 = ar2.get_variates(\"fake.spectrum.main.composite.b_1\")\n",
    "p2 = ar2.get_variates(\"fake.spectrum.main.composite.a_1\")\n",
    "\n",
    "print(p1)\n",
    "print(p2)\n",
    "\n",
    "res = p1 + p2\n",
    "\n",
    "print(res)"
   ]
  },
  {
   "cell_type": "markdown",
   "id": "da66b43c",
   "metadata": {},
   "source": [
    "To demonstrate how the two objects (MLE and Bayes) are the same, we see that our plotting function written for the MLE result works on our Bayesian results seamlessly."
   ]
  },
  {
   "cell_type": "code",
   "execution_count": 38,
   "id": "44979798",
   "metadata": {
    "execution": {
     "iopub.execute_input": "2024-10-24T23:37:42.465052Z",
     "iopub.status.busy": "2024-10-24T23:37:42.464448Z",
     "iopub.status.idle": "2024-10-24T23:37:46.555275Z",
     "shell.execute_reply": "2024-10-24T23:37:46.554476Z"
    }
   },
   "outputs": [
    {
     "name": "stdout",
     "output_type": "stream",
     "text": [
      "equal-tail: 1.91 +/- 0.12, hpd: 1.91 -0.12 +0.13\n"
     ]
    },
    {
     "data": {
      "application/vnd.jupyter.widget-view+json": {
       "model_id": "8cb739c9bb9e45b08c1490bd60149a8c",
       "version_major": 2,
       "version_minor": 0
      },
      "text/plain": [
       "Propagating errors:   0%|          | 0/100 [00:00<?, ?it/s]"
      ]
     },
     "metadata": {},
     "output_type": "display_data"
    },
    {
     "data": {
      "image/png": "[encoded data removed]",
      "text/plain": [
       "<Figure size 1040x910 with 1 Axes>"
      ]
     },
     "metadata": {},
     "output_type": "display_data"
    }
   ],
   "source": [
    "go(fitfun, ar2, model)"
   ]
  },
  {
   "cell_type": "code",
   "execution_count": null,
   "id": "79ba68a2",
   "metadata": {},
   "outputs": [],
   "source": []
  }
 ],
 "metadata": {
  "jupytext": {
   "formats": "ipynb,md"
  },
  "kernelspec": {
   "display_name": "Python 3",
   "language": "python",
   "name": "python3"
  },
  "language_info": {
   "codemirror_mode": {
    "name": "ipython",
    "version": 3
   },
   "file_extension": ".py",
   "mimetype": "text/x-python",
   "name": "python",
   "nbconvert_exporter": "python",
   "pygments_lexer": "ipython3",
   "version": "3.9.20"
  },
  "widgets": {
   "application/vnd.jupyter.widget-state+json": {
    "state": {
     "00a218ad24494c229f7c6efa51218192": {
      "model_module": "@jupyter-widgets/controls",
      "model_module_version": "2.0.0",
      "model_name": "FloatProgressModel",
      "state": {
       "_dom_classes": [],
       "_model_module": "@jupyter-widgets/controls",
       "_model_module_version": "2.0.0",
       "_model_name": "FloatProgressModel",
       "_view_count": null,
       "_view_module": "@jupyter-widgets/controls",
       "_view_module_version": "2.0.0",
       "_view_name": "ProgressView",
       "bar_style": "success",
       "description": "",
       "description_allow_html": false,
       "layout": "IPY_MODEL_c16f06c0aa9a46319877030e09d22497",
       "max": 100.0,
       "min": 0.0,
       "orientation": "horizontal",
       "style": "IPY_MODEL_65cbe24d006045c9ac71b5364f92d9ac",
       "tabbable": null,
       "tooltip": null,
       "value": 100.0
      }
     },
     "010ad893a34d4d07b2a24c60dd0782a1": {
      "model_module": "@jupyter-widgets/base",
      "model_module_version": "2.0.0",
      "model_name": "LayoutModel",
      "state": {
       "_model_module": "@jupyter-widgets/base",
       "_model_module_version": "2.0.0",
       "_model_name": "LayoutModel",
       "_view_count": null,
       "_view_module": "@jupyter-widgets/base",
       "_view_module_version": "2.0.0",
       "_view_name": "LayoutView",
       "align_content": null,
       "align_items": null,
       "align_self": null,
       "border_bottom": null,
       "border_left": null,
       "border_right": null,
       "border_top": null,
       "bottom": null,
       "display": null,
       "flex": null,
       "flex_flow": null,
       "grid_area": null,
       "grid_auto_columns": null,
       "grid_auto_flow": null,
       "grid_auto_rows": null,
       "grid_column": null,
       "grid_gap": null,
       "grid_row": null,
       "grid_template_areas": null,
       "grid_template_columns": null,
       "grid_template_rows": null,
       "height": null,
       "justify_content": null,
       "justify_items": null,
       "left": null,
       "margin": null,
       "max_height": null,
       "max_width": null,
       "min_height": null,
       "min_width": null,
       "object_fit": null,
       "object_position": null,
       "order": null,
       "overflow": null,
       "padding": null,
       "right": null,
       "top": null,
       "visibility": null,
       "width": null
      }
     },
     "03f6a419dce4485aae499ace3b49dd4d": {
      "model_module": "@jupyter-widgets/controls",
      "model_module_version": "2.0.0",
      "model_name": "HTMLStyleModel",
      "state": {
       "_model_module": "@jupyter-widgets/controls",
       "_model_module_version": "2.0.0",
       "_model_name": "HTMLStyleModel",
       "_view_count": null,
       "_view_module": "@jupyter-widgets/base",
       "_view_module_version": "2.0.0",
       "_view_name": "StyleView",
       "background": null,
       "description_width": "",
       "font_size": null,
       "text_color": null
      }
     },
     "0537ee85e089479887e2bbe5edf88923": {
      "model_module": "@jupyter-widgets/controls",
      "model_module_version": "2.0.0",
      "model_name": "HTMLModel",
      "state": {
       "_dom_classes": [],
       "_model_module": "@jupyter-widgets/controls",
       "_model_module_version": "2.0.0",
       "_model_name": "HTMLModel",
       "_view_count": null,
       "_view_module": "@jupyter-widgets/controls",
       "_view_module_version": "2.0.0",
       "_view_name": "HTMLView",
       "description": "",
       "description_allow_html": false,
       "layout": "IPY_MODEL_f908d35e66624f48accbadab77f333b8",
       "placeholder": "​",
       "style": "IPY_MODEL_85e02c41a1f04ad693879c73830bba72",
       "tabbable": null,
       "tooltip": null,
       "value": " 1/1 [00:04&lt;00:00,  4.58s/it]"
      }
     },
     "07cd4101e8e14ce8a4a744afcfae9166": {
      "model_module": "@jupyter-widgets/controls",
      "model_module_version": "2.0.0",
      "model_name": "HTMLStyleModel",
      "state": {
       "_model_module": "@jupyter-widgets/controls",
       "_model_module_version": "2.0.0",
       "_model_name": "HTMLStyleModel",
       "_view_count": null,
       "_view_module": "@jupyter-widgets/base",
       "_view_module_version": "2.0.0",
       "_view_name": "StyleView",
       "background": null,
       "description_width": "",
       "font_size": null,
       "text_color": null
      }
     },
     "094124d515e64c8dbbc879ca4d5e9af4": {
      "model_module": "@jupyter-widgets/controls",
      "model_module_version": "2.0.0",
      "model_name": "HTMLModel",
      "state": {
       "_dom_classes": [],
       "_model_module": "@jupyter-widgets/controls",
       "_model_module_version": "2.0.0",
       "_model_name": "HTMLModel",
       "_view_count": null,
       "_view_module": "@jupyter-widgets/controls",
       "_view_module_version": "2.0.0",
       "_view_name": "HTMLView",
       "description": "",
       "description_allow_html": false,
       "layout": "IPY_MODEL_411e1e89d16d47f2bf6fd3840fcd6782",
       "placeholder": "​",
       "style": "IPY_MODEL_47f0f734a5544cb9ba1995be55e6ff5f",
       "tabbable": null,
       "tooltip": null,
       "value": "100%"
      }
     },
     "0bbabeba9fdd40398552bc9e7393847f": {
      "model_module": "@jupyter-widgets/base",
      "model_module_version": "2.0.0",
      "model_name": "LayoutModel",
      "state": {
       "_model_module": "@jupyter-widgets/base",
       "_model_module_version": "2.0.0",
       "_model_name": "LayoutModel",
       "_view_count": null,
       "_view_module": "@jupyter-widgets/base",
       "_view_module_version": "2.0.0",
       "_view_name": "LayoutView",
       "align_content": null,
       "align_items": null,
       "align_self": null,
       "border_bottom": null,
       "border_left": null,
       "border_right": null,
       "border_top": null,
       "bottom": null,
       "display": null,
       "flex": null,
       "flex_flow": null,
       "grid_area": null,
       "grid_auto_columns": null,
       "grid_auto_flow": null,
       "grid_auto_rows": null,
       "grid_column": null,
       "grid_gap": null,
       "grid_row": null,
       "grid_template_areas": null,
       "grid_template_columns": null,
       "grid_template_rows": null,
       "height": null,
       "justify_content": null,
       "justify_items": null,
       "left": null,
       "margin": null,
       "max_height": null,
       "max_width": null,
       "min_height": null,
       "min_width": null,
       "object_fit": null,
       "object_position": null,
       "order": null,
       "overflow": null,
       "padding": null,
       "right": null,
       "top": null,
       "visibility": null,
       "width": null
      }
     },
     "0f37a550ecd249a5b1e23e337eb56ec4": {
      "model_module": "@jupyter-widgets/base",
      "model_module_version": "2.0.0",
      "model_name": "LayoutModel",
      "state": {
       "_model_module": "@jupyter-widgets/base",
       "_model_module_version": "2.0.0",
       "_model_name": "LayoutModel",
       "_view_count": null,
       "_view_module": "@jupyter-widgets/base",
       "_view_module_version": "2.0.0",
       "_view_name": "LayoutView",
       "align_content": null,
       "align_items": null,
       "align_self": null,
       "border_bottom": null,
       "border_left": null,
       "border_right": null,
       "border_top": null,
       "bottom": null,
       "display": null,
       "flex": "2",
       "flex_flow": null,
       "grid_area": null,
       "grid_auto_columns": null,
       "grid_auto_flow": null,
       "grid_auto_rows": null,
       "grid_column": null,
       "grid_gap": null,
       "grid_row": null,
       "grid_template_areas": null,
       "grid_template_columns": null,
       "grid_template_rows": null,
       "height": null,
       "justify_content": null,
       "justify_items": null,
       "left": null,
       "margin": null,
       "max_height": null,
       "max_width": null,
       "min_height": null,
       "min_width": null,
       "object_fit": null,
       "object_position": null,
       "order": null,
       "overflow": null,
       "padding": null,
       "right": null,
       "top": null,
       "visibility": null,
       "width": null
      }
     },
     "1600fc5880b94e2cbcd435f4ec065d34": {
      "model_module": "@jupyter-widgets/controls",
      "model_module_version": "2.0.0",
      "model_name": "HTMLModel",
      "state": {
       "_dom_classes": [],
       "_model_module": "@jupyter-widgets/controls",
       "_model_module_version": "2.0.0",
       "_model_name": "HTMLModel",
       "_view_count": null,
       "_view_module": "@jupyter-widgets/controls",
       "_view_module_version": "2.0.0",
       "_view_name": "HTMLView",
       "description": "",
       "description_allow_html": false,
       "layout": "IPY_MODEL_35b61994373c4f188c61e58f3b4c6600",
       "placeholder": "​",
       "style": "IPY_MODEL_cb836ab7f2544d35aabc14ca817f91b6",
       "tabbable": null,
       "tooltip": null,
       "value": "processing MLE analyses: 100%"
      }
     },
     "26222f3859944d0599630e371879caaa": {
      "model_module": "@jupyter-widgets/controls",
      "model_module_version": "2.0.0",
      "model_name": "HTMLModel",
      "state": {
       "_dom_classes": [],
       "_model_module": "@jupyter-widgets/controls",
       "_model_module_version": "2.0.0",
       "_model_name": "HTMLModel",
       "_view_count": null,
       "_view_module": "@jupyter-widgets/controls",
       "_view_module_version": "2.0.0",
       "_view_name": "HTMLView",
       "description": "",
       "description_allow_html": false,
       "layout": "IPY_MODEL_beff0aef5526444682f74bf4dfc9e47b",
       "placeholder": "​",
       "style": "IPY_MODEL_7d7d3d40d3cb46029c82e407899b6abf",
       "tabbable": null,
       "tooltip": null,
       "value": "Propagating errors: 100%"
      }
     },
     "26cc6b53be4a457abc3e46ddfaaaf359": {
      "model_module": "@jupyter-widgets/base",
      "model_module_version": "2.0.0",
      "model_name": "LayoutModel",
      "state": {
       "_model_module": "@jupyter-widgets/base",
       "_model_module_version": "2.0.0",
       "_model_name": "LayoutModel",
       "_view_count": null,
       "_view_module": "@jupyter-widgets/base",
       "_view_module_version": "2.0.0",
       "_view_name": "LayoutView",
       "align_content": null,
       "align_items": null,
       "align_self": null,
       "border_bottom": null,
       "border_left": null,
       "border_right": null,
       "border_top": null,
       "bottom": null,
       "display": null,
       "flex": null,
       "flex_flow": null,
       "grid_area": null,
       "grid_auto_columns": null,
       "grid_auto_flow": null,
       "grid_auto_rows": null,
       "grid_column": null,
       "grid_gap": null,
       "grid_row": null,
       "grid_template_areas": null,
       "grid_template_columns": null,
       "grid_template_rows": null,
       "height": null,
       "justify_content": null,
       "justify_items": null,
       "left": null,
       "margin": null,
       "max_height": null,
       "max_width": null,
       "min_height": null,
       "min_width": null,
       "object_fit": null,
       "object_position": null,
       "order": null,
       "overflow": null,
       "padding": null,
       "right": null,
       "top": null,
       "visibility": null,
       "width": null
      }
     },
     "28b64cfe9a8d49dfaa5b3a9c3c9f0b5d": {
      "model_module": "@jupyter-widgets/controls",
      "model_module_version": "2.0.0",
      "model_name": "ProgressStyleModel",
      "state": {
       "_model_module": "@jupyter-widgets/controls",
       "_model_module_version": "2.0.0",
       "_model_name": "ProgressStyleModel",
       "_view_count": null,
       "_view_module": "@jupyter-widgets/base",
       "_view_module_version": "2.0.0",
       "_view_name": "StyleView",
       "bar_color": "#440154",
       "description_width": ""
      }
     },
     "35b61994373c4f188c61e58f3b4c6600": {
      "model_module": "@jupyter-widgets/base",
      "model_module_version": "2.0.0",
      "model_name": "LayoutModel",
      "state": {
       "_model_module": "@jupyter-widgets/base",
       "_model_module_version": "2.0.0",
       "_model_name": "LayoutModel",
       "_view_count": null,
       "_view_module": "@jupyter-widgets/base",
       "_view_module_version": "2.0.0",
       "_view_name": "LayoutView",
       "align_content": null,
       "align_items": null,
       "align_self": null,
       "border_bottom": null,
       "border_left": null,
       "border_right": null,
       "border_top": null,
       "bottom": null,
       "display": null,
       "flex": null,
       "flex_flow": null,
       "grid_area": null,
       "grid_auto_columns": null,
       "grid_auto_flow": null,
       "grid_auto_rows": null,
       "grid_column": null,
       "grid_gap": null,
       "grid_row": null,
       "grid_template_areas": null,
       "grid_template_columns": null,
       "grid_template_rows": null,
       "height": null,
       "justify_content": null,
       "justify_items": null,
       "left": null,
       "margin": null,
       "max_height": null,
       "max_width": null,
       "min_height": null,
       "min_width": null,
       "object_fit": null,
       "object_position": null,
       "order": null,
       "overflow": null,
       "padding": null,
       "right": null,
       "top": null,
       "visibility": null,
       "width": null
      }
     },
     "36678729ef124e3c864d645f866e3f81": {
      "model_module": "@jupyter-widgets/controls",
      "model_module_version": "2.0.0",
      "model_name": "HBoxModel",
      "state": {
       "_dom_classes": [],
       "_model_module": "@jupyter-widgets/controls",
       "_model_module_version": "2.0.0",
       "_model_name": "HBoxModel",
       "_view_count": null,
       "_view_module": "@jupyter-widgets/controls",
       "_view_module_version": "2.0.0",
       "_view_name": "HBoxView",
       "box_style": "",
       "children": [
        "IPY_MODEL_abd488441f844d85ae0aa5a3187797ac",
        "IPY_MODEL_f7ce6ef4228046509f2a95b990abaca8",
        "IPY_MODEL_ffa250641204464e813b48c4a902252a"
       ],
       "layout": "IPY_MODEL_010ad893a34d4d07b2a24c60dd0782a1",
       "tabbable": null,
       "tooltip": null
      }
     },
     "411e1e89d16d47f2bf6fd3840fcd6782": {
      "model_module": "@jupyter-widgets/base",
      "model_module_version": "2.0.0",
      "model_name": "LayoutModel",
      "state": {
       "_model_module": "@jupyter-widgets/base",
       "_model_module_version": "2.0.0",
       "_model_name": "LayoutModel",
       "_view_count": null,
       "_view_module": "@jupyter-widgets/base",
       "_view_module_version": "2.0.0",
       "_view_name": "LayoutView",
       "align_content": null,
       "align_items": null,
       "align_self": null,
       "border_bottom": null,
       "border_left": null,
       "border_right": null,
       "border_top": null,
       "bottom": null,
       "display": null,
       "flex": null,
       "flex_flow": null,
       "grid_area": null,
       "grid_auto_columns": null,
       "grid_auto_flow": null,
       "grid_auto_rows": null,
       "grid_column": null,
       "grid_gap": null,
       "grid_row": null,
       "grid_template_areas": null,
       "grid_template_columns": null,
       "grid_template_rows": null,
       "height": null,
       "justify_content": null,
       "justify_items": null,
       "left": null,
       "margin": null,
       "max_height": null,
       "max_width": null,
       "min_height": null,
       "min_width": null,
       "object_fit": null,
       "object_position": null,
       "order": null,
       "overflow": null,
       "padding": null,
       "right": null,
       "top": null,
       "visibility": null,
       "width": null
      }
     },
     "42bdd3c7e8cc476cb1213f6f0a655078": {
      "model_module": "@jupyter-widgets/controls",
      "model_module_version": "2.0.0",
      "model_name": "HTMLStyleModel",
      "state": {
       "_model_module": "@jupyter-widgets/controls",
       "_model_module_version": "2.0.0",
       "_model_name": "HTMLStyleModel",
       "_view_count": null,
       "_view_module": "@jupyter-widgets/base",
       "_view_module_version": "2.0.0",
       "_view_name": "StyleView",
       "background": null,
       "description_width": "",
       "font_size": null,
       "text_color": null
      }
     },
     "4370734277c343f49b90ba278af41157": {
      "model_module": "@jupyter-widgets/controls",
      "model_module_version": "2.0.0",
      "model_name": "HTMLModel",
      "state": {
       "_dom_classes": [],
       "_model_module": "@jupyter-widgets/controls",
       "_model_module_version": "2.0.0",
       "_model_name": "HTMLModel",
       "_view_count": null,
       "_view_module": "@jupyter-widgets/controls",
       "_view_module_version": "2.0.0",
       "_view_name": "HTMLView",
       "description": "",
       "description_allow_html": false,
       "layout": "IPY_MODEL_e63d150a1b4a4c96813b551af29bcf81",
       "placeholder": "​",
       "style": "IPY_MODEL_03f6a419dce4485aae499ace3b49dd4d",
       "tabbable": null,
       "tooltip": null,
       "value": "Propagating errors: 100%"
      }
     },
     "47f0f734a5544cb9ba1995be55e6ff5f": {
      "model_module": "@jupyter-widgets/controls",
      "model_module_version": "2.0.0",
      "model_name": "HTMLStyleModel",
      "state": {
       "_model_module": "@jupyter-widgets/controls",
       "_model_module_version": "2.0.0",
       "_model_name": "HTMLStyleModel",
       "_view_count": null,
       "_view_module": "@jupyter-widgets/base",
       "_view_module_version": "2.0.0",
       "_view_name": "StyleView",
       "background": null,
       "description_width": "",
       "font_size": null,
       "text_color": null
      }
     },
     "4a7e9b030626436a81772c78586b2f9e": {
      "model_module": "@jupyter-widgets/controls",
      "model_module_version": "2.0.0",
      "model_name": "HBoxModel",
      "state": {
       "_dom_classes": [],
       "_model_module": "@jupyter-widgets/controls",
       "_model_module_version": "2.0.0",
       "_model_name": "HBoxModel",
       "_view_count": null,
       "_view_module": "@jupyter-widgets/controls",
       "_view_module_version": "2.0.0",
       "_view_name": "HBoxView",
       "box_style": "",
       "children": [
        "IPY_MODEL_094124d515e64c8dbbc879ca4d5e9af4",
        "IPY_MODEL_e6090eb3fd334837bc2f6d1aa530e3d5",
        "IPY_MODEL_9fe5ae0418444bada226acec941e1556"
       ],
       "layout": "IPY_MODEL_bf08f6a5fa0647a490786d4a8cce07f2",
       "tabbable": null,
       "tooltip": null
      }
     },
     "50206986beed42c4ab53d64e19ec3a21": {
      "model_module": "@jupyter-widgets/base",
      "model_module_version": "2.0.0",
      "model_name": "LayoutModel",
      "state": {
       "_model_module": "@jupyter-widgets/base",
       "_model_module_version": "2.0.0",
       "_model_name": "LayoutModel",
       "_view_count": null,
       "_view_module": "@jupyter-widgets/base",
       "_view_module_version": "2.0.0",
       "_view_name": "LayoutView",
       "align_content": null,
       "align_items": null,
       "align_self": null,
       "border_bottom": null,
       "border_left": null,
       "border_right": null,
       "border_top": null,
       "bottom": null,
       "display": null,
       "flex": null,
       "flex_flow": null,
       "grid_area": null,
       "grid_auto_columns": null,
       "grid_auto_flow": null,
       "grid_auto_rows": null,
       "grid_column": null,
       "grid_gap": null,
       "grid_row": null,
       "grid_template_areas": null,
       "grid_template_columns": null,
       "grid_template_rows": null,
       "height": null,
       "justify_content": null,
       "justify_items": null,
       "left": null,
       "margin": null,
       "max_height": null,
       "max_width": null,
       "min_height": null,
       "min_width": null,
       "object_fit": null,
       "object_position": null,
       "order": null,
       "overflow": null,
       "padding": null,
       "right": null,
       "top": null,
       "visibility": null,
       "width": null
      }
     },
     "65cbe24d006045c9ac71b5364f92d9ac": {
      "model_module": "@jupyter-widgets/controls",
      "model_module_version": "2.0.0",
      "model_name": "ProgressStyleModel",
      "state": {
       "_model_module": "@jupyter-widgets/controls",
       "_model_module_version": "2.0.0",
       "_model_name": "ProgressStyleModel",
       "_view_count": null,
       "_view_module": "@jupyter-widgets/base",
       "_view_module_version": "2.0.0",
       "_view_name": "StyleView",
       "bar_color": null,
       "description_width": ""
      }
     },
     "70aa3e650f9e4004bb5f6ce657801038": {
      "model_module": "@jupyter-widgets/base",
      "model_module_version": "2.0.0",
      "model_name": "LayoutModel",
      "state": {
       "_model_module": "@jupyter-widgets/base",
       "_model_module_version": "2.0.0",
       "_model_name": "LayoutModel",
       "_view_count": null,
       "_view_module": "@jupyter-widgets/base",
       "_view_module_version": "2.0.0",
       "_view_name": "LayoutView",
       "align_content": null,
       "align_items": null,
       "align_self": null,
       "border_bottom": null,
       "border_left": null,
       "border_right": null,
       "border_top": null,
       "bottom": null,
       "display": null,
       "flex": null,
       "flex_flow": null,
       "grid_area": null,
       "grid_auto_columns": null,
       "grid_auto_flow": null,
       "grid_auto_rows": null,
       "grid_column": null,
       "grid_gap": null,
       "grid_row": null,
       "grid_template_areas": null,
       "grid_template_columns": null,
       "grid_template_rows": null,
       "height": null,
       "justify_content": null,
       "justify_items": null,
       "left": null,
       "margin": null,
       "max_height": null,
       "max_width": null,
       "min_height": null,
       "min_width": null,
       "object_fit": null,
       "object_position": null,
       "order": null,
       "overflow": null,
       "padding": null,
       "right": null,
       "top": null,
       "visibility": null,
       "width": null
      }
     },
     "7292a38e971f4a9fb8a50990bd191a6a": {
      "model_module": "@jupyter-widgets/base",
      "model_module_version": "2.0.0",
      "model_name": "LayoutModel",
      "state": {
       "_model_module": "@jupyter-widgets/base",
       "_model_module_version": "2.0.0",
       "_model_name": "LayoutModel",
       "_view_count": null,
       "_view_module": "@jupyter-widgets/base",
       "_view_module_version": "2.0.0",
       "_view_name": "LayoutView",
       "align_content": null,
       "align_items": null,
       "align_self": null,
       "border_bottom": null,
       "border_left": null,
       "border_right": null,
       "border_top": null,
       "bottom": null,
       "display": null,
       "flex": null,
       "flex_flow": null,
       "grid_area": null,
       "grid_auto_columns": null,
       "grid_auto_flow": null,
       "grid_auto_rows": null,
       "grid_column": null,
       "grid_gap": null,
       "grid_row": null,
       "grid_template_areas": null,
       "grid_template_columns": null,
       "grid_template_rows": null,
       "height": null,
       "justify_content": null,
       "justify_items": null,
       "left": null,
       "margin": null,
       "max_height": null,
       "max_width": null,
       "min_height": null,
       "min_width": null,
       "object_fit": null,
       "object_position": null,
       "order": null,
       "overflow": null,
       "padding": null,
       "right": null,
       "top": null,
       "visibility": null,
       "width": null
      }
     },
     "7699d366385b41418afb004516fe0580": {
      "model_module": "@jupyter-widgets/controls",
      "model_module_version": "2.0.0",
      "model_name": "HTMLStyleModel",
      "state": {
       "_model_module": "@jupyter-widgets/controls",
       "_model_module_version": "2.0.0",
       "_model_name": "HTMLStyleModel",
       "_view_count": null,
       "_view_module": "@jupyter-widgets/base",
       "_view_module_version": "2.0.0",
       "_view_name": "StyleView",
       "background": null,
       "description_width": "",
       "font_size": null,
       "text_color": null
      }
     },
     "7833ad6f8875465db94413e8bdfefb9d": {
      "model_module": "@jupyter-widgets/base",
      "model_module_version": "2.0.0",
      "model_name": "LayoutModel",
      "state": {
       "_model_module": "@jupyter-widgets/base",
       "_model_module_version": "2.0.0",
       "_model_name": "LayoutModel",
       "_view_count": null,
       "_view_module": "@jupyter-widgets/base",
       "_view_module_version": "2.0.0",
       "_view_name": "LayoutView",
       "align_content": null,
       "align_items": null,
       "align_self": null,
       "border_bottom": null,
       "border_left": null,
       "border_right": null,
       "border_top": null,
       "bottom": null,
       "display": null,
       "flex": null,
       "flex_flow": null,
       "grid_area": null,
       "grid_auto_columns": null,
       "grid_auto_flow": null,
       "grid_auto_rows": null,
       "grid_column": null,
       "grid_gap": null,
       "grid_row": null,
       "grid_template_areas": null,
       "grid_template_columns": null,
       "grid_template_rows": null,
       "height": null,
       "justify_content": null,
       "justify_items": null,
       "left": null,
       "margin": null,
       "max_height": null,
       "max_width": null,
       "min_height": null,
       "min_width": null,
       "object_fit": null,
       "object_position": null,
       "order": null,
       "overflow": null,
       "padding": null,
       "right": null,
       "top": null,
       "visibility": null,
       "width": null
      }
     },
     "7c1067b6d26c44fd910adf6b91d9b57c": {
      "model_module": "@jupyter-widgets/controls",
      "model_module_version": "2.0.0",
      "model_name": "HTMLModel",
      "state": {
       "_dom_classes": [],
       "_model_module": "@jupyter-widgets/controls",
       "_model_module_version": "2.0.0",
       "_model_name": "HTMLModel",
       "_view_count": null,
       "_view_module": "@jupyter-widgets/controls",
       "_view_module_version": "2.0.0",
       "_view_name": "HTMLView",
       "description": "",
       "description_allow_html": false,
       "layout": "IPY_MODEL_fb8e482ba3314acf9961b8ec92ad0cae",
       "placeholder": "​",
       "style": "IPY_MODEL_7699d366385b41418afb004516fe0580",
       "tabbable": null,
       "tooltip": null,
       "value": " 100/100 [00:03&lt;00:00, 25.85it/s]"
      }
     },
     "7d7d3d40d3cb46029c82e407899b6abf": {
      "model_module": "@jupyter-widgets/controls",
      "model_module_version": "2.0.0",
      "model_name": "HTMLStyleModel",
      "state": {
       "_model_module": "@jupyter-widgets/controls",
       "_model_module_version": "2.0.0",
       "_model_name": "HTMLStyleModel",
       "_view_count": null,
       "_view_module": "@jupyter-widgets/base",
       "_view_module_version": "2.0.0",
       "_view_name": "StyleView",
       "background": null,
       "description_width": "",
       "font_size": null,
       "text_color": null
      }
     },
     "83dee6f7cc5f4f869c536d3e7a9f5633": {
      "model_module": "@jupyter-widgets/controls",
      "model_module_version": "2.0.0",
      "model_name": "FloatProgressModel",
      "state": {
       "_dom_classes": [],
       "_model_module": "@jupyter-widgets/controls",
       "_model_module_version": "2.0.0",
       "_model_name": "FloatProgressModel",
       "_view_count": null,
       "_view_module": "@jupyter-widgets/controls",
       "_view_module_version": "2.0.0",
       "_view_name": "ProgressView",
       "bar_style": "success",
       "description": "",
       "description_allow_html": false,
       "layout": "IPY_MODEL_0f37a550ecd249a5b1e23e337eb56ec4",
       "max": 1.0,
       "min": 0.0,
       "orientation": "horizontal",
       "style": "IPY_MODEL_28b64cfe9a8d49dfaa5b3a9c3c9f0b5d",
       "tabbable": null,
       "tooltip": null,
       "value": 1.0
      }
     },
     "853f780137fe46b6bd21ea49feec9aa9": {
      "model_module": "@jupyter-widgets/controls",
      "model_module_version": "2.0.0",
      "model_name": "HTMLStyleModel",
      "state": {
       "_model_module": "@jupyter-widgets/controls",
       "_model_module_version": "2.0.0",
       "_model_name": "HTMLStyleModel",
       "_view_count": null,
       "_view_module": "@jupyter-widgets/base",
       "_view_module_version": "2.0.0",
       "_view_name": "StyleView",
       "background": null,
       "description_width": "",
       "font_size": null,
       "text_color": null
      }
     },
     "85e02c41a1f04ad693879c73830bba72": {
      "model_module": "@jupyter-widgets/controls",
      "model_module_version": "2.0.0",
      "model_name": "HTMLStyleModel",
      "state": {
       "_model_module": "@jupyter-widgets/controls",
       "_model_module_version": "2.0.0",
       "_model_name": "HTMLStyleModel",
       "_view_count": null,
       "_view_module": "@jupyter-widgets/base",
       "_view_module_version": "2.0.0",
       "_view_name": "StyleView",
       "background": null,
       "description_width": "",
       "font_size": null,
       "text_color": null
      }
     },
     "8cb739c9bb9e45b08c1490bd60149a8c": {
      "model_module": "@jupyter-widgets/controls",
      "model_module_version": "2.0.0",
      "model_name": "HBoxModel",
      "state": {
       "_dom_classes": [],
       "_model_module": "@jupyter-widgets/controls",
       "_model_module_version": "2.0.0",
       "_model_name": "HBoxModel",
       "_view_count": null,
       "_view_module": "@jupyter-widgets/controls",
       "_view_module_version": "2.0.0",
       "_view_name": "HBoxView",
       "box_style": "",
       "children": [
        "IPY_MODEL_26222f3859944d0599630e371879caaa",
        "IPY_MODEL_fb61e0a623c04eb0bd58fc2e2d587718",
        "IPY_MODEL_7c1067b6d26c44fd910adf6b91d9b57c"
       ],
       "layout": "IPY_MODEL_dc03390ee4c34c9e9601a19b7701c389",
       "tabbable": null,
       "tooltip": null
      }
     },
     "98a4f3205dfc4d94950df7c26c784fc4": {
      "model_module": "@jupyter-widgets/controls",
      "model_module_version": "2.0.0",
      "model_name": "HTMLStyleModel",
      "state": {
       "_model_module": "@jupyter-widgets/controls",
       "_model_module_version": "2.0.0",
       "_model_name": "HTMLStyleModel",
       "_view_count": null,
       "_view_module": "@jupyter-widgets/base",
       "_view_module_version": "2.0.0",
       "_view_name": "StyleView",
       "background": null,
       "description_width": "",
       "font_size": null,
       "text_color": null
      }
     },
     "9fe5ae0418444bada226acec941e1556": {
      "model_module": "@jupyter-widgets/controls",
      "model_module_version": "2.0.0",
      "model_name": "HTMLModel",
      "state": {
       "_dom_classes": [],
       "_model_module": "@jupyter-widgets/controls",
       "_model_module_version": "2.0.0",
       "_model_name": "HTMLModel",
       "_view_count": null,
       "_view_module": "@jupyter-widgets/controls",
       "_view_module_version": "2.0.0",
       "_view_name": "HTMLView",
       "description": "",
       "description_allow_html": false,
       "layout": "IPY_MODEL_7292a38e971f4a9fb8a50990bd191a6a",
       "placeholder": "​",
       "style": "IPY_MODEL_98a4f3205dfc4d94950df7c26c784fc4",
       "tabbable": null,
       "tooltip": null,
       "value": " 100/100 [00:00&lt;00:00, 272.61it/s]"
      }
     },
     "a0e6f46b704a43e48d6a79210a5299a0": {
      "model_module": "@jupyter-widgets/base",
      "model_module_version": "2.0.0",
      "model_name": "LayoutModel",
      "state": {
       "_model_module": "@jupyter-widgets/base",
       "_model_module_version": "2.0.0",
       "_model_name": "LayoutModel",
       "_view_count": null,
       "_view_module": "@jupyter-widgets/base",
       "_view_module_version": "2.0.0",
       "_view_name": "LayoutView",
       "align_content": null,
       "align_items": null,
       "align_self": null,
       "border_bottom": null,
       "border_left": null,
       "border_right": null,
       "border_top": null,
       "bottom": null,
       "display": "inline-flex",
       "flex": null,
       "flex_flow": "row wrap",
       "grid_area": null,
       "grid_auto_columns": null,
       "grid_auto_flow": null,
       "grid_auto_rows": null,
       "grid_column": null,
       "grid_gap": null,
       "grid_row": null,
       "grid_template_areas": null,
       "grid_template_columns": null,
       "grid_template_rows": null,
       "height": null,
       "justify_content": null,
       "justify_items": null,
       "left": null,
       "margin": null,
       "max_height": null,
       "max_width": null,
       "min_height": null,
       "min_width": null,
       "object_fit": null,
       "object_position": null,
       "order": null,
       "overflow": null,
       "padding": null,
       "right": null,
       "top": null,
       "visibility": null,
       "width": "100%"
      }
     },
     "a9cbcd43798049c2b644e1fe496547f6": {
      "model_module": "@jupyter-widgets/controls",
      "model_module_version": "2.0.0",
      "model_name": "HBoxModel",
      "state": {
       "_dom_classes": [],
       "_model_module": "@jupyter-widgets/controls",
       "_model_module_version": "2.0.0",
       "_model_name": "HBoxModel",
       "_view_count": null,
       "_view_module": "@jupyter-widgets/controls",
       "_view_module_version": "2.0.0",
       "_view_name": "HBoxView",
       "box_style": "",
       "children": [
        "IPY_MODEL_4370734277c343f49b90ba278af41157",
        "IPY_MODEL_00a218ad24494c229f7c6efa51218192",
        "IPY_MODEL_b75ca64bf4334299977982c75d117237"
       ],
       "layout": "IPY_MODEL_7833ad6f8875465db94413e8bdfefb9d",
       "tabbable": null,
       "tooltip": null
      }
     },
     "abd488441f844d85ae0aa5a3187797ac": {
      "model_module": "@jupyter-widgets/controls",
      "model_module_version": "2.0.0",
      "model_name": "HTMLModel",
      "state": {
       "_dom_classes": [],
       "_model_module": "@jupyter-widgets/controls",
       "_model_module_version": "2.0.0",
       "_model_name": "HTMLModel",
       "_view_count": null,
       "_view_module": "@jupyter-widgets/controls",
       "_view_module_version": "2.0.0",
       "_view_name": "HTMLView",
       "description": "",
       "description_allow_html": false,
       "layout": "IPY_MODEL_50206986beed42c4ab53d64e19ec3a21",
       "placeholder": "​",
       "style": "IPY_MODEL_07cd4101e8e14ce8a4a744afcfae9166",
       "tabbable": null,
       "tooltip": null,
       "value": "100%"
      }
     },
     "b75ca64bf4334299977982c75d117237": {
      "model_module": "@jupyter-widgets/controls",
      "model_module_version": "2.0.0",
      "model_name": "HTMLModel",
      "state": {
       "_dom_classes": [],
       "_model_module": "@jupyter-widgets/controls",
       "_model_module_version": "2.0.0",
       "_model_name": "HTMLModel",
       "_view_count": null,
       "_view_module": "@jupyter-widgets/controls",
       "_view_module_version": "2.0.0",
       "_view_name": "HTMLView",
       "description": "",
       "description_allow_html": false,
       "layout": "IPY_MODEL_70aa3e650f9e4004bb5f6ce657801038",
       "placeholder": "​",
       "style": "IPY_MODEL_42bdd3c7e8cc476cb1213f6f0a655078",
       "tabbable": null,
       "tooltip": null,
       "value": " 100/100 [00:03&lt;00:00, 26.26it/s]"
      }
     },
     "beff0aef5526444682f74bf4dfc9e47b": {
      "model_module": "@jupyter-widgets/base",
      "model_module_version": "2.0.0",
      "model_name": "LayoutModel",
      "state": {
       "_model_module": "@jupyter-widgets/base",
       "_model_module_version": "2.0.0",
       "_model_name": "LayoutModel",
       "_view_count": null,
       "_view_module": "@jupyter-widgets/base",
       "_view_module_version": "2.0.0",
       "_view_name": "LayoutView",
       "align_content": null,
       "align_items": null,
       "align_self": null,
       "border_bottom": null,
       "border_left": null,
       "border_right": null,
       "border_top": null,
       "bottom": null,
       "display": null,
       "flex": null,
       "flex_flow": null,
       "grid_area": null,
       "grid_auto_columns": null,
       "grid_auto_flow": null,
       "grid_auto_rows": null,
       "grid_column": null,
       "grid_gap": null,
       "grid_row": null,
       "grid_template_areas": null,
       "grid_template_columns": null,
       "grid_template_rows": null,
       "height": null,
       "justify_content": null,
       "justify_items": null,
       "left": null,
       "margin": null,
       "max_height": null,
       "max_width": null,
       "min_height": null,
       "min_width": null,
       "object_fit": null,
       "object_position": null,
       "order": null,
       "overflow": null,
       "padding": null,
       "right": null,
       "top": null,
       "visibility": null,
       "width": null
      }
     },
     "bf08f6a5fa0647a490786d4a8cce07f2": {
      "model_module": "@jupyter-widgets/base",
      "model_module_version": "2.0.0",
      "model_name": "LayoutModel",
      "state": {
       "_model_module": "@jupyter-widgets/base",
       "_model_module_version": "2.0.0",
       "_model_name": "LayoutModel",
       "_view_count": null,
       "_view_module": "@jupyter-widgets/base",
       "_view_module_version": "2.0.0",
       "_view_name": "LayoutView",
       "align_content": null,
       "align_items": null,
       "align_self": null,
       "border_bottom": null,
       "border_left": null,
       "border_right": null,
       "border_top": null,
       "bottom": null,
       "display": null,
       "flex": null,
       "flex_flow": null,
       "grid_area": null,
       "grid_auto_columns": null,
       "grid_auto_flow": null,
       "grid_auto_rows": null,
       "grid_column": null,
       "grid_gap": null,
       "grid_row": null,
       "grid_template_areas": null,
       "grid_template_columns": null,
       "grid_template_rows": null,
       "height": null,
       "justify_content": null,
       "justify_items": null,
       "left": null,
       "margin": null,
       "max_height": null,
       "max_width": null,
       "min_height": null,
       "min_width": null,
       "object_fit": null,
       "object_position": null,
       "order": null,
       "overflow": null,
       "padding": null,
       "right": null,
       "top": null,
       "visibility": null,
       "width": null
      }
     },
     "c16f06c0aa9a46319877030e09d22497": {
      "model_module": "@jupyter-widgets/base",
      "model_module_version": "2.0.0",
      "model_name": "LayoutModel",
      "state": {
       "_model_module": "@jupyter-widgets/base",
       "_model_module_version": "2.0.0",
       "_model_name": "LayoutModel",
       "_view_count": null,
       "_view_module": "@jupyter-widgets/base",
       "_view_module_version": "2.0.0",
       "_view_name": "LayoutView",
       "align_content": null,
       "align_items": null,
       "align_self": null,
       "border_bottom": null,
       "border_left": null,
       "border_right": null,
       "border_top": null,
       "bottom": null,
       "display": null,
       "flex": null,
       "flex_flow": null,
       "grid_area": null,
       "grid_auto_columns": null,
       "grid_auto_flow": null,
       "grid_auto_rows": null,
       "grid_column": null,
       "grid_gap": null,
       "grid_row": null,
       "grid_template_areas": null,
       "grid_template_columns": null,
       "grid_template_rows": null,
       "height": null,
       "justify_content": null,
       "justify_items": null,
       "left": null,
       "margin": null,
       "max_height": null,
       "max_width": null,
       "min_height": null,
       "min_width": null,
       "object_fit": null,
       "object_position": null,
       "order": null,
       "overflow": null,
       "padding": null,
       "right": null,
       "top": null,
       "visibility": null,
       "width": null
      }
     },
     "cb836ab7f2544d35aabc14ca817f91b6": {
      "model_module": "@jupyter-widgets/controls",
      "model_module_version": "2.0.0",
      "model_name": "HTMLStyleModel",
      "state": {
       "_model_module": "@jupyter-widgets/controls",
       "_model_module_version": "2.0.0",
       "_model_name": "HTMLStyleModel",
       "_view_count": null,
       "_view_module": "@jupyter-widgets/base",
       "_view_module_version": "2.0.0",
       "_view_name": "StyleView",
       "background": null,
       "description_width": "",
       "font_size": null,
       "text_color": null
      }
     },
     "cc873ff15f9248229e7c57ef29ef2e9c": {
      "model_module": "@jupyter-widgets/base",
      "model_module_version": "2.0.0",
      "model_name": "LayoutModel",
      "state": {
       "_model_module": "@jupyter-widgets/base",
       "_model_module_version": "2.0.0",
       "_model_name": "LayoutModel",
       "_view_count": null,
       "_view_module": "@jupyter-widgets/base",
       "_view_module_version": "2.0.0",
       "_view_name": "LayoutView",
       "align_content": null,
       "align_items": null,
       "align_self": null,
       "border_bottom": null,
       "border_left": null,
       "border_right": null,
       "border_top": null,
       "bottom": null,
       "display": null,
       "flex": null,
       "flex_flow": null,
       "grid_area": null,
       "grid_auto_columns": null,
       "grid_auto_flow": null,
       "grid_auto_rows": null,
       "grid_column": null,
       "grid_gap": null,
       "grid_row": null,
       "grid_template_areas": null,
       "grid_template_columns": null,
       "grid_template_rows": null,
       "height": null,
       "justify_content": null,
       "justify_items": null,
       "left": null,
       "margin": null,
       "max_height": null,
       "max_width": null,
       "min_height": null,
       "min_width": null,
       "object_fit": null,
       "object_position": null,
       "order": null,
       "overflow": null,
       "padding": null,
       "right": null,
       "top": null,
       "visibility": null,
       "width": null
      }
     },
     "d39bc9a7ca8540e7b909e1a4d771eea1": {
      "model_module": "@jupyter-widgets/controls",
      "model_module_version": "2.0.0",
      "model_name": "ProgressStyleModel",
      "state": {
       "_model_module": "@jupyter-widgets/controls",
       "_model_module_version": "2.0.0",
       "_model_name": "ProgressStyleModel",
       "_view_count": null,
       "_view_module": "@jupyter-widgets/base",
       "_view_module_version": "2.0.0",
       "_view_name": "StyleView",
       "bar_color": null,
       "description_width": ""
      }
     },
     "dc03390ee4c34c9e9601a19b7701c389": {
      "model_module": "@jupyter-widgets/base",
      "model_module_version": "2.0.0",
      "model_name": "LayoutModel",
      "state": {
       "_model_module": "@jupyter-widgets/base",
       "_model_module_version": "2.0.0",
       "_model_name": "LayoutModel",
       "_view_count": null,
       "_view_module": "@jupyter-widgets/base",
       "_view_module_version": "2.0.0",
       "_view_name": "LayoutView",
       "align_content": null,
       "align_items": null,
       "align_self": null,
       "border_bottom": null,
       "border_left": null,
       "border_right": null,
       "border_top": null,
       "bottom": null,
       "display": null,
       "flex": null,
       "flex_flow": null,
       "grid_area": null,
       "grid_auto_columns": null,
       "grid_auto_flow": null,
       "grid_auto_rows": null,
       "grid_column": null,
       "grid_gap": null,
       "grid_row": null,
       "grid_template_areas": null,
       "grid_template_columns": null,
       "grid_template_rows": null,
       "height": null,
       "justify_content": null,
       "justify_items": null,
       "left": null,
       "margin": null,
       "max_height": null,
       "max_width": null,
       "min_height": null,
       "min_width": null,
       "object_fit": null,
       "object_position": null,
       "order": null,
       "overflow": null,
       "padding": null,
       "right": null,
       "top": null,
       "visibility": null,
       "width": null
      }
     },
     "e47d5dd742b346f48b238aac6ce1220c": {
      "model_module": "@jupyter-widgets/controls",
      "model_module_version": "2.0.0",
      "model_name": "ProgressStyleModel",
      "state": {
       "_model_module": "@jupyter-widgets/controls",
       "_model_module_version": "2.0.0",
       "_model_name": "ProgressStyleModel",
       "_view_count": null,
       "_view_module": "@jupyter-widgets/base",
       "_view_module_version": "2.0.0",
       "_view_name": "StyleView",
       "bar_color": null,
       "description_width": ""
      }
     },
     "e6090eb3fd334837bc2f6d1aa530e3d5": {
      "model_module": "@jupyter-widgets/controls",
      "model_module_version": "2.0.0",
      "model_name": "FloatProgressModel",
      "state": {
       "_dom_classes": [],
       "_model_module": "@jupyter-widgets/controls",
       "_model_module_version": "2.0.0",
       "_model_name": "FloatProgressModel",
       "_view_count": null,
       "_view_module": "@jupyter-widgets/controls",
       "_view_module_version": "2.0.0",
       "_view_name": "ProgressView",
       "bar_style": "success",
       "description": "",
       "description_allow_html": false,
       "layout": "IPY_MODEL_cc873ff15f9248229e7c57ef29ef2e9c",
       "max": 100.0,
       "min": 0.0,
       "orientation": "horizontal",
       "style": "IPY_MODEL_d39bc9a7ca8540e7b909e1a4d771eea1",
       "tabbable": null,
       "tooltip": null,
       "value": 100.0
      }
     },
     "e63d150a1b4a4c96813b551af29bcf81": {
      "model_module": "@jupyter-widgets/base",
      "model_module_version": "2.0.0",
      "model_name": "LayoutModel",
      "state": {
       "_model_module": "@jupyter-widgets/base",
       "_model_module_version": "2.0.0",
       "_model_name": "LayoutModel",
       "_view_count": null,
       "_view_module": "@jupyter-widgets/base",
       "_view_module_version": "2.0.0",
       "_view_name": "LayoutView",
       "align_content": null,
       "align_items": null,
       "align_self": null,
       "border_bottom": null,
       "border_left": null,
       "border_right": null,
       "border_top": null,
       "bottom": null,
       "display": null,
       "flex": null,
       "flex_flow": null,
       "grid_area": null,
       "grid_auto_columns": null,
       "grid_auto_flow": null,
       "grid_auto_rows": null,
       "grid_column": null,
       "grid_gap": null,
       "grid_row": null,
       "grid_template_areas": null,
       "grid_template_columns": null,
       "grid_template_rows": null,
       "height": null,
       "justify_content": null,
       "justify_items": null,
       "left": null,
       "margin": null,
       "max_height": null,
       "max_width": null,
       "min_height": null,
       "min_width": null,
       "object_fit": null,
       "object_position": null,
       "order": null,
       "overflow": null,
       "padding": null,
       "right": null,
       "top": null,
       "visibility": null,
       "width": null
      }
     },
     "e9d329e4330a4365820691f4a55e8140": {
      "model_module": "@jupyter-widgets/controls",
      "model_module_version": "2.0.0",
      "model_name": "HBoxModel",
      "state": {
       "_dom_classes": [],
       "_model_module": "@jupyter-widgets/controls",
       "_model_module_version": "2.0.0",
       "_model_name": "HBoxModel",
       "_view_count": null,
       "_view_module": "@jupyter-widgets/controls",
       "_view_module_version": "2.0.0",
       "_view_name": "HBoxView",
       "box_style": "",
       "children": [
        "IPY_MODEL_1600fc5880b94e2cbcd435f4ec065d34",
        "IPY_MODEL_83dee6f7cc5f4f869c536d3e7a9f5633",
        "IPY_MODEL_0537ee85e089479887e2bbe5edf88923"
       ],
       "layout": "IPY_MODEL_a0e6f46b704a43e48d6a79210a5299a0",
       "tabbable": null,
       "tooltip": null
      }
     },
     "f7ce6ef4228046509f2a95b990abaca8": {
      "model_module": "@jupyter-widgets/controls",
      "model_module_version": "2.0.0",
      "model_name": "FloatProgressModel",
      "state": {
       "_dom_classes": [],
       "_model_module": "@jupyter-widgets/controls",
       "_model_module_version": "2.0.0",
       "_model_name": "FloatProgressModel",
       "_view_count": null,
       "_view_module": "@jupyter-widgets/controls",
       "_view_module_version": "2.0.0",
       "_view_name": "ProgressView",
       "bar_style": "success",
       "description": "",
       "description_allow_html": false,
       "layout": "IPY_MODEL_26cc6b53be4a457abc3e46ddfaaaf359",
       "max": 1000.0,
       "min": 0.0,
       "orientation": "horizontal",
       "style": "IPY_MODEL_f99145ca27c04a89bb22d867fc82e7b9",
       "tabbable": null,
       "tooltip": null,
       "value": 1000.0
      }
     },
     "f908d35e66624f48accbadab77f333b8": {
      "model_module": "@jupyter-widgets/base",
      "model_module_version": "2.0.0",
      "model_name": "LayoutModel",
      "state": {
       "_model_module": "@jupyter-widgets/base",
       "_model_module_version": "2.0.0",
       "_model_name": "LayoutModel",
       "_view_count": null,
       "_view_module": "@jupyter-widgets/base",
       "_view_module_version": "2.0.0",
       "_view_name": "LayoutView",
       "align_content": null,
       "align_items": null,
       "align_self": null,
       "border_bottom": null,
       "border_left": null,
       "border_right": null,
       "border_top": null,
       "bottom": null,
       "display": null,
       "flex": null,
       "flex_flow": null,
       "grid_area": null,
       "grid_auto_columns": null,
       "grid_auto_flow": null,
       "grid_auto_rows": null,
       "grid_column": null,
       "grid_gap": null,
       "grid_row": null,
       "grid_template_areas": null,
       "grid_template_columns": null,
       "grid_template_rows": null,
       "height": null,
       "justify_content": null,
       "justify_items": null,
       "left": null,
       "margin": null,
       "max_height": null,
       "max_width": null,
       "min_height": null,
       "min_width": null,
       "object_fit": null,
       "object_position": null,
       "order": null,
       "overflow": null,
       "padding": null,
       "right": null,
       "top": null,
       "visibility": null,
       "width": null
      }
     },
     "f99145ca27c04a89bb22d867fc82e7b9": {
      "model_module": "@jupyter-widgets/controls",
      "model_module_version": "2.0.0",
      "model_name": "ProgressStyleModel",
      "state": {
       "_model_module": "@jupyter-widgets/controls",
       "_model_module_version": "2.0.0",
       "_model_name": "ProgressStyleModel",
       "_view_count": null,
       "_view_module": "@jupyter-widgets/base",
       "_view_module_version": "2.0.0",
       "_view_name": "StyleView",
       "bar_color": null,
       "description_width": ""
      }
     },
     "fb61e0a623c04eb0bd58fc2e2d587718": {
      "model_module": "@jupyter-widgets/controls",
      "model_module_version": "2.0.0",
      "model_name": "FloatProgressModel",
      "state": {
       "_dom_classes": [],
       "_model_module": "@jupyter-widgets/controls",
       "_model_module_version": "2.0.0",
       "_model_name": "FloatProgressModel",
       "_view_count": null,
       "_view_module": "@jupyter-widgets/controls",
       "_view_module_version": "2.0.0",
       "_view_name": "ProgressView",
       "bar_style": "success",
       "description": "",
       "description_allow_html": false,
       "layout": "IPY_MODEL_0bbabeba9fdd40398552bc9e7393847f",
       "max": 100.0,
       "min": 0.0,
       "orientation": "horizontal",
       "style": "IPY_MODEL_e47d5dd742b346f48b238aac6ce1220c",
       "tabbable": null,
       "tooltip": null,
       "value": 100.0
      }
     },
     "fb81366d0a954ee19e53b6a280e05a15": {
      "model_module": "@jupyter-widgets/base",
      "model_module_version": "2.0.0",
      "model_name": "LayoutModel",
      "state": {
       "_model_module": "@jupyter-widgets/base",
       "_model_module_version": "2.0.0",
       "_model_name": "LayoutModel",
       "_view_count": null,
       "_view_module": "@jupyter-widgets/base",
       "_view_module_version": "2.0.0",
       "_view_name": "LayoutView",
       "align_content": null,
       "align_items": null,
       "align_self": null,
       "border_bottom": null,
       "border_left": null,
       "border_right": null,
       "border_top": null,
       "bottom": null,
       "display": null,
       "flex": null,
       "flex_flow": null,
       "grid_area": null,
       "grid_auto_columns": null,
       "grid_auto_flow": null,
       "grid_auto_rows": null,
       "grid_column": null,
       "grid_gap": null,
       "grid_row": null,
       "grid_template_areas": null,
       "grid_template_columns": null,
       "grid_template_rows": null,
       "height": null,
       "justify_content": null,
       "justify_items": null,
       "left": null,
       "margin": null,
       "max_height": null,
       "max_width": null,
       "min_height": null,
       "min_width": null,
       "object_fit": null,
       "object_position": null,
       "order": null,
       "overflow": null,
       "padding": null,
       "right": null,
       "top": null,
       "visibility": null,
       "width": null
      }
     },
     "fb8e482ba3314acf9961b8ec92ad0cae": {
      "model_module": "@jupyter-widgets/base",
      "model_module_version": "2.0.0",
      "model_name": "LayoutModel",
      "state": {
       "_model_module": "@jupyter-widgets/base",
       "_model_module_version": "2.0.0",
       "_model_name": "LayoutModel",
       "_view_count": null,
       "_view_module": "@jupyter-widgets/base",
       "_view_module_version": "2.0.0",
       "_view_name": "LayoutView",
       "align_content": null,
       "align_items": null,
       "align_self": null,
       "border_bottom": null,
       "border_left": null,
       "border_right": null,
       "border_top": null,
       "bottom": null,
       "display": null,
       "flex": null,
       "flex_flow": null,
       "grid_area": null,
       "grid_auto_columns": null,
       "grid_auto_flow": null,
       "grid_auto_rows": null,
       "grid_column": null,
       "grid_gap": null,
       "grid_row": null,
       "grid_template_areas": null,
       "grid_template_columns": null,
       "grid_template_rows": null,
       "height": null,
       "justify_content": null,
       "justify_items": null,
       "left": null,
       "margin": null,
       "max_height": null,
       "max_width": null,
       "min_height": null,
       "min_width": null,
       "object_fit": null,
       "object_position": null,
       "order": null,
       "overflow": null,
       "padding": null,
       "right": null,
       "top": null,
       "visibility": null,
       "width": null
      }
     },
     "ffa250641204464e813b48c4a902252a": {
      "model_module": "@jupyter-widgets/controls",
      "model_module_version": "2.0.0",
      "model_name": "HTMLModel",
      "state": {
       "_dom_classes": [],
       "_model_module": "@jupyter-widgets/controls",
       "_model_module_version": "2.0.0",
       "_model_name": "HTMLModel",
       "_view_count": null,
       "_view_module": "@jupyter-widgets/controls",
       "_view_module_version": "2.0.0",
       "_view_name": "HTMLView",
       "description": "",
       "description_allow_html": false,
       "layout": "IPY_MODEL_fb81366d0a954ee19e53b6a280e05a15",
       "placeholder": "​",
       "style": "IPY_MODEL_853f780137fe46b6bd21ea49feec9aa9",
       "tabbable": null,
       "tooltip": null,
       "value": " 1000/1000 [00:03&lt;00:00, 267.27it/s]"
      }
     }
    },
    "version_major": 2,
    "version_minor": 0
   }
  }
 },
 "nbformat": 4,
 "nbformat_minor": 5
}
