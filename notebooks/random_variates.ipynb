{
 "cells": [
  {
   "cell_type": "markdown",
   "id": "354aba06",
   "metadata": {},
   "source": [
    "# Random Variates\n",
    "\n",
    "When we perform a fit or load and analysis result, the parmeters of our model become distributions in the AnalysisResults object. These are actaully instantiactions of the RandomVaraiates class.\n",
    "\n",
    "While we have covered most of the functionality of RandomVariates in the AnalysisResults section, we want to highlight a few of the details here.\n"
   ]
  },
  {
   "cell_type": "code",
   "execution_count": 1,
   "id": "e17150d0",
   "metadata": {
    "execution": {
     "iopub.execute_input": "2024-09-11T16:18:48.843035Z",
     "iopub.status.busy": "2024-09-11T16:18:48.842831Z",
     "iopub.status.idle": "2024-09-11T16:18:48.904436Z",
     "shell.execute_reply": "2024-09-11T16:18:48.903791Z"
    },
    "lines_to_next_cell": 0
   },
   "outputs": [
    {
     "data": {
      "text/plain": [
       "{'divide': 'warn', 'over': 'warn', 'under': 'ignore', 'invalid': 'warn'}"
      ]
     },
     "execution_count": 1,
     "metadata": {},
     "output_type": "execute_result"
    }
   ],
   "source": [
    "import warnings\n",
    "\n",
    "warnings.simplefilter(\"ignore\")\n",
    "import numpy as np\n",
    "\n",
    "np.seterr(all=\"ignore\")"
   ]
  },
  {
   "cell_type": "markdown",
   "id": "5bc19589",
   "metadata": {},
   "source": [
    "\n"
   ]
  },
  {
   "cell_type": "code",
   "execution_count": 2,
   "id": "dbbad0eb",
   "metadata": {
    "execution": {
     "iopub.execute_input": "2024-09-11T16:18:48.907414Z",
     "iopub.status.busy": "2024-09-11T16:18:48.906967Z",
     "iopub.status.idle": "2024-09-11T16:18:52.140352Z",
     "shell.execute_reply": "2024-09-11T16:18:52.139607Z"
    }
   },
   "outputs": [],
   "source": [
    "%%capture\n",
    "import matplotlib.pyplot as plt\n",
    "from threeML import *"
   ]
  },
  {
   "cell_type": "code",
   "execution_count": 3,
   "id": "0cc94fd7",
   "metadata": {
    "execution": {
     "iopub.execute_input": "2024-09-11T16:18:52.143693Z",
     "iopub.status.busy": "2024-09-11T16:18:52.143174Z",
     "iopub.status.idle": "2024-09-11T16:18:52.175969Z",
     "shell.execute_reply": "2024-09-11T16:18:52.175406Z"
    },
    "lines_to_next_cell": 2
   },
   "outputs": [],
   "source": [
    "from jupyterthemes import jtplot\n",
    "\n",
    "%matplotlib inline\n",
    "jtplot.style(context=\"talk\", fscale=1, ticks=True, grid=False)\n",
    "set_threeML_style()\n",
    "silence_warnings()"
   ]
  },
  {
   "cell_type": "markdown",
   "id": "b61ff23e",
   "metadata": {},
   "source": [
    "Let's load back our fit of the line + gaussian from the AnalysisResults section."
   ]
  },
  {
   "cell_type": "code",
   "execution_count": 4,
   "id": "2be5ff35",
   "metadata": {
    "execution": {
     "iopub.execute_input": "2024-09-11T16:18:52.178788Z",
     "iopub.status.busy": "2024-09-11T16:18:52.178384Z",
     "iopub.status.idle": "2024-09-11T16:18:52.246648Z",
     "shell.execute_reply": "2024-09-11T16:18:52.246051Z"
    }
   },
   "outputs": [],
   "source": [
    "ar = load_analysis_results(\"test_mle.fits\")"
   ]
  },
  {
   "cell_type": "markdown",
   "id": "2776e90f",
   "metadata": {},
   "source": [
    "When we display our fit, we can see the **parameter paths** of the model. What if we want specific information on a parameter(s)?"
   ]
  },
  {
   "cell_type": "code",
   "execution_count": 5,
   "id": "ba9c6d3d",
   "metadata": {
    "execution": {
     "iopub.execute_input": "2024-09-11T16:18:52.249654Z",
     "iopub.status.busy": "2024-09-11T16:18:52.249228Z",
     "iopub.status.idle": "2024-09-11T16:18:52.287463Z",
     "shell.execute_reply": "2024-09-11T16:18:52.286894Z"
    }
   },
   "outputs": [
    {
     "data": {
      "text/html": [
       "<pre style=\"white-space:pre;overflow-x:auto;line-height:normal;font-family:Menlo,'DejaVu Sans Mono',consolas,'Courier New',monospace\"><span style=\"color: #00ffaf; text-decoration-color: #00ffaf; font-weight: bold; text-decoration: underline\">Best fit values:</span>\n",
       "\n",
       "</pre>\n"
      ],
      "text/plain": [
       "\u001b[1;4;38;5;49mBest fit values:\u001b[0m\n",
       "\n"
      ]
     },
     "metadata": {},
     "output_type": "display_data"
    },
    {
     "data": {
      "text/html": [
       "<div>\n",
       "<style scoped>\n",
       "    .dataframe tbody tr th:only-of-type {\n",
       "        vertical-align: middle;\n",
       "    }\n",
       "\n",
       "    .dataframe tbody tr th {\n",
       "        vertical-align: top;\n",
       "    }\n",
       "\n",
       "    .dataframe thead th {\n",
       "        text-align: right;\n",
       "    }\n",
       "</style>\n",
       "<table border=\"1\" class=\"dataframe\">\n",
       "  <thead>\n",
       "    <tr style=\"text-align: right;\">\n",
       "      <th></th>\n",
       "      <th>result</th>\n",
       "      <th>unit</th>\n",
       "    </tr>\n",
       "    <tr>\n",
       "      <th>parameter</th>\n",
       "      <th></th>\n",
       "      <th></th>\n",
       "    </tr>\n",
       "  </thead>\n",
       "  <tbody>\n",
       "    <tr>\n",
       "      <th>fake.spectrum.main.composite.a_1</th>\n",
       "      <td>2.17 +/- 0.11</td>\n",
       "      <td>1 / (keV s cm2)</td>\n",
       "    </tr>\n",
       "    <tr>\n",
       "      <th>fake.spectrum.main.composite.b_1</th>\n",
       "      <td>(-6 +/- 4) x 10^-3</td>\n",
       "      <td>1 / (s cm2 keV2)</td>\n",
       "    </tr>\n",
       "    <tr>\n",
       "      <th>fake.spectrum.main.composite.F_2</th>\n",
       "      <td>(3.8 +/- 0.4) x 10</td>\n",
       "      <td>1 / (s cm2)</td>\n",
       "    </tr>\n",
       "    <tr>\n",
       "      <th>fake.spectrum.main.composite.mu_2</th>\n",
       "      <td>(2.502 +/- 0.010) x 10</td>\n",
       "      <td>keV</td>\n",
       "    </tr>\n",
       "    <tr>\n",
       "      <th>fake.spectrum.main.composite.sigma_2</th>\n",
       "      <td>1.12 +/- 0.08</td>\n",
       "      <td>keV</td>\n",
       "    </tr>\n",
       "  </tbody>\n",
       "</table>\n",
       "</div>"
      ],
      "text/plain": [
       "                                                      result              unit\n",
       "parameter                                                                     \n",
       "fake.spectrum.main.composite.a_1               2.17 +/- 0.11   1 / (keV s cm2)\n",
       "fake.spectrum.main.composite.b_1          (-6 +/- 4) x 10^-3  1 / (s cm2 keV2)\n",
       "fake.spectrum.main.composite.F_2          (3.8 +/- 0.4) x 10       1 / (s cm2)\n",
       "fake.spectrum.main.composite.mu_2     (2.502 +/- 0.010) x 10               keV\n",
       "fake.spectrum.main.composite.sigma_2           1.12 +/- 0.08               keV"
      ]
     },
     "metadata": {},
     "output_type": "display_data"
    },
    {
     "data": {
      "text/html": [
       "<pre style=\"white-space:pre;overflow-x:auto;line-height:normal;font-family:Menlo,'DejaVu Sans Mono',consolas,'Courier New',monospace\">\n",
       "<span style=\"color: #00ffaf; text-decoration-color: #00ffaf; font-weight: bold; text-decoration: underline\">Correlation matrix:</span>\n",
       "\n",
       "</pre>\n"
      ],
      "text/plain": [
       "\n",
       "\u001b[1;4;38;5;49mCorrelation matrix:\u001b[0m\n",
       "\n"
      ]
     },
     "metadata": {},
     "output_type": "display_data"
    },
    {
     "data": {
      "text/html": [
       "<div><table id=\"table140581666632944\">\n",
       "<tr><td>1.00</td><td>-0.85</td><td>-0.05</td><td>0.03</td><td>-0.09</td></tr>\n",
       "<tr><td>-0.85</td><td>1.00</td><td>-0.00</td><td>-0.03</td><td>0.00</td></tr>\n",
       "<tr><td>-0.05</td><td>-0.00</td><td>1.00</td><td>0.01</td><td>-0.22</td></tr>\n",
       "<tr><td>0.03</td><td>-0.03</td><td>0.01</td><td>1.00</td><td>-0.15</td></tr>\n",
       "<tr><td>-0.09</td><td>0.00</td><td>-0.22</td><td>-0.15</td><td>1.00</td></tr>\n",
       "</table></div>"
      ],
      "text/plain": [
       " 1.00 -0.85 -0.05  0.03 -0.09\n",
       "-0.85  1.00 -0.00 -0.03  0.00\n",
       "-0.05 -0.00  1.00  0.01 -0.22\n",
       " 0.03 -0.03  0.01  1.00 -0.15\n",
       "-0.09  0.00 -0.22 -0.15  1.00"
      ]
     },
     "metadata": {},
     "output_type": "display_data"
    },
    {
     "data": {
      "text/html": [
       "<pre style=\"white-space:pre;overflow-x:auto;line-height:normal;font-family:Menlo,'DejaVu Sans Mono',consolas,'Courier New',monospace\">\n",
       "<span style=\"color: #00ffaf; text-decoration-color: #00ffaf; font-weight: bold; text-decoration: underline\">Values of -log(likelihood) at the minimum:</span>\n",
       "\n",
       "</pre>\n"
      ],
      "text/plain": [
       "\n",
       "\u001b[1;4;38;5;49mValues of -\u001b[0m\u001b[1;4;38;5;49mlog\u001b[0m\u001b[1;4;38;5;49m(\u001b[0m\u001b[1;4;38;5;49mlikelihood\u001b[0m\u001b[1;4;38;5;49m)\u001b[0m\u001b[1;4;38;5;49m at the minimum:\u001b[0m\n",
       "\n"
      ]
     },
     "metadata": {},
     "output_type": "display_data"
    },
    {
     "data": {
      "text/html": [
       "<div>\n",
       "<style scoped>\n",
       "    .dataframe tbody tr th:only-of-type {\n",
       "        vertical-align: middle;\n",
       "    }\n",
       "\n",
       "    .dataframe tbody tr th {\n",
       "        vertical-align: top;\n",
       "    }\n",
       "\n",
       "    .dataframe thead th {\n",
       "        text-align: right;\n",
       "    }\n",
       "</style>\n",
       "<table border=\"1\" class=\"dataframe\">\n",
       "  <thead>\n",
       "    <tr style=\"text-align: right;\">\n",
       "      <th></th>\n",
       "      <th>-log(likelihood)</th>\n",
       "    </tr>\n",
       "  </thead>\n",
       "  <tbody>\n",
       "    <tr>\n",
       "      <th>sim_data</th>\n",
       "      <td>18.981767</td>\n",
       "    </tr>\n",
       "    <tr>\n",
       "      <th>total</th>\n",
       "      <td>18.981767</td>\n",
       "    </tr>\n",
       "  </tbody>\n",
       "</table>\n",
       "</div>"
      ],
      "text/plain": [
       "          -log(likelihood)\n",
       "sim_data         18.981767\n",
       "total            18.981767"
      ]
     },
     "metadata": {},
     "output_type": "display_data"
    },
    {
     "data": {
      "text/html": [
       "<pre style=\"white-space:pre;overflow-x:auto;line-height:normal;font-family:Menlo,'DejaVu Sans Mono',consolas,'Courier New',monospace\">\n",
       "<span style=\"color: #00ffaf; text-decoration-color: #00ffaf; font-weight: bold; text-decoration: underline\">Values of statistical measures:</span>\n",
       "\n",
       "</pre>\n"
      ],
      "text/plain": [
       "\n",
       "\u001b[1;4;38;5;49mValues of statistical measures:\u001b[0m\n",
       "\n"
      ]
     },
     "metadata": {},
     "output_type": "display_data"
    },
    {
     "data": {
      "text/html": [
       "<div>\n",
       "<style scoped>\n",
       "    .dataframe tbody tr th:only-of-type {\n",
       "        vertical-align: middle;\n",
       "    }\n",
       "\n",
       "    .dataframe tbody tr th {\n",
       "        vertical-align: top;\n",
       "    }\n",
       "\n",
       "    .dataframe thead th {\n",
       "        text-align: right;\n",
       "    }\n",
       "</style>\n",
       "<table border=\"1\" class=\"dataframe\">\n",
       "  <thead>\n",
       "    <tr style=\"text-align: right;\">\n",
       "      <th></th>\n",
       "      <th>statistical measures</th>\n",
       "    </tr>\n",
       "  </thead>\n",
       "  <tbody>\n",
       "    <tr>\n",
       "      <th>AIC</th>\n",
       "      <td>49.327170</td>\n",
       "    </tr>\n",
       "    <tr>\n",
       "      <th>BIC</th>\n",
       "      <td>57.523649</td>\n",
       "    </tr>\n",
       "  </tbody>\n",
       "</table>\n",
       "</div>"
      ],
      "text/plain": [
       "     statistical measures\n",
       "AIC             49.327170\n",
       "BIC             57.523649"
      ]
     },
     "metadata": {},
     "output_type": "display_data"
    }
   ],
   "source": [
    "ar.display()"
   ]
  },
  {
   "cell_type": "markdown",
   "id": "d0ef5a2a",
   "metadata": {},
   "source": [
    "Let's take a look at the normalization of the gaussian. To access the parameter, we take the parameter path, and we want to get the variates:"
   ]
  },
  {
   "cell_type": "code",
   "execution_count": 6,
   "id": "84fae2ea",
   "metadata": {
    "execution": {
     "iopub.execute_input": "2024-09-11T16:18:52.290118Z",
     "iopub.status.busy": "2024-09-11T16:18:52.289676Z",
     "iopub.status.idle": "2024-09-11T16:18:52.292943Z",
     "shell.execute_reply": "2024-09-11T16:18:52.292376Z"
    }
   },
   "outputs": [],
   "source": [
    "norm = ar.get_variates(\"fake.spectrum.main.composite.F_2\")"
   ]
  },
  {
   "cell_type": "markdown",
   "id": "b677b2f6",
   "metadata": {},
   "source": [
    "Now, norm is a RandomVariate."
   ]
  },
  {
   "cell_type": "code",
   "execution_count": 7,
   "id": "302aad86",
   "metadata": {
    "execution": {
     "iopub.execute_input": "2024-09-11T16:18:52.295374Z",
     "iopub.status.busy": "2024-09-11T16:18:52.294999Z",
     "iopub.status.idle": "2024-09-11T16:18:52.299259Z",
     "shell.execute_reply": "2024-09-11T16:18:52.298575Z"
    }
   },
   "outputs": [
    {
     "data": {
      "text/plain": [
       "threeML.random_variates.RandomVariates"
      ]
     },
     "execution_count": 7,
     "metadata": {},
     "output_type": "execute_result"
    }
   ],
   "source": [
    "type(norm)"
   ]
  },
  {
   "cell_type": "markdown",
   "id": "3268949a",
   "metadata": {},
   "source": [
    "This is essentially a wrapper around numpy NDArray with a few added properties. It is an array of samples. In the MLE case, they are samples from the covariance matrix (this is not at all a marginal distribution, but the parameter \"knows\" about the entire fit, i.e., it is *not* a profile) and in the Bayesian case, these are samples from the posterior (this is a marginal).\n",
    "\n",
    "The output representation for an RV are its 68% equal-tail and HPD uncertainties."
   ]
  },
  {
   "cell_type": "code",
   "execution_count": 8,
   "id": "b78f8aa1",
   "metadata": {
    "execution": {
     "iopub.execute_input": "2024-09-11T16:18:52.301653Z",
     "iopub.status.busy": "2024-09-11T16:18:52.301272Z",
     "iopub.status.idle": "2024-09-11T16:18:52.306605Z",
     "shell.execute_reply": "2024-09-11T16:18:52.305990Z"
    }
   },
   "outputs": [
    {
     "data": {
      "text/plain": [
       "equal-tail: (3.7 +/- 0.4) x 10, hpd: (3.7 +/- 0.4) x 10"
      ]
     },
     "execution_count": 8,
     "metadata": {},
     "output_type": "execute_result"
    }
   ],
   "source": [
    "norm"
   ]
  },
  {
   "cell_type": "markdown",
   "id": "405d9fd0",
   "metadata": {},
   "source": [
    "We can access these directly, and to any desired confidence level."
   ]
  },
  {
   "cell_type": "code",
   "execution_count": 9,
   "id": "9e641c8c",
   "metadata": {
    "execution": {
     "iopub.execute_input": "2024-09-11T16:18:52.308961Z",
     "iopub.status.busy": "2024-09-11T16:18:52.308575Z",
     "iopub.status.idle": "2024-09-11T16:18:52.313186Z",
     "shell.execute_reply": "2024-09-11T16:18:52.312640Z"
    }
   },
   "outputs": [
    {
     "data": {
      "text/plain": [
       "(29.790516301573206, 45.16674042083116)"
      ]
     },
     "execution_count": 9,
     "metadata": {},
     "output_type": "execute_result"
    }
   ],
   "source": [
    "norm.equal_tail_interval(cl=0.95)"
   ]
  },
  {
   "cell_type": "code",
   "execution_count": 10,
   "id": "afddabb5",
   "metadata": {
    "execution": {
     "iopub.execute_input": "2024-09-11T16:18:52.315422Z",
     "iopub.status.busy": "2024-09-11T16:18:52.315035Z",
     "iopub.status.idle": "2024-09-11T16:18:52.319553Z",
     "shell.execute_reply": "2024-09-11T16:18:52.319046Z"
    }
   },
   "outputs": [
    {
     "data": {
      "text/plain": [
       "(34.58780337856203, 39.972361634110655)"
      ]
     },
     "execution_count": 10,
     "metadata": {},
     "output_type": "execute_result"
    }
   ],
   "source": [
    "norm.highest_posterior_density_interval(cl=0.5)"
   ]
  },
  {
   "cell_type": "markdown",
   "id": "00bce4b2",
   "metadata": {},
   "source": [
    "As stated above, the RV is made from samples. We can histogram them to show this explicitly."
   ]
  },
  {
   "cell_type": "code",
   "execution_count": 11,
   "id": "dd81e28b",
   "metadata": {
    "execution": {
     "iopub.execute_input": "2024-09-11T16:18:52.321805Z",
     "iopub.status.busy": "2024-09-11T16:18:52.321493Z",
     "iopub.status.idle": "2024-09-11T16:18:52.509686Z",
     "shell.execute_reply": "2024-09-11T16:18:52.508933Z"
    },
    "tags": [
     "nbsphinx-thumbnail"
    ]
   },
   "outputs": [
    {
     "data": {
      "text/plain": [
       "Text(0.5, 0, 'norm')"
      ]
     },
     "execution_count": 11,
     "metadata": {},
     "output_type": "execute_result"
    },
    {
     "data": {
      "image/png": "[encoded data removed]",
      "text/plain": [
       "<Figure size 1040x910 with 1 Axes>"
      ]
     },
     "metadata": {},
     "output_type": "display_data"
    }
   ],
   "source": [
    "fig, ax = plt.subplots()\n",
    "\n",
    "ax.hist(norm.samples, bins=50, ec=\"k\", fc=\"w\", lw=1.2)\n",
    "ax.set_xlabel(\"norm\")"
   ]
  },
  {
   "cell_type": "markdown",
   "id": "f5fb1e17",
   "metadata": {},
   "source": [
    "We can easily transform the RV through propagation."
   ]
  },
  {
   "cell_type": "code",
   "execution_count": 12,
   "id": "05292737",
   "metadata": {
    "execution": {
     "iopub.execute_input": "2024-09-11T16:18:52.512359Z",
     "iopub.status.busy": "2024-09-11T16:18:52.511938Z",
     "iopub.status.idle": "2024-09-11T16:18:52.517482Z",
     "shell.execute_reply": "2024-09-11T16:18:52.516947Z"
    }
   },
   "outputs": [
    {
     "data": {
      "text/plain": [
       "equal-tail: 1.57 -0.05 +0.04, hpd: 1.57 -0.04 +0.05"
      ]
     },
     "execution_count": 12,
     "metadata": {},
     "output_type": "execute_result"
    }
   ],
   "source": [
    "log_norm = np.log10(norm)\n",
    "log_norm"
   ]
  },
  {
   "cell_type": "code",
   "execution_count": 13,
   "id": "a23d1e40",
   "metadata": {
    "execution": {
     "iopub.execute_input": "2024-09-11T16:18:52.519869Z",
     "iopub.status.busy": "2024-09-11T16:18:52.519477Z",
     "iopub.status.idle": "2024-09-11T16:18:52.701574Z",
     "shell.execute_reply": "2024-09-11T16:18:52.700785Z"
    }
   },
   "outputs": [
    {
     "data": {
      "text/plain": [
       "Text(0.5, 0, 'log norm')"
      ]
     },
     "execution_count": 13,
     "metadata": {},
     "output_type": "execute_result"
    },
    {
     "data": {
      "image/png": "[encoded data removed]",
      "text/plain": [
       "<Figure size 1040x910 with 1 Axes>"
      ]
     },
     "metadata": {},
     "output_type": "display_data"
    }
   ],
   "source": [
    "fig, ax = plt.subplots()\n",
    "\n",
    "ax.hist(log_norm.samples, bins=50, ec=\"k\", fc=\"w\", lw=1.2)\n",
    "ax.set_xlabel(\"log norm\")"
   ]
  },
  {
   "cell_type": "raw",
   "id": "5f45889d",
   "metadata": {},
   "source": [
    ".. note::\n",
    "    Some operations will destroy the RV by accessing only its NDArray substructure. For example, using an RV with astropy units will return an array of samples with the given units."
   ]
  }
 ],
 "metadata": {
  "jupytext": {
   "formats": "ipynb,md"
  },
  "kernelspec": {
   "display_name": "Python 3",
   "language": "python",
   "name": "python3"
  },
  "language_info": {
   "codemirror_mode": {
    "name": "ipython",
    "version": 3
   },
   "file_extension": ".py",
   "mimetype": "text/x-python",
   "name": "python",
   "nbconvert_exporter": "python",
   "pygments_lexer": "ipython3",
   "version": "3.9.19"
  }
 },
 "nbformat": 4,
 "nbformat_minor": 5
}
