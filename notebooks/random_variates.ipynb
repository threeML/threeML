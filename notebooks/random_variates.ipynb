{
 "cells": [
  {
   "cell_type": "markdown",
   "id": "76c18f52",
   "metadata": {},
   "source": [
    "# Random Variates\n",
    "\n",
    "When we perform a fit or load and analysis result, the parmeters of our model become distributions in the AnalysisResults object. These are actaully instantiactions of the RandomVaraiates class.\n",
    "\n",
    "While we have covered most of the functionality of RandomVariates in the AnalysisResults section, we want to highlight a few of the details here.\n"
   ]
  },
  {
   "cell_type": "code",
   "execution_count": 1,
   "id": "6d58ab1a",
   "metadata": {
    "execution": {
     "iopub.execute_input": "2024-05-16T04:56:17.126394Z",
     "iopub.status.busy": "2024-05-16T04:56:17.125839Z",
     "iopub.status.idle": "2024-05-16T04:56:17.183039Z",
     "shell.execute_reply": "2024-05-16T04:56:17.182379Z"
    },
    "lines_to_next_cell": 0
   },
   "outputs": [
    {
     "data": {
      "text/plain": [
       "{'divide': 'warn', 'over': 'warn', 'under': 'ignore', 'invalid': 'warn'}"
      ]
     },
     "execution_count": 1,
     "metadata": {},
     "output_type": "execute_result"
    }
   ],
   "source": [
    "import warnings\n",
    "\n",
    "warnings.simplefilter(\"ignore\")\n",
    "import numpy as np\n",
    "\n",
    "np.seterr(all=\"ignore\")"
   ]
  },
  {
   "cell_type": "markdown",
   "id": "cc040890",
   "metadata": {},
   "source": [
    "\n"
   ]
  },
  {
   "cell_type": "code",
   "execution_count": 2,
   "id": "5f821045",
   "metadata": {
    "execution": {
     "iopub.execute_input": "2024-05-16T04:56:17.185590Z",
     "iopub.status.busy": "2024-05-16T04:56:17.185203Z",
     "iopub.status.idle": "2024-05-16T04:56:20.047324Z",
     "shell.execute_reply": "2024-05-16T04:56:20.046670Z"
    }
   },
   "outputs": [],
   "source": [
    "%%capture\n",
    "import matplotlib.pyplot as plt\n",
    "from threeML import *"
   ]
  },
  {
   "cell_type": "code",
   "execution_count": 3,
   "id": "45f4f208",
   "metadata": {
    "execution": {
     "iopub.execute_input": "2024-05-16T04:56:20.050108Z",
     "iopub.status.busy": "2024-05-16T04:56:20.049614Z",
     "iopub.status.idle": "2024-05-16T04:56:20.078801Z",
     "shell.execute_reply": "2024-05-16T04:56:20.078233Z"
    },
    "lines_to_next_cell": 2
   },
   "outputs": [],
   "source": [
    "from jupyterthemes import jtplot\n",
    "\n",
    "%matplotlib inline\n",
    "jtplot.style(context=\"talk\", fscale=1, ticks=True, grid=False)\n",
    "set_threeML_style()\n",
    "silence_warnings()"
   ]
  },
  {
   "cell_type": "markdown",
   "id": "f7e75b5e",
   "metadata": {},
   "source": [
    "Let's load back our fit of the line + gaussian from the AnalysisResults section."
   ]
  },
  {
   "cell_type": "code",
   "execution_count": 4,
   "id": "58886020",
   "metadata": {
    "execution": {
     "iopub.execute_input": "2024-05-16T04:56:20.081104Z",
     "iopub.status.busy": "2024-05-16T04:56:20.080725Z",
     "iopub.status.idle": "2024-05-16T04:56:20.143718Z",
     "shell.execute_reply": "2024-05-16T04:56:20.143180Z"
    }
   },
   "outputs": [],
   "source": [
    "ar = load_analysis_results(\"test_mle.fits\")"
   ]
  },
  {
   "cell_type": "markdown",
   "id": "04c13ac8",
   "metadata": {},
   "source": [
    "When we display our fit, we can see the **parameter paths** of the model. What if we want specific information on a parameter(s)?"
   ]
  },
  {
   "cell_type": "code",
   "execution_count": 5,
   "id": "8f30f45e",
   "metadata": {
    "execution": {
     "iopub.execute_input": "2024-05-16T04:56:20.145942Z",
     "iopub.status.busy": "2024-05-16T04:56:20.145591Z",
     "iopub.status.idle": "2024-05-16T04:56:20.179915Z",
     "shell.execute_reply": "2024-05-16T04:56:20.179310Z"
    }
   },
   "outputs": [
    {
     "data": {
      "text/html": [
       "<pre style=\"white-space:pre;overflow-x:auto;line-height:normal;font-family:Menlo,'DejaVu Sans Mono',consolas,'Courier New',monospace\"><span style=\"color: #00ffaf; text-decoration-color: #00ffaf; font-weight: bold; text-decoration: underline\">Best fit values:</span>\n",
       "\n",
       "</pre>\n"
      ],
      "text/plain": [
       "\u001b[1;4;38;5;49mBest fit values:\u001b[0m\n",
       "\n"
      ]
     },
     "metadata": {},
     "output_type": "display_data"
    },
    {
     "data": {
      "text/html": [
       "<div>\n",
       "<style scoped>\n",
       "    .dataframe tbody tr th:only-of-type {\n",
       "        vertical-align: middle;\n",
       "    }\n",
       "\n",
       "    .dataframe tbody tr th {\n",
       "        vertical-align: top;\n",
       "    }\n",
       "\n",
       "    .dataframe thead th {\n",
       "        text-align: right;\n",
       "    }\n",
       "</style>\n",
       "<table border=\"1\" class=\"dataframe\">\n",
       "  <thead>\n",
       "    <tr style=\"text-align: right;\">\n",
       "      <th></th>\n",
       "      <th>result</th>\n",
       "      <th>unit</th>\n",
       "    </tr>\n",
       "    <tr>\n",
       "      <th>parameter</th>\n",
       "      <th></th>\n",
       "      <th></th>\n",
       "    </tr>\n",
       "  </thead>\n",
       "  <tbody>\n",
       "    <tr>\n",
       "      <th>fake.spectrum.main.composite.a_1</th>\n",
       "      <td>2.17 +/- 0.11</td>\n",
       "      <td>1 / (keV s cm2)</td>\n",
       "    </tr>\n",
       "    <tr>\n",
       "      <th>fake.spectrum.main.composite.b_1</th>\n",
       "      <td>(-6 +/- 4) x 10^-3</td>\n",
       "      <td>1 / (s cm2 keV2)</td>\n",
       "    </tr>\n",
       "    <tr>\n",
       "      <th>fake.spectrum.main.composite.F_2</th>\n",
       "      <td>(2.2 +/- 0.4) x 10</td>\n",
       "      <td>1 / (s cm2)</td>\n",
       "    </tr>\n",
       "    <tr>\n",
       "      <th>fake.spectrum.main.composite.mu_2</th>\n",
       "      <td>(2.510 +/- 0.018) x 10</td>\n",
       "      <td>keV</td>\n",
       "    </tr>\n",
       "    <tr>\n",
       "      <th>fake.spectrum.main.composite.sigma_2</th>\n",
       "      <td>1.21 +/- 0.15</td>\n",
       "      <td>keV</td>\n",
       "    </tr>\n",
       "  </tbody>\n",
       "</table>\n",
       "</div>"
      ],
      "text/plain": [
       "                                                      result              unit\n",
       "parameter                                                                     \n",
       "fake.spectrum.main.composite.a_1               2.17 +/- 0.11   1 / (keV s cm2)\n",
       "fake.spectrum.main.composite.b_1          (-6 +/- 4) x 10^-3  1 / (s cm2 keV2)\n",
       "fake.spectrum.main.composite.F_2          (2.2 +/- 0.4) x 10       1 / (s cm2)\n",
       "fake.spectrum.main.composite.mu_2     (2.510 +/- 0.018) x 10               keV\n",
       "fake.spectrum.main.composite.sigma_2           1.21 +/- 0.15               keV"
      ]
     },
     "metadata": {},
     "output_type": "display_data"
    },
    {
     "data": {
      "text/html": [
       "<pre style=\"white-space:pre;overflow-x:auto;line-height:normal;font-family:Menlo,'DejaVu Sans Mono',consolas,'Courier New',monospace\">\n",
       "<span style=\"color: #00ffaf; text-decoration-color: #00ffaf; font-weight: bold; text-decoration: underline\">Correlation matrix:</span>\n",
       "\n",
       "</pre>\n"
      ],
      "text/plain": [
       "\n",
       "\u001b[1;4;38;5;49mCorrelation matrix:\u001b[0m\n",
       "\n"
      ]
     },
     "metadata": {},
     "output_type": "display_data"
    },
    {
     "data": {
      "text/html": [
       "<div><table id=\"table139888427625056\">\n",
       "<tr><td>1.00</td><td>-0.84</td><td>-0.05</td><td>0.07</td><td>-0.11</td></tr>\n",
       "<tr><td>-0.84</td><td>1.00</td><td>-0.00</td><td>-0.03</td><td>0.01</td></tr>\n",
       "<tr><td>-0.05</td><td>-0.00</td><td>1.00</td><td>-0.01</td><td>-0.25</td></tr>\n",
       "<tr><td>0.07</td><td>-0.03</td><td>-0.01</td><td>1.00</td><td>-0.39</td></tr>\n",
       "<tr><td>-0.11</td><td>0.01</td><td>-0.25</td><td>-0.39</td><td>1.00</td></tr>\n",
       "</table></div>"
      ],
      "text/plain": [
       " 1.00 -0.84 -0.05  0.07 -0.11\n",
       "-0.84  1.00 -0.00 -0.03  0.01\n",
       "-0.05 -0.00  1.00 -0.01 -0.25\n",
       " 0.07 -0.03 -0.01  1.00 -0.39\n",
       "-0.11  0.01 -0.25 -0.39  1.00"
      ]
     },
     "metadata": {},
     "output_type": "display_data"
    },
    {
     "data": {
      "text/html": [
       "<pre style=\"white-space:pre;overflow-x:auto;line-height:normal;font-family:Menlo,'DejaVu Sans Mono',consolas,'Courier New',monospace\">\n",
       "<span style=\"color: #00ffaf; text-decoration-color: #00ffaf; font-weight: bold; text-decoration: underline\">Values of -log(likelihood) at the minimum:</span>\n",
       "\n",
       "</pre>\n"
      ],
      "text/plain": [
       "\n",
       "\u001b[1;4;38;5;49mValues of -\u001b[0m\u001b[1;4;38;5;49mlog\u001b[0m\u001b[1;4;38;5;49m(\u001b[0m\u001b[1;4;38;5;49mlikelihood\u001b[0m\u001b[1;4;38;5;49m)\u001b[0m\u001b[1;4;38;5;49m at the minimum:\u001b[0m\n",
       "\n"
      ]
     },
     "metadata": {},
     "output_type": "display_data"
    },
    {
     "data": {
      "text/html": [
       "<div>\n",
       "<style scoped>\n",
       "    .dataframe tbody tr th:only-of-type {\n",
       "        vertical-align: middle;\n",
       "    }\n",
       "\n",
       "    .dataframe tbody tr th {\n",
       "        vertical-align: top;\n",
       "    }\n",
       "\n",
       "    .dataframe thead th {\n",
       "        text-align: right;\n",
       "    }\n",
       "</style>\n",
       "<table border=\"1\" class=\"dataframe\">\n",
       "  <thead>\n",
       "    <tr style=\"text-align: right;\">\n",
       "      <th></th>\n",
       "      <th>-log(likelihood)</th>\n",
       "    </tr>\n",
       "  </thead>\n",
       "  <tbody>\n",
       "    <tr>\n",
       "      <th>sim_data</th>\n",
       "      <td>23.827528</td>\n",
       "    </tr>\n",
       "    <tr>\n",
       "      <th>total</th>\n",
       "      <td>23.827528</td>\n",
       "    </tr>\n",
       "  </tbody>\n",
       "</table>\n",
       "</div>"
      ],
      "text/plain": [
       "          -log(likelihood)\n",
       "sim_data         23.827528\n",
       "total            23.827528"
      ]
     },
     "metadata": {},
     "output_type": "display_data"
    },
    {
     "data": {
      "text/html": [
       "<pre style=\"white-space:pre;overflow-x:auto;line-height:normal;font-family:Menlo,'DejaVu Sans Mono',consolas,'Courier New',monospace\">\n",
       "<span style=\"color: #00ffaf; text-decoration-color: #00ffaf; font-weight: bold; text-decoration: underline\">Values of statistical measures:</span>\n",
       "\n",
       "</pre>\n"
      ],
      "text/plain": [
       "\n",
       "\u001b[1;4;38;5;49mValues of statistical measures:\u001b[0m\n",
       "\n"
      ]
     },
     "metadata": {},
     "output_type": "display_data"
    },
    {
     "data": {
      "text/html": [
       "<div>\n",
       "<style scoped>\n",
       "    .dataframe tbody tr th:only-of-type {\n",
       "        vertical-align: middle;\n",
       "    }\n",
       "\n",
       "    .dataframe tbody tr th {\n",
       "        vertical-align: top;\n",
       "    }\n",
       "\n",
       "    .dataframe thead th {\n",
       "        text-align: right;\n",
       "    }\n",
       "</style>\n",
       "<table border=\"1\" class=\"dataframe\">\n",
       "  <thead>\n",
       "    <tr style=\"text-align: right;\">\n",
       "      <th></th>\n",
       "      <th>statistical measures</th>\n",
       "    </tr>\n",
       "  </thead>\n",
       "  <tbody>\n",
       "    <tr>\n",
       "      <th>AIC</th>\n",
       "      <td>59.018693</td>\n",
       "    </tr>\n",
       "    <tr>\n",
       "      <th>BIC</th>\n",
       "      <td>67.215172</td>\n",
       "    </tr>\n",
       "  </tbody>\n",
       "</table>\n",
       "</div>"
      ],
      "text/plain": [
       "     statistical measures\n",
       "AIC             59.018693\n",
       "BIC             67.215172"
      ]
     },
     "metadata": {},
     "output_type": "display_data"
    }
   ],
   "source": [
    "ar.display()"
   ]
  },
  {
   "cell_type": "markdown",
   "id": "3176fd43",
   "metadata": {},
   "source": [
    "Let's take a look at the normalization of the gaussian. To access the parameter, we take the parameter path, and we want to get the variates:"
   ]
  },
  {
   "cell_type": "code",
   "execution_count": 6,
   "id": "e2164d4f",
   "metadata": {
    "execution": {
     "iopub.execute_input": "2024-05-16T04:56:20.182206Z",
     "iopub.status.busy": "2024-05-16T04:56:20.181746Z",
     "iopub.status.idle": "2024-05-16T04:56:20.184699Z",
     "shell.execute_reply": "2024-05-16T04:56:20.184179Z"
    }
   },
   "outputs": [],
   "source": [
    "norm = ar.get_variates(\"fake.spectrum.main.composite.F_2\")"
   ]
  },
  {
   "cell_type": "markdown",
   "id": "ba2dbc82",
   "metadata": {},
   "source": [
    "Now, norm is a RandomVariate."
   ]
  },
  {
   "cell_type": "code",
   "execution_count": 7,
   "id": "eb0d21bd",
   "metadata": {
    "execution": {
     "iopub.execute_input": "2024-05-16T04:56:20.186725Z",
     "iopub.status.busy": "2024-05-16T04:56:20.186536Z",
     "iopub.status.idle": "2024-05-16T04:56:20.190494Z",
     "shell.execute_reply": "2024-05-16T04:56:20.189848Z"
    }
   },
   "outputs": [
    {
     "data": {
      "text/plain": [
       "threeML.random_variates.RandomVariates"
      ]
     },
     "execution_count": 7,
     "metadata": {},
     "output_type": "execute_result"
    }
   ],
   "source": [
    "type(norm)"
   ]
  },
  {
   "cell_type": "markdown",
   "id": "5c04cfad",
   "metadata": {},
   "source": [
    "This is essentially a wrapper around numpy NDArray with a few added properties. It is an array of samples. In the MLE case, they are samples from the covariance matrix (this is not at all a marginal distribution, but the parameter \"knows\" about the entire fit, i.e., it is *not* a profile) and in the Bayesian case, these are samples from the posterior (this is a marginal).\n",
    "\n",
    "The output representation for an RV are its 68% equal-tail and HPD uncertainties."
   ]
  },
  {
   "cell_type": "code",
   "execution_count": 8,
   "id": "9fbc3ef0",
   "metadata": {
    "execution": {
     "iopub.execute_input": "2024-05-16T04:56:20.192916Z",
     "iopub.status.busy": "2024-05-16T04:56:20.192543Z",
     "iopub.status.idle": "2024-05-16T04:56:20.197197Z",
     "shell.execute_reply": "2024-05-16T04:56:20.196620Z"
    }
   },
   "outputs": [
    {
     "data": {
      "text/plain": [
       "equal-tail: (2.2 +/- 0.4) x 10, hpd: (2.2 +/- 0.4) x 10"
      ]
     },
     "execution_count": 8,
     "metadata": {},
     "output_type": "execute_result"
    }
   ],
   "source": [
    "norm"
   ]
  },
  {
   "cell_type": "markdown",
   "id": "5d1c3b88",
   "metadata": {},
   "source": [
    "We can access these directly, and to any desired confidence level."
   ]
  },
  {
   "cell_type": "code",
   "execution_count": 9,
   "id": "5d399d08",
   "metadata": {
    "execution": {
     "iopub.execute_input": "2024-05-16T04:56:20.199431Z",
     "iopub.status.busy": "2024-05-16T04:56:20.199056Z",
     "iopub.status.idle": "2024-05-16T04:56:20.203208Z",
     "shell.execute_reply": "2024-05-16T04:56:20.202674Z"
    }
   },
   "outputs": [
    {
     "data": {
      "text/plain": [
       "(14.44251592545752, 29.79330092884276)"
      ]
     },
     "execution_count": 9,
     "metadata": {},
     "output_type": "execute_result"
    }
   ],
   "source": [
    "norm.equal_tail_interval(cl=0.95)"
   ]
  },
  {
   "cell_type": "code",
   "execution_count": 10,
   "id": "acb29cd0",
   "metadata": {
    "execution": {
     "iopub.execute_input": "2024-05-16T04:56:20.205266Z",
     "iopub.status.busy": "2024-05-16T04:56:20.205073Z",
     "iopub.status.idle": "2024-05-16T04:56:20.209447Z",
     "shell.execute_reply": "2024-05-16T04:56:20.208836Z"
    }
   },
   "outputs": [
    {
     "data": {
      "text/plain": [
       "(19.284466118999514, 24.37195831731072)"
      ]
     },
     "execution_count": 10,
     "metadata": {},
     "output_type": "execute_result"
    }
   ],
   "source": [
    "norm.highest_posterior_density_interval(cl=0.5)"
   ]
  },
  {
   "cell_type": "markdown",
   "id": "88304552",
   "metadata": {},
   "source": [
    "As stated above, the RV is made from samples. We can histogram them to show this explicitly."
   ]
  },
  {
   "cell_type": "code",
   "execution_count": 11,
   "id": "337ba092",
   "metadata": {
    "execution": {
     "iopub.execute_input": "2024-05-16T04:56:20.211782Z",
     "iopub.status.busy": "2024-05-16T04:56:20.211415Z",
     "iopub.status.idle": "2024-05-16T04:56:20.394173Z",
     "shell.execute_reply": "2024-05-16T04:56:20.393558Z"
    },
    "tags": [
     "nbsphinx-thumbnail"
    ]
   },
   "outputs": [
    {
     "data": {
      "text/plain": [
       "Text(0.5, 0, 'norm')"
      ]
     },
     "execution_count": 11,
     "metadata": {},
     "output_type": "execute_result"
    },
    {
     "data": {
      "image/png": "[encoded data removed]",
      "text/plain": [
       "<Figure size 1040x910 with 1 Axes>"
      ]
     },
     "metadata": {},
     "output_type": "display_data"
    }
   ],
   "source": [
    "fig, ax = plt.subplots()\n",
    "\n",
    "ax.hist(norm.samples, bins=50, ec=\"k\", fc=\"w\", lw=1.2)\n",
    "ax.set_xlabel(\"norm\")"
   ]
  },
  {
   "cell_type": "markdown",
   "id": "5303dc6d",
   "metadata": {},
   "source": [
    "We can easily transform the RV through propagation."
   ]
  },
  {
   "cell_type": "code",
   "execution_count": 12,
   "id": "c0c8d20a",
   "metadata": {
    "execution": {
     "iopub.execute_input": "2024-05-16T04:56:20.396379Z",
     "iopub.status.busy": "2024-05-16T04:56:20.396175Z",
     "iopub.status.idle": "2024-05-16T04:56:20.401326Z",
     "shell.execute_reply": "2024-05-16T04:56:20.400726Z"
    }
   },
   "outputs": [
    {
     "data": {
      "text/plain": [
       "equal-tail: 1.34 -0.08 +0.07, hpd: 1.34 -0.06 +0.09"
      ]
     },
     "execution_count": 12,
     "metadata": {},
     "output_type": "execute_result"
    }
   ],
   "source": [
    "log_norm = np.log10(norm)\n",
    "log_norm"
   ]
  },
  {
   "cell_type": "code",
   "execution_count": 13,
   "id": "eea32d2a",
   "metadata": {
    "execution": {
     "iopub.execute_input": "2024-05-16T04:56:20.403571Z",
     "iopub.status.busy": "2024-05-16T04:56:20.403193Z",
     "iopub.status.idle": "2024-05-16T04:56:20.572886Z",
     "shell.execute_reply": "2024-05-16T04:56:20.572381Z"
    }
   },
   "outputs": [
    {
     "data": {
      "text/plain": [
       "Text(0.5, 0, 'log norm')"
      ]
     },
     "execution_count": 13,
     "metadata": {},
     "output_type": "execute_result"
    },
    {
     "data": {
      "image/png": "[encoded data removed]",
      "text/plain": [
       "<Figure size 1040x910 with 1 Axes>"
      ]
     },
     "metadata": {},
     "output_type": "display_data"
    }
   ],
   "source": [
    "fig, ax = plt.subplots()\n",
    "\n",
    "ax.hist(log_norm.samples, bins=50, ec=\"k\", fc=\"w\", lw=1.2)\n",
    "ax.set_xlabel(\"log norm\")"
   ]
  },
  {
   "cell_type": "raw",
   "id": "f905e4b7",
   "metadata": {},
   "source": [
    ".. note::\n",
    "    Some operations will destroy the RV by accessing only its NDArray substructure. For example, using an RV with astropy units will return an array of samples with the given units."
   ]
  }
 ],
 "metadata": {
  "jupytext": {
   "formats": "ipynb,md"
  },
  "kernelspec": {
   "display_name": "Python 3",
   "language": "python",
   "name": "python3"
  },
  "language_info": {
   "codemirror_mode": {
    "name": "ipython",
    "version": 3
   },
   "file_extension": ".py",
   "mimetype": "text/x-python",
   "name": "python",
   "nbconvert_exporter": "python",
   "pygments_lexer": "ipython3",
   "version": "3.9.19"
  }
 },
 "nbformat": 4,
 "nbformat_minor": 5
}
