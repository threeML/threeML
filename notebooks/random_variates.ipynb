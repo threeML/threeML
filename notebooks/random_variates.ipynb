{
 "cells": [
  {
   "cell_type": "markdown",
   "id": "15649a2d",
   "metadata": {},
   "source": [
    "# Random Variates\n",
    "\n",
    "When we perform a fit or load and analysis result, the parmeters of our model become distributions in the AnalysisResults object. These are actaully instantiactions of the RandomVaraiates class.\n",
    "\n",
    "While we have covered most of the functionality of RandomVariates in the AnalysisResults section, we want to highlight a few of the details here.\n"
   ]
  },
  {
   "cell_type": "code",
   "execution_count": 1,
   "id": "2ff3ff89",
   "metadata": {
    "execution": {
     "iopub.execute_input": "2024-09-10T16:02:00.658604Z",
     "iopub.status.busy": "2024-09-10T16:02:00.658410Z",
     "iopub.status.idle": "2024-09-10T16:02:00.715988Z",
     "shell.execute_reply": "2024-09-10T16:02:00.715351Z"
    },
    "lines_to_next_cell": 0
   },
   "outputs": [
    {
     "data": {
      "text/plain": [
       "{'divide': 'warn', 'over': 'warn', 'under': 'ignore', 'invalid': 'warn'}"
      ]
     },
     "execution_count": 1,
     "metadata": {},
     "output_type": "execute_result"
    }
   ],
   "source": [
    "import warnings\n",
    "\n",
    "warnings.simplefilter(\"ignore\")\n",
    "import numpy as np\n",
    "\n",
    "np.seterr(all=\"ignore\")"
   ]
  },
  {
   "cell_type": "markdown",
   "id": "a68fec08",
   "metadata": {},
   "source": [
    "\n"
   ]
  },
  {
   "cell_type": "code",
   "execution_count": 2,
   "id": "a554c3ea",
   "metadata": {
    "execution": {
     "iopub.execute_input": "2024-09-10T16:02:00.718708Z",
     "iopub.status.busy": "2024-09-10T16:02:00.718313Z",
     "iopub.status.idle": "2024-09-10T16:02:03.678651Z",
     "shell.execute_reply": "2024-09-10T16:02:03.677940Z"
    }
   },
   "outputs": [],
   "source": [
    "%%capture\n",
    "import matplotlib.pyplot as plt\n",
    "from threeML import *"
   ]
  },
  {
   "cell_type": "code",
   "execution_count": 3,
   "id": "51c130cf",
   "metadata": {
    "execution": {
     "iopub.execute_input": "2024-09-10T16:02:03.681568Z",
     "iopub.status.busy": "2024-09-10T16:02:03.681232Z",
     "iopub.status.idle": "2024-09-10T16:02:03.710742Z",
     "shell.execute_reply": "2024-09-10T16:02:03.710166Z"
    },
    "lines_to_next_cell": 2
   },
   "outputs": [],
   "source": [
    "from jupyterthemes import jtplot\n",
    "\n",
    "%matplotlib inline\n",
    "jtplot.style(context=\"talk\", fscale=1, ticks=True, grid=False)\n",
    "set_threeML_style()\n",
    "silence_warnings()"
   ]
  },
  {
   "cell_type": "markdown",
   "id": "8510888a",
   "metadata": {},
   "source": [
    "Let's load back our fit of the line + gaussian from the AnalysisResults section."
   ]
  },
  {
   "cell_type": "code",
   "execution_count": 4,
   "id": "f8803608",
   "metadata": {
    "execution": {
     "iopub.execute_input": "2024-09-10T16:02:03.712840Z",
     "iopub.status.busy": "2024-09-10T16:02:03.712654Z",
     "iopub.status.idle": "2024-09-10T16:02:03.778479Z",
     "shell.execute_reply": "2024-09-10T16:02:03.777897Z"
    }
   },
   "outputs": [],
   "source": [
    "ar = load_analysis_results(\"test_mle.fits\")"
   ]
  },
  {
   "cell_type": "markdown",
   "id": "a21a84ff",
   "metadata": {},
   "source": [
    "When we display our fit, we can see the **parameter paths** of the model. What if we want specific information on a parameter(s)?"
   ]
  },
  {
   "cell_type": "code",
   "execution_count": 5,
   "id": "9925f3a1",
   "metadata": {
    "execution": {
     "iopub.execute_input": "2024-09-10T16:02:03.780787Z",
     "iopub.status.busy": "2024-09-10T16:02:03.780395Z",
     "iopub.status.idle": "2024-09-10T16:02:03.814032Z",
     "shell.execute_reply": "2024-09-10T16:02:03.813377Z"
    }
   },
   "outputs": [
    {
     "data": {
      "text/html": [
       "<pre style=\"white-space:pre;overflow-x:auto;line-height:normal;font-family:Menlo,'DejaVu Sans Mono',consolas,'Courier New',monospace\"><span style=\"color: #00ffaf; text-decoration-color: #00ffaf; font-weight: bold; text-decoration: underline\">Best fit values:</span>\n",
       "\n",
       "</pre>\n"
      ],
      "text/plain": [
       "\u001b[1;4;38;5;49mBest fit values:\u001b[0m\n",
       "\n"
      ]
     },
     "metadata": {},
     "output_type": "display_data"
    },
    {
     "data": {
      "text/html": [
       "<div>\n",
       "<style scoped>\n",
       "    .dataframe tbody tr th:only-of-type {\n",
       "        vertical-align: middle;\n",
       "    }\n",
       "\n",
       "    .dataframe tbody tr th {\n",
       "        vertical-align: top;\n",
       "    }\n",
       "\n",
       "    .dataframe thead th {\n",
       "        text-align: right;\n",
       "    }\n",
       "</style>\n",
       "<table border=\"1\" class=\"dataframe\">\n",
       "  <thead>\n",
       "    <tr style=\"text-align: right;\">\n",
       "      <th></th>\n",
       "      <th>result</th>\n",
       "      <th>unit</th>\n",
       "    </tr>\n",
       "    <tr>\n",
       "      <th>parameter</th>\n",
       "      <th></th>\n",
       "      <th></th>\n",
       "    </tr>\n",
       "  </thead>\n",
       "  <tbody>\n",
       "    <tr>\n",
       "      <th>fake.spectrum.main.composite.a_1</th>\n",
       "      <td>1.95 +/- 0.11</td>\n",
       "      <td>1 / (keV s cm2)</td>\n",
       "    </tr>\n",
       "    <tr>\n",
       "      <th>fake.spectrum.main.composite.b_1</th>\n",
       "      <td>(1 +/- 4) x 10^-3</td>\n",
       "      <td>1 / (s cm2 keV2)</td>\n",
       "    </tr>\n",
       "    <tr>\n",
       "      <th>fake.spectrum.main.composite.F_2</th>\n",
       "      <td>(2.7 +/- 0.4) x 10</td>\n",
       "      <td>1 / (s cm2)</td>\n",
       "    </tr>\n",
       "    <tr>\n",
       "      <th>fake.spectrum.main.composite.mu_2</th>\n",
       "      <td>(2.472 +/- 0.013) x 10</td>\n",
       "      <td>keV</td>\n",
       "    </tr>\n",
       "    <tr>\n",
       "      <th>fake.spectrum.main.composite.sigma_2</th>\n",
       "      <td>(8.8 +/- 0.9) x 10^-1</td>\n",
       "      <td>keV</td>\n",
       "    </tr>\n",
       "  </tbody>\n",
       "</table>\n",
       "</div>"
      ],
      "text/plain": [
       "                                                      result              unit\n",
       "parameter                                                                     \n",
       "fake.spectrum.main.composite.a_1               1.95 +/- 0.11   1 / (keV s cm2)\n",
       "fake.spectrum.main.composite.b_1           (1 +/- 4) x 10^-3  1 / (s cm2 keV2)\n",
       "fake.spectrum.main.composite.F_2          (2.7 +/- 0.4) x 10       1 / (s cm2)\n",
       "fake.spectrum.main.composite.mu_2     (2.472 +/- 0.013) x 10               keV\n",
       "fake.spectrum.main.composite.sigma_2   (8.8 +/- 0.9) x 10^-1               keV"
      ]
     },
     "metadata": {},
     "output_type": "display_data"
    },
    {
     "data": {
      "text/html": [
       "<pre style=\"white-space:pre;overflow-x:auto;line-height:normal;font-family:Menlo,'DejaVu Sans Mono',consolas,'Courier New',monospace\">\n",
       "<span style=\"color: #00ffaf; text-decoration-color: #00ffaf; font-weight: bold; text-decoration: underline\">Correlation matrix:</span>\n",
       "\n",
       "</pre>\n"
      ],
      "text/plain": [
       "\n",
       "\u001b[1;4;38;5;49mCorrelation matrix:\u001b[0m\n",
       "\n"
      ]
     },
     "metadata": {},
     "output_type": "display_data"
    },
    {
     "data": {
      "text/html": [
       "<div><table id=\"table140687902918688\">\n",
       "<tr><td>1.00</td><td>-0.85</td><td>-0.04</td><td>0.01</td><td>-0.05</td></tr>\n",
       "<tr><td>-0.85</td><td>1.00</td><td>0.00</td><td>-0.01</td><td>0.00</td></tr>\n",
       "<tr><td>-0.04</td><td>0.00</td><td>1.00</td><td>0.32</td><td>0.06</td></tr>\n",
       "<tr><td>0.01</td><td>-0.01</td><td>0.32</td><td>1.00</td><td>0.27</td></tr>\n",
       "<tr><td>-0.05</td><td>0.00</td><td>0.06</td><td>0.27</td><td>1.00</td></tr>\n",
       "</table></div>"
      ],
      "text/plain": [
       " 1.00 -0.85 -0.04  0.01 -0.05\n",
       "-0.85  1.00  0.00 -0.01  0.00\n",
       "-0.04  0.00  1.00  0.32  0.06\n",
       " 0.01 -0.01  0.32  1.00  0.27\n",
       "-0.05  0.00  0.06  0.27  1.00"
      ]
     },
     "metadata": {},
     "output_type": "display_data"
    },
    {
     "data": {
      "text/html": [
       "<pre style=\"white-space:pre;overflow-x:auto;line-height:normal;font-family:Menlo,'DejaVu Sans Mono',consolas,'Courier New',monospace\">\n",
       "<span style=\"color: #00ffaf; text-decoration-color: #00ffaf; font-weight: bold; text-decoration: underline\">Values of -log(likelihood) at the minimum:</span>\n",
       "\n",
       "</pre>\n"
      ],
      "text/plain": [
       "\n",
       "\u001b[1;4;38;5;49mValues of -\u001b[0m\u001b[1;4;38;5;49mlog\u001b[0m\u001b[1;4;38;5;49m(\u001b[0m\u001b[1;4;38;5;49mlikelihood\u001b[0m\u001b[1;4;38;5;49m)\u001b[0m\u001b[1;4;38;5;49m at the minimum:\u001b[0m\n",
       "\n"
      ]
     },
     "metadata": {},
     "output_type": "display_data"
    },
    {
     "data": {
      "text/html": [
       "<div>\n",
       "<style scoped>\n",
       "    .dataframe tbody tr th:only-of-type {\n",
       "        vertical-align: middle;\n",
       "    }\n",
       "\n",
       "    .dataframe tbody tr th {\n",
       "        vertical-align: top;\n",
       "    }\n",
       "\n",
       "    .dataframe thead th {\n",
       "        text-align: right;\n",
       "    }\n",
       "</style>\n",
       "<table border=\"1\" class=\"dataframe\">\n",
       "  <thead>\n",
       "    <tr style=\"text-align: right;\">\n",
       "      <th></th>\n",
       "      <th>-log(likelihood)</th>\n",
       "    </tr>\n",
       "  </thead>\n",
       "  <tbody>\n",
       "    <tr>\n",
       "      <th>sim_data</th>\n",
       "      <td>18.517588</td>\n",
       "    </tr>\n",
       "    <tr>\n",
       "      <th>total</th>\n",
       "      <td>18.517588</td>\n",
       "    </tr>\n",
       "  </tbody>\n",
       "</table>\n",
       "</div>"
      ],
      "text/plain": [
       "          -log(likelihood)\n",
       "sim_data         18.517588\n",
       "total            18.517588"
      ]
     },
     "metadata": {},
     "output_type": "display_data"
    },
    {
     "data": {
      "text/html": [
       "<pre style=\"white-space:pre;overflow-x:auto;line-height:normal;font-family:Menlo,'DejaVu Sans Mono',consolas,'Courier New',monospace\">\n",
       "<span style=\"color: #00ffaf; text-decoration-color: #00ffaf; font-weight: bold; text-decoration: underline\">Values of statistical measures:</span>\n",
       "\n",
       "</pre>\n"
      ],
      "text/plain": [
       "\n",
       "\u001b[1;4;38;5;49mValues of statistical measures:\u001b[0m\n",
       "\n"
      ]
     },
     "metadata": {},
     "output_type": "display_data"
    },
    {
     "data": {
      "text/html": [
       "<div>\n",
       "<style scoped>\n",
       "    .dataframe tbody tr th:only-of-type {\n",
       "        vertical-align: middle;\n",
       "    }\n",
       "\n",
       "    .dataframe tbody tr th {\n",
       "        vertical-align: top;\n",
       "    }\n",
       "\n",
       "    .dataframe thead th {\n",
       "        text-align: right;\n",
       "    }\n",
       "</style>\n",
       "<table border=\"1\" class=\"dataframe\">\n",
       "  <thead>\n",
       "    <tr style=\"text-align: right;\">\n",
       "      <th></th>\n",
       "      <th>statistical measures</th>\n",
       "    </tr>\n",
       "  </thead>\n",
       "  <tbody>\n",
       "    <tr>\n",
       "      <th>AIC</th>\n",
       "      <td>48.398812</td>\n",
       "    </tr>\n",
       "    <tr>\n",
       "      <th>BIC</th>\n",
       "      <td>56.595291</td>\n",
       "    </tr>\n",
       "  </tbody>\n",
       "</table>\n",
       "</div>"
      ],
      "text/plain": [
       "     statistical measures\n",
       "AIC             48.398812\n",
       "BIC             56.595291"
      ]
     },
     "metadata": {},
     "output_type": "display_data"
    }
   ],
   "source": [
    "ar.display()"
   ]
  },
  {
   "cell_type": "markdown",
   "id": "0363a822",
   "metadata": {},
   "source": [
    "Let's take a look at the normalization of the gaussian. To access the parameter, we take the parameter path, and we want to get the variates:"
   ]
  },
  {
   "cell_type": "code",
   "execution_count": 6,
   "id": "b31842ad",
   "metadata": {
    "execution": {
     "iopub.execute_input": "2024-09-10T16:02:03.816449Z",
     "iopub.status.busy": "2024-09-10T16:02:03.816089Z",
     "iopub.status.idle": "2024-09-10T16:02:03.819098Z",
     "shell.execute_reply": "2024-09-10T16:02:03.818494Z"
    }
   },
   "outputs": [],
   "source": [
    "norm = ar.get_variates(\"fake.spectrum.main.composite.F_2\")"
   ]
  },
  {
   "cell_type": "markdown",
   "id": "947813f0",
   "metadata": {},
   "source": [
    "Now, norm is a RandomVariate."
   ]
  },
  {
   "cell_type": "code",
   "execution_count": 7,
   "id": "eca08ed2",
   "metadata": {
    "execution": {
     "iopub.execute_input": "2024-09-10T16:02:03.821365Z",
     "iopub.status.busy": "2024-09-10T16:02:03.821022Z",
     "iopub.status.idle": "2024-09-10T16:02:03.824850Z",
     "shell.execute_reply": "2024-09-10T16:02:03.824326Z"
    }
   },
   "outputs": [
    {
     "data": {
      "text/plain": [
       "threeML.random_variates.RandomVariates"
      ]
     },
     "execution_count": 7,
     "metadata": {},
     "output_type": "execute_result"
    }
   ],
   "source": [
    "type(norm)"
   ]
  },
  {
   "cell_type": "markdown",
   "id": "9fbf238c",
   "metadata": {},
   "source": [
    "This is essentially a wrapper around numpy NDArray with a few added properties. It is an array of samples. In the MLE case, they are samples from the covariance matrix (this is not at all a marginal distribution, but the parameter \"knows\" about the entire fit, i.e., it is *not* a profile) and in the Bayesian case, these are samples from the posterior (this is a marginal).\n",
    "\n",
    "The output representation for an RV are its 68% equal-tail and HPD uncertainties."
   ]
  },
  {
   "cell_type": "code",
   "execution_count": 8,
   "id": "48f7a610",
   "metadata": {
    "execution": {
     "iopub.execute_input": "2024-09-10T16:02:03.826896Z",
     "iopub.status.busy": "2024-09-10T16:02:03.826706Z",
     "iopub.status.idle": "2024-09-10T16:02:03.831647Z",
     "shell.execute_reply": "2024-09-10T16:02:03.831119Z"
    }
   },
   "outputs": [
    {
     "data": {
      "text/plain": [
       "equal-tail: (2.7 +/- 0.4) x 10, hpd: (2.7 +/- 0.4) x 10"
      ]
     },
     "execution_count": 8,
     "metadata": {},
     "output_type": "execute_result"
    }
   ],
   "source": [
    "norm"
   ]
  },
  {
   "cell_type": "markdown",
   "id": "c7b1b21a",
   "metadata": {},
   "source": [
    "We can access these directly, and to any desired confidence level."
   ]
  },
  {
   "cell_type": "code",
   "execution_count": 9,
   "id": "86058411",
   "metadata": {
    "execution": {
     "iopub.execute_input": "2024-09-10T16:02:03.833800Z",
     "iopub.status.busy": "2024-09-10T16:02:03.833427Z",
     "iopub.status.idle": "2024-09-10T16:02:03.837734Z",
     "shell.execute_reply": "2024-09-10T16:02:03.837105Z"
    }
   },
   "outputs": [
    {
     "data": {
      "text/plain": [
       "(18.69656123568539, 34.36374435850155)"
      ]
     },
     "execution_count": 9,
     "metadata": {},
     "output_type": "execute_result"
    }
   ],
   "source": [
    "norm.equal_tail_interval(cl=0.95)"
   ]
  },
  {
   "cell_type": "code",
   "execution_count": 10,
   "id": "1ba48606",
   "metadata": {
    "execution": {
     "iopub.execute_input": "2024-09-10T16:02:03.840062Z",
     "iopub.status.busy": "2024-09-10T16:02:03.839622Z",
     "iopub.status.idle": "2024-09-10T16:02:03.843786Z",
     "shell.execute_reply": "2024-09-10T16:02:03.843276Z"
    }
   },
   "outputs": [
    {
     "data": {
      "text/plain": [
       "(23.52768787215654, 28.932319888701162)"
      ]
     },
     "execution_count": 10,
     "metadata": {},
     "output_type": "execute_result"
    }
   ],
   "source": [
    "norm.highest_posterior_density_interval(cl=0.5)"
   ]
  },
  {
   "cell_type": "markdown",
   "id": "3f289bc6",
   "metadata": {},
   "source": [
    "As stated above, the RV is made from samples. We can histogram them to show this explicitly."
   ]
  },
  {
   "cell_type": "code",
   "execution_count": 11,
   "id": "4628f76b",
   "metadata": {
    "execution": {
     "iopub.execute_input": "2024-09-10T16:02:03.846018Z",
     "iopub.status.busy": "2024-09-10T16:02:03.845667Z",
     "iopub.status.idle": "2024-09-10T16:02:04.025797Z",
     "shell.execute_reply": "2024-09-10T16:02:04.025200Z"
    },
    "tags": [
     "nbsphinx-thumbnail"
    ]
   },
   "outputs": [
    {
     "data": {
      "text/plain": [
       "Text(0.5, 0, 'norm')"
      ]
     },
     "execution_count": 11,
     "metadata": {},
     "output_type": "execute_result"
    },
    {
     "data": {
      "image/png": "[encoded data removed]",
      "text/plain": [
       "<Figure size 1040x910 with 1 Axes>"
      ]
     },
     "metadata": {},
     "output_type": "display_data"
    }
   ],
   "source": [
    "fig, ax = plt.subplots()\n",
    "\n",
    "ax.hist(norm.samples, bins=50, ec=\"k\", fc=\"w\", lw=1.2)\n",
    "ax.set_xlabel(\"norm\")"
   ]
  },
  {
   "cell_type": "markdown",
   "id": "8b2fe113",
   "metadata": {},
   "source": [
    "We can easily transform the RV through propagation."
   ]
  },
  {
   "cell_type": "code",
   "execution_count": 12,
   "id": "1c3664a9",
   "metadata": {
    "execution": {
     "iopub.execute_input": "2024-09-10T16:02:04.028204Z",
     "iopub.status.busy": "2024-09-10T16:02:04.027776Z",
     "iopub.status.idle": "2024-09-10T16:02:04.033265Z",
     "shell.execute_reply": "2024-09-10T16:02:04.032739Z"
    }
   },
   "outputs": [
    {
     "data": {
      "text/plain": [
       "equal-tail: 1.42 -0.07 +0.06, hpd: 1.42 +/- 0.06"
      ]
     },
     "execution_count": 12,
     "metadata": {},
     "output_type": "execute_result"
    }
   ],
   "source": [
    "log_norm = np.log10(norm)\n",
    "log_norm"
   ]
  },
  {
   "cell_type": "code",
   "execution_count": 13,
   "id": "579c802d",
   "metadata": {
    "execution": {
     "iopub.execute_input": "2024-09-10T16:02:04.035513Z",
     "iopub.status.busy": "2024-09-10T16:02:04.035131Z",
     "iopub.status.idle": "2024-09-10T16:02:04.209847Z",
     "shell.execute_reply": "2024-09-10T16:02:04.209268Z"
    }
   },
   "outputs": [
    {
     "data": {
      "text/plain": [
       "Text(0.5, 0, 'log norm')"
      ]
     },
     "execution_count": 13,
     "metadata": {},
     "output_type": "execute_result"
    },
    {
     "data": {
      "image/png": "[encoded data removed]",
      "text/plain": [
       "<Figure size 1040x910 with 1 Axes>"
      ]
     },
     "metadata": {},
     "output_type": "display_data"
    }
   ],
   "source": [
    "fig, ax = plt.subplots()\n",
    "\n",
    "ax.hist(log_norm.samples, bins=50, ec=\"k\", fc=\"w\", lw=1.2)\n",
    "ax.set_xlabel(\"log norm\")"
   ]
  },
  {
   "cell_type": "raw",
   "id": "92841744",
   "metadata": {},
   "source": [
    ".. note::\n",
    "    Some operations will destroy the RV by accessing only its NDArray substructure. For example, using an RV with astropy units will return an array of samples with the given units."
   ]
  }
 ],
 "metadata": {
  "jupytext": {
   "formats": "ipynb,md"
  },
  "kernelspec": {
   "display_name": "Python 3",
   "language": "python",
   "name": "python3"
  },
  "language_info": {
   "codemirror_mode": {
    "name": "ipython",
    "version": 3
   },
   "file_extension": ".py",
   "mimetype": "text/x-python",
   "name": "python",
   "nbconvert_exporter": "python",
   "pygments_lexer": "ipython3",
   "version": "3.9.19"
  }
 },
 "nbformat": 4,
 "nbformat_minor": 5
}
