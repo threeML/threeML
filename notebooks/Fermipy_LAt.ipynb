{
 "cells": [
  {
   "cell_type": "markdown",
   "id": "4e3688ee",
   "metadata": {},
   "source": [
    "# Fermi-LAT via FermiPyLike"
   ]
  },
  {
   "cell_type": "markdown",
   "id": "fdc5a055",
   "metadata": {},
   "source": [
    "In this Example we show how to use the fermipy plugin in threeML. We perform a Binned likelihood analysis and a Bayesian analysis of the Crab, optimizing the parameters of the Crab Pulsar (PSR J0534+2200) keeping fixed the parameters of the Crab Nebula. In the model, the nebula is described by two sources, one representing the synchrotron spectrum, the othet the Inverse Compton emission.\n",
    "In this example we show how to download Fermi-LAT data, how to build a model starting from the 4FGL, how to free and fix parameters of the sources in the model, and how to perform a spectral analysis using the fermipy plugin."
   ]
  },
  {
   "cell_type": "code",
   "execution_count": 1,
   "id": "8b588d8b",
   "metadata": {
    "execution": {
     "iopub.execute_input": "2024-02-08T19:41:37.635008Z",
     "iopub.status.busy": "2024-02-08T19:41:37.633331Z",
     "iopub.status.idle": "2024-02-08T19:41:38.592203Z",
     "shell.execute_reply": "2024-02-08T19:41:38.590340Z"
    },
    "lines_to_next_cell": 2
   },
   "outputs": [],
   "source": [
    "import warnings\n",
    "\n",
    "warnings.simplefilter(\"ignore\")\n",
    "import numpy as np\n",
    "\n",
    "np.seterr(all=\"ignore\")\n",
    "import shutil\n",
    "from IPython.display import Image, display\n",
    "import glob\n",
    "from pathlib import Path\n",
    "import matplotlib as mpl\n",
    "from matplotlib import pyplot as plt\n",
    "from astropy.io import fits as pyfits\n",
    "import scipy as sp"
   ]
  },
  {
   "cell_type": "code",
   "execution_count": 2,
   "id": "85f22144",
   "metadata": {
    "execution": {
     "iopub.execute_input": "2024-02-08T19:41:38.599222Z",
     "iopub.status.busy": "2024-02-08T19:41:38.598772Z",
     "iopub.status.idle": "2024-02-08T19:41:45.539106Z",
     "shell.execute_reply": "2024-02-08T19:41:45.536499Z"
    },
    "lines_to_next_cell": 2
   },
   "outputs": [],
   "source": [
    "%%capture\n",
    "from threeML import *"
   ]
  },
  {
   "cell_type": "code",
   "execution_count": 3,
   "id": "510f6cbf",
   "metadata": {
    "execution": {
     "iopub.execute_input": "2024-02-08T19:41:45.549009Z",
     "iopub.status.busy": "2024-02-08T19:41:45.548389Z",
     "iopub.status.idle": "2024-02-08T19:41:45.576282Z",
     "shell.execute_reply": "2024-02-08T19:41:45.574181Z"
    }
   },
   "outputs": [],
   "source": [
    "from jupyterthemes import jtplot\n",
    "\n",
    "%matplotlib inline\n",
    "jtplot.style(context=\"talk\", fscale=1, ticks=True, grid=False)\n",
    "set_threeML_style()\n",
    "silence_warnings()"
   ]
  },
  {
   "cell_type": "markdown",
   "id": "3fa60d6f",
   "metadata": {},
   "source": []
  },
  {
   "cell_type": "markdown",
   "id": "d8c66570",
   "metadata": {},
   "source": [
    "## The Fermi 4FGL catalog\n",
    "Let's interrogate the 4FGL to get the sources in a radius of 20.0 deg around the Crab"
   ]
  },
  {
   "cell_type": "code",
   "execution_count": 4,
   "id": "ae96eff8",
   "metadata": {
    "execution": {
     "iopub.execute_input": "2024-02-08T19:41:45.586030Z",
     "iopub.status.busy": "2024-02-08T19:41:45.585356Z",
     "iopub.status.idle": "2024-02-08T19:42:04.758688Z",
     "shell.execute_reply": "2024-02-08T19:42:04.757162Z"
    }
   },
   "outputs": [
    {
     "data": {
      "text/html": [
       "<pre style=\"white-space:pre;overflow-x:auto;line-height:normal;font-family:Menlo,'DejaVu Sans Mono',consolas,'Courier New',monospace\"><span style=\"color: #00ff00; text-decoration-color: #00ff00\">19:41:45 </span><span style=\"color: #00ffaf; text-decoration-color: #00ffaf\">INFO    </span> <span style=\"color: #c6c6c6; text-decoration-color: #c6c6c6; font-weight: bold\"> The cache for fermilpsc does not yet exist. We will try to     </span><a href=\"file:///Users/runner/work/threeML/threeML/threeML/io/get_heasarc_table_as_pandas.py\" target=\"_blank\"><span style=\"color: #7f7f7f; text-decoration-color: #7f7f7f\">get_heasarc_table_as_pandas.py</span></a><span style=\"color: #7f7f7f; text-decoration-color: #7f7f7f\">:</span><a href=\"file:///Users/runner/work/threeML/threeML/threeML/io/get_heasarc_table_as_pandas.py#64\" target=\"_blank\"><span style=\"color: #7f7f7f; text-decoration-color: #7f7f7f\">64</span></a>\n",
       "<span style=\"color: #00ff00; text-decoration-color: #00ff00\">         </span>         <span style=\"color: #c6c6c6; text-decoration-color: #c6c6c6; font-weight: bold\">build it                                                        </span><span style=\"color: #7f7f7f; text-decoration-color: #7f7f7f\">                                 </span>\n",
       "<span style=\"color: #00ff00; text-decoration-color: #00ff00\">         </span>         <span style=\"color: #c6c6c6; text-decoration-color: #c6c6c6; font-weight: bold\">                                                                </span><span style=\"color: #7f7f7f; text-decoration-color: #7f7f7f\">                                 </span>\n",
       "</pre>\n"
      ],
      "text/plain": [
       "\u001b[38;5;46m19:41:45\u001b[0m\u001b[38;5;46m \u001b[0m\u001b[38;5;49mINFO    \u001b[0m \u001b[1;38;5;251m The cache for fermilpsc does not yet exist. We will try to    \u001b[0m\u001b[1;38;5;251m \u001b[0m\u001b]8;id=768555;file:///Users/runner/work/threeML/threeML/threeML/io/get_heasarc_table_as_pandas.py\u001b\\\u001b[2mget_heasarc_table_as_pandas.py\u001b[0m\u001b]8;;\u001b\\\u001b[2m:\u001b[0m\u001b]8;id=645252;file:///Users/runner/work/threeML/threeML/threeML/io/get_heasarc_table_as_pandas.py#64\u001b\\\u001b[2m64\u001b[0m\u001b]8;;\u001b\\\n",
       "\u001b[38;5;46m         \u001b[0m         \u001b[1;38;5;251mbuild it                                                       \u001b[0m\u001b[1;38;5;251m \u001b[0m\u001b[2m                                 \u001b[0m\n",
       "\u001b[38;5;46m         \u001b[0m         \u001b[1;38;5;251m                                                               \u001b[0m\u001b[1;38;5;251m \u001b[0m\u001b[2m                                 \u001b[0m\n"
      ]
     },
     "metadata": {},
     "output_type": "display_data"
    },
    {
     "data": {
      "text/html": [
       "<pre style=\"white-space:pre;overflow-x:auto;line-height:normal;font-family:Menlo,'DejaVu Sans Mono',consolas,'Courier New',monospace\"><span style=\"color: #00ff00; text-decoration-color: #00ff00\">         </span><span style=\"color: #00ffaf; text-decoration-color: #00ffaf\">INFO    </span> <span style=\"color: #c6c6c6; text-decoration-color: #c6c6c6; font-weight: bold\"> Building cache for fermilpsc                                  </span><a href=\"file:///Users/runner/work/threeML/threeML/threeML/io/get_heasarc_table_as_pandas.py\" target=\"_blank\"><span style=\"color: #7f7f7f; text-decoration-color: #7f7f7f\">get_heasarc_table_as_pandas.py</span></a><span style=\"color: #7f7f7f; text-decoration-color: #7f7f7f\">:</span><a href=\"file:///Users/runner/work/threeML/threeML/threeML/io/get_heasarc_table_as_pandas.py#112\" target=\"_blank\"><span style=\"color: #7f7f7f; text-decoration-color: #7f7f7f\">112</span></a>\n",
       "</pre>\n"
      ],
      "text/plain": [
       "\u001b[38;5;46m        \u001b[0m\u001b[38;5;46m \u001b[0m\u001b[38;5;49mINFO    \u001b[0m \u001b[1;38;5;251m Building cache for fermilpsc                                 \u001b[0m\u001b[1;38;5;251m \u001b[0m\u001b]8;id=355719;file:///Users/runner/work/threeML/threeML/threeML/io/get_heasarc_table_as_pandas.py\u001b\\\u001b[2mget_heasarc_table_as_pandas.py\u001b[0m\u001b]8;;\u001b\\\u001b[2m:\u001b[0m\u001b]8;id=356069;file:///Users/runner/work/threeML/threeML/threeML/io/get_heasarc_table_as_pandas.py#112\u001b\\\u001b[2m112\u001b[0m\u001b]8;;\u001b\\\n"
      ]
     },
     "metadata": {},
     "output_type": "display_data"
    },
    {
     "name": "stdout",
     "output_type": "stream",
     "text": [
      "Trying https://heasarc.gsfc.nasa.gov/cgi-bin/vo/cone/coneGet.pl?table=fermilpsc&\n"
     ]
    },
    {
     "data": {
      "text/html": [
       "<div><i>Table length=196</i>\n",
       "<table id=\"table5226050752\" class=\"table-striped table-bordered table-condensed\">\n",
       "<thead><tr><th>name</th><th>source_type</th><th>short_source_type</th><th>ra</th><th>dec</th><th>assoc_name</th><th>tevcat_assoc</th><th>Search_Offset</th></tr></thead>\n",
       "<thead><tr><th></th><th></th><th></th><th>deg</th><th>deg</th><th></th><th></th><th></th></tr></thead>\n",
       "<thead><tr><th>object</th><th>str52</th><th>object</th><th>float64</th><th>float64</th><th>object</th><th>object</th><th>float64</th></tr></thead>\n",
       "<tr><td>4FGL J0534.5+2201s</td><td>pulsar wind nebula</td><td>PWN</td><td>83.6331</td><td>22.0199</td><td>Crab Nebula</td><td>Crab</td><td>0.3965</td></tr>\n",
       "<tr><td>4FGL J0534.5+2201i</td><td>pulsar wind nebula</td><td>PWN</td><td>83.6330</td><td>22.0200</td><td>Crab Nebula</td><td>Crab</td><td>0.3979</td></tr>\n",
       "<tr><td>4FGL J0534.5+2200</td><td>pulsar, identified by pulsations</td><td>PSR</td><td>83.6367</td><td>22.0149</td><td>PSR J0534+2200</td><td>Crab pulsar</td><td>0.4447</td></tr>\n",
       "<tr><td>4FGL J0526.3+2246</td><td>active galaxy of uncertain type</td><td>bcu</td><td>81.5908</td><td>22.7778</td><td>NVSS J052622+224801</td><td></td><td>121.9694</td></tr>\n",
       "<tr><td>4FGL J0544.4+2238</td><td>unknown</td><td></td><td>86.1093</td><td>22.6418</td><td></td><td></td><td>142.7227</td></tr>\n",
       "<tr><td>4FGL J0521.7+2112</td><td>BL Lac type of blazar</td><td>bll</td><td>80.4445</td><td>21.2131</td><td>TXS 0518+211</td><td>VER J0521+211</td><td>184.0105</td></tr>\n",
       "<tr><td>4FGL J0528.3+1817</td><td>unknown</td><td>unk</td><td>82.0946</td><td>18.2943</td><td>1RXS J052829.6+181657</td><td></td><td>239.3570</td></tr>\n",
       "<tr><td>4FGL J0519.7+1939</td><td>unknown</td><td></td><td>79.9457</td><td>19.6646</td><td></td><td></td><td>250.0485</td></tr>\n",
       "<tr><td>4FGL J0536.2+1733</td><td>BL Lac type of blazar</td><td>bll</td><td>84.0719</td><td>17.5534</td><td>TXS 0533+175</td><td></td><td>268.8438</td></tr>\n",
       "<tr><td>...</td><td>...</td><td>...</td><td>...</td><td>...</td><td>...</td><td>...</td><td>...</td></tr>\n",
       "<tr><td>4FGL J0552.8+0313</td><td>active galaxy of uncertain type</td><td>bcu</td><td>88.2180</td><td>3.2322</td><td>PKS 0550+032</td><td></td><td>1158.2177</td></tr>\n",
       "<tr><td>4FGL J0431.0+3529c</td><td>unknown</td><td></td><td>67.7650</td><td>35.4949</td><td></td><td></td><td>1159.0130</td></tr>\n",
       "<tr><td>4FGL J0653.6+1636</td><td>active galaxy of uncertain type</td><td>bcu</td><td>103.4105</td><td>16.6106</td><td>2MASX J06533986+1636432</td><td></td><td>1164.9659</td></tr>\n",
       "<tr><td>4FGL J0658.7+2318</td><td>unknown</td><td></td><td>104.6808</td><td>23.3027</td><td></td><td></td><td>1167.1721</td></tr>\n",
       "<tr><td>4FGL J0552.0+0256c</td><td>unknown</td><td></td><td>88.0140</td><td>2.9417</td><td></td><td></td><td>1172.5618</td></tr>\n",
       "<tr><td>4FGL J0555.1+0304</td><td>active galaxy of uncertain type</td><td>bcu</td><td>88.7776</td><td>3.0710</td><td>GB6 J0555+0304</td><td></td><td>1175.5384</td></tr>\n",
       "<tr><td>4FGL J0658.2+2709</td><td>active galaxy of uncertain type</td><td>bcu</td><td>104.5735</td><td>27.1501</td><td>B2 0655+27A</td><td></td><td>1181.9183</td></tr>\n",
       "<tr><td>4FGL J0642.4+1048</td><td>unknown</td><td></td><td>100.6081</td><td>10.8135</td><td></td><td></td><td>1184.1778</td></tr>\n",
       "<tr><td>4FGL J0506.9+0323</td><td>BL Lac type of blazar</td><td>bll</td><td>76.7314</td><td>3.3917</td><td>NVSS J050650+032401</td><td></td><td>1187.3710</td></tr>\n",
       "<tr><td>4FGL J0409.2+2542</td><td>unknown</td><td></td><td>62.3144</td><td>25.7022</td><td></td><td></td><td>1188.9075</td></tr>\n",
       "</table></div>"
      ],
      "text/plain": [
       "<Table length=196>\n",
       "       name                  source_type            ... Search_Offset\n",
       "                                                    ...              \n",
       "      object                    str52               ...    float64   \n",
       "------------------ -------------------------------- ... -------------\n",
       "4FGL J0534.5+2201s               pulsar wind nebula ...        0.3965\n",
       "4FGL J0534.5+2201i               pulsar wind nebula ...        0.3979\n",
       " 4FGL J0534.5+2200 pulsar, identified by pulsations ...        0.4447\n",
       " 4FGL J0526.3+2246  active galaxy of uncertain type ...      121.9694\n",
       " 4FGL J0544.4+2238                          unknown ...      142.7227\n",
       " 4FGL J0521.7+2112            BL Lac type of blazar ...      184.0105\n",
       " 4FGL J0528.3+1817                          unknown ...      239.3570\n",
       " 4FGL J0519.7+1939                          unknown ...      250.0485\n",
       " 4FGL J0536.2+1733            BL Lac type of blazar ...      268.8438\n",
       "               ...                              ... ...           ...\n",
       " 4FGL J0552.8+0313  active galaxy of uncertain type ...     1158.2177\n",
       "4FGL J0431.0+3529c                          unknown ...     1159.0130\n",
       " 4FGL J0653.6+1636  active galaxy of uncertain type ...     1164.9659\n",
       " 4FGL J0658.7+2318                          unknown ...     1167.1721\n",
       "4FGL J0552.0+0256c                          unknown ...     1172.5618\n",
       " 4FGL J0555.1+0304  active galaxy of uncertain type ...     1175.5384\n",
       " 4FGL J0658.2+2709  active galaxy of uncertain type ...     1181.9183\n",
       " 4FGL J0642.4+1048                          unknown ...     1184.1778\n",
       " 4FGL J0506.9+0323            BL Lac type of blazar ...     1187.3710\n",
       " 4FGL J0409.2+2542                          unknown ...     1188.9075"
      ]
     },
     "execution_count": 4,
     "metadata": {},
     "output_type": "execute_result"
    }
   ],
   "source": [
    "lat_catalog = FermiLATSourceCatalog()\n",
    "\n",
    "ra, dec, table = lat_catalog.search_around_source(\"Crab\", radius=20.0)\n",
    "\n",
    "table"
   ]
  },
  {
   "cell_type": "markdown",
   "id": "8aa56c40",
   "metadata": {},
   "source": [
    "This gets a 3ML model (a Model instance) from the table above, where every source in the 4FGL becomes a Source instance. Note that by default all parameters of all sources are fixed."
   ]
  },
  {
   "cell_type": "code",
   "execution_count": 5,
   "id": "ca9ee941",
   "metadata": {
    "execution": {
     "iopub.execute_input": "2024-02-08T19:42:04.765049Z",
     "iopub.status.busy": "2024-02-08T19:42:04.764621Z",
     "iopub.status.idle": "2024-02-08T19:42:05.169316Z",
     "shell.execute_reply": "2024-02-08T19:42:05.167594Z"
    }
   },
   "outputs": [],
   "source": [
    "model = lat_catalog.get_model()"
   ]
  },
  {
   "cell_type": "markdown",
   "id": "287dd0f8",
   "metadata": {},
   "source": [
    "Let's free all the normalizations within 3 deg from the center."
   ]
  },
  {
   "cell_type": "code",
   "execution_count": 6,
   "id": "9d466446",
   "metadata": {
    "execution": {
     "iopub.execute_input": "2024-02-08T19:42:05.174760Z",
     "iopub.status.busy": "2024-02-08T19:42:05.174452Z",
     "iopub.status.idle": "2024-02-08T19:42:05.369212Z",
     "shell.execute_reply": "2024-02-08T19:42:05.367400Z"
    }
   },
   "outputs": [
    {
     "data": {
      "text/html": [
       "Model summary:<br><br><div>\n",
       "<style scoped>\n",
       "    .dataframe tbody tr th:only-of-type {\n",
       "        vertical-align: middle;\n",
       "    }\n",
       "\n",
       "    .dataframe tbody tr th {\n",
       "        vertical-align: top;\n",
       "    }\n",
       "\n",
       "    .dataframe thead th {\n",
       "        text-align: right;\n",
       "    }\n",
       "</style>\n",
       "<table border=\"1\" class=\"dataframe\">\n",
       "  <thead>\n",
       "    <tr style=\"text-align: right;\">\n",
       "      <th></th>\n",
       "      <th>N</th>\n",
       "    </tr>\n",
       "  </thead>\n",
       "  <tbody>\n",
       "    <tr>\n",
       "      <th>Point sources</th>\n",
       "      <td>196</td>\n",
       "    </tr>\n",
       "    <tr>\n",
       "      <th>Extended sources</th>\n",
       "      <td>0</td>\n",
       "    </tr>\n",
       "    <tr>\n",
       "      <th>Particle sources</th>\n",
       "      <td>0</td>\n",
       "    </tr>\n",
       "  </tbody>\n",
       "</table>\n",
       "</div><br><br>Free parameters (5):<br><br><div>\n",
       "<style scoped>\n",
       "    .dataframe tbody tr th:only-of-type {\n",
       "        vertical-align: middle;\n",
       "    }\n",
       "\n",
       "    .dataframe tbody tr th {\n",
       "        vertical-align: top;\n",
       "    }\n",
       "\n",
       "    .dataframe thead th {\n",
       "        text-align: right;\n",
       "    }\n",
       "</style>\n",
       "<table border=\"1\" class=\"dataframe\">\n",
       "  <thead>\n",
       "    <tr style=\"text-align: right;\">\n",
       "      <th></th>\n",
       "      <th>value</th>\n",
       "      <th>min_value</th>\n",
       "      <th>max_value</th>\n",
       "      <th>unit</th>\n",
       "    </tr>\n",
       "  </thead>\n",
       "  <tbody>\n",
       "    <tr>\n",
       "      <th>Crab_synch.spectrum.main.Log_parabola.K</th>\n",
       "      <td>0.0</td>\n",
       "      <td>0.0</td>\n",
       "      <td>0.0</td>\n",
       "      <td>keV-1 s-1 cm-2</td>\n",
       "    </tr>\n",
       "    <tr>\n",
       "      <th>Crab_IC.spectrum.main.Log_parabola.K</th>\n",
       "      <td>0.0</td>\n",
       "      <td>0.0</td>\n",
       "      <td>0.0</td>\n",
       "      <td>keV-1 s-1 cm-2</td>\n",
       "    </tr>\n",
       "    <tr>\n",
       "      <th>PSR_J0534p2200.spectrum.main.Super_cutoff_powerlaw.K</th>\n",
       "      <td>0.0</td>\n",
       "      <td>0.0</td>\n",
       "      <td>0.0</td>\n",
       "      <td>keV-1 s-1 cm-2</td>\n",
       "    </tr>\n",
       "    <tr>\n",
       "      <th>NVSS_J052622p224801.spectrum.main.Powerlaw.K</th>\n",
       "      <td>0.0</td>\n",
       "      <td>0.0</td>\n",
       "      <td>0.0</td>\n",
       "      <td>keV-1 s-1 cm-2</td>\n",
       "    </tr>\n",
       "    <tr>\n",
       "      <th>x4FGL_J0544d4p2238.spectrum.main.Powerlaw.K</th>\n",
       "      <td>0.0</td>\n",
       "      <td>0.0</td>\n",
       "      <td>0.0</td>\n",
       "      <td>keV-1 s-1 cm-2</td>\n",
       "    </tr>\n",
       "  </tbody>\n",
       "</table>\n",
       "</div><br><br>Fixed parameters (1089):<br>(abridged. Use complete=True to see all fixed parameters)<br><br><br>Properties (0):<br><br>(none)<br><br><br>Linked parameters (0):<br><br>(none)<br><br>Independent variables:<br><br>(none)<br><br>Linked functions (0):<br><br>(none)<br>"
      ],
      "text/plain": [
       "Model summary:\n",
       "==============\n",
       "\n",
       "                    N\n",
       "Point sources     196\n",
       "Extended sources    0\n",
       "Particle sources    0\n",
       "\n",
       "Free parameters (5):\n",
       "--------------------\n",
       "\n",
       "                                        value min_value max_value  \\\n",
       "Crab_synch.spectrum.main.Log_parabola.K   0.0       0.0       0.0   \n",
       "Crab_IC.spectrum.main.Log_parabola.K      0.0       0.0       0.0   \n",
       "PSR_J0534p2200...K                        0.0       0.0       0.0   \n",
       "NVSS_J052622p224801...K                   0.0       0.0       0.0   \n",
       "x4FGL_J0544d4p2238...K                    0.0       0.0       0.0   \n",
       "\n",
       "                                                   unit  \n",
       "Crab_synch.spectrum.main.Log_parabola.K  keV-1 s-1 cm-2  \n",
       "Crab_IC.spectrum.main.Log_parabola.K     keV-1 s-1 cm-2  \n",
       "PSR_J0534p2200...K                       keV-1 s-1 cm-2  \n",
       "NVSS_J052622p224801...K                  keV-1 s-1 cm-2  \n",
       "x4FGL_J0544d4p2238...K                   keV-1 s-1 cm-2  \n",
       "\n",
       "Fixed parameters (1089):\n",
       "(abridged. Use complete=True to see all fixed parameters)\n",
       "\n",
       "\n",
       "Properties (0):\n",
       "--------------------\n",
       "\n",
       "(none)\n",
       "\n",
       "\n",
       "Linked parameters (0):\n",
       "----------------------\n",
       "\n",
       "(none)\n",
       "\n",
       "Independent variables:\n",
       "----------------------\n",
       "\n",
       "(none)\n",
       "\n",
       "Linked functions (0):\n",
       "----------------------\n",
       "\n",
       "(none)"
      ]
     },
     "metadata": {},
     "output_type": "display_data"
    }
   ],
   "source": [
    "model.free_point_sources_within_radius(3.0, normalization_only=True)\n",
    "\n",
    "model.display()"
   ]
  },
  {
   "cell_type": "markdown",
   "id": "bc0446d7",
   "metadata": {},
   "source": [
    "but then let's fix the sync and the IC components of the Crab nebula (cannot fit them with just one month of data) (these two methods are equivalent)"
   ]
  },
  {
   "cell_type": "code",
   "execution_count": 7,
   "id": "2744dbe7",
   "metadata": {
    "execution": {
     "iopub.execute_input": "2024-02-08T19:42:05.375153Z",
     "iopub.status.busy": "2024-02-08T19:42:05.374799Z",
     "iopub.status.idle": "2024-02-08T19:42:05.380675Z",
     "shell.execute_reply": "2024-02-08T19:42:05.379454Z"
    }
   },
   "outputs": [],
   "source": [
    "model[\"Crab_IC.spectrum.main.Log_parabola.K\"].fix = True\n",
    "model.Crab_synch.spectrum.main.Log_parabola.K.fix = True"
   ]
  },
  {
   "cell_type": "markdown",
   "id": "b54c9f28",
   "metadata": {},
   "source": [
    "However, let's free the index of the Crab Pulsar"
   ]
  },
  {
   "cell_type": "code",
   "execution_count": 8,
   "id": "6167af49",
   "metadata": {
    "execution": {
     "iopub.execute_input": "2024-02-08T19:42:05.386441Z",
     "iopub.status.busy": "2024-02-08T19:42:05.386095Z",
     "iopub.status.idle": "2024-02-08T19:42:05.620411Z",
     "shell.execute_reply": "2024-02-08T19:42:05.590297Z"
    }
   },
   "outputs": [
    {
     "data": {
      "text/html": [
       "Model summary:<br><br><div>\n",
       "<style scoped>\n",
       "    .dataframe tbody tr th:only-of-type {\n",
       "        vertical-align: middle;\n",
       "    }\n",
       "\n",
       "    .dataframe tbody tr th {\n",
       "        vertical-align: top;\n",
       "    }\n",
       "\n",
       "    .dataframe thead th {\n",
       "        text-align: right;\n",
       "    }\n",
       "</style>\n",
       "<table border=\"1\" class=\"dataframe\">\n",
       "  <thead>\n",
       "    <tr style=\"text-align: right;\">\n",
       "      <th></th>\n",
       "      <th>N</th>\n",
       "    </tr>\n",
       "  </thead>\n",
       "  <tbody>\n",
       "    <tr>\n",
       "      <th>Point sources</th>\n",
       "      <td>196</td>\n",
       "    </tr>\n",
       "    <tr>\n",
       "      <th>Extended sources</th>\n",
       "      <td>0</td>\n",
       "    </tr>\n",
       "    <tr>\n",
       "      <th>Particle sources</th>\n",
       "      <td>0</td>\n",
       "    </tr>\n",
       "  </tbody>\n",
       "</table>\n",
       "</div><br><br>Free parameters (4):<br><br><div>\n",
       "<style scoped>\n",
       "    .dataframe tbody tr th:only-of-type {\n",
       "        vertical-align: middle;\n",
       "    }\n",
       "\n",
       "    .dataframe tbody tr th {\n",
       "        vertical-align: top;\n",
       "    }\n",
       "\n",
       "    .dataframe thead th {\n",
       "        text-align: right;\n",
       "    }\n",
       "</style>\n",
       "<table border=\"1\" class=\"dataframe\">\n",
       "  <thead>\n",
       "    <tr style=\"text-align: right;\">\n",
       "      <th></th>\n",
       "      <th>value</th>\n",
       "      <th>min_value</th>\n",
       "      <th>max_value</th>\n",
       "      <th>unit</th>\n",
       "    </tr>\n",
       "  </thead>\n",
       "  <tbody>\n",
       "    <tr>\n",
       "      <th>PSR_J0534p2200.spectrum.main.Super_cutoff_powerlaw.K</th>\n",
       "      <td>0.0</td>\n",
       "      <td>0.0</td>\n",
       "      <td>0.0</td>\n",
       "      <td>keV-1 s-1 cm-2</td>\n",
       "    </tr>\n",
       "    <tr>\n",
       "      <th>PSR_J0534p2200.spectrum.main.Super_cutoff_powerlaw.index</th>\n",
       "      <td>-1.826553</td>\n",
       "      <td>-10.0</td>\n",
       "      <td>10.0</td>\n",
       "      <td></td>\n",
       "    </tr>\n",
       "    <tr>\n",
       "      <th>NVSS_J052622p224801.spectrum.main.Powerlaw.K</th>\n",
       "      <td>0.0</td>\n",
       "      <td>0.0</td>\n",
       "      <td>0.0</td>\n",
       "      <td>keV-1 s-1 cm-2</td>\n",
       "    </tr>\n",
       "    <tr>\n",
       "      <th>x4FGL_J0544d4p2238.spectrum.main.Powerlaw.K</th>\n",
       "      <td>0.0</td>\n",
       "      <td>0.0</td>\n",
       "      <td>0.0</td>\n",
       "      <td>keV-1 s-1 cm-2</td>\n",
       "    </tr>\n",
       "  </tbody>\n",
       "</table>\n",
       "</div><br><br>Fixed parameters (1090):<br>(abridged. Use complete=True to see all fixed parameters)<br><br><br>Properties (0):<br><br>(none)<br><br><br>Linked parameters (0):<br><br>(none)<br><br>Independent variables:<br><br>(none)<br><br>Linked functions (0):<br><br>(none)<br>"
      ],
      "text/plain": [
       "Model summary:\n",
       "==============\n",
       "\n",
       "                    N\n",
       "Point sources     196\n",
       "Extended sources    0\n",
       "Particle sources    0\n",
       "\n",
       "Free parameters (4):\n",
       "--------------------\n",
       "\n",
       "                            value min_value max_value            unit\n",
       "PSR_J0534p2200...K            0.0       0.0       0.0  keV-1 s-1 cm-2\n",
       "PSR_J0534p2200...index  -1.826553     -10.0      10.0                \n",
       "NVSS_J052622p224801...K       0.0       0.0       0.0  keV-1 s-1 cm-2\n",
       "x4FGL_J0544d4p2238...K        0.0       0.0       0.0  keV-1 s-1 cm-2\n",
       "\n",
       "Fixed parameters (1090):\n",
       "(abridged. Use complete=True to see all fixed parameters)\n",
       "\n",
       "\n",
       "Properties (0):\n",
       "--------------------\n",
       "\n",
       "(none)\n",
       "\n",
       "\n",
       "Linked parameters (0):\n",
       "----------------------\n",
       "\n",
       "(none)\n",
       "\n",
       "Independent variables:\n",
       "----------------------\n",
       "\n",
       "(none)\n",
       "\n",
       "Linked functions (0):\n",
       "----------------------\n",
       "\n",
       "(none)"
      ]
     },
     "metadata": {},
     "output_type": "display_data"
    }
   ],
   "source": [
    "model.PSR_J0534p2200.spectrum.main.Super_cutoff_powerlaw.index.free = True\n",
    "\n",
    "model.display()"
   ]
  },
  {
   "cell_type": "code",
   "execution_count": 9,
   "id": "a687183c",
   "metadata": {
    "execution": {
     "iopub.execute_input": "2024-02-08T19:42:05.626784Z",
     "iopub.status.busy": "2024-02-08T19:42:05.626454Z",
     "iopub.status.idle": "2024-02-08T19:42:38.056572Z",
     "shell.execute_reply": "2024-02-08T19:42:38.055063Z"
    }
   },
   "outputs": [
    {
     "data": {
      "text/html": [
       "<pre style=\"white-space:pre;overflow-x:auto;line-height:normal;font-family:Menlo,'DejaVu Sans Mono',consolas,'Courier New',monospace\"><span style=\"color: #00ff00; text-decoration-color: #00ff00\">19:42:05 </span><span style=\"color: #00ffaf; text-decoration-color: #00ffaf\">INFO    </span> <span style=\"color: #c6c6c6; text-decoration-color: #c6c6c6; font-weight: bold\"> Query parameters:                                                       </span><a href=\"file:///Users/runner/work/threeML/threeML/threeML/utils/data_download/Fermi_LAT/download_LAT_data.py\" target=\"_blank\"><span style=\"color: #7f7f7f; text-decoration-color: #7f7f7f\">download_LAT_data.py</span></a><span style=\"color: #7f7f7f; text-decoration-color: #7f7f7f\">:</span><a href=\"file:///Users/runner/work/threeML/threeML/threeML/utils/data_download/Fermi_LAT/download_LAT_data.py#262\" target=\"_blank\"><span style=\"color: #7f7f7f; text-decoration-color: #7f7f7f\">262</span></a>\n",
       "</pre>\n"
      ],
      "text/plain": [
       "\u001b[38;5;46m19:42:05\u001b[0m\u001b[38;5;46m \u001b[0m\u001b[38;5;49mINFO    \u001b[0m \u001b[1;38;5;251m Query parameters:                                                      \u001b[0m\u001b[1;38;5;251m \u001b[0m\u001b]8;id=739178;file:///Users/runner/work/threeML/threeML/threeML/utils/data_download/Fermi_LAT/download_LAT_data.py\u001b\\\u001b[2mdownload_LAT_data.py\u001b[0m\u001b]8;;\u001b\\\u001b[2m:\u001b[0m\u001b]8;id=445048;file:///Users/runner/work/threeML/threeML/threeML/utils/data_download/Fermi_LAT/download_LAT_data.py#262\u001b\\\u001b[2m262\u001b[0m\u001b]8;;\u001b\\\n"
      ]
     },
     "metadata": {},
     "output_type": "display_data"
    },
    {
     "data": {
      "text/html": [
       "<pre style=\"white-space:pre;overflow-x:auto;line-height:normal;font-family:Menlo,'DejaVu Sans Mono',consolas,'Courier New',monospace\"><span style=\"color: #00ff00; text-decoration-color: #00ff00\">         </span><span style=\"color: #00ffaf; text-decoration-color: #00ffaf\">INFO    </span> <span style=\"color: #c6c6c6; text-decoration-color: #c6c6c6; font-weight: bold\">                     coordfield = </span><span style=\"color: #c0c0c0; text-decoration-color: #c0c0c0; font-weight: bold\">83.6287</span><span style=\"color: #c6c6c6; text-decoration-color: #c6c6c6; font-weight: bold\">,</span><span style=\"color: #c0c0c0; text-decoration-color: #c0c0c0; font-weight: bold\">22.0147</span><span style=\"color: #c6c6c6; text-decoration-color: #c6c6c6; font-weight: bold\">                        </span><a href=\"file:///Users/runner/work/threeML/threeML/threeML/utils/data_download/Fermi_LAT/download_LAT_data.py\" target=\"_blank\"><span style=\"color: #7f7f7f; text-decoration-color: #7f7f7f\">download_LAT_data.py</span></a><span style=\"color: #7f7f7f; text-decoration-color: #7f7f7f\">:</span><a href=\"file:///Users/runner/work/threeML/threeML/threeML/utils/data_download/Fermi_LAT/download_LAT_data.py#266\" target=\"_blank\"><span style=\"color: #7f7f7f; text-decoration-color: #7f7f7f\">266</span></a>\n",
       "</pre>\n"
      ],
      "text/plain": [
       "\u001b[38;5;46m        \u001b[0m\u001b[38;5;46m \u001b[0m\u001b[38;5;49mINFO    \u001b[0m \u001b[1;38;5;251m                     coordfield = \u001b[0m\u001b[1;37m83.6287\u001b[0m\u001b[1;38;5;251m,\u001b[0m\u001b[1;37m22.0147\u001b[0m\u001b[1;38;5;251m                       \u001b[0m\u001b[1;38;5;251m \u001b[0m\u001b]8;id=530048;file:///Users/runner/work/threeML/threeML/threeML/utils/data_download/Fermi_LAT/download_LAT_data.py\u001b\\\u001b[2mdownload_LAT_data.py\u001b[0m\u001b]8;;\u001b\\\u001b[2m:\u001b[0m\u001b]8;id=685851;file:///Users/runner/work/threeML/threeML/threeML/utils/data_download/Fermi_LAT/download_LAT_data.py#266\u001b\\\u001b[2m266\u001b[0m\u001b]8;;\u001b\\\n"
      ]
     },
     "metadata": {},
     "output_type": "display_data"
    },
    {
     "data": {
      "text/html": [
       "<pre style=\"white-space:pre;overflow-x:auto;line-height:normal;font-family:Menlo,'DejaVu Sans Mono',consolas,'Courier New',monospace\"><span style=\"color: #00ff00; text-decoration-color: #00ff00\">         </span><span style=\"color: #00ffaf; text-decoration-color: #00ffaf\">INFO    </span> <span style=\"color: #c6c6c6; text-decoration-color: #c6c6c6; font-weight: bold\">                    coordsystem = J2000                                  </span><a href=\"file:///Users/runner/work/threeML/threeML/threeML/utils/data_download/Fermi_LAT/download_LAT_data.py\" target=\"_blank\"><span style=\"color: #7f7f7f; text-decoration-color: #7f7f7f\">download_LAT_data.py</span></a><span style=\"color: #7f7f7f; text-decoration-color: #7f7f7f\">:</span><a href=\"file:///Users/runner/work/threeML/threeML/threeML/utils/data_download/Fermi_LAT/download_LAT_data.py#266\" target=\"_blank\"><span style=\"color: #7f7f7f; text-decoration-color: #7f7f7f\">266</span></a>\n",
       "</pre>\n"
      ],
      "text/plain": [
       "\u001b[38;5;46m        \u001b[0m\u001b[38;5;46m \u001b[0m\u001b[38;5;49mINFO    \u001b[0m \u001b[1;38;5;251m                    coordsystem = J2000                                 \u001b[0m\u001b[1;38;5;251m \u001b[0m\u001b]8;id=372687;file:///Users/runner/work/threeML/threeML/threeML/utils/data_download/Fermi_LAT/download_LAT_data.py\u001b\\\u001b[2mdownload_LAT_data.py\u001b[0m\u001b]8;;\u001b\\\u001b[2m:\u001b[0m\u001b]8;id=847435;file:///Users/runner/work/threeML/threeML/threeML/utils/data_download/Fermi_LAT/download_LAT_data.py#266\u001b\\\u001b[2m266\u001b[0m\u001b]8;;\u001b\\\n"
      ]
     },
     "metadata": {},
     "output_type": "display_data"
    },
    {
     "data": {
      "text/html": [
       "<pre style=\"white-space:pre;overflow-x:auto;line-height:normal;font-family:Menlo,'DejaVu Sans Mono',consolas,'Courier New',monospace\"><span style=\"color: #00ff00; text-decoration-color: #00ff00\">         </span><span style=\"color: #00ffaf; text-decoration-color: #00ffaf\">INFO    </span> <span style=\"color: #c6c6c6; text-decoration-color: #c6c6c6; font-weight: bold\">                     shapefield = </span><span style=\"color: #c0c0c0; text-decoration-color: #c0c0c0; font-weight: bold\">20.0</span><span style=\"color: #c6c6c6; text-decoration-color: #c6c6c6; font-weight: bold\">                                   </span><a href=\"file:///Users/runner/work/threeML/threeML/threeML/utils/data_download/Fermi_LAT/download_LAT_data.py\" target=\"_blank\"><span style=\"color: #7f7f7f; text-decoration-color: #7f7f7f\">download_LAT_data.py</span></a><span style=\"color: #7f7f7f; text-decoration-color: #7f7f7f\">:</span><a href=\"file:///Users/runner/work/threeML/threeML/threeML/utils/data_download/Fermi_LAT/download_LAT_data.py#266\" target=\"_blank\"><span style=\"color: #7f7f7f; text-decoration-color: #7f7f7f\">266</span></a>\n",
       "</pre>\n"
      ],
      "text/plain": [
       "\u001b[38;5;46m        \u001b[0m\u001b[38;5;46m \u001b[0m\u001b[38;5;49mINFO    \u001b[0m \u001b[1;38;5;251m                     shapefield = \u001b[0m\u001b[1;37m20.0\u001b[0m\u001b[1;38;5;251m                                  \u001b[0m\u001b[1;38;5;251m \u001b[0m\u001b]8;id=377444;file:///Users/runner/work/threeML/threeML/threeML/utils/data_download/Fermi_LAT/download_LAT_data.py\u001b\\\u001b[2mdownload_LAT_data.py\u001b[0m\u001b]8;;\u001b\\\u001b[2m:\u001b[0m\u001b]8;id=87453;file:///Users/runner/work/threeML/threeML/threeML/utils/data_download/Fermi_LAT/download_LAT_data.py#266\u001b\\\u001b[2m266\u001b[0m\u001b]8;;\u001b\\\n"
      ]
     },
     "metadata": {},
     "output_type": "display_data"
    },
    {
     "data": {
      "text/html": [
       "<pre style=\"white-space:pre;overflow-x:auto;line-height:normal;font-family:Menlo,'DejaVu Sans Mono',consolas,'Courier New',monospace\"><span style=\"color: #00ff00; text-decoration-color: #00ff00\">         </span><span style=\"color: #00ffaf; text-decoration-color: #00ffaf\">INFO    </span> <span style=\"color: #c6c6c6; text-decoration-color: #c6c6c6; font-weight: bold\">                      timefield = </span><span style=\"color: #c0c0c0; text-decoration-color: #c0c0c0; font-weight: bold\">2010</span><span style=\"color: #c6c6c6; text-decoration-color: #c6c6c6; font-weight: bold\">-</span><span style=\"color: #c0c0c0; text-decoration-color: #c0c0c0; font-weight: bold\">01</span><span style=\"color: #c6c6c6; text-decoration-color: #c6c6c6; font-weight: bold\">-</span><span style=\"color: #c0c0c0; text-decoration-color: #c0c0c0; font-weight: bold\">01</span><span style=\"color: #c6c6c6; text-decoration-color: #c6c6c6; font-weight: bold\"> </span><span style=\"color: #00ff00; text-decoration-color: #00ff00; font-weight: bold\">00:00:00</span><span style=\"color: #c6c6c6; text-decoration-color: #c6c6c6; font-weight: bold\">,</span><span style=\"color: #c0c0c0; text-decoration-color: #c0c0c0; font-weight: bold\">2010</span><span style=\"color: #c6c6c6; text-decoration-color: #c6c6c6; font-weight: bold\">-</span><span style=\"color: #c0c0c0; text-decoration-color: #c0c0c0; font-weight: bold\">02</span><span style=\"color: #c6c6c6; text-decoration-color: #c6c6c6; font-weight: bold\">-</span><span style=\"color: #c0c0c0; text-decoration-color: #c0c0c0; font-weight: bold\">01</span><span style=\"color: #c6c6c6; text-decoration-color: #c6c6c6; font-weight: bold\">         </span><a href=\"file:///Users/runner/work/threeML/threeML/threeML/utils/data_download/Fermi_LAT/download_LAT_data.py\" target=\"_blank\"><span style=\"color: #7f7f7f; text-decoration-color: #7f7f7f\">download_LAT_data.py</span></a><span style=\"color: #7f7f7f; text-decoration-color: #7f7f7f\">:</span><a href=\"file:///Users/runner/work/threeML/threeML/threeML/utils/data_download/Fermi_LAT/download_LAT_data.py#266\" target=\"_blank\"><span style=\"color: #7f7f7f; text-decoration-color: #7f7f7f\">266</span></a>\n",
       "<span style=\"color: #00ff00; text-decoration-color: #00ff00\">         </span>         <span style=\"color: #00ff00; text-decoration-color: #00ff00; font-weight: bold\">00:00:00</span><span style=\"color: #c6c6c6; text-decoration-color: #c6c6c6; font-weight: bold\">                                                                 </span><span style=\"color: #7f7f7f; text-decoration-color: #7f7f7f\">                        </span>\n",
       "</pre>\n"
      ],
      "text/plain": [
       "\u001b[38;5;46m        \u001b[0m\u001b[38;5;46m \u001b[0m\u001b[38;5;49mINFO    \u001b[0m \u001b[1;38;5;251m                      timefield = \u001b[0m\u001b[1;37m2010\u001b[0m\u001b[1;38;5;251m-\u001b[0m\u001b[1;37m01\u001b[0m\u001b[1;38;5;251m-\u001b[0m\u001b[1;37m01\u001b[0m\u001b[1;38;5;251m \u001b[0m\u001b[1;92m00:00:00\u001b[0m\u001b[1;38;5;251m,\u001b[0m\u001b[1;37m2010\u001b[0m\u001b[1;38;5;251m-\u001b[0m\u001b[1;37m02\u001b[0m\u001b[1;38;5;251m-\u001b[0m\u001b[1;37m01\u001b[0m\u001b[1;38;5;251m        \u001b[0m\u001b[1;38;5;251m \u001b[0m\u001b]8;id=132436;file:///Users/runner/work/threeML/threeML/threeML/utils/data_download/Fermi_LAT/download_LAT_data.py\u001b\\\u001b[2mdownload_LAT_data.py\u001b[0m\u001b]8;;\u001b\\\u001b[2m:\u001b[0m\u001b]8;id=959162;file:///Users/runner/work/threeML/threeML/threeML/utils/data_download/Fermi_LAT/download_LAT_data.py#266\u001b\\\u001b[2m266\u001b[0m\u001b]8;;\u001b\\\n",
       "\u001b[38;5;46m         \u001b[0m         \u001b[1;92m00:00:00\u001b[0m\u001b[1;38;5;251m                                                                \u001b[0m\u001b[1;38;5;251m \u001b[0m\u001b[2m                        \u001b[0m\n"
      ]
     },
     "metadata": {},
     "output_type": "display_data"
    },
    {
     "data": {
      "text/html": [
       "<pre style=\"white-space:pre;overflow-x:auto;line-height:normal;font-family:Menlo,'DejaVu Sans Mono',consolas,'Courier New',monospace\"><span style=\"color: #00ff00; text-decoration-color: #00ff00\">         </span><span style=\"color: #00ffaf; text-decoration-color: #00ffaf\">INFO    </span> <span style=\"color: #c6c6c6; text-decoration-color: #c6c6c6; font-weight: bold\">                       timetype = Gregorian                              </span><a href=\"file:///Users/runner/work/threeML/threeML/threeML/utils/data_download/Fermi_LAT/download_LAT_data.py\" target=\"_blank\"><span style=\"color: #7f7f7f; text-decoration-color: #7f7f7f\">download_LAT_data.py</span></a><span style=\"color: #7f7f7f; text-decoration-color: #7f7f7f\">:</span><a href=\"file:///Users/runner/work/threeML/threeML/threeML/utils/data_download/Fermi_LAT/download_LAT_data.py#266\" target=\"_blank\"><span style=\"color: #7f7f7f; text-decoration-color: #7f7f7f\">266</span></a>\n",
       "</pre>\n"
      ],
      "text/plain": [
       "\u001b[38;5;46m        \u001b[0m\u001b[38;5;46m \u001b[0m\u001b[38;5;49mINFO    \u001b[0m \u001b[1;38;5;251m                       timetype = Gregorian                             \u001b[0m\u001b[1;38;5;251m \u001b[0m\u001b]8;id=183998;file:///Users/runner/work/threeML/threeML/threeML/utils/data_download/Fermi_LAT/download_LAT_data.py\u001b\\\u001b[2mdownload_LAT_data.py\u001b[0m\u001b]8;;\u001b\\\u001b[2m:\u001b[0m\u001b]8;id=111581;file:///Users/runner/work/threeML/threeML/threeML/utils/data_download/Fermi_LAT/download_LAT_data.py#266\u001b\\\u001b[2m266\u001b[0m\u001b]8;;\u001b\\\n"
      ]
     },
     "metadata": {},
     "output_type": "display_data"
    },
    {
     "data": {
      "text/html": [
       "<pre style=\"white-space:pre;overflow-x:auto;line-height:normal;font-family:Menlo,'DejaVu Sans Mono',consolas,'Courier New',monospace\"><span style=\"color: #00ff00; text-decoration-color: #00ff00\">         </span><span style=\"color: #00ffaf; text-decoration-color: #00ffaf\">INFO    </span> <span style=\"color: #c6c6c6; text-decoration-color: #c6c6c6; font-weight: bold\">                    energyfield = </span><span style=\"color: #c0c0c0; text-decoration-color: #c0c0c0; font-weight: bold\">30.000</span><span style=\"color: #c6c6c6; text-decoration-color: #c6c6c6; font-weight: bold\">,</span><span style=\"color: #c0c0c0; text-decoration-color: #c0c0c0; font-weight: bold\">1000000.000</span><span style=\"color: #c6c6c6; text-decoration-color: #c6c6c6; font-weight: bold\">                     </span><a href=\"file:///Users/runner/work/threeML/threeML/threeML/utils/data_download/Fermi_LAT/download_LAT_data.py\" target=\"_blank\"><span style=\"color: #7f7f7f; text-decoration-color: #7f7f7f\">download_LAT_data.py</span></a><span style=\"color: #7f7f7f; text-decoration-color: #7f7f7f\">:</span><a href=\"file:///Users/runner/work/threeML/threeML/threeML/utils/data_download/Fermi_LAT/download_LAT_data.py#266\" target=\"_blank\"><span style=\"color: #7f7f7f; text-decoration-color: #7f7f7f\">266</span></a>\n",
       "</pre>\n"
      ],
      "text/plain": [
       "\u001b[38;5;46m        \u001b[0m\u001b[38;5;46m \u001b[0m\u001b[38;5;49mINFO    \u001b[0m \u001b[1;38;5;251m                    energyfield = \u001b[0m\u001b[1;37m30.000\u001b[0m\u001b[1;38;5;251m,\u001b[0m\u001b[1;37m1000000.000\u001b[0m\u001b[1;38;5;251m                    \u001b[0m\u001b[1;38;5;251m \u001b[0m\u001b]8;id=819520;file:///Users/runner/work/threeML/threeML/threeML/utils/data_download/Fermi_LAT/download_LAT_data.py\u001b\\\u001b[2mdownload_LAT_data.py\u001b[0m\u001b]8;;\u001b\\\u001b[2m:\u001b[0m\u001b]8;id=651549;file:///Users/runner/work/threeML/threeML/threeML/utils/data_download/Fermi_LAT/download_LAT_data.py#266\u001b\\\u001b[2m266\u001b[0m\u001b]8;;\u001b\\\n"
      ]
     },
     "metadata": {},
     "output_type": "display_data"
    },
    {
     "data": {
      "text/html": [
       "<pre style=\"white-space:pre;overflow-x:auto;line-height:normal;font-family:Menlo,'DejaVu Sans Mono',consolas,'Courier New',monospace\"><span style=\"color: #00ff00; text-decoration-color: #00ff00\">         </span><span style=\"color: #00ffaf; text-decoration-color: #00ffaf\">INFO    </span> <span style=\"color: #c6c6c6; text-decoration-color: #c6c6c6; font-weight: bold\">         photonOrExtendedOrNone = Photon                                 </span><a href=\"file:///Users/runner/work/threeML/threeML/threeML/utils/data_download/Fermi_LAT/download_LAT_data.py\" target=\"_blank\"><span style=\"color: #7f7f7f; text-decoration-color: #7f7f7f\">download_LAT_data.py</span></a><span style=\"color: #7f7f7f; text-decoration-color: #7f7f7f\">:</span><a href=\"file:///Users/runner/work/threeML/threeML/threeML/utils/data_download/Fermi_LAT/download_LAT_data.py#266\" target=\"_blank\"><span style=\"color: #7f7f7f; text-decoration-color: #7f7f7f\">266</span></a>\n",
       "</pre>\n"
      ],
      "text/plain": [
       "\u001b[38;5;46m        \u001b[0m\u001b[38;5;46m \u001b[0m\u001b[38;5;49mINFO    \u001b[0m \u001b[1;38;5;251m         photonOrExtendedOrNone = Photon                                \u001b[0m\u001b[1;38;5;251m \u001b[0m\u001b]8;id=368516;file:///Users/runner/work/threeML/threeML/threeML/utils/data_download/Fermi_LAT/download_LAT_data.py\u001b\\\u001b[2mdownload_LAT_data.py\u001b[0m\u001b]8;;\u001b\\\u001b[2m:\u001b[0m\u001b]8;id=648739;file:///Users/runner/work/threeML/threeML/threeML/utils/data_download/Fermi_LAT/download_LAT_data.py#266\u001b\\\u001b[2m266\u001b[0m\u001b]8;;\u001b\\\n"
      ]
     },
     "metadata": {},
     "output_type": "display_data"
    },
    {
     "data": {
      "text/html": [
       "<pre style=\"white-space:pre;overflow-x:auto;line-height:normal;font-family:Menlo,'DejaVu Sans Mono',consolas,'Courier New',monospace\"><span style=\"color: #00ff00; text-decoration-color: #00ff00\">         </span><span style=\"color: #00ffaf; text-decoration-color: #00ffaf\">INFO    </span> <span style=\"color: #c6c6c6; text-decoration-color: #c6c6c6; font-weight: bold\">                    destination = query                                  </span><a href=\"file:///Users/runner/work/threeML/threeML/threeML/utils/data_download/Fermi_LAT/download_LAT_data.py\" target=\"_blank\"><span style=\"color: #7f7f7f; text-decoration-color: #7f7f7f\">download_LAT_data.py</span></a><span style=\"color: #7f7f7f; text-decoration-color: #7f7f7f\">:</span><a href=\"file:///Users/runner/work/threeML/threeML/threeML/utils/data_download/Fermi_LAT/download_LAT_data.py#266\" target=\"_blank\"><span style=\"color: #7f7f7f; text-decoration-color: #7f7f7f\">266</span></a>\n",
       "</pre>\n"
      ],
      "text/plain": [
       "\u001b[38;5;46m        \u001b[0m\u001b[38;5;46m \u001b[0m\u001b[38;5;49mINFO    \u001b[0m \u001b[1;38;5;251m                    destination = query                                 \u001b[0m\u001b[1;38;5;251m \u001b[0m\u001b]8;id=941161;file:///Users/runner/work/threeML/threeML/threeML/utils/data_download/Fermi_LAT/download_LAT_data.py\u001b\\\u001b[2mdownload_LAT_data.py\u001b[0m\u001b]8;;\u001b\\\u001b[2m:\u001b[0m\u001b]8;id=251507;file:///Users/runner/work/threeML/threeML/threeML/utils/data_download/Fermi_LAT/download_LAT_data.py#266\u001b\\\u001b[2m266\u001b[0m\u001b]8;;\u001b\\\n"
      ]
     },
     "metadata": {},
     "output_type": "display_data"
    },
    {
     "data": {
      "text/html": [
       "<pre style=\"white-space:pre;overflow-x:auto;line-height:normal;font-family:Menlo,'DejaVu Sans Mono',consolas,'Courier New',monospace\"><span style=\"color: #00ff00; text-decoration-color: #00ff00\">         </span><span style=\"color: #00ffaf; text-decoration-color: #00ffaf\">INFO    </span> <span style=\"color: #c6c6c6; text-decoration-color: #c6c6c6; font-weight: bold\">                     spacecraft = checked                                </span><a href=\"file:///Users/runner/work/threeML/threeML/threeML/utils/data_download/Fermi_LAT/download_LAT_data.py\" target=\"_blank\"><span style=\"color: #7f7f7f; text-decoration-color: #7f7f7f\">download_LAT_data.py</span></a><span style=\"color: #7f7f7f; text-decoration-color: #7f7f7f\">:</span><a href=\"file:///Users/runner/work/threeML/threeML/threeML/utils/data_download/Fermi_LAT/download_LAT_data.py#266\" target=\"_blank\"><span style=\"color: #7f7f7f; text-decoration-color: #7f7f7f\">266</span></a>\n",
       "</pre>\n"
      ],
      "text/plain": [
       "\u001b[38;5;46m        \u001b[0m\u001b[38;5;46m \u001b[0m\u001b[38;5;49mINFO    \u001b[0m \u001b[1;38;5;251m                     spacecraft = checked                               \u001b[0m\u001b[1;38;5;251m \u001b[0m\u001b]8;id=302489;file:///Users/runner/work/threeML/threeML/threeML/utils/data_download/Fermi_LAT/download_LAT_data.py\u001b\\\u001b[2mdownload_LAT_data.py\u001b[0m\u001b]8;;\u001b\\\u001b[2m:\u001b[0m\u001b]8;id=777854;file:///Users/runner/work/threeML/threeML/threeML/utils/data_download/Fermi_LAT/download_LAT_data.py#266\u001b\\\u001b[2m266\u001b[0m\u001b]8;;\u001b\\\n"
      ]
     },
     "metadata": {},
     "output_type": "display_data"
    },
    {
     "data": {
      "text/html": [
       "<pre style=\"white-space:pre;overflow-x:auto;line-height:normal;font-family:Menlo,'DejaVu Sans Mono',consolas,'Courier New',monospace\"><span style=\"color: #00ff00; text-decoration-color: #00ff00\">         </span><span style=\"color: #00ffaf; text-decoration-color: #00ffaf\">INFO    </span> <span style=\"color: #c6c6c6; text-decoration-color: #c6c6c6; font-weight: bold\"> Query ID: b7ba925258c89244b49cc1889e66d453                              </span><a href=\"file:///Users/runner/work/threeML/threeML/threeML/utils/data_download/Fermi_LAT/download_LAT_data.py\" target=\"_blank\"><span style=\"color: #7f7f7f; text-decoration-color: #7f7f7f\">download_LAT_data.py</span></a><span style=\"color: #7f7f7f; text-decoration-color: #7f7f7f\">:</span><a href=\"file:///Users/runner/work/threeML/threeML/threeML/utils/data_download/Fermi_LAT/download_LAT_data.py#271\" target=\"_blank\"><span style=\"color: #7f7f7f; text-decoration-color: #7f7f7f\">271</span></a>\n",
       "</pre>\n"
      ],
      "text/plain": [
       "\u001b[38;5;46m        \u001b[0m\u001b[38;5;46m \u001b[0m\u001b[38;5;49mINFO    \u001b[0m \u001b[1;38;5;251m Query ID: b7ba925258c89244b49cc1889e66d453                             \u001b[0m\u001b[1;38;5;251m \u001b[0m\u001b]8;id=433505;file:///Users/runner/work/threeML/threeML/threeML/utils/data_download/Fermi_LAT/download_LAT_data.py\u001b\\\u001b[2mdownload_LAT_data.py\u001b[0m\u001b]8;;\u001b\\\u001b[2m:\u001b[0m\u001b]8;id=894299;file:///Users/runner/work/threeML/threeML/threeML/utils/data_download/Fermi_LAT/download_LAT_data.py#271\u001b\\\u001b[2m271\u001b[0m\u001b]8;;\u001b\\\n"
      ]
     },
     "metadata": {},
     "output_type": "display_data"
    },
    {
     "data": {
      "text/html": [
       "<pre style=\"white-space:pre;overflow-x:auto;line-height:normal;font-family:Menlo,'DejaVu Sans Mono',consolas,'Courier New',monospace\"><span style=\"color: #00ff00; text-decoration-color: #00ff00\">19:42:06 </span><span style=\"color: #00ffaf; text-decoration-color: #00ffaf\">INFO    </span> <span style=\"color: #c6c6c6; text-decoration-color: #c6c6c6; font-weight: bold\"> Estimated complete time for your query: </span><span style=\"color: #c0c0c0; text-decoration-color: #c0c0c0; font-weight: bold\">13</span><span style=\"color: #c6c6c6; text-decoration-color: #c6c6c6; font-weight: bold\"> seconds                      </span><a href=\"file:///Users/runner/work/threeML/threeML/threeML/utils/data_download/Fermi_LAT/download_LAT_data.py\" target=\"_blank\"><span style=\"color: #7f7f7f; text-decoration-color: #7f7f7f\">download_LAT_data.py</span></a><span style=\"color: #7f7f7f; text-decoration-color: #7f7f7f\">:</span><a href=\"file:///Users/runner/work/threeML/threeML/threeML/utils/data_download/Fermi_LAT/download_LAT_data.py#428\" target=\"_blank\"><span style=\"color: #7f7f7f; text-decoration-color: #7f7f7f\">428</span></a>\n",
       "</pre>\n"
      ],
      "text/plain": [
       "\u001b[38;5;46m19:42:06\u001b[0m\u001b[38;5;46m \u001b[0m\u001b[38;5;49mINFO    \u001b[0m \u001b[1;38;5;251m Estimated complete time for your query: \u001b[0m\u001b[1;37m13\u001b[0m\u001b[1;38;5;251m seconds                     \u001b[0m\u001b[1;38;5;251m \u001b[0m\u001b]8;id=734628;file:///Users/runner/work/threeML/threeML/threeML/utils/data_download/Fermi_LAT/download_LAT_data.py\u001b\\\u001b[2mdownload_LAT_data.py\u001b[0m\u001b]8;;\u001b\\\u001b[2m:\u001b[0m\u001b]8;id=869308;file:///Users/runner/work/threeML/threeML/threeML/utils/data_download/Fermi_LAT/download_LAT_data.py#428\u001b\\\u001b[2m428\u001b[0m\u001b]8;;\u001b\\\n"
      ]
     },
     "metadata": {},
     "output_type": "display_data"
    },
    {
     "data": {
      "text/html": [
       "<pre style=\"white-space:pre;overflow-x:auto;line-height:normal;font-family:Menlo,'DejaVu Sans Mono',consolas,'Courier New',monospace\"><span style=\"color: #00ff00; text-decoration-color: #00ff00\">         </span><span style=\"color: #00ffaf; text-decoration-color: #00ffaf\">INFO    </span> <span style=\"color: #c6c6c6; text-decoration-color: #c6c6c6; font-weight: bold\"> If this download fails, you can find your data at                       </span><a href=\"file:///Users/runner/work/threeML/threeML/threeML/utils/data_download/Fermi_LAT/download_LAT_data.py\" target=\"_blank\"><span style=\"color: #7f7f7f; text-decoration-color: #7f7f7f\">download_LAT_data.py</span></a><span style=\"color: #7f7f7f; text-decoration-color: #7f7f7f\">:</span><a href=\"file:///Users/runner/work/threeML/threeML/threeML/utils/data_download/Fermi_LAT/download_LAT_data.py#437\" target=\"_blank\"><span style=\"color: #7f7f7f; text-decoration-color: #7f7f7f\">437</span></a>\n",
       "<span style=\"color: #00ff00; text-decoration-color: #00ff00\">         </span>         <span style=\"color: #d7d7d7; text-decoration-color: #d7d7d7; text-decoration: underline\">https://fermi.gsfc.nasa.gov/cgi-bin/ssc/LAT/QueryResults.cgi?id=L2402081</span><span style=\"color: #c6c6c6; text-decoration-color: #c6c6c6; font-weight: bold\"> </span><span style=\"color: #7f7f7f; text-decoration-color: #7f7f7f\">                        </span>\n",
       "<span style=\"color: #00ff00; text-decoration-color: #00ff00\">         </span>         <span style=\"color: #d7d7d7; text-decoration-color: #d7d7d7; text-decoration: underline\">44207BF968AF283</span><span style=\"color: #c6c6c6; text-decoration-color: #c6c6c6; font-weight: bold\"> (when ready)                                             </span><span style=\"color: #7f7f7f; text-decoration-color: #7f7f7f\">                        </span>\n",
       "</pre>\n"
      ],
      "text/plain": [
       "\u001b[38;5;46m        \u001b[0m\u001b[38;5;46m \u001b[0m\u001b[38;5;49mINFO    \u001b[0m \u001b[1;38;5;251m If this download fails, you can find your data at                      \u001b[0m\u001b[1;38;5;251m \u001b[0m\u001b]8;id=223334;file:///Users/runner/work/threeML/threeML/threeML/utils/data_download/Fermi_LAT/download_LAT_data.py\u001b\\\u001b[2mdownload_LAT_data.py\u001b[0m\u001b]8;;\u001b\\\u001b[2m:\u001b[0m\u001b]8;id=341509;file:///Users/runner/work/threeML/threeML/threeML/utils/data_download/Fermi_LAT/download_LAT_data.py#437\u001b\\\u001b[2m437\u001b[0m\u001b]8;;\u001b\\\n",
       "\u001b[38;5;46m         \u001b[0m         \u001b[4;38;5;188mhttps://fermi.gsfc.nasa.gov/cgi-bin/ssc/LAT/QueryResults.cgi?\u001b[0m\u001b[4;38;5;188mid\u001b[0m\u001b[4;38;5;188m=\u001b[0m\u001b[4;38;5;188mL2402081\u001b[0m\u001b[1;38;5;251m \u001b[0m\u001b[2m                        \u001b[0m\n",
       "\u001b[38;5;46m         \u001b[0m         \u001b[4;38;5;188m44207BF968AF283\u001b[0m\u001b[1;38;5;251m \u001b[0m\u001b[1;38;5;251m(\u001b[0m\u001b[1;38;5;251mwhen ready\u001b[0m\u001b[1;38;5;251m)\u001b[0m\u001b[1;38;5;251m                                            \u001b[0m\u001b[1;38;5;251m \u001b[0m\u001b[2m                        \u001b[0m\n"
      ]
     },
     "metadata": {},
     "output_type": "display_data"
    },
    {
     "data": {
      "text/html": [
       "<pre style=\"white-space:pre;overflow-x:auto;line-height:normal;font-family:Menlo,'DejaVu Sans Mono',consolas,'Courier New',monospace\"><span style=\"color: #00ff00; text-decoration-color: #00ff00\">19:42:14 </span><span style=\"color: #00ffaf; text-decoration-color: #00ffaf\">INFO    </span> <span style=\"color: #c6c6c6; text-decoration-color: #c6c6c6; font-weight: bold\"> Downloading FT1 and FT2 files</span><span style=\"color: #808000; text-decoration-color: #808000; font-weight: bold\">...</span><span style=\"color: #c6c6c6; text-decoration-color: #c6c6c6; font-weight: bold\">                                        </span><a href=\"file:///Users/runner/work/threeML/threeML/threeML/utils/data_download/Fermi_LAT/download_LAT_data.py\" target=\"_blank\"><span style=\"color: #7f7f7f; text-decoration-color: #7f7f7f\">download_LAT_data.py</span></a><span style=\"color: #7f7f7f; text-decoration-color: #7f7f7f\">:</span><a href=\"file:///Users/runner/work/threeML/threeML/threeML/utils/data_download/Fermi_LAT/download_LAT_data.py#527\" target=\"_blank\"><span style=\"color: #7f7f7f; text-decoration-color: #7f7f7f\">527</span></a>\n",
       "</pre>\n"
      ],
      "text/plain": [
       "\u001b[38;5;46m19:42:14\u001b[0m\u001b[38;5;46m \u001b[0m\u001b[38;5;49mINFO    \u001b[0m \u001b[1;38;5;251m Downloading FT1 and FT2 files\u001b[0m\u001b[1;33m...\u001b[0m\u001b[1;38;5;251m                                       \u001b[0m\u001b[1;38;5;251m \u001b[0m\u001b]8;id=245467;file:///Users/runner/work/threeML/threeML/threeML/utils/data_download/Fermi_LAT/download_LAT_data.py\u001b\\\u001b[2mdownload_LAT_data.py\u001b[0m\u001b]8;;\u001b\\\u001b[2m:\u001b[0m\u001b]8;id=845243;file:///Users/runner/work/threeML/threeML/threeML/utils/data_download/Fermi_LAT/download_LAT_data.py#527\u001b\\\u001b[2m527\u001b[0m\u001b]8;;\u001b\\\n"
      ]
     },
     "metadata": {},
     "output_type": "display_data"
    },
    {
     "data": {
      "application/vnd.jupyter.widget-view+json": {
       "model_id": "a7e89ce5e8d841b6a7d5556699edd66c",
       "version_major": 2,
       "version_minor": 0
      },
      "text/plain": [
       "Downloading L240208144207BF968AF283_PH00.fits:   0%|          | 0.00/16.3M [00:00<?, ?B/s]"
      ]
     },
     "metadata": {},
     "output_type": "display_data"
    },
    {
     "data": {
      "application/vnd.jupyter.widget-view+json": {
       "model_id": "c8a774b1d02e4383908f36f8ee062e8a",
       "version_major": 2,
       "version_minor": 0
      },
      "text/plain": [
       "Downloading L240208144207BF968AF283_SC00.fits:   0%|          | 0.00/11.9M [00:00<?, ?B/s]"
      ]
     },
     "metadata": {},
     "output_type": "display_data"
    }
   ],
   "source": [
    "# Download data from Jan 01 2010 to February 1 2010\n",
    "\n",
    "tstart = \"2010-01-01 00:00:00\"\n",
    "tstop = \"2010-02-01 00:00:00\"\n",
    "\n",
    "# Note that this will understand if you already download these files, and will\n",
    "# not do it twice unless you change your selection or the outdir\n",
    "\n",
    "evfile, scfile = download_LAT_data(\n",
    "    ra,\n",
    "    dec,\n",
    "    20.0,\n",
    "    tstart,\n",
    "    tstop,\n",
    "    time_type=\"Gregorian\",\n",
    "    destination_directory=\"Crab_data\",\n",
    ")"
   ]
  },
  {
   "cell_type": "markdown",
   "id": "2a4e6fca",
   "metadata": {},
   "source": [
    "## Configuration for Fermipy\n",
    "\n",
    "3ML provides and intreface into [Fermipy](https://fermipy.readthedocs.io/en/latest/) via the **FermipyLike** plugin. We can use it to generate basic configuration files.\n"
   ]
  },
  {
   "cell_type": "markdown",
   "id": "4d3c76a0",
   "metadata": {},
   "source": [
    ".. note::\n",
    "    Currently, the FermipyLike plugin does not provide an interface to handle extended sources. This will change\n"
   ]
  },
  {
   "cell_type": "code",
   "execution_count": 10,
   "id": "145866b5",
   "metadata": {
    "execution": {
     "iopub.execute_input": "2024-02-08T19:42:38.064401Z",
     "iopub.status.busy": "2024-02-08T19:42:38.063970Z",
     "iopub.status.idle": "2024-02-08T19:42:38.090232Z",
     "shell.execute_reply": "2024-02-08T19:42:38.088958Z"
    }
   },
   "outputs": [
    {
     "name": "stdout",
     "output_type": "stream",
     "text": [
      "binning:\n",
      "  binsperdec: 8\n",
      "  binsz: 0.1\n",
      "  roiwidth: 10.0\n",
      "data:\n",
      "  evfile: /Users/runner/work/threeML/threeML/docs/md_docs/slow_execute/Crab_data/Lb7ba925258c89244b49cc1889e66d453_FT1.fits\n",
      "  scfile: /Users/runner/work/threeML/threeML/docs/md_docs/slow_execute/Crab_data/L240208144207BF968AF283_SC00.fits\n",
      "logging:\n",
      "  chatter: 0\n",
      "  verbosity: 1\n",
      "selection:\n",
      "  dec: 22.014694786873797\n",
      "  emax: 100000.0\n",
      "  emin: 100.0\n",
      "  evclass: 128\n",
      "  evtype: 3\n",
      "  filter: DATA_QUAL>0 && LAT_CONFIG==1\n",
      "  ra: 83.62870762486367\n",
      "  tmax: 286675202.0\n",
      "  tmin: 283996802.0\n",
      "  zmax: 100.0\n",
      "\n"
     ]
    },
    {
     "data": {
      "text/html": [
       "<pre>binning:\n",
       "  binsperdec: 8\n",
       "  binsz: 0.1\n",
       "  roiwidth: 10.0\n",
       "data:\n",
       "  evfile: /Users/runner/work/threeML/threeML/docs/md_docs/slow_execute/Crab_data/Lb7ba925258c89244b49cc1889e66d453_FT1.fits\n",
       "  scfile: /Users/runner/work/threeML/threeML/docs/md_docs/slow_execute/Crab_data/L240208144207BF968AF283_SC00.fits\n",
       "logging:\n",
       "  chatter: 0\n",
       "  verbosity: 1\n",
       "selection:\n",
       "  dec: 22.014694786873797\n",
       "  emax: 100000.0\n",
       "  emin: 100.0\n",
       "  evclass: 128\n",
       "  evtype: 3\n",
       "  filter: DATA_QUAL>0 && LAT_CONFIG==1\n",
       "  ra: 83.62870762486367\n",
       "  tmax: 286675202.0\n",
       "  tmin: 283996802.0\n",
       "  zmax: 100.0\n",
       "</pre>"
      ],
      "text/plain": []
     },
     "metadata": {},
     "output_type": "display_data"
    }
   ],
   "source": [
    "config = FermipyLike.get_basic_config(\n",
    "    evfile=evfile,\n",
    "    scfile=scfile,\n",
    "    ra=ra,\n",
    "    dec=dec,\n",
    "    fermipy_verbosity=1,\n",
    "    fermitools_chatter=0,\n",
    ")\n",
    "\n",
    "# See what we just got\n",
    "\n",
    "config.display()"
   ]
  },
  {
   "cell_type": "markdown",
   "id": "13129330",
   "metadata": {},
   "source": [
    "You can of course modify the configuration as a dictionary"
   ]
  },
  {
   "cell_type": "code",
   "execution_count": 11,
   "id": "56fe3bb4",
   "metadata": {
    "execution": {
     "iopub.execute_input": "2024-02-08T19:42:38.096343Z",
     "iopub.status.busy": "2024-02-08T19:42:38.095992Z",
     "iopub.status.idle": "2024-02-08T19:42:38.102820Z",
     "shell.execute_reply": "2024-02-08T19:42:38.101599Z"
    }
   },
   "outputs": [],
   "source": [
    "config[\"selection\"][\"emax\"] = 300000.0"
   ]
  },
  {
   "cell_type": "markdown",
   "id": "143ee6e7",
   "metadata": {},
   "source": [
    "and even add sections"
   ]
  },
  {
   "cell_type": "code",
   "execution_count": 12,
   "id": "c84e8894",
   "metadata": {
    "execution": {
     "iopub.execute_input": "2024-02-08T19:42:38.108653Z",
     "iopub.status.busy": "2024-02-08T19:42:38.108312Z",
     "iopub.status.idle": "2024-02-08T19:42:38.120434Z",
     "shell.execute_reply": "2024-02-08T19:42:38.118922Z"
    }
   },
   "outputs": [
    {
     "name": "stdout",
     "output_type": "stream",
     "text": [
      "binning:\n",
      "  binsperdec: 8\n",
      "  binsz: 0.1\n",
      "  roiwidth: 10.0\n",
      "data:\n",
      "  evfile: /Users/runner/work/threeML/threeML/docs/md_docs/slow_execute/Crab_data/Lb7ba925258c89244b49cc1889e66d453_FT1.fits\n",
      "  scfile: /Users/runner/work/threeML/threeML/docs/md_docs/slow_execute/Crab_data/L240208144207BF968AF283_SC00.fits\n",
      "gtlike:\n",
      "  edisp: false\n",
      "logging:\n",
      "  chatter: 0\n",
      "  verbosity: 1\n",
      "selection:\n",
      "  dec: 22.014694786873797\n",
      "  emax: 300000.0\n",
      "  emin: 100.0\n",
      "  evclass: 128\n",
      "  evtype: 3\n",
      "  filter: DATA_QUAL>0 && LAT_CONFIG==1\n",
      "  ra: 83.62870762486367\n",
      "  tmax: 286675202.0\n",
      "  tmin: 283996802.0\n",
      "  zmax: 100.0\n",
      "\n"
     ]
    },
    {
     "data": {
      "text/html": [
       "<pre>binning:\n",
       "  binsperdec: 8\n",
       "  binsz: 0.1\n",
       "  roiwidth: 10.0\n",
       "data:\n",
       "  evfile: /Users/runner/work/threeML/threeML/docs/md_docs/slow_execute/Crab_data/Lb7ba925258c89244b49cc1889e66d453_FT1.fits\n",
       "  scfile: /Users/runner/work/threeML/threeML/docs/md_docs/slow_execute/Crab_data/L240208144207BF968AF283_SC00.fits\n",
       "gtlike:\n",
       "  edisp: false\n",
       "logging:\n",
       "  chatter: 0\n",
       "  verbosity: 1\n",
       "selection:\n",
       "  dec: 22.014694786873797\n",
       "  emax: 300000.0\n",
       "  emin: 100.0\n",
       "  evclass: 128\n",
       "  evtype: 3\n",
       "  filter: DATA_QUAL>0 && LAT_CONFIG==1\n",
       "  ra: 83.62870762486367\n",
       "  tmax: 286675202.0\n",
       "  tmin: 283996802.0\n",
       "  zmax: 100.0\n",
       "</pre>"
      ],
      "text/plain": []
     },
     "metadata": {},
     "output_type": "display_data"
    }
   ],
   "source": [
    "config[\"gtlike\"] = {\"edisp\": False}\n",
    "\n",
    "config.display()"
   ]
  },
  {
   "cell_type": "markdown",
   "id": "40ad7451",
   "metadata": {},
   "source": [
    "### FermipyLike\n",
    "Let's create an instance of the plugin/ Note that here no processing is made, because fermipy still doesn't know about the model you want to use.\n",
    "\n"
   ]
  },
  {
   "cell_type": "code",
   "execution_count": 13,
   "id": "5c0982b7",
   "metadata": {
    "execution": {
     "iopub.execute_input": "2024-02-08T19:42:38.126208Z",
     "iopub.status.busy": "2024-02-08T19:42:38.125854Z",
     "iopub.status.idle": "2024-02-08T19:42:38.756362Z",
     "shell.execute_reply": "2024-02-08T19:42:38.754437Z"
    }
   },
   "outputs": [],
   "source": [
    "LAT = FermipyLike(\"LAT\", config)"
   ]
  },
  {
   "cell_type": "markdown",
   "id": "8007c8d6",
   "metadata": {},
   "source": [
    "The plugin modifies the configuration as needed to get the output files in a unique place, which will stay the same as long as your selection does not change."
   ]
  },
  {
   "cell_type": "code",
   "execution_count": 14,
   "id": "2176434c",
   "metadata": {
    "execution": {
     "iopub.execute_input": "2024-02-08T19:42:38.765772Z",
     "iopub.status.busy": "2024-02-08T19:42:38.764032Z",
     "iopub.status.idle": "2024-02-08T19:42:38.787394Z",
     "shell.execute_reply": "2024-02-08T19:42:38.784749Z"
    }
   },
   "outputs": [
    {
     "name": "stdout",
     "output_type": "stream",
     "text": [
      "binning:\n",
      "  binsperdec: 8\n",
      "  binsz: 0.1\n",
      "  roiwidth: 10.0\n",
      "data:\n",
      "  evfile: /Users/runner/work/threeML/threeML/docs/md_docs/slow_execute/Crab_data/Lb7ba925258c89244b49cc1889e66d453_FT1.fits\n",
      "  scfile: /Users/runner/work/threeML/threeML/docs/md_docs/slow_execute/Crab_data/L240208144207BF968AF283_SC00.fits\n",
      "fileio:\n",
      "  outdir: __298233397830e609adaf52008fc62a7f\n",
      "gtlike:\n",
      "  edisp: false\n",
      "logging:\n",
      "  chatter: 0\n",
      "  verbosity: 1\n",
      "selection:\n",
      "  dec: 22.014694786873797\n",
      "  emax: 300000.0\n",
      "  emin: 100.0\n",
      "  evclass: 128\n",
      "  evtype: 3\n",
      "  filter: DATA_QUAL>0 && LAT_CONFIG==1\n",
      "  ra: 83.62870762486367\n",
      "  tmax: 286675202.0\n",
      "  tmin: 283996802.0\n",
      "  zmax: 100.0\n",
      "\n"
     ]
    },
    {
     "data": {
      "text/html": [
       "<pre>binning:\n",
       "  binsperdec: 8\n",
       "  binsz: 0.1\n",
       "  roiwidth: 10.0\n",
       "data:\n",
       "  evfile: /Users/runner/work/threeML/threeML/docs/md_docs/slow_execute/Crab_data/Lb7ba925258c89244b49cc1889e66d453_FT1.fits\n",
       "  scfile: /Users/runner/work/threeML/threeML/docs/md_docs/slow_execute/Crab_data/L240208144207BF968AF283_SC00.fits\n",
       "fileio:\n",
       "  outdir: __298233397830e609adaf52008fc62a7f\n",
       "gtlike:\n",
       "  edisp: false\n",
       "logging:\n",
       "  chatter: 0\n",
       "  verbosity: 1\n",
       "selection:\n",
       "  dec: 22.014694786873797\n",
       "  emax: 300000.0\n",
       "  emin: 100.0\n",
       "  evclass: 128\n",
       "  evtype: 3\n",
       "  filter: DATA_QUAL>0 && LAT_CONFIG==1\n",
       "  ra: 83.62870762486367\n",
       "  tmax: 286675202.0\n",
       "  tmin: 283996802.0\n",
       "  zmax: 100.0\n",
       "</pre>"
      ],
      "text/plain": []
     },
     "metadata": {},
     "output_type": "display_data"
    }
   ],
   "source": [
    "config.display()"
   ]
  },
  {
   "cell_type": "markdown",
   "id": "a90b3cbd",
   "metadata": {},
   "source": [
    "Here is where the fermipy processing happens (the .setup method)"
   ]
  },
  {
   "cell_type": "code",
   "execution_count": 15,
   "id": "c4f07656",
   "metadata": {
    "execution": {
     "iopub.execute_input": "2024-02-08T19:42:38.795941Z",
     "iopub.status.busy": "2024-02-08T19:42:38.795307Z",
     "iopub.status.idle": "2024-02-08T19:59:19.456463Z",
     "shell.execute_reply": "2024-02-08T19:59:19.454505Z"
    }
   },
   "outputs": [
    {
     "name": "stdout",
     "output_type": "stream",
     "text": [
      "Fermipy Output directoty: __298233397830e609adaf52008fc62a7f\n"
     ]
    },
    {
     "data": {
      "text/html": [
       "<pre style=\"white-space:pre;overflow-x:auto;line-height:normal;font-family:Menlo,'DejaVu Sans Mono',consolas,'Courier New',monospace\"><span style=\"color: #00ff00; text-decoration-color: #00ff00\">19:42:38 </span><span style=\"color: #00ffaf; text-decoration-color: #00ffaf\">INFO    </span> <span style=\"color: #c6c6c6; text-decoration-color: #c6c6c6; font-weight: bold\"> Using IRFs P8R3_SOURCE_V3                                                     </span><a href=\"file:///Users/runner/work/threeML/threeML/threeML/plugins/FermipyLike.py\" target=\"_blank\"><span style=\"color: #7f7f7f; text-decoration-color: #7f7f7f\">FermipyLike.py</span></a><span style=\"color: #7f7f7f; text-decoration-color: #7f7f7f\">:</span><a href=\"file:///Users/runner/work/threeML/threeML/threeML/plugins/FermipyLike.py#126\" target=\"_blank\"><span style=\"color: #7f7f7f; text-decoration-color: #7f7f7f\">126</span></a>\n",
       "</pre>\n"
      ],
      "text/plain": [
       "\u001b[38;5;46m19:42:38\u001b[0m\u001b[38;5;46m \u001b[0m\u001b[38;5;49mINFO    \u001b[0m \u001b[1;38;5;251m Using IRFs P8R3_SOURCE_V3                                                    \u001b[0m\u001b[1;38;5;251m \u001b[0m\u001b]8;id=233146;file:///Users/runner/work/threeML/threeML/threeML/plugins/FermipyLike.py\u001b\\\u001b[2mFermipyLike.py\u001b[0m\u001b]8;;\u001b\\\u001b[2m:\u001b[0m\u001b]8;id=750070;file:///Users/runner/work/threeML/threeML/threeML/plugins/FermipyLike.py#126\u001b\\\u001b[2m126\u001b[0m\u001b]8;;\u001b\\\n"
      ]
     },
     "metadata": {},
     "output_type": "display_data"
    },
    {
     "name": "stdout",
     "output_type": "stream",
     "text": [
      "\n",
      "Found Galactic template for IRF. P8R3_SOURCE_V3: /usr/local/miniconda/envs/test_env/share/fermitools/refdata/fermi/galdiffuse/gll_iem_v07.fits\n",
      "\n",
      "Cutting the template around the ROI: \n",
      "\n"
     ]
    },
    {
     "name": "stdout",
     "output_type": "stream",
     "text": [
      "\n",
      "Found Isotropic template for irf P8R3_SOURCE_V3: /usr/local/miniconda/envs/test_env/share/fermitools/refdata/fermi/galdiffuse/iso_P8R3_SOURCE_V3_v1.txt\n"
     ]
    },
    {
     "name": "stderr",
     "output_type": "stream",
     "text": [
      "WARNING: Point source PKS_0459p060 lies 17.6405 degrees from the ROI center at RA, Dec = 83.6287, 22.0147 7.57107\n",
      "WARNING: Point source x4FGL_J0610d7p3752 lies 17.6676 degrees from the ROI center at RA, Dec = 83.6287, 22.0147 7.57107\n",
      "WARNING: Point source x4FGL_J0624d0p0855 lies 17.6938 degrees from the ROI center at RA, Dec = 83.6287, 22.0147 7.57107\n",
      "WARNING: Point source x4C_p06d21 lies 17.7181 degrees from the ROI center at RA, Dec = 83.6287, 22.0147 7.57107\n",
      "WARNING: Point source x1ES_0647p250 lies 17.73 degrees from the ROI center at RA, Dec = 83.6287, 22.0147 7.57107\n",
      "WARNING: Point source NVSS_J065035p205556 lies 17.7308 degrees from the ROI center at RA, Dec = 83.6287, 22.0147 7.57107\n",
      "WARNING: Point source x4FGL_J0551d7p0446 lies 17.737 degrees from the ROI center at RA, Dec = 83.6287, 22.0147 7.57107\n",
      "WARNING: Point source GB6_J0454p3724 lies 17.7478 degrees from the ROI center at RA, Dec = 83.6287, 22.0147 7.57107\n",
      "WARNING: Point source PSR_J0631p1036 lies 17.7855 degrees from the ROI center at RA, Dec = 83.6287, 22.0147 7.57107\n",
      "WARNING: Point source GB6_J0648p1749 lies 17.8446 degrees from the ROI center at RA, Dec = 83.6287, 22.0147 7.57107\n",
      "WARNING: Point source x4FGL_J0600d8p0509c lies 18.0094 degrees from the ROI center at RA, Dec = 83.6287, 22.0147 7.57107\n",
      "WARNING: Point source x4FGL_J0537d6p0400 lies 18.0282 degrees from the ROI center at RA, Dec = 83.6287, 22.0147 7.57107\n",
      "WARNING: Point source x4FGL_J0442d8p3609 lies 18.0627 degrees from the ROI center at RA, Dec = 83.6287, 22.0147 7.57107\n",
      "WARNING: Point source x4FGL_J0424d8p3117 lies 18.084 degrees from the ROI center at RA, Dec = 83.6287, 22.0147 7.57107\n",
      "WARNING: Point source x4FGL_J0450d7p0715 lies 18.14 degrees from the ROI center at RA, Dec = 83.6287, 22.0147 7.57107\n",
      "WARNING: Point source x4FGL_J0640d4p3307 lies 18.3188 degrees from the ROI center at RA, Dec = 83.6287, 22.0147 7.57107\n",
      "WARNING: Point source B2_0552p39A lies 18.3305 degrees from the ROI center at RA, Dec = 83.6287, 22.0147 7.57107\n",
      "WARNING: Point source x1RXS_J064814d1p160708 lies 18.3652 degrees from the ROI center at RA, Dec = 83.6287, 22.0147 7.57107\n",
      "WARNING: Point source x4FGL_J0634d7p1036 lies 18.3827 degrees from the ROI center at RA, Dec = 83.6287, 22.0147 7.57107\n",
      "WARNING: Point source MG2_J065230p1934 lies 18.3991 degrees from the ROI center at RA, Dec = 83.6287, 22.0147 7.57107\n",
      "WARNING: Point source PKS_0502p049 lies 18.4192 degrees from the ROI center at RA, Dec = 83.6287, 22.0147 7.57107\n",
      "WARNING: Point source RX_J0648d7p1516 lies 18.8123 degrees from the ROI center at RA, Dec = 83.6287, 22.0147 7.57107\n",
      "WARNING: Point source GB6_J0620p3806 lies 18.8411 degrees from the ROI center at RA, Dec = 83.6287, 22.0147 7.57107\n",
      "WARNING: Point source PSR_J0622p3749 lies 18.8574 degrees from the ROI center at RA, Dec = 83.6287, 22.0147 7.57107\n",
      "WARNING: Point source x4FGL_J0641d4p3349 lies 18.8694 degrees from the ROI center at RA, Dec = 83.6287, 22.0147 7.57107\n",
      "WARNING: Point source B2_0654p24 lies 18.8719 degrees from the ROI center at RA, Dec = 83.6287, 22.0147 7.57107\n",
      "WARNING: Point source x1RXS_J065331d8p181448 lies 18.8996 degrees from the ROI center at RA, Dec = 83.6287, 22.0147 7.57107\n",
      "WARNING: Point source x4FGL_J0412d6p2253c lies 18.9275 degrees from the ROI center at RA, Dec = 83.6287, 22.0147 7.57107\n",
      "WARNING: Point source GB6_J0653p2816 lies 18.9534 degrees from the ROI center at RA, Dec = 83.6287, 22.0147 7.57107\n",
      "WARNING: Point source PMN_J0444p0717 lies 18.9966 degrees from the ROI center at RA, Dec = 83.6287, 22.0147 7.57107\n",
      "WARNING: Point source MG1_J050533p0415 lies 19.08 degrees from the ROI center at RA, Dec = 83.6287, 22.0147 7.57107\n",
      "WARNING: Point source TXS_0431p092 lies 19.116 degrees from the ROI center at RA, Dec = 83.6287, 22.0147 7.57107\n",
      "WARNING: Point source x4FGL_J0559d3p0352 lies 19.1165 degrees from the ROI center at RA, Dec = 83.6287, 22.0147 7.57107\n",
      "WARNING: Point source B3_0509p406 lies 19.2321 degrees from the ROI center at RA, Dec = 83.6287, 22.0147 7.57107\n",
      "WARNING: Point source B2_0635p35 lies 19.3015 degrees from the ROI center at RA, Dec = 83.6287, 22.0147 7.57107\n",
      "WARNING: Point source PKS_0550p032 lies 19.3036 degrees from the ROI center at RA, Dec = 83.6287, 22.0147 7.57107\n",
      "WARNING: Point source x4FGL_J0431d0p3529c lies 19.3169 degrees from the ROI center at RA, Dec = 83.6287, 22.0147 7.57107\n",
      "WARNING: Point source x2MASX_J06533986p1636432 lies 19.4161 degrees from the ROI center at RA, Dec = 83.6287, 22.0147 7.57107\n",
      "WARNING: Point source x4FGL_J0658d7p2318 lies 19.4529 degrees from the ROI center at RA, Dec = 83.6287, 22.0147 7.57107\n",
      "WARNING: Point source x4FGL_J0552d0p0256c lies 19.5427 degrees from the ROI center at RA, Dec = 83.6287, 22.0147 7.57107\n",
      "WARNING: Point source GB6_J0555p0304 lies 19.5923 degrees from the ROI center at RA, Dec = 83.6287, 22.0147 7.57107\n",
      "WARNING: Point source B2_0655p27A lies 19.6986 degrees from the ROI center at RA, Dec = 83.6287, 22.0147 7.57107\n",
      "WARNING: Point source x4FGL_J0642d4p1048 lies 19.7363 degrees from the ROI center at RA, Dec = 83.6287, 22.0147 7.57107\n",
      "WARNING: Point source NVSS_J050650p032401 lies 19.7895 degrees from the ROI center at RA, Dec = 83.6287, 22.0147 7.57107\n",
      "WARNING: Point source x4FGL_J0409d2p2542 lies 19.8151 degrees from the ROI center at RA, Dec = 83.6287, 22.0147 7.57107\n"
     ]
    },
    {
     "data": {
      "text/html": [
       "<pre style=\"white-space:pre;overflow-x:auto;line-height:normal;font-family:Menlo,'DejaVu Sans Mono',consolas,'Courier New',monospace\"><span style=\"color: #00ff00; text-decoration-color: #00ff00\">19:59:19 </span><span style=\"color: #00ffaf; text-decoration-color: #00ffaf\">INFO    </span> <span style=\"color: #c6c6c6; text-decoration-color: #c6c6c6; font-weight: bold\"> set the minimizer to minuit                                             </span><a href=\"file:///Users/runner/work/threeML/threeML/threeML/classicMLE/joint_likelihood.py\" target=\"_blank\"><span style=\"color: #7f7f7f; text-decoration-color: #7f7f7f\">joint_likelihood.py</span></a><span style=\"color: #7f7f7f; text-decoration-color: #7f7f7f\">:</span><a href=\"file:///Users/runner/work/threeML/threeML/threeML/classicMLE/joint_likelihood.py#1045\" target=\"_blank\"><span style=\"color: #7f7f7f; text-decoration-color: #7f7f7f\">1045</span></a>\n",
       "</pre>\n"
      ],
      "text/plain": [
       "\u001b[38;5;46m19:59:19\u001b[0m\u001b[38;5;46m \u001b[0m\u001b[38;5;49mINFO    \u001b[0m \u001b[1;38;5;251m set the minimizer to minuit                                            \u001b[0m\u001b[1;38;5;251m \u001b[0m\u001b]8;id=514279;file:///Users/runner/work/threeML/threeML/threeML/classicMLE/joint_likelihood.py\u001b\\\u001b[2mjoint_likelihood.py\u001b[0m\u001b]8;;\u001b\\\u001b[2m:\u001b[0m\u001b]8;id=35667;file:///Users/runner/work/threeML/threeML/threeML/classicMLE/joint_likelihood.py#1045\u001b\\\u001b[2m1045\u001b[0m\u001b]8;;\u001b\\\n"
      ]
     },
     "metadata": {},
     "output_type": "display_data"
    }
   ],
   "source": [
    "fermipy_output_directory = Path(config[\"fileio\"][\"outdir\"])\n",
    "print(\"Fermipy Output directoty: %s\" % fermipy_output_directory)\n",
    "\n",
    "# This remove the output directory, to start a fresh analysis...\n",
    "\n",
    "if fermipy_output_directory.exists():\n",
    "    shutil.rmtree(fermipy_output_directory)\n",
    "\n",
    "# Here is where the fermipy processing happens (the .setup method)\n",
    "\n",
    "data = DataList(LAT)\n",
    "\n",
    "jl = JointLikelihood(model, data)"
   ]
  },
  {
   "cell_type": "markdown",
   "id": "f578b6ee",
   "metadata": {},
   "source": [
    "The normalization factors of the LAT background components are included in the models as nuisance parameters. They are only added during the previous step (during the model assignment). Let's display them:"
   ]
  },
  {
   "cell_type": "code",
   "execution_count": 16,
   "id": "0357a61c",
   "metadata": {
    "execution": {
     "iopub.execute_input": "2024-02-08T19:59:19.468054Z",
     "iopub.status.busy": "2024-02-08T19:59:19.467364Z",
     "iopub.status.idle": "2024-02-08T19:59:19.479806Z",
     "shell.execute_reply": "2024-02-08T19:59:19.477751Z"
    }
   },
   "outputs": [
    {
     "name": "stdout",
     "output_type": "stream",
     "text": [
      "LAT_isodiff_Normalization : Parameter LAT_isodiff_Normalization = 1.0 []\n",
      "(min_value = 0.001, max_value = 1000.0, delta = 0.01, free = True)\n",
      "LAT_galdiff_Prefactor : Parameter LAT_galdiff_Prefactor = 1.0 []\n",
      "(min_value = 0.1, max_value = 10.0, delta = 0.01, free = True)\n"
     ]
    }
   ],
   "source": [
    "for k, v in LAT.nuisance_parameters.items():\n",
    "    print(k, \":\", v)"
   ]
  },
  {
   "cell_type": "markdown",
   "id": "81b5fe92",
   "metadata": {},
   "source": [
    "We will fix the isotropic BG as we are not sensitive to it with this dataset. We will also fix one more weak source."
   ]
  },
  {
   "cell_type": "code",
   "execution_count": 17,
   "id": "e043904f",
   "metadata": {
    "execution": {
     "iopub.execute_input": "2024-02-08T19:59:19.488050Z",
     "iopub.status.busy": "2024-02-08T19:59:19.487644Z",
     "iopub.status.idle": "2024-02-08T19:59:19.729664Z",
     "shell.execute_reply": "2024-02-08T19:59:19.728056Z"
    }
   },
   "outputs": [
    {
     "data": {
      "text/html": [
       "Model summary:<br><br><div>\n",
       "<style scoped>\n",
       "    .dataframe tbody tr th:only-of-type {\n",
       "        vertical-align: middle;\n",
       "    }\n",
       "\n",
       "    .dataframe tbody tr th {\n",
       "        vertical-align: top;\n",
       "    }\n",
       "\n",
       "    .dataframe thead th {\n",
       "        text-align: right;\n",
       "    }\n",
       "</style>\n",
       "<table border=\"1\" class=\"dataframe\">\n",
       "  <thead>\n",
       "    <tr style=\"text-align: right;\">\n",
       "      <th></th>\n",
       "      <th>N</th>\n",
       "    </tr>\n",
       "  </thead>\n",
       "  <tbody>\n",
       "    <tr>\n",
       "      <th>Point sources</th>\n",
       "      <td>196</td>\n",
       "    </tr>\n",
       "    <tr>\n",
       "      <th>Extended sources</th>\n",
       "      <td>0</td>\n",
       "    </tr>\n",
       "    <tr>\n",
       "      <th>Particle sources</th>\n",
       "      <td>0</td>\n",
       "    </tr>\n",
       "  </tbody>\n",
       "</table>\n",
       "</div><br><br>Free parameters (4):<br><br><div>\n",
       "<style scoped>\n",
       "    .dataframe tbody tr th:only-of-type {\n",
       "        vertical-align: middle;\n",
       "    }\n",
       "\n",
       "    .dataframe tbody tr th {\n",
       "        vertical-align: top;\n",
       "    }\n",
       "\n",
       "    .dataframe thead th {\n",
       "        text-align: right;\n",
       "    }\n",
       "</style>\n",
       "<table border=\"1\" class=\"dataframe\">\n",
       "  <thead>\n",
       "    <tr style=\"text-align: right;\">\n",
       "      <th></th>\n",
       "      <th>value</th>\n",
       "      <th>min_value</th>\n",
       "      <th>max_value</th>\n",
       "      <th>unit</th>\n",
       "    </tr>\n",
       "  </thead>\n",
       "  <tbody>\n",
       "    <tr>\n",
       "      <th>PSR_J0534p2200.spectrum.main.Super_cutoff_powerlaw.K</th>\n",
       "      <td>0.0</td>\n",
       "      <td>0.0</td>\n",
       "      <td>0.0</td>\n",
       "      <td>keV-1 s-1 cm-2</td>\n",
       "    </tr>\n",
       "    <tr>\n",
       "      <th>PSR_J0534p2200.spectrum.main.Super_cutoff_powerlaw.index</th>\n",
       "      <td>-1.826553</td>\n",
       "      <td>-10.0</td>\n",
       "      <td>10.0</td>\n",
       "      <td></td>\n",
       "    </tr>\n",
       "    <tr>\n",
       "      <th>NVSS_J052622p224801.spectrum.main.Powerlaw.K</th>\n",
       "      <td>0.0</td>\n",
       "      <td>0.0</td>\n",
       "      <td>0.0</td>\n",
       "      <td>keV-1 s-1 cm-2</td>\n",
       "    </tr>\n",
       "    <tr>\n",
       "      <th>LAT_galdiff_Prefactor</th>\n",
       "      <td>1.0</td>\n",
       "      <td>0.1</td>\n",
       "      <td>10.0</td>\n",
       "      <td></td>\n",
       "    </tr>\n",
       "  </tbody>\n",
       "</table>\n",
       "</div><br><br>Fixed parameters (1092):<br>(abridged. Use complete=True to see all fixed parameters)<br><br><br>Properties (0):<br><br>(none)<br><br><br>Linked parameters (0):<br><br>(none)<br><br>Independent variables:<br><br>(none)<br><br>Linked functions (0):<br><br>(none)<br>"
      ],
      "text/plain": [
       "Model summary:\n",
       "==============\n",
       "\n",
       "                    N\n",
       "Point sources     196\n",
       "Extended sources    0\n",
       "Particle sources    0\n",
       "\n",
       "Free parameters (4):\n",
       "--------------------\n",
       "\n",
       "                            value min_value max_value            unit\n",
       "PSR_J0534p2200...K            0.0       0.0       0.0  keV-1 s-1 cm-2\n",
       "PSR_J0534p2200...index  -1.826553     -10.0      10.0                \n",
       "NVSS_J052622p224801...K       0.0       0.0       0.0  keV-1 s-1 cm-2\n",
       "LAT_galdiff_Prefactor         1.0       0.1      10.0                \n",
       "\n",
       "Fixed parameters (1092):\n",
       "(abridged. Use complete=True to see all fixed parameters)\n",
       "\n",
       "\n",
       "Properties (0):\n",
       "--------------------\n",
       "\n",
       "(none)\n",
       "\n",
       "\n",
       "Linked parameters (0):\n",
       "----------------------\n",
       "\n",
       "(none)\n",
       "\n",
       "Independent variables:\n",
       "----------------------\n",
       "\n",
       "(none)\n",
       "\n",
       "Linked functions (0):\n",
       "----------------------\n",
       "\n",
       "(none)"
      ]
     },
     "metadata": {},
     "output_type": "display_data"
    }
   ],
   "source": [
    "model.LAT_isodiff_Normalization.fix = True\n",
    "model.x4FGL_J0544d4p2238.spectrum.main.Powerlaw.K.fix = True\n",
    "model.display()"
   ]
  },
  {
   "cell_type": "markdown",
   "id": "435fa3e5",
   "metadata": {},
   "source": [
    "### Performing the fit"
   ]
  },
  {
   "cell_type": "code",
   "execution_count": 18,
   "id": "0f3cd0cc",
   "metadata": {
    "execution": {
     "iopub.execute_input": "2024-02-08T19:59:19.737698Z",
     "iopub.status.busy": "2024-02-08T19:59:19.737197Z",
     "iopub.status.idle": "2024-02-08T19:59:32.463669Z",
     "shell.execute_reply": "2024-02-08T19:59:32.462245Z"
    }
   },
   "outputs": [
    {
     "data": {
      "text/html": [
       "<pre style=\"white-space:pre;overflow-x:auto;line-height:normal;font-family:Menlo,'DejaVu Sans Mono',consolas,'Courier New',monospace\"><span style=\"color: #00ff00; text-decoration-color: #00ff00\">         </span><span style=\"color: #00ffaf; text-decoration-color: #00ffaf\">INFO    </span> <span style=\"color: #c6c6c6; text-decoration-color: #c6c6c6; font-weight: bold\"> set the minimizer to MINUIT                                             </span><a href=\"file:///Users/runner/work/threeML/threeML/threeML/classicMLE/joint_likelihood.py\" target=\"_blank\"><span style=\"color: #7f7f7f; text-decoration-color: #7f7f7f\">joint_likelihood.py</span></a><span style=\"color: #7f7f7f; text-decoration-color: #7f7f7f\">:</span><a href=\"file:///Users/runner/work/threeML/threeML/threeML/classicMLE/joint_likelihood.py#1062\" target=\"_blank\"><span style=\"color: #7f7f7f; text-decoration-color: #7f7f7f\">1062</span></a>\n",
       "</pre>\n"
      ],
      "text/plain": [
       "\u001b[38;5;46m        \u001b[0m\u001b[38;5;46m \u001b[0m\u001b[38;5;49mINFO    \u001b[0m \u001b[1;38;5;251m set the minimizer to MINUIT                                            \u001b[0m\u001b[1;38;5;251m \u001b[0m\u001b]8;id=49763;file:///Users/runner/work/threeML/threeML/threeML/classicMLE/joint_likelihood.py\u001b\\\u001b[2mjoint_likelihood.py\u001b[0m\u001b]8;;\u001b\\\u001b[2m:\u001b[0m\u001b]8;id=892604;file:///Users/runner/work/threeML/threeML/threeML/classicMLE/joint_likelihood.py#1062\u001b\\\u001b[2m1062\u001b[0m\u001b]8;;\u001b\\\n"
      ]
     },
     "metadata": {},
     "output_type": "display_data"
    },
    {
     "data": {
      "text/html": [
       "<pre style=\"white-space:pre;overflow-x:auto;line-height:normal;font-family:Menlo,'DejaVu Sans Mono',consolas,'Courier New',monospace\"><span style=\"color: #00ffaf; text-decoration-color: #00ffaf; font-weight: bold; text-decoration: underline\">Best fit values:</span>\n",
       "\n",
       "</pre>\n"
      ],
      "text/plain": [
       "\u001b[1;4;38;5;49mBest fit values:\u001b[0m\n",
       "\n"
      ]
     },
     "metadata": {},
     "output_type": "display_data"
    },
    {
     "data": {
      "text/html": [
       "<div>\n",
       "<style scoped>\n",
       "    .dataframe tbody tr th:only-of-type {\n",
       "        vertical-align: middle;\n",
       "    }\n",
       "\n",
       "    .dataframe tbody tr th {\n",
       "        vertical-align: top;\n",
       "    }\n",
       "\n",
       "    .dataframe thead th {\n",
       "        text-align: right;\n",
       "    }\n",
       "</style>\n",
       "<table border=\"1\" class=\"dataframe\">\n",
       "  <thead>\n",
       "    <tr style=\"text-align: right;\">\n",
       "      <th></th>\n",
       "      <th>result</th>\n",
       "      <th>unit</th>\n",
       "    </tr>\n",
       "    <tr>\n",
       "      <th>parameter</th>\n",
       "      <th></th>\n",
       "      <th></th>\n",
       "    </tr>\n",
       "  </thead>\n",
       "  <tbody>\n",
       "    <tr>\n",
       "      <th>PSR_J0534p2200...K</th>\n",
       "      <td>(2.46 -0.08 +0.09) x 10^-13</td>\n",
       "      <td>1 / (cm2 keV s)</td>\n",
       "    </tr>\n",
       "    <tr>\n",
       "      <th>PSR_J0534p2200...index</th>\n",
       "      <td>-1.790 +/- 0.025</td>\n",
       "      <td></td>\n",
       "    </tr>\n",
       "    <tr>\n",
       "      <th>NVSS_J052622p224801.spectrum.main.Powerlaw.K</th>\n",
       "      <td>(1.0 -0.5 +1.0) x 10^-16</td>\n",
       "      <td>1 / (cm2 keV s)</td>\n",
       "    </tr>\n",
       "    <tr>\n",
       "      <th>LAT_galdiff_Prefactor</th>\n",
       "      <td>(9.35 +/- 0.08) x 10^-1</td>\n",
       "      <td></td>\n",
       "    </tr>\n",
       "  </tbody>\n",
       "</table>\n",
       "</div>"
      ],
      "text/plain": [
       "                                                                   result  \\\n",
       "parameter                                                                   \n",
       "PSR_J0534p2200...K                            (2.46 -0.08 +0.09) x 10^-13   \n",
       "PSR_J0534p2200...index                                   -1.790 +/- 0.025   \n",
       "NVSS_J052622p224801.spectrum.main.Powerlaw.K     (1.0 -0.5 +1.0) x 10^-16   \n",
       "LAT_galdiff_Prefactor                             (9.35 +/- 0.08) x 10^-1   \n",
       "\n",
       "                                                         unit  \n",
       "parameter                                                      \n",
       "PSR_J0534p2200...K                            1 / (cm2 keV s)  \n",
       "PSR_J0534p2200...index                                         \n",
       "NVSS_J052622p224801.spectrum.main.Powerlaw.K  1 / (cm2 keV s)  \n",
       "LAT_galdiff_Prefactor                                          "
      ]
     },
     "metadata": {},
     "output_type": "display_data"
    },
    {
     "data": {
      "text/html": [
       "<pre style=\"white-space:pre;overflow-x:auto;line-height:normal;font-family:Menlo,'DejaVu Sans Mono',consolas,'Courier New',monospace\">\n",
       "<span style=\"color: #00ffaf; text-decoration-color: #00ffaf; font-weight: bold; text-decoration: underline\">Correlation matrix:</span>\n",
       "\n",
       "</pre>\n"
      ],
      "text/plain": [
       "\n",
       "\u001b[1;4;38;5;49mCorrelation matrix:\u001b[0m\n",
       "\n"
      ]
     },
     "metadata": {},
     "output_type": "display_data"
    },
    {
     "data": {
      "text/html": [
       "<div><table id=\"table5303821936\">\n",
       "<tr><td>1.00</td><td>0.73</td><td>-0.05</td><td>-0.11</td></tr>\n",
       "<tr><td>0.73</td><td>1.00</td><td>0.10</td><td>0.16</td></tr>\n",
       "<tr><td>-0.05</td><td>0.10</td><td>1.00</td><td>-0.14</td></tr>\n",
       "<tr><td>-0.11</td><td>0.16</td><td>-0.14</td><td>1.00</td></tr>\n",
       "</table></div>"
      ],
      "text/plain": [
       " 1.00 0.73 -0.05 -0.11\n",
       " 0.73 1.00  0.10  0.16\n",
       "-0.05 0.10  1.00 -0.14\n",
       "-0.11 0.16 -0.14  1.00"
      ]
     },
     "metadata": {},
     "output_type": "display_data"
    },
    {
     "data": {
      "text/html": [
       "<pre style=\"white-space:pre;overflow-x:auto;line-height:normal;font-family:Menlo,'DejaVu Sans Mono',consolas,'Courier New',monospace\">\n",
       "<span style=\"color: #00ffaf; text-decoration-color: #00ffaf; font-weight: bold; text-decoration: underline\">Values of -log(likelihood) at the minimum:</span>\n",
       "\n",
       "</pre>\n"
      ],
      "text/plain": [
       "\n",
       "\u001b[1;4;38;5;49mValues of -\u001b[0m\u001b[1;4;38;5;49mlog\u001b[0m\u001b[1;4;38;5;49m(\u001b[0m\u001b[1;4;38;5;49mlikelihood\u001b[0m\u001b[1;4;38;5;49m)\u001b[0m\u001b[1;4;38;5;49m at the minimum:\u001b[0m\n",
       "\n"
      ]
     },
     "metadata": {},
     "output_type": "display_data"
    },
    {
     "data": {
      "text/html": [
       "<div>\n",
       "<style scoped>\n",
       "    .dataframe tbody tr th:only-of-type {\n",
       "        vertical-align: middle;\n",
       "    }\n",
       "\n",
       "    .dataframe tbody tr th {\n",
       "        vertical-align: top;\n",
       "    }\n",
       "\n",
       "    .dataframe thead th {\n",
       "        text-align: right;\n",
       "    }\n",
       "</style>\n",
       "<table border=\"1\" class=\"dataframe\">\n",
       "  <thead>\n",
       "    <tr style=\"text-align: right;\">\n",
       "      <th></th>\n",
       "      <th>-log(likelihood)</th>\n",
       "    </tr>\n",
       "  </thead>\n",
       "  <tbody>\n",
       "    <tr>\n",
       "      <th>LAT</th>\n",
       "      <td>118073.606157</td>\n",
       "    </tr>\n",
       "    <tr>\n",
       "      <th>total</th>\n",
       "      <td>118073.606157</td>\n",
       "    </tr>\n",
       "  </tbody>\n",
       "</table>\n",
       "</div>"
      ],
      "text/plain": [
       "       -log(likelihood)\n",
       "LAT       118073.606157\n",
       "total     118073.606157"
      ]
     },
     "metadata": {},
     "output_type": "display_data"
    },
    {
     "data": {
      "text/html": [
       "<pre style=\"white-space:pre;overflow-x:auto;line-height:normal;font-family:Menlo,'DejaVu Sans Mono',consolas,'Courier New',monospace\">\n",
       "<span style=\"color: #00ffaf; text-decoration-color: #00ffaf; font-weight: bold; text-decoration: underline\">Values of statistical measures:</span>\n",
       "\n",
       "</pre>\n"
      ],
      "text/plain": [
       "\n",
       "\u001b[1;4;38;5;49mValues of statistical measures:\u001b[0m\n",
       "\n"
      ]
     },
     "metadata": {},
     "output_type": "display_data"
    },
    {
     "data": {
      "text/html": [
       "<div>\n",
       "<style scoped>\n",
       "    .dataframe tbody tr th:only-of-type {\n",
       "        vertical-align: middle;\n",
       "    }\n",
       "\n",
       "    .dataframe tbody tr th {\n",
       "        vertical-align: top;\n",
       "    }\n",
       "\n",
       "    .dataframe thead th {\n",
       "        text-align: right;\n",
       "    }\n",
       "</style>\n",
       "<table border=\"1\" class=\"dataframe\">\n",
       "  <thead>\n",
       "    <tr style=\"text-align: right;\">\n",
       "      <th></th>\n",
       "      <th>statistical measures</th>\n",
       "    </tr>\n",
       "  </thead>\n",
       "  <tbody>\n",
       "    <tr>\n",
       "      <th>AIC</th>\n",
       "      <td>236155.212456</td>\n",
       "    </tr>\n",
       "    <tr>\n",
       "      <th>BIC</th>\n",
       "      <td>236197.382493</td>\n",
       "    </tr>\n",
       "  </tbody>\n",
       "</table>\n",
       "</div>"
      ],
      "text/plain": [
       "     statistical measures\n",
       "AIC         236155.212456\n",
       "BIC         236197.382493"
      ]
     },
     "metadata": {},
     "output_type": "display_data"
    }
   ],
   "source": [
    "jl.set_minimizer(\"minuit\")\n",
    "\n",
    "res = jl.fit()"
   ]
  },
  {
   "cell_type": "markdown",
   "id": "85ee9917",
   "metadata": {},
   "source": [
    "Now let's compute the errors on the best fit parameters\n",
    "\n"
   ]
  },
  {
   "cell_type": "code",
   "execution_count": 19,
   "id": "c35630d8",
   "metadata": {
    "execution": {
     "iopub.execute_input": "2024-02-08T19:59:32.470479Z",
     "iopub.status.busy": "2024-02-08T19:59:32.470077Z",
     "iopub.status.idle": "2024-02-08T20:00:01.673704Z",
     "shell.execute_reply": "2024-02-08T20:00:01.669107Z"
    }
   },
   "outputs": [
    {
     "data": {
      "text/html": [
       "<div>\n",
       "<style scoped>\n",
       "    .dataframe tbody tr th:only-of-type {\n",
       "        vertical-align: middle;\n",
       "    }\n",
       "\n",
       "    .dataframe tbody tr th {\n",
       "        vertical-align: top;\n",
       "    }\n",
       "\n",
       "    .dataframe thead th {\n",
       "        text-align: right;\n",
       "    }\n",
       "</style>\n",
       "<table border=\"1\" class=\"dataframe\">\n",
       "  <thead>\n",
       "    <tr style=\"text-align: right;\">\n",
       "      <th></th>\n",
       "      <th>result</th>\n",
       "      <th>unit</th>\n",
       "    </tr>\n",
       "    <tr>\n",
       "      <th>parameter</th>\n",
       "      <th></th>\n",
       "      <th></th>\n",
       "    </tr>\n",
       "  </thead>\n",
       "  <tbody>\n",
       "    <tr>\n",
       "      <th>PSR_J0534p2200...K</th>\n",
       "      <td>(2.46 +/- 0.09) x 10^-13</td>\n",
       "      <td>1 / (cm2 keV s)</td>\n",
       "    </tr>\n",
       "    <tr>\n",
       "      <th>PSR_J0534p2200...index</th>\n",
       "      <td>-1.790 -0.025 +0.024</td>\n",
       "      <td></td>\n",
       "    </tr>\n",
       "    <tr>\n",
       "      <th>NVSS_J052622p224801.spectrum.main.Powerlaw.K</th>\n",
       "      <td>(10 -6 +7) x 10^-17</td>\n",
       "      <td>1 / (cm2 keV s)</td>\n",
       "    </tr>\n",
       "    <tr>\n",
       "      <th>LAT_galdiff_Prefactor</th>\n",
       "      <td>(9.35 -0.17 +0.18) x 10^-1</td>\n",
       "      <td></td>\n",
       "    </tr>\n",
       "  </tbody>\n",
       "</table>\n",
       "</div>"
      ],
      "text/plain": [
       "                                                                  result  \\\n",
       "parameter                                                                  \n",
       "PSR_J0534p2200...K                              (2.46 +/- 0.09) x 10^-13   \n",
       "PSR_J0534p2200...index                              -1.790 -0.025 +0.024   \n",
       "NVSS_J052622p224801.spectrum.main.Powerlaw.K         (10 -6 +7) x 10^-17   \n",
       "LAT_galdiff_Prefactor                         (9.35 -0.17 +0.18) x 10^-1   \n",
       "\n",
       "                                                         unit  \n",
       "parameter                                                      \n",
       "PSR_J0534p2200...K                            1 / (cm2 keV s)  \n",
       "PSR_J0534p2200...index                                         \n",
       "NVSS_J052622p224801.spectrum.main.Powerlaw.K  1 / (cm2 keV s)  \n",
       "LAT_galdiff_Prefactor                                          "
      ]
     },
     "metadata": {},
     "output_type": "display_data"
    }
   ],
   "source": [
    "res = jl.get_errors()"
   ]
  },
  {
   "cell_type": "markdown",
   "id": "ce1beb75",
   "metadata": {},
   "source": [
    "We might also want to look at the profile of the likelihood for each parameter."
   ]
  },
  {
   "cell_type": "code",
   "execution_count": 20,
   "id": "05744d27",
   "metadata": {
    "execution": {
     "iopub.execute_input": "2024-02-08T20:00:01.686547Z",
     "iopub.status.busy": "2024-02-08T20:00:01.685510Z",
     "iopub.status.idle": "2024-02-08T20:03:11.073020Z",
     "shell.execute_reply": "2024-02-08T20:03:11.070491Z"
    }
   },
   "outputs": [
    {
     "data": {
      "application/vnd.jupyter.widget-view+json": {
       "model_id": "5d5ff6d7a33d4752a4ca607e4b1c48b5",
       "version_major": 2,
       "version_minor": 0
      },
      "text/plain": [
       "Profiling likelihood:   0%|          | 0/30 [00:00<?, ?it/s]"
      ]
     },
     "metadata": {},
     "output_type": "display_data"
    }
   ],
   "source": [
    "res = jl.get_contours(\n",
    "    model.PSR_J0534p2200.spectrum.main.Super_cutoff_powerlaw.index, -2.0, -1.6, 30\n",
    ")"
   ]
  },
  {
   "cell_type": "code",
   "execution_count": 21,
   "id": "0f39c3bd",
   "metadata": {
    "execution": {
     "iopub.execute_input": "2024-02-08T20:03:11.080052Z",
     "iopub.status.busy": "2024-02-08T20:03:11.079557Z",
     "iopub.status.idle": "2024-02-08T20:03:11.273286Z",
     "shell.execute_reply": "2024-02-08T20:03:11.271886Z"
    }
   },
   "outputs": [
    {
     "data": {
      "image/png": "[encoded data removed]",
      "text/plain": [
       "<Figure size 1040x910 with 1 Axes>"
      ]
     },
     "execution_count": 21,
     "metadata": {},
     "output_type": "execute_result"
    }
   ],
   "source": [
    "res[-1]"
   ]
  },
  {
   "cell_type": "markdown",
   "id": "f16daca5",
   "metadata": {},
   "source": [
    "Or we might want to produce a contour plot"
   ]
  },
  {
   "cell_type": "code",
   "execution_count": 22,
   "id": "49933036",
   "metadata": {
    "execution": {
     "iopub.execute_input": "2024-02-08T20:03:11.278571Z",
     "iopub.status.busy": "2024-02-08T20:03:11.278289Z",
     "iopub.status.idle": "2024-02-08T20:38:03.832350Z",
     "shell.execute_reply": "2024-02-08T20:38:03.829726Z"
    }
   },
   "outputs": [
    {
     "data": {
      "application/vnd.jupyter.widget-view+json": {
       "model_id": "61e268fb065e40e0bd18165f11ce35ec",
       "version_major": 2,
       "version_minor": 0
      },
      "text/plain": [
       "Profiling likelihood:   0%|          | 0/400 [00:00<?, ?it/s]"
      ]
     },
     "metadata": {},
     "output_type": "display_data"
    }
   ],
   "source": [
    "res = jl.get_contours(\n",
    "    \"PSR_J0534p2200.spectrum.main.Super_cutoff_powerlaw.K\",\n",
    "    2.1e-13,\n",
    "    2.7e-13,\n",
    "    20,\n",
    "    \"PSR_J0534p2200.spectrum.main.Super_cutoff_powerlaw.index\",\n",
    "    -2.0,\n",
    "    -1.7,\n",
    "    20,\n",
    ")"
   ]
  },
  {
   "cell_type": "code",
   "execution_count": 23,
   "id": "23d7d3af",
   "metadata": {
    "execution": {
     "iopub.execute_input": "2024-02-08T20:38:03.860936Z",
     "iopub.status.busy": "2024-02-08T20:38:03.860030Z",
     "iopub.status.idle": "2024-02-08T20:38:04.156036Z",
     "shell.execute_reply": "2024-02-08T20:38:04.154150Z"
    },
    "tags": [
     "nbsphinx-thumbnail"
    ]
   },
   "outputs": [
    {
     "data": {
      "image/png": "[encoded data removed]",
      "text/plain": [
       "<Figure size 1040x910 with 1 Axes>"
      ]
     },
     "execution_count": 23,
     "metadata": {},
     "output_type": "execute_result"
    }
   ],
   "source": [
    "res[-1]"
   ]
  },
  {
   "cell_type": "markdown",
   "id": "462b86af",
   "metadata": {},
   "source": [
    "**Pro-trick:** We can also axcess the GTAnalysis object of fermipy:"
   ]
  },
  {
   "cell_type": "code",
   "execution_count": 24,
   "id": "fc4694b0",
   "metadata": {
    "execution": {
     "iopub.execute_input": "2024-02-08T20:38:04.170327Z",
     "iopub.status.busy": "2024-02-08T20:38:04.169748Z",
     "iopub.status.idle": "2024-02-08T20:38:04.181109Z",
     "shell.execute_reply": "2024-02-08T20:38:04.178993Z"
    }
   },
   "outputs": [],
   "source": [
    "# res = jl.fit()\n",
    "# LAT.gta.write_roi('test',make_plots=True)"
   ]
  },
  {
   "cell_type": "markdown",
   "id": "3edde16a",
   "metadata": {},
   "source": [
    "All the plots are saved in the output directory as png files:\n",
    "\n"
   ]
  },
  {
   "cell_type": "code",
   "execution_count": 25,
   "id": "b0ba3db0",
   "metadata": {
    "execution": {
     "iopub.execute_input": "2024-02-08T20:38:04.193331Z",
     "iopub.status.busy": "2024-02-08T20:38:04.192639Z",
     "iopub.status.idle": "2024-02-08T20:38:04.202960Z",
     "shell.execute_reply": "2024-02-08T20:38:04.200822Z"
    }
   },
   "outputs": [],
   "source": [
    "# pngs=Path(f\"{fermipy_output_directory}\").glob(\"*png\")\n",
    "# for png in pngs:\n",
    "#    print(png)\n",
    "#    my_image=Image(str(png))\n",
    "#    display(my_image)"
   ]
  },
  {
   "cell_type": "markdown",
   "id": "fb4c08c1",
   "metadata": {},
   "source": [
    "We can also plot the resulting model:"
   ]
  },
  {
   "cell_type": "code",
   "execution_count": 26,
   "id": "bef7baee",
   "metadata": {
    "execution": {
     "iopub.execute_input": "2024-02-08T20:38:04.213300Z",
     "iopub.status.busy": "2024-02-08T20:38:04.212634Z",
     "iopub.status.idle": "2024-02-08T20:38:04.936453Z",
     "shell.execute_reply": "2024-02-08T20:38:04.934764Z"
    }
   },
   "outputs": [
    {
     "data": {
      "image/png": "[encoded data removed]",
      "text/plain": [
       "<Figure size 1040x910 with 1 Axes>"
      ]
     },
     "execution_count": 26,
     "metadata": {},
     "output_type": "execute_result"
    }
   ],
   "source": [
    "energies = sp.logspace(1, 6, 100) * u.MeV\n",
    "fig, ax = plt.subplots()\n",
    "# we only want to visualize the relevant sources...\n",
    "src_to_plot = [\"Crab\", \"PSR_J0534p2200\"]\n",
    "# Now loop over all point sources and plot them\n",
    "for source_name, point_source in model.point_sources.items():\n",
    "    for src in src_to_plot:\n",
    "        if src in source_name:\n",
    "            # Plot the sum of all components for this source\n",
    "\n",
    "            ax.loglog(energies, point_source(energies), label=source_name)\n",
    "            # If there is more than one component, plot them also separately\n",
    "\n",
    "            if len(point_source.components) > 1:\n",
    "                for component_name, component in point_source.components.items():\n",
    "                    ax.loglog(\n",
    "                        energies,\n",
    "                        component.shape(energies),\n",
    "                        \"--\",\n",
    "                        label=f\"{component_name} of {source_name}\",\n",
    "                    )\n",
    "\n",
    "# Add a legend\n",
    "ax.legend(loc=0, frameon=False)\n",
    "\n",
    "ax.set_xlabel(\"Energy (MeV)\")\n",
    "ax.set_ylabel(r\"Flux (ph cm$^{-2}$ s$^{-1}$ keV$^{-1}$\")\n",
    "ax.set_ylim([1e-18, 1e-8])\n",
    "\n",
    "# show the plot\n",
    "fig"
   ]
  },
  {
   "cell_type": "markdown",
   "id": "9bb4a8da",
   "metadata": {},
   "source": [
    "We can also do a bayesian analysis."
   ]
  },
  {
   "cell_type": "markdown",
   "id": "d3577497",
   "metadata": {},
   "source": [
    "This will set priors based on the current defined min-max (log-uniform or uniform)."
   ]
  },
  {
   "cell_type": "code",
   "execution_count": 27,
   "id": "f7f5c32e",
   "metadata": {
    "execution": {
     "iopub.execute_input": "2024-02-08T20:38:04.946682Z",
     "iopub.status.busy": "2024-02-08T20:38:04.946207Z",
     "iopub.status.idle": "2024-02-08T20:38:04.966072Z",
     "shell.execute_reply": "2024-02-08T20:38:04.964296Z"
    }
   },
   "outputs": [],
   "source": [
    "for param in model.free_parameters.values():\n",
    "    if param.has_transformation():\n",
    "        param.set_uninformative_prior(Log_uniform_prior)\n",
    "    else:\n",
    "        param.set_uninformative_prior(Uniform_prior)"
   ]
  },
  {
   "cell_type": "code",
   "execution_count": 28,
   "id": "be07d164",
   "metadata": {
    "execution": {
     "iopub.execute_input": "2024-02-08T20:38:04.973628Z",
     "iopub.status.busy": "2024-02-08T20:38:04.973187Z",
     "iopub.status.idle": "2024-02-08T20:52:29.118103Z",
     "shell.execute_reply": "2024-02-08T20:52:29.116425Z"
    }
   },
   "outputs": [
    {
     "data": {
      "text/html": [
       "<pre style=\"white-space:pre;overflow-x:auto;line-height:normal;font-family:Menlo,'DejaVu Sans Mono',consolas,'Courier New',monospace\"><span style=\"color: #00ff00; text-decoration-color: #00ff00\">20:38:05 </span><span style=\"color: #00ffaf; text-decoration-color: #00ffaf\">INFO    </span> <span style=\"color: #c6c6c6; text-decoration-color: #c6c6c6; font-weight: bold\"> Using IRFs P8R3_SOURCE_V3                                                     </span><a href=\"file:///Users/runner/work/threeML/threeML/threeML/plugins/FermipyLike.py\" target=\"_blank\"><span style=\"color: #7f7f7f; text-decoration-color: #7f7f7f\">FermipyLike.py</span></a><span style=\"color: #7f7f7f; text-decoration-color: #7f7f7f\">:</span><a href=\"file:///Users/runner/work/threeML/threeML/threeML/plugins/FermipyLike.py#126\" target=\"_blank\"><span style=\"color: #7f7f7f; text-decoration-color: #7f7f7f\">126</span></a>\n",
       "</pre>\n"
      ],
      "text/plain": [
       "\u001b[38;5;46m20:38:05\u001b[0m\u001b[38;5;46m \u001b[0m\u001b[38;5;49mINFO    \u001b[0m \u001b[1;38;5;251m Using IRFs P8R3_SOURCE_V3                                                    \u001b[0m\u001b[1;38;5;251m \u001b[0m\u001b]8;id=702811;file:///Users/runner/work/threeML/threeML/threeML/plugins/FermipyLike.py\u001b\\\u001b[2mFermipyLike.py\u001b[0m\u001b]8;;\u001b\\\u001b[2m:\u001b[0m\u001b]8;id=674787;file:///Users/runner/work/threeML/threeML/threeML/plugins/FermipyLike.py#126\u001b\\\u001b[2m126\u001b[0m\u001b]8;;\u001b\\\n"
      ]
     },
     "metadata": {},
     "output_type": "display_data"
    },
    {
     "name": "stdout",
     "output_type": "stream",
     "text": [
      "\n",
      "Found Galactic template for IRF. P8R3_SOURCE_V3: /usr/local/miniconda/envs/test_env/share/fermitools/refdata/fermi/galdiffuse/gll_iem_v07.fits\n",
      "\n",
      "Cutting the template around the ROI: \n",
      "\n"
     ]
    },
    {
     "name": "stdout",
     "output_type": "stream",
     "text": [
      "\n",
      "Found Isotropic template for irf P8R3_SOURCE_V3: /usr/local/miniconda/envs/test_env/share/fermitools/refdata/fermi/galdiffuse/iso_P8R3_SOURCE_V3_v1.txt\n"
     ]
    },
    {
     "name": "stderr",
     "output_type": "stream",
     "text": [
      "WARNING: Point source PKS_0459p060 lies 17.6405 degrees from the ROI center at RA, Dec = 83.6287, 22.0147 7.57107\n",
      "WARNING: Point source x4FGL_J0610d7p3752 lies 17.6676 degrees from the ROI center at RA, Dec = 83.6287, 22.0147 7.57107\n",
      "WARNING: Point source x4FGL_J0624d0p0855 lies 17.6938 degrees from the ROI center at RA, Dec = 83.6287, 22.0147 7.57107\n",
      "WARNING: Point source x4C_p06d21 lies 17.7181 degrees from the ROI center at RA, Dec = 83.6287, 22.0147 7.57107\n",
      "WARNING: Point source x1ES_0647p250 lies 17.73 degrees from the ROI center at RA, Dec = 83.6287, 22.0147 7.57107\n",
      "WARNING: Point source NVSS_J065035p205556 lies 17.7308 degrees from the ROI center at RA, Dec = 83.6287, 22.0147 7.57107\n",
      "WARNING: Point source x4FGL_J0551d7p0446 lies 17.737 degrees from the ROI center at RA, Dec = 83.6287, 22.0147 7.57107\n",
      "WARNING: Point source GB6_J0454p3724 lies 17.7478 degrees from the ROI center at RA, Dec = 83.6287, 22.0147 7.57107\n",
      "WARNING: Point source PSR_J0631p1036 lies 17.7855 degrees from the ROI center at RA, Dec = 83.6287, 22.0147 7.57107\n",
      "WARNING: Point source GB6_J0648p1749 lies 17.8446 degrees from the ROI center at RA, Dec = 83.6287, 22.0147 7.57107\n",
      "WARNING: Point source x4FGL_J0600d8p0509c lies 18.0094 degrees from the ROI center at RA, Dec = 83.6287, 22.0147 7.57107\n",
      "WARNING: Point source x4FGL_J0537d6p0400 lies 18.0282 degrees from the ROI center at RA, Dec = 83.6287, 22.0147 7.57107\n",
      "WARNING: Point source x4FGL_J0442d8p3609 lies 18.0627 degrees from the ROI center at RA, Dec = 83.6287, 22.0147 7.57107\n",
      "WARNING: Point source x4FGL_J0424d8p3117 lies 18.084 degrees from the ROI center at RA, Dec = 83.6287, 22.0147 7.57107\n",
      "WARNING: Point source x4FGL_J0450d7p0715 lies 18.14 degrees from the ROI center at RA, Dec = 83.6287, 22.0147 7.57107\n",
      "WARNING: Point source x4FGL_J0640d4p3307 lies 18.3188 degrees from the ROI center at RA, Dec = 83.6287, 22.0147 7.57107\n",
      "WARNING: Point source B2_0552p39A lies 18.3305 degrees from the ROI center at RA, Dec = 83.6287, 22.0147 7.57107\n",
      "WARNING: Point source x1RXS_J064814d1p160708 lies 18.3652 degrees from the ROI center at RA, Dec = 83.6287, 22.0147 7.57107\n",
      "WARNING: Point source x4FGL_J0634d7p1036 lies 18.3827 degrees from the ROI center at RA, Dec = 83.6287, 22.0147 7.57107\n",
      "WARNING: Point source MG2_J065230p1934 lies 18.3991 degrees from the ROI center at RA, Dec = 83.6287, 22.0147 7.57107\n",
      "WARNING: Point source PKS_0502p049 lies 18.4192 degrees from the ROI center at RA, Dec = 83.6287, 22.0147 7.57107\n",
      "WARNING: Point source RX_J0648d7p1516 lies 18.8123 degrees from the ROI center at RA, Dec = 83.6287, 22.0147 7.57107\n",
      "WARNING: Point source GB6_J0620p3806 lies 18.8411 degrees from the ROI center at RA, Dec = 83.6287, 22.0147 7.57107\n",
      "WARNING: Point source PSR_J0622p3749 lies 18.8574 degrees from the ROI center at RA, Dec = 83.6287, 22.0147 7.57107\n",
      "WARNING: Point source x4FGL_J0641d4p3349 lies 18.8694 degrees from the ROI center at RA, Dec = 83.6287, 22.0147 7.57107\n",
      "WARNING: Point source B2_0654p24 lies 18.8719 degrees from the ROI center at RA, Dec = 83.6287, 22.0147 7.57107\n",
      "WARNING: Point source x1RXS_J065331d8p181448 lies 18.8996 degrees from the ROI center at RA, Dec = 83.6287, 22.0147 7.57107\n",
      "WARNING: Point source x4FGL_J0412d6p2253c lies 18.9275 degrees from the ROI center at RA, Dec = 83.6287, 22.0147 7.57107\n",
      "WARNING: Point source GB6_J0653p2816 lies 18.9534 degrees from the ROI center at RA, Dec = 83.6287, 22.0147 7.57107\n",
      "WARNING: Point source PMN_J0444p0717 lies 18.9966 degrees from the ROI center at RA, Dec = 83.6287, 22.0147 7.57107\n",
      "WARNING: Point source MG1_J050533p0415 lies 19.08 degrees from the ROI center at RA, Dec = 83.6287, 22.0147 7.57107\n",
      "WARNING: Point source TXS_0431p092 lies 19.116 degrees from the ROI center at RA, Dec = 83.6287, 22.0147 7.57107\n",
      "WARNING: Point source x4FGL_J0559d3p0352 lies 19.1165 degrees from the ROI center at RA, Dec = 83.6287, 22.0147 7.57107\n",
      "WARNING: Point source B3_0509p406 lies 19.2321 degrees from the ROI center at RA, Dec = 83.6287, 22.0147 7.57107\n",
      "WARNING: Point source B2_0635p35 lies 19.3015 degrees from the ROI center at RA, Dec = 83.6287, 22.0147 7.57107\n",
      "WARNING: Point source PKS_0550p032 lies 19.3036 degrees from the ROI center at RA, Dec = 83.6287, 22.0147 7.57107\n",
      "WARNING: Point source x4FGL_J0431d0p3529c lies 19.3169 degrees from the ROI center at RA, Dec = 83.6287, 22.0147 7.57107\n",
      "WARNING: Point source x2MASX_J06533986p1636432 lies 19.4161 degrees from the ROI center at RA, Dec = 83.6287, 22.0147 7.57107\n",
      "WARNING: Point source x4FGL_J0658d7p2318 lies 19.4529 degrees from the ROI center at RA, Dec = 83.6287, 22.0147 7.57107\n",
      "WARNING: Point source x4FGL_J0552d0p0256c lies 19.5427 degrees from the ROI center at RA, Dec = 83.6287, 22.0147 7.57107\n",
      "WARNING: Point source GB6_J0555p0304 lies 19.5923 degrees from the ROI center at RA, Dec = 83.6287, 22.0147 7.57107\n",
      "WARNING: Point source B2_0655p27A lies 19.6986 degrees from the ROI center at RA, Dec = 83.6287, 22.0147 7.57107\n",
      "WARNING: Point source x4FGL_J0642d4p1048 lies 19.7363 degrees from the ROI center at RA, Dec = 83.6287, 22.0147 7.57107\n",
      "WARNING: Point source NVSS_J050650p032401 lies 19.7895 degrees from the ROI center at RA, Dec = 83.6287, 22.0147 7.57107\n",
      "WARNING: Point source x4FGL_J0409d2p2542 lies 19.8151 degrees from the ROI center at RA, Dec = 83.6287, 22.0147 7.57107\n"
     ]
    }
   ],
   "source": [
    "# It's better to remove the output directory,...\n",
    "shutil.rmtree(fermipy_output_directory)\n",
    "\n",
    "bayes = BayesianAnalysis(model, data)"
   ]
  },
  {
   "cell_type": "markdown",
   "id": "1482882f",
   "metadata": {},
   "source": [
    "Take care of the nuisance parameters `LAT_isodiff_Normalization` and `LAT_galdiff_Prefactor`, which are only created during the previous step."
   ]
  },
  {
   "cell_type": "code",
   "execution_count": 29,
   "id": "465e209c",
   "metadata": {
    "execution": {
     "iopub.execute_input": "2024-02-08T20:52:29.126586Z",
     "iopub.status.busy": "2024-02-08T20:52:29.126201Z",
     "iopub.status.idle": "2024-02-08T20:52:29.132981Z",
     "shell.execute_reply": "2024-02-08T20:52:29.131768Z"
    }
   },
   "outputs": [],
   "source": [
    "model.LAT_isodiff_Normalization.fix = True\n",
    "model.LAT_galdiff_Prefactor.set_uninformative_prior(Log_uniform_prior)"
   ]
  },
  {
   "cell_type": "code",
   "execution_count": 30,
   "id": "2699d20b",
   "metadata": {
    "execution": {
     "iopub.execute_input": "2024-02-08T20:52:29.140865Z",
     "iopub.status.busy": "2024-02-08T20:52:29.140509Z",
     "iopub.status.idle": "2024-02-08T20:57:49.787319Z",
     "shell.execute_reply": "2024-02-08T20:57:49.785784Z"
    },
    "lines_to_next_cell": 2
   },
   "outputs": [
    {
     "data": {
      "text/html": [
       "<pre style=\"white-space:pre;overflow-x:auto;line-height:normal;font-family:Menlo,'DejaVu Sans Mono',consolas,'Courier New',monospace\"><span style=\"color: #00ff00; text-decoration-color: #00ff00\">20:52:29 </span><span style=\"color: #00ffaf; text-decoration-color: #00ffaf\">INFO    </span> <span style=\"color: #c6c6c6; text-decoration-color: #c6c6c6; font-weight: bold\"> sampler set to </span><span style=\"color: #000080; text-decoration-color: #000080; font-weight: bold\">emcee</span><span style=\"color: #c6c6c6; text-decoration-color: #c6c6c6; font-weight: bold\">                                                    </span><a href=\"file:///Users/runner/work/threeML/threeML/threeML/bayesian/bayesian_analysis.py\" target=\"_blank\"><span style=\"color: #7f7f7f; text-decoration-color: #7f7f7f\">bayesian_analysis.py</span></a><span style=\"color: #7f7f7f; text-decoration-color: #7f7f7f\">:</span><a href=\"file:///Users/runner/work/threeML/threeML/threeML/bayesian/bayesian_analysis.py#202\" target=\"_blank\"><span style=\"color: #7f7f7f; text-decoration-color: #7f7f7f\">202</span></a>\n",
       "</pre>\n"
      ],
      "text/plain": [
       "\u001b[38;5;46m20:52:29\u001b[0m\u001b[38;5;46m \u001b[0m\u001b[38;5;49mINFO    \u001b[0m \u001b[1;38;5;251m sampler set to \u001b[0m\u001b[1;34memcee\u001b[0m\u001b[1;38;5;251m                                                   \u001b[0m\u001b[1;38;5;251m \u001b[0m\u001b]8;id=782025;file:///Users/runner/work/threeML/threeML/threeML/bayesian/bayesian_analysis.py\u001b\\\u001b[2mbayesian_analysis.py\u001b[0m\u001b]8;;\u001b\\\u001b[2m:\u001b[0m\u001b]8;id=567218;file:///Users/runner/work/threeML/threeML/threeML/bayesian/bayesian_analysis.py#202\u001b\\\u001b[2m202\u001b[0m\u001b]8;;\u001b\\\n"
      ]
     },
     "metadata": {},
     "output_type": "display_data"
    },
    {
     "data": {
      "application/vnd.jupyter.widget-view+json": {
       "model_id": "d95dbb5c897d42cf9f2aeda43c75ccc1",
       "version_major": 2,
       "version_minor": 0
      },
      "text/plain": [
       "  0%|          | 0/10 [00:00<?, ?it/s]"
      ]
     },
     "metadata": {},
     "output_type": "display_data"
    },
    {
     "data": {
      "application/vnd.jupyter.widget-view+json": {
       "model_id": "a2c0d9f243de4a4290cb8ccb06ff59a7",
       "version_major": 2,
       "version_minor": 0
      },
      "text/plain": [
       "  0%|          | 0/500 [00:00<?, ?it/s]"
      ]
     },
     "metadata": {},
     "output_type": "display_data"
    },
    {
     "data": {
      "text/html": [
       "<pre style=\"white-space:pre;overflow-x:auto;line-height:normal;font-family:Menlo,'DejaVu Sans Mono',consolas,'Courier New',monospace\"><span style=\"color: #00ff00; text-decoration-color: #00ff00\">20:57:48 </span><span style=\"color: #00ffaf; text-decoration-color: #00ffaf\">INFO    </span> <span style=\"color: #c6c6c6; text-decoration-color: #c6c6c6; font-weight: bold\"> Mean acceptance fraction: </span><span style=\"color: #c0c0c0; text-decoration-color: #c0c0c0; font-weight: bold\">0.48739999999999994</span><span style=\"color: #c6c6c6; text-decoration-color: #c6c6c6; font-weight: bold\">                               </span><a href=\"file:///Users/runner/work/threeML/threeML/threeML/bayesian/emcee_sampler.py\" target=\"_blank\"><span style=\"color: #7f7f7f; text-decoration-color: #7f7f7f\">emcee_sampler.py</span></a><span style=\"color: #7f7f7f; text-decoration-color: #7f7f7f\">:</span><a href=\"file:///Users/runner/work/threeML/threeML/threeML/bayesian/emcee_sampler.py#157\" target=\"_blank\"><span style=\"color: #7f7f7f; text-decoration-color: #7f7f7f\">157</span></a>\n",
       "</pre>\n"
      ],
      "text/plain": [
       "\u001b[38;5;46m20:57:48\u001b[0m\u001b[38;5;46m \u001b[0m\u001b[38;5;49mINFO    \u001b[0m \u001b[1;38;5;251m Mean acceptance fraction: \u001b[0m\u001b[1;37m0.48739999999999994\u001b[0m\u001b[1;38;5;251m                              \u001b[0m\u001b[1;38;5;251m \u001b[0m\u001b]8;id=97118;file:///Users/runner/work/threeML/threeML/threeML/bayesian/emcee_sampler.py\u001b\\\u001b[2memcee_sampler.py\u001b[0m\u001b]8;;\u001b\\\u001b[2m:\u001b[0m\u001b]8;id=146361;file:///Users/runner/work/threeML/threeML/threeML/bayesian/emcee_sampler.py#157\u001b\\\u001b[2m157\u001b[0m\u001b]8;;\u001b\\\n"
      ]
     },
     "metadata": {},
     "output_type": "display_data"
    },
    {
     "data": {
      "text/html": [
       "<pre style=\"white-space:pre;overflow-x:auto;line-height:normal;font-family:Menlo,'DejaVu Sans Mono',consolas,'Courier New',monospace\"><span style=\"color: #00ff00; text-decoration-color: #00ff00\">20:57:49 </span><span style=\"color: #00ffaf; text-decoration-color: #00ffaf\">INFO    </span> <span style=\"color: #c6c6c6; text-decoration-color: #c6c6c6; font-weight: bold\"> fit restored to maximum of posterior                                         </span><a href=\"file:///Users/runner/work/threeML/threeML/threeML/bayesian/sampler_base.py\" target=\"_blank\"><span style=\"color: #7f7f7f; text-decoration-color: #7f7f7f\">sampler_base.py</span></a><span style=\"color: #7f7f7f; text-decoration-color: #7f7f7f\">:</span><a href=\"file:///Users/runner/work/threeML/threeML/threeML/bayesian/sampler_base.py#178\" target=\"_blank\"><span style=\"color: #7f7f7f; text-decoration-color: #7f7f7f\">178</span></a>\n",
       "</pre>\n"
      ],
      "text/plain": [
       "\u001b[38;5;46m20:57:49\u001b[0m\u001b[38;5;46m \u001b[0m\u001b[38;5;49mINFO    \u001b[0m \u001b[1;38;5;251m fit restored to maximum of posterior                                        \u001b[0m\u001b[1;38;5;251m \u001b[0m\u001b]8;id=888654;file:///Users/runner/work/threeML/threeML/threeML/bayesian/sampler_base.py\u001b\\\u001b[2msampler_base.py\u001b[0m\u001b]8;;\u001b\\\u001b[2m:\u001b[0m\u001b]8;id=124920;file:///Users/runner/work/threeML/threeML/threeML/bayesian/sampler_base.py#178\u001b\\\u001b[2m178\u001b[0m\u001b]8;;\u001b\\\n"
      ]
     },
     "metadata": {},
     "output_type": "display_data"
    },
    {
     "data": {
      "text/html": [
       "<pre style=\"white-space:pre;overflow-x:auto;line-height:normal;font-family:Menlo,'DejaVu Sans Mono',consolas,'Courier New',monospace\"><span style=\"color: #00ff00; text-decoration-color: #00ff00\">         </span><span style=\"color: #00ffaf; text-decoration-color: #00ffaf\">INFO    </span> <span style=\"color: #c6c6c6; text-decoration-color: #c6c6c6; font-weight: bold\"> fit restored to maximum of posterior                                         </span><a href=\"file:///Users/runner/work/threeML/threeML/threeML/bayesian/sampler_base.py\" target=\"_blank\"><span style=\"color: #7f7f7f; text-decoration-color: #7f7f7f\">sampler_base.py</span></a><span style=\"color: #7f7f7f; text-decoration-color: #7f7f7f\">:</span><a href=\"file:///Users/runner/work/threeML/threeML/threeML/bayesian/sampler_base.py#178\" target=\"_blank\"><span style=\"color: #7f7f7f; text-decoration-color: #7f7f7f\">178</span></a>\n",
       "</pre>\n"
      ],
      "text/plain": [
       "\u001b[38;5;46m        \u001b[0m\u001b[38;5;46m \u001b[0m\u001b[38;5;49mINFO    \u001b[0m \u001b[1;38;5;251m fit restored to maximum of posterior                                        \u001b[0m\u001b[1;38;5;251m \u001b[0m\u001b]8;id=610772;file:///Users/runner/work/threeML/threeML/threeML/bayesian/sampler_base.py\u001b\\\u001b[2msampler_base.py\u001b[0m\u001b]8;;\u001b\\\u001b[2m:\u001b[0m\u001b]8;id=438931;file:///Users/runner/work/threeML/threeML/threeML/bayesian/sampler_base.py#178\u001b\\\u001b[2m178\u001b[0m\u001b]8;;\u001b\\\n"
      ]
     },
     "metadata": {},
     "output_type": "display_data"
    },
    {
     "data": {
      "text/html": [
       "<pre style=\"white-space:pre;overflow-x:auto;line-height:normal;font-family:Menlo,'DejaVu Sans Mono',consolas,'Courier New',monospace\"><span style=\"color: #00ffaf; text-decoration-color: #00ffaf; font-weight: bold; text-decoration: underline\">Maximum a posteriori probability (MAP) point:</span>\n",
       "\n",
       "</pre>\n"
      ],
      "text/plain": [
       "\u001b[1;4;38;5;49mMaximum a posteriori probability \u001b[0m\u001b[1;4;38;5;49m(\u001b[0m\u001b[1;4;38;5;49mMAP\u001b[0m\u001b[1;4;38;5;49m)\u001b[0m\u001b[1;4;38;5;49m point:\u001b[0m\n",
       "\n"
      ]
     },
     "metadata": {},
     "output_type": "display_data"
    },
    {
     "data": {
      "text/html": [
       "<div>\n",
       "<style scoped>\n",
       "    .dataframe tbody tr th:only-of-type {\n",
       "        vertical-align: middle;\n",
       "    }\n",
       "\n",
       "    .dataframe tbody tr th {\n",
       "        vertical-align: top;\n",
       "    }\n",
       "\n",
       "    .dataframe thead th {\n",
       "        text-align: right;\n",
       "    }\n",
       "</style>\n",
       "<table border=\"1\" class=\"dataframe\">\n",
       "  <thead>\n",
       "    <tr style=\"text-align: right;\">\n",
       "      <th></th>\n",
       "      <th>result</th>\n",
       "      <th>unit</th>\n",
       "    </tr>\n",
       "    <tr>\n",
       "      <th>parameter</th>\n",
       "      <th></th>\n",
       "      <th></th>\n",
       "    </tr>\n",
       "  </thead>\n",
       "  <tbody>\n",
       "    <tr>\n",
       "      <th>PSR_J0534p2200...K</th>\n",
       "      <td>(2.522 -0.15 +0.029) x 10^-13</td>\n",
       "      <td>1 / (cm2 keV s)</td>\n",
       "    </tr>\n",
       "    <tr>\n",
       "      <th>PSR_J0534p2200...index</th>\n",
       "      <td>-1.781 -0.034 +0.017</td>\n",
       "      <td></td>\n",
       "    </tr>\n",
       "    <tr>\n",
       "      <th>NVSS_J052622p224801.spectrum.main.Powerlaw.K</th>\n",
       "      <td>(0.000 +0.012 +1.1) x 10^-16</td>\n",
       "      <td>1 / (cm2 keV s)</td>\n",
       "    </tr>\n",
       "    <tr>\n",
       "      <th>LAT_galdiff_Prefactor</th>\n",
       "      <td>(9.50 -0.26 +0.14) x 10^-1</td>\n",
       "      <td></td>\n",
       "    </tr>\n",
       "  </tbody>\n",
       "</table>\n",
       "</div>"
      ],
      "text/plain": [
       "                                                                     result  \\\n",
       "parameter                                                                     \n",
       "PSR_J0534p2200...K                            (2.522 -0.15 +0.029) x 10^-13   \n",
       "PSR_J0534p2200...index                                 -1.781 -0.034 +0.017   \n",
       "NVSS_J052622p224801.spectrum.main.Powerlaw.K   (0.000 +0.012 +1.1) x 10^-16   \n",
       "LAT_galdiff_Prefactor                            (9.50 -0.26 +0.14) x 10^-1   \n",
       "\n",
       "                                                         unit  \n",
       "parameter                                                      \n",
       "PSR_J0534p2200...K                            1 / (cm2 keV s)  \n",
       "PSR_J0534p2200...index                                         \n",
       "NVSS_J052622p224801.spectrum.main.Powerlaw.K  1 / (cm2 keV s)  \n",
       "LAT_galdiff_Prefactor                                          "
      ]
     },
     "metadata": {},
     "output_type": "display_data"
    },
    {
     "data": {
      "text/html": [
       "<pre style=\"white-space:pre;overflow-x:auto;line-height:normal;font-family:Menlo,'DejaVu Sans Mono',consolas,'Courier New',monospace\">\n",
       "<span style=\"color: #00ffaf; text-decoration-color: #00ffaf; font-weight: bold; text-decoration: underline\">Values of -log(posterior) at the minimum:</span>\n",
       "\n",
       "</pre>\n"
      ],
      "text/plain": [
       "\n",
       "\u001b[1;4;38;5;49mValues of -\u001b[0m\u001b[1;4;38;5;49mlog\u001b[0m\u001b[1;4;38;5;49m(\u001b[0m\u001b[1;4;38;5;49mposterior\u001b[0m\u001b[1;4;38;5;49m)\u001b[0m\u001b[1;4;38;5;49m at the minimum:\u001b[0m\n",
       "\n"
      ]
     },
     "metadata": {},
     "output_type": "display_data"
    },
    {
     "data": {
      "text/html": [
       "<div>\n",
       "<style scoped>\n",
       "    .dataframe tbody tr th:only-of-type {\n",
       "        vertical-align: middle;\n",
       "    }\n",
       "\n",
       "    .dataframe tbody tr th {\n",
       "        vertical-align: top;\n",
       "    }\n",
       "\n",
       "    .dataframe thead th {\n",
       "        text-align: right;\n",
       "    }\n",
       "</style>\n",
       "<table border=\"1\" class=\"dataframe\">\n",
       "  <thead>\n",
       "    <tr style=\"text-align: right;\">\n",
       "      <th></th>\n",
       "      <th>-log(posterior)</th>\n",
       "    </tr>\n",
       "  </thead>\n",
       "  <tbody>\n",
       "    <tr>\n",
       "      <th>LAT</th>\n",
       "      <td>-118001.347123</td>\n",
       "    </tr>\n",
       "    <tr>\n",
       "      <th>total</th>\n",
       "      <td>-118001.347123</td>\n",
       "    </tr>\n",
       "  </tbody>\n",
       "</table>\n",
       "</div>"
      ],
      "text/plain": [
       "       -log(posterior)\n",
       "LAT     -118001.347123\n",
       "total   -118001.347123"
      ]
     },
     "metadata": {},
     "output_type": "display_data"
    },
    {
     "data": {
      "text/html": [
       "<pre style=\"white-space:pre;overflow-x:auto;line-height:normal;font-family:Menlo,'DejaVu Sans Mono',consolas,'Courier New',monospace\">\n",
       "<span style=\"color: #00ffaf; text-decoration-color: #00ffaf; font-weight: bold; text-decoration: underline\">Values of statistical measures:</span>\n",
       "\n",
       "</pre>\n"
      ],
      "text/plain": [
       "\n",
       "\u001b[1;4;38;5;49mValues of statistical measures:\u001b[0m\n",
       "\n"
      ]
     },
     "metadata": {},
     "output_type": "display_data"
    },
    {
     "data": {
      "text/html": [
       "<div>\n",
       "<style scoped>\n",
       "    .dataframe tbody tr th:only-of-type {\n",
       "        vertical-align: middle;\n",
       "    }\n",
       "\n",
       "    .dataframe tbody tr th {\n",
       "        vertical-align: top;\n",
       "    }\n",
       "\n",
       "    .dataframe thead th {\n",
       "        text-align: right;\n",
       "    }\n",
       "</style>\n",
       "<table border=\"1\" class=\"dataframe\">\n",
       "  <thead>\n",
       "    <tr style=\"text-align: right;\">\n",
       "      <th></th>\n",
       "      <th>statistical measures</th>\n",
       "    </tr>\n",
       "  </thead>\n",
       "  <tbody>\n",
       "    <tr>\n",
       "      <th>AIC</th>\n",
       "      <td>236010.694388</td>\n",
       "    </tr>\n",
       "    <tr>\n",
       "      <th>BIC</th>\n",
       "      <td>236052.864425</td>\n",
       "    </tr>\n",
       "    <tr>\n",
       "      <th>DIC</th>\n",
       "      <td>236018.857790</td>\n",
       "    </tr>\n",
       "    <tr>\n",
       "      <th>PDIC</th>\n",
       "      <td>2.024210</td>\n",
       "    </tr>\n",
       "  </tbody>\n",
       "</table>\n",
       "</div>"
      ],
      "text/plain": [
       "      statistical measures\n",
       "AIC          236010.694388\n",
       "BIC          236052.864425\n",
       "DIC          236018.857790\n",
       "PDIC              2.024210"
      ]
     },
     "metadata": {},
     "output_type": "display_data"
    }
   ],
   "source": [
    "bayes.set_sampler(\"emcee\")\n",
    "\n",
    "n_walkers = 10\n",
    "burn_in = 10\n",
    "n_samples = 500\n",
    "\n",
    "bayes.sampler.setup(n_iterations=n_samples, n_burn_in=burn_in, n_walkers=n_walkers)\n",
    "\n",
    "res = bayes.sample()"
   ]
  },
  {
   "cell_type": "markdown",
   "id": "3c3e155f",
   "metadata": {},
   "source": [
    "You can access to the parameter range like this (HPD):"
   ]
  },
  {
   "cell_type": "code",
   "execution_count": 31,
   "id": "3d4b4a41",
   "metadata": {
    "execution": {
     "iopub.execute_input": "2024-02-08T20:57:49.795996Z",
     "iopub.status.busy": "2024-02-08T20:57:49.795588Z",
     "iopub.status.idle": "2024-02-08T20:57:49.824705Z",
     "shell.execute_reply": "2024-02-08T20:57:49.822997Z"
    }
   },
   "outputs": [
    {
     "name": "stdout",
     "output_type": "stream",
     "text": [
      "Highest_posterior_density_intervals :\n",
      "K (68%):       2.36e-13,  2.54e-13\n",
      "K (95%):       2.29e-13,  2.65e-13\n",
      "Index (68%):  -1.81e+00, -1.76e+00\n",
      "Index (95%):  -1.85e+00, -1.75e+00\n"
     ]
    }
   ],
   "source": [
    "this_K = bayes.results.get_variates(\n",
    "    \"PSR_J0534p2200.spectrum.main.Super_cutoff_powerlaw.K\"\n",
    ")\n",
    "this_idx = bayes.results.get_variates(\n",
    "    \"PSR_J0534p2200.spectrum.main.Super_cutoff_powerlaw.index\"\n",
    ")\n",
    "\n",
    "print(\"Highest_posterior_density_intervals :\")\n",
    "print(\n",
    "    \"K (68%%):     %10.2e,%10.2e\" % this_K.highest_posterior_density_interval(cl=0.68)\n",
    ")\n",
    "print(\n",
    "    \"K (95%%):     %10.2e,%10.2e\" % this_K.highest_posterior_density_interval(cl=0.95)\n",
    ")\n",
    "print(\n",
    "    \"Index (68%%): %10.2e,%10.2e\" % this_idx.highest_posterior_density_interval(cl=0.68)\n",
    ")\n",
    "print(\n",
    "    \"Index (95%%): %10.2e,%10.2e\" % this_idx.highest_posterior_density_interval(cl=0.95)\n",
    ")"
   ]
  },
  {
   "cell_type": "code",
   "execution_count": 32,
   "id": "e0e808e9",
   "metadata": {
    "execution": {
     "iopub.execute_input": "2024-02-08T20:57:49.833114Z",
     "iopub.status.busy": "2024-02-08T20:57:49.832727Z",
     "iopub.status.idle": "2024-02-08T20:57:50.764796Z",
     "shell.execute_reply": "2024-02-08T20:57:50.763354Z"
    }
   },
   "outputs": [
    {
     "data": {
      "image/png": "[encoded data removed]",
      "text/plain": [
       "<Figure size 970x970 with 16 Axes>"
      ]
     },
     "execution_count": 32,
     "metadata": {},
     "output_type": "execute_result"
    }
   ],
   "source": [
    "corner_figure = bayes.results.corner_plot()\n",
    "corner_figure"
   ]
  },
  {
   "cell_type": "code",
   "execution_count": null,
   "id": "911d8ed6",
   "metadata": {},
   "outputs": [],
   "source": []
  }
 ],
 "metadata": {
  "jupytext": {
   "formats": "ipynb,md"
  },
  "kernelspec": {
   "display_name": "Python 3 (ipykernel)",
   "language": "python",
   "name": "python3"
  },
  "language_info": {
   "codemirror_mode": {
    "name": "ipython",
    "version": 3
   },
   "file_extension": ".py",
   "mimetype": "text/x-python",
   "name": "python",
   "nbconvert_exporter": "python",
   "pygments_lexer": "ipython3",
   "version": "3.9.13"
  },
  "widgets": {
   "application/vnd.jupyter.widget-state+json": {
    "state": {
     "03d4dcf3cfe143ba978d868eb4fb9989": {
      "model_module": "@jupyter-widgets/controls",
      "model_module_version": "2.0.0",
      "model_name": "HTMLModel",
      "state": {
       "_dom_classes": [],
       "_model_module": "@jupyter-widgets/controls",
       "_model_module_version": "2.0.0",
       "_model_name": "HTMLModel",
       "_view_count": null,
       "_view_module": "@jupyter-widgets/controls",
       "_view_module_version": "2.0.0",
       "_view_name": "HTMLView",
       "description": "",
       "description_allow_html": false,
       "layout": "IPY_MODEL_4575985ec9b64d3d859e6c8f31192527",
       "placeholder": "​",
       "style": "IPY_MODEL_2825aeb0e5444b2f9aed3b85c601c681",
       "tabbable": null,
       "tooltip": null,
       "value": "Profiling likelihood: 100%"
      }
     },
     "0836d1479ac24547a284cff422916a0a": {
      "model_module": "@jupyter-widgets/controls",
      "model_module_version": "2.0.0",
      "model_name": "HTMLModel",
      "state": {
       "_dom_classes": [],
       "_model_module": "@jupyter-widgets/controls",
       "_model_module_version": "2.0.0",
       "_model_name": "HTMLModel",
       "_view_count": null,
       "_view_module": "@jupyter-widgets/controls",
       "_view_module_version": "2.0.0",
       "_view_name": "HTMLView",
       "description": "",
       "description_allow_html": false,
       "layout": "IPY_MODEL_21d653ec9a3043c4a9ea7c9139abfd30",
       "placeholder": "​",
       "style": "IPY_MODEL_353e99ce4edc4398bc0a667256d5996e",
       "tabbable": null,
       "tooltip": null,
       "value": "Profiling likelihood: 100%"
      }
     },
     "10216922e99945599beb5f8f1c92c43c": {
      "model_module": "@jupyter-widgets/base",
      "model_module_version": "2.0.0",
      "model_name": "LayoutModel",
      "state": {
       "_model_module": "@jupyter-widgets/base",
       "_model_module_version": "2.0.0",
       "_model_name": "LayoutModel",
       "_view_count": null,
       "_view_module": "@jupyter-widgets/base",
       "_view_module_version": "2.0.0",
       "_view_name": "LayoutView",
       "align_content": null,
       "align_items": null,
       "align_self": null,
       "border_bottom": null,
       "border_left": null,
       "border_right": null,
       "border_top": null,
       "bottom": null,
       "display": null,
       "flex": null,
       "flex_flow": null,
       "grid_area": null,
       "grid_auto_columns": null,
       "grid_auto_flow": null,
       "grid_auto_rows": null,
       "grid_column": null,
       "grid_gap": null,
       "grid_row": null,
       "grid_template_areas": null,
       "grid_template_columns": null,
       "grid_template_rows": null,
       "height": null,
       "justify_content": null,
       "justify_items": null,
       "left": null,
       "margin": null,
       "max_height": null,
       "max_width": null,
       "min_height": null,
       "min_width": null,
       "object_fit": null,
       "object_position": null,
       "order": null,
       "overflow": null,
       "padding": null,
       "right": null,
       "top": null,
       "visibility": null,
       "width": null
      }
     },
     "1204970fe29e493089bd15f61ffbef51": {
      "model_module": "@jupyter-widgets/controls",
      "model_module_version": "2.0.0",
      "model_name": "HTMLStyleModel",
      "state": {
       "_model_module": "@jupyter-widgets/controls",
       "_model_module_version": "2.0.0",
       "_model_name": "HTMLStyleModel",
       "_view_count": null,
       "_view_module": "@jupyter-widgets/base",
       "_view_module_version": "2.0.0",
       "_view_name": "StyleView",
       "background": null,
       "description_width": "",
       "font_size": null,
       "text_color": null
      }
     },
     "18dbac0eb18942689cb0df28dcb62b5e": {
      "model_module": "@jupyter-widgets/base",
      "model_module_version": "2.0.0",
      "model_name": "LayoutModel",
      "state": {
       "_model_module": "@jupyter-widgets/base",
       "_model_module_version": "2.0.0",
       "_model_name": "LayoutModel",
       "_view_count": null,
       "_view_module": "@jupyter-widgets/base",
       "_view_module_version": "2.0.0",
       "_view_name": "LayoutView",
       "align_content": null,
       "align_items": null,
       "align_self": null,
       "border_bottom": null,
       "border_left": null,
       "border_right": null,
       "border_top": null,
       "bottom": null,
       "display": "inline-flex",
       "flex": null,
       "flex_flow": "row wrap",
       "grid_area": null,
       "grid_auto_columns": null,
       "grid_auto_flow": null,
       "grid_auto_rows": null,
       "grid_column": null,
       "grid_gap": null,
       "grid_row": null,
       "grid_template_areas": null,
       "grid_template_columns": null,
       "grid_template_rows": null,
       "height": null,
       "justify_content": null,
       "justify_items": null,
       "left": null,
       "margin": null,
       "max_height": null,
       "max_width": null,
       "min_height": null,
       "min_width": null,
       "object_fit": null,
       "object_position": null,
       "order": null,
       "overflow": null,
       "padding": null,
       "right": null,
       "top": null,
       "visibility": null,
       "width": "100%"
      }
     },
     "19951222bfbf42f2ac698af8f6d78290": {
      "model_module": "@jupyter-widgets/base",
      "model_module_version": "2.0.0",
      "model_name": "LayoutModel",
      "state": {
       "_model_module": "@jupyter-widgets/base",
       "_model_module_version": "2.0.0",
       "_model_name": "LayoutModel",
       "_view_count": null,
       "_view_module": "@jupyter-widgets/base",
       "_view_module_version": "2.0.0",
       "_view_name": "LayoutView",
       "align_content": null,
       "align_items": null,
       "align_self": null,
       "border_bottom": null,
       "border_left": null,
       "border_right": null,
       "border_top": null,
       "bottom": null,
       "display": null,
       "flex": null,
       "flex_flow": null,
       "grid_area": null,
       "grid_auto_columns": null,
       "grid_auto_flow": null,
       "grid_auto_rows": null,
       "grid_column": null,
       "grid_gap": null,
       "grid_row": null,
       "grid_template_areas": null,
       "grid_template_columns": null,
       "grid_template_rows": null,
       "height": null,
       "justify_content": null,
       "justify_items": null,
       "left": null,
       "margin": null,
       "max_height": null,
       "max_width": null,
       "min_height": null,
       "min_width": null,
       "object_fit": null,
       "object_position": null,
       "order": null,
       "overflow": null,
       "padding": null,
       "right": null,
       "top": null,
       "visibility": null,
       "width": null
      }
     },
     "1bb820cb53cd436e9ff09d9cc381b700": {
      "model_module": "@jupyter-widgets/controls",
      "model_module_version": "2.0.0",
      "model_name": "ProgressStyleModel",
      "state": {
       "_model_module": "@jupyter-widgets/controls",
       "_model_module_version": "2.0.0",
       "_model_name": "ProgressStyleModel",
       "_view_count": null,
       "_view_module": "@jupyter-widgets/base",
       "_view_module_version": "2.0.0",
       "_view_name": "StyleView",
       "bar_color": null,
       "description_width": ""
      }
     },
     "1fe20771ca8b441ebd3112ac28d5f8e6": {
      "model_module": "@jupyter-widgets/controls",
      "model_module_version": "2.0.0",
      "model_name": "HTMLStyleModel",
      "state": {
       "_model_module": "@jupyter-widgets/controls",
       "_model_module_version": "2.0.0",
       "_model_name": "HTMLStyleModel",
       "_view_count": null,
       "_view_module": "@jupyter-widgets/base",
       "_view_module_version": "2.0.0",
       "_view_name": "StyleView",
       "background": null,
       "description_width": "",
       "font_size": null,
       "text_color": null
      }
     },
     "2043637bb9414f04b4b7fe75937b2c01": {
      "model_module": "@jupyter-widgets/base",
      "model_module_version": "2.0.0",
      "model_name": "LayoutModel",
      "state": {
       "_model_module": "@jupyter-widgets/base",
       "_model_module_version": "2.0.0",
       "_model_name": "LayoutModel",
       "_view_count": null,
       "_view_module": "@jupyter-widgets/base",
       "_view_module_version": "2.0.0",
       "_view_name": "LayoutView",
       "align_content": null,
       "align_items": null,
       "align_self": null,
       "border_bottom": null,
       "border_left": null,
       "border_right": null,
       "border_top": null,
       "bottom": null,
       "display": null,
       "flex": null,
       "flex_flow": null,
       "grid_area": null,
       "grid_auto_columns": null,
       "grid_auto_flow": null,
       "grid_auto_rows": null,
       "grid_column": null,
       "grid_gap": null,
       "grid_row": null,
       "grid_template_areas": null,
       "grid_template_columns": null,
       "grid_template_rows": null,
       "height": null,
       "justify_content": null,
       "justify_items": null,
       "left": null,
       "margin": null,
       "max_height": null,
       "max_width": null,
       "min_height": null,
       "min_width": null,
       "object_fit": null,
       "object_position": null,
       "order": null,
       "overflow": null,
       "padding": null,
       "right": null,
       "top": null,
       "visibility": null,
       "width": null
      }
     },
     "21d653ec9a3043c4a9ea7c9139abfd30": {
      "model_module": "@jupyter-widgets/base",
      "model_module_version": "2.0.0",
      "model_name": "LayoutModel",
      "state": {
       "_model_module": "@jupyter-widgets/base",
       "_model_module_version": "2.0.0",
       "_model_name": "LayoutModel",
       "_view_count": null,
       "_view_module": "@jupyter-widgets/base",
       "_view_module_version": "2.0.0",
       "_view_name": "LayoutView",
       "align_content": null,
       "align_items": null,
       "align_self": null,
       "border_bottom": null,
       "border_left": null,
       "border_right": null,
       "border_top": null,
       "bottom": null,
       "display": null,
       "flex": null,
       "flex_flow": null,
       "grid_area": null,
       "grid_auto_columns": null,
       "grid_auto_flow": null,
       "grid_auto_rows": null,
       "grid_column": null,
       "grid_gap": null,
       "grid_row": null,
       "grid_template_areas": null,
       "grid_template_columns": null,
       "grid_template_rows": null,
       "height": null,
       "justify_content": null,
       "justify_items": null,
       "left": null,
       "margin": null,
       "max_height": null,
       "max_width": null,
       "min_height": null,
       "min_width": null,
       "object_fit": null,
       "object_position": null,
       "order": null,
       "overflow": null,
       "padding": null,
       "right": null,
       "top": null,
       "visibility": null,
       "width": null
      }
     },
     "236a43b8e74046beb4bf3001ee8a4d50": {
      "model_module": "@jupyter-widgets/controls",
      "model_module_version": "2.0.0",
      "model_name": "HTMLStyleModel",
      "state": {
       "_model_module": "@jupyter-widgets/controls",
       "_model_module_version": "2.0.0",
       "_model_name": "HTMLStyleModel",
       "_view_count": null,
       "_view_module": "@jupyter-widgets/base",
       "_view_module_version": "2.0.0",
       "_view_name": "StyleView",
       "background": null,
       "description_width": "",
       "font_size": null,
       "text_color": null
      }
     },
     "2825aeb0e5444b2f9aed3b85c601c681": {
      "model_module": "@jupyter-widgets/controls",
      "model_module_version": "2.0.0",
      "model_name": "HTMLStyleModel",
      "state": {
       "_model_module": "@jupyter-widgets/controls",
       "_model_module_version": "2.0.0",
       "_model_name": "HTMLStyleModel",
       "_view_count": null,
       "_view_module": "@jupyter-widgets/base",
       "_view_module_version": "2.0.0",
       "_view_name": "StyleView",
       "background": null,
       "description_width": "",
       "font_size": null,
       "text_color": null
      }
     },
     "29e89da93219402dbfaeb8c96ca4cba8": {
      "model_module": "@jupyter-widgets/base",
      "model_module_version": "2.0.0",
      "model_name": "LayoutModel",
      "state": {
       "_model_module": "@jupyter-widgets/base",
       "_model_module_version": "2.0.0",
       "_model_name": "LayoutModel",
       "_view_count": null,
       "_view_module": "@jupyter-widgets/base",
       "_view_module_version": "2.0.0",
       "_view_name": "LayoutView",
       "align_content": null,
       "align_items": null,
       "align_self": null,
       "border_bottom": null,
       "border_left": null,
       "border_right": null,
       "border_top": null,
       "bottom": null,
       "display": null,
       "flex": null,
       "flex_flow": null,
       "grid_area": null,
       "grid_auto_columns": null,
       "grid_auto_flow": null,
       "grid_auto_rows": null,
       "grid_column": null,
       "grid_gap": null,
       "grid_row": null,
       "grid_template_areas": null,
       "grid_template_columns": null,
       "grid_template_rows": null,
       "height": null,
       "justify_content": null,
       "justify_items": null,
       "left": null,
       "margin": null,
       "max_height": null,
       "max_width": null,
       "min_height": null,
       "min_width": null,
       "object_fit": null,
       "object_position": null,
       "order": null,
       "overflow": null,
       "padding": null,
       "right": null,
       "top": null,
       "visibility": null,
       "width": null
      }
     },
     "2e2c88856477415283abc3dcb57b1e61": {
      "model_module": "@jupyter-widgets/base",
      "model_module_version": "2.0.0",
      "model_name": "LayoutModel",
      "state": {
       "_model_module": "@jupyter-widgets/base",
       "_model_module_version": "2.0.0",
       "_model_name": "LayoutModel",
       "_view_count": null,
       "_view_module": "@jupyter-widgets/base",
       "_view_module_version": "2.0.0",
       "_view_name": "LayoutView",
       "align_content": null,
       "align_items": null,
       "align_self": null,
       "border_bottom": null,
       "border_left": null,
       "border_right": null,
       "border_top": null,
       "bottom": null,
       "display": null,
       "flex": null,
       "flex_flow": null,
       "grid_area": null,
       "grid_auto_columns": null,
       "grid_auto_flow": null,
       "grid_auto_rows": null,
       "grid_column": null,
       "grid_gap": null,
       "grid_row": null,
       "grid_template_areas": null,
       "grid_template_columns": null,
       "grid_template_rows": null,
       "height": null,
       "justify_content": null,
       "justify_items": null,
       "left": null,
       "margin": null,
       "max_height": null,
       "max_width": null,
       "min_height": null,
       "min_width": null,
       "object_fit": null,
       "object_position": null,
       "order": null,
       "overflow": null,
       "padding": null,
       "right": null,
       "top": null,
       "visibility": null,
       "width": null
      }
     },
     "3227cb8c114a4f3599e96acff5eb46e4": {
      "model_module": "@jupyter-widgets/base",
      "model_module_version": "2.0.0",
      "model_name": "LayoutModel",
      "state": {
       "_model_module": "@jupyter-widgets/base",
       "_model_module_version": "2.0.0",
       "_model_name": "LayoutModel",
       "_view_count": null,
       "_view_module": "@jupyter-widgets/base",
       "_view_module_version": "2.0.0",
       "_view_name": "LayoutView",
       "align_content": null,
       "align_items": null,
       "align_self": null,
       "border_bottom": null,
       "border_left": null,
       "border_right": null,
       "border_top": null,
       "bottom": null,
       "display": null,
       "flex": null,
       "flex_flow": null,
       "grid_area": null,
       "grid_auto_columns": null,
       "grid_auto_flow": null,
       "grid_auto_rows": null,
       "grid_column": null,
       "grid_gap": null,
       "grid_row": null,
       "grid_template_areas": null,
       "grid_template_columns": null,
       "grid_template_rows": null,
       "height": null,
       "justify_content": null,
       "justify_items": null,
       "left": null,
       "margin": null,
       "max_height": null,
       "max_width": null,
       "min_height": null,
       "min_width": null,
       "object_fit": null,
       "object_position": null,
       "order": null,
       "overflow": null,
       "padding": null,
       "right": null,
       "top": null,
       "visibility": null,
       "width": null
      }
     },
     "353e99ce4edc4398bc0a667256d5996e": {
      "model_module": "@jupyter-widgets/controls",
      "model_module_version": "2.0.0",
      "model_name": "HTMLStyleModel",
      "state": {
       "_model_module": "@jupyter-widgets/controls",
       "_model_module_version": "2.0.0",
       "_model_name": "HTMLStyleModel",
       "_view_count": null,
       "_view_module": "@jupyter-widgets/base",
       "_view_module_version": "2.0.0",
       "_view_name": "StyleView",
       "background": null,
       "description_width": "",
       "font_size": null,
       "text_color": null
      }
     },
     "3dde2674f56f40fda18a16798fac3f0c": {
      "model_module": "@jupyter-widgets/controls",
      "model_module_version": "2.0.0",
      "model_name": "ProgressStyleModel",
      "state": {
       "_model_module": "@jupyter-widgets/controls",
       "_model_module_version": "2.0.0",
       "_model_name": "ProgressStyleModel",
       "_view_count": null,
       "_view_module": "@jupyter-widgets/base",
       "_view_module_version": "2.0.0",
       "_view_name": "StyleView",
       "bar_color": "#277f8e",
       "description_width": ""
      }
     },
     "405efa6913c64b46a72abe5fc7a4ee7c": {
      "model_module": "@jupyter-widgets/controls",
      "model_module_version": "2.0.0",
      "model_name": "HTMLStyleModel",
      "state": {
       "_model_module": "@jupyter-widgets/controls",
       "_model_module_version": "2.0.0",
       "_model_name": "HTMLStyleModel",
       "_view_count": null,
       "_view_module": "@jupyter-widgets/base",
       "_view_module_version": "2.0.0",
       "_view_name": "StyleView",
       "background": null,
       "description_width": "",
       "font_size": null,
       "text_color": null
      }
     },
     "42073871d404486a86e51a25c61aaa92": {
      "model_module": "@jupyter-widgets/controls",
      "model_module_version": "2.0.0",
      "model_name": "FloatProgressModel",
      "state": {
       "_dom_classes": [],
       "_model_module": "@jupyter-widgets/controls",
       "_model_module_version": "2.0.0",
       "_model_name": "FloatProgressModel",
       "_view_count": null,
       "_view_module": "@jupyter-widgets/controls",
       "_view_module_version": "2.0.0",
       "_view_name": "ProgressView",
       "bar_style": "success",
       "description": "",
       "description_allow_html": false,
       "layout": "IPY_MODEL_e9f5472a731e4a3b920571cf2da1d0cb",
       "max": 400.0,
       "min": 0.0,
       "orientation": "horizontal",
       "style": "IPY_MODEL_3dde2674f56f40fda18a16798fac3f0c",
       "tabbable": null,
       "tooltip": null,
       "value": 400.0
      }
     },
     "441ff6391ad34de89854105a4e1ec0ff": {
      "model_module": "@jupyter-widgets/controls",
      "model_module_version": "2.0.0",
      "model_name": "HTMLStyleModel",
      "state": {
       "_model_module": "@jupyter-widgets/controls",
       "_model_module_version": "2.0.0",
       "_model_name": "HTMLStyleModel",
       "_view_count": null,
       "_view_module": "@jupyter-widgets/base",
       "_view_module_version": "2.0.0",
       "_view_name": "StyleView",
       "background": null,
       "description_width": "",
       "font_size": null,
       "text_color": null
      }
     },
     "4575985ec9b64d3d859e6c8f31192527": {
      "model_module": "@jupyter-widgets/base",
      "model_module_version": "2.0.0",
      "model_name": "LayoutModel",
      "state": {
       "_model_module": "@jupyter-widgets/base",
       "_model_module_version": "2.0.0",
       "_model_name": "LayoutModel",
       "_view_count": null,
       "_view_module": "@jupyter-widgets/base",
       "_view_module_version": "2.0.0",
       "_view_name": "LayoutView",
       "align_content": null,
       "align_items": null,
       "align_self": null,
       "border_bottom": null,
       "border_left": null,
       "border_right": null,
       "border_top": null,
       "bottom": null,
       "display": null,
       "flex": null,
       "flex_flow": null,
       "grid_area": null,
       "grid_auto_columns": null,
       "grid_auto_flow": null,
       "grid_auto_rows": null,
       "grid_column": null,
       "grid_gap": null,
       "grid_row": null,
       "grid_template_areas": null,
       "grid_template_columns": null,
       "grid_template_rows": null,
       "height": null,
       "justify_content": null,
       "justify_items": null,
       "left": null,
       "margin": null,
       "max_height": null,
       "max_width": null,
       "min_height": null,
       "min_width": null,
       "object_fit": null,
       "object_position": null,
       "order": null,
       "overflow": null,
       "padding": null,
       "right": null,
       "top": null,
       "visibility": null,
       "width": null
      }
     },
     "49657a7e04804a729b9e79779ac23fcf": {
      "model_module": "@jupyter-widgets/controls",
      "model_module_version": "2.0.0",
      "model_name": "HTMLModel",
      "state": {
       "_dom_classes": [],
       "_model_module": "@jupyter-widgets/controls",
       "_model_module_version": "2.0.0",
       "_model_name": "HTMLModel",
       "_view_count": null,
       "_view_module": "@jupyter-widgets/controls",
       "_view_module_version": "2.0.0",
       "_view_name": "HTMLView",
       "description": "",
       "description_allow_html": false,
       "layout": "IPY_MODEL_c3f759a4912843a78270664a8e3d38f2",
       "placeholder": "​",
       "style": "IPY_MODEL_441ff6391ad34de89854105a4e1ec0ff",
       "tabbable": null,
       "tooltip": null,
       "value": "Downloading L240208144207BF968AF283_PH00.fits: 100%"
      }
     },
     "49f3a3ddd8224d4980ef0951d27e204d": {
      "model_module": "@jupyter-widgets/base",
      "model_module_version": "2.0.0",
      "model_name": "LayoutModel",
      "state": {
       "_model_module": "@jupyter-widgets/base",
       "_model_module_version": "2.0.0",
       "_model_name": "LayoutModel",
       "_view_count": null,
       "_view_module": "@jupyter-widgets/base",
       "_view_module_version": "2.0.0",
       "_view_name": "LayoutView",
       "align_content": null,
       "align_items": null,
       "align_self": null,
       "border_bottom": null,
       "border_left": null,
       "border_right": null,
       "border_top": null,
       "bottom": null,
       "display": "inline-flex",
       "flex": null,
       "flex_flow": "row wrap",
       "grid_area": null,
       "grid_auto_columns": null,
       "grid_auto_flow": null,
       "grid_auto_rows": null,
       "grid_column": null,
       "grid_gap": null,
       "grid_row": null,
       "grid_template_areas": null,
       "grid_template_columns": null,
       "grid_template_rows": null,
       "height": null,
       "justify_content": null,
       "justify_items": null,
       "left": null,
       "margin": null,
       "max_height": null,
       "max_width": null,
       "min_height": null,
       "min_width": null,
       "object_fit": null,
       "object_position": null,
       "order": null,
       "overflow": null,
       "padding": null,
       "right": null,
       "top": null,
       "visibility": null,
       "width": "100%"
      }
     },
     "4bf6a70764cf4792a9983beb4ccb2150": {
      "model_module": "@jupyter-widgets/base",
      "model_module_version": "2.0.0",
      "model_name": "LayoutModel",
      "state": {
       "_model_module": "@jupyter-widgets/base",
       "_model_module_version": "2.0.0",
       "_model_name": "LayoutModel",
       "_view_count": null,
       "_view_module": "@jupyter-widgets/base",
       "_view_module_version": "2.0.0",
       "_view_name": "LayoutView",
       "align_content": null,
       "align_items": null,
       "align_self": null,
       "border_bottom": null,
       "border_left": null,
       "border_right": null,
       "border_top": null,
       "bottom": null,
       "display": null,
       "flex": null,
       "flex_flow": null,
       "grid_area": null,
       "grid_auto_columns": null,
       "grid_auto_flow": null,
       "grid_auto_rows": null,
       "grid_column": null,
       "grid_gap": null,
       "grid_row": null,
       "grid_template_areas": null,
       "grid_template_columns": null,
       "grid_template_rows": null,
       "height": null,
       "justify_content": null,
       "justify_items": null,
       "left": null,
       "margin": null,
       "max_height": null,
       "max_width": null,
       "min_height": null,
       "min_width": null,
       "object_fit": null,
       "object_position": null,
       "order": null,
       "overflow": null,
       "padding": null,
       "right": null,
       "top": null,
       "visibility": null,
       "width": null
      }
     },
     "516c67721db4480faf5c68495b8dd060": {
      "model_module": "@jupyter-widgets/controls",
      "model_module_version": "2.0.0",
      "model_name": "FloatProgressModel",
      "state": {
       "_dom_classes": [],
       "_model_module": "@jupyter-widgets/controls",
       "_model_module_version": "2.0.0",
       "_model_name": "FloatProgressModel",
       "_view_count": null,
       "_view_module": "@jupyter-widgets/controls",
       "_view_module_version": "2.0.0",
       "_view_name": "ProgressView",
       "bar_style": "success",
       "description": "",
       "description_allow_html": false,
       "layout": "IPY_MODEL_db14b663c729486db2873af84e9de723",
       "max": 500.0,
       "min": 0.0,
       "orientation": "horizontal",
       "style": "IPY_MODEL_f0b93f4f87434a2a8000b878f6e56c08",
       "tabbable": null,
       "tooltip": null,
       "value": 500.0
      }
     },
     "519954f093644b48b8a934d173010901": {
      "model_module": "@jupyter-widgets/controls",
      "model_module_version": "2.0.0",
      "model_name": "HTMLModel",
      "state": {
       "_dom_classes": [],
       "_model_module": "@jupyter-widgets/controls",
       "_model_module_version": "2.0.0",
       "_model_name": "HTMLModel",
       "_view_count": null,
       "_view_module": "@jupyter-widgets/controls",
       "_view_module_version": "2.0.0",
       "_view_name": "HTMLView",
       "description": "",
       "description_allow_html": false,
       "layout": "IPY_MODEL_6f3e2dc5e4fd4939882d629c71c3a1c6",
       "placeholder": "​",
       "style": "IPY_MODEL_236a43b8e74046beb4bf3001ee8a4d50",
       "tabbable": null,
       "tooltip": null,
       "value": " 16.3M/16.3M [00:09&lt;00:00, 1.85MB/s]"
      }
     },
     "52f50230928544d896dd442e7d36b149": {
      "model_module": "@jupyter-widgets/controls",
      "model_module_version": "2.0.0",
      "model_name": "HTMLModel",
      "state": {
       "_dom_classes": [],
       "_model_module": "@jupyter-widgets/controls",
       "_model_module_version": "2.0.0",
       "_model_name": "HTMLModel",
       "_view_count": null,
       "_view_module": "@jupyter-widgets/controls",
       "_view_module_version": "2.0.0",
       "_view_name": "HTMLView",
       "description": "",
       "description_allow_html": false,
       "layout": "IPY_MODEL_19951222bfbf42f2ac698af8f6d78290",
       "placeholder": "​",
       "style": "IPY_MODEL_c943e71bf641472ea9f32897bdaa22fe",
       "tabbable": null,
       "tooltip": null,
       "value": " 400/400 [37:48&lt;00:00,  3.77s/it]"
      }
     },
     "5399c489d927452b96190c925462b258": {
      "model_module": "@jupyter-widgets/base",
      "model_module_version": "2.0.0",
      "model_name": "LayoutModel",
      "state": {
       "_model_module": "@jupyter-widgets/base",
       "_model_module_version": "2.0.0",
       "_model_name": "LayoutModel",
       "_view_count": null,
       "_view_module": "@jupyter-widgets/base",
       "_view_module_version": "2.0.0",
       "_view_name": "LayoutView",
       "align_content": null,
       "align_items": null,
       "align_self": null,
       "border_bottom": null,
       "border_left": null,
       "border_right": null,
       "border_top": null,
       "bottom": null,
       "display": null,
       "flex": "2",
       "flex_flow": null,
       "grid_area": null,
       "grid_auto_columns": null,
       "grid_auto_flow": null,
       "grid_auto_rows": null,
       "grid_column": null,
       "grid_gap": null,
       "grid_row": null,
       "grid_template_areas": null,
       "grid_template_columns": null,
       "grid_template_rows": null,
       "height": null,
       "justify_content": null,
       "justify_items": null,
       "left": null,
       "margin": null,
       "max_height": null,
       "max_width": null,
       "min_height": null,
       "min_width": null,
       "object_fit": null,
       "object_position": null,
       "order": null,
       "overflow": null,
       "padding": null,
       "right": null,
       "top": null,
       "visibility": null,
       "width": null
      }
     },
     "55ffdf8280ab479bbe91809cd37930d2": {
      "model_module": "@jupyter-widgets/controls",
      "model_module_version": "2.0.0",
      "model_name": "HTMLModel",
      "state": {
       "_dom_classes": [],
       "_model_module": "@jupyter-widgets/controls",
       "_model_module_version": "2.0.0",
       "_model_name": "HTMLModel",
       "_view_count": null,
       "_view_module": "@jupyter-widgets/controls",
       "_view_module_version": "2.0.0",
       "_view_name": "HTMLView",
       "description": "",
       "description_allow_html": false,
       "layout": "IPY_MODEL_71c2a166a73f4eafa46f29f1cd2f030e",
       "placeholder": "​",
       "style": "IPY_MODEL_9a9cac51eab34399b35240ed649338b9",
       "tabbable": null,
       "tooltip": null,
       "value": "Downloading L240208144207BF968AF283_SC00.fits: 100%"
      }
     },
     "57e5938841e04fb9beb842bfc40d9870": {
      "model_module": "@jupyter-widgets/controls",
      "model_module_version": "2.0.0",
      "model_name": "HTMLModel",
      "state": {
       "_dom_classes": [],
       "_model_module": "@jupyter-widgets/controls",
       "_model_module_version": "2.0.0",
       "_model_name": "HTMLModel",
       "_view_count": null,
       "_view_module": "@jupyter-widgets/controls",
       "_view_module_version": "2.0.0",
       "_view_name": "HTMLView",
       "description": "",
       "description_allow_html": false,
       "layout": "IPY_MODEL_29e89da93219402dbfaeb8c96ca4cba8",
       "placeholder": "​",
       "style": "IPY_MODEL_c65ce1b6af7244048e35bea9f58cf76a",
       "tabbable": null,
       "tooltip": null,
       "value": " 30/30 [03:09&lt;00:00,  6.31s/it]"
      }
     },
     "5cc932b6e5f943cb92e5f392957b60ae": {
      "model_module": "@jupyter-widgets/base",
      "model_module_version": "2.0.0",
      "model_name": "LayoutModel",
      "state": {
       "_model_module": "@jupyter-widgets/base",
       "_model_module_version": "2.0.0",
       "_model_name": "LayoutModel",
       "_view_count": null,
       "_view_module": "@jupyter-widgets/base",
       "_view_module_version": "2.0.0",
       "_view_name": "LayoutView",
       "align_content": null,
       "align_items": null,
       "align_self": null,
       "border_bottom": null,
       "border_left": null,
       "border_right": null,
       "border_top": null,
       "bottom": null,
       "display": "inline-flex",
       "flex": null,
       "flex_flow": "row wrap",
       "grid_area": null,
       "grid_auto_columns": null,
       "grid_auto_flow": null,
       "grid_auto_rows": null,
       "grid_column": null,
       "grid_gap": null,
       "grid_row": null,
       "grid_template_areas": null,
       "grid_template_columns": null,
       "grid_template_rows": null,
       "height": null,
       "justify_content": null,
       "justify_items": null,
       "left": null,
       "margin": null,
       "max_height": null,
       "max_width": null,
       "min_height": null,
       "min_width": null,
       "object_fit": null,
       "object_position": null,
       "order": null,
       "overflow": null,
       "padding": null,
       "right": null,
       "top": null,
       "visibility": null,
       "width": "100%"
      }
     },
     "5d5ff6d7a33d4752a4ca607e4b1c48b5": {
      "model_module": "@jupyter-widgets/controls",
      "model_module_version": "2.0.0",
      "model_name": "HBoxModel",
      "state": {
       "_dom_classes": [],
       "_model_module": "@jupyter-widgets/controls",
       "_model_module_version": "2.0.0",
       "_model_name": "HBoxModel",
       "_view_count": null,
       "_view_module": "@jupyter-widgets/controls",
       "_view_module_version": "2.0.0",
       "_view_name": "HBoxView",
       "box_style": "",
       "children": [
        "IPY_MODEL_03d4dcf3cfe143ba978d868eb4fb9989",
        "IPY_MODEL_f9758d36a0204010821db50a8bd3a467",
        "IPY_MODEL_57e5938841e04fb9beb842bfc40d9870"
       ],
       "layout": "IPY_MODEL_5cc932b6e5f943cb92e5f392957b60ae",
       "tabbable": null,
       "tooltip": null
      }
     },
     "6057173531a14592ba79e20210c544fd": {
      "model_module": "@jupyter-widgets/controls",
      "model_module_version": "2.0.0",
      "model_name": "HTMLStyleModel",
      "state": {
       "_model_module": "@jupyter-widgets/controls",
       "_model_module_version": "2.0.0",
       "_model_name": "HTMLStyleModel",
       "_view_count": null,
       "_view_module": "@jupyter-widgets/base",
       "_view_module_version": "2.0.0",
       "_view_name": "StyleView",
       "background": null,
       "description_width": "",
       "font_size": null,
       "text_color": null
      }
     },
     "60919ff0d893430ca2cc5876f363d7f9": {
      "model_module": "@jupyter-widgets/controls",
      "model_module_version": "2.0.0",
      "model_name": "ProgressStyleModel",
      "state": {
       "_model_module": "@jupyter-widgets/controls",
       "_model_module_version": "2.0.0",
       "_model_name": "ProgressStyleModel",
       "_view_count": null,
       "_view_module": "@jupyter-widgets/base",
       "_view_module_version": "2.0.0",
       "_view_name": "StyleView",
       "bar_color": "#440154",
       "description_width": ""
      }
     },
     "61e268fb065e40e0bd18165f11ce35ec": {
      "model_module": "@jupyter-widgets/controls",
      "model_module_version": "2.0.0",
      "model_name": "HBoxModel",
      "state": {
       "_dom_classes": [],
       "_model_module": "@jupyter-widgets/controls",
       "_model_module_version": "2.0.0",
       "_model_name": "HBoxModel",
       "_view_count": null,
       "_view_module": "@jupyter-widgets/controls",
       "_view_module_version": "2.0.0",
       "_view_name": "HBoxView",
       "box_style": "",
       "children": [
        "IPY_MODEL_0836d1479ac24547a284cff422916a0a",
        "IPY_MODEL_42073871d404486a86e51a25c61aaa92",
        "IPY_MODEL_52f50230928544d896dd442e7d36b149"
       ],
       "layout": "IPY_MODEL_49f3a3ddd8224d4980ef0951d27e204d",
       "tabbable": null,
       "tooltip": null
      }
     },
     "67308fa9415b4a38960ebbfd8fa15ae8": {
      "model_module": "@jupyter-widgets/controls",
      "model_module_version": "2.0.0",
      "model_name": "HTMLStyleModel",
      "state": {
       "_model_module": "@jupyter-widgets/controls",
       "_model_module_version": "2.0.0",
       "_model_name": "HTMLStyleModel",
       "_view_count": null,
       "_view_module": "@jupyter-widgets/base",
       "_view_module_version": "2.0.0",
       "_view_name": "StyleView",
       "background": null,
       "description_width": "",
       "font_size": null,
       "text_color": null
      }
     },
     "69672225c13d48b1b83688ed965eb639": {
      "model_module": "@jupyter-widgets/base",
      "model_module_version": "2.0.0",
      "model_name": "LayoutModel",
      "state": {
       "_model_module": "@jupyter-widgets/base",
       "_model_module_version": "2.0.0",
       "_model_name": "LayoutModel",
       "_view_count": null,
       "_view_module": "@jupyter-widgets/base",
       "_view_module_version": "2.0.0",
       "_view_name": "LayoutView",
       "align_content": null,
       "align_items": null,
       "align_self": null,
       "border_bottom": null,
       "border_left": null,
       "border_right": null,
       "border_top": null,
       "bottom": null,
       "display": null,
       "flex": null,
       "flex_flow": null,
       "grid_area": null,
       "grid_auto_columns": null,
       "grid_auto_flow": null,
       "grid_auto_rows": null,
       "grid_column": null,
       "grid_gap": null,
       "grid_row": null,
       "grid_template_areas": null,
       "grid_template_columns": null,
       "grid_template_rows": null,
       "height": null,
       "justify_content": null,
       "justify_items": null,
       "left": null,
       "margin": null,
       "max_height": null,
       "max_width": null,
       "min_height": null,
       "min_width": null,
       "object_fit": null,
       "object_position": null,
       "order": null,
       "overflow": null,
       "padding": null,
       "right": null,
       "top": null,
       "visibility": null,
       "width": null
      }
     },
     "6b1752e5881a4bf5868b0d1074b1e6a9": {
      "model_module": "@jupyter-widgets/controls",
      "model_module_version": "2.0.0",
      "model_name": "HTMLModel",
      "state": {
       "_dom_classes": [],
       "_model_module": "@jupyter-widgets/controls",
       "_model_module_version": "2.0.0",
       "_model_name": "HTMLModel",
       "_view_count": null,
       "_view_module": "@jupyter-widgets/controls",
       "_view_module_version": "2.0.0",
       "_view_name": "HTMLView",
       "description": "",
       "description_allow_html": false,
       "layout": "IPY_MODEL_10216922e99945599beb5f8f1c92c43c",
       "placeholder": "​",
       "style": "IPY_MODEL_405efa6913c64b46a72abe5fc7a4ee7c",
       "tabbable": null,
       "tooltip": null,
       "value": " 11.9M/11.9M [00:08&lt;00:00, 1.72MB/s]"
      }
     },
     "6f3e2dc5e4fd4939882d629c71c3a1c6": {
      "model_module": "@jupyter-widgets/base",
      "model_module_version": "2.0.0",
      "model_name": "LayoutModel",
      "state": {
       "_model_module": "@jupyter-widgets/base",
       "_model_module_version": "2.0.0",
       "_model_name": "LayoutModel",
       "_view_count": null,
       "_view_module": "@jupyter-widgets/base",
       "_view_module_version": "2.0.0",
       "_view_name": "LayoutView",
       "align_content": null,
       "align_items": null,
       "align_self": null,
       "border_bottom": null,
       "border_left": null,
       "border_right": null,
       "border_top": null,
       "bottom": null,
       "display": null,
       "flex": null,
       "flex_flow": null,
       "grid_area": null,
       "grid_auto_columns": null,
       "grid_auto_flow": null,
       "grid_auto_rows": null,
       "grid_column": null,
       "grid_gap": null,
       "grid_row": null,
       "grid_template_areas": null,
       "grid_template_columns": null,
       "grid_template_rows": null,
       "height": null,
       "justify_content": null,
       "justify_items": null,
       "left": null,
       "margin": null,
       "max_height": null,
       "max_width": null,
       "min_height": null,
       "min_width": null,
       "object_fit": null,
       "object_position": null,
       "order": null,
       "overflow": null,
       "padding": null,
       "right": null,
       "top": null,
       "visibility": null,
       "width": null
      }
     },
     "71afcc62f9d44a4db00f07c323602d10": {
      "model_module": "@jupyter-widgets/base",
      "model_module_version": "2.0.0",
      "model_name": "LayoutModel",
      "state": {
       "_model_module": "@jupyter-widgets/base",
       "_model_module_version": "2.0.0",
       "_model_name": "LayoutModel",
       "_view_count": null,
       "_view_module": "@jupyter-widgets/base",
       "_view_module_version": "2.0.0",
       "_view_name": "LayoutView",
       "align_content": null,
       "align_items": null,
       "align_self": null,
       "border_bottom": null,
       "border_left": null,
       "border_right": null,
       "border_top": null,
       "bottom": null,
       "display": null,
       "flex": "2",
       "flex_flow": null,
       "grid_area": null,
       "grid_auto_columns": null,
       "grid_auto_flow": null,
       "grid_auto_rows": null,
       "grid_column": null,
       "grid_gap": null,
       "grid_row": null,
       "grid_template_areas": null,
       "grid_template_columns": null,
       "grid_template_rows": null,
       "height": null,
       "justify_content": null,
       "justify_items": null,
       "left": null,
       "margin": null,
       "max_height": null,
       "max_width": null,
       "min_height": null,
       "min_width": null,
       "object_fit": null,
       "object_position": null,
       "order": null,
       "overflow": null,
       "padding": null,
       "right": null,
       "top": null,
       "visibility": null,
       "width": null
      }
     },
     "71c2a166a73f4eafa46f29f1cd2f030e": {
      "model_module": "@jupyter-widgets/base",
      "model_module_version": "2.0.0",
      "model_name": "LayoutModel",
      "state": {
       "_model_module": "@jupyter-widgets/base",
       "_model_module_version": "2.0.0",
       "_model_name": "LayoutModel",
       "_view_count": null,
       "_view_module": "@jupyter-widgets/base",
       "_view_module_version": "2.0.0",
       "_view_name": "LayoutView",
       "align_content": null,
       "align_items": null,
       "align_self": null,
       "border_bottom": null,
       "border_left": null,
       "border_right": null,
       "border_top": null,
       "bottom": null,
       "display": null,
       "flex": null,
       "flex_flow": null,
       "grid_area": null,
       "grid_auto_columns": null,
       "grid_auto_flow": null,
       "grid_auto_rows": null,
       "grid_column": null,
       "grid_gap": null,
       "grid_row": null,
       "grid_template_areas": null,
       "grid_template_columns": null,
       "grid_template_rows": null,
       "height": null,
       "justify_content": null,
       "justify_items": null,
       "left": null,
       "margin": null,
       "max_height": null,
       "max_width": null,
       "min_height": null,
       "min_width": null,
       "object_fit": null,
       "object_position": null,
       "order": null,
       "overflow": null,
       "padding": null,
       "right": null,
       "top": null,
       "visibility": null,
       "width": null
      }
     },
     "7b78d76f49aa4e858826b624b1a93eee": {
      "model_module": "@jupyter-widgets/controls",
      "model_module_version": "2.0.0",
      "model_name": "HTMLModel",
      "state": {
       "_dom_classes": [],
       "_model_module": "@jupyter-widgets/controls",
       "_model_module_version": "2.0.0",
       "_model_name": "HTMLModel",
       "_view_count": null,
       "_view_module": "@jupyter-widgets/controls",
       "_view_module_version": "2.0.0",
       "_view_name": "HTMLView",
       "description": "",
       "description_allow_html": false,
       "layout": "IPY_MODEL_69672225c13d48b1b83688ed965eb639",
       "placeholder": "​",
       "style": "IPY_MODEL_1204970fe29e493089bd15f61ffbef51",
       "tabbable": null,
       "tooltip": null,
       "value": " 500/500 [05:10&lt;00:00,  1.77it/s]"
      }
     },
     "86562fd3972a4922baedb5e77aa62217": {
      "model_module": "@jupyter-widgets/controls",
      "model_module_version": "2.0.0",
      "model_name": "FloatProgressModel",
      "state": {
       "_dom_classes": [],
       "_model_module": "@jupyter-widgets/controls",
       "_model_module_version": "2.0.0",
       "_model_name": "FloatProgressModel",
       "_view_count": null,
       "_view_module": "@jupyter-widgets/controls",
       "_view_module_version": "2.0.0",
       "_view_name": "ProgressView",
       "bar_style": "success",
       "description": "",
       "description_allow_html": false,
       "layout": "IPY_MODEL_71afcc62f9d44a4db00f07c323602d10",
       "max": 17087040.0,
       "min": 0.0,
       "orientation": "horizontal",
       "style": "IPY_MODEL_60919ff0d893430ca2cc5876f363d7f9",
       "tabbable": null,
       "tooltip": null,
       "value": 17087040.0
      }
     },
     "9a9cac51eab34399b35240ed649338b9": {
      "model_module": "@jupyter-widgets/controls",
      "model_module_version": "2.0.0",
      "model_name": "HTMLStyleModel",
      "state": {
       "_model_module": "@jupyter-widgets/controls",
       "_model_module_version": "2.0.0",
       "_model_name": "HTMLStyleModel",
       "_view_count": null,
       "_view_module": "@jupyter-widgets/base",
       "_view_module_version": "2.0.0",
       "_view_name": "StyleView",
       "background": null,
       "description_width": "",
       "font_size": null,
       "text_color": null
      }
     },
     "9fc3dd4582db4524ade2421f63f8c76c": {
      "model_module": "@jupyter-widgets/base",
      "model_module_version": "2.0.0",
      "model_name": "LayoutModel",
      "state": {
       "_model_module": "@jupyter-widgets/base",
       "_model_module_version": "2.0.0",
       "_model_name": "LayoutModel",
       "_view_count": null,
       "_view_module": "@jupyter-widgets/base",
       "_view_module_version": "2.0.0",
       "_view_name": "LayoutView",
       "align_content": null,
       "align_items": null,
       "align_self": null,
       "border_bottom": null,
       "border_left": null,
       "border_right": null,
       "border_top": null,
       "bottom": null,
       "display": null,
       "flex": "2",
       "flex_flow": null,
       "grid_area": null,
       "grid_auto_columns": null,
       "grid_auto_flow": null,
       "grid_auto_rows": null,
       "grid_column": null,
       "grid_gap": null,
       "grid_row": null,
       "grid_template_areas": null,
       "grid_template_columns": null,
       "grid_template_rows": null,
       "height": null,
       "justify_content": null,
       "justify_items": null,
       "left": null,
       "margin": null,
       "max_height": null,
       "max_width": null,
       "min_height": null,
       "min_width": null,
       "object_fit": null,
       "object_position": null,
       "order": null,
       "overflow": null,
       "padding": null,
       "right": null,
       "top": null,
       "visibility": null,
       "width": null
      }
     },
     "a2c0d9f243de4a4290cb8ccb06ff59a7": {
      "model_module": "@jupyter-widgets/controls",
      "model_module_version": "2.0.0",
      "model_name": "HBoxModel",
      "state": {
       "_dom_classes": [],
       "_model_module": "@jupyter-widgets/controls",
       "_model_module_version": "2.0.0",
       "_model_name": "HBoxModel",
       "_view_count": null,
       "_view_module": "@jupyter-widgets/controls",
       "_view_module_version": "2.0.0",
       "_view_name": "HBoxView",
       "box_style": "",
       "children": [
        "IPY_MODEL_c60a84ef53ad48e2bc89d7ffc7efb71c",
        "IPY_MODEL_516c67721db4480faf5c68495b8dd060",
        "IPY_MODEL_7b78d76f49aa4e858826b624b1a93eee"
       ],
       "layout": "IPY_MODEL_3227cb8c114a4f3599e96acff5eb46e4",
       "tabbable": null,
       "tooltip": null
      }
     },
     "a7e89ce5e8d841b6a7d5556699edd66c": {
      "model_module": "@jupyter-widgets/controls",
      "model_module_version": "2.0.0",
      "model_name": "HBoxModel",
      "state": {
       "_dom_classes": [],
       "_model_module": "@jupyter-widgets/controls",
       "_model_module_version": "2.0.0",
       "_model_name": "HBoxModel",
       "_view_count": null,
       "_view_module": "@jupyter-widgets/controls",
       "_view_module_version": "2.0.0",
       "_view_name": "HBoxView",
       "box_style": "",
       "children": [
        "IPY_MODEL_49657a7e04804a729b9e79779ac23fcf",
        "IPY_MODEL_86562fd3972a4922baedb5e77aa62217",
        "IPY_MODEL_519954f093644b48b8a934d173010901"
       ],
       "layout": "IPY_MODEL_f60d21b23b3d47edbf39263e7c05953e",
       "tabbable": null,
       "tooltip": null
      }
     },
     "bc2c052c4f184199b36358aa5a0cad59": {
      "model_module": "@jupyter-widgets/base",
      "model_module_version": "2.0.0",
      "model_name": "LayoutModel",
      "state": {
       "_model_module": "@jupyter-widgets/base",
       "_model_module_version": "2.0.0",
       "_model_name": "LayoutModel",
       "_view_count": null,
       "_view_module": "@jupyter-widgets/base",
       "_view_module_version": "2.0.0",
       "_view_name": "LayoutView",
       "align_content": null,
       "align_items": null,
       "align_self": null,
       "border_bottom": null,
       "border_left": null,
       "border_right": null,
       "border_top": null,
       "bottom": null,
       "display": null,
       "flex": null,
       "flex_flow": null,
       "grid_area": null,
       "grid_auto_columns": null,
       "grid_auto_flow": null,
       "grid_auto_rows": null,
       "grid_column": null,
       "grid_gap": null,
       "grid_row": null,
       "grid_template_areas": null,
       "grid_template_columns": null,
       "grid_template_rows": null,
       "height": null,
       "justify_content": null,
       "justify_items": null,
       "left": null,
       "margin": null,
       "max_height": null,
       "max_width": null,
       "min_height": null,
       "min_width": null,
       "object_fit": null,
       "object_position": null,
       "order": null,
       "overflow": null,
       "padding": null,
       "right": null,
       "top": null,
       "visibility": null,
       "width": null
      }
     },
     "bfc142430c4e4cdaaebfcfd9ed904dd1": {
      "model_module": "@jupyter-widgets/controls",
      "model_module_version": "2.0.0",
      "model_name": "FloatProgressModel",
      "state": {
       "_dom_classes": [],
       "_model_module": "@jupyter-widgets/controls",
       "_model_module_version": "2.0.0",
       "_model_name": "FloatProgressModel",
       "_view_count": null,
       "_view_module": "@jupyter-widgets/controls",
       "_view_module_version": "2.0.0",
       "_view_name": "ProgressView",
       "bar_style": "success",
       "description": "",
       "description_allow_html": false,
       "layout": "IPY_MODEL_2e2c88856477415283abc3dcb57b1e61",
       "max": 10.0,
       "min": 0.0,
       "orientation": "horizontal",
       "style": "IPY_MODEL_1bb820cb53cd436e9ff09d9cc381b700",
       "tabbable": null,
       "tooltip": null,
       "value": 10.0
      }
     },
     "c3f759a4912843a78270664a8e3d38f2": {
      "model_module": "@jupyter-widgets/base",
      "model_module_version": "2.0.0",
      "model_name": "LayoutModel",
      "state": {
       "_model_module": "@jupyter-widgets/base",
       "_model_module_version": "2.0.0",
       "_model_name": "LayoutModel",
       "_view_count": null,
       "_view_module": "@jupyter-widgets/base",
       "_view_module_version": "2.0.0",
       "_view_name": "LayoutView",
       "align_content": null,
       "align_items": null,
       "align_self": null,
       "border_bottom": null,
       "border_left": null,
       "border_right": null,
       "border_top": null,
       "bottom": null,
       "display": null,
       "flex": null,
       "flex_flow": null,
       "grid_area": null,
       "grid_auto_columns": null,
       "grid_auto_flow": null,
       "grid_auto_rows": null,
       "grid_column": null,
       "grid_gap": null,
       "grid_row": null,
       "grid_template_areas": null,
       "grid_template_columns": null,
       "grid_template_rows": null,
       "height": null,
       "justify_content": null,
       "justify_items": null,
       "left": null,
       "margin": null,
       "max_height": null,
       "max_width": null,
       "min_height": null,
       "min_width": null,
       "object_fit": null,
       "object_position": null,
       "order": null,
       "overflow": null,
       "padding": null,
       "right": null,
       "top": null,
       "visibility": null,
       "width": null
      }
     },
     "c3fa1fe3f84247e0bbc39d4eb5c85d5b": {
      "model_module": "@jupyter-widgets/base",
      "model_module_version": "2.0.0",
      "model_name": "LayoutModel",
      "state": {
       "_model_module": "@jupyter-widgets/base",
       "_model_module_version": "2.0.0",
       "_model_name": "LayoutModel",
       "_view_count": null,
       "_view_module": "@jupyter-widgets/base",
       "_view_module_version": "2.0.0",
       "_view_name": "LayoutView",
       "align_content": null,
       "align_items": null,
       "align_self": null,
       "border_bottom": null,
       "border_left": null,
       "border_right": null,
       "border_top": null,
       "bottom": null,
       "display": null,
       "flex": null,
       "flex_flow": null,
       "grid_area": null,
       "grid_auto_columns": null,
       "grid_auto_flow": null,
       "grid_auto_rows": null,
       "grid_column": null,
       "grid_gap": null,
       "grid_row": null,
       "grid_template_areas": null,
       "grid_template_columns": null,
       "grid_template_rows": null,
       "height": null,
       "justify_content": null,
       "justify_items": null,
       "left": null,
       "margin": null,
       "max_height": null,
       "max_width": null,
       "min_height": null,
       "min_width": null,
       "object_fit": null,
       "object_position": null,
       "order": null,
       "overflow": null,
       "padding": null,
       "right": null,
       "top": null,
       "visibility": null,
       "width": null
      }
     },
     "c60a84ef53ad48e2bc89d7ffc7efb71c": {
      "model_module": "@jupyter-widgets/controls",
      "model_module_version": "2.0.0",
      "model_name": "HTMLModel",
      "state": {
       "_dom_classes": [],
       "_model_module": "@jupyter-widgets/controls",
       "_model_module_version": "2.0.0",
       "_model_name": "HTMLModel",
       "_view_count": null,
       "_view_module": "@jupyter-widgets/controls",
       "_view_module_version": "2.0.0",
       "_view_name": "HTMLView",
       "description": "",
       "description_allow_html": false,
       "layout": "IPY_MODEL_4bf6a70764cf4792a9983beb4ccb2150",
       "placeholder": "​",
       "style": "IPY_MODEL_67308fa9415b4a38960ebbfd8fa15ae8",
       "tabbable": null,
       "tooltip": null,
       "value": "100%"
      }
     },
     "c65ce1b6af7244048e35bea9f58cf76a": {
      "model_module": "@jupyter-widgets/controls",
      "model_module_version": "2.0.0",
      "model_name": "HTMLStyleModel",
      "state": {
       "_model_module": "@jupyter-widgets/controls",
       "_model_module_version": "2.0.0",
       "_model_name": "HTMLStyleModel",
       "_view_count": null,
       "_view_module": "@jupyter-widgets/base",
       "_view_module_version": "2.0.0",
       "_view_name": "StyleView",
       "background": null,
       "description_width": "",
       "font_size": null,
       "text_color": null
      }
     },
     "c8a774b1d02e4383908f36f8ee062e8a": {
      "model_module": "@jupyter-widgets/controls",
      "model_module_version": "2.0.0",
      "model_name": "HBoxModel",
      "state": {
       "_dom_classes": [],
       "_model_module": "@jupyter-widgets/controls",
       "_model_module_version": "2.0.0",
       "_model_name": "HBoxModel",
       "_view_count": null,
       "_view_module": "@jupyter-widgets/controls",
       "_view_module_version": "2.0.0",
       "_view_name": "HBoxView",
       "box_style": "",
       "children": [
        "IPY_MODEL_55ffdf8280ab479bbe91809cd37930d2",
        "IPY_MODEL_faeaea307d8a45f88711f92e4616983b",
        "IPY_MODEL_6b1752e5881a4bf5868b0d1074b1e6a9"
       ],
       "layout": "IPY_MODEL_18dbac0eb18942689cb0df28dcb62b5e",
       "tabbable": null,
       "tooltip": null
      }
     },
     "c943e71bf641472ea9f32897bdaa22fe": {
      "model_module": "@jupyter-widgets/controls",
      "model_module_version": "2.0.0",
      "model_name": "HTMLStyleModel",
      "state": {
       "_model_module": "@jupyter-widgets/controls",
       "_model_module_version": "2.0.0",
       "_model_name": "HTMLStyleModel",
       "_view_count": null,
       "_view_module": "@jupyter-widgets/base",
       "_view_module_version": "2.0.0",
       "_view_name": "StyleView",
       "background": null,
       "description_width": "",
       "font_size": null,
       "text_color": null
      }
     },
     "ca503e4f8314438bbf9dbe2462169002": {
      "model_module": "@jupyter-widgets/controls",
      "model_module_version": "2.0.0",
      "model_name": "ProgressStyleModel",
      "state": {
       "_model_module": "@jupyter-widgets/controls",
       "_model_module_version": "2.0.0",
       "_model_name": "ProgressStyleModel",
       "_view_count": null,
       "_view_module": "@jupyter-widgets/base",
       "_view_module_version": "2.0.0",
       "_view_name": "StyleView",
       "bar_color": "#365c8d",
       "description_width": ""
      }
     },
     "d95dbb5c897d42cf9f2aeda43c75ccc1": {
      "model_module": "@jupyter-widgets/controls",
      "model_module_version": "2.0.0",
      "model_name": "HBoxModel",
      "state": {
       "_dom_classes": [],
       "_model_module": "@jupyter-widgets/controls",
       "_model_module_version": "2.0.0",
       "_model_name": "HBoxModel",
       "_view_count": null,
       "_view_module": "@jupyter-widgets/controls",
       "_view_module_version": "2.0.0",
       "_view_name": "HBoxView",
       "box_style": "",
       "children": [
        "IPY_MODEL_fce02989f9bf483bb85466d617f00d48",
        "IPY_MODEL_bfc142430c4e4cdaaebfcfd9ed904dd1",
        "IPY_MODEL_f6ed7f3942824bd08108624ba91a7e5b"
       ],
       "layout": "IPY_MODEL_2043637bb9414f04b4b7fe75937b2c01",
       "tabbable": null,
       "tooltip": null
      }
     },
     "db14b663c729486db2873af84e9de723": {
      "model_module": "@jupyter-widgets/base",
      "model_module_version": "2.0.0",
      "model_name": "LayoutModel",
      "state": {
       "_model_module": "@jupyter-widgets/base",
       "_model_module_version": "2.0.0",
       "_model_name": "LayoutModel",
       "_view_count": null,
       "_view_module": "@jupyter-widgets/base",
       "_view_module_version": "2.0.0",
       "_view_name": "LayoutView",
       "align_content": null,
       "align_items": null,
       "align_self": null,
       "border_bottom": null,
       "border_left": null,
       "border_right": null,
       "border_top": null,
       "bottom": null,
       "display": null,
       "flex": null,
       "flex_flow": null,
       "grid_area": null,
       "grid_auto_columns": null,
       "grid_auto_flow": null,
       "grid_auto_rows": null,
       "grid_column": null,
       "grid_gap": null,
       "grid_row": null,
       "grid_template_areas": null,
       "grid_template_columns": null,
       "grid_template_rows": null,
       "height": null,
       "justify_content": null,
       "justify_items": null,
       "left": null,
       "margin": null,
       "max_height": null,
       "max_width": null,
       "min_height": null,
       "min_width": null,
       "object_fit": null,
       "object_position": null,
       "order": null,
       "overflow": null,
       "padding": null,
       "right": null,
       "top": null,
       "visibility": null,
       "width": null
      }
     },
     "e9f5472a731e4a3b920571cf2da1d0cb": {
      "model_module": "@jupyter-widgets/base",
      "model_module_version": "2.0.0",
      "model_name": "LayoutModel",
      "state": {
       "_model_module": "@jupyter-widgets/base",
       "_model_module_version": "2.0.0",
       "_model_name": "LayoutModel",
       "_view_count": null,
       "_view_module": "@jupyter-widgets/base",
       "_view_module_version": "2.0.0",
       "_view_name": "LayoutView",
       "align_content": null,
       "align_items": null,
       "align_self": null,
       "border_bottom": null,
       "border_left": null,
       "border_right": null,
       "border_top": null,
       "bottom": null,
       "display": null,
       "flex": "2",
       "flex_flow": null,
       "grid_area": null,
       "grid_auto_columns": null,
       "grid_auto_flow": null,
       "grid_auto_rows": null,
       "grid_column": null,
       "grid_gap": null,
       "grid_row": null,
       "grid_template_areas": null,
       "grid_template_columns": null,
       "grid_template_rows": null,
       "height": null,
       "justify_content": null,
       "justify_items": null,
       "left": null,
       "margin": null,
       "max_height": null,
       "max_width": null,
       "min_height": null,
       "min_width": null,
       "object_fit": null,
       "object_position": null,
       "order": null,
       "overflow": null,
       "padding": null,
       "right": null,
       "top": null,
       "visibility": null,
       "width": null
      }
     },
     "f0b93f4f87434a2a8000b878f6e56c08": {
      "model_module": "@jupyter-widgets/controls",
      "model_module_version": "2.0.0",
      "model_name": "ProgressStyleModel",
      "state": {
       "_model_module": "@jupyter-widgets/controls",
       "_model_module_version": "2.0.0",
       "_model_name": "ProgressStyleModel",
       "_view_count": null,
       "_view_module": "@jupyter-widgets/base",
       "_view_module_version": "2.0.0",
       "_view_name": "StyleView",
       "bar_color": null,
       "description_width": ""
      }
     },
     "f60d21b23b3d47edbf39263e7c05953e": {
      "model_module": "@jupyter-widgets/base",
      "model_module_version": "2.0.0",
      "model_name": "LayoutModel",
      "state": {
       "_model_module": "@jupyter-widgets/base",
       "_model_module_version": "2.0.0",
       "_model_name": "LayoutModel",
       "_view_count": null,
       "_view_module": "@jupyter-widgets/base",
       "_view_module_version": "2.0.0",
       "_view_name": "LayoutView",
       "align_content": null,
       "align_items": null,
       "align_self": null,
       "border_bottom": null,
       "border_left": null,
       "border_right": null,
       "border_top": null,
       "bottom": null,
       "display": "inline-flex",
       "flex": null,
       "flex_flow": "row wrap",
       "grid_area": null,
       "grid_auto_columns": null,
       "grid_auto_flow": null,
       "grid_auto_rows": null,
       "grid_column": null,
       "grid_gap": null,
       "grid_row": null,
       "grid_template_areas": null,
       "grid_template_columns": null,
       "grid_template_rows": null,
       "height": null,
       "justify_content": null,
       "justify_items": null,
       "left": null,
       "margin": null,
       "max_height": null,
       "max_width": null,
       "min_height": null,
       "min_width": null,
       "object_fit": null,
       "object_position": null,
       "order": null,
       "overflow": null,
       "padding": null,
       "right": null,
       "top": null,
       "visibility": null,
       "width": "100%"
      }
     },
     "f6285092af8c49c8a06b173a2de1eab8": {
      "model_module": "@jupyter-widgets/controls",
      "model_module_version": "2.0.0",
      "model_name": "ProgressStyleModel",
      "state": {
       "_model_module": "@jupyter-widgets/controls",
       "_model_module_version": "2.0.0",
       "_model_name": "ProgressStyleModel",
       "_view_count": null,
       "_view_module": "@jupyter-widgets/base",
       "_view_module_version": "2.0.0",
       "_view_name": "StyleView",
       "bar_color": "#46327e",
       "description_width": ""
      }
     },
     "f6ed7f3942824bd08108624ba91a7e5b": {
      "model_module": "@jupyter-widgets/controls",
      "model_module_version": "2.0.0",
      "model_name": "HTMLModel",
      "state": {
       "_dom_classes": [],
       "_model_module": "@jupyter-widgets/controls",
       "_model_module_version": "2.0.0",
       "_model_name": "HTMLModel",
       "_view_count": null,
       "_view_module": "@jupyter-widgets/controls",
       "_view_module_version": "2.0.0",
       "_view_name": "HTMLView",
       "description": "",
       "description_allow_html": false,
       "layout": "IPY_MODEL_c3fa1fe3f84247e0bbc39d4eb5c85d5b",
       "placeholder": "​",
       "style": "IPY_MODEL_1fe20771ca8b441ebd3112ac28d5f8e6",
       "tabbable": null,
       "tooltip": null,
       "value": " 10/10 [00:07&lt;00:00,  1.30it/s]"
      }
     },
     "f9758d36a0204010821db50a8bd3a467": {
      "model_module": "@jupyter-widgets/controls",
      "model_module_version": "2.0.0",
      "model_name": "FloatProgressModel",
      "state": {
       "_dom_classes": [],
       "_model_module": "@jupyter-widgets/controls",
       "_model_module_version": "2.0.0",
       "_model_name": "FloatProgressModel",
       "_view_count": null,
       "_view_module": "@jupyter-widgets/controls",
       "_view_module_version": "2.0.0",
       "_view_name": "ProgressView",
       "bar_style": "success",
       "description": "",
       "description_allow_html": false,
       "layout": "IPY_MODEL_9fc3dd4582db4524ade2421f63f8c76c",
       "max": 30.0,
       "min": 0.0,
       "orientation": "horizontal",
       "style": "IPY_MODEL_ca503e4f8314438bbf9dbe2462169002",
       "tabbable": null,
       "tooltip": null,
       "value": 30.0
      }
     },
     "faeaea307d8a45f88711f92e4616983b": {
      "model_module": "@jupyter-widgets/controls",
      "model_module_version": "2.0.0",
      "model_name": "FloatProgressModel",
      "state": {
       "_dom_classes": [],
       "_model_module": "@jupyter-widgets/controls",
       "_model_module_version": "2.0.0",
       "_model_name": "FloatProgressModel",
       "_view_count": null,
       "_view_module": "@jupyter-widgets/controls",
       "_view_module_version": "2.0.0",
       "_view_name": "ProgressView",
       "bar_style": "success",
       "description": "",
       "description_allow_html": false,
       "layout": "IPY_MODEL_5399c489d927452b96190c925462b258",
       "max": 12427200.0,
       "min": 0.0,
       "orientation": "horizontal",
       "style": "IPY_MODEL_f6285092af8c49c8a06b173a2de1eab8",
       "tabbable": null,
       "tooltip": null,
       "value": 12427200.0
      }
     },
     "fce02989f9bf483bb85466d617f00d48": {
      "model_module": "@jupyter-widgets/controls",
      "model_module_version": "2.0.0",
      "model_name": "HTMLModel",
      "state": {
       "_dom_classes": [],
       "_model_module": "@jupyter-widgets/controls",
       "_model_module_version": "2.0.0",
       "_model_name": "HTMLModel",
       "_view_count": null,
       "_view_module": "@jupyter-widgets/controls",
       "_view_module_version": "2.0.0",
       "_view_name": "HTMLView",
       "description": "",
       "description_allow_html": false,
       "layout": "IPY_MODEL_bc2c052c4f184199b36358aa5a0cad59",
       "placeholder": "​",
       "style": "IPY_MODEL_6057173531a14592ba79e20210c544fd",
       "tabbable": null,
       "tooltip": null,
       "value": "100%"
      }
     }
    },
    "version_major": 2,
    "version_minor": 0
   }
  }
 },
 "nbformat": 4,
 "nbformat_minor": 5
}
