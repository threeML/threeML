{
 "cells": [
  {
   "cell_type": "markdown",
   "id": "ea356917",
   "metadata": {},
   "source": [
    "# Fermi-LAT via FermiPyLike"
   ]
  },
  {
   "cell_type": "markdown",
   "id": "dc8dea38",
   "metadata": {},
   "source": [
    "In this Example we show how to use the fermipy plugin in threeML. We perform a Binned likelihood analysis and a Bayesian analysis of the Crab, optimizing the parameters of the Crab Pulsar (PSR J0534+2200) keeping fixed the parameters of the Crab Nebula. In the model, the nebula is described by two sources, one representing the synchrotron spectrum, the othet the Inverse Compton emission.\n",
    "In this example we show how to download Fermi-LAT data, how to build a model starting from the 4FGL, how to free and fix parameters of the sources in the model, and how to perform a spectral analysis using the fermipy plugin."
   ]
  },
  {
   "cell_type": "code",
   "execution_count": 1,
   "id": "4d5a4daf",
   "metadata": {
    "execution": {
     "iopub.execute_input": "2025-02-05T23:50:30.020891Z",
     "iopub.status.busy": "2025-02-05T23:50:30.020310Z",
     "iopub.status.idle": "2025-02-05T23:50:30.902407Z",
     "shell.execute_reply": "2025-02-05T23:50:30.900906Z"
    },
    "lines_to_next_cell": 2
   },
   "outputs": [],
   "source": [
    "import warnings\n",
    "\n",
    "warnings.simplefilter(\"ignore\")\n",
    "import numpy as np\n",
    "\n",
    "np.seterr(all=\"ignore\")\n",
    "import shutil\n",
    "from IPython.display import Image, display\n",
    "import glob\n",
    "from pathlib import Path\n",
    "import matplotlib as mpl\n",
    "from matplotlib import pyplot as plt\n",
    "from astropy.io import fits as pyfits\n",
    "import scipy as sp"
   ]
  },
  {
   "cell_type": "code",
   "execution_count": 2,
   "id": "6f420797",
   "metadata": {
    "execution": {
     "iopub.execute_input": "2025-02-05T23:50:30.909470Z",
     "iopub.status.busy": "2025-02-05T23:50:30.908999Z",
     "iopub.status.idle": "2025-02-05T23:50:36.703861Z",
     "shell.execute_reply": "2025-02-05T23:50:36.701301Z"
    },
    "lines_to_next_cell": 2
   },
   "outputs": [],
   "source": [
    "%%capture\n",
    "from threeML import *"
   ]
  },
  {
   "cell_type": "code",
   "execution_count": 3,
   "id": "d0c2811e",
   "metadata": {
    "execution": {
     "iopub.execute_input": "2025-02-05T23:50:36.713583Z",
     "iopub.status.busy": "2025-02-05T23:50:36.712643Z",
     "iopub.status.idle": "2025-02-05T23:50:36.741707Z",
     "shell.execute_reply": "2025-02-05T23:50:36.739753Z"
    }
   },
   "outputs": [],
   "source": [
    "from jupyterthemes import jtplot\n",
    "\n",
    "%matplotlib inline\n",
    "jtplot.style(context=\"talk\", fscale=1, ticks=True, grid=False)\n",
    "set_threeML_style()\n",
    "silence_warnings()"
   ]
  },
  {
   "cell_type": "markdown",
   "id": "88484987",
   "metadata": {},
   "source": []
  },
  {
   "cell_type": "markdown",
   "id": "8c66230f",
   "metadata": {},
   "source": [
    "## The Fermi 4FGL catalog\n",
    "Let's interrogate the 4FGL to get the sources in a radius of 20.0 deg around the Crab"
   ]
  },
  {
   "cell_type": "code",
   "execution_count": 4,
   "id": "df655775",
   "metadata": {
    "execution": {
     "iopub.execute_input": "2025-02-05T23:50:36.751177Z",
     "iopub.status.busy": "2025-02-05T23:50:36.750671Z",
     "iopub.status.idle": "2025-02-05T23:50:49.469968Z",
     "shell.execute_reply": "2025-02-05T23:50:49.468478Z"
    }
   },
   "outputs": [
    {
     "data": {
      "text/html": [
       "<pre style=\"white-space:pre;overflow-x:auto;line-height:normal;font-family:Menlo,'DejaVu Sans Mono',consolas,'Courier New',monospace\"><span style=\"color: #00ff00; text-decoration-color: #00ff00\">23:50:36 </span><span style=\"color: #00ffaf; text-decoration-color: #00ffaf\">INFO    </span> <span style=\"color: #c6c6c6; text-decoration-color: #c6c6c6; font-weight: bold\"> The cache for fermilpsc does not yet exist. We will try to     </span><a href=\"file:///Users/runner/work/threeML/threeML/threeML/io/get_heasarc_table_as_pandas.py\" target=\"_blank\"><span style=\"color: #7f7f7f; text-decoration-color: #7f7f7f\">get_heasarc_table_as_pandas.py</span></a><span style=\"color: #7f7f7f; text-decoration-color: #7f7f7f\">:</span><a href=\"file:///Users/runner/work/threeML/threeML/threeML/io/get_heasarc_table_as_pandas.py#64\" target=\"_blank\"><span style=\"color: #7f7f7f; text-decoration-color: #7f7f7f\">64</span></a>\n",
       "<span style=\"color: #00ff00; text-decoration-color: #00ff00\">         </span>         <span style=\"color: #c6c6c6; text-decoration-color: #c6c6c6; font-weight: bold\">build it                                                        </span><span style=\"color: #7f7f7f; text-decoration-color: #7f7f7f\">                                 </span>\n",
       "<span style=\"color: #00ff00; text-decoration-color: #00ff00\">         </span>         <span style=\"color: #c6c6c6; text-decoration-color: #c6c6c6; font-weight: bold\">                                                                </span><span style=\"color: #7f7f7f; text-decoration-color: #7f7f7f\">                                 </span>\n",
       "</pre>\n"
      ],
      "text/plain": [
       "\u001b[38;5;46m23:50:36\u001b[0m\u001b[38;5;46m \u001b[0m\u001b[38;5;49mINFO    \u001b[0m \u001b[1;38;5;251m The cache for fermilpsc does not yet exist. We will try to    \u001b[0m\u001b[1;38;5;251m \u001b[0m\u001b]8;id=876395;file:///Users/runner/work/threeML/threeML/threeML/io/get_heasarc_table_as_pandas.py\u001b\\\u001b[2mget_heasarc_table_as_pandas.py\u001b[0m\u001b]8;;\u001b\\\u001b[2m:\u001b[0m\u001b]8;id=479500;file:///Users/runner/work/threeML/threeML/threeML/io/get_heasarc_table_as_pandas.py#64\u001b\\\u001b[2m64\u001b[0m\u001b]8;;\u001b\\\n",
       "\u001b[38;5;46m         \u001b[0m         \u001b[1;38;5;251mbuild it                                                       \u001b[0m\u001b[1;38;5;251m \u001b[0m\u001b[2m                                 \u001b[0m\n",
       "\u001b[38;5;46m         \u001b[0m         \u001b[1;38;5;251m                                                               \u001b[0m\u001b[1;38;5;251m \u001b[0m\u001b[2m                                 \u001b[0m\n"
      ]
     },
     "metadata": {},
     "output_type": "display_data"
    },
    {
     "data": {
      "text/html": [
       "<pre style=\"white-space:pre;overflow-x:auto;line-height:normal;font-family:Menlo,'DejaVu Sans Mono',consolas,'Courier New',monospace\"><span style=\"color: #00ff00; text-decoration-color: #00ff00\">         </span><span style=\"color: #00ffaf; text-decoration-color: #00ffaf\">INFO    </span> <span style=\"color: #c6c6c6; text-decoration-color: #c6c6c6; font-weight: bold\"> Building cache for fermilpsc                                  </span><a href=\"file:///Users/runner/work/threeML/threeML/threeML/io/get_heasarc_table_as_pandas.py\" target=\"_blank\"><span style=\"color: #7f7f7f; text-decoration-color: #7f7f7f\">get_heasarc_table_as_pandas.py</span></a><span style=\"color: #7f7f7f; text-decoration-color: #7f7f7f\">:</span><a href=\"file:///Users/runner/work/threeML/threeML/threeML/io/get_heasarc_table_as_pandas.py#112\" target=\"_blank\"><span style=\"color: #7f7f7f; text-decoration-color: #7f7f7f\">112</span></a>\n",
       "</pre>\n"
      ],
      "text/plain": [
       "\u001b[38;5;46m        \u001b[0m\u001b[38;5;46m \u001b[0m\u001b[38;5;49mINFO    \u001b[0m \u001b[1;38;5;251m Building cache for fermilpsc                                 \u001b[0m\u001b[1;38;5;251m \u001b[0m\u001b]8;id=178034;file:///Users/runner/work/threeML/threeML/threeML/io/get_heasarc_table_as_pandas.py\u001b\\\u001b[2mget_heasarc_table_as_pandas.py\u001b[0m\u001b]8;;\u001b\\\u001b[2m:\u001b[0m\u001b]8;id=134286;file:///Users/runner/work/threeML/threeML/threeML/io/get_heasarc_table_as_pandas.py#112\u001b\\\u001b[2m112\u001b[0m\u001b]8;;\u001b\\\n"
      ]
     },
     "metadata": {},
     "output_type": "display_data"
    },
    {
     "name": "stdout",
     "output_type": "stream",
     "text": [
      "Trying https://heasarc.gsfc.nasa.gov/cgi-bin/vo/cone/coneGet.pl?table=fermilpsc&\n"
     ]
    },
    {
     "data": {
      "text/html": [
       "<div><i>Table length=196</i>\n",
       "<table id=\"table5116030352\" class=\"table-striped table-bordered table-condensed\">\n",
       "<thead><tr><th>name</th><th>source_type</th><th>short_source_type</th><th>ra</th><th>dec</th><th>assoc_name</th><th>tevcat_assoc</th><th>Search_Offset</th></tr></thead>\n",
       "<thead><tr><th></th><th></th><th></th><th>deg</th><th>deg</th><th></th><th></th><th></th></tr></thead>\n",
       "<thead><tr><th>object</th><th>str52</th><th>object</th><th>float64</th><th>float64</th><th>object</th><th>object</th><th>float64</th></tr></thead>\n",
       "<tr><td>4FGL J0534.5+2201s</td><td>pulsar wind nebula</td><td>PWN</td><td>83.6331</td><td>22.0199</td><td>Crab Nebula</td><td>Crab</td><td>0.1552</td></tr>\n",
       "<tr><td>4FGL J0534.5+2201i</td><td>pulsar wind nebula</td><td>PWN</td><td>83.6330</td><td>22.0200</td><td>Crab Nebula</td><td>Crab</td><td>0.1597</td></tr>\n",
       "<tr><td>4FGL J0534.5+2200</td><td>pulsar, identified by pulsations</td><td>PSR</td><td>83.6367</td><td>22.0149</td><td>PSR J0534+2200</td><td>Crab pulsar</td><td>0.2818</td></tr>\n",
       "<tr><td>4FGL J0526.3+2246</td><td>active galaxy of uncertain type</td><td>bcu</td><td>81.5908</td><td>22.7778</td><td>NVSS J052622+224801</td><td></td><td>122.0980</td></tr>\n",
       "<tr><td>4FGL J0544.4+2238</td><td>unknown</td><td></td><td>86.1093</td><td>22.6418</td><td></td><td></td><td>142.4807</td></tr>\n",
       "<tr><td>4FGL J0521.7+2112</td><td>BL Lac type of blazar</td><td>bll</td><td>80.4445</td><td>21.2131</td><td>TXS 0518+211</td><td>VER J0521+211</td><td>184.2504</td></tr>\n",
       "<tr><td>4FGL J0528.3+1817</td><td>unknown</td><td>unk</td><td>82.0946</td><td>18.2943</td><td>1RXS J052829.6+181657</td><td></td><td>239.5831</td></tr>\n",
       "<tr><td>4FGL J0519.7+1939</td><td>unknown</td><td></td><td>79.9457</td><td>19.6646</td><td></td><td></td><td>250.3096</td></tr>\n",
       "<tr><td>4FGL J0536.2+1733</td><td>BL Lac type of blazar</td><td>bll</td><td>84.0719</td><td>17.5534</td><td>TXS 0533+175</td><td></td><td>268.9858</td></tr>\n",
       "<tr><td>...</td><td>...</td><td>...</td><td>...</td><td>...</td><td>...</td><td>...</td><td>...</td></tr>\n",
       "<tr><td>4FGL J0552.8+0313</td><td>active galaxy of uncertain type</td><td>bcu</td><td>88.2180</td><td>3.2322</td><td>PKS 0550+032</td><td></td><td>1158.3252</td></tr>\n",
       "<tr><td>4FGL J0431.0+3529c</td><td>unknown</td><td></td><td>67.7650</td><td>35.4949</td><td></td><td></td><td>1159.0316</td></tr>\n",
       "<tr><td>4FGL J0653.6+1636</td><td>active galaxy of uncertain type</td><td>bcu</td><td>103.4105</td><td>16.6106</td><td>2MASX J06533986+1636432</td><td></td><td>1164.8007</td></tr>\n",
       "<tr><td>4FGL J0658.7+2318</td><td>unknown</td><td></td><td>104.6808</td><td>23.3027</td><td></td><td></td><td>1166.9461</td></tr>\n",
       "<tr><td>4FGL J0552.0+0256c</td><td>unknown</td><td></td><td>88.0140</td><td>2.9417</td><td></td><td></td><td>1172.6725</td></tr>\n",
       "<tr><td>4FGL J0555.1+0304</td><td>active galaxy of uncertain type</td><td>bcu</td><td>88.7776</td><td>3.0710</td><td>GB6 J0555+0304</td><td></td><td>1175.6395</td></tr>\n",
       "<tr><td>4FGL J0658.2+2709</td><td>active galaxy of uncertain type</td><td>bcu</td><td>104.5735</td><td>27.1501</td><td>B2 0655+27A</td><td></td><td>1181.6704</td></tr>\n",
       "<tr><td>4FGL J0642.4+1048</td><td>unknown</td><td></td><td>100.6081</td><td>10.8135</td><td></td><td></td><td>1184.0885</td></tr>\n",
       "<tr><td>4FGL J0506.9+0323</td><td>BL Lac type of blazar</td><td>bll</td><td>76.7314</td><td>3.3917</td><td>NVSS J050650+032401</td><td></td><td>1187.5954</td></tr>\n",
       "<tr><td>4FGL J0409.2+2542</td><td>unknown</td><td></td><td>62.3144</td><td>25.7022</td><td></td><td></td><td>1189.0646</td></tr>\n",
       "</table></div>"
      ],
      "text/plain": [
       "<Table length=196>\n",
       "       name                  source_type            ... Search_Offset\n",
       "                                                    ...              \n",
       "      object                    str52               ...    float64   \n",
       "------------------ -------------------------------- ... -------------\n",
       "4FGL J0534.5+2201s               pulsar wind nebula ...        0.1552\n",
       "4FGL J0534.5+2201i               pulsar wind nebula ...        0.1597\n",
       " 4FGL J0534.5+2200 pulsar, identified by pulsations ...        0.2818\n",
       " 4FGL J0526.3+2246  active galaxy of uncertain type ...      122.0980\n",
       " 4FGL J0544.4+2238                          unknown ...      142.4807\n",
       " 4FGL J0521.7+2112            BL Lac type of blazar ...      184.2504\n",
       " 4FGL J0528.3+1817                          unknown ...      239.5831\n",
       " 4FGL J0519.7+1939                          unknown ...      250.3096\n",
       " 4FGL J0536.2+1733            BL Lac type of blazar ...      268.9858\n",
       "               ...                              ... ...           ...\n",
       " 4FGL J0552.8+0313  active galaxy of uncertain type ...     1158.3252\n",
       "4FGL J0431.0+3529c                          unknown ...     1159.0316\n",
       " 4FGL J0653.6+1636  active galaxy of uncertain type ...     1164.8007\n",
       " 4FGL J0658.7+2318                          unknown ...     1166.9461\n",
       "4FGL J0552.0+0256c                          unknown ...     1172.6725\n",
       " 4FGL J0555.1+0304  active galaxy of uncertain type ...     1175.6395\n",
       " 4FGL J0658.2+2709  active galaxy of uncertain type ...     1181.6704\n",
       " 4FGL J0642.4+1048                          unknown ...     1184.0885\n",
       " 4FGL J0506.9+0323            BL Lac type of blazar ...     1187.5954\n",
       " 4FGL J0409.2+2542                          unknown ...     1189.0646"
      ]
     },
     "execution_count": 4,
     "metadata": {},
     "output_type": "execute_result"
    }
   ],
   "source": [
    "lat_catalog = FermiLATSourceCatalog()\n",
    "\n",
    "ra, dec, table = lat_catalog.search_around_source(\"Crab\", radius=20.0)\n",
    "\n",
    "table"
   ]
  },
  {
   "cell_type": "markdown",
   "id": "17cfa143",
   "metadata": {},
   "source": [
    "This gets a 3ML model (a Model instance) from the table above, where every source in the 4FGL becomes a Source instance. Note that by default all parameters of all sources are fixed."
   ]
  },
  {
   "cell_type": "code",
   "execution_count": 5,
   "id": "5cd3f9c2",
   "metadata": {
    "execution": {
     "iopub.execute_input": "2025-02-05T23:50:49.475781Z",
     "iopub.status.busy": "2025-02-05T23:50:49.474941Z",
     "iopub.status.idle": "2025-02-05T23:50:49.893075Z",
     "shell.execute_reply": "2025-02-05T23:50:49.891199Z"
    }
   },
   "outputs": [],
   "source": [
    "model = lat_catalog.get_model()"
   ]
  },
  {
   "cell_type": "markdown",
   "id": "87115d70",
   "metadata": {},
   "source": [
    "Let's free all the normalizations within 3 deg from the center."
   ]
  },
  {
   "cell_type": "code",
   "execution_count": 6,
   "id": "913c322c",
   "metadata": {
    "execution": {
     "iopub.execute_input": "2025-02-05T23:50:49.899605Z",
     "iopub.status.busy": "2025-02-05T23:50:49.899094Z",
     "iopub.status.idle": "2025-02-05T23:50:50.114680Z",
     "shell.execute_reply": "2025-02-05T23:50:50.112505Z"
    }
   },
   "outputs": [
    {
     "data": {
      "text/html": [
       "Model summary:<br><br><div>\n",
       "<style scoped>\n",
       "    .dataframe tbody tr th:only-of-type {\n",
       "        vertical-align: middle;\n",
       "    }\n",
       "\n",
       "    .dataframe tbody tr th {\n",
       "        vertical-align: top;\n",
       "    }\n",
       "\n",
       "    .dataframe thead th {\n",
       "        text-align: right;\n",
       "    }\n",
       "</style>\n",
       "<table border=\"1\" class=\"dataframe\">\n",
       "  <thead>\n",
       "    <tr style=\"text-align: right;\">\n",
       "      <th></th>\n",
       "      <th>N</th>\n",
       "    </tr>\n",
       "  </thead>\n",
       "  <tbody>\n",
       "    <tr>\n",
       "      <th>Point sources</th>\n",
       "      <td>196</td>\n",
       "    </tr>\n",
       "    <tr>\n",
       "      <th>Extended sources</th>\n",
       "      <td>0</td>\n",
       "    </tr>\n",
       "    <tr>\n",
       "      <th>Particle sources</th>\n",
       "      <td>0</td>\n",
       "    </tr>\n",
       "  </tbody>\n",
       "</table>\n",
       "</div><br><br>Free parameters (5):<br><br><div>\n",
       "<style scoped>\n",
       "    .dataframe tbody tr th:only-of-type {\n",
       "        vertical-align: middle;\n",
       "    }\n",
       "\n",
       "    .dataframe tbody tr th {\n",
       "        vertical-align: top;\n",
       "    }\n",
       "\n",
       "    .dataframe thead th {\n",
       "        text-align: right;\n",
       "    }\n",
       "</style>\n",
       "<table border=\"1\" class=\"dataframe\">\n",
       "  <thead>\n",
       "    <tr style=\"text-align: right;\">\n",
       "      <th></th>\n",
       "      <th>value</th>\n",
       "      <th>min_value</th>\n",
       "      <th>max_value</th>\n",
       "      <th>unit</th>\n",
       "    </tr>\n",
       "  </thead>\n",
       "  <tbody>\n",
       "    <tr>\n",
       "      <th>Crab_synch.spectrum.main.Log_parabola.K</th>\n",
       "      <td>0.0</td>\n",
       "      <td>0.0</td>\n",
       "      <td>0.0</td>\n",
       "      <td>keV-1 s-1 cm-2</td>\n",
       "    </tr>\n",
       "    <tr>\n",
       "      <th>Crab_IC.spectrum.main.Log_parabola.K</th>\n",
       "      <td>0.0</td>\n",
       "      <td>0.0</td>\n",
       "      <td>0.0</td>\n",
       "      <td>keV-1 s-1 cm-2</td>\n",
       "    </tr>\n",
       "    <tr>\n",
       "      <th>PSR_J0534p2200.spectrum.main.Super_cutoff_powerlaw.K</th>\n",
       "      <td>0.0</td>\n",
       "      <td>0.0</td>\n",
       "      <td>0.0</td>\n",
       "      <td>keV-1 s-1 cm-2</td>\n",
       "    </tr>\n",
       "    <tr>\n",
       "      <th>NVSS_J052622p224801.spectrum.main.Powerlaw.K</th>\n",
       "      <td>0.0</td>\n",
       "      <td>0.0</td>\n",
       "      <td>0.0</td>\n",
       "      <td>keV-1 s-1 cm-2</td>\n",
       "    </tr>\n",
       "    <tr>\n",
       "      <th>x4FGL_J0544d4p2238.spectrum.main.Powerlaw.K</th>\n",
       "      <td>0.0</td>\n",
       "      <td>0.0</td>\n",
       "      <td>0.0</td>\n",
       "      <td>keV-1 s-1 cm-2</td>\n",
       "    </tr>\n",
       "  </tbody>\n",
       "</table>\n",
       "</div><br><br>Fixed parameters (1089):<br>(abridged. Use complete=True to see all fixed parameters)<br><br><br>Properties (0):<br><br>(none)<br><br><br>Linked parameters (0):<br><br>(none)<br><br>Independent variables:<br><br>(none)<br><br>Linked functions (0):<br><br>(none)<br>"
      ],
      "text/plain": [
       "Model summary:\n",
       "==============\n",
       "\n",
       "                    N\n",
       "Point sources     196\n",
       "Extended sources    0\n",
       "Particle sources    0\n",
       "\n",
       "Free parameters (5):\n",
       "--------------------\n",
       "\n",
       "                                        value min_value max_value  \\\n",
       "Crab_synch.spectrum.main.Log_parabola.K   0.0       0.0       0.0   \n",
       "Crab_IC.spectrum.main.Log_parabola.K      0.0       0.0       0.0   \n",
       "PSR_J0534p2200...K                        0.0       0.0       0.0   \n",
       "NVSS_J052622p224801...K                   0.0       0.0       0.0   \n",
       "x4FGL_J0544d4p2238...K                    0.0       0.0       0.0   \n",
       "\n",
       "                                                   unit  \n",
       "Crab_synch.spectrum.main.Log_parabola.K  keV-1 s-1 cm-2  \n",
       "Crab_IC.spectrum.main.Log_parabola.K     keV-1 s-1 cm-2  \n",
       "PSR_J0534p2200...K                       keV-1 s-1 cm-2  \n",
       "NVSS_J052622p224801...K                  keV-1 s-1 cm-2  \n",
       "x4FGL_J0544d4p2238...K                   keV-1 s-1 cm-2  \n",
       "\n",
       "Fixed parameters (1089):\n",
       "(abridged. Use complete=True to see all fixed parameters)\n",
       "\n",
       "\n",
       "Properties (0):\n",
       "--------------------\n",
       "\n",
       "(none)\n",
       "\n",
       "\n",
       "Linked parameters (0):\n",
       "----------------------\n",
       "\n",
       "(none)\n",
       "\n",
       "Independent variables:\n",
       "----------------------\n",
       "\n",
       "(none)\n",
       "\n",
       "Linked functions (0):\n",
       "----------------------\n",
       "\n",
       "(none)"
      ]
     },
     "metadata": {},
     "output_type": "display_data"
    }
   ],
   "source": [
    "model.free_point_sources_within_radius(3.0, normalization_only=True)\n",
    "\n",
    "model.display()"
   ]
  },
  {
   "cell_type": "markdown",
   "id": "eda0af14",
   "metadata": {},
   "source": [
    "but then let's fix the sync and the IC components of the Crab nebula (cannot fit them with just one month of data) (these two methods are equivalent)"
   ]
  },
  {
   "cell_type": "code",
   "execution_count": 7,
   "id": "d05e0d5e",
   "metadata": {
    "execution": {
     "iopub.execute_input": "2025-02-05T23:50:50.120993Z",
     "iopub.status.busy": "2025-02-05T23:50:50.120652Z",
     "iopub.status.idle": "2025-02-05T23:50:50.129358Z",
     "shell.execute_reply": "2025-02-05T23:50:50.127976Z"
    }
   },
   "outputs": [],
   "source": [
    "model[\"Crab_IC.spectrum.main.Log_parabola.K\"].fix = True\n",
    "model.Crab_synch.spectrum.main.Log_parabola.K.fix = True"
   ]
  },
  {
   "cell_type": "markdown",
   "id": "21deac89",
   "metadata": {},
   "source": [
    "However, let's free the index of the Crab Pulsar"
   ]
  },
  {
   "cell_type": "code",
   "execution_count": 8,
   "id": "310d2b19",
   "metadata": {
    "execution": {
     "iopub.execute_input": "2025-02-05T23:50:50.135989Z",
     "iopub.status.busy": "2025-02-05T23:50:50.135572Z",
     "iopub.status.idle": "2025-02-05T23:50:50.385130Z",
     "shell.execute_reply": "2025-02-05T23:50:50.383387Z"
    }
   },
   "outputs": [
    {
     "data": {
      "text/html": [
       "Model summary:<br><br><div>\n",
       "<style scoped>\n",
       "    .dataframe tbody tr th:only-of-type {\n",
       "        vertical-align: middle;\n",
       "    }\n",
       "\n",
       "    .dataframe tbody tr th {\n",
       "        vertical-align: top;\n",
       "    }\n",
       "\n",
       "    .dataframe thead th {\n",
       "        text-align: right;\n",
       "    }\n",
       "</style>\n",
       "<table border=\"1\" class=\"dataframe\">\n",
       "  <thead>\n",
       "    <tr style=\"text-align: right;\">\n",
       "      <th></th>\n",
       "      <th>N</th>\n",
       "    </tr>\n",
       "  </thead>\n",
       "  <tbody>\n",
       "    <tr>\n",
       "      <th>Point sources</th>\n",
       "      <td>196</td>\n",
       "    </tr>\n",
       "    <tr>\n",
       "      <th>Extended sources</th>\n",
       "      <td>0</td>\n",
       "    </tr>\n",
       "    <tr>\n",
       "      <th>Particle sources</th>\n",
       "      <td>0</td>\n",
       "    </tr>\n",
       "  </tbody>\n",
       "</table>\n",
       "</div><br><br>Free parameters (4):<br><br><div>\n",
       "<style scoped>\n",
       "    .dataframe tbody tr th:only-of-type {\n",
       "        vertical-align: middle;\n",
       "    }\n",
       "\n",
       "    .dataframe tbody tr th {\n",
       "        vertical-align: top;\n",
       "    }\n",
       "\n",
       "    .dataframe thead th {\n",
       "        text-align: right;\n",
       "    }\n",
       "</style>\n",
       "<table border=\"1\" class=\"dataframe\">\n",
       "  <thead>\n",
       "    <tr style=\"text-align: right;\">\n",
       "      <th></th>\n",
       "      <th>value</th>\n",
       "      <th>min_value</th>\n",
       "      <th>max_value</th>\n",
       "      <th>unit</th>\n",
       "    </tr>\n",
       "  </thead>\n",
       "  <tbody>\n",
       "    <tr>\n",
       "      <th>PSR_J0534p2200.spectrum.main.Super_cutoff_powerlaw.K</th>\n",
       "      <td>0.0</td>\n",
       "      <td>0.0</td>\n",
       "      <td>0.0</td>\n",
       "      <td>keV-1 s-1 cm-2</td>\n",
       "    </tr>\n",
       "    <tr>\n",
       "      <th>PSR_J0534p2200.spectrum.main.Super_cutoff_powerlaw.index</th>\n",
       "      <td>-1.826553</td>\n",
       "      <td>-10.0</td>\n",
       "      <td>10.0</td>\n",
       "      <td></td>\n",
       "    </tr>\n",
       "    <tr>\n",
       "      <th>NVSS_J052622p224801.spectrum.main.Powerlaw.K</th>\n",
       "      <td>0.0</td>\n",
       "      <td>0.0</td>\n",
       "      <td>0.0</td>\n",
       "      <td>keV-1 s-1 cm-2</td>\n",
       "    </tr>\n",
       "    <tr>\n",
       "      <th>x4FGL_J0544d4p2238.spectrum.main.Powerlaw.K</th>\n",
       "      <td>0.0</td>\n",
       "      <td>0.0</td>\n",
       "      <td>0.0</td>\n",
       "      <td>keV-1 s-1 cm-2</td>\n",
       "    </tr>\n",
       "  </tbody>\n",
       "</table>\n",
       "</div><br><br>Fixed parameters (1090):<br>(abridged. Use complete=True to see all fixed parameters)<br><br><br>Properties (0):<br><br>(none)<br><br><br>Linked parameters (0):<br><br>(none)<br><br>Independent variables:<br><br>(none)<br><br>Linked functions (0):<br><br>(none)<br>"
      ],
      "text/plain": [
       "Model summary:\n",
       "==============\n",
       "\n",
       "                    N\n",
       "Point sources     196\n",
       "Extended sources    0\n",
       "Particle sources    0\n",
       "\n",
       "Free parameters (4):\n",
       "--------------------\n",
       "\n",
       "                            value min_value max_value            unit\n",
       "PSR_J0534p2200...K            0.0       0.0       0.0  keV-1 s-1 cm-2\n",
       "PSR_J0534p2200...index  -1.826553     -10.0      10.0                \n",
       "NVSS_J052622p224801...K       0.0       0.0       0.0  keV-1 s-1 cm-2\n",
       "x4FGL_J0544d4p2238...K        0.0       0.0       0.0  keV-1 s-1 cm-2\n",
       "\n",
       "Fixed parameters (1090):\n",
       "(abridged. Use complete=True to see all fixed parameters)\n",
       "\n",
       "\n",
       "Properties (0):\n",
       "--------------------\n",
       "\n",
       "(none)\n",
       "\n",
       "\n",
       "Linked parameters (0):\n",
       "----------------------\n",
       "\n",
       "(none)\n",
       "\n",
       "Independent variables:\n",
       "----------------------\n",
       "\n",
       "(none)\n",
       "\n",
       "Linked functions (0):\n",
       "----------------------\n",
       "\n",
       "(none)"
      ]
     },
     "metadata": {},
     "output_type": "display_data"
    }
   ],
   "source": [
    "model.PSR_J0534p2200.spectrum.main.Super_cutoff_powerlaw.index.free = True\n",
    "\n",
    "model.display()"
   ]
  },
  {
   "cell_type": "code",
   "execution_count": 9,
   "id": "61707fc2",
   "metadata": {
    "execution": {
     "iopub.execute_input": "2025-02-05T23:50:50.390720Z",
     "iopub.status.busy": "2025-02-05T23:50:50.390386Z",
     "iopub.status.idle": "2025-02-05T23:51:41.491264Z",
     "shell.execute_reply": "2025-02-05T23:51:41.489248Z"
    }
   },
   "outputs": [
    {
     "data": {
      "text/html": [
       "<pre style=\"white-space:pre;overflow-x:auto;line-height:normal;font-family:Menlo,'DejaVu Sans Mono',consolas,'Courier New',monospace\"><span style=\"color: #00ff00; text-decoration-color: #00ff00\">23:50:50 </span><span style=\"color: #00ffaf; text-decoration-color: #00ffaf\">INFO    </span> <span style=\"color: #c6c6c6; text-decoration-color: #c6c6c6; font-weight: bold\"> Query parameters:                                                       </span><a href=\"file:///Users/runner/work/threeML/threeML/threeML/utils/data_download/Fermi_LAT/download_LAT_data.py\" target=\"_blank\"><span style=\"color: #7f7f7f; text-decoration-color: #7f7f7f\">download_LAT_data.py</span></a><span style=\"color: #7f7f7f; text-decoration-color: #7f7f7f\">:</span><a href=\"file:///Users/runner/work/threeML/threeML/threeML/utils/data_download/Fermi_LAT/download_LAT_data.py#262\" target=\"_blank\"><span style=\"color: #7f7f7f; text-decoration-color: #7f7f7f\">262</span></a>\n",
       "</pre>\n"
      ],
      "text/plain": [
       "\u001b[38;5;46m23:50:50\u001b[0m\u001b[38;5;46m \u001b[0m\u001b[38;5;49mINFO    \u001b[0m \u001b[1;38;5;251m Query parameters:                                                      \u001b[0m\u001b[1;38;5;251m \u001b[0m\u001b]8;id=607390;file:///Users/runner/work/threeML/threeML/threeML/utils/data_download/Fermi_LAT/download_LAT_data.py\u001b\\\u001b[2mdownload_LAT_data.py\u001b[0m\u001b]8;;\u001b\\\u001b[2m:\u001b[0m\u001b]8;id=609729;file:///Users/runner/work/threeML/threeML/threeML/utils/data_download/Fermi_LAT/download_LAT_data.py#262\u001b\\\u001b[2m262\u001b[0m\u001b]8;;\u001b\\\n"
      ]
     },
     "metadata": {},
     "output_type": "display_data"
    },
    {
     "data": {
      "text/html": [
       "<pre style=\"white-space:pre;overflow-x:auto;line-height:normal;font-family:Menlo,'DejaVu Sans Mono',consolas,'Courier New',monospace\"><span style=\"color: #00ff00; text-decoration-color: #00ff00\">         </span><span style=\"color: #00ffaf; text-decoration-color: #00ffaf\">INFO    </span> <span style=\"color: #c6c6c6; text-decoration-color: #c6c6c6; font-weight: bold\">                     coordfield = </span><span style=\"color: #c0c0c0; text-decoration-color: #c0c0c0; font-weight: bold\">83.6324</span><span style=\"color: #c6c6c6; text-decoration-color: #c6c6c6; font-weight: bold\">,</span><span style=\"color: #c0c0c0; text-decoration-color: #c0c0c0; font-weight: bold\">22.0174</span><span style=\"color: #c6c6c6; text-decoration-color: #c6c6c6; font-weight: bold\">                        </span><a href=\"file:///Users/runner/work/threeML/threeML/threeML/utils/data_download/Fermi_LAT/download_LAT_data.py\" target=\"_blank\"><span style=\"color: #7f7f7f; text-decoration-color: #7f7f7f\">download_LAT_data.py</span></a><span style=\"color: #7f7f7f; text-decoration-color: #7f7f7f\">:</span><a href=\"file:///Users/runner/work/threeML/threeML/threeML/utils/data_download/Fermi_LAT/download_LAT_data.py#266\" target=\"_blank\"><span style=\"color: #7f7f7f; text-decoration-color: #7f7f7f\">266</span></a>\n",
       "</pre>\n"
      ],
      "text/plain": [
       "\u001b[38;5;46m        \u001b[0m\u001b[38;5;46m \u001b[0m\u001b[38;5;49mINFO    \u001b[0m \u001b[1;38;5;251m                     coordfield = \u001b[0m\u001b[1;37m83.6324\u001b[0m\u001b[1;38;5;251m,\u001b[0m\u001b[1;37m22.0174\u001b[0m\u001b[1;38;5;251m                       \u001b[0m\u001b[1;38;5;251m \u001b[0m\u001b]8;id=249205;file:///Users/runner/work/threeML/threeML/threeML/utils/data_download/Fermi_LAT/download_LAT_data.py\u001b\\\u001b[2mdownload_LAT_data.py\u001b[0m\u001b]8;;\u001b\\\u001b[2m:\u001b[0m\u001b]8;id=302592;file:///Users/runner/work/threeML/threeML/threeML/utils/data_download/Fermi_LAT/download_LAT_data.py#266\u001b\\\u001b[2m266\u001b[0m\u001b]8;;\u001b\\\n"
      ]
     },
     "metadata": {},
     "output_type": "display_data"
    },
    {
     "data": {
      "text/html": [
       "<pre style=\"white-space:pre;overflow-x:auto;line-height:normal;font-family:Menlo,'DejaVu Sans Mono',consolas,'Courier New',monospace\"><span style=\"color: #00ff00; text-decoration-color: #00ff00\">         </span><span style=\"color: #00ffaf; text-decoration-color: #00ffaf\">INFO    </span> <span style=\"color: #c6c6c6; text-decoration-color: #c6c6c6; font-weight: bold\">                    coordsystem = J2000                                  </span><a href=\"file:///Users/runner/work/threeML/threeML/threeML/utils/data_download/Fermi_LAT/download_LAT_data.py\" target=\"_blank\"><span style=\"color: #7f7f7f; text-decoration-color: #7f7f7f\">download_LAT_data.py</span></a><span style=\"color: #7f7f7f; text-decoration-color: #7f7f7f\">:</span><a href=\"file:///Users/runner/work/threeML/threeML/threeML/utils/data_download/Fermi_LAT/download_LAT_data.py#266\" target=\"_blank\"><span style=\"color: #7f7f7f; text-decoration-color: #7f7f7f\">266</span></a>\n",
       "</pre>\n"
      ],
      "text/plain": [
       "\u001b[38;5;46m        \u001b[0m\u001b[38;5;46m \u001b[0m\u001b[38;5;49mINFO    \u001b[0m \u001b[1;38;5;251m                    coordsystem = J2000                                 \u001b[0m\u001b[1;38;5;251m \u001b[0m\u001b]8;id=133459;file:///Users/runner/work/threeML/threeML/threeML/utils/data_download/Fermi_LAT/download_LAT_data.py\u001b\\\u001b[2mdownload_LAT_data.py\u001b[0m\u001b]8;;\u001b\\\u001b[2m:\u001b[0m\u001b]8;id=502324;file:///Users/runner/work/threeML/threeML/threeML/utils/data_download/Fermi_LAT/download_LAT_data.py#266\u001b\\\u001b[2m266\u001b[0m\u001b]8;;\u001b\\\n"
      ]
     },
     "metadata": {},
     "output_type": "display_data"
    },
    {
     "data": {
      "text/html": [
       "<pre style=\"white-space:pre;overflow-x:auto;line-height:normal;font-family:Menlo,'DejaVu Sans Mono',consolas,'Courier New',monospace\"><span style=\"color: #00ff00; text-decoration-color: #00ff00\">         </span><span style=\"color: #00ffaf; text-decoration-color: #00ffaf\">INFO    </span> <span style=\"color: #c6c6c6; text-decoration-color: #c6c6c6; font-weight: bold\">                     shapefield = </span><span style=\"color: #c0c0c0; text-decoration-color: #c0c0c0; font-weight: bold\">20.0</span><span style=\"color: #c6c6c6; text-decoration-color: #c6c6c6; font-weight: bold\">                                   </span><a href=\"file:///Users/runner/work/threeML/threeML/threeML/utils/data_download/Fermi_LAT/download_LAT_data.py\" target=\"_blank\"><span style=\"color: #7f7f7f; text-decoration-color: #7f7f7f\">download_LAT_data.py</span></a><span style=\"color: #7f7f7f; text-decoration-color: #7f7f7f\">:</span><a href=\"file:///Users/runner/work/threeML/threeML/threeML/utils/data_download/Fermi_LAT/download_LAT_data.py#266\" target=\"_blank\"><span style=\"color: #7f7f7f; text-decoration-color: #7f7f7f\">266</span></a>\n",
       "</pre>\n"
      ],
      "text/plain": [
       "\u001b[38;5;46m        \u001b[0m\u001b[38;5;46m \u001b[0m\u001b[38;5;49mINFO    \u001b[0m \u001b[1;38;5;251m                     shapefield = \u001b[0m\u001b[1;37m20.0\u001b[0m\u001b[1;38;5;251m                                  \u001b[0m\u001b[1;38;5;251m \u001b[0m\u001b]8;id=294155;file:///Users/runner/work/threeML/threeML/threeML/utils/data_download/Fermi_LAT/download_LAT_data.py\u001b\\\u001b[2mdownload_LAT_data.py\u001b[0m\u001b]8;;\u001b\\\u001b[2m:\u001b[0m\u001b]8;id=768950;file:///Users/runner/work/threeML/threeML/threeML/utils/data_download/Fermi_LAT/download_LAT_data.py#266\u001b\\\u001b[2m266\u001b[0m\u001b]8;;\u001b\\\n"
      ]
     },
     "metadata": {},
     "output_type": "display_data"
    },
    {
     "data": {
      "text/html": [
       "<pre style=\"white-space:pre;overflow-x:auto;line-height:normal;font-family:Menlo,'DejaVu Sans Mono',consolas,'Courier New',monospace\"><span style=\"color: #00ff00; text-decoration-color: #00ff00\">         </span><span style=\"color: #00ffaf; text-decoration-color: #00ffaf\">INFO    </span> <span style=\"color: #c6c6c6; text-decoration-color: #c6c6c6; font-weight: bold\">                      timefield = </span><span style=\"color: #c0c0c0; text-decoration-color: #c0c0c0; font-weight: bold\">2010</span><span style=\"color: #c6c6c6; text-decoration-color: #c6c6c6; font-weight: bold\">-</span><span style=\"color: #c0c0c0; text-decoration-color: #c0c0c0; font-weight: bold\">01</span><span style=\"color: #c6c6c6; text-decoration-color: #c6c6c6; font-weight: bold\">-</span><span style=\"color: #c0c0c0; text-decoration-color: #c0c0c0; font-weight: bold\">01</span><span style=\"color: #c6c6c6; text-decoration-color: #c6c6c6; font-weight: bold\"> </span><span style=\"color: #00ff00; text-decoration-color: #00ff00; font-weight: bold\">00:00:00</span><span style=\"color: #c6c6c6; text-decoration-color: #c6c6c6; font-weight: bold\">,</span><span style=\"color: #c0c0c0; text-decoration-color: #c0c0c0; font-weight: bold\">2010</span><span style=\"color: #c6c6c6; text-decoration-color: #c6c6c6; font-weight: bold\">-</span><span style=\"color: #c0c0c0; text-decoration-color: #c0c0c0; font-weight: bold\">02</span><span style=\"color: #c6c6c6; text-decoration-color: #c6c6c6; font-weight: bold\">-</span><span style=\"color: #c0c0c0; text-decoration-color: #c0c0c0; font-weight: bold\">01</span><span style=\"color: #c6c6c6; text-decoration-color: #c6c6c6; font-weight: bold\">         </span><a href=\"file:///Users/runner/work/threeML/threeML/threeML/utils/data_download/Fermi_LAT/download_LAT_data.py\" target=\"_blank\"><span style=\"color: #7f7f7f; text-decoration-color: #7f7f7f\">download_LAT_data.py</span></a><span style=\"color: #7f7f7f; text-decoration-color: #7f7f7f\">:</span><a href=\"file:///Users/runner/work/threeML/threeML/threeML/utils/data_download/Fermi_LAT/download_LAT_data.py#266\" target=\"_blank\"><span style=\"color: #7f7f7f; text-decoration-color: #7f7f7f\">266</span></a>\n",
       "<span style=\"color: #00ff00; text-decoration-color: #00ff00\">         </span>         <span style=\"color: #00ff00; text-decoration-color: #00ff00; font-weight: bold\">00:00:00</span><span style=\"color: #c6c6c6; text-decoration-color: #c6c6c6; font-weight: bold\">                                                                 </span><span style=\"color: #7f7f7f; text-decoration-color: #7f7f7f\">                        </span>\n",
       "</pre>\n"
      ],
      "text/plain": [
       "\u001b[38;5;46m        \u001b[0m\u001b[38;5;46m \u001b[0m\u001b[38;5;49mINFO    \u001b[0m \u001b[1;38;5;251m                      timefield = \u001b[0m\u001b[1;37m2010\u001b[0m\u001b[1;38;5;251m-\u001b[0m\u001b[1;37m01\u001b[0m\u001b[1;38;5;251m-\u001b[0m\u001b[1;37m01\u001b[0m\u001b[1;38;5;251m \u001b[0m\u001b[1;92m00:00:00\u001b[0m\u001b[1;38;5;251m,\u001b[0m\u001b[1;37m2010\u001b[0m\u001b[1;38;5;251m-\u001b[0m\u001b[1;37m02\u001b[0m\u001b[1;38;5;251m-\u001b[0m\u001b[1;37m01\u001b[0m\u001b[1;38;5;251m        \u001b[0m\u001b[1;38;5;251m \u001b[0m\u001b]8;id=394728;file:///Users/runner/work/threeML/threeML/threeML/utils/data_download/Fermi_LAT/download_LAT_data.py\u001b\\\u001b[2mdownload_LAT_data.py\u001b[0m\u001b]8;;\u001b\\\u001b[2m:\u001b[0m\u001b]8;id=942124;file:///Users/runner/work/threeML/threeML/threeML/utils/data_download/Fermi_LAT/download_LAT_data.py#266\u001b\\\u001b[2m266\u001b[0m\u001b]8;;\u001b\\\n",
       "\u001b[38;5;46m         \u001b[0m         \u001b[1;92m00:00:00\u001b[0m\u001b[1;38;5;251m                                                                \u001b[0m\u001b[1;38;5;251m \u001b[0m\u001b[2m                        \u001b[0m\n"
      ]
     },
     "metadata": {},
     "output_type": "display_data"
    },
    {
     "data": {
      "text/html": [
       "<pre style=\"white-space:pre;overflow-x:auto;line-height:normal;font-family:Menlo,'DejaVu Sans Mono',consolas,'Courier New',monospace\"><span style=\"color: #00ff00; text-decoration-color: #00ff00\">         </span><span style=\"color: #00ffaf; text-decoration-color: #00ffaf\">INFO    </span> <span style=\"color: #c6c6c6; text-decoration-color: #c6c6c6; font-weight: bold\">                       timetype = Gregorian                              </span><a href=\"file:///Users/runner/work/threeML/threeML/threeML/utils/data_download/Fermi_LAT/download_LAT_data.py\" target=\"_blank\"><span style=\"color: #7f7f7f; text-decoration-color: #7f7f7f\">download_LAT_data.py</span></a><span style=\"color: #7f7f7f; text-decoration-color: #7f7f7f\">:</span><a href=\"file:///Users/runner/work/threeML/threeML/threeML/utils/data_download/Fermi_LAT/download_LAT_data.py#266\" target=\"_blank\"><span style=\"color: #7f7f7f; text-decoration-color: #7f7f7f\">266</span></a>\n",
       "</pre>\n"
      ],
      "text/plain": [
       "\u001b[38;5;46m        \u001b[0m\u001b[38;5;46m \u001b[0m\u001b[38;5;49mINFO    \u001b[0m \u001b[1;38;5;251m                       timetype = Gregorian                             \u001b[0m\u001b[1;38;5;251m \u001b[0m\u001b]8;id=414111;file:///Users/runner/work/threeML/threeML/threeML/utils/data_download/Fermi_LAT/download_LAT_data.py\u001b\\\u001b[2mdownload_LAT_data.py\u001b[0m\u001b]8;;\u001b\\\u001b[2m:\u001b[0m\u001b]8;id=678757;file:///Users/runner/work/threeML/threeML/threeML/utils/data_download/Fermi_LAT/download_LAT_data.py#266\u001b\\\u001b[2m266\u001b[0m\u001b]8;;\u001b\\\n"
      ]
     },
     "metadata": {},
     "output_type": "display_data"
    },
    {
     "data": {
      "text/html": [
       "<pre style=\"white-space:pre;overflow-x:auto;line-height:normal;font-family:Menlo,'DejaVu Sans Mono',consolas,'Courier New',monospace\"><span style=\"color: #00ff00; text-decoration-color: #00ff00\">         </span><span style=\"color: #00ffaf; text-decoration-color: #00ffaf\">INFO    </span> <span style=\"color: #c6c6c6; text-decoration-color: #c6c6c6; font-weight: bold\">                    energyfield = </span><span style=\"color: #c0c0c0; text-decoration-color: #c0c0c0; font-weight: bold\">30.000</span><span style=\"color: #c6c6c6; text-decoration-color: #c6c6c6; font-weight: bold\">,</span><span style=\"color: #c0c0c0; text-decoration-color: #c0c0c0; font-weight: bold\">1000000.000</span><span style=\"color: #c6c6c6; text-decoration-color: #c6c6c6; font-weight: bold\">                     </span><a href=\"file:///Users/runner/work/threeML/threeML/threeML/utils/data_download/Fermi_LAT/download_LAT_data.py\" target=\"_blank\"><span style=\"color: #7f7f7f; text-decoration-color: #7f7f7f\">download_LAT_data.py</span></a><span style=\"color: #7f7f7f; text-decoration-color: #7f7f7f\">:</span><a href=\"file:///Users/runner/work/threeML/threeML/threeML/utils/data_download/Fermi_LAT/download_LAT_data.py#266\" target=\"_blank\"><span style=\"color: #7f7f7f; text-decoration-color: #7f7f7f\">266</span></a>\n",
       "</pre>\n"
      ],
      "text/plain": [
       "\u001b[38;5;46m        \u001b[0m\u001b[38;5;46m \u001b[0m\u001b[38;5;49mINFO    \u001b[0m \u001b[1;38;5;251m                    energyfield = \u001b[0m\u001b[1;37m30.000\u001b[0m\u001b[1;38;5;251m,\u001b[0m\u001b[1;37m1000000.000\u001b[0m\u001b[1;38;5;251m                    \u001b[0m\u001b[1;38;5;251m \u001b[0m\u001b]8;id=228711;file:///Users/runner/work/threeML/threeML/threeML/utils/data_download/Fermi_LAT/download_LAT_data.py\u001b\\\u001b[2mdownload_LAT_data.py\u001b[0m\u001b]8;;\u001b\\\u001b[2m:\u001b[0m\u001b]8;id=301909;file:///Users/runner/work/threeML/threeML/threeML/utils/data_download/Fermi_LAT/download_LAT_data.py#266\u001b\\\u001b[2m266\u001b[0m\u001b]8;;\u001b\\\n"
      ]
     },
     "metadata": {},
     "output_type": "display_data"
    },
    {
     "data": {
      "text/html": [
       "<pre style=\"white-space:pre;overflow-x:auto;line-height:normal;font-family:Menlo,'DejaVu Sans Mono',consolas,'Courier New',monospace\"><span style=\"color: #00ff00; text-decoration-color: #00ff00\">         </span><span style=\"color: #00ffaf; text-decoration-color: #00ffaf\">INFO    </span> <span style=\"color: #c6c6c6; text-decoration-color: #c6c6c6; font-weight: bold\">         photonOrExtendedOrNone = Photon                                 </span><a href=\"file:///Users/runner/work/threeML/threeML/threeML/utils/data_download/Fermi_LAT/download_LAT_data.py\" target=\"_blank\"><span style=\"color: #7f7f7f; text-decoration-color: #7f7f7f\">download_LAT_data.py</span></a><span style=\"color: #7f7f7f; text-decoration-color: #7f7f7f\">:</span><a href=\"file:///Users/runner/work/threeML/threeML/threeML/utils/data_download/Fermi_LAT/download_LAT_data.py#266\" target=\"_blank\"><span style=\"color: #7f7f7f; text-decoration-color: #7f7f7f\">266</span></a>\n",
       "</pre>\n"
      ],
      "text/plain": [
       "\u001b[38;5;46m        \u001b[0m\u001b[38;5;46m \u001b[0m\u001b[38;5;49mINFO    \u001b[0m \u001b[1;38;5;251m         photonOrExtendedOrNone = Photon                                \u001b[0m\u001b[1;38;5;251m \u001b[0m\u001b]8;id=888168;file:///Users/runner/work/threeML/threeML/threeML/utils/data_download/Fermi_LAT/download_LAT_data.py\u001b\\\u001b[2mdownload_LAT_data.py\u001b[0m\u001b]8;;\u001b\\\u001b[2m:\u001b[0m\u001b]8;id=991247;file:///Users/runner/work/threeML/threeML/threeML/utils/data_download/Fermi_LAT/download_LAT_data.py#266\u001b\\\u001b[2m266\u001b[0m\u001b]8;;\u001b\\\n"
      ]
     },
     "metadata": {},
     "output_type": "display_data"
    },
    {
     "data": {
      "text/html": [
       "<pre style=\"white-space:pre;overflow-x:auto;line-height:normal;font-family:Menlo,'DejaVu Sans Mono',consolas,'Courier New',monospace\"><span style=\"color: #00ff00; text-decoration-color: #00ff00\">         </span><span style=\"color: #00ffaf; text-decoration-color: #00ffaf\">INFO    </span> <span style=\"color: #c6c6c6; text-decoration-color: #c6c6c6; font-weight: bold\">                    destination = query                                  </span><a href=\"file:///Users/runner/work/threeML/threeML/threeML/utils/data_download/Fermi_LAT/download_LAT_data.py\" target=\"_blank\"><span style=\"color: #7f7f7f; text-decoration-color: #7f7f7f\">download_LAT_data.py</span></a><span style=\"color: #7f7f7f; text-decoration-color: #7f7f7f\">:</span><a href=\"file:///Users/runner/work/threeML/threeML/threeML/utils/data_download/Fermi_LAT/download_LAT_data.py#266\" target=\"_blank\"><span style=\"color: #7f7f7f; text-decoration-color: #7f7f7f\">266</span></a>\n",
       "</pre>\n"
      ],
      "text/plain": [
       "\u001b[38;5;46m        \u001b[0m\u001b[38;5;46m \u001b[0m\u001b[38;5;49mINFO    \u001b[0m \u001b[1;38;5;251m                    destination = query                                 \u001b[0m\u001b[1;38;5;251m \u001b[0m\u001b]8;id=719898;file:///Users/runner/work/threeML/threeML/threeML/utils/data_download/Fermi_LAT/download_LAT_data.py\u001b\\\u001b[2mdownload_LAT_data.py\u001b[0m\u001b]8;;\u001b\\\u001b[2m:\u001b[0m\u001b]8;id=874632;file:///Users/runner/work/threeML/threeML/threeML/utils/data_download/Fermi_LAT/download_LAT_data.py#266\u001b\\\u001b[2m266\u001b[0m\u001b]8;;\u001b\\\n"
      ]
     },
     "metadata": {},
     "output_type": "display_data"
    },
    {
     "data": {
      "text/html": [
       "<pre style=\"white-space:pre;overflow-x:auto;line-height:normal;font-family:Menlo,'DejaVu Sans Mono',consolas,'Courier New',monospace\"><span style=\"color: #00ff00; text-decoration-color: #00ff00\">         </span><span style=\"color: #00ffaf; text-decoration-color: #00ffaf\">INFO    </span> <span style=\"color: #c6c6c6; text-decoration-color: #c6c6c6; font-weight: bold\">                     spacecraft = checked                                </span><a href=\"file:///Users/runner/work/threeML/threeML/threeML/utils/data_download/Fermi_LAT/download_LAT_data.py\" target=\"_blank\"><span style=\"color: #7f7f7f; text-decoration-color: #7f7f7f\">download_LAT_data.py</span></a><span style=\"color: #7f7f7f; text-decoration-color: #7f7f7f\">:</span><a href=\"file:///Users/runner/work/threeML/threeML/threeML/utils/data_download/Fermi_LAT/download_LAT_data.py#266\" target=\"_blank\"><span style=\"color: #7f7f7f; text-decoration-color: #7f7f7f\">266</span></a>\n",
       "</pre>\n"
      ],
      "text/plain": [
       "\u001b[38;5;46m        \u001b[0m\u001b[38;5;46m \u001b[0m\u001b[38;5;49mINFO    \u001b[0m \u001b[1;38;5;251m                     spacecraft = checked                               \u001b[0m\u001b[1;38;5;251m \u001b[0m\u001b]8;id=120962;file:///Users/runner/work/threeML/threeML/threeML/utils/data_download/Fermi_LAT/download_LAT_data.py\u001b\\\u001b[2mdownload_LAT_data.py\u001b[0m\u001b]8;;\u001b\\\u001b[2m:\u001b[0m\u001b]8;id=786346;file:///Users/runner/work/threeML/threeML/threeML/utils/data_download/Fermi_LAT/download_LAT_data.py#266\u001b\\\u001b[2m266\u001b[0m\u001b]8;;\u001b\\\n"
      ]
     },
     "metadata": {},
     "output_type": "display_data"
    },
    {
     "data": {
      "text/html": [
       "<pre style=\"white-space:pre;overflow-x:auto;line-height:normal;font-family:Menlo,'DejaVu Sans Mono',consolas,'Courier New',monospace\"><span style=\"color: #00ff00; text-decoration-color: #00ff00\">         </span><span style=\"color: #00ffaf; text-decoration-color: #00ffaf\">INFO    </span> <span style=\"color: #c6c6c6; text-decoration-color: #c6c6c6; font-weight: bold\"> Query ID: 9f8de773c6ba4abf7fbabfdb909f7005                              </span><a href=\"file:///Users/runner/work/threeML/threeML/threeML/utils/data_download/Fermi_LAT/download_LAT_data.py\" target=\"_blank\"><span style=\"color: #7f7f7f; text-decoration-color: #7f7f7f\">download_LAT_data.py</span></a><span style=\"color: #7f7f7f; text-decoration-color: #7f7f7f\">:</span><a href=\"file:///Users/runner/work/threeML/threeML/threeML/utils/data_download/Fermi_LAT/download_LAT_data.py#271\" target=\"_blank\"><span style=\"color: #7f7f7f; text-decoration-color: #7f7f7f\">271</span></a>\n",
       "</pre>\n"
      ],
      "text/plain": [
       "\u001b[38;5;46m        \u001b[0m\u001b[38;5;46m \u001b[0m\u001b[38;5;49mINFO    \u001b[0m \u001b[1;38;5;251m Query ID: 9f8de773c6ba4abf7fbabfdb909f7005                             \u001b[0m\u001b[1;38;5;251m \u001b[0m\u001b]8;id=275145;file:///Users/runner/work/threeML/threeML/threeML/utils/data_download/Fermi_LAT/download_LAT_data.py\u001b\\\u001b[2mdownload_LAT_data.py\u001b[0m\u001b]8;;\u001b\\\u001b[2m:\u001b[0m\u001b]8;id=365976;file:///Users/runner/work/threeML/threeML/threeML/utils/data_download/Fermi_LAT/download_LAT_data.py#271\u001b\\\u001b[2m271\u001b[0m\u001b]8;;\u001b\\\n"
      ]
     },
     "metadata": {},
     "output_type": "display_data"
    },
    {
     "data": {
      "text/html": [
       "<pre style=\"white-space:pre;overflow-x:auto;line-height:normal;font-family:Menlo,'DejaVu Sans Mono',consolas,'Courier New',monospace\"><span style=\"color: #00ff00; text-decoration-color: #00ff00\">23:50:51 </span><span style=\"color: #00ffaf; text-decoration-color: #00ffaf\">INFO    </span> <span style=\"color: #c6c6c6; text-decoration-color: #c6c6c6; font-weight: bold\"> Estimated complete time for your query: </span><span style=\"color: #c0c0c0; text-decoration-color: #c0c0c0; font-weight: bold\">13</span><span style=\"color: #c6c6c6; text-decoration-color: #c6c6c6; font-weight: bold\"> seconds                      </span><a href=\"file:///Users/runner/work/threeML/threeML/threeML/utils/data_download/Fermi_LAT/download_LAT_data.py\" target=\"_blank\"><span style=\"color: #7f7f7f; text-decoration-color: #7f7f7f\">download_LAT_data.py</span></a><span style=\"color: #7f7f7f; text-decoration-color: #7f7f7f\">:</span><a href=\"file:///Users/runner/work/threeML/threeML/threeML/utils/data_download/Fermi_LAT/download_LAT_data.py#428\" target=\"_blank\"><span style=\"color: #7f7f7f; text-decoration-color: #7f7f7f\">428</span></a>\n",
       "</pre>\n"
      ],
      "text/plain": [
       "\u001b[38;5;46m23:50:51\u001b[0m\u001b[38;5;46m \u001b[0m\u001b[38;5;49mINFO    \u001b[0m \u001b[1;38;5;251m Estimated complete time for your query: \u001b[0m\u001b[1;37m13\u001b[0m\u001b[1;38;5;251m seconds                     \u001b[0m\u001b[1;38;5;251m \u001b[0m\u001b]8;id=963564;file:///Users/runner/work/threeML/threeML/threeML/utils/data_download/Fermi_LAT/download_LAT_data.py\u001b\\\u001b[2mdownload_LAT_data.py\u001b[0m\u001b]8;;\u001b\\\u001b[2m:\u001b[0m\u001b]8;id=458710;file:///Users/runner/work/threeML/threeML/threeML/utils/data_download/Fermi_LAT/download_LAT_data.py#428\u001b\\\u001b[2m428\u001b[0m\u001b]8;;\u001b\\\n"
      ]
     },
     "metadata": {},
     "output_type": "display_data"
    },
    {
     "data": {
      "text/html": [
       "<pre style=\"white-space:pre;overflow-x:auto;line-height:normal;font-family:Menlo,'DejaVu Sans Mono',consolas,'Courier New',monospace\"><span style=\"color: #00ff00; text-decoration-color: #00ff00\">         </span><span style=\"color: #00ffaf; text-decoration-color: #00ffaf\">INFO    </span> <span style=\"color: #c6c6c6; text-decoration-color: #c6c6c6; font-weight: bold\"> If this download fails, you can find your data at                       </span><a href=\"file:///Users/runner/work/threeML/threeML/threeML/utils/data_download/Fermi_LAT/download_LAT_data.py\" target=\"_blank\"><span style=\"color: #7f7f7f; text-decoration-color: #7f7f7f\">download_LAT_data.py</span></a><span style=\"color: #7f7f7f; text-decoration-color: #7f7f7f\">:</span><a href=\"file:///Users/runner/work/threeML/threeML/threeML/utils/data_download/Fermi_LAT/download_LAT_data.py#437\" target=\"_blank\"><span style=\"color: #7f7f7f; text-decoration-color: #7f7f7f\">437</span></a>\n",
       "<span style=\"color: #00ff00; text-decoration-color: #00ff00\">         </span>         <span style=\"color: #d7d7d7; text-decoration-color: #d7d7d7; text-decoration: underline\">https://fermi.gsfc.nasa.gov/cgi-bin/ssc/LAT/QueryResults.cgi?id=L2502051</span><span style=\"color: #c6c6c6; text-decoration-color: #c6c6c6; font-weight: bold\"> </span><span style=\"color: #7f7f7f; text-decoration-color: #7f7f7f\">                        </span>\n",
       "<span style=\"color: #00ff00; text-decoration-color: #00ff00\">         </span>         <span style=\"color: #d7d7d7; text-decoration-color: #d7d7d7; text-decoration: underline\">85052F2968AF272</span><span style=\"color: #c6c6c6; text-decoration-color: #c6c6c6; font-weight: bold\"> (when ready)                                             </span><span style=\"color: #7f7f7f; text-decoration-color: #7f7f7f\">                        </span>\n",
       "</pre>\n"
      ],
      "text/plain": [
       "\u001b[38;5;46m        \u001b[0m\u001b[38;5;46m \u001b[0m\u001b[38;5;49mINFO    \u001b[0m \u001b[1;38;5;251m If this download fails, you can find your data at                      \u001b[0m\u001b[1;38;5;251m \u001b[0m\u001b]8;id=171041;file:///Users/runner/work/threeML/threeML/threeML/utils/data_download/Fermi_LAT/download_LAT_data.py\u001b\\\u001b[2mdownload_LAT_data.py\u001b[0m\u001b]8;;\u001b\\\u001b[2m:\u001b[0m\u001b]8;id=450745;file:///Users/runner/work/threeML/threeML/threeML/utils/data_download/Fermi_LAT/download_LAT_data.py#437\u001b\\\u001b[2m437\u001b[0m\u001b]8;;\u001b\\\n",
       "\u001b[38;5;46m         \u001b[0m         \u001b[4;38;5;188mhttps://fermi.gsfc.nasa.gov/cgi-bin/ssc/LAT/QueryResults.cgi?\u001b[0m\u001b[4;38;5;188mid\u001b[0m\u001b[4;38;5;188m=\u001b[0m\u001b[4;38;5;188mL2502051\u001b[0m\u001b[1;38;5;251m \u001b[0m\u001b[2m                        \u001b[0m\n",
       "\u001b[38;5;46m         \u001b[0m         \u001b[4;38;5;188m85052F2968AF272\u001b[0m\u001b[1;38;5;251m \u001b[0m\u001b[1;38;5;251m(\u001b[0m\u001b[1;38;5;251mwhen ready\u001b[0m\u001b[1;38;5;251m)\u001b[0m\u001b[1;38;5;251m                                            \u001b[0m\u001b[1;38;5;251m \u001b[0m\u001b[2m                        \u001b[0m\n"
      ]
     },
     "metadata": {},
     "output_type": "display_data"
    },
    {
     "data": {
      "text/html": [
       "<pre style=\"white-space:pre;overflow-x:auto;line-height:normal;font-family:Menlo,'DejaVu Sans Mono',consolas,'Courier New',monospace\"><span style=\"color: #00ff00; text-decoration-color: #00ff00\">23:51:19 </span><span style=\"color: #00ffaf; text-decoration-color: #00ffaf\">INFO    </span> <span style=\"color: #c6c6c6; text-decoration-color: #c6c6c6; font-weight: bold\"> Downloading FT1 and FT2 files</span><span style=\"color: #808000; text-decoration-color: #808000; font-weight: bold\">...</span><span style=\"color: #c6c6c6; text-decoration-color: #c6c6c6; font-weight: bold\">                                        </span><a href=\"file:///Users/runner/work/threeML/threeML/threeML/utils/data_download/Fermi_LAT/download_LAT_data.py\" target=\"_blank\"><span style=\"color: #7f7f7f; text-decoration-color: #7f7f7f\">download_LAT_data.py</span></a><span style=\"color: #7f7f7f; text-decoration-color: #7f7f7f\">:</span><a href=\"file:///Users/runner/work/threeML/threeML/threeML/utils/data_download/Fermi_LAT/download_LAT_data.py#527\" target=\"_blank\"><span style=\"color: #7f7f7f; text-decoration-color: #7f7f7f\">527</span></a>\n",
       "</pre>\n"
      ],
      "text/plain": [
       "\u001b[38;5;46m23:51:19\u001b[0m\u001b[38;5;46m \u001b[0m\u001b[38;5;49mINFO    \u001b[0m \u001b[1;38;5;251m Downloading FT1 and FT2 files\u001b[0m\u001b[1;33m...\u001b[0m\u001b[1;38;5;251m                                       \u001b[0m\u001b[1;38;5;251m \u001b[0m\u001b]8;id=382976;file:///Users/runner/work/threeML/threeML/threeML/utils/data_download/Fermi_LAT/download_LAT_data.py\u001b\\\u001b[2mdownload_LAT_data.py\u001b[0m\u001b]8;;\u001b\\\u001b[2m:\u001b[0m\u001b]8;id=871187;file:///Users/runner/work/threeML/threeML/threeML/utils/data_download/Fermi_LAT/download_LAT_data.py#527\u001b\\\u001b[2m527\u001b[0m\u001b]8;;\u001b\\\n"
      ]
     },
     "metadata": {},
     "output_type": "display_data"
    },
    {
     "data": {
      "application/vnd.jupyter.widget-view+json": {
       "model_id": "10e517c11e164f918f789ead615c1e83",
       "version_major": 2,
       "version_minor": 0
      },
      "text/plain": [
       "Downloading L250205185052F2968AF272_SC00.fits:   0%|          | 0.00/11.9M [00:00<?, ?B/s]"
      ]
     },
     "metadata": {},
     "output_type": "display_data"
    },
    {
     "data": {
      "application/vnd.jupyter.widget-view+json": {
       "model_id": "e90f1ded9e8043e196809ea4c8254183",
       "version_major": 2,
       "version_minor": 0
      },
      "text/plain": [
       "Downloading L250205185052F2968AF272_PH00.fits:   0%|          | 0.00/16.3M [00:00<?, ?B/s]"
      ]
     },
     "metadata": {},
     "output_type": "display_data"
    }
   ],
   "source": [
    "# Download data from Jan 01 2010 to February 1 2010\n",
    "\n",
    "tstart = \"2010-01-01 00:00:00\"\n",
    "tstop = \"2010-02-01 00:00:00\"\n",
    "\n",
    "# Note that this will understand if you already download these files, and will\n",
    "# not do it twice unless you change your selection or the outdir\n",
    "\n",
    "evfile, scfile = download_LAT_data(\n",
    "    ra,\n",
    "    dec,\n",
    "    20.0,\n",
    "    tstart,\n",
    "    tstop,\n",
    "    time_type=\"Gregorian\",\n",
    "    destination_directory=\"Crab_data\",\n",
    ")"
   ]
  },
  {
   "cell_type": "markdown",
   "id": "5ef5f09c",
   "metadata": {},
   "source": [
    "## Configuration for Fermipy\n",
    "\n",
    "3ML provides and intreface into [Fermipy](https://fermipy.readthedocs.io/en/latest/) via the **FermipyLike** plugin. We can use it to generate basic configuration files.\n"
   ]
  },
  {
   "cell_type": "markdown",
   "id": "21f7f2dc",
   "metadata": {},
   "source": [
    ".. note::\n",
    "    Currently, the FermipyLike plugin does not provide an interface to handle extended sources. This will change\n"
   ]
  },
  {
   "cell_type": "code",
   "execution_count": 10,
   "id": "79c8b205",
   "metadata": {
    "execution": {
     "iopub.execute_input": "2025-02-05T23:51:41.500480Z",
     "iopub.status.busy": "2025-02-05T23:51:41.499952Z",
     "iopub.status.idle": "2025-02-05T23:51:41.527871Z",
     "shell.execute_reply": "2025-02-05T23:51:41.525328Z"
    }
   },
   "outputs": [
    {
     "name": "stdout",
     "output_type": "stream",
     "text": [
      "binning:\n",
      "  binsperdec: 8\n",
      "  binsz: 0.1\n",
      "  roiwidth: 10.0\n",
      "data:\n",
      "  evfile: /Users/runner/work/threeML/threeML/docs/md_docs/slow_execute/Crab_data/L9f8de773c6ba4abf7fbabfdb909f7005_FT1.fits\n",
      "  scfile: /Users/runner/work/threeML/threeML/docs/md_docs/slow_execute/Crab_data/L250205185052F2968AF272_SC00.fits\n",
      "logging:\n",
      "  chatter: 0\n",
      "  verbosity: 1\n",
      "selection:\n",
      "  dec: 22.01739478667197\n",
      "  emax: 100000.0\n",
      "  emin: 100.0\n",
      "  evclass: 128\n",
      "  evtype: 3\n",
      "  filter: DATA_QUAL>0 && LAT_CONFIG==1\n",
      "  ra: 83.6324076248989\n",
      "  tmax: 286675202.0\n",
      "  tmin: 283996802.0\n",
      "  zmax: 100.0\n",
      "\n"
     ]
    },
    {
     "data": {
      "text/html": [
       "<pre>binning:\n",
       "  binsperdec: 8\n",
       "  binsz: 0.1\n",
       "  roiwidth: 10.0\n",
       "data:\n",
       "  evfile: /Users/runner/work/threeML/threeML/docs/md_docs/slow_execute/Crab_data/L9f8de773c6ba4abf7fbabfdb909f7005_FT1.fits\n",
       "  scfile: /Users/runner/work/threeML/threeML/docs/md_docs/slow_execute/Crab_data/L250205185052F2968AF272_SC00.fits\n",
       "logging:\n",
       "  chatter: 0\n",
       "  verbosity: 1\n",
       "selection:\n",
       "  dec: 22.01739478667197\n",
       "  emax: 100000.0\n",
       "  emin: 100.0\n",
       "  evclass: 128\n",
       "  evtype: 3\n",
       "  filter: DATA_QUAL>0 && LAT_CONFIG==1\n",
       "  ra: 83.6324076248989\n",
       "  tmax: 286675202.0\n",
       "  tmin: 283996802.0\n",
       "  zmax: 100.0\n",
       "</pre>"
      ],
      "text/plain": []
     },
     "metadata": {},
     "output_type": "display_data"
    }
   ],
   "source": [
    "config = FermipyLike.get_basic_config(\n",
    "    evfile=evfile,\n",
    "    scfile=scfile,\n",
    "    ra=ra,\n",
    "    dec=dec,\n",
    "    fermipy_verbosity=1,\n",
    "    fermitools_chatter=0,\n",
    ")\n",
    "\n",
    "# See what we just got\n",
    "\n",
    "config.display()"
   ]
  },
  {
   "cell_type": "markdown",
   "id": "e0594a28",
   "metadata": {},
   "source": [
    "You can of course modify the configuration as a dictionary"
   ]
  },
  {
   "cell_type": "code",
   "execution_count": 11,
   "id": "14c32385",
   "metadata": {
    "execution": {
     "iopub.execute_input": "2025-02-05T23:51:41.537027Z",
     "iopub.status.busy": "2025-02-05T23:51:41.536410Z",
     "iopub.status.idle": "2025-02-05T23:51:41.543691Z",
     "shell.execute_reply": "2025-02-05T23:51:41.542252Z"
    }
   },
   "outputs": [],
   "source": [
    "config[\"selection\"][\"emax\"] = 300000.0"
   ]
  },
  {
   "cell_type": "markdown",
   "id": "460c6bcc",
   "metadata": {},
   "source": [
    "and even add sections"
   ]
  },
  {
   "cell_type": "code",
   "execution_count": 12,
   "id": "17714a80",
   "metadata": {
    "execution": {
     "iopub.execute_input": "2025-02-05T23:51:41.553275Z",
     "iopub.status.busy": "2025-02-05T23:51:41.552605Z",
     "iopub.status.idle": "2025-02-05T23:51:41.571349Z",
     "shell.execute_reply": "2025-02-05T23:51:41.568764Z"
    }
   },
   "outputs": [
    {
     "name": "stdout",
     "output_type": "stream",
     "text": [
      "binning:\n",
      "  binsperdec: 8\n",
      "  binsz: 0.1\n",
      "  roiwidth: 10.0\n",
      "data:\n",
      "  evfile: /Users/runner/work/threeML/threeML/docs/md_docs/slow_execute/Crab_data/L9f8de773c6ba4abf7fbabfdb909f7005_FT1.fits\n",
      "  scfile: /Users/runner/work/threeML/threeML/docs/md_docs/slow_execute/Crab_data/L250205185052F2968AF272_SC00.fits\n",
      "gtlike:\n",
      "  edisp: false\n",
      "logging:\n",
      "  chatter: 0\n",
      "  verbosity: 1\n",
      "selection:\n",
      "  dec: 22.01739478667197\n",
      "  emax: 300000.0\n",
      "  emin: 100.0\n",
      "  evclass: 128\n",
      "  evtype: 3\n",
      "  filter: DATA_QUAL>0 && LAT_CONFIG==1\n",
      "  ra: 83.6324076248989\n",
      "  tmax: 286675202.0\n",
      "  tmin: 283996802.0\n",
      "  zmax: 100.0\n",
      "\n"
     ]
    },
    {
     "data": {
      "text/html": [
       "<pre>binning:\n",
       "  binsperdec: 8\n",
       "  binsz: 0.1\n",
       "  roiwidth: 10.0\n",
       "data:\n",
       "  evfile: /Users/runner/work/threeML/threeML/docs/md_docs/slow_execute/Crab_data/L9f8de773c6ba4abf7fbabfdb909f7005_FT1.fits\n",
       "  scfile: /Users/runner/work/threeML/threeML/docs/md_docs/slow_execute/Crab_data/L250205185052F2968AF272_SC00.fits\n",
       "gtlike:\n",
       "  edisp: false\n",
       "logging:\n",
       "  chatter: 0\n",
       "  verbosity: 1\n",
       "selection:\n",
       "  dec: 22.01739478667197\n",
       "  emax: 300000.0\n",
       "  emin: 100.0\n",
       "  evclass: 128\n",
       "  evtype: 3\n",
       "  filter: DATA_QUAL>0 && LAT_CONFIG==1\n",
       "  ra: 83.6324076248989\n",
       "  tmax: 286675202.0\n",
       "  tmin: 283996802.0\n",
       "  zmax: 100.0\n",
       "</pre>"
      ],
      "text/plain": []
     },
     "metadata": {},
     "output_type": "display_data"
    }
   ],
   "source": [
    "config[\"gtlike\"] = {\"edisp\": False}\n",
    "\n",
    "config.display()"
   ]
  },
  {
   "cell_type": "markdown",
   "id": "227b9fe7",
   "metadata": {},
   "source": [
    "### FermipyLike\n",
    "Let's create an instance of the plugin/ Note that here no processing is made, because fermipy still doesn't know about the model you want to use.\n",
    "\n"
   ]
  },
  {
   "cell_type": "code",
   "execution_count": 13,
   "id": "c110c6dc",
   "metadata": {
    "execution": {
     "iopub.execute_input": "2025-02-05T23:51:41.580396Z",
     "iopub.status.busy": "2025-02-05T23:51:41.579163Z",
     "iopub.status.idle": "2025-02-05T23:51:42.243741Z",
     "shell.execute_reply": "2025-02-05T23:51:42.241876Z"
    }
   },
   "outputs": [],
   "source": [
    "LAT = FermipyLike(\"LAT\", config)"
   ]
  },
  {
   "cell_type": "markdown",
   "id": "5038f3ea",
   "metadata": {},
   "source": [
    "The plugin modifies the configuration as needed to get the output files in a unique place, which will stay the same as long as your selection does not change."
   ]
  },
  {
   "cell_type": "code",
   "execution_count": 14,
   "id": "0c1a4a22",
   "metadata": {
    "execution": {
     "iopub.execute_input": "2025-02-05T23:51:42.253782Z",
     "iopub.status.busy": "2025-02-05T23:51:42.253186Z",
     "iopub.status.idle": "2025-02-05T23:51:42.277244Z",
     "shell.execute_reply": "2025-02-05T23:51:42.274433Z"
    }
   },
   "outputs": [
    {
     "name": "stdout",
     "output_type": "stream",
     "text": [
      "binning:\n",
      "  binsperdec: 8\n",
      "  binsz: 0.1\n",
      "  roiwidth: 10.0\n",
      "data:\n",
      "  evfile: /Users/runner/work/threeML/threeML/docs/md_docs/slow_execute/Crab_data/L9f8de773c6ba4abf7fbabfdb909f7005_FT1.fits\n",
      "  scfile: /Users/runner/work/threeML/threeML/docs/md_docs/slow_execute/Crab_data/L250205185052F2968AF272_SC00.fits\n",
      "fileio:\n",
      "  outdir: __b2ed815e351db30eef182b248a8023eb\n",
      "gtlike:\n",
      "  edisp: false\n",
      "logging:\n",
      "  chatter: 0\n",
      "  verbosity: 1\n",
      "selection:\n",
      "  dec: 22.01739478667197\n",
      "  emax: 300000.0\n",
      "  emin: 100.0\n",
      "  evclass: 128\n",
      "  evtype: 3\n",
      "  filter: DATA_QUAL>0 && LAT_CONFIG==1\n",
      "  ra: 83.6324076248989\n",
      "  tmax: 286675202.0\n",
      "  tmin: 283996802.0\n",
      "  zmax: 100.0\n",
      "\n"
     ]
    },
    {
     "data": {
      "text/html": [
       "<pre>binning:\n",
       "  binsperdec: 8\n",
       "  binsz: 0.1\n",
       "  roiwidth: 10.0\n",
       "data:\n",
       "  evfile: /Users/runner/work/threeML/threeML/docs/md_docs/slow_execute/Crab_data/L9f8de773c6ba4abf7fbabfdb909f7005_FT1.fits\n",
       "  scfile: /Users/runner/work/threeML/threeML/docs/md_docs/slow_execute/Crab_data/L250205185052F2968AF272_SC00.fits\n",
       "fileio:\n",
       "  outdir: __b2ed815e351db30eef182b248a8023eb\n",
       "gtlike:\n",
       "  edisp: false\n",
       "logging:\n",
       "  chatter: 0\n",
       "  verbosity: 1\n",
       "selection:\n",
       "  dec: 22.01739478667197\n",
       "  emax: 300000.0\n",
       "  emin: 100.0\n",
       "  evclass: 128\n",
       "  evtype: 3\n",
       "  filter: DATA_QUAL>0 && LAT_CONFIG==1\n",
       "  ra: 83.6324076248989\n",
       "  tmax: 286675202.0\n",
       "  tmin: 283996802.0\n",
       "  zmax: 100.0\n",
       "</pre>"
      ],
      "text/plain": []
     },
     "metadata": {},
     "output_type": "display_data"
    }
   ],
   "source": [
    "config.display()"
   ]
  },
  {
   "cell_type": "markdown",
   "id": "2a4e56a2",
   "metadata": {},
   "source": [
    "Here is where the fermipy processing happens (the .setup method)"
   ]
  },
  {
   "cell_type": "code",
   "execution_count": 15,
   "id": "c1f58dfe",
   "metadata": {
    "execution": {
     "iopub.execute_input": "2025-02-05T23:51:42.285156Z",
     "iopub.status.busy": "2025-02-05T23:51:42.284646Z",
     "iopub.status.idle": "2025-02-06T00:05:15.246445Z",
     "shell.execute_reply": "2025-02-06T00:05:15.244880Z"
    }
   },
   "outputs": [
    {
     "name": "stdout",
     "output_type": "stream",
     "text": [
      "Fermipy Output directoty: __b2ed815e351db30eef182b248a8023eb\n"
     ]
    },
    {
     "data": {
      "text/html": [
       "<pre style=\"white-space:pre;overflow-x:auto;line-height:normal;font-family:Menlo,'DejaVu Sans Mono',consolas,'Courier New',monospace\"><span style=\"color: #00ff00; text-decoration-color: #00ff00\">23:51:42 </span><span style=\"color: #00ffaf; text-decoration-color: #00ffaf\">INFO    </span> <span style=\"color: #c6c6c6; text-decoration-color: #c6c6c6; font-weight: bold\"> Using IRFs P8R3_SOURCE_V3                                                     </span><a href=\"file:///Users/runner/work/threeML/threeML/threeML/plugins/FermipyLike.py\" target=\"_blank\"><span style=\"color: #7f7f7f; text-decoration-color: #7f7f7f\">FermipyLike.py</span></a><span style=\"color: #7f7f7f; text-decoration-color: #7f7f7f\">:</span><a href=\"file:///Users/runner/work/threeML/threeML/threeML/plugins/FermipyLike.py#126\" target=\"_blank\"><span style=\"color: #7f7f7f; text-decoration-color: #7f7f7f\">126</span></a>\n",
       "</pre>\n"
      ],
      "text/plain": [
       "\u001b[38;5;46m23:51:42\u001b[0m\u001b[38;5;46m \u001b[0m\u001b[38;5;49mINFO    \u001b[0m \u001b[1;38;5;251m Using IRFs P8R3_SOURCE_V3                                                    \u001b[0m\u001b[1;38;5;251m \u001b[0m\u001b]8;id=581799;file:///Users/runner/work/threeML/threeML/threeML/plugins/FermipyLike.py\u001b\\\u001b[2mFermipyLike.py\u001b[0m\u001b]8;;\u001b\\\u001b[2m:\u001b[0m\u001b]8;id=847543;file:///Users/runner/work/threeML/threeML/threeML/plugins/FermipyLike.py#126\u001b\\\u001b[2m126\u001b[0m\u001b]8;;\u001b\\\n"
      ]
     },
     "metadata": {},
     "output_type": "display_data"
    },
    {
     "name": "stdout",
     "output_type": "stream",
     "text": [
      "\n",
      "Found Galactic template for IRF. P8R3_SOURCE_V3: /Users/runner/miniconda3/envs/test_env/share/fermitools/refdata/fermi/galdiffuse/gll_iem_v07.fits\n",
      "\n",
      "Cutting the template around the ROI: \n",
      "\n"
     ]
    },
    {
     "name": "stdout",
     "output_type": "stream",
     "text": [
      "\n",
      "Found Isotropic template for irf P8R3_SOURCE_V3: /Users/runner/miniconda3/envs/test_env/share/fermitools/refdata/fermi/galdiffuse/iso_P8R3_SOURCE_V3_v1.txt\n"
     ]
    },
    {
     "name": "stderr",
     "output_type": "stream",
     "text": [
      "WARNING: Point source PKS_0459p060 lies 17.6445 degrees from the ROI center at RA, Dec = 83.6324, 22.0174 7.57107\n",
      "WARNING: Point source x4FGL_J0610d7p3752 lies 17.6638 degrees from the ROI center at RA, Dec = 83.6324, 22.0174 7.57107\n",
      "WARNING: Point source x4FGL_J0624d0p0855 lies 17.6933 degrees from the ROI center at RA, Dec = 83.6324, 22.0174 7.57107\n",
      "WARNING: Point source x4C_p06d21 lies 17.7222 degrees from the ROI center at RA, Dec = 83.6324, 22.0174 7.57107\n",
      "WARNING: Point source x1ES_0647p250 lies 17.726 degrees from the ROI center at RA, Dec = 83.6324, 22.0174 7.57107\n",
      "WARNING: Point source NVSS_J065035p205556 lies 17.7273 degrees from the ROI center at RA, Dec = 83.6324, 22.0174 7.57107\n",
      "WARNING: Point source x4FGL_J0551d7p0446 lies 17.7387 degrees from the ROI center at RA, Dec = 83.6324, 22.0174 7.57107\n",
      "WARNING: Point source GB6_J0454p3724 lies 17.747 degrees from the ROI center at RA, Dec = 83.6324, 22.0174 7.57107\n",
      "WARNING: Point source PSR_J0631p1036 lies 17.7845 degrees from the ROI center at RA, Dec = 83.6324, 22.0174 7.57107\n",
      "WARNING: Point source GB6_J0648p1749 lies 17.8418 degrees from the ROI center at RA, Dec = 83.6324, 22.0174 7.57107\n",
      "WARNING: Point source x4FGL_J0600d8p0509c lies 18.0107 degrees from the ROI center at RA, Dec = 83.6324, 22.0174 7.57107\n",
      "WARNING: Point source x4FGL_J0537d6p0400 lies 18.0307 degrees from the ROI center at RA, Dec = 83.6324, 22.0174 7.57107\n",
      "WARNING: Point source x4FGL_J0442d8p3609 lies 18.0625 degrees from the ROI center at RA, Dec = 83.6324, 22.0174 7.57107\n",
      "WARNING: Point source x4FGL_J0424d8p3117 lies 18.0853 degrees from the ROI center at RA, Dec = 83.6324, 22.0174 7.57107\n",
      "WARNING: Point source x4FGL_J0450d7p0715 lies 18.1442 degrees from the ROI center at RA, Dec = 83.6324, 22.0174 7.57107\n",
      "WARNING: Point source x4FGL_J0640d4p3307 lies 18.3144 degrees from the ROI center at RA, Dec = 83.6324, 22.0174 7.57107\n",
      "WARNING: Point source B2_0552p39A lies 18.3271 degrees from the ROI center at RA, Dec = 83.6324, 22.0174 7.57107\n",
      "WARNING: Point source x1RXS_J064814d1p160708 lies 18.3626 degrees from the ROI center at RA, Dec = 83.6324, 22.0174 7.57107\n",
      "WARNING: Point source x4FGL_J0634d7p1036 lies 18.3815 degrees from the ROI center at RA, Dec = 83.6324, 22.0174 7.57107\n",
      "WARNING: Point source MG2_J065230p1934 lies 18.3959 degrees from the ROI center at RA, Dec = 83.6324, 22.0174 7.57107\n",
      "WARNING: Point source PKS_0502p049 lies 18.4231 degrees from the ROI center at RA, Dec = 83.6324, 22.0174 7.57107\n",
      "WARNING: Point source RX_J0648d7p1516 lies 18.8098 degrees from the ROI center at RA, Dec = 83.6324, 22.0174 7.57107\n",
      "WARNING: Point source GB6_J0620p3806 lies 18.8371 degrees from the ROI center at RA, Dec = 83.6324, 22.0174 7.57107\n",
      "WARNING: Point source PSR_J0622p3749 lies 18.8534 degrees from the ROI center at RA, Dec = 83.6324, 22.0174 7.57107\n",
      "WARNING: Point source x4FGL_J0641d4p3349 lies 18.8651 degrees from the ROI center at RA, Dec = 83.6324, 22.0174 7.57107\n",
      "WARNING: Point source B2_0654p24 lies 18.868 degrees from the ROI center at RA, Dec = 83.6324, 22.0174 7.57107\n",
      "WARNING: Point source x1RXS_J065331d8p181448 lies 18.8966 degrees from the ROI center at RA, Dec = 83.6324, 22.0174 7.57107\n",
      "WARNING: Point source x4FGL_J0412d6p2253c lies 18.9306 degrees from the ROI center at RA, Dec = 83.6324, 22.0174 7.57107\n",
      "WARNING: Point source GB6_J0653p2816 lies 18.9492 degrees from the ROI center at RA, Dec = 83.6324, 22.0174 7.57107\n",
      "WARNING: Point source PMN_J0444p0717 lies 19.0008 degrees from the ROI center at RA, Dec = 83.6324, 22.0174 7.57107\n",
      "WARNING: Point source MG1_J050533p0415 lies 19.0838 degrees from the ROI center at RA, Dec = 83.6324, 22.0174 7.57107\n",
      "WARNING: Point source x4FGL_J0559d3p0352 lies 19.1179 degrees from the ROI center at RA, Dec = 83.6324, 22.0174 7.57107\n",
      "WARNING: Point source TXS_0431p092 lies 19.1204 degrees from the ROI center at RA, Dec = 83.6324, 22.0174 7.57107\n",
      "WARNING: Point source B3_0509p406 lies 19.2302 degrees from the ROI center at RA, Dec = 83.6324, 22.0174 7.57107\n",
      "WARNING: Point source B2_0635p35 lies 19.2972 degrees from the ROI center at RA, Dec = 83.6324, 22.0174 7.57107\n",
      "WARNING: Point source PKS_0550p032 lies 19.3054 degrees from the ROI center at RA, Dec = 83.6324, 22.0174 7.57107\n",
      "WARNING: Point source x4FGL_J0431d0p3529c lies 19.3172 degrees from the ROI center at RA, Dec = 83.6324, 22.0174 7.57107\n",
      "WARNING: Point source x2MASX_J06533986p1636432 lies 19.4133 degrees from the ROI center at RA, Dec = 83.6324, 22.0174 7.57107\n",
      "WARNING: Point source x4FGL_J0658d7p2318 lies 19.4491 degrees from the ROI center at RA, Dec = 83.6324, 22.0174 7.57107\n",
      "WARNING: Point source x4FGL_J0552d0p0256c lies 19.5445 degrees from the ROI center at RA, Dec = 83.6324, 22.0174 7.57107\n",
      "WARNING: Point source GB6_J0555p0304 lies 19.594 degrees from the ROI center at RA, Dec = 83.6324, 22.0174 7.57107\n",
      "WARNING: Point source B2_0655p27A lies 19.6945 degrees from the ROI center at RA, Dec = 83.6324, 22.0174 7.57107\n",
      "WARNING: Point source x4FGL_J0642d4p1048 lies 19.7348 degrees from the ROI center at RA, Dec = 83.6324, 22.0174 7.57107\n",
      "WARNING: Point source NVSS_J050650p032401 lies 19.7933 degrees from the ROI center at RA, Dec = 83.6324, 22.0174 7.57107\n",
      "WARNING: Point source x4FGL_J0409d2p2542 lies 19.8177 degrees from the ROI center at RA, Dec = 83.6324, 22.0174 7.57107\n"
     ]
    },
    {
     "data": {
      "text/html": [
       "<pre style=\"white-space:pre;overflow-x:auto;line-height:normal;font-family:Menlo,'DejaVu Sans Mono',consolas,'Courier New',monospace\"><span style=\"color: #00ff00; text-decoration-color: #00ff00\">00:05:15 </span><span style=\"color: #00ffaf; text-decoration-color: #00ffaf\">INFO    </span> <span style=\"color: #c6c6c6; text-decoration-color: #c6c6c6; font-weight: bold\"> set the minimizer to minuit                                             </span><a href=\"file:///Users/runner/work/threeML/threeML/threeML/classicMLE/joint_likelihood.py\" target=\"_blank\"><span style=\"color: #7f7f7f; text-decoration-color: #7f7f7f\">joint_likelihood.py</span></a><span style=\"color: #7f7f7f; text-decoration-color: #7f7f7f\">:</span><a href=\"file:///Users/runner/work/threeML/threeML/threeML/classicMLE/joint_likelihood.py#1046\" target=\"_blank\"><span style=\"color: #7f7f7f; text-decoration-color: #7f7f7f\">1046</span></a>\n",
       "</pre>\n"
      ],
      "text/plain": [
       "\u001b[38;5;46m00:05:15\u001b[0m\u001b[38;5;46m \u001b[0m\u001b[38;5;49mINFO    \u001b[0m \u001b[1;38;5;251m set the minimizer to minuit                                            \u001b[0m\u001b[1;38;5;251m \u001b[0m\u001b]8;id=241911;file:///Users/runner/work/threeML/threeML/threeML/classicMLE/joint_likelihood.py\u001b\\\u001b[2mjoint_likelihood.py\u001b[0m\u001b]8;;\u001b\\\u001b[2m:\u001b[0m\u001b]8;id=117995;file:///Users/runner/work/threeML/threeML/threeML/classicMLE/joint_likelihood.py#1046\u001b\\\u001b[2m1046\u001b[0m\u001b]8;;\u001b\\\n"
      ]
     },
     "metadata": {},
     "output_type": "display_data"
    }
   ],
   "source": [
    "fermipy_output_directory = Path(config[\"fileio\"][\"outdir\"])\n",
    "print(\"Fermipy Output directoty: %s\" % fermipy_output_directory)\n",
    "\n",
    "# This remove the output directory, to start a fresh analysis...\n",
    "\n",
    "if fermipy_output_directory.exists():\n",
    "    shutil.rmtree(fermipy_output_directory)\n",
    "\n",
    "# Here is where the fermipy processing happens (the .setup method)\n",
    "\n",
    "data = DataList(LAT)\n",
    "\n",
    "jl = JointLikelihood(model, data)"
   ]
  },
  {
   "cell_type": "markdown",
   "id": "64d6af3f",
   "metadata": {},
   "source": [
    "The normalization factors of the LAT background components are included in the models as nuisance parameters. They are only added during the previous step (during the model assignment). Let's display them:"
   ]
  },
  {
   "cell_type": "code",
   "execution_count": 16,
   "id": "7832d3ba",
   "metadata": {
    "execution": {
     "iopub.execute_input": "2025-02-06T00:05:15.255633Z",
     "iopub.status.busy": "2025-02-06T00:05:15.255231Z",
     "iopub.status.idle": "2025-02-06T00:05:15.261720Z",
     "shell.execute_reply": "2025-02-06T00:05:15.260266Z"
    }
   },
   "outputs": [
    {
     "name": "stdout",
     "output_type": "stream",
     "text": [
      "LAT_isodiff_Normalization : Parameter LAT_isodiff_Normalization = 1.0 []\n",
      "(min_value = 0.001, max_value = 1000.0, delta = 0.01, free = True)\n",
      "LAT_galdiff_Prefactor : Parameter LAT_galdiff_Prefactor = 1.0 []\n",
      "(min_value = 0.1, max_value = 10.0, delta = 0.01, free = True)\n"
     ]
    }
   ],
   "source": [
    "for k, v in LAT.nuisance_parameters.items():\n",
    "    print(k, \":\", v)"
   ]
  },
  {
   "cell_type": "markdown",
   "id": "0dd8b089",
   "metadata": {},
   "source": [
    "We will fix the isotropic BG as we are not sensitive to it with this dataset. We will also fix one more weak source."
   ]
  },
  {
   "cell_type": "code",
   "execution_count": 17,
   "id": "fa473d98",
   "metadata": {
    "execution": {
     "iopub.execute_input": "2025-02-06T00:05:15.267326Z",
     "iopub.status.busy": "2025-02-06T00:05:15.267004Z",
     "iopub.status.idle": "2025-02-06T00:05:15.463991Z",
     "shell.execute_reply": "2025-02-06T00:05:15.462395Z"
    }
   },
   "outputs": [
    {
     "data": {
      "text/html": [
       "Model summary:<br><br><div>\n",
       "<style scoped>\n",
       "    .dataframe tbody tr th:only-of-type {\n",
       "        vertical-align: middle;\n",
       "    }\n",
       "\n",
       "    .dataframe tbody tr th {\n",
       "        vertical-align: top;\n",
       "    }\n",
       "\n",
       "    .dataframe thead th {\n",
       "        text-align: right;\n",
       "    }\n",
       "</style>\n",
       "<table border=\"1\" class=\"dataframe\">\n",
       "  <thead>\n",
       "    <tr style=\"text-align: right;\">\n",
       "      <th></th>\n",
       "      <th>N</th>\n",
       "    </tr>\n",
       "  </thead>\n",
       "  <tbody>\n",
       "    <tr>\n",
       "      <th>Point sources</th>\n",
       "      <td>196</td>\n",
       "    </tr>\n",
       "    <tr>\n",
       "      <th>Extended sources</th>\n",
       "      <td>0</td>\n",
       "    </tr>\n",
       "    <tr>\n",
       "      <th>Particle sources</th>\n",
       "      <td>0</td>\n",
       "    </tr>\n",
       "  </tbody>\n",
       "</table>\n",
       "</div><br><br>Free parameters (4):<br><br><div>\n",
       "<style scoped>\n",
       "    .dataframe tbody tr th:only-of-type {\n",
       "        vertical-align: middle;\n",
       "    }\n",
       "\n",
       "    .dataframe tbody tr th {\n",
       "        vertical-align: top;\n",
       "    }\n",
       "\n",
       "    .dataframe thead th {\n",
       "        text-align: right;\n",
       "    }\n",
       "</style>\n",
       "<table border=\"1\" class=\"dataframe\">\n",
       "  <thead>\n",
       "    <tr style=\"text-align: right;\">\n",
       "      <th></th>\n",
       "      <th>value</th>\n",
       "      <th>min_value</th>\n",
       "      <th>max_value</th>\n",
       "      <th>unit</th>\n",
       "    </tr>\n",
       "  </thead>\n",
       "  <tbody>\n",
       "    <tr>\n",
       "      <th>PSR_J0534p2200.spectrum.main.Super_cutoff_powerlaw.K</th>\n",
       "      <td>0.0</td>\n",
       "      <td>0.0</td>\n",
       "      <td>0.0</td>\n",
       "      <td>keV-1 s-1 cm-2</td>\n",
       "    </tr>\n",
       "    <tr>\n",
       "      <th>PSR_J0534p2200.spectrum.main.Super_cutoff_powerlaw.index</th>\n",
       "      <td>-1.826553</td>\n",
       "      <td>-10.0</td>\n",
       "      <td>10.0</td>\n",
       "      <td></td>\n",
       "    </tr>\n",
       "    <tr>\n",
       "      <th>NVSS_J052622p224801.spectrum.main.Powerlaw.K</th>\n",
       "      <td>0.0</td>\n",
       "      <td>0.0</td>\n",
       "      <td>0.0</td>\n",
       "      <td>keV-1 s-1 cm-2</td>\n",
       "    </tr>\n",
       "    <tr>\n",
       "      <th>LAT_galdiff_Prefactor</th>\n",
       "      <td>1.0</td>\n",
       "      <td>0.1</td>\n",
       "      <td>10.0</td>\n",
       "      <td></td>\n",
       "    </tr>\n",
       "  </tbody>\n",
       "</table>\n",
       "</div><br><br>Fixed parameters (1092):<br>(abridged. Use complete=True to see all fixed parameters)<br><br><br>Properties (0):<br><br>(none)<br><br><br>Linked parameters (0):<br><br>(none)<br><br>Independent variables:<br><br>(none)<br><br>Linked functions (0):<br><br>(none)<br>"
      ],
      "text/plain": [
       "Model summary:\n",
       "==============\n",
       "\n",
       "                    N\n",
       "Point sources     196\n",
       "Extended sources    0\n",
       "Particle sources    0\n",
       "\n",
       "Free parameters (4):\n",
       "--------------------\n",
       "\n",
       "                            value min_value max_value            unit\n",
       "PSR_J0534p2200...K            0.0       0.0       0.0  keV-1 s-1 cm-2\n",
       "PSR_J0534p2200...index  -1.826553     -10.0      10.0                \n",
       "NVSS_J052622p224801...K       0.0       0.0       0.0  keV-1 s-1 cm-2\n",
       "LAT_galdiff_Prefactor         1.0       0.1      10.0                \n",
       "\n",
       "Fixed parameters (1092):\n",
       "(abridged. Use complete=True to see all fixed parameters)\n",
       "\n",
       "\n",
       "Properties (0):\n",
       "--------------------\n",
       "\n",
       "(none)\n",
       "\n",
       "\n",
       "Linked parameters (0):\n",
       "----------------------\n",
       "\n",
       "(none)\n",
       "\n",
       "Independent variables:\n",
       "----------------------\n",
       "\n",
       "(none)\n",
       "\n",
       "Linked functions (0):\n",
       "----------------------\n",
       "\n",
       "(none)"
      ]
     },
     "metadata": {},
     "output_type": "display_data"
    }
   ],
   "source": [
    "model.LAT_isodiff_Normalization.fix = True\n",
    "model.x4FGL_J0544d4p2238.spectrum.main.Powerlaw.K.fix = True\n",
    "model.display()"
   ]
  },
  {
   "cell_type": "markdown",
   "id": "c9aada03",
   "metadata": {},
   "source": [
    "### Performing the fit"
   ]
  },
  {
   "cell_type": "code",
   "execution_count": 18,
   "id": "8a711324",
   "metadata": {
    "execution": {
     "iopub.execute_input": "2025-02-06T00:05:15.470275Z",
     "iopub.status.busy": "2025-02-06T00:05:15.469903Z",
     "iopub.status.idle": "2025-02-06T00:05:28.104286Z",
     "shell.execute_reply": "2025-02-06T00:05:28.101297Z"
    }
   },
   "outputs": [
    {
     "data": {
      "text/html": [
       "<pre style=\"white-space:pre;overflow-x:auto;line-height:normal;font-family:Menlo,'DejaVu Sans Mono',consolas,'Courier New',monospace\"><span style=\"color: #00ff00; text-decoration-color: #00ff00\">         </span><span style=\"color: #00ffaf; text-decoration-color: #00ffaf\">INFO    </span> <span style=\"color: #c6c6c6; text-decoration-color: #c6c6c6; font-weight: bold\"> set the minimizer to MINUIT                                             </span><a href=\"file:///Users/runner/work/threeML/threeML/threeML/classicMLE/joint_likelihood.py\" target=\"_blank\"><span style=\"color: #7f7f7f; text-decoration-color: #7f7f7f\">joint_likelihood.py</span></a><span style=\"color: #7f7f7f; text-decoration-color: #7f7f7f\">:</span><a href=\"file:///Users/runner/work/threeML/threeML/threeML/classicMLE/joint_likelihood.py#1063\" target=\"_blank\"><span style=\"color: #7f7f7f; text-decoration-color: #7f7f7f\">1063</span></a>\n",
       "</pre>\n"
      ],
      "text/plain": [
       "\u001b[38;5;46m        \u001b[0m\u001b[38;5;46m \u001b[0m\u001b[38;5;49mINFO    \u001b[0m \u001b[1;38;5;251m set the minimizer to MINUIT                                            \u001b[0m\u001b[1;38;5;251m \u001b[0m\u001b]8;id=162942;file:///Users/runner/work/threeML/threeML/threeML/classicMLE/joint_likelihood.py\u001b\\\u001b[2mjoint_likelihood.py\u001b[0m\u001b]8;;\u001b\\\u001b[2m:\u001b[0m\u001b]8;id=80714;file:///Users/runner/work/threeML/threeML/threeML/classicMLE/joint_likelihood.py#1063\u001b\\\u001b[2m1063\u001b[0m\u001b]8;;\u001b\\\n"
      ]
     },
     "metadata": {},
     "output_type": "display_data"
    },
    {
     "data": {
      "text/html": [
       "<pre style=\"white-space:pre;overflow-x:auto;line-height:normal;font-family:Menlo,'DejaVu Sans Mono',consolas,'Courier New',monospace\"><span style=\"color: #00ffaf; text-decoration-color: #00ffaf; font-weight: bold; text-decoration: underline\">Best fit values:</span>\n",
       "\n",
       "</pre>\n"
      ],
      "text/plain": [
       "\u001b[1;4;38;5;49mBest fit values:\u001b[0m\n",
       "\n"
      ]
     },
     "metadata": {},
     "output_type": "display_data"
    },
    {
     "data": {
      "text/html": [
       "<div>\n",
       "<style scoped>\n",
       "    .dataframe tbody tr th:only-of-type {\n",
       "        vertical-align: middle;\n",
       "    }\n",
       "\n",
       "    .dataframe tbody tr th {\n",
       "        vertical-align: top;\n",
       "    }\n",
       "\n",
       "    .dataframe thead th {\n",
       "        text-align: right;\n",
       "    }\n",
       "</style>\n",
       "<table border=\"1\" class=\"dataframe\">\n",
       "  <thead>\n",
       "    <tr style=\"text-align: right;\">\n",
       "      <th></th>\n",
       "      <th>result</th>\n",
       "      <th>unit</th>\n",
       "    </tr>\n",
       "    <tr>\n",
       "      <th>parameter</th>\n",
       "      <th></th>\n",
       "      <th></th>\n",
       "    </tr>\n",
       "  </thead>\n",
       "  <tbody>\n",
       "    <tr>\n",
       "      <th>PSR_J0534p2200...K</th>\n",
       "      <td>(2.46 -0.08 +0.09) x 10^-13</td>\n",
       "      <td>1 / (cm2 keV s)</td>\n",
       "    </tr>\n",
       "    <tr>\n",
       "      <th>PSR_J0534p2200...index</th>\n",
       "      <td>-1.790 +/- 0.025</td>\n",
       "      <td></td>\n",
       "    </tr>\n",
       "    <tr>\n",
       "      <th>NVSS_J052622p224801.spectrum.main.Powerlaw.K</th>\n",
       "      <td>(0.9 -0.5 +1.0) x 10^-16</td>\n",
       "      <td>1 / (cm2 keV s)</td>\n",
       "    </tr>\n",
       "    <tr>\n",
       "      <th>LAT_galdiff_Prefactor</th>\n",
       "      <td>(9.36 +/- 0.08) x 10^-1</td>\n",
       "      <td></td>\n",
       "    </tr>\n",
       "  </tbody>\n",
       "</table>\n",
       "</div>"
      ],
      "text/plain": [
       "                                                                   result  \\\n",
       "parameter                                                                   \n",
       "PSR_J0534p2200...K                            (2.46 -0.08 +0.09) x 10^-13   \n",
       "PSR_J0534p2200...index                                   -1.790 +/- 0.025   \n",
       "NVSS_J052622p224801.spectrum.main.Powerlaw.K     (0.9 -0.5 +1.0) x 10^-16   \n",
       "LAT_galdiff_Prefactor                             (9.36 +/- 0.08) x 10^-1   \n",
       "\n",
       "                                                         unit  \n",
       "parameter                                                      \n",
       "PSR_J0534p2200...K                            1 / (cm2 keV s)  \n",
       "PSR_J0534p2200...index                                         \n",
       "NVSS_J052622p224801.spectrum.main.Powerlaw.K  1 / (cm2 keV s)  \n",
       "LAT_galdiff_Prefactor                                          "
      ]
     },
     "metadata": {},
     "output_type": "display_data"
    },
    {
     "data": {
      "text/html": [
       "<pre style=\"white-space:pre;overflow-x:auto;line-height:normal;font-family:Menlo,'DejaVu Sans Mono',consolas,'Courier New',monospace\">\n",
       "<span style=\"color: #00ffaf; text-decoration-color: #00ffaf; font-weight: bold; text-decoration: underline\">Correlation matrix:</span>\n",
       "\n",
       "</pre>\n"
      ],
      "text/plain": [
       "\n",
       "\u001b[1;4;38;5;49mCorrelation matrix:\u001b[0m\n",
       "\n"
      ]
     },
     "metadata": {},
     "output_type": "display_data"
    },
    {
     "data": {
      "text/html": [
       "<div><table id=\"table5185191648\">\n",
       "<tr><td>1.00</td><td>0.73</td><td>-0.05</td><td>-0.11</td></tr>\n",
       "<tr><td>0.73</td><td>1.00</td><td>0.09</td><td>0.16</td></tr>\n",
       "<tr><td>-0.05</td><td>0.09</td><td>1.00</td><td>-0.14</td></tr>\n",
       "<tr><td>-0.11</td><td>0.16</td><td>-0.14</td><td>1.00</td></tr>\n",
       "</table></div>"
      ],
      "text/plain": [
       " 1.00 0.73 -0.05 -0.11\n",
       " 0.73 1.00  0.09  0.16\n",
       "-0.05 0.09  1.00 -0.14\n",
       "-0.11 0.16 -0.14  1.00"
      ]
     },
     "metadata": {},
     "output_type": "display_data"
    },
    {
     "data": {
      "text/html": [
       "<pre style=\"white-space:pre;overflow-x:auto;line-height:normal;font-family:Menlo,'DejaVu Sans Mono',consolas,'Courier New',monospace\">\n",
       "<span style=\"color: #00ffaf; text-decoration-color: #00ffaf; font-weight: bold; text-decoration: underline\">Values of -log(likelihood) at the minimum:</span>\n",
       "\n",
       "</pre>\n"
      ],
      "text/plain": [
       "\n",
       "\u001b[1;4;38;5;49mValues of -\u001b[0m\u001b[1;4;38;5;49mlog\u001b[0m\u001b[1;4;38;5;49m(\u001b[0m\u001b[1;4;38;5;49mlikelihood\u001b[0m\u001b[1;4;38;5;49m)\u001b[0m\u001b[1;4;38;5;49m at the minimum:\u001b[0m\n",
       "\n"
      ]
     },
     "metadata": {},
     "output_type": "display_data"
    },
    {
     "data": {
      "text/html": [
       "<div>\n",
       "<style scoped>\n",
       "    .dataframe tbody tr th:only-of-type {\n",
       "        vertical-align: middle;\n",
       "    }\n",
       "\n",
       "    .dataframe tbody tr th {\n",
       "        vertical-align: top;\n",
       "    }\n",
       "\n",
       "    .dataframe thead th {\n",
       "        text-align: right;\n",
       "    }\n",
       "</style>\n",
       "<table border=\"1\" class=\"dataframe\">\n",
       "  <thead>\n",
       "    <tr style=\"text-align: right;\">\n",
       "      <th></th>\n",
       "      <th>-log(likelihood)</th>\n",
       "    </tr>\n",
       "  </thead>\n",
       "  <tbody>\n",
       "    <tr>\n",
       "      <th>LAT</th>\n",
       "      <td>118143.560677</td>\n",
       "    </tr>\n",
       "    <tr>\n",
       "      <th>total</th>\n",
       "      <td>118143.560677</td>\n",
       "    </tr>\n",
       "  </tbody>\n",
       "</table>\n",
       "</div>"
      ],
      "text/plain": [
       "       -log(likelihood)\n",
       "LAT       118143.560677\n",
       "total     118143.560677"
      ]
     },
     "metadata": {},
     "output_type": "display_data"
    },
    {
     "data": {
      "text/html": [
       "<pre style=\"white-space:pre;overflow-x:auto;line-height:normal;font-family:Menlo,'DejaVu Sans Mono',consolas,'Courier New',monospace\">\n",
       "<span style=\"color: #00ffaf; text-decoration-color: #00ffaf; font-weight: bold; text-decoration: underline\">Values of statistical measures:</span>\n",
       "\n",
       "</pre>\n"
      ],
      "text/plain": [
       "\n",
       "\u001b[1;4;38;5;49mValues of statistical measures:\u001b[0m\n",
       "\n"
      ]
     },
     "metadata": {},
     "output_type": "display_data"
    },
    {
     "data": {
      "text/html": [
       "<div>\n",
       "<style scoped>\n",
       "    .dataframe tbody tr th:only-of-type {\n",
       "        vertical-align: middle;\n",
       "    }\n",
       "\n",
       "    .dataframe tbody tr th {\n",
       "        vertical-align: top;\n",
       "    }\n",
       "\n",
       "    .dataframe thead th {\n",
       "        text-align: right;\n",
       "    }\n",
       "</style>\n",
       "<table border=\"1\" class=\"dataframe\">\n",
       "  <thead>\n",
       "    <tr style=\"text-align: right;\">\n",
       "      <th></th>\n",
       "      <th>statistical measures</th>\n",
       "    </tr>\n",
       "  </thead>\n",
       "  <tbody>\n",
       "    <tr>\n",
       "      <th>AIC</th>\n",
       "      <td>236295.121497</td>\n",
       "    </tr>\n",
       "    <tr>\n",
       "      <th>BIC</th>\n",
       "      <td>236337.291533</td>\n",
       "    </tr>\n",
       "  </tbody>\n",
       "</table>\n",
       "</div>"
      ],
      "text/plain": [
       "     statistical measures\n",
       "AIC         236295.121497\n",
       "BIC         236337.291533"
      ]
     },
     "metadata": {},
     "output_type": "display_data"
    }
   ],
   "source": [
    "jl.set_minimizer(\"minuit\")\n",
    "\n",
    "res = jl.fit()"
   ]
  },
  {
   "cell_type": "markdown",
   "id": "4e6580aa",
   "metadata": {},
   "source": [
    "Now let's compute the errors on the best fit parameters\n",
    "\n"
   ]
  },
  {
   "cell_type": "code",
   "execution_count": 19,
   "id": "8a20a531",
   "metadata": {
    "execution": {
     "iopub.execute_input": "2025-02-06T00:05:28.152261Z",
     "iopub.status.busy": "2025-02-06T00:05:28.151632Z",
     "iopub.status.idle": "2025-02-06T00:06:00.535158Z",
     "shell.execute_reply": "2025-02-06T00:06:00.533600Z"
    }
   },
   "outputs": [
    {
     "data": {
      "text/html": [
       "<div>\n",
       "<style scoped>\n",
       "    .dataframe tbody tr th:only-of-type {\n",
       "        vertical-align: middle;\n",
       "    }\n",
       "\n",
       "    .dataframe tbody tr th {\n",
       "        vertical-align: top;\n",
       "    }\n",
       "\n",
       "    .dataframe thead th {\n",
       "        text-align: right;\n",
       "    }\n",
       "</style>\n",
       "<table border=\"1\" class=\"dataframe\">\n",
       "  <thead>\n",
       "    <tr style=\"text-align: right;\">\n",
       "      <th></th>\n",
       "      <th>result</th>\n",
       "      <th>unit</th>\n",
       "    </tr>\n",
       "    <tr>\n",
       "      <th>parameter</th>\n",
       "      <th></th>\n",
       "      <th></th>\n",
       "    </tr>\n",
       "  </thead>\n",
       "  <tbody>\n",
       "    <tr>\n",
       "      <th>PSR_J0534p2200...K</th>\n",
       "      <td>(2.46 +/- 0.09) x 10^-13</td>\n",
       "      <td>1 / (cm2 keV s)</td>\n",
       "    </tr>\n",
       "    <tr>\n",
       "      <th>PSR_J0534p2200...index</th>\n",
       "      <td>-1.790 -0.025 +0.024</td>\n",
       "      <td></td>\n",
       "    </tr>\n",
       "    <tr>\n",
       "      <th>NVSS_J052622p224801.spectrum.main.Powerlaw.K</th>\n",
       "      <td>(9 -6 +7) x 10^-17</td>\n",
       "      <td>1 / (cm2 keV s)</td>\n",
       "    </tr>\n",
       "    <tr>\n",
       "      <th>LAT_galdiff_Prefactor</th>\n",
       "      <td>(9.36 -0.17 +0.18) x 10^-1</td>\n",
       "      <td></td>\n",
       "    </tr>\n",
       "  </tbody>\n",
       "</table>\n",
       "</div>"
      ],
      "text/plain": [
       "                                                                  result  \\\n",
       "parameter                                                                  \n",
       "PSR_J0534p2200...K                              (2.46 +/- 0.09) x 10^-13   \n",
       "PSR_J0534p2200...index                              -1.790 -0.025 +0.024   \n",
       "NVSS_J052622p224801.spectrum.main.Powerlaw.K          (9 -6 +7) x 10^-17   \n",
       "LAT_galdiff_Prefactor                         (9.36 -0.17 +0.18) x 10^-1   \n",
       "\n",
       "                                                         unit  \n",
       "parameter                                                      \n",
       "PSR_J0534p2200...K                            1 / (cm2 keV s)  \n",
       "PSR_J0534p2200...index                                         \n",
       "NVSS_J052622p224801.spectrum.main.Powerlaw.K  1 / (cm2 keV s)  \n",
       "LAT_galdiff_Prefactor                                          "
      ]
     },
     "metadata": {},
     "output_type": "display_data"
    }
   ],
   "source": [
    "res = jl.get_errors()"
   ]
  },
  {
   "cell_type": "markdown",
   "id": "214ad684",
   "metadata": {},
   "source": [
    "We might also want to look at the profile of the likelihood for each parameter."
   ]
  },
  {
   "cell_type": "code",
   "execution_count": 20,
   "id": "0458f365",
   "metadata": {
    "execution": {
     "iopub.execute_input": "2025-02-06T00:06:00.543333Z",
     "iopub.status.busy": "2025-02-06T00:06:00.542886Z",
     "iopub.status.idle": "2025-02-06T00:08:55.953008Z",
     "shell.execute_reply": "2025-02-06T00:08:55.951799Z"
    }
   },
   "outputs": [
    {
     "data": {
      "application/vnd.jupyter.widget-view+json": {
       "model_id": "2d269d9101ff4f00a074e341085c62e4",
       "version_major": 2,
       "version_minor": 0
      },
      "text/plain": [
       "Profiling likelihood:   0%|          | 0/30 [00:00<?, ?it/s]"
      ]
     },
     "metadata": {},
     "output_type": "display_data"
    }
   ],
   "source": [
    "res = jl.get_contours(\n",
    "    model.PSR_J0534p2200.spectrum.main.Super_cutoff_powerlaw.index, -2.0, -1.6, 30\n",
    ")"
   ]
  },
  {
   "cell_type": "code",
   "execution_count": 21,
   "id": "f5b38038",
   "metadata": {
    "execution": {
     "iopub.execute_input": "2025-02-06T00:08:55.958571Z",
     "iopub.status.busy": "2025-02-06T00:08:55.958274Z",
     "iopub.status.idle": "2025-02-06T00:08:56.133891Z",
     "shell.execute_reply": "2025-02-06T00:08:56.132204Z"
    }
   },
   "outputs": [
    {
     "data": {
      "image/png": "[encoded data removed]",
      "text/plain": [
       "<Figure size 1040x910 with 1 Axes>"
      ]
     },
     "execution_count": 21,
     "metadata": {},
     "output_type": "execute_result"
    }
   ],
   "source": [
    "res[-1]"
   ]
  },
  {
   "cell_type": "markdown",
   "id": "136a88ad",
   "metadata": {},
   "source": [
    "Or we might want to produce a contour plot"
   ]
  },
  {
   "cell_type": "code",
   "execution_count": 22,
   "id": "81a2f2ab",
   "metadata": {
    "execution": {
     "iopub.execute_input": "2025-02-06T00:08:56.139725Z",
     "iopub.status.busy": "2025-02-06T00:08:56.139433Z",
     "iopub.status.idle": "2025-02-06T00:41:52.153776Z",
     "shell.execute_reply": "2025-02-06T00:41:52.152012Z"
    }
   },
   "outputs": [
    {
     "data": {
      "application/vnd.jupyter.widget-view+json": {
       "model_id": "0a4936c3f59147ca9b7ce0339da38aed",
       "version_major": 2,
       "version_minor": 0
      },
      "text/plain": [
       "Profiling likelihood:   0%|          | 0/400 [00:00<?, ?it/s]"
      ]
     },
     "metadata": {},
     "output_type": "display_data"
    }
   ],
   "source": [
    "res = jl.get_contours(\n",
    "    \"PSR_J0534p2200.spectrum.main.Super_cutoff_powerlaw.K\",\n",
    "    2.1e-13,\n",
    "    2.7e-13,\n",
    "    20,\n",
    "    \"PSR_J0534p2200.spectrum.main.Super_cutoff_powerlaw.index\",\n",
    "    -2.0,\n",
    "    -1.7,\n",
    "    20,\n",
    ")"
   ]
  },
  {
   "cell_type": "code",
   "execution_count": 23,
   "id": "ae152073",
   "metadata": {
    "execution": {
     "iopub.execute_input": "2025-02-06T00:41:52.162243Z",
     "iopub.status.busy": "2025-02-06T00:41:52.161817Z",
     "iopub.status.idle": "2025-02-06T00:41:52.310128Z",
     "shell.execute_reply": "2025-02-06T00:41:52.308635Z"
    },
    "tags": [
     "nbsphinx-thumbnail"
    ]
   },
   "outputs": [
    {
     "data": {
      "image/png": "[encoded data removed]",
      "text/plain": [
       "<Figure size 1040x910 with 1 Axes>"
      ]
     },
     "execution_count": 23,
     "metadata": {},
     "output_type": "execute_result"
    }
   ],
   "source": [
    "res[-1]"
   ]
  },
  {
   "cell_type": "markdown",
   "id": "0b45f315",
   "metadata": {},
   "source": [
    "**Pro-trick:** We can also axcess the GTAnalysis object of fermipy:"
   ]
  },
  {
   "cell_type": "code",
   "execution_count": 24,
   "id": "a0f6d646",
   "metadata": {
    "execution": {
     "iopub.execute_input": "2025-02-06T00:41:52.325689Z",
     "iopub.status.busy": "2025-02-06T00:41:52.325337Z",
     "iopub.status.idle": "2025-02-06T00:41:52.333006Z",
     "shell.execute_reply": "2025-02-06T00:41:52.331663Z"
    }
   },
   "outputs": [],
   "source": [
    "# res = jl.fit()\n",
    "# LAT.gta.write_roi('test',make_plots=True)"
   ]
  },
  {
   "cell_type": "markdown",
   "id": "019d780c",
   "metadata": {},
   "source": [
    "All the plots are saved in the output directory as png files:\n",
    "\n"
   ]
  },
  {
   "cell_type": "code",
   "execution_count": 25,
   "id": "a6522150",
   "metadata": {
    "execution": {
     "iopub.execute_input": "2025-02-06T00:41:52.339463Z",
     "iopub.status.busy": "2025-02-06T00:41:52.339123Z",
     "iopub.status.idle": "2025-02-06T00:41:52.344884Z",
     "shell.execute_reply": "2025-02-06T00:41:52.343324Z"
    }
   },
   "outputs": [],
   "source": [
    "# pngs=Path(f\"{fermipy_output_directory}\").glob(\"*png\")\n",
    "# for png in pngs:\n",
    "#    print(png)\n",
    "#    my_image=Image(str(png))\n",
    "#    display(my_image)"
   ]
  },
  {
   "cell_type": "markdown",
   "id": "684a2626",
   "metadata": {},
   "source": [
    "We can also plot the resulting model:"
   ]
  },
  {
   "cell_type": "code",
   "execution_count": 26,
   "id": "7e9968d4",
   "metadata": {
    "execution": {
     "iopub.execute_input": "2025-02-06T00:41:52.350885Z",
     "iopub.status.busy": "2025-02-06T00:41:52.350504Z",
     "iopub.status.idle": "2025-02-06T00:41:52.925570Z",
     "shell.execute_reply": "2025-02-06T00:41:52.924246Z"
    }
   },
   "outputs": [
    {
     "data": {
      "image/png": "[encoded data removed]",
      "text/plain": [
       "<Figure size 1040x910 with 1 Axes>"
      ]
     },
     "execution_count": 26,
     "metadata": {},
     "output_type": "execute_result"
    }
   ],
   "source": [
    "energies = sp.logspace(1, 6, 100) * u.MeV\n",
    "fig, ax = plt.subplots()\n",
    "# we only want to visualize the relevant sources...\n",
    "src_to_plot = [\"Crab\", \"PSR_J0534p2200\"]\n",
    "# Now loop over all point sources and plot them\n",
    "for source_name, point_source in model.point_sources.items():\n",
    "    for src in src_to_plot:\n",
    "        if src in source_name:\n",
    "            # Plot the sum of all components for this source\n",
    "\n",
    "            ax.loglog(energies, point_source(energies), label=source_name)\n",
    "            # If there is more than one component, plot them also separately\n",
    "\n",
    "            if len(point_source.components) > 1:\n",
    "                for component_name, component in point_source.components.items():\n",
    "                    ax.loglog(\n",
    "                        energies,\n",
    "                        component.shape(energies),\n",
    "                        \"--\",\n",
    "                        label=f\"{component_name} of {source_name}\",\n",
    "                    )\n",
    "\n",
    "# Add a legend\n",
    "ax.legend(loc=0, frameon=False)\n",
    "\n",
    "ax.set_xlabel(\"Energy (MeV)\")\n",
    "ax.set_ylabel(r\"Flux (ph cm$^{-2}$ s$^{-1}$ keV$^{-1}$\")\n",
    "ax.set_ylim([1e-18, 1e-8])\n",
    "\n",
    "# show the plot\n",
    "fig"
   ]
  },
  {
   "cell_type": "markdown",
   "id": "00f60f4b",
   "metadata": {},
   "source": [
    "We can also do a bayesian analysis."
   ]
  },
  {
   "cell_type": "markdown",
   "id": "7a570d0b",
   "metadata": {},
   "source": [
    "This will set priors based on the current defined min-max (log-uniform or uniform)."
   ]
  },
  {
   "cell_type": "code",
   "execution_count": 27,
   "id": "ecf01641",
   "metadata": {
    "execution": {
     "iopub.execute_input": "2025-02-06T00:41:52.933839Z",
     "iopub.status.busy": "2025-02-06T00:41:52.933428Z",
     "iopub.status.idle": "2025-02-06T00:41:52.955127Z",
     "shell.execute_reply": "2025-02-06T00:41:52.953654Z"
    }
   },
   "outputs": [],
   "source": [
    "for param in model.free_parameters.values():\n",
    "    if param.has_transformation():\n",
    "        param.set_uninformative_prior(Log_uniform_prior)\n",
    "    else:\n",
    "        param.set_uninformative_prior(Uniform_prior)"
   ]
  },
  {
   "cell_type": "code",
   "execution_count": 28,
   "id": "3167f2a6",
   "metadata": {
    "execution": {
     "iopub.execute_input": "2025-02-06T00:41:52.962603Z",
     "iopub.status.busy": "2025-02-06T00:41:52.962247Z",
     "iopub.status.idle": "2025-02-06T00:54:51.426333Z",
     "shell.execute_reply": "2025-02-06T00:54:51.424620Z"
    }
   },
   "outputs": [
    {
     "data": {
      "text/html": [
       "<pre style=\"white-space:pre;overflow-x:auto;line-height:normal;font-family:Menlo,'DejaVu Sans Mono',consolas,'Courier New',monospace\"><span style=\"color: #00ff00; text-decoration-color: #00ff00\">00:41:53 </span><span style=\"color: #00ffaf; text-decoration-color: #00ffaf\">INFO    </span> <span style=\"color: #c6c6c6; text-decoration-color: #c6c6c6; font-weight: bold\"> Using IRFs P8R3_SOURCE_V3                                                     </span><a href=\"file:///Users/runner/work/threeML/threeML/threeML/plugins/FermipyLike.py\" target=\"_blank\"><span style=\"color: #7f7f7f; text-decoration-color: #7f7f7f\">FermipyLike.py</span></a><span style=\"color: #7f7f7f; text-decoration-color: #7f7f7f\">:</span><a href=\"file:///Users/runner/work/threeML/threeML/threeML/plugins/FermipyLike.py#126\" target=\"_blank\"><span style=\"color: #7f7f7f; text-decoration-color: #7f7f7f\">126</span></a>\n",
       "</pre>\n"
      ],
      "text/plain": [
       "\u001b[38;5;46m00:41:53\u001b[0m\u001b[38;5;46m \u001b[0m\u001b[38;5;49mINFO    \u001b[0m \u001b[1;38;5;251m Using IRFs P8R3_SOURCE_V3                                                    \u001b[0m\u001b[1;38;5;251m \u001b[0m\u001b]8;id=728670;file:///Users/runner/work/threeML/threeML/threeML/plugins/FermipyLike.py\u001b\\\u001b[2mFermipyLike.py\u001b[0m\u001b]8;;\u001b\\\u001b[2m:\u001b[0m\u001b]8;id=378612;file:///Users/runner/work/threeML/threeML/threeML/plugins/FermipyLike.py#126\u001b\\\u001b[2m126\u001b[0m\u001b]8;;\u001b\\\n"
      ]
     },
     "metadata": {},
     "output_type": "display_data"
    },
    {
     "name": "stdout",
     "output_type": "stream",
     "text": [
      "\n",
      "Found Galactic template for IRF. P8R3_SOURCE_V3: /Users/runner/miniconda3/envs/test_env/share/fermitools/refdata/fermi/galdiffuse/gll_iem_v07.fits\n",
      "\n",
      "Cutting the template around the ROI: \n",
      "\n"
     ]
    },
    {
     "name": "stdout",
     "output_type": "stream",
     "text": [
      "\n",
      "Found Isotropic template for irf P8R3_SOURCE_V3: /Users/runner/miniconda3/envs/test_env/share/fermitools/refdata/fermi/galdiffuse/iso_P8R3_SOURCE_V3_v1.txt\n"
     ]
    },
    {
     "name": "stderr",
     "output_type": "stream",
     "text": [
      "WARNING: Point source PKS_0459p060 lies 17.6445 degrees from the ROI center at RA, Dec = 83.6324, 22.0174 7.57107\n",
      "WARNING: Point source x4FGL_J0610d7p3752 lies 17.6638 degrees from the ROI center at RA, Dec = 83.6324, 22.0174 7.57107\n",
      "WARNING: Point source x4FGL_J0624d0p0855 lies 17.6933 degrees from the ROI center at RA, Dec = 83.6324, 22.0174 7.57107\n",
      "WARNING: Point source x4C_p06d21 lies 17.7222 degrees from the ROI center at RA, Dec = 83.6324, 22.0174 7.57107\n",
      "WARNING: Point source x1ES_0647p250 lies 17.726 degrees from the ROI center at RA, Dec = 83.6324, 22.0174 7.57107\n",
      "WARNING: Point source NVSS_J065035p205556 lies 17.7273 degrees from the ROI center at RA, Dec = 83.6324, 22.0174 7.57107\n",
      "WARNING: Point source x4FGL_J0551d7p0446 lies 17.7387 degrees from the ROI center at RA, Dec = 83.6324, 22.0174 7.57107\n",
      "WARNING: Point source GB6_J0454p3724 lies 17.747 degrees from the ROI center at RA, Dec = 83.6324, 22.0174 7.57107\n",
      "WARNING: Point source PSR_J0631p1036 lies 17.7845 degrees from the ROI center at RA, Dec = 83.6324, 22.0174 7.57107\n",
      "WARNING: Point source GB6_J0648p1749 lies 17.8418 degrees from the ROI center at RA, Dec = 83.6324, 22.0174 7.57107\n",
      "WARNING: Point source x4FGL_J0600d8p0509c lies 18.0107 degrees from the ROI center at RA, Dec = 83.6324, 22.0174 7.57107\n",
      "WARNING: Point source x4FGL_J0537d6p0400 lies 18.0307 degrees from the ROI center at RA, Dec = 83.6324, 22.0174 7.57107\n",
      "WARNING: Point source x4FGL_J0442d8p3609 lies 18.0625 degrees from the ROI center at RA, Dec = 83.6324, 22.0174 7.57107\n",
      "WARNING: Point source x4FGL_J0424d8p3117 lies 18.0853 degrees from the ROI center at RA, Dec = 83.6324, 22.0174 7.57107\n",
      "WARNING: Point source x4FGL_J0450d7p0715 lies 18.1442 degrees from the ROI center at RA, Dec = 83.6324, 22.0174 7.57107\n",
      "WARNING: Point source x4FGL_J0640d4p3307 lies 18.3144 degrees from the ROI center at RA, Dec = 83.6324, 22.0174 7.57107\n",
      "WARNING: Point source B2_0552p39A lies 18.3271 degrees from the ROI center at RA, Dec = 83.6324, 22.0174 7.57107\n",
      "WARNING: Point source x1RXS_J064814d1p160708 lies 18.3626 degrees from the ROI center at RA, Dec = 83.6324, 22.0174 7.57107\n",
      "WARNING: Point source x4FGL_J0634d7p1036 lies 18.3815 degrees from the ROI center at RA, Dec = 83.6324, 22.0174 7.57107\n",
      "WARNING: Point source MG2_J065230p1934 lies 18.3959 degrees from the ROI center at RA, Dec = 83.6324, 22.0174 7.57107\n",
      "WARNING: Point source PKS_0502p049 lies 18.4231 degrees from the ROI center at RA, Dec = 83.6324, 22.0174 7.57107\n",
      "WARNING: Point source RX_J0648d7p1516 lies 18.8098 degrees from the ROI center at RA, Dec = 83.6324, 22.0174 7.57107\n",
      "WARNING: Point source GB6_J0620p3806 lies 18.8371 degrees from the ROI center at RA, Dec = 83.6324, 22.0174 7.57107\n",
      "WARNING: Point source PSR_J0622p3749 lies 18.8534 degrees from the ROI center at RA, Dec = 83.6324, 22.0174 7.57107\n",
      "WARNING: Point source x4FGL_J0641d4p3349 lies 18.8651 degrees from the ROI center at RA, Dec = 83.6324, 22.0174 7.57107\n",
      "WARNING: Point source B2_0654p24 lies 18.868 degrees from the ROI center at RA, Dec = 83.6324, 22.0174 7.57107\n",
      "WARNING: Point source x1RXS_J065331d8p181448 lies 18.8966 degrees from the ROI center at RA, Dec = 83.6324, 22.0174 7.57107\n",
      "WARNING: Point source x4FGL_J0412d6p2253c lies 18.9306 degrees from the ROI center at RA, Dec = 83.6324, 22.0174 7.57107\n",
      "WARNING: Point source GB6_J0653p2816 lies 18.9492 degrees from the ROI center at RA, Dec = 83.6324, 22.0174 7.57107\n",
      "WARNING: Point source PMN_J0444p0717 lies 19.0008 degrees from the ROI center at RA, Dec = 83.6324, 22.0174 7.57107\n",
      "WARNING: Point source MG1_J050533p0415 lies 19.0838 degrees from the ROI center at RA, Dec = 83.6324, 22.0174 7.57107\n",
      "WARNING: Point source x4FGL_J0559d3p0352 lies 19.1179 degrees from the ROI center at RA, Dec = 83.6324, 22.0174 7.57107\n",
      "WARNING: Point source TXS_0431p092 lies 19.1204 degrees from the ROI center at RA, Dec = 83.6324, 22.0174 7.57107\n",
      "WARNING: Point source B3_0509p406 lies 19.2302 degrees from the ROI center at RA, Dec = 83.6324, 22.0174 7.57107\n",
      "WARNING: Point source B2_0635p35 lies 19.2972 degrees from the ROI center at RA, Dec = 83.6324, 22.0174 7.57107\n",
      "WARNING: Point source PKS_0550p032 lies 19.3054 degrees from the ROI center at RA, Dec = 83.6324, 22.0174 7.57107\n",
      "WARNING: Point source x4FGL_J0431d0p3529c lies 19.3172 degrees from the ROI center at RA, Dec = 83.6324, 22.0174 7.57107\n",
      "WARNING: Point source x2MASX_J06533986p1636432 lies 19.4133 degrees from the ROI center at RA, Dec = 83.6324, 22.0174 7.57107\n",
      "WARNING: Point source x4FGL_J0658d7p2318 lies 19.4491 degrees from the ROI center at RA, Dec = 83.6324, 22.0174 7.57107\n",
      "WARNING: Point source x4FGL_J0552d0p0256c lies 19.5445 degrees from the ROI center at RA, Dec = 83.6324, 22.0174 7.57107\n",
      "WARNING: Point source GB6_J0555p0304 lies 19.594 degrees from the ROI center at RA, Dec = 83.6324, 22.0174 7.57107\n",
      "WARNING: Point source B2_0655p27A lies 19.6945 degrees from the ROI center at RA, Dec = 83.6324, 22.0174 7.57107\n",
      "WARNING: Point source x4FGL_J0642d4p1048 lies 19.7348 degrees from the ROI center at RA, Dec = 83.6324, 22.0174 7.57107\n",
      "WARNING: Point source NVSS_J050650p032401 lies 19.7933 degrees from the ROI center at RA, Dec = 83.6324, 22.0174 7.57107\n",
      "WARNING: Point source x4FGL_J0409d2p2542 lies 19.8177 degrees from the ROI center at RA, Dec = 83.6324, 22.0174 7.57107\n"
     ]
    }
   ],
   "source": [
    "# It's better to remove the output directory,...\n",
    "shutil.rmtree(fermipy_output_directory)\n",
    "\n",
    "bayes = BayesianAnalysis(model, data)"
   ]
  },
  {
   "cell_type": "markdown",
   "id": "0b48be12",
   "metadata": {},
   "source": [
    "Take care of the nuisance parameters `LAT_isodiff_Normalization` and `LAT_galdiff_Prefactor`, which are only created during the previous step."
   ]
  },
  {
   "cell_type": "code",
   "execution_count": 29,
   "id": "1a974442",
   "metadata": {
    "execution": {
     "iopub.execute_input": "2025-02-06T00:54:51.435108Z",
     "iopub.status.busy": "2025-02-06T00:54:51.434552Z",
     "iopub.status.idle": "2025-02-06T00:54:51.442815Z",
     "shell.execute_reply": "2025-02-06T00:54:51.441130Z"
    }
   },
   "outputs": [],
   "source": [
    "model.LAT_isodiff_Normalization.fix = True\n",
    "model.LAT_galdiff_Prefactor.set_uninformative_prior(Log_uniform_prior)"
   ]
  },
  {
   "cell_type": "code",
   "execution_count": 30,
   "id": "268f336b",
   "metadata": {
    "execution": {
     "iopub.execute_input": "2025-02-06T00:54:51.452519Z",
     "iopub.status.busy": "2025-02-06T00:54:51.452002Z",
     "iopub.status.idle": "2025-02-06T01:00:45.469393Z",
     "shell.execute_reply": "2025-02-06T01:00:45.468189Z"
    },
    "lines_to_next_cell": 2
   },
   "outputs": [
    {
     "data": {
      "text/html": [
       "<pre style=\"white-space:pre;overflow-x:auto;line-height:normal;font-family:Menlo,'DejaVu Sans Mono',consolas,'Courier New',monospace\"><span style=\"color: #00ff00; text-decoration-color: #00ff00\">00:54:51 </span><span style=\"color: #00ffaf; text-decoration-color: #00ffaf\">INFO    </span> <span style=\"color: #c6c6c6; text-decoration-color: #c6c6c6; font-weight: bold\"> sampler set to </span><span style=\"color: #000080; text-decoration-color: #000080; font-weight: bold\">emcee</span><span style=\"color: #c6c6c6; text-decoration-color: #c6c6c6; font-weight: bold\">                                                    </span><a href=\"file:///Users/runner/work/threeML/threeML/threeML/bayesian/bayesian_analysis.py\" target=\"_blank\"><span style=\"color: #7f7f7f; text-decoration-color: #7f7f7f\">bayesian_analysis.py</span></a><span style=\"color: #7f7f7f; text-decoration-color: #7f7f7f\">:</span><a href=\"file:///Users/runner/work/threeML/threeML/threeML/bayesian/bayesian_analysis.py#202\" target=\"_blank\"><span style=\"color: #7f7f7f; text-decoration-color: #7f7f7f\">202</span></a>\n",
       "</pre>\n"
      ],
      "text/plain": [
       "\u001b[38;5;46m00:54:51\u001b[0m\u001b[38;5;46m \u001b[0m\u001b[38;5;49mINFO    \u001b[0m \u001b[1;38;5;251m sampler set to \u001b[0m\u001b[1;34memcee\u001b[0m\u001b[1;38;5;251m                                                   \u001b[0m\u001b[1;38;5;251m \u001b[0m\u001b]8;id=430662;file:///Users/runner/work/threeML/threeML/threeML/bayesian/bayesian_analysis.py\u001b\\\u001b[2mbayesian_analysis.py\u001b[0m\u001b]8;;\u001b\\\u001b[2m:\u001b[0m\u001b]8;id=816474;file:///Users/runner/work/threeML/threeML/threeML/bayesian/bayesian_analysis.py#202\u001b\\\u001b[2m202\u001b[0m\u001b]8;;\u001b\\\n"
      ]
     },
     "metadata": {},
     "output_type": "display_data"
    },
    {
     "data": {
      "application/vnd.jupyter.widget-view+json": {
       "model_id": "b22f977ac0124d2c88999408a8556fb4",
       "version_major": 2,
       "version_minor": 0
      },
      "text/plain": [
       "  0%|          | 0/10 [00:00<?, ?it/s]"
      ]
     },
     "metadata": {},
     "output_type": "display_data"
    },
    {
     "data": {
      "application/vnd.jupyter.widget-view+json": {
       "model_id": "b79b5c851adb45ab81d5c7be6c29cfe2",
       "version_major": 2,
       "version_minor": 0
      },
      "text/plain": [
       "  0%|          | 0/500 [00:00<?, ?it/s]"
      ]
     },
     "metadata": {},
     "output_type": "display_data"
    },
    {
     "data": {
      "text/html": [
       "<pre style=\"white-space:pre;overflow-x:auto;line-height:normal;font-family:Menlo,'DejaVu Sans Mono',consolas,'Courier New',monospace\"><span style=\"color: #00ff00; text-decoration-color: #00ff00\">01:00:44 </span><span style=\"color: #00ffaf; text-decoration-color: #00ffaf\">INFO    </span> <span style=\"color: #c6c6c6; text-decoration-color: #c6c6c6; font-weight: bold\"> Mean acceptance fraction: </span><span style=\"color: #c0c0c0; text-decoration-color: #c0c0c0; font-weight: bold\">0.4983999999999999</span><span style=\"color: #c6c6c6; text-decoration-color: #c6c6c6; font-weight: bold\">                                </span><a href=\"file:///Users/runner/work/threeML/threeML/threeML/bayesian/emcee_sampler.py\" target=\"_blank\"><span style=\"color: #7f7f7f; text-decoration-color: #7f7f7f\">emcee_sampler.py</span></a><span style=\"color: #7f7f7f; text-decoration-color: #7f7f7f\">:</span><a href=\"file:///Users/runner/work/threeML/threeML/threeML/bayesian/emcee_sampler.py#157\" target=\"_blank\"><span style=\"color: #7f7f7f; text-decoration-color: #7f7f7f\">157</span></a>\n",
       "</pre>\n"
      ],
      "text/plain": [
       "\u001b[38;5;46m01:00:44\u001b[0m\u001b[38;5;46m \u001b[0m\u001b[38;5;49mINFO    \u001b[0m \u001b[1;38;5;251m Mean acceptance fraction: \u001b[0m\u001b[1;37m0.4983999999999999\u001b[0m\u001b[1;38;5;251m                               \u001b[0m\u001b[1;38;5;251m \u001b[0m\u001b]8;id=217298;file:///Users/runner/work/threeML/threeML/threeML/bayesian/emcee_sampler.py\u001b\\\u001b[2memcee_sampler.py\u001b[0m\u001b]8;;\u001b\\\u001b[2m:\u001b[0m\u001b]8;id=472547;file:///Users/runner/work/threeML/threeML/threeML/bayesian/emcee_sampler.py#157\u001b\\\u001b[2m157\u001b[0m\u001b]8;;\u001b\\\n"
      ]
     },
     "metadata": {},
     "output_type": "display_data"
    },
    {
     "data": {
      "text/html": [
       "<pre style=\"white-space:pre;overflow-x:auto;line-height:normal;font-family:Menlo,'DejaVu Sans Mono',consolas,'Courier New',monospace\"><span style=\"color: #00ff00; text-decoration-color: #00ff00\">         </span><span style=\"color: #00ffaf; text-decoration-color: #00ffaf\">INFO    </span> <span style=\"color: #c6c6c6; text-decoration-color: #c6c6c6; font-weight: bold\"> fit restored to maximum of posterior                                         </span><a href=\"file:///Users/runner/work/threeML/threeML/threeML/bayesian/sampler_base.py\" target=\"_blank\"><span style=\"color: #7f7f7f; text-decoration-color: #7f7f7f\">sampler_base.py</span></a><span style=\"color: #7f7f7f; text-decoration-color: #7f7f7f\">:</span><a href=\"file:///Users/runner/work/threeML/threeML/threeML/bayesian/sampler_base.py#178\" target=\"_blank\"><span style=\"color: #7f7f7f; text-decoration-color: #7f7f7f\">178</span></a>\n",
       "</pre>\n"
      ],
      "text/plain": [
       "\u001b[38;5;46m        \u001b[0m\u001b[38;5;46m \u001b[0m\u001b[38;5;49mINFO    \u001b[0m \u001b[1;38;5;251m fit restored to maximum of posterior                                        \u001b[0m\u001b[1;38;5;251m \u001b[0m\u001b]8;id=459877;file:///Users/runner/work/threeML/threeML/threeML/bayesian/sampler_base.py\u001b\\\u001b[2msampler_base.py\u001b[0m\u001b]8;;\u001b\\\u001b[2m:\u001b[0m\u001b]8;id=861300;file:///Users/runner/work/threeML/threeML/threeML/bayesian/sampler_base.py#178\u001b\\\u001b[2m178\u001b[0m\u001b]8;;\u001b\\\n"
      ]
     },
     "metadata": {},
     "output_type": "display_data"
    },
    {
     "data": {
      "text/html": [
       "<pre style=\"white-space:pre;overflow-x:auto;line-height:normal;font-family:Menlo,'DejaVu Sans Mono',consolas,'Courier New',monospace\"><span style=\"color: #00ff00; text-decoration-color: #00ff00\">01:00:45 </span><span style=\"color: #00ffaf; text-decoration-color: #00ffaf\">INFO    </span> <span style=\"color: #c6c6c6; text-decoration-color: #c6c6c6; font-weight: bold\"> fit restored to maximum of posterior                                         </span><a href=\"file:///Users/runner/work/threeML/threeML/threeML/bayesian/sampler_base.py\" target=\"_blank\"><span style=\"color: #7f7f7f; text-decoration-color: #7f7f7f\">sampler_base.py</span></a><span style=\"color: #7f7f7f; text-decoration-color: #7f7f7f\">:</span><a href=\"file:///Users/runner/work/threeML/threeML/threeML/bayesian/sampler_base.py#178\" target=\"_blank\"><span style=\"color: #7f7f7f; text-decoration-color: #7f7f7f\">178</span></a>\n",
       "</pre>\n"
      ],
      "text/plain": [
       "\u001b[38;5;46m01:00:45\u001b[0m\u001b[38;5;46m \u001b[0m\u001b[38;5;49mINFO    \u001b[0m \u001b[1;38;5;251m fit restored to maximum of posterior                                        \u001b[0m\u001b[1;38;5;251m \u001b[0m\u001b]8;id=895918;file:///Users/runner/work/threeML/threeML/threeML/bayesian/sampler_base.py\u001b\\\u001b[2msampler_base.py\u001b[0m\u001b]8;;\u001b\\\u001b[2m:\u001b[0m\u001b]8;id=80932;file:///Users/runner/work/threeML/threeML/threeML/bayesian/sampler_base.py#178\u001b\\\u001b[2m178\u001b[0m\u001b]8;;\u001b\\\n"
      ]
     },
     "metadata": {},
     "output_type": "display_data"
    },
    {
     "data": {
      "text/html": [
       "<pre style=\"white-space:pre;overflow-x:auto;line-height:normal;font-family:Menlo,'DejaVu Sans Mono',consolas,'Courier New',monospace\"><span style=\"color: #00ffaf; text-decoration-color: #00ffaf; font-weight: bold; text-decoration: underline\">Maximum a posteriori probability (MAP) point:</span>\n",
       "\n",
       "</pre>\n"
      ],
      "text/plain": [
       "\u001b[1;4;38;5;49mMaximum a posteriori probability \u001b[0m\u001b[1;4;38;5;49m(\u001b[0m\u001b[1;4;38;5;49mMAP\u001b[0m\u001b[1;4;38;5;49m)\u001b[0m\u001b[1;4;38;5;49m point:\u001b[0m\n",
       "\n"
      ]
     },
     "metadata": {},
     "output_type": "display_data"
    },
    {
     "data": {
      "text/html": [
       "<div>\n",
       "<style scoped>\n",
       "    .dataframe tbody tr th:only-of-type {\n",
       "        vertical-align: middle;\n",
       "    }\n",
       "\n",
       "    .dataframe tbody tr th {\n",
       "        vertical-align: top;\n",
       "    }\n",
       "\n",
       "    .dataframe thead th {\n",
       "        text-align: right;\n",
       "    }\n",
       "</style>\n",
       "<table border=\"1\" class=\"dataframe\">\n",
       "  <thead>\n",
       "    <tr style=\"text-align: right;\">\n",
       "      <th></th>\n",
       "      <th>result</th>\n",
       "      <th>unit</th>\n",
       "    </tr>\n",
       "    <tr>\n",
       "      <th>parameter</th>\n",
       "      <th></th>\n",
       "      <th></th>\n",
       "    </tr>\n",
       "  </thead>\n",
       "  <tbody>\n",
       "    <tr>\n",
       "      <th>PSR_J0534p2200...K</th>\n",
       "      <td>(2.49 +/- 0.08) x 10^-13</td>\n",
       "      <td>1 / (cm2 keV s)</td>\n",
       "    </tr>\n",
       "    <tr>\n",
       "      <th>PSR_J0534p2200...index</th>\n",
       "      <td>-1.773 -0.04 +0.015</td>\n",
       "      <td></td>\n",
       "    </tr>\n",
       "    <tr>\n",
       "      <th>NVSS_J052622p224801.spectrum.main.Powerlaw.K</th>\n",
       "      <td>(0.000 +0.020 +1.1) x 10^-16</td>\n",
       "      <td>1 / (cm2 keV s)</td>\n",
       "    </tr>\n",
       "    <tr>\n",
       "      <th>LAT_galdiff_Prefactor</th>\n",
       "      <td>(9.42 -0.20 +0.15) x 10^-1</td>\n",
       "      <td></td>\n",
       "    </tr>\n",
       "  </tbody>\n",
       "</table>\n",
       "</div>"
      ],
      "text/plain": [
       "                                                                    result  \\\n",
       "parameter                                                                    \n",
       "PSR_J0534p2200...K                                (2.49 +/- 0.08) x 10^-13   \n",
       "PSR_J0534p2200...index                                 -1.773 -0.04 +0.015   \n",
       "NVSS_J052622p224801.spectrum.main.Powerlaw.K  (0.000 +0.020 +1.1) x 10^-16   \n",
       "LAT_galdiff_Prefactor                           (9.42 -0.20 +0.15) x 10^-1   \n",
       "\n",
       "                                                         unit  \n",
       "parameter                                                      \n",
       "PSR_J0534p2200...K                            1 / (cm2 keV s)  \n",
       "PSR_J0534p2200...index                                         \n",
       "NVSS_J052622p224801.spectrum.main.Powerlaw.K  1 / (cm2 keV s)  \n",
       "LAT_galdiff_Prefactor                                          "
      ]
     },
     "metadata": {},
     "output_type": "display_data"
    },
    {
     "data": {
      "text/html": [
       "<pre style=\"white-space:pre;overflow-x:auto;line-height:normal;font-family:Menlo,'DejaVu Sans Mono',consolas,'Courier New',monospace\">\n",
       "<span style=\"color: #00ffaf; text-decoration-color: #00ffaf; font-weight: bold; text-decoration: underline\">Values of -log(posterior) at the minimum:</span>\n",
       "\n",
       "</pre>\n"
      ],
      "text/plain": [
       "\n",
       "\u001b[1;4;38;5;49mValues of -\u001b[0m\u001b[1;4;38;5;49mlog\u001b[0m\u001b[1;4;38;5;49m(\u001b[0m\u001b[1;4;38;5;49mposterior\u001b[0m\u001b[1;4;38;5;49m)\u001b[0m\u001b[1;4;38;5;49m at the minimum:\u001b[0m\n",
       "\n"
      ]
     },
     "metadata": {},
     "output_type": "display_data"
    },
    {
     "data": {
      "text/html": [
       "<div>\n",
       "<style scoped>\n",
       "    .dataframe tbody tr th:only-of-type {\n",
       "        vertical-align: middle;\n",
       "    }\n",
       "\n",
       "    .dataframe tbody tr th {\n",
       "        vertical-align: top;\n",
       "    }\n",
       "\n",
       "    .dataframe thead th {\n",
       "        text-align: right;\n",
       "    }\n",
       "</style>\n",
       "<table border=\"1\" class=\"dataframe\">\n",
       "  <thead>\n",
       "    <tr style=\"text-align: right;\">\n",
       "      <th></th>\n",
       "      <th>-log(posterior)</th>\n",
       "    </tr>\n",
       "  </thead>\n",
       "  <tbody>\n",
       "    <tr>\n",
       "      <th>LAT</th>\n",
       "      <td>-118071.014784</td>\n",
       "    </tr>\n",
       "    <tr>\n",
       "      <th>total</th>\n",
       "      <td>-118071.014784</td>\n",
       "    </tr>\n",
       "  </tbody>\n",
       "</table>\n",
       "</div>"
      ],
      "text/plain": [
       "       -log(posterior)\n",
       "LAT     -118071.014784\n",
       "total   -118071.014784"
      ]
     },
     "metadata": {},
     "output_type": "display_data"
    },
    {
     "data": {
      "text/html": [
       "<pre style=\"white-space:pre;overflow-x:auto;line-height:normal;font-family:Menlo,'DejaVu Sans Mono',consolas,'Courier New',monospace\">\n",
       "<span style=\"color: #00ffaf; text-decoration-color: #00ffaf; font-weight: bold; text-decoration: underline\">Values of statistical measures:</span>\n",
       "\n",
       "</pre>\n"
      ],
      "text/plain": [
       "\n",
       "\u001b[1;4;38;5;49mValues of statistical measures:\u001b[0m\n",
       "\n"
      ]
     },
     "metadata": {},
     "output_type": "display_data"
    },
    {
     "data": {
      "text/html": [
       "<div>\n",
       "<style scoped>\n",
       "    .dataframe tbody tr th:only-of-type {\n",
       "        vertical-align: middle;\n",
       "    }\n",
       "\n",
       "    .dataframe tbody tr th {\n",
       "        vertical-align: top;\n",
       "    }\n",
       "\n",
       "    .dataframe thead th {\n",
       "        text-align: right;\n",
       "    }\n",
       "</style>\n",
       "<table border=\"1\" class=\"dataframe\">\n",
       "  <thead>\n",
       "    <tr style=\"text-align: right;\">\n",
       "      <th></th>\n",
       "      <th>statistical measures</th>\n",
       "    </tr>\n",
       "  </thead>\n",
       "  <tbody>\n",
       "    <tr>\n",
       "      <th>AIC</th>\n",
       "      <td>236150.029711</td>\n",
       "    </tr>\n",
       "    <tr>\n",
       "      <th>BIC</th>\n",
       "      <td>236192.199748</td>\n",
       "    </tr>\n",
       "    <tr>\n",
       "      <th>DIC</th>\n",
       "      <td>236159.386979</td>\n",
       "    </tr>\n",
       "    <tr>\n",
       "      <th>PDIC</th>\n",
       "      <td>2.333154</td>\n",
       "    </tr>\n",
       "  </tbody>\n",
       "</table>\n",
       "</div>"
      ],
      "text/plain": [
       "      statistical measures\n",
       "AIC          236150.029711\n",
       "BIC          236192.199748\n",
       "DIC          236159.386979\n",
       "PDIC              2.333154"
      ]
     },
     "metadata": {},
     "output_type": "display_data"
    }
   ],
   "source": [
    "bayes.set_sampler(\"emcee\")\n",
    "\n",
    "n_walkers = 10\n",
    "burn_in = 10\n",
    "n_samples = 500\n",
    "\n",
    "bayes.sampler.setup(n_iterations=n_samples, n_burn_in=burn_in, n_walkers=n_walkers)\n",
    "\n",
    "res = bayes.sample()"
   ]
  },
  {
   "cell_type": "markdown",
   "id": "9abe8cbb",
   "metadata": {},
   "source": [
    "You can access to the parameter range like this (HPD):"
   ]
  },
  {
   "cell_type": "code",
   "execution_count": 31,
   "id": "bb842de2",
   "metadata": {
    "execution": {
     "iopub.execute_input": "2025-02-06T01:00:45.475416Z",
     "iopub.status.busy": "2025-02-06T01:00:45.475101Z",
     "iopub.status.idle": "2025-02-06T01:00:45.497179Z",
     "shell.execute_reply": "2025-02-06T01:00:45.495955Z"
    }
   },
   "outputs": [
    {
     "name": "stdout",
     "output_type": "stream",
     "text": [
      "Highest_posterior_density_intervals :\n",
      "K (68%):       2.40e-13,  2.55e-13\n",
      "K (95%):       2.33e-13,  2.63e-13\n",
      "Index (68%):  -1.81e+00, -1.76e+00\n",
      "Index (95%):  -1.83e+00, -1.73e+00\n"
     ]
    }
   ],
   "source": [
    "this_K = bayes.results.get_variates(\n",
    "    \"PSR_J0534p2200.spectrum.main.Super_cutoff_powerlaw.K\"\n",
    ")\n",
    "this_idx = bayes.results.get_variates(\n",
    "    \"PSR_J0534p2200.spectrum.main.Super_cutoff_powerlaw.index\"\n",
    ")\n",
    "\n",
    "print(\"Highest_posterior_density_intervals :\")\n",
    "print(\n",
    "    \"K (68%%):     %10.2e,%10.2e\" % this_K.highest_posterior_density_interval(cl=0.68)\n",
    ")\n",
    "print(\n",
    "    \"K (95%%):     %10.2e,%10.2e\" % this_K.highest_posterior_density_interval(cl=0.95)\n",
    ")\n",
    "print(\n",
    "    \"Index (68%%): %10.2e,%10.2e\" % this_idx.highest_posterior_density_interval(cl=0.68)\n",
    ")\n",
    "print(\n",
    "    \"Index (95%%): %10.2e,%10.2e\" % this_idx.highest_posterior_density_interval(cl=0.95)\n",
    ")"
   ]
  },
  {
   "cell_type": "code",
   "execution_count": 32,
   "id": "720a9538",
   "metadata": {
    "execution": {
     "iopub.execute_input": "2025-02-06T01:00:45.502331Z",
     "iopub.status.busy": "2025-02-06T01:00:45.502037Z",
     "iopub.status.idle": "2025-02-06T01:00:46.394943Z",
     "shell.execute_reply": "2025-02-06T01:00:46.393309Z"
    }
   },
   "outputs": [
    {
     "data": {
      "image/png": "[encoded data removed]",
      "text/plain": [
       "<Figure size 970x970 with 16 Axes>"
      ]
     },
     "execution_count": 32,
     "metadata": {},
     "output_type": "execute_result"
    }
   ],
   "source": [
    "corner_figure = bayes.results.corner_plot()\n",
    "corner_figure"
   ]
  },
  {
   "cell_type": "code",
   "execution_count": null,
   "id": "ac489539",
   "metadata": {},
   "outputs": [],
   "source": []
  }
 ],
 "metadata": {
  "jupytext": {
   "formats": "ipynb,md"
  },
  "kernelspec": {
   "display_name": "Python 3 (ipykernel)",
   "language": "python",
   "name": "python3"
  },
  "language_info": {
   "codemirror_mode": {
    "name": "ipython",
    "version": 3
   },
   "file_extension": ".py",
   "mimetype": "text/x-python",
   "name": "python",
   "nbconvert_exporter": "python",
   "pygments_lexer": "ipython3",
   "version": "3.9.13"
  },
  "widgets": {
   "application/vnd.jupyter.widget-state+json": {
    "state": {
     "065b6c4e1ffd44c786e9adeb97e89057": {
      "model_module": "@jupyter-widgets/base",
      "model_module_version": "2.0.0",
      "model_name": "LayoutModel",
      "state": {
       "_model_module": "@jupyter-widgets/base",
       "_model_module_version": "2.0.0",
       "_model_name": "LayoutModel",
       "_view_count": null,
       "_view_module": "@jupyter-widgets/base",
       "_view_module_version": "2.0.0",
       "_view_name": "LayoutView",
       "align_content": null,
       "align_items": null,
       "align_self": null,
       "border_bottom": null,
       "border_left": null,
       "border_right": null,
       "border_top": null,
       "bottom": null,
       "display": null,
       "flex": null,
       "flex_flow": null,
       "grid_area": null,
       "grid_auto_columns": null,
       "grid_auto_flow": null,
       "grid_auto_rows": null,
       "grid_column": null,
       "grid_gap": null,
       "grid_row": null,
       "grid_template_areas": null,
       "grid_template_columns": null,
       "grid_template_rows": null,
       "height": null,
       "justify_content": null,
       "justify_items": null,
       "left": null,
       "margin": null,
       "max_height": null,
       "max_width": null,
       "min_height": null,
       "min_width": null,
       "object_fit": null,
       "object_position": null,
       "order": null,
       "overflow": null,
       "padding": null,
       "right": null,
       "top": null,
       "visibility": null,
       "width": null
      }
     },
     "0a4936c3f59147ca9b7ce0339da38aed": {
      "model_module": "@jupyter-widgets/controls",
      "model_module_version": "2.0.0",
      "model_name": "HBoxModel",
      "state": {
       "_dom_classes": [],
       "_model_module": "@jupyter-widgets/controls",
       "_model_module_version": "2.0.0",
       "_model_name": "HBoxModel",
       "_view_count": null,
       "_view_module": "@jupyter-widgets/controls",
       "_view_module_version": "2.0.0",
       "_view_name": "HBoxView",
       "box_style": "",
       "children": [
        "IPY_MODEL_58fb20fd511d4bac97b05c91b80b656a",
        "IPY_MODEL_79c3f30ecdec467ca212ae3fbc18632b",
        "IPY_MODEL_ede40e161a354d9fb2097379edac304d"
       ],
       "layout": "IPY_MODEL_5e9dc9f4ca054e49bf86cdadbd1faba2",
       "tabbable": null,
       "tooltip": null
      }
     },
     "0da4c16128924cb5b0813cd50abadfd4": {
      "model_module": "@jupyter-widgets/base",
      "model_module_version": "2.0.0",
      "model_name": "LayoutModel",
      "state": {
       "_model_module": "@jupyter-widgets/base",
       "_model_module_version": "2.0.0",
       "_model_name": "LayoutModel",
       "_view_count": null,
       "_view_module": "@jupyter-widgets/base",
       "_view_module_version": "2.0.0",
       "_view_name": "LayoutView",
       "align_content": null,
       "align_items": null,
       "align_self": null,
       "border_bottom": null,
       "border_left": null,
       "border_right": null,
       "border_top": null,
       "bottom": null,
       "display": null,
       "flex": null,
       "flex_flow": null,
       "grid_area": null,
       "grid_auto_columns": null,
       "grid_auto_flow": null,
       "grid_auto_rows": null,
       "grid_column": null,
       "grid_gap": null,
       "grid_row": null,
       "grid_template_areas": null,
       "grid_template_columns": null,
       "grid_template_rows": null,
       "height": null,
       "justify_content": null,
       "justify_items": null,
       "left": null,
       "margin": null,
       "max_height": null,
       "max_width": null,
       "min_height": null,
       "min_width": null,
       "object_fit": null,
       "object_position": null,
       "order": null,
       "overflow": null,
       "padding": null,
       "right": null,
       "top": null,
       "visibility": null,
       "width": null
      }
     },
     "10e517c11e164f918f789ead615c1e83": {
      "model_module": "@jupyter-widgets/controls",
      "model_module_version": "2.0.0",
      "model_name": "HBoxModel",
      "state": {
       "_dom_classes": [],
       "_model_module": "@jupyter-widgets/controls",
       "_model_module_version": "2.0.0",
       "_model_name": "HBoxModel",
       "_view_count": null,
       "_view_module": "@jupyter-widgets/controls",
       "_view_module_version": "2.0.0",
       "_view_name": "HBoxView",
       "box_style": "",
       "children": [
        "IPY_MODEL_e92dd1cd88f744f2a0aa04f0924af18e",
        "IPY_MODEL_640242a37d934d3483c759cc114e7047",
        "IPY_MODEL_4b8f81dd1249494b9d062e9dc45cf9a0"
       ],
       "layout": "IPY_MODEL_4f824d4112e84e0da934e1ba4c0669a4",
       "tabbable": null,
       "tooltip": null
      }
     },
     "154bf671226a49fbb478d3e313ba5d66": {
      "model_module": "@jupyter-widgets/controls",
      "model_module_version": "2.0.0",
      "model_name": "HTMLModel",
      "state": {
       "_dom_classes": [],
       "_model_module": "@jupyter-widgets/controls",
       "_model_module_version": "2.0.0",
       "_model_name": "HTMLModel",
       "_view_count": null,
       "_view_module": "@jupyter-widgets/controls",
       "_view_module_version": "2.0.0",
       "_view_name": "HTMLView",
       "description": "",
       "description_allow_html": false,
       "layout": "IPY_MODEL_d719e4040d984da1bebce3823e280054",
       "placeholder": "​",
       "style": "IPY_MODEL_edd2551348b747cc9c53c3ce36190bad",
       "tabbable": null,
       "tooltip": null,
       "value": "100%"
      }
     },
     "17cbb18b1c554c35b602c7748bc6075a": {
      "model_module": "@jupyter-widgets/controls",
      "model_module_version": "2.0.0",
      "model_name": "HTMLModel",
      "state": {
       "_dom_classes": [],
       "_model_module": "@jupyter-widgets/controls",
       "_model_module_version": "2.0.0",
       "_model_name": "HTMLModel",
       "_view_count": null,
       "_view_module": "@jupyter-widgets/controls",
       "_view_module_version": "2.0.0",
       "_view_name": "HTMLView",
       "description": "",
       "description_allow_html": false,
       "layout": "IPY_MODEL_6540b7b56f414fa98a37e6f43eaa39c5",
       "placeholder": "​",
       "style": "IPY_MODEL_57c3a18e7c3e4777944722ce3c066172",
       "tabbable": null,
       "tooltip": null,
       "value": " 30/30 [02:55&lt;00:00,  6.02s/it]"
      }
     },
     "1a4fcef51d2542039f8c4e69bcd95973": {
      "model_module": "@jupyter-widgets/controls",
      "model_module_version": "2.0.0",
      "model_name": "FloatProgressModel",
      "state": {
       "_dom_classes": [],
       "_model_module": "@jupyter-widgets/controls",
       "_model_module_version": "2.0.0",
       "_model_name": "FloatProgressModel",
       "_view_count": null,
       "_view_module": "@jupyter-widgets/controls",
       "_view_module_version": "2.0.0",
       "_view_name": "ProgressView",
       "bar_style": "success",
       "description": "",
       "description_allow_html": false,
       "layout": "IPY_MODEL_4a7cd2bda35b46c89ffe4ab33282eb52",
       "max": 17087040.0,
       "min": 0.0,
       "orientation": "horizontal",
       "style": "IPY_MODEL_4f540481e05f41b298260872efb86497",
       "tabbable": null,
       "tooltip": null,
       "value": 17087040.0
      }
     },
     "1dd08775f7b2413690e7619c2185ad3a": {
      "model_module": "@jupyter-widgets/controls",
      "model_module_version": "2.0.0",
      "model_name": "HTMLStyleModel",
      "state": {
       "_model_module": "@jupyter-widgets/controls",
       "_model_module_version": "2.0.0",
       "_model_name": "HTMLStyleModel",
       "_view_count": null,
       "_view_module": "@jupyter-widgets/base",
       "_view_module_version": "2.0.0",
       "_view_name": "StyleView",
       "background": null,
       "description_width": "",
       "font_size": null,
       "text_color": null
      }
     },
     "1f6b67d05122433689af2992949c9d6b": {
      "model_module": "@jupyter-widgets/controls",
      "model_module_version": "2.0.0",
      "model_name": "HTMLModel",
      "state": {
       "_dom_classes": [],
       "_model_module": "@jupyter-widgets/controls",
       "_model_module_version": "2.0.0",
       "_model_name": "HTMLModel",
       "_view_count": null,
       "_view_module": "@jupyter-widgets/controls",
       "_view_module_version": "2.0.0",
       "_view_name": "HTMLView",
       "description": "",
       "description_allow_html": false,
       "layout": "IPY_MODEL_7d2379211c2d45db9b769a52959e4009",
       "placeholder": "​",
       "style": "IPY_MODEL_f74d65cd8b8f49ed970616eb0305cd5c",
       "tabbable": null,
       "tooltip": null,
       "value": "100%"
      }
     },
     "24b1198449064a51a9b9b67e41df70ad": {
      "model_module": "@jupyter-widgets/controls",
      "model_module_version": "2.0.0",
      "model_name": "HTMLStyleModel",
      "state": {
       "_model_module": "@jupyter-widgets/controls",
       "_model_module_version": "2.0.0",
       "_model_name": "HTMLStyleModel",
       "_view_count": null,
       "_view_module": "@jupyter-widgets/base",
       "_view_module_version": "2.0.0",
       "_view_name": "StyleView",
       "background": null,
       "description_width": "",
       "font_size": null,
       "text_color": null
      }
     },
     "25a6ddb15af64fc8aec470a72b9703ef": {
      "model_module": "@jupyter-widgets/base",
      "model_module_version": "2.0.0",
      "model_name": "LayoutModel",
      "state": {
       "_model_module": "@jupyter-widgets/base",
       "_model_module_version": "2.0.0",
       "_model_name": "LayoutModel",
       "_view_count": null,
       "_view_module": "@jupyter-widgets/base",
       "_view_module_version": "2.0.0",
       "_view_name": "LayoutView",
       "align_content": null,
       "align_items": null,
       "align_self": null,
       "border_bottom": null,
       "border_left": null,
       "border_right": null,
       "border_top": null,
       "bottom": null,
       "display": null,
       "flex": null,
       "flex_flow": null,
       "grid_area": null,
       "grid_auto_columns": null,
       "grid_auto_flow": null,
       "grid_auto_rows": null,
       "grid_column": null,
       "grid_gap": null,
       "grid_row": null,
       "grid_template_areas": null,
       "grid_template_columns": null,
       "grid_template_rows": null,
       "height": null,
       "justify_content": null,
       "justify_items": null,
       "left": null,
       "margin": null,
       "max_height": null,
       "max_width": null,
       "min_height": null,
       "min_width": null,
       "object_fit": null,
       "object_position": null,
       "order": null,
       "overflow": null,
       "padding": null,
       "right": null,
       "top": null,
       "visibility": null,
       "width": null
      }
     },
     "2d269d9101ff4f00a074e341085c62e4": {
      "model_module": "@jupyter-widgets/controls",
      "model_module_version": "2.0.0",
      "model_name": "HBoxModel",
      "state": {
       "_dom_classes": [],
       "_model_module": "@jupyter-widgets/controls",
       "_model_module_version": "2.0.0",
       "_model_name": "HBoxModel",
       "_view_count": null,
       "_view_module": "@jupyter-widgets/controls",
       "_view_module_version": "2.0.0",
       "_view_name": "HBoxView",
       "box_style": "",
       "children": [
        "IPY_MODEL_85ad61435cc041508ae38271f9bcca9e",
        "IPY_MODEL_f4f8f8d356bc4b769f2a7d01bd123550",
        "IPY_MODEL_17cbb18b1c554c35b602c7748bc6075a"
       ],
       "layout": "IPY_MODEL_c874e06b8ca84621ace7c90e0a47eee2",
       "tabbable": null,
       "tooltip": null
      }
     },
     "35e2f1fa82694656b2614a8d789a0b0d": {
      "model_module": "@jupyter-widgets/controls",
      "model_module_version": "2.0.0",
      "model_name": "ProgressStyleModel",
      "state": {
       "_model_module": "@jupyter-widgets/controls",
       "_model_module_version": "2.0.0",
       "_model_name": "ProgressStyleModel",
       "_view_count": null,
       "_view_module": "@jupyter-widgets/base",
       "_view_module_version": "2.0.0",
       "_view_name": "StyleView",
       "bar_color": "#365c8d",
       "description_width": ""
      }
     },
     "3da4d256305445f59367c5a222f40b4f": {
      "model_module": "@jupyter-widgets/controls",
      "model_module_version": "2.0.0",
      "model_name": "ProgressStyleModel",
      "state": {
       "_model_module": "@jupyter-widgets/controls",
       "_model_module_version": "2.0.0",
       "_model_name": "ProgressStyleModel",
       "_view_count": null,
       "_view_module": "@jupyter-widgets/base",
       "_view_module_version": "2.0.0",
       "_view_name": "StyleView",
       "bar_color": null,
       "description_width": ""
      }
     },
     "3f241c6857ec486e9462efcc6a967ab0": {
      "model_module": "@jupyter-widgets/controls",
      "model_module_version": "2.0.0",
      "model_name": "FloatProgressModel",
      "state": {
       "_dom_classes": [],
       "_model_module": "@jupyter-widgets/controls",
       "_model_module_version": "2.0.0",
       "_model_name": "FloatProgressModel",
       "_view_count": null,
       "_view_module": "@jupyter-widgets/controls",
       "_view_module_version": "2.0.0",
       "_view_name": "ProgressView",
       "bar_style": "success",
       "description": "",
       "description_allow_html": false,
       "layout": "IPY_MODEL_7d7edc7503a2470c8be5490d0e3a225b",
       "max": 10.0,
       "min": 0.0,
       "orientation": "horizontal",
       "style": "IPY_MODEL_3da4d256305445f59367c5a222f40b4f",
       "tabbable": null,
       "tooltip": null,
       "value": 10.0
      }
     },
     "4a7cd2bda35b46c89ffe4ab33282eb52": {
      "model_module": "@jupyter-widgets/base",
      "model_module_version": "2.0.0",
      "model_name": "LayoutModel",
      "state": {
       "_model_module": "@jupyter-widgets/base",
       "_model_module_version": "2.0.0",
       "_model_name": "LayoutModel",
       "_view_count": null,
       "_view_module": "@jupyter-widgets/base",
       "_view_module_version": "2.0.0",
       "_view_name": "LayoutView",
       "align_content": null,
       "align_items": null,
       "align_self": null,
       "border_bottom": null,
       "border_left": null,
       "border_right": null,
       "border_top": null,
       "bottom": null,
       "display": null,
       "flex": "2",
       "flex_flow": null,
       "grid_area": null,
       "grid_auto_columns": null,
       "grid_auto_flow": null,
       "grid_auto_rows": null,
       "grid_column": null,
       "grid_gap": null,
       "grid_row": null,
       "grid_template_areas": null,
       "grid_template_columns": null,
       "grid_template_rows": null,
       "height": null,
       "justify_content": null,
       "justify_items": null,
       "left": null,
       "margin": null,
       "max_height": null,
       "max_width": null,
       "min_height": null,
       "min_width": null,
       "object_fit": null,
       "object_position": null,
       "order": null,
       "overflow": null,
       "padding": null,
       "right": null,
       "top": null,
       "visibility": null,
       "width": null
      }
     },
     "4b4bc159c5c14e088b1b46c978f0e565": {
      "model_module": "@jupyter-widgets/controls",
      "model_module_version": "2.0.0",
      "model_name": "FloatProgressModel",
      "state": {
       "_dom_classes": [],
       "_model_module": "@jupyter-widgets/controls",
       "_model_module_version": "2.0.0",
       "_model_name": "FloatProgressModel",
       "_view_count": null,
       "_view_module": "@jupyter-widgets/controls",
       "_view_module_version": "2.0.0",
       "_view_name": "ProgressView",
       "bar_style": "success",
       "description": "",
       "description_allow_html": false,
       "layout": "IPY_MODEL_e6d2d3f5ba84419c987f3cc7ddf35069",
       "max": 500.0,
       "min": 0.0,
       "orientation": "horizontal",
       "style": "IPY_MODEL_baec0a1d70c249158bb823974b0880fa",
       "tabbable": null,
       "tooltip": null,
       "value": 500.0
      }
     },
     "4b8f81dd1249494b9d062e9dc45cf9a0": {
      "model_module": "@jupyter-widgets/controls",
      "model_module_version": "2.0.0",
      "model_name": "HTMLModel",
      "state": {
       "_dom_classes": [],
       "_model_module": "@jupyter-widgets/controls",
       "_model_module_version": "2.0.0",
       "_model_name": "HTMLModel",
       "_view_count": null,
       "_view_module": "@jupyter-widgets/controls",
       "_view_module_version": "2.0.0",
       "_view_name": "HTMLView",
       "description": "",
       "description_allow_html": false,
       "layout": "IPY_MODEL_aa40951bafcf4e9ab3fcfd517d850657",
       "placeholder": "​",
       "style": "IPY_MODEL_818fa57ea4dc4e5e9d6262ca56794903",
       "tabbable": null,
       "tooltip": null,
       "value": " 11.9M/11.9M [00:09&lt;00:00, 2.34MB/s]"
      }
     },
     "4f540481e05f41b298260872efb86497": {
      "model_module": "@jupyter-widgets/controls",
      "model_module_version": "2.0.0",
      "model_name": "ProgressStyleModel",
      "state": {
       "_model_module": "@jupyter-widgets/controls",
       "_model_module_version": "2.0.0",
       "_model_name": "ProgressStyleModel",
       "_view_count": null,
       "_view_module": "@jupyter-widgets/base",
       "_view_module_version": "2.0.0",
       "_view_name": "StyleView",
       "bar_color": "#46327e",
       "description_width": ""
      }
     },
     "4f824d4112e84e0da934e1ba4c0669a4": {
      "model_module": "@jupyter-widgets/base",
      "model_module_version": "2.0.0",
      "model_name": "LayoutModel",
      "state": {
       "_model_module": "@jupyter-widgets/base",
       "_model_module_version": "2.0.0",
       "_model_name": "LayoutModel",
       "_view_count": null,
       "_view_module": "@jupyter-widgets/base",
       "_view_module_version": "2.0.0",
       "_view_name": "LayoutView",
       "align_content": null,
       "align_items": null,
       "align_self": null,
       "border_bottom": null,
       "border_left": null,
       "border_right": null,
       "border_top": null,
       "bottom": null,
       "display": "inline-flex",
       "flex": null,
       "flex_flow": "row wrap",
       "grid_area": null,
       "grid_auto_columns": null,
       "grid_auto_flow": null,
       "grid_auto_rows": null,
       "grid_column": null,
       "grid_gap": null,
       "grid_row": null,
       "grid_template_areas": null,
       "grid_template_columns": null,
       "grid_template_rows": null,
       "height": null,
       "justify_content": null,
       "justify_items": null,
       "left": null,
       "margin": null,
       "max_height": null,
       "max_width": null,
       "min_height": null,
       "min_width": null,
       "object_fit": null,
       "object_position": null,
       "order": null,
       "overflow": null,
       "padding": null,
       "right": null,
       "top": null,
       "visibility": null,
       "width": "100%"
      }
     },
     "5436738e7c86482c9c2e19d2016b5462": {
      "model_module": "@jupyter-widgets/base",
      "model_module_version": "2.0.0",
      "model_name": "LayoutModel",
      "state": {
       "_model_module": "@jupyter-widgets/base",
       "_model_module_version": "2.0.0",
       "_model_name": "LayoutModel",
       "_view_count": null,
       "_view_module": "@jupyter-widgets/base",
       "_view_module_version": "2.0.0",
       "_view_name": "LayoutView",
       "align_content": null,
       "align_items": null,
       "align_self": null,
       "border_bottom": null,
       "border_left": null,
       "border_right": null,
       "border_top": null,
       "bottom": null,
       "display": null,
       "flex": null,
       "flex_flow": null,
       "grid_area": null,
       "grid_auto_columns": null,
       "grid_auto_flow": null,
       "grid_auto_rows": null,
       "grid_column": null,
       "grid_gap": null,
       "grid_row": null,
       "grid_template_areas": null,
       "grid_template_columns": null,
       "grid_template_rows": null,
       "height": null,
       "justify_content": null,
       "justify_items": null,
       "left": null,
       "margin": null,
       "max_height": null,
       "max_width": null,
       "min_height": null,
       "min_width": null,
       "object_fit": null,
       "object_position": null,
       "order": null,
       "overflow": null,
       "padding": null,
       "right": null,
       "top": null,
       "visibility": null,
       "width": null
      }
     },
     "55ba284dbb57430e808f59fa25e14c21": {
      "model_module": "@jupyter-widgets/controls",
      "model_module_version": "2.0.0",
      "model_name": "HTMLStyleModel",
      "state": {
       "_model_module": "@jupyter-widgets/controls",
       "_model_module_version": "2.0.0",
       "_model_name": "HTMLStyleModel",
       "_view_count": null,
       "_view_module": "@jupyter-widgets/base",
       "_view_module_version": "2.0.0",
       "_view_name": "StyleView",
       "background": null,
       "description_width": "",
       "font_size": null,
       "text_color": null
      }
     },
     "57c3a18e7c3e4777944722ce3c066172": {
      "model_module": "@jupyter-widgets/controls",
      "model_module_version": "2.0.0",
      "model_name": "HTMLStyleModel",
      "state": {
       "_model_module": "@jupyter-widgets/controls",
       "_model_module_version": "2.0.0",
       "_model_name": "HTMLStyleModel",
       "_view_count": null,
       "_view_module": "@jupyter-widgets/base",
       "_view_module_version": "2.0.0",
       "_view_name": "StyleView",
       "background": null,
       "description_width": "",
       "font_size": null,
       "text_color": null
      }
     },
     "58fb20fd511d4bac97b05c91b80b656a": {
      "model_module": "@jupyter-widgets/controls",
      "model_module_version": "2.0.0",
      "model_name": "HTMLModel",
      "state": {
       "_dom_classes": [],
       "_model_module": "@jupyter-widgets/controls",
       "_model_module_version": "2.0.0",
       "_model_name": "HTMLModel",
       "_view_count": null,
       "_view_module": "@jupyter-widgets/controls",
       "_view_module_version": "2.0.0",
       "_view_name": "HTMLView",
       "description": "",
       "description_allow_html": false,
       "layout": "IPY_MODEL_5436738e7c86482c9c2e19d2016b5462",
       "placeholder": "​",
       "style": "IPY_MODEL_1dd08775f7b2413690e7619c2185ad3a",
       "tabbable": null,
       "tooltip": null,
       "value": "Profiling likelihood: 100%"
      }
     },
     "5e9dc9f4ca054e49bf86cdadbd1faba2": {
      "model_module": "@jupyter-widgets/base",
      "model_module_version": "2.0.0",
      "model_name": "LayoutModel",
      "state": {
       "_model_module": "@jupyter-widgets/base",
       "_model_module_version": "2.0.0",
       "_model_name": "LayoutModel",
       "_view_count": null,
       "_view_module": "@jupyter-widgets/base",
       "_view_module_version": "2.0.0",
       "_view_name": "LayoutView",
       "align_content": null,
       "align_items": null,
       "align_self": null,
       "border_bottom": null,
       "border_left": null,
       "border_right": null,
       "border_top": null,
       "bottom": null,
       "display": "inline-flex",
       "flex": null,
       "flex_flow": "row wrap",
       "grid_area": null,
       "grid_auto_columns": null,
       "grid_auto_flow": null,
       "grid_auto_rows": null,
       "grid_column": null,
       "grid_gap": null,
       "grid_row": null,
       "grid_template_areas": null,
       "grid_template_columns": null,
       "grid_template_rows": null,
       "height": null,
       "justify_content": null,
       "justify_items": null,
       "left": null,
       "margin": null,
       "max_height": null,
       "max_width": null,
       "min_height": null,
       "min_width": null,
       "object_fit": null,
       "object_position": null,
       "order": null,
       "overflow": null,
       "padding": null,
       "right": null,
       "top": null,
       "visibility": null,
       "width": "100%"
      }
     },
     "629851093c9f43f295200e5c6b763587": {
      "model_module": "@jupyter-widgets/controls",
      "model_module_version": "2.0.0",
      "model_name": "HTMLModel",
      "state": {
       "_dom_classes": [],
       "_model_module": "@jupyter-widgets/controls",
       "_model_module_version": "2.0.0",
       "_model_name": "HTMLModel",
       "_view_count": null,
       "_view_module": "@jupyter-widgets/controls",
       "_view_module_version": "2.0.0",
       "_view_name": "HTMLView",
       "description": "",
       "description_allow_html": false,
       "layout": "IPY_MODEL_677afc3120ec46059e1b19e45872fa50",
       "placeholder": "​",
       "style": "IPY_MODEL_55ba284dbb57430e808f59fa25e14c21",
       "tabbable": null,
       "tooltip": null,
       "value": " 16.3M/16.3M [00:07&lt;00:00, 2.47MB/s]"
      }
     },
     "632a5526d59d4b4aa7781d3d8cb1df27": {
      "model_module": "@jupyter-widgets/base",
      "model_module_version": "2.0.0",
      "model_name": "LayoutModel",
      "state": {
       "_model_module": "@jupyter-widgets/base",
       "_model_module_version": "2.0.0",
       "_model_name": "LayoutModel",
       "_view_count": null,
       "_view_module": "@jupyter-widgets/base",
       "_view_module_version": "2.0.0",
       "_view_name": "LayoutView",
       "align_content": null,
       "align_items": null,
       "align_self": null,
       "border_bottom": null,
       "border_left": null,
       "border_right": null,
       "border_top": null,
       "bottom": null,
       "display": null,
       "flex": null,
       "flex_flow": null,
       "grid_area": null,
       "grid_auto_columns": null,
       "grid_auto_flow": null,
       "grid_auto_rows": null,
       "grid_column": null,
       "grid_gap": null,
       "grid_row": null,
       "grid_template_areas": null,
       "grid_template_columns": null,
       "grid_template_rows": null,
       "height": null,
       "justify_content": null,
       "justify_items": null,
       "left": null,
       "margin": null,
       "max_height": null,
       "max_width": null,
       "min_height": null,
       "min_width": null,
       "object_fit": null,
       "object_position": null,
       "order": null,
       "overflow": null,
       "padding": null,
       "right": null,
       "top": null,
       "visibility": null,
       "width": null
      }
     },
     "63fca5a68a08492a9405b5fb2d7e5e6f": {
      "model_module": "@jupyter-widgets/base",
      "model_module_version": "2.0.0",
      "model_name": "LayoutModel",
      "state": {
       "_model_module": "@jupyter-widgets/base",
       "_model_module_version": "2.0.0",
       "_model_name": "LayoutModel",
       "_view_count": null,
       "_view_module": "@jupyter-widgets/base",
       "_view_module_version": "2.0.0",
       "_view_name": "LayoutView",
       "align_content": null,
       "align_items": null,
       "align_self": null,
       "border_bottom": null,
       "border_left": null,
       "border_right": null,
       "border_top": null,
       "bottom": null,
       "display": null,
       "flex": null,
       "flex_flow": null,
       "grid_area": null,
       "grid_auto_columns": null,
       "grid_auto_flow": null,
       "grid_auto_rows": null,
       "grid_column": null,
       "grid_gap": null,
       "grid_row": null,
       "grid_template_areas": null,
       "grid_template_columns": null,
       "grid_template_rows": null,
       "height": null,
       "justify_content": null,
       "justify_items": null,
       "left": null,
       "margin": null,
       "max_height": null,
       "max_width": null,
       "min_height": null,
       "min_width": null,
       "object_fit": null,
       "object_position": null,
       "order": null,
       "overflow": null,
       "padding": null,
       "right": null,
       "top": null,
       "visibility": null,
       "width": null
      }
     },
     "640242a37d934d3483c759cc114e7047": {
      "model_module": "@jupyter-widgets/controls",
      "model_module_version": "2.0.0",
      "model_name": "FloatProgressModel",
      "state": {
       "_dom_classes": [],
       "_model_module": "@jupyter-widgets/controls",
       "_model_module_version": "2.0.0",
       "_model_name": "FloatProgressModel",
       "_view_count": null,
       "_view_module": "@jupyter-widgets/controls",
       "_view_module_version": "2.0.0",
       "_view_name": "ProgressView",
       "bar_style": "success",
       "description": "",
       "description_allow_html": false,
       "layout": "IPY_MODEL_ed25fba3de6045bf88cb7784c3f3f234",
       "max": 12427200.0,
       "min": 0.0,
       "orientation": "horizontal",
       "style": "IPY_MODEL_73bb322e0c28405894461749a0e5ed90",
       "tabbable": null,
       "tooltip": null,
       "value": 12427200.0
      }
     },
     "6540b7b56f414fa98a37e6f43eaa39c5": {
      "model_module": "@jupyter-widgets/base",
      "model_module_version": "2.0.0",
      "model_name": "LayoutModel",
      "state": {
       "_model_module": "@jupyter-widgets/base",
       "_model_module_version": "2.0.0",
       "_model_name": "LayoutModel",
       "_view_count": null,
       "_view_module": "@jupyter-widgets/base",
       "_view_module_version": "2.0.0",
       "_view_name": "LayoutView",
       "align_content": null,
       "align_items": null,
       "align_self": null,
       "border_bottom": null,
       "border_left": null,
       "border_right": null,
       "border_top": null,
       "bottom": null,
       "display": null,
       "flex": null,
       "flex_flow": null,
       "grid_area": null,
       "grid_auto_columns": null,
       "grid_auto_flow": null,
       "grid_auto_rows": null,
       "grid_column": null,
       "grid_gap": null,
       "grid_row": null,
       "grid_template_areas": null,
       "grid_template_columns": null,
       "grid_template_rows": null,
       "height": null,
       "justify_content": null,
       "justify_items": null,
       "left": null,
       "margin": null,
       "max_height": null,
       "max_width": null,
       "min_height": null,
       "min_width": null,
       "object_fit": null,
       "object_position": null,
       "order": null,
       "overflow": null,
       "padding": null,
       "right": null,
       "top": null,
       "visibility": null,
       "width": null
      }
     },
     "677afc3120ec46059e1b19e45872fa50": {
      "model_module": "@jupyter-widgets/base",
      "model_module_version": "2.0.0",
      "model_name": "LayoutModel",
      "state": {
       "_model_module": "@jupyter-widgets/base",
       "_model_module_version": "2.0.0",
       "_model_name": "LayoutModel",
       "_view_count": null,
       "_view_module": "@jupyter-widgets/base",
       "_view_module_version": "2.0.0",
       "_view_name": "LayoutView",
       "align_content": null,
       "align_items": null,
       "align_self": null,
       "border_bottom": null,
       "border_left": null,
       "border_right": null,
       "border_top": null,
       "bottom": null,
       "display": null,
       "flex": null,
       "flex_flow": null,
       "grid_area": null,
       "grid_auto_columns": null,
       "grid_auto_flow": null,
       "grid_auto_rows": null,
       "grid_column": null,
       "grid_gap": null,
       "grid_row": null,
       "grid_template_areas": null,
       "grid_template_columns": null,
       "grid_template_rows": null,
       "height": null,
       "justify_content": null,
       "justify_items": null,
       "left": null,
       "margin": null,
       "max_height": null,
       "max_width": null,
       "min_height": null,
       "min_width": null,
       "object_fit": null,
       "object_position": null,
       "order": null,
       "overflow": null,
       "padding": null,
       "right": null,
       "top": null,
       "visibility": null,
       "width": null
      }
     },
     "6ed9b43861cd4f17a9aba582f082fddf": {
      "model_module": "@jupyter-widgets/controls",
      "model_module_version": "2.0.0",
      "model_name": "HTMLStyleModel",
      "state": {
       "_model_module": "@jupyter-widgets/controls",
       "_model_module_version": "2.0.0",
       "_model_name": "HTMLStyleModel",
       "_view_count": null,
       "_view_module": "@jupyter-widgets/base",
       "_view_module_version": "2.0.0",
       "_view_name": "StyleView",
       "background": null,
       "description_width": "",
       "font_size": null,
       "text_color": null
      }
     },
     "73bb322e0c28405894461749a0e5ed90": {
      "model_module": "@jupyter-widgets/controls",
      "model_module_version": "2.0.0",
      "model_name": "ProgressStyleModel",
      "state": {
       "_model_module": "@jupyter-widgets/controls",
       "_model_module_version": "2.0.0",
       "_model_name": "ProgressStyleModel",
       "_view_count": null,
       "_view_module": "@jupyter-widgets/base",
       "_view_module_version": "2.0.0",
       "_view_name": "StyleView",
       "bar_color": "#440154",
       "description_width": ""
      }
     },
     "79c3f30ecdec467ca212ae3fbc18632b": {
      "model_module": "@jupyter-widgets/controls",
      "model_module_version": "2.0.0",
      "model_name": "FloatProgressModel",
      "state": {
       "_dom_classes": [],
       "_model_module": "@jupyter-widgets/controls",
       "_model_module_version": "2.0.0",
       "_model_name": "FloatProgressModel",
       "_view_count": null,
       "_view_module": "@jupyter-widgets/controls",
       "_view_module_version": "2.0.0",
       "_view_name": "ProgressView",
       "bar_style": "success",
       "description": "",
       "description_allow_html": false,
       "layout": "IPY_MODEL_eee7fe84759e400b9475addf9abb5d36",
       "max": 400.0,
       "min": 0.0,
       "orientation": "horizontal",
       "style": "IPY_MODEL_c5da00e9ae6b4b3ea7388c889a4ed636",
       "tabbable": null,
       "tooltip": null,
       "value": 400.0
      }
     },
     "7d2379211c2d45db9b769a52959e4009": {
      "model_module": "@jupyter-widgets/base",
      "model_module_version": "2.0.0",
      "model_name": "LayoutModel",
      "state": {
       "_model_module": "@jupyter-widgets/base",
       "_model_module_version": "2.0.0",
       "_model_name": "LayoutModel",
       "_view_count": null,
       "_view_module": "@jupyter-widgets/base",
       "_view_module_version": "2.0.0",
       "_view_name": "LayoutView",
       "align_content": null,
       "align_items": null,
       "align_self": null,
       "border_bottom": null,
       "border_left": null,
       "border_right": null,
       "border_top": null,
       "bottom": null,
       "display": null,
       "flex": null,
       "flex_flow": null,
       "grid_area": null,
       "grid_auto_columns": null,
       "grid_auto_flow": null,
       "grid_auto_rows": null,
       "grid_column": null,
       "grid_gap": null,
       "grid_row": null,
       "grid_template_areas": null,
       "grid_template_columns": null,
       "grid_template_rows": null,
       "height": null,
       "justify_content": null,
       "justify_items": null,
       "left": null,
       "margin": null,
       "max_height": null,
       "max_width": null,
       "min_height": null,
       "min_width": null,
       "object_fit": null,
       "object_position": null,
       "order": null,
       "overflow": null,
       "padding": null,
       "right": null,
       "top": null,
       "visibility": null,
       "width": null
      }
     },
     "7d7edc7503a2470c8be5490d0e3a225b": {
      "model_module": "@jupyter-widgets/base",
      "model_module_version": "2.0.0",
      "model_name": "LayoutModel",
      "state": {
       "_model_module": "@jupyter-widgets/base",
       "_model_module_version": "2.0.0",
       "_model_name": "LayoutModel",
       "_view_count": null,
       "_view_module": "@jupyter-widgets/base",
       "_view_module_version": "2.0.0",
       "_view_name": "LayoutView",
       "align_content": null,
       "align_items": null,
       "align_self": null,
       "border_bottom": null,
       "border_left": null,
       "border_right": null,
       "border_top": null,
       "bottom": null,
       "display": null,
       "flex": null,
       "flex_flow": null,
       "grid_area": null,
       "grid_auto_columns": null,
       "grid_auto_flow": null,
       "grid_auto_rows": null,
       "grid_column": null,
       "grid_gap": null,
       "grid_row": null,
       "grid_template_areas": null,
       "grid_template_columns": null,
       "grid_template_rows": null,
       "height": null,
       "justify_content": null,
       "justify_items": null,
       "left": null,
       "margin": null,
       "max_height": null,
       "max_width": null,
       "min_height": null,
       "min_width": null,
       "object_fit": null,
       "object_position": null,
       "order": null,
       "overflow": null,
       "padding": null,
       "right": null,
       "top": null,
       "visibility": null,
       "width": null
      }
     },
     "818fa57ea4dc4e5e9d6262ca56794903": {
      "model_module": "@jupyter-widgets/controls",
      "model_module_version": "2.0.0",
      "model_name": "HTMLStyleModel",
      "state": {
       "_model_module": "@jupyter-widgets/controls",
       "_model_module_version": "2.0.0",
       "_model_name": "HTMLStyleModel",
       "_view_count": null,
       "_view_module": "@jupyter-widgets/base",
       "_view_module_version": "2.0.0",
       "_view_name": "StyleView",
       "background": null,
       "description_width": "",
       "font_size": null,
       "text_color": null
      }
     },
     "85ad61435cc041508ae38271f9bcca9e": {
      "model_module": "@jupyter-widgets/controls",
      "model_module_version": "2.0.0",
      "model_name": "HTMLModel",
      "state": {
       "_dom_classes": [],
       "_model_module": "@jupyter-widgets/controls",
       "_model_module_version": "2.0.0",
       "_model_name": "HTMLModel",
       "_view_count": null,
       "_view_module": "@jupyter-widgets/controls",
       "_view_module_version": "2.0.0",
       "_view_name": "HTMLView",
       "description": "",
       "description_allow_html": false,
       "layout": "IPY_MODEL_b45b162e53c24d50a4dc700bce765276",
       "placeholder": "​",
       "style": "IPY_MODEL_24b1198449064a51a9b9b67e41df70ad",
       "tabbable": null,
       "tooltip": null,
       "value": "Profiling likelihood: 100%"
      }
     },
     "975bc36869fd44f0a2eebcc006734ee5": {
      "model_module": "@jupyter-widgets/controls",
      "model_module_version": "2.0.0",
      "model_name": "HTMLModel",
      "state": {
       "_dom_classes": [],
       "_model_module": "@jupyter-widgets/controls",
       "_model_module_version": "2.0.0",
       "_model_name": "HTMLModel",
       "_view_count": null,
       "_view_module": "@jupyter-widgets/controls",
       "_view_module_version": "2.0.0",
       "_view_name": "HTMLView",
       "description": "",
       "description_allow_html": false,
       "layout": "IPY_MODEL_632a5526d59d4b4aa7781d3d8cb1df27",
       "placeholder": "​",
       "style": "IPY_MODEL_ee576797bc4b4fbe8a5fdcc908148828",
       "tabbable": null,
       "tooltip": null,
       "value": "Downloading L250205185052F2968AF272_PH00.fits: 100%"
      }
     },
     "a721d8c95b9c4cdca75c069847e945a2": {
      "model_module": "@jupyter-widgets/base",
      "model_module_version": "2.0.0",
      "model_name": "LayoutModel",
      "state": {
       "_model_module": "@jupyter-widgets/base",
       "_model_module_version": "2.0.0",
       "_model_name": "LayoutModel",
       "_view_count": null,
       "_view_module": "@jupyter-widgets/base",
       "_view_module_version": "2.0.0",
       "_view_name": "LayoutView",
       "align_content": null,
       "align_items": null,
       "align_self": null,
       "border_bottom": null,
       "border_left": null,
       "border_right": null,
       "border_top": null,
       "bottom": null,
       "display": "inline-flex",
       "flex": null,
       "flex_flow": "row wrap",
       "grid_area": null,
       "grid_auto_columns": null,
       "grid_auto_flow": null,
       "grid_auto_rows": null,
       "grid_column": null,
       "grid_gap": null,
       "grid_row": null,
       "grid_template_areas": null,
       "grid_template_columns": null,
       "grid_template_rows": null,
       "height": null,
       "justify_content": null,
       "justify_items": null,
       "left": null,
       "margin": null,
       "max_height": null,
       "max_width": null,
       "min_height": null,
       "min_width": null,
       "object_fit": null,
       "object_position": null,
       "order": null,
       "overflow": null,
       "padding": null,
       "right": null,
       "top": null,
       "visibility": null,
       "width": "100%"
      }
     },
     "aa40951bafcf4e9ab3fcfd517d850657": {
      "model_module": "@jupyter-widgets/base",
      "model_module_version": "2.0.0",
      "model_name": "LayoutModel",
      "state": {
       "_model_module": "@jupyter-widgets/base",
       "_model_module_version": "2.0.0",
       "_model_name": "LayoutModel",
       "_view_count": null,
       "_view_module": "@jupyter-widgets/base",
       "_view_module_version": "2.0.0",
       "_view_name": "LayoutView",
       "align_content": null,
       "align_items": null,
       "align_self": null,
       "border_bottom": null,
       "border_left": null,
       "border_right": null,
       "border_top": null,
       "bottom": null,
       "display": null,
       "flex": null,
       "flex_flow": null,
       "grid_area": null,
       "grid_auto_columns": null,
       "grid_auto_flow": null,
       "grid_auto_rows": null,
       "grid_column": null,
       "grid_gap": null,
       "grid_row": null,
       "grid_template_areas": null,
       "grid_template_columns": null,
       "grid_template_rows": null,
       "height": null,
       "justify_content": null,
       "justify_items": null,
       "left": null,
       "margin": null,
       "max_height": null,
       "max_width": null,
       "min_height": null,
       "min_width": null,
       "object_fit": null,
       "object_position": null,
       "order": null,
       "overflow": null,
       "padding": null,
       "right": null,
       "top": null,
       "visibility": null,
       "width": null
      }
     },
     "b22f977ac0124d2c88999408a8556fb4": {
      "model_module": "@jupyter-widgets/controls",
      "model_module_version": "2.0.0",
      "model_name": "HBoxModel",
      "state": {
       "_dom_classes": [],
       "_model_module": "@jupyter-widgets/controls",
       "_model_module_version": "2.0.0",
       "_model_name": "HBoxModel",
       "_view_count": null,
       "_view_module": "@jupyter-widgets/controls",
       "_view_module_version": "2.0.0",
       "_view_name": "HBoxView",
       "box_style": "",
       "children": [
        "IPY_MODEL_1f6b67d05122433689af2992949c9d6b",
        "IPY_MODEL_3f241c6857ec486e9462efcc6a967ab0",
        "IPY_MODEL_c2a98bb847e041d9a96c6209077b9e52"
       ],
       "layout": "IPY_MODEL_cfb2ce1a994d4e43b43b6a7ff7ab9171",
       "tabbable": null,
       "tooltip": null
      }
     },
     "b45b162e53c24d50a4dc700bce765276": {
      "model_module": "@jupyter-widgets/base",
      "model_module_version": "2.0.0",
      "model_name": "LayoutModel",
      "state": {
       "_model_module": "@jupyter-widgets/base",
       "_model_module_version": "2.0.0",
       "_model_name": "LayoutModel",
       "_view_count": null,
       "_view_module": "@jupyter-widgets/base",
       "_view_module_version": "2.0.0",
       "_view_name": "LayoutView",
       "align_content": null,
       "align_items": null,
       "align_self": null,
       "border_bottom": null,
       "border_left": null,
       "border_right": null,
       "border_top": null,
       "bottom": null,
       "display": null,
       "flex": null,
       "flex_flow": null,
       "grid_area": null,
       "grid_auto_columns": null,
       "grid_auto_flow": null,
       "grid_auto_rows": null,
       "grid_column": null,
       "grid_gap": null,
       "grid_row": null,
       "grid_template_areas": null,
       "grid_template_columns": null,
       "grid_template_rows": null,
       "height": null,
       "justify_content": null,
       "justify_items": null,
       "left": null,
       "margin": null,
       "max_height": null,
       "max_width": null,
       "min_height": null,
       "min_width": null,
       "object_fit": null,
       "object_position": null,
       "order": null,
       "overflow": null,
       "padding": null,
       "right": null,
       "top": null,
       "visibility": null,
       "width": null
      }
     },
     "b56f7c8d73474acf9d7be903c3e7465b": {
      "model_module": "@jupyter-widgets/controls",
      "model_module_version": "2.0.0",
      "model_name": "HTMLModel",
      "state": {
       "_dom_classes": [],
       "_model_module": "@jupyter-widgets/controls",
       "_model_module_version": "2.0.0",
       "_model_name": "HTMLModel",
       "_view_count": null,
       "_view_module": "@jupyter-widgets/controls",
       "_view_module_version": "2.0.0",
       "_view_name": "HTMLView",
       "description": "",
       "description_allow_html": false,
       "layout": "IPY_MODEL_25a6ddb15af64fc8aec470a72b9703ef",
       "placeholder": "​",
       "style": "IPY_MODEL_bbec274547174f2ca0cb96ad76be43db",
       "tabbable": null,
       "tooltip": null,
       "value": " 500/500 [05:43&lt;00:00,  1.70it/s]"
      }
     },
     "b79b5c851adb45ab81d5c7be6c29cfe2": {
      "model_module": "@jupyter-widgets/controls",
      "model_module_version": "2.0.0",
      "model_name": "HBoxModel",
      "state": {
       "_dom_classes": [],
       "_model_module": "@jupyter-widgets/controls",
       "_model_module_version": "2.0.0",
       "_model_name": "HBoxModel",
       "_view_count": null,
       "_view_module": "@jupyter-widgets/controls",
       "_view_module_version": "2.0.0",
       "_view_name": "HBoxView",
       "box_style": "",
       "children": [
        "IPY_MODEL_154bf671226a49fbb478d3e313ba5d66",
        "IPY_MODEL_4b4bc159c5c14e088b1b46c978f0e565",
        "IPY_MODEL_b56f7c8d73474acf9d7be903c3e7465b"
       ],
       "layout": "IPY_MODEL_0da4c16128924cb5b0813cd50abadfd4",
       "tabbable": null,
       "tooltip": null
      }
     },
     "baec0a1d70c249158bb823974b0880fa": {
      "model_module": "@jupyter-widgets/controls",
      "model_module_version": "2.0.0",
      "model_name": "ProgressStyleModel",
      "state": {
       "_model_module": "@jupyter-widgets/controls",
       "_model_module_version": "2.0.0",
       "_model_name": "ProgressStyleModel",
       "_view_count": null,
       "_view_module": "@jupyter-widgets/base",
       "_view_module_version": "2.0.0",
       "_view_name": "StyleView",
       "bar_color": null,
       "description_width": ""
      }
     },
     "bbec274547174f2ca0cb96ad76be43db": {
      "model_module": "@jupyter-widgets/controls",
      "model_module_version": "2.0.0",
      "model_name": "HTMLStyleModel",
      "state": {
       "_model_module": "@jupyter-widgets/controls",
       "_model_module_version": "2.0.0",
       "_model_name": "HTMLStyleModel",
       "_view_count": null,
       "_view_module": "@jupyter-widgets/base",
       "_view_module_version": "2.0.0",
       "_view_name": "StyleView",
       "background": null,
       "description_width": "",
       "font_size": null,
       "text_color": null
      }
     },
     "bbeee1b3bd824c69aa6a3b977da72a48": {
      "model_module": "@jupyter-widgets/controls",
      "model_module_version": "2.0.0",
      "model_name": "HTMLStyleModel",
      "state": {
       "_model_module": "@jupyter-widgets/controls",
       "_model_module_version": "2.0.0",
       "_model_name": "HTMLStyleModel",
       "_view_count": null,
       "_view_module": "@jupyter-widgets/base",
       "_view_module_version": "2.0.0",
       "_view_name": "StyleView",
       "background": null,
       "description_width": "",
       "font_size": null,
       "text_color": null
      }
     },
     "c2a98bb847e041d9a96c6209077b9e52": {
      "model_module": "@jupyter-widgets/controls",
      "model_module_version": "2.0.0",
      "model_name": "HTMLModel",
      "state": {
       "_dom_classes": [],
       "_model_module": "@jupyter-widgets/controls",
       "_model_module_version": "2.0.0",
       "_model_name": "HTMLModel",
       "_view_count": null,
       "_view_module": "@jupyter-widgets/controls",
       "_view_module_version": "2.0.0",
       "_view_name": "HTMLView",
       "description": "",
       "description_allow_html": false,
       "layout": "IPY_MODEL_065b6c4e1ffd44c786e9adeb97e89057",
       "placeholder": "​",
       "style": "IPY_MODEL_bbeee1b3bd824c69aa6a3b977da72a48",
       "tabbable": null,
       "tooltip": null,
       "value": " 10/10 [00:07&lt;00:00,  1.29it/s]"
      }
     },
     "c5da00e9ae6b4b3ea7388c889a4ed636": {
      "model_module": "@jupyter-widgets/controls",
      "model_module_version": "2.0.0",
      "model_name": "ProgressStyleModel",
      "state": {
       "_model_module": "@jupyter-widgets/controls",
       "_model_module_version": "2.0.0",
       "_model_name": "ProgressStyleModel",
       "_view_count": null,
       "_view_module": "@jupyter-widgets/base",
       "_view_module_version": "2.0.0",
       "_view_name": "StyleView",
       "bar_color": "#277f8e",
       "description_width": ""
      }
     },
     "c874e06b8ca84621ace7c90e0a47eee2": {
      "model_module": "@jupyter-widgets/base",
      "model_module_version": "2.0.0",
      "model_name": "LayoutModel",
      "state": {
       "_model_module": "@jupyter-widgets/base",
       "_model_module_version": "2.0.0",
       "_model_name": "LayoutModel",
       "_view_count": null,
       "_view_module": "@jupyter-widgets/base",
       "_view_module_version": "2.0.0",
       "_view_name": "LayoutView",
       "align_content": null,
       "align_items": null,
       "align_self": null,
       "border_bottom": null,
       "border_left": null,
       "border_right": null,
       "border_top": null,
       "bottom": null,
       "display": "inline-flex",
       "flex": null,
       "flex_flow": "row wrap",
       "grid_area": null,
       "grid_auto_columns": null,
       "grid_auto_flow": null,
       "grid_auto_rows": null,
       "grid_column": null,
       "grid_gap": null,
       "grid_row": null,
       "grid_template_areas": null,
       "grid_template_columns": null,
       "grid_template_rows": null,
       "height": null,
       "justify_content": null,
       "justify_items": null,
       "left": null,
       "margin": null,
       "max_height": null,
       "max_width": null,
       "min_height": null,
       "min_width": null,
       "object_fit": null,
       "object_position": null,
       "order": null,
       "overflow": null,
       "padding": null,
       "right": null,
       "top": null,
       "visibility": null,
       "width": "100%"
      }
     },
     "cfb2ce1a994d4e43b43b6a7ff7ab9171": {
      "model_module": "@jupyter-widgets/base",
      "model_module_version": "2.0.0",
      "model_name": "LayoutModel",
      "state": {
       "_model_module": "@jupyter-widgets/base",
       "_model_module_version": "2.0.0",
       "_model_name": "LayoutModel",
       "_view_count": null,
       "_view_module": "@jupyter-widgets/base",
       "_view_module_version": "2.0.0",
       "_view_name": "LayoutView",
       "align_content": null,
       "align_items": null,
       "align_self": null,
       "border_bottom": null,
       "border_left": null,
       "border_right": null,
       "border_top": null,
       "bottom": null,
       "display": null,
       "flex": null,
       "flex_flow": null,
       "grid_area": null,
       "grid_auto_columns": null,
       "grid_auto_flow": null,
       "grid_auto_rows": null,
       "grid_column": null,
       "grid_gap": null,
       "grid_row": null,
       "grid_template_areas": null,
       "grid_template_columns": null,
       "grid_template_rows": null,
       "height": null,
       "justify_content": null,
       "justify_items": null,
       "left": null,
       "margin": null,
       "max_height": null,
       "max_width": null,
       "min_height": null,
       "min_width": null,
       "object_fit": null,
       "object_position": null,
       "order": null,
       "overflow": null,
       "padding": null,
       "right": null,
       "top": null,
       "visibility": null,
       "width": null
      }
     },
     "d065b9c23e754c34894b2dc14a24a88f": {
      "model_module": "@jupyter-widgets/base",
      "model_module_version": "2.0.0",
      "model_name": "LayoutModel",
      "state": {
       "_model_module": "@jupyter-widgets/base",
       "_model_module_version": "2.0.0",
       "_model_name": "LayoutModel",
       "_view_count": null,
       "_view_module": "@jupyter-widgets/base",
       "_view_module_version": "2.0.0",
       "_view_name": "LayoutView",
       "align_content": null,
       "align_items": null,
       "align_self": null,
       "border_bottom": null,
       "border_left": null,
       "border_right": null,
       "border_top": null,
       "bottom": null,
       "display": null,
       "flex": "2",
       "flex_flow": null,
       "grid_area": null,
       "grid_auto_columns": null,
       "grid_auto_flow": null,
       "grid_auto_rows": null,
       "grid_column": null,
       "grid_gap": null,
       "grid_row": null,
       "grid_template_areas": null,
       "grid_template_columns": null,
       "grid_template_rows": null,
       "height": null,
       "justify_content": null,
       "justify_items": null,
       "left": null,
       "margin": null,
       "max_height": null,
       "max_width": null,
       "min_height": null,
       "min_width": null,
       "object_fit": null,
       "object_position": null,
       "order": null,
       "overflow": null,
       "padding": null,
       "right": null,
       "top": null,
       "visibility": null,
       "width": null
      }
     },
     "d719e4040d984da1bebce3823e280054": {
      "model_module": "@jupyter-widgets/base",
      "model_module_version": "2.0.0",
      "model_name": "LayoutModel",
      "state": {
       "_model_module": "@jupyter-widgets/base",
       "_model_module_version": "2.0.0",
       "_model_name": "LayoutModel",
       "_view_count": null,
       "_view_module": "@jupyter-widgets/base",
       "_view_module_version": "2.0.0",
       "_view_name": "LayoutView",
       "align_content": null,
       "align_items": null,
       "align_self": null,
       "border_bottom": null,
       "border_left": null,
       "border_right": null,
       "border_top": null,
       "bottom": null,
       "display": null,
       "flex": null,
       "flex_flow": null,
       "grid_area": null,
       "grid_auto_columns": null,
       "grid_auto_flow": null,
       "grid_auto_rows": null,
       "grid_column": null,
       "grid_gap": null,
       "grid_row": null,
       "grid_template_areas": null,
       "grid_template_columns": null,
       "grid_template_rows": null,
       "height": null,
       "justify_content": null,
       "justify_items": null,
       "left": null,
       "margin": null,
       "max_height": null,
       "max_width": null,
       "min_height": null,
       "min_width": null,
       "object_fit": null,
       "object_position": null,
       "order": null,
       "overflow": null,
       "padding": null,
       "right": null,
       "top": null,
       "visibility": null,
       "width": null
      }
     },
     "e6d2d3f5ba84419c987f3cc7ddf35069": {
      "model_module": "@jupyter-widgets/base",
      "model_module_version": "2.0.0",
      "model_name": "LayoutModel",
      "state": {
       "_model_module": "@jupyter-widgets/base",
       "_model_module_version": "2.0.0",
       "_model_name": "LayoutModel",
       "_view_count": null,
       "_view_module": "@jupyter-widgets/base",
       "_view_module_version": "2.0.0",
       "_view_name": "LayoutView",
       "align_content": null,
       "align_items": null,
       "align_self": null,
       "border_bottom": null,
       "border_left": null,
       "border_right": null,
       "border_top": null,
       "bottom": null,
       "display": null,
       "flex": null,
       "flex_flow": null,
       "grid_area": null,
       "grid_auto_columns": null,
       "grid_auto_flow": null,
       "grid_auto_rows": null,
       "grid_column": null,
       "grid_gap": null,
       "grid_row": null,
       "grid_template_areas": null,
       "grid_template_columns": null,
       "grid_template_rows": null,
       "height": null,
       "justify_content": null,
       "justify_items": null,
       "left": null,
       "margin": null,
       "max_height": null,
       "max_width": null,
       "min_height": null,
       "min_width": null,
       "object_fit": null,
       "object_position": null,
       "order": null,
       "overflow": null,
       "padding": null,
       "right": null,
       "top": null,
       "visibility": null,
       "width": null
      }
     },
     "e90f1ded9e8043e196809ea4c8254183": {
      "model_module": "@jupyter-widgets/controls",
      "model_module_version": "2.0.0",
      "model_name": "HBoxModel",
      "state": {
       "_dom_classes": [],
       "_model_module": "@jupyter-widgets/controls",
       "_model_module_version": "2.0.0",
       "_model_name": "HBoxModel",
       "_view_count": null,
       "_view_module": "@jupyter-widgets/controls",
       "_view_module_version": "2.0.0",
       "_view_name": "HBoxView",
       "box_style": "",
       "children": [
        "IPY_MODEL_975bc36869fd44f0a2eebcc006734ee5",
        "IPY_MODEL_1a4fcef51d2542039f8c4e69bcd95973",
        "IPY_MODEL_629851093c9f43f295200e5c6b763587"
       ],
       "layout": "IPY_MODEL_a721d8c95b9c4cdca75c069847e945a2",
       "tabbable": null,
       "tooltip": null
      }
     },
     "e92dd1cd88f744f2a0aa04f0924af18e": {
      "model_module": "@jupyter-widgets/controls",
      "model_module_version": "2.0.0",
      "model_name": "HTMLModel",
      "state": {
       "_dom_classes": [],
       "_model_module": "@jupyter-widgets/controls",
       "_model_module_version": "2.0.0",
       "_model_name": "HTMLModel",
       "_view_count": null,
       "_view_module": "@jupyter-widgets/controls",
       "_view_module_version": "2.0.0",
       "_view_name": "HTMLView",
       "description": "",
       "description_allow_html": false,
       "layout": "IPY_MODEL_ee47713f535a4c138d36d0653f0ce47b",
       "placeholder": "​",
       "style": "IPY_MODEL_6ed9b43861cd4f17a9aba582f082fddf",
       "tabbable": null,
       "tooltip": null,
       "value": "Downloading L250205185052F2968AF272_SC00.fits: 100%"
      }
     },
     "ed25fba3de6045bf88cb7784c3f3f234": {
      "model_module": "@jupyter-widgets/base",
      "model_module_version": "2.0.0",
      "model_name": "LayoutModel",
      "state": {
       "_model_module": "@jupyter-widgets/base",
       "_model_module_version": "2.0.0",
       "_model_name": "LayoutModel",
       "_view_count": null,
       "_view_module": "@jupyter-widgets/base",
       "_view_module_version": "2.0.0",
       "_view_name": "LayoutView",
       "align_content": null,
       "align_items": null,
       "align_self": null,
       "border_bottom": null,
       "border_left": null,
       "border_right": null,
       "border_top": null,
       "bottom": null,
       "display": null,
       "flex": "2",
       "flex_flow": null,
       "grid_area": null,
       "grid_auto_columns": null,
       "grid_auto_flow": null,
       "grid_auto_rows": null,
       "grid_column": null,
       "grid_gap": null,
       "grid_row": null,
       "grid_template_areas": null,
       "grid_template_columns": null,
       "grid_template_rows": null,
       "height": null,
       "justify_content": null,
       "justify_items": null,
       "left": null,
       "margin": null,
       "max_height": null,
       "max_width": null,
       "min_height": null,
       "min_width": null,
       "object_fit": null,
       "object_position": null,
       "order": null,
       "overflow": null,
       "padding": null,
       "right": null,
       "top": null,
       "visibility": null,
       "width": null
      }
     },
     "edd2551348b747cc9c53c3ce36190bad": {
      "model_module": "@jupyter-widgets/controls",
      "model_module_version": "2.0.0",
      "model_name": "HTMLStyleModel",
      "state": {
       "_model_module": "@jupyter-widgets/controls",
       "_model_module_version": "2.0.0",
       "_model_name": "HTMLStyleModel",
       "_view_count": null,
       "_view_module": "@jupyter-widgets/base",
       "_view_module_version": "2.0.0",
       "_view_name": "StyleView",
       "background": null,
       "description_width": "",
       "font_size": null,
       "text_color": null
      }
     },
     "ede40e161a354d9fb2097379edac304d": {
      "model_module": "@jupyter-widgets/controls",
      "model_module_version": "2.0.0",
      "model_name": "HTMLModel",
      "state": {
       "_dom_classes": [],
       "_model_module": "@jupyter-widgets/controls",
       "_model_module_version": "2.0.0",
       "_model_name": "HTMLModel",
       "_view_count": null,
       "_view_module": "@jupyter-widgets/controls",
       "_view_module_version": "2.0.0",
       "_view_name": "HTMLView",
       "description": "",
       "description_allow_html": false,
       "layout": "IPY_MODEL_63fca5a68a08492a9405b5fb2d7e5e6f",
       "placeholder": "​",
       "style": "IPY_MODEL_fe51db51235a48798d7c5e4d3fd3a2ed",
       "tabbable": null,
       "tooltip": null,
       "value": " 400/400 [40:55&lt;00:00,  4.08s/it]"
      }
     },
     "ee47713f535a4c138d36d0653f0ce47b": {
      "model_module": "@jupyter-widgets/base",
      "model_module_version": "2.0.0",
      "model_name": "LayoutModel",
      "state": {
       "_model_module": "@jupyter-widgets/base",
       "_model_module_version": "2.0.0",
       "_model_name": "LayoutModel",
       "_view_count": null,
       "_view_module": "@jupyter-widgets/base",
       "_view_module_version": "2.0.0",
       "_view_name": "LayoutView",
       "align_content": null,
       "align_items": null,
       "align_self": null,
       "border_bottom": null,
       "border_left": null,
       "border_right": null,
       "border_top": null,
       "bottom": null,
       "display": null,
       "flex": null,
       "flex_flow": null,
       "grid_area": null,
       "grid_auto_columns": null,
       "grid_auto_flow": null,
       "grid_auto_rows": null,
       "grid_column": null,
       "grid_gap": null,
       "grid_row": null,
       "grid_template_areas": null,
       "grid_template_columns": null,
       "grid_template_rows": null,
       "height": null,
       "justify_content": null,
       "justify_items": null,
       "left": null,
       "margin": null,
       "max_height": null,
       "max_width": null,
       "min_height": null,
       "min_width": null,
       "object_fit": null,
       "object_position": null,
       "order": null,
       "overflow": null,
       "padding": null,
       "right": null,
       "top": null,
       "visibility": null,
       "width": null
      }
     },
     "ee576797bc4b4fbe8a5fdcc908148828": {
      "model_module": "@jupyter-widgets/controls",
      "model_module_version": "2.0.0",
      "model_name": "HTMLStyleModel",
      "state": {
       "_model_module": "@jupyter-widgets/controls",
       "_model_module_version": "2.0.0",
       "_model_name": "HTMLStyleModel",
       "_view_count": null,
       "_view_module": "@jupyter-widgets/base",
       "_view_module_version": "2.0.0",
       "_view_name": "StyleView",
       "background": null,
       "description_width": "",
       "font_size": null,
       "text_color": null
      }
     },
     "eee7fe84759e400b9475addf9abb5d36": {
      "model_module": "@jupyter-widgets/base",
      "model_module_version": "2.0.0",
      "model_name": "LayoutModel",
      "state": {
       "_model_module": "@jupyter-widgets/base",
       "_model_module_version": "2.0.0",
       "_model_name": "LayoutModel",
       "_view_count": null,
       "_view_module": "@jupyter-widgets/base",
       "_view_module_version": "2.0.0",
       "_view_name": "LayoutView",
       "align_content": null,
       "align_items": null,
       "align_self": null,
       "border_bottom": null,
       "border_left": null,
       "border_right": null,
       "border_top": null,
       "bottom": null,
       "display": null,
       "flex": "2",
       "flex_flow": null,
       "grid_area": null,
       "grid_auto_columns": null,
       "grid_auto_flow": null,
       "grid_auto_rows": null,
       "grid_column": null,
       "grid_gap": null,
       "grid_row": null,
       "grid_template_areas": null,
       "grid_template_columns": null,
       "grid_template_rows": null,
       "height": null,
       "justify_content": null,
       "justify_items": null,
       "left": null,
       "margin": null,
       "max_height": null,
       "max_width": null,
       "min_height": null,
       "min_width": null,
       "object_fit": null,
       "object_position": null,
       "order": null,
       "overflow": null,
       "padding": null,
       "right": null,
       "top": null,
       "visibility": null,
       "width": null
      }
     },
     "f4f8f8d356bc4b769f2a7d01bd123550": {
      "model_module": "@jupyter-widgets/controls",
      "model_module_version": "2.0.0",
      "model_name": "FloatProgressModel",
      "state": {
       "_dom_classes": [],
       "_model_module": "@jupyter-widgets/controls",
       "_model_module_version": "2.0.0",
       "_model_name": "FloatProgressModel",
       "_view_count": null,
       "_view_module": "@jupyter-widgets/controls",
       "_view_module_version": "2.0.0",
       "_view_name": "ProgressView",
       "bar_style": "success",
       "description": "",
       "description_allow_html": false,
       "layout": "IPY_MODEL_d065b9c23e754c34894b2dc14a24a88f",
       "max": 30.0,
       "min": 0.0,
       "orientation": "horizontal",
       "style": "IPY_MODEL_35e2f1fa82694656b2614a8d789a0b0d",
       "tabbable": null,
       "tooltip": null,
       "value": 30.0
      }
     },
     "f74d65cd8b8f49ed970616eb0305cd5c": {
      "model_module": "@jupyter-widgets/controls",
      "model_module_version": "2.0.0",
      "model_name": "HTMLStyleModel",
      "state": {
       "_model_module": "@jupyter-widgets/controls",
       "_model_module_version": "2.0.0",
       "_model_name": "HTMLStyleModel",
       "_view_count": null,
       "_view_module": "@jupyter-widgets/base",
       "_view_module_version": "2.0.0",
       "_view_name": "StyleView",
       "background": null,
       "description_width": "",
       "font_size": null,
       "text_color": null
      }
     },
     "fe51db51235a48798d7c5e4d3fd3a2ed": {
      "model_module": "@jupyter-widgets/controls",
      "model_module_version": "2.0.0",
      "model_name": "HTMLStyleModel",
      "state": {
       "_model_module": "@jupyter-widgets/controls",
       "_model_module_version": "2.0.0",
       "_model_name": "HTMLStyleModel",
       "_view_count": null,
       "_view_module": "@jupyter-widgets/base",
       "_view_module_version": "2.0.0",
       "_view_name": "StyleView",
       "background": null,
       "description_width": "",
       "font_size": null,
       "text_color": null
      }
     }
    },
    "version_major": 2,
    "version_minor": 0
   }
  }
 },
 "nbformat": 4,
 "nbformat_minor": 5
}
