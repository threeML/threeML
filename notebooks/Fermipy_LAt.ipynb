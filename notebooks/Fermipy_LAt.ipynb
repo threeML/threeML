{
 "cells": [
  {
   "cell_type": "markdown",
   "id": "8cf5c334",
   "metadata": {},
   "source": [
    "# Fermi-LAT via FermiPyLike"
   ]
  },
  {
   "cell_type": "markdown",
   "id": "11f3c131",
   "metadata": {},
   "source": [
    "In this Example we show how to use the fermipy plugin in threeML. We perform a Binned likelihood analysis and a Bayesian analysis of the Crab, optimizing the parameters of the Crab Pulsar (PSR J0534+2200) keeping fixed the parameters of the Crab Nebula. In the model, the nebula is described by two sources, one representing the synchrotron spectrum, the othet the Inverse Compton emission.\n",
    "In this example we show how to download Fermi-LAT data, how to build a model starting from the 4FGL, how to free and fix parameters of the sources in the model, and how to perform a spectral analysis using the fermipy plugin."
   ]
  },
  {
   "cell_type": "code",
   "execution_count": 1,
   "id": "475302c7",
   "metadata": {
    "execution": {
     "iopub.execute_input": "2025-02-06T02:33:28.167125Z",
     "iopub.status.busy": "2025-02-06T02:33:28.166687Z",
     "iopub.status.idle": "2025-02-06T02:33:28.943980Z",
     "shell.execute_reply": "2025-02-06T02:33:28.942614Z"
    },
    "lines_to_next_cell": 2
   },
   "outputs": [],
   "source": [
    "import warnings\n",
    "\n",
    "warnings.simplefilter(\"ignore\")\n",
    "import numpy as np\n",
    "\n",
    "np.seterr(all=\"ignore\")\n",
    "import shutil\n",
    "from IPython.display import Image, display\n",
    "import glob\n",
    "from pathlib import Path\n",
    "import matplotlib as mpl\n",
    "from matplotlib import pyplot as plt\n",
    "from astropy.io import fits as pyfits\n",
    "import scipy as sp"
   ]
  },
  {
   "cell_type": "code",
   "execution_count": 2,
   "id": "1b2a266c",
   "metadata": {
    "execution": {
     "iopub.execute_input": "2025-02-06T02:33:28.951023Z",
     "iopub.status.busy": "2025-02-06T02:33:28.950444Z",
     "iopub.status.idle": "2025-02-06T02:33:34.377888Z",
     "shell.execute_reply": "2025-02-06T02:33:34.376006Z"
    },
    "lines_to_next_cell": 2
   },
   "outputs": [],
   "source": [
    "%%capture\n",
    "from threeML import *"
   ]
  },
  {
   "cell_type": "code",
   "execution_count": 3,
   "id": "ea1e0b07",
   "metadata": {
    "execution": {
     "iopub.execute_input": "2025-02-06T02:33:34.386072Z",
     "iopub.status.busy": "2025-02-06T02:33:34.385140Z",
     "iopub.status.idle": "2025-02-06T02:33:34.408625Z",
     "shell.execute_reply": "2025-02-06T02:33:34.407132Z"
    }
   },
   "outputs": [],
   "source": [
    "from jupyterthemes import jtplot\n",
    "\n",
    "%matplotlib inline\n",
    "jtplot.style(context=\"talk\", fscale=1, ticks=True, grid=False)\n",
    "set_threeML_style()\n",
    "silence_warnings()"
   ]
  },
  {
   "cell_type": "markdown",
   "id": "cf4d041c",
   "metadata": {},
   "source": []
  },
  {
   "cell_type": "markdown",
   "id": "837c9a85",
   "metadata": {},
   "source": [
    "## The Fermi 4FGL catalog\n",
    "Let's interrogate the 4FGL to get the sources in a radius of 20.0 deg around the Crab"
   ]
  },
  {
   "cell_type": "code",
   "execution_count": 4,
   "id": "2c8c04af",
   "metadata": {
    "execution": {
     "iopub.execute_input": "2025-02-06T02:33:34.416277Z",
     "iopub.status.busy": "2025-02-06T02:33:34.415845Z",
     "iopub.status.idle": "2025-02-06T02:33:49.188111Z",
     "shell.execute_reply": "2025-02-06T02:33:49.186495Z"
    }
   },
   "outputs": [
    {
     "data": {
      "text/html": [
       "<pre style=\"white-space:pre;overflow-x:auto;line-height:normal;font-family:Menlo,'DejaVu Sans Mono',consolas,'Courier New',monospace\"><span style=\"color: #00ff00; text-decoration-color: #00ff00\">02:33:34 </span><span style=\"color: #00ffaf; text-decoration-color: #00ffaf\">INFO    </span> <span style=\"color: #c6c6c6; text-decoration-color: #c6c6c6; font-weight: bold\"> The cache for fermilpsc does not yet exist. We will try to     </span><a href=\"file:///Users/runner/work/threeML/threeML/threeML/io/get_heasarc_table_as_pandas.py\" target=\"_blank\"><span style=\"color: #7f7f7f; text-decoration-color: #7f7f7f\">get_heasarc_table_as_pandas.py</span></a><span style=\"color: #7f7f7f; text-decoration-color: #7f7f7f\">:</span><a href=\"file:///Users/runner/work/threeML/threeML/threeML/io/get_heasarc_table_as_pandas.py#64\" target=\"_blank\"><span style=\"color: #7f7f7f; text-decoration-color: #7f7f7f\">64</span></a>\n",
       "<span style=\"color: #00ff00; text-decoration-color: #00ff00\">         </span>         <span style=\"color: #c6c6c6; text-decoration-color: #c6c6c6; font-weight: bold\">build it                                                        </span><span style=\"color: #7f7f7f; text-decoration-color: #7f7f7f\">                                 </span>\n",
       "<span style=\"color: #00ff00; text-decoration-color: #00ff00\">         </span>         <span style=\"color: #c6c6c6; text-decoration-color: #c6c6c6; font-weight: bold\">                                                                </span><span style=\"color: #7f7f7f; text-decoration-color: #7f7f7f\">                                 </span>\n",
       "</pre>\n"
      ],
      "text/plain": [
       "\u001b[38;5;46m02:33:34\u001b[0m\u001b[38;5;46m \u001b[0m\u001b[38;5;49mINFO    \u001b[0m \u001b[1;38;5;251m The cache for fermilpsc does not yet exist. We will try to    \u001b[0m\u001b[1;38;5;251m \u001b[0m\u001b]8;id=892715;file:///Users/runner/work/threeML/threeML/threeML/io/get_heasarc_table_as_pandas.py\u001b\\\u001b[2mget_heasarc_table_as_pandas.py\u001b[0m\u001b]8;;\u001b\\\u001b[2m:\u001b[0m\u001b]8;id=935772;file:///Users/runner/work/threeML/threeML/threeML/io/get_heasarc_table_as_pandas.py#64\u001b\\\u001b[2m64\u001b[0m\u001b]8;;\u001b\\\n",
       "\u001b[38;5;46m         \u001b[0m         \u001b[1;38;5;251mbuild it                                                       \u001b[0m\u001b[1;38;5;251m \u001b[0m\u001b[2m                                 \u001b[0m\n",
       "\u001b[38;5;46m         \u001b[0m         \u001b[1;38;5;251m                                                               \u001b[0m\u001b[1;38;5;251m \u001b[0m\u001b[2m                                 \u001b[0m\n"
      ]
     },
     "metadata": {},
     "output_type": "display_data"
    },
    {
     "data": {
      "text/html": [
       "<pre style=\"white-space:pre;overflow-x:auto;line-height:normal;font-family:Menlo,'DejaVu Sans Mono',consolas,'Courier New',monospace\"><span style=\"color: #00ff00; text-decoration-color: #00ff00\">         </span><span style=\"color: #00ffaf; text-decoration-color: #00ffaf\">INFO    </span> <span style=\"color: #c6c6c6; text-decoration-color: #c6c6c6; font-weight: bold\"> Building cache for fermilpsc                                  </span><a href=\"file:///Users/runner/work/threeML/threeML/threeML/io/get_heasarc_table_as_pandas.py\" target=\"_blank\"><span style=\"color: #7f7f7f; text-decoration-color: #7f7f7f\">get_heasarc_table_as_pandas.py</span></a><span style=\"color: #7f7f7f; text-decoration-color: #7f7f7f\">:</span><a href=\"file:///Users/runner/work/threeML/threeML/threeML/io/get_heasarc_table_as_pandas.py#112\" target=\"_blank\"><span style=\"color: #7f7f7f; text-decoration-color: #7f7f7f\">112</span></a>\n",
       "</pre>\n"
      ],
      "text/plain": [
       "\u001b[38;5;46m        \u001b[0m\u001b[38;5;46m \u001b[0m\u001b[38;5;49mINFO    \u001b[0m \u001b[1;38;5;251m Building cache for fermilpsc                                 \u001b[0m\u001b[1;38;5;251m \u001b[0m\u001b]8;id=742389;file:///Users/runner/work/threeML/threeML/threeML/io/get_heasarc_table_as_pandas.py\u001b\\\u001b[2mget_heasarc_table_as_pandas.py\u001b[0m\u001b]8;;\u001b\\\u001b[2m:\u001b[0m\u001b]8;id=180987;file:///Users/runner/work/threeML/threeML/threeML/io/get_heasarc_table_as_pandas.py#112\u001b\\\u001b[2m112\u001b[0m\u001b]8;;\u001b\\\n"
      ]
     },
     "metadata": {},
     "output_type": "display_data"
    },
    {
     "name": "stdout",
     "output_type": "stream",
     "text": [
      "Trying https://heasarc.gsfc.nasa.gov/cgi-bin/vo/cone/coneGet.pl?table=fermilpsc&\n"
     ]
    },
    {
     "data": {
      "text/html": [
       "<div><i>Table length=196</i>\n",
       "<table id=\"table5127944176\" class=\"table-striped table-bordered table-condensed\">\n",
       "<thead><tr><th>name</th><th>source_type</th><th>short_source_type</th><th>ra</th><th>dec</th><th>assoc_name</th><th>tevcat_assoc</th><th>Search_Offset</th></tr></thead>\n",
       "<thead><tr><th></th><th></th><th></th><th>deg</th><th>deg</th><th></th><th></th><th></th></tr></thead>\n",
       "<thead><tr><th>object</th><th>str52</th><th>object</th><th>float64</th><th>float64</th><th>object</th><th>object</th><th>float64</th></tr></thead>\n",
       "<tr><td>4FGL J0534.5+2201s</td><td>pulsar wind nebula</td><td>PWN</td><td>83.6331</td><td>22.0199</td><td>Crab Nebula</td><td>Crab</td><td>0.1552</td></tr>\n",
       "<tr><td>4FGL J0534.5+2201i</td><td>pulsar wind nebula</td><td>PWN</td><td>83.6330</td><td>22.0200</td><td>Crab Nebula</td><td>Crab</td><td>0.1597</td></tr>\n",
       "<tr><td>4FGL J0534.5+2200</td><td>pulsar, identified by pulsations</td><td>PSR</td><td>83.6367</td><td>22.0149</td><td>PSR J0534+2200</td><td>Crab pulsar</td><td>0.2818</td></tr>\n",
       "<tr><td>4FGL J0526.3+2246</td><td>active galaxy of uncertain type</td><td>bcu</td><td>81.5908</td><td>22.7778</td><td>NVSS J052622+224801</td><td></td><td>122.0980</td></tr>\n",
       "<tr><td>4FGL J0544.4+2238</td><td>unknown</td><td></td><td>86.1093</td><td>22.6418</td><td></td><td></td><td>142.4807</td></tr>\n",
       "<tr><td>4FGL J0521.7+2112</td><td>BL Lac type of blazar</td><td>bll</td><td>80.4445</td><td>21.2131</td><td>TXS 0518+211</td><td>VER J0521+211</td><td>184.2504</td></tr>\n",
       "<tr><td>4FGL J0528.3+1817</td><td>unknown</td><td>unk</td><td>82.0946</td><td>18.2943</td><td>1RXS J052829.6+181657</td><td></td><td>239.5831</td></tr>\n",
       "<tr><td>4FGL J0519.7+1939</td><td>unknown</td><td></td><td>79.9457</td><td>19.6646</td><td></td><td></td><td>250.3096</td></tr>\n",
       "<tr><td>4FGL J0536.2+1733</td><td>BL Lac type of blazar</td><td>bll</td><td>84.0719</td><td>17.5534</td><td>TXS 0533+175</td><td></td><td>268.9858</td></tr>\n",
       "<tr><td>...</td><td>...</td><td>...</td><td>...</td><td>...</td><td>...</td><td>...</td><td>...</td></tr>\n",
       "<tr><td>4FGL J0552.8+0313</td><td>active galaxy of uncertain type</td><td>bcu</td><td>88.2180</td><td>3.2322</td><td>PKS 0550+032</td><td></td><td>1158.3252</td></tr>\n",
       "<tr><td>4FGL J0431.0+3529c</td><td>unknown</td><td></td><td>67.7650</td><td>35.4949</td><td></td><td></td><td>1159.0316</td></tr>\n",
       "<tr><td>4FGL J0653.6+1636</td><td>active galaxy of uncertain type</td><td>bcu</td><td>103.4105</td><td>16.6106</td><td>2MASX J06533986+1636432</td><td></td><td>1164.8007</td></tr>\n",
       "<tr><td>4FGL J0658.7+2318</td><td>unknown</td><td></td><td>104.6808</td><td>23.3027</td><td></td><td></td><td>1166.9461</td></tr>\n",
       "<tr><td>4FGL J0552.0+0256c</td><td>unknown</td><td></td><td>88.0140</td><td>2.9417</td><td></td><td></td><td>1172.6725</td></tr>\n",
       "<tr><td>4FGL J0555.1+0304</td><td>active galaxy of uncertain type</td><td>bcu</td><td>88.7776</td><td>3.0710</td><td>GB6 J0555+0304</td><td></td><td>1175.6395</td></tr>\n",
       "<tr><td>4FGL J0658.2+2709</td><td>active galaxy of uncertain type</td><td>bcu</td><td>104.5735</td><td>27.1501</td><td>B2 0655+27A</td><td></td><td>1181.6704</td></tr>\n",
       "<tr><td>4FGL J0642.4+1048</td><td>unknown</td><td></td><td>100.6081</td><td>10.8135</td><td></td><td></td><td>1184.0885</td></tr>\n",
       "<tr><td>4FGL J0506.9+0323</td><td>BL Lac type of blazar</td><td>bll</td><td>76.7314</td><td>3.3917</td><td>NVSS J050650+032401</td><td></td><td>1187.5954</td></tr>\n",
       "<tr><td>4FGL J0409.2+2542</td><td>unknown</td><td></td><td>62.3144</td><td>25.7022</td><td></td><td></td><td>1189.0646</td></tr>\n",
       "</table></div>"
      ],
      "text/plain": [
       "<Table length=196>\n",
       "       name                  source_type            ... Search_Offset\n",
       "                                                    ...              \n",
       "      object                    str52               ...    float64   \n",
       "------------------ -------------------------------- ... -------------\n",
       "4FGL J0534.5+2201s               pulsar wind nebula ...        0.1552\n",
       "4FGL J0534.5+2201i               pulsar wind nebula ...        0.1597\n",
       " 4FGL J0534.5+2200 pulsar, identified by pulsations ...        0.2818\n",
       " 4FGL J0526.3+2246  active galaxy of uncertain type ...      122.0980\n",
       " 4FGL J0544.4+2238                          unknown ...      142.4807\n",
       " 4FGL J0521.7+2112            BL Lac type of blazar ...      184.2504\n",
       " 4FGL J0528.3+1817                          unknown ...      239.5831\n",
       " 4FGL J0519.7+1939                          unknown ...      250.3096\n",
       " 4FGL J0536.2+1733            BL Lac type of blazar ...      268.9858\n",
       "               ...                              ... ...           ...\n",
       " 4FGL J0552.8+0313  active galaxy of uncertain type ...     1158.3252\n",
       "4FGL J0431.0+3529c                          unknown ...     1159.0316\n",
       " 4FGL J0653.6+1636  active galaxy of uncertain type ...     1164.8007\n",
       " 4FGL J0658.7+2318                          unknown ...     1166.9461\n",
       "4FGL J0552.0+0256c                          unknown ...     1172.6725\n",
       " 4FGL J0555.1+0304  active galaxy of uncertain type ...     1175.6395\n",
       " 4FGL J0658.2+2709  active galaxy of uncertain type ...     1181.6704\n",
       " 4FGL J0642.4+1048                          unknown ...     1184.0885\n",
       " 4FGL J0506.9+0323            BL Lac type of blazar ...     1187.5954\n",
       " 4FGL J0409.2+2542                          unknown ...     1189.0646"
      ]
     },
     "execution_count": 4,
     "metadata": {},
     "output_type": "execute_result"
    }
   ],
   "source": [
    "lat_catalog = FermiLATSourceCatalog()\n",
    "\n",
    "ra, dec, table = lat_catalog.search_around_source(\"Crab\", radius=20.0)\n",
    "\n",
    "table"
   ]
  },
  {
   "cell_type": "markdown",
   "id": "42f9401f",
   "metadata": {},
   "source": [
    "This gets a 3ML model (a Model instance) from the table above, where every source in the 4FGL becomes a Source instance. Note that by default all parameters of all sources are fixed."
   ]
  },
  {
   "cell_type": "code",
   "execution_count": 5,
   "id": "76027721",
   "metadata": {
    "execution": {
     "iopub.execute_input": "2025-02-06T02:33:49.198059Z",
     "iopub.status.busy": "2025-02-06T02:33:49.196743Z",
     "iopub.status.idle": "2025-02-06T02:33:49.806982Z",
     "shell.execute_reply": "2025-02-06T02:33:49.804864Z"
    }
   },
   "outputs": [],
   "source": [
    "model = lat_catalog.get_model()"
   ]
  },
  {
   "cell_type": "markdown",
   "id": "568a6b8b",
   "metadata": {},
   "source": [
    "Let's free all the normalizations within 3 deg from the center."
   ]
  },
  {
   "cell_type": "code",
   "execution_count": 6,
   "id": "dc422642",
   "metadata": {
    "execution": {
     "iopub.execute_input": "2025-02-06T02:33:49.815933Z",
     "iopub.status.busy": "2025-02-06T02:33:49.815429Z",
     "iopub.status.idle": "2025-02-06T02:33:50.150802Z",
     "shell.execute_reply": "2025-02-06T02:33:50.148976Z"
    }
   },
   "outputs": [
    {
     "data": {
      "text/html": [
       "Model summary:<br><br><div>\n",
       "<style scoped>\n",
       "    .dataframe tbody tr th:only-of-type {\n",
       "        vertical-align: middle;\n",
       "    }\n",
       "\n",
       "    .dataframe tbody tr th {\n",
       "        vertical-align: top;\n",
       "    }\n",
       "\n",
       "    .dataframe thead th {\n",
       "        text-align: right;\n",
       "    }\n",
       "</style>\n",
       "<table border=\"1\" class=\"dataframe\">\n",
       "  <thead>\n",
       "    <tr style=\"text-align: right;\">\n",
       "      <th></th>\n",
       "      <th>N</th>\n",
       "    </tr>\n",
       "  </thead>\n",
       "  <tbody>\n",
       "    <tr>\n",
       "      <th>Point sources</th>\n",
       "      <td>196</td>\n",
       "    </tr>\n",
       "    <tr>\n",
       "      <th>Extended sources</th>\n",
       "      <td>0</td>\n",
       "    </tr>\n",
       "    <tr>\n",
       "      <th>Particle sources</th>\n",
       "      <td>0</td>\n",
       "    </tr>\n",
       "  </tbody>\n",
       "</table>\n",
       "</div><br><br>Free parameters (5):<br><br><div>\n",
       "<style scoped>\n",
       "    .dataframe tbody tr th:only-of-type {\n",
       "        vertical-align: middle;\n",
       "    }\n",
       "\n",
       "    .dataframe tbody tr th {\n",
       "        vertical-align: top;\n",
       "    }\n",
       "\n",
       "    .dataframe thead th {\n",
       "        text-align: right;\n",
       "    }\n",
       "</style>\n",
       "<table border=\"1\" class=\"dataframe\">\n",
       "  <thead>\n",
       "    <tr style=\"text-align: right;\">\n",
       "      <th></th>\n",
       "      <th>value</th>\n",
       "      <th>min_value</th>\n",
       "      <th>max_value</th>\n",
       "      <th>unit</th>\n",
       "    </tr>\n",
       "  </thead>\n",
       "  <tbody>\n",
       "    <tr>\n",
       "      <th>Crab_synch.spectrum.main.Log_parabola.K</th>\n",
       "      <td>0.0</td>\n",
       "      <td>0.0</td>\n",
       "      <td>0.0</td>\n",
       "      <td>keV-1 s-1 cm-2</td>\n",
       "    </tr>\n",
       "    <tr>\n",
       "      <th>Crab_IC.spectrum.main.Log_parabola.K</th>\n",
       "      <td>0.0</td>\n",
       "      <td>0.0</td>\n",
       "      <td>0.0</td>\n",
       "      <td>keV-1 s-1 cm-2</td>\n",
       "    </tr>\n",
       "    <tr>\n",
       "      <th>PSR_J0534p2200.spectrum.main.Super_cutoff_powerlaw.K</th>\n",
       "      <td>0.0</td>\n",
       "      <td>0.0</td>\n",
       "      <td>0.0</td>\n",
       "      <td>keV-1 s-1 cm-2</td>\n",
       "    </tr>\n",
       "    <tr>\n",
       "      <th>NVSS_J052622p224801.spectrum.main.Powerlaw.K</th>\n",
       "      <td>0.0</td>\n",
       "      <td>0.0</td>\n",
       "      <td>0.0</td>\n",
       "      <td>keV-1 s-1 cm-2</td>\n",
       "    </tr>\n",
       "    <tr>\n",
       "      <th>x4FGL_J0544d4p2238.spectrum.main.Powerlaw.K</th>\n",
       "      <td>0.0</td>\n",
       "      <td>0.0</td>\n",
       "      <td>0.0</td>\n",
       "      <td>keV-1 s-1 cm-2</td>\n",
       "    </tr>\n",
       "  </tbody>\n",
       "</table>\n",
       "</div><br><br>Fixed parameters (1089):<br>(abridged. Use complete=True to see all fixed parameters)<br><br><br>Properties (0):<br><br>(none)<br><br><br>Linked parameters (0):<br><br>(none)<br><br>Independent variables:<br><br>(none)<br><br>Linked functions (0):<br><br>(none)<br>"
      ],
      "text/plain": [
       "Model summary:\n",
       "==============\n",
       "\n",
       "                    N\n",
       "Point sources     196\n",
       "Extended sources    0\n",
       "Particle sources    0\n",
       "\n",
       "Free parameters (5):\n",
       "--------------------\n",
       "\n",
       "                                        value min_value max_value  \\\n",
       "Crab_synch.spectrum.main.Log_parabola.K   0.0       0.0       0.0   \n",
       "Crab_IC.spectrum.main.Log_parabola.K      0.0       0.0       0.0   \n",
       "PSR_J0534p2200...K                        0.0       0.0       0.0   \n",
       "NVSS_J052622p224801...K                   0.0       0.0       0.0   \n",
       "x4FGL_J0544d4p2238...K                    0.0       0.0       0.0   \n",
       "\n",
       "                                                   unit  \n",
       "Crab_synch.spectrum.main.Log_parabola.K  keV-1 s-1 cm-2  \n",
       "Crab_IC.spectrum.main.Log_parabola.K     keV-1 s-1 cm-2  \n",
       "PSR_J0534p2200...K                       keV-1 s-1 cm-2  \n",
       "NVSS_J052622p224801...K                  keV-1 s-1 cm-2  \n",
       "x4FGL_J0544d4p2238...K                   keV-1 s-1 cm-2  \n",
       "\n",
       "Fixed parameters (1089):\n",
       "(abridged. Use complete=True to see all fixed parameters)\n",
       "\n",
       "\n",
       "Properties (0):\n",
       "--------------------\n",
       "\n",
       "(none)\n",
       "\n",
       "\n",
       "Linked parameters (0):\n",
       "----------------------\n",
       "\n",
       "(none)\n",
       "\n",
       "Independent variables:\n",
       "----------------------\n",
       "\n",
       "(none)\n",
       "\n",
       "Linked functions (0):\n",
       "----------------------\n",
       "\n",
       "(none)"
      ]
     },
     "metadata": {},
     "output_type": "display_data"
    }
   ],
   "source": [
    "model.free_point_sources_within_radius(3.0, normalization_only=True)\n",
    "\n",
    "model.display()"
   ]
  },
  {
   "cell_type": "markdown",
   "id": "2a47cb24",
   "metadata": {},
   "source": [
    "but then let's fix the sync and the IC components of the Crab nebula (cannot fit them with just one month of data) (these two methods are equivalent)"
   ]
  },
  {
   "cell_type": "code",
   "execution_count": 7,
   "id": "f2a9aaeb",
   "metadata": {
    "execution": {
     "iopub.execute_input": "2025-02-06T02:33:50.160428Z",
     "iopub.status.busy": "2025-02-06T02:33:50.159996Z",
     "iopub.status.idle": "2025-02-06T02:33:50.168713Z",
     "shell.execute_reply": "2025-02-06T02:33:50.165806Z"
    }
   },
   "outputs": [],
   "source": [
    "model[\"Crab_IC.spectrum.main.Log_parabola.K\"].fix = True\n",
    "model.Crab_synch.spectrum.main.Log_parabola.K.fix = True"
   ]
  },
  {
   "cell_type": "markdown",
   "id": "d28f4ac2",
   "metadata": {},
   "source": [
    "However, let's free the index of the Crab Pulsar"
   ]
  },
  {
   "cell_type": "code",
   "execution_count": 8,
   "id": "53e18933",
   "metadata": {
    "execution": {
     "iopub.execute_input": "2025-02-06T02:33:50.178498Z",
     "iopub.status.busy": "2025-02-06T02:33:50.177923Z",
     "iopub.status.idle": "2025-02-06T02:33:50.499032Z",
     "shell.execute_reply": "2025-02-06T02:33:50.496725Z"
    }
   },
   "outputs": [
    {
     "data": {
      "text/html": [
       "Model summary:<br><br><div>\n",
       "<style scoped>\n",
       "    .dataframe tbody tr th:only-of-type {\n",
       "        vertical-align: middle;\n",
       "    }\n",
       "\n",
       "    .dataframe tbody tr th {\n",
       "        vertical-align: top;\n",
       "    }\n",
       "\n",
       "    .dataframe thead th {\n",
       "        text-align: right;\n",
       "    }\n",
       "</style>\n",
       "<table border=\"1\" class=\"dataframe\">\n",
       "  <thead>\n",
       "    <tr style=\"text-align: right;\">\n",
       "      <th></th>\n",
       "      <th>N</th>\n",
       "    </tr>\n",
       "  </thead>\n",
       "  <tbody>\n",
       "    <tr>\n",
       "      <th>Point sources</th>\n",
       "      <td>196</td>\n",
       "    </tr>\n",
       "    <tr>\n",
       "      <th>Extended sources</th>\n",
       "      <td>0</td>\n",
       "    </tr>\n",
       "    <tr>\n",
       "      <th>Particle sources</th>\n",
       "      <td>0</td>\n",
       "    </tr>\n",
       "  </tbody>\n",
       "</table>\n",
       "</div><br><br>Free parameters (4):<br><br><div>\n",
       "<style scoped>\n",
       "    .dataframe tbody tr th:only-of-type {\n",
       "        vertical-align: middle;\n",
       "    }\n",
       "\n",
       "    .dataframe tbody tr th {\n",
       "        vertical-align: top;\n",
       "    }\n",
       "\n",
       "    .dataframe thead th {\n",
       "        text-align: right;\n",
       "    }\n",
       "</style>\n",
       "<table border=\"1\" class=\"dataframe\">\n",
       "  <thead>\n",
       "    <tr style=\"text-align: right;\">\n",
       "      <th></th>\n",
       "      <th>value</th>\n",
       "      <th>min_value</th>\n",
       "      <th>max_value</th>\n",
       "      <th>unit</th>\n",
       "    </tr>\n",
       "  </thead>\n",
       "  <tbody>\n",
       "    <tr>\n",
       "      <th>PSR_J0534p2200.spectrum.main.Super_cutoff_powerlaw.K</th>\n",
       "      <td>0.0</td>\n",
       "      <td>0.0</td>\n",
       "      <td>0.0</td>\n",
       "      <td>keV-1 s-1 cm-2</td>\n",
       "    </tr>\n",
       "    <tr>\n",
       "      <th>PSR_J0534p2200.spectrum.main.Super_cutoff_powerlaw.index</th>\n",
       "      <td>-1.826553</td>\n",
       "      <td>-10.0</td>\n",
       "      <td>10.0</td>\n",
       "      <td></td>\n",
       "    </tr>\n",
       "    <tr>\n",
       "      <th>NVSS_J052622p224801.spectrum.main.Powerlaw.K</th>\n",
       "      <td>0.0</td>\n",
       "      <td>0.0</td>\n",
       "      <td>0.0</td>\n",
       "      <td>keV-1 s-1 cm-2</td>\n",
       "    </tr>\n",
       "    <tr>\n",
       "      <th>x4FGL_J0544d4p2238.spectrum.main.Powerlaw.K</th>\n",
       "      <td>0.0</td>\n",
       "      <td>0.0</td>\n",
       "      <td>0.0</td>\n",
       "      <td>keV-1 s-1 cm-2</td>\n",
       "    </tr>\n",
       "  </tbody>\n",
       "</table>\n",
       "</div><br><br>Fixed parameters (1090):<br>(abridged. Use complete=True to see all fixed parameters)<br><br><br>Properties (0):<br><br>(none)<br><br><br>Linked parameters (0):<br><br>(none)<br><br>Independent variables:<br><br>(none)<br><br>Linked functions (0):<br><br>(none)<br>"
      ],
      "text/plain": [
       "Model summary:\n",
       "==============\n",
       "\n",
       "                    N\n",
       "Point sources     196\n",
       "Extended sources    0\n",
       "Particle sources    0\n",
       "\n",
       "Free parameters (4):\n",
       "--------------------\n",
       "\n",
       "                            value min_value max_value            unit\n",
       "PSR_J0534p2200...K            0.0       0.0       0.0  keV-1 s-1 cm-2\n",
       "PSR_J0534p2200...index  -1.826553     -10.0      10.0                \n",
       "NVSS_J052622p224801...K       0.0       0.0       0.0  keV-1 s-1 cm-2\n",
       "x4FGL_J0544d4p2238...K        0.0       0.0       0.0  keV-1 s-1 cm-2\n",
       "\n",
       "Fixed parameters (1090):\n",
       "(abridged. Use complete=True to see all fixed parameters)\n",
       "\n",
       "\n",
       "Properties (0):\n",
       "--------------------\n",
       "\n",
       "(none)\n",
       "\n",
       "\n",
       "Linked parameters (0):\n",
       "----------------------\n",
       "\n",
       "(none)\n",
       "\n",
       "Independent variables:\n",
       "----------------------\n",
       "\n",
       "(none)\n",
       "\n",
       "Linked functions (0):\n",
       "----------------------\n",
       "\n",
       "(none)"
      ]
     },
     "metadata": {},
     "output_type": "display_data"
    }
   ],
   "source": [
    "model.PSR_J0534p2200.spectrum.main.Super_cutoff_powerlaw.index.free = True\n",
    "\n",
    "model.display()"
   ]
  },
  {
   "cell_type": "code",
   "execution_count": 9,
   "id": "a40452a9",
   "metadata": {
    "execution": {
     "iopub.execute_input": "2025-02-06T02:33:50.507796Z",
     "iopub.status.busy": "2025-02-06T02:33:50.506254Z",
     "iopub.status.idle": "2025-02-06T02:34:23.200896Z",
     "shell.execute_reply": "2025-02-06T02:34:23.199462Z"
    }
   },
   "outputs": [
    {
     "data": {
      "text/html": [
       "<pre style=\"white-space:pre;overflow-x:auto;line-height:normal;font-family:Menlo,'DejaVu Sans Mono',consolas,'Courier New',monospace\"><span style=\"color: #00ff00; text-decoration-color: #00ff00\">02:33:50 </span><span style=\"color: #00ffaf; text-decoration-color: #00ffaf\">INFO    </span> <span style=\"color: #c6c6c6; text-decoration-color: #c6c6c6; font-weight: bold\"> Query parameters:                                                       </span><a href=\"file:///Users/runner/work/threeML/threeML/threeML/utils/data_download/Fermi_LAT/download_LAT_data.py\" target=\"_blank\"><span style=\"color: #7f7f7f; text-decoration-color: #7f7f7f\">download_LAT_data.py</span></a><span style=\"color: #7f7f7f; text-decoration-color: #7f7f7f\">:</span><a href=\"file:///Users/runner/work/threeML/threeML/threeML/utils/data_download/Fermi_LAT/download_LAT_data.py#262\" target=\"_blank\"><span style=\"color: #7f7f7f; text-decoration-color: #7f7f7f\">262</span></a>\n",
       "</pre>\n"
      ],
      "text/plain": [
       "\u001b[38;5;46m02:33:50\u001b[0m\u001b[38;5;46m \u001b[0m\u001b[38;5;49mINFO    \u001b[0m \u001b[1;38;5;251m Query parameters:                                                      \u001b[0m\u001b[1;38;5;251m \u001b[0m\u001b]8;id=391031;file:///Users/runner/work/threeML/threeML/threeML/utils/data_download/Fermi_LAT/download_LAT_data.py\u001b\\\u001b[2mdownload_LAT_data.py\u001b[0m\u001b]8;;\u001b\\\u001b[2m:\u001b[0m\u001b]8;id=986917;file:///Users/runner/work/threeML/threeML/threeML/utils/data_download/Fermi_LAT/download_LAT_data.py#262\u001b\\\u001b[2m262\u001b[0m\u001b]8;;\u001b\\\n"
      ]
     },
     "metadata": {},
     "output_type": "display_data"
    },
    {
     "data": {
      "text/html": [
       "<pre style=\"white-space:pre;overflow-x:auto;line-height:normal;font-family:Menlo,'DejaVu Sans Mono',consolas,'Courier New',monospace\"><span style=\"color: #00ff00; text-decoration-color: #00ff00\">         </span><span style=\"color: #00ffaf; text-decoration-color: #00ffaf\">INFO    </span> <span style=\"color: #c6c6c6; text-decoration-color: #c6c6c6; font-weight: bold\">                     coordfield = </span><span style=\"color: #c0c0c0; text-decoration-color: #c0c0c0; font-weight: bold\">83.6324</span><span style=\"color: #c6c6c6; text-decoration-color: #c6c6c6; font-weight: bold\">,</span><span style=\"color: #c0c0c0; text-decoration-color: #c0c0c0; font-weight: bold\">22.0174</span><span style=\"color: #c6c6c6; text-decoration-color: #c6c6c6; font-weight: bold\">                        </span><a href=\"file:///Users/runner/work/threeML/threeML/threeML/utils/data_download/Fermi_LAT/download_LAT_data.py\" target=\"_blank\"><span style=\"color: #7f7f7f; text-decoration-color: #7f7f7f\">download_LAT_data.py</span></a><span style=\"color: #7f7f7f; text-decoration-color: #7f7f7f\">:</span><a href=\"file:///Users/runner/work/threeML/threeML/threeML/utils/data_download/Fermi_LAT/download_LAT_data.py#266\" target=\"_blank\"><span style=\"color: #7f7f7f; text-decoration-color: #7f7f7f\">266</span></a>\n",
       "</pre>\n"
      ],
      "text/plain": [
       "\u001b[38;5;46m        \u001b[0m\u001b[38;5;46m \u001b[0m\u001b[38;5;49mINFO    \u001b[0m \u001b[1;38;5;251m                     coordfield = \u001b[0m\u001b[1;37m83.6324\u001b[0m\u001b[1;38;5;251m,\u001b[0m\u001b[1;37m22.0174\u001b[0m\u001b[1;38;5;251m                       \u001b[0m\u001b[1;38;5;251m \u001b[0m\u001b]8;id=782627;file:///Users/runner/work/threeML/threeML/threeML/utils/data_download/Fermi_LAT/download_LAT_data.py\u001b\\\u001b[2mdownload_LAT_data.py\u001b[0m\u001b]8;;\u001b\\\u001b[2m:\u001b[0m\u001b]8;id=354445;file:///Users/runner/work/threeML/threeML/threeML/utils/data_download/Fermi_LAT/download_LAT_data.py#266\u001b\\\u001b[2m266\u001b[0m\u001b]8;;\u001b\\\n"
      ]
     },
     "metadata": {},
     "output_type": "display_data"
    },
    {
     "data": {
      "text/html": [
       "<pre style=\"white-space:pre;overflow-x:auto;line-height:normal;font-family:Menlo,'DejaVu Sans Mono',consolas,'Courier New',monospace\"><span style=\"color: #00ff00; text-decoration-color: #00ff00\">         </span><span style=\"color: #00ffaf; text-decoration-color: #00ffaf\">INFO    </span> <span style=\"color: #c6c6c6; text-decoration-color: #c6c6c6; font-weight: bold\">                    coordsystem = J2000                                  </span><a href=\"file:///Users/runner/work/threeML/threeML/threeML/utils/data_download/Fermi_LAT/download_LAT_data.py\" target=\"_blank\"><span style=\"color: #7f7f7f; text-decoration-color: #7f7f7f\">download_LAT_data.py</span></a><span style=\"color: #7f7f7f; text-decoration-color: #7f7f7f\">:</span><a href=\"file:///Users/runner/work/threeML/threeML/threeML/utils/data_download/Fermi_LAT/download_LAT_data.py#266\" target=\"_blank\"><span style=\"color: #7f7f7f; text-decoration-color: #7f7f7f\">266</span></a>\n",
       "</pre>\n"
      ],
      "text/plain": [
       "\u001b[38;5;46m        \u001b[0m\u001b[38;5;46m \u001b[0m\u001b[38;5;49mINFO    \u001b[0m \u001b[1;38;5;251m                    coordsystem = J2000                                 \u001b[0m\u001b[1;38;5;251m \u001b[0m\u001b]8;id=668706;file:///Users/runner/work/threeML/threeML/threeML/utils/data_download/Fermi_LAT/download_LAT_data.py\u001b\\\u001b[2mdownload_LAT_data.py\u001b[0m\u001b]8;;\u001b\\\u001b[2m:\u001b[0m\u001b]8;id=589332;file:///Users/runner/work/threeML/threeML/threeML/utils/data_download/Fermi_LAT/download_LAT_data.py#266\u001b\\\u001b[2m266\u001b[0m\u001b]8;;\u001b\\\n"
      ]
     },
     "metadata": {},
     "output_type": "display_data"
    },
    {
     "data": {
      "text/html": [
       "<pre style=\"white-space:pre;overflow-x:auto;line-height:normal;font-family:Menlo,'DejaVu Sans Mono',consolas,'Courier New',monospace\"><span style=\"color: #00ff00; text-decoration-color: #00ff00\">         </span><span style=\"color: #00ffaf; text-decoration-color: #00ffaf\">INFO    </span> <span style=\"color: #c6c6c6; text-decoration-color: #c6c6c6; font-weight: bold\">                     shapefield = </span><span style=\"color: #c0c0c0; text-decoration-color: #c0c0c0; font-weight: bold\">20.0</span><span style=\"color: #c6c6c6; text-decoration-color: #c6c6c6; font-weight: bold\">                                   </span><a href=\"file:///Users/runner/work/threeML/threeML/threeML/utils/data_download/Fermi_LAT/download_LAT_data.py\" target=\"_blank\"><span style=\"color: #7f7f7f; text-decoration-color: #7f7f7f\">download_LAT_data.py</span></a><span style=\"color: #7f7f7f; text-decoration-color: #7f7f7f\">:</span><a href=\"file:///Users/runner/work/threeML/threeML/threeML/utils/data_download/Fermi_LAT/download_LAT_data.py#266\" target=\"_blank\"><span style=\"color: #7f7f7f; text-decoration-color: #7f7f7f\">266</span></a>\n",
       "</pre>\n"
      ],
      "text/plain": [
       "\u001b[38;5;46m        \u001b[0m\u001b[38;5;46m \u001b[0m\u001b[38;5;49mINFO    \u001b[0m \u001b[1;38;5;251m                     shapefield = \u001b[0m\u001b[1;37m20.0\u001b[0m\u001b[1;38;5;251m                                  \u001b[0m\u001b[1;38;5;251m \u001b[0m\u001b]8;id=616265;file:///Users/runner/work/threeML/threeML/threeML/utils/data_download/Fermi_LAT/download_LAT_data.py\u001b\\\u001b[2mdownload_LAT_data.py\u001b[0m\u001b]8;;\u001b\\\u001b[2m:\u001b[0m\u001b]8;id=60391;file:///Users/runner/work/threeML/threeML/threeML/utils/data_download/Fermi_LAT/download_LAT_data.py#266\u001b\\\u001b[2m266\u001b[0m\u001b]8;;\u001b\\\n"
      ]
     },
     "metadata": {},
     "output_type": "display_data"
    },
    {
     "data": {
      "text/html": [
       "<pre style=\"white-space:pre;overflow-x:auto;line-height:normal;font-family:Menlo,'DejaVu Sans Mono',consolas,'Courier New',monospace\"><span style=\"color: #00ff00; text-decoration-color: #00ff00\">         </span><span style=\"color: #00ffaf; text-decoration-color: #00ffaf\">INFO    </span> <span style=\"color: #c6c6c6; text-decoration-color: #c6c6c6; font-weight: bold\">                      timefield = </span><span style=\"color: #c0c0c0; text-decoration-color: #c0c0c0; font-weight: bold\">2010</span><span style=\"color: #c6c6c6; text-decoration-color: #c6c6c6; font-weight: bold\">-</span><span style=\"color: #c0c0c0; text-decoration-color: #c0c0c0; font-weight: bold\">01</span><span style=\"color: #c6c6c6; text-decoration-color: #c6c6c6; font-weight: bold\">-</span><span style=\"color: #c0c0c0; text-decoration-color: #c0c0c0; font-weight: bold\">01</span><span style=\"color: #c6c6c6; text-decoration-color: #c6c6c6; font-weight: bold\"> </span><span style=\"color: #00ff00; text-decoration-color: #00ff00; font-weight: bold\">00:00:00</span><span style=\"color: #c6c6c6; text-decoration-color: #c6c6c6; font-weight: bold\">,</span><span style=\"color: #c0c0c0; text-decoration-color: #c0c0c0; font-weight: bold\">2010</span><span style=\"color: #c6c6c6; text-decoration-color: #c6c6c6; font-weight: bold\">-</span><span style=\"color: #c0c0c0; text-decoration-color: #c0c0c0; font-weight: bold\">02</span><span style=\"color: #c6c6c6; text-decoration-color: #c6c6c6; font-weight: bold\">-</span><span style=\"color: #c0c0c0; text-decoration-color: #c0c0c0; font-weight: bold\">01</span><span style=\"color: #c6c6c6; text-decoration-color: #c6c6c6; font-weight: bold\">         </span><a href=\"file:///Users/runner/work/threeML/threeML/threeML/utils/data_download/Fermi_LAT/download_LAT_data.py\" target=\"_blank\"><span style=\"color: #7f7f7f; text-decoration-color: #7f7f7f\">download_LAT_data.py</span></a><span style=\"color: #7f7f7f; text-decoration-color: #7f7f7f\">:</span><a href=\"file:///Users/runner/work/threeML/threeML/threeML/utils/data_download/Fermi_LAT/download_LAT_data.py#266\" target=\"_blank\"><span style=\"color: #7f7f7f; text-decoration-color: #7f7f7f\">266</span></a>\n",
       "<span style=\"color: #00ff00; text-decoration-color: #00ff00\">         </span>         <span style=\"color: #00ff00; text-decoration-color: #00ff00; font-weight: bold\">00:00:00</span><span style=\"color: #c6c6c6; text-decoration-color: #c6c6c6; font-weight: bold\">                                                                 </span><span style=\"color: #7f7f7f; text-decoration-color: #7f7f7f\">                        </span>\n",
       "</pre>\n"
      ],
      "text/plain": [
       "\u001b[38;5;46m        \u001b[0m\u001b[38;5;46m \u001b[0m\u001b[38;5;49mINFO    \u001b[0m \u001b[1;38;5;251m                      timefield = \u001b[0m\u001b[1;37m2010\u001b[0m\u001b[1;38;5;251m-\u001b[0m\u001b[1;37m01\u001b[0m\u001b[1;38;5;251m-\u001b[0m\u001b[1;37m01\u001b[0m\u001b[1;38;5;251m \u001b[0m\u001b[1;92m00:00:00\u001b[0m\u001b[1;38;5;251m,\u001b[0m\u001b[1;37m2010\u001b[0m\u001b[1;38;5;251m-\u001b[0m\u001b[1;37m02\u001b[0m\u001b[1;38;5;251m-\u001b[0m\u001b[1;37m01\u001b[0m\u001b[1;38;5;251m        \u001b[0m\u001b[1;38;5;251m \u001b[0m\u001b]8;id=270208;file:///Users/runner/work/threeML/threeML/threeML/utils/data_download/Fermi_LAT/download_LAT_data.py\u001b\\\u001b[2mdownload_LAT_data.py\u001b[0m\u001b]8;;\u001b\\\u001b[2m:\u001b[0m\u001b]8;id=394054;file:///Users/runner/work/threeML/threeML/threeML/utils/data_download/Fermi_LAT/download_LAT_data.py#266\u001b\\\u001b[2m266\u001b[0m\u001b]8;;\u001b\\\n",
       "\u001b[38;5;46m         \u001b[0m         \u001b[1;92m00:00:00\u001b[0m\u001b[1;38;5;251m                                                                \u001b[0m\u001b[1;38;5;251m \u001b[0m\u001b[2m                        \u001b[0m\n"
      ]
     },
     "metadata": {},
     "output_type": "display_data"
    },
    {
     "data": {
      "text/html": [
       "<pre style=\"white-space:pre;overflow-x:auto;line-height:normal;font-family:Menlo,'DejaVu Sans Mono',consolas,'Courier New',monospace\"><span style=\"color: #00ff00; text-decoration-color: #00ff00\">         </span><span style=\"color: #00ffaf; text-decoration-color: #00ffaf\">INFO    </span> <span style=\"color: #c6c6c6; text-decoration-color: #c6c6c6; font-weight: bold\">                       timetype = Gregorian                              </span><a href=\"file:///Users/runner/work/threeML/threeML/threeML/utils/data_download/Fermi_LAT/download_LAT_data.py\" target=\"_blank\"><span style=\"color: #7f7f7f; text-decoration-color: #7f7f7f\">download_LAT_data.py</span></a><span style=\"color: #7f7f7f; text-decoration-color: #7f7f7f\">:</span><a href=\"file:///Users/runner/work/threeML/threeML/threeML/utils/data_download/Fermi_LAT/download_LAT_data.py#266\" target=\"_blank\"><span style=\"color: #7f7f7f; text-decoration-color: #7f7f7f\">266</span></a>\n",
       "</pre>\n"
      ],
      "text/plain": [
       "\u001b[38;5;46m        \u001b[0m\u001b[38;5;46m \u001b[0m\u001b[38;5;49mINFO    \u001b[0m \u001b[1;38;5;251m                       timetype = Gregorian                             \u001b[0m\u001b[1;38;5;251m \u001b[0m\u001b]8;id=249058;file:///Users/runner/work/threeML/threeML/threeML/utils/data_download/Fermi_LAT/download_LAT_data.py\u001b\\\u001b[2mdownload_LAT_data.py\u001b[0m\u001b]8;;\u001b\\\u001b[2m:\u001b[0m\u001b]8;id=525453;file:///Users/runner/work/threeML/threeML/threeML/utils/data_download/Fermi_LAT/download_LAT_data.py#266\u001b\\\u001b[2m266\u001b[0m\u001b]8;;\u001b\\\n"
      ]
     },
     "metadata": {},
     "output_type": "display_data"
    },
    {
     "data": {
      "text/html": [
       "<pre style=\"white-space:pre;overflow-x:auto;line-height:normal;font-family:Menlo,'DejaVu Sans Mono',consolas,'Courier New',monospace\"><span style=\"color: #00ff00; text-decoration-color: #00ff00\">         </span><span style=\"color: #00ffaf; text-decoration-color: #00ffaf\">INFO    </span> <span style=\"color: #c6c6c6; text-decoration-color: #c6c6c6; font-weight: bold\">                    energyfield = </span><span style=\"color: #c0c0c0; text-decoration-color: #c0c0c0; font-weight: bold\">30.000</span><span style=\"color: #c6c6c6; text-decoration-color: #c6c6c6; font-weight: bold\">,</span><span style=\"color: #c0c0c0; text-decoration-color: #c0c0c0; font-weight: bold\">1000000.000</span><span style=\"color: #c6c6c6; text-decoration-color: #c6c6c6; font-weight: bold\">                     </span><a href=\"file:///Users/runner/work/threeML/threeML/threeML/utils/data_download/Fermi_LAT/download_LAT_data.py\" target=\"_blank\"><span style=\"color: #7f7f7f; text-decoration-color: #7f7f7f\">download_LAT_data.py</span></a><span style=\"color: #7f7f7f; text-decoration-color: #7f7f7f\">:</span><a href=\"file:///Users/runner/work/threeML/threeML/threeML/utils/data_download/Fermi_LAT/download_LAT_data.py#266\" target=\"_blank\"><span style=\"color: #7f7f7f; text-decoration-color: #7f7f7f\">266</span></a>\n",
       "</pre>\n"
      ],
      "text/plain": [
       "\u001b[38;5;46m        \u001b[0m\u001b[38;5;46m \u001b[0m\u001b[38;5;49mINFO    \u001b[0m \u001b[1;38;5;251m                    energyfield = \u001b[0m\u001b[1;37m30.000\u001b[0m\u001b[1;38;5;251m,\u001b[0m\u001b[1;37m1000000.000\u001b[0m\u001b[1;38;5;251m                    \u001b[0m\u001b[1;38;5;251m \u001b[0m\u001b]8;id=26462;file:///Users/runner/work/threeML/threeML/threeML/utils/data_download/Fermi_LAT/download_LAT_data.py\u001b\\\u001b[2mdownload_LAT_data.py\u001b[0m\u001b]8;;\u001b\\\u001b[2m:\u001b[0m\u001b]8;id=633318;file:///Users/runner/work/threeML/threeML/threeML/utils/data_download/Fermi_LAT/download_LAT_data.py#266\u001b\\\u001b[2m266\u001b[0m\u001b]8;;\u001b\\\n"
      ]
     },
     "metadata": {},
     "output_type": "display_data"
    },
    {
     "data": {
      "text/html": [
       "<pre style=\"white-space:pre;overflow-x:auto;line-height:normal;font-family:Menlo,'DejaVu Sans Mono',consolas,'Courier New',monospace\"><span style=\"color: #00ff00; text-decoration-color: #00ff00\">         </span><span style=\"color: #00ffaf; text-decoration-color: #00ffaf\">INFO    </span> <span style=\"color: #c6c6c6; text-decoration-color: #c6c6c6; font-weight: bold\">         photonOrExtendedOrNone = Photon                                 </span><a href=\"file:///Users/runner/work/threeML/threeML/threeML/utils/data_download/Fermi_LAT/download_LAT_data.py\" target=\"_blank\"><span style=\"color: #7f7f7f; text-decoration-color: #7f7f7f\">download_LAT_data.py</span></a><span style=\"color: #7f7f7f; text-decoration-color: #7f7f7f\">:</span><a href=\"file:///Users/runner/work/threeML/threeML/threeML/utils/data_download/Fermi_LAT/download_LAT_data.py#266\" target=\"_blank\"><span style=\"color: #7f7f7f; text-decoration-color: #7f7f7f\">266</span></a>\n",
       "</pre>\n"
      ],
      "text/plain": [
       "\u001b[38;5;46m        \u001b[0m\u001b[38;5;46m \u001b[0m\u001b[38;5;49mINFO    \u001b[0m \u001b[1;38;5;251m         photonOrExtendedOrNone = Photon                                \u001b[0m\u001b[1;38;5;251m \u001b[0m\u001b]8;id=909203;file:///Users/runner/work/threeML/threeML/threeML/utils/data_download/Fermi_LAT/download_LAT_data.py\u001b\\\u001b[2mdownload_LAT_data.py\u001b[0m\u001b]8;;\u001b\\\u001b[2m:\u001b[0m\u001b]8;id=13252;file:///Users/runner/work/threeML/threeML/threeML/utils/data_download/Fermi_LAT/download_LAT_data.py#266\u001b\\\u001b[2m266\u001b[0m\u001b]8;;\u001b\\\n"
      ]
     },
     "metadata": {},
     "output_type": "display_data"
    },
    {
     "data": {
      "text/html": [
       "<pre style=\"white-space:pre;overflow-x:auto;line-height:normal;font-family:Menlo,'DejaVu Sans Mono',consolas,'Courier New',monospace\"><span style=\"color: #00ff00; text-decoration-color: #00ff00\">         </span><span style=\"color: #00ffaf; text-decoration-color: #00ffaf\">INFO    </span> <span style=\"color: #c6c6c6; text-decoration-color: #c6c6c6; font-weight: bold\">                    destination = query                                  </span><a href=\"file:///Users/runner/work/threeML/threeML/threeML/utils/data_download/Fermi_LAT/download_LAT_data.py\" target=\"_blank\"><span style=\"color: #7f7f7f; text-decoration-color: #7f7f7f\">download_LAT_data.py</span></a><span style=\"color: #7f7f7f; text-decoration-color: #7f7f7f\">:</span><a href=\"file:///Users/runner/work/threeML/threeML/threeML/utils/data_download/Fermi_LAT/download_LAT_data.py#266\" target=\"_blank\"><span style=\"color: #7f7f7f; text-decoration-color: #7f7f7f\">266</span></a>\n",
       "</pre>\n"
      ],
      "text/plain": [
       "\u001b[38;5;46m        \u001b[0m\u001b[38;5;46m \u001b[0m\u001b[38;5;49mINFO    \u001b[0m \u001b[1;38;5;251m                    destination = query                                 \u001b[0m\u001b[1;38;5;251m \u001b[0m\u001b]8;id=828834;file:///Users/runner/work/threeML/threeML/threeML/utils/data_download/Fermi_LAT/download_LAT_data.py\u001b\\\u001b[2mdownload_LAT_data.py\u001b[0m\u001b]8;;\u001b\\\u001b[2m:\u001b[0m\u001b]8;id=992641;file:///Users/runner/work/threeML/threeML/threeML/utils/data_download/Fermi_LAT/download_LAT_data.py#266\u001b\\\u001b[2m266\u001b[0m\u001b]8;;\u001b\\\n"
      ]
     },
     "metadata": {},
     "output_type": "display_data"
    },
    {
     "data": {
      "text/html": [
       "<pre style=\"white-space:pre;overflow-x:auto;line-height:normal;font-family:Menlo,'DejaVu Sans Mono',consolas,'Courier New',monospace\"><span style=\"color: #00ff00; text-decoration-color: #00ff00\">         </span><span style=\"color: #00ffaf; text-decoration-color: #00ffaf\">INFO    </span> <span style=\"color: #c6c6c6; text-decoration-color: #c6c6c6; font-weight: bold\">                     spacecraft = checked                                </span><a href=\"file:///Users/runner/work/threeML/threeML/threeML/utils/data_download/Fermi_LAT/download_LAT_data.py\" target=\"_blank\"><span style=\"color: #7f7f7f; text-decoration-color: #7f7f7f\">download_LAT_data.py</span></a><span style=\"color: #7f7f7f; text-decoration-color: #7f7f7f\">:</span><a href=\"file:///Users/runner/work/threeML/threeML/threeML/utils/data_download/Fermi_LAT/download_LAT_data.py#266\" target=\"_blank\"><span style=\"color: #7f7f7f; text-decoration-color: #7f7f7f\">266</span></a>\n",
       "</pre>\n"
      ],
      "text/plain": [
       "\u001b[38;5;46m        \u001b[0m\u001b[38;5;46m \u001b[0m\u001b[38;5;49mINFO    \u001b[0m \u001b[1;38;5;251m                     spacecraft = checked                               \u001b[0m\u001b[1;38;5;251m \u001b[0m\u001b]8;id=230768;file:///Users/runner/work/threeML/threeML/threeML/utils/data_download/Fermi_LAT/download_LAT_data.py\u001b\\\u001b[2mdownload_LAT_data.py\u001b[0m\u001b]8;;\u001b\\\u001b[2m:\u001b[0m\u001b]8;id=672892;file:///Users/runner/work/threeML/threeML/threeML/utils/data_download/Fermi_LAT/download_LAT_data.py#266\u001b\\\u001b[2m266\u001b[0m\u001b]8;;\u001b\\\n"
      ]
     },
     "metadata": {},
     "output_type": "display_data"
    },
    {
     "data": {
      "text/html": [
       "<pre style=\"white-space:pre;overflow-x:auto;line-height:normal;font-family:Menlo,'DejaVu Sans Mono',consolas,'Courier New',monospace\"><span style=\"color: #00ff00; text-decoration-color: #00ff00\">         </span><span style=\"color: #00ffaf; text-decoration-color: #00ffaf\">INFO    </span> <span style=\"color: #c6c6c6; text-decoration-color: #c6c6c6; font-weight: bold\"> Query ID: 9f8de773c6ba4abf7fbabfdb909f7005                              </span><a href=\"file:///Users/runner/work/threeML/threeML/threeML/utils/data_download/Fermi_LAT/download_LAT_data.py\" target=\"_blank\"><span style=\"color: #7f7f7f; text-decoration-color: #7f7f7f\">download_LAT_data.py</span></a><span style=\"color: #7f7f7f; text-decoration-color: #7f7f7f\">:</span><a href=\"file:///Users/runner/work/threeML/threeML/threeML/utils/data_download/Fermi_LAT/download_LAT_data.py#271\" target=\"_blank\"><span style=\"color: #7f7f7f; text-decoration-color: #7f7f7f\">271</span></a>\n",
       "</pre>\n"
      ],
      "text/plain": [
       "\u001b[38;5;46m        \u001b[0m\u001b[38;5;46m \u001b[0m\u001b[38;5;49mINFO    \u001b[0m \u001b[1;38;5;251m Query ID: 9f8de773c6ba4abf7fbabfdb909f7005                             \u001b[0m\u001b[1;38;5;251m \u001b[0m\u001b]8;id=97461;file:///Users/runner/work/threeML/threeML/threeML/utils/data_download/Fermi_LAT/download_LAT_data.py\u001b\\\u001b[2mdownload_LAT_data.py\u001b[0m\u001b]8;;\u001b\\\u001b[2m:\u001b[0m\u001b]8;id=40060;file:///Users/runner/work/threeML/threeML/threeML/utils/data_download/Fermi_LAT/download_LAT_data.py#271\u001b\\\u001b[2m271\u001b[0m\u001b]8;;\u001b\\\n"
      ]
     },
     "metadata": {},
     "output_type": "display_data"
    },
    {
     "data": {
      "text/html": [
       "<pre style=\"white-space:pre;overflow-x:auto;line-height:normal;font-family:Menlo,'DejaVu Sans Mono',consolas,'Courier New',monospace\"><span style=\"color: #00ff00; text-decoration-color: #00ff00\">02:33:51 </span><span style=\"color: #00ffaf; text-decoration-color: #00ffaf\">INFO    </span> <span style=\"color: #c6c6c6; text-decoration-color: #c6c6c6; font-weight: bold\"> Estimated complete time for your query: </span><span style=\"color: #c0c0c0; text-decoration-color: #c0c0c0; font-weight: bold\">13</span><span style=\"color: #c6c6c6; text-decoration-color: #c6c6c6; font-weight: bold\"> seconds                      </span><a href=\"file:///Users/runner/work/threeML/threeML/threeML/utils/data_download/Fermi_LAT/download_LAT_data.py\" target=\"_blank\"><span style=\"color: #7f7f7f; text-decoration-color: #7f7f7f\">download_LAT_data.py</span></a><span style=\"color: #7f7f7f; text-decoration-color: #7f7f7f\">:</span><a href=\"file:///Users/runner/work/threeML/threeML/threeML/utils/data_download/Fermi_LAT/download_LAT_data.py#428\" target=\"_blank\"><span style=\"color: #7f7f7f; text-decoration-color: #7f7f7f\">428</span></a>\n",
       "</pre>\n"
      ],
      "text/plain": [
       "\u001b[38;5;46m02:33:51\u001b[0m\u001b[38;5;46m \u001b[0m\u001b[38;5;49mINFO    \u001b[0m \u001b[1;38;5;251m Estimated complete time for your query: \u001b[0m\u001b[1;37m13\u001b[0m\u001b[1;38;5;251m seconds                     \u001b[0m\u001b[1;38;5;251m \u001b[0m\u001b]8;id=185649;file:///Users/runner/work/threeML/threeML/threeML/utils/data_download/Fermi_LAT/download_LAT_data.py\u001b\\\u001b[2mdownload_LAT_data.py\u001b[0m\u001b]8;;\u001b\\\u001b[2m:\u001b[0m\u001b]8;id=645919;file:///Users/runner/work/threeML/threeML/threeML/utils/data_download/Fermi_LAT/download_LAT_data.py#428\u001b\\\u001b[2m428\u001b[0m\u001b]8;;\u001b\\\n"
      ]
     },
     "metadata": {},
     "output_type": "display_data"
    },
    {
     "data": {
      "text/html": [
       "<pre style=\"white-space:pre;overflow-x:auto;line-height:normal;font-family:Menlo,'DejaVu Sans Mono',consolas,'Courier New',monospace\"><span style=\"color: #00ff00; text-decoration-color: #00ff00\">         </span><span style=\"color: #00ffaf; text-decoration-color: #00ffaf\">INFO    </span> <span style=\"color: #c6c6c6; text-decoration-color: #c6c6c6; font-weight: bold\"> If this download fails, you can find your data at                       </span><a href=\"file:///Users/runner/work/threeML/threeML/threeML/utils/data_download/Fermi_LAT/download_LAT_data.py\" target=\"_blank\"><span style=\"color: #7f7f7f; text-decoration-color: #7f7f7f\">download_LAT_data.py</span></a><span style=\"color: #7f7f7f; text-decoration-color: #7f7f7f\">:</span><a href=\"file:///Users/runner/work/threeML/threeML/threeML/utils/data_download/Fermi_LAT/download_LAT_data.py#437\" target=\"_blank\"><span style=\"color: #7f7f7f; text-decoration-color: #7f7f7f\">437</span></a>\n",
       "<span style=\"color: #00ff00; text-decoration-color: #00ff00\">         </span>         <span style=\"color: #d7d7d7; text-decoration-color: #d7d7d7; text-decoration: underline\">https://fermi.gsfc.nasa.gov/cgi-bin/ssc/LAT/QueryResults.cgi?id=L2502052</span><span style=\"color: #c6c6c6; text-decoration-color: #c6c6c6; font-weight: bold\"> </span><span style=\"color: #7f7f7f; text-decoration-color: #7f7f7f\">                        </span>\n",
       "<span style=\"color: #00ff00; text-decoration-color: #00ff00\">         </span>         <span style=\"color: #d7d7d7; text-decoration-color: #d7d7d7; text-decoration: underline\">13352D1968AF245</span><span style=\"color: #c6c6c6; text-decoration-color: #c6c6c6; font-weight: bold\"> (when ready)                                             </span><span style=\"color: #7f7f7f; text-decoration-color: #7f7f7f\">                        </span>\n",
       "</pre>\n"
      ],
      "text/plain": [
       "\u001b[38;5;46m        \u001b[0m\u001b[38;5;46m \u001b[0m\u001b[38;5;49mINFO    \u001b[0m \u001b[1;38;5;251m If this download fails, you can find your data at                      \u001b[0m\u001b[1;38;5;251m \u001b[0m\u001b]8;id=413462;file:///Users/runner/work/threeML/threeML/threeML/utils/data_download/Fermi_LAT/download_LAT_data.py\u001b\\\u001b[2mdownload_LAT_data.py\u001b[0m\u001b]8;;\u001b\\\u001b[2m:\u001b[0m\u001b]8;id=147802;file:///Users/runner/work/threeML/threeML/threeML/utils/data_download/Fermi_LAT/download_LAT_data.py#437\u001b\\\u001b[2m437\u001b[0m\u001b]8;;\u001b\\\n",
       "\u001b[38;5;46m         \u001b[0m         \u001b[4;38;5;188mhttps://fermi.gsfc.nasa.gov/cgi-bin/ssc/LAT/QueryResults.cgi?\u001b[0m\u001b[4;38;5;188mid\u001b[0m\u001b[4;38;5;188m=\u001b[0m\u001b[4;38;5;188mL2502052\u001b[0m\u001b[1;38;5;251m \u001b[0m\u001b[2m                        \u001b[0m\n",
       "\u001b[38;5;46m         \u001b[0m         \u001b[4;38;5;188m13352D1968AF245\u001b[0m\u001b[1;38;5;251m \u001b[0m\u001b[1;38;5;251m(\u001b[0m\u001b[1;38;5;251mwhen ready\u001b[0m\u001b[1;38;5;251m)\u001b[0m\u001b[1;38;5;251m                                            \u001b[0m\u001b[1;38;5;251m \u001b[0m\u001b[2m                        \u001b[0m\n"
      ]
     },
     "metadata": {},
     "output_type": "display_data"
    },
    {
     "data": {
      "text/html": [
       "<pre style=\"white-space:pre;overflow-x:auto;line-height:normal;font-family:Menlo,'DejaVu Sans Mono',consolas,'Courier New',monospace\"><span style=\"color: #00ff00; text-decoration-color: #00ff00\">02:34:06 </span><span style=\"color: #00ffaf; text-decoration-color: #00ffaf\">INFO    </span> <span style=\"color: #c6c6c6; text-decoration-color: #c6c6c6; font-weight: bold\"> Downloading FT1 and FT2 files</span><span style=\"color: #808000; text-decoration-color: #808000; font-weight: bold\">...</span><span style=\"color: #c6c6c6; text-decoration-color: #c6c6c6; font-weight: bold\">                                        </span><a href=\"file:///Users/runner/work/threeML/threeML/threeML/utils/data_download/Fermi_LAT/download_LAT_data.py\" target=\"_blank\"><span style=\"color: #7f7f7f; text-decoration-color: #7f7f7f\">download_LAT_data.py</span></a><span style=\"color: #7f7f7f; text-decoration-color: #7f7f7f\">:</span><a href=\"file:///Users/runner/work/threeML/threeML/threeML/utils/data_download/Fermi_LAT/download_LAT_data.py#527\" target=\"_blank\"><span style=\"color: #7f7f7f; text-decoration-color: #7f7f7f\">527</span></a>\n",
       "</pre>\n"
      ],
      "text/plain": [
       "\u001b[38;5;46m02:34:06\u001b[0m\u001b[38;5;46m \u001b[0m\u001b[38;5;49mINFO    \u001b[0m \u001b[1;38;5;251m Downloading FT1 and FT2 files\u001b[0m\u001b[1;33m...\u001b[0m\u001b[1;38;5;251m                                       \u001b[0m\u001b[1;38;5;251m \u001b[0m\u001b]8;id=62927;file:///Users/runner/work/threeML/threeML/threeML/utils/data_download/Fermi_LAT/download_LAT_data.py\u001b\\\u001b[2mdownload_LAT_data.py\u001b[0m\u001b]8;;\u001b\\\u001b[2m:\u001b[0m\u001b]8;id=657129;file:///Users/runner/work/threeML/threeML/threeML/utils/data_download/Fermi_LAT/download_LAT_data.py#527\u001b\\\u001b[2m527\u001b[0m\u001b]8;;\u001b\\\n"
      ]
     },
     "metadata": {},
     "output_type": "display_data"
    },
    {
     "data": {
      "application/vnd.jupyter.widget-view+json": {
       "model_id": "fe739d54731d405c888e08c25feb52f9",
       "version_major": 2,
       "version_minor": 0
      },
      "text/plain": [
       "Downloading L250205213352D1968AF245_PH00.fits:   0%|          | 0.00/16.3M [00:00<?, ?B/s]"
      ]
     },
     "metadata": {},
     "output_type": "display_data"
    },
    {
     "data": {
      "application/vnd.jupyter.widget-view+json": {
       "model_id": "c2d360ac39a34fd09982caa9c83e11ad",
       "version_major": 2,
       "version_minor": 0
      },
      "text/plain": [
       "Downloading L250205213352D1968AF245_SC00.fits:   0%|          | 0.00/11.9M [00:00<?, ?B/s]"
      ]
     },
     "metadata": {},
     "output_type": "display_data"
    }
   ],
   "source": [
    "# Download data from Jan 01 2010 to February 1 2010\n",
    "\n",
    "tstart = \"2010-01-01 00:00:00\"\n",
    "tstop = \"2010-02-01 00:00:00\"\n",
    "\n",
    "# Note that this will understand if you already download these files, and will\n",
    "# not do it twice unless you change your selection or the outdir\n",
    "\n",
    "evfile, scfile = download_LAT_data(\n",
    "    ra,\n",
    "    dec,\n",
    "    20.0,\n",
    "    tstart,\n",
    "    tstop,\n",
    "    time_type=\"Gregorian\",\n",
    "    destination_directory=\"Crab_data\",\n",
    ")"
   ]
  },
  {
   "cell_type": "markdown",
   "id": "a28f6076",
   "metadata": {},
   "source": [
    "## Configuration for Fermipy\n",
    "\n",
    "3ML provides and intreface into [Fermipy](https://fermipy.readthedocs.io/en/latest/) via the **FermipyLike** plugin. We can use it to generate basic configuration files.\n"
   ]
  },
  {
   "cell_type": "markdown",
   "id": "80412bb0",
   "metadata": {},
   "source": [
    ".. note::\n",
    "    Currently, the FermipyLike plugin does not provide an interface to handle extended sources. This will change\n"
   ]
  },
  {
   "cell_type": "code",
   "execution_count": 10,
   "id": "7234fbc2",
   "metadata": {
    "execution": {
     "iopub.execute_input": "2025-02-06T02:34:23.207371Z",
     "iopub.status.busy": "2025-02-06T02:34:23.206868Z",
     "iopub.status.idle": "2025-02-06T02:34:23.226352Z",
     "shell.execute_reply": "2025-02-06T02:34:23.225051Z"
    }
   },
   "outputs": [
    {
     "name": "stdout",
     "output_type": "stream",
     "text": [
      "binning:\n",
      "  binsperdec: 8\n",
      "  binsz: 0.1\n",
      "  roiwidth: 10.0\n",
      "data:\n",
      "  evfile: /Users/runner/work/threeML/threeML/docs/md_docs/slow_execute/Crab_data/L9f8de773c6ba4abf7fbabfdb909f7005_FT1.fits\n",
      "  scfile: /Users/runner/work/threeML/threeML/docs/md_docs/slow_execute/Crab_data/L250205213352D1968AF245_SC00.fits\n",
      "logging:\n",
      "  chatter: 0\n",
      "  verbosity: 1\n",
      "selection:\n",
      "  dec: 22.01739478667197\n",
      "  emax: 100000.0\n",
      "  emin: 100.0\n",
      "  evclass: 128\n",
      "  evtype: 3\n",
      "  filter: DATA_QUAL>0 && LAT_CONFIG==1\n",
      "  ra: 83.6324076248989\n",
      "  tmax: 286675202.0\n",
      "  tmin: 283996802.0\n",
      "  zmax: 100.0\n",
      "\n"
     ]
    },
    {
     "data": {
      "text/html": [
       "<pre>binning:\n",
       "  binsperdec: 8\n",
       "  binsz: 0.1\n",
       "  roiwidth: 10.0\n",
       "data:\n",
       "  evfile: /Users/runner/work/threeML/threeML/docs/md_docs/slow_execute/Crab_data/L9f8de773c6ba4abf7fbabfdb909f7005_FT1.fits\n",
       "  scfile: /Users/runner/work/threeML/threeML/docs/md_docs/slow_execute/Crab_data/L250205213352D1968AF245_SC00.fits\n",
       "logging:\n",
       "  chatter: 0\n",
       "  verbosity: 1\n",
       "selection:\n",
       "  dec: 22.01739478667197\n",
       "  emax: 100000.0\n",
       "  emin: 100.0\n",
       "  evclass: 128\n",
       "  evtype: 3\n",
       "  filter: DATA_QUAL>0 && LAT_CONFIG==1\n",
       "  ra: 83.6324076248989\n",
       "  tmax: 286675202.0\n",
       "  tmin: 283996802.0\n",
       "  zmax: 100.0\n",
       "</pre>"
      ],
      "text/plain": []
     },
     "metadata": {},
     "output_type": "display_data"
    }
   ],
   "source": [
    "config = FermipyLike.get_basic_config(\n",
    "    evfile=evfile,\n",
    "    scfile=scfile,\n",
    "    ra=ra,\n",
    "    dec=dec,\n",
    "    fermipy_verbosity=1,\n",
    "    fermitools_chatter=0,\n",
    ")\n",
    "\n",
    "# See what we just got\n",
    "\n",
    "config.display()"
   ]
  },
  {
   "cell_type": "markdown",
   "id": "07d4428e",
   "metadata": {},
   "source": [
    "You can of course modify the configuration as a dictionary"
   ]
  },
  {
   "cell_type": "code",
   "execution_count": 11,
   "id": "919baa79",
   "metadata": {
    "execution": {
     "iopub.execute_input": "2025-02-06T02:34:23.232397Z",
     "iopub.status.busy": "2025-02-06T02:34:23.232059Z",
     "iopub.status.idle": "2025-02-06T02:34:23.238296Z",
     "shell.execute_reply": "2025-02-06T02:34:23.236560Z"
    }
   },
   "outputs": [],
   "source": [
    "config[\"selection\"][\"emax\"] = 300000.0"
   ]
  },
  {
   "cell_type": "markdown",
   "id": "54b37acb",
   "metadata": {},
   "source": [
    "and even add sections"
   ]
  },
  {
   "cell_type": "code",
   "execution_count": 12,
   "id": "c7a3aa31",
   "metadata": {
    "execution": {
     "iopub.execute_input": "2025-02-06T02:34:23.244235Z",
     "iopub.status.busy": "2025-02-06T02:34:23.243874Z",
     "iopub.status.idle": "2025-02-06T02:34:23.257388Z",
     "shell.execute_reply": "2025-02-06T02:34:23.255855Z"
    }
   },
   "outputs": [
    {
     "name": "stdout",
     "output_type": "stream",
     "text": [
      "binning:\n",
      "  binsperdec: 8\n",
      "  binsz: 0.1\n",
      "  roiwidth: 10.0\n",
      "data:\n",
      "  evfile: /Users/runner/work/threeML/threeML/docs/md_docs/slow_execute/Crab_data/L9f8de773c6ba4abf7fbabfdb909f7005_FT1.fits\n",
      "  scfile: /Users/runner/work/threeML/threeML/docs/md_docs/slow_execute/Crab_data/L250205213352D1968AF245_SC00.fits\n",
      "gtlike:\n",
      "  edisp: false\n",
      "logging:\n",
      "  chatter: 0\n",
      "  verbosity: 1\n",
      "selection:\n",
      "  dec: 22.01739478667197\n",
      "  emax: 300000.0\n",
      "  emin: 100.0\n",
      "  evclass: 128\n",
      "  evtype: 3\n",
      "  filter: DATA_QUAL>0 && LAT_CONFIG==1\n",
      "  ra: 83.6324076248989\n",
      "  tmax: 286675202.0\n",
      "  tmin: 283996802.0\n",
      "  zmax: 100.0\n",
      "\n"
     ]
    },
    {
     "data": {
      "text/html": [
       "<pre>binning:\n",
       "  binsperdec: 8\n",
       "  binsz: 0.1\n",
       "  roiwidth: 10.0\n",
       "data:\n",
       "  evfile: /Users/runner/work/threeML/threeML/docs/md_docs/slow_execute/Crab_data/L9f8de773c6ba4abf7fbabfdb909f7005_FT1.fits\n",
       "  scfile: /Users/runner/work/threeML/threeML/docs/md_docs/slow_execute/Crab_data/L250205213352D1968AF245_SC00.fits\n",
       "gtlike:\n",
       "  edisp: false\n",
       "logging:\n",
       "  chatter: 0\n",
       "  verbosity: 1\n",
       "selection:\n",
       "  dec: 22.01739478667197\n",
       "  emax: 300000.0\n",
       "  emin: 100.0\n",
       "  evclass: 128\n",
       "  evtype: 3\n",
       "  filter: DATA_QUAL>0 && LAT_CONFIG==1\n",
       "  ra: 83.6324076248989\n",
       "  tmax: 286675202.0\n",
       "  tmin: 283996802.0\n",
       "  zmax: 100.0\n",
       "</pre>"
      ],
      "text/plain": []
     },
     "metadata": {},
     "output_type": "display_data"
    }
   ],
   "source": [
    "config[\"gtlike\"] = {\"edisp\": False}\n",
    "\n",
    "config.display()"
   ]
  },
  {
   "cell_type": "markdown",
   "id": "1615fdae",
   "metadata": {},
   "source": [
    "### FermipyLike\n",
    "Let's create an instance of the plugin/ Note that here no processing is made, because fermipy still doesn't know about the model you want to use.\n",
    "\n"
   ]
  },
  {
   "cell_type": "code",
   "execution_count": 13,
   "id": "c68530b5",
   "metadata": {
    "execution": {
     "iopub.execute_input": "2025-02-06T02:34:23.263070Z",
     "iopub.status.busy": "2025-02-06T02:34:23.262613Z",
     "iopub.status.idle": "2025-02-06T02:34:23.760451Z",
     "shell.execute_reply": "2025-02-06T02:34:23.759189Z"
    }
   },
   "outputs": [],
   "source": [
    "LAT = FermipyLike(\"LAT\", config)"
   ]
  },
  {
   "cell_type": "markdown",
   "id": "10889a0b",
   "metadata": {},
   "source": [
    "The plugin modifies the configuration as needed to get the output files in a unique place, which will stay the same as long as your selection does not change."
   ]
  },
  {
   "cell_type": "code",
   "execution_count": 14,
   "id": "93b0d145",
   "metadata": {
    "execution": {
     "iopub.execute_input": "2025-02-06T02:34:23.768102Z",
     "iopub.status.busy": "2025-02-06T02:34:23.767022Z",
     "iopub.status.idle": "2025-02-06T02:34:23.784606Z",
     "shell.execute_reply": "2025-02-06T02:34:23.782485Z"
    }
   },
   "outputs": [
    {
     "name": "stdout",
     "output_type": "stream",
     "text": [
      "binning:\n",
      "  binsperdec: 8\n",
      "  binsz: 0.1\n",
      "  roiwidth: 10.0\n",
      "data:\n",
      "  evfile: /Users/runner/work/threeML/threeML/docs/md_docs/slow_execute/Crab_data/L9f8de773c6ba4abf7fbabfdb909f7005_FT1.fits\n",
      "  scfile: /Users/runner/work/threeML/threeML/docs/md_docs/slow_execute/Crab_data/L250205213352D1968AF245_SC00.fits\n",
      "fileio:\n",
      "  outdir: __5285f4aee1411a21241827230a4692d9\n",
      "gtlike:\n",
      "  edisp: false\n",
      "logging:\n",
      "  chatter: 0\n",
      "  verbosity: 1\n",
      "selection:\n",
      "  dec: 22.01739478667197\n",
      "  emax: 300000.0\n",
      "  emin: 100.0\n",
      "  evclass: 128\n",
      "  evtype: 3\n",
      "  filter: DATA_QUAL>0 && LAT_CONFIG==1\n",
      "  ra: 83.6324076248989\n",
      "  tmax: 286675202.0\n",
      "  tmin: 283996802.0\n",
      "  zmax: 100.0\n",
      "\n"
     ]
    },
    {
     "data": {
      "text/html": [
       "<pre>binning:\n",
       "  binsperdec: 8\n",
       "  binsz: 0.1\n",
       "  roiwidth: 10.0\n",
       "data:\n",
       "  evfile: /Users/runner/work/threeML/threeML/docs/md_docs/slow_execute/Crab_data/L9f8de773c6ba4abf7fbabfdb909f7005_FT1.fits\n",
       "  scfile: /Users/runner/work/threeML/threeML/docs/md_docs/slow_execute/Crab_data/L250205213352D1968AF245_SC00.fits\n",
       "fileio:\n",
       "  outdir: __5285f4aee1411a21241827230a4692d9\n",
       "gtlike:\n",
       "  edisp: false\n",
       "logging:\n",
       "  chatter: 0\n",
       "  verbosity: 1\n",
       "selection:\n",
       "  dec: 22.01739478667197\n",
       "  emax: 300000.0\n",
       "  emin: 100.0\n",
       "  evclass: 128\n",
       "  evtype: 3\n",
       "  filter: DATA_QUAL>0 && LAT_CONFIG==1\n",
       "  ra: 83.6324076248989\n",
       "  tmax: 286675202.0\n",
       "  tmin: 283996802.0\n",
       "  zmax: 100.0\n",
       "</pre>"
      ],
      "text/plain": []
     },
     "metadata": {},
     "output_type": "display_data"
    }
   ],
   "source": [
    "config.display()"
   ]
  },
  {
   "cell_type": "markdown",
   "id": "12ed1e29",
   "metadata": {},
   "source": [
    "Here is where the fermipy processing happens (the .setup method)"
   ]
  },
  {
   "cell_type": "code",
   "execution_count": 15,
   "id": "bc31ec53",
   "metadata": {
    "execution": {
     "iopub.execute_input": "2025-02-06T02:34:23.791426Z",
     "iopub.status.busy": "2025-02-06T02:34:23.790993Z",
     "iopub.status.idle": "2025-02-06T02:47:28.834847Z",
     "shell.execute_reply": "2025-02-06T02:47:28.831623Z"
    }
   },
   "outputs": [
    {
     "name": "stdout",
     "output_type": "stream",
     "text": [
      "Fermipy Output directoty: __5285f4aee1411a21241827230a4692d9\n"
     ]
    },
    {
     "data": {
      "text/html": [
       "<pre style=\"white-space:pre;overflow-x:auto;line-height:normal;font-family:Menlo,'DejaVu Sans Mono',consolas,'Courier New',monospace\"><span style=\"color: #00ff00; text-decoration-color: #00ff00\">02:34:23 </span><span style=\"color: #00ffaf; text-decoration-color: #00ffaf\">INFO    </span> <span style=\"color: #c6c6c6; text-decoration-color: #c6c6c6; font-weight: bold\"> Using IRFs P8R3_SOURCE_V3                                                     </span><a href=\"file:///Users/runner/work/threeML/threeML/threeML/plugins/FermipyLike.py\" target=\"_blank\"><span style=\"color: #7f7f7f; text-decoration-color: #7f7f7f\">FermipyLike.py</span></a><span style=\"color: #7f7f7f; text-decoration-color: #7f7f7f\">:</span><a href=\"file:///Users/runner/work/threeML/threeML/threeML/plugins/FermipyLike.py#126\" target=\"_blank\"><span style=\"color: #7f7f7f; text-decoration-color: #7f7f7f\">126</span></a>\n",
       "</pre>\n"
      ],
      "text/plain": [
       "\u001b[38;5;46m02:34:23\u001b[0m\u001b[38;5;46m \u001b[0m\u001b[38;5;49mINFO    \u001b[0m \u001b[1;38;5;251m Using IRFs P8R3_SOURCE_V3                                                    \u001b[0m\u001b[1;38;5;251m \u001b[0m\u001b]8;id=863927;file:///Users/runner/work/threeML/threeML/threeML/plugins/FermipyLike.py\u001b\\\u001b[2mFermipyLike.py\u001b[0m\u001b]8;;\u001b\\\u001b[2m:\u001b[0m\u001b]8;id=931494;file:///Users/runner/work/threeML/threeML/threeML/plugins/FermipyLike.py#126\u001b\\\u001b[2m126\u001b[0m\u001b]8;;\u001b\\\n"
      ]
     },
     "metadata": {},
     "output_type": "display_data"
    },
    {
     "name": "stdout",
     "output_type": "stream",
     "text": [
      "\n",
      "Found Galactic template for IRF. P8R3_SOURCE_V3: /Users/runner/miniconda3/envs/test_env/share/fermitools/refdata/fermi/galdiffuse/gll_iem_v07.fits\n",
      "\n",
      "Cutting the template around the ROI: \n",
      "\n"
     ]
    },
    {
     "name": "stdout",
     "output_type": "stream",
     "text": [
      "\n",
      "Found Isotropic template for irf P8R3_SOURCE_V3: /Users/runner/miniconda3/envs/test_env/share/fermitools/refdata/fermi/galdiffuse/iso_P8R3_SOURCE_V3_v1.txt\n"
     ]
    },
    {
     "name": "stderr",
     "output_type": "stream",
     "text": [
      "WARNING: Point source PKS_0459p060 lies 17.6445 degrees from the ROI center at RA, Dec = 83.6324, 22.0174 7.57107\n",
      "WARNING: Point source x4FGL_J0610d7p3752 lies 17.6638 degrees from the ROI center at RA, Dec = 83.6324, 22.0174 7.57107\n",
      "WARNING: Point source x4FGL_J0624d0p0855 lies 17.6933 degrees from the ROI center at RA, Dec = 83.6324, 22.0174 7.57107\n",
      "WARNING: Point source x4C_p06d21 lies 17.7222 degrees from the ROI center at RA, Dec = 83.6324, 22.0174 7.57107\n",
      "WARNING: Point source x1ES_0647p250 lies 17.726 degrees from the ROI center at RA, Dec = 83.6324, 22.0174 7.57107\n",
      "WARNING: Point source NVSS_J065035p205556 lies 17.7273 degrees from the ROI center at RA, Dec = 83.6324, 22.0174 7.57107\n",
      "WARNING: Point source x4FGL_J0551d7p0446 lies 17.7387 degrees from the ROI center at RA, Dec = 83.6324, 22.0174 7.57107\n",
      "WARNING: Point source GB6_J0454p3724 lies 17.747 degrees from the ROI center at RA, Dec = 83.6324, 22.0174 7.57107\n",
      "WARNING: Point source PSR_J0631p1036 lies 17.7845 degrees from the ROI center at RA, Dec = 83.6324, 22.0174 7.57107\n",
      "WARNING: Point source GB6_J0648p1749 lies 17.8418 degrees from the ROI center at RA, Dec = 83.6324, 22.0174 7.57107\n",
      "WARNING: Point source x4FGL_J0600d8p0509c lies 18.0107 degrees from the ROI center at RA, Dec = 83.6324, 22.0174 7.57107\n",
      "WARNING: Point source x4FGL_J0537d6p0400 lies 18.0307 degrees from the ROI center at RA, Dec = 83.6324, 22.0174 7.57107\n",
      "WARNING: Point source x4FGL_J0442d8p3609 lies 18.0625 degrees from the ROI center at RA, Dec = 83.6324, 22.0174 7.57107\n",
      "WARNING: Point source x4FGL_J0424d8p3117 lies 18.0853 degrees from the ROI center at RA, Dec = 83.6324, 22.0174 7.57107\n",
      "WARNING: Point source x4FGL_J0450d7p0715 lies 18.1442 degrees from the ROI center at RA, Dec = 83.6324, 22.0174 7.57107\n",
      "WARNING: Point source x4FGL_J0640d4p3307 lies 18.3144 degrees from the ROI center at RA, Dec = 83.6324, 22.0174 7.57107\n",
      "WARNING: Point source B2_0552p39A lies 18.3271 degrees from the ROI center at RA, Dec = 83.6324, 22.0174 7.57107\n",
      "WARNING: Point source x1RXS_J064814d1p160708 lies 18.3626 degrees from the ROI center at RA, Dec = 83.6324, 22.0174 7.57107\n",
      "WARNING: Point source x4FGL_J0634d7p1036 lies 18.3815 degrees from the ROI center at RA, Dec = 83.6324, 22.0174 7.57107\n",
      "WARNING: Point source MG2_J065230p1934 lies 18.3959 degrees from the ROI center at RA, Dec = 83.6324, 22.0174 7.57107\n",
      "WARNING: Point source PKS_0502p049 lies 18.4231 degrees from the ROI center at RA, Dec = 83.6324, 22.0174 7.57107\n",
      "WARNING: Point source RX_J0648d7p1516 lies 18.8098 degrees from the ROI center at RA, Dec = 83.6324, 22.0174 7.57107\n",
      "WARNING: Point source GB6_J0620p3806 lies 18.8371 degrees from the ROI center at RA, Dec = 83.6324, 22.0174 7.57107\n",
      "WARNING: Point source PSR_J0622p3749 lies 18.8534 degrees from the ROI center at RA, Dec = 83.6324, 22.0174 7.57107\n",
      "WARNING: Point source x4FGL_J0641d4p3349 lies 18.8651 degrees from the ROI center at RA, Dec = 83.6324, 22.0174 7.57107\n",
      "WARNING: Point source B2_0654p24 lies 18.868 degrees from the ROI center at RA, Dec = 83.6324, 22.0174 7.57107\n",
      "WARNING: Point source x1RXS_J065331d8p181448 lies 18.8966 degrees from the ROI center at RA, Dec = 83.6324, 22.0174 7.57107\n",
      "WARNING: Point source x4FGL_J0412d6p2253c lies 18.9306 degrees from the ROI center at RA, Dec = 83.6324, 22.0174 7.57107\n",
      "WARNING: Point source GB6_J0653p2816 lies 18.9492 degrees from the ROI center at RA, Dec = 83.6324, 22.0174 7.57107\n",
      "WARNING: Point source PMN_J0444p0717 lies 19.0008 degrees from the ROI center at RA, Dec = 83.6324, 22.0174 7.57107\n",
      "WARNING: Point source MG1_J050533p0415 lies 19.0838 degrees from the ROI center at RA, Dec = 83.6324, 22.0174 7.57107\n",
      "WARNING: Point source x4FGL_J0559d3p0352 lies 19.1179 degrees from the ROI center at RA, Dec = 83.6324, 22.0174 7.57107\n",
      "WARNING: Point source TXS_0431p092 lies 19.1204 degrees from the ROI center at RA, Dec = 83.6324, 22.0174 7.57107\n",
      "WARNING: Point source B3_0509p406 lies 19.2302 degrees from the ROI center at RA, Dec = 83.6324, 22.0174 7.57107\n",
      "WARNING: Point source B2_0635p35 lies 19.2972 degrees from the ROI center at RA, Dec = 83.6324, 22.0174 7.57107\n",
      "WARNING: Point source PKS_0550p032 lies 19.3054 degrees from the ROI center at RA, Dec = 83.6324, 22.0174 7.57107\n",
      "WARNING: Point source x4FGL_J0431d0p3529c lies 19.3172 degrees from the ROI center at RA, Dec = 83.6324, 22.0174 7.57107\n",
      "WARNING: Point source x2MASX_J06533986p1636432 lies 19.4133 degrees from the ROI center at RA, Dec = 83.6324, 22.0174 7.57107\n",
      "WARNING: Point source x4FGL_J0658d7p2318 lies 19.4491 degrees from the ROI center at RA, Dec = 83.6324, 22.0174 7.57107\n",
      "WARNING: Point source x4FGL_J0552d0p0256c lies 19.5445 degrees from the ROI center at RA, Dec = 83.6324, 22.0174 7.57107\n",
      "WARNING: Point source GB6_J0555p0304 lies 19.594 degrees from the ROI center at RA, Dec = 83.6324, 22.0174 7.57107\n",
      "WARNING: Point source B2_0655p27A lies 19.6945 degrees from the ROI center at RA, Dec = 83.6324, 22.0174 7.57107\n",
      "WARNING: Point source x4FGL_J0642d4p1048 lies 19.7348 degrees from the ROI center at RA, Dec = 83.6324, 22.0174 7.57107\n",
      "WARNING: Point source NVSS_J050650p032401 lies 19.7933 degrees from the ROI center at RA, Dec = 83.6324, 22.0174 7.57107\n",
      "WARNING: Point source x4FGL_J0409d2p2542 lies 19.8177 degrees from the ROI center at RA, Dec = 83.6324, 22.0174 7.57107\n"
     ]
    },
    {
     "data": {
      "text/html": [
       "<pre style=\"white-space:pre;overflow-x:auto;line-height:normal;font-family:Menlo,'DejaVu Sans Mono',consolas,'Courier New',monospace\"><span style=\"color: #00ff00; text-decoration-color: #00ff00\">02:47:28 </span><span style=\"color: #00ffaf; text-decoration-color: #00ffaf\">INFO    </span> <span style=\"color: #c6c6c6; text-decoration-color: #c6c6c6; font-weight: bold\"> set the minimizer to minuit                                             </span><a href=\"file:///Users/runner/work/threeML/threeML/threeML/classicMLE/joint_likelihood.py\" target=\"_blank\"><span style=\"color: #7f7f7f; text-decoration-color: #7f7f7f\">joint_likelihood.py</span></a><span style=\"color: #7f7f7f; text-decoration-color: #7f7f7f\">:</span><a href=\"file:///Users/runner/work/threeML/threeML/threeML/classicMLE/joint_likelihood.py#1046\" target=\"_blank\"><span style=\"color: #7f7f7f; text-decoration-color: #7f7f7f\">1046</span></a>\n",
       "</pre>\n"
      ],
      "text/plain": [
       "\u001b[38;5;46m02:47:28\u001b[0m\u001b[38;5;46m \u001b[0m\u001b[38;5;49mINFO    \u001b[0m \u001b[1;38;5;251m set the minimizer to minuit                                            \u001b[0m\u001b[1;38;5;251m \u001b[0m\u001b]8;id=168976;file:///Users/runner/work/threeML/threeML/threeML/classicMLE/joint_likelihood.py\u001b\\\u001b[2mjoint_likelihood.py\u001b[0m\u001b]8;;\u001b\\\u001b[2m:\u001b[0m\u001b]8;id=918705;file:///Users/runner/work/threeML/threeML/threeML/classicMLE/joint_likelihood.py#1046\u001b\\\u001b[2m1046\u001b[0m\u001b]8;;\u001b\\\n"
      ]
     },
     "metadata": {},
     "output_type": "display_data"
    }
   ],
   "source": [
    "fermipy_output_directory = Path(config[\"fileio\"][\"outdir\"])\n",
    "print(\"Fermipy Output directoty: %s\" % fermipy_output_directory)\n",
    "\n",
    "# This remove the output directory, to start a fresh analysis...\n",
    "\n",
    "if fermipy_output_directory.exists():\n",
    "    shutil.rmtree(fermipy_output_directory)\n",
    "\n",
    "# Here is where the fermipy processing happens (the .setup method)\n",
    "\n",
    "data = DataList(LAT)\n",
    "\n",
    "jl = JointLikelihood(model, data)"
   ]
  },
  {
   "cell_type": "markdown",
   "id": "7925505a",
   "metadata": {},
   "source": [
    "The normalization factors of the LAT background components are included in the models as nuisance parameters. They are only added during the previous step (during the model assignment). Let's display them:"
   ]
  },
  {
   "cell_type": "code",
   "execution_count": 16,
   "id": "ad0eea89",
   "metadata": {
    "execution": {
     "iopub.execute_input": "2025-02-06T02:47:28.848982Z",
     "iopub.status.busy": "2025-02-06T02:47:28.847507Z",
     "iopub.status.idle": "2025-02-06T02:47:28.859564Z",
     "shell.execute_reply": "2025-02-06T02:47:28.857528Z"
    }
   },
   "outputs": [
    {
     "name": "stdout",
     "output_type": "stream",
     "text": [
      "LAT_isodiff_Normalization : Parameter LAT_isodiff_Normalization = 1.0 []\n",
      "(min_value = 0.001, max_value = 1000.0, delta = 0.01, free = True)\n",
      "LAT_galdiff_Prefactor : Parameter LAT_galdiff_Prefactor = 1.0 []\n",
      "(min_value = 0.1, max_value = 10.0, delta = 0.01, free = True)\n"
     ]
    }
   ],
   "source": [
    "for k, v in LAT.nuisance_parameters.items():\n",
    "    print(k, \":\", v)"
   ]
  },
  {
   "cell_type": "markdown",
   "id": "0ff5aba5",
   "metadata": {},
   "source": [
    "We will fix the isotropic BG as we are not sensitive to it with this dataset. We will also fix one more weak source."
   ]
  },
  {
   "cell_type": "code",
   "execution_count": 17,
   "id": "38831bed",
   "metadata": {
    "execution": {
     "iopub.execute_input": "2025-02-06T02:47:28.866918Z",
     "iopub.status.busy": "2025-02-06T02:47:28.866003Z",
     "iopub.status.idle": "2025-02-06T02:47:29.066306Z",
     "shell.execute_reply": "2025-02-06T02:47:29.064983Z"
    }
   },
   "outputs": [
    {
     "data": {
      "text/html": [
       "Model summary:<br><br><div>\n",
       "<style scoped>\n",
       "    .dataframe tbody tr th:only-of-type {\n",
       "        vertical-align: middle;\n",
       "    }\n",
       "\n",
       "    .dataframe tbody tr th {\n",
       "        vertical-align: top;\n",
       "    }\n",
       "\n",
       "    .dataframe thead th {\n",
       "        text-align: right;\n",
       "    }\n",
       "</style>\n",
       "<table border=\"1\" class=\"dataframe\">\n",
       "  <thead>\n",
       "    <tr style=\"text-align: right;\">\n",
       "      <th></th>\n",
       "      <th>N</th>\n",
       "    </tr>\n",
       "  </thead>\n",
       "  <tbody>\n",
       "    <tr>\n",
       "      <th>Point sources</th>\n",
       "      <td>196</td>\n",
       "    </tr>\n",
       "    <tr>\n",
       "      <th>Extended sources</th>\n",
       "      <td>0</td>\n",
       "    </tr>\n",
       "    <tr>\n",
       "      <th>Particle sources</th>\n",
       "      <td>0</td>\n",
       "    </tr>\n",
       "  </tbody>\n",
       "</table>\n",
       "</div><br><br>Free parameters (4):<br><br><div>\n",
       "<style scoped>\n",
       "    .dataframe tbody tr th:only-of-type {\n",
       "        vertical-align: middle;\n",
       "    }\n",
       "\n",
       "    .dataframe tbody tr th {\n",
       "        vertical-align: top;\n",
       "    }\n",
       "\n",
       "    .dataframe thead th {\n",
       "        text-align: right;\n",
       "    }\n",
       "</style>\n",
       "<table border=\"1\" class=\"dataframe\">\n",
       "  <thead>\n",
       "    <tr style=\"text-align: right;\">\n",
       "      <th></th>\n",
       "      <th>value</th>\n",
       "      <th>min_value</th>\n",
       "      <th>max_value</th>\n",
       "      <th>unit</th>\n",
       "    </tr>\n",
       "  </thead>\n",
       "  <tbody>\n",
       "    <tr>\n",
       "      <th>PSR_J0534p2200.spectrum.main.Super_cutoff_powerlaw.K</th>\n",
       "      <td>0.0</td>\n",
       "      <td>0.0</td>\n",
       "      <td>0.0</td>\n",
       "      <td>keV-1 s-1 cm-2</td>\n",
       "    </tr>\n",
       "    <tr>\n",
       "      <th>PSR_J0534p2200.spectrum.main.Super_cutoff_powerlaw.index</th>\n",
       "      <td>-1.826553</td>\n",
       "      <td>-10.0</td>\n",
       "      <td>10.0</td>\n",
       "      <td></td>\n",
       "    </tr>\n",
       "    <tr>\n",
       "      <th>NVSS_J052622p224801.spectrum.main.Powerlaw.K</th>\n",
       "      <td>0.0</td>\n",
       "      <td>0.0</td>\n",
       "      <td>0.0</td>\n",
       "      <td>keV-1 s-1 cm-2</td>\n",
       "    </tr>\n",
       "    <tr>\n",
       "      <th>LAT_galdiff_Prefactor</th>\n",
       "      <td>1.0</td>\n",
       "      <td>0.1</td>\n",
       "      <td>10.0</td>\n",
       "      <td></td>\n",
       "    </tr>\n",
       "  </tbody>\n",
       "</table>\n",
       "</div><br><br>Fixed parameters (1092):<br>(abridged. Use complete=True to see all fixed parameters)<br><br><br>Properties (0):<br><br>(none)<br><br><br>Linked parameters (0):<br><br>(none)<br><br>Independent variables:<br><br>(none)<br><br>Linked functions (0):<br><br>(none)<br>"
      ],
      "text/plain": [
       "Model summary:\n",
       "==============\n",
       "\n",
       "                    N\n",
       "Point sources     196\n",
       "Extended sources    0\n",
       "Particle sources    0\n",
       "\n",
       "Free parameters (4):\n",
       "--------------------\n",
       "\n",
       "                            value min_value max_value            unit\n",
       "PSR_J0534p2200...K            0.0       0.0       0.0  keV-1 s-1 cm-2\n",
       "PSR_J0534p2200...index  -1.826553     -10.0      10.0                \n",
       "NVSS_J052622p224801...K       0.0       0.0       0.0  keV-1 s-1 cm-2\n",
       "LAT_galdiff_Prefactor         1.0       0.1      10.0                \n",
       "\n",
       "Fixed parameters (1092):\n",
       "(abridged. Use complete=True to see all fixed parameters)\n",
       "\n",
       "\n",
       "Properties (0):\n",
       "--------------------\n",
       "\n",
       "(none)\n",
       "\n",
       "\n",
       "Linked parameters (0):\n",
       "----------------------\n",
       "\n",
       "(none)\n",
       "\n",
       "Independent variables:\n",
       "----------------------\n",
       "\n",
       "(none)\n",
       "\n",
       "Linked functions (0):\n",
       "----------------------\n",
       "\n",
       "(none)"
      ]
     },
     "metadata": {},
     "output_type": "display_data"
    }
   ],
   "source": [
    "model.LAT_isodiff_Normalization.fix = True\n",
    "model.x4FGL_J0544d4p2238.spectrum.main.Powerlaw.K.fix = True\n",
    "model.display()"
   ]
  },
  {
   "cell_type": "markdown",
   "id": "b03cdc83",
   "metadata": {},
   "source": [
    "### Performing the fit"
   ]
  },
  {
   "cell_type": "code",
   "execution_count": 18,
   "id": "91f194d9",
   "metadata": {
    "execution": {
     "iopub.execute_input": "2025-02-06T02:47:29.072704Z",
     "iopub.status.busy": "2025-02-06T02:47:29.072363Z",
     "iopub.status.idle": "2025-02-06T02:47:41.800805Z",
     "shell.execute_reply": "2025-02-06T02:47:41.799333Z"
    }
   },
   "outputs": [
    {
     "data": {
      "text/html": [
       "<pre style=\"white-space:pre;overflow-x:auto;line-height:normal;font-family:Menlo,'DejaVu Sans Mono',consolas,'Courier New',monospace\"><span style=\"color: #00ff00; text-decoration-color: #00ff00\">02:47:29 </span><span style=\"color: #00ffaf; text-decoration-color: #00ffaf\">INFO    </span> <span style=\"color: #c6c6c6; text-decoration-color: #c6c6c6; font-weight: bold\"> set the minimizer to MINUIT                                             </span><a href=\"file:///Users/runner/work/threeML/threeML/threeML/classicMLE/joint_likelihood.py\" target=\"_blank\"><span style=\"color: #7f7f7f; text-decoration-color: #7f7f7f\">joint_likelihood.py</span></a><span style=\"color: #7f7f7f; text-decoration-color: #7f7f7f\">:</span><a href=\"file:///Users/runner/work/threeML/threeML/threeML/classicMLE/joint_likelihood.py#1063\" target=\"_blank\"><span style=\"color: #7f7f7f; text-decoration-color: #7f7f7f\">1063</span></a>\n",
       "</pre>\n"
      ],
      "text/plain": [
       "\u001b[38;5;46m02:47:29\u001b[0m\u001b[38;5;46m \u001b[0m\u001b[38;5;49mINFO    \u001b[0m \u001b[1;38;5;251m set the minimizer to MINUIT                                            \u001b[0m\u001b[1;38;5;251m \u001b[0m\u001b]8;id=518534;file:///Users/runner/work/threeML/threeML/threeML/classicMLE/joint_likelihood.py\u001b\\\u001b[2mjoint_likelihood.py\u001b[0m\u001b]8;;\u001b\\\u001b[2m:\u001b[0m\u001b]8;id=191251;file:///Users/runner/work/threeML/threeML/threeML/classicMLE/joint_likelihood.py#1063\u001b\\\u001b[2m1063\u001b[0m\u001b]8;;\u001b\\\n"
      ]
     },
     "metadata": {},
     "output_type": "display_data"
    },
    {
     "data": {
      "text/html": [
       "<pre style=\"white-space:pre;overflow-x:auto;line-height:normal;font-family:Menlo,'DejaVu Sans Mono',consolas,'Courier New',monospace\"><span style=\"color: #00ffaf; text-decoration-color: #00ffaf; font-weight: bold; text-decoration: underline\">Best fit values:</span>\n",
       "\n",
       "</pre>\n"
      ],
      "text/plain": [
       "\u001b[1;4;38;5;49mBest fit values:\u001b[0m\n",
       "\n"
      ]
     },
     "metadata": {},
     "output_type": "display_data"
    },
    {
     "data": {
      "text/html": [
       "<div>\n",
       "<style scoped>\n",
       "    .dataframe tbody tr th:only-of-type {\n",
       "        vertical-align: middle;\n",
       "    }\n",
       "\n",
       "    .dataframe tbody tr th {\n",
       "        vertical-align: top;\n",
       "    }\n",
       "\n",
       "    .dataframe thead th {\n",
       "        text-align: right;\n",
       "    }\n",
       "</style>\n",
       "<table border=\"1\" class=\"dataframe\">\n",
       "  <thead>\n",
       "    <tr style=\"text-align: right;\">\n",
       "      <th></th>\n",
       "      <th>result</th>\n",
       "      <th>unit</th>\n",
       "    </tr>\n",
       "    <tr>\n",
       "      <th>parameter</th>\n",
       "      <th></th>\n",
       "      <th></th>\n",
       "    </tr>\n",
       "  </thead>\n",
       "  <tbody>\n",
       "    <tr>\n",
       "      <th>PSR_J0534p2200...K</th>\n",
       "      <td>(2.46 -0.08 +0.09) x 10^-13</td>\n",
       "      <td>1 / (cm2 keV s)</td>\n",
       "    </tr>\n",
       "    <tr>\n",
       "      <th>PSR_J0534p2200...index</th>\n",
       "      <td>-1.790 +/- 0.025</td>\n",
       "      <td></td>\n",
       "    </tr>\n",
       "    <tr>\n",
       "      <th>NVSS_J052622p224801.spectrum.main.Powerlaw.K</th>\n",
       "      <td>(0.9 -0.5 +1.0) x 10^-16</td>\n",
       "      <td>1 / (cm2 keV s)</td>\n",
       "    </tr>\n",
       "    <tr>\n",
       "      <th>LAT_galdiff_Prefactor</th>\n",
       "      <td>(9.36 +/- 0.08) x 10^-1</td>\n",
       "      <td></td>\n",
       "    </tr>\n",
       "  </tbody>\n",
       "</table>\n",
       "</div>"
      ],
      "text/plain": [
       "                                                                   result  \\\n",
       "parameter                                                                   \n",
       "PSR_J0534p2200...K                            (2.46 -0.08 +0.09) x 10^-13   \n",
       "PSR_J0534p2200...index                                   -1.790 +/- 0.025   \n",
       "NVSS_J052622p224801.spectrum.main.Powerlaw.K     (0.9 -0.5 +1.0) x 10^-16   \n",
       "LAT_galdiff_Prefactor                             (9.36 +/- 0.08) x 10^-1   \n",
       "\n",
       "                                                         unit  \n",
       "parameter                                                      \n",
       "PSR_J0534p2200...K                            1 / (cm2 keV s)  \n",
       "PSR_J0534p2200...index                                         \n",
       "NVSS_J052622p224801.spectrum.main.Powerlaw.K  1 / (cm2 keV s)  \n",
       "LAT_galdiff_Prefactor                                          "
      ]
     },
     "metadata": {},
     "output_type": "display_data"
    },
    {
     "data": {
      "text/html": [
       "<pre style=\"white-space:pre;overflow-x:auto;line-height:normal;font-family:Menlo,'DejaVu Sans Mono',consolas,'Courier New',monospace\">\n",
       "<span style=\"color: #00ffaf; text-decoration-color: #00ffaf; font-weight: bold; text-decoration: underline\">Correlation matrix:</span>\n",
       "\n",
       "</pre>\n"
      ],
      "text/plain": [
       "\n",
       "\u001b[1;4;38;5;49mCorrelation matrix:\u001b[0m\n",
       "\n"
      ]
     },
     "metadata": {},
     "output_type": "display_data"
    },
    {
     "data": {
      "text/html": [
       "<div><table id=\"table5202732848\">\n",
       "<tr><td>1.00</td><td>0.73</td><td>-0.05</td><td>-0.11</td></tr>\n",
       "<tr><td>0.73</td><td>1.00</td><td>0.09</td><td>0.16</td></tr>\n",
       "<tr><td>-0.05</td><td>0.09</td><td>1.00</td><td>-0.14</td></tr>\n",
       "<tr><td>-0.11</td><td>0.16</td><td>-0.14</td><td>1.00</td></tr>\n",
       "</table></div>"
      ],
      "text/plain": [
       " 1.00 0.73 -0.05 -0.11\n",
       " 0.73 1.00  0.09  0.16\n",
       "-0.05 0.09  1.00 -0.14\n",
       "-0.11 0.16 -0.14  1.00"
      ]
     },
     "metadata": {},
     "output_type": "display_data"
    },
    {
     "data": {
      "text/html": [
       "<pre style=\"white-space:pre;overflow-x:auto;line-height:normal;font-family:Menlo,'DejaVu Sans Mono',consolas,'Courier New',monospace\">\n",
       "<span style=\"color: #00ffaf; text-decoration-color: #00ffaf; font-weight: bold; text-decoration: underline\">Values of -log(likelihood) at the minimum:</span>\n",
       "\n",
       "</pre>\n"
      ],
      "text/plain": [
       "\n",
       "\u001b[1;4;38;5;49mValues of -\u001b[0m\u001b[1;4;38;5;49mlog\u001b[0m\u001b[1;4;38;5;49m(\u001b[0m\u001b[1;4;38;5;49mlikelihood\u001b[0m\u001b[1;4;38;5;49m)\u001b[0m\u001b[1;4;38;5;49m at the minimum:\u001b[0m\n",
       "\n"
      ]
     },
     "metadata": {},
     "output_type": "display_data"
    },
    {
     "data": {
      "text/html": [
       "<div>\n",
       "<style scoped>\n",
       "    .dataframe tbody tr th:only-of-type {\n",
       "        vertical-align: middle;\n",
       "    }\n",
       "\n",
       "    .dataframe tbody tr th {\n",
       "        vertical-align: top;\n",
       "    }\n",
       "\n",
       "    .dataframe thead th {\n",
       "        text-align: right;\n",
       "    }\n",
       "</style>\n",
       "<table border=\"1\" class=\"dataframe\">\n",
       "  <thead>\n",
       "    <tr style=\"text-align: right;\">\n",
       "      <th></th>\n",
       "      <th>-log(likelihood)</th>\n",
       "    </tr>\n",
       "  </thead>\n",
       "  <tbody>\n",
       "    <tr>\n",
       "      <th>LAT</th>\n",
       "      <td>118143.560677</td>\n",
       "    </tr>\n",
       "    <tr>\n",
       "      <th>total</th>\n",
       "      <td>118143.560677</td>\n",
       "    </tr>\n",
       "  </tbody>\n",
       "</table>\n",
       "</div>"
      ],
      "text/plain": [
       "       -log(likelihood)\n",
       "LAT       118143.560677\n",
       "total     118143.560677"
      ]
     },
     "metadata": {},
     "output_type": "display_data"
    },
    {
     "data": {
      "text/html": [
       "<pre style=\"white-space:pre;overflow-x:auto;line-height:normal;font-family:Menlo,'DejaVu Sans Mono',consolas,'Courier New',monospace\">\n",
       "<span style=\"color: #00ffaf; text-decoration-color: #00ffaf; font-weight: bold; text-decoration: underline\">Values of statistical measures:</span>\n",
       "\n",
       "</pre>\n"
      ],
      "text/plain": [
       "\n",
       "\u001b[1;4;38;5;49mValues of statistical measures:\u001b[0m\n",
       "\n"
      ]
     },
     "metadata": {},
     "output_type": "display_data"
    },
    {
     "data": {
      "text/html": [
       "<div>\n",
       "<style scoped>\n",
       "    .dataframe tbody tr th:only-of-type {\n",
       "        vertical-align: middle;\n",
       "    }\n",
       "\n",
       "    .dataframe tbody tr th {\n",
       "        vertical-align: top;\n",
       "    }\n",
       "\n",
       "    .dataframe thead th {\n",
       "        text-align: right;\n",
       "    }\n",
       "</style>\n",
       "<table border=\"1\" class=\"dataframe\">\n",
       "  <thead>\n",
       "    <tr style=\"text-align: right;\">\n",
       "      <th></th>\n",
       "      <th>statistical measures</th>\n",
       "    </tr>\n",
       "  </thead>\n",
       "  <tbody>\n",
       "    <tr>\n",
       "      <th>AIC</th>\n",
       "      <td>236295.121497</td>\n",
       "    </tr>\n",
       "    <tr>\n",
       "      <th>BIC</th>\n",
       "      <td>236337.291533</td>\n",
       "    </tr>\n",
       "  </tbody>\n",
       "</table>\n",
       "</div>"
      ],
      "text/plain": [
       "     statistical measures\n",
       "AIC         236295.121497\n",
       "BIC         236337.291533"
      ]
     },
     "metadata": {},
     "output_type": "display_data"
    }
   ],
   "source": [
    "jl.set_minimizer(\"minuit\")\n",
    "\n",
    "res = jl.fit()"
   ]
  },
  {
   "cell_type": "markdown",
   "id": "0ca1922d",
   "metadata": {},
   "source": [
    "Now let's compute the errors on the best fit parameters\n",
    "\n"
   ]
  },
  {
   "cell_type": "code",
   "execution_count": 19,
   "id": "7e913082",
   "metadata": {
    "execution": {
     "iopub.execute_input": "2025-02-06T02:47:41.806969Z",
     "iopub.status.busy": "2025-02-06T02:47:41.806662Z",
     "iopub.status.idle": "2025-02-06T02:48:12.506047Z",
     "shell.execute_reply": "2025-02-06T02:48:12.504642Z"
    }
   },
   "outputs": [
    {
     "data": {
      "text/html": [
       "<div>\n",
       "<style scoped>\n",
       "    .dataframe tbody tr th:only-of-type {\n",
       "        vertical-align: middle;\n",
       "    }\n",
       "\n",
       "    .dataframe tbody tr th {\n",
       "        vertical-align: top;\n",
       "    }\n",
       "\n",
       "    .dataframe thead th {\n",
       "        text-align: right;\n",
       "    }\n",
       "</style>\n",
       "<table border=\"1\" class=\"dataframe\">\n",
       "  <thead>\n",
       "    <tr style=\"text-align: right;\">\n",
       "      <th></th>\n",
       "      <th>result</th>\n",
       "      <th>unit</th>\n",
       "    </tr>\n",
       "    <tr>\n",
       "      <th>parameter</th>\n",
       "      <th></th>\n",
       "      <th></th>\n",
       "    </tr>\n",
       "  </thead>\n",
       "  <tbody>\n",
       "    <tr>\n",
       "      <th>PSR_J0534p2200...K</th>\n",
       "      <td>(2.46 +/- 0.09) x 10^-13</td>\n",
       "      <td>1 / (cm2 keV s)</td>\n",
       "    </tr>\n",
       "    <tr>\n",
       "      <th>PSR_J0534p2200...index</th>\n",
       "      <td>-1.790 -0.025 +0.024</td>\n",
       "      <td></td>\n",
       "    </tr>\n",
       "    <tr>\n",
       "      <th>NVSS_J052622p224801.spectrum.main.Powerlaw.K</th>\n",
       "      <td>(9 -6 +7) x 10^-17</td>\n",
       "      <td>1 / (cm2 keV s)</td>\n",
       "    </tr>\n",
       "    <tr>\n",
       "      <th>LAT_galdiff_Prefactor</th>\n",
       "      <td>(9.36 -0.17 +0.18) x 10^-1</td>\n",
       "      <td></td>\n",
       "    </tr>\n",
       "  </tbody>\n",
       "</table>\n",
       "</div>"
      ],
      "text/plain": [
       "                                                                  result  \\\n",
       "parameter                                                                  \n",
       "PSR_J0534p2200...K                              (2.46 +/- 0.09) x 10^-13   \n",
       "PSR_J0534p2200...index                              -1.790 -0.025 +0.024   \n",
       "NVSS_J052622p224801.spectrum.main.Powerlaw.K          (9 -6 +7) x 10^-17   \n",
       "LAT_galdiff_Prefactor                         (9.36 -0.17 +0.18) x 10^-1   \n",
       "\n",
       "                                                         unit  \n",
       "parameter                                                      \n",
       "PSR_J0534p2200...K                            1 / (cm2 keV s)  \n",
       "PSR_J0534p2200...index                                         \n",
       "NVSS_J052622p224801.spectrum.main.Powerlaw.K  1 / (cm2 keV s)  \n",
       "LAT_galdiff_Prefactor                                          "
      ]
     },
     "metadata": {},
     "output_type": "display_data"
    }
   ],
   "source": [
    "res = jl.get_errors()"
   ]
  },
  {
   "cell_type": "markdown",
   "id": "675071d8",
   "metadata": {},
   "source": [
    "We might also want to look at the profile of the likelihood for each parameter."
   ]
  },
  {
   "cell_type": "code",
   "execution_count": 20,
   "id": "31a9e452",
   "metadata": {
    "execution": {
     "iopub.execute_input": "2025-02-06T02:48:12.511871Z",
     "iopub.status.busy": "2025-02-06T02:48:12.511531Z",
     "iopub.status.idle": "2025-02-06T02:51:12.568543Z",
     "shell.execute_reply": "2025-02-06T02:51:12.567431Z"
    }
   },
   "outputs": [
    {
     "data": {
      "application/vnd.jupyter.widget-view+json": {
       "model_id": "213b22cbd8e44774a2505f8c02299152",
       "version_major": 2,
       "version_minor": 0
      },
      "text/plain": [
       "Profiling likelihood:   0%|          | 0/30 [00:00<?, ?it/s]"
      ]
     },
     "metadata": {},
     "output_type": "display_data"
    }
   ],
   "source": [
    "res = jl.get_contours(\n",
    "    model.PSR_J0534p2200.spectrum.main.Super_cutoff_powerlaw.index, -2.0, -1.6, 30\n",
    ")"
   ]
  },
  {
   "cell_type": "code",
   "execution_count": 21,
   "id": "35f3f330",
   "metadata": {
    "execution": {
     "iopub.execute_input": "2025-02-06T02:51:12.574095Z",
     "iopub.status.busy": "2025-02-06T02:51:12.573775Z",
     "iopub.status.idle": "2025-02-06T02:51:12.745319Z",
     "shell.execute_reply": "2025-02-06T02:51:12.743953Z"
    }
   },
   "outputs": [
    {
     "data": {
      "image/png": "[encoded data removed]",
      "text/plain": [
       "<Figure size 1040x910 with 1 Axes>"
      ]
     },
     "execution_count": 21,
     "metadata": {},
     "output_type": "execute_result"
    }
   ],
   "source": [
    "res[-1]"
   ]
  },
  {
   "cell_type": "markdown",
   "id": "64c35f04",
   "metadata": {},
   "source": [
    "Or we might want to produce a contour plot"
   ]
  },
  {
   "cell_type": "code",
   "execution_count": 22,
   "id": "d851a568",
   "metadata": {
    "execution": {
     "iopub.execute_input": "2025-02-06T02:51:12.751150Z",
     "iopub.status.busy": "2025-02-06T02:51:12.750838Z",
     "iopub.status.idle": "2025-02-06T03:25:00.187400Z",
     "shell.execute_reply": "2025-02-06T03:25:00.179964Z"
    }
   },
   "outputs": [
    {
     "data": {
      "application/vnd.jupyter.widget-view+json": {
       "model_id": "0b01a78b261d4f57ba76fe84944a6140",
       "version_major": 2,
       "version_minor": 0
      },
      "text/plain": [
       "Profiling likelihood:   0%|          | 0/400 [00:00<?, ?it/s]"
      ]
     },
     "metadata": {},
     "output_type": "display_data"
    }
   ],
   "source": [
    "res = jl.get_contours(\n",
    "    \"PSR_J0534p2200.spectrum.main.Super_cutoff_powerlaw.K\",\n",
    "    2.1e-13,\n",
    "    2.7e-13,\n",
    "    20,\n",
    "    \"PSR_J0534p2200.spectrum.main.Super_cutoff_powerlaw.index\",\n",
    "    -2.0,\n",
    "    -1.7,\n",
    "    20,\n",
    ")"
   ]
  },
  {
   "cell_type": "code",
   "execution_count": 23,
   "id": "c30d9c62",
   "metadata": {
    "execution": {
     "iopub.execute_input": "2025-02-06T03:25:00.216806Z",
     "iopub.status.busy": "2025-02-06T03:25:00.214840Z",
     "iopub.status.idle": "2025-02-06T03:25:00.446667Z",
     "shell.execute_reply": "2025-02-06T03:25:00.444843Z"
    },
    "tags": [
     "nbsphinx-thumbnail"
    ]
   },
   "outputs": [
    {
     "data": {
      "image/png": "[encoded data removed]",
      "text/plain": [
       "<Figure size 1040x910 with 1 Axes>"
      ]
     },
     "execution_count": 23,
     "metadata": {},
     "output_type": "execute_result"
    }
   ],
   "source": [
    "res[-1]"
   ]
  },
  {
   "cell_type": "markdown",
   "id": "3144590e",
   "metadata": {},
   "source": [
    "**Pro-trick:** We can also axcess the GTAnalysis object of fermipy:"
   ]
  },
  {
   "cell_type": "code",
   "execution_count": 24,
   "id": "30e1ec04",
   "metadata": {
    "execution": {
     "iopub.execute_input": "2025-02-06T03:25:00.470901Z",
     "iopub.status.busy": "2025-02-06T03:25:00.470369Z",
     "iopub.status.idle": "2025-02-06T03:25:00.478226Z",
     "shell.execute_reply": "2025-02-06T03:25:00.476966Z"
    }
   },
   "outputs": [],
   "source": [
    "# res = jl.fit()\n",
    "# LAT.gta.write_roi('test',make_plots=True)"
   ]
  },
  {
   "cell_type": "markdown",
   "id": "975fac59",
   "metadata": {},
   "source": [
    "All the plots are saved in the output directory as png files:\n",
    "\n"
   ]
  },
  {
   "cell_type": "code",
   "execution_count": 25,
   "id": "335ca7a2",
   "metadata": {
    "execution": {
     "iopub.execute_input": "2025-02-06T03:25:00.485294Z",
     "iopub.status.busy": "2025-02-06T03:25:00.484973Z",
     "iopub.status.idle": "2025-02-06T03:25:00.493277Z",
     "shell.execute_reply": "2025-02-06T03:25:00.491996Z"
    }
   },
   "outputs": [],
   "source": [
    "# pngs=Path(f\"{fermipy_output_directory}\").glob(\"*png\")\n",
    "# for png in pngs:\n",
    "#    print(png)\n",
    "#    my_image=Image(str(png))\n",
    "#    display(my_image)"
   ]
  },
  {
   "cell_type": "markdown",
   "id": "18d8a268",
   "metadata": {},
   "source": [
    "We can also plot the resulting model:"
   ]
  },
  {
   "cell_type": "code",
   "execution_count": 26,
   "id": "348131f4",
   "metadata": {
    "execution": {
     "iopub.execute_input": "2025-02-06T03:25:00.499838Z",
     "iopub.status.busy": "2025-02-06T03:25:00.499517Z",
     "iopub.status.idle": "2025-02-06T03:25:01.181003Z",
     "shell.execute_reply": "2025-02-06T03:25:01.179734Z"
    }
   },
   "outputs": [
    {
     "data": {
      "image/png": "[encoded data removed]",
      "text/plain": [
       "<Figure size 1040x910 with 1 Axes>"
      ]
     },
     "execution_count": 26,
     "metadata": {},
     "output_type": "execute_result"
    }
   ],
   "source": [
    "energies = sp.logspace(1, 6, 100) * u.MeV\n",
    "fig, ax = plt.subplots()\n",
    "# we only want to visualize the relevant sources...\n",
    "src_to_plot = [\"Crab\", \"PSR_J0534p2200\"]\n",
    "# Now loop over all point sources and plot them\n",
    "for source_name, point_source in model.point_sources.items():\n",
    "    for src in src_to_plot:\n",
    "        if src in source_name:\n",
    "            # Plot the sum of all components for this source\n",
    "\n",
    "            ax.loglog(energies, point_source(energies), label=source_name)\n",
    "            # If there is more than one component, plot them also separately\n",
    "\n",
    "            if len(point_source.components) > 1:\n",
    "                for component_name, component in point_source.components.items():\n",
    "                    ax.loglog(\n",
    "                        energies,\n",
    "                        component.shape(energies),\n",
    "                        \"--\",\n",
    "                        label=f\"{component_name} of {source_name}\",\n",
    "                    )\n",
    "\n",
    "# Add a legend\n",
    "ax.legend(loc=0, frameon=False)\n",
    "\n",
    "ax.set_xlabel(\"Energy (MeV)\")\n",
    "ax.set_ylabel(r\"Flux (ph cm$^{-2}$ s$^{-1}$ keV$^{-1}$\")\n",
    "ax.set_ylim([1e-18, 1e-8])\n",
    "\n",
    "# show the plot\n",
    "fig"
   ]
  },
  {
   "cell_type": "markdown",
   "id": "4804d47b",
   "metadata": {},
   "source": [
    "We can also do a bayesian analysis."
   ]
  },
  {
   "cell_type": "markdown",
   "id": "6b450676",
   "metadata": {},
   "source": [
    "This will set priors based on the current defined min-max (log-uniform or uniform)."
   ]
  },
  {
   "cell_type": "code",
   "execution_count": 27,
   "id": "29f75db5",
   "metadata": {
    "execution": {
     "iopub.execute_input": "2025-02-06T03:25:01.187750Z",
     "iopub.status.busy": "2025-02-06T03:25:01.187424Z",
     "iopub.status.idle": "2025-02-06T03:25:01.215153Z",
     "shell.execute_reply": "2025-02-06T03:25:01.213864Z"
    }
   },
   "outputs": [],
   "source": [
    "for param in model.free_parameters.values():\n",
    "    if param.has_transformation():\n",
    "        param.set_uninformative_prior(Log_uniform_prior)\n",
    "    else:\n",
    "        param.set_uninformative_prior(Uniform_prior)"
   ]
  },
  {
   "cell_type": "code",
   "execution_count": 28,
   "id": "a3981a76",
   "metadata": {
    "execution": {
     "iopub.execute_input": "2025-02-06T03:25:01.221128Z",
     "iopub.status.busy": "2025-02-06T03:25:01.220808Z",
     "iopub.status.idle": "2025-02-06T03:36:25.421786Z",
     "shell.execute_reply": "2025-02-06T03:36:25.420038Z"
    }
   },
   "outputs": [
    {
     "data": {
      "text/html": [
       "<pre style=\"white-space:pre;overflow-x:auto;line-height:normal;font-family:Menlo,'DejaVu Sans Mono',consolas,'Courier New',monospace\"><span style=\"color: #00ff00; text-decoration-color: #00ff00\">03:25:01 </span><span style=\"color: #00ffaf; text-decoration-color: #00ffaf\">INFO    </span> <span style=\"color: #c6c6c6; text-decoration-color: #c6c6c6; font-weight: bold\"> Using IRFs P8R3_SOURCE_V3                                                     </span><a href=\"file:///Users/runner/work/threeML/threeML/threeML/plugins/FermipyLike.py\" target=\"_blank\"><span style=\"color: #7f7f7f; text-decoration-color: #7f7f7f\">FermipyLike.py</span></a><span style=\"color: #7f7f7f; text-decoration-color: #7f7f7f\">:</span><a href=\"file:///Users/runner/work/threeML/threeML/threeML/plugins/FermipyLike.py#126\" target=\"_blank\"><span style=\"color: #7f7f7f; text-decoration-color: #7f7f7f\">126</span></a>\n",
       "</pre>\n"
      ],
      "text/plain": [
       "\u001b[38;5;46m03:25:01\u001b[0m\u001b[38;5;46m \u001b[0m\u001b[38;5;49mINFO    \u001b[0m \u001b[1;38;5;251m Using IRFs P8R3_SOURCE_V3                                                    \u001b[0m\u001b[1;38;5;251m \u001b[0m\u001b]8;id=399507;file:///Users/runner/work/threeML/threeML/threeML/plugins/FermipyLike.py\u001b\\\u001b[2mFermipyLike.py\u001b[0m\u001b]8;;\u001b\\\u001b[2m:\u001b[0m\u001b]8;id=223129;file:///Users/runner/work/threeML/threeML/threeML/plugins/FermipyLike.py#126\u001b\\\u001b[2m126\u001b[0m\u001b]8;;\u001b\\\n"
      ]
     },
     "metadata": {},
     "output_type": "display_data"
    },
    {
     "name": "stdout",
     "output_type": "stream",
     "text": [
      "\n",
      "Found Galactic template for IRF. P8R3_SOURCE_V3: /Users/runner/miniconda3/envs/test_env/share/fermitools/refdata/fermi/galdiffuse/gll_iem_v07.fits\n",
      "\n",
      "Cutting the template around the ROI: \n",
      "\n"
     ]
    },
    {
     "name": "stdout",
     "output_type": "stream",
     "text": [
      "\n",
      "Found Isotropic template for irf P8R3_SOURCE_V3: /Users/runner/miniconda3/envs/test_env/share/fermitools/refdata/fermi/galdiffuse/iso_P8R3_SOURCE_V3_v1.txt\n"
     ]
    },
    {
     "name": "stderr",
     "output_type": "stream",
     "text": [
      "WARNING: Point source PKS_0459p060 lies 17.6445 degrees from the ROI center at RA, Dec = 83.6324, 22.0174 7.57107\n",
      "WARNING: Point source x4FGL_J0610d7p3752 lies 17.6638 degrees from the ROI center at RA, Dec = 83.6324, 22.0174 7.57107\n",
      "WARNING: Point source x4FGL_J0624d0p0855 lies 17.6933 degrees from the ROI center at RA, Dec = 83.6324, 22.0174 7.57107\n",
      "WARNING: Point source x4C_p06d21 lies 17.7222 degrees from the ROI center at RA, Dec = 83.6324, 22.0174 7.57107\n",
      "WARNING: Point source x1ES_0647p250 lies 17.726 degrees from the ROI center at RA, Dec = 83.6324, 22.0174 7.57107\n",
      "WARNING: Point source NVSS_J065035p205556 lies 17.7273 degrees from the ROI center at RA, Dec = 83.6324, 22.0174 7.57107\n",
      "WARNING: Point source x4FGL_J0551d7p0446 lies 17.7387 degrees from the ROI center at RA, Dec = 83.6324, 22.0174 7.57107\n",
      "WARNING: Point source GB6_J0454p3724 lies 17.747 degrees from the ROI center at RA, Dec = 83.6324, 22.0174 7.57107\n",
      "WARNING: Point source PSR_J0631p1036 lies 17.7845 degrees from the ROI center at RA, Dec = 83.6324, 22.0174 7.57107\n",
      "WARNING: Point source GB6_J0648p1749 lies 17.8418 degrees from the ROI center at RA, Dec = 83.6324, 22.0174 7.57107\n",
      "WARNING: Point source x4FGL_J0600d8p0509c lies 18.0107 degrees from the ROI center at RA, Dec = 83.6324, 22.0174 7.57107\n",
      "WARNING: Point source x4FGL_J0537d6p0400 lies 18.0307 degrees from the ROI center at RA, Dec = 83.6324, 22.0174 7.57107\n",
      "WARNING: Point source x4FGL_J0442d8p3609 lies 18.0625 degrees from the ROI center at RA, Dec = 83.6324, 22.0174 7.57107\n",
      "WARNING: Point source x4FGL_J0424d8p3117 lies 18.0853 degrees from the ROI center at RA, Dec = 83.6324, 22.0174 7.57107\n",
      "WARNING: Point source x4FGL_J0450d7p0715 lies 18.1442 degrees from the ROI center at RA, Dec = 83.6324, 22.0174 7.57107\n",
      "WARNING: Point source x4FGL_J0640d4p3307 lies 18.3144 degrees from the ROI center at RA, Dec = 83.6324, 22.0174 7.57107\n",
      "WARNING: Point source B2_0552p39A lies 18.3271 degrees from the ROI center at RA, Dec = 83.6324, 22.0174 7.57107\n",
      "WARNING: Point source x1RXS_J064814d1p160708 lies 18.3626 degrees from the ROI center at RA, Dec = 83.6324, 22.0174 7.57107\n",
      "WARNING: Point source x4FGL_J0634d7p1036 lies 18.3815 degrees from the ROI center at RA, Dec = 83.6324, 22.0174 7.57107\n",
      "WARNING: Point source MG2_J065230p1934 lies 18.3959 degrees from the ROI center at RA, Dec = 83.6324, 22.0174 7.57107\n",
      "WARNING: Point source PKS_0502p049 lies 18.4231 degrees from the ROI center at RA, Dec = 83.6324, 22.0174 7.57107\n",
      "WARNING: Point source RX_J0648d7p1516 lies 18.8098 degrees from the ROI center at RA, Dec = 83.6324, 22.0174 7.57107\n",
      "WARNING: Point source GB6_J0620p3806 lies 18.8371 degrees from the ROI center at RA, Dec = 83.6324, 22.0174 7.57107\n",
      "WARNING: Point source PSR_J0622p3749 lies 18.8534 degrees from the ROI center at RA, Dec = 83.6324, 22.0174 7.57107\n",
      "WARNING: Point source x4FGL_J0641d4p3349 lies 18.8651 degrees from the ROI center at RA, Dec = 83.6324, 22.0174 7.57107\n",
      "WARNING: Point source B2_0654p24 lies 18.868 degrees from the ROI center at RA, Dec = 83.6324, 22.0174 7.57107\n",
      "WARNING: Point source x1RXS_J065331d8p181448 lies 18.8966 degrees from the ROI center at RA, Dec = 83.6324, 22.0174 7.57107\n",
      "WARNING: Point source x4FGL_J0412d6p2253c lies 18.9306 degrees from the ROI center at RA, Dec = 83.6324, 22.0174 7.57107\n",
      "WARNING: Point source GB6_J0653p2816 lies 18.9492 degrees from the ROI center at RA, Dec = 83.6324, 22.0174 7.57107\n",
      "WARNING: Point source PMN_J0444p0717 lies 19.0008 degrees from the ROI center at RA, Dec = 83.6324, 22.0174 7.57107\n",
      "WARNING: Point source MG1_J050533p0415 lies 19.0838 degrees from the ROI center at RA, Dec = 83.6324, 22.0174 7.57107\n",
      "WARNING: Point source x4FGL_J0559d3p0352 lies 19.1179 degrees from the ROI center at RA, Dec = 83.6324, 22.0174 7.57107\n",
      "WARNING: Point source TXS_0431p092 lies 19.1204 degrees from the ROI center at RA, Dec = 83.6324, 22.0174 7.57107\n",
      "WARNING: Point source B3_0509p406 lies 19.2302 degrees from the ROI center at RA, Dec = 83.6324, 22.0174 7.57107\n",
      "WARNING: Point source B2_0635p35 lies 19.2972 degrees from the ROI center at RA, Dec = 83.6324, 22.0174 7.57107\n",
      "WARNING: Point source PKS_0550p032 lies 19.3054 degrees from the ROI center at RA, Dec = 83.6324, 22.0174 7.57107\n",
      "WARNING: Point source x4FGL_J0431d0p3529c lies 19.3172 degrees from the ROI center at RA, Dec = 83.6324, 22.0174 7.57107\n",
      "WARNING: Point source x2MASX_J06533986p1636432 lies 19.4133 degrees from the ROI center at RA, Dec = 83.6324, 22.0174 7.57107\n",
      "WARNING: Point source x4FGL_J0658d7p2318 lies 19.4491 degrees from the ROI center at RA, Dec = 83.6324, 22.0174 7.57107\n",
      "WARNING: Point source x4FGL_J0552d0p0256c lies 19.5445 degrees from the ROI center at RA, Dec = 83.6324, 22.0174 7.57107\n",
      "WARNING: Point source GB6_J0555p0304 lies 19.594 degrees from the ROI center at RA, Dec = 83.6324, 22.0174 7.57107\n",
      "WARNING: Point source B2_0655p27A lies 19.6945 degrees from the ROI center at RA, Dec = 83.6324, 22.0174 7.57107\n",
      "WARNING: Point source x4FGL_J0642d4p1048 lies 19.7348 degrees from the ROI center at RA, Dec = 83.6324, 22.0174 7.57107\n",
      "WARNING: Point source NVSS_J050650p032401 lies 19.7933 degrees from the ROI center at RA, Dec = 83.6324, 22.0174 7.57107\n",
      "WARNING: Point source x4FGL_J0409d2p2542 lies 19.8177 degrees from the ROI center at RA, Dec = 83.6324, 22.0174 7.57107\n"
     ]
    }
   ],
   "source": [
    "# It's better to remove the output directory,...\n",
    "shutil.rmtree(fermipy_output_directory)\n",
    "\n",
    "bayes = BayesianAnalysis(model, data)"
   ]
  },
  {
   "cell_type": "markdown",
   "id": "627b89ed",
   "metadata": {},
   "source": [
    "Take care of the nuisance parameters `LAT_isodiff_Normalization` and `LAT_galdiff_Prefactor`, which are only created during the previous step."
   ]
  },
  {
   "cell_type": "code",
   "execution_count": 29,
   "id": "4bcefd63",
   "metadata": {
    "execution": {
     "iopub.execute_input": "2025-02-06T03:36:25.430293Z",
     "iopub.status.busy": "2025-02-06T03:36:25.429852Z",
     "iopub.status.idle": "2025-02-06T03:36:25.437579Z",
     "shell.execute_reply": "2025-02-06T03:36:25.436222Z"
    }
   },
   "outputs": [],
   "source": [
    "model.LAT_isodiff_Normalization.fix = True\n",
    "model.LAT_galdiff_Prefactor.set_uninformative_prior(Log_uniform_prior)"
   ]
  },
  {
   "cell_type": "code",
   "execution_count": 30,
   "id": "8dfd6f52",
   "metadata": {
    "execution": {
     "iopub.execute_input": "2025-02-06T03:36:25.442928Z",
     "iopub.status.busy": "2025-02-06T03:36:25.442624Z",
     "iopub.status.idle": "2025-02-06T03:41:25.490678Z",
     "shell.execute_reply": "2025-02-06T03:41:25.489321Z"
    },
    "lines_to_next_cell": 2
   },
   "outputs": [
    {
     "data": {
      "text/html": [
       "<pre style=\"white-space:pre;overflow-x:auto;line-height:normal;font-family:Menlo,'DejaVu Sans Mono',consolas,'Courier New',monospace\"><span style=\"color: #00ff00; text-decoration-color: #00ff00\">03:36:25 </span><span style=\"color: #00ffaf; text-decoration-color: #00ffaf\">INFO    </span> <span style=\"color: #c6c6c6; text-decoration-color: #c6c6c6; font-weight: bold\"> sampler set to </span><span style=\"color: #000080; text-decoration-color: #000080; font-weight: bold\">emcee</span><span style=\"color: #c6c6c6; text-decoration-color: #c6c6c6; font-weight: bold\">                                                    </span><a href=\"file:///Users/runner/work/threeML/threeML/threeML/bayesian/bayesian_analysis.py\" target=\"_blank\"><span style=\"color: #7f7f7f; text-decoration-color: #7f7f7f\">bayesian_analysis.py</span></a><span style=\"color: #7f7f7f; text-decoration-color: #7f7f7f\">:</span><a href=\"file:///Users/runner/work/threeML/threeML/threeML/bayesian/bayesian_analysis.py#202\" target=\"_blank\"><span style=\"color: #7f7f7f; text-decoration-color: #7f7f7f\">202</span></a>\n",
       "</pre>\n"
      ],
      "text/plain": [
       "\u001b[38;5;46m03:36:25\u001b[0m\u001b[38;5;46m \u001b[0m\u001b[38;5;49mINFO    \u001b[0m \u001b[1;38;5;251m sampler set to \u001b[0m\u001b[1;34memcee\u001b[0m\u001b[1;38;5;251m                                                   \u001b[0m\u001b[1;38;5;251m \u001b[0m\u001b]8;id=962374;file:///Users/runner/work/threeML/threeML/threeML/bayesian/bayesian_analysis.py\u001b\\\u001b[2mbayesian_analysis.py\u001b[0m\u001b]8;;\u001b\\\u001b[2m:\u001b[0m\u001b]8;id=734928;file:///Users/runner/work/threeML/threeML/threeML/bayesian/bayesian_analysis.py#202\u001b\\\u001b[2m202\u001b[0m\u001b]8;;\u001b\\\n"
      ]
     },
     "metadata": {},
     "output_type": "display_data"
    },
    {
     "data": {
      "application/vnd.jupyter.widget-view+json": {
       "model_id": "aba7cdf20d7e4b12b2f41ace822f7f8f",
       "version_major": 2,
       "version_minor": 0
      },
      "text/plain": [
       "  0%|          | 0/10 [00:00<?, ?it/s]"
      ]
     },
     "metadata": {},
     "output_type": "display_data"
    },
    {
     "data": {
      "application/vnd.jupyter.widget-view+json": {
       "model_id": "e6ec3449726146598a81cea576c0eacc",
       "version_major": 2,
       "version_minor": 0
      },
      "text/plain": [
       "  0%|          | 0/500 [00:00<?, ?it/s]"
      ]
     },
     "metadata": {},
     "output_type": "display_data"
    },
    {
     "data": {
      "text/html": [
       "<pre style=\"white-space:pre;overflow-x:auto;line-height:normal;font-family:Menlo,'DejaVu Sans Mono',consolas,'Courier New',monospace\"><span style=\"color: #00ff00; text-decoration-color: #00ff00\">03:41:24 </span><span style=\"color: #00ffaf; text-decoration-color: #00ffaf\">INFO    </span> <span style=\"color: #c6c6c6; text-decoration-color: #c6c6c6; font-weight: bold\"> Mean acceptance fraction: </span><span style=\"color: #c0c0c0; text-decoration-color: #c0c0c0; font-weight: bold\">0.49219999999999997</span><span style=\"color: #c6c6c6; text-decoration-color: #c6c6c6; font-weight: bold\">                               </span><a href=\"file:///Users/runner/work/threeML/threeML/threeML/bayesian/emcee_sampler.py\" target=\"_blank\"><span style=\"color: #7f7f7f; text-decoration-color: #7f7f7f\">emcee_sampler.py</span></a><span style=\"color: #7f7f7f; text-decoration-color: #7f7f7f\">:</span><a href=\"file:///Users/runner/work/threeML/threeML/threeML/bayesian/emcee_sampler.py#157\" target=\"_blank\"><span style=\"color: #7f7f7f; text-decoration-color: #7f7f7f\">157</span></a>\n",
       "</pre>\n"
      ],
      "text/plain": [
       "\u001b[38;5;46m03:41:24\u001b[0m\u001b[38;5;46m \u001b[0m\u001b[38;5;49mINFO    \u001b[0m \u001b[1;38;5;251m Mean acceptance fraction: \u001b[0m\u001b[1;37m0.49219999999999997\u001b[0m\u001b[1;38;5;251m                              \u001b[0m\u001b[1;38;5;251m \u001b[0m\u001b]8;id=31847;file:///Users/runner/work/threeML/threeML/threeML/bayesian/emcee_sampler.py\u001b\\\u001b[2memcee_sampler.py\u001b[0m\u001b]8;;\u001b\\\u001b[2m:\u001b[0m\u001b]8;id=403489;file:///Users/runner/work/threeML/threeML/threeML/bayesian/emcee_sampler.py#157\u001b\\\u001b[2m157\u001b[0m\u001b]8;;\u001b\\\n"
      ]
     },
     "metadata": {},
     "output_type": "display_data"
    },
    {
     "data": {
      "text/html": [
       "<pre style=\"white-space:pre;overflow-x:auto;line-height:normal;font-family:Menlo,'DejaVu Sans Mono',consolas,'Courier New',monospace\"><span style=\"color: #00ff00; text-decoration-color: #00ff00\">         </span><span style=\"color: #00ffaf; text-decoration-color: #00ffaf\">INFO    </span> <span style=\"color: #c6c6c6; text-decoration-color: #c6c6c6; font-weight: bold\"> fit restored to maximum of posterior                                         </span><a href=\"file:///Users/runner/work/threeML/threeML/threeML/bayesian/sampler_base.py\" target=\"_blank\"><span style=\"color: #7f7f7f; text-decoration-color: #7f7f7f\">sampler_base.py</span></a><span style=\"color: #7f7f7f; text-decoration-color: #7f7f7f\">:</span><a href=\"file:///Users/runner/work/threeML/threeML/threeML/bayesian/sampler_base.py#178\" target=\"_blank\"><span style=\"color: #7f7f7f; text-decoration-color: #7f7f7f\">178</span></a>\n",
       "</pre>\n"
      ],
      "text/plain": [
       "\u001b[38;5;46m        \u001b[0m\u001b[38;5;46m \u001b[0m\u001b[38;5;49mINFO    \u001b[0m \u001b[1;38;5;251m fit restored to maximum of posterior                                        \u001b[0m\u001b[1;38;5;251m \u001b[0m\u001b]8;id=789854;file:///Users/runner/work/threeML/threeML/threeML/bayesian/sampler_base.py\u001b\\\u001b[2msampler_base.py\u001b[0m\u001b]8;;\u001b\\\u001b[2m:\u001b[0m\u001b]8;id=612815;file:///Users/runner/work/threeML/threeML/threeML/bayesian/sampler_base.py#178\u001b\\\u001b[2m178\u001b[0m\u001b]8;;\u001b\\\n"
      ]
     },
     "metadata": {},
     "output_type": "display_data"
    },
    {
     "data": {
      "text/html": [
       "<pre style=\"white-space:pre;overflow-x:auto;line-height:normal;font-family:Menlo,'DejaVu Sans Mono',consolas,'Courier New',monospace\"><span style=\"color: #00ff00; text-decoration-color: #00ff00\">03:41:25 </span><span style=\"color: #00ffaf; text-decoration-color: #00ffaf\">INFO    </span> <span style=\"color: #c6c6c6; text-decoration-color: #c6c6c6; font-weight: bold\"> fit restored to maximum of posterior                                         </span><a href=\"file:///Users/runner/work/threeML/threeML/threeML/bayesian/sampler_base.py\" target=\"_blank\"><span style=\"color: #7f7f7f; text-decoration-color: #7f7f7f\">sampler_base.py</span></a><span style=\"color: #7f7f7f; text-decoration-color: #7f7f7f\">:</span><a href=\"file:///Users/runner/work/threeML/threeML/threeML/bayesian/sampler_base.py#178\" target=\"_blank\"><span style=\"color: #7f7f7f; text-decoration-color: #7f7f7f\">178</span></a>\n",
       "</pre>\n"
      ],
      "text/plain": [
       "\u001b[38;5;46m03:41:25\u001b[0m\u001b[38;5;46m \u001b[0m\u001b[38;5;49mINFO    \u001b[0m \u001b[1;38;5;251m fit restored to maximum of posterior                                        \u001b[0m\u001b[1;38;5;251m \u001b[0m\u001b]8;id=58145;file:///Users/runner/work/threeML/threeML/threeML/bayesian/sampler_base.py\u001b\\\u001b[2msampler_base.py\u001b[0m\u001b]8;;\u001b\\\u001b[2m:\u001b[0m\u001b]8;id=919612;file:///Users/runner/work/threeML/threeML/threeML/bayesian/sampler_base.py#178\u001b\\\u001b[2m178\u001b[0m\u001b]8;;\u001b\\\n"
      ]
     },
     "metadata": {},
     "output_type": "display_data"
    },
    {
     "data": {
      "text/html": [
       "<pre style=\"white-space:pre;overflow-x:auto;line-height:normal;font-family:Menlo,'DejaVu Sans Mono',consolas,'Courier New',monospace\"><span style=\"color: #00ffaf; text-decoration-color: #00ffaf; font-weight: bold; text-decoration: underline\">Maximum a posteriori probability (MAP) point:</span>\n",
       "\n",
       "</pre>\n"
      ],
      "text/plain": [
       "\u001b[1;4;38;5;49mMaximum a posteriori probability \u001b[0m\u001b[1;4;38;5;49m(\u001b[0m\u001b[1;4;38;5;49mMAP\u001b[0m\u001b[1;4;38;5;49m)\u001b[0m\u001b[1;4;38;5;49m point:\u001b[0m\n",
       "\n"
      ]
     },
     "metadata": {},
     "output_type": "display_data"
    },
    {
     "data": {
      "text/html": [
       "<div>\n",
       "<style scoped>\n",
       "    .dataframe tbody tr th:only-of-type {\n",
       "        vertical-align: middle;\n",
       "    }\n",
       "\n",
       "    .dataframe tbody tr th {\n",
       "        vertical-align: top;\n",
       "    }\n",
       "\n",
       "    .dataframe thead th {\n",
       "        text-align: right;\n",
       "    }\n",
       "</style>\n",
       "<table border=\"1\" class=\"dataframe\">\n",
       "  <thead>\n",
       "    <tr style=\"text-align: right;\">\n",
       "      <th></th>\n",
       "      <th>result</th>\n",
       "      <th>unit</th>\n",
       "    </tr>\n",
       "    <tr>\n",
       "      <th>parameter</th>\n",
       "      <th></th>\n",
       "      <th></th>\n",
       "    </tr>\n",
       "  </thead>\n",
       "  <tbody>\n",
       "    <tr>\n",
       "      <th>PSR_J0534p2200...K</th>\n",
       "      <td>(2.533 -0.15 +0.013) x 10^-13</td>\n",
       "      <td>1 / (cm2 keV s)</td>\n",
       "    </tr>\n",
       "    <tr>\n",
       "      <th>PSR_J0534p2200...index</th>\n",
       "      <td>-1.774 -0.04 +0.015</td>\n",
       "      <td></td>\n",
       "    </tr>\n",
       "    <tr>\n",
       "      <th>NVSS_J052622p224801.spectrum.main.Powerlaw.K</th>\n",
       "      <td>(0.001 +0.016 +1.2) x 10^-16</td>\n",
       "      <td>1 / (cm2 keV s)</td>\n",
       "    </tr>\n",
       "    <tr>\n",
       "      <th>LAT_galdiff_Prefactor</th>\n",
       "      <td>(9.43 -0.22 +0.17) x 10^-1</td>\n",
       "      <td></td>\n",
       "    </tr>\n",
       "  </tbody>\n",
       "</table>\n",
       "</div>"
      ],
      "text/plain": [
       "                                                                     result  \\\n",
       "parameter                                                                     \n",
       "PSR_J0534p2200...K                            (2.533 -0.15 +0.013) x 10^-13   \n",
       "PSR_J0534p2200...index                                  -1.774 -0.04 +0.015   \n",
       "NVSS_J052622p224801.spectrum.main.Powerlaw.K   (0.001 +0.016 +1.2) x 10^-16   \n",
       "LAT_galdiff_Prefactor                            (9.43 -0.22 +0.17) x 10^-1   \n",
       "\n",
       "                                                         unit  \n",
       "parameter                                                      \n",
       "PSR_J0534p2200...K                            1 / (cm2 keV s)  \n",
       "PSR_J0534p2200...index                                         \n",
       "NVSS_J052622p224801.spectrum.main.Powerlaw.K  1 / (cm2 keV s)  \n",
       "LAT_galdiff_Prefactor                                          "
      ]
     },
     "metadata": {},
     "output_type": "display_data"
    },
    {
     "data": {
      "text/html": [
       "<pre style=\"white-space:pre;overflow-x:auto;line-height:normal;font-family:Menlo,'DejaVu Sans Mono',consolas,'Courier New',monospace\">\n",
       "<span style=\"color: #00ffaf; text-decoration-color: #00ffaf; font-weight: bold; text-decoration: underline\">Values of -log(posterior) at the minimum:</span>\n",
       "\n",
       "</pre>\n"
      ],
      "text/plain": [
       "\n",
       "\u001b[1;4;38;5;49mValues of -\u001b[0m\u001b[1;4;38;5;49mlog\u001b[0m\u001b[1;4;38;5;49m(\u001b[0m\u001b[1;4;38;5;49mposterior\u001b[0m\u001b[1;4;38;5;49m)\u001b[0m\u001b[1;4;38;5;49m at the minimum:\u001b[0m\n",
       "\n"
      ]
     },
     "metadata": {},
     "output_type": "display_data"
    },
    {
     "data": {
      "text/html": [
       "<div>\n",
       "<style scoped>\n",
       "    .dataframe tbody tr th:only-of-type {\n",
       "        vertical-align: middle;\n",
       "    }\n",
       "\n",
       "    .dataframe tbody tr th {\n",
       "        vertical-align: top;\n",
       "    }\n",
       "\n",
       "    .dataframe thead th {\n",
       "        text-align: right;\n",
       "    }\n",
       "</style>\n",
       "<table border=\"1\" class=\"dataframe\">\n",
       "  <thead>\n",
       "    <tr style=\"text-align: right;\">\n",
       "      <th></th>\n",
       "      <th>-log(posterior)</th>\n",
       "    </tr>\n",
       "  </thead>\n",
       "  <tbody>\n",
       "    <tr>\n",
       "      <th>LAT</th>\n",
       "      <td>-118072.458767</td>\n",
       "    </tr>\n",
       "    <tr>\n",
       "      <th>total</th>\n",
       "      <td>-118072.458767</td>\n",
       "    </tr>\n",
       "  </tbody>\n",
       "</table>\n",
       "</div>"
      ],
      "text/plain": [
       "       -log(posterior)\n",
       "LAT     -118072.458767\n",
       "total   -118072.458767"
      ]
     },
     "metadata": {},
     "output_type": "display_data"
    },
    {
     "data": {
      "text/html": [
       "<pre style=\"white-space:pre;overflow-x:auto;line-height:normal;font-family:Menlo,'DejaVu Sans Mono',consolas,'Courier New',monospace\">\n",
       "<span style=\"color: #00ffaf; text-decoration-color: #00ffaf; font-weight: bold; text-decoration: underline\">Values of statistical measures:</span>\n",
       "\n",
       "</pre>\n"
      ],
      "text/plain": [
       "\n",
       "\u001b[1;4;38;5;49mValues of statistical measures:\u001b[0m\n",
       "\n"
      ]
     },
     "metadata": {},
     "output_type": "display_data"
    },
    {
     "data": {
      "text/html": [
       "<div>\n",
       "<style scoped>\n",
       "    .dataframe tbody tr th:only-of-type {\n",
       "        vertical-align: middle;\n",
       "    }\n",
       "\n",
       "    .dataframe tbody tr th {\n",
       "        vertical-align: top;\n",
       "    }\n",
       "\n",
       "    .dataframe thead th {\n",
       "        text-align: right;\n",
       "    }\n",
       "</style>\n",
       "<table border=\"1\" class=\"dataframe\">\n",
       "  <thead>\n",
       "    <tr style=\"text-align: right;\">\n",
       "      <th></th>\n",
       "      <th>statistical measures</th>\n",
       "    </tr>\n",
       "  </thead>\n",
       "  <tbody>\n",
       "    <tr>\n",
       "      <th>AIC</th>\n",
       "      <td>236152.917677</td>\n",
       "    </tr>\n",
       "    <tr>\n",
       "      <th>BIC</th>\n",
       "      <td>236195.087714</td>\n",
       "    </tr>\n",
       "    <tr>\n",
       "      <th>DIC</th>\n",
       "      <td>236159.708720</td>\n",
       "    </tr>\n",
       "    <tr>\n",
       "      <th>PDIC</th>\n",
       "      <td>2.583886</td>\n",
       "    </tr>\n",
       "  </tbody>\n",
       "</table>\n",
       "</div>"
      ],
      "text/plain": [
       "      statistical measures\n",
       "AIC          236152.917677\n",
       "BIC          236195.087714\n",
       "DIC          236159.708720\n",
       "PDIC              2.583886"
      ]
     },
     "metadata": {},
     "output_type": "display_data"
    }
   ],
   "source": [
    "bayes.set_sampler(\"emcee\")\n",
    "\n",
    "n_walkers = 10\n",
    "burn_in = 10\n",
    "n_samples = 500\n",
    "\n",
    "bayes.sampler.setup(n_iterations=n_samples, n_burn_in=burn_in, n_walkers=n_walkers)\n",
    "\n",
    "res = bayes.sample()"
   ]
  },
  {
   "cell_type": "markdown",
   "id": "2f82a1ab",
   "metadata": {},
   "source": [
    "You can access to the parameter range like this (HPD):"
   ]
  },
  {
   "cell_type": "code",
   "execution_count": 31,
   "id": "4dfe5c0b",
   "metadata": {
    "execution": {
     "iopub.execute_input": "2025-02-06T03:41:25.496214Z",
     "iopub.status.busy": "2025-02-06T03:41:25.495917Z",
     "iopub.status.idle": "2025-02-06T03:41:25.519184Z",
     "shell.execute_reply": "2025-02-06T03:41:25.517778Z"
    }
   },
   "outputs": [
    {
     "name": "stdout",
     "output_type": "stream",
     "text": [
      "Highest_posterior_density_intervals :\n",
      "K (68%):       2.39e-13,  2.55e-13\n",
      "K (95%):       2.30e-13,  2.65e-13\n",
      "Index (68%):  -1.82e+00, -1.76e+00\n",
      "Index (95%):  -1.84e+00, -1.73e+00\n"
     ]
    }
   ],
   "source": [
    "this_K = bayes.results.get_variates(\n",
    "    \"PSR_J0534p2200.spectrum.main.Super_cutoff_powerlaw.K\"\n",
    ")\n",
    "this_idx = bayes.results.get_variates(\n",
    "    \"PSR_J0534p2200.spectrum.main.Super_cutoff_powerlaw.index\"\n",
    ")\n",
    "\n",
    "print(\"Highest_posterior_density_intervals :\")\n",
    "print(\n",
    "    \"K (68%%):     %10.2e,%10.2e\" % this_K.highest_posterior_density_interval(cl=0.68)\n",
    ")\n",
    "print(\n",
    "    \"K (95%%):     %10.2e,%10.2e\" % this_K.highest_posterior_density_interval(cl=0.95)\n",
    ")\n",
    "print(\n",
    "    \"Index (68%%): %10.2e,%10.2e\" % this_idx.highest_posterior_density_interval(cl=0.68)\n",
    ")\n",
    "print(\n",
    "    \"Index (95%%): %10.2e,%10.2e\" % this_idx.highest_posterior_density_interval(cl=0.95)\n",
    ")"
   ]
  },
  {
   "cell_type": "code",
   "execution_count": 32,
   "id": "4978be91",
   "metadata": {
    "execution": {
     "iopub.execute_input": "2025-02-06T03:41:25.525434Z",
     "iopub.status.busy": "2025-02-06T03:41:25.525000Z",
     "iopub.status.idle": "2025-02-06T03:41:26.383949Z",
     "shell.execute_reply": "2025-02-06T03:41:26.382613Z"
    }
   },
   "outputs": [
    {
     "data": {
      "image/png": "[encoded data removed]",
      "text/plain": [
       "<Figure size 970x970 with 16 Axes>"
      ]
     },
     "execution_count": 32,
     "metadata": {},
     "output_type": "execute_result"
    }
   ],
   "source": [
    "corner_figure = bayes.results.corner_plot()\n",
    "corner_figure"
   ]
  },
  {
   "cell_type": "code",
   "execution_count": null,
   "id": "fc64a21f",
   "metadata": {},
   "outputs": [],
   "source": []
  }
 ],
 "metadata": {
  "jupytext": {
   "formats": "ipynb,md"
  },
  "kernelspec": {
   "display_name": "Python 3 (ipykernel)",
   "language": "python",
   "name": "python3"
  },
  "language_info": {
   "codemirror_mode": {
    "name": "ipython",
    "version": 3
   },
   "file_extension": ".py",
   "mimetype": "text/x-python",
   "name": "python",
   "nbconvert_exporter": "python",
   "pygments_lexer": "ipython3",
   "version": "3.9.13"
  },
  "widgets": {
   "application/vnd.jupyter.widget-state+json": {
    "state": {
     "068cf76618704606bbbdbeb2149971f3": {
      "model_module": "@jupyter-widgets/base",
      "model_module_version": "2.0.0",
      "model_name": "LayoutModel",
      "state": {
       "_model_module": "@jupyter-widgets/base",
       "_model_module_version": "2.0.0",
       "_model_name": "LayoutModel",
       "_view_count": null,
       "_view_module": "@jupyter-widgets/base",
       "_view_module_version": "2.0.0",
       "_view_name": "LayoutView",
       "align_content": null,
       "align_items": null,
       "align_self": null,
       "border_bottom": null,
       "border_left": null,
       "border_right": null,
       "border_top": null,
       "bottom": null,
       "display": "inline-flex",
       "flex": null,
       "flex_flow": "row wrap",
       "grid_area": null,
       "grid_auto_columns": null,
       "grid_auto_flow": null,
       "grid_auto_rows": null,
       "grid_column": null,
       "grid_gap": null,
       "grid_row": null,
       "grid_template_areas": null,
       "grid_template_columns": null,
       "grid_template_rows": null,
       "height": null,
       "justify_content": null,
       "justify_items": null,
       "left": null,
       "margin": null,
       "max_height": null,
       "max_width": null,
       "min_height": null,
       "min_width": null,
       "object_fit": null,
       "object_position": null,
       "order": null,
       "overflow": null,
       "padding": null,
       "right": null,
       "top": null,
       "visibility": null,
       "width": "100%"
      }
     },
     "0b01a78b261d4f57ba76fe84944a6140": {
      "model_module": "@jupyter-widgets/controls",
      "model_module_version": "2.0.0",
      "model_name": "HBoxModel",
      "state": {
       "_dom_classes": [],
       "_model_module": "@jupyter-widgets/controls",
       "_model_module_version": "2.0.0",
       "_model_name": "HBoxModel",
       "_view_count": null,
       "_view_module": "@jupyter-widgets/controls",
       "_view_module_version": "2.0.0",
       "_view_name": "HBoxView",
       "box_style": "",
       "children": [
        "IPY_MODEL_631bc7100f3b4eb2a925ad3162352733",
        "IPY_MODEL_97ca6e1289a54c57b68066423cee91b2",
        "IPY_MODEL_4461cf2ff612480b83ecb03b9e948706"
       ],
       "layout": "IPY_MODEL_e679068f6e054843b4ddbc9381f493b6",
       "tabbable": null,
       "tooltip": null
      }
     },
     "0c379170d5e34e8bad7d94221e3294f1": {
      "model_module": "@jupyter-widgets/controls",
      "model_module_version": "2.0.0",
      "model_name": "HTMLModel",
      "state": {
       "_dom_classes": [],
       "_model_module": "@jupyter-widgets/controls",
       "_model_module_version": "2.0.0",
       "_model_name": "HTMLModel",
       "_view_count": null,
       "_view_module": "@jupyter-widgets/controls",
       "_view_module_version": "2.0.0",
       "_view_name": "HTMLView",
       "description": "",
       "description_allow_html": false,
       "layout": "IPY_MODEL_7c7573e7404b472cb69063c083667db9",
       "placeholder": "​",
       "style": "IPY_MODEL_57acfa99bbfb4624bbf50baa08bc2167",
       "tabbable": null,
       "tooltip": null,
       "value": "100%"
      }
     },
     "0e042cf816f940b5ad61295c5f847e7b": {
      "model_module": "@jupyter-widgets/base",
      "model_module_version": "2.0.0",
      "model_name": "LayoutModel",
      "state": {
       "_model_module": "@jupyter-widgets/base",
       "_model_module_version": "2.0.0",
       "_model_name": "LayoutModel",
       "_view_count": null,
       "_view_module": "@jupyter-widgets/base",
       "_view_module_version": "2.0.0",
       "_view_name": "LayoutView",
       "align_content": null,
       "align_items": null,
       "align_self": null,
       "border_bottom": null,
       "border_left": null,
       "border_right": null,
       "border_top": null,
       "bottom": null,
       "display": null,
       "flex": null,
       "flex_flow": null,
       "grid_area": null,
       "grid_auto_columns": null,
       "grid_auto_flow": null,
       "grid_auto_rows": null,
       "grid_column": null,
       "grid_gap": null,
       "grid_row": null,
       "grid_template_areas": null,
       "grid_template_columns": null,
       "grid_template_rows": null,
       "height": null,
       "justify_content": null,
       "justify_items": null,
       "left": null,
       "margin": null,
       "max_height": null,
       "max_width": null,
       "min_height": null,
       "min_width": null,
       "object_fit": null,
       "object_position": null,
       "order": null,
       "overflow": null,
       "padding": null,
       "right": null,
       "top": null,
       "visibility": null,
       "width": null
      }
     },
     "11c101b6a293478aba587dd6ae5e2ae7": {
      "model_module": "@jupyter-widgets/controls",
      "model_module_version": "2.0.0",
      "model_name": "HTMLStyleModel",
      "state": {
       "_model_module": "@jupyter-widgets/controls",
       "_model_module_version": "2.0.0",
       "_model_name": "HTMLStyleModel",
       "_view_count": null,
       "_view_module": "@jupyter-widgets/base",
       "_view_module_version": "2.0.0",
       "_view_name": "StyleView",
       "background": null,
       "description_width": "",
       "font_size": null,
       "text_color": null
      }
     },
     "1656112e490242c0b4ae8166eca205a7": {
      "model_module": "@jupyter-widgets/controls",
      "model_module_version": "2.0.0",
      "model_name": "HTMLStyleModel",
      "state": {
       "_model_module": "@jupyter-widgets/controls",
       "_model_module_version": "2.0.0",
       "_model_name": "HTMLStyleModel",
       "_view_count": null,
       "_view_module": "@jupyter-widgets/base",
       "_view_module_version": "2.0.0",
       "_view_name": "StyleView",
       "background": null,
       "description_width": "",
       "font_size": null,
       "text_color": null
      }
     },
     "1958286844314ff892efe412ed1a2442": {
      "model_module": "@jupyter-widgets/controls",
      "model_module_version": "2.0.0",
      "model_name": "ProgressStyleModel",
      "state": {
       "_model_module": "@jupyter-widgets/controls",
       "_model_module_version": "2.0.0",
       "_model_name": "ProgressStyleModel",
       "_view_count": null,
       "_view_module": "@jupyter-widgets/base",
       "_view_module_version": "2.0.0",
       "_view_name": "StyleView",
       "bar_color": null,
       "description_width": ""
      }
     },
     "1b20ed5b81a1400f81b3396f4c06001a": {
      "model_module": "@jupyter-widgets/controls",
      "model_module_version": "2.0.0",
      "model_name": "FloatProgressModel",
      "state": {
       "_dom_classes": [],
       "_model_module": "@jupyter-widgets/controls",
       "_model_module_version": "2.0.0",
       "_model_name": "FloatProgressModel",
       "_view_count": null,
       "_view_module": "@jupyter-widgets/controls",
       "_view_module_version": "2.0.0",
       "_view_name": "ProgressView",
       "bar_style": "success",
       "description": "",
       "description_allow_html": false,
       "layout": "IPY_MODEL_f318fac0da2a4e4487b863acebaf1269",
       "max": 12427200.0,
       "min": 0.0,
       "orientation": "horizontal",
       "style": "IPY_MODEL_aa967ecf83094f8faa2789b4c845aa21",
       "tabbable": null,
       "tooltip": null,
       "value": 12427200.0
      }
     },
     "1cc496054c1445468f62960e575cfcd7": {
      "model_module": "@jupyter-widgets/base",
      "model_module_version": "2.0.0",
      "model_name": "LayoutModel",
      "state": {
       "_model_module": "@jupyter-widgets/base",
       "_model_module_version": "2.0.0",
       "_model_name": "LayoutModel",
       "_view_count": null,
       "_view_module": "@jupyter-widgets/base",
       "_view_module_version": "2.0.0",
       "_view_name": "LayoutView",
       "align_content": null,
       "align_items": null,
       "align_self": null,
       "border_bottom": null,
       "border_left": null,
       "border_right": null,
       "border_top": null,
       "bottom": null,
       "display": null,
       "flex": null,
       "flex_flow": null,
       "grid_area": null,
       "grid_auto_columns": null,
       "grid_auto_flow": null,
       "grid_auto_rows": null,
       "grid_column": null,
       "grid_gap": null,
       "grid_row": null,
       "grid_template_areas": null,
       "grid_template_columns": null,
       "grid_template_rows": null,
       "height": null,
       "justify_content": null,
       "justify_items": null,
       "left": null,
       "margin": null,
       "max_height": null,
       "max_width": null,
       "min_height": null,
       "min_width": null,
       "object_fit": null,
       "object_position": null,
       "order": null,
       "overflow": null,
       "padding": null,
       "right": null,
       "top": null,
       "visibility": null,
       "width": null
      }
     },
     "213b22cbd8e44774a2505f8c02299152": {
      "model_module": "@jupyter-widgets/controls",
      "model_module_version": "2.0.0",
      "model_name": "HBoxModel",
      "state": {
       "_dom_classes": [],
       "_model_module": "@jupyter-widgets/controls",
       "_model_module_version": "2.0.0",
       "_model_name": "HBoxModel",
       "_view_count": null,
       "_view_module": "@jupyter-widgets/controls",
       "_view_module_version": "2.0.0",
       "_view_name": "HBoxView",
       "box_style": "",
       "children": [
        "IPY_MODEL_87a62149b2a84b72b3d5c7fce925fee6",
        "IPY_MODEL_23b224a3bc094baf86590d487b83436c",
        "IPY_MODEL_9c7c7e0c3d83430ea96d99cc13200a73"
       ],
       "layout": "IPY_MODEL_a3c8fc58e8684c35abb5fabc763e0c07",
       "tabbable": null,
       "tooltip": null
      }
     },
     "23b224a3bc094baf86590d487b83436c": {
      "model_module": "@jupyter-widgets/controls",
      "model_module_version": "2.0.0",
      "model_name": "FloatProgressModel",
      "state": {
       "_dom_classes": [],
       "_model_module": "@jupyter-widgets/controls",
       "_model_module_version": "2.0.0",
       "_model_name": "FloatProgressModel",
       "_view_count": null,
       "_view_module": "@jupyter-widgets/controls",
       "_view_module_version": "2.0.0",
       "_view_name": "ProgressView",
       "bar_style": "success",
       "description": "",
       "description_allow_html": false,
       "layout": "IPY_MODEL_7338a382291146b3b770086ea708a7a0",
       "max": 30.0,
       "min": 0.0,
       "orientation": "horizontal",
       "style": "IPY_MODEL_b108de2d7adc430483976d54ceb2a732",
       "tabbable": null,
       "tooltip": null,
       "value": 30.0
      }
     },
     "292928b0a3db4622a97ee6cda37581ae": {
      "model_module": "@jupyter-widgets/base",
      "model_module_version": "2.0.0",
      "model_name": "LayoutModel",
      "state": {
       "_model_module": "@jupyter-widgets/base",
       "_model_module_version": "2.0.0",
       "_model_name": "LayoutModel",
       "_view_count": null,
       "_view_module": "@jupyter-widgets/base",
       "_view_module_version": "2.0.0",
       "_view_name": "LayoutView",
       "align_content": null,
       "align_items": null,
       "align_self": null,
       "border_bottom": null,
       "border_left": null,
       "border_right": null,
       "border_top": null,
       "bottom": null,
       "display": null,
       "flex": null,
       "flex_flow": null,
       "grid_area": null,
       "grid_auto_columns": null,
       "grid_auto_flow": null,
       "grid_auto_rows": null,
       "grid_column": null,
       "grid_gap": null,
       "grid_row": null,
       "grid_template_areas": null,
       "grid_template_columns": null,
       "grid_template_rows": null,
       "height": null,
       "justify_content": null,
       "justify_items": null,
       "left": null,
       "margin": null,
       "max_height": null,
       "max_width": null,
       "min_height": null,
       "min_width": null,
       "object_fit": null,
       "object_position": null,
       "order": null,
       "overflow": null,
       "padding": null,
       "right": null,
       "top": null,
       "visibility": null,
       "width": null
      }
     },
     "29534053ebfb4eb19ce3f01a135b9c4c": {
      "model_module": "@jupyter-widgets/controls",
      "model_module_version": "2.0.0",
      "model_name": "HTMLStyleModel",
      "state": {
       "_model_module": "@jupyter-widgets/controls",
       "_model_module_version": "2.0.0",
       "_model_name": "HTMLStyleModel",
       "_view_count": null,
       "_view_module": "@jupyter-widgets/base",
       "_view_module_version": "2.0.0",
       "_view_name": "StyleView",
       "background": null,
       "description_width": "",
       "font_size": null,
       "text_color": null
      }
     },
     "34b1f4aba5ae40f8b263e0b47c4dab2d": {
      "model_module": "@jupyter-widgets/base",
      "model_module_version": "2.0.0",
      "model_name": "LayoutModel",
      "state": {
       "_model_module": "@jupyter-widgets/base",
       "_model_module_version": "2.0.0",
       "_model_name": "LayoutModel",
       "_view_count": null,
       "_view_module": "@jupyter-widgets/base",
       "_view_module_version": "2.0.0",
       "_view_name": "LayoutView",
       "align_content": null,
       "align_items": null,
       "align_self": null,
       "border_bottom": null,
       "border_left": null,
       "border_right": null,
       "border_top": null,
       "bottom": null,
       "display": null,
       "flex": null,
       "flex_flow": null,
       "grid_area": null,
       "grid_auto_columns": null,
       "grid_auto_flow": null,
       "grid_auto_rows": null,
       "grid_column": null,
       "grid_gap": null,
       "grid_row": null,
       "grid_template_areas": null,
       "grid_template_columns": null,
       "grid_template_rows": null,
       "height": null,
       "justify_content": null,
       "justify_items": null,
       "left": null,
       "margin": null,
       "max_height": null,
       "max_width": null,
       "min_height": null,
       "min_width": null,
       "object_fit": null,
       "object_position": null,
       "order": null,
       "overflow": null,
       "padding": null,
       "right": null,
       "top": null,
       "visibility": null,
       "width": null
      }
     },
     "4034f68852984e9c90b3a608f3376ca5": {
      "model_module": "@jupyter-widgets/controls",
      "model_module_version": "2.0.0",
      "model_name": "HTMLModel",
      "state": {
       "_dom_classes": [],
       "_model_module": "@jupyter-widgets/controls",
       "_model_module_version": "2.0.0",
       "_model_name": "HTMLModel",
       "_view_count": null,
       "_view_module": "@jupyter-widgets/controls",
       "_view_module_version": "2.0.0",
       "_view_name": "HTMLView",
       "description": "",
       "description_allow_html": false,
       "layout": "IPY_MODEL_d71ed90c82664ca696a7174877856ae5",
       "placeholder": "​",
       "style": "IPY_MODEL_76d4b71218b04ff5b2ee2489627b6a61",
       "tabbable": null,
       "tooltip": null,
       "value": " 16.3M/16.3M [00:07&lt;00:00, 2.61MB/s]"
      }
     },
     "4461cf2ff612480b83ecb03b9e948706": {
      "model_module": "@jupyter-widgets/controls",
      "model_module_version": "2.0.0",
      "model_name": "HTMLModel",
      "state": {
       "_dom_classes": [],
       "_model_module": "@jupyter-widgets/controls",
       "_model_module_version": "2.0.0",
       "_model_name": "HTMLModel",
       "_view_count": null,
       "_view_module": "@jupyter-widgets/controls",
       "_view_module_version": "2.0.0",
       "_view_name": "HTMLView",
       "description": "",
       "description_allow_html": false,
       "layout": "IPY_MODEL_50df1187ac93476bba640213193564db",
       "placeholder": "​",
       "style": "IPY_MODEL_f9e8d22b9d684b69a3b23f182af01131",
       "tabbable": null,
       "tooltip": null,
       "value": " 400/400 [40:17&lt;00:00,  3.38s/it]"
      }
     },
     "45be5cd98ad14fcbae61bf926d129b85": {
      "model_module": "@jupyter-widgets/controls",
      "model_module_version": "2.0.0",
      "model_name": "HTMLModel",
      "state": {
       "_dom_classes": [],
       "_model_module": "@jupyter-widgets/controls",
       "_model_module_version": "2.0.0",
       "_model_name": "HTMLModel",
       "_view_count": null,
       "_view_module": "@jupyter-widgets/controls",
       "_view_module_version": "2.0.0",
       "_view_name": "HTMLView",
       "description": "",
       "description_allow_html": false,
       "layout": "IPY_MODEL_ab1631a0ac09480d8fdc580045878d0b",
       "placeholder": "​",
       "style": "IPY_MODEL_61473457d60049b795ed02f19a2436b9",
       "tabbable": null,
       "tooltip": null,
       "value": " 10/10 [00:07&lt;00:00,  1.44it/s]"
      }
     },
     "4b4896e039c843adb7d01c7226b08c68": {
      "model_module": "@jupyter-widgets/base",
      "model_module_version": "2.0.0",
      "model_name": "LayoutModel",
      "state": {
       "_model_module": "@jupyter-widgets/base",
       "_model_module_version": "2.0.0",
       "_model_name": "LayoutModel",
       "_view_count": null,
       "_view_module": "@jupyter-widgets/base",
       "_view_module_version": "2.0.0",
       "_view_name": "LayoutView",
       "align_content": null,
       "align_items": null,
       "align_self": null,
       "border_bottom": null,
       "border_left": null,
       "border_right": null,
       "border_top": null,
       "bottom": null,
       "display": null,
       "flex": null,
       "flex_flow": null,
       "grid_area": null,
       "grid_auto_columns": null,
       "grid_auto_flow": null,
       "grid_auto_rows": null,
       "grid_column": null,
       "grid_gap": null,
       "grid_row": null,
       "grid_template_areas": null,
       "grid_template_columns": null,
       "grid_template_rows": null,
       "height": null,
       "justify_content": null,
       "justify_items": null,
       "left": null,
       "margin": null,
       "max_height": null,
       "max_width": null,
       "min_height": null,
       "min_width": null,
       "object_fit": null,
       "object_position": null,
       "order": null,
       "overflow": null,
       "padding": null,
       "right": null,
       "top": null,
       "visibility": null,
       "width": null
      }
     },
     "50df1187ac93476bba640213193564db": {
      "model_module": "@jupyter-widgets/base",
      "model_module_version": "2.0.0",
      "model_name": "LayoutModel",
      "state": {
       "_model_module": "@jupyter-widgets/base",
       "_model_module_version": "2.0.0",
       "_model_name": "LayoutModel",
       "_view_count": null,
       "_view_module": "@jupyter-widgets/base",
       "_view_module_version": "2.0.0",
       "_view_name": "LayoutView",
       "align_content": null,
       "align_items": null,
       "align_self": null,
       "border_bottom": null,
       "border_left": null,
       "border_right": null,
       "border_top": null,
       "bottom": null,
       "display": null,
       "flex": null,
       "flex_flow": null,
       "grid_area": null,
       "grid_auto_columns": null,
       "grid_auto_flow": null,
       "grid_auto_rows": null,
       "grid_column": null,
       "grid_gap": null,
       "grid_row": null,
       "grid_template_areas": null,
       "grid_template_columns": null,
       "grid_template_rows": null,
       "height": null,
       "justify_content": null,
       "justify_items": null,
       "left": null,
       "margin": null,
       "max_height": null,
       "max_width": null,
       "min_height": null,
       "min_width": null,
       "object_fit": null,
       "object_position": null,
       "order": null,
       "overflow": null,
       "padding": null,
       "right": null,
       "top": null,
       "visibility": null,
       "width": null
      }
     },
     "57acfa99bbfb4624bbf50baa08bc2167": {
      "model_module": "@jupyter-widgets/controls",
      "model_module_version": "2.0.0",
      "model_name": "HTMLStyleModel",
      "state": {
       "_model_module": "@jupyter-widgets/controls",
       "_model_module_version": "2.0.0",
       "_model_name": "HTMLStyleModel",
       "_view_count": null,
       "_view_module": "@jupyter-widgets/base",
       "_view_module_version": "2.0.0",
       "_view_name": "StyleView",
       "background": null,
       "description_width": "",
       "font_size": null,
       "text_color": null
      }
     },
     "584259216ab0463eaff32322b4c2a782": {
      "model_module": "@jupyter-widgets/controls",
      "model_module_version": "2.0.0",
      "model_name": "HTMLModel",
      "state": {
       "_dom_classes": [],
       "_model_module": "@jupyter-widgets/controls",
       "_model_module_version": "2.0.0",
       "_model_name": "HTMLModel",
       "_view_count": null,
       "_view_module": "@jupyter-widgets/controls",
       "_view_module_version": "2.0.0",
       "_view_name": "HTMLView",
       "description": "",
       "description_allow_html": false,
       "layout": "IPY_MODEL_cec583e0b73b40b89c48678d81fb4df6",
       "placeholder": "​",
       "style": "IPY_MODEL_9378705b54db488f8f7ae31cc17b0374",
       "tabbable": null,
       "tooltip": null,
       "value": "100%"
      }
     },
     "5bdd05a7b1e04b3197ae969e023f38a8": {
      "model_module": "@jupyter-widgets/controls",
      "model_module_version": "2.0.0",
      "model_name": "HTMLStyleModel",
      "state": {
       "_model_module": "@jupyter-widgets/controls",
       "_model_module_version": "2.0.0",
       "_model_name": "HTMLStyleModel",
       "_view_count": null,
       "_view_module": "@jupyter-widgets/base",
       "_view_module_version": "2.0.0",
       "_view_name": "StyleView",
       "background": null,
       "description_width": "",
       "font_size": null,
       "text_color": null
      }
     },
     "5ca240a620ad42acb9fe6dbb024df243": {
      "model_module": "@jupyter-widgets/base",
      "model_module_version": "2.0.0",
      "model_name": "LayoutModel",
      "state": {
       "_model_module": "@jupyter-widgets/base",
       "_model_module_version": "2.0.0",
       "_model_name": "LayoutModel",
       "_view_count": null,
       "_view_module": "@jupyter-widgets/base",
       "_view_module_version": "2.0.0",
       "_view_name": "LayoutView",
       "align_content": null,
       "align_items": null,
       "align_self": null,
       "border_bottom": null,
       "border_left": null,
       "border_right": null,
       "border_top": null,
       "bottom": null,
       "display": null,
       "flex": null,
       "flex_flow": null,
       "grid_area": null,
       "grid_auto_columns": null,
       "grid_auto_flow": null,
       "grid_auto_rows": null,
       "grid_column": null,
       "grid_gap": null,
       "grid_row": null,
       "grid_template_areas": null,
       "grid_template_columns": null,
       "grid_template_rows": null,
       "height": null,
       "justify_content": null,
       "justify_items": null,
       "left": null,
       "margin": null,
       "max_height": null,
       "max_width": null,
       "min_height": null,
       "min_width": null,
       "object_fit": null,
       "object_position": null,
       "order": null,
       "overflow": null,
       "padding": null,
       "right": null,
       "top": null,
       "visibility": null,
       "width": null
      }
     },
     "5ea50c5ca1f6428c91b35190bab6b850": {
      "model_module": "@jupyter-widgets/base",
      "model_module_version": "2.0.0",
      "model_name": "LayoutModel",
      "state": {
       "_model_module": "@jupyter-widgets/base",
       "_model_module_version": "2.0.0",
       "_model_name": "LayoutModel",
       "_view_count": null,
       "_view_module": "@jupyter-widgets/base",
       "_view_module_version": "2.0.0",
       "_view_name": "LayoutView",
       "align_content": null,
       "align_items": null,
       "align_self": null,
       "border_bottom": null,
       "border_left": null,
       "border_right": null,
       "border_top": null,
       "bottom": null,
       "display": null,
       "flex": null,
       "flex_flow": null,
       "grid_area": null,
       "grid_auto_columns": null,
       "grid_auto_flow": null,
       "grid_auto_rows": null,
       "grid_column": null,
       "grid_gap": null,
       "grid_row": null,
       "grid_template_areas": null,
       "grid_template_columns": null,
       "grid_template_rows": null,
       "height": null,
       "justify_content": null,
       "justify_items": null,
       "left": null,
       "margin": null,
       "max_height": null,
       "max_width": null,
       "min_height": null,
       "min_width": null,
       "object_fit": null,
       "object_position": null,
       "order": null,
       "overflow": null,
       "padding": null,
       "right": null,
       "top": null,
       "visibility": null,
       "width": null
      }
     },
     "61473457d60049b795ed02f19a2436b9": {
      "model_module": "@jupyter-widgets/controls",
      "model_module_version": "2.0.0",
      "model_name": "HTMLStyleModel",
      "state": {
       "_model_module": "@jupyter-widgets/controls",
       "_model_module_version": "2.0.0",
       "_model_name": "HTMLStyleModel",
       "_view_count": null,
       "_view_module": "@jupyter-widgets/base",
       "_view_module_version": "2.0.0",
       "_view_name": "StyleView",
       "background": null,
       "description_width": "",
       "font_size": null,
       "text_color": null
      }
     },
     "631bc7100f3b4eb2a925ad3162352733": {
      "model_module": "@jupyter-widgets/controls",
      "model_module_version": "2.0.0",
      "model_name": "HTMLModel",
      "state": {
       "_dom_classes": [],
       "_model_module": "@jupyter-widgets/controls",
       "_model_module_version": "2.0.0",
       "_model_name": "HTMLModel",
       "_view_count": null,
       "_view_module": "@jupyter-widgets/controls",
       "_view_module_version": "2.0.0",
       "_view_name": "HTMLView",
       "description": "",
       "description_allow_html": false,
       "layout": "IPY_MODEL_0e042cf816f940b5ad61295c5f847e7b",
       "placeholder": "​",
       "style": "IPY_MODEL_29534053ebfb4eb19ce3f01a135b9c4c",
       "tabbable": null,
       "tooltip": null,
       "value": "Profiling likelihood: 100%"
      }
     },
     "6c9095a12bcf49f281a031ab9680dec3": {
      "model_module": "@jupyter-widgets/controls",
      "model_module_version": "2.0.0",
      "model_name": "HTMLStyleModel",
      "state": {
       "_model_module": "@jupyter-widgets/controls",
       "_model_module_version": "2.0.0",
       "_model_name": "HTMLStyleModel",
       "_view_count": null,
       "_view_module": "@jupyter-widgets/base",
       "_view_module_version": "2.0.0",
       "_view_name": "StyleView",
       "background": null,
       "description_width": "",
       "font_size": null,
       "text_color": null
      }
     },
     "71c8687aaea44f4497f463d5d660e4ec": {
      "model_module": "@jupyter-widgets/base",
      "model_module_version": "2.0.0",
      "model_name": "LayoutModel",
      "state": {
       "_model_module": "@jupyter-widgets/base",
       "_model_module_version": "2.0.0",
       "_model_name": "LayoutModel",
       "_view_count": null,
       "_view_module": "@jupyter-widgets/base",
       "_view_module_version": "2.0.0",
       "_view_name": "LayoutView",
       "align_content": null,
       "align_items": null,
       "align_self": null,
       "border_bottom": null,
       "border_left": null,
       "border_right": null,
       "border_top": null,
       "bottom": null,
       "display": "inline-flex",
       "flex": null,
       "flex_flow": "row wrap",
       "grid_area": null,
       "grid_auto_columns": null,
       "grid_auto_flow": null,
       "grid_auto_rows": null,
       "grid_column": null,
       "grid_gap": null,
       "grid_row": null,
       "grid_template_areas": null,
       "grid_template_columns": null,
       "grid_template_rows": null,
       "height": null,
       "justify_content": null,
       "justify_items": null,
       "left": null,
       "margin": null,
       "max_height": null,
       "max_width": null,
       "min_height": null,
       "min_width": null,
       "object_fit": null,
       "object_position": null,
       "order": null,
       "overflow": null,
       "padding": null,
       "right": null,
       "top": null,
       "visibility": null,
       "width": "100%"
      }
     },
     "7338a382291146b3b770086ea708a7a0": {
      "model_module": "@jupyter-widgets/base",
      "model_module_version": "2.0.0",
      "model_name": "LayoutModel",
      "state": {
       "_model_module": "@jupyter-widgets/base",
       "_model_module_version": "2.0.0",
       "_model_name": "LayoutModel",
       "_view_count": null,
       "_view_module": "@jupyter-widgets/base",
       "_view_module_version": "2.0.0",
       "_view_name": "LayoutView",
       "align_content": null,
       "align_items": null,
       "align_self": null,
       "border_bottom": null,
       "border_left": null,
       "border_right": null,
       "border_top": null,
       "bottom": null,
       "display": null,
       "flex": "2",
       "flex_flow": null,
       "grid_area": null,
       "grid_auto_columns": null,
       "grid_auto_flow": null,
       "grid_auto_rows": null,
       "grid_column": null,
       "grid_gap": null,
       "grid_row": null,
       "grid_template_areas": null,
       "grid_template_columns": null,
       "grid_template_rows": null,
       "height": null,
       "justify_content": null,
       "justify_items": null,
       "left": null,
       "margin": null,
       "max_height": null,
       "max_width": null,
       "min_height": null,
       "min_width": null,
       "object_fit": null,
       "object_position": null,
       "order": null,
       "overflow": null,
       "padding": null,
       "right": null,
       "top": null,
       "visibility": null,
       "width": null
      }
     },
     "769debe72d604f67ae196fa176f7cb33": {
      "model_module": "@jupyter-widgets/controls",
      "model_module_version": "2.0.0",
      "model_name": "FloatProgressModel",
      "state": {
       "_dom_classes": [],
       "_model_module": "@jupyter-widgets/controls",
       "_model_module_version": "2.0.0",
       "_model_name": "FloatProgressModel",
       "_view_count": null,
       "_view_module": "@jupyter-widgets/controls",
       "_view_module_version": "2.0.0",
       "_view_name": "ProgressView",
       "bar_style": "success",
       "description": "",
       "description_allow_html": false,
       "layout": "IPY_MODEL_f2ce9cf251d546629928f5292d9e3721",
       "max": 17087040.0,
       "min": 0.0,
       "orientation": "horizontal",
       "style": "IPY_MODEL_e6da01f7ae5e4092bd7dca90d2961959",
       "tabbable": null,
       "tooltip": null,
       "value": 17087040.0
      }
     },
     "76d4b71218b04ff5b2ee2489627b6a61": {
      "model_module": "@jupyter-widgets/controls",
      "model_module_version": "2.0.0",
      "model_name": "HTMLStyleModel",
      "state": {
       "_model_module": "@jupyter-widgets/controls",
       "_model_module_version": "2.0.0",
       "_model_name": "HTMLStyleModel",
       "_view_count": null,
       "_view_module": "@jupyter-widgets/base",
       "_view_module_version": "2.0.0",
       "_view_name": "StyleView",
       "background": null,
       "description_width": "",
       "font_size": null,
       "text_color": null
      }
     },
     "7c7573e7404b472cb69063c083667db9": {
      "model_module": "@jupyter-widgets/base",
      "model_module_version": "2.0.0",
      "model_name": "LayoutModel",
      "state": {
       "_model_module": "@jupyter-widgets/base",
       "_model_module_version": "2.0.0",
       "_model_name": "LayoutModel",
       "_view_count": null,
       "_view_module": "@jupyter-widgets/base",
       "_view_module_version": "2.0.0",
       "_view_name": "LayoutView",
       "align_content": null,
       "align_items": null,
       "align_self": null,
       "border_bottom": null,
       "border_left": null,
       "border_right": null,
       "border_top": null,
       "bottom": null,
       "display": null,
       "flex": null,
       "flex_flow": null,
       "grid_area": null,
       "grid_auto_columns": null,
       "grid_auto_flow": null,
       "grid_auto_rows": null,
       "grid_column": null,
       "grid_gap": null,
       "grid_row": null,
       "grid_template_areas": null,
       "grid_template_columns": null,
       "grid_template_rows": null,
       "height": null,
       "justify_content": null,
       "justify_items": null,
       "left": null,
       "margin": null,
       "max_height": null,
       "max_width": null,
       "min_height": null,
       "min_width": null,
       "object_fit": null,
       "object_position": null,
       "order": null,
       "overflow": null,
       "padding": null,
       "right": null,
       "top": null,
       "visibility": null,
       "width": null
      }
     },
     "7d7cd422c23649ef972541fb1bb732cb": {
      "model_module": "@jupyter-widgets/controls",
      "model_module_version": "2.0.0",
      "model_name": "HTMLModel",
      "state": {
       "_dom_classes": [],
       "_model_module": "@jupyter-widgets/controls",
       "_model_module_version": "2.0.0",
       "_model_name": "HTMLModel",
       "_view_count": null,
       "_view_module": "@jupyter-widgets/controls",
       "_view_module_version": "2.0.0",
       "_view_name": "HTMLView",
       "description": "",
       "description_allow_html": false,
       "layout": "IPY_MODEL_292928b0a3db4622a97ee6cda37581ae",
       "placeholder": "​",
       "style": "IPY_MODEL_6c9095a12bcf49f281a031ab9680dec3",
       "tabbable": null,
       "tooltip": null,
       "value": " 500/500 [04:50&lt;00:00,  1.96it/s]"
      }
     },
     "85352bbab82e45918d34eb7f53775ce5": {
      "model_module": "@jupyter-widgets/controls",
      "model_module_version": "2.0.0",
      "model_name": "HTMLModel",
      "state": {
       "_dom_classes": [],
       "_model_module": "@jupyter-widgets/controls",
       "_model_module_version": "2.0.0",
       "_model_name": "HTMLModel",
       "_view_count": null,
       "_view_module": "@jupyter-widgets/controls",
       "_view_module_version": "2.0.0",
       "_view_name": "HTMLView",
       "description": "",
       "description_allow_html": false,
       "layout": "IPY_MODEL_5ea50c5ca1f6428c91b35190bab6b850",
       "placeholder": "​",
       "style": "IPY_MODEL_1656112e490242c0b4ae8166eca205a7",
       "tabbable": null,
       "tooltip": null,
       "value": "Downloading L250205213352D1968AF245_SC00.fits: 100%"
      }
     },
     "87a62149b2a84b72b3d5c7fce925fee6": {
      "model_module": "@jupyter-widgets/controls",
      "model_module_version": "2.0.0",
      "model_name": "HTMLModel",
      "state": {
       "_dom_classes": [],
       "_model_module": "@jupyter-widgets/controls",
       "_model_module_version": "2.0.0",
       "_model_name": "HTMLModel",
       "_view_count": null,
       "_view_module": "@jupyter-widgets/controls",
       "_view_module_version": "2.0.0",
       "_view_name": "HTMLView",
       "description": "",
       "description_allow_html": false,
       "layout": "IPY_MODEL_5ca240a620ad42acb9fe6dbb024df243",
       "placeholder": "​",
       "style": "IPY_MODEL_5bdd05a7b1e04b3197ae969e023f38a8",
       "tabbable": null,
       "tooltip": null,
       "value": "Profiling likelihood: 100%"
      }
     },
     "9378705b54db488f8f7ae31cc17b0374": {
      "model_module": "@jupyter-widgets/controls",
      "model_module_version": "2.0.0",
      "model_name": "HTMLStyleModel",
      "state": {
       "_model_module": "@jupyter-widgets/controls",
       "_model_module_version": "2.0.0",
       "_model_name": "HTMLStyleModel",
       "_view_count": null,
       "_view_module": "@jupyter-widgets/base",
       "_view_module_version": "2.0.0",
       "_view_name": "StyleView",
       "background": null,
       "description_width": "",
       "font_size": null,
       "text_color": null
      }
     },
     "97ca6e1289a54c57b68066423cee91b2": {
      "model_module": "@jupyter-widgets/controls",
      "model_module_version": "2.0.0",
      "model_name": "FloatProgressModel",
      "state": {
       "_dom_classes": [],
       "_model_module": "@jupyter-widgets/controls",
       "_model_module_version": "2.0.0",
       "_model_name": "FloatProgressModel",
       "_view_count": null,
       "_view_module": "@jupyter-widgets/controls",
       "_view_module_version": "2.0.0",
       "_view_name": "ProgressView",
       "bar_style": "success",
       "description": "",
       "description_allow_html": false,
       "layout": "IPY_MODEL_c7395855678344dc9de8a01a42f8935d",
       "max": 400.0,
       "min": 0.0,
       "orientation": "horizontal",
       "style": "IPY_MODEL_e5d76e1ef793484388359ad12340d44b",
       "tabbable": null,
       "tooltip": null,
       "value": 400.0
      }
     },
     "9949d75084db4bd2937ad4a18a34f1ab": {
      "model_module": "@jupyter-widgets/controls",
      "model_module_version": "2.0.0",
      "model_name": "HTMLStyleModel",
      "state": {
       "_model_module": "@jupyter-widgets/controls",
       "_model_module_version": "2.0.0",
       "_model_name": "HTMLStyleModel",
       "_view_count": null,
       "_view_module": "@jupyter-widgets/base",
       "_view_module_version": "2.0.0",
       "_view_name": "StyleView",
       "background": null,
       "description_width": "",
       "font_size": null,
       "text_color": null
      }
     },
     "9c7c7e0c3d83430ea96d99cc13200a73": {
      "model_module": "@jupyter-widgets/controls",
      "model_module_version": "2.0.0",
      "model_name": "HTMLModel",
      "state": {
       "_dom_classes": [],
       "_model_module": "@jupyter-widgets/controls",
       "_model_module_version": "2.0.0",
       "_model_name": "HTMLModel",
       "_view_count": null,
       "_view_module": "@jupyter-widgets/controls",
       "_view_module_version": "2.0.0",
       "_view_name": "HTMLView",
       "description": "",
       "description_allow_html": false,
       "layout": "IPY_MODEL_d941b262924c47c190b38dded11eedc3",
       "placeholder": "​",
       "style": "IPY_MODEL_11c101b6a293478aba587dd6ae5e2ae7",
       "tabbable": null,
       "tooltip": null,
       "value": " 30/30 [02:59&lt;00:00,  6.67s/it]"
      }
     },
     "9ce3261da6bc4185af00c8b749c1bfe4": {
      "model_module": "@jupyter-widgets/controls",
      "model_module_version": "2.0.0",
      "model_name": "FloatProgressModel",
      "state": {
       "_dom_classes": [],
       "_model_module": "@jupyter-widgets/controls",
       "_model_module_version": "2.0.0",
       "_model_name": "FloatProgressModel",
       "_view_count": null,
       "_view_module": "@jupyter-widgets/controls",
       "_view_module_version": "2.0.0",
       "_view_name": "ProgressView",
       "bar_style": "success",
       "description": "",
       "description_allow_html": false,
       "layout": "IPY_MODEL_cc2df48951c7440384d14a16e7ba16e1",
       "max": 500.0,
       "min": 0.0,
       "orientation": "horizontal",
       "style": "IPY_MODEL_1958286844314ff892efe412ed1a2442",
       "tabbable": null,
       "tooltip": null,
       "value": 500.0
      }
     },
     "a0fdaef12155485b9db9e73690cae0a8": {
      "model_module": "@jupyter-widgets/controls",
      "model_module_version": "2.0.0",
      "model_name": "FloatProgressModel",
      "state": {
       "_dom_classes": [],
       "_model_module": "@jupyter-widgets/controls",
       "_model_module_version": "2.0.0",
       "_model_name": "FloatProgressModel",
       "_view_count": null,
       "_view_module": "@jupyter-widgets/controls",
       "_view_module_version": "2.0.0",
       "_view_name": "ProgressView",
       "bar_style": "success",
       "description": "",
       "description_allow_html": false,
       "layout": "IPY_MODEL_a56f32008efe4c9b936d0b97763b496a",
       "max": 10.0,
       "min": 0.0,
       "orientation": "horizontal",
       "style": "IPY_MODEL_dfbef193c53e475e948e35c4988ac33a",
       "tabbable": null,
       "tooltip": null,
       "value": 10.0
      }
     },
     "a3c8fc58e8684c35abb5fabc763e0c07": {
      "model_module": "@jupyter-widgets/base",
      "model_module_version": "2.0.0",
      "model_name": "LayoutModel",
      "state": {
       "_model_module": "@jupyter-widgets/base",
       "_model_module_version": "2.0.0",
       "_model_name": "LayoutModel",
       "_view_count": null,
       "_view_module": "@jupyter-widgets/base",
       "_view_module_version": "2.0.0",
       "_view_name": "LayoutView",
       "align_content": null,
       "align_items": null,
       "align_self": null,
       "border_bottom": null,
       "border_left": null,
       "border_right": null,
       "border_top": null,
       "bottom": null,
       "display": "inline-flex",
       "flex": null,
       "flex_flow": "row wrap",
       "grid_area": null,
       "grid_auto_columns": null,
       "grid_auto_flow": null,
       "grid_auto_rows": null,
       "grid_column": null,
       "grid_gap": null,
       "grid_row": null,
       "grid_template_areas": null,
       "grid_template_columns": null,
       "grid_template_rows": null,
       "height": null,
       "justify_content": null,
       "justify_items": null,
       "left": null,
       "margin": null,
       "max_height": null,
       "max_width": null,
       "min_height": null,
       "min_width": null,
       "object_fit": null,
       "object_position": null,
       "order": null,
       "overflow": null,
       "padding": null,
       "right": null,
       "top": null,
       "visibility": null,
       "width": "100%"
      }
     },
     "a56f32008efe4c9b936d0b97763b496a": {
      "model_module": "@jupyter-widgets/base",
      "model_module_version": "2.0.0",
      "model_name": "LayoutModel",
      "state": {
       "_model_module": "@jupyter-widgets/base",
       "_model_module_version": "2.0.0",
       "_model_name": "LayoutModel",
       "_view_count": null,
       "_view_module": "@jupyter-widgets/base",
       "_view_module_version": "2.0.0",
       "_view_name": "LayoutView",
       "align_content": null,
       "align_items": null,
       "align_self": null,
       "border_bottom": null,
       "border_left": null,
       "border_right": null,
       "border_top": null,
       "bottom": null,
       "display": null,
       "flex": null,
       "flex_flow": null,
       "grid_area": null,
       "grid_auto_columns": null,
       "grid_auto_flow": null,
       "grid_auto_rows": null,
       "grid_column": null,
       "grid_gap": null,
       "grid_row": null,
       "grid_template_areas": null,
       "grid_template_columns": null,
       "grid_template_rows": null,
       "height": null,
       "justify_content": null,
       "justify_items": null,
       "left": null,
       "margin": null,
       "max_height": null,
       "max_width": null,
       "min_height": null,
       "min_width": null,
       "object_fit": null,
       "object_position": null,
       "order": null,
       "overflow": null,
       "padding": null,
       "right": null,
       "top": null,
       "visibility": null,
       "width": null
      }
     },
     "aa967ecf83094f8faa2789b4c845aa21": {
      "model_module": "@jupyter-widgets/controls",
      "model_module_version": "2.0.0",
      "model_name": "ProgressStyleModel",
      "state": {
       "_model_module": "@jupyter-widgets/controls",
       "_model_module_version": "2.0.0",
       "_model_name": "ProgressStyleModel",
       "_view_count": null,
       "_view_module": "@jupyter-widgets/base",
       "_view_module_version": "2.0.0",
       "_view_name": "StyleView",
       "bar_color": "#46327e",
       "description_width": ""
      }
     },
     "ab1631a0ac09480d8fdc580045878d0b": {
      "model_module": "@jupyter-widgets/base",
      "model_module_version": "2.0.0",
      "model_name": "LayoutModel",
      "state": {
       "_model_module": "@jupyter-widgets/base",
       "_model_module_version": "2.0.0",
       "_model_name": "LayoutModel",
       "_view_count": null,
       "_view_module": "@jupyter-widgets/base",
       "_view_module_version": "2.0.0",
       "_view_name": "LayoutView",
       "align_content": null,
       "align_items": null,
       "align_self": null,
       "border_bottom": null,
       "border_left": null,
       "border_right": null,
       "border_top": null,
       "bottom": null,
       "display": null,
       "flex": null,
       "flex_flow": null,
       "grid_area": null,
       "grid_auto_columns": null,
       "grid_auto_flow": null,
       "grid_auto_rows": null,
       "grid_column": null,
       "grid_gap": null,
       "grid_row": null,
       "grid_template_areas": null,
       "grid_template_columns": null,
       "grid_template_rows": null,
       "height": null,
       "justify_content": null,
       "justify_items": null,
       "left": null,
       "margin": null,
       "max_height": null,
       "max_width": null,
       "min_height": null,
       "min_width": null,
       "object_fit": null,
       "object_position": null,
       "order": null,
       "overflow": null,
       "padding": null,
       "right": null,
       "top": null,
       "visibility": null,
       "width": null
      }
     },
     "aba7cdf20d7e4b12b2f41ace822f7f8f": {
      "model_module": "@jupyter-widgets/controls",
      "model_module_version": "2.0.0",
      "model_name": "HBoxModel",
      "state": {
       "_dom_classes": [],
       "_model_module": "@jupyter-widgets/controls",
       "_model_module_version": "2.0.0",
       "_model_name": "HBoxModel",
       "_view_count": null,
       "_view_module": "@jupyter-widgets/controls",
       "_view_module_version": "2.0.0",
       "_view_name": "HBoxView",
       "box_style": "",
       "children": [
        "IPY_MODEL_0c379170d5e34e8bad7d94221e3294f1",
        "IPY_MODEL_a0fdaef12155485b9db9e73690cae0a8",
        "IPY_MODEL_45be5cd98ad14fcbae61bf926d129b85"
       ],
       "layout": "IPY_MODEL_b29868cdf18c4908a9083c5058a6eedf",
       "tabbable": null,
       "tooltip": null
      }
     },
     "b108de2d7adc430483976d54ceb2a732": {
      "model_module": "@jupyter-widgets/controls",
      "model_module_version": "2.0.0",
      "model_name": "ProgressStyleModel",
      "state": {
       "_model_module": "@jupyter-widgets/controls",
       "_model_module_version": "2.0.0",
       "_model_name": "ProgressStyleModel",
       "_view_count": null,
       "_view_module": "@jupyter-widgets/base",
       "_view_module_version": "2.0.0",
       "_view_name": "StyleView",
       "bar_color": "#365c8d",
       "description_width": ""
      }
     },
     "b29868cdf18c4908a9083c5058a6eedf": {
      "model_module": "@jupyter-widgets/base",
      "model_module_version": "2.0.0",
      "model_name": "LayoutModel",
      "state": {
       "_model_module": "@jupyter-widgets/base",
       "_model_module_version": "2.0.0",
       "_model_name": "LayoutModel",
       "_view_count": null,
       "_view_module": "@jupyter-widgets/base",
       "_view_module_version": "2.0.0",
       "_view_name": "LayoutView",
       "align_content": null,
       "align_items": null,
       "align_self": null,
       "border_bottom": null,
       "border_left": null,
       "border_right": null,
       "border_top": null,
       "bottom": null,
       "display": null,
       "flex": null,
       "flex_flow": null,
       "grid_area": null,
       "grid_auto_columns": null,
       "grid_auto_flow": null,
       "grid_auto_rows": null,
       "grid_column": null,
       "grid_gap": null,
       "grid_row": null,
       "grid_template_areas": null,
       "grid_template_columns": null,
       "grid_template_rows": null,
       "height": null,
       "justify_content": null,
       "justify_items": null,
       "left": null,
       "margin": null,
       "max_height": null,
       "max_width": null,
       "min_height": null,
       "min_width": null,
       "object_fit": null,
       "object_position": null,
       "order": null,
       "overflow": null,
       "padding": null,
       "right": null,
       "top": null,
       "visibility": null,
       "width": null
      }
     },
     "bd5e4c5c0be6428fba671b6dc3c926af": {
      "model_module": "@jupyter-widgets/controls",
      "model_module_version": "2.0.0",
      "model_name": "HTMLModel",
      "state": {
       "_dom_classes": [],
       "_model_module": "@jupyter-widgets/controls",
       "_model_module_version": "2.0.0",
       "_model_name": "HTMLModel",
       "_view_count": null,
       "_view_module": "@jupyter-widgets/controls",
       "_view_module_version": "2.0.0",
       "_view_name": "HTMLView",
       "description": "",
       "description_allow_html": false,
       "layout": "IPY_MODEL_4b4896e039c843adb7d01c7226b08c68",
       "placeholder": "​",
       "style": "IPY_MODEL_9949d75084db4bd2937ad4a18a34f1ab",
       "tabbable": null,
       "tooltip": null,
       "value": "Downloading L250205213352D1968AF245_PH00.fits: 100%"
      }
     },
     "bffe4054dcdc45a4ac9cb799e17f1b41": {
      "model_module": "@jupyter-widgets/controls",
      "model_module_version": "2.0.0",
      "model_name": "HTMLModel",
      "state": {
       "_dom_classes": [],
       "_model_module": "@jupyter-widgets/controls",
       "_model_module_version": "2.0.0",
       "_model_name": "HTMLModel",
       "_view_count": null,
       "_view_module": "@jupyter-widgets/controls",
       "_view_module_version": "2.0.0",
       "_view_name": "HTMLView",
       "description": "",
       "description_allow_html": false,
       "layout": "IPY_MODEL_1cc496054c1445468f62960e575cfcd7",
       "placeholder": "​",
       "style": "IPY_MODEL_e86582ae45864a7f9ddda25352cb3e76",
       "tabbable": null,
       "tooltip": null,
       "value": " 11.9M/11.9M [00:05&lt;00:00, 2.52MB/s]"
      }
     },
     "c2d360ac39a34fd09982caa9c83e11ad": {
      "model_module": "@jupyter-widgets/controls",
      "model_module_version": "2.0.0",
      "model_name": "HBoxModel",
      "state": {
       "_dom_classes": [],
       "_model_module": "@jupyter-widgets/controls",
       "_model_module_version": "2.0.0",
       "_model_name": "HBoxModel",
       "_view_count": null,
       "_view_module": "@jupyter-widgets/controls",
       "_view_module_version": "2.0.0",
       "_view_name": "HBoxView",
       "box_style": "",
       "children": [
        "IPY_MODEL_85352bbab82e45918d34eb7f53775ce5",
        "IPY_MODEL_1b20ed5b81a1400f81b3396f4c06001a",
        "IPY_MODEL_bffe4054dcdc45a4ac9cb799e17f1b41"
       ],
       "layout": "IPY_MODEL_068cf76618704606bbbdbeb2149971f3",
       "tabbable": null,
       "tooltip": null
      }
     },
     "c7395855678344dc9de8a01a42f8935d": {
      "model_module": "@jupyter-widgets/base",
      "model_module_version": "2.0.0",
      "model_name": "LayoutModel",
      "state": {
       "_model_module": "@jupyter-widgets/base",
       "_model_module_version": "2.0.0",
       "_model_name": "LayoutModel",
       "_view_count": null,
       "_view_module": "@jupyter-widgets/base",
       "_view_module_version": "2.0.0",
       "_view_name": "LayoutView",
       "align_content": null,
       "align_items": null,
       "align_self": null,
       "border_bottom": null,
       "border_left": null,
       "border_right": null,
       "border_top": null,
       "bottom": null,
       "display": null,
       "flex": "2",
       "flex_flow": null,
       "grid_area": null,
       "grid_auto_columns": null,
       "grid_auto_flow": null,
       "grid_auto_rows": null,
       "grid_column": null,
       "grid_gap": null,
       "grid_row": null,
       "grid_template_areas": null,
       "grid_template_columns": null,
       "grid_template_rows": null,
       "height": null,
       "justify_content": null,
       "justify_items": null,
       "left": null,
       "margin": null,
       "max_height": null,
       "max_width": null,
       "min_height": null,
       "min_width": null,
       "object_fit": null,
       "object_position": null,
       "order": null,
       "overflow": null,
       "padding": null,
       "right": null,
       "top": null,
       "visibility": null,
       "width": null
      }
     },
     "cc2df48951c7440384d14a16e7ba16e1": {
      "model_module": "@jupyter-widgets/base",
      "model_module_version": "2.0.0",
      "model_name": "LayoutModel",
      "state": {
       "_model_module": "@jupyter-widgets/base",
       "_model_module_version": "2.0.0",
       "_model_name": "LayoutModel",
       "_view_count": null,
       "_view_module": "@jupyter-widgets/base",
       "_view_module_version": "2.0.0",
       "_view_name": "LayoutView",
       "align_content": null,
       "align_items": null,
       "align_self": null,
       "border_bottom": null,
       "border_left": null,
       "border_right": null,
       "border_top": null,
       "bottom": null,
       "display": null,
       "flex": null,
       "flex_flow": null,
       "grid_area": null,
       "grid_auto_columns": null,
       "grid_auto_flow": null,
       "grid_auto_rows": null,
       "grid_column": null,
       "grid_gap": null,
       "grid_row": null,
       "grid_template_areas": null,
       "grid_template_columns": null,
       "grid_template_rows": null,
       "height": null,
       "justify_content": null,
       "justify_items": null,
       "left": null,
       "margin": null,
       "max_height": null,
       "max_width": null,
       "min_height": null,
       "min_width": null,
       "object_fit": null,
       "object_position": null,
       "order": null,
       "overflow": null,
       "padding": null,
       "right": null,
       "top": null,
       "visibility": null,
       "width": null
      }
     },
     "cec583e0b73b40b89c48678d81fb4df6": {
      "model_module": "@jupyter-widgets/base",
      "model_module_version": "2.0.0",
      "model_name": "LayoutModel",
      "state": {
       "_model_module": "@jupyter-widgets/base",
       "_model_module_version": "2.0.0",
       "_model_name": "LayoutModel",
       "_view_count": null,
       "_view_module": "@jupyter-widgets/base",
       "_view_module_version": "2.0.0",
       "_view_name": "LayoutView",
       "align_content": null,
       "align_items": null,
       "align_self": null,
       "border_bottom": null,
       "border_left": null,
       "border_right": null,
       "border_top": null,
       "bottom": null,
       "display": null,
       "flex": null,
       "flex_flow": null,
       "grid_area": null,
       "grid_auto_columns": null,
       "grid_auto_flow": null,
       "grid_auto_rows": null,
       "grid_column": null,
       "grid_gap": null,
       "grid_row": null,
       "grid_template_areas": null,
       "grid_template_columns": null,
       "grid_template_rows": null,
       "height": null,
       "justify_content": null,
       "justify_items": null,
       "left": null,
       "margin": null,
       "max_height": null,
       "max_width": null,
       "min_height": null,
       "min_width": null,
       "object_fit": null,
       "object_position": null,
       "order": null,
       "overflow": null,
       "padding": null,
       "right": null,
       "top": null,
       "visibility": null,
       "width": null
      }
     },
     "d71ed90c82664ca696a7174877856ae5": {
      "model_module": "@jupyter-widgets/base",
      "model_module_version": "2.0.0",
      "model_name": "LayoutModel",
      "state": {
       "_model_module": "@jupyter-widgets/base",
       "_model_module_version": "2.0.0",
       "_model_name": "LayoutModel",
       "_view_count": null,
       "_view_module": "@jupyter-widgets/base",
       "_view_module_version": "2.0.0",
       "_view_name": "LayoutView",
       "align_content": null,
       "align_items": null,
       "align_self": null,
       "border_bottom": null,
       "border_left": null,
       "border_right": null,
       "border_top": null,
       "bottom": null,
       "display": null,
       "flex": null,
       "flex_flow": null,
       "grid_area": null,
       "grid_auto_columns": null,
       "grid_auto_flow": null,
       "grid_auto_rows": null,
       "grid_column": null,
       "grid_gap": null,
       "grid_row": null,
       "grid_template_areas": null,
       "grid_template_columns": null,
       "grid_template_rows": null,
       "height": null,
       "justify_content": null,
       "justify_items": null,
       "left": null,
       "margin": null,
       "max_height": null,
       "max_width": null,
       "min_height": null,
       "min_width": null,
       "object_fit": null,
       "object_position": null,
       "order": null,
       "overflow": null,
       "padding": null,
       "right": null,
       "top": null,
       "visibility": null,
       "width": null
      }
     },
     "d941b262924c47c190b38dded11eedc3": {
      "model_module": "@jupyter-widgets/base",
      "model_module_version": "2.0.0",
      "model_name": "LayoutModel",
      "state": {
       "_model_module": "@jupyter-widgets/base",
       "_model_module_version": "2.0.0",
       "_model_name": "LayoutModel",
       "_view_count": null,
       "_view_module": "@jupyter-widgets/base",
       "_view_module_version": "2.0.0",
       "_view_name": "LayoutView",
       "align_content": null,
       "align_items": null,
       "align_self": null,
       "border_bottom": null,
       "border_left": null,
       "border_right": null,
       "border_top": null,
       "bottom": null,
       "display": null,
       "flex": null,
       "flex_flow": null,
       "grid_area": null,
       "grid_auto_columns": null,
       "grid_auto_flow": null,
       "grid_auto_rows": null,
       "grid_column": null,
       "grid_gap": null,
       "grid_row": null,
       "grid_template_areas": null,
       "grid_template_columns": null,
       "grid_template_rows": null,
       "height": null,
       "justify_content": null,
       "justify_items": null,
       "left": null,
       "margin": null,
       "max_height": null,
       "max_width": null,
       "min_height": null,
       "min_width": null,
       "object_fit": null,
       "object_position": null,
       "order": null,
       "overflow": null,
       "padding": null,
       "right": null,
       "top": null,
       "visibility": null,
       "width": null
      }
     },
     "dfbef193c53e475e948e35c4988ac33a": {
      "model_module": "@jupyter-widgets/controls",
      "model_module_version": "2.0.0",
      "model_name": "ProgressStyleModel",
      "state": {
       "_model_module": "@jupyter-widgets/controls",
       "_model_module_version": "2.0.0",
       "_model_name": "ProgressStyleModel",
       "_view_count": null,
       "_view_module": "@jupyter-widgets/base",
       "_view_module_version": "2.0.0",
       "_view_name": "StyleView",
       "bar_color": null,
       "description_width": ""
      }
     },
     "e5d76e1ef793484388359ad12340d44b": {
      "model_module": "@jupyter-widgets/controls",
      "model_module_version": "2.0.0",
      "model_name": "ProgressStyleModel",
      "state": {
       "_model_module": "@jupyter-widgets/controls",
       "_model_module_version": "2.0.0",
       "_model_name": "ProgressStyleModel",
       "_view_count": null,
       "_view_module": "@jupyter-widgets/base",
       "_view_module_version": "2.0.0",
       "_view_name": "StyleView",
       "bar_color": "#277f8e",
       "description_width": ""
      }
     },
     "e679068f6e054843b4ddbc9381f493b6": {
      "model_module": "@jupyter-widgets/base",
      "model_module_version": "2.0.0",
      "model_name": "LayoutModel",
      "state": {
       "_model_module": "@jupyter-widgets/base",
       "_model_module_version": "2.0.0",
       "_model_name": "LayoutModel",
       "_view_count": null,
       "_view_module": "@jupyter-widgets/base",
       "_view_module_version": "2.0.0",
       "_view_name": "LayoutView",
       "align_content": null,
       "align_items": null,
       "align_self": null,
       "border_bottom": null,
       "border_left": null,
       "border_right": null,
       "border_top": null,
       "bottom": null,
       "display": "inline-flex",
       "flex": null,
       "flex_flow": "row wrap",
       "grid_area": null,
       "grid_auto_columns": null,
       "grid_auto_flow": null,
       "grid_auto_rows": null,
       "grid_column": null,
       "grid_gap": null,
       "grid_row": null,
       "grid_template_areas": null,
       "grid_template_columns": null,
       "grid_template_rows": null,
       "height": null,
       "justify_content": null,
       "justify_items": null,
       "left": null,
       "margin": null,
       "max_height": null,
       "max_width": null,
       "min_height": null,
       "min_width": null,
       "object_fit": null,
       "object_position": null,
       "order": null,
       "overflow": null,
       "padding": null,
       "right": null,
       "top": null,
       "visibility": null,
       "width": "100%"
      }
     },
     "e6da01f7ae5e4092bd7dca90d2961959": {
      "model_module": "@jupyter-widgets/controls",
      "model_module_version": "2.0.0",
      "model_name": "ProgressStyleModel",
      "state": {
       "_model_module": "@jupyter-widgets/controls",
       "_model_module_version": "2.0.0",
       "_model_name": "ProgressStyleModel",
       "_view_count": null,
       "_view_module": "@jupyter-widgets/base",
       "_view_module_version": "2.0.0",
       "_view_name": "StyleView",
       "bar_color": "#440154",
       "description_width": ""
      }
     },
     "e6ec3449726146598a81cea576c0eacc": {
      "model_module": "@jupyter-widgets/controls",
      "model_module_version": "2.0.0",
      "model_name": "HBoxModel",
      "state": {
       "_dom_classes": [],
       "_model_module": "@jupyter-widgets/controls",
       "_model_module_version": "2.0.0",
       "_model_name": "HBoxModel",
       "_view_count": null,
       "_view_module": "@jupyter-widgets/controls",
       "_view_module_version": "2.0.0",
       "_view_name": "HBoxView",
       "box_style": "",
       "children": [
        "IPY_MODEL_584259216ab0463eaff32322b4c2a782",
        "IPY_MODEL_9ce3261da6bc4185af00c8b749c1bfe4",
        "IPY_MODEL_7d7cd422c23649ef972541fb1bb732cb"
       ],
       "layout": "IPY_MODEL_34b1f4aba5ae40f8b263e0b47c4dab2d",
       "tabbable": null,
       "tooltip": null
      }
     },
     "e86582ae45864a7f9ddda25352cb3e76": {
      "model_module": "@jupyter-widgets/controls",
      "model_module_version": "2.0.0",
      "model_name": "HTMLStyleModel",
      "state": {
       "_model_module": "@jupyter-widgets/controls",
       "_model_module_version": "2.0.0",
       "_model_name": "HTMLStyleModel",
       "_view_count": null,
       "_view_module": "@jupyter-widgets/base",
       "_view_module_version": "2.0.0",
       "_view_name": "StyleView",
       "background": null,
       "description_width": "",
       "font_size": null,
       "text_color": null
      }
     },
     "f2ce9cf251d546629928f5292d9e3721": {
      "model_module": "@jupyter-widgets/base",
      "model_module_version": "2.0.0",
      "model_name": "LayoutModel",
      "state": {
       "_model_module": "@jupyter-widgets/base",
       "_model_module_version": "2.0.0",
       "_model_name": "LayoutModel",
       "_view_count": null,
       "_view_module": "@jupyter-widgets/base",
       "_view_module_version": "2.0.0",
       "_view_name": "LayoutView",
       "align_content": null,
       "align_items": null,
       "align_self": null,
       "border_bottom": null,
       "border_left": null,
       "border_right": null,
       "border_top": null,
       "bottom": null,
       "display": null,
       "flex": "2",
       "flex_flow": null,
       "grid_area": null,
       "grid_auto_columns": null,
       "grid_auto_flow": null,
       "grid_auto_rows": null,
       "grid_column": null,
       "grid_gap": null,
       "grid_row": null,
       "grid_template_areas": null,
       "grid_template_columns": null,
       "grid_template_rows": null,
       "height": null,
       "justify_content": null,
       "justify_items": null,
       "left": null,
       "margin": null,
       "max_height": null,
       "max_width": null,
       "min_height": null,
       "min_width": null,
       "object_fit": null,
       "object_position": null,
       "order": null,
       "overflow": null,
       "padding": null,
       "right": null,
       "top": null,
       "visibility": null,
       "width": null
      }
     },
     "f318fac0da2a4e4487b863acebaf1269": {
      "model_module": "@jupyter-widgets/base",
      "model_module_version": "2.0.0",
      "model_name": "LayoutModel",
      "state": {
       "_model_module": "@jupyter-widgets/base",
       "_model_module_version": "2.0.0",
       "_model_name": "LayoutModel",
       "_view_count": null,
       "_view_module": "@jupyter-widgets/base",
       "_view_module_version": "2.0.0",
       "_view_name": "LayoutView",
       "align_content": null,
       "align_items": null,
       "align_self": null,
       "border_bottom": null,
       "border_left": null,
       "border_right": null,
       "border_top": null,
       "bottom": null,
       "display": null,
       "flex": "2",
       "flex_flow": null,
       "grid_area": null,
       "grid_auto_columns": null,
       "grid_auto_flow": null,
       "grid_auto_rows": null,
       "grid_column": null,
       "grid_gap": null,
       "grid_row": null,
       "grid_template_areas": null,
       "grid_template_columns": null,
       "grid_template_rows": null,
       "height": null,
       "justify_content": null,
       "justify_items": null,
       "left": null,
       "margin": null,
       "max_height": null,
       "max_width": null,
       "min_height": null,
       "min_width": null,
       "object_fit": null,
       "object_position": null,
       "order": null,
       "overflow": null,
       "padding": null,
       "right": null,
       "top": null,
       "visibility": null,
       "width": null
      }
     },
     "f9e8d22b9d684b69a3b23f182af01131": {
      "model_module": "@jupyter-widgets/controls",
      "model_module_version": "2.0.0",
      "model_name": "HTMLStyleModel",
      "state": {
       "_model_module": "@jupyter-widgets/controls",
       "_model_module_version": "2.0.0",
       "_model_name": "HTMLStyleModel",
       "_view_count": null,
       "_view_module": "@jupyter-widgets/base",
       "_view_module_version": "2.0.0",
       "_view_name": "StyleView",
       "background": null,
       "description_width": "",
       "font_size": null,
       "text_color": null
      }
     },
     "fe739d54731d405c888e08c25feb52f9": {
      "model_module": "@jupyter-widgets/controls",
      "model_module_version": "2.0.0",
      "model_name": "HBoxModel",
      "state": {
       "_dom_classes": [],
       "_model_module": "@jupyter-widgets/controls",
       "_model_module_version": "2.0.0",
       "_model_name": "HBoxModel",
       "_view_count": null,
       "_view_module": "@jupyter-widgets/controls",
       "_view_module_version": "2.0.0",
       "_view_name": "HBoxView",
       "box_style": "",
       "children": [
        "IPY_MODEL_bd5e4c5c0be6428fba671b6dc3c926af",
        "IPY_MODEL_769debe72d604f67ae196fa176f7cb33",
        "IPY_MODEL_4034f68852984e9c90b3a608f3376ca5"
       ],
       "layout": "IPY_MODEL_71c8687aaea44f4497f463d5d660e4ec",
       "tabbable": null,
       "tooltip": null
      }
     }
    },
    "version_major": 2,
    "version_minor": 0
   }
  }
 },
 "nbformat": 4,
 "nbformat_minor": 5
}
