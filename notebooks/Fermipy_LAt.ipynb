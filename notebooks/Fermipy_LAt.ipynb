{
 "cells": [
  {
   "cell_type": "markdown",
   "id": "70aa89be",
   "metadata": {},
   "source": [
    "# Fermi-LAT via FermiPyLike"
   ]
  },
  {
   "cell_type": "markdown",
   "id": "3bff1a16",
   "metadata": {},
   "source": [
    "In this Example we show how to use the fermipy plugin in threeML. We perform a Binned likelihood analysis and a Bayesian analysis of the Crab, optimizing the parameters of the Crab Pulsar (PSR J0534+2200) keeping fixed the parameters of the Crab Nebula. In the model, the nebula is described by two sources, one representing the synchrotron spectrum, the othet the Inverse Compton emission.\n",
    "In this example we show how to download Fermi-LAT data, how to build a model starting from the 4FGL, how to free and fix parameters of the sources in the model, and how to perform a spectral analysis using the fermipy plugin."
   ]
  },
  {
   "cell_type": "code",
   "execution_count": 1,
   "id": "487340ec",
   "metadata": {
    "execution": {
     "iopub.execute_input": "2024-02-03T19:02:10.794679Z",
     "iopub.status.busy": "2024-02-03T19:02:10.793889Z",
     "iopub.status.idle": "2024-02-03T19:02:11.416928Z",
     "shell.execute_reply": "2024-02-03T19:02:11.415785Z"
    },
    "lines_to_next_cell": 2
   },
   "outputs": [],
   "source": [
    "import warnings\n",
    "\n",
    "warnings.simplefilter(\"ignore\")\n",
    "import numpy as np\n",
    "\n",
    "np.seterr(all=\"ignore\")\n",
    "import shutil\n",
    "from IPython.display import Image, display\n",
    "import glob\n",
    "from pathlib import Path\n",
    "import matplotlib as mpl\n",
    "from matplotlib import pyplot as plt\n",
    "from astropy.io import fits as pyfits\n",
    "import scipy as sp"
   ]
  },
  {
   "cell_type": "code",
   "execution_count": 2,
   "id": "a88e2400",
   "metadata": {
    "execution": {
     "iopub.execute_input": "2024-02-03T19:02:11.422573Z",
     "iopub.status.busy": "2024-02-03T19:02:11.422202Z",
     "iopub.status.idle": "2024-02-03T19:02:15.166207Z",
     "shell.execute_reply": "2024-02-03T19:02:15.164896Z"
    },
    "lines_to_next_cell": 2
   },
   "outputs": [],
   "source": [
    "%%capture\n",
    "from threeML import *"
   ]
  },
  {
   "cell_type": "code",
   "execution_count": 3,
   "id": "135ab896",
   "metadata": {
    "execution": {
     "iopub.execute_input": "2024-02-03T19:02:15.172925Z",
     "iopub.status.busy": "2024-02-03T19:02:15.172573Z",
     "iopub.status.idle": "2024-02-03T19:02:15.187220Z",
     "shell.execute_reply": "2024-02-03T19:02:15.186064Z"
    }
   },
   "outputs": [],
   "source": [
    "from jupyterthemes import jtplot\n",
    "\n",
    "%matplotlib inline\n",
    "jtplot.style(context=\"talk\", fscale=1, ticks=True, grid=False)\n",
    "set_threeML_style()\n",
    "silence_warnings()"
   ]
  },
  {
   "cell_type": "markdown",
   "id": "54b05e88",
   "metadata": {},
   "source": []
  },
  {
   "cell_type": "markdown",
   "id": "855a669e",
   "metadata": {},
   "source": [
    "## The Fermi 4FGL catalog\n",
    "Let's interrogate the 4FGL to get the sources in a radius of 20.0 deg around the Crab"
   ]
  },
  {
   "cell_type": "code",
   "execution_count": 4,
   "id": "90b3d338",
   "metadata": {
    "execution": {
     "iopub.execute_input": "2024-02-03T19:02:15.192843Z",
     "iopub.status.busy": "2024-02-03T19:02:15.192550Z",
     "iopub.status.idle": "2024-02-03T19:02:28.435879Z",
     "shell.execute_reply": "2024-02-03T19:02:28.434706Z"
    }
   },
   "outputs": [
    {
     "data": {
      "text/html": [
       "<pre style=\"white-space:pre;overflow-x:auto;line-height:normal;font-family:Menlo,'DejaVu Sans Mono',consolas,'Courier New',monospace\"><span style=\"color: #00ff00; text-decoration-color: #00ff00\">19:02:15 </span><span style=\"color: #00ffaf; text-decoration-color: #00ffaf\">INFO    </span> <span style=\"color: #c6c6c6; text-decoration-color: #c6c6c6; font-weight: bold\"> The cache for fermilpsc does not yet exist. We will try to     </span><a href=\"file:///Users/runner/work/threeML/threeML/threeML/io/get_heasarc_table_as_pandas.py\" target=\"_blank\"><span style=\"color: #7f7f7f; text-decoration-color: #7f7f7f\">get_heasarc_table_as_pandas.py</span></a><span style=\"color: #7f7f7f; text-decoration-color: #7f7f7f\">:</span><a href=\"file:///Users/runner/work/threeML/threeML/threeML/io/get_heasarc_table_as_pandas.py#64\" target=\"_blank\"><span style=\"color: #7f7f7f; text-decoration-color: #7f7f7f\">64</span></a>\n",
       "<span style=\"color: #00ff00; text-decoration-color: #00ff00\">         </span>         <span style=\"color: #c6c6c6; text-decoration-color: #c6c6c6; font-weight: bold\">build it                                                        </span><span style=\"color: #7f7f7f; text-decoration-color: #7f7f7f\">                                 </span>\n",
       "<span style=\"color: #00ff00; text-decoration-color: #00ff00\">         </span>         <span style=\"color: #c6c6c6; text-decoration-color: #c6c6c6; font-weight: bold\">                                                                </span><span style=\"color: #7f7f7f; text-decoration-color: #7f7f7f\">                                 </span>\n",
       "</pre>\n"
      ],
      "text/plain": [
       "\u001b[38;5;46m19:02:15\u001b[0m\u001b[38;5;46m \u001b[0m\u001b[38;5;49mINFO    \u001b[0m \u001b[1;38;5;251m The cache for fermilpsc does not yet exist. We will try to    \u001b[0m\u001b[1;38;5;251m \u001b[0m\u001b]8;id=573316;file:///Users/runner/work/threeML/threeML/threeML/io/get_heasarc_table_as_pandas.py\u001b\\\u001b[2mget_heasarc_table_as_pandas.py\u001b[0m\u001b]8;;\u001b\\\u001b[2m:\u001b[0m\u001b]8;id=474307;file:///Users/runner/work/threeML/threeML/threeML/io/get_heasarc_table_as_pandas.py#64\u001b\\\u001b[2m64\u001b[0m\u001b]8;;\u001b\\\n",
       "\u001b[38;5;46m         \u001b[0m         \u001b[1;38;5;251mbuild it                                                       \u001b[0m\u001b[1;38;5;251m \u001b[0m\u001b[2m                                 \u001b[0m\n",
       "\u001b[38;5;46m         \u001b[0m         \u001b[1;38;5;251m                                                               \u001b[0m\u001b[1;38;5;251m \u001b[0m\u001b[2m                                 \u001b[0m\n"
      ]
     },
     "metadata": {},
     "output_type": "display_data"
    },
    {
     "data": {
      "text/html": [
       "<pre style=\"white-space:pre;overflow-x:auto;line-height:normal;font-family:Menlo,'DejaVu Sans Mono',consolas,'Courier New',monospace\"><span style=\"color: #00ff00; text-decoration-color: #00ff00\">         </span><span style=\"color: #00ffaf; text-decoration-color: #00ffaf\">INFO    </span> <span style=\"color: #c6c6c6; text-decoration-color: #c6c6c6; font-weight: bold\"> Building cache for fermilpsc                                  </span><a href=\"file:///Users/runner/work/threeML/threeML/threeML/io/get_heasarc_table_as_pandas.py\" target=\"_blank\"><span style=\"color: #7f7f7f; text-decoration-color: #7f7f7f\">get_heasarc_table_as_pandas.py</span></a><span style=\"color: #7f7f7f; text-decoration-color: #7f7f7f\">:</span><a href=\"file:///Users/runner/work/threeML/threeML/threeML/io/get_heasarc_table_as_pandas.py#112\" target=\"_blank\"><span style=\"color: #7f7f7f; text-decoration-color: #7f7f7f\">112</span></a>\n",
       "</pre>\n"
      ],
      "text/plain": [
       "\u001b[38;5;46m        \u001b[0m\u001b[38;5;46m \u001b[0m\u001b[38;5;49mINFO    \u001b[0m \u001b[1;38;5;251m Building cache for fermilpsc                                 \u001b[0m\u001b[1;38;5;251m \u001b[0m\u001b]8;id=779042;file:///Users/runner/work/threeML/threeML/threeML/io/get_heasarc_table_as_pandas.py\u001b\\\u001b[2mget_heasarc_table_as_pandas.py\u001b[0m\u001b]8;;\u001b\\\u001b[2m:\u001b[0m\u001b]8;id=798194;file:///Users/runner/work/threeML/threeML/threeML/io/get_heasarc_table_as_pandas.py#112\u001b\\\u001b[2m112\u001b[0m\u001b]8;;\u001b\\\n"
      ]
     },
     "metadata": {},
     "output_type": "display_data"
    },
    {
     "name": "stdout",
     "output_type": "stream",
     "text": [
      "Trying https://heasarc.gsfc.nasa.gov/cgi-bin/vo/cone/coneGet.pl?table=fermilpsc&\n"
     ]
    },
    {
     "data": {
      "text/html": [
       "<div><i>Table length=196</i>\n",
       "<table id=\"table5220490640\" class=\"table-striped table-bordered table-condensed\">\n",
       "<thead><tr><th>name</th><th>source_type</th><th>short_source_type</th><th>ra</th><th>dec</th><th>assoc_name</th><th>tevcat_assoc</th><th>Search_Offset</th></tr></thead>\n",
       "<thead><tr><th></th><th></th><th></th><th>deg</th><th>deg</th><th></th><th></th><th></th></tr></thead>\n",
       "<thead><tr><th>object</th><th>str52</th><th>object</th><th>float64</th><th>float64</th><th>object</th><th>object</th><th>float64</th></tr></thead>\n",
       "<tr><td>4FGL J0534.5+2201s</td><td>pulsar wind nebula</td><td>PWN</td><td>83.6331</td><td>22.0199</td><td>Crab Nebula</td><td>Crab</td><td>0.3965</td></tr>\n",
       "<tr><td>4FGL J0534.5+2201i</td><td>pulsar wind nebula</td><td>PWN</td><td>83.6330</td><td>22.0200</td><td>Crab Nebula</td><td>Crab</td><td>0.3979</td></tr>\n",
       "<tr><td>4FGL J0534.5+2200</td><td>pulsar, identified by pulsations</td><td>PSR</td><td>83.6367</td><td>22.0149</td><td>PSR J0534+2200</td><td>Crab pulsar</td><td>0.4447</td></tr>\n",
       "<tr><td>4FGL J0526.3+2246</td><td>active galaxy of uncertain type</td><td>bcu</td><td>81.5908</td><td>22.7778</td><td>NVSS J052622+224801</td><td></td><td>121.9694</td></tr>\n",
       "<tr><td>4FGL J0544.4+2238</td><td>unknown</td><td></td><td>86.1093</td><td>22.6418</td><td></td><td></td><td>142.7227</td></tr>\n",
       "<tr><td>4FGL J0521.7+2112</td><td>BL Lac type of blazar</td><td>bll</td><td>80.4445</td><td>21.2131</td><td>TXS 0518+211</td><td>VER J0521+211</td><td>184.0105</td></tr>\n",
       "<tr><td>4FGL J0528.3+1817</td><td>unknown</td><td>unk</td><td>82.0946</td><td>18.2943</td><td>1RXS J052829.6+181657</td><td></td><td>239.3570</td></tr>\n",
       "<tr><td>4FGL J0519.7+1939</td><td>unknown</td><td></td><td>79.9457</td><td>19.6646</td><td></td><td></td><td>250.0485</td></tr>\n",
       "<tr><td>4FGL J0536.2+1733</td><td>BL Lac type of blazar</td><td>bll</td><td>84.0719</td><td>17.5534</td><td>TXS 0533+175</td><td></td><td>268.8438</td></tr>\n",
       "<tr><td>...</td><td>...</td><td>...</td><td>...</td><td>...</td><td>...</td><td>...</td><td>...</td></tr>\n",
       "<tr><td>4FGL J0552.8+0313</td><td>active galaxy of uncertain type</td><td>bcu</td><td>88.2180</td><td>3.2322</td><td>PKS 0550+032</td><td></td><td>1158.2177</td></tr>\n",
       "<tr><td>4FGL J0431.0+3529c</td><td>unknown</td><td></td><td>67.7650</td><td>35.4949</td><td></td><td></td><td>1159.0130</td></tr>\n",
       "<tr><td>4FGL J0653.6+1636</td><td>active galaxy of uncertain type</td><td>bcu</td><td>103.4105</td><td>16.6106</td><td>2MASX J06533986+1636432</td><td></td><td>1164.9659</td></tr>\n",
       "<tr><td>4FGL J0658.7+2318</td><td>unknown</td><td></td><td>104.6808</td><td>23.3027</td><td></td><td></td><td>1167.1721</td></tr>\n",
       "<tr><td>4FGL J0552.0+0256c</td><td>unknown</td><td></td><td>88.0140</td><td>2.9417</td><td></td><td></td><td>1172.5618</td></tr>\n",
       "<tr><td>4FGL J0555.1+0304</td><td>active galaxy of uncertain type</td><td>bcu</td><td>88.7776</td><td>3.0710</td><td>GB6 J0555+0304</td><td></td><td>1175.5384</td></tr>\n",
       "<tr><td>4FGL J0658.2+2709</td><td>active galaxy of uncertain type</td><td>bcu</td><td>104.5735</td><td>27.1501</td><td>B2 0655+27A</td><td></td><td>1181.9183</td></tr>\n",
       "<tr><td>4FGL J0642.4+1048</td><td>unknown</td><td></td><td>100.6081</td><td>10.8135</td><td></td><td></td><td>1184.1778</td></tr>\n",
       "<tr><td>4FGL J0506.9+0323</td><td>BL Lac type of blazar</td><td>bll</td><td>76.7314</td><td>3.3917</td><td>NVSS J050650+032401</td><td></td><td>1187.3710</td></tr>\n",
       "<tr><td>4FGL J0409.2+2542</td><td>unknown</td><td></td><td>62.3144</td><td>25.7022</td><td></td><td></td><td>1188.9075</td></tr>\n",
       "</table></div>"
      ],
      "text/plain": [
       "<Table length=196>\n",
       "       name                  source_type            ... Search_Offset\n",
       "                                                    ...              \n",
       "      object                    str52               ...    float64   \n",
       "------------------ -------------------------------- ... -------------\n",
       "4FGL J0534.5+2201s               pulsar wind nebula ...        0.3965\n",
       "4FGL J0534.5+2201i               pulsar wind nebula ...        0.3979\n",
       " 4FGL J0534.5+2200 pulsar, identified by pulsations ...        0.4447\n",
       " 4FGL J0526.3+2246  active galaxy of uncertain type ...      121.9694\n",
       " 4FGL J0544.4+2238                          unknown ...      142.7227\n",
       " 4FGL J0521.7+2112            BL Lac type of blazar ...      184.0105\n",
       " 4FGL J0528.3+1817                          unknown ...      239.3570\n",
       " 4FGL J0519.7+1939                          unknown ...      250.0485\n",
       " 4FGL J0536.2+1733            BL Lac type of blazar ...      268.8438\n",
       "               ...                              ... ...           ...\n",
       " 4FGL J0552.8+0313  active galaxy of uncertain type ...     1158.2177\n",
       "4FGL J0431.0+3529c                          unknown ...     1159.0130\n",
       " 4FGL J0653.6+1636  active galaxy of uncertain type ...     1164.9659\n",
       " 4FGL J0658.7+2318                          unknown ...     1167.1721\n",
       "4FGL J0552.0+0256c                          unknown ...     1172.5618\n",
       " 4FGL J0555.1+0304  active galaxy of uncertain type ...     1175.5384\n",
       " 4FGL J0658.2+2709  active galaxy of uncertain type ...     1181.9183\n",
       " 4FGL J0642.4+1048                          unknown ...     1184.1778\n",
       " 4FGL J0506.9+0323            BL Lac type of blazar ...     1187.3710\n",
       " 4FGL J0409.2+2542                          unknown ...     1188.9075"
      ]
     },
     "execution_count": 4,
     "metadata": {},
     "output_type": "execute_result"
    }
   ],
   "source": [
    "lat_catalog = FermiLATSourceCatalog()\n",
    "\n",
    "ra, dec, table = lat_catalog.search_around_source(\"Crab\", radius=20.0)\n",
    "\n",
    "table"
   ]
  },
  {
   "cell_type": "markdown",
   "id": "28a52cf9",
   "metadata": {},
   "source": [
    "This gets a 3ML model (a Model instance) from the table above, where every source in the 4FGL becomes a Source instance. Note that by default all parameters of all sources are fixed."
   ]
  },
  {
   "cell_type": "code",
   "execution_count": 5,
   "id": "183ee0b2",
   "metadata": {
    "execution": {
     "iopub.execute_input": "2024-02-03T19:02:28.441421Z",
     "iopub.status.busy": "2024-02-03T19:02:28.441112Z",
     "iopub.status.idle": "2024-02-03T19:02:28.788858Z",
     "shell.execute_reply": "2024-02-03T19:02:28.787574Z"
    }
   },
   "outputs": [],
   "source": [
    "model = lat_catalog.get_model()"
   ]
  },
  {
   "cell_type": "markdown",
   "id": "56a57285",
   "metadata": {},
   "source": [
    "Let's free all the normalizations within 3 deg from the center."
   ]
  },
  {
   "cell_type": "code",
   "execution_count": 6,
   "id": "5f3de527",
   "metadata": {
    "execution": {
     "iopub.execute_input": "2024-02-03T19:02:28.794874Z",
     "iopub.status.busy": "2024-02-03T19:02:28.794577Z",
     "iopub.status.idle": "2024-02-03T19:02:28.993306Z",
     "shell.execute_reply": "2024-02-03T19:02:28.992043Z"
    }
   },
   "outputs": [
    {
     "data": {
      "text/html": [
       "Model summary:<br><br><div>\n",
       "<style scoped>\n",
       "    .dataframe tbody tr th:only-of-type {\n",
       "        vertical-align: middle;\n",
       "    }\n",
       "\n",
       "    .dataframe tbody tr th {\n",
       "        vertical-align: top;\n",
       "    }\n",
       "\n",
       "    .dataframe thead th {\n",
       "        text-align: right;\n",
       "    }\n",
       "</style>\n",
       "<table border=\"1\" class=\"dataframe\">\n",
       "  <thead>\n",
       "    <tr style=\"text-align: right;\">\n",
       "      <th></th>\n",
       "      <th>N</th>\n",
       "    </tr>\n",
       "  </thead>\n",
       "  <tbody>\n",
       "    <tr>\n",
       "      <th>Point sources</th>\n",
       "      <td>196</td>\n",
       "    </tr>\n",
       "    <tr>\n",
       "      <th>Extended sources</th>\n",
       "      <td>0</td>\n",
       "    </tr>\n",
       "    <tr>\n",
       "      <th>Particle sources</th>\n",
       "      <td>0</td>\n",
       "    </tr>\n",
       "  </tbody>\n",
       "</table>\n",
       "</div><br><br>Free parameters (5):<br><br><div>\n",
       "<style scoped>\n",
       "    .dataframe tbody tr th:only-of-type {\n",
       "        vertical-align: middle;\n",
       "    }\n",
       "\n",
       "    .dataframe tbody tr th {\n",
       "        vertical-align: top;\n",
       "    }\n",
       "\n",
       "    .dataframe thead th {\n",
       "        text-align: right;\n",
       "    }\n",
       "</style>\n",
       "<table border=\"1\" class=\"dataframe\">\n",
       "  <thead>\n",
       "    <tr style=\"text-align: right;\">\n",
       "      <th></th>\n",
       "      <th>value</th>\n",
       "      <th>min_value</th>\n",
       "      <th>max_value</th>\n",
       "      <th>unit</th>\n",
       "    </tr>\n",
       "  </thead>\n",
       "  <tbody>\n",
       "    <tr>\n",
       "      <th>Crab_synch.spectrum.main.Log_parabola.K</th>\n",
       "      <td>0.0</td>\n",
       "      <td>0.0</td>\n",
       "      <td>0.0</td>\n",
       "      <td>keV-1 s-1 cm-2</td>\n",
       "    </tr>\n",
       "    <tr>\n",
       "      <th>Crab_IC.spectrum.main.Log_parabola.K</th>\n",
       "      <td>0.0</td>\n",
       "      <td>0.0</td>\n",
       "      <td>0.0</td>\n",
       "      <td>keV-1 s-1 cm-2</td>\n",
       "    </tr>\n",
       "    <tr>\n",
       "      <th>PSR_J0534p2200.spectrum.main.Super_cutoff_powerlaw.K</th>\n",
       "      <td>0.0</td>\n",
       "      <td>0.0</td>\n",
       "      <td>0.0</td>\n",
       "      <td>keV-1 s-1 cm-2</td>\n",
       "    </tr>\n",
       "    <tr>\n",
       "      <th>NVSS_J052622p224801.spectrum.main.Powerlaw.K</th>\n",
       "      <td>0.0</td>\n",
       "      <td>0.0</td>\n",
       "      <td>0.0</td>\n",
       "      <td>keV-1 s-1 cm-2</td>\n",
       "    </tr>\n",
       "    <tr>\n",
       "      <th>x4FGL_J0544d4p2238.spectrum.main.Powerlaw.K</th>\n",
       "      <td>0.0</td>\n",
       "      <td>0.0</td>\n",
       "      <td>0.0</td>\n",
       "      <td>keV-1 s-1 cm-2</td>\n",
       "    </tr>\n",
       "  </tbody>\n",
       "</table>\n",
       "</div><br><br>Fixed parameters (1089):<br>(abridged. Use complete=True to see all fixed parameters)<br><br><br>Properties (0):<br><br>(none)<br><br><br>Linked parameters (0):<br><br>(none)<br><br>Independent variables:<br><br>(none)<br><br>Linked functions (0):<br><br>(none)<br>"
      ],
      "text/plain": [
       "Model summary:\n",
       "==============\n",
       "\n",
       "                    N\n",
       "Point sources     196\n",
       "Extended sources    0\n",
       "Particle sources    0\n",
       "\n",
       "Free parameters (5):\n",
       "--------------------\n",
       "\n",
       "                                        value min_value max_value  \\\n",
       "Crab_synch.spectrum.main.Log_parabola.K   0.0       0.0       0.0   \n",
       "Crab_IC.spectrum.main.Log_parabola.K      0.0       0.0       0.0   \n",
       "PSR_J0534p2200...K                        0.0       0.0       0.0   \n",
       "NVSS_J052622p224801...K                   0.0       0.0       0.0   \n",
       "x4FGL_J0544d4p2238...K                    0.0       0.0       0.0   \n",
       "\n",
       "                                                   unit  \n",
       "Crab_synch.spectrum.main.Log_parabola.K  keV-1 s-1 cm-2  \n",
       "Crab_IC.spectrum.main.Log_parabola.K     keV-1 s-1 cm-2  \n",
       "PSR_J0534p2200...K                       keV-1 s-1 cm-2  \n",
       "NVSS_J052622p224801...K                  keV-1 s-1 cm-2  \n",
       "x4FGL_J0544d4p2238...K                   keV-1 s-1 cm-2  \n",
       "\n",
       "Fixed parameters (1089):\n",
       "(abridged. Use complete=True to see all fixed parameters)\n",
       "\n",
       "\n",
       "Properties (0):\n",
       "--------------------\n",
       "\n",
       "(none)\n",
       "\n",
       "\n",
       "Linked parameters (0):\n",
       "----------------------\n",
       "\n",
       "(none)\n",
       "\n",
       "Independent variables:\n",
       "----------------------\n",
       "\n",
       "(none)\n",
       "\n",
       "Linked functions (0):\n",
       "----------------------\n",
       "\n",
       "(none)"
      ]
     },
     "metadata": {},
     "output_type": "display_data"
    }
   ],
   "source": [
    "model.free_point_sources_within_radius(3.0, normalization_only=True)\n",
    "\n",
    "model.display()"
   ]
  },
  {
   "cell_type": "markdown",
   "id": "803d58dc",
   "metadata": {},
   "source": [
    "but then let's fix the sync and the IC components of the Crab nebula (cannot fit them with just one month of data) (these two methods are equivalent)"
   ]
  },
  {
   "cell_type": "code",
   "execution_count": 7,
   "id": "95bab835",
   "metadata": {
    "execution": {
     "iopub.execute_input": "2024-02-03T19:02:28.998924Z",
     "iopub.status.busy": "2024-02-03T19:02:28.998612Z",
     "iopub.status.idle": "2024-02-03T19:02:29.005186Z",
     "shell.execute_reply": "2024-02-03T19:02:29.004108Z"
    }
   },
   "outputs": [],
   "source": [
    "model[\"Crab_IC.spectrum.main.Log_parabola.K\"].fix = True\n",
    "model.Crab_synch.spectrum.main.Log_parabola.K.fix = True"
   ]
  },
  {
   "cell_type": "markdown",
   "id": "177e6223",
   "metadata": {},
   "source": [
    "However, let's free the index of the Crab Pulsar"
   ]
  },
  {
   "cell_type": "code",
   "execution_count": 8,
   "id": "3c95aa70",
   "metadata": {
    "execution": {
     "iopub.execute_input": "2024-02-03T19:02:29.010529Z",
     "iopub.status.busy": "2024-02-03T19:02:29.010231Z",
     "iopub.status.idle": "2024-02-03T19:02:29.201412Z",
     "shell.execute_reply": "2024-02-03T19:02:29.200260Z"
    }
   },
   "outputs": [
    {
     "data": {
      "text/html": [
       "Model summary:<br><br><div>\n",
       "<style scoped>\n",
       "    .dataframe tbody tr th:only-of-type {\n",
       "        vertical-align: middle;\n",
       "    }\n",
       "\n",
       "    .dataframe tbody tr th {\n",
       "        vertical-align: top;\n",
       "    }\n",
       "\n",
       "    .dataframe thead th {\n",
       "        text-align: right;\n",
       "    }\n",
       "</style>\n",
       "<table border=\"1\" class=\"dataframe\">\n",
       "  <thead>\n",
       "    <tr style=\"text-align: right;\">\n",
       "      <th></th>\n",
       "      <th>N</th>\n",
       "    </tr>\n",
       "  </thead>\n",
       "  <tbody>\n",
       "    <tr>\n",
       "      <th>Point sources</th>\n",
       "      <td>196</td>\n",
       "    </tr>\n",
       "    <tr>\n",
       "      <th>Extended sources</th>\n",
       "      <td>0</td>\n",
       "    </tr>\n",
       "    <tr>\n",
       "      <th>Particle sources</th>\n",
       "      <td>0</td>\n",
       "    </tr>\n",
       "  </tbody>\n",
       "</table>\n",
       "</div><br><br>Free parameters (4):<br><br><div>\n",
       "<style scoped>\n",
       "    .dataframe tbody tr th:only-of-type {\n",
       "        vertical-align: middle;\n",
       "    }\n",
       "\n",
       "    .dataframe tbody tr th {\n",
       "        vertical-align: top;\n",
       "    }\n",
       "\n",
       "    .dataframe thead th {\n",
       "        text-align: right;\n",
       "    }\n",
       "</style>\n",
       "<table border=\"1\" class=\"dataframe\">\n",
       "  <thead>\n",
       "    <tr style=\"text-align: right;\">\n",
       "      <th></th>\n",
       "      <th>value</th>\n",
       "      <th>min_value</th>\n",
       "      <th>max_value</th>\n",
       "      <th>unit</th>\n",
       "    </tr>\n",
       "  </thead>\n",
       "  <tbody>\n",
       "    <tr>\n",
       "      <th>PSR_J0534p2200.spectrum.main.Super_cutoff_powerlaw.K</th>\n",
       "      <td>0.0</td>\n",
       "      <td>0.0</td>\n",
       "      <td>0.0</td>\n",
       "      <td>keV-1 s-1 cm-2</td>\n",
       "    </tr>\n",
       "    <tr>\n",
       "      <th>PSR_J0534p2200.spectrum.main.Super_cutoff_powerlaw.index</th>\n",
       "      <td>-1.826553</td>\n",
       "      <td>-10.0</td>\n",
       "      <td>10.0</td>\n",
       "      <td></td>\n",
       "    </tr>\n",
       "    <tr>\n",
       "      <th>NVSS_J052622p224801.spectrum.main.Powerlaw.K</th>\n",
       "      <td>0.0</td>\n",
       "      <td>0.0</td>\n",
       "      <td>0.0</td>\n",
       "      <td>keV-1 s-1 cm-2</td>\n",
       "    </tr>\n",
       "    <tr>\n",
       "      <th>x4FGL_J0544d4p2238.spectrum.main.Powerlaw.K</th>\n",
       "      <td>0.0</td>\n",
       "      <td>0.0</td>\n",
       "      <td>0.0</td>\n",
       "      <td>keV-1 s-1 cm-2</td>\n",
       "    </tr>\n",
       "  </tbody>\n",
       "</table>\n",
       "</div><br><br>Fixed parameters (1090):<br>(abridged. Use complete=True to see all fixed parameters)<br><br><br>Properties (0):<br><br>(none)<br><br><br>Linked parameters (0):<br><br>(none)<br><br>Independent variables:<br><br>(none)<br><br>Linked functions (0):<br><br>(none)<br>"
      ],
      "text/plain": [
       "Model summary:\n",
       "==============\n",
       "\n",
       "                    N\n",
       "Point sources     196\n",
       "Extended sources    0\n",
       "Particle sources    0\n",
       "\n",
       "Free parameters (4):\n",
       "--------------------\n",
       "\n",
       "                            value min_value max_value            unit\n",
       "PSR_J0534p2200...K            0.0       0.0       0.0  keV-1 s-1 cm-2\n",
       "PSR_J0534p2200...index  -1.826553     -10.0      10.0                \n",
       "NVSS_J052622p224801...K       0.0       0.0       0.0  keV-1 s-1 cm-2\n",
       "x4FGL_J0544d4p2238...K        0.0       0.0       0.0  keV-1 s-1 cm-2\n",
       "\n",
       "Fixed parameters (1090):\n",
       "(abridged. Use complete=True to see all fixed parameters)\n",
       "\n",
       "\n",
       "Properties (0):\n",
       "--------------------\n",
       "\n",
       "(none)\n",
       "\n",
       "\n",
       "Linked parameters (0):\n",
       "----------------------\n",
       "\n",
       "(none)\n",
       "\n",
       "Independent variables:\n",
       "----------------------\n",
       "\n",
       "(none)\n",
       "\n",
       "Linked functions (0):\n",
       "----------------------\n",
       "\n",
       "(none)"
      ]
     },
     "metadata": {},
     "output_type": "display_data"
    }
   ],
   "source": [
    "model.PSR_J0534p2200.spectrum.main.Super_cutoff_powerlaw.index.free = True\n",
    "\n",
    "model.display()"
   ]
  },
  {
   "cell_type": "code",
   "execution_count": 9,
   "id": "72b53ed1",
   "metadata": {
    "execution": {
     "iopub.execute_input": "2024-02-03T19:02:29.206840Z",
     "iopub.status.busy": "2024-02-03T19:02:29.206526Z",
     "iopub.status.idle": "2024-02-03T19:03:10.412136Z",
     "shell.execute_reply": "2024-02-03T19:03:10.410848Z"
    }
   },
   "outputs": [
    {
     "data": {
      "text/html": [
       "<pre style=\"white-space:pre;overflow-x:auto;line-height:normal;font-family:Menlo,'DejaVu Sans Mono',consolas,'Courier New',monospace\"><span style=\"color: #00ff00; text-decoration-color: #00ff00\">19:02:29 </span><span style=\"color: #00ffaf; text-decoration-color: #00ffaf\">INFO    </span> <span style=\"color: #c6c6c6; text-decoration-color: #c6c6c6; font-weight: bold\"> Query parameters:                                                       </span><a href=\"file:///Users/runner/work/threeML/threeML/threeML/utils/data_download/Fermi_LAT/download_LAT_data.py\" target=\"_blank\"><span style=\"color: #7f7f7f; text-decoration-color: #7f7f7f\">download_LAT_data.py</span></a><span style=\"color: #7f7f7f; text-decoration-color: #7f7f7f\">:</span><a href=\"file:///Users/runner/work/threeML/threeML/threeML/utils/data_download/Fermi_LAT/download_LAT_data.py#262\" target=\"_blank\"><span style=\"color: #7f7f7f; text-decoration-color: #7f7f7f\">262</span></a>\n",
       "</pre>\n"
      ],
      "text/plain": [
       "\u001b[38;5;46m19:02:29\u001b[0m\u001b[38;5;46m \u001b[0m\u001b[38;5;49mINFO    \u001b[0m \u001b[1;38;5;251m Query parameters:                                                      \u001b[0m\u001b[1;38;5;251m \u001b[0m\u001b]8;id=178141;file:///Users/runner/work/threeML/threeML/threeML/utils/data_download/Fermi_LAT/download_LAT_data.py\u001b\\\u001b[2mdownload_LAT_data.py\u001b[0m\u001b]8;;\u001b\\\u001b[2m:\u001b[0m\u001b]8;id=725314;file:///Users/runner/work/threeML/threeML/threeML/utils/data_download/Fermi_LAT/download_LAT_data.py#262\u001b\\\u001b[2m262\u001b[0m\u001b]8;;\u001b\\\n"
      ]
     },
     "metadata": {},
     "output_type": "display_data"
    },
    {
     "data": {
      "text/html": [
       "<pre style=\"white-space:pre;overflow-x:auto;line-height:normal;font-family:Menlo,'DejaVu Sans Mono',consolas,'Courier New',monospace\"><span style=\"color: #00ff00; text-decoration-color: #00ff00\">         </span><span style=\"color: #00ffaf; text-decoration-color: #00ffaf\">INFO    </span> <span style=\"color: #c6c6c6; text-decoration-color: #c6c6c6; font-weight: bold\">                     coordfield = </span><span style=\"color: #c0c0c0; text-decoration-color: #c0c0c0; font-weight: bold\">83.6287</span><span style=\"color: #c6c6c6; text-decoration-color: #c6c6c6; font-weight: bold\">,</span><span style=\"color: #c0c0c0; text-decoration-color: #c0c0c0; font-weight: bold\">22.0147</span><span style=\"color: #c6c6c6; text-decoration-color: #c6c6c6; font-weight: bold\">                        </span><a href=\"file:///Users/runner/work/threeML/threeML/threeML/utils/data_download/Fermi_LAT/download_LAT_data.py\" target=\"_blank\"><span style=\"color: #7f7f7f; text-decoration-color: #7f7f7f\">download_LAT_data.py</span></a><span style=\"color: #7f7f7f; text-decoration-color: #7f7f7f\">:</span><a href=\"file:///Users/runner/work/threeML/threeML/threeML/utils/data_download/Fermi_LAT/download_LAT_data.py#266\" target=\"_blank\"><span style=\"color: #7f7f7f; text-decoration-color: #7f7f7f\">266</span></a>\n",
       "</pre>\n"
      ],
      "text/plain": [
       "\u001b[38;5;46m        \u001b[0m\u001b[38;5;46m \u001b[0m\u001b[38;5;49mINFO    \u001b[0m \u001b[1;38;5;251m                     coordfield = \u001b[0m\u001b[1;37m83.6287\u001b[0m\u001b[1;38;5;251m,\u001b[0m\u001b[1;37m22.0147\u001b[0m\u001b[1;38;5;251m                       \u001b[0m\u001b[1;38;5;251m \u001b[0m\u001b]8;id=184936;file:///Users/runner/work/threeML/threeML/threeML/utils/data_download/Fermi_LAT/download_LAT_data.py\u001b\\\u001b[2mdownload_LAT_data.py\u001b[0m\u001b]8;;\u001b\\\u001b[2m:\u001b[0m\u001b]8;id=727012;file:///Users/runner/work/threeML/threeML/threeML/utils/data_download/Fermi_LAT/download_LAT_data.py#266\u001b\\\u001b[2m266\u001b[0m\u001b]8;;\u001b\\\n"
      ]
     },
     "metadata": {},
     "output_type": "display_data"
    },
    {
     "data": {
      "text/html": [
       "<pre style=\"white-space:pre;overflow-x:auto;line-height:normal;font-family:Menlo,'DejaVu Sans Mono',consolas,'Courier New',monospace\"><span style=\"color: #00ff00; text-decoration-color: #00ff00\">         </span><span style=\"color: #00ffaf; text-decoration-color: #00ffaf\">INFO    </span> <span style=\"color: #c6c6c6; text-decoration-color: #c6c6c6; font-weight: bold\">                    coordsystem = J2000                                  </span><a href=\"file:///Users/runner/work/threeML/threeML/threeML/utils/data_download/Fermi_LAT/download_LAT_data.py\" target=\"_blank\"><span style=\"color: #7f7f7f; text-decoration-color: #7f7f7f\">download_LAT_data.py</span></a><span style=\"color: #7f7f7f; text-decoration-color: #7f7f7f\">:</span><a href=\"file:///Users/runner/work/threeML/threeML/threeML/utils/data_download/Fermi_LAT/download_LAT_data.py#266\" target=\"_blank\"><span style=\"color: #7f7f7f; text-decoration-color: #7f7f7f\">266</span></a>\n",
       "</pre>\n"
      ],
      "text/plain": [
       "\u001b[38;5;46m        \u001b[0m\u001b[38;5;46m \u001b[0m\u001b[38;5;49mINFO    \u001b[0m \u001b[1;38;5;251m                    coordsystem = J2000                                 \u001b[0m\u001b[1;38;5;251m \u001b[0m\u001b]8;id=621162;file:///Users/runner/work/threeML/threeML/threeML/utils/data_download/Fermi_LAT/download_LAT_data.py\u001b\\\u001b[2mdownload_LAT_data.py\u001b[0m\u001b]8;;\u001b\\\u001b[2m:\u001b[0m\u001b]8;id=55529;file:///Users/runner/work/threeML/threeML/threeML/utils/data_download/Fermi_LAT/download_LAT_data.py#266\u001b\\\u001b[2m266\u001b[0m\u001b]8;;\u001b\\\n"
      ]
     },
     "metadata": {},
     "output_type": "display_data"
    },
    {
     "data": {
      "text/html": [
       "<pre style=\"white-space:pre;overflow-x:auto;line-height:normal;font-family:Menlo,'DejaVu Sans Mono',consolas,'Courier New',monospace\"><span style=\"color: #00ff00; text-decoration-color: #00ff00\">         </span><span style=\"color: #00ffaf; text-decoration-color: #00ffaf\">INFO    </span> <span style=\"color: #c6c6c6; text-decoration-color: #c6c6c6; font-weight: bold\">                     shapefield = </span><span style=\"color: #c0c0c0; text-decoration-color: #c0c0c0; font-weight: bold\">20.0</span><span style=\"color: #c6c6c6; text-decoration-color: #c6c6c6; font-weight: bold\">                                   </span><a href=\"file:///Users/runner/work/threeML/threeML/threeML/utils/data_download/Fermi_LAT/download_LAT_data.py\" target=\"_blank\"><span style=\"color: #7f7f7f; text-decoration-color: #7f7f7f\">download_LAT_data.py</span></a><span style=\"color: #7f7f7f; text-decoration-color: #7f7f7f\">:</span><a href=\"file:///Users/runner/work/threeML/threeML/threeML/utils/data_download/Fermi_LAT/download_LAT_data.py#266\" target=\"_blank\"><span style=\"color: #7f7f7f; text-decoration-color: #7f7f7f\">266</span></a>\n",
       "</pre>\n"
      ],
      "text/plain": [
       "\u001b[38;5;46m        \u001b[0m\u001b[38;5;46m \u001b[0m\u001b[38;5;49mINFO    \u001b[0m \u001b[1;38;5;251m                     shapefield = \u001b[0m\u001b[1;37m20.0\u001b[0m\u001b[1;38;5;251m                                  \u001b[0m\u001b[1;38;5;251m \u001b[0m\u001b]8;id=63282;file:///Users/runner/work/threeML/threeML/threeML/utils/data_download/Fermi_LAT/download_LAT_data.py\u001b\\\u001b[2mdownload_LAT_data.py\u001b[0m\u001b]8;;\u001b\\\u001b[2m:\u001b[0m\u001b]8;id=220344;file:///Users/runner/work/threeML/threeML/threeML/utils/data_download/Fermi_LAT/download_LAT_data.py#266\u001b\\\u001b[2m266\u001b[0m\u001b]8;;\u001b\\\n"
      ]
     },
     "metadata": {},
     "output_type": "display_data"
    },
    {
     "data": {
      "text/html": [
       "<pre style=\"white-space:pre;overflow-x:auto;line-height:normal;font-family:Menlo,'DejaVu Sans Mono',consolas,'Courier New',monospace\"><span style=\"color: #00ff00; text-decoration-color: #00ff00\">         </span><span style=\"color: #00ffaf; text-decoration-color: #00ffaf\">INFO    </span> <span style=\"color: #c6c6c6; text-decoration-color: #c6c6c6; font-weight: bold\">                      timefield = </span><span style=\"color: #c0c0c0; text-decoration-color: #c0c0c0; font-weight: bold\">2010</span><span style=\"color: #c6c6c6; text-decoration-color: #c6c6c6; font-weight: bold\">-</span><span style=\"color: #c0c0c0; text-decoration-color: #c0c0c0; font-weight: bold\">01</span><span style=\"color: #c6c6c6; text-decoration-color: #c6c6c6; font-weight: bold\">-</span><span style=\"color: #c0c0c0; text-decoration-color: #c0c0c0; font-weight: bold\">01</span><span style=\"color: #c6c6c6; text-decoration-color: #c6c6c6; font-weight: bold\"> </span><span style=\"color: #00ff00; text-decoration-color: #00ff00; font-weight: bold\">00:00:00</span><span style=\"color: #c6c6c6; text-decoration-color: #c6c6c6; font-weight: bold\">,</span><span style=\"color: #c0c0c0; text-decoration-color: #c0c0c0; font-weight: bold\">2010</span><span style=\"color: #c6c6c6; text-decoration-color: #c6c6c6; font-weight: bold\">-</span><span style=\"color: #c0c0c0; text-decoration-color: #c0c0c0; font-weight: bold\">02</span><span style=\"color: #c6c6c6; text-decoration-color: #c6c6c6; font-weight: bold\">-</span><span style=\"color: #c0c0c0; text-decoration-color: #c0c0c0; font-weight: bold\">01</span><span style=\"color: #c6c6c6; text-decoration-color: #c6c6c6; font-weight: bold\">         </span><a href=\"file:///Users/runner/work/threeML/threeML/threeML/utils/data_download/Fermi_LAT/download_LAT_data.py\" target=\"_blank\"><span style=\"color: #7f7f7f; text-decoration-color: #7f7f7f\">download_LAT_data.py</span></a><span style=\"color: #7f7f7f; text-decoration-color: #7f7f7f\">:</span><a href=\"file:///Users/runner/work/threeML/threeML/threeML/utils/data_download/Fermi_LAT/download_LAT_data.py#266\" target=\"_blank\"><span style=\"color: #7f7f7f; text-decoration-color: #7f7f7f\">266</span></a>\n",
       "<span style=\"color: #00ff00; text-decoration-color: #00ff00\">         </span>         <span style=\"color: #00ff00; text-decoration-color: #00ff00; font-weight: bold\">00:00:00</span><span style=\"color: #c6c6c6; text-decoration-color: #c6c6c6; font-weight: bold\">                                                                 </span><span style=\"color: #7f7f7f; text-decoration-color: #7f7f7f\">                        </span>\n",
       "</pre>\n"
      ],
      "text/plain": [
       "\u001b[38;5;46m        \u001b[0m\u001b[38;5;46m \u001b[0m\u001b[38;5;49mINFO    \u001b[0m \u001b[1;38;5;251m                      timefield = \u001b[0m\u001b[1;37m2010\u001b[0m\u001b[1;38;5;251m-\u001b[0m\u001b[1;37m01\u001b[0m\u001b[1;38;5;251m-\u001b[0m\u001b[1;37m01\u001b[0m\u001b[1;38;5;251m \u001b[0m\u001b[1;92m00:00:00\u001b[0m\u001b[1;38;5;251m,\u001b[0m\u001b[1;37m2010\u001b[0m\u001b[1;38;5;251m-\u001b[0m\u001b[1;37m02\u001b[0m\u001b[1;38;5;251m-\u001b[0m\u001b[1;37m01\u001b[0m\u001b[1;38;5;251m        \u001b[0m\u001b[1;38;5;251m \u001b[0m\u001b]8;id=762604;file:///Users/runner/work/threeML/threeML/threeML/utils/data_download/Fermi_LAT/download_LAT_data.py\u001b\\\u001b[2mdownload_LAT_data.py\u001b[0m\u001b]8;;\u001b\\\u001b[2m:\u001b[0m\u001b]8;id=747146;file:///Users/runner/work/threeML/threeML/threeML/utils/data_download/Fermi_LAT/download_LAT_data.py#266\u001b\\\u001b[2m266\u001b[0m\u001b]8;;\u001b\\\n",
       "\u001b[38;5;46m         \u001b[0m         \u001b[1;92m00:00:00\u001b[0m\u001b[1;38;5;251m                                                                \u001b[0m\u001b[1;38;5;251m \u001b[0m\u001b[2m                        \u001b[0m\n"
      ]
     },
     "metadata": {},
     "output_type": "display_data"
    },
    {
     "data": {
      "text/html": [
       "<pre style=\"white-space:pre;overflow-x:auto;line-height:normal;font-family:Menlo,'DejaVu Sans Mono',consolas,'Courier New',monospace\"><span style=\"color: #00ff00; text-decoration-color: #00ff00\">         </span><span style=\"color: #00ffaf; text-decoration-color: #00ffaf\">INFO    </span> <span style=\"color: #c6c6c6; text-decoration-color: #c6c6c6; font-weight: bold\">                       timetype = Gregorian                              </span><a href=\"file:///Users/runner/work/threeML/threeML/threeML/utils/data_download/Fermi_LAT/download_LAT_data.py\" target=\"_blank\"><span style=\"color: #7f7f7f; text-decoration-color: #7f7f7f\">download_LAT_data.py</span></a><span style=\"color: #7f7f7f; text-decoration-color: #7f7f7f\">:</span><a href=\"file:///Users/runner/work/threeML/threeML/threeML/utils/data_download/Fermi_LAT/download_LAT_data.py#266\" target=\"_blank\"><span style=\"color: #7f7f7f; text-decoration-color: #7f7f7f\">266</span></a>\n",
       "</pre>\n"
      ],
      "text/plain": [
       "\u001b[38;5;46m        \u001b[0m\u001b[38;5;46m \u001b[0m\u001b[38;5;49mINFO    \u001b[0m \u001b[1;38;5;251m                       timetype = Gregorian                             \u001b[0m\u001b[1;38;5;251m \u001b[0m\u001b]8;id=688995;file:///Users/runner/work/threeML/threeML/threeML/utils/data_download/Fermi_LAT/download_LAT_data.py\u001b\\\u001b[2mdownload_LAT_data.py\u001b[0m\u001b]8;;\u001b\\\u001b[2m:\u001b[0m\u001b]8;id=13132;file:///Users/runner/work/threeML/threeML/threeML/utils/data_download/Fermi_LAT/download_LAT_data.py#266\u001b\\\u001b[2m266\u001b[0m\u001b]8;;\u001b\\\n"
      ]
     },
     "metadata": {},
     "output_type": "display_data"
    },
    {
     "data": {
      "text/html": [
       "<pre style=\"white-space:pre;overflow-x:auto;line-height:normal;font-family:Menlo,'DejaVu Sans Mono',consolas,'Courier New',monospace\"><span style=\"color: #00ff00; text-decoration-color: #00ff00\">         </span><span style=\"color: #00ffaf; text-decoration-color: #00ffaf\">INFO    </span> <span style=\"color: #c6c6c6; text-decoration-color: #c6c6c6; font-weight: bold\">                    energyfield = </span><span style=\"color: #c0c0c0; text-decoration-color: #c0c0c0; font-weight: bold\">30.000</span><span style=\"color: #c6c6c6; text-decoration-color: #c6c6c6; font-weight: bold\">,</span><span style=\"color: #c0c0c0; text-decoration-color: #c0c0c0; font-weight: bold\">1000000.000</span><span style=\"color: #c6c6c6; text-decoration-color: #c6c6c6; font-weight: bold\">                     </span><a href=\"file:///Users/runner/work/threeML/threeML/threeML/utils/data_download/Fermi_LAT/download_LAT_data.py\" target=\"_blank\"><span style=\"color: #7f7f7f; text-decoration-color: #7f7f7f\">download_LAT_data.py</span></a><span style=\"color: #7f7f7f; text-decoration-color: #7f7f7f\">:</span><a href=\"file:///Users/runner/work/threeML/threeML/threeML/utils/data_download/Fermi_LAT/download_LAT_data.py#266\" target=\"_blank\"><span style=\"color: #7f7f7f; text-decoration-color: #7f7f7f\">266</span></a>\n",
       "</pre>\n"
      ],
      "text/plain": [
       "\u001b[38;5;46m        \u001b[0m\u001b[38;5;46m \u001b[0m\u001b[38;5;49mINFO    \u001b[0m \u001b[1;38;5;251m                    energyfield = \u001b[0m\u001b[1;37m30.000\u001b[0m\u001b[1;38;5;251m,\u001b[0m\u001b[1;37m1000000.000\u001b[0m\u001b[1;38;5;251m                    \u001b[0m\u001b[1;38;5;251m \u001b[0m\u001b]8;id=395932;file:///Users/runner/work/threeML/threeML/threeML/utils/data_download/Fermi_LAT/download_LAT_data.py\u001b\\\u001b[2mdownload_LAT_data.py\u001b[0m\u001b]8;;\u001b\\\u001b[2m:\u001b[0m\u001b]8;id=95980;file:///Users/runner/work/threeML/threeML/threeML/utils/data_download/Fermi_LAT/download_LAT_data.py#266\u001b\\\u001b[2m266\u001b[0m\u001b]8;;\u001b\\\n"
      ]
     },
     "metadata": {},
     "output_type": "display_data"
    },
    {
     "data": {
      "text/html": [
       "<pre style=\"white-space:pre;overflow-x:auto;line-height:normal;font-family:Menlo,'DejaVu Sans Mono',consolas,'Courier New',monospace\"><span style=\"color: #00ff00; text-decoration-color: #00ff00\">         </span><span style=\"color: #00ffaf; text-decoration-color: #00ffaf\">INFO    </span> <span style=\"color: #c6c6c6; text-decoration-color: #c6c6c6; font-weight: bold\">         photonOrExtendedOrNone = Photon                                 </span><a href=\"file:///Users/runner/work/threeML/threeML/threeML/utils/data_download/Fermi_LAT/download_LAT_data.py\" target=\"_blank\"><span style=\"color: #7f7f7f; text-decoration-color: #7f7f7f\">download_LAT_data.py</span></a><span style=\"color: #7f7f7f; text-decoration-color: #7f7f7f\">:</span><a href=\"file:///Users/runner/work/threeML/threeML/threeML/utils/data_download/Fermi_LAT/download_LAT_data.py#266\" target=\"_blank\"><span style=\"color: #7f7f7f; text-decoration-color: #7f7f7f\">266</span></a>\n",
       "</pre>\n"
      ],
      "text/plain": [
       "\u001b[38;5;46m        \u001b[0m\u001b[38;5;46m \u001b[0m\u001b[38;5;49mINFO    \u001b[0m \u001b[1;38;5;251m         photonOrExtendedOrNone = Photon                                \u001b[0m\u001b[1;38;5;251m \u001b[0m\u001b]8;id=103393;file:///Users/runner/work/threeML/threeML/threeML/utils/data_download/Fermi_LAT/download_LAT_data.py\u001b\\\u001b[2mdownload_LAT_data.py\u001b[0m\u001b]8;;\u001b\\\u001b[2m:\u001b[0m\u001b]8;id=841682;file:///Users/runner/work/threeML/threeML/threeML/utils/data_download/Fermi_LAT/download_LAT_data.py#266\u001b\\\u001b[2m266\u001b[0m\u001b]8;;\u001b\\\n"
      ]
     },
     "metadata": {},
     "output_type": "display_data"
    },
    {
     "data": {
      "text/html": [
       "<pre style=\"white-space:pre;overflow-x:auto;line-height:normal;font-family:Menlo,'DejaVu Sans Mono',consolas,'Courier New',monospace\"><span style=\"color: #00ff00; text-decoration-color: #00ff00\">         </span><span style=\"color: #00ffaf; text-decoration-color: #00ffaf\">INFO    </span> <span style=\"color: #c6c6c6; text-decoration-color: #c6c6c6; font-weight: bold\">                    destination = query                                  </span><a href=\"file:///Users/runner/work/threeML/threeML/threeML/utils/data_download/Fermi_LAT/download_LAT_data.py\" target=\"_blank\"><span style=\"color: #7f7f7f; text-decoration-color: #7f7f7f\">download_LAT_data.py</span></a><span style=\"color: #7f7f7f; text-decoration-color: #7f7f7f\">:</span><a href=\"file:///Users/runner/work/threeML/threeML/threeML/utils/data_download/Fermi_LAT/download_LAT_data.py#266\" target=\"_blank\"><span style=\"color: #7f7f7f; text-decoration-color: #7f7f7f\">266</span></a>\n",
       "</pre>\n"
      ],
      "text/plain": [
       "\u001b[38;5;46m        \u001b[0m\u001b[38;5;46m \u001b[0m\u001b[38;5;49mINFO    \u001b[0m \u001b[1;38;5;251m                    destination = query                                 \u001b[0m\u001b[1;38;5;251m \u001b[0m\u001b]8;id=996250;file:///Users/runner/work/threeML/threeML/threeML/utils/data_download/Fermi_LAT/download_LAT_data.py\u001b\\\u001b[2mdownload_LAT_data.py\u001b[0m\u001b]8;;\u001b\\\u001b[2m:\u001b[0m\u001b]8;id=764040;file:///Users/runner/work/threeML/threeML/threeML/utils/data_download/Fermi_LAT/download_LAT_data.py#266\u001b\\\u001b[2m266\u001b[0m\u001b]8;;\u001b\\\n"
      ]
     },
     "metadata": {},
     "output_type": "display_data"
    },
    {
     "data": {
      "text/html": [
       "<pre style=\"white-space:pre;overflow-x:auto;line-height:normal;font-family:Menlo,'DejaVu Sans Mono',consolas,'Courier New',monospace\"><span style=\"color: #00ff00; text-decoration-color: #00ff00\">         </span><span style=\"color: #00ffaf; text-decoration-color: #00ffaf\">INFO    </span> <span style=\"color: #c6c6c6; text-decoration-color: #c6c6c6; font-weight: bold\">                     spacecraft = checked                                </span><a href=\"file:///Users/runner/work/threeML/threeML/threeML/utils/data_download/Fermi_LAT/download_LAT_data.py\" target=\"_blank\"><span style=\"color: #7f7f7f; text-decoration-color: #7f7f7f\">download_LAT_data.py</span></a><span style=\"color: #7f7f7f; text-decoration-color: #7f7f7f\">:</span><a href=\"file:///Users/runner/work/threeML/threeML/threeML/utils/data_download/Fermi_LAT/download_LAT_data.py#266\" target=\"_blank\"><span style=\"color: #7f7f7f; text-decoration-color: #7f7f7f\">266</span></a>\n",
       "</pre>\n"
      ],
      "text/plain": [
       "\u001b[38;5;46m        \u001b[0m\u001b[38;5;46m \u001b[0m\u001b[38;5;49mINFO    \u001b[0m \u001b[1;38;5;251m                     spacecraft = checked                               \u001b[0m\u001b[1;38;5;251m \u001b[0m\u001b]8;id=724692;file:///Users/runner/work/threeML/threeML/threeML/utils/data_download/Fermi_LAT/download_LAT_data.py\u001b\\\u001b[2mdownload_LAT_data.py\u001b[0m\u001b]8;;\u001b\\\u001b[2m:\u001b[0m\u001b]8;id=454849;file:///Users/runner/work/threeML/threeML/threeML/utils/data_download/Fermi_LAT/download_LAT_data.py#266\u001b\\\u001b[2m266\u001b[0m\u001b]8;;\u001b\\\n"
      ]
     },
     "metadata": {},
     "output_type": "display_data"
    },
    {
     "data": {
      "text/html": [
       "<pre style=\"white-space:pre;overflow-x:auto;line-height:normal;font-family:Menlo,'DejaVu Sans Mono',consolas,'Courier New',monospace\"><span style=\"color: #00ff00; text-decoration-color: #00ff00\">         </span><span style=\"color: #00ffaf; text-decoration-color: #00ffaf\">INFO    </span> <span style=\"color: #c6c6c6; text-decoration-color: #c6c6c6; font-weight: bold\"> Query ID: b7ba925258c89244b49cc1889e66d453                              </span><a href=\"file:///Users/runner/work/threeML/threeML/threeML/utils/data_download/Fermi_LAT/download_LAT_data.py\" target=\"_blank\"><span style=\"color: #7f7f7f; text-decoration-color: #7f7f7f\">download_LAT_data.py</span></a><span style=\"color: #7f7f7f; text-decoration-color: #7f7f7f\">:</span><a href=\"file:///Users/runner/work/threeML/threeML/threeML/utils/data_download/Fermi_LAT/download_LAT_data.py#271\" target=\"_blank\"><span style=\"color: #7f7f7f; text-decoration-color: #7f7f7f\">271</span></a>\n",
       "</pre>\n"
      ],
      "text/plain": [
       "\u001b[38;5;46m        \u001b[0m\u001b[38;5;46m \u001b[0m\u001b[38;5;49mINFO    \u001b[0m \u001b[1;38;5;251m Query ID: b7ba925258c89244b49cc1889e66d453                             \u001b[0m\u001b[1;38;5;251m \u001b[0m\u001b]8;id=153935;file:///Users/runner/work/threeML/threeML/threeML/utils/data_download/Fermi_LAT/download_LAT_data.py\u001b\\\u001b[2mdownload_LAT_data.py\u001b[0m\u001b]8;;\u001b\\\u001b[2m:\u001b[0m\u001b]8;id=180292;file:///Users/runner/work/threeML/threeML/threeML/utils/data_download/Fermi_LAT/download_LAT_data.py#271\u001b\\\u001b[2m271\u001b[0m\u001b]8;;\u001b\\\n"
      ]
     },
     "metadata": {},
     "output_type": "display_data"
    },
    {
     "data": {
      "text/html": [
       "<pre style=\"white-space:pre;overflow-x:auto;line-height:normal;font-family:Menlo,'DejaVu Sans Mono',consolas,'Courier New',monospace\"><span style=\"color: #00ff00; text-decoration-color: #00ff00\">19:02:33 </span><span style=\"color: #00ffaf; text-decoration-color: #00ffaf\">INFO    </span> <span style=\"color: #c6c6c6; text-decoration-color: #c6c6c6; font-weight: bold\"> Estimated complete time for your query: </span><span style=\"color: #c0c0c0; text-decoration-color: #c0c0c0; font-weight: bold\">13</span><span style=\"color: #c6c6c6; text-decoration-color: #c6c6c6; font-weight: bold\"> seconds                      </span><a href=\"file:///Users/runner/work/threeML/threeML/threeML/utils/data_download/Fermi_LAT/download_LAT_data.py\" target=\"_blank\"><span style=\"color: #7f7f7f; text-decoration-color: #7f7f7f\">download_LAT_data.py</span></a><span style=\"color: #7f7f7f; text-decoration-color: #7f7f7f\">:</span><a href=\"file:///Users/runner/work/threeML/threeML/threeML/utils/data_download/Fermi_LAT/download_LAT_data.py#428\" target=\"_blank\"><span style=\"color: #7f7f7f; text-decoration-color: #7f7f7f\">428</span></a>\n",
       "</pre>\n"
      ],
      "text/plain": [
       "\u001b[38;5;46m19:02:33\u001b[0m\u001b[38;5;46m \u001b[0m\u001b[38;5;49mINFO    \u001b[0m \u001b[1;38;5;251m Estimated complete time for your query: \u001b[0m\u001b[1;37m13\u001b[0m\u001b[1;38;5;251m seconds                     \u001b[0m\u001b[1;38;5;251m \u001b[0m\u001b]8;id=766791;file:///Users/runner/work/threeML/threeML/threeML/utils/data_download/Fermi_LAT/download_LAT_data.py\u001b\\\u001b[2mdownload_LAT_data.py\u001b[0m\u001b]8;;\u001b\\\u001b[2m:\u001b[0m\u001b]8;id=719355;file:///Users/runner/work/threeML/threeML/threeML/utils/data_download/Fermi_LAT/download_LAT_data.py#428\u001b\\\u001b[2m428\u001b[0m\u001b]8;;\u001b\\\n"
      ]
     },
     "metadata": {},
     "output_type": "display_data"
    },
    {
     "data": {
      "text/html": [
       "<pre style=\"white-space:pre;overflow-x:auto;line-height:normal;font-family:Menlo,'DejaVu Sans Mono',consolas,'Courier New',monospace\"><span style=\"color: #00ff00; text-decoration-color: #00ff00\">         </span><span style=\"color: #00ffaf; text-decoration-color: #00ffaf\">INFO    </span> <span style=\"color: #c6c6c6; text-decoration-color: #c6c6c6; font-weight: bold\"> If this download fails, you can find your data at                       </span><a href=\"file:///Users/runner/work/threeML/threeML/threeML/utils/data_download/Fermi_LAT/download_LAT_data.py\" target=\"_blank\"><span style=\"color: #7f7f7f; text-decoration-color: #7f7f7f\">download_LAT_data.py</span></a><span style=\"color: #7f7f7f; text-decoration-color: #7f7f7f\">:</span><a href=\"file:///Users/runner/work/threeML/threeML/threeML/utils/data_download/Fermi_LAT/download_LAT_data.py#437\" target=\"_blank\"><span style=\"color: #7f7f7f; text-decoration-color: #7f7f7f\">437</span></a>\n",
       "<span style=\"color: #00ff00; text-decoration-color: #00ff00\">         </span>         <span style=\"color: #d7d7d7; text-decoration-color: #d7d7d7; text-decoration: underline\">https://fermi.gsfc.nasa.gov/cgi-bin/ssc/LAT/QueryResults.cgi?id=L2402031</span><span style=\"color: #c6c6c6; text-decoration-color: #c6c6c6; font-weight: bold\"> </span><span style=\"color: #7f7f7f; text-decoration-color: #7f7f7f\">                        </span>\n",
       "<span style=\"color: #00ff00; text-decoration-color: #00ff00\">         </span>         <span style=\"color: #d7d7d7; text-decoration-color: #d7d7d7; text-decoration: underline\">402324596CEF229</span><span style=\"color: #c6c6c6; text-decoration-color: #c6c6c6; font-weight: bold\"> (when ready)                                             </span><span style=\"color: #7f7f7f; text-decoration-color: #7f7f7f\">                        </span>\n",
       "</pre>\n"
      ],
      "text/plain": [
       "\u001b[38;5;46m        \u001b[0m\u001b[38;5;46m \u001b[0m\u001b[38;5;49mINFO    \u001b[0m \u001b[1;38;5;251m If this download fails, you can find your data at                      \u001b[0m\u001b[1;38;5;251m \u001b[0m\u001b]8;id=29237;file:///Users/runner/work/threeML/threeML/threeML/utils/data_download/Fermi_LAT/download_LAT_data.py\u001b\\\u001b[2mdownload_LAT_data.py\u001b[0m\u001b]8;;\u001b\\\u001b[2m:\u001b[0m\u001b]8;id=378547;file:///Users/runner/work/threeML/threeML/threeML/utils/data_download/Fermi_LAT/download_LAT_data.py#437\u001b\\\u001b[2m437\u001b[0m\u001b]8;;\u001b\\\n",
       "\u001b[38;5;46m         \u001b[0m         \u001b[4;38;5;188mhttps://fermi.gsfc.nasa.gov/cgi-bin/ssc/LAT/QueryResults.cgi?\u001b[0m\u001b[4;38;5;188mid\u001b[0m\u001b[4;38;5;188m=\u001b[0m\u001b[4;38;5;188mL2402031\u001b[0m\u001b[1;38;5;251m \u001b[0m\u001b[2m                        \u001b[0m\n",
       "\u001b[38;5;46m         \u001b[0m         \u001b[4;38;5;188m402324596CEF229\u001b[0m\u001b[1;38;5;251m \u001b[0m\u001b[1;38;5;251m(\u001b[0m\u001b[1;38;5;251mwhen ready\u001b[0m\u001b[1;38;5;251m)\u001b[0m\u001b[1;38;5;251m                                            \u001b[0m\u001b[1;38;5;251m \u001b[0m\u001b[2m                        \u001b[0m\n"
      ]
     },
     "metadata": {},
     "output_type": "display_data"
    },
    {
     "data": {
      "text/html": [
       "<pre style=\"white-space:pre;overflow-x:auto;line-height:normal;font-family:Menlo,'DejaVu Sans Mono',consolas,'Courier New',monospace\"><span style=\"color: #00ff00; text-decoration-color: #00ff00\">19:02:50 </span><span style=\"color: #00ffaf; text-decoration-color: #00ffaf\">INFO    </span> <span style=\"color: #c6c6c6; text-decoration-color: #c6c6c6; font-weight: bold\"> Downloading FT1 and FT2 files</span><span style=\"color: #808000; text-decoration-color: #808000; font-weight: bold\">...</span><span style=\"color: #c6c6c6; text-decoration-color: #c6c6c6; font-weight: bold\">                                        </span><a href=\"file:///Users/runner/work/threeML/threeML/threeML/utils/data_download/Fermi_LAT/download_LAT_data.py\" target=\"_blank\"><span style=\"color: #7f7f7f; text-decoration-color: #7f7f7f\">download_LAT_data.py</span></a><span style=\"color: #7f7f7f; text-decoration-color: #7f7f7f\">:</span><a href=\"file:///Users/runner/work/threeML/threeML/threeML/utils/data_download/Fermi_LAT/download_LAT_data.py#527\" target=\"_blank\"><span style=\"color: #7f7f7f; text-decoration-color: #7f7f7f\">527</span></a>\n",
       "</pre>\n"
      ],
      "text/plain": [
       "\u001b[38;5;46m19:02:50\u001b[0m\u001b[38;5;46m \u001b[0m\u001b[38;5;49mINFO    \u001b[0m \u001b[1;38;5;251m Downloading FT1 and FT2 files\u001b[0m\u001b[1;33m...\u001b[0m\u001b[1;38;5;251m                                       \u001b[0m\u001b[1;38;5;251m \u001b[0m\u001b]8;id=394003;file:///Users/runner/work/threeML/threeML/threeML/utils/data_download/Fermi_LAT/download_LAT_data.py\u001b\\\u001b[2mdownload_LAT_data.py\u001b[0m\u001b]8;;\u001b\\\u001b[2m:\u001b[0m\u001b]8;id=462526;file:///Users/runner/work/threeML/threeML/threeML/utils/data_download/Fermi_LAT/download_LAT_data.py#527\u001b\\\u001b[2m527\u001b[0m\u001b]8;;\u001b\\\n"
      ]
     },
     "metadata": {},
     "output_type": "display_data"
    },
    {
     "data": {
      "application/vnd.jupyter.widget-view+json": {
       "model_id": "f0292dc789a64217a9fa0833cb44859f",
       "version_major": 2,
       "version_minor": 0
      },
      "text/plain": [
       "Downloading L2402031402324596CEF229_PH00.fits:   0%|          | 0.00/16.3M [00:00<?, ?B/s]"
      ]
     },
     "metadata": {},
     "output_type": "display_data"
    },
    {
     "data": {
      "application/vnd.jupyter.widget-view+json": {
       "model_id": "45b31bccc89840aba76c0b578eb1ce24",
       "version_major": 2,
       "version_minor": 0
      },
      "text/plain": [
       "Downloading L2402031402324596CEF229_SC00.fits:   0%|          | 0.00/11.9M [00:00<?, ?B/s]"
      ]
     },
     "metadata": {},
     "output_type": "display_data"
    }
   ],
   "source": [
    "# Download data from Jan 01 2010 to February 1 2010\n",
    "\n",
    "tstart = \"2010-01-01 00:00:00\"\n",
    "tstop = \"2010-02-01 00:00:00\"\n",
    "\n",
    "# Note that this will understand if you already download these files, and will\n",
    "# not do it twice unless you change your selection or the outdir\n",
    "\n",
    "evfile, scfile = download_LAT_data(\n",
    "    ra,\n",
    "    dec,\n",
    "    20.0,\n",
    "    tstart,\n",
    "    tstop,\n",
    "    time_type=\"Gregorian\",\n",
    "    destination_directory=\"Crab_data\",\n",
    ")"
   ]
  },
  {
   "cell_type": "markdown",
   "id": "5c538628",
   "metadata": {},
   "source": [
    "## Configuration for Fermipy\n",
    "\n",
    "3ML provides and intreface into [Fermipy](https://fermipy.readthedocs.io/en/latest/) via the **FermipyLike** plugin. We can use it to generate basic configuration files.\n"
   ]
  },
  {
   "cell_type": "markdown",
   "id": "307256e6",
   "metadata": {},
   "source": [
    ".. note::\n",
    "    Currently, the FermipyLike plugin does not provide an interface to handle extended sources. This will change\n"
   ]
  },
  {
   "cell_type": "code",
   "execution_count": 10,
   "id": "17575fb1",
   "metadata": {
    "execution": {
     "iopub.execute_input": "2024-02-03T19:03:10.418317Z",
     "iopub.status.busy": "2024-02-03T19:03:10.417984Z",
     "iopub.status.idle": "2024-02-03T19:03:10.435845Z",
     "shell.execute_reply": "2024-02-03T19:03:10.434486Z"
    }
   },
   "outputs": [
    {
     "name": "stdout",
     "output_type": "stream",
     "text": [
      "binning:\n",
      "  binsperdec: 8\n",
      "  binsz: 0.1\n",
      "  roiwidth: 10.0\n",
      "data:\n",
      "  evfile: /Users/runner/work/threeML/threeML/docs/md_docs/slow_execute/Crab_data/Lb7ba925258c89244b49cc1889e66d453_FT1.fits\n",
      "  scfile: /Users/runner/work/threeML/threeML/docs/md_docs/slow_execute/Crab_data/L2402031402324596CEF229_SC00.fits\n",
      "logging:\n",
      "  chatter: 0\n",
      "  verbosity: 1\n",
      "selection:\n",
      "  dec: 22.014694786873797\n",
      "  emax: 100000.0\n",
      "  emin: 100.0\n",
      "  evclass: 128\n",
      "  evtype: 3\n",
      "  filter: DATA_QUAL>0 && LAT_CONFIG==1\n",
      "  ra: 83.62870762486367\n",
      "  tmax: 286675202.0\n",
      "  tmin: 283996802.0\n",
      "  zmax: 100.0\n",
      "\n"
     ]
    },
    {
     "data": {
      "text/html": [
       "<pre>binning:\n",
       "  binsperdec: 8\n",
       "  binsz: 0.1\n",
       "  roiwidth: 10.0\n",
       "data:\n",
       "  evfile: /Users/runner/work/threeML/threeML/docs/md_docs/slow_execute/Crab_data/Lb7ba925258c89244b49cc1889e66d453_FT1.fits\n",
       "  scfile: /Users/runner/work/threeML/threeML/docs/md_docs/slow_execute/Crab_data/L2402031402324596CEF229_SC00.fits\n",
       "logging:\n",
       "  chatter: 0\n",
       "  verbosity: 1\n",
       "selection:\n",
       "  dec: 22.014694786873797\n",
       "  emax: 100000.0\n",
       "  emin: 100.0\n",
       "  evclass: 128\n",
       "  evtype: 3\n",
       "  filter: DATA_QUAL>0 && LAT_CONFIG==1\n",
       "  ra: 83.62870762486367\n",
       "  tmax: 286675202.0\n",
       "  tmin: 283996802.0\n",
       "  zmax: 100.0\n",
       "</pre>"
      ],
      "text/plain": []
     },
     "metadata": {},
     "output_type": "display_data"
    }
   ],
   "source": [
    "config = FermipyLike.get_basic_config(\n",
    "    evfile=evfile,\n",
    "    scfile=scfile,\n",
    "    ra=ra,\n",
    "    dec=dec,\n",
    "    fermipy_verbosity=1,\n",
    "    fermitools_chatter=0,\n",
    ")\n",
    "\n",
    "# See what we just got\n",
    "\n",
    "config.display()"
   ]
  },
  {
   "cell_type": "markdown",
   "id": "d1d0dfa8",
   "metadata": {},
   "source": [
    "You can of course modify the configuration as a dictionary"
   ]
  },
  {
   "cell_type": "code",
   "execution_count": 11,
   "id": "a196bdf7",
   "metadata": {
    "execution": {
     "iopub.execute_input": "2024-02-03T19:03:10.441252Z",
     "iopub.status.busy": "2024-02-03T19:03:10.440955Z",
     "iopub.status.idle": "2024-02-03T19:03:10.448053Z",
     "shell.execute_reply": "2024-02-03T19:03:10.446978Z"
    }
   },
   "outputs": [],
   "source": [
    "config[\"selection\"][\"emax\"] = 300000.0"
   ]
  },
  {
   "cell_type": "markdown",
   "id": "09394562",
   "metadata": {},
   "source": [
    "and even add sections"
   ]
  },
  {
   "cell_type": "code",
   "execution_count": 12,
   "id": "2699d766",
   "metadata": {
    "execution": {
     "iopub.execute_input": "2024-02-03T19:03:10.453218Z",
     "iopub.status.busy": "2024-02-03T19:03:10.452932Z",
     "iopub.status.idle": "2024-02-03T19:03:10.464243Z",
     "shell.execute_reply": "2024-02-03T19:03:10.462624Z"
    }
   },
   "outputs": [
    {
     "name": "stdout",
     "output_type": "stream",
     "text": [
      "binning:\n",
      "  binsperdec: 8\n",
      "  binsz: 0.1\n",
      "  roiwidth: 10.0\n",
      "data:\n",
      "  evfile: /Users/runner/work/threeML/threeML/docs/md_docs/slow_execute/Crab_data/Lb7ba925258c89244b49cc1889e66d453_FT1.fits\n",
      "  scfile: /Users/runner/work/threeML/threeML/docs/md_docs/slow_execute/Crab_data/L2402031402324596CEF229_SC00.fits\n",
      "gtlike:\n",
      "  edisp: false\n",
      "logging:\n",
      "  chatter: 0\n",
      "  verbosity: 1\n",
      "selection:\n",
      "  dec: 22.014694786873797\n",
      "  emax: 300000.0\n",
      "  emin: 100.0\n",
      "  evclass: 128\n",
      "  evtype: 3\n",
      "  filter: DATA_QUAL>0 && LAT_CONFIG==1\n",
      "  ra: 83.62870762486367\n",
      "  tmax: 286675202.0\n",
      "  tmin: 283996802.0\n",
      "  zmax: 100.0\n",
      "\n"
     ]
    },
    {
     "data": {
      "text/html": [
       "<pre>binning:\n",
       "  binsperdec: 8\n",
       "  binsz: 0.1\n",
       "  roiwidth: 10.0\n",
       "data:\n",
       "  evfile: /Users/runner/work/threeML/threeML/docs/md_docs/slow_execute/Crab_data/Lb7ba925258c89244b49cc1889e66d453_FT1.fits\n",
       "  scfile: /Users/runner/work/threeML/threeML/docs/md_docs/slow_execute/Crab_data/L2402031402324596CEF229_SC00.fits\n",
       "gtlike:\n",
       "  edisp: false\n",
       "logging:\n",
       "  chatter: 0\n",
       "  verbosity: 1\n",
       "selection:\n",
       "  dec: 22.014694786873797\n",
       "  emax: 300000.0\n",
       "  emin: 100.0\n",
       "  evclass: 128\n",
       "  evtype: 3\n",
       "  filter: DATA_QUAL>0 && LAT_CONFIG==1\n",
       "  ra: 83.62870762486367\n",
       "  tmax: 286675202.0\n",
       "  tmin: 283996802.0\n",
       "  zmax: 100.0\n",
       "</pre>"
      ],
      "text/plain": []
     },
     "metadata": {},
     "output_type": "display_data"
    }
   ],
   "source": [
    "config[\"gtlike\"] = {\"edisp\": False}\n",
    "\n",
    "config.display()"
   ]
  },
  {
   "cell_type": "markdown",
   "id": "f9d021e1",
   "metadata": {},
   "source": [
    "### FermipyLike\n",
    "Let's create an instance of the plugin/ Note that here no processing is made, because fermipy still doesn't know about the model you want to use.\n",
    "\n"
   ]
  },
  {
   "cell_type": "code",
   "execution_count": 13,
   "id": "74c811fc",
   "metadata": {
    "execution": {
     "iopub.execute_input": "2024-02-03T19:03:10.471315Z",
     "iopub.status.busy": "2024-02-03T19:03:10.470930Z",
     "iopub.status.idle": "2024-02-03T19:03:10.912210Z",
     "shell.execute_reply": "2024-02-03T19:03:10.910993Z"
    }
   },
   "outputs": [],
   "source": [
    "LAT = FermipyLike(\"LAT\", config)"
   ]
  },
  {
   "cell_type": "markdown",
   "id": "2e812fc2",
   "metadata": {},
   "source": [
    "The plugin modifies the configuration as needed to get the output files in a unique place, which will stay the same as long as your selection does not change."
   ]
  },
  {
   "cell_type": "code",
   "execution_count": 14,
   "id": "15de39cf",
   "metadata": {
    "execution": {
     "iopub.execute_input": "2024-02-03T19:03:10.918121Z",
     "iopub.status.busy": "2024-02-03T19:03:10.917426Z",
     "iopub.status.idle": "2024-02-03T19:03:10.934878Z",
     "shell.execute_reply": "2024-02-03T19:03:10.933233Z"
    }
   },
   "outputs": [
    {
     "name": "stdout",
     "output_type": "stream",
     "text": [
      "binning:\n",
      "  binsperdec: 8\n",
      "  binsz: 0.1\n",
      "  roiwidth: 10.0\n",
      "data:\n",
      "  evfile: /Users/runner/work/threeML/threeML/docs/md_docs/slow_execute/Crab_data/Lb7ba925258c89244b49cc1889e66d453_FT1.fits\n",
      "  scfile: /Users/runner/work/threeML/threeML/docs/md_docs/slow_execute/Crab_data/L2402031402324596CEF229_SC00.fits\n",
      "fileio:\n",
      "  outdir: __a0d009e9d7f0df5dcbcb6253686984b6\n",
      "gtlike:\n",
      "  edisp: false\n",
      "logging:\n",
      "  chatter: 0\n",
      "  verbosity: 1\n",
      "selection:\n",
      "  dec: 22.014694786873797\n",
      "  emax: 300000.0\n",
      "  emin: 100.0\n",
      "  evclass: 128\n",
      "  evtype: 3\n",
      "  filter: DATA_QUAL>0 && LAT_CONFIG==1\n",
      "  ra: 83.62870762486367\n",
      "  tmax: 286675202.0\n",
      "  tmin: 283996802.0\n",
      "  zmax: 100.0\n",
      "\n"
     ]
    },
    {
     "data": {
      "text/html": [
       "<pre>binning:\n",
       "  binsperdec: 8\n",
       "  binsz: 0.1\n",
       "  roiwidth: 10.0\n",
       "data:\n",
       "  evfile: /Users/runner/work/threeML/threeML/docs/md_docs/slow_execute/Crab_data/Lb7ba925258c89244b49cc1889e66d453_FT1.fits\n",
       "  scfile: /Users/runner/work/threeML/threeML/docs/md_docs/slow_execute/Crab_data/L2402031402324596CEF229_SC00.fits\n",
       "fileio:\n",
       "  outdir: __a0d009e9d7f0df5dcbcb6253686984b6\n",
       "gtlike:\n",
       "  edisp: false\n",
       "logging:\n",
       "  chatter: 0\n",
       "  verbosity: 1\n",
       "selection:\n",
       "  dec: 22.014694786873797\n",
       "  emax: 300000.0\n",
       "  emin: 100.0\n",
       "  evclass: 128\n",
       "  evtype: 3\n",
       "  filter: DATA_QUAL>0 && LAT_CONFIG==1\n",
       "  ra: 83.62870762486367\n",
       "  tmax: 286675202.0\n",
       "  tmin: 283996802.0\n",
       "  zmax: 100.0\n",
       "</pre>"
      ],
      "text/plain": []
     },
     "metadata": {},
     "output_type": "display_data"
    }
   ],
   "source": [
    "config.display()"
   ]
  },
  {
   "cell_type": "markdown",
   "id": "b8946503",
   "metadata": {},
   "source": [
    "Here is where the fermipy processing happens (the .setup method)"
   ]
  },
  {
   "cell_type": "code",
   "execution_count": 15,
   "id": "f46db4bc",
   "metadata": {
    "execution": {
     "iopub.execute_input": "2024-02-03T19:03:10.940785Z",
     "iopub.status.busy": "2024-02-03T19:03:10.940413Z",
     "iopub.status.idle": "2024-02-03T19:13:47.030380Z",
     "shell.execute_reply": "2024-02-03T19:13:47.027493Z"
    }
   },
   "outputs": [
    {
     "name": "stdout",
     "output_type": "stream",
     "text": [
      "Fermipy Output directoty: __a0d009e9d7f0df5dcbcb6253686984b6\n"
     ]
    },
    {
     "data": {
      "text/html": [
       "<pre style=\"white-space:pre;overflow-x:auto;line-height:normal;font-family:Menlo,'DejaVu Sans Mono',consolas,'Courier New',monospace\"><span style=\"color: #00ff00; text-decoration-color: #00ff00\">19:03:10 </span><span style=\"color: #00ffaf; text-decoration-color: #00ffaf\">INFO    </span> <span style=\"color: #c6c6c6; text-decoration-color: #c6c6c6; font-weight: bold\"> Using IRFs P8R3_SOURCE_V3                                                     </span><a href=\"file:///Users/runner/work/threeML/threeML/threeML/plugins/FermipyLike.py\" target=\"_blank\"><span style=\"color: #7f7f7f; text-decoration-color: #7f7f7f\">FermipyLike.py</span></a><span style=\"color: #7f7f7f; text-decoration-color: #7f7f7f\">:</span><a href=\"file:///Users/runner/work/threeML/threeML/threeML/plugins/FermipyLike.py#126\" target=\"_blank\"><span style=\"color: #7f7f7f; text-decoration-color: #7f7f7f\">126</span></a>\n",
       "</pre>\n"
      ],
      "text/plain": [
       "\u001b[38;5;46m19:03:10\u001b[0m\u001b[38;5;46m \u001b[0m\u001b[38;5;49mINFO    \u001b[0m \u001b[1;38;5;251m Using IRFs P8R3_SOURCE_V3                                                    \u001b[0m\u001b[1;38;5;251m \u001b[0m\u001b]8;id=515996;file:///Users/runner/work/threeML/threeML/threeML/plugins/FermipyLike.py\u001b\\\u001b[2mFermipyLike.py\u001b[0m\u001b]8;;\u001b\\\u001b[2m:\u001b[0m\u001b]8;id=244315;file:///Users/runner/work/threeML/threeML/threeML/plugins/FermipyLike.py#126\u001b\\\u001b[2m126\u001b[0m\u001b]8;;\u001b\\\n"
      ]
     },
     "metadata": {},
     "output_type": "display_data"
    },
    {
     "name": "stdout",
     "output_type": "stream",
     "text": [
      "\n",
      "Found Galactic template for IRF. P8R3_SOURCE_V3: /usr/local/miniconda/envs/test_env/share/fermitools/refdata/fermi/galdiffuse/gll_iem_v07.fits\n",
      "\n",
      "Cutting the template around the ROI: \n",
      "\n"
     ]
    },
    {
     "name": "stdout",
     "output_type": "stream",
     "text": [
      "\n",
      "Found Isotropic template for irf P8R3_SOURCE_V3: /usr/local/miniconda/envs/test_env/share/fermitools/refdata/fermi/galdiffuse/iso_P8R3_SOURCE_V3_v1.txt\n"
     ]
    },
    {
     "name": "stderr",
     "output_type": "stream",
     "text": [
      "WARNING: Point source PKS_0459p060 lies 17.6405 degrees from the ROI center at RA, Dec = 83.6287, 22.0147 7.57107\n",
      "WARNING: Point source x4FGL_J0610d7p3752 lies 17.6676 degrees from the ROI center at RA, Dec = 83.6287, 22.0147 7.57107\n",
      "WARNING: Point source x4FGL_J0624d0p0855 lies 17.6938 degrees from the ROI center at RA, Dec = 83.6287, 22.0147 7.57107\n",
      "WARNING: Point source x4C_p06d21 lies 17.7181 degrees from the ROI center at RA, Dec = 83.6287, 22.0147 7.57107\n",
      "WARNING: Point source x1ES_0647p250 lies 17.73 degrees from the ROI center at RA, Dec = 83.6287, 22.0147 7.57107\n",
      "WARNING: Point source NVSS_J065035p205556 lies 17.7308 degrees from the ROI center at RA, Dec = 83.6287, 22.0147 7.57107\n",
      "WARNING: Point source x4FGL_J0551d7p0446 lies 17.737 degrees from the ROI center at RA, Dec = 83.6287, 22.0147 7.57107\n",
      "WARNING: Point source GB6_J0454p3724 lies 17.7478 degrees from the ROI center at RA, Dec = 83.6287, 22.0147 7.57107\n",
      "WARNING: Point source PSR_J0631p1036 lies 17.7855 degrees from the ROI center at RA, Dec = 83.6287, 22.0147 7.57107\n",
      "WARNING: Point source GB6_J0648p1749 lies 17.8446 degrees from the ROI center at RA, Dec = 83.6287, 22.0147 7.57107\n",
      "WARNING: Point source x4FGL_J0600d8p0509c lies 18.0094 degrees from the ROI center at RA, Dec = 83.6287, 22.0147 7.57107\n",
      "WARNING: Point source x4FGL_J0537d6p0400 lies 18.0282 degrees from the ROI center at RA, Dec = 83.6287, 22.0147 7.57107\n",
      "WARNING: Point source x4FGL_J0442d8p3609 lies 18.0627 degrees from the ROI center at RA, Dec = 83.6287, 22.0147 7.57107\n",
      "WARNING: Point source x4FGL_J0424d8p3117 lies 18.084 degrees from the ROI center at RA, Dec = 83.6287, 22.0147 7.57107\n",
      "WARNING: Point source x4FGL_J0450d7p0715 lies 18.14 degrees from the ROI center at RA, Dec = 83.6287, 22.0147 7.57107\n",
      "WARNING: Point source x4FGL_J0640d4p3307 lies 18.3188 degrees from the ROI center at RA, Dec = 83.6287, 22.0147 7.57107\n",
      "WARNING: Point source B2_0552p39A lies 18.3305 degrees from the ROI center at RA, Dec = 83.6287, 22.0147 7.57107\n",
      "WARNING: Point source x1RXS_J064814d1p160708 lies 18.3652 degrees from the ROI center at RA, Dec = 83.6287, 22.0147 7.57107\n",
      "WARNING: Point source x4FGL_J0634d7p1036 lies 18.3827 degrees from the ROI center at RA, Dec = 83.6287, 22.0147 7.57107\n",
      "WARNING: Point source MG2_J065230p1934 lies 18.3991 degrees from the ROI center at RA, Dec = 83.6287, 22.0147 7.57107\n",
      "WARNING: Point source PKS_0502p049 lies 18.4192 degrees from the ROI center at RA, Dec = 83.6287, 22.0147 7.57107\n",
      "WARNING: Point source RX_J0648d7p1516 lies 18.8123 degrees from the ROI center at RA, Dec = 83.6287, 22.0147 7.57107\n",
      "WARNING: Point source GB6_J0620p3806 lies 18.8411 degrees from the ROI center at RA, Dec = 83.6287, 22.0147 7.57107\n",
      "WARNING: Point source PSR_J0622p3749 lies 18.8574 degrees from the ROI center at RA, Dec = 83.6287, 22.0147 7.57107\n",
      "WARNING: Point source x4FGL_J0641d4p3349 lies 18.8694 degrees from the ROI center at RA, Dec = 83.6287, 22.0147 7.57107\n",
      "WARNING: Point source B2_0654p24 lies 18.8719 degrees from the ROI center at RA, Dec = 83.6287, 22.0147 7.57107\n",
      "WARNING: Point source x1RXS_J065331d8p181448 lies 18.8996 degrees from the ROI center at RA, Dec = 83.6287, 22.0147 7.57107\n",
      "WARNING: Point source x4FGL_J0412d6p2253c lies 18.9275 degrees from the ROI center at RA, Dec = 83.6287, 22.0147 7.57107\n",
      "WARNING: Point source GB6_J0653p2816 lies 18.9534 degrees from the ROI center at RA, Dec = 83.6287, 22.0147 7.57107\n",
      "WARNING: Point source PMN_J0444p0717 lies 18.9966 degrees from the ROI center at RA, Dec = 83.6287, 22.0147 7.57107\n",
      "WARNING: Point source MG1_J050533p0415 lies 19.08 degrees from the ROI center at RA, Dec = 83.6287, 22.0147 7.57107\n",
      "WARNING: Point source TXS_0431p092 lies 19.116 degrees from the ROI center at RA, Dec = 83.6287, 22.0147 7.57107\n",
      "WARNING: Point source x4FGL_J0559d3p0352 lies 19.1165 degrees from the ROI center at RA, Dec = 83.6287, 22.0147 7.57107\n",
      "WARNING: Point source B3_0509p406 lies 19.2321 degrees from the ROI center at RA, Dec = 83.6287, 22.0147 7.57107\n",
      "WARNING: Point source B2_0635p35 lies 19.3015 degrees from the ROI center at RA, Dec = 83.6287, 22.0147 7.57107\n",
      "WARNING: Point source PKS_0550p032 lies 19.3036 degrees from the ROI center at RA, Dec = 83.6287, 22.0147 7.57107\n",
      "WARNING: Point source x4FGL_J0431d0p3529c lies 19.3169 degrees from the ROI center at RA, Dec = 83.6287, 22.0147 7.57107\n",
      "WARNING: Point source x2MASX_J06533986p1636432 lies 19.4161 degrees from the ROI center at RA, Dec = 83.6287, 22.0147 7.57107\n",
      "WARNING: Point source x4FGL_J0658d7p2318 lies 19.4529 degrees from the ROI center at RA, Dec = 83.6287, 22.0147 7.57107\n",
      "WARNING: Point source x4FGL_J0552d0p0256c lies 19.5427 degrees from the ROI center at RA, Dec = 83.6287, 22.0147 7.57107\n",
      "WARNING: Point source GB6_J0555p0304 lies 19.5923 degrees from the ROI center at RA, Dec = 83.6287, 22.0147 7.57107\n",
      "WARNING: Point source B2_0655p27A lies 19.6986 degrees from the ROI center at RA, Dec = 83.6287, 22.0147 7.57107\n",
      "WARNING: Point source x4FGL_J0642d4p1048 lies 19.7363 degrees from the ROI center at RA, Dec = 83.6287, 22.0147 7.57107\n",
      "WARNING: Point source NVSS_J050650p032401 lies 19.7895 degrees from the ROI center at RA, Dec = 83.6287, 22.0147 7.57107\n",
      "WARNING: Point source x4FGL_J0409d2p2542 lies 19.8151 degrees from the ROI center at RA, Dec = 83.6287, 22.0147 7.57107\n"
     ]
    },
    {
     "data": {
      "text/html": [
       "<pre style=\"white-space:pre;overflow-x:auto;line-height:normal;font-family:Menlo,'DejaVu Sans Mono',consolas,'Courier New',monospace\"><span style=\"color: #00ff00; text-decoration-color: #00ff00\">19:13:47 </span><span style=\"color: #00ffaf; text-decoration-color: #00ffaf\">INFO    </span> <span style=\"color: #c6c6c6; text-decoration-color: #c6c6c6; font-weight: bold\"> set the minimizer to minuit                                             </span><a href=\"file:///Users/runner/work/threeML/threeML/threeML/classicMLE/joint_likelihood.py\" target=\"_blank\"><span style=\"color: #7f7f7f; text-decoration-color: #7f7f7f\">joint_likelihood.py</span></a><span style=\"color: #7f7f7f; text-decoration-color: #7f7f7f\">:</span><a href=\"file:///Users/runner/work/threeML/threeML/threeML/classicMLE/joint_likelihood.py#1045\" target=\"_blank\"><span style=\"color: #7f7f7f; text-decoration-color: #7f7f7f\">1045</span></a>\n",
       "</pre>\n"
      ],
      "text/plain": [
       "\u001b[38;5;46m19:13:47\u001b[0m\u001b[38;5;46m \u001b[0m\u001b[38;5;49mINFO    \u001b[0m \u001b[1;38;5;251m set the minimizer to minuit                                            \u001b[0m\u001b[1;38;5;251m \u001b[0m\u001b]8;id=369128;file:///Users/runner/work/threeML/threeML/threeML/classicMLE/joint_likelihood.py\u001b\\\u001b[2mjoint_likelihood.py\u001b[0m\u001b]8;;\u001b\\\u001b[2m:\u001b[0m\u001b]8;id=967996;file:///Users/runner/work/threeML/threeML/threeML/classicMLE/joint_likelihood.py#1045\u001b\\\u001b[2m1045\u001b[0m\u001b]8;;\u001b\\\n"
      ]
     },
     "metadata": {},
     "output_type": "display_data"
    }
   ],
   "source": [
    "fermipy_output_directory = Path(config[\"fileio\"][\"outdir\"])\n",
    "print(\"Fermipy Output directoty: %s\" % fermipy_output_directory)\n",
    "\n",
    "# This remove the output directory, to start a fresh analysis...\n",
    "\n",
    "if fermipy_output_directory.exists():\n",
    "    shutil.rmtree(fermipy_output_directory)\n",
    "\n",
    "# Here is where the fermipy processing happens (the .setup method)\n",
    "\n",
    "data = DataList(LAT)\n",
    "\n",
    "jl = JointLikelihood(model, data)"
   ]
  },
  {
   "cell_type": "markdown",
   "id": "585231dd",
   "metadata": {},
   "source": [
    "The normalization factors of the LAT background components are included in the models as nuisance parameters. They are only added during the previous step (during the model assignment). Let's display them:"
   ]
  },
  {
   "cell_type": "code",
   "execution_count": 16,
   "id": "d8e5136d",
   "metadata": {
    "execution": {
     "iopub.execute_input": "2024-02-03T19:13:47.037000Z",
     "iopub.status.busy": "2024-02-03T19:13:47.036701Z",
     "iopub.status.idle": "2024-02-03T19:13:47.045033Z",
     "shell.execute_reply": "2024-02-03T19:13:47.043939Z"
    }
   },
   "outputs": [
    {
     "name": "stdout",
     "output_type": "stream",
     "text": [
      "LAT_isodiff_Normalization : Parameter LAT_isodiff_Normalization = 1.0 []\n",
      "(min_value = 0.001, max_value = 1000.0, delta = 0.01, free = True)\n",
      "LAT_galdiff_Prefactor : Parameter LAT_galdiff_Prefactor = 1.0 []\n",
      "(min_value = 0.1, max_value = 10.0, delta = 0.01, free = True)\n"
     ]
    }
   ],
   "source": [
    "for k, v in LAT.nuisance_parameters.items():\n",
    "    print(k, \":\", v)"
   ]
  },
  {
   "cell_type": "markdown",
   "id": "d1036f9c",
   "metadata": {},
   "source": [
    "We will fix the isotropic BG as we are not sensitive to it with this dataset. We will also fix one more weak source."
   ]
  },
  {
   "cell_type": "code",
   "execution_count": 17,
   "id": "3b43272a",
   "metadata": {
    "execution": {
     "iopub.execute_input": "2024-02-03T19:13:47.050496Z",
     "iopub.status.busy": "2024-02-03T19:13:47.050102Z",
     "iopub.status.idle": "2024-02-03T19:13:47.241231Z",
     "shell.execute_reply": "2024-02-03T19:13:47.239814Z"
    }
   },
   "outputs": [
    {
     "data": {
      "text/html": [
       "Model summary:<br><br><div>\n",
       "<style scoped>\n",
       "    .dataframe tbody tr th:only-of-type {\n",
       "        vertical-align: middle;\n",
       "    }\n",
       "\n",
       "    .dataframe tbody tr th {\n",
       "        vertical-align: top;\n",
       "    }\n",
       "\n",
       "    .dataframe thead th {\n",
       "        text-align: right;\n",
       "    }\n",
       "</style>\n",
       "<table border=\"1\" class=\"dataframe\">\n",
       "  <thead>\n",
       "    <tr style=\"text-align: right;\">\n",
       "      <th></th>\n",
       "      <th>N</th>\n",
       "    </tr>\n",
       "  </thead>\n",
       "  <tbody>\n",
       "    <tr>\n",
       "      <th>Point sources</th>\n",
       "      <td>196</td>\n",
       "    </tr>\n",
       "    <tr>\n",
       "      <th>Extended sources</th>\n",
       "      <td>0</td>\n",
       "    </tr>\n",
       "    <tr>\n",
       "      <th>Particle sources</th>\n",
       "      <td>0</td>\n",
       "    </tr>\n",
       "  </tbody>\n",
       "</table>\n",
       "</div><br><br>Free parameters (4):<br><br><div>\n",
       "<style scoped>\n",
       "    .dataframe tbody tr th:only-of-type {\n",
       "        vertical-align: middle;\n",
       "    }\n",
       "\n",
       "    .dataframe tbody tr th {\n",
       "        vertical-align: top;\n",
       "    }\n",
       "\n",
       "    .dataframe thead th {\n",
       "        text-align: right;\n",
       "    }\n",
       "</style>\n",
       "<table border=\"1\" class=\"dataframe\">\n",
       "  <thead>\n",
       "    <tr style=\"text-align: right;\">\n",
       "      <th></th>\n",
       "      <th>value</th>\n",
       "      <th>min_value</th>\n",
       "      <th>max_value</th>\n",
       "      <th>unit</th>\n",
       "    </tr>\n",
       "  </thead>\n",
       "  <tbody>\n",
       "    <tr>\n",
       "      <th>PSR_J0534p2200.spectrum.main.Super_cutoff_powerlaw.K</th>\n",
       "      <td>0.0</td>\n",
       "      <td>0.0</td>\n",
       "      <td>0.0</td>\n",
       "      <td>keV-1 s-1 cm-2</td>\n",
       "    </tr>\n",
       "    <tr>\n",
       "      <th>PSR_J0534p2200.spectrum.main.Super_cutoff_powerlaw.index</th>\n",
       "      <td>-1.826553</td>\n",
       "      <td>-10.0</td>\n",
       "      <td>10.0</td>\n",
       "      <td></td>\n",
       "    </tr>\n",
       "    <tr>\n",
       "      <th>NVSS_J052622p224801.spectrum.main.Powerlaw.K</th>\n",
       "      <td>0.0</td>\n",
       "      <td>0.0</td>\n",
       "      <td>0.0</td>\n",
       "      <td>keV-1 s-1 cm-2</td>\n",
       "    </tr>\n",
       "    <tr>\n",
       "      <th>LAT_galdiff_Prefactor</th>\n",
       "      <td>1.0</td>\n",
       "      <td>0.1</td>\n",
       "      <td>10.0</td>\n",
       "      <td></td>\n",
       "    </tr>\n",
       "  </tbody>\n",
       "</table>\n",
       "</div><br><br>Fixed parameters (1092):<br>(abridged. Use complete=True to see all fixed parameters)<br><br><br>Properties (0):<br><br>(none)<br><br><br>Linked parameters (0):<br><br>(none)<br><br>Independent variables:<br><br>(none)<br><br>Linked functions (0):<br><br>(none)<br>"
      ],
      "text/plain": [
       "Model summary:\n",
       "==============\n",
       "\n",
       "                    N\n",
       "Point sources     196\n",
       "Extended sources    0\n",
       "Particle sources    0\n",
       "\n",
       "Free parameters (4):\n",
       "--------------------\n",
       "\n",
       "                            value min_value max_value            unit\n",
       "PSR_J0534p2200...K            0.0       0.0       0.0  keV-1 s-1 cm-2\n",
       "PSR_J0534p2200...index  -1.826553     -10.0      10.0                \n",
       "NVSS_J052622p224801...K       0.0       0.0       0.0  keV-1 s-1 cm-2\n",
       "LAT_galdiff_Prefactor         1.0       0.1      10.0                \n",
       "\n",
       "Fixed parameters (1092):\n",
       "(abridged. Use complete=True to see all fixed parameters)\n",
       "\n",
       "\n",
       "Properties (0):\n",
       "--------------------\n",
       "\n",
       "(none)\n",
       "\n",
       "\n",
       "Linked parameters (0):\n",
       "----------------------\n",
       "\n",
       "(none)\n",
       "\n",
       "Independent variables:\n",
       "----------------------\n",
       "\n",
       "(none)\n",
       "\n",
       "Linked functions (0):\n",
       "----------------------\n",
       "\n",
       "(none)"
      ]
     },
     "metadata": {},
     "output_type": "display_data"
    }
   ],
   "source": [
    "model.LAT_isodiff_Normalization.fix = True\n",
    "model.x4FGL_J0544d4p2238.spectrum.main.Powerlaw.K.fix = True\n",
    "model.display()"
   ]
  },
  {
   "cell_type": "markdown",
   "id": "49f7f967",
   "metadata": {},
   "source": [
    "### Performing the fit"
   ]
  },
  {
   "cell_type": "code",
   "execution_count": 18,
   "id": "c983c2f7",
   "metadata": {
    "execution": {
     "iopub.execute_input": "2024-02-03T19:13:47.246496Z",
     "iopub.status.busy": "2024-02-03T19:13:47.246202Z",
     "iopub.status.idle": "2024-02-03T19:13:56.769763Z",
     "shell.execute_reply": "2024-02-03T19:13:56.767310Z"
    }
   },
   "outputs": [
    {
     "data": {
      "text/html": [
       "<pre style=\"white-space:pre;overflow-x:auto;line-height:normal;font-family:Menlo,'DejaVu Sans Mono',consolas,'Courier New',monospace\"><span style=\"color: #00ff00; text-decoration-color: #00ff00\">         </span><span style=\"color: #00ffaf; text-decoration-color: #00ffaf\">INFO    </span> <span style=\"color: #c6c6c6; text-decoration-color: #c6c6c6; font-weight: bold\"> set the minimizer to MINUIT                                             </span><a href=\"file:///Users/runner/work/threeML/threeML/threeML/classicMLE/joint_likelihood.py\" target=\"_blank\"><span style=\"color: #7f7f7f; text-decoration-color: #7f7f7f\">joint_likelihood.py</span></a><span style=\"color: #7f7f7f; text-decoration-color: #7f7f7f\">:</span><a href=\"file:///Users/runner/work/threeML/threeML/threeML/classicMLE/joint_likelihood.py#1062\" target=\"_blank\"><span style=\"color: #7f7f7f; text-decoration-color: #7f7f7f\">1062</span></a>\n",
       "</pre>\n"
      ],
      "text/plain": [
       "\u001b[38;5;46m        \u001b[0m\u001b[38;5;46m \u001b[0m\u001b[38;5;49mINFO    \u001b[0m \u001b[1;38;5;251m set the minimizer to MINUIT                                            \u001b[0m\u001b[1;38;5;251m \u001b[0m\u001b]8;id=170812;file:///Users/runner/work/threeML/threeML/threeML/classicMLE/joint_likelihood.py\u001b\\\u001b[2mjoint_likelihood.py\u001b[0m\u001b]8;;\u001b\\\u001b[2m:\u001b[0m\u001b]8;id=595750;file:///Users/runner/work/threeML/threeML/threeML/classicMLE/joint_likelihood.py#1062\u001b\\\u001b[2m1062\u001b[0m\u001b]8;;\u001b\\\n"
      ]
     },
     "metadata": {},
     "output_type": "display_data"
    },
    {
     "data": {
      "text/html": [
       "<pre style=\"white-space:pre;overflow-x:auto;line-height:normal;font-family:Menlo,'DejaVu Sans Mono',consolas,'Courier New',monospace\"><span style=\"color: #00ffaf; text-decoration-color: #00ffaf; font-weight: bold; text-decoration: underline\">Best fit values:</span>\n",
       "\n",
       "</pre>\n"
      ],
      "text/plain": [
       "\u001b[1;4;38;5;49mBest fit values:\u001b[0m\n",
       "\n"
      ]
     },
     "metadata": {},
     "output_type": "display_data"
    },
    {
     "data": {
      "text/html": [
       "<div>\n",
       "<style scoped>\n",
       "    .dataframe tbody tr th:only-of-type {\n",
       "        vertical-align: middle;\n",
       "    }\n",
       "\n",
       "    .dataframe tbody tr th {\n",
       "        vertical-align: top;\n",
       "    }\n",
       "\n",
       "    .dataframe thead th {\n",
       "        text-align: right;\n",
       "    }\n",
       "</style>\n",
       "<table border=\"1\" class=\"dataframe\">\n",
       "  <thead>\n",
       "    <tr style=\"text-align: right;\">\n",
       "      <th></th>\n",
       "      <th>result</th>\n",
       "      <th>unit</th>\n",
       "    </tr>\n",
       "    <tr>\n",
       "      <th>parameter</th>\n",
       "      <th></th>\n",
       "      <th></th>\n",
       "    </tr>\n",
       "  </thead>\n",
       "  <tbody>\n",
       "    <tr>\n",
       "      <th>PSR_J0534p2200...K</th>\n",
       "      <td>(2.46 -0.08 +0.09) x 10^-13</td>\n",
       "      <td>1 / (cm2 keV s)</td>\n",
       "    </tr>\n",
       "    <tr>\n",
       "      <th>PSR_J0534p2200...index</th>\n",
       "      <td>-1.790 +/- 0.025</td>\n",
       "      <td></td>\n",
       "    </tr>\n",
       "    <tr>\n",
       "      <th>NVSS_J052622p224801.spectrum.main.Powerlaw.K</th>\n",
       "      <td>(1.0 -0.5 +1.0) x 10^-16</td>\n",
       "      <td>1 / (cm2 keV s)</td>\n",
       "    </tr>\n",
       "    <tr>\n",
       "      <th>LAT_galdiff_Prefactor</th>\n",
       "      <td>(9.35 +/- 0.08) x 10^-1</td>\n",
       "      <td></td>\n",
       "    </tr>\n",
       "  </tbody>\n",
       "</table>\n",
       "</div>"
      ],
      "text/plain": [
       "                                                                   result  \\\n",
       "parameter                                                                   \n",
       "PSR_J0534p2200...K                            (2.46 -0.08 +0.09) x 10^-13   \n",
       "PSR_J0534p2200...index                                   -1.790 +/- 0.025   \n",
       "NVSS_J052622p224801.spectrum.main.Powerlaw.K     (1.0 -0.5 +1.0) x 10^-16   \n",
       "LAT_galdiff_Prefactor                             (9.35 +/- 0.08) x 10^-1   \n",
       "\n",
       "                                                         unit  \n",
       "parameter                                                      \n",
       "PSR_J0534p2200...K                            1 / (cm2 keV s)  \n",
       "PSR_J0534p2200...index                                         \n",
       "NVSS_J052622p224801.spectrum.main.Powerlaw.K  1 / (cm2 keV s)  \n",
       "LAT_galdiff_Prefactor                                          "
      ]
     },
     "metadata": {},
     "output_type": "display_data"
    },
    {
     "data": {
      "text/html": [
       "<pre style=\"white-space:pre;overflow-x:auto;line-height:normal;font-family:Menlo,'DejaVu Sans Mono',consolas,'Courier New',monospace\">\n",
       "<span style=\"color: #00ffaf; text-decoration-color: #00ffaf; font-weight: bold; text-decoration: underline\">Correlation matrix:</span>\n",
       "\n",
       "</pre>\n"
      ],
      "text/plain": [
       "\n",
       "\u001b[1;4;38;5;49mCorrelation matrix:\u001b[0m\n",
       "\n"
      ]
     },
     "metadata": {},
     "output_type": "display_data"
    },
    {
     "data": {
      "text/html": [
       "<div><table id=\"table5291179840\">\n",
       "<tr><td>1.00</td><td>0.73</td><td>-0.05</td><td>-0.11</td></tr>\n",
       "<tr><td>0.73</td><td>1.00</td><td>0.10</td><td>0.16</td></tr>\n",
       "<tr><td>-0.05</td><td>0.10</td><td>1.00</td><td>-0.14</td></tr>\n",
       "<tr><td>-0.11</td><td>0.16</td><td>-0.14</td><td>1.00</td></tr>\n",
       "</table></div>"
      ],
      "text/plain": [
       " 1.00 0.73 -0.05 -0.11\n",
       " 0.73 1.00  0.10  0.16\n",
       "-0.05 0.10  1.00 -0.14\n",
       "-0.11 0.16 -0.14  1.00"
      ]
     },
     "metadata": {},
     "output_type": "display_data"
    },
    {
     "data": {
      "text/html": [
       "<pre style=\"white-space:pre;overflow-x:auto;line-height:normal;font-family:Menlo,'DejaVu Sans Mono',consolas,'Courier New',monospace\">\n",
       "<span style=\"color: #00ffaf; text-decoration-color: #00ffaf; font-weight: bold; text-decoration: underline\">Values of -log(likelihood) at the minimum:</span>\n",
       "\n",
       "</pre>\n"
      ],
      "text/plain": [
       "\n",
       "\u001b[1;4;38;5;49mValues of -\u001b[0m\u001b[1;4;38;5;49mlog\u001b[0m\u001b[1;4;38;5;49m(\u001b[0m\u001b[1;4;38;5;49mlikelihood\u001b[0m\u001b[1;4;38;5;49m)\u001b[0m\u001b[1;4;38;5;49m at the minimum:\u001b[0m\n",
       "\n"
      ]
     },
     "metadata": {},
     "output_type": "display_data"
    },
    {
     "data": {
      "text/html": [
       "<div>\n",
       "<style scoped>\n",
       "    .dataframe tbody tr th:only-of-type {\n",
       "        vertical-align: middle;\n",
       "    }\n",
       "\n",
       "    .dataframe tbody tr th {\n",
       "        vertical-align: top;\n",
       "    }\n",
       "\n",
       "    .dataframe thead th {\n",
       "        text-align: right;\n",
       "    }\n",
       "</style>\n",
       "<table border=\"1\" class=\"dataframe\">\n",
       "  <thead>\n",
       "    <tr style=\"text-align: right;\">\n",
       "      <th></th>\n",
       "      <th>-log(likelihood)</th>\n",
       "    </tr>\n",
       "  </thead>\n",
       "  <tbody>\n",
       "    <tr>\n",
       "      <th>LAT</th>\n",
       "      <td>118073.606157</td>\n",
       "    </tr>\n",
       "    <tr>\n",
       "      <th>total</th>\n",
       "      <td>118073.606157</td>\n",
       "    </tr>\n",
       "  </tbody>\n",
       "</table>\n",
       "</div>"
      ],
      "text/plain": [
       "       -log(likelihood)\n",
       "LAT       118073.606157\n",
       "total     118073.606157"
      ]
     },
     "metadata": {},
     "output_type": "display_data"
    },
    {
     "data": {
      "text/html": [
       "<pre style=\"white-space:pre;overflow-x:auto;line-height:normal;font-family:Menlo,'DejaVu Sans Mono',consolas,'Courier New',monospace\">\n",
       "<span style=\"color: #00ffaf; text-decoration-color: #00ffaf; font-weight: bold; text-decoration: underline\">Values of statistical measures:</span>\n",
       "\n",
       "</pre>\n"
      ],
      "text/plain": [
       "\n",
       "\u001b[1;4;38;5;49mValues of statistical measures:\u001b[0m\n",
       "\n"
      ]
     },
     "metadata": {},
     "output_type": "display_data"
    },
    {
     "data": {
      "text/html": [
       "<div>\n",
       "<style scoped>\n",
       "    .dataframe tbody tr th:only-of-type {\n",
       "        vertical-align: middle;\n",
       "    }\n",
       "\n",
       "    .dataframe tbody tr th {\n",
       "        vertical-align: top;\n",
       "    }\n",
       "\n",
       "    .dataframe thead th {\n",
       "        text-align: right;\n",
       "    }\n",
       "</style>\n",
       "<table border=\"1\" class=\"dataframe\">\n",
       "  <thead>\n",
       "    <tr style=\"text-align: right;\">\n",
       "      <th></th>\n",
       "      <th>statistical measures</th>\n",
       "    </tr>\n",
       "  </thead>\n",
       "  <tbody>\n",
       "    <tr>\n",
       "      <th>AIC</th>\n",
       "      <td>236155.212456</td>\n",
       "    </tr>\n",
       "    <tr>\n",
       "      <th>BIC</th>\n",
       "      <td>236197.382493</td>\n",
       "    </tr>\n",
       "  </tbody>\n",
       "</table>\n",
       "</div>"
      ],
      "text/plain": [
       "     statistical measures\n",
       "AIC         236155.212456\n",
       "BIC         236197.382493"
      ]
     },
     "metadata": {},
     "output_type": "display_data"
    }
   ],
   "source": [
    "jl.set_minimizer(\"minuit\")\n",
    "\n",
    "res = jl.fit()"
   ]
  },
  {
   "cell_type": "markdown",
   "id": "43f4488f",
   "metadata": {},
   "source": [
    "Now let's compute the errors on the best fit parameters\n",
    "\n"
   ]
  },
  {
   "cell_type": "code",
   "execution_count": 19,
   "id": "610aad30",
   "metadata": {
    "execution": {
     "iopub.execute_input": "2024-02-03T19:13:56.775618Z",
     "iopub.status.busy": "2024-02-03T19:13:56.775321Z",
     "iopub.status.idle": "2024-02-03T19:14:19.850729Z",
     "shell.execute_reply": "2024-02-03T19:14:19.848544Z"
    }
   },
   "outputs": [
    {
     "data": {
      "text/html": [
       "<div>\n",
       "<style scoped>\n",
       "    .dataframe tbody tr th:only-of-type {\n",
       "        vertical-align: middle;\n",
       "    }\n",
       "\n",
       "    .dataframe tbody tr th {\n",
       "        vertical-align: top;\n",
       "    }\n",
       "\n",
       "    .dataframe thead th {\n",
       "        text-align: right;\n",
       "    }\n",
       "</style>\n",
       "<table border=\"1\" class=\"dataframe\">\n",
       "  <thead>\n",
       "    <tr style=\"text-align: right;\">\n",
       "      <th></th>\n",
       "      <th>result</th>\n",
       "      <th>unit</th>\n",
       "    </tr>\n",
       "    <tr>\n",
       "      <th>parameter</th>\n",
       "      <th></th>\n",
       "      <th></th>\n",
       "    </tr>\n",
       "  </thead>\n",
       "  <tbody>\n",
       "    <tr>\n",
       "      <th>PSR_J0534p2200...K</th>\n",
       "      <td>(2.46 +/- 0.09) x 10^-13</td>\n",
       "      <td>1 / (cm2 keV s)</td>\n",
       "    </tr>\n",
       "    <tr>\n",
       "      <th>PSR_J0534p2200...index</th>\n",
       "      <td>-1.790 -0.025 +0.024</td>\n",
       "      <td></td>\n",
       "    </tr>\n",
       "    <tr>\n",
       "      <th>NVSS_J052622p224801.spectrum.main.Powerlaw.K</th>\n",
       "      <td>(10 -6 +7) x 10^-17</td>\n",
       "      <td>1 / (cm2 keV s)</td>\n",
       "    </tr>\n",
       "    <tr>\n",
       "      <th>LAT_galdiff_Prefactor</th>\n",
       "      <td>(9.35 -0.17 +0.18) x 10^-1</td>\n",
       "      <td></td>\n",
       "    </tr>\n",
       "  </tbody>\n",
       "</table>\n",
       "</div>"
      ],
      "text/plain": [
       "                                                                  result  \\\n",
       "parameter                                                                  \n",
       "PSR_J0534p2200...K                              (2.46 +/- 0.09) x 10^-13   \n",
       "PSR_J0534p2200...index                              -1.790 -0.025 +0.024   \n",
       "NVSS_J052622p224801.spectrum.main.Powerlaw.K         (10 -6 +7) x 10^-17   \n",
       "LAT_galdiff_Prefactor                         (9.35 -0.17 +0.18) x 10^-1   \n",
       "\n",
       "                                                         unit  \n",
       "parameter                                                      \n",
       "PSR_J0534p2200...K                            1 / (cm2 keV s)  \n",
       "PSR_J0534p2200...index                                         \n",
       "NVSS_J052622p224801.spectrum.main.Powerlaw.K  1 / (cm2 keV s)  \n",
       "LAT_galdiff_Prefactor                                          "
      ]
     },
     "metadata": {},
     "output_type": "display_data"
    }
   ],
   "source": [
    "res = jl.get_errors()"
   ]
  },
  {
   "cell_type": "markdown",
   "id": "54711abc",
   "metadata": {},
   "source": [
    "We might also want to look at the profile of the likelihood for each parameter."
   ]
  },
  {
   "cell_type": "code",
   "execution_count": 20,
   "id": "2ffb557d",
   "metadata": {
    "execution": {
     "iopub.execute_input": "2024-02-03T19:14:19.856643Z",
     "iopub.status.busy": "2024-02-03T19:14:19.856325Z",
     "iopub.status.idle": "2024-02-03T19:17:00.118124Z",
     "shell.execute_reply": "2024-02-03T19:17:00.115103Z"
    }
   },
   "outputs": [
    {
     "data": {
      "application/vnd.jupyter.widget-view+json": {
       "model_id": "005db0f3267e4a0c835c50cbb1b90221",
       "version_major": 2,
       "version_minor": 0
      },
      "text/plain": [
       "Profiling likelihood:   0%|          | 0/30 [00:00<?, ?it/s]"
      ]
     },
     "metadata": {},
     "output_type": "display_data"
    }
   ],
   "source": [
    "res = jl.get_contours(\n",
    "    model.PSR_J0534p2200.spectrum.main.Super_cutoff_powerlaw.index, -2.0, -1.6, 30\n",
    ")"
   ]
  },
  {
   "cell_type": "code",
   "execution_count": 21,
   "id": "33534fda",
   "metadata": {
    "execution": {
     "iopub.execute_input": "2024-02-03T19:17:00.123792Z",
     "iopub.status.busy": "2024-02-03T19:17:00.123502Z",
     "iopub.status.idle": "2024-02-03T19:17:00.264928Z",
     "shell.execute_reply": "2024-02-03T19:17:00.263052Z"
    }
   },
   "outputs": [
    {
     "data": {
      "image/png": "[encoded data removed]",
      "text/plain": [
       "<Figure size 1040x910 with 1 Axes>"
      ]
     },
     "execution_count": 21,
     "metadata": {},
     "output_type": "execute_result"
    }
   ],
   "source": [
    "res[-1]"
   ]
  },
  {
   "cell_type": "markdown",
   "id": "2d078728",
   "metadata": {},
   "source": [
    "Or we might want to produce a contour plot"
   ]
  },
  {
   "cell_type": "code",
   "execution_count": 22,
   "id": "f344e79c",
   "metadata": {
    "execution": {
     "iopub.execute_input": "2024-02-03T19:17:00.270825Z",
     "iopub.status.busy": "2024-02-03T19:17:00.270260Z",
     "iopub.status.idle": "2024-02-03T19:46:04.541447Z",
     "shell.execute_reply": "2024-02-03T19:46:04.540041Z"
    }
   },
   "outputs": [
    {
     "data": {
      "application/vnd.jupyter.widget-view+json": {
       "model_id": "c1adc55d82544985bdcde8d7dc4eda2a",
       "version_major": 2,
       "version_minor": 0
      },
      "text/plain": [
       "Profiling likelihood:   0%|          | 0/400 [00:00<?, ?it/s]"
      ]
     },
     "metadata": {},
     "output_type": "display_data"
    }
   ],
   "source": [
    "res = jl.get_contours(\n",
    "    \"PSR_J0534p2200.spectrum.main.Super_cutoff_powerlaw.K\",\n",
    "    2.1e-13,\n",
    "    2.7e-13,\n",
    "    20,\n",
    "    \"PSR_J0534p2200.spectrum.main.Super_cutoff_powerlaw.index\",\n",
    "    -2.0,\n",
    "    -1.7,\n",
    "    20,\n",
    ")"
   ]
  },
  {
   "cell_type": "code",
   "execution_count": 23,
   "id": "d8f52d6b",
   "metadata": {
    "execution": {
     "iopub.execute_input": "2024-02-03T19:46:04.548637Z",
     "iopub.status.busy": "2024-02-03T19:46:04.547687Z",
     "iopub.status.idle": "2024-02-03T19:46:04.690489Z",
     "shell.execute_reply": "2024-02-03T19:46:04.689289Z"
    },
    "tags": [
     "nbsphinx-thumbnail"
    ]
   },
   "outputs": [
    {
     "data": {
      "image/png": "[encoded data removed]",
      "text/plain": [
       "<Figure size 1040x910 with 1 Axes>"
      ]
     },
     "execution_count": 23,
     "metadata": {},
     "output_type": "execute_result"
    }
   ],
   "source": [
    "res[-1]"
   ]
  },
  {
   "cell_type": "markdown",
   "id": "3bdbdfd1",
   "metadata": {},
   "source": [
    "**Pro-trick:** We can also axcess the GTAnalysis object of fermipy:"
   ]
  },
  {
   "cell_type": "code",
   "execution_count": 24,
   "id": "229243f1",
   "metadata": {
    "execution": {
     "iopub.execute_input": "2024-02-03T19:46:04.699917Z",
     "iopub.status.busy": "2024-02-03T19:46:04.699586Z",
     "iopub.status.idle": "2024-02-03T19:46:04.704334Z",
     "shell.execute_reply": "2024-02-03T19:46:04.702906Z"
    }
   },
   "outputs": [],
   "source": [
    "# res = jl.fit()\n",
    "# LAT.gta.write_roi('test',make_plots=True)"
   ]
  },
  {
   "cell_type": "markdown",
   "id": "2e8ea420",
   "metadata": {},
   "source": [
    "All the plots are saved in the output directory as png files:\n",
    "\n"
   ]
  },
  {
   "cell_type": "code",
   "execution_count": 25,
   "id": "ac07a1d5",
   "metadata": {
    "execution": {
     "iopub.execute_input": "2024-02-03T19:46:04.709457Z",
     "iopub.status.busy": "2024-02-03T19:46:04.709176Z",
     "iopub.status.idle": "2024-02-03T19:46:04.713956Z",
     "shell.execute_reply": "2024-02-03T19:46:04.712410Z"
    }
   },
   "outputs": [],
   "source": [
    "# pngs=Path(f\"{fermipy_output_directory}\").glob(\"*png\")\n",
    "# for png in pngs:\n",
    "#    print(png)\n",
    "#    my_image=Image(str(png))\n",
    "#    display(my_image)"
   ]
  },
  {
   "cell_type": "markdown",
   "id": "2877a376",
   "metadata": {},
   "source": [
    "We can also plot the resulting model:"
   ]
  },
  {
   "cell_type": "code",
   "execution_count": 26,
   "id": "1b73d655",
   "metadata": {
    "execution": {
     "iopub.execute_input": "2024-02-03T19:46:04.719338Z",
     "iopub.status.busy": "2024-02-03T19:46:04.719045Z",
     "iopub.status.idle": "2024-02-03T19:46:05.187419Z",
     "shell.execute_reply": "2024-02-03T19:46:05.186209Z"
    }
   },
   "outputs": [
    {
     "data": {
      "image/png": "[encoded data removed]",
      "text/plain": [
       "<Figure size 1040x910 with 1 Axes>"
      ]
     },
     "execution_count": 26,
     "metadata": {},
     "output_type": "execute_result"
    }
   ],
   "source": [
    "energies = sp.logspace(1, 6, 100) * u.MeV\n",
    "fig, ax = plt.subplots()\n",
    "# we only want to visualize the relevant sources...\n",
    "src_to_plot = [\"Crab\", \"PSR_J0534p2200\"]\n",
    "# Now loop over all point sources and plot them\n",
    "for source_name, point_source in model.point_sources.items():\n",
    "    for src in src_to_plot:\n",
    "        if src in source_name:\n",
    "            # Plot the sum of all components for this source\n",
    "\n",
    "            ax.loglog(energies, point_source(energies), label=source_name)\n",
    "            # If there is more than one component, plot them also separately\n",
    "\n",
    "            if len(point_source.components) > 1:\n",
    "                for component_name, component in point_source.components.items():\n",
    "                    ax.loglog(\n",
    "                        energies,\n",
    "                        component.shape(energies),\n",
    "                        \"--\",\n",
    "                        label=f\"{component_name} of {source_name}\",\n",
    "                    )\n",
    "\n",
    "# Add a legend\n",
    "ax.legend(loc=0, frameon=False)\n",
    "\n",
    "ax.set_xlabel(\"Energy (MeV)\")\n",
    "ax.set_ylabel(r\"Flux (ph cm$^{-2}$ s$^{-1}$ keV$^{-1}$\")\n",
    "ax.set_ylim([1e-18, 1e-8])\n",
    "\n",
    "# show the plot\n",
    "fig"
   ]
  },
  {
   "cell_type": "markdown",
   "id": "f4a1a08e",
   "metadata": {},
   "source": [
    "We can also do a bayesian analysis."
   ]
  },
  {
   "cell_type": "markdown",
   "id": "5a1eb054",
   "metadata": {},
   "source": [
    "This will set priors based on the current defined min-max (log-uniform or uniform)."
   ]
  },
  {
   "cell_type": "code",
   "execution_count": 27,
   "id": "4ac97b06",
   "metadata": {
    "execution": {
     "iopub.execute_input": "2024-02-03T19:46:05.193297Z",
     "iopub.status.busy": "2024-02-03T19:46:05.192982Z",
     "iopub.status.idle": "2024-02-03T19:46:05.206814Z",
     "shell.execute_reply": "2024-02-03T19:46:05.205620Z"
    }
   },
   "outputs": [],
   "source": [
    "for param in model.free_parameters.values():\n",
    "    if param.has_transformation():\n",
    "        param.set_uninformative_prior(Log_uniform_prior)\n",
    "    else:\n",
    "        param.set_uninformative_prior(Uniform_prior)"
   ]
  },
  {
   "cell_type": "code",
   "execution_count": 28,
   "id": "e6ba619d",
   "metadata": {
    "execution": {
     "iopub.execute_input": "2024-02-03T19:46:05.212137Z",
     "iopub.status.busy": "2024-02-03T19:46:05.211836Z",
     "iopub.status.idle": "2024-02-03T19:56:34.738560Z",
     "shell.execute_reply": "2024-02-03T19:56:34.736705Z"
    }
   },
   "outputs": [
    {
     "data": {
      "text/html": [
       "<pre style=\"white-space:pre;overflow-x:auto;line-height:normal;font-family:Menlo,'DejaVu Sans Mono',consolas,'Courier New',monospace\"><span style=\"color: #00ff00; text-decoration-color: #00ff00\">19:46:05 </span><span style=\"color: #00ffaf; text-decoration-color: #00ffaf\">INFO    </span> <span style=\"color: #c6c6c6; text-decoration-color: #c6c6c6; font-weight: bold\"> Using IRFs P8R3_SOURCE_V3                                                     </span><a href=\"file:///Users/runner/work/threeML/threeML/threeML/plugins/FermipyLike.py\" target=\"_blank\"><span style=\"color: #7f7f7f; text-decoration-color: #7f7f7f\">FermipyLike.py</span></a><span style=\"color: #7f7f7f; text-decoration-color: #7f7f7f\">:</span><a href=\"file:///Users/runner/work/threeML/threeML/threeML/plugins/FermipyLike.py#126\" target=\"_blank\"><span style=\"color: #7f7f7f; text-decoration-color: #7f7f7f\">126</span></a>\n",
       "</pre>\n"
      ],
      "text/plain": [
       "\u001b[38;5;46m19:46:05\u001b[0m\u001b[38;5;46m \u001b[0m\u001b[38;5;49mINFO    \u001b[0m \u001b[1;38;5;251m Using IRFs P8R3_SOURCE_V3                                                    \u001b[0m\u001b[1;38;5;251m \u001b[0m\u001b]8;id=379554;file:///Users/runner/work/threeML/threeML/threeML/plugins/FermipyLike.py\u001b\\\u001b[2mFermipyLike.py\u001b[0m\u001b]8;;\u001b\\\u001b[2m:\u001b[0m\u001b]8;id=83838;file:///Users/runner/work/threeML/threeML/threeML/plugins/FermipyLike.py#126\u001b\\\u001b[2m126\u001b[0m\u001b]8;;\u001b\\\n"
      ]
     },
     "metadata": {},
     "output_type": "display_data"
    },
    {
     "name": "stdout",
     "output_type": "stream",
     "text": [
      "\n",
      "Found Galactic template for IRF. P8R3_SOURCE_V3: /usr/local/miniconda/envs/test_env/share/fermitools/refdata/fermi/galdiffuse/gll_iem_v07.fits\n",
      "\n",
      "Cutting the template around the ROI: \n",
      "\n"
     ]
    },
    {
     "name": "stdout",
     "output_type": "stream",
     "text": [
      "\n",
      "Found Isotropic template for irf P8R3_SOURCE_V3: /usr/local/miniconda/envs/test_env/share/fermitools/refdata/fermi/galdiffuse/iso_P8R3_SOURCE_V3_v1.txt\n"
     ]
    },
    {
     "name": "stderr",
     "output_type": "stream",
     "text": [
      "WARNING: Point source PKS_0459p060 lies 17.6405 degrees from the ROI center at RA, Dec = 83.6287, 22.0147 7.57107\n",
      "WARNING: Point source x4FGL_J0610d7p3752 lies 17.6676 degrees from the ROI center at RA, Dec = 83.6287, 22.0147 7.57107\n",
      "WARNING: Point source x4FGL_J0624d0p0855 lies 17.6938 degrees from the ROI center at RA, Dec = 83.6287, 22.0147 7.57107\n",
      "WARNING: Point source x4C_p06d21 lies 17.7181 degrees from the ROI center at RA, Dec = 83.6287, 22.0147 7.57107\n",
      "WARNING: Point source x1ES_0647p250 lies 17.73 degrees from the ROI center at RA, Dec = 83.6287, 22.0147 7.57107\n",
      "WARNING: Point source NVSS_J065035p205556 lies 17.7308 degrees from the ROI center at RA, Dec = 83.6287, 22.0147 7.57107\n",
      "WARNING: Point source x4FGL_J0551d7p0446 lies 17.737 degrees from the ROI center at RA, Dec = 83.6287, 22.0147 7.57107\n",
      "WARNING: Point source GB6_J0454p3724 lies 17.7478 degrees from the ROI center at RA, Dec = 83.6287, 22.0147 7.57107\n",
      "WARNING: Point source PSR_J0631p1036 lies 17.7855 degrees from the ROI center at RA, Dec = 83.6287, 22.0147 7.57107\n",
      "WARNING: Point source GB6_J0648p1749 lies 17.8446 degrees from the ROI center at RA, Dec = 83.6287, 22.0147 7.57107\n",
      "WARNING: Point source x4FGL_J0600d8p0509c lies 18.0094 degrees from the ROI center at RA, Dec = 83.6287, 22.0147 7.57107\n",
      "WARNING: Point source x4FGL_J0537d6p0400 lies 18.0282 degrees from the ROI center at RA, Dec = 83.6287, 22.0147 7.57107\n",
      "WARNING: Point source x4FGL_J0442d8p3609 lies 18.0627 degrees from the ROI center at RA, Dec = 83.6287, 22.0147 7.57107\n",
      "WARNING: Point source x4FGL_J0424d8p3117 lies 18.084 degrees from the ROI center at RA, Dec = 83.6287, 22.0147 7.57107\n",
      "WARNING: Point source x4FGL_J0450d7p0715 lies 18.14 degrees from the ROI center at RA, Dec = 83.6287, 22.0147 7.57107\n",
      "WARNING: Point source x4FGL_J0640d4p3307 lies 18.3188 degrees from the ROI center at RA, Dec = 83.6287, 22.0147 7.57107\n",
      "WARNING: Point source B2_0552p39A lies 18.3305 degrees from the ROI center at RA, Dec = 83.6287, 22.0147 7.57107\n",
      "WARNING: Point source x1RXS_J064814d1p160708 lies 18.3652 degrees from the ROI center at RA, Dec = 83.6287, 22.0147 7.57107\n",
      "WARNING: Point source x4FGL_J0634d7p1036 lies 18.3827 degrees from the ROI center at RA, Dec = 83.6287, 22.0147 7.57107\n",
      "WARNING: Point source MG2_J065230p1934 lies 18.3991 degrees from the ROI center at RA, Dec = 83.6287, 22.0147 7.57107\n",
      "WARNING: Point source PKS_0502p049 lies 18.4192 degrees from the ROI center at RA, Dec = 83.6287, 22.0147 7.57107\n",
      "WARNING: Point source RX_J0648d7p1516 lies 18.8123 degrees from the ROI center at RA, Dec = 83.6287, 22.0147 7.57107\n",
      "WARNING: Point source GB6_J0620p3806 lies 18.8411 degrees from the ROI center at RA, Dec = 83.6287, 22.0147 7.57107\n",
      "WARNING: Point source PSR_J0622p3749 lies 18.8574 degrees from the ROI center at RA, Dec = 83.6287, 22.0147 7.57107\n",
      "WARNING: Point source x4FGL_J0641d4p3349 lies 18.8694 degrees from the ROI center at RA, Dec = 83.6287, 22.0147 7.57107\n",
      "WARNING: Point source B2_0654p24 lies 18.8719 degrees from the ROI center at RA, Dec = 83.6287, 22.0147 7.57107\n",
      "WARNING: Point source x1RXS_J065331d8p181448 lies 18.8996 degrees from the ROI center at RA, Dec = 83.6287, 22.0147 7.57107\n",
      "WARNING: Point source x4FGL_J0412d6p2253c lies 18.9275 degrees from the ROI center at RA, Dec = 83.6287, 22.0147 7.57107\n",
      "WARNING: Point source GB6_J0653p2816 lies 18.9534 degrees from the ROI center at RA, Dec = 83.6287, 22.0147 7.57107\n",
      "WARNING: Point source PMN_J0444p0717 lies 18.9966 degrees from the ROI center at RA, Dec = 83.6287, 22.0147 7.57107\n",
      "WARNING: Point source MG1_J050533p0415 lies 19.08 degrees from the ROI center at RA, Dec = 83.6287, 22.0147 7.57107\n",
      "WARNING: Point source TXS_0431p092 lies 19.116 degrees from the ROI center at RA, Dec = 83.6287, 22.0147 7.57107\n",
      "WARNING: Point source x4FGL_J0559d3p0352 lies 19.1165 degrees from the ROI center at RA, Dec = 83.6287, 22.0147 7.57107\n",
      "WARNING: Point source B3_0509p406 lies 19.2321 degrees from the ROI center at RA, Dec = 83.6287, 22.0147 7.57107\n",
      "WARNING: Point source B2_0635p35 lies 19.3015 degrees from the ROI center at RA, Dec = 83.6287, 22.0147 7.57107\n",
      "WARNING: Point source PKS_0550p032 lies 19.3036 degrees from the ROI center at RA, Dec = 83.6287, 22.0147 7.57107\n",
      "WARNING: Point source x4FGL_J0431d0p3529c lies 19.3169 degrees from the ROI center at RA, Dec = 83.6287, 22.0147 7.57107\n",
      "WARNING: Point source x2MASX_J06533986p1636432 lies 19.4161 degrees from the ROI center at RA, Dec = 83.6287, 22.0147 7.57107\n",
      "WARNING: Point source x4FGL_J0658d7p2318 lies 19.4529 degrees from the ROI center at RA, Dec = 83.6287, 22.0147 7.57107\n",
      "WARNING: Point source x4FGL_J0552d0p0256c lies 19.5427 degrees from the ROI center at RA, Dec = 83.6287, 22.0147 7.57107\n",
      "WARNING: Point source GB6_J0555p0304 lies 19.5923 degrees from the ROI center at RA, Dec = 83.6287, 22.0147 7.57107\n",
      "WARNING: Point source B2_0655p27A lies 19.6986 degrees from the ROI center at RA, Dec = 83.6287, 22.0147 7.57107\n",
      "WARNING: Point source x4FGL_J0642d4p1048 lies 19.7363 degrees from the ROI center at RA, Dec = 83.6287, 22.0147 7.57107\n",
      "WARNING: Point source NVSS_J050650p032401 lies 19.7895 degrees from the ROI center at RA, Dec = 83.6287, 22.0147 7.57107\n",
      "WARNING: Point source x4FGL_J0409d2p2542 lies 19.8151 degrees from the ROI center at RA, Dec = 83.6287, 22.0147 7.57107\n"
     ]
    }
   ],
   "source": [
    "# It's better to remove the output directory,...\n",
    "shutil.rmtree(fermipy_output_directory)\n",
    "\n",
    "bayes = BayesianAnalysis(model, data)"
   ]
  },
  {
   "cell_type": "markdown",
   "id": "1a43ec4b",
   "metadata": {},
   "source": [
    "Take care of the nuisance parameters `LAT_isodiff_Normalization` and `LAT_galdiff_Prefactor`, which are only created during the previous step."
   ]
  },
  {
   "cell_type": "code",
   "execution_count": 29,
   "id": "f8e2bb79",
   "metadata": {
    "execution": {
     "iopub.execute_input": "2024-02-03T19:56:34.745155Z",
     "iopub.status.busy": "2024-02-03T19:56:34.744784Z",
     "iopub.status.idle": "2024-02-03T19:56:34.751706Z",
     "shell.execute_reply": "2024-02-03T19:56:34.750356Z"
    }
   },
   "outputs": [],
   "source": [
    "model.LAT_isodiff_Normalization.fix = True\n",
    "model.LAT_galdiff_Prefactor.set_uninformative_prior(Log_uniform_prior)"
   ]
  },
  {
   "cell_type": "code",
   "execution_count": 30,
   "id": "c2b1d6e9",
   "metadata": {
    "execution": {
     "iopub.execute_input": "2024-02-03T19:56:34.757325Z",
     "iopub.status.busy": "2024-02-03T19:56:34.756962Z",
     "iopub.status.idle": "2024-02-03T20:01:46.287964Z",
     "shell.execute_reply": "2024-02-03T20:01:46.286360Z"
    },
    "lines_to_next_cell": 2
   },
   "outputs": [
    {
     "data": {
      "text/html": [
       "<pre style=\"white-space:pre;overflow-x:auto;line-height:normal;font-family:Menlo,'DejaVu Sans Mono',consolas,'Courier New',monospace\"><span style=\"color: #00ff00; text-decoration-color: #00ff00\">19:56:34 </span><span style=\"color: #00ffaf; text-decoration-color: #00ffaf\">INFO    </span> <span style=\"color: #c6c6c6; text-decoration-color: #c6c6c6; font-weight: bold\"> sampler set to </span><span style=\"color: #000080; text-decoration-color: #000080; font-weight: bold\">emcee</span><span style=\"color: #c6c6c6; text-decoration-color: #c6c6c6; font-weight: bold\">                                                    </span><a href=\"file:///Users/runner/work/threeML/threeML/threeML/bayesian/bayesian_analysis.py\" target=\"_blank\"><span style=\"color: #7f7f7f; text-decoration-color: #7f7f7f\">bayesian_analysis.py</span></a><span style=\"color: #7f7f7f; text-decoration-color: #7f7f7f\">:</span><a href=\"file:///Users/runner/work/threeML/threeML/threeML/bayesian/bayesian_analysis.py#202\" target=\"_blank\"><span style=\"color: #7f7f7f; text-decoration-color: #7f7f7f\">202</span></a>\n",
       "</pre>\n"
      ],
      "text/plain": [
       "\u001b[38;5;46m19:56:34\u001b[0m\u001b[38;5;46m \u001b[0m\u001b[38;5;49mINFO    \u001b[0m \u001b[1;38;5;251m sampler set to \u001b[0m\u001b[1;34memcee\u001b[0m\u001b[1;38;5;251m                                                   \u001b[0m\u001b[1;38;5;251m \u001b[0m\u001b]8;id=953147;file:///Users/runner/work/threeML/threeML/threeML/bayesian/bayesian_analysis.py\u001b\\\u001b[2mbayesian_analysis.py\u001b[0m\u001b]8;;\u001b\\\u001b[2m:\u001b[0m\u001b]8;id=603994;file:///Users/runner/work/threeML/threeML/threeML/bayesian/bayesian_analysis.py#202\u001b\\\u001b[2m202\u001b[0m\u001b]8;;\u001b\\\n"
      ]
     },
     "metadata": {},
     "output_type": "display_data"
    },
    {
     "data": {
      "application/vnd.jupyter.widget-view+json": {
       "model_id": "380ee2e6690f4055a29b977bb7c8330e",
       "version_major": 2,
       "version_minor": 0
      },
      "text/plain": [
       "  0%|          | 0/10 [00:00<?, ?it/s]"
      ]
     },
     "metadata": {},
     "output_type": "display_data"
    },
    {
     "data": {
      "application/vnd.jupyter.widget-view+json": {
       "model_id": "251021efa97f4f38a12f0d5233a5c55e",
       "version_major": 2,
       "version_minor": 0
      },
      "text/plain": [
       "  0%|          | 0/500 [00:00<?, ?it/s]"
      ]
     },
     "metadata": {},
     "output_type": "display_data"
    },
    {
     "data": {
      "text/html": [
       "<pre style=\"white-space:pre;overflow-x:auto;line-height:normal;font-family:Menlo,'DejaVu Sans Mono',consolas,'Courier New',monospace\"><span style=\"color: #00ff00; text-decoration-color: #00ff00\">20:01:44 </span><span style=\"color: #00ffaf; text-decoration-color: #00ffaf\">INFO    </span> <span style=\"color: #c6c6c6; text-decoration-color: #c6c6c6; font-weight: bold\"> Mean acceptance fraction: </span><span style=\"color: #c0c0c0; text-decoration-color: #c0c0c0; font-weight: bold\">0.4736000000000001</span><span style=\"color: #c6c6c6; text-decoration-color: #c6c6c6; font-weight: bold\">                                </span><a href=\"file:///Users/runner/work/threeML/threeML/threeML/bayesian/emcee_sampler.py\" target=\"_blank\"><span style=\"color: #7f7f7f; text-decoration-color: #7f7f7f\">emcee_sampler.py</span></a><span style=\"color: #7f7f7f; text-decoration-color: #7f7f7f\">:</span><a href=\"file:///Users/runner/work/threeML/threeML/threeML/bayesian/emcee_sampler.py#157\" target=\"_blank\"><span style=\"color: #7f7f7f; text-decoration-color: #7f7f7f\">157</span></a>\n",
       "</pre>\n"
      ],
      "text/plain": [
       "\u001b[38;5;46m20:01:44\u001b[0m\u001b[38;5;46m \u001b[0m\u001b[38;5;49mINFO    \u001b[0m \u001b[1;38;5;251m Mean acceptance fraction: \u001b[0m\u001b[1;37m0.4736000000000001\u001b[0m\u001b[1;38;5;251m                               \u001b[0m\u001b[1;38;5;251m \u001b[0m\u001b]8;id=371773;file:///Users/runner/work/threeML/threeML/threeML/bayesian/emcee_sampler.py\u001b\\\u001b[2memcee_sampler.py\u001b[0m\u001b]8;;\u001b\\\u001b[2m:\u001b[0m\u001b]8;id=960020;file:///Users/runner/work/threeML/threeML/threeML/bayesian/emcee_sampler.py#157\u001b\\\u001b[2m157\u001b[0m\u001b]8;;\u001b\\\n"
      ]
     },
     "metadata": {},
     "output_type": "display_data"
    },
    {
     "data": {
      "text/html": [
       "<pre style=\"white-space:pre;overflow-x:auto;line-height:normal;font-family:Menlo,'DejaVu Sans Mono',consolas,'Courier New',monospace\"><span style=\"color: #00ff00; text-decoration-color: #00ff00\">20:01:45 </span><span style=\"color: #00ffaf; text-decoration-color: #00ffaf\">INFO    </span> <span style=\"color: #c6c6c6; text-decoration-color: #c6c6c6; font-weight: bold\"> fit restored to maximum of posterior                                         </span><a href=\"file:///Users/runner/work/threeML/threeML/threeML/bayesian/sampler_base.py\" target=\"_blank\"><span style=\"color: #7f7f7f; text-decoration-color: #7f7f7f\">sampler_base.py</span></a><span style=\"color: #7f7f7f; text-decoration-color: #7f7f7f\">:</span><a href=\"file:///Users/runner/work/threeML/threeML/threeML/bayesian/sampler_base.py#178\" target=\"_blank\"><span style=\"color: #7f7f7f; text-decoration-color: #7f7f7f\">178</span></a>\n",
       "</pre>\n"
      ],
      "text/plain": [
       "\u001b[38;5;46m20:01:45\u001b[0m\u001b[38;5;46m \u001b[0m\u001b[38;5;49mINFO    \u001b[0m \u001b[1;38;5;251m fit restored to maximum of posterior                                        \u001b[0m\u001b[1;38;5;251m \u001b[0m\u001b]8;id=542515;file:///Users/runner/work/threeML/threeML/threeML/bayesian/sampler_base.py\u001b\\\u001b[2msampler_base.py\u001b[0m\u001b]8;;\u001b\\\u001b[2m:\u001b[0m\u001b]8;id=727312;file:///Users/runner/work/threeML/threeML/threeML/bayesian/sampler_base.py#178\u001b\\\u001b[2m178\u001b[0m\u001b]8;;\u001b\\\n"
      ]
     },
     "metadata": {},
     "output_type": "display_data"
    },
    {
     "data": {
      "text/html": [
       "<pre style=\"white-space:pre;overflow-x:auto;line-height:normal;font-family:Menlo,'DejaVu Sans Mono',consolas,'Courier New',monospace\"><span style=\"color: #00ff00; text-decoration-color: #00ff00\">         </span><span style=\"color: #00ffaf; text-decoration-color: #00ffaf\">INFO    </span> <span style=\"color: #c6c6c6; text-decoration-color: #c6c6c6; font-weight: bold\"> fit restored to maximum of posterior                                         </span><a href=\"file:///Users/runner/work/threeML/threeML/threeML/bayesian/sampler_base.py\" target=\"_blank\"><span style=\"color: #7f7f7f; text-decoration-color: #7f7f7f\">sampler_base.py</span></a><span style=\"color: #7f7f7f; text-decoration-color: #7f7f7f\">:</span><a href=\"file:///Users/runner/work/threeML/threeML/threeML/bayesian/sampler_base.py#178\" target=\"_blank\"><span style=\"color: #7f7f7f; text-decoration-color: #7f7f7f\">178</span></a>\n",
       "</pre>\n"
      ],
      "text/plain": [
       "\u001b[38;5;46m        \u001b[0m\u001b[38;5;46m \u001b[0m\u001b[38;5;49mINFO    \u001b[0m \u001b[1;38;5;251m fit restored to maximum of posterior                                        \u001b[0m\u001b[1;38;5;251m \u001b[0m\u001b]8;id=661247;file:///Users/runner/work/threeML/threeML/threeML/bayesian/sampler_base.py\u001b\\\u001b[2msampler_base.py\u001b[0m\u001b]8;;\u001b\\\u001b[2m:\u001b[0m\u001b]8;id=702605;file:///Users/runner/work/threeML/threeML/threeML/bayesian/sampler_base.py#178\u001b\\\u001b[2m178\u001b[0m\u001b]8;;\u001b\\\n"
      ]
     },
     "metadata": {},
     "output_type": "display_data"
    },
    {
     "data": {
      "text/html": [
       "<pre style=\"white-space:pre;overflow-x:auto;line-height:normal;font-family:Menlo,'DejaVu Sans Mono',consolas,'Courier New',monospace\"><span style=\"color: #00ffaf; text-decoration-color: #00ffaf; font-weight: bold; text-decoration: underline\">Maximum a posteriori probability (MAP) point:</span>\n",
       "\n",
       "</pre>\n"
      ],
      "text/plain": [
       "\u001b[1;4;38;5;49mMaximum a posteriori probability \u001b[0m\u001b[1;4;38;5;49m(\u001b[0m\u001b[1;4;38;5;49mMAP\u001b[0m\u001b[1;4;38;5;49m)\u001b[0m\u001b[1;4;38;5;49m point:\u001b[0m\n",
       "\n"
      ]
     },
     "metadata": {},
     "output_type": "display_data"
    },
    {
     "data": {
      "text/html": [
       "<div>\n",
       "<style scoped>\n",
       "    .dataframe tbody tr th:only-of-type {\n",
       "        vertical-align: middle;\n",
       "    }\n",
       "\n",
       "    .dataframe tbody tr th {\n",
       "        vertical-align: top;\n",
       "    }\n",
       "\n",
       "    .dataframe thead th {\n",
       "        text-align: right;\n",
       "    }\n",
       "</style>\n",
       "<table border=\"1\" class=\"dataframe\">\n",
       "  <thead>\n",
       "    <tr style=\"text-align: right;\">\n",
       "      <th></th>\n",
       "      <th>result</th>\n",
       "      <th>unit</th>\n",
       "    </tr>\n",
       "    <tr>\n",
       "      <th>parameter</th>\n",
       "      <th></th>\n",
       "      <th></th>\n",
       "    </tr>\n",
       "  </thead>\n",
       "  <tbody>\n",
       "    <tr>\n",
       "      <th>PSR_J0534p2200...K</th>\n",
       "      <td>(2.526 -0.14 +0.031) x 10^-13</td>\n",
       "      <td>1 / (cm2 keV s)</td>\n",
       "    </tr>\n",
       "    <tr>\n",
       "      <th>PSR_J0534p2200...index</th>\n",
       "      <td>-1.7680 -0.05 +0.0030</td>\n",
       "      <td></td>\n",
       "    </tr>\n",
       "    <tr>\n",
       "      <th>NVSS_J052622p224801.spectrum.main.Powerlaw.K</th>\n",
       "      <td>(0.000 +0.012 +1.2) x 10^-16</td>\n",
       "      <td>1 / (cm2 keV s)</td>\n",
       "    </tr>\n",
       "    <tr>\n",
       "      <th>LAT_galdiff_Prefactor</th>\n",
       "      <td>(9.40 -0.27 +0.11) x 10^-1</td>\n",
       "      <td></td>\n",
       "    </tr>\n",
       "  </tbody>\n",
       "</table>\n",
       "</div>"
      ],
      "text/plain": [
       "                                                                     result  \\\n",
       "parameter                                                                     \n",
       "PSR_J0534p2200...K                            (2.526 -0.14 +0.031) x 10^-13   \n",
       "PSR_J0534p2200...index                                -1.7680 -0.05 +0.0030   \n",
       "NVSS_J052622p224801.spectrum.main.Powerlaw.K   (0.000 +0.012 +1.2) x 10^-16   \n",
       "LAT_galdiff_Prefactor                            (9.40 -0.27 +0.11) x 10^-1   \n",
       "\n",
       "                                                         unit  \n",
       "parameter                                                      \n",
       "PSR_J0534p2200...K                            1 / (cm2 keV s)  \n",
       "PSR_J0534p2200...index                                         \n",
       "NVSS_J052622p224801.spectrum.main.Powerlaw.K  1 / (cm2 keV s)  \n",
       "LAT_galdiff_Prefactor                                          "
      ]
     },
     "metadata": {},
     "output_type": "display_data"
    },
    {
     "data": {
      "text/html": [
       "<pre style=\"white-space:pre;overflow-x:auto;line-height:normal;font-family:Menlo,'DejaVu Sans Mono',consolas,'Courier New',monospace\">\n",
       "<span style=\"color: #00ffaf; text-decoration-color: #00ffaf; font-weight: bold; text-decoration: underline\">Values of -log(posterior) at the minimum:</span>\n",
       "\n",
       "</pre>\n"
      ],
      "text/plain": [
       "\n",
       "\u001b[1;4;38;5;49mValues of -\u001b[0m\u001b[1;4;38;5;49mlog\u001b[0m\u001b[1;4;38;5;49m(\u001b[0m\u001b[1;4;38;5;49mposterior\u001b[0m\u001b[1;4;38;5;49m)\u001b[0m\u001b[1;4;38;5;49m at the minimum:\u001b[0m\n",
       "\n"
      ]
     },
     "metadata": {},
     "output_type": "display_data"
    },
    {
     "data": {
      "text/html": [
       "<div>\n",
       "<style scoped>\n",
       "    .dataframe tbody tr th:only-of-type {\n",
       "        vertical-align: middle;\n",
       "    }\n",
       "\n",
       "    .dataframe tbody tr th {\n",
       "        vertical-align: top;\n",
       "    }\n",
       "\n",
       "    .dataframe thead th {\n",
       "        text-align: right;\n",
       "    }\n",
       "</style>\n",
       "<table border=\"1\" class=\"dataframe\">\n",
       "  <thead>\n",
       "    <tr style=\"text-align: right;\">\n",
       "      <th></th>\n",
       "      <th>-log(posterior)</th>\n",
       "    </tr>\n",
       "  </thead>\n",
       "  <tbody>\n",
       "    <tr>\n",
       "      <th>LAT</th>\n",
       "      <td>-118001.117639</td>\n",
       "    </tr>\n",
       "    <tr>\n",
       "      <th>total</th>\n",
       "      <td>-118001.117639</td>\n",
       "    </tr>\n",
       "  </tbody>\n",
       "</table>\n",
       "</div>"
      ],
      "text/plain": [
       "       -log(posterior)\n",
       "LAT     -118001.117639\n",
       "total   -118001.117639"
      ]
     },
     "metadata": {},
     "output_type": "display_data"
    },
    {
     "data": {
      "text/html": [
       "<pre style=\"white-space:pre;overflow-x:auto;line-height:normal;font-family:Menlo,'DejaVu Sans Mono',consolas,'Courier New',monospace\">\n",
       "<span style=\"color: #00ffaf; text-decoration-color: #00ffaf; font-weight: bold; text-decoration: underline\">Values of statistical measures:</span>\n",
       "\n",
       "</pre>\n"
      ],
      "text/plain": [
       "\n",
       "\u001b[1;4;38;5;49mValues of statistical measures:\u001b[0m\n",
       "\n"
      ]
     },
     "metadata": {},
     "output_type": "display_data"
    },
    {
     "data": {
      "text/html": [
       "<div>\n",
       "<style scoped>\n",
       "    .dataframe tbody tr th:only-of-type {\n",
       "        vertical-align: middle;\n",
       "    }\n",
       "\n",
       "    .dataframe tbody tr th {\n",
       "        vertical-align: top;\n",
       "    }\n",
       "\n",
       "    .dataframe thead th {\n",
       "        text-align: right;\n",
       "    }\n",
       "</style>\n",
       "<table border=\"1\" class=\"dataframe\">\n",
       "  <thead>\n",
       "    <tr style=\"text-align: right;\">\n",
       "      <th></th>\n",
       "      <th>statistical measures</th>\n",
       "    </tr>\n",
       "  </thead>\n",
       "  <tbody>\n",
       "    <tr>\n",
       "      <th>AIC</th>\n",
       "      <td>236010.235421</td>\n",
       "    </tr>\n",
       "    <tr>\n",
       "      <th>BIC</th>\n",
       "      <td>236052.405458</td>\n",
       "    </tr>\n",
       "    <tr>\n",
       "      <th>DIC</th>\n",
       "      <td>236018.582696</td>\n",
       "    </tr>\n",
       "    <tr>\n",
       "      <th>PDIC</th>\n",
       "      <td>1.936915</td>\n",
       "    </tr>\n",
       "  </tbody>\n",
       "</table>\n",
       "</div>"
      ],
      "text/plain": [
       "      statistical measures\n",
       "AIC          236010.235421\n",
       "BIC          236052.405458\n",
       "DIC          236018.582696\n",
       "PDIC              1.936915"
      ]
     },
     "metadata": {},
     "output_type": "display_data"
    }
   ],
   "source": [
    "bayes.set_sampler(\"emcee\")\n",
    "\n",
    "n_walkers = 10\n",
    "burn_in = 10\n",
    "n_samples = 500\n",
    "\n",
    "bayes.sampler.setup(n_iterations=n_samples, n_burn_in=burn_in, n_walkers=n_walkers)\n",
    "\n",
    "res = bayes.sample()"
   ]
  },
  {
   "cell_type": "markdown",
   "id": "01f9f056",
   "metadata": {},
   "source": [
    "You can access to the parameter range like this (HPD):"
   ]
  },
  {
   "cell_type": "code",
   "execution_count": 31,
   "id": "323e6f43",
   "metadata": {
    "execution": {
     "iopub.execute_input": "2024-02-03T20:01:46.294571Z",
     "iopub.status.busy": "2024-02-03T20:01:46.294189Z",
     "iopub.status.idle": "2024-02-03T20:01:46.315198Z",
     "shell.execute_reply": "2024-02-03T20:01:46.313904Z"
    }
   },
   "outputs": [
    {
     "name": "stdout",
     "output_type": "stream",
     "text": [
      "Highest_posterior_density_intervals :\n",
      "K (68%):       2.40e-13,  2.57e-13\n",
      "K (95%):       2.28e-13,  2.61e-13\n",
      "Index (68%):  -1.82e+00, -1.76e+00\n",
      "Index (95%):  -1.84e+00, -1.74e+00\n"
     ]
    }
   ],
   "source": [
    "this_K = bayes.results.get_variates(\n",
    "    \"PSR_J0534p2200.spectrum.main.Super_cutoff_powerlaw.K\"\n",
    ")\n",
    "this_idx = bayes.results.get_variates(\n",
    "    \"PSR_J0534p2200.spectrum.main.Super_cutoff_powerlaw.index\"\n",
    ")\n",
    "\n",
    "print(\"Highest_posterior_density_intervals :\")\n",
    "print(\n",
    "    \"K (68%%):     %10.2e,%10.2e\" % this_K.highest_posterior_density_interval(cl=0.68)\n",
    ")\n",
    "print(\n",
    "    \"K (95%%):     %10.2e,%10.2e\" % this_K.highest_posterior_density_interval(cl=0.95)\n",
    ")\n",
    "print(\n",
    "    \"Index (68%%): %10.2e,%10.2e\" % this_idx.highest_posterior_density_interval(cl=0.68)\n",
    ")\n",
    "print(\n",
    "    \"Index (95%%): %10.2e,%10.2e\" % this_idx.highest_posterior_density_interval(cl=0.95)\n",
    ")"
   ]
  },
  {
   "cell_type": "code",
   "execution_count": 32,
   "id": "cebbaa4f",
   "metadata": {
    "execution": {
     "iopub.execute_input": "2024-02-03T20:01:46.320560Z",
     "iopub.status.busy": "2024-02-03T20:01:46.320223Z",
     "iopub.status.idle": "2024-02-03T20:01:47.135659Z",
     "shell.execute_reply": "2024-02-03T20:01:47.134544Z"
    }
   },
   "outputs": [
    {
     "data": {
      "image/png": "[encoded data removed]",
      "text/plain": [
       "<Figure size 970x970 with 16 Axes>"
      ]
     },
     "execution_count": 32,
     "metadata": {},
     "output_type": "execute_result"
    }
   ],
   "source": [
    "corner_figure = bayes.results.corner_plot()\n",
    "corner_figure"
   ]
  },
  {
   "cell_type": "code",
   "execution_count": null,
   "id": "b34fcdd8",
   "metadata": {},
   "outputs": [],
   "source": []
  }
 ],
 "metadata": {
  "jupytext": {
   "formats": "ipynb,md"
  },
  "kernelspec": {
   "display_name": "Python 3 (ipykernel)",
   "language": "python",
   "name": "python3"
  },
  "language_info": {
   "codemirror_mode": {
    "name": "ipython",
    "version": 3
   },
   "file_extension": ".py",
   "mimetype": "text/x-python",
   "name": "python",
   "nbconvert_exporter": "python",
   "pygments_lexer": "ipython3",
   "version": "3.9.13"
  },
  "widgets": {
   "application/vnd.jupyter.widget-state+json": {
    "state": {
     "005db0f3267e4a0c835c50cbb1b90221": {
      "model_module": "@jupyter-widgets/controls",
      "model_module_version": "2.0.0",
      "model_name": "HBoxModel",
      "state": {
       "_dom_classes": [],
       "_model_module": "@jupyter-widgets/controls",
       "_model_module_version": "2.0.0",
       "_model_name": "HBoxModel",
       "_view_count": null,
       "_view_module": "@jupyter-widgets/controls",
       "_view_module_version": "2.0.0",
       "_view_name": "HBoxView",
       "box_style": "",
       "children": [
        "IPY_MODEL_072021190c2e4a1998ce88ac8ac03784",
        "IPY_MODEL_8a1a4733845c4c8590ed75dd6141c0c5",
        "IPY_MODEL_a466723272d848cfbbb1c8f1490ff030"
       ],
       "layout": "IPY_MODEL_6fa4441da2bd450bb16d8165c8741e9b",
       "tabbable": null,
       "tooltip": null
      }
     },
     "014fd981ffe14dd1b6d701273239d984": {
      "model_module": "@jupyter-widgets/controls",
      "model_module_version": "2.0.0",
      "model_name": "HTMLModel",
      "state": {
       "_dom_classes": [],
       "_model_module": "@jupyter-widgets/controls",
       "_model_module_version": "2.0.0",
       "_model_name": "HTMLModel",
       "_view_count": null,
       "_view_module": "@jupyter-widgets/controls",
       "_view_module_version": "2.0.0",
       "_view_name": "HTMLView",
       "description": "",
       "description_allow_html": false,
       "layout": "IPY_MODEL_042f02780dcf47118e8e742b4815fbcb",
       "placeholder": "​",
       "style": "IPY_MODEL_ce09faa04dc04f8bbbd7a3d366e942b1",
       "tabbable": null,
       "tooltip": null,
       "value": " 10/10 [00:06&lt;00:00,  1.45it/s]"
      }
     },
     "042f02780dcf47118e8e742b4815fbcb": {
      "model_module": "@jupyter-widgets/base",
      "model_module_version": "2.0.0",
      "model_name": "LayoutModel",
      "state": {
       "_model_module": "@jupyter-widgets/base",
       "_model_module_version": "2.0.0",
       "_model_name": "LayoutModel",
       "_view_count": null,
       "_view_module": "@jupyter-widgets/base",
       "_view_module_version": "2.0.0",
       "_view_name": "LayoutView",
       "align_content": null,
       "align_items": null,
       "align_self": null,
       "border_bottom": null,
       "border_left": null,
       "border_right": null,
       "border_top": null,
       "bottom": null,
       "display": null,
       "flex": null,
       "flex_flow": null,
       "grid_area": null,
       "grid_auto_columns": null,
       "grid_auto_flow": null,
       "grid_auto_rows": null,
       "grid_column": null,
       "grid_gap": null,
       "grid_row": null,
       "grid_template_areas": null,
       "grid_template_columns": null,
       "grid_template_rows": null,
       "height": null,
       "justify_content": null,
       "justify_items": null,
       "left": null,
       "margin": null,
       "max_height": null,
       "max_width": null,
       "min_height": null,
       "min_width": null,
       "object_fit": null,
       "object_position": null,
       "order": null,
       "overflow": null,
       "padding": null,
       "right": null,
       "top": null,
       "visibility": null,
       "width": null
      }
     },
     "072021190c2e4a1998ce88ac8ac03784": {
      "model_module": "@jupyter-widgets/controls",
      "model_module_version": "2.0.0",
      "model_name": "HTMLModel",
      "state": {
       "_dom_classes": [],
       "_model_module": "@jupyter-widgets/controls",
       "_model_module_version": "2.0.0",
       "_model_name": "HTMLModel",
       "_view_count": null,
       "_view_module": "@jupyter-widgets/controls",
       "_view_module_version": "2.0.0",
       "_view_name": "HTMLView",
       "description": "",
       "description_allow_html": false,
       "layout": "IPY_MODEL_6ca517ee0c854978935c4af884e1b2bc",
       "placeholder": "​",
       "style": "IPY_MODEL_4b6adcfb6f47442891d3b0db3e0026f4",
       "tabbable": null,
       "tooltip": null,
       "value": "Profiling likelihood: 100%"
      }
     },
     "17fed49fd9fd4b17a29287f8214e95b2": {
      "model_module": "@jupyter-widgets/controls",
      "model_module_version": "2.0.0",
      "model_name": "HTMLModel",
      "state": {
       "_dom_classes": [],
       "_model_module": "@jupyter-widgets/controls",
       "_model_module_version": "2.0.0",
       "_model_name": "HTMLModel",
       "_view_count": null,
       "_view_module": "@jupyter-widgets/controls",
       "_view_module_version": "2.0.0",
       "_view_name": "HTMLView",
       "description": "",
       "description_allow_html": false,
       "layout": "IPY_MODEL_facdbf1b2c814c7cabfc38eea6803e0e",
       "placeholder": "​",
       "style": "IPY_MODEL_1cb161d9c0104f46b2eef323c2c4b5d0",
       "tabbable": null,
       "tooltip": null,
       "value": " 11.9M/11.9M [00:06&lt;00:00, 1.98MB/s]"
      }
     },
     "1cb161d9c0104f46b2eef323c2c4b5d0": {
      "model_module": "@jupyter-widgets/controls",
      "model_module_version": "2.0.0",
      "model_name": "HTMLStyleModel",
      "state": {
       "_model_module": "@jupyter-widgets/controls",
       "_model_module_version": "2.0.0",
       "_model_name": "HTMLStyleModel",
       "_view_count": null,
       "_view_module": "@jupyter-widgets/base",
       "_view_module_version": "2.0.0",
       "_view_name": "StyleView",
       "background": null,
       "description_width": "",
       "font_size": null,
       "text_color": null
      }
     },
     "238d92d28f63437f9c9282ff6f025e51": {
      "model_module": "@jupyter-widgets/controls",
      "model_module_version": "2.0.0",
      "model_name": "FloatProgressModel",
      "state": {
       "_dom_classes": [],
       "_model_module": "@jupyter-widgets/controls",
       "_model_module_version": "2.0.0",
       "_model_name": "FloatProgressModel",
       "_view_count": null,
       "_view_module": "@jupyter-widgets/controls",
       "_view_module_version": "2.0.0",
       "_view_name": "ProgressView",
       "bar_style": "success",
       "description": "",
       "description_allow_html": false,
       "layout": "IPY_MODEL_64dea5c55b7440859deed998bd6db29f",
       "max": 17087040.0,
       "min": 0.0,
       "orientation": "horizontal",
       "style": "IPY_MODEL_b0ad5b30caf1473eb1dc5e15f1224aaa",
       "tabbable": null,
       "tooltip": null,
       "value": 17087040.0
      }
     },
     "251021efa97f4f38a12f0d5233a5c55e": {
      "model_module": "@jupyter-widgets/controls",
      "model_module_version": "2.0.0",
      "model_name": "HBoxModel",
      "state": {
       "_dom_classes": [],
       "_model_module": "@jupyter-widgets/controls",
       "_model_module_version": "2.0.0",
       "_model_name": "HBoxModel",
       "_view_count": null,
       "_view_module": "@jupyter-widgets/controls",
       "_view_module_version": "2.0.0",
       "_view_name": "HBoxView",
       "box_style": "",
       "children": [
        "IPY_MODEL_e3f756a2b6a349ce811bcd067141745d",
        "IPY_MODEL_f7f5b08dadcf400887394a86839dad5c",
        "IPY_MODEL_393db3520a924eadbdecdde81783c4a8"
       ],
       "layout": "IPY_MODEL_8a593010834c477da75df57140bbc103",
       "tabbable": null,
       "tooltip": null
      }
     },
     "28a3624033314e12b5ef44ffbf3c6d55": {
      "model_module": "@jupyter-widgets/controls",
      "model_module_version": "2.0.0",
      "model_name": "HTMLStyleModel",
      "state": {
       "_model_module": "@jupyter-widgets/controls",
       "_model_module_version": "2.0.0",
       "_model_name": "HTMLStyleModel",
       "_view_count": null,
       "_view_module": "@jupyter-widgets/base",
       "_view_module_version": "2.0.0",
       "_view_name": "StyleView",
       "background": null,
       "description_width": "",
       "font_size": null,
       "text_color": null
      }
     },
     "302cc87ef24244638b0c14e34634ed75": {
      "model_module": "@jupyter-widgets/base",
      "model_module_version": "2.0.0",
      "model_name": "LayoutModel",
      "state": {
       "_model_module": "@jupyter-widgets/base",
       "_model_module_version": "2.0.0",
       "_model_name": "LayoutModel",
       "_view_count": null,
       "_view_module": "@jupyter-widgets/base",
       "_view_module_version": "2.0.0",
       "_view_name": "LayoutView",
       "align_content": null,
       "align_items": null,
       "align_self": null,
       "border_bottom": null,
       "border_left": null,
       "border_right": null,
       "border_top": null,
       "bottom": null,
       "display": null,
       "flex": "2",
       "flex_flow": null,
       "grid_area": null,
       "grid_auto_columns": null,
       "grid_auto_flow": null,
       "grid_auto_rows": null,
       "grid_column": null,
       "grid_gap": null,
       "grid_row": null,
       "grid_template_areas": null,
       "grid_template_columns": null,
       "grid_template_rows": null,
       "height": null,
       "justify_content": null,
       "justify_items": null,
       "left": null,
       "margin": null,
       "max_height": null,
       "max_width": null,
       "min_height": null,
       "min_width": null,
       "object_fit": null,
       "object_position": null,
       "order": null,
       "overflow": null,
       "padding": null,
       "right": null,
       "top": null,
       "visibility": null,
       "width": null
      }
     },
     "33e737808c414a8b84344645fb20e90b": {
      "model_module": "@jupyter-widgets/base",
      "model_module_version": "2.0.0",
      "model_name": "LayoutModel",
      "state": {
       "_model_module": "@jupyter-widgets/base",
       "_model_module_version": "2.0.0",
       "_model_name": "LayoutModel",
       "_view_count": null,
       "_view_module": "@jupyter-widgets/base",
       "_view_module_version": "2.0.0",
       "_view_name": "LayoutView",
       "align_content": null,
       "align_items": null,
       "align_self": null,
       "border_bottom": null,
       "border_left": null,
       "border_right": null,
       "border_top": null,
       "bottom": null,
       "display": null,
       "flex": null,
       "flex_flow": null,
       "grid_area": null,
       "grid_auto_columns": null,
       "grid_auto_flow": null,
       "grid_auto_rows": null,
       "grid_column": null,
       "grid_gap": null,
       "grid_row": null,
       "grid_template_areas": null,
       "grid_template_columns": null,
       "grid_template_rows": null,
       "height": null,
       "justify_content": null,
       "justify_items": null,
       "left": null,
       "margin": null,
       "max_height": null,
       "max_width": null,
       "min_height": null,
       "min_width": null,
       "object_fit": null,
       "object_position": null,
       "order": null,
       "overflow": null,
       "padding": null,
       "right": null,
       "top": null,
       "visibility": null,
       "width": null
      }
     },
     "3632a138503f45f783ff606216174cd6": {
      "model_module": "@jupyter-widgets/controls",
      "model_module_version": "2.0.0",
      "model_name": "HTMLStyleModel",
      "state": {
       "_model_module": "@jupyter-widgets/controls",
       "_model_module_version": "2.0.0",
       "_model_name": "HTMLStyleModel",
       "_view_count": null,
       "_view_module": "@jupyter-widgets/base",
       "_view_module_version": "2.0.0",
       "_view_name": "StyleView",
       "background": null,
       "description_width": "",
       "font_size": null,
       "text_color": null
      }
     },
     "380ee2e6690f4055a29b977bb7c8330e": {
      "model_module": "@jupyter-widgets/controls",
      "model_module_version": "2.0.0",
      "model_name": "HBoxModel",
      "state": {
       "_dom_classes": [],
       "_model_module": "@jupyter-widgets/controls",
       "_model_module_version": "2.0.0",
       "_model_name": "HBoxModel",
       "_view_count": null,
       "_view_module": "@jupyter-widgets/controls",
       "_view_module_version": "2.0.0",
       "_view_name": "HBoxView",
       "box_style": "",
       "children": [
        "IPY_MODEL_ab5f7532474d4412ac8f352cb86aa6e0",
        "IPY_MODEL_9d0e2204011d4a10a53bcd7d0fab29a4",
        "IPY_MODEL_014fd981ffe14dd1b6d701273239d984"
       ],
       "layout": "IPY_MODEL_e581aa56b8ed420886b26d1b151c7e3d",
       "tabbable": null,
       "tooltip": null
      }
     },
     "393db3520a924eadbdecdde81783c4a8": {
      "model_module": "@jupyter-widgets/controls",
      "model_module_version": "2.0.0",
      "model_name": "HTMLModel",
      "state": {
       "_dom_classes": [],
       "_model_module": "@jupyter-widgets/controls",
       "_model_module_version": "2.0.0",
       "_model_name": "HTMLModel",
       "_view_count": null,
       "_view_module": "@jupyter-widgets/controls",
       "_view_module_version": "2.0.0",
       "_view_name": "HTMLView",
       "description": "",
       "description_allow_html": false,
       "layout": "IPY_MODEL_7f2f3fefb0f64842a9a8a87927aa4c1f",
       "placeholder": "​",
       "style": "IPY_MODEL_972612ffb99d4a65935720b8112339b6",
       "tabbable": null,
       "tooltip": null,
       "value": " 500/500 [05:02&lt;00:00,  1.12it/s]"
      }
     },
     "3d888a362eab48108fae2947ea51415d": {
      "model_module": "@jupyter-widgets/base",
      "model_module_version": "2.0.0",
      "model_name": "LayoutModel",
      "state": {
       "_model_module": "@jupyter-widgets/base",
       "_model_module_version": "2.0.0",
       "_model_name": "LayoutModel",
       "_view_count": null,
       "_view_module": "@jupyter-widgets/base",
       "_view_module_version": "2.0.0",
       "_view_name": "LayoutView",
       "align_content": null,
       "align_items": null,
       "align_self": null,
       "border_bottom": null,
       "border_left": null,
       "border_right": null,
       "border_top": null,
       "bottom": null,
       "display": null,
       "flex": null,
       "flex_flow": null,
       "grid_area": null,
       "grid_auto_columns": null,
       "grid_auto_flow": null,
       "grid_auto_rows": null,
       "grid_column": null,
       "grid_gap": null,
       "grid_row": null,
       "grid_template_areas": null,
       "grid_template_columns": null,
       "grid_template_rows": null,
       "height": null,
       "justify_content": null,
       "justify_items": null,
       "left": null,
       "margin": null,
       "max_height": null,
       "max_width": null,
       "min_height": null,
       "min_width": null,
       "object_fit": null,
       "object_position": null,
       "order": null,
       "overflow": null,
       "padding": null,
       "right": null,
       "top": null,
       "visibility": null,
       "width": null
      }
     },
     "439cb8577ea04c818e50d0f2926ebb50": {
      "model_module": "@jupyter-widgets/controls",
      "model_module_version": "2.0.0",
      "model_name": "ProgressStyleModel",
      "state": {
       "_model_module": "@jupyter-widgets/controls",
       "_model_module_version": "2.0.0",
       "_model_name": "ProgressStyleModel",
       "_view_count": null,
       "_view_module": "@jupyter-widgets/base",
       "_view_module_version": "2.0.0",
       "_view_name": "StyleView",
       "bar_color": "#277f8e",
       "description_width": ""
      }
     },
     "45b31bccc89840aba76c0b578eb1ce24": {
      "model_module": "@jupyter-widgets/controls",
      "model_module_version": "2.0.0",
      "model_name": "HBoxModel",
      "state": {
       "_dom_classes": [],
       "_model_module": "@jupyter-widgets/controls",
       "_model_module_version": "2.0.0",
       "_model_name": "HBoxModel",
       "_view_count": null,
       "_view_module": "@jupyter-widgets/controls",
       "_view_module_version": "2.0.0",
       "_view_name": "HBoxView",
       "box_style": "",
       "children": [
        "IPY_MODEL_6a2e338b2e4a4d4babb608b9e5f4c4b6",
        "IPY_MODEL_4ad6d0b560b64bc19cc468e7e0d5f1b8",
        "IPY_MODEL_17fed49fd9fd4b17a29287f8214e95b2"
       ],
       "layout": "IPY_MODEL_b6b7c55a41c1428e9b8c43dba0f9565b",
       "tabbable": null,
       "tooltip": null
      }
     },
     "4ad6d0b560b64bc19cc468e7e0d5f1b8": {
      "model_module": "@jupyter-widgets/controls",
      "model_module_version": "2.0.0",
      "model_name": "FloatProgressModel",
      "state": {
       "_dom_classes": [],
       "_model_module": "@jupyter-widgets/controls",
       "_model_module_version": "2.0.0",
       "_model_name": "FloatProgressModel",
       "_view_count": null,
       "_view_module": "@jupyter-widgets/controls",
       "_view_module_version": "2.0.0",
       "_view_name": "ProgressView",
       "bar_style": "success",
       "description": "",
       "description_allow_html": false,
       "layout": "IPY_MODEL_ba83aeee53b5437c9cb0878a1bff29f8",
       "max": 12427200.0,
       "min": 0.0,
       "orientation": "horizontal",
       "style": "IPY_MODEL_587a67dc9d204a0f87d58592af4c8bb7",
       "tabbable": null,
       "tooltip": null,
       "value": 12427200.0
      }
     },
     "4b6adcfb6f47442891d3b0db3e0026f4": {
      "model_module": "@jupyter-widgets/controls",
      "model_module_version": "2.0.0",
      "model_name": "HTMLStyleModel",
      "state": {
       "_model_module": "@jupyter-widgets/controls",
       "_model_module_version": "2.0.0",
       "_model_name": "HTMLStyleModel",
       "_view_count": null,
       "_view_module": "@jupyter-widgets/base",
       "_view_module_version": "2.0.0",
       "_view_name": "StyleView",
       "background": null,
       "description_width": "",
       "font_size": null,
       "text_color": null
      }
     },
     "4c367ab6e528432a990a25c486ded720": {
      "model_module": "@jupyter-widgets/base",
      "model_module_version": "2.0.0",
      "model_name": "LayoutModel",
      "state": {
       "_model_module": "@jupyter-widgets/base",
       "_model_module_version": "2.0.0",
       "_model_name": "LayoutModel",
       "_view_count": null,
       "_view_module": "@jupyter-widgets/base",
       "_view_module_version": "2.0.0",
       "_view_name": "LayoutView",
       "align_content": null,
       "align_items": null,
       "align_self": null,
       "border_bottom": null,
       "border_left": null,
       "border_right": null,
       "border_top": null,
       "bottom": null,
       "display": null,
       "flex": null,
       "flex_flow": null,
       "grid_area": null,
       "grid_auto_columns": null,
       "grid_auto_flow": null,
       "grid_auto_rows": null,
       "grid_column": null,
       "grid_gap": null,
       "grid_row": null,
       "grid_template_areas": null,
       "grid_template_columns": null,
       "grid_template_rows": null,
       "height": null,
       "justify_content": null,
       "justify_items": null,
       "left": null,
       "margin": null,
       "max_height": null,
       "max_width": null,
       "min_height": null,
       "min_width": null,
       "object_fit": null,
       "object_position": null,
       "order": null,
       "overflow": null,
       "padding": null,
       "right": null,
       "top": null,
       "visibility": null,
       "width": null
      }
     },
     "517b81efd758474abc50f9f86108630f": {
      "model_module": "@jupyter-widgets/base",
      "model_module_version": "2.0.0",
      "model_name": "LayoutModel",
      "state": {
       "_model_module": "@jupyter-widgets/base",
       "_model_module_version": "2.0.0",
       "_model_name": "LayoutModel",
       "_view_count": null,
       "_view_module": "@jupyter-widgets/base",
       "_view_module_version": "2.0.0",
       "_view_name": "LayoutView",
       "align_content": null,
       "align_items": null,
       "align_self": null,
       "border_bottom": null,
       "border_left": null,
       "border_right": null,
       "border_top": null,
       "bottom": null,
       "display": "inline-flex",
       "flex": null,
       "flex_flow": "row wrap",
       "grid_area": null,
       "grid_auto_columns": null,
       "grid_auto_flow": null,
       "grid_auto_rows": null,
       "grid_column": null,
       "grid_gap": null,
       "grid_row": null,
       "grid_template_areas": null,
       "grid_template_columns": null,
       "grid_template_rows": null,
       "height": null,
       "justify_content": null,
       "justify_items": null,
       "left": null,
       "margin": null,
       "max_height": null,
       "max_width": null,
       "min_height": null,
       "min_width": null,
       "object_fit": null,
       "object_position": null,
       "order": null,
       "overflow": null,
       "padding": null,
       "right": null,
       "top": null,
       "visibility": null,
       "width": "100%"
      }
     },
     "587a67dc9d204a0f87d58592af4c8bb7": {
      "model_module": "@jupyter-widgets/controls",
      "model_module_version": "2.0.0",
      "model_name": "ProgressStyleModel",
      "state": {
       "_model_module": "@jupyter-widgets/controls",
       "_model_module_version": "2.0.0",
       "_model_name": "ProgressStyleModel",
       "_view_count": null,
       "_view_module": "@jupyter-widgets/base",
       "_view_module_version": "2.0.0",
       "_view_name": "StyleView",
       "bar_color": "#46327e",
       "description_width": ""
      }
     },
     "5acc6ea1d4244e5cb1d8d9941122ad0a": {
      "model_module": "@jupyter-widgets/base",
      "model_module_version": "2.0.0",
      "model_name": "LayoutModel",
      "state": {
       "_model_module": "@jupyter-widgets/base",
       "_model_module_version": "2.0.0",
       "_model_name": "LayoutModel",
       "_view_count": null,
       "_view_module": "@jupyter-widgets/base",
       "_view_module_version": "2.0.0",
       "_view_name": "LayoutView",
       "align_content": null,
       "align_items": null,
       "align_self": null,
       "border_bottom": null,
       "border_left": null,
       "border_right": null,
       "border_top": null,
       "bottom": null,
       "display": null,
       "flex": null,
       "flex_flow": null,
       "grid_area": null,
       "grid_auto_columns": null,
       "grid_auto_flow": null,
       "grid_auto_rows": null,
       "grid_column": null,
       "grid_gap": null,
       "grid_row": null,
       "grid_template_areas": null,
       "grid_template_columns": null,
       "grid_template_rows": null,
       "height": null,
       "justify_content": null,
       "justify_items": null,
       "left": null,
       "margin": null,
       "max_height": null,
       "max_width": null,
       "min_height": null,
       "min_width": null,
       "object_fit": null,
       "object_position": null,
       "order": null,
       "overflow": null,
       "padding": null,
       "right": null,
       "top": null,
       "visibility": null,
       "width": null
      }
     },
     "5ae59802a6ee4e488c6a17142f043a95": {
      "model_module": "@jupyter-widgets/controls",
      "model_module_version": "2.0.0",
      "model_name": "HTMLStyleModel",
      "state": {
       "_model_module": "@jupyter-widgets/controls",
       "_model_module_version": "2.0.0",
       "_model_name": "HTMLStyleModel",
       "_view_count": null,
       "_view_module": "@jupyter-widgets/base",
       "_view_module_version": "2.0.0",
       "_view_name": "StyleView",
       "background": null,
       "description_width": "",
       "font_size": null,
       "text_color": null
      }
     },
     "64dea5c55b7440859deed998bd6db29f": {
      "model_module": "@jupyter-widgets/base",
      "model_module_version": "2.0.0",
      "model_name": "LayoutModel",
      "state": {
       "_model_module": "@jupyter-widgets/base",
       "_model_module_version": "2.0.0",
       "_model_name": "LayoutModel",
       "_view_count": null,
       "_view_module": "@jupyter-widgets/base",
       "_view_module_version": "2.0.0",
       "_view_name": "LayoutView",
       "align_content": null,
       "align_items": null,
       "align_self": null,
       "border_bottom": null,
       "border_left": null,
       "border_right": null,
       "border_top": null,
       "bottom": null,
       "display": null,
       "flex": "2",
       "flex_flow": null,
       "grid_area": null,
       "grid_auto_columns": null,
       "grid_auto_flow": null,
       "grid_auto_rows": null,
       "grid_column": null,
       "grid_gap": null,
       "grid_row": null,
       "grid_template_areas": null,
       "grid_template_columns": null,
       "grid_template_rows": null,
       "height": null,
       "justify_content": null,
       "justify_items": null,
       "left": null,
       "margin": null,
       "max_height": null,
       "max_width": null,
       "min_height": null,
       "min_width": null,
       "object_fit": null,
       "object_position": null,
       "order": null,
       "overflow": null,
       "padding": null,
       "right": null,
       "top": null,
       "visibility": null,
       "width": null
      }
     },
     "6a2e338b2e4a4d4babb608b9e5f4c4b6": {
      "model_module": "@jupyter-widgets/controls",
      "model_module_version": "2.0.0",
      "model_name": "HTMLModel",
      "state": {
       "_dom_classes": [],
       "_model_module": "@jupyter-widgets/controls",
       "_model_module_version": "2.0.0",
       "_model_name": "HTMLModel",
       "_view_count": null,
       "_view_module": "@jupyter-widgets/controls",
       "_view_module_version": "2.0.0",
       "_view_name": "HTMLView",
       "description": "",
       "description_allow_html": false,
       "layout": "IPY_MODEL_ae3f6ed6124543f1aefba011a6ec11bb",
       "placeholder": "​",
       "style": "IPY_MODEL_a2f1a0b83b7b4f4898f53c0c12c7cd03",
       "tabbable": null,
       "tooltip": null,
       "value": "Downloading L2402031402324596CEF229_SC00.fits: 100%"
      }
     },
     "6ca517ee0c854978935c4af884e1b2bc": {
      "model_module": "@jupyter-widgets/base",
      "model_module_version": "2.0.0",
      "model_name": "LayoutModel",
      "state": {
       "_model_module": "@jupyter-widgets/base",
       "_model_module_version": "2.0.0",
       "_model_name": "LayoutModel",
       "_view_count": null,
       "_view_module": "@jupyter-widgets/base",
       "_view_module_version": "2.0.0",
       "_view_name": "LayoutView",
       "align_content": null,
       "align_items": null,
       "align_self": null,
       "border_bottom": null,
       "border_left": null,
       "border_right": null,
       "border_top": null,
       "bottom": null,
       "display": null,
       "flex": null,
       "flex_flow": null,
       "grid_area": null,
       "grid_auto_columns": null,
       "grid_auto_flow": null,
       "grid_auto_rows": null,
       "grid_column": null,
       "grid_gap": null,
       "grid_row": null,
       "grid_template_areas": null,
       "grid_template_columns": null,
       "grid_template_rows": null,
       "height": null,
       "justify_content": null,
       "justify_items": null,
       "left": null,
       "margin": null,
       "max_height": null,
       "max_width": null,
       "min_height": null,
       "min_width": null,
       "object_fit": null,
       "object_position": null,
       "order": null,
       "overflow": null,
       "padding": null,
       "right": null,
       "top": null,
       "visibility": null,
       "width": null
      }
     },
     "6fa4441da2bd450bb16d8165c8741e9b": {
      "model_module": "@jupyter-widgets/base",
      "model_module_version": "2.0.0",
      "model_name": "LayoutModel",
      "state": {
       "_model_module": "@jupyter-widgets/base",
       "_model_module_version": "2.0.0",
       "_model_name": "LayoutModel",
       "_view_count": null,
       "_view_module": "@jupyter-widgets/base",
       "_view_module_version": "2.0.0",
       "_view_name": "LayoutView",
       "align_content": null,
       "align_items": null,
       "align_self": null,
       "border_bottom": null,
       "border_left": null,
       "border_right": null,
       "border_top": null,
       "bottom": null,
       "display": "inline-flex",
       "flex": null,
       "flex_flow": "row wrap",
       "grid_area": null,
       "grid_auto_columns": null,
       "grid_auto_flow": null,
       "grid_auto_rows": null,
       "grid_column": null,
       "grid_gap": null,
       "grid_row": null,
       "grid_template_areas": null,
       "grid_template_columns": null,
       "grid_template_rows": null,
       "height": null,
       "justify_content": null,
       "justify_items": null,
       "left": null,
       "margin": null,
       "max_height": null,
       "max_width": null,
       "min_height": null,
       "min_width": null,
       "object_fit": null,
       "object_position": null,
       "order": null,
       "overflow": null,
       "padding": null,
       "right": null,
       "top": null,
       "visibility": null,
       "width": "100%"
      }
     },
     "7173b3a9b4a140c7bfa2d1fc6a9bac94": {
      "model_module": "@jupyter-widgets/controls",
      "model_module_version": "2.0.0",
      "model_name": "FloatProgressModel",
      "state": {
       "_dom_classes": [],
       "_model_module": "@jupyter-widgets/controls",
       "_model_module_version": "2.0.0",
       "_model_name": "FloatProgressModel",
       "_view_count": null,
       "_view_module": "@jupyter-widgets/controls",
       "_view_module_version": "2.0.0",
       "_view_name": "ProgressView",
       "bar_style": "success",
       "description": "",
       "description_allow_html": false,
       "layout": "IPY_MODEL_f11dc1f905ee4f7c83f6782335756454",
       "max": 400.0,
       "min": 0.0,
       "orientation": "horizontal",
       "style": "IPY_MODEL_439cb8577ea04c818e50d0f2926ebb50",
       "tabbable": null,
       "tooltip": null,
       "value": 400.0
      }
     },
     "725d8a559b9b4fbca97dc145900806b4": {
      "model_module": "@jupyter-widgets/base",
      "model_module_version": "2.0.0",
      "model_name": "LayoutModel",
      "state": {
       "_model_module": "@jupyter-widgets/base",
       "_model_module_version": "2.0.0",
       "_model_name": "LayoutModel",
       "_view_count": null,
       "_view_module": "@jupyter-widgets/base",
       "_view_module_version": "2.0.0",
       "_view_name": "LayoutView",
       "align_content": null,
       "align_items": null,
       "align_self": null,
       "border_bottom": null,
       "border_left": null,
       "border_right": null,
       "border_top": null,
       "bottom": null,
       "display": null,
       "flex": null,
       "flex_flow": null,
       "grid_area": null,
       "grid_auto_columns": null,
       "grid_auto_flow": null,
       "grid_auto_rows": null,
       "grid_column": null,
       "grid_gap": null,
       "grid_row": null,
       "grid_template_areas": null,
       "grid_template_columns": null,
       "grid_template_rows": null,
       "height": null,
       "justify_content": null,
       "justify_items": null,
       "left": null,
       "margin": null,
       "max_height": null,
       "max_width": null,
       "min_height": null,
       "min_width": null,
       "object_fit": null,
       "object_position": null,
       "order": null,
       "overflow": null,
       "padding": null,
       "right": null,
       "top": null,
       "visibility": null,
       "width": null
      }
     },
     "747f87a6a10d4fb48e45246f6f57d097": {
      "model_module": "@jupyter-widgets/controls",
      "model_module_version": "2.0.0",
      "model_name": "HTMLModel",
      "state": {
       "_dom_classes": [],
       "_model_module": "@jupyter-widgets/controls",
       "_model_module_version": "2.0.0",
       "_model_name": "HTMLModel",
       "_view_count": null,
       "_view_module": "@jupyter-widgets/controls",
       "_view_module_version": "2.0.0",
       "_view_name": "HTMLView",
       "description": "",
       "description_allow_html": false,
       "layout": "IPY_MODEL_5acc6ea1d4244e5cb1d8d9941122ad0a",
       "placeholder": "​",
       "style": "IPY_MODEL_9bbea2a454844cf0876c87557c9a77dd",
       "tabbable": null,
       "tooltip": null,
       "value": " 16.3M/16.3M [00:08&lt;00:00, 2.00MB/s]"
      }
     },
     "7d46af5dc3414921b582dbf7e107a3cf": {
      "model_module": "@jupyter-widgets/base",
      "model_module_version": "2.0.0",
      "model_name": "LayoutModel",
      "state": {
       "_model_module": "@jupyter-widgets/base",
       "_model_module_version": "2.0.0",
       "_model_name": "LayoutModel",
       "_view_count": null,
       "_view_module": "@jupyter-widgets/base",
       "_view_module_version": "2.0.0",
       "_view_name": "LayoutView",
       "align_content": null,
       "align_items": null,
       "align_self": null,
       "border_bottom": null,
       "border_left": null,
       "border_right": null,
       "border_top": null,
       "bottom": null,
       "display": null,
       "flex": null,
       "flex_flow": null,
       "grid_area": null,
       "grid_auto_columns": null,
       "grid_auto_flow": null,
       "grid_auto_rows": null,
       "grid_column": null,
       "grid_gap": null,
       "grid_row": null,
       "grid_template_areas": null,
       "grid_template_columns": null,
       "grid_template_rows": null,
       "height": null,
       "justify_content": null,
       "justify_items": null,
       "left": null,
       "margin": null,
       "max_height": null,
       "max_width": null,
       "min_height": null,
       "min_width": null,
       "object_fit": null,
       "object_position": null,
       "order": null,
       "overflow": null,
       "padding": null,
       "right": null,
       "top": null,
       "visibility": null,
       "width": null
      }
     },
     "7f2f3fefb0f64842a9a8a87927aa4c1f": {
      "model_module": "@jupyter-widgets/base",
      "model_module_version": "2.0.0",
      "model_name": "LayoutModel",
      "state": {
       "_model_module": "@jupyter-widgets/base",
       "_model_module_version": "2.0.0",
       "_model_name": "LayoutModel",
       "_view_count": null,
       "_view_module": "@jupyter-widgets/base",
       "_view_module_version": "2.0.0",
       "_view_name": "LayoutView",
       "align_content": null,
       "align_items": null,
       "align_self": null,
       "border_bottom": null,
       "border_left": null,
       "border_right": null,
       "border_top": null,
       "bottom": null,
       "display": null,
       "flex": null,
       "flex_flow": null,
       "grid_area": null,
       "grid_auto_columns": null,
       "grid_auto_flow": null,
       "grid_auto_rows": null,
       "grid_column": null,
       "grid_gap": null,
       "grid_row": null,
       "grid_template_areas": null,
       "grid_template_columns": null,
       "grid_template_rows": null,
       "height": null,
       "justify_content": null,
       "justify_items": null,
       "left": null,
       "margin": null,
       "max_height": null,
       "max_width": null,
       "min_height": null,
       "min_width": null,
       "object_fit": null,
       "object_position": null,
       "order": null,
       "overflow": null,
       "padding": null,
       "right": null,
       "top": null,
       "visibility": null,
       "width": null
      }
     },
     "8a1a4733845c4c8590ed75dd6141c0c5": {
      "model_module": "@jupyter-widgets/controls",
      "model_module_version": "2.0.0",
      "model_name": "FloatProgressModel",
      "state": {
       "_dom_classes": [],
       "_model_module": "@jupyter-widgets/controls",
       "_model_module_version": "2.0.0",
       "_model_name": "FloatProgressModel",
       "_view_count": null,
       "_view_module": "@jupyter-widgets/controls",
       "_view_module_version": "2.0.0",
       "_view_name": "ProgressView",
       "bar_style": "success",
       "description": "",
       "description_allow_html": false,
       "layout": "IPY_MODEL_302cc87ef24244638b0c14e34634ed75",
       "max": 30.0,
       "min": 0.0,
       "orientation": "horizontal",
       "style": "IPY_MODEL_ebf9f45f5b254b4d976185b6e9c5ee68",
       "tabbable": null,
       "tooltip": null,
       "value": 30.0
      }
     },
     "8a593010834c477da75df57140bbc103": {
      "model_module": "@jupyter-widgets/base",
      "model_module_version": "2.0.0",
      "model_name": "LayoutModel",
      "state": {
       "_model_module": "@jupyter-widgets/base",
       "_model_module_version": "2.0.0",
       "_model_name": "LayoutModel",
       "_view_count": null,
       "_view_module": "@jupyter-widgets/base",
       "_view_module_version": "2.0.0",
       "_view_name": "LayoutView",
       "align_content": null,
       "align_items": null,
       "align_self": null,
       "border_bottom": null,
       "border_left": null,
       "border_right": null,
       "border_top": null,
       "bottom": null,
       "display": null,
       "flex": null,
       "flex_flow": null,
       "grid_area": null,
       "grid_auto_columns": null,
       "grid_auto_flow": null,
       "grid_auto_rows": null,
       "grid_column": null,
       "grid_gap": null,
       "grid_row": null,
       "grid_template_areas": null,
       "grid_template_columns": null,
       "grid_template_rows": null,
       "height": null,
       "justify_content": null,
       "justify_items": null,
       "left": null,
       "margin": null,
       "max_height": null,
       "max_width": null,
       "min_height": null,
       "min_width": null,
       "object_fit": null,
       "object_position": null,
       "order": null,
       "overflow": null,
       "padding": null,
       "right": null,
       "top": null,
       "visibility": null,
       "width": null
      }
     },
     "972612ffb99d4a65935720b8112339b6": {
      "model_module": "@jupyter-widgets/controls",
      "model_module_version": "2.0.0",
      "model_name": "HTMLStyleModel",
      "state": {
       "_model_module": "@jupyter-widgets/controls",
       "_model_module_version": "2.0.0",
       "_model_name": "HTMLStyleModel",
       "_view_count": null,
       "_view_module": "@jupyter-widgets/base",
       "_view_module_version": "2.0.0",
       "_view_name": "StyleView",
       "background": null,
       "description_width": "",
       "font_size": null,
       "text_color": null
      }
     },
     "9bbea2a454844cf0876c87557c9a77dd": {
      "model_module": "@jupyter-widgets/controls",
      "model_module_version": "2.0.0",
      "model_name": "HTMLStyleModel",
      "state": {
       "_model_module": "@jupyter-widgets/controls",
       "_model_module_version": "2.0.0",
       "_model_name": "HTMLStyleModel",
       "_view_count": null,
       "_view_module": "@jupyter-widgets/base",
       "_view_module_version": "2.0.0",
       "_view_name": "StyleView",
       "background": null,
       "description_width": "",
       "font_size": null,
       "text_color": null
      }
     },
     "9d0e2204011d4a10a53bcd7d0fab29a4": {
      "model_module": "@jupyter-widgets/controls",
      "model_module_version": "2.0.0",
      "model_name": "FloatProgressModel",
      "state": {
       "_dom_classes": [],
       "_model_module": "@jupyter-widgets/controls",
       "_model_module_version": "2.0.0",
       "_model_name": "FloatProgressModel",
       "_view_count": null,
       "_view_module": "@jupyter-widgets/controls",
       "_view_module_version": "2.0.0",
       "_view_name": "ProgressView",
       "bar_style": "success",
       "description": "",
       "description_allow_html": false,
       "layout": "IPY_MODEL_e1c3e40a8b10485690144c2436810ad9",
       "max": 10.0,
       "min": 0.0,
       "orientation": "horizontal",
       "style": "IPY_MODEL_f80d0837d0c44d898de12e20369cb3f6",
       "tabbable": null,
       "tooltip": null,
       "value": 10.0
      }
     },
     "9fd2874fa0ad42d3a479eaa05061283a": {
      "model_module": "@jupyter-widgets/controls",
      "model_module_version": "2.0.0",
      "model_name": "HTMLStyleModel",
      "state": {
       "_model_module": "@jupyter-widgets/controls",
       "_model_module_version": "2.0.0",
       "_model_name": "HTMLStyleModel",
       "_view_count": null,
       "_view_module": "@jupyter-widgets/base",
       "_view_module_version": "2.0.0",
       "_view_name": "StyleView",
       "background": null,
       "description_width": "",
       "font_size": null,
       "text_color": null
      }
     },
     "a13e3cbfe6eb45308ccd9b72d1bc11a1": {
      "model_module": "@jupyter-widgets/base",
      "model_module_version": "2.0.0",
      "model_name": "LayoutModel",
      "state": {
       "_model_module": "@jupyter-widgets/base",
       "_model_module_version": "2.0.0",
       "_model_name": "LayoutModel",
       "_view_count": null,
       "_view_module": "@jupyter-widgets/base",
       "_view_module_version": "2.0.0",
       "_view_name": "LayoutView",
       "align_content": null,
       "align_items": null,
       "align_self": null,
       "border_bottom": null,
       "border_left": null,
       "border_right": null,
       "border_top": null,
       "bottom": null,
       "display": "inline-flex",
       "flex": null,
       "flex_flow": "row wrap",
       "grid_area": null,
       "grid_auto_columns": null,
       "grid_auto_flow": null,
       "grid_auto_rows": null,
       "grid_column": null,
       "grid_gap": null,
       "grid_row": null,
       "grid_template_areas": null,
       "grid_template_columns": null,
       "grid_template_rows": null,
       "height": null,
       "justify_content": null,
       "justify_items": null,
       "left": null,
       "margin": null,
       "max_height": null,
       "max_width": null,
       "min_height": null,
       "min_width": null,
       "object_fit": null,
       "object_position": null,
       "order": null,
       "overflow": null,
       "padding": null,
       "right": null,
       "top": null,
       "visibility": null,
       "width": "100%"
      }
     },
     "a2f1a0b83b7b4f4898f53c0c12c7cd03": {
      "model_module": "@jupyter-widgets/controls",
      "model_module_version": "2.0.0",
      "model_name": "HTMLStyleModel",
      "state": {
       "_model_module": "@jupyter-widgets/controls",
       "_model_module_version": "2.0.0",
       "_model_name": "HTMLStyleModel",
       "_view_count": null,
       "_view_module": "@jupyter-widgets/base",
       "_view_module_version": "2.0.0",
       "_view_name": "StyleView",
       "background": null,
       "description_width": "",
       "font_size": null,
       "text_color": null
      }
     },
     "a466723272d848cfbbb1c8f1490ff030": {
      "model_module": "@jupyter-widgets/controls",
      "model_module_version": "2.0.0",
      "model_name": "HTMLModel",
      "state": {
       "_dom_classes": [],
       "_model_module": "@jupyter-widgets/controls",
       "_model_module_version": "2.0.0",
       "_model_name": "HTMLModel",
       "_view_count": null,
       "_view_module": "@jupyter-widgets/controls",
       "_view_module_version": "2.0.0",
       "_view_name": "HTMLView",
       "description": "",
       "description_allow_html": false,
       "layout": "IPY_MODEL_bbe91c77b07c4bdd96add565e9156c7b",
       "placeholder": "​",
       "style": "IPY_MODEL_3632a138503f45f783ff606216174cd6",
       "tabbable": null,
       "tooltip": null,
       "value": " 30/30 [02:40&lt;00:00,  5.78s/it]"
      }
     },
     "ab5f7532474d4412ac8f352cb86aa6e0": {
      "model_module": "@jupyter-widgets/controls",
      "model_module_version": "2.0.0",
      "model_name": "HTMLModel",
      "state": {
       "_dom_classes": [],
       "_model_module": "@jupyter-widgets/controls",
       "_model_module_version": "2.0.0",
       "_model_name": "HTMLModel",
       "_view_count": null,
       "_view_module": "@jupyter-widgets/controls",
       "_view_module_version": "2.0.0",
       "_view_name": "HTMLView",
       "description": "",
       "description_allow_html": false,
       "layout": "IPY_MODEL_4c367ab6e528432a990a25c486ded720",
       "placeholder": "​",
       "style": "IPY_MODEL_f58560d921734ae6b93aa5c83ce8d616",
       "tabbable": null,
       "tooltip": null,
       "value": "100%"
      }
     },
     "ae3f6ed6124543f1aefba011a6ec11bb": {
      "model_module": "@jupyter-widgets/base",
      "model_module_version": "2.0.0",
      "model_name": "LayoutModel",
      "state": {
       "_model_module": "@jupyter-widgets/base",
       "_model_module_version": "2.0.0",
       "_model_name": "LayoutModel",
       "_view_count": null,
       "_view_module": "@jupyter-widgets/base",
       "_view_module_version": "2.0.0",
       "_view_name": "LayoutView",
       "align_content": null,
       "align_items": null,
       "align_self": null,
       "border_bottom": null,
       "border_left": null,
       "border_right": null,
       "border_top": null,
       "bottom": null,
       "display": null,
       "flex": null,
       "flex_flow": null,
       "grid_area": null,
       "grid_auto_columns": null,
       "grid_auto_flow": null,
       "grid_auto_rows": null,
       "grid_column": null,
       "grid_gap": null,
       "grid_row": null,
       "grid_template_areas": null,
       "grid_template_columns": null,
       "grid_template_rows": null,
       "height": null,
       "justify_content": null,
       "justify_items": null,
       "left": null,
       "margin": null,
       "max_height": null,
       "max_width": null,
       "min_height": null,
       "min_width": null,
       "object_fit": null,
       "object_position": null,
       "order": null,
       "overflow": null,
       "padding": null,
       "right": null,
       "top": null,
       "visibility": null,
       "width": null
      }
     },
     "b0ad5b30caf1473eb1dc5e15f1224aaa": {
      "model_module": "@jupyter-widgets/controls",
      "model_module_version": "2.0.0",
      "model_name": "ProgressStyleModel",
      "state": {
       "_model_module": "@jupyter-widgets/controls",
       "_model_module_version": "2.0.0",
       "_model_name": "ProgressStyleModel",
       "_view_count": null,
       "_view_module": "@jupyter-widgets/base",
       "_view_module_version": "2.0.0",
       "_view_name": "StyleView",
       "bar_color": "#440154",
       "description_width": ""
      }
     },
     "b6b7c55a41c1428e9b8c43dba0f9565b": {
      "model_module": "@jupyter-widgets/base",
      "model_module_version": "2.0.0",
      "model_name": "LayoutModel",
      "state": {
       "_model_module": "@jupyter-widgets/base",
       "_model_module_version": "2.0.0",
       "_model_name": "LayoutModel",
       "_view_count": null,
       "_view_module": "@jupyter-widgets/base",
       "_view_module_version": "2.0.0",
       "_view_name": "LayoutView",
       "align_content": null,
       "align_items": null,
       "align_self": null,
       "border_bottom": null,
       "border_left": null,
       "border_right": null,
       "border_top": null,
       "bottom": null,
       "display": "inline-flex",
       "flex": null,
       "flex_flow": "row wrap",
       "grid_area": null,
       "grid_auto_columns": null,
       "grid_auto_flow": null,
       "grid_auto_rows": null,
       "grid_column": null,
       "grid_gap": null,
       "grid_row": null,
       "grid_template_areas": null,
       "grid_template_columns": null,
       "grid_template_rows": null,
       "height": null,
       "justify_content": null,
       "justify_items": null,
       "left": null,
       "margin": null,
       "max_height": null,
       "max_width": null,
       "min_height": null,
       "min_width": null,
       "object_fit": null,
       "object_position": null,
       "order": null,
       "overflow": null,
       "padding": null,
       "right": null,
       "top": null,
       "visibility": null,
       "width": "100%"
      }
     },
     "b8fe7d439d0a4becb3bd3ec33ea417d0": {
      "model_module": "@jupyter-widgets/controls",
      "model_module_version": "2.0.0",
      "model_name": "HTMLStyleModel",
      "state": {
       "_model_module": "@jupyter-widgets/controls",
       "_model_module_version": "2.0.0",
       "_model_name": "HTMLStyleModel",
       "_view_count": null,
       "_view_module": "@jupyter-widgets/base",
       "_view_module_version": "2.0.0",
       "_view_name": "StyleView",
       "background": null,
       "description_width": "",
       "font_size": null,
       "text_color": null
      }
     },
     "ba83aeee53b5437c9cb0878a1bff29f8": {
      "model_module": "@jupyter-widgets/base",
      "model_module_version": "2.0.0",
      "model_name": "LayoutModel",
      "state": {
       "_model_module": "@jupyter-widgets/base",
       "_model_module_version": "2.0.0",
       "_model_name": "LayoutModel",
       "_view_count": null,
       "_view_module": "@jupyter-widgets/base",
       "_view_module_version": "2.0.0",
       "_view_name": "LayoutView",
       "align_content": null,
       "align_items": null,
       "align_self": null,
       "border_bottom": null,
       "border_left": null,
       "border_right": null,
       "border_top": null,
       "bottom": null,
       "display": null,
       "flex": "2",
       "flex_flow": null,
       "grid_area": null,
       "grid_auto_columns": null,
       "grid_auto_flow": null,
       "grid_auto_rows": null,
       "grid_column": null,
       "grid_gap": null,
       "grid_row": null,
       "grid_template_areas": null,
       "grid_template_columns": null,
       "grid_template_rows": null,
       "height": null,
       "justify_content": null,
       "justify_items": null,
       "left": null,
       "margin": null,
       "max_height": null,
       "max_width": null,
       "min_height": null,
       "min_width": null,
       "object_fit": null,
       "object_position": null,
       "order": null,
       "overflow": null,
       "padding": null,
       "right": null,
       "top": null,
       "visibility": null,
       "width": null
      }
     },
     "bbe91c77b07c4bdd96add565e9156c7b": {
      "model_module": "@jupyter-widgets/base",
      "model_module_version": "2.0.0",
      "model_name": "LayoutModel",
      "state": {
       "_model_module": "@jupyter-widgets/base",
       "_model_module_version": "2.0.0",
       "_model_name": "LayoutModel",
       "_view_count": null,
       "_view_module": "@jupyter-widgets/base",
       "_view_module_version": "2.0.0",
       "_view_name": "LayoutView",
       "align_content": null,
       "align_items": null,
       "align_self": null,
       "border_bottom": null,
       "border_left": null,
       "border_right": null,
       "border_top": null,
       "bottom": null,
       "display": null,
       "flex": null,
       "flex_flow": null,
       "grid_area": null,
       "grid_auto_columns": null,
       "grid_auto_flow": null,
       "grid_auto_rows": null,
       "grid_column": null,
       "grid_gap": null,
       "grid_row": null,
       "grid_template_areas": null,
       "grid_template_columns": null,
       "grid_template_rows": null,
       "height": null,
       "justify_content": null,
       "justify_items": null,
       "left": null,
       "margin": null,
       "max_height": null,
       "max_width": null,
       "min_height": null,
       "min_width": null,
       "object_fit": null,
       "object_position": null,
       "order": null,
       "overflow": null,
       "padding": null,
       "right": null,
       "top": null,
       "visibility": null,
       "width": null
      }
     },
     "c1adc55d82544985bdcde8d7dc4eda2a": {
      "model_module": "@jupyter-widgets/controls",
      "model_module_version": "2.0.0",
      "model_name": "HBoxModel",
      "state": {
       "_dom_classes": [],
       "_model_module": "@jupyter-widgets/controls",
       "_model_module_version": "2.0.0",
       "_model_name": "HBoxModel",
       "_view_count": null,
       "_view_module": "@jupyter-widgets/controls",
       "_view_module_version": "2.0.0",
       "_view_name": "HBoxView",
       "box_style": "",
       "children": [
        "IPY_MODEL_dd52646c64c945a6846fd56261a0cf3b",
        "IPY_MODEL_7173b3a9b4a140c7bfa2d1fc6a9bac94",
        "IPY_MODEL_f4260b3d4c8b4d788a3236be170e7204"
       ],
       "layout": "IPY_MODEL_517b81efd758474abc50f9f86108630f",
       "tabbable": null,
       "tooltip": null
      }
     },
     "c56cc3e6e41148b6b6bcf0dfbe336660": {
      "model_module": "@jupyter-widgets/base",
      "model_module_version": "2.0.0",
      "model_name": "LayoutModel",
      "state": {
       "_model_module": "@jupyter-widgets/base",
       "_model_module_version": "2.0.0",
       "_model_name": "LayoutModel",
       "_view_count": null,
       "_view_module": "@jupyter-widgets/base",
       "_view_module_version": "2.0.0",
       "_view_name": "LayoutView",
       "align_content": null,
       "align_items": null,
       "align_self": null,
       "border_bottom": null,
       "border_left": null,
       "border_right": null,
       "border_top": null,
       "bottom": null,
       "display": null,
       "flex": null,
       "flex_flow": null,
       "grid_area": null,
       "grid_auto_columns": null,
       "grid_auto_flow": null,
       "grid_auto_rows": null,
       "grid_column": null,
       "grid_gap": null,
       "grid_row": null,
       "grid_template_areas": null,
       "grid_template_columns": null,
       "grid_template_rows": null,
       "height": null,
       "justify_content": null,
       "justify_items": null,
       "left": null,
       "margin": null,
       "max_height": null,
       "max_width": null,
       "min_height": null,
       "min_width": null,
       "object_fit": null,
       "object_position": null,
       "order": null,
       "overflow": null,
       "padding": null,
       "right": null,
       "top": null,
       "visibility": null,
       "width": null
      }
     },
     "ce09faa04dc04f8bbbd7a3d366e942b1": {
      "model_module": "@jupyter-widgets/controls",
      "model_module_version": "2.0.0",
      "model_name": "HTMLStyleModel",
      "state": {
       "_model_module": "@jupyter-widgets/controls",
       "_model_module_version": "2.0.0",
       "_model_name": "HTMLStyleModel",
       "_view_count": null,
       "_view_module": "@jupyter-widgets/base",
       "_view_module_version": "2.0.0",
       "_view_name": "StyleView",
       "background": null,
       "description_width": "",
       "font_size": null,
       "text_color": null
      }
     },
     "d0e2415f3dde46178b85d79b0a635118": {
      "model_module": "@jupyter-widgets/controls",
      "model_module_version": "2.0.0",
      "model_name": "HTMLModel",
      "state": {
       "_dom_classes": [],
       "_model_module": "@jupyter-widgets/controls",
       "_model_module_version": "2.0.0",
       "_model_name": "HTMLModel",
       "_view_count": null,
       "_view_module": "@jupyter-widgets/controls",
       "_view_module_version": "2.0.0",
       "_view_name": "HTMLView",
       "description": "",
       "description_allow_html": false,
       "layout": "IPY_MODEL_725d8a559b9b4fbca97dc145900806b4",
       "placeholder": "​",
       "style": "IPY_MODEL_b8fe7d439d0a4becb3bd3ec33ea417d0",
       "tabbable": null,
       "tooltip": null,
       "value": "Downloading L2402031402324596CEF229_PH00.fits: 100%"
      }
     },
     "d2570c7f4635458eb0493a38d887fcce": {
      "model_module": "@jupyter-widgets/controls",
      "model_module_version": "2.0.0",
      "model_name": "ProgressStyleModel",
      "state": {
       "_model_module": "@jupyter-widgets/controls",
       "_model_module_version": "2.0.0",
       "_model_name": "ProgressStyleModel",
       "_view_count": null,
       "_view_module": "@jupyter-widgets/base",
       "_view_module_version": "2.0.0",
       "_view_name": "StyleView",
       "bar_color": null,
       "description_width": ""
      }
     },
     "dd52646c64c945a6846fd56261a0cf3b": {
      "model_module": "@jupyter-widgets/controls",
      "model_module_version": "2.0.0",
      "model_name": "HTMLModel",
      "state": {
       "_dom_classes": [],
       "_model_module": "@jupyter-widgets/controls",
       "_model_module_version": "2.0.0",
       "_model_name": "HTMLModel",
       "_view_count": null,
       "_view_module": "@jupyter-widgets/controls",
       "_view_module_version": "2.0.0",
       "_view_name": "HTMLView",
       "description": "",
       "description_allow_html": false,
       "layout": "IPY_MODEL_3d888a362eab48108fae2947ea51415d",
       "placeholder": "​",
       "style": "IPY_MODEL_9fd2874fa0ad42d3a479eaa05061283a",
       "tabbable": null,
       "tooltip": null,
       "value": "Profiling likelihood: 100%"
      }
     },
     "e1c3e40a8b10485690144c2436810ad9": {
      "model_module": "@jupyter-widgets/base",
      "model_module_version": "2.0.0",
      "model_name": "LayoutModel",
      "state": {
       "_model_module": "@jupyter-widgets/base",
       "_model_module_version": "2.0.0",
       "_model_name": "LayoutModel",
       "_view_count": null,
       "_view_module": "@jupyter-widgets/base",
       "_view_module_version": "2.0.0",
       "_view_name": "LayoutView",
       "align_content": null,
       "align_items": null,
       "align_self": null,
       "border_bottom": null,
       "border_left": null,
       "border_right": null,
       "border_top": null,
       "bottom": null,
       "display": null,
       "flex": null,
       "flex_flow": null,
       "grid_area": null,
       "grid_auto_columns": null,
       "grid_auto_flow": null,
       "grid_auto_rows": null,
       "grid_column": null,
       "grid_gap": null,
       "grid_row": null,
       "grid_template_areas": null,
       "grid_template_columns": null,
       "grid_template_rows": null,
       "height": null,
       "justify_content": null,
       "justify_items": null,
       "left": null,
       "margin": null,
       "max_height": null,
       "max_width": null,
       "min_height": null,
       "min_width": null,
       "object_fit": null,
       "object_position": null,
       "order": null,
       "overflow": null,
       "padding": null,
       "right": null,
       "top": null,
       "visibility": null,
       "width": null
      }
     },
     "e3f756a2b6a349ce811bcd067141745d": {
      "model_module": "@jupyter-widgets/controls",
      "model_module_version": "2.0.0",
      "model_name": "HTMLModel",
      "state": {
       "_dom_classes": [],
       "_model_module": "@jupyter-widgets/controls",
       "_model_module_version": "2.0.0",
       "_model_name": "HTMLModel",
       "_view_count": null,
       "_view_module": "@jupyter-widgets/controls",
       "_view_module_version": "2.0.0",
       "_view_name": "HTMLView",
       "description": "",
       "description_allow_html": false,
       "layout": "IPY_MODEL_c56cc3e6e41148b6b6bcf0dfbe336660",
       "placeholder": "​",
       "style": "IPY_MODEL_5ae59802a6ee4e488c6a17142f043a95",
       "tabbable": null,
       "tooltip": null,
       "value": "100%"
      }
     },
     "e581aa56b8ed420886b26d1b151c7e3d": {
      "model_module": "@jupyter-widgets/base",
      "model_module_version": "2.0.0",
      "model_name": "LayoutModel",
      "state": {
       "_model_module": "@jupyter-widgets/base",
       "_model_module_version": "2.0.0",
       "_model_name": "LayoutModel",
       "_view_count": null,
       "_view_module": "@jupyter-widgets/base",
       "_view_module_version": "2.0.0",
       "_view_name": "LayoutView",
       "align_content": null,
       "align_items": null,
       "align_self": null,
       "border_bottom": null,
       "border_left": null,
       "border_right": null,
       "border_top": null,
       "bottom": null,
       "display": null,
       "flex": null,
       "flex_flow": null,
       "grid_area": null,
       "grid_auto_columns": null,
       "grid_auto_flow": null,
       "grid_auto_rows": null,
       "grid_column": null,
       "grid_gap": null,
       "grid_row": null,
       "grid_template_areas": null,
       "grid_template_columns": null,
       "grid_template_rows": null,
       "height": null,
       "justify_content": null,
       "justify_items": null,
       "left": null,
       "margin": null,
       "max_height": null,
       "max_width": null,
       "min_height": null,
       "min_width": null,
       "object_fit": null,
       "object_position": null,
       "order": null,
       "overflow": null,
       "padding": null,
       "right": null,
       "top": null,
       "visibility": null,
       "width": null
      }
     },
     "ebf9f45f5b254b4d976185b6e9c5ee68": {
      "model_module": "@jupyter-widgets/controls",
      "model_module_version": "2.0.0",
      "model_name": "ProgressStyleModel",
      "state": {
       "_model_module": "@jupyter-widgets/controls",
       "_model_module_version": "2.0.0",
       "_model_name": "ProgressStyleModel",
       "_view_count": null,
       "_view_module": "@jupyter-widgets/base",
       "_view_module_version": "2.0.0",
       "_view_name": "StyleView",
       "bar_color": "#365c8d",
       "description_width": ""
      }
     },
     "f0292dc789a64217a9fa0833cb44859f": {
      "model_module": "@jupyter-widgets/controls",
      "model_module_version": "2.0.0",
      "model_name": "HBoxModel",
      "state": {
       "_dom_classes": [],
       "_model_module": "@jupyter-widgets/controls",
       "_model_module_version": "2.0.0",
       "_model_name": "HBoxModel",
       "_view_count": null,
       "_view_module": "@jupyter-widgets/controls",
       "_view_module_version": "2.0.0",
       "_view_name": "HBoxView",
       "box_style": "",
       "children": [
        "IPY_MODEL_d0e2415f3dde46178b85d79b0a635118",
        "IPY_MODEL_238d92d28f63437f9c9282ff6f025e51",
        "IPY_MODEL_747f87a6a10d4fb48e45246f6f57d097"
       ],
       "layout": "IPY_MODEL_a13e3cbfe6eb45308ccd9b72d1bc11a1",
       "tabbable": null,
       "tooltip": null
      }
     },
     "f11dc1f905ee4f7c83f6782335756454": {
      "model_module": "@jupyter-widgets/base",
      "model_module_version": "2.0.0",
      "model_name": "LayoutModel",
      "state": {
       "_model_module": "@jupyter-widgets/base",
       "_model_module_version": "2.0.0",
       "_model_name": "LayoutModel",
       "_view_count": null,
       "_view_module": "@jupyter-widgets/base",
       "_view_module_version": "2.0.0",
       "_view_name": "LayoutView",
       "align_content": null,
       "align_items": null,
       "align_self": null,
       "border_bottom": null,
       "border_left": null,
       "border_right": null,
       "border_top": null,
       "bottom": null,
       "display": null,
       "flex": "2",
       "flex_flow": null,
       "grid_area": null,
       "grid_auto_columns": null,
       "grid_auto_flow": null,
       "grid_auto_rows": null,
       "grid_column": null,
       "grid_gap": null,
       "grid_row": null,
       "grid_template_areas": null,
       "grid_template_columns": null,
       "grid_template_rows": null,
       "height": null,
       "justify_content": null,
       "justify_items": null,
       "left": null,
       "margin": null,
       "max_height": null,
       "max_width": null,
       "min_height": null,
       "min_width": null,
       "object_fit": null,
       "object_position": null,
       "order": null,
       "overflow": null,
       "padding": null,
       "right": null,
       "top": null,
       "visibility": null,
       "width": null
      }
     },
     "f4260b3d4c8b4d788a3236be170e7204": {
      "model_module": "@jupyter-widgets/controls",
      "model_module_version": "2.0.0",
      "model_name": "HTMLModel",
      "state": {
       "_dom_classes": [],
       "_model_module": "@jupyter-widgets/controls",
       "_model_module_version": "2.0.0",
       "_model_name": "HTMLModel",
       "_view_count": null,
       "_view_module": "@jupyter-widgets/controls",
       "_view_module_version": "2.0.0",
       "_view_name": "HTMLView",
       "description": "",
       "description_allow_html": false,
       "layout": "IPY_MODEL_7d46af5dc3414921b582dbf7e107a3cf",
       "placeholder": "​",
       "style": "IPY_MODEL_28a3624033314e12b5ef44ffbf3c6d55",
       "tabbable": null,
       "tooltip": null,
       "value": " 400/400 [30:21&lt;00:00,  3.05s/it]"
      }
     },
     "f58560d921734ae6b93aa5c83ce8d616": {
      "model_module": "@jupyter-widgets/controls",
      "model_module_version": "2.0.0",
      "model_name": "HTMLStyleModel",
      "state": {
       "_model_module": "@jupyter-widgets/controls",
       "_model_module_version": "2.0.0",
       "_model_name": "HTMLStyleModel",
       "_view_count": null,
       "_view_module": "@jupyter-widgets/base",
       "_view_module_version": "2.0.0",
       "_view_name": "StyleView",
       "background": null,
       "description_width": "",
       "font_size": null,
       "text_color": null
      }
     },
     "f7f5b08dadcf400887394a86839dad5c": {
      "model_module": "@jupyter-widgets/controls",
      "model_module_version": "2.0.0",
      "model_name": "FloatProgressModel",
      "state": {
       "_dom_classes": [],
       "_model_module": "@jupyter-widgets/controls",
       "_model_module_version": "2.0.0",
       "_model_name": "FloatProgressModel",
       "_view_count": null,
       "_view_module": "@jupyter-widgets/controls",
       "_view_module_version": "2.0.0",
       "_view_name": "ProgressView",
       "bar_style": "success",
       "description": "",
       "description_allow_html": false,
       "layout": "IPY_MODEL_33e737808c414a8b84344645fb20e90b",
       "max": 500.0,
       "min": 0.0,
       "orientation": "horizontal",
       "style": "IPY_MODEL_d2570c7f4635458eb0493a38d887fcce",
       "tabbable": null,
       "tooltip": null,
       "value": 500.0
      }
     },
     "f80d0837d0c44d898de12e20369cb3f6": {
      "model_module": "@jupyter-widgets/controls",
      "model_module_version": "2.0.0",
      "model_name": "ProgressStyleModel",
      "state": {
       "_model_module": "@jupyter-widgets/controls",
       "_model_module_version": "2.0.0",
       "_model_name": "ProgressStyleModel",
       "_view_count": null,
       "_view_module": "@jupyter-widgets/base",
       "_view_module_version": "2.0.0",
       "_view_name": "StyleView",
       "bar_color": null,
       "description_width": ""
      }
     },
     "facdbf1b2c814c7cabfc38eea6803e0e": {
      "model_module": "@jupyter-widgets/base",
      "model_module_version": "2.0.0",
      "model_name": "LayoutModel",
      "state": {
       "_model_module": "@jupyter-widgets/base",
       "_model_module_version": "2.0.0",
       "_model_name": "LayoutModel",
       "_view_count": null,
       "_view_module": "@jupyter-widgets/base",
       "_view_module_version": "2.0.0",
       "_view_name": "LayoutView",
       "align_content": null,
       "align_items": null,
       "align_self": null,
       "border_bottom": null,
       "border_left": null,
       "border_right": null,
       "border_top": null,
       "bottom": null,
       "display": null,
       "flex": null,
       "flex_flow": null,
       "grid_area": null,
       "grid_auto_columns": null,
       "grid_auto_flow": null,
       "grid_auto_rows": null,
       "grid_column": null,
       "grid_gap": null,
       "grid_row": null,
       "grid_template_areas": null,
       "grid_template_columns": null,
       "grid_template_rows": null,
       "height": null,
       "justify_content": null,
       "justify_items": null,
       "left": null,
       "margin": null,
       "max_height": null,
       "max_width": null,
       "min_height": null,
       "min_width": null,
       "object_fit": null,
       "object_position": null,
       "order": null,
       "overflow": null,
       "padding": null,
       "right": null,
       "top": null,
       "visibility": null,
       "width": null
      }
     }
    },
    "version_major": 2,
    "version_minor": 0
   }
  }
 },
 "nbformat": 4,
 "nbformat_minor": 5
}
