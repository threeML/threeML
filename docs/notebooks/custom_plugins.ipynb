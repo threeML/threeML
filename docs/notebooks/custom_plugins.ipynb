{
 "cells": [
  {
   "cell_type": "markdown",
   "metadata": {},
   "source": [
    "# Building Custom Plugins\n",
    "\n",
    "The 3ML instrument/data philosophy focuses on the abstraction of the data to likelihood interface. Rather than placing square pegs in round holes by enforcing a common, restrictive data format, 3ML provides an interface that takes a model and returns the likelhood value of that model with its current parameter values. \n",
    "\n",
    "![framework](plugin.png)\n",
    "\n",
    "This way, the data format, likelihood formula, internal computations, etc. that are required for the given instrument can be utilized in thier native, most sensitve, and expertly handled form. \n",
    "\n",
    "While many general and instrument specific plugins are already provided in 3ML, the ability to build a custom plugin from scratch allows for the quick interface of a new instrument, experiment, or idea into the power 3ML framework on the fly. Let's take a look at the basic components of a plugin and construct one for ourselves."
   ]
  },
  {
   "cell_type": "markdown",
   "metadata": {},
   "source": [
    "## The PluginPrototype class\n",
    "\n",
    "The basic functionality of any plugin is prototyped in the PluginPrototype class. This is under the main directory in the 3ML source code, but let's examine it here:\n"
   ]
  },
  {
   "cell_type": "code",
   "execution_count": null,
   "metadata": {},
   "outputs": [],
   "source": [
    "class PluginPrototype(object):\n",
    "    __metaclass__ = abc.ABCMeta\n",
    "\n",
    "    def __init__(self, name, nuisance_parameters):\n",
    "        assert is_valid_variable_name(name), \"The name %s cannot be used as a name. You need to use a valid \" \\\n",
    "                                             \"python identifier: no spaces, cannot start with numbers, cannot contain \" \\\n",
    "                                             \"operators symbols such as -, +, *, /\" % name\n",
    "\n",
    "        # Make sure total is not used as a name (need to use it for other things, like the total value of the statistic)\n",
    "        assert name.lower() != \"total\", \"Sorry, you cannot use 'total' as name for a plugin.\"\n",
    "\n",
    "        self._name = name\n",
    "\n",
    "        # This is just to make sure that the plugin is legal\n",
    "\n",
    "        assert isinstance(nuisance_parameters, dict)\n",
    "\n",
    "        self._nuisance_parameters = nuisance_parameters\n",
    "\n",
    "        # These are the external properties (time, polarization, etc.)\n",
    "        # self._external_properties = []\n",
    "\n",
    "        self._tag = None\n",
    "\n",
    "    def get_name(self):\n",
    "        warnings.warn(\"Do not use get_name() for plugins, use the .name property\", DeprecationWarning)\n",
    "\n",
    "        return self.name\n",
    "\n",
    "    @property\n",
    "    def name(self):\n",
    "        \"\"\"\n",
    "        Returns the name of this instance\n",
    "        :return: a string (this is enforced to be a valid python identifier)\n",
    "        \"\"\"\n",
    "        return self._name\n",
    "\n",
    "    @property\n",
    "    def nuisance_parameters(self):\n",
    "        \"\"\"\n",
    "        Returns a dictionary containing the nuisance parameters for this dataset\n",
    "        :return: a dictionary\n",
    "        \"\"\"\n",
    "\n",
    "        return self._nuisance_parameters\n",
    "\n",
    "    def update_nuisance_parameters(self, new_nuisance_parameters):\n",
    "        assert isinstance(new_nuisance_parameters, dict)\n",
    "\n",
    "        self._nuisance_parameters = new_nuisance_parameters\n",
    "\n",
    " \n",
    "    def get_number_of_data_points(self):\n",
    "        \"\"\"\n",
    "        This returns the number of data points that are used to evaluate the likelihood.\n",
    "        For binned measurements, this is the number of active bins used in the fit. For\n",
    "        unbinned measurements, this would be the number of photons/particles that are\n",
    "        evaluated on the likelihood\n",
    "        \"\"\"\n",
    "\n",
    "        warnings.warn(\n",
    "            \"get_number_of_data_points not implemented, values for statistical measurements such as AIC or BIC are \"\n",
    "            \"unreliable\", )\n",
    "\n",
    "        return 1.\n",
    "\n",
    "    def _get_tag(self):\n",
    "\n",
    "        return self._tag\n",
    "\n",
    "    def _set_tag(self, spec):\n",
    "        \"\"\"\n",
    "        Tag this plugin with the provided independent variable and a start and end value.\n",
    "        This can be used for example to fit a time-varying model. In this case the independent variable will be the\n",
    "        time and the start and end will be the start and stop time of the exposure for this plugin. These values will\n",
    "        be used to average the model over the provided time interval when fitting.\n",
    "        :param independent_variable: an IndependentVariable instance\n",
    "        :param start: start value for this plugin\n",
    "        :param end: end value for this plugin. If this is not provided, instead of integrating the model between\n",
    "        start and end, the model will be evaluate at start. Default: None (i.e., not provided)\n",
    "        :return: none\n",
    "        \"\"\"\n",
    "\n",
    "        if len(spec) == 2:\n",
    "\n",
    "            independent_variable, start = spec\n",
    "            end = None\n",
    "\n",
    "        elif len(spec) == 3:\n",
    "\n",
    "            independent_variable, start, end = spec\n",
    "\n",
    "        else:\n",
    "\n",
    "            raise ValueError(\"Tag specification should be (independent_variable, start[, end])\")\n",
    "\n",
    "        # Let's do a lazy check\n",
    "\n",
    "        if not isinstance(independent_variable, IndependentVariable):\n",
    "\n",
    "            warnings.warn(\"When tagging a plugin, you should use an IndependentVariable instance. You used instead \"\n",
    "                          \"an instance of a %s object. This might lead to crashes or \"\n",
    "                          \"other problems.\" % type(independent_variable))\n",
    "\n",
    "        self._tag = (independent_variable, start, end)\n",
    "\n",
    "    tag = property(_get_tag, _set_tag, doc=\"Gets/sets the tag for this instance, as (independent variable, start, \"\n",
    "                                           \"[end])\")\n",
    "\n",
    "    ######################################################################\n",
    "    # The following methods must be implemented by each plugin\n",
    "    ######################################################################\n",
    "\n",
    "    @abc.abstractmethod\n",
    "    def set_model(self, likelihood_model_instance):\n",
    "        \"\"\"\n",
    "        Set the model to be used in the joint minimization. Must be a LikelihoodModel instance.\n",
    "        \"\"\"\n",
    "        pass\n",
    "\n",
    "    @abc.abstractmethod\n",
    "    def get_log_like(self):\n",
    "        \"\"\"\n",
    "        Return the value of the log-likelihood with the current values for the\n",
    "        parameters\n",
    "        \"\"\"\n",
    "        pass\n",
    "\n",
    "    @abc.abstractmethod\n",
    "    def inner_fit(self):\n",
    "        \"\"\"\n",
    "        This is used for the profile likelihood. Keeping fixed all parameters in the\n",
    "        LikelihoodModel, this method minimize the logLike over the remaining nuisance\n",
    "        parameters, i.e., the parameters belonging only to the model for this\n",
    "        particular detector. If there are no nuisance parameters, simply return the\n",
    "        logLike value.\n",
    "        \"\"\"\n",
    "        pass\n"
   ]
  },
  {
   "cell_type": "markdown",
   "metadata": {},
   "source": [
    "### Basic Properties\n",
    "The basic properties of a plugin are its name and nuisance parameters. These are mostly handled by 3ML natively, but can be manipulated internally as needed.\n",
    "\n",
    "#### name\n",
    "\n",
    "All plugins must be given an **instance** name. Since it is possible that many instances of a particular plugin may be used in an analysis (many different x-ray instruments with FITS PHA data?), 3ML must be able to distinguish them from one another. \n",
    "\n",
    "#### nuisance parameters\n",
    "\n",
    "Nuisance parameters are parameters that are plugin instance dependent and not part of the inter-plugin shared likelihood model. An effective area correction for a given detector that scales its internal effective area or an internal parameter in an instrument's software-dependent inner fit are examples of nuisance parameters. \n"
   ]
  },
  {
   "cell_type": "markdown",
   "metadata": {},
   "source": [
    "### Unique Properties\n",
    "\n",
    "The properties that abstract the model-data-likelihood interface are the set_model, get_log_like, and inner_fit members of the plugin. These **must** be implemented or an error will be returned when trying to define the class.\n",
    "\n",
    "#### set_model\n",
    "This member is responsible for translating the astromodels **Model** object shared by all the plugins during an analysis to this plugin's data. For example, the DispersionSpectrumLike plugin translates the likelihood model by setting up the convolution of the model through its energy dispersion matrix. There are no restrictions on how this interface occurs allowing for freedom in the data format and/or software that are used to calculate the model.\n",
    "\n",
    "#### get_log_like\n",
    "This is the member that is called by 3ML when performing parameter estimation to assess the likelihood of the plugin. It simply returns a number, the log likelihood. No restrictions are placed on how this number is calculated allowing for it to be the product of complex instrument software, mathematical formulas, etc.\n",
    "\n",
    "#### inner_fit\n",
    "Coming soon!\n",
    "\n",
    "\n",
    "## Making a custom plugin\n",
    "\n",
    "Let's build a simple (and useless) plugin to see how the process works. First, we import the PluginPrototype class from 3ML."
   ]
  },
  {
   "cell_type": "code",
   "execution_count": 2,
   "metadata": {
    "ExecuteTime": {
     "end_time": "2018-02-04T13:19:45.532361Z",
     "start_time": "2018-02-04T13:19:45.527295Z"
    }
   },
   "outputs": [],
   "source": [
    "from threeML import PluginPrototype"
   ]
  },
  {
   "cell_type": "markdown",
   "metadata": {},
   "source": [
    "If we try to create a plugin without implementing all the needed memebers, we will run into an error."
   ]
  },
  {
   "cell_type": "code",
   "execution_count": 4,
   "metadata": {
    "ExecuteTime": {
     "end_time": "2018-02-04T13:20:57.456244Z",
     "start_time": "2018-02-04T13:20:57.450546Z"
    }
   },
   "outputs": [],
   "source": [
    "class BadPlugin(PluginPrototype):\n",
    "    \n",
    "    pass"
   ]
  },
  {
   "cell_type": "code",
   "execution_count": 5,
   "metadata": {
    "ExecuteTime": {
     "end_time": "2018-02-04T13:21:15.810108Z",
     "start_time": "2018-02-04T13:21:15.776191Z"
    }
   },
   "outputs": [
    {
     "ename": "TypeError",
     "evalue": "Can't instantiate abstract class BadPlugin with abstract methods get_log_like, inner_fit, set_model",
     "output_type": "error",
     "traceback": [
      "\u001b[0;31m---------------------------------------------------------------------------\u001b[0m",
      "\u001b[0;31mTypeError\u001b[0m                                 Traceback (most recent call last)",
      "\u001b[0;32m<ipython-input-5-8a1ffdacb3ff>\u001b[0m in \u001b[0;36m<module>\u001b[0;34m()\u001b[0m\n\u001b[0;32m----> 1\u001b[0;31m \u001b[0mbad_plugin\u001b[0m \u001b[0;34m=\u001b[0m \u001b[0mBadPlugin\u001b[0m\u001b[0;34m(\u001b[0m\u001b[0;34m'name'\u001b[0m\u001b[0;34m,\u001b[0m\u001b[0;34m{\u001b[0m\u001b[0;34m}\u001b[0m\u001b[0;34m)\u001b[0m\u001b[0;34m\u001b[0m\u001b[0m\n\u001b[0m",
      "\u001b[0;31mTypeError\u001b[0m: Can't instantiate abstract class BadPlugin with abstract methods get_log_like, inner_fit, set_model"
     ]
    }
   ],
   "source": [
    "bad_plugin = BadPlugin('name',{})"
   ]
  },
  {
   "cell_type": "markdown",
   "metadata": {},
   "source": [
    "So, let's instead build a proper plugin"
   ]
  },
  {
   "cell_type": "code",
   "execution_count": 7,
   "metadata": {
    "ExecuteTime": {
     "end_time": "2018-02-04T13:30:32.061864Z",
     "start_time": "2018-02-04T13:30:32.040276Z"
    }
   },
   "outputs": [],
   "source": [
    "from astromodels import Parameter\n",
    "\n",
    "import collections\n",
    "\n",
    "class GoodPlugin(PluginPrototype):\n",
    "    \n",
    "    def __init__(self, name):\n",
    "        \n",
    "        # create the hash for the nuisance parameters\n",
    "        nuisance_parameters = collections.OrderedDict()\n",
    "        \n",
    "        # create a dummy parameter\n",
    "        par = Parameter(\"dummy_%s\" % name, 1.0, min_value=0.8, max_value=1.2, delta=0.05,\n",
    "                                             free=False, desc=\"A dummy parameter for %s\" % name)\n",
    "        \n",
    "        nuisance_parameters[par.name] = par\n",
    "        \n",
    "        # call the prototype constructor\n",
    "        super(GoodPlugin, self).__init__(name,nuisance_parameters)\n",
    "    \n",
    "    \n",
    "    \n",
    "    \n",
    "    def set_model(self, model):\n",
    "        \n",
    "        # attach the model to the object\n",
    "        self._model = model\n",
    "        \n",
    "    def get_log_like(self):\n",
    "        \n",
    "        # this isn't going to be very usefull\n",
    "        return -99.\n",
    "    \n",
    "    def inner_fit(self):\n",
    "        \n",
    "        return self.get_log_like()\n",
    "    "
   ]
  },
  {
   "cell_type": "code",
   "execution_count": 8,
   "metadata": {
    "ExecuteTime": {
     "end_time": "2018-02-04T13:30:53.113911Z",
     "start_time": "2018-02-04T13:30:53.107582Z"
    }
   },
   "outputs": [],
   "source": [
    "good_plugin = GoodPlugin('name')"
   ]
  },
  {
   "cell_type": "code",
   "execution_count": 9,
   "metadata": {
    "ExecuteTime": {
     "end_time": "2018-02-04T13:31:00.223708Z",
     "start_time": "2018-02-04T13:31:00.201624Z"
    }
   },
   "outputs": [
    {
     "data": {
      "text/plain": [
       "'name'"
      ]
     },
     "execution_count": 9,
     "metadata": {},
     "output_type": "execute_result"
    }
   ],
   "source": [
    "good_plugin.name"
   ]
  },
  {
   "cell_type": "code",
   "execution_count": 10,
   "metadata": {
    "ExecuteTime": {
     "end_time": "2018-02-04T13:31:11.159436Z",
     "start_time": "2018-02-04T13:31:11.149886Z"
    }
   },
   "outputs": [
    {
     "data": {
      "text/plain": [
       "-99.0"
      ]
     },
     "execution_count": 10,
     "metadata": {},
     "output_type": "execute_result"
    }
   ],
   "source": [
    "good_plugin.get_log_like()"
   ]
  },
  {
   "cell_type": "code",
   "execution_count": 11,
   "metadata": {
    "ExecuteTime": {
     "end_time": "2018-02-04T13:31:18.026189Z",
     "start_time": "2018-02-04T13:31:18.016390Z"
    }
   },
   "outputs": [
    {
     "data": {
      "text/plain": [
       "OrderedDict([('dummy_name', Parameter dummy_name = 1.0 []\n",
       "              (min_value = 0.8, max_value = 1.2, delta = 0.05, free = False))])"
      ]
     },
     "execution_count": 11,
     "metadata": {},
     "output_type": "execute_result"
    }
   ],
   "source": [
    "good_plugin.nuisance_parameters"
   ]
  },
  {
   "cell_type": "markdown",
   "metadata": {},
   "source": [
    "While our plugin is not very useful, we can now see how to build a plugin. Examine the source code of other plugins that are provided. Figure out how to interface your instrument's model evaluation and likelihood computation to python and place these methods inside your plugin class. We have taken care of the rest."
   ]
  },
  {
   "cell_type": "code",
   "execution_count": null,
   "metadata": {},
   "outputs": [],
   "source": []
  }
 ],
 "metadata": {
  "kernelspec": {
   "display_name": "Python 2",
   "language": "python",
   "name": "python2"
  },
  "language_info": {
   "codemirror_mode": {
    "name": "ipython",
    "version": 2
   },
   "file_extension": ".py",
   "mimetype": "text/x-python",
   "name": "python",
   "nbconvert_exporter": "python",
   "pygments_lexer": "ipython2",
   "version": "2.7.14"
  },
  "toc": {
   "colors": {
    "hover_highlight": "#DAA520",
    "navigate_num": "#000000",
    "navigate_text": "#333333",
    "running_highlight": "#FF0000",
    "selected_highlight": "#FFD700",
    "sidebar_border": "#EEEEEE",
    "wrapper_background": "#FFFFFF"
   },
   "moveMenuLeft": true,
   "nav_menu": {
    "height": "166px",
    "width": "254px"
   },
   "navigate_menu": true,
   "number_sections": true,
   "sideBar": true,
   "threshold": 4,
   "toc_cell": false,
   "toc_section_display": "block",
   "toc_window_display": false,
   "widenNotebook": false
  },
  "varInspector": {
   "cols": {
    "lenName": 16,
    "lenType": 16,
    "lenVar": 40
   },
   "kernels_config": {
    "python": {
     "delete_cmd_postfix": "",
     "delete_cmd_prefix": "del ",
     "library": "var_list.py",
     "varRefreshCmd": "print(var_dic_list())"
    },
    "r": {
     "delete_cmd_postfix": ") ",
     "delete_cmd_prefix": "rm(",
     "library": "var_list.r",
     "varRefreshCmd": "cat(var_dic_list()) "
    }
   },
   "types_to_exclude": [
    "module",
    "function",
    "builtin_function_or_method",
    "instance",
    "_Feature"
   ],
   "window_display": false
  }
 },
 "nbformat": 4,
 "nbformat_minor": 2
}
