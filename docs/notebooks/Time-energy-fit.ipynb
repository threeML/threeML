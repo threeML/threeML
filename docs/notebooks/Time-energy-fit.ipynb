{
 "cells": [
  {
   "cell_type": "markdown",
   "metadata": {
    "deletable": true,
    "editable": true
   },
   "source": [
    "# Time-energy fit\n",
    "\n",
    "3ML allows the possibility to model a time-varying source by explicitly fitting the time-dependent part of the model. Let's see this with an example.\n",
    "\n",
    "First we import what we need:"
   ]
  },
  {
   "cell_type": "code",
   "execution_count": 1,
   "metadata": {
    "collapsed": false,
    "deletable": true,
    "editable": true
   },
   "outputs": [
    {
     "name": "stdout",
     "output_type": "stream",
     "text": [
      "Configuration read from /home/giacomov/.threeML/threeML_config.yml\n",
      "Plotter is MatPlotlib\n"
     ]
    }
   ],
   "source": [
    "from threeML import *\n",
    "\n",
    "import matplotlib.pyplot as plt\n",
    "\n",
    "%matplotlib notebook"
   ]
  },
  {
   "cell_type": "markdown",
   "metadata": {
    "deletable": true,
    "editable": true
   },
   "source": [
    "Then we generate a simulated dataset for a source with a cutoff powerlaw spectrum with a constant photon index and cutoff but with a normalization that changes with time following a powerlaw:"
   ]
  },
  {
   "cell_type": "code",
   "execution_count": 2,
   "metadata": {
    "collapsed": false,
    "deletable": true,
    "editable": true,
    "scrolled": false
   },
   "outputs": [
    {
     "name": "stdout",
     "output_type": "stream",
     "text": [
      "Using Gaussian statistic (equivalent to chi^2) with the provided errors.\n",
      "Using Gaussian statistic (equivalent to chi^2) with the provided errors.\n",
      "Using Gaussian statistic (equivalent to chi^2) with the provided errors.\n",
      "Using Gaussian statistic (equivalent to chi^2) with the provided errors.\n"
     ]
    }
   ],
   "source": [
    "# Let's generate our dataset of 4 spectra with a normalization that follows\n",
    "# a powerlaw in time\n",
    "\n",
    "def generate_one(K):\n",
    "    \n",
    "    # Let's generate some data with y = Powerlaw(x)\n",
    "\n",
    "    gen_function = Cutoff_powerlaw()\n",
    "    gen_function.K = K\n",
    "\n",
    "    # Generate a dataset using the power law, and a\n",
    "    # constant 30% error\n",
    "\n",
    "    x = np.logspace(0, 2, 50)\n",
    "\n",
    "    xyl_generator = XYLike.from_function(\"sim_data\", function = gen_function,\n",
    "                                         x = x,\n",
    "                                         yerr = 0.3 * gen_function(x))\n",
    "\n",
    "    y = xyl_generator.y\n",
    "    y_err = xyl_generator.yerr\n",
    "    \n",
    "    return x, y, y_err\n",
    "\n",
    "# These are the times at which the simulated spectra have been observed\n",
    "time_tags = np.array([1.0, 2.0, 5.0, 10.0])\n",
    "\n",
    "# This describes the time-varying normalization. If everything works as\n",
    "# it should, we should recover from the fit a normalization of 0.23 and a\n",
    "# index of -1.2 for the time law\n",
    "normalizations = 0.23 * time_tags**(-1.2)\n",
    "\n",
    "# Generate the datasets\n",
    "datasets = map(generate_one, normalizations)"
   ]
  },
  {
   "cell_type": "markdown",
   "metadata": {
    "deletable": true,
    "editable": true
   },
   "source": [
    "Now that we have our data, let's model them with 3ML:"
   ]
  },
  {
   "cell_type": "code",
   "execution_count": 3,
   "metadata": {
    "collapsed": false,
    "deletable": true,
    "editable": true
   },
   "outputs": [
    {
     "name": "stdout",
     "output_type": "stream",
     "text": [
      "Using Gaussian statistic (equivalent to chi^2) with the provided errors.\n",
      "Using Gaussian statistic (equivalent to chi^2) with the provided errors.\n",
      "Using Gaussian statistic (equivalent to chi^2) with the provided errors.\n",
      "Using Gaussian statistic (equivalent to chi^2) with the provided errors.\n",
      "Best fit values:\n",
      "\n"
     ]
    },
    {
     "data": {
      "text/html": [
       "<div>\n",
       "<table border=\"1\" class=\"dataframe\">\n",
       "  <thead>\n",
       "    <tr style=\"text-align: right;\">\n",
       "      <th></th>\n",
       "      <th>result</th>\n",
       "      <th>unit</th>\n",
       "    </tr>\n",
       "    <tr>\n",
       "      <th>parameter</th>\n",
       "      <th></th>\n",
       "      <th></th>\n",
       "    </tr>\n",
       "  </thead>\n",
       "  <tbody>\n",
       "    <tr>\n",
       "      <th>test.spectrum.main.Cutoff_powerlaw.K.Powerlaw.K</th>\n",
       "      <td>(2.260 +/- 0.13) x 10^-1</td>\n",
       "      <td>1 / (cm2 keV s)</td>\n",
       "    </tr>\n",
       "    <tr>\n",
       "      <th>test...index</th>\n",
       "      <td>-1.180 +/- 0.024</td>\n",
       "      <td></td>\n",
       "    </tr>\n",
       "    <tr>\n",
       "      <th>test.spectrum.main.Cutoff_powerlaw.index</th>\n",
       "      <td>-1.995 +/- 0.031</td>\n",
       "      <td></td>\n",
       "    </tr>\n",
       "    <tr>\n",
       "      <th>test.spectrum.main.Cutoff_powerlaw.xc</th>\n",
       "      <td>(1.007 +/- 0.016) x 10</td>\n",
       "      <td>keV</td>\n",
       "    </tr>\n",
       "  </tbody>\n",
       "</table>\n",
       "</div>"
      ],
      "text/plain": [
       "                                                                   result  \\\n",
       "parameter                                                                   \n",
       "test.spectrum.main.Cutoff_powerlaw.K.Powerlaw.K  (2.260 +/- 0.13) x 10^-1   \n",
       "test...index                                             -1.180 +/- 0.024   \n",
       "test.spectrum.main.Cutoff_powerlaw.index                 -1.995 +/- 0.031   \n",
       "test.spectrum.main.Cutoff_powerlaw.xc              (1.007 +/- 0.016) x 10   \n",
       "\n",
       "                                                            unit  \n",
       "parameter                                                         \n",
       "test.spectrum.main.Cutoff_powerlaw.K.Powerlaw.K  1 / (cm2 keV s)  \n",
       "test...index                                                      \n",
       "test.spectrum.main.Cutoff_powerlaw.index                          \n",
       "test.spectrum.main.Cutoff_powerlaw.xc                        keV  "
      ]
     },
     "metadata": {},
     "output_type": "display_data"
    },
    {
     "name": "stdout",
     "output_type": "stream",
     "text": [
      "\n",
      "Correlation matrix:\n",
      "\n"
     ]
    },
    {
     "data": {
      "text/html": [
       "<table id=\"table140280579496464\">\n",
       "<tr><td>1.00</td><td>-0.51</td><td>-0.73</td><td>0.49</td></tr>\n",
       "<tr><td>-0.51</td><td>1.00</td><td>0.03</td><td>-0.02</td></tr>\n",
       "<tr><td>-0.73</td><td>0.03</td><td>1.00</td><td>-0.88</td></tr>\n",
       "<tr><td>0.49</td><td>-0.02</td><td>-0.88</td><td>1.00</td></tr>\n",
       "</table>"
      ],
      "text/plain": [
       " 1.00 -0.51 -0.73  0.49\n",
       "-0.51  1.00  0.03 -0.02\n",
       "-0.73  0.03  1.00 -0.88\n",
       " 0.49 -0.02 -0.88  1.00"
      ]
     },
     "metadata": {},
     "output_type": "display_data"
    },
    {
     "name": "stdout",
     "output_type": "stream",
     "text": [
      "\n",
      "Values of -log(likelihood) at the minimum:\n",
      "\n"
     ]
    },
    {
     "data": {
      "text/html": [
       "<div>\n",
       "<table border=\"1\" class=\"dataframe\">\n",
       "  <thead>\n",
       "    <tr style=\"text-align: right;\">\n",
       "      <th></th>\n",
       "      <th>-log(likelihood)</th>\n",
       "    </tr>\n",
       "  </thead>\n",
       "  <tbody>\n",
       "    <tr>\n",
       "      <th>data0</th>\n",
       "      <td>22.888946</td>\n",
       "    </tr>\n",
       "    <tr>\n",
       "      <th>data1</th>\n",
       "      <td>25.173887</td>\n",
       "    </tr>\n",
       "    <tr>\n",
       "      <th>data2</th>\n",
       "      <td>29.160302</td>\n",
       "    </tr>\n",
       "    <tr>\n",
       "      <th>data3</th>\n",
       "      <td>26.919687</td>\n",
       "    </tr>\n",
       "    <tr>\n",
       "      <th>total</th>\n",
       "      <td>104.142822</td>\n",
       "    </tr>\n",
       "  </tbody>\n",
       "</table>\n",
       "</div>"
      ],
      "text/plain": [
       "       -log(likelihood)\n",
       "data0         22.888946\n",
       "data1         25.173887\n",
       "data2         29.160302\n",
       "data3         26.919687\n",
       "total        104.142822"
      ]
     },
     "metadata": {},
     "output_type": "display_data"
    },
    {
     "name": "stdout",
     "output_type": "stream",
     "text": [
      "\n",
      "Values of statistical measures:\n",
      "\n"
     ]
    },
    {
     "data": {
      "text/html": [
       "<div>\n",
       "<table border=\"1\" class=\"dataframe\">\n",
       "  <thead>\n",
       "    <tr style=\"text-align: right;\">\n",
       "      <th></th>\n",
       "      <th>statistical measures</th>\n",
       "    </tr>\n",
       "  </thead>\n",
       "  <tbody>\n",
       "    <tr>\n",
       "      <th>AIC</th>\n",
       "      <td>216.490772</td>\n",
       "    </tr>\n",
       "    <tr>\n",
       "      <th>BIC</th>\n",
       "      <td>229.478914</td>\n",
       "    </tr>\n",
       "  </tbody>\n",
       "</table>\n",
       "</div>"
      ],
      "text/plain": [
       "     statistical measures\n",
       "AIC            216.490772\n",
       "BIC            229.478914"
      ]
     },
     "metadata": {},
     "output_type": "display_data"
    }
   ],
   "source": [
    "# Now set up the fit and fit it\n",
    "\n",
    "# First we need to tell 3ML that we are going to fit using an\n",
    "# independent variable (time in this case). We init it to 1.0\n",
    "# and set the unit to seconds\n",
    "time = IndependentVariable(\"time\", 1.0, u.s)\n",
    "\n",
    "# Then we load the data that we have generated, tagging them\n",
    "# with their time of observation\n",
    "plugins = []\n",
    "\n",
    "for i, dataset in enumerate(datasets):\n",
    "    \n",
    "    x, y, y_err = dataset\n",
    "    \n",
    "    xyl = XYLike(\"data%i\" % i, x, y, y_err)\n",
    "    \n",
    "    # This is the important part: we need to tag the instance of the\n",
    "    # plugin so that 3ML will know that this instance corresponds to the\n",
    "    # given tag (a time coordinate in this case). If instead of giving\n",
    "    # one time coordinate we give two time coordinates, then 3ML will\n",
    "    # take the average of the model between the two time coordinates\n",
    "    # (computed as the integral of the model between t1 and t2 divided \n",
    "    # by t2-t1)\n",
    "    \n",
    "    xyl.tag = (time, time_tags[i])\n",
    "    \n",
    "    # To access the tag we have just set we can use:\n",
    "    \n",
    "    independent_variable, start, end = xyl.tag\n",
    "    \n",
    "    # NOTE: xyl.tag will return 3 things: the independent variable, the start and the\n",
    "    # end. If like in this case you do not specify an end when assigning the tag, end\n",
    "    # will be None\n",
    "    \n",
    "    plugins.append(xyl)\n",
    "\n",
    "# Generate the datalist as usual\n",
    "\n",
    "data = DataList(*plugins)\n",
    "\n",
    "# Now let's generate the spectral model, in this case a point source\n",
    "# with a cutoff powerlaw spectrum\n",
    "\n",
    "spectrum = Cutoff_powerlaw()\n",
    "\n",
    "src = PointSource(\"test\", ra=0.0, dec=0.0, spectral_shape=spectrum)\n",
    "\n",
    "model = Model(src)\n",
    "\n",
    "# Now we need to tell 3ML that we are going to use the time\n",
    "# coordinate to specify a time dependence for some of the \n",
    "# parameters of the model\n",
    "\n",
    "model.add_independent_variable(time)\n",
    "\n",
    "# Now let's specify the time-dependence (a powerlaw) for the normalization\n",
    "# of the powerlaw spectrum\n",
    "\n",
    "time_po = Powerlaw()\n",
    "time_po.K.bounds = (0.01, 1000)\n",
    "\n",
    "# Link the normalization of the cutoff powerlaw spectrum with time through the\n",
    "# time law we have just generated\n",
    "\n",
    "model.link(spectrum.K, time, time_po)\n",
    "\n",
    "# Now let's fit as usual\n",
    "\n",
    "jl = JointLikelihood(model, data)\n",
    "\n",
    "best_fit_parameters, likelihood_values = jl.fit()"
   ]
  },
  {
   "cell_type": "code",
   "execution_count": null,
   "metadata": {
    "collapsed": true,
    "deletable": true,
    "editable": true
   },
   "outputs": [],
   "source": []
  }
 ],
 "metadata": {
  "kernelspec": {
   "display_name": "Python 2",
   "language": "python",
   "name": "python2"
  },
  "language_info": {
   "codemirror_mode": {
    "name": "ipython",
    "version": 2
   },
   "file_extension": ".py",
   "mimetype": "text/x-python",
   "name": "python",
   "nbconvert_exporter": "python",
   "pygments_lexer": "ipython2",
   "version": "2.7.12"
  }
 },
 "nbformat": 4,
 "nbformat_minor": 2
}
