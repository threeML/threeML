{
 "cells": [
  {
   "cell_type": "markdown",
   "metadata": {
    "deletable": true,
    "editable": true
   },
   "source": [
    "# The 3ML workflow\n",
    "\n",
    "Generally, an analysis in 3ML is performed in 3 steps:\n",
    "\n",
    "1. Load the data: one or more datasets are loaded and then listed in a DataList object\n",
    "2. Define the model: a model for the data is defined by including one or more PointSource, ExtendedSource or ParticleSource instances\n",
    "3. Perform a likelihood or a Bayesian analysis: the data and the model are used together to perform either a Maximum Likelihood analysis, or a Bayesian analysis"
   ]
  },
  {
   "cell_type": "markdown",
   "metadata": {
    "deletable": true,
    "editable": true
   },
   "source": [
    "## Loading data\n",
    "\n",
    "3ML is built around the concept of _plugins_. A plugin is used to load a particular type of data, or the data from a particular instrument. There is a plugin of optical data, one for X-ray data, one for Fermi/LAT data and so on. Plugins instances can be added and removed at the loading stage without changing any other stage of the analysis (but of course, you need to rerun all stages to update the results).\n",
    "\n",
    "First, let's import 3ML:"
   ]
  },
  {
   "cell_type": "code",
   "execution_count": 1,
   "metadata": {
    "collapsed": false,
    "deletable": true,
    "editable": true
   },
   "outputs": [
    {
     "name": "stdout",
     "output_type": "stream",
     "text": [
      "Configuration read from /home/giacomov/.threeML/threeML_config.yml\n",
      "Plotter is MatPlotlib\n"
     ]
    }
   ],
   "source": [
    "from threeML import *"
   ]
  },
  {
   "cell_type": "markdown",
   "metadata": {
    "deletable": true,
    "editable": true
   },
   "source": [
    "Let's start by loading one dataset, which in the 3ML workflow means creating an instance of the appropriate plugin:"
   ]
  },
  {
   "cell_type": "code",
   "execution_count": 2,
   "metadata": {
    "collapsed": false,
    "deletable": true,
    "editable": true
   },
   "outputs": [
    {
     "name": "stdout",
     "output_type": "stream",
     "text": [
      "Using Gaussian statistic (equivalent to chi^2) with the provided errors.\n"
     ]
    },
    {
     "data": {
      "image/png": "[encoded data removed]",
      "text/plain": [
       "<matplotlib.figure.Figure at 0x7f490cf43ad0>"
      ]
     },
     "execution_count": 2,
     "metadata": {},
     "output_type": "execute_result"
    }
   ],
   "source": [
    "# Get some example data\n",
    "from threeML.io.package_data import get_path_of_data_file\n",
    "\n",
    "data_path = get_path_of_data_file(\"datasets/xy_powerlaw.txt\")\n",
    "\n",
    "# Create an instance of the XYLike plugin, which allows to analyze simple x,y points\n",
    "# with error bars\n",
    "xyl = XYLike.from_text_file(\"xyl\", data_path)\n",
    "\n",
    "# Let's plot it just to see what we have loaded\n",
    "xyl.plot(x_scale='log', y_scale='log')"
   ]
  },
  {
   "cell_type": "markdown",
   "metadata": {
    "deletable": true,
    "editable": true
   },
   "source": [
    "Now we need to create a DataList object, which in this case contains only one instance:"
   ]
  },
  {
   "cell_type": "code",
   "execution_count": 3,
   "metadata": {
    "collapsed": true,
    "deletable": true,
    "editable": true
   },
   "outputs": [],
   "source": [
    "data = DataList(xyl)"
   ]
  },
  {
   "cell_type": "markdown",
   "metadata": {
    "deletable": true,
    "editable": true
   },
   "source": [
    "The DataList object can receive one or more plugin instances on initialization. So for example, to use two datasets we can simply do:"
   ]
  },
  {
   "cell_type": "code",
   "execution_count": 4,
   "metadata": {
    "collapsed": false,
    "deletable": true,
    "editable": true
   },
   "outputs": [
    {
     "name": "stdout",
     "output_type": "stream",
     "text": [
      "Auto-probed noise models:\n",
      "- observation: poisson\n",
      "- background: poisson\n"
     ]
    },
    {
     "name": "stderr",
     "output_type": "stream",
     "text": [
      "\n",
      "WARNING UserWarning: FILTER is not set. This is not a compliant OGIP file. Assuming no FILTER.\n",
      "\n",
      "\n",
      "WARNING UserWarning: The default choice for MATRIX extension failed:KeyError(\"Extension ('MATRIX', 1) not found.\",)available: None 'EBOUNDS' 'SPECRESP MATRIX'\n",
      "\n"
     ]
    }
   ],
   "source": [
    "# Create the second instance, this time of a different type\n",
    "\n",
    "pha = get_path_of_data_file(\"datasets/ogip_powerlaw.pha\")\n",
    "bak = get_path_of_data_file(\"datasets/ogip_powerlaw.bak\")\n",
    "rsp = get_path_of_data_file(\"datasets/ogip_powerlaw.rsp\")\n",
    "\n",
    "ogip = OGIPLike(\"ogip\", pha, bak, rsp)\n",
    "\n",
    "# Now use both plugins\n",
    "data = DataList(xyl, ogip)"
   ]
  },
  {
   "cell_type": "markdown",
   "metadata": {
    "deletable": true,
    "editable": true
   },
   "source": [
    "The DataList object can accept any number of plugins in input.\n",
    "\n",
    "You can also create a list of plugins, and then create a DataList using the \"expansion\" feature of the python language ('*'), like this:"
   ]
  },
  {
   "cell_type": "code",
   "execution_count": 5,
   "metadata": {
    "collapsed": false,
    "deletable": true,
    "editable": true
   },
   "outputs": [],
   "source": [
    "# This is equivalent to write data = DataList(xyl, ogip)\n",
    "\n",
    "my_plugins = [xyl, ogip]\n",
    "data = DataList(*my_plugins)"
   ]
  },
  {
   "cell_type": "markdown",
   "metadata": {
    "collapsed": true,
    "deletable": true,
    "editable": true
   },
   "source": [
    "This is useful if you need to create the list of plugins at runtime, for example looping over many files."
   ]
  },
  {
   "cell_type": "markdown",
   "metadata": {
    "deletable": true,
    "editable": true
   },
   "source": [
    "## Define the model\n",
    "\n",
    "After you have loaded your data, you need to define a model for them. A model is a collection of one or more sources. A source represents an astrophysical reality, like a star, a galaxy, a molecular cloud... There are 3 kinds of sources: PointSource, ExtendedSource and ParticleSource. The latter is used only in special situations. The models are defined using the package astromodels. Here we will only go through the basics. You can find a lot more information here: [astromodels.readthedocs.org](https://astromodels.readthedocs.org)\n",
    "\n",
    "### Point sources\n",
    "A point source is characterized by a name, a position, and a spectrum. These are some examples:"
   ]
  },
  {
   "cell_type": "code",
   "execution_count": 6,
   "metadata": {
    "collapsed": true,
    "deletable": true,
    "editable": true
   },
   "outputs": [],
   "source": [
    "# A point source with a power law spectrum\n",
    "\n",
    "source1_sp = Powerlaw()\n",
    "source1 = PointSource(\"source1\", ra=23.5, dec=-22.7, spectral_shape=source1_sp)\n",
    "\n",
    "# Another source with a log-parabolic spectrum plus a power law\n",
    "\n",
    "source2_sp = Log_parabola() + Powerlaw()\n",
    "source2 = PointSource(\"source2\", ra=30.5, dec=-27.1, spectral_shape=source2_sp)\n",
    "\n",
    "# A third source defined in terms of its Galactic latitude and longitude\n",
    "source3_sp = Cutoff_powerlaw()\n",
    "source3 = PointSource(\"source3\", l=216.1, b=-74.56, spectral_shape=source3_sp)"
   ]
  },
  {
   "cell_type": "markdown",
   "metadata": {
    "deletable": true,
    "editable": true
   },
   "source": [
    "### Extended sources\n",
    "\n",
    "An extended source is characterized by its spatial shape and its spectral shape:"
   ]
  },
  {
   "cell_type": "code",
   "execution_count": 7,
   "metadata": {
    "collapsed": false,
    "deletable": true,
    "editable": true
   },
   "outputs": [],
   "source": [
    "# An extended source with a Gaussian shape centered on R.A., Dec = (30.5, -27.1)\n",
    "# and a sigma of 3.0 degrees\n",
    "ext1_spatial = Gaussian_on_sphere(lon0=30.5, lat0=-27.1, sigma=3.0)\n",
    "ext1_spectral = Powerlaw()\n",
    "\n",
    "ext1 = ExtendedSource(\"ext1\", ext1_spatial, ext1_spectral)\n",
    "\n",
    "# An extended source with a 3D function \n",
    "# (i.e., the function defines both the spatial and the spectral shape)\n",
    "ext2_spatial = Continuous_injection_diffusion()\n",
    "ext2 = ExtendedSource(\"ext2\", ext2_spatial)"
   ]
  },
  {
   "cell_type": "markdown",
   "metadata": {
    "deletable": true,
    "editable": true
   },
   "source": [
    "**NOTE**: not all plugins support extended sources. For example, the XYLike plugin we used above do not, as it is meant for data without spatial resolution. "
   ]
  },
  {
   "cell_type": "markdown",
   "metadata": {
    "deletable": true,
    "editable": true
   },
   "source": [
    "### Create the likelihood model"
   ]
  },
  {
   "cell_type": "markdown",
   "metadata": {
    "deletable": true,
    "editable": true
   },
   "source": [
    "Now that we have defined our sources, we can create a model simply as:"
   ]
  },
  {
   "cell_type": "code",
   "execution_count": 8,
   "metadata": {
    "collapsed": false,
    "deletable": true,
    "editable": true
   },
   "outputs": [
    {
     "data": {
      "text/html": [
       "Model summary:<br><br><div>\n",
       "<table border=\"1\" class=\"dataframe\">\n",
       "  <thead>\n",
       "    <tr style=\"text-align: right;\">\n",
       "      <th></th>\n",
       "      <th>N</th>\n",
       "    </tr>\n",
       "  </thead>\n",
       "  <tbody>\n",
       "    <tr>\n",
       "      <th>Point sources</th>\n",
       "      <td>3</td>\n",
       "    </tr>\n",
       "    <tr>\n",
       "      <th>Extended sources</th>\n",
       "      <td>2</td>\n",
       "    </tr>\n",
       "    <tr>\n",
       "      <th>Particle sources</th>\n",
       "      <td>0</td>\n",
       "    </tr>\n",
       "  </tbody>\n",
       "</table>\n",
       "</div><br><br>Free parameters (19):<br><br><div>\n",
       "<table border=\"1\" class=\"dataframe\">\n",
       "  <thead>\n",
       "    <tr style=\"text-align: right;\">\n",
       "      <th></th>\n",
       "      <th>value</th>\n",
       "      <th>min_value</th>\n",
       "      <th>max_value</th>\n",
       "      <th>unit</th>\n",
       "    </tr>\n",
       "  </thead>\n",
       "  <tbody>\n",
       "    <tr>\n",
       "      <th>source1.spectrum.main.Powerlaw.K</th>\n",
       "      <td>1</td>\n",
       "      <td>1e-30</td>\n",
       "      <td>1000</td>\n",
       "      <td>cm-2 keV-1 s-1</td>\n",
       "    </tr>\n",
       "    <tr>\n",
       "      <th>source1.spectrum.main.Powerlaw.index</th>\n",
       "      <td>-2</td>\n",
       "      <td>-10</td>\n",
       "      <td>10</td>\n",
       "      <td></td>\n",
       "    </tr>\n",
       "    <tr>\n",
       "      <th>source2.spectrum.main.composite.K_1</th>\n",
       "      <td>1</td>\n",
       "      <td>1e-30</td>\n",
       "      <td>100000</td>\n",
       "      <td>cm-2 keV-1 s-1</td>\n",
       "    </tr>\n",
       "    <tr>\n",
       "      <th>source2.spectrum.main.composite.alpha_1</th>\n",
       "      <td>-2</td>\n",
       "      <td>None</td>\n",
       "      <td>None</td>\n",
       "      <td></td>\n",
       "    </tr>\n",
       "    <tr>\n",
       "      <th>source2.spectrum.main.composite.beta_1</th>\n",
       "      <td>1</td>\n",
       "      <td>None</td>\n",
       "      <td>None</td>\n",
       "      <td></td>\n",
       "    </tr>\n",
       "    <tr>\n",
       "      <th>source2.spectrum.main.composite.K_2</th>\n",
       "      <td>1</td>\n",
       "      <td>1e-30</td>\n",
       "      <td>1000</td>\n",
       "      <td>cm-2 keV-1 s-1</td>\n",
       "    </tr>\n",
       "    <tr>\n",
       "      <th>source2.spectrum.main.composite.index_2</th>\n",
       "      <td>-2</td>\n",
       "      <td>-10</td>\n",
       "      <td>10</td>\n",
       "      <td></td>\n",
       "    </tr>\n",
       "    <tr>\n",
       "      <th>source3.spectrum.main.Cutoff_powerlaw.K</th>\n",
       "      <td>1</td>\n",
       "      <td>1e-30</td>\n",
       "      <td>1000</td>\n",
       "      <td>cm-2 keV-1 s-1</td>\n",
       "    </tr>\n",
       "    <tr>\n",
       "      <th>source3.spectrum.main.Cutoff_powerlaw.index</th>\n",
       "      <td>-2</td>\n",
       "      <td>-10</td>\n",
       "      <td>10</td>\n",
       "      <td></td>\n",
       "    </tr>\n",
       "    <tr>\n",
       "      <th>source3.spectrum.main.Cutoff_powerlaw.xc</th>\n",
       "      <td>10</td>\n",
       "      <td>None</td>\n",
       "      <td>None</td>\n",
       "      <td>keV</td>\n",
       "    </tr>\n",
       "    <tr>\n",
       "      <th>ext1.Gaussian_on_sphere.lon0</th>\n",
       "      <td>30.5</td>\n",
       "      <td>0</td>\n",
       "      <td>360</td>\n",
       "      <td>deg</td>\n",
       "    </tr>\n",
       "    <tr>\n",
       "      <th>ext1.Gaussian_on_sphere.lat0</th>\n",
       "      <td>-27.1</td>\n",
       "      <td>-90</td>\n",
       "      <td>90</td>\n",
       "      <td>deg</td>\n",
       "    </tr>\n",
       "    <tr>\n",
       "      <th>ext1.Gaussian_on_sphere.sigma</th>\n",
       "      <td>3</td>\n",
       "      <td>0</td>\n",
       "      <td>20</td>\n",
       "      <td>deg</td>\n",
       "    </tr>\n",
       "    <tr>\n",
       "      <th>ext1.spectrum.main.Powerlaw.K</th>\n",
       "      <td>1</td>\n",
       "      <td>1e-30</td>\n",
       "      <td>1000</td>\n",
       "      <td>cm-2 keV-1 s-1</td>\n",
       "    </tr>\n",
       "    <tr>\n",
       "      <th>ext1.spectrum.main.Powerlaw.index</th>\n",
       "      <td>-2</td>\n",
       "      <td>-10</td>\n",
       "      <td>10</td>\n",
       "      <td></td>\n",
       "    </tr>\n",
       "    <tr>\n",
       "      <th>ext2.Continuous_injection_diffusion.lon0</th>\n",
       "      <td>0</td>\n",
       "      <td>0</td>\n",
       "      <td>360</td>\n",
       "      <td>deg</td>\n",
       "    </tr>\n",
       "    <tr>\n",
       "      <th>ext2.Continuous_injection_diffusion.lat0</th>\n",
       "      <td>0</td>\n",
       "      <td>-90</td>\n",
       "      <td>90</td>\n",
       "      <td>deg</td>\n",
       "    </tr>\n",
       "    <tr>\n",
       "      <th>ext2.Continuous_injection_diffusion.rdiff0</th>\n",
       "      <td>1</td>\n",
       "      <td>0</td>\n",
       "      <td>20</td>\n",
       "      <td>deg</td>\n",
       "    </tr>\n",
       "    <tr>\n",
       "      <th>ext2.spectrum.main.Constant.k</th>\n",
       "      <td>0</td>\n",
       "      <td>None</td>\n",
       "      <td>None</td>\n",
       "      <td></td>\n",
       "    </tr>\n",
       "  </tbody>\n",
       "</table>\n",
       "</div><br><br>Fixed parameters (15):<br>(abridged. Use complete=True to see all fixed parameters)<br><br><br>Linked parameters (0):<br><br>(none)<br><br>Independent variables:<br><br>(none)<br>"
      ],
      "text/plain": [
       "Model summary:\n",
       "==============\n",
       "\n",
       "                  N\n",
       "Point sources     3\n",
       "Extended sources  2\n",
       "Particle sources  0\n",
       "\n",
       "Free parameters (19):\n",
       "--------------------\n",
       "\n",
       "                                         value min_value max_value  \\\n",
       "source1.spectrum.main.Powerlaw.K             1     1e-30      1000   \n",
       "source1.spectrum.main.Powerlaw.index        -2       -10        10   \n",
       "source2.spectrum.main.composite.K_1          1     1e-30    100000   \n",
       "source2.spectrum.main.composite.alpha_1     -2      None      None   \n",
       "source2.spectrum.main.composite.beta_1       1      None      None   \n",
       "source2.spectrum.main.composite.K_2          1     1e-30      1000   \n",
       "source2.spectrum.main.composite.index_2     -2       -10        10   \n",
       "source3.spectrum.main.Cutoff_powerlaw.K      1     1e-30      1000   \n",
       "source3...index                             -2       -10        10   \n",
       "source3.spectrum.main.Cutoff_powerlaw.xc    10      None      None   \n",
       "ext1.Gaussian_on_sphere.lon0              30.5         0       360   \n",
       "ext1.Gaussian_on_sphere.lat0             -27.1       -90        90   \n",
       "ext1.Gaussian_on_sphere.sigma                3         0        20   \n",
       "ext1.spectrum.main.Powerlaw.K                1     1e-30      1000   \n",
       "ext1.spectrum.main.Powerlaw.index           -2       -10        10   \n",
       "ext2.Continuous_injection_diffusion.lon0     0         0       360   \n",
       "ext2.Continuous_injection_diffusion.lat0     0       -90        90   \n",
       "ext2...rdiff0                                1         0        20   \n",
       "ext2.spectrum.main.Constant.k                0      None      None   \n",
       "\n",
       "                                                    unit  \n",
       "source1.spectrum.main.Powerlaw.K          cm-2 keV-1 s-1  \n",
       "source1.spectrum.main.Powerlaw.index                      \n",
       "source2.spectrum.main.composite.K_1       cm-2 keV-1 s-1  \n",
       "source2.spectrum.main.composite.alpha_1                   \n",
       "source2.spectrum.main.composite.beta_1                    \n",
       "source2.spectrum.main.composite.K_2       cm-2 keV-1 s-1  \n",
       "source2.spectrum.main.composite.index_2                   \n",
       "source3.spectrum.main.Cutoff_powerlaw.K   cm-2 keV-1 s-1  \n",
       "source3...index                                           \n",
       "source3.spectrum.main.Cutoff_powerlaw.xc             keV  \n",
       "ext1.Gaussian_on_sphere.lon0                         deg  \n",
       "ext1.Gaussian_on_sphere.lat0                         deg  \n",
       "ext1.Gaussian_on_sphere.sigma                        deg  \n",
       "ext1.spectrum.main.Powerlaw.K             cm-2 keV-1 s-1  \n",
       "ext1.spectrum.main.Powerlaw.index                         \n",
       "ext2.Continuous_injection_diffusion.lon0             deg  \n",
       "ext2.Continuous_injection_diffusion.lat0             deg  \n",
       "ext2...rdiff0                                        deg  \n",
       "ext2.spectrum.main.Constant.k                             \n",
       "\n",
       "Fixed parameters (15):\n",
       "(abridged. Use complete=True to see all fixed parameters)\n",
       "\n",
       "\n",
       "Linked parameters (0):\n",
       "----------------------\n",
       "\n",
       "(none)\n",
       "\n",
       "Independent variables:\n",
       "----------------------\n",
       "\n",
       "(none)"
      ]
     },
     "metadata": {},
     "output_type": "display_data"
    }
   ],
   "source": [
    "model = Model(source1, source2, source3, ext1, ext2)\n",
    "\n",
    "# We can see a summary of the model like this:\n",
    "model.display()"
   ]
  },
  {
   "cell_type": "markdown",
   "metadata": {
    "deletable": true,
    "editable": true
   },
   "source": [
    "You can easily interact with the model. For example:"
   ]
  },
  {
   "cell_type": "code",
   "execution_count": 9,
   "metadata": {
    "collapsed": false,
    "deletable": true,
    "editable": true,
    "scrolled": false
   },
   "outputs": [
    {
     "data": {
      "text/html": [
       "Model summary:<br><br><div>\n",
       "<table border=\"1\" class=\"dataframe\">\n",
       "  <thead>\n",
       "    <tr style=\"text-align: right;\">\n",
       "      <th></th>\n",
       "      <th>N</th>\n",
       "    </tr>\n",
       "  </thead>\n",
       "  <tbody>\n",
       "    <tr>\n",
       "      <th>Point sources</th>\n",
       "      <td>3</td>\n",
       "    </tr>\n",
       "    <tr>\n",
       "      <th>Extended sources</th>\n",
       "      <td>2</td>\n",
       "    </tr>\n",
       "    <tr>\n",
       "      <th>Particle sources</th>\n",
       "      <td>0</td>\n",
       "    </tr>\n",
       "  </tbody>\n",
       "</table>\n",
       "</div><br><br>Free parameters (19):<br><br><div>\n",
       "<table border=\"1\" class=\"dataframe\">\n",
       "  <thead>\n",
       "    <tr style=\"text-align: right;\">\n",
       "      <th></th>\n",
       "      <th>value</th>\n",
       "      <th>min_value</th>\n",
       "      <th>max_value</th>\n",
       "      <th>unit</th>\n",
       "    </tr>\n",
       "  </thead>\n",
       "  <tbody>\n",
       "    <tr>\n",
       "      <th>source1.spectrum.main.Powerlaw.K</th>\n",
       "      <td>2.3e-09</td>\n",
       "      <td>1e-14</td>\n",
       "      <td>1e-08</td>\n",
       "      <td>cm-2 keV-1 s-1</td>\n",
       "    </tr>\n",
       "    <tr>\n",
       "      <th>source1.spectrum.main.Powerlaw.index</th>\n",
       "      <td>-2</td>\n",
       "      <td>-10</td>\n",
       "      <td>10</td>\n",
       "      <td></td>\n",
       "    </tr>\n",
       "    <tr>\n",
       "      <th>source2.spectrum.main.composite.alpha_1</th>\n",
       "      <td>-2</td>\n",
       "      <td>None</td>\n",
       "      <td>None</td>\n",
       "      <td></td>\n",
       "    </tr>\n",
       "    <tr>\n",
       "      <th>source2.spectrum.main.composite.beta_1</th>\n",
       "      <td>1</td>\n",
       "      <td>None</td>\n",
       "      <td>None</td>\n",
       "      <td></td>\n",
       "    </tr>\n",
       "    <tr>\n",
       "      <th>source2.spectrum.main.composite.K_2</th>\n",
       "      <td>1</td>\n",
       "      <td>1e-30</td>\n",
       "      <td>1000</td>\n",
       "      <td>cm-2 keV-1 s-1</td>\n",
       "    </tr>\n",
       "    <tr>\n",
       "      <th>source2.spectrum.main.composite.index_2.Line.a</th>\n",
       "      <td>1</td>\n",
       "      <td>None</td>\n",
       "      <td>None</td>\n",
       "      <td></td>\n",
       "    </tr>\n",
       "    <tr>\n",
       "      <th>source2.spectrum.main.composite.index_2.Line.b</th>\n",
       "      <td>0</td>\n",
       "      <td>None</td>\n",
       "      <td>None</td>\n",
       "      <td></td>\n",
       "    </tr>\n",
       "    <tr>\n",
       "      <th>source3.spectrum.main.Cutoff_powerlaw.K</th>\n",
       "      <td>1</td>\n",
       "      <td>1e-30</td>\n",
       "      <td>1000</td>\n",
       "      <td>cm-2 keV-1 s-1</td>\n",
       "    </tr>\n",
       "    <tr>\n",
       "      <th>source3.spectrum.main.Cutoff_powerlaw.index</th>\n",
       "      <td>-2</td>\n",
       "      <td>-10</td>\n",
       "      <td>10</td>\n",
       "      <td></td>\n",
       "    </tr>\n",
       "    <tr>\n",
       "      <th>source3.spectrum.main.Cutoff_powerlaw.xc</th>\n",
       "      <td>10</td>\n",
       "      <td>None</td>\n",
       "      <td>None</td>\n",
       "      <td>keV</td>\n",
       "    </tr>\n",
       "    <tr>\n",
       "      <th>ext1.Gaussian_on_sphere.lon0</th>\n",
       "      <td>30.5</td>\n",
       "      <td>0</td>\n",
       "      <td>360</td>\n",
       "      <td>deg</td>\n",
       "    </tr>\n",
       "    <tr>\n",
       "      <th>ext1.Gaussian_on_sphere.lat0</th>\n",
       "      <td>-27.1</td>\n",
       "      <td>-90</td>\n",
       "      <td>90</td>\n",
       "      <td>deg</td>\n",
       "    </tr>\n",
       "    <tr>\n",
       "      <th>ext1.Gaussian_on_sphere.sigma</th>\n",
       "      <td>3</td>\n",
       "      <td>0</td>\n",
       "      <td>20</td>\n",
       "      <td>deg</td>\n",
       "    </tr>\n",
       "    <tr>\n",
       "      <th>ext1.spectrum.main.Powerlaw.K</th>\n",
       "      <td>1</td>\n",
       "      <td>1e-30</td>\n",
       "      <td>1000</td>\n",
       "      <td>cm-2 keV-1 s-1</td>\n",
       "    </tr>\n",
       "    <tr>\n",
       "      <th>ext1.spectrum.main.Powerlaw.index</th>\n",
       "      <td>-2</td>\n",
       "      <td>-10</td>\n",
       "      <td>10</td>\n",
       "      <td></td>\n",
       "    </tr>\n",
       "    <tr>\n",
       "      <th>ext2.Continuous_injection_diffusion.lon0</th>\n",
       "      <td>0</td>\n",
       "      <td>0</td>\n",
       "      <td>360</td>\n",
       "      <td>deg</td>\n",
       "    </tr>\n",
       "    <tr>\n",
       "      <th>ext2.Continuous_injection_diffusion.lat0</th>\n",
       "      <td>0</td>\n",
       "      <td>-90</td>\n",
       "      <td>90</td>\n",
       "      <td>deg</td>\n",
       "    </tr>\n",
       "    <tr>\n",
       "      <th>ext2.Continuous_injection_diffusion.rdiff0</th>\n",
       "      <td>1</td>\n",
       "      <td>0</td>\n",
       "      <td>20</td>\n",
       "      <td>deg</td>\n",
       "    </tr>\n",
       "    <tr>\n",
       "      <th>ext2.spectrum.main.Constant.k</th>\n",
       "      <td>0</td>\n",
       "      <td>None</td>\n",
       "      <td>None</td>\n",
       "      <td></td>\n",
       "    </tr>\n",
       "  </tbody>\n",
       "</table>\n",
       "</div><br><br>Fixed parameters (17):<br>(abridged. Use complete=True to see all fixed parameters)<br><br><br>Linked parameters (2):<br><br><div>\n",
       "<table border=\"1\" class=\"dataframe\">\n",
       "  <thead>\n",
       "    <tr style=\"text-align: right;\">\n",
       "      <th></th>\n",
       "      <th>source2.spectrum.main.composite.K_1</th>\n",
       "    </tr>\n",
       "  </thead>\n",
       "  <tbody>\n",
       "    <tr>\n",
       "      <th>current value</th>\n",
       "      <td>2.3e-09</td>\n",
       "    </tr>\n",
       "    <tr>\n",
       "      <th>function</th>\n",
       "      <td>Line</td>\n",
       "    </tr>\n",
       "    <tr>\n",
       "      <th>linked to</th>\n",
       "      <td>source1.spectrum.main.Powerlaw.K</td>\n",
       "    </tr>\n",
       "    <tr>\n",
       "      <th>unit</th>\n",
       "      <td>1 / (cm2 keV s)</td>\n",
       "    </tr>\n",
       "  </tbody>\n",
       "</table>\n",
       "</div><br><div>\n",
       "<table border=\"1\" class=\"dataframe\">\n",
       "  <thead>\n",
       "    <tr style=\"text-align: right;\">\n",
       "      <th></th>\n",
       "      <th>source2.spectrum.main.composite.index_2</th>\n",
       "    </tr>\n",
       "  </thead>\n",
       "  <tbody>\n",
       "    <tr>\n",
       "      <th>current value</th>\n",
       "      <td>-2.0</td>\n",
       "    </tr>\n",
       "    <tr>\n",
       "      <th>function</th>\n",
       "      <td>Line</td>\n",
       "    </tr>\n",
       "    <tr>\n",
       "      <th>linked to</th>\n",
       "      <td>source2.spectrum.main.composite.alpha_1</td>\n",
       "    </tr>\n",
       "    <tr>\n",
       "      <th>unit</th>\n",
       "      <td></td>\n",
       "    </tr>\n",
       "  </tbody>\n",
       "</table>\n",
       "</div><br><br>Independent variables:<br><br>(none)<br>"
      ],
      "text/plain": [
       "Model summary:\n",
       "==============\n",
       "\n",
       "                  N\n",
       "Point sources     3\n",
       "Extended sources  2\n",
       "Particle sources  0\n",
       "\n",
       "Free parameters (19):\n",
       "--------------------\n",
       "\n",
       "                                            value min_value max_value  \\\n",
       "source1.spectrum.main.Powerlaw.K          2.3e-09     1e-14     1e-08   \n",
       "source1.spectrum.main.Powerlaw.index           -2       -10        10   \n",
       "source2.spectrum.main.composite.alpha_1        -2      None      None   \n",
       "source2.spectrum.main.composite.beta_1          1      None      None   \n",
       "source2.spectrum.main.composite.K_2             1     1e-30      1000   \n",
       "source2...a                                     1      None      None   \n",
       "source2...b                                     0      None      None   \n",
       "source3.spectrum.main.Cutoff_powerlaw.K         1     1e-30      1000   \n",
       "source3...index                                -2       -10        10   \n",
       "source3.spectrum.main.Cutoff_powerlaw.xc       10      None      None   \n",
       "ext1.Gaussian_on_sphere.lon0                 30.5         0       360   \n",
       "ext1.Gaussian_on_sphere.lat0                -27.1       -90        90   \n",
       "ext1.Gaussian_on_sphere.sigma                   3         0        20   \n",
       "ext1.spectrum.main.Powerlaw.K                   1     1e-30      1000   \n",
       "ext1.spectrum.main.Powerlaw.index              -2       -10        10   \n",
       "ext2.Continuous_injection_diffusion.lon0        0         0       360   \n",
       "ext2.Continuous_injection_diffusion.lat0        0       -90        90   \n",
       "ext2...rdiff0                                   1         0        20   \n",
       "ext2.spectrum.main.Constant.k                   0      None      None   \n",
       "\n",
       "                                                    unit  \n",
       "source1.spectrum.main.Powerlaw.K          cm-2 keV-1 s-1  \n",
       "source1.spectrum.main.Powerlaw.index                      \n",
       "source2.spectrum.main.composite.alpha_1                   \n",
       "source2.spectrum.main.composite.beta_1                    \n",
       "source2.spectrum.main.composite.K_2       cm-2 keV-1 s-1  \n",
       "source2...a                                               \n",
       "source2...b                                               \n",
       "source3.spectrum.main.Cutoff_powerlaw.K   cm-2 keV-1 s-1  \n",
       "source3...index                                           \n",
       "source3.spectrum.main.Cutoff_powerlaw.xc             keV  \n",
       "ext1.Gaussian_on_sphere.lon0                         deg  \n",
       "ext1.Gaussian_on_sphere.lat0                         deg  \n",
       "ext1.Gaussian_on_sphere.sigma                        deg  \n",
       "ext1.spectrum.main.Powerlaw.K             cm-2 keV-1 s-1  \n",
       "ext1.spectrum.main.Powerlaw.index                         \n",
       "ext2.Continuous_injection_diffusion.lon0             deg  \n",
       "ext2.Continuous_injection_diffusion.lat0             deg  \n",
       "ext2...rdiff0                                        deg  \n",
       "ext2.spectrum.main.Constant.k                             \n",
       "\n",
       "Fixed parameters (17):\n",
       "(abridged. Use complete=True to see all fixed parameters)\n",
       "\n",
       "\n",
       "Linked parameters (2):\n",
       "----------------------\n",
       "\n",
       "              source2.spectrum.main.composite.K_1\n",
       "current value                             2.3e-09\n",
       "function                                     Line\n",
       "linked to        source1.spectrum.main.Powerlaw.K\n",
       "unit                              1 / (cm2 keV s)\n",
       "\n",
       "               source2.spectrum.main.composite.index_2\n",
       "current value                                     -2.0\n",
       "function                                          Line\n",
       "linked to      source2.spectrum.main.composite.alpha_1\n",
       "unit                                                  \n",
       "\n",
       "\n",
       "Independent variables:\n",
       "----------------------\n",
       "\n",
       "(none)"
      ]
     },
     "metadata": {},
     "output_type": "display_data"
    }
   ],
   "source": [
    "# Fix a parameter\n",
    "model.source1.spectrum.main.Powerlaw.K.fix = True\n",
    "# or\n",
    "model.source1.spectrum.main.Powerlaw.K.free = False\n",
    "\n",
    "# Free it again\n",
    "model.source1.spectrum.main.Powerlaw.K.free = True\n",
    "# or\n",
    "model.source1.spectrum.main.Powerlaw.K.fix = False\n",
    "\n",
    "# Change the value\n",
    "model.source1.spectrum.main.Powerlaw.K = 2.3\n",
    "# or using physical units (need to be compatible with what shown \n",
    "# in the table above)\n",
    "model.source1.spectrum.main.Powerlaw.K = 2.3 * 1 / (u.cm**2 * u.s * u.TeV)\n",
    "\n",
    "# Change the boundaries for the parameter\n",
    "model.source1.spectrum.main.Powerlaw.K.bounds = (1e-10, 1.0)\n",
    "# you can use units here as well, like:\n",
    "model.source1.spectrum.main.Powerlaw.K.bounds = (1e-5 * 1 / (u.cm**2 * u.s * u.TeV), \n",
    "                                                 10.0 * 1 / (u.cm**2 * u.s * u.TeV))\n",
    "\n",
    "# Link two parameters so that they are forced to have the same value\n",
    "model.link(model.source2.spectrum.main.composite.K_1,\n",
    "           model.source1.spectrum.main.Powerlaw.K)\n",
    "\n",
    "# Link two parameters with a law. The parameters of the law become free\n",
    "# parameters in the fit. In this case we impose a linear relationship\n",
    "# between the index of the log-parabolic spectrum and the index of the\n",
    "# powerlaw in source2: index_2 = a * alpha_1 + b. \n",
    "\n",
    "law = Line()\n",
    "model.link(model.source2.spectrum.main.composite.index_2,\n",
    "           model.source2.spectrum.main.composite.alpha_1,\n",
    "           law)\n",
    "\n",
    "# If you want to force them to be in a specific relationship,\n",
    "# say index_2 = alpha_1 + 1, just fix a and b to the corresponding values,\n",
    "# after the linking, like:\n",
    "# model.source2.spectrum.main.composite.index_2.Line.a = 1.0\n",
    "# model.source2.spectrum.main.composite.index_2.Line.a.fix = True\n",
    "# model.source2.spectrum.main.composite.index_2.Line.b = 0.0\n",
    "# model.source2.spectrum.main.composite.index_2.Line.b.fix = True\n",
    "\n",
    "# Now display() will show the links\n",
    "model.display()"
   ]
  },
  {
   "cell_type": "markdown",
   "metadata": {
    "deletable": true,
    "editable": true
   },
   "source": [
    "Now, for the following steps, let's keep it simple and let's use a single point source:"
   ]
  },
  {
   "cell_type": "code",
   "execution_count": 10,
   "metadata": {
    "collapsed": false,
    "deletable": true,
    "editable": true
   },
   "outputs": [
    {
     "name": "stderr",
     "output_type": "stream",
     "text": [
      "\n",
      "WARNING RuntimeWarning: The current value of the parameter K (2.3e-09) was below the new minimum 0.01.\n",
      "\n"
     ]
    }
   ],
   "source": [
    "new_model = Model(source1)\n",
    "\n",
    "source1_sp.K.bounds = (0.01, 100)"
   ]
  },
  {
   "cell_type": "markdown",
   "metadata": {
    "deletable": true,
    "editable": true
   },
   "source": [
    "A model can be saved to disk, and reloaded from disk, as:"
   ]
  },
  {
   "cell_type": "code",
   "execution_count": 11,
   "metadata": {
    "collapsed": false,
    "deletable": true,
    "editable": true
   },
   "outputs": [],
   "source": [
    "new_model.save(\"new_model.yml\", overwrite=True)\n",
    "\n",
    "new_model_reloaded = load_model(\"new_model.yml\")"
   ]
  },
  {
   "cell_type": "markdown",
   "metadata": {
    "deletable": true,
    "editable": true
   },
   "source": [
    "The output is in [YAML format](https://http://www.yaml.org/start.html), a human-readable text-based format."
   ]
  },
  {
   "cell_type": "markdown",
   "metadata": {
    "deletable": true,
    "editable": true
   },
   "source": [
    "## Perform the analysis\n",
    "\n",
    "### Maximum likelihood analysis\n",
    "\n",
    "Now that we have the data and the model, we can perform an analysis very easily:"
   ]
  },
  {
   "cell_type": "code",
   "execution_count": 12,
   "metadata": {
    "collapsed": false,
    "deletable": true,
    "editable": true
   },
   "outputs": [
    {
     "name": "stdout",
     "output_type": "stream",
     "text": [
      "Best fit values:\n",
      "\n"
     ]
    },
    {
     "data": {
      "text/html": [
       "<div>\n",
       "<table border=\"1\" class=\"dataframe\">\n",
       "  <thead>\n",
       "    <tr style=\"text-align: right;\">\n",
       "      <th></th>\n",
       "      <th>result</th>\n",
       "      <th>unit</th>\n",
       "    </tr>\n",
       "    <tr>\n",
       "      <th>parameter</th>\n",
       "      <th></th>\n",
       "      <th></th>\n",
       "    </tr>\n",
       "  </thead>\n",
       "  <tbody>\n",
       "    <tr>\n",
       "      <th>source1.spectrum.main.Powerlaw.K</th>\n",
       "      <td>(9.0 -3.1 +5) x 10^-1</td>\n",
       "      <td>1 / (cm2 keV s)</td>\n",
       "    </tr>\n",
       "    <tr>\n",
       "      <th>source1.spectrum.main.Powerlaw.index</th>\n",
       "      <td>-1.980 +/- 0.07</td>\n",
       "      <td></td>\n",
       "    </tr>\n",
       "  </tbody>\n",
       "</table>\n",
       "</div>"
      ],
      "text/plain": [
       "                                                     result             unit\n",
       "parameter                                                                   \n",
       "source1.spectrum.main.Powerlaw.K      (9.0 -3.1 +5) x 10^-1  1 / (cm2 keV s)\n",
       "source1.spectrum.main.Powerlaw.index        -1.980 +/- 0.07                 "
      ]
     },
     "metadata": {},
     "output_type": "display_data"
    },
    {
     "name": "stdout",
     "output_type": "stream",
     "text": [
      "\n",
      "Correlation matrix:\n",
      "\n"
     ]
    },
    {
     "data": {
      "text/html": [
       "<table id=\"table139950241176016\">\n",
       "<tr><td>1.00</td><td>-0.99</td></tr>\n",
       "<tr><td>-0.99</td><td>1.00</td></tr>\n",
       "</table>"
      ],
      "text/plain": [
       " 1.00 -0.99\n",
       "-0.99  1.00"
      ]
     },
     "metadata": {},
     "output_type": "display_data"
    },
    {
     "name": "stdout",
     "output_type": "stream",
     "text": [
      "\n",
      "Values of -log(likelihood) at the minimum:\n",
      "\n"
     ]
    },
    {
     "data": {
      "text/html": [
       "<div>\n",
       "<table border=\"1\" class=\"dataframe\">\n",
       "  <thead>\n",
       "    <tr style=\"text-align: right;\">\n",
       "      <th></th>\n",
       "      <th>-log(likelihood)</th>\n",
       "    </tr>\n",
       "  </thead>\n",
       "  <tbody>\n",
       "    <tr>\n",
       "      <th>ogip</th>\n",
       "      <td>181.766578</td>\n",
       "    </tr>\n",
       "    <tr>\n",
       "      <th>total</th>\n",
       "      <td>181.766578</td>\n",
       "    </tr>\n",
       "  </tbody>\n",
       "</table>\n",
       "</div>"
      ],
      "text/plain": [
       "       -log(likelihood)\n",
       "ogip         181.766578\n",
       "total        181.766578"
      ]
     },
     "metadata": {},
     "output_type": "display_data"
    },
    {
     "name": "stdout",
     "output_type": "stream",
     "text": [
      "\n",
      "Values of statistical measures:\n",
      "\n"
     ]
    },
    {
     "data": {
      "text/html": [
       "<div>\n",
       "<table border=\"1\" class=\"dataframe\">\n",
       "  <thead>\n",
       "    <tr style=\"text-align: right;\">\n",
       "      <th></th>\n",
       "      <th>statistical measures</th>\n",
       "    </tr>\n",
       "  </thead>\n",
       "  <tbody>\n",
       "    <tr>\n",
       "      <th>AIC</th>\n",
       "      <td>367.629156</td>\n",
       "    </tr>\n",
       "    <tr>\n",
       "      <th>BIC</th>\n",
       "      <td>373.237217</td>\n",
       "    </tr>\n",
       "  </tbody>\n",
       "</table>\n",
       "</div>"
      ],
      "text/plain": [
       "     statistical measures\n",
       "AIC            367.629156\n",
       "BIC            373.237217"
      ]
     },
     "metadata": {},
     "output_type": "display_data"
    }
   ],
   "source": [
    "data = DataList(ogip)\n",
    "\n",
    "jl = JointLikelihood(new_model, data)\n",
    "\n",
    "best_fit_parameters, likelihood_values = jl.fit()"
   ]
  },
  {
   "cell_type": "markdown",
   "metadata": {
    "deletable": true,
    "editable": true
   },
   "source": [
    "The output of the fit() method of the JointLikelihood object consists of two pandas DataFrame objects, which can be queried, saved to disk, reloaded and so on. Refer to the [pandas manual](http://pandas.pydata.org/pandas-docs/stable/dsintro.html#dataframe) for details.\n",
    "\n",
    "After the fit the JointLikelihood instance will have a .results attribute which contains the results of the fit."
   ]
  },
  {
   "cell_type": "code",
   "execution_count": 13,
   "metadata": {
    "collapsed": false,
    "deletable": true,
    "editable": true
   },
   "outputs": [
    {
     "name": "stdout",
     "output_type": "stream",
     "text": [
      "Best fit values:\n",
      "\n"
     ]
    },
    {
     "data": {
      "text/html": [
       "<div>\n",
       "<table border=\"1\" class=\"dataframe\">\n",
       "  <thead>\n",
       "    <tr style=\"text-align: right;\">\n",
       "      <th></th>\n",
       "      <th>result</th>\n",
       "      <th>unit</th>\n",
       "    </tr>\n",
       "    <tr>\n",
       "      <th>parameter</th>\n",
       "      <th></th>\n",
       "      <th></th>\n",
       "    </tr>\n",
       "  </thead>\n",
       "  <tbody>\n",
       "    <tr>\n",
       "      <th>source1.spectrum.main.Powerlaw.K</th>\n",
       "      <td>(9.0 -3.1 +5) x 10^-1</td>\n",
       "      <td>1 / (cm2 keV s)</td>\n",
       "    </tr>\n",
       "    <tr>\n",
       "      <th>source1.spectrum.main.Powerlaw.index</th>\n",
       "      <td>-1.980 +/- 0.07</td>\n",
       "      <td></td>\n",
       "    </tr>\n",
       "  </tbody>\n",
       "</table>\n",
       "</div>"
      ],
      "text/plain": [
       "                                                     result             unit\n",
       "parameter                                                                   \n",
       "source1.spectrum.main.Powerlaw.K      (9.0 -3.1 +5) x 10^-1  1 / (cm2 keV s)\n",
       "source1.spectrum.main.Powerlaw.index        -1.980 +/- 0.07                 "
      ]
     },
     "metadata": {},
     "output_type": "display_data"
    },
    {
     "name": "stdout",
     "output_type": "stream",
     "text": [
      "\n",
      "Correlation matrix:\n",
      "\n"
     ]
    },
    {
     "data": {
      "text/html": [
       "<table id=\"table139950241618448\">\n",
       "<tr><td>1.00</td><td>-0.99</td></tr>\n",
       "<tr><td>-0.99</td><td>1.00</td></tr>\n",
       "</table>"
      ],
      "text/plain": [
       " 1.00 -0.99\n",
       "-0.99  1.00"
      ]
     },
     "metadata": {},
     "output_type": "display_data"
    },
    {
     "name": "stdout",
     "output_type": "stream",
     "text": [
      "\n",
      "Values of -log(likelihood) at the minimum:\n",
      "\n"
     ]
    },
    {
     "data": {
      "text/html": [
       "<div>\n",
       "<table border=\"1\" class=\"dataframe\">\n",
       "  <thead>\n",
       "    <tr style=\"text-align: right;\">\n",
       "      <th></th>\n",
       "      <th>-log(likelihood)</th>\n",
       "    </tr>\n",
       "  </thead>\n",
       "  <tbody>\n",
       "    <tr>\n",
       "      <th>ogip</th>\n",
       "      <td>181.766578</td>\n",
       "    </tr>\n",
       "    <tr>\n",
       "      <th>total</th>\n",
       "      <td>181.766578</td>\n",
       "    </tr>\n",
       "  </tbody>\n",
       "</table>\n",
       "</div>"
      ],
      "text/plain": [
       "       -log(likelihood)\n",
       "ogip         181.766578\n",
       "total        181.766578"
      ]
     },
     "metadata": {},
     "output_type": "display_data"
    },
    {
     "name": "stdout",
     "output_type": "stream",
     "text": [
      "\n",
      "Values of statistical measures:\n",
      "\n"
     ]
    },
    {
     "data": {
      "text/html": [
       "<div>\n",
       "<table border=\"1\" class=\"dataframe\">\n",
       "  <thead>\n",
       "    <tr style=\"text-align: right;\">\n",
       "      <th></th>\n",
       "      <th>statistical measures</th>\n",
       "    </tr>\n",
       "  </thead>\n",
       "  <tbody>\n",
       "    <tr>\n",
       "      <th>AIC</th>\n",
       "      <td>367.629156</td>\n",
       "    </tr>\n",
       "    <tr>\n",
       "      <th>BIC</th>\n",
       "      <td>373.237217</td>\n",
       "    </tr>\n",
       "  </tbody>\n",
       "</table>\n",
       "</div>"
      ],
      "text/plain": [
       "     statistical measures\n",
       "AIC            367.629156\n",
       "BIC            373.237217"
      ]
     },
     "metadata": {},
     "output_type": "display_data"
    }
   ],
   "source": [
    "jl.results.display()"
   ]
  },
  {
   "cell_type": "markdown",
   "metadata": {
    "deletable": true,
    "editable": true
   },
   "source": [
    "This object can be saved to disk in a FITS file:"
   ]
  },
  {
   "cell_type": "code",
   "execution_count": 14,
   "metadata": {
    "collapsed": false,
    "deletable": true,
    "editable": true
   },
   "outputs": [
    {
     "name": "stderr",
     "output_type": "stream",
     "text": [
      "WARNING: AstropyDeprecationWarning: \"clobber\" was deprecated in version 2.0 and will be removed in a future version. Use argument \"overwrite\" instead. [astropy.utils.decorators]\n",
      "WARNING:astropy:AstropyDeprecationWarning: \"clobber\" was deprecated in version 2.0 and will be removed in a future version. Use argument \"overwrite\" instead.\n"
     ]
    }
   ],
   "source": [
    "jl.results.write_to(\"my_results.fits\", overwrite=True)"
   ]
  },
  {
   "cell_type": "markdown",
   "metadata": {
    "deletable": true,
    "editable": true
   },
   "source": [
    "The produced FITS file contains the complete definition of the model and of the results, so it can be reloaded in a separate session as:"
   ]
  },
  {
   "cell_type": "code",
   "execution_count": 15,
   "metadata": {
    "collapsed": false,
    "deletable": true,
    "editable": true
   },
   "outputs": [
    {
     "name": "stdout",
     "output_type": "stream",
     "text": [
      "Best fit values:\n",
      "\n"
     ]
    },
    {
     "data": {
      "text/html": [
       "<div>\n",
       "<table border=\"1\" class=\"dataframe\">\n",
       "  <thead>\n",
       "    <tr style=\"text-align: right;\">\n",
       "      <th></th>\n",
       "      <th>result</th>\n",
       "      <th>unit</th>\n",
       "    </tr>\n",
       "    <tr>\n",
       "      <th>parameter</th>\n",
       "      <th></th>\n",
       "      <th></th>\n",
       "    </tr>\n",
       "  </thead>\n",
       "  <tbody>\n",
       "    <tr>\n",
       "      <th>source1.spectrum.main.Powerlaw.K</th>\n",
       "      <td>(9.0 -3.1 +5) x 10^-1</td>\n",
       "      <td>1 / (cm2 keV s)</td>\n",
       "    </tr>\n",
       "    <tr>\n",
       "      <th>source1.spectrum.main.Powerlaw.index</th>\n",
       "      <td>-1.980 +/- 0.07</td>\n",
       "      <td></td>\n",
       "    </tr>\n",
       "  </tbody>\n",
       "</table>\n",
       "</div>"
      ],
      "text/plain": [
       "                                                     result             unit\n",
       "parameter                                                                   \n",
       "source1.spectrum.main.Powerlaw.K      (9.0 -3.1 +5) x 10^-1  1 / (cm2 keV s)\n",
       "source1.spectrum.main.Powerlaw.index        -1.980 +/- 0.07                 "
      ]
     },
     "metadata": {},
     "output_type": "display_data"
    },
    {
     "name": "stdout",
     "output_type": "stream",
     "text": [
      "\n",
      "Correlation matrix:\n",
      "\n"
     ]
    },
    {
     "data": {
      "text/html": [
       "<table id=\"table139950237052560\">\n",
       "<tr><td>1.00</td><td>-0.99</td></tr>\n",
       "<tr><td>-0.99</td><td>1.00</td></tr>\n",
       "</table>"
      ],
      "text/plain": [
       " 1.00 -0.99\n",
       "-0.99  1.00"
      ]
     },
     "metadata": {},
     "output_type": "display_data"
    },
    {
     "name": "stdout",
     "output_type": "stream",
     "text": [
      "\n",
      "Values of -log(likelihood) at the minimum:\n",
      "\n"
     ]
    },
    {
     "data": {
      "text/html": [
       "<div>\n",
       "<table border=\"1\" class=\"dataframe\">\n",
       "  <thead>\n",
       "    <tr style=\"text-align: right;\">\n",
       "      <th></th>\n",
       "      <th>-log(likelihood)</th>\n",
       "    </tr>\n",
       "  </thead>\n",
       "  <tbody>\n",
       "    <tr>\n",
       "      <th>ogip</th>\n",
       "      <td>181.766578</td>\n",
       "    </tr>\n",
       "    <tr>\n",
       "      <th>total</th>\n",
       "      <td>181.766578</td>\n",
       "    </tr>\n",
       "  </tbody>\n",
       "</table>\n",
       "</div>"
      ],
      "text/plain": [
       "       -log(likelihood)\n",
       "ogip         181.766578\n",
       "total        181.766578"
      ]
     },
     "metadata": {},
     "output_type": "display_data"
    },
    {
     "name": "stdout",
     "output_type": "stream",
     "text": [
      "\n",
      "Values of statistical measures:\n",
      "\n"
     ]
    },
    {
     "data": {
      "text/html": [
       "<div>\n",
       "<table border=\"1\" class=\"dataframe\">\n",
       "  <thead>\n",
       "    <tr style=\"text-align: right;\">\n",
       "      <th></th>\n",
       "      <th>statistical measures</th>\n",
       "    </tr>\n",
       "  </thead>\n",
       "  <tbody>\n",
       "    <tr>\n",
       "      <th>AIC</th>\n",
       "      <td>367.629156</td>\n",
       "    </tr>\n",
       "    <tr>\n",
       "      <th>BIC</th>\n",
       "      <td>373.237217</td>\n",
       "    </tr>\n",
       "  </tbody>\n",
       "</table>\n",
       "</div>"
      ],
      "text/plain": [
       "     statistical measures\n",
       "AIC            367.629156\n",
       "BIC            373.237217"
      ]
     },
     "metadata": {},
     "output_type": "display_data"
    }
   ],
   "source": [
    "results_reloaded = load_analysis_results(\"my_results.fits\")\n",
    "\n",
    "results_reloaded.display()"
   ]
  },
  {
   "cell_type": "markdown",
   "metadata": {
    "collapsed": true,
    "deletable": true,
    "editable": true
   },
   "source": [
    "The flux of the source can be computed from the 'results' object (even in another session by reloading the FITS file), as:"
   ]
  },
  {
   "cell_type": "code",
   "execution_count": 16,
   "metadata": {
    "collapsed": false,
    "deletable": true,
    "editable": true
   },
   "outputs": [
    {
     "data": {
      "application/vnd.jupyter.widget-view+json": {
       "model_id": "e403a32847bf44088f4eaf2eacbb676b"
      }
     },
     "metadata": {},
     "output_type": "display_data"
    },
    {
     "data": {
      "text/html": [
       "<div>\n",
       "<table border=\"1\" class=\"dataframe\">\n",
       "  <thead>\n",
       "    <tr style=\"text-align: right;\">\n",
       "      <th></th>\n",
       "      <th>flux</th>\n",
       "    </tr>\n",
       "  </thead>\n",
       "  <tbody>\n",
       "    <tr>\n",
       "      <th>source1: total</th>\n",
       "      <td>(3.9 -1.7 +2.5) x 10^-9 erg / (cm2 s)</td>\n",
       "    </tr>\n",
       "  </tbody>\n",
       "</table>\n",
       "</div>"
      ],
      "text/plain": [
       "                                                 flux\n",
       "source1: total  (3.9 -1.7 +2.5) x 10^-9 erg / (cm2 s)"
      ]
     },
     "metadata": {},
     "output_type": "display_data"
    }
   ],
   "source": [
    "fluxes = jl.results.get_point_source_flux(100 * u.keV, 1 * u.MeV)\n",
    "\n",
    "# Same results would be obtained with\n",
    "# fluxes = results_reloaded.get_point_source_flux(100 * u.keV, 1 * u.MeV)"
   ]
  },
  {
   "cell_type": "markdown",
   "metadata": {
    "deletable": true,
    "editable": true
   },
   "source": [
    "We can also plot the spectrum with its error region, as:"
   ]
  },
  {
   "cell_type": "code",
   "execution_count": 17,
   "metadata": {
    "collapsed": false,
    "deletable": true,
    "editable": true
   },
   "outputs": [
    {
     "data": {
      "application/vnd.jupyter.widget-view+json": {
       "model_id": "a4ecf06f16df4e93b8a01c21f2be9970"
      }
     },
     "metadata": {},
     "output_type": "display_data"
    },
    {
     "data": {
      "image/png": "[encoded data removed]",
      "text/plain": [
       "<matplotlib.figure.Figure at 0x7f48b4701dd0>"
      ]
     },
     "execution_count": 17,
     "metadata": {},
     "output_type": "execute_result"
    }
   ],
   "source": [
    "plot_point_source_spectra(jl.results, ene_min=0.1, ene_max=1e6, num_ene=500, \n",
    "                          flux_unit='erg / (cm2 s)')"
   ]
  },
  {
   "cell_type": "markdown",
   "metadata": {
    "deletable": true,
    "editable": true
   },
   "source": [
    "### Bayesian analysis\n",
    "In a very similar way, we can also perform a Bayesian analysis. As a first step, we need to define the priors for all parameters:"
   ]
  },
  {
   "cell_type": "code",
   "execution_count": 18,
   "metadata": {
    "collapsed": false,
    "deletable": true,
    "editable": true
   },
   "outputs": [
    {
     "data": {
      "text/html": [
       "Model summary:<br><br><div>\n",
       "<table border=\"1\" class=\"dataframe\">\n",
       "  <thead>\n",
       "    <tr style=\"text-align: right;\">\n",
       "      <th></th>\n",
       "      <th>N</th>\n",
       "    </tr>\n",
       "  </thead>\n",
       "  <tbody>\n",
       "    <tr>\n",
       "      <th>Point sources</th>\n",
       "      <td>1</td>\n",
       "    </tr>\n",
       "    <tr>\n",
       "      <th>Extended sources</th>\n",
       "      <td>0</td>\n",
       "    </tr>\n",
       "    <tr>\n",
       "      <th>Particle sources</th>\n",
       "      <td>0</td>\n",
       "    </tr>\n",
       "  </tbody>\n",
       "</table>\n",
       "</div><br><br>Free parameters (2):<br><br><div>\n",
       "<table border=\"1\" class=\"dataframe\">\n",
       "  <thead>\n",
       "    <tr style=\"text-align: right;\">\n",
       "      <th></th>\n",
       "      <th>value</th>\n",
       "      <th>min_value</th>\n",
       "      <th>max_value</th>\n",
       "      <th>unit</th>\n",
       "    </tr>\n",
       "  </thead>\n",
       "  <tbody>\n",
       "    <tr>\n",
       "      <th>source1.spectrum.main.Powerlaw.K</th>\n",
       "      <td>0.902795</td>\n",
       "      <td>0.01</td>\n",
       "      <td>100</td>\n",
       "      <td>cm-2 keV-1 s-1</td>\n",
       "    </tr>\n",
       "    <tr>\n",
       "      <th>source1.spectrum.main.Powerlaw.index</th>\n",
       "      <td>-1.9774</td>\n",
       "      <td>-10</td>\n",
       "      <td>10</td>\n",
       "      <td></td>\n",
       "    </tr>\n",
       "  </tbody>\n",
       "</table>\n",
       "</div><br><br>Fixed parameters (4):<br>(abridged. Use complete=True to see all fixed parameters)<br><br><br>Linked parameters (0):<br><br>(none)<br><br>Independent variables:<br><br>(none)<br>"
      ],
      "text/plain": [
       "Model summary:\n",
       "==============\n",
       "\n",
       "                  N\n",
       "Point sources     1\n",
       "Extended sources  0\n",
       "Particle sources  0\n",
       "\n",
       "Free parameters (2):\n",
       "--------------------\n",
       "\n",
       "                                         value min_value max_value  \\\n",
       "source1.spectrum.main.Powerlaw.K      0.902795      0.01       100   \n",
       "source1.spectrum.main.Powerlaw.index   -1.9774       -10        10   \n",
       "\n",
       "                                                unit  \n",
       "source1.spectrum.main.Powerlaw.K      cm-2 keV-1 s-1  \n",
       "source1.spectrum.main.Powerlaw.index                  \n",
       "\n",
       "Fixed parameters (4):\n",
       "(abridged. Use complete=True to see all fixed parameters)\n",
       "\n",
       "\n",
       "Linked parameters (0):\n",
       "----------------------\n",
       "\n",
       "(none)\n",
       "\n",
       "Independent variables:\n",
       "----------------------\n",
       "\n",
       "(none)"
      ]
     },
     "metadata": {},
     "output_type": "display_data"
    }
   ],
   "source": [
    "# A uniform prior can be defined directly, like:\n",
    "new_model.source1.spectrum.main.Powerlaw.index.prior = Uniform_prior(lower_bound=-10, \n",
    "                                                                     upper_bound=10)\n",
    "\n",
    "# or it can be set using the currently defined boundaries\n",
    "new_model.source1.spectrum.main.Powerlaw.index.set_uninformative_prior(Uniform_prior)\n",
    "\n",
    "# The same for the Log_uniform prior\n",
    "new_model.source1.spectrum.main.Powerlaw.K.prior = Log_uniform_prior(lower_bound=1e-3, \n",
    "                                                                     upper_bound=100)\n",
    "# or\n",
    "new_model.source1.spectrum.main.Powerlaw.K.set_uninformative_prior(Log_uniform_prior)\n",
    "\n",
    "new_model.display()"
   ]
  },
  {
   "cell_type": "markdown",
   "metadata": {
    "deletable": true,
    "editable": true
   },
   "source": [
    "Then, we can perform our Bayesian analysis like:"
   ]
  },
  {
   "cell_type": "code",
   "execution_count": 19,
   "metadata": {
    "collapsed": false,
    "deletable": true,
    "editable": true
   },
   "outputs": [
    {
     "name": "stderr",
     "output_type": "stream",
     "text": [
      "\n",
      "WARNING RuntimeWarning: External parameter cons_ogip already exist in the model. Overwriting it...\n",
      "\n"
     ]
    },
    {
     "data": {
      "application/vnd.jupyter.widget-view+json": {
       "model_id": "1dbc3eda5605469f9b4777a2c66eda4a"
      }
     },
     "metadata": {},
     "output_type": "display_data"
    },
    {
     "data": {
      "application/vnd.jupyter.widget-view+json": {
       "model_id": "0840a92cd3cd4a1a89e9be8104d9127d"
      }
     },
     "metadata": {},
     "output_type": "display_data"
    },
    {
     "name": "stdout",
     "output_type": "stream",
     "text": [
      "\n",
      "Mean acceptance fraction: 0.629966666667\n",
      "\n",
      "Maximum a posteriori probability (MAP) point:\n",
      "\n"
     ]
    },
    {
     "data": {
      "text/html": [
       "<div>\n",
       "<table border=\"1\" class=\"dataframe\">\n",
       "  <thead>\n",
       "    <tr style=\"text-align: right;\">\n",
       "      <th></th>\n",
       "      <th>result</th>\n",
       "      <th>unit</th>\n",
       "    </tr>\n",
       "    <tr>\n",
       "      <th>parameter</th>\n",
       "      <th></th>\n",
       "      <th></th>\n",
       "    </tr>\n",
       "  </thead>\n",
       "  <tbody>\n",
       "    <tr>\n",
       "      <th>source1.spectrum.main.Powerlaw.K</th>\n",
       "      <td>1.100 +/- 0.4</td>\n",
       "      <td>1 / (cm2 keV s)</td>\n",
       "    </tr>\n",
       "    <tr>\n",
       "      <th>source1.spectrum.main.Powerlaw.index</th>\n",
       "      <td>-1.99 -0.07 +0.06</td>\n",
       "      <td></td>\n",
       "    </tr>\n",
       "  </tbody>\n",
       "</table>\n",
       "</div>"
      ],
      "text/plain": [
       "                                                 result             unit\n",
       "parameter                                                               \n",
       "source1.spectrum.main.Powerlaw.K          1.100 +/- 0.4  1 / (cm2 keV s)\n",
       "source1.spectrum.main.Powerlaw.index  -1.99 -0.07 +0.06                 "
      ]
     },
     "metadata": {},
     "output_type": "display_data"
    },
    {
     "name": "stdout",
     "output_type": "stream",
     "text": [
      "\n",
      "Values of -log(posterior) at the minimum:\n",
      "\n"
     ]
    },
    {
     "data": {
      "text/html": [
       "<div>\n",
       "<table border=\"1\" class=\"dataframe\">\n",
       "  <thead>\n",
       "    <tr style=\"text-align: right;\">\n",
       "      <th></th>\n",
       "      <th>-log(posterior)</th>\n",
       "    </tr>\n",
       "  </thead>\n",
       "  <tbody>\n",
       "    <tr>\n",
       "      <th>ogip</th>\n",
       "      <td>-181.706235</td>\n",
       "    </tr>\n",
       "    <tr>\n",
       "      <th>total</th>\n",
       "      <td>-181.706235</td>\n",
       "    </tr>\n",
       "  </tbody>\n",
       "</table>\n",
       "</div>"
      ],
      "text/plain": [
       "       -log(posterior)\n",
       "ogip       -181.706235\n",
       "total      -181.706235"
      ]
     },
     "metadata": {},
     "output_type": "display_data"
    },
    {
     "name": "stdout",
     "output_type": "stream",
     "text": [
      "\n",
      "Values of statistical measures:\n",
      "\n"
     ]
    },
    {
     "data": {
      "text/html": [
       "<div>\n",
       "<table border=\"1\" class=\"dataframe\">\n",
       "  <thead>\n",
       "    <tr style=\"text-align: right;\">\n",
       "      <th></th>\n",
       "      <th>statistical measures</th>\n",
       "    </tr>\n",
       "  </thead>\n",
       "  <tbody>\n",
       "    <tr>\n",
       "      <th>AIC</th>\n",
       "      <td>367.508470</td>\n",
       "    </tr>\n",
       "    <tr>\n",
       "      <th>BIC</th>\n",
       "      <td>373.116531</td>\n",
       "    </tr>\n",
       "    <tr>\n",
       "      <th>DIC</th>\n",
       "      <td>365.657072</td>\n",
       "    </tr>\n",
       "    <tr>\n",
       "      <th>PDIC</th>\n",
       "      <td>0.118432</td>\n",
       "    </tr>\n",
       "  </tbody>\n",
       "</table>\n",
       "</div>"
      ],
      "text/plain": [
       "      statistical measures\n",
       "AIC             367.508470\n",
       "BIC             373.116531\n",
       "DIC             365.657072\n",
       "PDIC              0.118432"
      ]
     },
     "metadata": {},
     "output_type": "display_data"
    }
   ],
   "source": [
    "bs = BayesianAnalysis(new_model, data)\n",
    "\n",
    "# This uses the emcee sampler\n",
    "samples = bs.sample(n_walkers=30, burn_in=100, n_samples=1000)"
   ]
  },
  {
   "cell_type": "markdown",
   "metadata": {
    "deletable": true,
    "editable": true
   },
   "source": [
    "The BayesianAnalysis object will now have a \"results\" member which will work exactly the same as explained for the Maximum Likelihood analysis (see above):"
   ]
  },
  {
   "cell_type": "code",
   "execution_count": 20,
   "metadata": {
    "collapsed": false,
    "deletable": true,
    "editable": true
   },
   "outputs": [
    {
     "name": "stdout",
     "output_type": "stream",
     "text": [
      "Maximum a posteriori probability (MAP) point:\n",
      "\n"
     ]
    },
    {
     "data": {
      "text/html": [
       "<div>\n",
       "<table border=\"1\" class=\"dataframe\">\n",
       "  <thead>\n",
       "    <tr style=\"text-align: right;\">\n",
       "      <th></th>\n",
       "      <th>result</th>\n",
       "      <th>unit</th>\n",
       "    </tr>\n",
       "    <tr>\n",
       "      <th>parameter</th>\n",
       "      <th></th>\n",
       "      <th></th>\n",
       "    </tr>\n",
       "  </thead>\n",
       "  <tbody>\n",
       "    <tr>\n",
       "      <th>source1.spectrum.main.Powerlaw.K</th>\n",
       "      <td>1.100 +/- 0.4</td>\n",
       "      <td>1 / (cm2 keV s)</td>\n",
       "    </tr>\n",
       "    <tr>\n",
       "      <th>source1.spectrum.main.Powerlaw.index</th>\n",
       "      <td>-1.99 -0.07 +0.06</td>\n",
       "      <td></td>\n",
       "    </tr>\n",
       "  </tbody>\n",
       "</table>\n",
       "</div>"
      ],
      "text/plain": [
       "                                                 result             unit\n",
       "parameter                                                               \n",
       "source1.spectrum.main.Powerlaw.K          1.100 +/- 0.4  1 / (cm2 keV s)\n",
       "source1.spectrum.main.Powerlaw.index  -1.99 -0.07 +0.06                 "
      ]
     },
     "metadata": {},
     "output_type": "display_data"
    },
    {
     "name": "stdout",
     "output_type": "stream",
     "text": [
      "\n",
      "Values of -log(posterior) at the minimum:\n",
      "\n"
     ]
    },
    {
     "data": {
      "text/html": [
       "<div>\n",
       "<table border=\"1\" class=\"dataframe\">\n",
       "  <thead>\n",
       "    <tr style=\"text-align: right;\">\n",
       "      <th></th>\n",
       "      <th>-log(posterior)</th>\n",
       "    </tr>\n",
       "  </thead>\n",
       "  <tbody>\n",
       "    <tr>\n",
       "      <th>ogip</th>\n",
       "      <td>-181.706235</td>\n",
       "    </tr>\n",
       "    <tr>\n",
       "      <th>total</th>\n",
       "      <td>-181.706235</td>\n",
       "    </tr>\n",
       "  </tbody>\n",
       "</table>\n",
       "</div>"
      ],
      "text/plain": [
       "       -log(posterior)\n",
       "ogip       -181.706235\n",
       "total      -181.706235"
      ]
     },
     "metadata": {},
     "output_type": "display_data"
    },
    {
     "name": "stdout",
     "output_type": "stream",
     "text": [
      "\n",
      "Values of statistical measures:\n",
      "\n"
     ]
    },
    {
     "data": {
      "text/html": [
       "<div>\n",
       "<table border=\"1\" class=\"dataframe\">\n",
       "  <thead>\n",
       "    <tr style=\"text-align: right;\">\n",
       "      <th></th>\n",
       "      <th>statistical measures</th>\n",
       "    </tr>\n",
       "  </thead>\n",
       "  <tbody>\n",
       "    <tr>\n",
       "      <th>AIC</th>\n",
       "      <td>367.508470</td>\n",
       "    </tr>\n",
       "    <tr>\n",
       "      <th>BIC</th>\n",
       "      <td>373.116531</td>\n",
       "    </tr>\n",
       "    <tr>\n",
       "      <th>DIC</th>\n",
       "      <td>365.657072</td>\n",
       "    </tr>\n",
       "    <tr>\n",
       "      <th>PDIC</th>\n",
       "      <td>0.118432</td>\n",
       "    </tr>\n",
       "  </tbody>\n",
       "</table>\n",
       "</div>"
      ],
      "text/plain": [
       "      statistical measures\n",
       "AIC             367.508470\n",
       "BIC             373.116531\n",
       "DIC             365.657072\n",
       "PDIC              0.118432"
      ]
     },
     "metadata": {},
     "output_type": "display_data"
    }
   ],
   "source": [
    "bs.results.display()"
   ]
  },
  {
   "cell_type": "code",
   "execution_count": 21,
   "metadata": {
    "collapsed": false,
    "deletable": true,
    "editable": true
   },
   "outputs": [
    {
     "data": {
      "application/vnd.jupyter.widget-view+json": {
       "model_id": "cee52feb27734398911926666dc84cec"
      }
     },
     "metadata": {},
     "output_type": "display_data"
    },
    {
     "data": {
      "text/html": [
       "<div>\n",
       "<table border=\"1\" class=\"dataframe\">\n",
       "  <thead>\n",
       "    <tr style=\"text-align: right;\">\n",
       "      <th></th>\n",
       "      <th>flux</th>\n",
       "    </tr>\n",
       "  </thead>\n",
       "  <tbody>\n",
       "    <tr>\n",
       "      <th>source1: total</th>\n",
       "      <td>(3.8 -1.6 +2.7) x 10^-9 erg / (cm2 s)</td>\n",
       "    </tr>\n",
       "  </tbody>\n",
       "</table>\n",
       "</div>"
      ],
      "text/plain": [
       "                                                 flux\n",
       "source1: total  (3.8 -1.6 +2.7) x 10^-9 erg / (cm2 s)"
      ]
     },
     "metadata": {},
     "output_type": "display_data"
    }
   ],
   "source": [
    "fluxes_bs = bs.results.get_point_source_flux(100 * u.keV, 1 * u.MeV)"
   ]
  },
  {
   "cell_type": "code",
   "execution_count": 22,
   "metadata": {
    "collapsed": false,
    "deletable": true,
    "editable": true
   },
   "outputs": [
    {
     "data": {
      "application/vnd.jupyter.widget-view+json": {
       "model_id": "16a8669c018749bb923fed11e9d83b93"
      }
     },
     "metadata": {},
     "output_type": "display_data"
    },
    {
     "data": {
      "image/png": "[encoded data removed]",
      "text/plain": [
       "<matplotlib.figure.Figure at 0x7f48b13e7d90>"
      ]
     },
     "execution_count": 22,
     "metadata": {},
     "output_type": "execute_result"
    }
   ],
   "source": [
    "plot_point_source_spectra(bs.results, ene_min=0.1, ene_max=1e6, num_ene=500, \n",
    "                          flux_unit='erg / (cm2 s)')"
   ]
  },
  {
   "cell_type": "markdown",
   "metadata": {
    "deletable": true,
    "editable": true
   },
   "source": [
    "We can also produce easily a \"corner plot\", like:"
   ]
  },
  {
   "cell_type": "code",
   "execution_count": 23,
   "metadata": {
    "collapsed": false,
    "deletable": true,
    "editable": true
   },
   "outputs": [
    {
     "data": {
      "image/png": "[encoded data removed]",
      "text/plain": [
       "<matplotlib.figure.Figure at 0x7f48b144f050>"
      ]
     },
     "execution_count": 23,
     "metadata": {},
     "output_type": "execute_result"
    }
   ],
   "source": [
    "bs.corner_plot()"
   ]
  },
  {
   "cell_type": "code",
   "execution_count": null,
   "metadata": {
    "collapsed": true,
    "deletable": true,
    "editable": true
   },
   "outputs": [],
   "source": []
  }
 ],
 "metadata": {
  "kernelspec": {
   "display_name": "Python 2",
   "language": "python",
   "name": "python2"
  },
  "language_info": {
   "codemirror_mode": {
    "name": "ipython",
    "version": 2
   },
   "file_extension": ".py",
   "mimetype": "text/x-python",
   "name": "python",
   "nbconvert_exporter": "python",
   "pygments_lexer": "ipython2",
   "version": "2.7.12"
  }
 },
 "nbformat": 4,
 "nbformat_minor": 0
}
