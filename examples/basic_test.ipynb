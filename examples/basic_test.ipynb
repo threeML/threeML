{
 "cells": [
  {
   "cell_type": "code",
   "execution_count": 1,
   "metadata": {
    "collapsed": false
   },
   "outputs": [
    {
     "name": "stderr",
     "output_type": "stream",
     "text": [
      "\n",
      "WARNING CppInterfaceNotAvailable: The cthreeML package is not installed. You will not be able to use plugins which require the C/C++ interface (currently HAWC)\n",
      "\n",
      "\n",
      "WARNING NaimaNotAvailable: The naima package is not available. Models that depend on it will not be available\n",
      "\n",
      "\n",
      "WARNING GSLNotAvailable: The GSL library or the pygsl wrapper cannot be loaded. Models that depend on it will not be available.\n",
      "\n"
     ]
    },
    {
     "name": "stdout",
     "output_type": "stream",
     "text": [
      "\n",
      "Did you try to import pygsl in the build directory?\n",
      "\n",
      "Well, that does not work out of the box. If you want to do that, please\n",
      "use\n",
      "      python setup.py build_ext -i\n",
      "to add the necessary extension module in the local pygsl/ directory!\n",
      "\n",
      "Please read the README first! Any further questions or missing information\n",
      "please post to pygsl-discuss@lists.sourceforge.net!\n",
      "\n",
<<<<<<< HEAD
      "Loading xspec models..."
=======
      "Loading xspec models...Generating code for Xspec model agauss...\n",
      "Generating code for Xspec model apec...\n",
      "Generating code for Xspec model bapec...\n",
      "Generating code for Xspec model bbody...\n",
      "Generating code for Xspec model bbodyrad...\n",
      "Generating code for Xspec model bexrav...\n",
      "Generating code for Xspec model bexriv...\n",
      "Generating code for Xspec model bknpower...\n",
      "Generating code for Xspec model bkn2pow...\n",
      "Generating code for Xspec model bmc...\n",
      "Generating code for Xspec model bremss...\n",
      "Generating code for Xspec model bvapec...\n",
      "Generating code for Xspec model bvvapec...\n",
      "Generating code for Xspec model c6mekl...\n",
      "Generating code for Xspec model c6pmekl...\n",
      "Generating code for Xspec model c6pvmkl...\n",
      "Generating code for Xspec model c6vmekl...\n",
      "Generating code for Xspec model cemekl...\n",
      "Generating code for Xspec model cevmkl...\n",
      "Generating code for Xspec model cflow...\n",
      "Generating code for Xspec model compbb...\n",
      "Generating code for Xspec model compLS...\n",
      "Generating code for Xspec model compPS...\n",
      "Generating code for Xspec model compST...\n",
      "Generating code for Xspec model compth...\n",
      "Generating code for Xspec model compTT...\n",
      "Generating code for Xspec model cplinear...\n",
      "Generating code for Xspec model cutoffpl...\n",
      "Generating code for Xspec model disk...\n",
      "Generating code for Xspec model diskir...\n",
      "Generating code for Xspec model diskbb...\n",
      "Generating code for Xspec model diskline...\n",
      "Generating code for Xspec model diskm...\n",
      "Generating code for Xspec model disko...\n",
      "Generating code for Xspec model diskpbb...\n",
      "Generating code for Xspec model diskpn...\n",
      "Generating code for Xspec model eplogpar...\n",
      "Generating code for Xspec model eqpair...\n",
      "Generating code for Xspec model eqtherm...\n",
      "Generating code for Xspec model equil...\n",
      "Generating code for Xspec model expdec...\n",
      "Generating code for Xspec model ezdiskbb...\n",
      "Generating code for Xspec model gaussian...\n",
      "Generating code for Xspec model gadem...\n",
      "Generating code for Xspec model gnei...\n",
      "Generating code for Xspec model grad...\n",
      "Generating code for Xspec model grbm...\n",
      "Generating code for Xspec model kerrbb...\n",
      "Generating code for Xspec model kerrd...\n"
>>>>>>> update_tte_like
     ]
    },
    {
     "name": "stderr",
     "output_type": "stream",
     "text": [
      "\n",
      "WARNING RuntimeWarning: The current value of the parameter switch was above the new maximum 1.0.\n",
<<<<<<< HEAD
      "\n",
=======
      "\n"
     ]
    },
    {
     "name": "stdout",
     "output_type": "stream",
     "text": [
      "Generating code for Xspec model kerrdisk...\n",
      "Generating code for Xspec model laor...\n",
      "Generating code for Xspec model laor2...\n",
      "Generating code for Xspec model logpar...\n",
      "Generating code for Xspec model lorentz...\n",
      "Generating code for Xspec model meka...\n",
      "Generating code for Xspec model mekal...\n",
      "Generating code for Xspec model mkcflow...\n",
      "Generating code for Xspec model nei...\n",
      "Generating code for Xspec model npshock...\n",
      "Generating code for Xspec model nsa...\n",
      "Generating code for Xspec model nsagrav...\n",
      "Generating code for Xspec model nsatmos...\n",
      "Generating code for Xspec model nsmax...\n",
      "Generating code for Xspec model nsmaxg...\n",
      "Generating code for Xspec model nsx...\n",
      "Generating code for Xspec model nteea...\n",
      "Generating code for Xspec model nthComp...\n",
      "Generating code for Xspec model optxagn...\n",
      "Generating code for Xspec model optxagnf...\n",
      "Generating code for Xspec model pegpwrlw...\n"
     ]
    },
    {
     "name": "stderr",
     "output_type": "stream",
     "text": [
>>>>>>> update_tte_like
      "\n",
      "WARNING RuntimeWarning: The current value of the parameter specfile was above the new maximum 1.0.\n",
      "\n"
     ]
    },
    {
     "name": "stdout",
     "output_type": "stream",
     "text": [
<<<<<<< HEAD
      "done\n"
     ]
    },
    {
     "name": "stderr",
     "output_type": "stream",
     "text": [
      "\n",
      "WARNING UserWarning: ROOT minimizer not available\n",
      "\n"
     ]
    },
    {
     "name": "stdout",
     "output_type": "stream",
     "text": [
      "Configuration read from /Users/jburgess/.threeML/threeML_config.yml\n"
=======
      "Generating code for Xspec model pexmon...\n",
      "Generating code for Xspec model pexrav...\n",
      "Generating code for Xspec model pexriv...\n",
      "Generating code for Xspec model plcabs...\n",
      "Generating code for Xspec model powerlaw...\n",
      "Generating code for Xspec model posm...\n",
      "Generating code for Xspec model pshock...\n",
      "Generating code for Xspec model raymond...\n",
      "Generating code for Xspec model redge...\n",
      "Generating code for Xspec model refsch...\n",
      "Generating code for Xspec model rnei...\n",
      "Generating code for Xspec model sedov...\n",
      "Generating code for Xspec model sirf...\n",
      "Generating code for Xspec model srcut...\n",
      "Generating code for Xspec model sresc...\n",
      "Generating code for Xspec model step...\n",
      "Generating code for Xspec model vapec...\n",
      "Generating code for Xspec model vbremss...\n",
      "Generating code for Xspec model vequil...\n",
      "Generating code for Xspec model vgadem...\n",
      "Generating code for Xspec model vgnei...\n",
      "Generating code for Xspec model vmeka...\n",
      "Generating code for Xspec model vmekal...\n",
      "Generating code for Xspec model vmcflow...\n",
      "Generating code for Xspec model vnei...\n",
      "Generating code for Xspec model vnpshock...\n",
      "Generating code for Xspec model vpshock...\n",
      "Generating code for Xspec model vraymond...\n",
      "Generating code for Xspec model vrnei...\n",
      "Generating code for Xspec model vsedov...\n",
      "Generating code for Xspec model vvapec...\n",
      "Generating code for Xspec model vvgnei...\n",
      "Generating code for Xspec model vvnei...\n",
      "Generating code for Xspec model vvnpshock...\n",
      "Generating code for Xspec model vvpshock...\n",
      "Generating code for Xspec model vvrnei...\n",
      "Generating code for Xspec model vvsedov...\n",
      "Generating code for Xspec model zagauss...\n",
      "Generating code for Xspec model zbbody...\n",
      "Generating code for Xspec model zbremss...\n",
      "Generating code for Xspec model zgauss...\n",
      "Generating code for Xspec model zpowerlw...\n",
      "Generating code for Xspec model absori...\n",
      "Generating code for Xspec model acisabs...\n",
      "Generating code for Xspec model constant...\n",
      "Generating code for Xspec model cabs...\n",
      "Generating code for Xspec model cyclabs...\n",
      "Generating code for Xspec model dust...\n",
      "Generating code for Xspec model edge...\n",
      "Generating code for Xspec model expabs...\n",
      "Generating code for Xspec model expfac...\n",
      "Generating code for Xspec model gabs...\n",
      "Generating code for Xspec model heilin...\n",
      "Generating code for Xspec model highecut...\n",
      "Generating code for Xspec model hrefl...\n",
      "Generating code for Xspec model lyman...\n",
      "Generating code for Xspec model notch...\n",
      "Generating code for Xspec model pcfabs...\n",
      "Generating code for Xspec model phabs...\n",
      "Generating code for Xspec model plabs...\n",
      "Generating code for Xspec model pwab...\n",
      "Generating code for Xspec model redden...\n",
      "Generating code for Xspec model smedge...\n",
      "Generating code for Xspec model spexpcut...\n",
      "Generating code for Xspec model spline...\n",
      "Generating code for Xspec model SSS_ice...\n",
      "Generating code for Xspec model swind1...\n",
      "Generating code for Xspec model TBabs...\n",
      "Generating code for Xspec model TBgrain...\n",
      "Generating code for Xspec model TBvarabs...\n",
      "Generating code for Xspec model uvred...\n",
      "Generating code for Xspec model varabs...\n",
      "Generating code for Xspec model vphabs...\n",
      "Generating code for Xspec model wabs...\n",
      "Generating code for Xspec model wndabs...\n",
      "Generating code for Xspec model xion...\n",
      "Generating code for Xspec model zdust...\n",
      "Generating code for Xspec model zedge...\n",
      "Generating code for Xspec model zhighect...\n",
      "Generating code for Xspec model zigm...\n",
      "Generating code for Xspec model zpcfabs...\n",
      "Generating code for Xspec model zphabs...\n",
      "Generating code for Xspec model zxipcf...\n",
      "Generating code for Xspec model zredden...\n",
      "Generating code for Xspec model zsmdust...\n",
      "Generating code for Xspec model zTBabs...\n",
      "Generating code for Xspec model zvarabs...\n",
      "Generating code for Xspec model zvfeabs...\n",
      "Generating code for Xspec model zvphabs...\n",
      "Generating code for Xspec model zwabs...\n",
      "Generating code for Xspec model zwndabs...\n",
      "done\n"
>>>>>>> update_tte_like
     ]
    },
    {
     "name": "stderr",
     "output_type": "stream",
     "text": [
      "\n",
<<<<<<< HEAD
=======
      "WARNING UserWarning: ROOT minimizer not available\n",
      "\n"
     ]
    },
    {
     "name": "stdout",
     "output_type": "stream",
     "text": [
      "Configuration read from /Users/jburgess/.threeML/threeML_config.yml\n"
     ]
    },
    {
     "name": "stderr",
     "output_type": "stream",
     "text": [
      "\n",
>>>>>>> update_tte_like
      "WARNING CannotImportPlugin: Could not import plugin /usr/local/Cellar/python/HEAD/Frameworks/Python.framework/Versions/2.7/lib/python2.7/site-packages/threeML-0.3.2-py2.7.egg/threeML/plugins/FermiGBM_TTE_Like.py. Do you have the relative instrument software installed and configured?\n",
      "\n",
      "\n",
      "WARNING CannotImportPlugin: Could not import plugin /usr/local/Cellar/python/HEAD/Frameworks/Python.framework/Versions/2.7/lib/python2.7/site-packages/threeML-0.3.2-py2.7.egg/threeML/plugins/FermiLATLike.py. Do you have the relative instrument software installed and configured?\n",
      "\n",
      "\n",
      "WARNING CannotImportPlugin: Could not import plugin /usr/local/Cellar/python/HEAD/Frameworks/Python.framework/Versions/2.7/lib/python2.7/site-packages/threeML-0.3.2-py2.7.egg/threeML/plugins/HAWCLike.py. Do you have the relative instrument software installed and configured?\n",
      "\n",
      "\n",
      "WARNING CannotImportPlugin: Could not import plugin /usr/local/Cellar/python/HEAD/Frameworks/Python.framework/Versions/2.7/lib/python2.7/site-packages/threeML-0.3.2-py2.7.egg/threeML/plugins/SherpaLike.py. Do you have the relative instrument software installed and configured?\n",
      "\n"
     ]
    }
   ],
   "source": [
    "from threeML import *\n",
    "\n",
    "import matplotlib.pyplot as plt\n",
    "\n",
    "%matplotlib inline"
   ]
  },
  {
   "cell_type": "code",
   "execution_count": 3,
   "metadata": {
    "collapsed": false
   },
   "outputs": [
    {
     "name": "stdout",
     "output_type": "stream",
     "text": [
      "Auto-probed noise models:\n",
      "- observation: poisson\n",
      "- background: gaussian\n",
      "Range 10.0-30.0 translates to channels 4-20\n",
      "Range 40.0-950.0 translates to channels 26-125\n",
      "Now using 117 channels out of 128\n"
     ]
    }
   ],
   "source": [
    "triggerName = 'bn090217206'\n",
    "ra = 204.9\n",
    "dec = -8.4\n",
    "\n",
    "#Data are in the current directory\n",
    "\n",
    "datadir = os.path.abspath('.')\n",
    "\n",
    "#Create an instance of the GBM plugin for each detector\n",
    "#Data files\n",
    "obsSpectrum = os.path.join( datadir, \"bn090217206_n6_srcspectra.pha{1}\" )\n",
    "bakSpectrum = os.path.join( datadir, \"bn090217206_n6_bkgspectra.bak{1}\" )\n",
    "rspFile     = os.path.join( datadir, \"bn090217206_n6_weightedrsp.rsp{1}\" )\n",
    "\n",
    "#Plugin instance\n",
    "NaI6 = OGIPLike( \"NaI6\", obsSpectrum, bakSpectrum, rspFile )\n",
    "\n",
    "#Choose energies to use (in this case, I exclude the energy\n",
    "#range from 30 to 40 keV to avoid the k-edge, as well as anything above\n",
    "#950 keV, where the calibration is uncertain)\n",
    "NaI6.set_active_measurements( \"10.0-30.0\", \"40.0-950.0\" )\n"
   ]
  },
  {
   "cell_type": "code",
   "execution_count": 4,
   "metadata": {
    "collapsed": false
   },
   "outputs": [],
   "source": [
    "#This declares which data we want to use. In our case, all that we have already created.\n",
    "\n",
    "data_list = DataList( NaI6 )"
   ]
  },
  {
   "cell_type": "code",
   "execution_count": 5,
   "metadata": {
    "collapsed": false
   },
   "outputs": [],
   "source": [
    "powerlaw = Powerlaw()\n",
    "cpl= Cutoff_powerlaw()"
   ]
  },
  {
   "cell_type": "code",
   "execution_count": 6,
   "metadata": {
    "collapsed": false
   },
   "outputs": [],
   "source": [
    "GRB = PointSource( triggerName, ra, dec, spectral_shape=powerlaw )\n",
    "GRB2 = PointSource( triggerName, ra, dec, spectral_shape=cpl )"
   ]
  },
  {
   "cell_type": "code",
   "execution_count": 7,
   "metadata": {
    "collapsed": true
   },
   "outputs": [],
   "source": [
    "model = Model( GRB )\n",
    "model2 = Model( GRB2 )"
   ]
  },
  {
   "cell_type": "code",
<<<<<<< HEAD
   "execution_count": 13,
=======
   "execution_count": 8,
>>>>>>> update_tte_like
   "metadata": {
    "collapsed": false,
    "scrolled": false
   },
   "outputs": [
    {
     "name": "stdout",
     "output_type": "stream",
     "text": [
      "Best fit values:\n",
      "\n"
     ]
    },
    {
     "data": {
      "text/html": [
<<<<<<< HEAD
       "<table id=\"table4804279248\">\n",
       "<thead><tr><th>#</th><th>Name</th><th>Best fit value</th><th>Unit</th></tr></thead>\n",
       "<tr><td>0</td><td>bn090217206.spectrum.main.Powerlaw.K</td><td>2.53 +/- 0.17</td><td>1 / (cm2 keV s)</td></tr>\n",
       "<tr><td>1</td><td>bn090217206.spectrum.main.Powerlaw.index</td><td>-1.183 +/- 0.013</td><td></td></tr>\n",
=======
       "<table id=\"table4703273040\">\n",
       "<thead><tr><th>#</th><th>Name</th><th>Best fit value</th><th>Unit</th></tr></thead>\n",
       "<tr><td>0</td><td>bn090217206.spectrum.main.Powerlaw.K</td><td>2.53 +/- 0.17</td><td>1 / (cm2 keV s)</td></tr>\n",
       "<tr><td>1</td><td>bn090217206.spectrum.main.Powerlaw.index</td><td>-1.183 +/- 0.012</td><td></td></tr>\n",
>>>>>>> update_tte_like
       "</table>"
      ],
      "text/plain": [
       " #                    Name                    Best fit value        Unit     \n",
       "--- ---------------------------------------- ---------------- ---------------\n",
       "  0     bn090217206.spectrum.main.Powerlaw.K    2.53 +/- 0.17 1 / (cm2 keV s)\n",
<<<<<<< HEAD
       "  1 bn090217206.spectrum.main.Powerlaw.index -1.183 +/- 0.013                "
      ]
     },
     "metadata": {},
     "output_type": "display_data"
    },
    {
     "name": "stdout",
     "output_type": "stream",
     "text": [
      "\n",
      "NOTE: errors on parameters are approximate. Use get_errors().\n",
      "\n",
      "(no nuisance parameters)\n",
      "\n",
      "Correlation matrix:\n",
      "\n"
     ]
    },
    {
     "data": {
      "text/html": [
       "<table id=\"table4538653456\">\n",
       "<tr><td>1.00</td><td>-0.97</td></tr>\n",
       "<tr><td>-0.97</td><td>1.00</td></tr>\n",
       "</table>"
      ],
      "text/plain": [
       " 1.00 -0.97\n",
       "-0.97  1.00"
      ]
     },
     "metadata": {},
     "output_type": "display_data"
    },
    {
     "name": "stdout",
     "output_type": "stream",
     "text": [
      "\n",
      "Values of -log(likelihood) at the minimum:\n",
      "\n"
     ]
    },
    {
     "data": {
      "text/html": [
       "<div>\n",
       "<table border=\"1\" class=\"dataframe\">\n",
       "  <thead>\n",
       "    <tr style=\"text-align: right;\">\n",
       "      <th></th>\n",
       "      <th>-log(likelihood)</th>\n",
       "    </tr>\n",
       "  </thead>\n",
       "  <tbody>\n",
       "    <tr>\n",
       "      <th>total</th>\n",
       "      <td>869.098922</td>\n",
       "    </tr>\n",
       "    <tr>\n",
       "      <th>NaI6</th>\n",
       "      <td>869.098922</td>\n",
       "    </tr>\n",
       "  </tbody>\n",
       "</table>\n",
       "</div>"
      ],
      "text/plain": [
       "       -log(likelihood)\n",
       "total        869.098922\n",
       "NaI6         869.098922"
      ]
     },
     "metadata": {},
     "output_type": "display_data"
    },
    {
     "name": "stdout",
     "output_type": "stream",
     "text": [
      "Best fit values:\n",
      "\n"
     ]
    },
    {
     "data": {
      "text/html": [
       "<table id=\"table4804278032\">\n",
       "<thead><tr><th>#</th><th>Name</th><th>Best fit value</th><th>Unit</th></tr></thead>\n",
       "<tr><td>0</td><td>bn090217206.spectrum.main.Cutoff_powerlaw.K</td><td>0.5 +/- 1.2</td><td>1 / (cm2 keV s)</td></tr>\n",
       "<tr><td>1</td><td>bn090217206.spectrum.main.Cutoff_powerlaw.index</td><td>-0.7 +/- 0.7</td><td></td></tr>\n",
       "<tr><td>2</td><td>bn090217206.spectrum.main.Cutoff_powerlaw.xc</td><td>(4 +/- 4)e+02</td><td>keV</td></tr>\n",
       "</table>"
      ],
      "text/plain": [
       " #                        Name                      ...       Unit     \n",
       "--- ----------------------------------------------- ... ---------------\n",
       "  0     bn090217206.spectrum.main.Cutoff_powerlaw.K ... 1 / (cm2 keV s)\n",
       "  1 bn090217206.spectrum.main.Cutoff_powerlaw.index ...                \n",
       "  2    bn090217206.spectrum.main.Cutoff_powerlaw.xc ...             keV"
=======
       "  1 bn090217206.spectrum.main.Powerlaw.index -1.183 +/- 0.012                "
>>>>>>> update_tte_like
      ]
     },
     "metadata": {},
     "output_type": "display_data"
    },
    {
     "name": "stdout",
     "output_type": "stream",
     "text": [
      "\n",
      "NOTE: errors on parameters are approximate. Use get_errors().\n",
      "\n",
      "(no nuisance parameters)\n",
      "\n",
      "Correlation matrix:\n",
      "\n"
     ]
    },
    {
     "data": {
      "text/html": [
<<<<<<< HEAD
       "<table id=\"table4539096464\">\n",
       "<tr><td>1.00</td><td>-1.00</td><td>1.00</td></tr>\n",
       "<tr><td>-1.00</td><td>1.00</td><td>-1.00</td></tr>\n",
       "<tr><td>1.00</td><td>-1.00</td><td>1.00</td></tr>\n",
       "</table>"
      ],
      "text/plain": [
       " 1.00 -1.00  1.00\n",
       "-1.00  1.00 -1.00\n",
       " 1.00 -1.00  1.00"
=======
       "<table id=\"table4702662608\">\n",
       "<tr><td>1.00</td><td>-0.97</td></tr>\n",
       "<tr><td>-0.97</td><td>1.00</td></tr>\n",
       "</table>"
      ],
      "text/plain": [
       " 1.00 -0.97\n",
       "-0.97  1.00"
>>>>>>> update_tte_like
      ]
     },
     "metadata": {},
     "output_type": "display_data"
    },
    {
     "name": "stdout",
     "output_type": "stream",
     "text": [
      "\n",
      "Values of -log(likelihood) at the minimum:\n",
      "\n"
     ]
    },
    {
     "data": {
      "text/html": [
       "<div>\n",
       "<table border=\"1\" class=\"dataframe\">\n",
       "  <thead>\n",
       "    <tr style=\"text-align: right;\">\n",
       "      <th></th>\n",
       "      <th>-log(likelihood)</th>\n",
       "    </tr>\n",
       "  </thead>\n",
       "  <tbody>\n",
       "    <tr>\n",
       "      <th>total</th>\n",
<<<<<<< HEAD
       "      <td>815.409956</td>\n",
       "    </tr>\n",
       "    <tr>\n",
       "      <th>NaI6</th>\n",
       "      <td>815.409956</td>\n",
=======
       "      <td>869.09941</td>\n",
       "    </tr>\n",
       "    <tr>\n",
       "      <th>NaI6</th>\n",
       "      <td>869.09941</td>\n",
>>>>>>> update_tte_like
       "    </tr>\n",
       "  </tbody>\n",
       "</table>\n",
       "</div>"
      ],
      "text/plain": [
       "       -log(likelihood)\n",
<<<<<<< HEAD
       "total        815.409956\n",
       "NaI6         815.409956"
=======
       "total         869.09941\n",
       "NaI6          869.09941"
>>>>>>> update_tte_like
      ]
     },
     "metadata": {},
     "output_type": "display_data"
    }
   ],
   "source": [
    "jl = JointLikelihood( model, data_list, verbose=False )\n",
    "\n",
    "res = jl.fit()\n",
    "\n",
    "\n",
    "jl2 = JointLikelihood( model2, data_list, verbose=False )\n",
    "\n",
    "res = jl2.fit()"
   ]
  },
  {
   "cell_type": "code",
   "execution_count": 9,
   "metadata": {
    "collapsed": false
   },
   "outputs": [
    {
     "data": {
      "text/html": [
<<<<<<< HEAD
       "<table id=\"table4402000784\">\n",
       "<thead><tr><th>Name</th><th>Value</th><th>Unit</th></tr></thead>\n",
       "<tr><td>bn090217206.spectrum.main.Powerlaw.K</td><td>2.53 -0.20 +0.20</td><td>1 / (cm2 keV s)</td></tr>\n",
=======
       "<table id=\"table4703416272\">\n",
       "<thead><tr><th>Name</th><th>Value</th><th>Unit</th></tr></thead>\n",
       "<tr><td>bn090217206.spectrum.main.Powerlaw.K</td><td>2.53 -0.19 +0.21</td><td>1 / (cm2 keV s)</td></tr>\n",
>>>>>>> update_tte_like
       "<tr><td>bn090217206.spectrum.main.Powerlaw.index</td><td>-1.183 -0.015 +0.015</td><td></td></tr>\n",
       "</table>"
      ],
      "text/plain": [
       "                  Name                          Value               Unit     \n",
       "---------------------------------------- -------------------- ---------------\n",
<<<<<<< HEAD
       "    bn090217206.spectrum.main.Powerlaw.K     2.53 -0.20 +0.20 1 / (cm2 keV s)\n",
=======
       "    bn090217206.spectrum.main.Powerlaw.K     2.53 -0.19 +0.21 1 / (cm2 keV s)\n",
>>>>>>> update_tte_like
       "bn090217206.spectrum.main.Powerlaw.index -1.183 -0.015 +0.015                "
      ]
     },
     "metadata": {},
     "output_type": "display_data"
    }
   ],
   "source": [
    "#bn090217206.spectrum.main.Powerlaw.K\t2.57 -0.19 +0.22\t1 / (cm2 keV s)\n",
    "#bn090217206.spectrum.main.Powerlaw.index\t-1.185 -0.015 +0.014\t\n",
    "\n",
    "\n",
    "res = jl.get_errors()"
   ]
  },
  {
   "cell_type": "code",
<<<<<<< HEAD
   "execution_count": 14,
=======
   "execution_count": 10,
>>>>>>> update_tte_like
   "metadata": {
    "collapsed": false
   },
   "outputs": [
    {
     "name": "stdout",
     "output_type": "stream",
     "text": [
      "Found a better minimum: 815.413403469 with bn090217206.spectrum.main.Powerlaw.index = -1.3. Run again your fit starting from here.\n"
     ]
    },
    {
     "data": {
<<<<<<< HEAD
      "image/png": "iVBORw0KGgoAAAANSUhEUgAAAZUAAAEOCAYAAABB+oq7AAAABHNCSVQICAgIfAhkiAAAAAlwSFlz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\n/we7POKUT9+i6gAAAABJRU5ErkJggg==\n",
      "text/plain": [
       "<matplotlib.figure.Figure at 0x1188b1850>"
=======
      "image/png": "iVBORw0KGgoAAAANSUhEUgAAAZUAAAEOCAYAAABB+oq7AAAABHNCSVQICAgIfAhkiAAAAAlwSFlz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\nkooQQoigkaQihBAiaCSpCCGECJr/D1xBao6bFXMsAAAAAElFTkSuQmCC\n",
      "text/plain": [
       "<matplotlib.figure.Figure at 0x108890f10>"
>>>>>>> update_tte_like
      ]
     },
     "metadata": {},
     "output_type": "display_data"
    }
   ],
   "source": [
    "res = jl.get_contours(powerlaw.index,-1.3,-1.1,20)"
   ]
  },
  {
   "cell_type": "code",
<<<<<<< HEAD
   "execution_count": 8,
=======
   "execution_count": 11,
>>>>>>> update_tte_like
   "metadata": {
    "collapsed": false
   },
   "outputs": [
    {
     "name": "stdout",
     "output_type": "stream",
     "text": [
      "> \u001b[0;32m<ipython-input-2-8091d91cc005>\u001b[0m(3)\u001b[0;36m<module>\u001b[0;34m()\u001b[0m\n",
      "\u001b[0;32m      1 \u001b[0;31m\u001b[0;31m#This declares which data we want to use. In our case, all that we have already created.\u001b[0m\u001b[0;34m\u001b[0m\u001b[0;34m\u001b[0m\u001b[0m\n",
      "\u001b[0m\u001b[0;32m      2 \u001b[0;31m\u001b[0;34m\u001b[0m\u001b[0m\n",
      "\u001b[0m\u001b[0;32m----> 3 \u001b[0;31m\u001b[0mdata_list\u001b[0m \u001b[0;34m=\u001b[0m \u001b[0mDataList\u001b[0m\u001b[0;34m(\u001b[0m \u001b[0mNaI6\u001b[0m \u001b[0;34m)\u001b[0m\u001b[0;34m\u001b[0m\u001b[0m\n",
      "\u001b[0m\n",
      "ipdb> \n",
      "\n",
      "KeyboardInterrupt\n"
     ]
    }
   ],
   "source": [
    "from threeML.utils.stats_tools import ModelComparison"
   ]
  },
  {
   "cell_type": "code",
<<<<<<< HEAD
   "execution_count": 9,
   "metadata": {
    "collapsed": false
   },
   "outputs": [],
   "source": [
    "m=ModelComparison(jl,jl2)"
   ]
  },
  {
   "cell_type": "code",
=======
>>>>>>> update_tte_like
   "execution_count": 12,
   "metadata": {
    "collapsed": false
   },
   "outputs": [
    {
     "data": {
<<<<<<< HEAD
      "text/html": [
       "<div>\n",
       "<table border=\"1\" class=\"dataframe\">\n",
       "  <thead>\n",
       "    <tr style=\"text-align: right;\">\n",
       "      <th></th>\n",
       "      <th>Model</th>\n",
       "      <th>-2 ln(like)</th>\n",
       "      <th>AIC</th>\n",
       "      <th>BIC</th>\n",
       "      <th>N. Free Parameters</th>\n",
       "      <th>dof</th>\n",
       "    </tr>\n",
       "  </thead>\n",
       "  <tbody>\n",
       "    <tr>\n",
       "      <th>0</th>\n",
       "      <td>Powerlaw</td>\n",
       "      <td>1738.19882</td>\n",
       "      <td>1742.19882</td>\n",
       "      <td>1747.72317</td>\n",
       "      <td>2</td>\n",
       "      <td>115</td>\n",
       "    </tr>\n",
       "    <tr>\n",
       "      <th>1</th>\n",
       "      <td>Cutoff_powerlaw</td>\n",
       "      <td>1630.83221</td>\n",
       "      <td>1636.83221</td>\n",
       "      <td>1645.11873</td>\n",
       "      <td>3</td>\n",
       "      <td>114</td>\n",
       "    </tr>\n",
       "  </tbody>\n",
       "</table>\n",
       "</div>"
      ],
      "text/plain": [
       "             Model  -2 ln(like)        AIC        BIC  N. Free Parameters  dof\n",
       "0         Powerlaw   1738.19882 1742.19882 1747.72317                   2  115\n",
       "1  Cutoff_powerlaw   1630.83221 1636.83221 1645.11873                   3  114"
=======
      "image/png": "iVBORw0KGgoAAAANSUhEUgAAAVMAAAEoCAYAAADlrhJ2AAAABHNCSVQICAgIfAhkiAAAAAlwSFlz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\n",
      "text/plain": [
       "<matplotlib.figure.Figure at 0x1184cefd0>"
>>>>>>> update_tte_like
      ]
     },
     "metadata": {},
     "output_type": "display_data"
    }
   ],
   "source": [
    "m.report(precision=5)"
   ]
  },
  {
   "cell_type": "code",
<<<<<<< HEAD
   "execution_count": 14,
=======
   "execution_count": 13,
>>>>>>> update_tte_like
   "metadata": {
    "collapsed": false
   },
   "outputs": [
    {
     "data": {
      "text/html": [
       "<div>\n",
       "<table border=\"1\" class=\"dataframe\">\n",
       "  <thead>\n",
       "    <tr style=\"text-align: right;\">\n",
       "      <th></th>\n",
       "      <th>-2 ln(like)</th>\n",
       "      <th>AIC</th>\n",
       "      <th>BIC</th>\n",
       "      <th>Model</th>\n",
       "      <th>N. Free Parameters</th>\n",
       "      <th>dof</th>\n",
       "    </tr>\n",
       "  </thead>\n",
       "  <tbody>\n",
       "    <tr>\n",
       "      <th>0</th>\n",
       "      <td>1738.198821</td>\n",
       "      <td>1742.198821</td>\n",
       "      <td>1747.723169</td>\n",
       "      <td>Powerlaw</td>\n",
       "      <td>2</td>\n",
       "      <td>115</td>\n",
       "    </tr>\n",
       "    <tr>\n",
       "      <th>1</th>\n",
       "      <td>1630.832205</td>\n",
       "      <td>1636.832205</td>\n",
       "      <td>1645.118727</td>\n",
       "      <td>Cutoff_powerlaw</td>\n",
       "      <td>3</td>\n",
       "      <td>114</td>\n",
       "    </tr>\n",
       "  </tbody>\n",
       "</table>\n",
       "</div>"
      ],
      "text/plain": [
       "   -2 ln(like)          AIC          BIC            Model  N. Free Parameters  \\\n",
       "0  1738.198821  1742.198821  1747.723169         Powerlaw                   2   \n",
       "1  1630.832205  1636.832205  1645.118727  Cutoff_powerlaw                   3   \n",
       "\n",
       "   dof  \n",
       "0  115  \n",
       "1  114  "
      ]
     },
     "execution_count": 14,
     "metadata": {},
     "output_type": "execute_result"
    }
   ],
   "source": [
    "m.statistical_dataframe"
   ]
  },
  {
   "cell_type": "code",
<<<<<<< HEAD
   "execution_count": 16,
=======
   "execution_count": 14,
>>>>>>> update_tte_like
   "metadata": {
    "collapsed": false
   },
   "outputs": [
    {
     "data": {
      "text/plain": [
       "128"
      ]
     },
<<<<<<< HEAD
     "execution_count": 16,
=======
     "execution_count": 14,
>>>>>>> update_tte_like
     "metadata": {},
     "output_type": "execute_result"
    }
   ],
   "source": [
    "np.sum( [ data.get_number_of_data_points()    for data in jl.data_list.values()  ]  )"
   ]
  },
  {
   "cell_type": "code",
<<<<<<< HEAD
   "execution_count": 19,
=======
   "execution_count": 15,
>>>>>>> update_tte_like
   "metadata": {
    "collapsed": false
   },
   "outputs": [
    {
<<<<<<< HEAD
     "data": {
      "text/html": [
       "<div>\n",
       "<table border=\"1\" class=\"dataframe\">\n",
       "  <thead>\n",
       "    <tr style=\"text-align: right;\">\n",
       "      <th></th>\n",
       "      <th>-2 ln(like)</th>\n",
       "      <th>AIC</th>\n",
       "      <th>BIC</th>\n",
       "      <th>Model</th>\n",
       "      <th>dof</th>\n",
       "    </tr>\n",
       "  </thead>\n",
       "  <tbody>\n",
       "    <tr>\n",
       "      <th>0</th>\n",
       "      <td>1738.197778</td>\n",
       "      <td>1742.197778</td>\n",
       "      <td>1747.901839</td>\n",
       "      <td>Powerlaw</td>\n",
       "      <td>126</td>\n",
       "    </tr>\n",
       "    <tr>\n",
       "      <th>1</th>\n",
       "      <td>1630.826807</td>\n",
       "      <td>1636.826807</td>\n",
       "      <td>1645.382898</td>\n",
       "      <td>Cutoff_powerlaw</td>\n",
       "      <td>125</td>\n",
       "    </tr>\n",
       "  </tbody>\n",
       "</table>\n",
       "</div>"
      ],
      "text/plain": [
       "   -2 ln(like)          AIC          BIC            Model  dof\n",
       "0  1738.197778  1742.197778  1747.901839         Powerlaw  126\n",
       "1  1630.826807  1636.826807  1645.382898  Cutoff_powerlaw  125"
      ]
     },
     "metadata": {},
     "output_type": "display_data"
=======
     "name": "stdout",
     "output_type": "stream",
     "text": [
      "Running burn-in of 100 samples...\n",
      "\n",
      "\n",
      "Sampling...\n",
      "\n",
      "\n",
      "Mean acceptance fraction: 0.71194\n"
     ]
>>>>>>> update_tte_like
    }
   ],
   "source": [
    "m._compute_mle_statistcs()"
   ]
  },
  {
   "cell_type": "code",
<<<<<<< HEAD
   "execution_count": 11,
=======
   "execution_count": 16,
>>>>>>> update_tte_like
   "metadata": {
    "collapsed": false
   },
   "outputs": [
    {
     "data": {
<<<<<<< HEAD
      "image/png": "iVBORw0KGgoAAAANSUhEUgAAAVAAAAEUCAYAAAB9IW6jAAAABHNCSVQICAgIfAhkiAAAAAlwSFlz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\nrkJggg==\n",
      "text/plain": [
       "<matplotlib.figure.Figure at 0x7f44444ef190>"
=======
      "image/png": "iVBORw0KGgoAAAANSUhEUgAAAW0AAAGECAYAAAD9SnFoAAAABHNCSVQICAgIfAhkiAAAAAlwSFlz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\ngg==\n",
      "text/plain": [
       "<matplotlib.figure.Figure at 0x118abc0d0>"
>>>>>>> update_tte_like
      ]
     },
     "metadata": {},
     "output_type": "display_data"
    }
   ],
   "source": [
    "res = jl.get_contours(powerlaw.index,-1.25,-1.1,50,powerlaw.K,1.9,3.2,50)"
   ]
  },
  {
   "cell_type": "code",
<<<<<<< HEAD
   "execution_count": 8,
=======
   "execution_count": 17,
   "metadata": {
    "collapsed": true
   },
   "outputs": [],
   "source": [
    "sp = SpectralPlotter(jl)"
   ]
  },
  {
   "cell_type": "code",
   "execution_count": 18,
   "metadata": {
    "collapsed": false
   },
   "outputs": [
    {
     "data": {
      "image/png": "iVBORw0KGgoAAAANSUhEUgAAAZsAAAEaCAYAAADHdPqFAAAABHNCSVQICAgIfAhkiAAAAAlwSFlz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\nERHxnMJGREQ8p7ARERHPKWxERMRz/xd+UPYD/gZj+QAAAABJRU5ErkJggg==\n",
      "text/plain": [
       "<matplotlib.figure.Figure at 0x118564050>"
      ]
     },
     "metadata": {},
     "output_type": "display_data"
    }
   ],
   "source": [
    "sp.plot_model()"
   ]
  },
  {
   "cell_type": "code",
   "execution_count": 19,
   "metadata": {
    "collapsed": true
   },
   "outputs": [],
   "source": [
    "sp = SpectralPlotter(bayes)"
   ]
  },
  {
   "cell_type": "code",
   "execution_count": 21,
   "metadata": {
    "collapsed": false
   },
   "outputs": [
    {
     "data": {
      "image/png": "iVBORw0KGgoAAAANSUhEUgAAAZwAAAEbCAYAAADu9DJZAAAABHNCSVQICAgIfAhkiAAAAAlwSFlz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\nhRKOiIjkhRKOiIjkxf8PVeYSY+9facwAAAAASUVORK5CYII=\n",
      "text/plain": [
       "<matplotlib.figure.Figure at 0x118b346d0>"
      ]
     },
     "metadata": {},
     "output_type": "display_data"
    }
   ],
   "source": [
    "sp.plot_model(y_unit='erg2/(cm2 s) keV')"
   ]
  },
  {
   "cell_type": "code",
   "execution_count": null,
>>>>>>> update_tte_like
   "metadata": {
    "collapsed": false
   },
   "outputs": [],
   "source": [
    "powerlaw.index.prior = Uniform_prior(lower_bound=-5.0, upper_bound=5.0)\n",
    "powerlaw.K.prior = Log_uniform_prior(lower_bound=1.0, upper_bound=10)\n",
    "\n",
    "bayes = BayesianAnalysis(model, data_list)\n",
    "\n",
    "\n",
    "cpl.index.prior = Uniform_prior(lower_bound=-5.0, upper_bound=5.0)\n",
    "cpl.K.prior = Log_uniform_prior(lower_bound=1.0, upper_bound=10)\n",
    "cpl.xc.prior = Log_uniform_prior(lower_bound=1.0, upper_bound=1e4)\n",
    "\n",
    "\n",
    "bayes2 = BayesianAnalysis(model2, data_list)"
   ]
  },
  {
   "cell_type": "code",
   "execution_count": 23,
   "metadata": {
    "collapsed": false
   },
   "outputs": [
    {
     "name": "stdout",
     "output_type": "stream",
     "text": [
      "Running burn-in of 100 samples...\n",
      "\n",
      "\n",
      "Sampling...\n",
      "\n",
      "\n",
      "Mean acceptance fraction: 0.71304\n"
     ]
    }
   ],
   "source": [
    "samples = bayes.sample(n_walkers=50,burn_in=100, n_samples=1000)\n",
    "\n",
    "#Running burn-in of 100 samples...\n",
    "\n",
    "# [*********************100%***********************]  100 of 100 completed in 2.4 s\n",
    "\n",
    "#Sampling...\n",
    "\n",
    "# [*********************100%***********************]  1000 of 1000 completed in 22.6 s\n",
    "#Mean acceptance fraction: 0.71655"
   ]
  },
  {
   "cell_type": "code",
   "execution_count": 21,
   "metadata": {
    "collapsed": false
   },
   "outputs": [
    {
     "ename": "NameError",
     "evalue": "name 'bayes' is not defined",
     "output_type": "error",
     "traceback": [
      "\u001b[0;31m---------------------------------------------------------------------------\u001b[0m",
      "\u001b[0;31mNameError\u001b[0m                                 Traceback (most recent call last)",
      "\u001b[0;32m<ipython-input-21-f267a90d1d47>\u001b[0m in \u001b[0;36m<module>\u001b[0;34m()\u001b[0m\n\u001b[0;32m----> 1\u001b[0;31m \u001b[0mfig\u001b[0m \u001b[0;34m=\u001b[0m \u001b[0mbayes\u001b[0m\u001b[0;34m.\u001b[0m\u001b[0mcorner_plot\u001b[0m\u001b[0;34m(\u001b[0m\u001b[0mplot_contours\u001b[0m\u001b[0;34m=\u001b[0m\u001b[0mFalse\u001b[0m\u001b[0;34m,\u001b[0m \u001b[0mplot_density\u001b[0m\u001b[0;34m=\u001b[0m\u001b[0mFalse\u001b[0m\u001b[0;34m)\u001b[0m\u001b[0;34m\u001b[0m\u001b[0m\n\u001b[0m",
      "\u001b[0;31mNameError\u001b[0m: name 'bayes' is not defined"
     ]
    }
   ],
   "source": [
    "fig = bayes.corner_plot(plot_contours=False, plot_density=False)"
   ]
  },
  {
   "cell_type": "code",
   "execution_count": 14,
   "metadata": {
    "collapsed": false
   },
   "outputs": [],
   "source": [
    "mean_deviance = -2 * np.mean(bayes.log_probability)"
   ]
  },
  {
   "cell_type": "code",
   "execution_count": 14,
   "metadata": {
    "collapsed": false
   },
   "outputs": [
    {
     "name": "stdout",
     "output_type": "stream",
     "text": [
      "Running burn-in of 100 samples...\n",
      "\n",
      "\n",
      "Sampling...\n",
      "\n"
     ]
    },
    {
     "data": {
      "text/plain": [
       "OrderedDict([('bn090217206.spectrum.main.Powerlaw.K',\n",
       "              array([ 2.16922465,  2.68187449,  2.87440999, ...,  2.64968976,\n",
       "                      3.07540871,  6.22876715])),\n",
       "             ('bn090217206.spectrum.main.Powerlaw.index',\n",
       "              array([-1.15339414, -1.20014062, -1.20575372, ..., -0.07864501,\n",
       "                     -3.88067342, -3.57469592]))])"
      ]
     },
     "execution_count": 14,
     "metadata": {},
     "output_type": "execute_result"
    }
   ],
   "source": [
    "bayes.sample_parallel_tempering(10,50,100,1000)"
   ]
  },
  {
   "cell_type": "code",
   "execution_count": 16,
   "metadata": {
    "collapsed": false
   },
   "outputs": [
    {
     "data": {
      "text/plain": [
       "(-873.3626247332686, 1.6227027360201873)"
      ]
     },
     "execution_count": 16,
     "metadata": {},
     "output_type": "execute_result"
    }
   ],
   "source": [
    "bayes.sampler.thermodynamic_integration_log_evidence()"
   ]
  },
  {
   "cell_type": "code",
   "execution_count": 12,
   "metadata": {
    "collapsed": false
   },
   "outputs": [
    {
     "name": "stdout",
     "output_type": "stream",
     "text": [
      "\n",
      "Sampling...\n",
      "\n",
      "MULTINEST has its own convergence criteria... you will have to wait blindly for it to finish\n",
      "If INS is enabled, one can monitor the likelihood in the terminal for completion information\n",
      "  analysing data from chains/fit-.txt\n"
     ]
    }
   ],
   "source": [
    "_=bayes.sample_multinest(400, resume=False)"
   ]
  },
  {
   "cell_type": "code",
   "execution_count": 13,
   "metadata": {
    "collapsed": false
   },
   "outputs": [
    {
     "name": "stdout",
     "output_type": "stream",
     "text": [
      "\n",
      "Sampling...\n",
      "\n",
      "MULTINEST has its own convergence criteria... you will have to wait blindly for it to finish\n",
      "If INS is enabled, one can monitor the likelihood in the terminal for completion information\n",
      "  analysing data from chains/fit-.txt\n"
     ]
    }
   ],
   "source": [
    "_=bayes2.sample_multinest(400, resume=False)"
   ]
  },
  {
   "cell_type": "code",
   "execution_count": 14,
   "metadata": {
    "collapsed": false
   },
   "outputs": [],
   "source": [
    "m = ModelComparison(bayes,bayes2)"
   ]
  },
  {
   "cell_type": "code",
   "execution_count": 16,
   "metadata": {
    "collapsed": false
   },
   "outputs": [
    {
     "data": {
      "text/html": [
       "<div>\n",
       "<table border=\"1\" class=\"dataframe\">\n",
       "  <thead>\n",
       "    <tr style=\"text-align: right;\">\n",
       "      <th></th>\n",
       "      <th>Model</th>\n",
       "      <th>-2 ln(like)</th>\n",
       "      <th>AIC</th>\n",
       "      <th>BIC</th>\n",
       "      <th>DIC</th>\n",
       "      <th>log10 (Z)</th>\n",
       "      <th>N. Free Parameters</th>\n",
       "      <th>Eff. N. Free Parameters</th>\n",
       "      <th>dof</th>\n",
       "    </tr>\n",
       "  </thead>\n",
       "  <tbody>\n",
       "    <tr>\n",
       "      <th>1</th>\n",
       "      <td>Cutoff_powerlaw</td>\n",
       "      <td>1,643.70</td>\n",
       "      <td>1,649.70</td>\n",
       "      <td>1,657.99</td>\n",
       "      <td>1,655.24</td>\n",
       "      <td>-363.10</td>\n",
       "      <td>3</td>\n",
       "      <td>3.88</td>\n",
       "      <td>114</td>\n",
       "    </tr>\n",
       "    <tr>\n",
       "      <th>0</th>\n",
       "      <td>Powerlaw</td>\n",
       "      <td>1,630.83</td>\n",
       "      <td>1,634.83</td>\n",
       "      <td>1,640.36</td>\n",
       "      <td>1,618.23</td>\n",
       "      <td>-354.13</td>\n",
       "      <td>2</td>\n",
       "      <td>-0.00</td>\n",
       "      <td>115</td>\n",
       "    </tr>\n",
       "  </tbody>\n",
       "</table>\n",
       "</div>"
      ],
      "text/plain": [
       "             Model  -2 ln(like)      AIC      BIC      DIC  log10 (Z)  \\\n",
       "1  Cutoff_powerlaw     1,643.70 1,649.70 1,657.99 1,655.24    -363.10   \n",
       "0         Powerlaw     1,630.83 1,634.83 1,640.36 1,618.23    -354.13   \n",
       "\n",
       "   N. Free Parameters  Eff. N. Free Parameters  dof  \n",
       "1                   3                     3.88  114  \n",
       "0                   2                    -0.00  115  "
      ]
     },
     "metadata": {},
     "output_type": "display_data"
    }
   ],
   "source": [
    "m.report(precision=3,sort='dof')"
   ]
  },
  {
   "cell_type": "code",
   "execution_count": 28,
   "metadata": {
    "collapsed": false
   },
   "outputs": [
    {
     "data": {
      "text/plain": [
       "'bayesian'"
      ]
     },
     "execution_count": 28,
     "metadata": {},
     "output_type": "execute_result"
    }
   ],
   "source": [
    "bayes._analysis_type"
   ]
  },
  {
   "cell_type": "code",
   "execution_count": 31,
   "metadata": {
    "collapsed": false
   },
   "outputs": [
    {
     "data": {
      "text/plain": [
       "array(['bayesian', 'crap'], \n",
       "      dtype='|S8')"
      ]
     },
     "execution_count": 31,
     "metadata": {},
     "output_type": "execute_result"
    }
   ],
   "source": [
    "np.unique([bayes._analysis_type,bayes._analysis_type,'crap'])"
   ]
  },
  {
   "cell_type": "code",
   "execution_count": 39,
   "metadata": {
    "collapsed": false
   },
   "outputs": [
    {
     "data": {
      "text/plain": [
       "2"
      ]
     },
     "execution_count": 39,
     "metadata": {},
     "output_type": "execute_result"
    }
   ],
   "source": [
    "len(bayes._free_parameters.values())"
   ]
  },
  {
   "cell_type": "code",
   "execution_count": 43,
   "metadata": {
    "collapsed": false
   },
   "outputs": [
    {
     "data": {
      "text/html": [
       "<ul>\n",
       "\n",
       "<li>bn090217206 (point source): \n",
       "<ul>\n",
       "\n",
       "<li>position: \n",
       "<ul>\n",
       "\n",
       "<li>ra: \n",
       "<ul>\n",
       "\n",
       "<li>value: 204.9</li>\n",
       "\n",
       "<li>desc: Right Ascension</li>\n",
       "\n",
       "<li>min_value: 0.0</li>\n",
       "\n",
       "<li>max_value: 360.0</li>\n",
       "\n",
       "<li>unit: deg</li>\n",
       "\n",
       "</ul>\n",
       "\n",
       "</li>\n",
       "\n",
       "<li>dec: \n",
       "<ul>\n",
       "\n",
       "<li>value: -8.4</li>\n",
       "\n",
       "<li>desc: Declination</li>\n",
       "\n",
       "<li>min_value: -90.0</li>\n",
       "\n",
       "<li>max_value: 90.0</li>\n",
       "\n",
       "<li>unit: deg</li>\n",
       "\n",
       "</ul>\n",
       "\n",
       "</li>\n",
       "\n",
       "<li>equinox: J2000</li>\n",
       "\n",
       "</ul>\n",
       "\n",
       "</li>\n",
       "\n",
       "<li>spectrum: \n",
       "<ul>\n",
       "\n",
       "<li>main: \n",
       "<ul>\n",
       "\n",
       "<li>Powerlaw: \n",
       "<ul>\n",
       "\n",
       "<li>K: \n",
       "<ul>\n",
       "\n",
       "<li>value: 2.0</li>\n",
       "\n",
       "<li>desc: Normalization (differential flux at the pivot value)</li>\n",
       "\n",
       "<li>min_value: None</li>\n",
       "\n",
       "<li>max_value: None</li>\n",
       "\n",
       "<li>unit: 1 / (cm2 keV s)</li>\n",
       "\n",
       "</ul>\n",
       "\n",
       "</li>\n",
       "\n",
       "<li>piv: \n",
       "<ul>\n",
       "\n",
       "<li>value: 1.0</li>\n",
       "\n",
       "<li>desc: Pivot value</li>\n",
       "\n",
       "<li>min_value: None</li>\n",
       "\n",
       "<li>max_value: None</li>\n",
       "\n",
       "<li>unit: keV</li>\n",
       "\n",
       "</ul>\n",
       "\n",
       "</li>\n",
       "\n",
       "<li>index: \n",
       "<ul>\n",
       "\n",
       "<li>value: -1.0</li>\n",
       "\n",
       "<li>desc: Photon index</li>\n",
       "\n",
       "<li>min_value: -10.0</li>\n",
       "\n",
       "<li>max_value: 10.0</li>\n",
       "\n",
       "<li>unit: </li>\n",
       "\n",
       "</ul>\n",
       "\n",
       "</li>\n",
       "\n",
       "</ul>\n",
       "\n",
       "</li>\n",
       "\n",
       "</ul>\n",
       "\n",
       "</li>\n",
       "\n",
       "</ul>\n",
       "\n",
       "</li>\n",
       "\n",
       "</ul>\n",
       "\n",
       "</li>\n",
       "\n",
       "</ul>\n"
      ],
      "text/plain": [
       "  * bn090217206 (point source): \n",
       "    * position: \n",
       "      * ra: \n",
       "        * value: 204.9\n",
       "        * desc: Right Ascension\n",
       "        * min_value: 0.0\n",
       "        * max_value: 360.0\n",
       "        * unit: deg\n",
       "      * dec: \n",
       "        * value: -8.4\n",
       "        * desc: Declination\n",
       "        * min_value: -90.0\n",
       "        * max_value: 90.0\n",
       "        * unit: deg\n",
       "      * equinox: J2000\n",
       "    * spectrum: \n",
       "      * main: \n",
       "        * Powerlaw: \n",
       "          * K: \n",
       "            * value: 2.0\n",
       "            * desc: Normalization (differential flux at the pivot value)\n",
       "            * min_value: None\n",
       "            * max_value: None\n",
       "            * unit: 1 / (cm2 keV s)\n",
       "          * piv: \n",
       "            * value: 1.0\n",
       "            * desc: Pivot value\n",
       "            * min_value: None\n",
       "            * max_value: None\n",
       "            * unit: keV\n",
       "          * index: \n",
       "            * value: -1.0\n",
       "            * desc: Photon index\n",
       "            * min_value: -10.0\n",
       "            * max_value: 10.0\n",
       "            * unit: \n"
      ]
     },
     "execution_count": 43,
     "metadata": {},
     "output_type": "execute_result"
    }
   ],
   "source": [
    "bayes._likelihood_model."
   ]
  },
  {
   "cell_type": "code",
   "execution_count": 53,
   "metadata": {
    "collapsed": false
   },
   "outputs": [
    {
     "name": "stdout",
     "output_type": "stream",
     "text": [
      "['bn090217206', 'spectrum', 'main', 'composite', 'K_1']\n",
      "['bn090217206', 'spectrum', 'main', 'composite', 'index_1']\n",
      "['bn090217206', 'spectrum', 'main', 'composite', 'K_2']\n",
      "['bn090217206', 'spectrum', 'main', 'composite', 'kT_2']\n"
     ]
    }
   ],
   "source": [
    "for i, (parameter_name, parameter) in enumerate(jl._free_parameters.iteritems()):\n",
    "    \n",
    "    print parameter_name.split('.')\n",
    "\n"
   ]
  },
  {
   "cell_type": "code",
   "execution_count": 57,
   "metadata": {
    "collapsed": false
   },
   "outputs": [
    {
     "data": {
      "text/plain": [
       "'(Powerlaw{1} + Blackbody{2})'"
      ]
     },
     "execution_count": 57,
     "metadata": {},
     "output_type": "execute_result"
    }
   ],
   "source": [
    "powerlaw.description"
   ]
  },
  {
   "cell_type": "code",
   "execution_count": 62,
   "metadata": {
    "collapsed": false
   },
   "outputs": [
    {
     "data": {
      "text/plain": [
       "830.4545887183152"
      ]
     },
     "execution_count": 62,
     "metadata": {},
     "output_type": "execute_result"
    }
   ],
   "source": [
    "jl.current_minimum"
   ]
  },
  {
   "cell_type": "code",
   "execution_count": 63,
   "metadata": {
    "collapsed": false
   },
   "outputs": [
    {
     "name": "stdout",
     "output_type": "stream",
     "text": [
      "Best fit values:\n",
      "\n"
     ]
    },
    {
     "data": {
      "text/html": [
       "<table id=\"table4656642128\">\n",
       "<thead><tr><th>#</th><th>Name</th><th>Best fit value</th><th>Unit</th></tr></thead>\n",
       "<tr><td>0</td><td>bn090217206.spectrum.main.composite.K_1</td><td>1.88 +/- 0.22</td><td>1 / (cm2 keV s)</td></tr>\n",
       "<tr><td>1</td><td>bn090217206.spectrum.main.composite.index_1</td><td>-1.200 +/- 0.023</td><td></td></tr>\n",
       "<tr><td>2</td><td>bn090217206.spectrum.main.composite.K_2</td><td>(6.4 +/- 1.3)e-06</td><td>1 / (cm2 keV3 s)</td></tr>\n",
       "<tr><td>3</td><td>bn090217206.spectrum.main.composite.kT_2</td><td>43.8 +/- 2.8</td><td>keV</td></tr>\n",
       "</table>"
      ],
      "text/plain": [
       " #                      Name                    ...       Unit      \n",
       "--- ------------------------------------------- ... ----------------\n",
       "  0     bn090217206.spectrum.main.composite.K_1 ...  1 / (cm2 keV s)\n",
       "  1 bn090217206.spectrum.main.composite.index_1 ...                 \n",
       "  2     bn090217206.spectrum.main.composite.K_2 ... 1 / (cm2 keV3 s)\n",
       "  3    bn090217206.spectrum.main.composite.kT_2 ...              keV"
      ]
     },
     "metadata": {},
     "output_type": "display_data"
    },
    {
     "name": "stdout",
     "output_type": "stream",
     "text": [
      "\n",
      "NOTE: errors on parameters are approximate. Use get_errors().\n",
      "\n",
      "(no nuisance parameters)\n",
      "\n",
      "Correlation matrix:\n",
      "\n"
     ]
    },
    {
     "data": {
      "text/html": [
       "<table id=\"table4667007056\">\n",
       "<tr><td>1.00</td><td>-0.89</td><td>-0.51</td><td>0.42</td></tr>\n",
       "<tr><td>-0.89</td><td>1.00</td><td>0.42</td><td>-0.55</td></tr>\n",
       "<tr><td>-0.51</td><td>0.42</td><td>1.00</td><td>-0.86</td></tr>\n",
       "<tr><td>0.42</td><td>-0.55</td><td>-0.86</td><td>1.00</td></tr>\n",
       "</table>"
      ],
      "text/plain": [
       " 1.00 -0.89 -0.51  0.42\n",
       "-0.89  1.00  0.42 -0.55\n",
       "-0.51  0.42  1.00 -0.86\n",
       " 0.42 -0.55 -0.86  1.00"
      ]
     },
     "metadata": {},
     "output_type": "display_data"
    },
    {
     "name": "stdout",
     "output_type": "stream",
     "text": [
      "\n",
      "Values of -log(likelihood) at the minimum:\n",
      "\n"
     ]
    },
    {
     "data": {
      "text/html": [
       "<div>\n",
       "<table border=\"1\" class=\"dataframe\">\n",
       "  <thead>\n",
       "    <tr style=\"text-align: right;\">\n",
       "      <th></th>\n",
       "      <th>-log(likelihood)</th>\n",
       "    </tr>\n",
       "  </thead>\n",
       "  <tbody>\n",
       "    <tr>\n",
       "      <th>total</th>\n",
       "      <td>823.882309</td>\n",
       "    </tr>\n",
       "    <tr>\n",
       "      <th>NaI6</th>\n",
       "      <td>823.882309</td>\n",
       "    </tr>\n",
       "  </tbody>\n",
       "</table>\n",
       "</div>"
      ],
      "text/plain": [
       "       -log(likelihood)\n",
       "total        823.882309\n",
       "NaI6         823.882309"
      ]
     },
     "metadata": {},
     "output_type": "display_data"
    },
    {
     "data": {
      "text/plain": [
       "(                                                 value     error\n",
       " bn090217206.spectrum.main.composite.K_1       1.876095  0.218240\n",
       " bn090217206.spectrum.main.composite.index_1  -1.200024  0.022677\n",
       " bn090217206.spectrum.main.composite.K_2       0.000006  0.000001\n",
       " bn090217206.spectrum.main.composite.kT_2     43.822694  2.794546,\n",
       "        -log(likelihood)\n",
       " total        823.882309\n",
       " NaI6         823.882309)"
      ]
     },
     "execution_count": 63,
     "metadata": {},
     "output_type": "execute_result"
    }
   ],
   "source": [
    "jl.fit()"
   ]
  },
  {
   "cell_type": "code",
   "execution_count": 20,
   "metadata": {
    "collapsed": false
   },
   "outputs": [
    {
     "data": {
      "text/plain": [
       "'mle'"
      ]
     },
     "execution_count": 20,
     "metadata": {},
     "output_type": "execute_result"
    }
   ],
   "source": [
    "jl._analysis_type"
   ]
  },
  {
   "cell_type": "code",
   "execution_count": 16,
   "metadata": {
    "collapsed": true
   },
   "outputs": [],
   "source": [
    "a=[]"
   ]
  },
  {
   "cell_type": "code",
   "execution_count": 17,
   "metadata": {
    "collapsed": true
   },
   "outputs": [],
   "source": [
    "a.append(None)"
   ]
  },
  {
   "cell_type": "code",
   "execution_count": 18,
   "metadata": {
    "collapsed": false
   },
   "outputs": [
    {
     "data": {
      "text/plain": [
       "[None]"
      ]
     },
     "execution_count": 18,
     "metadata": {},
     "output_type": "execute_result"
    }
   ],
   "source": [
    "a"
   ]
  },
  {
   "cell_type": "code",
   "execution_count": null,
   "metadata": {
    "collapsed": true
   },
   "outputs": [],
   "source": []
  }
 ],
 "metadata": {
  "kernelspec": {
   "display_name": "Python 2",
   "language": "python",
   "name": "python2"
  },
  "language_info": {
   "codemirror_mode": {
    "name": "ipython",
    "version": 2
   },
   "file_extension": ".py",
   "mimetype": "text/x-python",
   "name": "python",
   "nbconvert_exporter": "python",
   "pygments_lexer": "ipython2",
   "version": "2.7.12+"
  },
  "widgets": {
   "state": {
<<<<<<< HEAD
    "05e99709cac046cf9e9f503b36e4f74c": {
=======
    "2e09a7ac23884cbb94ec650f355a6069": {
>>>>>>> update_tte_like
     "views": [
      {
       "cell_index": 13
      }
     ]
    },
<<<<<<< HEAD
    "271c814b85ea469f900a0d47c522b6c1": {
     "views": [
      {
       "cell_index": 18
      }
     ]
    },
    "5958ed6bb78e48ff88ecc9d398303d7d": {
     "views": [
      {
       "cell_index": 15
      }
     ]
    },
    "79d1e5201476426a9b769a9d892868fe": {
=======
    "a8721084ddee4f39bcaa62f638d8659a": {
     "views": [
      {
       "cell_index": 13
      }
     ]
    },
    "d34f144a156d464a83ca720f74d9a0cf": {
>>>>>>> update_tte_like
     "views": [
      {
       "cell_index": 8
      }
     ]
    },
<<<<<<< HEAD
    "8819fc362e3746a49ae045d42993a479": {
     "views": [
      {
       "cell_index": 12
      }
     ]
    },
    "92f10cc5a0144b7ca4bb448a1ef18d77": {
     "views": [
      {
       "cell_index": 15
      }
     ]
    },
    "a1536ce7e9884362a5630ba5ca13e09c": {
     "views": [
      {
       "cell_index": 18
=======
    "e9890a4a3073416b9ca7d855f2421a39": {
     "views": [
      {
       "cell_index": 10
>>>>>>> update_tte_like
      }
     ]
    }
   },
   "version": "1.2.0"
  }
 },
 "nbformat": 4,
 "nbformat_minor": 0
}
