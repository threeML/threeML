{
 "cells": [
  {
   "cell_type": "markdown",
   "metadata": {},
   "source": [
    "This example demonstrates the use of FermiLatLike to link a parameter between two sources in different ROI & time intervals.\n",
    "\n",
    "In this use case, we will choose two EBL-attenuated GRB point sources and link the 'attenuation' parameter between them."
   ]
  },
  {
   "cell_type": "code",
   "execution_count": 8,
   "metadata": {},
   "outputs": [],
   "source": [
    "from threeML import *\n",
    "import matplotlib.pyplot as plt\n",
    "\n",
    "#First, we define a couple helper functions to encapsulate doTimeResolvedLike and create models for our sources.\n",
    "\n",
    "def doLAT(OUTFILE,RA,DEC,TSTARTS,TSTOPS,ROI=5.0,ZMAX=105,EMIN=65,EMAX=100000,IRF='p8_transient010e', data_path='./'):\n",
    "        '''\n",
    "        \n",
    "        This is a simple wrapper of the doTimeResolvedLike of gtburst\n",
    "        \n",
    "        TSTARTS,TSTOPS can be arrays if you want to run multiple intervals\n",
    "        \n",
    "        '''\n",
    "        analysis_dir = '%s_analysis_%s-%s' % (OUTFILE,EMIN,EMAX) \n",
    "        os.system('mkdir -p %s' % analysis_dir)\n",
    "        os.chdir(analysis_dir)\n",
    "        exe='$CONDA_PREFIX/lib/python2.7/site-packages/fermitools/GtBurst/scripts/doTimeResolvedLike.py'\n",
    "        #exe='doTimeResolvedLike.py'\n",
    "        args={}\n",
    "        args['outfile'] = OUTFILE\n",
    "        args['ra']      = RA\n",
    "        args['dec']     = DEC\n",
    "        args['roi']     = ROI\n",
    "        TSTARTS_str     = ''\n",
    "        TSTOPS_str      = ''\n",
    "        for t0,t1 in zip(TSTARTS,TSTOPS):\n",
    "            TSTARTS_str+='%s, ' % t0\n",
    "            TSTOPS_str+='%s, ' % t1\n",
    "        TSTARTS_str=TSTARTS_str[:-2]\n",
    "        TSTOPS_str=TSTOPS_str[:-2]\n",
    "        args['tstarts'] = \"'%s'\" % TSTARTS_str\n",
    "        args['tstops']  = \"'%s'\" % TSTOPS_str\n",
    "        args['zmax']    = ZMAX\n",
    "        args['emin']    = EMIN\n",
    "        args['emax']    = EMAX\n",
    "        args['irf']     = IRF\n",
    "        args['galactic_model']   = \"'template (fixed norm.)'\"\n",
    "        args['particle_model']   = \"'isotr template'\"\n",
    "        args['tsmin']            = 25\n",
    "        args['strategy']         = 'time'\n",
    "        args['thetamax']         = 180\n",
    "        args['spectralfiles']    = 'yes'\n",
    "        args['liketype']         = 'unbinned'\n",
    "        args['optimizeposition'] = 'no'\n",
    "        args['datarepository']   = data_path\n",
    "        args['flemin']           = 100.\n",
    "        args['flemax']           = 10000\n",
    "        args['fgl_mode']         = 'fast'\n",
    "        triggername              = OUTFILE\n",
    "        for k,i in args.items():\n",
    "            exe+=' --%s %s' % (k,i)\n",
    "        exe+=' %s' % triggername\n",
    "        print(exe)\n",
    "\n",
    "        os.system(exe)\n",
    "    \n",
    "        return analysis_dir\n",
    "\n",
    "def createSrcModel(src_name,ra,dec,redshift,index):\n",
    "    powerlaw = Powerlaw()\n",
    "    powerlaw.index.prior = Uniform_prior(lower_bound=-5.0, upper_bound=5.0)\n",
    "    powerlaw.K.prior = Log_uniform_prior(lower_bound=1.0e-20, upper_bound=1e-10)\n",
    "    powerlaw.piv     = 5.0e+5\n",
    "    powerlaw.index   = index\n",
    "    powerlaw.index.free = False\n",
    "    \n",
    "    ebl = EBLattenuation()\n",
    "    #This attenuation parameter is what we want to link across multiple source models.\n",
    "    ebl.attenuation.prior = Uniform_prior(lower_bound = 0.0, upper_bound = 2.0)\n",
    "    ebl.attenuation.fix = False\n",
    "    \n",
    "    source = powerlaw*ebl\n",
    "    source.redshift_2 = redshift * u.dimensionless_unscaled\n",
    "    \n",
    "    return PointSource(src_name, ra, dec, spectral_shape = source)"
   ]
  },
  {
   "cell_type": "code",
   "execution_count": 4,
   "metadata": {},
   "outputs": [
    {
     "name": "stdout",
     "output_type": "stream",
     "text": [
      "$CONDA_PREFIX/lib/python2.7/site-packages/fermitools/GtBurst/scripts/doTimeResolvedLike.py --tstops '1531.780029' --zmax 105 --roi 5.0 --emax 100000 --flemax 10000 --thetamax 180 --particle_model 'isotr template' --datarepository ./ --galactic_model 'template (fixed norm.)' --strategy time --tsmin 25 --optimizeposition no --ra 119.889999 --fgl_mode fast --irf p8_transient010e --spectralfiles yes --outfile bn080916009 --liketype unbinned --flemin 100.0 --tstarts '3.03' --emin 65 --dec -56.700001 bn080916009\n"
     ]
    }
   ],
   "source": [
    "#Relevant GRB data, sourced from the GRB catalog\n",
    "trigger_id = 'bn080916009'\n",
    "ra, dec, redshift, index, tstart, tstop = 119.889999, -56.700001, 4.350, -2.072603, 3.03, 1531.780029\n",
    "\n",
    "#Create the source model\n",
    "source_1 = createSrcModel(trigger_id, ra, dec, redshift, index)\n",
    "\n",
    "#Calls doTimeResolvedLike helper function, creating a directory from which we can sift the appropriate fit files\n",
    "doLAT(trigger_id, ra, dec, [tstart], [tstop])\n",
    "\n",
    "#The files retrieved by the doLAT step:\n",
    "ft2File = os.path.expandvars('${HOME}/FermiData') + '/%s/gll_ft2_tr_%s_v00.fit'%(trigger_id,trigger_id)\n",
    "directory= '%s/interval%s-%s/' % ('.', tstart, tstop)\n",
    "eventFile = glob.glob(\"%s/*_filt.fit\" % directory)[0]\n",
    "expomap = glob.glob(\"%s/*_filt_expomap.fit\" % directory)[0] \n",
    "ltcube = glob.glob(\"%s/*_filt_ltcube.fit\" % directory)[0]\n",
    "\n",
    "\n",
    "#create LAT plugin using this data -- importantly, passing the source name:\n",
    "lat_plugin_1 = FermiLATLike(trigger_id, eventFile, ft2File, ltcube, 'unbinned', expomap, source_name = trigger_id)"
   ]
  },
  {
   "cell_type": "markdown",
   "metadata": {},
   "source": [
    "If you prefer not to restrict the plugin to an individual source, initialize the FermiLatLike without source_name, or use:\n",
    "\n",
    "lat_plugin_1.clear_source_name()\n",
    "\n",
    "\n",
    "Now, if we chose to fit just one GRB, we could do so now. For example, using JointLikelihood from classicMLE:\n",
    "\n",
    "jl = JointLikelihood(Model(source_1),DataList(lat_plugin_1),verbose=True)\n",
    "jl.set_minimizer('minuit')\n",
    "jl.fit()"
   ]
  },
  {
   "cell_type": "code",
   "execution_count": 7,
   "metadata": {},
   "outputs": [
    {
     "name": "stdout",
     "output_type": "stream",
     "text": [
      "$CONDA_PREFIX/lib/python2.7/site-packages/fermitools/GtBurst/scripts/doTimeResolvedLike.py --tstops '4404.799805' --zmax 105 --roi 5.0 --emax 100000 --flemax 10000 --thetamax 180 --particle_model 'isotr template' --datarepository ./ --galactic_model 'template (fixed norm.)' --strategy time --tsmin 25 --optimizeposition no --ra 127.559998 --fgl_mode fast --irf p8_transient010e --spectralfiles yes --outfile bn090102122 --liketype unbinned --flemin 100.0 --tstarts '3915.889893' --emin 65 --dec 33.459999 bn090102122\n"
     ]
    }
   ],
   "source": [
    "#Now, let's bring in our second source\n",
    "trigger_id = 'bn090102122'\n",
    "ra, dec, redshift, index, tstart, tstop = 127.559998, 33.459999, 1.547, -0.062906, 3915.889893, 4404.799805\n",
    "\n",
    "source_2 = createSrcModel(trigger_id, ra, dec, redshift, index)\n",
    "\n",
    "doLAT(trigger_id, ra, dec, [tstart], [tstop])\n",
    "\n",
    "ft2File = os.path.expandvars('${HOME}/FermiData') + '/%s/gll_ft2_tr_%s_v00.fit'%(trigger_id,trigger_id)\n",
    "directory= '%s/interval%s-%s/' % ('.', tstart, tstop)\n",
    "eventFile = glob.glob(\"%s/*_filt.fit\" % directory)[0]\n",
    "expomap = glob.glob(\"%s/*_filt_expomap.fit\" % directory)[0] \n",
    "ltcube = glob.glob(\"%s/*_filt_ltcube.fit\" % directory)[0]\n",
    "\n",
    "lat_plugin_2 = FermiLATLike(trigger_id, eventFile, ft2File, ltcube, 'unbinned', expomap, source_name = trigger_id)"
   ]
  },
  {
   "cell_type": "code",
   "execution_count": null,
   "metadata": {},
   "outputs": [],
   "source": [
    "#Here, we create the model and link the desired parameters.\n",
    "model = Model(source_1, source_2)\n",
    "model.link(model.bn080916009.spectrum.main.composite.attenuation_2, model.bn090102122.spectrum.main.composite.attenuation_2)\n",
    "\n",
    "#We set the model for each of the plugins.\n",
    "#This is a second opportunity to change the plugin source's name, if desired, by including a source_name flag.\n",
    "lat_plugin_1.set_model(model)\n",
    "lat_plugin_2.set_model(model)\n",
    "datalist = DataList(lat_plugin_1, lat_plugin_2)\n",
    "\n",
    "#Let's use ultranest:\n",
    "bayes = BayesianAnalysis(model, datalist)\n",
    "\n",
    "for name in ['bn080916009','bn090102122']:\n",
    "    getattr(bayes.likelihood_model,'%s_GalacticTemplate_Value'%name).set_uninformative_prior(Uniform_prior) \n",
    "    getattr(bayes.likelihood_model,'%s_IsotropicTemplate_Normalization'%name).set_uninformative_prior(Uniform_prior)\n",
    "\n",
    "bayes.set_sampler('ultranest')\n",
    "bayes.sampler.setup()\n",
    "\n",
    "bayes.sample(quiet=False)"
   ]
  },
  {
   "cell_type": "code",
   "execution_count": null,
   "metadata": {},
   "outputs": [],
   "source": [
    "#From here, we can print the results, which give us the fitted value for our linked parameter\n",
    "\n",
    "bayes.results.display()"
   ]
  },
  {
   "cell_type": "code",
   "execution_count": null,
   "metadata": {},
   "outputs": [],
   "source": [
    "#We can also plot the figure these results produce.\n",
    "\n",
    "fig = plot_spectra(bayes.results, flux_unit = 'erg2/(cm2 s keV)', fit_cmap = 'viridis', contour_cmap = 'viridis', contour_style_kwargs = dict(alpha=0.1), energy_unit = 'MeV', ene_min = 65, ene_max = 100000 )\n",
    "fig.show()\n",
    "\n",
    "#For more on Bayesian Analyses, see the bayesian_tutorial notebook."
   ]
  }
 ],
 "metadata": {
  "kernelspec": {
   "display_name": "Python 2",
   "language": "python",
   "name": "python2"
  },
  "language_info": {
   "codemirror_mode": {
    "name": "ipython",
    "version": 2
   },
   "file_extension": ".py",
   "mimetype": "text/x-python",
   "name": "python",
   "nbconvert_exporter": "python",
   "pygments_lexer": "ipython2",
   "version": "2.7.14"
  }
 },
 "nbformat": 4,
 "nbformat_minor": 2
}
